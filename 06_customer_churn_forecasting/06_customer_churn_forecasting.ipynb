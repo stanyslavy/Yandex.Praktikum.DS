{
 "cells": [
  {
   "cell_type": "markdown",
   "metadata": {},
   "source": [
    "# Отток клиентов"
   ]
  },
  {
   "cell_type": "markdown",
   "metadata": {},
   "source": [
    "Из «Бета-Банка» стали уходить клиенты. Каждый месяц. Немного, но заметно. Банковские маркетологи посчитали: сохранять текущих клиентов дешевле, чем привлекать новых.\n",
    "\n",
    "Нужно спрогнозировать, уйдёт клиент из банка в ближайшее время или нет. Вам предоставлены исторические данные о поведении клиентов и расторжении договоров с банком. \n",
    "\n",
    "Постройте модель с предельно большим значением *F1*-меры. Чтобы сдать проект успешно, нужно довести метрику до 0.59. Проверьте *F1*-меру на тестовой выборке самостоятельно.\n",
    "\n",
    "Дополнительно измеряйте *AUC-ROC*, сравнивайте её значение с *F1*-мерой.\n",
    "\n",
    "Источник данных: [https://www.kaggle.com/barelydedicated/bank-customer-churn-modeling](https://www.kaggle.com/barelydedicated/bank-customer-churn-modeling)"
   ]
  },
  {
   "cell_type": "markdown",
   "metadata": {},
   "source": [
    "### Описание данных"
   ]
  },
  {
   "cell_type": "markdown",
   "metadata": {},
   "source": [
    "Признаки\n",
    "* RowNumber — индекс строки в данных\n",
    "* CustomerId — уникальный идентификатор клиента\n",
    "* Surname — фамилия\n",
    "* CreditScore — кредитный рейтинг\n",
    "* Geography — страна проживания\n",
    "* Gender — пол\n",
    "* Age — возраст\n",
    "* Tenure — сколько лет человек является клиентом банка\n",
    "* Balance — баланс на счёте\n",
    "* NumOfProducts — количество продуктов банка, используемых клиентом\n",
    "* HasCrCard — наличие кредитной карты\n",
    "* IsActiveMember — активность клиента\n",
    "* EstimatedSalary — предполагаемая зарплата\n",
    "\n",
    "Целевой признак\n",
    "* Exited — факт ухода клиента"
   ]
  },
  {
   "cell_type": "markdown",
   "metadata": {},
   "source": [
    "## Подготовка данных"
   ]
  },
  {
   "cell_type": "markdown",
   "metadata": {},
   "source": [
    "### Импорт библиотек"
   ]
  },
  {
   "cell_type": "code",
   "execution_count": 1,
   "metadata": {},
   "outputs": [
    {
     "name": "stdout",
     "output_type": "stream",
     "text": [
      "\u001b[33mWARNING: Retrying (Retry(total=4, connect=None, read=None, redirect=None, status=None)) after connection broken by 'ReadTimeoutError(\"HTTPSConnectionPool(host='pypi.org', port=443): Read timed out. (read timeout=15)\")': /simple/scikit-learn/\u001b[0m\n",
      "\u001b[33mWARNING: Retrying (Retry(total=3, connect=None, read=None, redirect=None, status=None)) after connection broken by 'ReadTimeoutError(\"HTTPSConnectionPool(host='pypi.org', port=443): Read timed out. (read timeout=15)\")': /simple/scikit-learn/\u001b[0m\n",
      "\u001b[33mWARNING: Retrying (Retry(total=2, connect=None, read=None, redirect=None, status=None)) after connection broken by 'ReadTimeoutError(\"HTTPSConnectionPool(host='pypi.org', port=443): Read timed out. (read timeout=15)\")': /simple/scikit-learn/\u001b[0m\n"
     ]
    }
   ],
   "source": [
    "!pip install sweetviz -q\n",
    "!pip install pandas_profiling==1.4.1 -q\n",
    "!pip install pandas==0.25.3 -q\n",
    "!pip install -U scikit-learn -q"
   ]
  },
  {
   "cell_type": "code",
   "execution_count": 2,
   "metadata": {},
   "outputs": [],
   "source": [
    "import pandas as pd\n",
    "pd.options.mode.chained_assignment = None\n",
    "import numpy as np\n",
    "import matplotlib.pyplot as plt\n",
    "from matplotlib import cm\n",
    "import pandas_profiling\n",
    "from pandas_profiling import ProfileReport\n",
    "\n",
    "from sklearn.tree import DecisionTreeClassifier\n",
    "from sklearn.ensemble import RandomForestClassifier\n",
    "from sklearn.linear_model import LogisticRegression\n",
    "#from sklearn.linear_model import LinearRegression\n",
    "from sklearn.model_selection import train_test_split\n",
    "#from sklearn.dummy import DummyClassifier\n",
    "from sklearn.preprocessing import StandardScaler\n",
    "from sklearn.utils import shuffle\n",
    "from sklearn.metrics import confusion_matrix\n",
    "from sklearn.metrics import recall_score\n",
    "from sklearn.metrics import precision_score\n",
    "from sklearn.metrics import f1_score\n",
    "from sklearn.metrics import precision_recall_curve\n",
    "from sklearn.metrics import roc_curve\n",
    "from sklearn.metrics import mean_absolute_error\n",
    "from sklearn.metrics import r2_score\n",
    "from sklearn.metrics import roc_auc_score\n",
    "\n",
    "\n",
    "%matplotlib inline"
   ]
  },
  {
   "cell_type": "code",
   "execution_count": 3,
   "metadata": {
    "scrolled": false
   },
   "outputs": [
    {
     "name": "stdout",
     "output_type": "stream",
     "text": [
      "<class 'pandas.core.frame.DataFrame'>\n",
      "RangeIndex: 10000 entries, 0 to 9999\n",
      "Data columns (total 14 columns):\n",
      "RowNumber          10000 non-null int64\n",
      "CustomerId         10000 non-null int64\n",
      "Surname            10000 non-null object\n",
      "CreditScore        10000 non-null int64\n",
      "Geography          10000 non-null object\n",
      "Gender             10000 non-null object\n",
      "Age                10000 non-null int64\n",
      "Tenure             9091 non-null float64\n",
      "Balance            10000 non-null float64\n",
      "NumOfProducts      10000 non-null int64\n",
      "HasCrCard          10000 non-null int64\n",
      "IsActiveMember     10000 non-null int64\n",
      "EstimatedSalary    10000 non-null float64\n",
      "Exited             10000 non-null int64\n",
      "dtypes: float64(3), int64(8), object(3)\n",
      "memory usage: 1.1+ MB\n"
     ]
    }
   ],
   "source": [
    "# Загрузка датасета\n",
    "\n",
    "try:\n",
    "    df = pd.read_csv('/datasets/Churn.csv')\n",
    "except:\n",
    "    df = pd.read_csv('F:/Churn.csv')\n",
    "    \n",
    "df.info()"
   ]
  },
  {
   "cell_type": "code",
   "execution_count": 4,
   "metadata": {},
   "outputs": [
    {
     "name": "stderr",
     "output_type": "stream",
     "text": [
      "/home/jovyan/.local/lib/python3.7/site-packages/pandas_profiling/describe.py:392: FutureWarning: The join_axes-keyword is deprecated. Use .reindex or .reindex_like on the result to achieve the same functionality.\n",
      "  variable_stats = pd.concat(ldesc, join_axes=pd.Index([names]), axis=1)\n"
     ]
    },
    {
     "data": {
      "text/html": [
       "<meta charset=\"UTF-8\">\n",
       "\n",
       "<style>\n",
       "\n",
       "        .variablerow {\n",
       "            border: 1px solid #e1e1e8;\n",
       "            border-top: hidden;\n",
       "            padding-top: 2em;\n",
       "            padding-bottom: 2em;\n",
       "            padding-left: 1em;\n",
       "            padding-right: 1em;\n",
       "        }\n",
       "\n",
       "        .headerrow {\n",
       "            border: 1px solid #e1e1e8;\n",
       "            background-color: #f5f5f5;\n",
       "            padding: 2em;\n",
       "        }\n",
       "        .namecol {\n",
       "            margin-top: -1em;\n",
       "            overflow-x: auto;\n",
       "        }\n",
       "\n",
       "        .dl-horizontal dt {\n",
       "            text-align: left;\n",
       "            padding-right: 1em;\n",
       "            white-space: normal;\n",
       "        }\n",
       "\n",
       "        .dl-horizontal dd {\n",
       "            margin-left: 0;\n",
       "        }\n",
       "\n",
       "        .ignore {\n",
       "            opacity: 0.4;\n",
       "        }\n",
       "\n",
       "        .container.pandas-profiling {\n",
       "            max-width:975px;\n",
       "        }\n",
       "\n",
       "        .col-md-12 {\n",
       "            padding-left: 2em;\n",
       "        }\n",
       "\n",
       "        .indent {\n",
       "            margin-left: 1em;\n",
       "        }\n",
       "\n",
       "        .center-img {\n",
       "            margin-left: auto !important;\n",
       "            margin-right: auto !important;\n",
       "            display: block;\n",
       "        }\n",
       "\n",
       "        /* Table example_values */\n",
       "            table.example_values {\n",
       "                border: 0;\n",
       "            }\n",
       "\n",
       "            .example_values th {\n",
       "                border: 0;\n",
       "                padding: 0 ;\n",
       "                color: #555;\n",
       "                font-weight: 600;\n",
       "            }\n",
       "\n",
       "            .example_values tr, .example_values td{\n",
       "                border: 0;\n",
       "                padding: 0;\n",
       "                color: #555;\n",
       "            }\n",
       "\n",
       "        /* STATS */\n",
       "            table.stats {\n",
       "                border: 0;\n",
       "            }\n",
       "\n",
       "            .stats th {\n",
       "                border: 0;\n",
       "                padding: 0 2em 0 0;\n",
       "                color: #555;\n",
       "                font-weight: 600;\n",
       "            }\n",
       "\n",
       "            .stats tr {\n",
       "                border: 0;\n",
       "            }\n",
       "\n",
       "            .stats td{\n",
       "                color: #555;\n",
       "                padding: 1px;\n",
       "                border: 0;\n",
       "            }\n",
       "\n",
       "\n",
       "        /* Sample table */\n",
       "            table.sample {\n",
       "                border: 0;\n",
       "                margin-bottom: 2em;\n",
       "                margin-left:1em;\n",
       "            }\n",
       "            .sample tr {\n",
       "                border:0;\n",
       "            }\n",
       "            .sample td, .sample th{\n",
       "                padding: 0.5em;\n",
       "                white-space: nowrap;\n",
       "                border: none;\n",
       "\n",
       "            }\n",
       "\n",
       "            .sample thead {\n",
       "                border-top: 0;\n",
       "                border-bottom: 2px solid #ddd;\n",
       "            }\n",
       "\n",
       "            .sample td {\n",
       "                width:100%;\n",
       "            }\n",
       "\n",
       "\n",
       "        /* There is no good solution available to make the divs equal height and then center ... */\n",
       "            .histogram {\n",
       "                margin-top: 3em;\n",
       "            }\n",
       "        /* Freq table */\n",
       "\n",
       "            table.freq {\n",
       "                margin-bottom: 2em;\n",
       "                border: 0;\n",
       "            }\n",
       "            table.freq th, table.freq tr, table.freq td {\n",
       "                border: 0;\n",
       "                padding: 0;\n",
       "            }\n",
       "\n",
       "            .freq thead {\n",
       "                font-weight: 600;\n",
       "                white-space: nowrap;\n",
       "                overflow: hidden;\n",
       "                text-overflow: ellipsis;\n",
       "\n",
       "            }\n",
       "\n",
       "            td.fillremaining{\n",
       "                width:auto;\n",
       "                max-width: none;\n",
       "            }\n",
       "\n",
       "            td.number, th.number {\n",
       "                text-align:right ;\n",
       "            }\n",
       "\n",
       "        /* Freq mini */\n",
       "            .freq.mini td{\n",
       "                width: 50%;\n",
       "                padding: 1px;\n",
       "                font-size: 12px;\n",
       "\n",
       "            }\n",
       "            table.freq.mini {\n",
       "                 width:100%;\n",
       "            }\n",
       "            .freq.mini th {\n",
       "                overflow: hidden;\n",
       "                text-overflow: ellipsis;\n",
       "                white-space: nowrap;\n",
       "                max-width: 5em;\n",
       "                font-weight: 400;\n",
       "                text-align:right;\n",
       "                padding-right: 0.5em;\n",
       "            }\n",
       "\n",
       "            .missing {\n",
       "                color: #a94442;\n",
       "            }\n",
       "            .alert, .alert > th, .alert > td {\n",
       "                color: #a94442;\n",
       "            }\n",
       "\n",
       "\n",
       "        /* Bars in tables */\n",
       "            .freq .bar{\n",
       "                float: left;\n",
       "                width: 0;\n",
       "                height: 100%;\n",
       "                line-height: 20px;\n",
       "                color: #fff;\n",
       "                text-align: center;\n",
       "                background-color: #337ab7;\n",
       "                border-radius: 3px;\n",
       "                margin-right: 4px;\n",
       "            }\n",
       "            .other .bar {\n",
       "                background-color: #999;\n",
       "            }\n",
       "            .missing .bar{\n",
       "                background-color: #a94442;\n",
       "            }\n",
       "            .tooltip-inner {\n",
       "                width: 100%;\n",
       "                white-space: nowrap;\n",
       "                text-align:left;\n",
       "            }\n",
       "\n",
       "            .extrapadding{\n",
       "                padding: 2em;\n",
       "            }\n",
       "\n",
       "            .pp-anchor{\n",
       "\n",
       "            }\n",
       "\n",
       "</style>\n",
       "\n",
       "<div class=\"container pandas-profiling\">\n",
       "    <div class=\"row headerrow highlight\">\n",
       "        <h1>Overview</h1>\n",
       "    </div>\n",
       "    <div class=\"row variablerow\">\n",
       "    <div class=\"col-md-6 namecol\">\n",
       "        <p class=\"h4\">Dataset info</p>\n",
       "        <table class=\"stats\" style=\"margin-left: 1em;\">\n",
       "            <tbody>\n",
       "            <tr>\n",
       "                <th>Number of variables</th>\n",
       "                <td>14 </td>\n",
       "            </tr>\n",
       "            <tr>\n",
       "                <th>Number of observations</th>\n",
       "                <td>10000 </td>\n",
       "            </tr>\n",
       "            <tr>\n",
       "                <th>Total Missing (%)</th>\n",
       "                <td>0.6% </td>\n",
       "            </tr>\n",
       "            <tr>\n",
       "                <th>Total size in memory</th>\n",
       "                <td>1.1 MiB </td>\n",
       "            </tr>\n",
       "            <tr>\n",
       "                <th>Average record size in memory</th>\n",
       "                <td>112.0 B </td>\n",
       "            </tr>\n",
       "            </tbody>\n",
       "        </table>\n",
       "    </div>\n",
       "    <div class=\"col-md-6 namecol\">\n",
       "        <p class=\"h4\">Variables types</p>\n",
       "        <table class=\"stats\" style=\"margin-left: 1em;\">\n",
       "            <tbody>\n",
       "            <tr>\n",
       "                <th>Numeric</th>\n",
       "                <td>8 </td>\n",
       "            </tr>\n",
       "            <tr>\n",
       "                <th>Categorical</th>\n",
       "                <td>3 </td>\n",
       "            </tr>\n",
       "            <tr>\n",
       "                <th>Boolean</th>\n",
       "                <td>3 </td>\n",
       "            </tr>\n",
       "            <tr>\n",
       "                <th>Date</th>\n",
       "                <td>0 </td>\n",
       "            </tr>\n",
       "            <tr>\n",
       "                <th>Text (Unique)</th>\n",
       "                <td>0 </td>\n",
       "            </tr>\n",
       "            <tr>\n",
       "                <th>Rejected</th>\n",
       "                <td>0 </td>\n",
       "            </tr>\n",
       "            <tr>\n",
       "                <th>Unsupported</th>\n",
       "                <td>0 </td>\n",
       "            </tr>\n",
       "            </tbody>\n",
       "        </table>\n",
       "    </div>\n",
       "    <div class=\"col-md-12\" style=\"padding-left: 1em;\">\n",
       "        \n",
       "        <p class=\"h4\">Warnings</p>\n",
       "        <ul class=\"list-unstyled\"><li><a href=\"#pp_var_Surname\"><code>Surname</code></a> has a high cardinality: 2932 distinct values  <span class=\"label label-warning\">Warning</span></li><li><a href=\"#pp_var_Tenure\"><code>Tenure</code></a> has 382 / 3.8% zeros <span class=\"label label-info\">Zeros</span></li><li><a href=\"#pp_var_Tenure\"><code>Tenure</code></a> has 909 / 9.1% missing values <span class=\"label label-default\">Missing</span></li><li><a href=\"#pp_var_Balance\"><code>Balance</code></a> has 3617 / 36.2% zeros <span class=\"label label-info\">Zeros</span></li> </ul>\n",
       "    </div>\n",
       "</div>\n",
       "    <div class=\"row headerrow highlight\">\n",
       "        <h1>Variables</h1>\n",
       "    </div>\n",
       "    <div class=\"row variablerow\">\n",
       "    <div class=\"col-md-3 namecol\">\n",
       "        <p class=\"h4 pp-anchor\" id=\"pp_var_RowNumber\">RowNumber<br/>\n",
       "            <small>Numeric</small>\n",
       "        </p>\n",
       "    </div><div class=\"col-md-6\">\n",
       "    <div class=\"row\">\n",
       "        <div class=\"col-sm-6\">\n",
       "            <table class=\"stats \">\n",
       "                <tr>\n",
       "                    <th>Distinct count</th>\n",
       "                    <td>10000</td>\n",
       "                </tr>\n",
       "                <tr>\n",
       "                    <th>Unique (%)</th>\n",
       "                    <td>100.0%</td>\n",
       "                </tr>\n",
       "                <tr class=\"ignore\">\n",
       "                    <th>Missing (%)</th>\n",
       "                    <td>0.0%</td>\n",
       "                </tr>\n",
       "                <tr class=\"ignore\">\n",
       "                    <th>Missing (n)</th>\n",
       "                    <td>0</td>\n",
       "                </tr>\n",
       "                <tr class=\"ignore\">\n",
       "                    <th>Infinite (%)</th>\n",
       "                    <td>0.0%</td>\n",
       "                </tr>\n",
       "                <tr class=\"ignore\">\n",
       "                    <th>Infinite (n)</th>\n",
       "                    <td>0</td>\n",
       "                </tr>\n",
       "            </table>\n",
       "\n",
       "        </div>\n",
       "        <div class=\"col-sm-6\">\n",
       "            <table class=\"stats \">\n",
       "\n",
       "                <tr>\n",
       "                    <th>Mean</th>\n",
       "                    <td>5000.5</td>\n",
       "                </tr>\n",
       "                <tr>\n",
       "                    <th>Minimum</th>\n",
       "                    <td>1</td>\n",
       "                </tr>\n",
       "                <tr>\n",
       "                    <th>Maximum</th>\n",
       "                    <td>10000</td>\n",
       "                </tr>\n",
       "                <tr class=\"ignore\">\n",
       "                    <th>Zeros (%)</th>\n",
       "                    <td>0.0%</td>\n",
       "                </tr>\n",
       "            </table>\n",
       "        </div>\n",
       "    </div>\n",
       "</div>\n",
       "<div class=\"col-md-3 collapse in\" id=\"minihistogram-3579528221964274611\">\n",
       "    <img src=\"data:image/png;base64,iVBORw0KGgoAAAANSUhEUgAAAMgAAABLCAYAAAA1fMjoAAAAOXRFWHRTb2Z0d2FyZQBNYXRwbG90bGliIHZlcnNpb24zLjUuMSwgaHR0cHM6Ly9tYXRwbG90bGliLm9yZy/YYfK9AAAACXBIWXMAAA9hAAAPYQGoP6dpAAAA%2BklEQVR4nO3VMQ1CARBEQT5BEiLwRI0nRODpqCHktUcxo2Cblz1mZk7AT%2BftAfDPLtsDvl3vz%2B0JLHo9btsTPngQCAKBIBAIAoEgEAgCgSAQCAKBIBAIAoEgEAgCgSAQCAKBIBAIAoEgEAgCgSAQCAKBIBAIAoEgEAgCgSAQCAKBIBAIAoEgEAgCgSAQCAKBIBAIAoEgEAgCgSAQCAKBIBAIAoEgEAgCgSAQCAKBIBAIAoFwzMxsj4B/5UEgCASCQCAIBIJAIAgEgkAgCASCQCAIBIJAIAgEgkAgCASCQCAIBIJAIAgEgkAgCASCQCAIBIJAIAgEgkAgvAH7AguP0bZxNQAAAABJRU5ErkJggg%3D%3D\">\n",
       "\n",
       "</div>\n",
       "<div class=\"col-md-12 text-right\">\n",
       "    <a role=\"button\" data-toggle=\"collapse\" data-target=\"#descriptives-3579528221964274611,#minihistogram-3579528221964274611\"\n",
       "       aria-expanded=\"false\" aria-controls=\"collapseExample\">\n",
       "        Toggle details\n",
       "    </a>\n",
       "</div>\n",
       "<div class=\"row collapse col-md-12\" id=\"descriptives-3579528221964274611\">\n",
       "    <ul class=\"nav nav-tabs\" role=\"tablist\">\n",
       "        <li role=\"presentation\" class=\"active\"><a href=\"#quantiles-3579528221964274611\"\n",
       "                                                  aria-controls=\"quantiles-3579528221964274611\" role=\"tab\"\n",
       "                                                  data-toggle=\"tab\">Statistics</a></li>\n",
       "        <li role=\"presentation\"><a href=\"#histogram-3579528221964274611\" aria-controls=\"histogram-3579528221964274611\"\n",
       "                                   role=\"tab\" data-toggle=\"tab\">Histogram</a></li>\n",
       "        <li role=\"presentation\"><a href=\"#common-3579528221964274611\" aria-controls=\"common-3579528221964274611\"\n",
       "                                   role=\"tab\" data-toggle=\"tab\">Common Values</a></li>\n",
       "        <li role=\"presentation\"><a href=\"#extreme-3579528221964274611\" aria-controls=\"extreme-3579528221964274611\"\n",
       "                                   role=\"tab\" data-toggle=\"tab\">Extreme Values</a></li>\n",
       "\n",
       "    </ul>\n",
       "\n",
       "    <div class=\"tab-content\">\n",
       "        <div role=\"tabpanel\" class=\"tab-pane active row\" id=\"quantiles-3579528221964274611\">\n",
       "            <div class=\"col-md-4 col-md-offset-1\">\n",
       "                <p class=\"h4\">Quantile statistics</p>\n",
       "                <table class=\"stats indent\">\n",
       "                    <tr>\n",
       "                        <th>Minimum</th>\n",
       "                        <td>1</td>\n",
       "                    </tr>\n",
       "                    <tr>\n",
       "                        <th>5-th percentile</th>\n",
       "                        <td>500.95</td>\n",
       "                    </tr>\n",
       "                    <tr>\n",
       "                        <th>Q1</th>\n",
       "                        <td>2500.8</td>\n",
       "                    </tr>\n",
       "                    <tr>\n",
       "                        <th>Median</th>\n",
       "                        <td>5000.5</td>\n",
       "                    </tr>\n",
       "                    <tr>\n",
       "                        <th>Q3</th>\n",
       "                        <td>7500.2</td>\n",
       "                    </tr>\n",
       "                    <tr>\n",
       "                        <th>95-th percentile</th>\n",
       "                        <td>9500</td>\n",
       "                    </tr>\n",
       "                    <tr>\n",
       "                        <th>Maximum</th>\n",
       "                        <td>10000</td>\n",
       "                    </tr>\n",
       "                    <tr>\n",
       "                        <th>Range</th>\n",
       "                        <td>9999</td>\n",
       "                    </tr>\n",
       "                    <tr>\n",
       "                        <th>Interquartile range</th>\n",
       "                        <td>4999.5</td>\n",
       "                    </tr>\n",
       "                </table>\n",
       "            </div>\n",
       "            <div class=\"col-md-4 col-md-offset-2\">\n",
       "                <p class=\"h4\">Descriptive statistics</p>\n",
       "                <table class=\"stats indent\">\n",
       "                    <tr>\n",
       "                        <th>Standard deviation</th>\n",
       "                        <td>2886.9</td>\n",
       "                    </tr>\n",
       "                    <tr>\n",
       "                        <th>Coef of variation</th>\n",
       "                        <td>0.57732</td>\n",
       "                    </tr>\n",
       "                    <tr>\n",
       "                        <th>Kurtosis</th>\n",
       "                        <td>-1.2</td>\n",
       "                    </tr>\n",
       "                    <tr>\n",
       "                        <th>Mean</th>\n",
       "                        <td>5000.5</td>\n",
       "                    </tr>\n",
       "                    <tr>\n",
       "                        <th>MAD</th>\n",
       "                        <td>2500</td>\n",
       "                    </tr>\n",
       "                    <tr class=\"\">\n",
       "                        <th>Skewness</th>\n",
       "                        <td>0</td>\n",
       "                    </tr>\n",
       "                    <tr>\n",
       "                        <th>Sum</th>\n",
       "                        <td>50005000</td>\n",
       "                    </tr>\n",
       "                    <tr>\n",
       "                        <th>Variance</th>\n",
       "                        <td>8334200</td>\n",
       "                    </tr>\n",
       "                    <tr>\n",
       "                        <th>Memory size</th>\n",
       "                        <td>78.2 KiB</td>\n",
       "                    </tr>\n",
       "                </table>\n",
       "            </div>\n",
       "        </div>\n",
       "        <div role=\"tabpanel\" class=\"tab-pane col-md-8 col-md-offset-2\" id=\"histogram-3579528221964274611\">\n",
       "            <img src=\"data:image/png;base64,iVBORw0KGgoAAAANSUhEUgAAAlgAAAGQCAYAAAByNR6YAAAAOXRFWHRTb2Z0d2FyZQBNYXRwbG90bGliIHZlcnNpb24zLjUuMSwgaHR0cHM6Ly9tYXRwbG90bGliLm9yZy/YYfK9AAAACXBIWXMAAA9hAAAPYQGoP6dpAAAq1UlEQVR4nO3de1TVZaL/8Q%2BXxBRBKMFzPJXOKAaiKF6Y0EKx0NE0QwppOo5zMrVQj6azNC8nmy7YqKcpdBydjk2OtWJoWnkp01NeqhPNdLECNGc0WyVhoOwtiKBcnt8frfavLZYUD98t2/drLddMz7P39/t8n3E27/aNAGOMEQAAAKwJ9PUCAAAA/A2BBQAAYBmBBQAAYBmBBQAAYBmBBQAAYBmBBQAAYBmBBQAAYBmBBQAAYBmBBQAAYBmBBQAAYBmBBQAAYBmBBQAAYBmBBQAAYBmBBQAAYBmBBQAAYBmBBQAAYBmBBQAAYBmBBQAAYBmBBQAAYBmBBQAAYBmBBQAAYBmBBQAAYBmBBQAAYBmBBQAAYBmBBQAAYBmBBQAAYBmBBQAAYBmBBQAAYBmBBQAAYBmBBQAAYBmBBQAAYBmBBQAAYBmBBQAAYBmBBQAAYBmBBQAAYBmBBQAAYBmBBQAAYBmBBQAAYBmBBQAAYFmwrxdwqSgvr7J%2BzMDAAEVGdlRFRbUaG43141/K2NvWw962Lva39bC3rac197ZLl05Wj9dcPIPVhgUGBiggIECBgQG%2BXorfYW9bD3vbutjf1sPeth5/3FsCCwAAwDICCwAAwDICCwAAwDICCwAAwDICCwAAwDICCwAAwDICCwAAwDICCwAAwDICCwAAwLI2HVhvvvmmkpOTNXfu3CZzr7zyisaNG6cBAwYoPT1db731lmeusbFRjz/%2BuEaOHKnBgwfrrrvu0hdffOGZd7vdmjNnjpKTkzVs2DAtXrxYtbW1jlwTAABo%2B9psYP3xj3/Uww8/rGuuuabJ3IEDB7RgwQLNnz9f77zzjqZMmaKZM2fq2LFjkqRnn31WW7du1fr167V79251795d2dnZMubr33%2B0dOlS1dTUaNu2bfrrX/%2Bqw4cPa%2BXKlY5eHwAAaLvabGCFhITohRdeOG9g5efnKyUlRSkpKQoJCdH48eMVExOjLVu2SJLy8vI0ZcoU/fSnP1VoaKjmzp2rw4cP66OPPtLx48f12muvae7cuYqMjFR0dLTuvfde/fWvf1VdXZ3TlwkAANqgYF8v4MeaPHnyd84VFxcrJSXFaywuLk6FhYWqra3VoUOHFBcX55kLDQ3VNddco8LCQlVVVSkoKEi9e/f2zPfp00enT5/Wp59%2B6jX%2BXcrKylReXu41FhzcQVFRUc29vGYJCgr0%2Bk/Yw962Hva2dbG/rYe9bT3%2BuLdtNrC%2Bj9vtVnh4uNdYeHi4Dh06pJMnT8oYc955l8ulzp07KzQ0VAEBAV5zkuRyuZp1/ry8PK1evdprLDs7W7Nnz/4xl/O9Bi1%2B1foxAQBw2nuPjFZY2OW%2BXoY1fhlYkjzvp/ox8xe674VkZmYqNTXVayw4uINcruoWHfdc/lT6AABUVtaooaHR6jEjIjpaPV5z%2BWVgRUREyO12e4253W5FRkaqc%2BfOCgwMPO/8FVdcocjISJ06dUoNDQ0KCgryzEnSFVdc0azzR0VFNXk5sLy8SvX1dv/SAADgTxoaGv3mZ6VfPgUSHx%2BvoqIir7HCwkIlJCQoJCREvXr1UnFxsWeusrJSn3/%2Bufr166fY2FgZY/TJJ5943TcsLEw9evRw7BoAAEDb5ZeBdfvtt%2Bvtt9/Wnj17dObMGb3wwgv67LPPNH78eElSVlaWNm7cqMOHD%2BvUqVNauXKlYmNj1bdvX0VGRmrUqFH63e9%2Bp4qKCh07dkxr1qxRRkaGgoP98gk/AABgWZsthr59%2B0qS6uvrJUmvvfaapK%2BfbYqJidHKlSuVk5OjkpIS9ezZU%2BvWrVOXLl0kSZMmTVJ5ebn%2B/d//XdXV1UpKSvJ6U/pvfvMbPfDAAxo5cqQuu%2Bwy3Xzzzef9MlMAAIDzCTAtfUc3mqW8vMr6MYODA3XTyjetHxcAAKe998houVzV1t%2BD1aVLJ6vHay6/fIkQAADAlwgsAAAAywgsAAAAywgsAAAAywgsAAAAywgsAAAAywgsAAAAywgsAAAAywgsAAAAywgsAAAAywgsAAAAywgsAAAAywgsAAAAywgsAAAAywgsAAAAywgsAAAAywgsAAAAywgsAAAAywgsAAAAywgsAAAAywgsAAAAywgsAAAAywgsAAAAywgsAAAAywgsAAAAywgsAAAAywgsAAAAywgsAAAAywgsAAAAywgsAAAAywgsAAAAywgsAAAAywgsAAAAywgsAAAAywgsAAAAywgsAAAAywgsAAAAywgsAAAAywgsAAAAywgsAAAAywgsAAAAywgsAAAAywgsAAAAywgsAAAAywgsAAAAywgsAAAAywgsAAAAywgsAAAAywgsAAAAywgsAAAAy/w2sPbv36/Jkydr0KBBGjp0qObPn6%2BKigpJUkFBgTIyMpSYmKixY8dqy5YtXvfduHGjRo0apcTERGVlZamoqMgXlwAAANoovwys%2Bvp6TZs2Tf3799fbb7%2Btbdu2qaKiQsuWLVNZWZnuvfdeTZo0SQUFBVq8eLGWLl2qwsJCSdKuXbuUm5ur3/72t3r77bc1YsQIzZgxQ6dPn/bxVQEAgLbCLwOrvLxc5eXluuWWW9SuXTtFRETopptu0oEDB7R161Z1795dGRkZCgkJUXJyslJTU5Wfny9JysvLU3p6uhISEtS%2BfXtNnTpVkrR7925fXhIAAGhDgn29gNYQHR2t2NhY5eXl6T//8z9VW1urnTt3avjw4SouLlZcXJzX7ePi4rR9%2B3ZJUnFxscaMGeOZCwwMVGxsrAoLCzV27Nhmnb%2BsrEzl5eVeY8HBHRQVFdXCK/MWFOSXfQwAuET50881vwyswMBA5ebmasqUKXrmmWckSUOGDNG8efN07733Kjo62uv2nTt3lsvlkiS53W6Fh4d7zYeHh3vmmyMvL0%2BrV6/2GsvOztbs2bN/zOUAAHBJCAu73NdLsMYvA%2Bvs2bOaMWOGRo8e7Xn/1IMPPqj58%2Bc36/7GmBadPzMzU6mpqV5jwcEd5HJVt%2Bi45/Kn0gcAoLKyRg0NjVaPGRHR0erxmssvA6ugoEBHjx7Vfffdp6CgIHXq1EmzZ8/WLbfcouuvv15ut9vr9i6XS5GRkZKkiIiIJvNut1u9evVq9vmjoqKavBxYXl6l%2Bnq7f2kAAPAnDQ2NfvOz0i%2BfAmloaFBjY6PXM1Fnz56VJCUnJzf52oWioiIlJCRIkuLj41VcXOx1rP3793vmAQAALsQvA2vAgAHq0KGDcnNzVVNTI5fLpbVr12rw4MG65ZZbVFJSovz8fJ05c0Z79%2B7V3r17dfvtt0uSsrKy9NJLL%2BnDDz9UTU2N1q5dq3bt2mn48OG%2BvSgAANBmBJiWvuHoIlVUVKTHHntMn3zyidq1a6chQ4Zo4cKFio6O1rvvvquHH35Yhw8fVrdu3TRv3jylpaV57vvcc89p/fr1OnHihPr27atly5YpJiamRespL69q6SU1ERwcqJtWvmn9uAAAOO29R0bL5aq2/hJhly6drB6vufw2sC42BBYAAN/N3wLLL18iBAAA8CUCCwAAwDICCwAAwDICCwAAwDICCwAAwDICCwAAwDICCwAAwDICCwAAwDICCwAAwDICCwAAwDICCwAAwDICCwAAwDICCwAAwDICCwAAwDICCwAAwDICCwAAwDICCwAAwDICCwAAwDICCwAAwDICCwAAwDICCwAAwDICCwAAwDICCwAAwDICCwAAwDICCwAAwDICCwAAwDICCwAAwDICCwAAwDICCwAAwDICCwAAwDICCwAAwDICCwAAwDICCwAAwDICCwAAwDICCwAAwDICCwAAwDICCwAAwDICCwAAwDICCwAAwDICCwAAwDICCwAAwDICCwAAwDICCwAAwDICCwAAwDLHAys1NVWrV69WaWmp06cGAABwhOOBNXHiRL3yyiu68cYbNXXqVO3cuVP19fVOLwMAAKDVBBhjjC9OXFxcrG3btmn79u2qq6vThAkTlJGRoR49evhiOa2uvLzK%2BjGDgwN108o3rR8XAACnvffIaLlc1aqvb7R63C5dOlk9XnP57D1Yffr00YIFC7R7924tWrRIf/nLXzRmzBjddddd%2Bvjjj321LAAAgBbzWWDV1dXplVde0d13360FCxYoOjpa999/v2JjYzVlyhRt3brVV0sDAABokWCnT3j48GG98MILeumll1RdXa1Ro0bpmWee0cCBAz23GTx4sJYtW6Zx48Y5vTwAAIAWc/wZrLFjx2rPnj2aPn263njjDa1YscIrriQpJSVFFRUVLT7X2rVrNWzYMPXv319TpkzR0aNHJUkFBQXKyMhQYmKixo4dqy1btnjdb%2BPGjRo1apQSExOVlZWloqKiFq8FAABcOhwPrI0bN2r79u2aMmWKOnfu/J23%2B%2Bijj1p0nmeffVZbtmzRxo0b9dZbb6lnz57605/%2BpLKyMt17772aNGmSCgoKtHjxYi1dulSFhYWSpF27dik3N1e//e1v9fbbb2vEiBGaMWOGTp8%2B3aL1AACAS4fjgdW7d2/NmDFDr732mmfsT3/6k%2B6%2B%2B2653W5r59mwYYPmzp2rn/zkJwoNDdWSJUu0ZMkSbd26Vd27d1dGRoZCQkKUnJys1NRU5efnS5Ly8vKUnp6uhIQEtW/fXlOnTpUk7d6929raAACAf3M8sHJyclRVVaWePXt6xoYPH67GxkYtX77cyjm%2B%2BuorHT16VCdPntSYMWOUlJSk2bNnq6KiQsXFxYqLi/O6fVxcnOdlwHPnAwMDFRsb63mGqznKyspUXFzs9aei4riCgwOt/gkK4ov4AQD%2BIyjI7s/J4GDf/Zx0/E3ub731lrZu3aqIiAjPWPfu3bVy5UrdfPPNVs5x7NgxSdKrr76qp59%2BWsYYzZ49W0uWLFFtba2io6O9bt%2B5c2e5XC5JktvtVnh4uNd8eHi4Z7458vLytHr1aq%2Bx7OxszZ49%2B8dcDgAAl4SwsMt9vQRrHA%2Bs2tpahYSENBkPDAxUTU2NlXN8892pU6dO9cTUrFmzdPfddys5ObnZ9/%2BxMjMzlZqa6jUWHNxBLld1i457Lp7BAgD4k8rKGjU02P2i0YiIjlaP11yOB9bgwYO1fPlyzZs3z/NM0VdffaXHHnusyacJf6wrr7xSkhQWFuYZ69atm4wxqqura/JeL5fLpcjISElSREREk3m3261evXo1%2B/xRUVGKioryGisvr7L%2B7bQAAPiThoZGv/lZ6fhTIIsWLVJBQYGuu%2B46DRkyRIMGDdLw4cNVVFSkhx9%2B2Mo5unbtqtDQUB04cMAzVlJSossuu0wpKSlNvnahqKhICQkJkqT4%2BHgVFxd75hoaGrR//37PPAAAwIU4/gzWVVddpZdffllvvPGGPv/8cwUGBqpHjx4aNmyYgoKCrJwjODhYGRkZ%2BsMf/qDBgwcrNDRUa9as0bhx43Trrbfq97//vfLz8zV%2B/Hi988472rt3r/Ly8iRJWVlZuu%2B%2B%2B3TzzTerd%2B/e%2Bp//%2BR%2B1a9dOw4cPt7I2AADg/3z2y55b29mzZ5WTk6OXX35ZdXV1GjVqlJYuXaqOHTvq3Xff1cMPP6zDhw%2BrW7dumjdvntLS0jz3fe6557R%2B/XqdOHFCffv21bJlyxQTE9Oi9fDLngEA%2BG7%2B9sueHQ%2BsL774QqtWrdI///lP1dbWNpl//fXXnVyOYwgsAAC%2Bm78FluMvES5atEhlZWUaNmyYOnTo4PTpAQAAWp3jgVVUVKTXX3/d86k9AAAAf%2BP4pwivuOIKnrkCAAB%2BzfHAmj59ulavXt3iL/MEAAC4WDn%2BEuEbb7yhDz74QC%2B%2B%2BKL%2B7d/%2BTYGB3o33/PPPO70kAAAAqxwPrNDQUN1www1OnxYAAMAxjgdWTk6O06cEAABwlE9%2BW/Cnn36q3Nxc3X///Z6xffv2%2BWIpAAAA1jkeWAUFBRo/frx27typbdu2Sfr6y0cnT57st18yCgAALi2OB9bjjz%2BuX//619q6dasCAgIkff37CZcvX641a9Y4vRwAAADrHA%2Bsf/zjH8rKypIkT2BJ0ujRo3X48GGnlwMAAGCd44HVqVOn8/4OwrKyMrVr187p5QAAAFjneGAlJibq0Ucf1alTpzxjR44c0YIFC3Tdddc5vRwAAADrHP%2Bahvvvv1%2B//OUvlZSUpIaGBiUmJqqmpka9evXS8uXLnV4OAACAdY4HVteuXbVt2zbt3btXR44cUfv27dWjRw8NHTrU6z1ZAAAAbZXjgSVJl112mW688UZfnBoAAKDVOR5Yqamp3/tMFd%2BFBQAA2jrHA2vMmDFegdXQ0KAjR46osLBQv/zlL51eDgAAgHWOB9b8%2BfPPO75jxw797W9/c3g1AAAA9vnkdxGez4033qiXX37Z18sAAABosYsmsPbv3y9jjK%2BXAQAA0GKOv0Q4adKkJmM1NTU6fPiw0tLSnF4OAACAdY4HVvfu3Zt8ijAkJEQZGRm67bbbnF4OAACAdY4HFt/WDgAA/J3jgfXSSy81%2B7YTJkxotXUAAAC0FscDa/HixWpsbGzyhvaAgACvsYCAAAILAAC0SY4H1lNPPaUNGzZoxowZ6t27t4wxOnjwoP74xz/qzjvvVFJSktNLAgAAsMon78Fav369oqOjPWODBg3SVVddpbvuukvbtm1zekkAAABWOf49WJ999pnCw8ObjIeFhamkpMTp5QAAAFjneGB169ZNy5cvl8vl8oxVVlZq1apVuvrqq51eDgAAgHWOv0S4aNEizZs3T3l5eerYsaMCAwN16tQptW/fXmvWrHF6OQAAANY5HljDhg3Tnj17tHfvXh07dkzGGEVHR%2Bv6669Xp06dnF4OAACAdY4HliRdfvnlGjlypI4dO6arrrrKF0sAAABoNY6/B6u2tlYLFizQgAED9POf/1zS1%2B/Bmjp1qiorK51eDgAAgHWOB9aKFSt04MABrVy5UoGB///0DQ0NWrlypdPLAQAAsM7xwNqxY4eefPJJjR492vNLn8PCwpSTk6OdO3c6vRwAAADrHA%2Bs6upqde/evcl4ZGSkTp8%2B7fRyAAAArHM8sK6%2B%2Bmr97W9/kySv3z346quv6l//9V%2BdXg4AAIB1jn%2BK8I477tCsWbM0ceJENTY26umnn1ZRUZF27NihxYsXO70cAAAA6xwPrMzMTAUHB2vTpk0KCgrSH/7wB/Xo0UMrV67U6NGjnV4OAACAdY4HVkVFhSZOnKiJEyc6fWoAAABHOP4erJEjR3q99woAAMDfOB5YSUlJ2r59u9OnBQAAcIzjLxH%2By7/8ix555BGtX79eV199tS677DKv%2BVWrVjm9JAAAAKscD6xDhw7pJz/5iSTJ5XI5fXoAAIBW51hgzZ07V48//rj%2B/Oc/e8bWrFmj7Oxsp5YAAADgCMfeg7Vr164mY%2BvXr3fq9AAAAI5xLLDO98lBPk0IAAD8kWOB9c0vdr7QGAAAQFvn%2BNc0AAAA%2BLtLIrAeffRR9e7d2/PPBQUFysjIUGJiosaOHastW7Z43X7jxo0aNWqUEhMTlZWVpaKiIqeXDAAA2jDHPkVYV1enefPmXXDM9vdgHThwQJs3b/b8c1lZme69914tXrxY48aN0/vvv6977rlHPXr0UN%2B%2BfbVr1y7l5ubqqaeeUu/evbVx40bNmDFDO3fuVIcOHayuDQAA%2BCfHnsEaOHCgysrKvP6cb8ymxsZGPfDAA5oyZYpnbOvWrerevbsyMjIUEhKi5ORkpaamKj8/X5KUl5en9PR0JSQkqH379po6daokaffu3VbXBgAA/Jdjz2B9%2B/uvnPL8888rJCRE48aN0%2B9%2B9ztJUnFxseLi4rxuFxcX5/n1PcXFxRozZoxnLjAwULGxsSosLNTYsWObdd6ysjKVl5d7jQUHd1BUVFQLrqapoKBL4hVeAMAlwp9%2Brjn%2BTe5OOX78uHJzc5uEndvtVnR0tNdY586dPd8q73a7FR4e7jUfHh7%2Bg751Pi8vT6tXr/Yay87O1uzZs3/IJQAAcEkJC7vc10uwxm8DKycnR%2Bnp6erZs6eOHj36g%2B7b0u/nyszMVGpqqtdYcHAHuVzVLTruufyp9AEAqKysUUNDo9VjRkR0tHq85vLLwCooKNC%2Bffu0bdu2JnMRERFyu91eYy6XS5GRkd8573a71atXr2afPyoqqsnLgeXlVaqvt/uXBgAAf9LQ0Og3Pyv98imQLVu26MSJExoxYoSSkpKUnp4uSUpKSlJMTEyTr10oKipSQkKCJCk%2BPl7FxcWeuYaGBu3fv98zDwAAcCF%2BGVgLFy7Ujh07tHnzZm3evNnzOw83b96scePGqaSkRPn5%2BTpz5oz27t2rvXv36vbbb5ckZWVl6aWXXtKHH36ompoarV27Vu3atdPw4cN9eEUAAKAt8cuXCMPDw73eqF5fXy9J6tq1qyRp3bp1evjhh/Xggw%2BqW7duWrFiha699lpJ0g033KD77rtPc%2BbM0YkTJ9S3b1%2BtX79e7du3d/5CAABAmxRg%2BI3Ljigvr7J%2BzODgQN208k3rxwUAwGnvPTJaLle19fdgdenSyerxmssvXyIEAADwJQILAADAMgILAADAMgILAADAMgILAADAMgILAADAMgILAADAMgILAADAMgILAADAMgILAADAMgILAADAMgILAADAMgILAADAMgILAADAMgILAADAMgILAADAMgILAADAMgILAADAMgILAADAMgILAADAMgILAADAMgILAADAMgILAADAMgILAADAMgILAADAMgILAADAMgILAADAMgILAADAMgILAADAMgILAADAMgILAADAMgILAADAMgILAADAMgILAADAMgILAADAMgILAADAMgILAADAMgILAADAMgILAADAMgILAADAMgILAADAMgILAADAMgILAADAMgILAADAMgILAADAMgILAADAMgILAADAMgILAADAMgILAADAMgILAADAMr8NrJKSEmVnZyspKUnJyclauHChKisrJUkHDhzQnXfeqYEDByotLU0bNmzwuu8rr7yicePGacCAAUpPT9dbb73li0sAAABtlN8G1owZMxQWFqZdu3bpxRdf1D//%2BU899thjqq2t1fTp0/Wzn/1Mb775ph5//HGtW7dOO3fulPR1fC1YsEDz58/XO%2B%2B8oylTpmjmzJk6duyYj68IAAC0FX4ZWJWVlYqPj9e8efPUsWNHde3aVbfeeqvee%2B897dmzR3V1dbrnnnvUoUMH9enTR7fddpvy8vIkSfn5%2BUpJSVFKSopCQkI0fvx4xcTEaMuWLT6%2BKgAA0FYE%2B3oBrSEsLEw5OTleY6WlpYqKilJxcbF69%2B6toKAgz1xcXJzy8/MlScXFxUpJSfG6b1xcnAoLC5t9/rKyMpWXl3uNBQd3UFRU1A%2B9lO8VFOSXfQwAuET50881vwyscxUWFmrTpk1au3attm/frrCwMK/5zp07y%2B12q7GxUW63W%2BHh4V7z4eHhOnToULPPl5eXp9WrV3uNZWdna/bs2T/%2BIgAA8HNhYZf7egnW%2BH1gvf/%2B%2B7rnnns0b948JScna/v27ee9XUBAgOe/G2NadM7MzEylpqZ6jQUHd5DLVd2i457Ln0ofAIDKyho1NDRaPWZEREerx2suvw6sXbt26de//rWWLl2qCRMmSJIiIyP12Wefed3O7Xarc%2BfOCgwMVEREhNxud5P5yMjIZp83KiqqycuB5eVVqq%2B3%2B5cGAAB/0tDQ6Dc/K/32KZAPPvhACxYs0BNPPOGJK0mKj4/XwYMHVV9f7xkrLCxUQkKCZ76oqMjrWN%2BeBwAAuBC/DKz6%2BnotWbJE8%2BfP17Bhw7zmUlJSFBoaqrVr16qmpkYfffSRXnjhBWVlZUmSbr/9dr399tvas2ePzpw5oxdeeEGfffaZxo8f74tLAQAAbVCAaekbji5C7733nn7xi1%2BoXbt2TeZeffVVVVdX64EHHlBRUZGuvPJK3X333brjjjs8t9m5c6dWrVqlkpIS9ezZU4sXL9bgwYNbtKby8qoW3f98goMDddPKN60fFwAAp733yGi5XNXWXyLs0qWT1eM1l18G1sWIwAIA4Lv5W2D55UuEAAAAvkRgAQAAWEZgAQAAWEZgAQAAWEZgAQAAWEZgAQAAWEZgAQAAWEZgAQAAWEZgAQAAWEZgAQAAWEZgAQAAWEZgAQAAWEZgAQAAWEZgAQAAWEZgAQAAWEZgAQAAWEZgAQAAWEZgAQAAWEZgAQAAWEZgAQAAWEZgAQAAWEZgAQAAWEZgAQAAWEZgAQAAWEZgAQAAWEZgAQAAWEZgAQAAWEZgAQAAWEZgAQAAWEZgAQAAWEZgAQAAWEZgAQAAWEZgAQAAWEZgAQAAWEZgAQAAWEZgAQAAWEZgAQAAWEZgAQAAWEZgAQAAWEZgAQAAWEZgAQAAWEZgAQAAWEZgAQAAWEZgAQAAWEZgAQAAWEZgAQAAWEZgAQAAWEZgAQAAWEZgAQAAWEZgAQAAWEZgnUdJSYmmTZumpKQkjRgxQitWrFBjY6OvlwUAANqIYF8v4GI0a9Ys9enTR6%2B99ppOnDih6dOn68orr9SvfvUrXy8NAAC0ATyDdY7CwkJ98sknmj9/vjp16qTu3btrypQpysvL8/XSAABAG8EzWOcoLi5Wt27dFB4e7hnr06ePjhw5olOnTik0NPSCxygrK1N5ebnXWHBwB0VFRVlda1AQfQwA8B/%2B9HONwDqH2%2B1WWFiY19g3seVyuZoVWHl5eVq9erXX2MyZMzVr1ix7C9XXIffLrv9UZmam9Xi71JWVlSkvL4%2B9bQXsbetif1sPe9t6ysrKlJub61d76z%2BpaJExpkX3z8zM1Isvvuj1JzMz09Lq/r/y8nKtXr26ybNlaDn2tvWwt62L/W097G3r8ce95Rmsc0RGRsrtdnuNud1uBQQEKDIyslnHiIqK8psCBwAAPxzPYJ0jPj5epaWlqqio8IwVFhaqZ8%2Be6tixow9XBgAA2goC6xxxcXHq27evVq1apVOnTunw4cN6%2BumnlZWV5eulAQCANoLAOo8nn3xSZWVlGjp0qCZPnqwJEybojjvu8PWymujSpYtmzpypLl26%2BHopfoe9bT3sbetif1sPe9t6/HFvA0xL39ENAAAALzyDBQAAYBmBBQAAYBmBBQAAYBmBBQAAYBmBBQAAYBmBBQAAYBmBBQAAYBmBBQAAYBmBBQAAYBmB1QaVlJRo2rRpSkpK0ogRI7RixQo1Njb6elkXrZKSEmVnZyspKUnJyclauHChKisrJUkHDhzQnXfeqYEDByotLU0bNmzwuu8rr7yicePGacCAAUpPT9dbb73lmWtsbNTjjz%2BukSNHavDgwbrrrrv0xRdfOHptF5NHH31UvXv39vxzQUGBMjIylJiYqLFjx2rLli1et9%2B4caNGjRqlxMREZWVlqaioyDN35swZ/dd//ZduuOEGJSUlafbs2XK5XI5dy8Vk7dq1GjZsmPr3768pU6bo6NGjktjfltq/f78mT56sQYMGaejQoZo/f74qKioksbc/xptvvqnk5GTNnTu3yVxLHkfdbrfmzJmj5ORkDRs2TIsXL1Ztba1n/kKP4T5l0ObceuutZsmSJaaystIcOXLEpKWlmQ0bNvh6WRetm2%2B%2B2SxcuNCcOnXKlJaWmvT0dLNo0SJTU1Njrr/%2BepObm2uqq6tNUVGRGTJkiNmxY4cxxpj9%2B/eb%2BPh4s2fPHlNbW2s2b95sEhISTGlpqTHGmI0bN5oRI0aYQ4cOmaqqKvOb3/zGjBs3zjQ2Nvrycn1i//79ZsiQISYmJsYYY8xXX31l%2Bvfvb/Lz801tba35v//7P9OvXz/z8ccfG2OMef31182gQYPMhx9%2BaGpqasy6devM0KFDTXV1tTHGmJycHJOenm6%2B/PJL43K5zMyZM8306dN9dn2%2BsmnTJjN69Ghz%2BPBhU1VVZR566CHz0EMPsb8tVFdXZ4YOHWpWrVplzpw5YyoqKsyvfvUrM2vWLPb2R1i/fr1JS0szkyZNMnPmzPGaa%2Bnj6MyZM820adPMiRMnzLFjx0xmZqZ56KGHjDHmgo/hvkZgtTEff/yxiY2NNW632zP23HPPmVGjRvlwVRevkydPmoULF5ry8nLP2J///GeTlpZmtm/fbn72s5%2BZ%2Bvp6z9yKFSvMf/zHfxhjjHnwwQdNdna21/Fuu%2B02s27dOmOMMWPHjjXPPPOMZ66qqsrExcWZffv2teIVXXwaGhrMbbfdZn7/%2B997Auupp54yEyZM8LrdnDlzzNKlS40xxkybNs08%2BuijXscYOnSo2bZtm6mrqzMDBw40r732mmf%2B0KFDpnfv3ubYsWMOXNHFIzU19bw/LNjflvnyyy9NTEyMOXTokGfsueeeMzfeeCN7%2ByM888wzprKy0ixYsKBJYLXkcbS8vNxce%2B215sCBA575vXv3mv79%2B5uzZ89e8DHc13iJsI0pLi5Wt27dFB4e7hnr06ePjhw5olOnTvlwZRensLAw5eTk6Morr/SMlZaWKioqSsXFxerdu7eCgoI8c3FxcZ6n%2B4uLixUXF%2Bd1vLi4OBUWFqq2tlaHDh3ymg8NDdU111yjwsLCVr6qi8vzzz%2BvkJAQjRs3zjP2XXv3XXsbGBio2NhYFRYW6vPPP1dVVZX69Onjmf/pT3%2Bq9u3bq7i4uJWv5uLx1Vdf6ejRozp58qTGjBnjebmpoqKC/W2h6OhoxcbGKi8vT9XV1Tpx4oR27typ4cOHs7c/wuTJk9WpU6fzzrXkcfTAgQMKCgryeutBnz59dPr0aX366acXfAz3NQKrjXG73QoLC/Ma%2Bya2LoXX%2BVuqsLBQmzZt0j333HPevezcubPcbrcaGxvldru9Qlb6eq9dLpdOnjwpY8x3zl8qjh8/rtzcXD3wwANe49%2B1t9/szfftrdvtlqQm9w8LC7uk9vbYsWOSpFdffVVPP/20Nm/erGPHjmnJkiXsbwsFBgYqNzdXr7/%2BuhITE5WcnKz6%2BnrNmzePvbWsJY%2BjbrdboaGhCggI8JqT5Jn/vsdwXyOw2iBjjK%2BX0Ca9//77uuuuuzRv3jwlJyd/5%2B2%2B/X/mC%2B31pf6/RU5OjtLT09WzZ88ffF/29vt9c/1Tp05VdHS0unbtqlmzZmnXrl0/6P4/dt6fnT17VjNmzNDo0aP13nvv6Y033lCnTp00f/78Zt2fvf1hWrJfP2Yvv/0Y7ksEVhsTGRnp%2Bbekb7jdbgUEBCgyMtI3i2oDdu3apWnTpmnRokWaPHmypK/38tx/q3S73ercubMCAwMVERFx3r2OjIz03OZ881dccUVrXspFo6CgQPv27VN2dnaTufPtncvl8vwd/b69/eY2586fPHnyktlbSZ6Xtb/9b%2BjdunWTMUZ1dXXsbwsUFBTo6NGjuu%2B%2B%2B9SpUydFR0dr9uzZ%2Bt///d/z/v%2Bavf3xWvI4GhkZqVOnTqmhocFrTpJn/vsew33N9yvADxIfH6/S0lLPx4mlr1/26tmzpzp27OjDlV28PvjgAy1YsEBPPPGEJkyY4BmPj4/XwYMHVV9f7xkrLCxUQkKCZ/7c1/K/mQ8JCVGvXr283ldRWVmpzz//XP369WvdC7pIbNmyRSdOnNCIESOUlJSk9PR0SVJSUpJiYmKa7F1RUZHX3n577xoaGrR//34lJCToqquuUnh4uNf8P/7xD509e1bx8fEOXNnFoWvXrgoNDdWBAwc8YyUlJbrsssuUkpLC/rZAQ0ODGhsbvZ4dOXv2rCQpOTmZvbWoJY%2BjsbGxMsbok08%2B8bpvWFiYevToccHHcJ9z%2Bl31aLnbbrvNLFq0yFRVVZlDhw6Z1NRUs2nTJl8v66JUV1dnfv7zn5vnn3%2B%2BydyZM2fMiBEjzJNPPmlOnz5tPvzwQzNo0CCze/duY4wxBw8eNH379jW7d%2B82tbW1Jj8/3wwYMMCUlZUZY77%2B1NHw4cM9Hy9eunSpmThxopOX51Nut9uUlpZ6/uzbt8/ExMSY0tJSU1JSYgYMGGD%2B8pe/mNraWrNnzx7Tr18/z6eB9u7dawYOHGj27dtnTp8%2BbXJzc01KSoqpqakxxnz9SaBbb73VfPnll6aiosJMnz7dzJo1y5eX6xOPPvqoGTlypPnss8/M8ePHTWZmplm4cKE5fvw4%2B9sCFRUVZsiQIea///u/zenTp01FRYWZMWOG%2BcUvfsHetsD5PkXY0sfROXPmmKlTp5oTJ06Y0tJSM3HiRLN8%2BXJjzIUfw32NwGqDSktLzdSpU02/fv1McnKyefLJJy/J715qjnfffdfExMSY%2BPj4Jn%2BOHj1qDh48aCZNmmTi4%2BPN8OHDzbPPPut1/x07dpi0tDTTp08fc8stt5i///3vnrnGxkbzxBNPmOuuu87069fP3H333Z7vdrkUffHFF56vaTDGmL///e9m/Pjxpk%2BfPiYtLa3J1w08%2B%2ByzJiUlxcTHx5usrCxz8OBBz9yZM2fMsmXLzODBg82AAQPMfffdZyorKx27lovFt/ehf//%2BZsGCBebUqVPGGPa3pQoLC82dd95pBg0aZJKTk82cOXM8X6XA3v4w3zymXnvttebaa6/1/PM3WvI4WllZaebOnWv69%2B9vBg8ebB588EFz5swZz/yFHsN9KcAY3o0HAABgE%2B/BAgAAsIzAAgAAsIzAAgAAsIzAAgAAsIzAAgAAsIzAAgAAsIzAAgAAsIzAAgAAsIzAAgAAsIzAAgAAsIzAAgAAsIzAAgAAsIzAAgAAsOz/ATqnIrW9GW%2BEAAAAAElFTkSuQmCC\"/>\n",
       "        </div>\n",
       "        <div role=\"tabpanel\" class=\"tab-pane col-md-12\" id=\"common-3579528221964274611\">\n",
       "            \n",
       "<table class=\"freq table table-hover\">\n",
       "    <thead>\n",
       "    <tr>\n",
       "        <td class=\"fillremaining\">Value</td>\n",
       "        <td class=\"number\">Count</td>\n",
       "        <td class=\"number\">Frequency (%)</td>\n",
       "        <td style=\"min-width:200px\">&nbsp;</td>\n",
       "    </tr>\n",
       "    </thead>\n",
       "    <tr class=\"\">\n",
       "        <td class=\"fillremaining\">2047</td>\n",
       "        <td class=\"number\">1</td>\n",
       "        <td class=\"number\">0.0%</td>\n",
       "        <td>\n",
       "            <div class=\"bar\" style=\"width:1%\">&nbsp;</div>\n",
       "        </td>\n",
       "</tr><tr class=\"\">\n",
       "        <td class=\"fillremaining\">5424</td>\n",
       "        <td class=\"number\">1</td>\n",
       "        <td class=\"number\">0.0%</td>\n",
       "        <td>\n",
       "            <div class=\"bar\" style=\"width:1%\">&nbsp;</div>\n",
       "        </td>\n",
       "</tr><tr class=\"\">\n",
       "        <td class=\"fillremaining\">1338</td>\n",
       "        <td class=\"number\">1</td>\n",
       "        <td class=\"number\">0.0%</td>\n",
       "        <td>\n",
       "            <div class=\"bar\" style=\"width:1%\">&nbsp;</div>\n",
       "        </td>\n",
       "</tr><tr class=\"\">\n",
       "        <td class=\"fillremaining\">7481</td>\n",
       "        <td class=\"number\">1</td>\n",
       "        <td class=\"number\">0.0%</td>\n",
       "        <td>\n",
       "            <div class=\"bar\" style=\"width:1%\">&nbsp;</div>\n",
       "        </td>\n",
       "</tr><tr class=\"\">\n",
       "        <td class=\"fillremaining\">5432</td>\n",
       "        <td class=\"number\">1</td>\n",
       "        <td class=\"number\">0.0%</td>\n",
       "        <td>\n",
       "            <div class=\"bar\" style=\"width:1%\">&nbsp;</div>\n",
       "        </td>\n",
       "</tr><tr class=\"\">\n",
       "        <td class=\"fillremaining\">9526</td>\n",
       "        <td class=\"number\">1</td>\n",
       "        <td class=\"number\">0.0%</td>\n",
       "        <td>\n",
       "            <div class=\"bar\" style=\"width:1%\">&nbsp;</div>\n",
       "        </td>\n",
       "</tr><tr class=\"\">\n",
       "        <td class=\"fillremaining\">3379</td>\n",
       "        <td class=\"number\">1</td>\n",
       "        <td class=\"number\">0.0%</td>\n",
       "        <td>\n",
       "            <div class=\"bar\" style=\"width:1%\">&nbsp;</div>\n",
       "        </td>\n",
       "</tr><tr class=\"\">\n",
       "        <td class=\"fillremaining\">1330</td>\n",
       "        <td class=\"number\">1</td>\n",
       "        <td class=\"number\">0.0%</td>\n",
       "        <td>\n",
       "            <div class=\"bar\" style=\"width:1%\">&nbsp;</div>\n",
       "        </td>\n",
       "</tr><tr class=\"\">\n",
       "        <td class=\"fillremaining\">7473</td>\n",
       "        <td class=\"number\">1</td>\n",
       "        <td class=\"number\">0.0%</td>\n",
       "        <td>\n",
       "            <div class=\"bar\" style=\"width:1%\">&nbsp;</div>\n",
       "        </td>\n",
       "</tr><tr class=\"\">\n",
       "        <td class=\"fillremaining\">9518</td>\n",
       "        <td class=\"number\">1</td>\n",
       "        <td class=\"number\">0.0%</td>\n",
       "        <td>\n",
       "            <div class=\"bar\" style=\"width:1%\">&nbsp;</div>\n",
       "        </td>\n",
       "</tr><tr class=\"other\">\n",
       "        <td class=\"fillremaining\">Other values (9990)</td>\n",
       "        <td class=\"number\">9990</td>\n",
       "        <td class=\"number\">99.9%</td>\n",
       "        <td>\n",
       "            <div class=\"bar\" style=\"width:100%\">&nbsp;</div>\n",
       "        </td>\n",
       "</tr>\n",
       "</table>\n",
       "        </div>\n",
       "        <div role=\"tabpanel\" class=\"tab-pane col-md-12\"  id=\"extreme-3579528221964274611\">\n",
       "            <p class=\"h4\">Minimum 5 values</p>\n",
       "            \n",
       "<table class=\"freq table table-hover\">\n",
       "    <thead>\n",
       "    <tr>\n",
       "        <td class=\"fillremaining\">Value</td>\n",
       "        <td class=\"number\">Count</td>\n",
       "        <td class=\"number\">Frequency (%)</td>\n",
       "        <td style=\"min-width:200px\">&nbsp;</td>\n",
       "    </tr>\n",
       "    </thead>\n",
       "    <tr class=\"\">\n",
       "        <td class=\"fillremaining\">1</td>\n",
       "        <td class=\"number\">1</td>\n",
       "        <td class=\"number\">0.0%</td>\n",
       "        <td>\n",
       "            <div class=\"bar\" style=\"width:100%\">&nbsp;</div>\n",
       "        </td>\n",
       "</tr><tr class=\"\">\n",
       "        <td class=\"fillremaining\">2</td>\n",
       "        <td class=\"number\">1</td>\n",
       "        <td class=\"number\">0.0%</td>\n",
       "        <td>\n",
       "            <div class=\"bar\" style=\"width:100%\">&nbsp;</div>\n",
       "        </td>\n",
       "</tr><tr class=\"\">\n",
       "        <td class=\"fillremaining\">3</td>\n",
       "        <td class=\"number\">1</td>\n",
       "        <td class=\"number\">0.0%</td>\n",
       "        <td>\n",
       "            <div class=\"bar\" style=\"width:100%\">&nbsp;</div>\n",
       "        </td>\n",
       "</tr><tr class=\"\">\n",
       "        <td class=\"fillremaining\">4</td>\n",
       "        <td class=\"number\">1</td>\n",
       "        <td class=\"number\">0.0%</td>\n",
       "        <td>\n",
       "            <div class=\"bar\" style=\"width:100%\">&nbsp;</div>\n",
       "        </td>\n",
       "</tr><tr class=\"\">\n",
       "        <td class=\"fillremaining\">5</td>\n",
       "        <td class=\"number\">1</td>\n",
       "        <td class=\"number\">0.0%</td>\n",
       "        <td>\n",
       "            <div class=\"bar\" style=\"width:100%\">&nbsp;</div>\n",
       "        </td>\n",
       "</tr>\n",
       "</table>\n",
       "            <p class=\"h4\">Maximum 5 values</p>\n",
       "            \n",
       "<table class=\"freq table table-hover\">\n",
       "    <thead>\n",
       "    <tr>\n",
       "        <td class=\"fillremaining\">Value</td>\n",
       "        <td class=\"number\">Count</td>\n",
       "        <td class=\"number\">Frequency (%)</td>\n",
       "        <td style=\"min-width:200px\">&nbsp;</td>\n",
       "    </tr>\n",
       "    </thead>\n",
       "    <tr class=\"\">\n",
       "        <td class=\"fillremaining\">9996</td>\n",
       "        <td class=\"number\">1</td>\n",
       "        <td class=\"number\">0.0%</td>\n",
       "        <td>\n",
       "            <div class=\"bar\" style=\"width:100%\">&nbsp;</div>\n",
       "        </td>\n",
       "</tr><tr class=\"\">\n",
       "        <td class=\"fillremaining\">9997</td>\n",
       "        <td class=\"number\">1</td>\n",
       "        <td class=\"number\">0.0%</td>\n",
       "        <td>\n",
       "            <div class=\"bar\" style=\"width:100%\">&nbsp;</div>\n",
       "        </td>\n",
       "</tr><tr class=\"\">\n",
       "        <td class=\"fillremaining\">9998</td>\n",
       "        <td class=\"number\">1</td>\n",
       "        <td class=\"number\">0.0%</td>\n",
       "        <td>\n",
       "            <div class=\"bar\" style=\"width:100%\">&nbsp;</div>\n",
       "        </td>\n",
       "</tr><tr class=\"\">\n",
       "        <td class=\"fillremaining\">9999</td>\n",
       "        <td class=\"number\">1</td>\n",
       "        <td class=\"number\">0.0%</td>\n",
       "        <td>\n",
       "            <div class=\"bar\" style=\"width:100%\">&nbsp;</div>\n",
       "        </td>\n",
       "</tr><tr class=\"\">\n",
       "        <td class=\"fillremaining\">10000</td>\n",
       "        <td class=\"number\">1</td>\n",
       "        <td class=\"number\">0.0%</td>\n",
       "        <td>\n",
       "            <div class=\"bar\" style=\"width:100%\">&nbsp;</div>\n",
       "        </td>\n",
       "</tr>\n",
       "</table>\n",
       "        </div>\n",
       "    </div>\n",
       "</div>\n",
       "</div><div class=\"row variablerow\">\n",
       "    <div class=\"col-md-3 namecol\">\n",
       "        <p class=\"h4 pp-anchor\" id=\"pp_var_CustomerId\">CustomerId<br/>\n",
       "            <small>Numeric</small>\n",
       "        </p>\n",
       "    </div><div class=\"col-md-6\">\n",
       "    <div class=\"row\">\n",
       "        <div class=\"col-sm-6\">\n",
       "            <table class=\"stats \">\n",
       "                <tr>\n",
       "                    <th>Distinct count</th>\n",
       "                    <td>10000</td>\n",
       "                </tr>\n",
       "                <tr>\n",
       "                    <th>Unique (%)</th>\n",
       "                    <td>100.0%</td>\n",
       "                </tr>\n",
       "                <tr class=\"ignore\">\n",
       "                    <th>Missing (%)</th>\n",
       "                    <td>0.0%</td>\n",
       "                </tr>\n",
       "                <tr class=\"ignore\">\n",
       "                    <th>Missing (n)</th>\n",
       "                    <td>0</td>\n",
       "                </tr>\n",
       "                <tr class=\"ignore\">\n",
       "                    <th>Infinite (%)</th>\n",
       "                    <td>0.0%</td>\n",
       "                </tr>\n",
       "                <tr class=\"ignore\">\n",
       "                    <th>Infinite (n)</th>\n",
       "                    <td>0</td>\n",
       "                </tr>\n",
       "            </table>\n",
       "\n",
       "        </div>\n",
       "        <div class=\"col-sm-6\">\n",
       "            <table class=\"stats \">\n",
       "\n",
       "                <tr>\n",
       "                    <th>Mean</th>\n",
       "                    <td>15691000</td>\n",
       "                </tr>\n",
       "                <tr>\n",
       "                    <th>Minimum</th>\n",
       "                    <td>15565701</td>\n",
       "                </tr>\n",
       "                <tr>\n",
       "                    <th>Maximum</th>\n",
       "                    <td>15815690</td>\n",
       "                </tr>\n",
       "                <tr class=\"ignore\">\n",
       "                    <th>Zeros (%)</th>\n",
       "                    <td>0.0%</td>\n",
       "                </tr>\n",
       "            </table>\n",
       "        </div>\n",
       "    </div>\n",
       "</div>\n",
       "<div class=\"col-md-3 collapse in\" id=\"minihistogram-795958118037386427\">\n",
       "    <img src=\"data:image/png;base64,iVBORw0KGgoAAAANSUhEUgAAAMgAAABLCAYAAAA1fMjoAAAAOXRFWHRTb2Z0d2FyZQBNYXRwbG90bGliIHZlcnNpb24zLjUuMSwgaHR0cHM6Ly9tYXRwbG90bGliLm9yZy/YYfK9AAAACXBIWXMAAA9hAAAPYQGoP6dpAAAC20lEQVR4nO3avUojYRiG4cc1qFiLlWgl2AREUviTgGDhWtkoIoio4AFYB8ucQAQRPAIhKjYaCyuLWCwqpAiKlSKIhxCU2WJZZXDzuFmSmazcF6Rw8k3yKt5%2BM8G2IAgCAfijb3EPALSyRNwD/E9S2WJd63/kvjdpEkSFQJqo3qCiElW4//L9t9oflZYLpFV/qb4SfsZ/j3sQwCAQwCAQwCAQwCAQwCAQwCAQwCAQwCAQwCAQwCAQwCAQwCAQwCAQwCAQwCAQwCAQwCAQwCAQwCAQwCAQwCAQwCAQwCAQwCAQwCAQwCAQwCAQwCAQwCAQwCAQwCAQwCAQwCAQwCAQwCAQwCAQwCAQwCAQwCAQwCAQwCAQwCAQwCAQwGgLgiCIewigVbGDAAaBAAaBAAaBAAaBoOHOz881Pj6ujY2Nus6bnp5WMpkMPYaGhnR4eNikST%2BXiO2d8SXt7u6qUChoYGCg7nNPT09DXz88PGhhYUGZTKZR49WNHQQN1dnZaQM5Pj7W7OyshoeHNTU1pb29vZqvlcvltLa2pp6enmaN%2Byl2EDTU8vJyzefK5bKy2ay2trY0Njamq6srra%2Bva3BwUCMjI6G1FxcXqlQqyufzzR7ZYgdBZA4ODjQ5Oal0Oq329nalUinNzMzo6Ojow9qdnR2trq6qo6MjhknfsYMgMvf39yqVSkomk2/HgiBQOp0Orbu9vdX19bW2t7ejHvEDAkFkurq6tLi4qM3NTbuuWCxqdHRU3d3dEU1WG5dYiEx/f79ubm5Cx56envT6%2Bho6dnZ2pomJiShHq4lAEJm5uTldXl5qf39f1WpVlUpF8/PzoY93q9Wq7u7u1NfXF%2BOk7/hvXjTU7/uLl5cXSVIi8esqvlwuS5JOTk6Uz%2Bf1%2BPio3t5eLS0taWVl5e385%2BdnZTIZFQqF0L1KXAgEMLjEAgwCAQwCAQwCAQwCAQwCAQwCAQwCAQwCAQwCAYyfZ2OjLM9B77MAAAAASUVORK5CYII%3D\">\n",
       "\n",
       "</div>\n",
       "<div class=\"col-md-12 text-right\">\n",
       "    <a role=\"button\" data-toggle=\"collapse\" data-target=\"#descriptives-795958118037386427,#minihistogram-795958118037386427\"\n",
       "       aria-expanded=\"false\" aria-controls=\"collapseExample\">\n",
       "        Toggle details\n",
       "    </a>\n",
       "</div>\n",
       "<div class=\"row collapse col-md-12\" id=\"descriptives-795958118037386427\">\n",
       "    <ul class=\"nav nav-tabs\" role=\"tablist\">\n",
       "        <li role=\"presentation\" class=\"active\"><a href=\"#quantiles-795958118037386427\"\n",
       "                                                  aria-controls=\"quantiles-795958118037386427\" role=\"tab\"\n",
       "                                                  data-toggle=\"tab\">Statistics</a></li>\n",
       "        <li role=\"presentation\"><a href=\"#histogram-795958118037386427\" aria-controls=\"histogram-795958118037386427\"\n",
       "                                   role=\"tab\" data-toggle=\"tab\">Histogram</a></li>\n",
       "        <li role=\"presentation\"><a href=\"#common-795958118037386427\" aria-controls=\"common-795958118037386427\"\n",
       "                                   role=\"tab\" data-toggle=\"tab\">Common Values</a></li>\n",
       "        <li role=\"presentation\"><a href=\"#extreme-795958118037386427\" aria-controls=\"extreme-795958118037386427\"\n",
       "                                   role=\"tab\" data-toggle=\"tab\">Extreme Values</a></li>\n",
       "\n",
       "    </ul>\n",
       "\n",
       "    <div class=\"tab-content\">\n",
       "        <div role=\"tabpanel\" class=\"tab-pane active row\" id=\"quantiles-795958118037386427\">\n",
       "            <div class=\"col-md-4 col-md-offset-1\">\n",
       "                <p class=\"h4\">Quantile statistics</p>\n",
       "                <table class=\"stats indent\">\n",
       "                    <tr>\n",
       "                        <th>Minimum</th>\n",
       "                        <td>15565701</td>\n",
       "                    </tr>\n",
       "                    <tr>\n",
       "                        <th>5-th percentile</th>\n",
       "                        <td>15579000</td>\n",
       "                    </tr>\n",
       "                    <tr>\n",
       "                        <th>Q1</th>\n",
       "                        <td>15629000</td>\n",
       "                    </tr>\n",
       "                    <tr>\n",
       "                        <th>Median</th>\n",
       "                        <td>15691000</td>\n",
       "                    </tr>\n",
       "                    <tr>\n",
       "                        <th>Q3</th>\n",
       "                        <td>15753000</td>\n",
       "                    </tr>\n",
       "                    <tr>\n",
       "                        <th>95-th percentile</th>\n",
       "                        <td>15803000</td>\n",
       "                    </tr>\n",
       "                    <tr>\n",
       "                        <th>Maximum</th>\n",
       "                        <td>15815690</td>\n",
       "                    </tr>\n",
       "                    <tr>\n",
       "                        <th>Range</th>\n",
       "                        <td>249989</td>\n",
       "                    </tr>\n",
       "                    <tr>\n",
       "                        <th>Interquartile range</th>\n",
       "                        <td>124710</td>\n",
       "                    </tr>\n",
       "                </table>\n",
       "            </div>\n",
       "            <div class=\"col-md-4 col-md-offset-2\">\n",
       "                <p class=\"h4\">Descriptive statistics</p>\n",
       "                <table class=\"stats indent\">\n",
       "                    <tr>\n",
       "                        <th>Standard deviation</th>\n",
       "                        <td>71936</td>\n",
       "                    </tr>\n",
       "                    <tr>\n",
       "                        <th>Coef of variation</th>\n",
       "                        <td>0.0045846</td>\n",
       "                    </tr>\n",
       "                    <tr>\n",
       "                        <th>Kurtosis</th>\n",
       "                        <td>-1.1961</td>\n",
       "                    </tr>\n",
       "                    <tr>\n",
       "                        <th>Mean</th>\n",
       "                        <td>15691000</td>\n",
       "                    </tr>\n",
       "                    <tr>\n",
       "                        <th>MAD</th>\n",
       "                        <td>62263</td>\n",
       "                    </tr>\n",
       "                    <tr class=\"\">\n",
       "                        <th>Skewness</th>\n",
       "                        <td>0.0011491</td>\n",
       "                    </tr>\n",
       "                    <tr>\n",
       "                        <th>Sum</th>\n",
       "                        <td>156909405694</td>\n",
       "                    </tr>\n",
       "                    <tr>\n",
       "                        <th>Variance</th>\n",
       "                        <td>5174800000</td>\n",
       "                    </tr>\n",
       "                    <tr>\n",
       "                        <th>Memory size</th>\n",
       "                        <td>78.2 KiB</td>\n",
       "                    </tr>\n",
       "                </table>\n",
       "            </div>\n",
       "        </div>\n",
       "        <div role=\"tabpanel\" class=\"tab-pane col-md-8 col-md-offset-2\" id=\"histogram-795958118037386427\">\n",
       "            <img src=\"data:image/png;base64,iVBORw0KGgoAAAANSUhEUgAAAlgAAAGQCAYAAAByNR6YAAAAOXRFWHRTb2Z0d2FyZQBNYXRwbG90bGliIHZlcnNpb24zLjUuMSwgaHR0cHM6Ly9tYXRwbG90bGliLm9yZy/YYfK9AAAACXBIWXMAAA9hAAAPYQGoP6dpAAAoJUlEQVR4nO3dfXBU5aHH8V9eSCiEvAkBjUiwIBASEARSAxqICAgFESMhXodSBQkgCAIXNDCKg0IFBpUAGq9YqfSaCaW8FYRaXooldK6tOpsQaEG4QEbMCrtCILwkOfcPZa9rQAJ59ixZvp8Zp/Kc3XOe8/SYfNk92QRZlmUJAAAAxgT7ewIAAACBhsACAAAwjMACAAAwjMACAAAwjMACAAAwjMACAAAwjMACAAAwjMACAAAwjMACAAAwjMACAAAwjMACAAAwjMACAAAwjMACAAAwjMACAAAwjMACAAAwjMACAAAwjMACAAAwjMACAAAwjMACAAAwjMACAAAwjMACAAAwjMACAAAwjMACAAAwjMACAAAwjMACAAAwjMACAAAwjMACAAAwjMACAAAwjMACAAAwjMACAAAwjMACAAAwjMACAAAwjMACAAAwjMACAAAwjMACAAAwjMACAAAwjMACAAAwjMACAAAwjMACAAAwLNTfE7hZOJ2n/T2Fei84OEixsY118uQZVVdb/p5OQGFtfYe19S3W13cCZW2bNWvil%2BPyChbqjeDgIAUFBSk4OMjfUwk4rK3vsLa%2Bxfr6DmtbNwQWAACAYQQWAACAYQQWAACAYQQWAACAYQQWAACAYQQWAACAYQQWAACAYQQWAACAYQQWAACAYQQWAACAYQQWAACAYQQWAACAYQQWAACAYaH%2BngAAMx56/W/%2BnkKtbZ7c099TAACf4hUsAAAAwwgsAAAAw%2Bp1YO3atUupqamaMmVKjW2bNm3S4MGD1aVLFw0bNkyffPKJZ1t1dbUWL16sBx54QN27d9dTTz2lo0ePera73W5NnjxZqamp6tWrl3JycnTu3DlbzgkAANR/9Taw3nnnHc2dO1etWrWqsa2kpEQzZszQtGnTtGfPHo0aNUrPPPOMjh8/LklatWqVNmzYoLy8PG3fvl0JCQmaMGGCLMuSJM2ePVsVFRXauHGj/vCHP%2BjgwYNauHChrecHAADqr3p7k3t4eLhWr16tV155RefPn/faVlBQoLS0NKWlpUmShgwZog8%2B%2BEDr16/X008/rfz8fI0aNUo///nPJUlTpkxRSkqKvvjiC91%2B%2B%2B36%2BOOP9cc//lGxsbGSpPHjx%2BvZZ5/VjBkz1KBBA3tPFACA68QPv/hPvQ2skSNHXnFbcXGxJ64uSUxMlMPh0Llz53TgwAElJiZ6tkVERKhVq1ZyOBw6ffq0QkJC1K5dO8/2jh076uzZs/ryyy%2B9xgHgRsQ3VcD/6m1g/RS3262oqCivsaioKB04cEDffvutLMu67HaXy6Xo6GhFREQoKCjIa5skuVyuWh2/rKxMTqfTayw0tJHi4uKu53TwvZCQYK//Rf1VnwIAvhUaWrf/nvm6EDjqei3caAIysCR57qe6nu1Xe%2B7V5OfnKzc312tswoQJmjRpUp32i%2B9ERv7M31MAYEhMTGMj%2B%2BHrQv1n6lq4UQRkYMXExMjtdnuNud1uxcbGKjo6WsHBwZfdfssttyg2Nlbl5eWqqqpSSEiIZ5sk3XLLLbU6fmZmptLT073GQkMbyeU6c13nEygeXLjL31O4Jn%2Bedp%2B/pwAEvLp%2BXQwJCVZk5M906lSFqqqqDc3qyurb17H6xFffI/0VbgEZWElJSSoqKvIaczgcGjRokMLDw9W2bVsVFxerR48ekqRTp07pyJEj6tSpk%2BLj42VZlvbt26eOHTt6nhsZGanWrVvX6vhxcXE13g50Ok%2BrstL3//HDHL6QAr5n6utiVVU1X2PruUD7/y%2Bw3vD83vDhw7V7927t2LFD58%2Bf1%2BrVq3X48GENGTJEkpSVlaWVK1fq4MGDKi8v18KFC9WhQwclJycrNjZW/fv31%2Buvv66TJ0/q%2BPHjWrp0qTIyMhQaGpA9CgAADAuy6nrDkZ8kJydLkiorKyXJEz8Oh0OStHXrVi1atEilpaVq06aNcnJy1L17d0nf3WO1ZMkSffjhhzpz5oxSUlL08ssvq0WLFpKk06dP68UXX9T27dvVoEED/fKXv9TMmTMVFhZ23fN1Ok9f93MDBTc2AwCuxFc/UdqsWROf7Pdq6m1g1TcEFoEFALiyQAss3vOq54gWAABuPAF5DxYAAIA/EVgAAACGEVgAAACGEVgAAACGEVgAAACGEVgAAACGEVgAAACGEVgAAACGEVgAAACGEVgAAACGEVgAAACGEVgAAACGEVgAAACGEVgAAACGEVgAAACGEVgAAACGEVgAAACGEVgAAACGEVgAAACGEVgAAACGEVgAAACGEVgAAACGEVgAAACGEVgAAACGEVgAAACGEVgAAACGEVgAAACGEVgAAACGEVgAAACGEVgAAACGEVgAAACGEVgAAACGEVgAAACGEVgAAACGEVgAAACGEVgAAACGEVgAAACGEVgAAACGEVgAAACGEVgAAACGEVgAAACGEVgAAACGEVgAAACGEVgAAACGEVgAAACGEVgAAACGEVgAAACGEVgAAACGBWxg7d27VyNHjlS3bt3Us2dPTZs2TSdPnpQkFRYWKiMjQ127dtWgQYO0fv16r%2BeuXLlS/fv3V9euXZWVlaWioiJ/nAIAAKinAjKwKisr9fTTT%2Bvuu%2B/W7t27tXHjRp08eVIvvfSSysrKNH78eI0YMUKFhYXKycnR7Nmz5XA4JEnbtm3TkiVL9Nprr2n37t3q06ePsrOzdfbsWT%2BfFQAAqC8CMrCcTqecTqcefvhhhYWFKSYmRg8%2B%2BKBKSkq0YcMGJSQkKCMjQ%2BHh4UpNTVV6eroKCgokSfn5%2BRo2bJg6d%2B6shg0bavTo0ZKk7du3%2B/OUAABAPRLq7wn4QvPmzdWhQwfl5%2Bfr2Wef1blz57R161b17t1bxcXFSkxM9Hp8YmKiNm/eLEkqLi7WwIEDPduCg4PVoUMHORwODRo0qFbHLysrk9Pp9BoLDW2kuLi4Op4ZAACBKTQ0sF7zCcjACg4O1pIlSzRq1Ci9//77kqQePXpo6tSpGj9%2BvJo3b%2B71%2BOjoaLlcLkmS2%2B1WVFSU1/aoqCjP9trIz89Xbm6u19iECRM0adKk6zkdAAACXkxMY39PwaiADKwLFy4oOztbAwYM8Nw/NWfOHE2bNq1Wz7csq07Hz8zMVHp6utdYaGgjuVxn6rRfAAACla%2B%2BR/or3AIysAoLC3Xs2DE999xzCgkJUZMmTTRp0iQ9/PDDuu%2B%2B%2B%2BR2u70e73K5FBsbK0mKiYmpsd3tdqtt27a1Pn5cXFyNtwOdztOqrKy%2BrvMBACDQBdr3yMB6w/N7VVVVqq6u9nol6sKFC5Kk1NTUGh%2B7UFRUpM6dO0uSkpKSVFxc7LWvvXv3erYDAABcTUAGVpcuXdSoUSMtWbJEFRUVcrlcWr58ubp3766HH35YpaWlKigo0Pnz57Vz507t3LlTw4cPlyRlZWVp7dq1%2Bvzzz1VRUaHly5crLCxMvXv39u9JAQCAeiPIqusNRzeooqIi/eY3v9G%2BffsUFhamHj16aObMmWrevLn%2B53/%2BR3PnztXBgwcVHx%2BvqVOnql%2B/fp7n/v73v1deXp5OnDih5ORkvfTSS7rrrrvqNB%2Bn83RdT%2BmyHnr9bz7ZLwAAdto8uadP9tusWROf7PdqAjawbjQEFgAAVxZogRWQbxECAAD4E4EFAABgGIEFAABgGIEFAABgGIEFAABgGIEFAABgGIEFAABgGIEFAABgGIEFAABgGIEFAABgGIEFAABgGIEFAABgGIEFAABgGIEFAABgGIEFAABgGIEFAABgGIEFAABgGIEFAABgGIEFAABgGIEFAABgGIEFAABgGIEFAABgGIEFAABgGIEFAABgGIEFAABgGIEFAABgGIEFAABgGIEFAABgGIEFAABgGIEFAABgGIEFAABgGIEFAABgGIEFAABgGIEFAABgGIEFAABgGIEFAABgGIEFAABgGIEFAABgmO2BlZ6ertzcXH311Vd2HxoAAMAWtgfWo48%2Bqk2bNqlv374aPXq0tm7dqsrKSrunAQAA4DNBlmVZ/jhwcXGxNm7cqM2bN%2BvixYsaOnSoMjIy1Lp1a39Mx%2BecztM%2B2e9Dr//NJ/sFAMBOmyf39Ml%2BmzVr4pP9Xo3fAusSy7K0adMmvfTSSyovL1dqaqqeffZZderUyZ/TMo7AAgDgygItsPx2k/vFixe1adMmjRkzRjNmzFDz5s31/PPPq0OHDho1apQ2bNjgr6kBAADUSajdBzx48KBWr16ttWvX6syZM%2Brfv7/ef/993XPPPZ7HdO/eXS%2B99JIGDx5s9/QAAADqzPbAGjRokFq3bq2xY8dq6NChio6OrvGYtLQ0nTx50u6pAQAAGGF7YK1cuVI9evS46uO%2B%2BOILG2YDAABgnu33YLVr107Z2dn6%2BOOPPWO//e1vNWbMGLndbrunAwAAYJztgTVv3jydPn1abdq08Yz17t1b1dXVmj9/vt3TAQAAMM72wPrkk0%2BUm5urhIQEz1hCQoIWLlyoXbt2GT3W8uXL1atXL919990aNWqUjh07JkkqLCxURkaGunbtqkGDBmn9%2BvVez1u5cqX69%2B%2Bvrl27KisrS0VFRUbnBQAAApvtgXXu3DmFh4fXnEhwsCoqKowdZ9WqVVq/fr1WrlypTz75RG3atNFvf/tblZWVafz48RoxYoQKCwuVk5Oj2bNny%2BFwSJK2bdumJUuW6LXXXtPu3bvVp08fZWdn6%2BzZs8bmBgAAApvtgdW9e3fNnz9f3377rWfs66%2B/1pw5c7w%2BqqGuVqxYoSlTpujOO%2B9URESEZs2apVmzZmnDhg1KSEhQRkaGwsPDlZqaqvT0dBUUFEiS8vPzNWzYMHXu3FkNGzbU6NGjJUnbt283NjcAABDYbA%2BsF154QYWFhbr33nvVo0cPdevWTb1791ZRUZHmzp1r5Bhff/21jh07pm%2B//VYDBw5USkqKJk2apJMnT6q4uFiJiYlej09MTPS8Dfjj7cHBwerQoYPnFS4AAICrsf1jGlq2bKk//elP%2Butf/6ojR44oODhYrVu3Vq9evRQSEmLkGMePH5ckffTRR3rvvfdkWZYmTZqkWbNm6dy5c2revLnX46Ojo%2BVyuSRJbrdbUVFRXtujoqI822ujrKxMTqfTayw0tJHi4uKu53QAAAh4oaF%2B%2B%2BUyPmF7YElSWFiY%2Bvbt67P9X/r1iqNHj/bE1MSJEzVmzBilpqbW%2BvnXKz8/X7m5uV5jEyZM0KRJk%2Bq0XwAAAlVMTGN/T8Eo2wPr6NGjWrRokf7973/r3LlzNbb/5S9/qfMxmjZtKkmKjIz0jMXHx8uyLF28eLHG5225XC7FxsZKkmJiYmpsd7vdatu2ba2Pn5mZqfT0dK%2Bx0NBGcrnOXMNZAABw8/DV90h/hZvtgfXCCy%2BorKxMvXr1UqNGjXxyjBYtWigiIkIlJSXq2LGjJKm0tFQNGjRQWlqa1q1b5/X4oqIide7cWZKUlJSk4uJiPfLII5Kkqqoq7d27VxkZGbU%2BflxcXI23A53O06qsrK7LaQEAELAC7Xuk7YFVVFSkv/zlL55XjHwhNDRUGRkZeuutt9S9e3dFRERo6dKlGjx4sB555BEtW7ZMBQUFGjJkiPbs2aOdO3cqPz9fkpSVlaXnnntOv/zlL9WuXTu9%2B%2B67CgsLU%2B/evX02XwAAEFhsD6xbbrnFZ69c/dDUqVN14cIFPfbYY7p48aL69%2B%2BvWbNmqXHjxnr77bc1d%2B5czZkzR/Hx8VqwYIHat28vSbr//vv13HPPafLkyTpx4oSSk5OVl5enhg0b%2BnzOAAAgMARZdb2j%2BxoVFBTof//3fzV16lQFBQXZeWi/cjpP%2B2S/D73%2BN5/sFwAAO22e3NMn%2B23WrIlP9ns1tr%2BC9de//lX//Oc/tWbNGt1%2B%2B%2B0KDvb%2BscwPP/zQ7ikBAAAYZXtgRURE6P7777f7sAAAALaxPbDmzZtn9yEBAABs5ZePTf3yyy%2B1ZMkSPf/8856xzz77zB9TAQAAMM72wCosLNSQIUO0detWbdy4UdJ3Hz46cuRIIx8yCgAA4G%2B2B9bixYs1ffp0bdiwwfNThC1bttT8%2BfO1dOlSu6cDAABgnO2B9a9//UtZWVmS5PUxDQMGDNDBgwftng4AAIBxtgdWkyZNLvs7CMvKyhQWFmb3dAAAAIyzPbC6du2qV199VeXl5Z6xQ4cOacaMGbr33nvtng4AAIBxtn9Mw/PPP69f/epXSklJUVVVlbp27aqKigq1bdtW8%2BfPt3s6AAAAxtkeWC1atNDGjRu1c%2BdOHTp0SA0bNlTr1q3Vs2fPm%2BpX5wAAgMBle2BJUoMGDdS3b19/HBoAAMDnbA%2Bs9PT0n3ylis/CAgAA9Z3tgTVw4ECvwKqqqtKhQ4fkcDj0q1/9yu7pAAAAGGd7YE2bNu2y41u2bNHf//53m2cDAABgnl9%2BF%2BHl9O3bV3/605/8PQ0AAIA6u2ECa%2B/evbIsy9/TAAAAqDPb3yIcMWJEjbGKigodPHhQ/fr1s3s6AAAAxtkeWAkJCTV%2BijA8PFwZGRl67LHH7J4OAACAcbYHFp/WDgAAAp3tgbV27dpaP3bo0KE%2BmwcAAICv2B5YOTk5qq6urnFDe1BQkNdYUFAQgQUAAOol2wPrv/7rv7RixQplZ2erXbt2sixL%2B/fv1zvvvKMnnnhCKSkpdk8JAADAKL/cg5WXl6fmzZt7xrp166aWLVvqqaee0saNG%2B2eEgAAgFG2fw7W4cOHFRUVVWM8MjJSpaWldk8HAADAONsDKz4%2BXvPnz5fL5fKMnTp1SosWLdIdd9xh93QAAACMs/0twhdeeEFTp05Vfn6%2BGjdurODgYJWXl6thw4ZaunSp3dMBAAAwzvbA6tWrl3bs2KGdO3fq%2BPHjsixLzZs313333acmTZrYPR0AAADjbA8sSfrZz36mBx54QMePH1fLli39MQUAAACfsf0erHPnzmnGjBnq0qWLHnroIUnf3YM1evRonTp1yu7pAAAAGGd7YC1YsEAlJSVauHChgoP///BVVVVauHCh3dMBAAAwzvbA2rJli958800NGDDA80ufIyMjNW/ePG3dutXu6QAAABhne2CdOXNGCQkJNcZjY2N19uxZu6cDAABgnO2Bdccdd%2Bjvf/%2B7JHn97sGPPvpIt912m93TAQAAMM72nyJ8/PHHNXHiRD366KOqrq7We%2B%2B9p6KiIm3ZskU5OTl2TwcAAMA42wMrMzNToaGh%2BuCDDxQSEqK33npLrVu31sKFCzVgwAC7pwMAAGCc7YF18uRJPfroo3r00UftPjQAAIAtbL8H64EHHvC69woAACDQ2B5YKSkp2rx5s92HBQAAsI3tbxHeeuuteuWVV5SXl6c77rhDDRo08Nq%2BaNEiu6cEAABglO2BdeDAAd15552SJJfLZffhAQAAfM62wJoyZYoWL16s3/3ud56xpUuXasKECXZNAQAAwBa23YO1bdu2GmN5eXl2HR4AAMA2tgXW5X5ykJ8mBAAAgci2wLr0i52vNgYAAFDf2f4xDQAAAIGOwAIAADDMtp8ivHjxoqZOnXrVMT4HCwAA1He2BdY999yjsrKyq44BAADUd7YF1g8//8pur776qt5//33t379fklRYWKhFixbpyy%2B/1K233qqxY8dqyJAhnsevXLlSq1atktPpVLt27ZSTk6OkpCR/TR8AANQzAX8PVklJidatW%2Bf5c1lZmcaPH68RI0aosLBQOTk5mj17thwOh6TvPq9ryZIleu2117R792716dNH2dnZOnv2rL9OAQAA1DMBHVjV1dV68cUXNWrUKM/Yhg0blJCQoIyMDIWHhys1NVXp6ekqKCiQJOXn52vYsGHq3LmzGjZsqNGjR0uStm/f7o9TAAAA9ZDtv4vQTh9%2B%2BKHCw8M1ePBgvf7665Kk4uJiJSYmej0uMTFRmzdv9mwfOHCgZ1twcLA6dOggh8OhQYMG1eq4ZWVlcjqdXmOhoY0UFxdXh7MBACBwhYYG1ms%2BARtY33zzjZYsWVLj3i%2B3263mzZt7jUVHR3t%2B8bTb7VZUVJTX9qioqGv6xdT5%2BfnKzc31GpswYYImTZp0LacAAMBNIyamsb%2BnYFTABta8efM0bNgwtWnTRseOHbum59b1V/hkZmYqPT3dayw0tJFcrjN12i8AAIHKV98j/RVuARlYhYWF%2Buyzz7Rx48Ya22JiYuR2u73GXC6XYmNjr7jd7Xarbdu2tT5%2BXFxcjbcDnc7TqqysrvU%2BAAC4mQTa98jAesPze%2BvXr9eJEyfUp08fpaSkaNiwYZKklJQU3XXXXSoqKvJ6fFFRkTp37ixJSkpKUnFxsWdbVVWV9u7d69kOAABwNQEZWDNnztSWLVu0bt06rVu3Tnl5eZKkdevWafDgwSotLVVBQYHOnz%2BvnTt3aufOnRo%2BfLgkKSsrS2vXrtXnn3%2BuiooKLV%2B%2BXGFhYerdu7cfzwgAANQnAfkWYVRUlNeN6pWVlZKkFi1aSJLefvttzZ07V3PmzFF8fLwWLFig9u3bS5Luv/9%2BPffcc5o8ebJOnDih5ORk5eXlqWHDhvafCAAAqJeCrLre0Y1acTpP%2B2S/D73%2BN5/sFwAAO22e3NMn%2B23WrIlP9ns1AfkWIQAAgD8RWAAAAIYRWAAAAIYRWAAAAIYRWAAAAIYRWAAAAIYRWAAAAIYRWAAAAIYRWAAAAIYRWAAAAIYRWAAAAIYRWAAAAIYRWAAAAIYRWAAAAIYRWAAAAIYRWAAAAIYRWAAAAIYRWAAAAIYRWAAAAIYRWAAAAIYRWAAAAIYRWAAAAIYRWAAAAIYRWAAAAIYRWAAAAIYRWAAAAIYRWAAAAIYRWAAAAIYRWAAAAIYRWAAAAIYRWAAAAIYRWAAAAIYRWAAAAIYRWAAAAIYRWAAAAIYRWAAAAIYRWAAAAIYRWAAAAIYRWAAAAIYRWAAAAIYRWAAAAIYRWAAAAIYRWAAAAIYRWAAAAIYRWAAAAIYRWAAAAIYRWAAAAIYRWAAAAIYFbGCVlpZqwoQJSklJUWpqqmbOnKlTp05JkkpKSvTEE0/onnvuUb9%2B/bRixQqv527atEmDBw9Wly5dNGzYMH3yySf%2BOAUAAFBPBWxgZWdnKzIyUtu2bdOaNWv073//W7/5zW907tw5jR07Vr/4xS%2B0a9cuLV68WG%2B//ba2bt0q6bv4mjFjhqZNm6Y9e/Zo1KhReuaZZ3T8%2BHE/nxEAAKgvAjKwTp06paSkJE2dOlWNGzdWixYt9Mgjj%2BjTTz/Vjh07dPHiRY0bN06NGjVSx44d9dhjjyk/P1%2BSVFBQoLS0NKWlpSk8PFxDhgzRXXfdpfXr1/v5rAAAQH0RkIEVGRmpefPmqWnTpp6xr776SnFxcSouLla7du0UEhLi2ZaYmKiioiJJUnFxsRITE732l5iYKIfDYc/kAQBAvRfq7wnYweFw6IMPPtDy5cu1efNmRUZGem2Pjo6W2%2B1WdXW13G63oqKivLZHRUXpwIEDtT5eWVmZnE6n11hoaCPFxcVd/0kAABDAQkMD6zWfgA%2Bsf/zjHxo3bpymTp2q1NRUbd68%2BbKPCwoK8vy7ZVl1OmZ%2Bfr5yc3O9xiZMmKBJkybVab8AAASqmJjG/p6CUQEdWNu2bdP06dM1e/ZsDR06VJIUGxurw4cPez3O7XYrOjpawcHBiomJkdvtrrE9Nja21sfNzMxUenq611hoaCO5XGeu5zQAAAh4vvoe6a9wC9jA%2Buc//6kZM2bojTfeUK9evTzjSUlJ%2Bu///m9VVlYqNPS703c4HOrcubNn%2B6X7sS5xOBwaNGhQrY8dFxdX4%2B1Ap/O0Kiurr/d0AAAIaIH2PTKw3vD8XmVlpWbNmqVp06Z5xZUkpaWlKSIiQsuXL1dFRYW%2B%2BOILrV69WllZWZKk4cOHa/fu3dqxY4fOnz%2Bv1atX6/DhwxoyZIg/TgUAANRDQVZdbzi6AX366af6j//4D4WFhdXY9tFHH%2BnMmTN68cUXVVRUpKZNm2rMmDF6/PHHPY/ZunWrFi1apNLSUrVp00Y5OTnq3r17nebkdJ6u0/Ov5KHX/%2BaT/QIAYKfNk3v6ZL/NmjXxyX6vJiAD60ZEYAEAcGWBFlgB%2BRYhAACAPxFYAAAAhhFYAAAAhhFYAAAAhhFYAAAAhhFYAAAAhhFYAAAAhhFYAAAAhhFYAAAAhhFYAAAAhhFYAAAAhhFYAAAAhhFYAAAAhhFYAAAAhhFYAAAAhhFYAAAAhhFYAAAAhhFYAAAAhhFYAAAAhhFYAAAAhhFYAAAAhhFYAAAAhhFYAAAAhhFYAAAAhhFYAAAAhhFYAAAAhhFYAAAAhhFYAAAAhhFYAAAAhhFYAAAAhhFYAAAAhhFYAAAAhhFYAAAAhhFYAAAAhhFYAAAAhhFYAAAAhhFYAAAAhhFYAAAAhhFYAAAAhhFYAAAAhhFYAAAAhhFYAAAAhhFYAAAAhhFYAAAAhhFYAAAAhhFYAAAAhhFYAAAAhhFYAAAAhhFYAAAAhhFYl1FaWqqnn35aKSkp6tOnjxYsWKDq6mp/TwsAANQTof6ewI1o4sSJ6tixoz7%2B%2BGOdOHFCY8eOVdOmTfXrX//a31MDAAD1AK9g/YjD4dC%2Bffs0bdo0NWnSRAkJCRo1apTy8/P9PTUAAFBP8ArWjxQXFys%2BPl5RUVGesY4dO%2BrQoUMqLy9XRETEVfdRVlYmp9PpNRYa2khxcXHG5wsAQCAIDQ2s13wIrB9xu92KjIz0GrsUWy6Xq1aBlZ%2Bfr9zcXK%2BxZ555RhMnTjQ30e99%2BsoA4/u8UZWVlSk/P1%2BZmZnEqmGsre%2Bwtr7F%2BvoOa1s3gZWLhliWVafnZ2Zmas2aNV7/ZGZmGprdzcvpdCo3N7fGq4OoO9bWd1hb32J9fYe1rRtewfqR2NhYud1urzG3262goCDFxsbWah9xcXHUPgAANzFewfqRpKQkffXVVzp58qRnzOFwqE2bNmrcuLEfZwYAAOoLAutHEhMTlZycrEWLFqm8vFwHDx7Ue%2B%2B9p6ysLH9PDQAA1BME1mW8%2BeabKisrU8%2BePTVy5EgNHTpUjz/%2BuL%2BnddNr1qyZnnnmGTVr1szfUwk4rK3vsLa%2Bxfr6DmtbN0FWXe/oBgAAgBdewQIAADCMwAIAADCMwAIAADCMwAIAADCMwAIAADCMwAIAADCMwAIAADCMwAIAADCMwAIAADCMwIKtdu3apdTUVE2ZMuUnHzdz5kzP74W89E%2B3bt28HlNQUKD09HR17txZw4cP1969ez3bSkpK9MQTT%2Biee%2B5Rv379tGLFCp%2Bcz43GjvU9duyY2rVr5/Xc5ORkvfvuuz47rxuBibUtLS2tsW7Jyclq166dSktLJd2c164da8t1W7evCUePHlV2drZSUlKUkpKi7OxsHTlyxLP9ZrxurybU3xPAzeOdd97R6tWr1apVq1o9fty4cZo4ceJlt%2B3YsUNvvPGGli1bpjZt2uj999/XsmXLlJubq3Pnzmns2LEaPny48vLydOjQIT355JO6/fbb1a9fP5OndEOxa30vcTgcRuZdH5ha2/j4%2BBrrtmHDBv3ud7/TbbfddlNeu3at7aWA5bq9sp/6mjBlyhT9/Oc/17Zt2yRJL7/8sqZMmaI//OEPN%2BV1Wxu8ggXbhIeHX9N/7D/l3Xff1VNPPaVOnTqpUaNGGjdunOeb/44dO3Tx4kWNGzdOjRo1UseOHfXYY48pPz%2B/zse9kdm1vjcjk2v7Q%2BXl5VqwYIFmzZqloKCgm/LatWttb0am1tayLJWUlGjgwIFq3LixGjdurEGDBmnfvn2yLOumvG5rg8CCbUaOHKkmTZrU%2BvF79uzR0KFD1aVLF2VkZKioqEiSVFVVpc8//1zBwcEaNmyYunXrpieffFJHjx6VJBUXF6tdu3YKCQnx7CsxMdHz/EBl1/pe8p//%2BZ/q1auXfvGLX2jRokW6ePGi0fO5kZha2x9bsWKFunTpok6dOkm6Oa9du9b2Eq7bK7vS2gYFBen%2B%2B%2B/XmjVr9O233%2BrUqVPauHGj0tLSFBQUdFNet7VBYOGG1LJlS7Vq1Upvv/22du3a5fkm73K55HK5dOHCBa1bt06LFi3Sn//8Z4WHh2vSpEmyLEtut1uRkZFe%2B4uOjpbb7VZ1dbWfzujGUpf1DQsLU5cuXfTggw9q%2B/btysvL0/r167Vs2TJ/n9YN4afW9ofKy8u1atUqZWdne8a4dn9aXdaW6/anXW1t582bpyNHjqhHjx7q3r279u3bp5dfflkS1%2B2VEFi4IU2YMEGvvvqqmjdvroiICE2fPl1hYWH6%2BOOPZVmWJOnxxx9X69atFRMTo%2BnTp2vv3r06fPjwFfd5s75NcDl1Wd%2B4uDh9%2BOGHevDBB9WgQQN16tRJY8eO1Zo1a/x8VjeGn1rbH1q7dq3atm2rDh06XHWfXLvfqcvact3%2BtKut7aV7sAoLC7Vnzx516dJFTz/99E8G1M1%2B3RJYqBdCQkJ06623qqysTLGxsQoJCfH6G9Ptt98uSfrmm28UGxtb42%2B0brdb0dHRCg7mkr%2Bca1nfy4mPj9c333zjiTP8vx%2Bu7Q999NFHSk9P9xrj2r0217K2l8N1e2U/XNsDBw5o9%2B7dmj59umJjYxUTE6Np06apuLhYJSUlXLdXcPOeOW5YlmVp3rx52rdvn2fswoULOnLkiFq2bKmQkBAlJCSopKTEs/3YsWOSpNtuu01JSUnav3%2B/KisrPdsdDoc6d%2B5s30ncwOq6voWFhVq%2BfLnXPr/88kvFx8ff9H9jvdraXuJyufSPf/xDPXv29Ho%2B1%2B6V1XVtuW6v7GprW1VVJUler1ZduHDB8%2B9ct5dHYOGG8PXXX2vAgAE6evSogoKCdOzYMc2ZM0dff/21zpw5o4ULF6pBgwbq27evJGnEiBH6/e9/L4fDofLyci1evFgpKSmKj49XWlqaIiIitHz5clVUVOiLL77Q6tWrlZWV5eez9B%2BT69ukSRMtXbpU69at08WLF%2BVwOPTuu%2B/etOt7rWsrSfv371d1dbXnlcFLuHa9mVxbrltv17K2d955pxISEvTGG2/o9OnTKi8v15tvvqlWrVqpbdu2XLdXYgE2SUpKspKSkqz27dtb7du39/zZsizr6NGj1l133WUdOHDAsizLcrlc1syZM63U1FSrU6dO1hNPPOHZZlmWVV1dbb3xxhue7WPHjrWcTqdn%2B/79%2B60RI0ZYSUlJVu/eva1Vq1bZe7J%2BYOf6bt261RoyZIjVqVMnq2fPntZbb71lVVVV2XvCNjK5tpZlWRs2bLDuvvvuyx7rZrt27VxbrtvrX9vDhw9bY8eOtVJSUqwePXpYo0ePtg4ePOjZfrNdt7URZFm8%2BQwAAGASbxECAAAYRmABAAAYRmABAAAYRmABAAAYRmABAAAYRmABAAAYRmABAAAYRmABAIAbwq5du5SamqopU6Zc0/P69%2B%2Bv5ORkr3/at2%2BvP/7xjz6a6dWF%2Bu3IAAAA33vnnXe0evVqtWrV6pqfu2XLFq8/Hz16VJmZmbrvvvtMTe%2Ba8QoWAADwu/Dw8J8MrE2bNunhhx/W3XffrQceeED5%2BflX3Ncrr7yiJ598Uk2bNvXVdK%2BKV7AAAIDfjRw58orbHA6HcnJytGTJEt1777367LPPNGbMGLVt21Zdu3b1euyePXtUUlKiN99809dT/km8ggUAAG5oa9asUe/evdWrVy%2BFhISoW7dueuihh7Ru3boaj33rrbf061//WmFhYX6Y6f/jFSwAAHBDO3LkiAoLC5WcnOwZsyxLvXr18nrcv/71L33%2B%2BedatmyZ3VOs4f8AWUSszHR49jQAAAAASUVORK5CYII%3D\"/>\n",
       "        </div>\n",
       "        <div role=\"tabpanel\" class=\"tab-pane col-md-12\" id=\"common-795958118037386427\">\n",
       "            \n",
       "<table class=\"freq table table-hover\">\n",
       "    <thead>\n",
       "    <tr>\n",
       "        <td class=\"fillremaining\">Value</td>\n",
       "        <td class=\"number\">Count</td>\n",
       "        <td class=\"number\">Frequency (%)</td>\n",
       "        <td style=\"min-width:200px\">&nbsp;</td>\n",
       "    </tr>\n",
       "    </thead>\n",
       "    <tr class=\"\">\n",
       "        <td class=\"fillremaining\">15812607</td>\n",
       "        <td class=\"number\">1</td>\n",
       "        <td class=\"number\">0.0%</td>\n",
       "        <td>\n",
       "            <div class=\"bar\" style=\"width:1%\">&nbsp;</div>\n",
       "        </td>\n",
       "</tr><tr class=\"\">\n",
       "        <td class=\"fillremaining\">15741078</td>\n",
       "        <td class=\"number\">1</td>\n",
       "        <td class=\"number\">0.0%</td>\n",
       "        <td>\n",
       "            <div class=\"bar\" style=\"width:1%\">&nbsp;</div>\n",
       "        </td>\n",
       "</tr><tr class=\"\">\n",
       "        <td class=\"fillremaining\">15635776</td>\n",
       "        <td class=\"number\">1</td>\n",
       "        <td class=\"number\">0.0%</td>\n",
       "        <td>\n",
       "            <div class=\"bar\" style=\"width:1%\">&nbsp;</div>\n",
       "        </td>\n",
       "</tr><tr class=\"\">\n",
       "        <td class=\"fillremaining\">15740223</td>\n",
       "        <td class=\"number\">1</td>\n",
       "        <td class=\"number\">0.0%</td>\n",
       "        <td>\n",
       "            <div class=\"bar\" style=\"width:1%\">&nbsp;</div>\n",
       "        </td>\n",
       "</tr><tr class=\"\">\n",
       "        <td class=\"fillremaining\">15738174</td>\n",
       "        <td class=\"number\">1</td>\n",
       "        <td class=\"number\">0.0%</td>\n",
       "        <td>\n",
       "            <div class=\"bar\" style=\"width:1%\">&nbsp;</div>\n",
       "        </td>\n",
       "</tr><tr class=\"\">\n",
       "        <td class=\"fillremaining\">15662397</td>\n",
       "        <td class=\"number\">1</td>\n",
       "        <td class=\"number\">0.0%</td>\n",
       "        <td>\n",
       "            <div class=\"bar\" style=\"width:1%\">&nbsp;</div>\n",
       "        </td>\n",
       "</tr><tr class=\"\">\n",
       "        <td class=\"fillremaining\">15594812</td>\n",
       "        <td class=\"number\">1</td>\n",
       "        <td class=\"number\">0.0%</td>\n",
       "        <td>\n",
       "            <div class=\"bar\" style=\"width:1%\">&nbsp;</div>\n",
       "        </td>\n",
       "</tr><tr class=\"\">\n",
       "        <td class=\"fillremaining\">15715643</td>\n",
       "        <td class=\"number\">1</td>\n",
       "        <td class=\"number\">0.0%</td>\n",
       "        <td>\n",
       "            <div class=\"bar\" style=\"width:1%\">&nbsp;</div>\n",
       "        </td>\n",
       "</tr><tr class=\"\">\n",
       "        <td class=\"fillremaining\">15713594</td>\n",
       "        <td class=\"number\">1</td>\n",
       "        <td class=\"number\">0.0%</td>\n",
       "        <td>\n",
       "            <div class=\"bar\" style=\"width:1%\">&nbsp;</div>\n",
       "        </td>\n",
       "</tr><tr class=\"\">\n",
       "        <td class=\"fillremaining\">15787318</td>\n",
       "        <td class=\"number\">1</td>\n",
       "        <td class=\"number\">0.0%</td>\n",
       "        <td>\n",
       "            <div class=\"bar\" style=\"width:1%\">&nbsp;</div>\n",
       "        </td>\n",
       "</tr><tr class=\"other\">\n",
       "        <td class=\"fillremaining\">Other values (9990)</td>\n",
       "        <td class=\"number\">9990</td>\n",
       "        <td class=\"number\">99.9%</td>\n",
       "        <td>\n",
       "            <div class=\"bar\" style=\"width:100%\">&nbsp;</div>\n",
       "        </td>\n",
       "</tr>\n",
       "</table>\n",
       "        </div>\n",
       "        <div role=\"tabpanel\" class=\"tab-pane col-md-12\"  id=\"extreme-795958118037386427\">\n",
       "            <p class=\"h4\">Minimum 5 values</p>\n",
       "            \n",
       "<table class=\"freq table table-hover\">\n",
       "    <thead>\n",
       "    <tr>\n",
       "        <td class=\"fillremaining\">Value</td>\n",
       "        <td class=\"number\">Count</td>\n",
       "        <td class=\"number\">Frequency (%)</td>\n",
       "        <td style=\"min-width:200px\">&nbsp;</td>\n",
       "    </tr>\n",
       "    </thead>\n",
       "    <tr class=\"\">\n",
       "        <td class=\"fillremaining\">15565701</td>\n",
       "        <td class=\"number\">1</td>\n",
       "        <td class=\"number\">0.0%</td>\n",
       "        <td>\n",
       "            <div class=\"bar\" style=\"width:100%\">&nbsp;</div>\n",
       "        </td>\n",
       "</tr><tr class=\"\">\n",
       "        <td class=\"fillremaining\">15565706</td>\n",
       "        <td class=\"number\">1</td>\n",
       "        <td class=\"number\">0.0%</td>\n",
       "        <td>\n",
       "            <div class=\"bar\" style=\"width:100%\">&nbsp;</div>\n",
       "        </td>\n",
       "</tr><tr class=\"\">\n",
       "        <td class=\"fillremaining\">15565714</td>\n",
       "        <td class=\"number\">1</td>\n",
       "        <td class=\"number\">0.0%</td>\n",
       "        <td>\n",
       "            <div class=\"bar\" style=\"width:100%\">&nbsp;</div>\n",
       "        </td>\n",
       "</tr><tr class=\"\">\n",
       "        <td class=\"fillremaining\">15565779</td>\n",
       "        <td class=\"number\">1</td>\n",
       "        <td class=\"number\">0.0%</td>\n",
       "        <td>\n",
       "            <div class=\"bar\" style=\"width:100%\">&nbsp;</div>\n",
       "        </td>\n",
       "</tr><tr class=\"\">\n",
       "        <td class=\"fillremaining\">15565796</td>\n",
       "        <td class=\"number\">1</td>\n",
       "        <td class=\"number\">0.0%</td>\n",
       "        <td>\n",
       "            <div class=\"bar\" style=\"width:100%\">&nbsp;</div>\n",
       "        </td>\n",
       "</tr>\n",
       "</table>\n",
       "            <p class=\"h4\">Maximum 5 values</p>\n",
       "            \n",
       "<table class=\"freq table table-hover\">\n",
       "    <thead>\n",
       "    <tr>\n",
       "        <td class=\"fillremaining\">Value</td>\n",
       "        <td class=\"number\">Count</td>\n",
       "        <td class=\"number\">Frequency (%)</td>\n",
       "        <td style=\"min-width:200px\">&nbsp;</td>\n",
       "    </tr>\n",
       "    </thead>\n",
       "    <tr class=\"\">\n",
       "        <td class=\"fillremaining\">15815628</td>\n",
       "        <td class=\"number\">1</td>\n",
       "        <td class=\"number\">0.0%</td>\n",
       "        <td>\n",
       "            <div class=\"bar\" style=\"width:100%\">&nbsp;</div>\n",
       "        </td>\n",
       "</tr><tr class=\"\">\n",
       "        <td class=\"fillremaining\">15815645</td>\n",
       "        <td class=\"number\">1</td>\n",
       "        <td class=\"number\">0.0%</td>\n",
       "        <td>\n",
       "            <div class=\"bar\" style=\"width:100%\">&nbsp;</div>\n",
       "        </td>\n",
       "</tr><tr class=\"\">\n",
       "        <td class=\"fillremaining\">15815656</td>\n",
       "        <td class=\"number\">1</td>\n",
       "        <td class=\"number\">0.0%</td>\n",
       "        <td>\n",
       "            <div class=\"bar\" style=\"width:100%\">&nbsp;</div>\n",
       "        </td>\n",
       "</tr><tr class=\"\">\n",
       "        <td class=\"fillremaining\">15815660</td>\n",
       "        <td class=\"number\">1</td>\n",
       "        <td class=\"number\">0.0%</td>\n",
       "        <td>\n",
       "            <div class=\"bar\" style=\"width:100%\">&nbsp;</div>\n",
       "        </td>\n",
       "</tr><tr class=\"\">\n",
       "        <td class=\"fillremaining\">15815690</td>\n",
       "        <td class=\"number\">1</td>\n",
       "        <td class=\"number\">0.0%</td>\n",
       "        <td>\n",
       "            <div class=\"bar\" style=\"width:100%\">&nbsp;</div>\n",
       "        </td>\n",
       "</tr>\n",
       "</table>\n",
       "        </div>\n",
       "    </div>\n",
       "</div>\n",
       "</div><div class=\"row variablerow\">\n",
       "    <div class=\"col-md-3 namecol\">\n",
       "        <p class=\"h4 pp-anchor\" id=\"pp_var_Surname\">Surname<br/>\n",
       "            <small>Categorical</small>\n",
       "        </p>\n",
       "    </div><div class=\"col-md-3\">\n",
       "    <table class=\"stats \">\n",
       "        <tr class=\"alert\">\n",
       "            <th>Distinct count</th>\n",
       "            <td>2932</td>\n",
       "        </tr>\n",
       "        <tr>\n",
       "            <th>Unique (%)</th>\n",
       "            <td>29.3%</td>\n",
       "        </tr>\n",
       "        <tr class=\"ignore\">\n",
       "            <th>Missing (%)</th>\n",
       "            <td>0.0%</td>\n",
       "        </tr>\n",
       "        <tr class=\"ignore\">\n",
       "            <th>Missing (n)</th>\n",
       "            <td>0</td>\n",
       "        </tr>\n",
       "    </table>\n",
       "</div>\n",
       "<div class=\"col-md-6 collapse in\" id=\"minifreqtable-7493588283407351646\">\n",
       "    <table class=\"mini freq\">\n",
       "        <tr class=\"\">\n",
       "    <th>Smith</th>\n",
       "    <td>\n",
       "        <div class=\"bar\" style=\"width:1%\" data-toggle=\"tooltip\" data-placement=\"right\" data-html=\"true\"\n",
       "             data-delay=500 title=\"Percentage: 0.3%\">\n",
       "            &nbsp;\n",
       "        </div>\n",
       "        32\n",
       "    </td>\n",
       "</tr><tr class=\"\">\n",
       "    <th>Martin</th>\n",
       "    <td>\n",
       "        <div class=\"bar\" style=\"width:1%\" data-toggle=\"tooltip\" data-placement=\"right\" data-html=\"true\"\n",
       "             data-delay=500 title=\"Percentage: 0.3%\">\n",
       "            &nbsp;\n",
       "        </div>\n",
       "        29\n",
       "    </td>\n",
       "</tr><tr class=\"\">\n",
       "    <th>Scott</th>\n",
       "    <td>\n",
       "        <div class=\"bar\" style=\"width:1%\" data-toggle=\"tooltip\" data-placement=\"right\" data-html=\"true\"\n",
       "             data-delay=500 title=\"Percentage: 0.3%\">\n",
       "            &nbsp;\n",
       "        </div>\n",
       "        29\n",
       "    </td>\n",
       "</tr><tr class=\"other\">\n",
       "    <th>Other values (2929)</th>\n",
       "    <td>\n",
       "        <div class=\"bar\" style=\"width:100%\" data-toggle=\"tooltip\" data-placement=\"right\" data-html=\"true\"\n",
       "             data-delay=500 title=\"Percentage: 99.1%\">\n",
       "            9910\n",
       "        </div>\n",
       "        \n",
       "    </td>\n",
       "</tr>\n",
       "    </table>\n",
       "</div>\n",
       "<div class=\"col-md-12 text-right\">\n",
       "    <a role=\"button\" data-toggle=\"collapse\" data-target=\"#freqtable-7493588283407351646, #minifreqtable-7493588283407351646\"\n",
       "       aria-expanded=\"true\" aria-controls=\"collapseExample\">\n",
       "        Toggle details\n",
       "    </a>\n",
       "</div>\n",
       "<div class=\"col-md-12 extrapadding collapse\" id=\"freqtable-7493588283407351646\">\n",
       "    \n",
       "<table class=\"freq table table-hover\">\n",
       "    <thead>\n",
       "    <tr>\n",
       "        <td class=\"fillremaining\">Value</td>\n",
       "        <td class=\"number\">Count</td>\n",
       "        <td class=\"number\">Frequency (%)</td>\n",
       "        <td style=\"min-width:200px\">&nbsp;</td>\n",
       "    </tr>\n",
       "    </thead>\n",
       "    <tr class=\"\">\n",
       "        <td class=\"fillremaining\">Smith</td>\n",
       "        <td class=\"number\">32</td>\n",
       "        <td class=\"number\">0.3%</td>\n",
       "        <td>\n",
       "            <div class=\"bar\" style=\"width:1%\">&nbsp;</div>\n",
       "        </td>\n",
       "</tr><tr class=\"\">\n",
       "        <td class=\"fillremaining\">Martin</td>\n",
       "        <td class=\"number\">29</td>\n",
       "        <td class=\"number\">0.3%</td>\n",
       "        <td>\n",
       "            <div class=\"bar\" style=\"width:1%\">&nbsp;</div>\n",
       "        </td>\n",
       "</tr><tr class=\"\">\n",
       "        <td class=\"fillremaining\">Scott</td>\n",
       "        <td class=\"number\">29</td>\n",
       "        <td class=\"number\">0.3%</td>\n",
       "        <td>\n",
       "            <div class=\"bar\" style=\"width:1%\">&nbsp;</div>\n",
       "        </td>\n",
       "</tr><tr class=\"\">\n",
       "        <td class=\"fillremaining\">Walker</td>\n",
       "        <td class=\"number\">28</td>\n",
       "        <td class=\"number\">0.3%</td>\n",
       "        <td>\n",
       "            <div class=\"bar\" style=\"width:1%\">&nbsp;</div>\n",
       "        </td>\n",
       "</tr><tr class=\"\">\n",
       "        <td class=\"fillremaining\">Brown</td>\n",
       "        <td class=\"number\">26</td>\n",
       "        <td class=\"number\">0.3%</td>\n",
       "        <td>\n",
       "            <div class=\"bar\" style=\"width:1%\">&nbsp;</div>\n",
       "        </td>\n",
       "</tr><tr class=\"\">\n",
       "        <td class=\"fillremaining\">Shih</td>\n",
       "        <td class=\"number\">25</td>\n",
       "        <td class=\"number\">0.2%</td>\n",
       "        <td>\n",
       "            <div class=\"bar\" style=\"width:1%\">&nbsp;</div>\n",
       "        </td>\n",
       "</tr><tr class=\"\">\n",
       "        <td class=\"fillremaining\">Yeh</td>\n",
       "        <td class=\"number\">25</td>\n",
       "        <td class=\"number\">0.2%</td>\n",
       "        <td>\n",
       "            <div class=\"bar\" style=\"width:1%\">&nbsp;</div>\n",
       "        </td>\n",
       "</tr><tr class=\"\">\n",
       "        <td class=\"fillremaining\">Genovese</td>\n",
       "        <td class=\"number\">25</td>\n",
       "        <td class=\"number\">0.2%</td>\n",
       "        <td>\n",
       "            <div class=\"bar\" style=\"width:1%\">&nbsp;</div>\n",
       "        </td>\n",
       "</tr><tr class=\"\">\n",
       "        <td class=\"fillremaining\">Maclean</td>\n",
       "        <td class=\"number\">24</td>\n",
       "        <td class=\"number\">0.2%</td>\n",
       "        <td>\n",
       "            <div class=\"bar\" style=\"width:1%\">&nbsp;</div>\n",
       "        </td>\n",
       "</tr><tr class=\"\">\n",
       "        <td class=\"fillremaining\">Wright</td>\n",
       "        <td class=\"number\">24</td>\n",
       "        <td class=\"number\">0.2%</td>\n",
       "        <td>\n",
       "            <div class=\"bar\" style=\"width:1%\">&nbsp;</div>\n",
       "        </td>\n",
       "</tr><tr class=\"other\">\n",
       "        <td class=\"fillremaining\">Other values (2922)</td>\n",
       "        <td class=\"number\">9733</td>\n",
       "        <td class=\"number\">97.3%</td>\n",
       "        <td>\n",
       "            <div class=\"bar\" style=\"width:100%\">&nbsp;</div>\n",
       "        </td>\n",
       "</tr>\n",
       "</table>\n",
       "</div>\n",
       "</div><div class=\"row variablerow\">\n",
       "    <div class=\"col-md-3 namecol\">\n",
       "        <p class=\"h4 pp-anchor\" id=\"pp_var_CreditScore\">CreditScore<br/>\n",
       "            <small>Numeric</small>\n",
       "        </p>\n",
       "    </div><div class=\"col-md-6\">\n",
       "    <div class=\"row\">\n",
       "        <div class=\"col-sm-6\">\n",
       "            <table class=\"stats \">\n",
       "                <tr>\n",
       "                    <th>Distinct count</th>\n",
       "                    <td>460</td>\n",
       "                </tr>\n",
       "                <tr>\n",
       "                    <th>Unique (%)</th>\n",
       "                    <td>4.6%</td>\n",
       "                </tr>\n",
       "                <tr class=\"ignore\">\n",
       "                    <th>Missing (%)</th>\n",
       "                    <td>0.0%</td>\n",
       "                </tr>\n",
       "                <tr class=\"ignore\">\n",
       "                    <th>Missing (n)</th>\n",
       "                    <td>0</td>\n",
       "                </tr>\n",
       "                <tr class=\"ignore\">\n",
       "                    <th>Infinite (%)</th>\n",
       "                    <td>0.0%</td>\n",
       "                </tr>\n",
       "                <tr class=\"ignore\">\n",
       "                    <th>Infinite (n)</th>\n",
       "                    <td>0</td>\n",
       "                </tr>\n",
       "            </table>\n",
       "\n",
       "        </div>\n",
       "        <div class=\"col-sm-6\">\n",
       "            <table class=\"stats \">\n",
       "\n",
       "                <tr>\n",
       "                    <th>Mean</th>\n",
       "                    <td>650.53</td>\n",
       "                </tr>\n",
       "                <tr>\n",
       "                    <th>Minimum</th>\n",
       "                    <td>350</td>\n",
       "                </tr>\n",
       "                <tr>\n",
       "                    <th>Maximum</th>\n",
       "                    <td>850</td>\n",
       "                </tr>\n",
       "                <tr class=\"ignore\">\n",
       "                    <th>Zeros (%)</th>\n",
       "                    <td>0.0%</td>\n",
       "                </tr>\n",
       "            </table>\n",
       "        </div>\n",
       "    </div>\n",
       "</div>\n",
       "<div class=\"col-md-3 collapse in\" id=\"minihistogram-7112521967912181854\">\n",
       "    <img src=\"data:image/png;base64,iVBORw0KGgoAAAANSUhEUgAAAMgAAABLCAYAAAA1fMjoAAAAOXRFWHRTb2Z0d2FyZQBNYXRwbG90bGliIHZlcnNpb24zLjUuMSwgaHR0cHM6Ly9tYXRwbG90bGliLm9yZy/YYfK9AAAACXBIWXMAAA9hAAAPYQGoP6dpAAABLklEQVR4nO3csQ3CMBRAQUCMxBDsRM1ODMFOYQH0REBWQnJXU6R5%2BiZ2fJymaToAb52WfgBYs/PSD8DvLrfHrN8/79dBT7I9JggEE2Rl5k4DxjJBIAgEgkAgCASCQCAIBIJAINgH2aFv9lr2uvtugkAwQQayK/7/TBAIAoEgEAgCgSAQCAKBIBAIAoEgEAgCgSAQCEc3K37O2ap5tnAC2ASBIBAIAoEgEAgCgSAQCD65ZZgtXA5hgkAQCASBQBAIhN3%2BSXeuik%2BYIBAEAkEgEAQCQSAQBAJhE695vbJlFBMEgkAgrG6JZbnEmrj2B4IlFgSBQBAIBIFAEAgEgUAQCASBQBAIBIFAEAgEgUAQCASBQBAIBIFAEAgEgUAQCASBQBAIBIFAEAgEgUAQCIQXB1sfmwv5yAoAAAAASUVORK5CYII%3D\">\n",
       "\n",
       "</div>\n",
       "<div class=\"col-md-12 text-right\">\n",
       "    <a role=\"button\" data-toggle=\"collapse\" data-target=\"#descriptives-7112521967912181854,#minihistogram-7112521967912181854\"\n",
       "       aria-expanded=\"false\" aria-controls=\"collapseExample\">\n",
       "        Toggle details\n",
       "    </a>\n",
       "</div>\n",
       "<div class=\"row collapse col-md-12\" id=\"descriptives-7112521967912181854\">\n",
       "    <ul class=\"nav nav-tabs\" role=\"tablist\">\n",
       "        <li role=\"presentation\" class=\"active\"><a href=\"#quantiles-7112521967912181854\"\n",
       "                                                  aria-controls=\"quantiles-7112521967912181854\" role=\"tab\"\n",
       "                                                  data-toggle=\"tab\">Statistics</a></li>\n",
       "        <li role=\"presentation\"><a href=\"#histogram-7112521967912181854\" aria-controls=\"histogram-7112521967912181854\"\n",
       "                                   role=\"tab\" data-toggle=\"tab\">Histogram</a></li>\n",
       "        <li role=\"presentation\"><a href=\"#common-7112521967912181854\" aria-controls=\"common-7112521967912181854\"\n",
       "                                   role=\"tab\" data-toggle=\"tab\">Common Values</a></li>\n",
       "        <li role=\"presentation\"><a href=\"#extreme-7112521967912181854\" aria-controls=\"extreme-7112521967912181854\"\n",
       "                                   role=\"tab\" data-toggle=\"tab\">Extreme Values</a></li>\n",
       "\n",
       "    </ul>\n",
       "\n",
       "    <div class=\"tab-content\">\n",
       "        <div role=\"tabpanel\" class=\"tab-pane active row\" id=\"quantiles-7112521967912181854\">\n",
       "            <div class=\"col-md-4 col-md-offset-1\">\n",
       "                <p class=\"h4\">Quantile statistics</p>\n",
       "                <table class=\"stats indent\">\n",
       "                    <tr>\n",
       "                        <th>Minimum</th>\n",
       "                        <td>350</td>\n",
       "                    </tr>\n",
       "                    <tr>\n",
       "                        <th>5-th percentile</th>\n",
       "                        <td>489</td>\n",
       "                    </tr>\n",
       "                    <tr>\n",
       "                        <th>Q1</th>\n",
       "                        <td>584</td>\n",
       "                    </tr>\n",
       "                    <tr>\n",
       "                        <th>Median</th>\n",
       "                        <td>652</td>\n",
       "                    </tr>\n",
       "                    <tr>\n",
       "                        <th>Q3</th>\n",
       "                        <td>718</td>\n",
       "                    </tr>\n",
       "                    <tr>\n",
       "                        <th>95-th percentile</th>\n",
       "                        <td>812</td>\n",
       "                    </tr>\n",
       "                    <tr>\n",
       "                        <th>Maximum</th>\n",
       "                        <td>850</td>\n",
       "                    </tr>\n",
       "                    <tr>\n",
       "                        <th>Range</th>\n",
       "                        <td>500</td>\n",
       "                    </tr>\n",
       "                    <tr>\n",
       "                        <th>Interquartile range</th>\n",
       "                        <td>134</td>\n",
       "                    </tr>\n",
       "                </table>\n",
       "            </div>\n",
       "            <div class=\"col-md-4 col-md-offset-2\">\n",
       "                <p class=\"h4\">Descriptive statistics</p>\n",
       "                <table class=\"stats indent\">\n",
       "                    <tr>\n",
       "                        <th>Standard deviation</th>\n",
       "                        <td>96.653</td>\n",
       "                    </tr>\n",
       "                    <tr>\n",
       "                        <th>Coef of variation</th>\n",
       "                        <td>0.14858</td>\n",
       "                    </tr>\n",
       "                    <tr>\n",
       "                        <th>Kurtosis</th>\n",
       "                        <td>-0.42573</td>\n",
       "                    </tr>\n",
       "                    <tr>\n",
       "                        <th>Mean</th>\n",
       "                        <td>650.53</td>\n",
       "                    </tr>\n",
       "                    <tr>\n",
       "                        <th>MAD</th>\n",
       "                        <td>78.377</td>\n",
       "                    </tr>\n",
       "                    <tr class=\"\">\n",
       "                        <th>Skewness</th>\n",
       "                        <td>-0.071607</td>\n",
       "                    </tr>\n",
       "                    <tr>\n",
       "                        <th>Sum</th>\n",
       "                        <td>6505288</td>\n",
       "                    </tr>\n",
       "                    <tr>\n",
       "                        <th>Variance</th>\n",
       "                        <td>9341.9</td>\n",
       "                    </tr>\n",
       "                    <tr>\n",
       "                        <th>Memory size</th>\n",
       "                        <td>78.2 KiB</td>\n",
       "                    </tr>\n",
       "                </table>\n",
       "            </div>\n",
       "        </div>\n",
       "        <div role=\"tabpanel\" class=\"tab-pane col-md-8 col-md-offset-2\" id=\"histogram-7112521967912181854\">\n",
       "            <img src=\"data:image/png;base64,iVBORw0KGgoAAAANSUhEUgAAAlgAAAGQCAYAAAByNR6YAAAAOXRFWHRTb2Z0d2FyZQBNYXRwbG90bGliIHZlcnNpb24zLjUuMSwgaHR0cHM6Ly9tYXRwbG90bGliLm9yZy/YYfK9AAAACXBIWXMAAA9hAAAPYQGoP6dpAAAyqklEQVR4nO3deXQUZb7G8SedJmHJQgIkaERAlgxZEBCIBsZgQEBQZInGuDC4XcHIEkFRgQFFBe8kgw7houDoFeVqD%2BgooEBERNFxRnENIToS5CAMmEa6DUSWLHX/4Np3WkCjebubbr6fc3JC3re66le/kxRPV1V3h1mWZQkAAADG2AJdAAAAQKghYAEAABhGwAIAADCMgAUAAGAYAQsAAMAwAhYAAIBhBCwAAADDCFgAAACGEbAAAAAMI2ABAAAYRsACAAAwjIAFAABgGAELAADAMAIWAACAYQQsAAAAwwhYAAAAhhGwAAAADCNgAQAAGEbAAgAAMIyABQAAYBgBCwAAwDACFgAAgGEELAAAAMMIWAAAAIYRsAAAAAwjYAEAABhGwAIAADCMgAUAAGAYAQsAAMAwAhYAAIBhBCwAAADDCFgAAACGEbAAAAAMI2ABAAAYRsACAAAwjIAFAABgGAELAADAMAIWAACAYQQsAAAAw%2ByBLuBM4XQeDHQJAWWzhSk%2BvoUOHKhWfb0V6HJCDv31HXrrO/TWt%2BjvcW3aRAdku5zBgl/YbGEKCwuTzRYW6FJCEv31HXrrO/TWt%2BhvYBGwAAAADAvagLVnzx7l5%2BcrIyNDmZmZuueee1RVVSVJKi8v1/XXX68LLrhAgwcP1lNPPeX12Ndee01XXHGFevbsqdGjR%2Budd97xzNXX12vBggUaOHCg%2BvTpo5tvvllff/21X/cNAAAEt6ANWOPHj1dMTIw2btyol156SV9%2B%2BaUeeeQRHTlyRLfddpsuvPBCbd68WQsWLNATTzyhkpISScfD1/Tp0zVt2jT9/e9/17hx43THHXdo3759kqTly5dr9erVWrJkid5880116NBB%2Bfn5sqwz9/o1AAD4ZYIyYFVVVSktLU1Tp05VixYt1LZtW40aNUpbtmzRpk2bVFNTowkTJqh58%2BZKTU3VVVddJYfDIUlasWKFsrKylJWVpcjISI0YMUJdu3bVqlWrJEkOh0Pjxo1Tp06dFBUVpYKCAlVUVOjTTz8N5C4DAIAgEpQBKyYmRvPmzVPr1q09Y3v37lVCQoLKysqUnJys8PBwz1xKSoq2bt0qSSorK1NKSorX%2BlJSUlRaWqojR45o%2B/btXvNRUVFq3769SktLfbxXAAAgVITE2zSUlpbqueee0%2BLFi7V27VrFxMR4zbds2VJut1v19fVyu92KjY31mo%2BNjdX27dv13XffybKsk867XK4G11NZWSmn0%2Bk1Zrc3V0JCwi/cs9ARHm7z%2Bg6z6K/v0Fvfobe%2BRX8DK%2BgD1ocffqgJEyZo6tSpyszM1Nq1a0%2B6XFjY/79M9efup2rs/VYOh0PFxcVeY/n5%2BZo0aVKj1hsKYmKaBbqEkEZ/fYfe%2Bg699S36GxhBHbA2btyou%2B66S7NmzdLIkSMlSfHx8dq5c6fXcm63Wy1btpTNZlNcXJzcbvcJ8/Hx8Z5lTjbfqlWrBteVm5ur7OxsrzG7vblcruoGryPUhIfbFBPTTFVVh1VXVx/ockIO/fUdeus79Na36O9xcXEtArLdoA1YH330kaZPn67HHntM/fv394ynpaXp%2BeefV21trez247tXWlqq888/3zP/w/1YPygtLdXw4cMVGRmpLl26qKysTH379pV0/Ib6Xbt2qXv37g2uLSEh4YTLgU7nQdXWnrm/4D%2Boq6unDz5Ef32H3voOvfUt%2BhsYQXlhtra2VjNnztS0adO8wpUkZWVlKSoqSosXL9bhw4f16aefauXKlcrLy5MkXX311frb3/6mTZs26ejRo1q5cqV27typESNGSJLy8vK0bNkyVVRU6NChQyosLFS3bt2Unp7u9/0EAADBKcwKwjd42rJli6677jpFREScMLdu3TpVV1dr9uzZ2rp1q1q3bq1bb71V1157rWeZkpISFRUVac%2BePercubNmzJihPn36SDp%2B/9XChQv1wgsvqLq6WhkZGXrggQfUtm3bRtV8pn8Wod1uU1xcC7lc1TyT8gH66zv01nforW/R3%2BMC9VmEQRmwghEBiz90X6K/vkNvfYfe%2Bhb9PY4PewYAAAgRQXuTOwDg5C579N1Al9BgWx4aGugSAJ/gDBYAAIBhBCwAAADDCFgAAACGEbAAAAAMI2ABAAAYRsACAAAwjIAFAABgGAELAADAMAIWAACAYQQsAAAAwwhYAAAAhhGwAAAADCNgAQAAGGYPdAEAcLrrPWNdoEsAEGQ4gwUAAGAYAQsAAMAwAhYAAIBhBCwAAADDCFgAAACGEbAAAAAMI2ABAAAYRsACAAAwjIAFAABgGAELAADAMAIWAACAYQQsAAAAw4L6w543b96s6dOnKyMjQwsWLPCMz5w5U6%2B88orXsnV1dbryyis1b9483XPPPVq1apXCw8M985GRkdqyZYskye12a86cOXr//fdls9mUlZWlWbNmqWnTpv7ZMQAAENSCNmAtXbpUK1euVPv27U%2BYe/DBB/Xggw96fq6trdXIkSM1dOhQz9iECRM0ceLEk6571qxZOnbsmNasWaOamhpNnjxZhYWFmjlzpvkdAQAAISdoLxFGRkaeMmD92DPPPKOzzz5bWVlZP7vs/v37tWHDBhUUFCg%2BPl6JiYm6/fbb9eKLL6qmpsZE6QAAIMQFbcAaO3asoqOjf3a5qqoqPf7447rrrru8xv/%2B979r5MiR6tmzp3JycrR161ZJUnl5ucLDw5WcnOxZNjU1Vd9//7127NhhdicAAEBICtpLhA313HPPqU%2BfPurSpYtnrF27drLZbJo8ebJatGih4uJi3XTTTVq/fr3cbreioqIUFhbmWT42NlaS5HK5GrTNyspKOZ1OrzG7vbkSEhIM7FFwCg%2B3eX2HWfTXd%2Bip79Fj3%2BC4EFghHbDq6uq0fPlyFRUVeY3n5%2Bd7/XzXXXdpzZo12rBhg5o2bSrLshq1XYfDoeLi4hO2OWnSpEatNxTExDQLdAkhjf4iGPF761v0NzBCOmB98MEHOnbsmHr37v2Ty4WHh%2Buss85SZWWlevTooUOHDqmurs7zKkO32y1JatWqVYO2m5ubq%2BzsbK8xu725XK7qX74TISI83KaYmGaqqjqsurr6QJcTcuiv7/Ds3/f4vfUNjgvHxcW1CMh2QzpgvfHGG7rwwgtlt///blqWpfnz52vUqFH6zW9%2BI0k6duyYdu3apXbt2qlbt26yLEuff/65UlNTJUmlpaWKiYlRx44dG7TdhISEEy4HOp0HVVt75v6C/6Curp4%2B%2BBD9RTDi99a36G9ghPRTs/Lycp1zzjleY2FhYdq9e7fuv/9%2BffPNN6qurlZhYaGaNGmiQYMGKT4%2BXkOGDNGjjz6qAwcOaN%2B%2BfVq0aJFycnK8ghoAAMCpBG1iSE9Pl3T8Pa4kacOGDZKOn236gdPpVOvWrU947EMPPaRHHnlEo0eP1qFDh9S9e3c988wzat68uSTpgQce0OzZszVw4EA1adJEl19%2BuQoKCny9SwAAIESEWY29oxsN4nQeDHQJAWW32xQX10IuVzWnqn2A/vqO3W7TpYWbA11GyNry0FB%2Bb32E48Jxbdr8/Fs6%2BUJIXyIEAAAIBAIWAACAYQQsAAAAwwhYAAAAhhGwAAAADCNgAQAAGEbAAgAAMIyABQAAYBgBCwAAwDACFgAAgGEELAAAAMMIWAAAAIYRsAAAAAwjYAEAABhGwAIAADCMgAUAAGAYAQsAAMAwAhYAAIBhBCwAAADDCFgAAACGEbAAAAAMI2ABAAAYRsACAAAwjIAFAABgGAELAADAMAIWAACAYQQsAAAAwwhYAAAAhgV1wNq8ebMyMzNVUFDgNf7SSy/pN7/5jdLT072%2BPvvsM0lSfX29FixYoIEDB6pPnz66%2Beab9fXXX3se73a7NWXKFGVmZqp///6aMWOGjhw54td9AwAAwcse6AJ%2BraVLl2rlypVq3779Sef79OmjZ5999qRzy5cv1%2BrVq7V06VIlJiZqwYIFys/P1yuvvKKwsDDNmjVLx44d05o1a1RTU6PJkyersLBQM2fO9OUuAcAZp/eMdYEu4RdZO6VfoEtAkAjaM1iRkZE/GbB%2BisPh0Lhx49SpUydFRUWpoKBAFRUV%2BvTTT7V//35t2LBBBQUFio%2BPV2Jiom6//Xa9%2BOKLqqmp8cGeAACAUBO0AWvs2LGKjo4%2B5fzevXt14403qk%2BfPho4cKBeeeUVSdKRI0e0fft2paSkeJaNiopS%2B/btVVpaqvLycoWHhys5Odkzn5qaqu%2B//147duzw3Q4BAICQEbSXCH9KfHy8OnTooDvvvFOdO3fW66%2B/rrvvvlsJCQk677zzZFmWYmNjvR4TGxsrl8ulli1bKioqSmFhYV5zkuRyuRq0/crKSjmdTq8xu725EhISGrlnwSs83Ob1HWbRX9%2Bhp/h3dnvw/D5wXAiskAxYAwYM0IABAzw/Dx8%2BXK%2B//rpeeuklTZs2TZJkWdYpH/9Tcw3hcDhUXFzsNZafn69JkyY1ar2hICamWaBLCGn0F/CtuLgWgS7hF%2BO4EBghGbBOJikpSVu3blXLli1ls9nkdru95t1ut1q1aqX4%2BHgdOnRIdXV1Cg8P98xJUqtWrRq0rdzcXGVnZ3uN2e3N5XJVN3o/glV4uE0xMc1UVXVYdXX1gS4n5NBf3%2BHZP/5dMB3HOS4cF6hQHJIB6/nnn1dsbKyGDRvmGauoqFC7du0UGRmpLl26qKysTH379pUkVVVVadeuXerevbuSkpJkWZY%2B//xzpaamSpJKS0sVExOjjh07Nmj7CQkJJ1wOdDoPqrb2zP0F/0FdXT198CH6C/hWMP59cVwIjJB8anbs2DHNnTtXpaWlqqmp0Zo1a/T222/rmmuukSTl5eVp2bJlqqio0KFDh1RYWKhu3bopPT1d8fHxGjJkiB599FEdOHBA%2B/bt06JFi5STkyO7PSTzKAAAMCxoE0N6erokqba2VpK0YcMGScfPNo0dO1bV1dWaPHmynE6nzjnnHC1atEhpaWmSpGuuuUZOp1M33HCDqqurlZGR4XXP1AMPPKDZs2dr4MCBatKkiS6//PIT3swUAADgVMKsxt7RjQZxOg8GuoSAstttiotrIZermlPVPkB/fcdut%2BnSws2BLgOniWB6o1GOC8e1aXPqt3TypZC8RAgAABBIBCwAAADDCFgAAACGBe1N7gCC12WPvhvoEgDApziDBQAAYBgBCwAAwDACFgAAgGEELAAAAMMIWAAAAIYRsAAAAAwjYAEAABhGwAIAADCMgAUAAGAYAQsAAMAwAhYAAIBhBCwAAADDCFgAAACGEbAAAAAMI2ABAAAYRsACAAAwjIAFAABgGAELAADAMAIWAACAYQQsAAAAwwhYAAAAhhGwAAAADCNgAQAAGEbAAgAAMCxoA9bmzZuVmZmpgoKCE%2BZKSko0YsQI9ezZU0OGDNFf/vIXz9zChQvVrVs3paene33t379fknT06FH9/ve/18UXX6yMjAxNmjRJLpfLb/sFAACCX1AGrKVLl%2BrBBx9U%2B/btT5j77LPPNG3aNE2aNEkffPCB7rvvPj3wwAPasmWLZ5krr7xSpaWlXl%2BtW7eWJC1YsEBlZWVyOBxav369LMvSvffe67d9AwAAwS8oA1ZkZKRWrlx50oDldrt12223adCgQbLb7crKylLXrl29Atap1NbWauXKlbr99tt11llnqWXLlpoyZYo2bdqkb775xhe7AgAAQlBQBqyxY8cqOjr6pHMXX3yx8vPzPT/X1tbK6XQqMTHRM/bFF1/ommuuUa9evTR8%2BHC98847kqRdu3bp4MGDSk1N9SzbqVMnNW3aVGVlZT7aGwAAEGrsgS7A1woLC9W8eXMNGzZMktS2bVu1a9dOU6dOVUJCghwOh8aPH69Vq1bJ7XZLkmJiYrzWERMT84vuw6qsrJTT6fQas9ubKyEhoXE7E8TCw21e32EW/QX8w24Pnr8xjguBFbIBy7IsFRYWas2aNVq2bJkiIyMlSVdddZWuuuoqz3Ljxo3Tq6%2B%2BqlWrVuniiy/2PLYxHA6HiouLvcby8/M1adKkRq03FMTENAt0CSGN/gK%2BFRfXItAl/GIcFwIjJANWfX297r33Xn322Wd6/vnn1a5du59cPikpSZWVlYqPj5d0/D6uFi3%2B/4/ou%2B%2B%2BU6tWrRq8/dzcXGVnZ3uN2e3N5XJV/4K9CC3h4TbFxDRTVdVh1dXVB7qckEN/Af8IpuM4x4XjAhWK/R6wsrOzNXr0aI0ZM0ZnnXWWT7bx8MMP68svv9Tzzz%2Bvli1bes3913/9l3r27KmLLrrIM1ZRUaFhw4apXbt2io2NVVlZmZKSkiRJ//znP3Xs2DGlpaU1ePsJCQknXA50Og%2BqtvbM/QX/QV1dPX3wIfoL%2BFYw/n1xXAgMv1%2BYHTNmjF577TUNGjRIt9xyi0pKSlRbW2ts/R9%2B%2BKFWrVqlJUuWnBCupONnp%2B6//37t2LFDR48e1VNPPaVdu3Zp1KhRCg8P19VXX63HH39ce/fulcvl0h//%2BEddeumlnrdxAAAA%2BDlhVmNvOPqVysrKtGbNGq1du1Y1NTUaOXKkcnJy1LFjx599bHp6uiR5gpndfvxEXGlpqe677z799a9/9Yz9oE%2BfPnrqqad09OhRFRUVad26dXK73ercubNmzZqlnj17SpKOHTumefPm6dVXX1Vtba0uueQSzZkz55SvWmwop/Ngox4f7Ox2m%2BLiWsjlquaZlA8EW38ve/TdQJcA/Cprp/QLdAkNFmzHBV9p06Zx/3//WgELWD%2BwLEuvvfaa5syZo0OHDikzM1OTJ09W9%2B7dA1mWcQQs/tB9Kdj6S8BCsCJgBZ9ABayAvXazpqZGr732mm699VZNnz5diYmJuvfee9WtWzeNGzdOq1evDlRpAAAAjeL3m9wrKiq0cuVKvfzyy6qurtaQIUP0zDPP6IILLvAs06dPH82ZM0dXXHGFv8sDAABoNL8HrOHDh6tjx4667bbbNHLkyJPeiJ6VlaUDBw74uzQAAAAj/B6wli1bpr59%2B/7scp9%2B%2BqkfqgEAADDP7/dgJScna/z48dqwYYNn7L//%2B7916623ej6qBgAAIJj5PWDNmzdPBw8eVOfOnT1jAwYMUH19vebPn%2B/vcgAAAIzz%2ByXCd955R6tXr1ZcXJxnrEOHDiosLNTll1/u73IAAACM8/sZrCNHjng%2BeNmrEJtNhw8f9nc5AAAAxvk9YPXp00fz58/Xd9995xn75ptvdP/993u9VQMAAECw8vslwvvuu0833XSTLrroIkVFRam%2Bvl7V1dVq166dnn32WX%2BXAwAAYJzfA1a7du306quv6u2339auXbtks9nUsWNH9e/fX%2BHh4f4uBwAAwDi/ByxJioiI0KBBgwKxaQAAAJ/ze8D6%2BuuvVVRUpC%2B//FJHjhw5Yf6NN97wd0kAAABGBeQerMrKSvXv31/Nmzf39%2BYBAAB8zu8Ba%2BvWrXrjjTcUHx/v700DAAD4hd/fpqFVq1acuQIAACHN7wHrtttuU3FxsSzL8vemAQAA/MLvlwjffvttffTRR3rppZd0zjnnyGbzzngvvPCCv0sCAAAwyu8BKyoqShdffLG/NwsAAOA3fg9Y8%2BbN8/cmAQAA/Mrv92BJ0o4dO7Rw4ULde%2B%2B9nrGPP/44EKUAAAAY5/eA9d5772nEiBEqKSnRmjVrJB1/89GxY8fyJqMAACAk%2BD1gLViwQHfddZdWr16tsLAwScc/n3D%2B/PlatGiRv8sBAAAwzu8B65///Kfy8vIkyROwJGno0KGqqKjwdzkAAADG%2BT1gRUdHn/QzCCsrKxUREeHvcgAAAIzze8Dq1auXHn74YR06dMgz9tVXX2n69Om66KKL/F0OAACAcX5/m4Z7771Xv/vd75SRkaG6ujr16tVLhw8fVpcuXTR//nx/lwMAAGCc3wNW27ZttWbNGr311lv66quv1LRpU3Xs2FH9%2BvXzuicLAAAgWPk9YElSkyZNNGjQoEavZ/PmzZo%2BfboyMjK0YMECr7nXXntNixcv1u7du9WxY0fdeeed6t%2B/vySpvr5ejz32mNasWaOqqip1795dc%2BbMUbt27SRJbrdbc%2BbM0fvvvy%2BbzaasrCzNmjVLTZs2bXTNAAAg9Pk9YGVnZ//kmaqGvhfW0qVLtXLlSrVv3/6EufLyck2fPl3FxcW68MILtX79et1xxx1at26d2rZtq%2BXLl2v16tVaunSpEhMTtWDBAuXn5%2BuVV15RWFiYZs2apWPHjmnNmjWqqanR5MmTVVhYqJkzZ/7q/QYAAGcOv9/kPmzYMK%2BvIUOGqGvXrjp69KiuueaaBq8nMjLylAFrxYoVysrKUlZWliIjIzVixAh17dpVq1atkiQ5HA6NGzdOnTp1UlRUlAoKClRRUaFPP/1U%2B/fv14YNG1RQUKD4%2BHglJibq9ttv14svvqiamhpjfQAAAKHL72ewpk2bdtLx9evX6x//%2BEeD1zN27NhTzpWVlSkrK8trLCUlRaWlpTpy5Ii2b9%2BulJQUz1xUVJTat2%2Bv0tJSHTx4UOHh4UpOTvbMp6am6vvvv9eOHTu8xgEAAE4mIPdgncygQYP0%2B9//Xr///e8bvS63263Y2FivsdjYWG3fvl3fffedLMs66bzL5VLLli0VFRXldRnzh2VdLleDtl9ZWSmn0%2Bk1Zrc3V0JCwq/ZnZAQHm7z%2Bg6z6C/gH3Z78PyNcVwIrNMmYG3btk2WZRlb38%2Bt66fmG1uHw%2BFQcXGx11h%2Bfr4mTZrUqPWGgpiYZoEuIaTRX8C34uJaBLqEX4zjQmD4PWCd7D6rw4cPq6KiQoMHDzayjbi4OLndbq8xt9ut%2BPh4tWzZUjab7aTzrVq1Unx8vA4dOqS6ujqFh4d75iSpVatWDdp%2Bbm6usrOzvcbs9uZyuap/1f6EgvBwm2Jimqmq6rDq6uoDXU7Iob%2BAfwTTcZzjwnGBCsV%2BD1gdOnQ44VWEkZGRysnJ0VVXXWVkG2lpadq6davXWGlpqYYPH67IyEh16dJFZWVl6tu3rySpqqpKu3btUvfu3ZWUlCTLsvT5558rNTXV89iYmBh17NixQdtPSEg44XKg03lQtbVn7i/4D%2Brq6umDD9FfwLeC8e%2BL40Jg%2BD1g%2BePd2q%2B%2B%2Bmrl5ORo06ZNuuiii7R69Wrt3LlTI0aMkCTl5eVpyZIluvjii5WYmKjCwkJ169ZN6enpkqQhQ4bo0Ucf1SOPPKJjx45p0aJFysnJkd1%2B2lxRBQAApzG/J4aXX365wcuOHDnylHM/hKHa2lpJ0oYNGyQdP9vUtWtXFRYWat68edqzZ486d%2B6sJ554Qm3atJF0/DKl0%2BnUDTfcoOrqamVkZHjdM/XAAw9o9uzZGjhwoJo0aaLLL79cBQUFv3BPAQDAmSrMMnlneQOkpqaqvr7%2BhBvJw8LCvMbCwsJUXl7uz9J8yuk8GOgSAsputykuroVcrmpOVftAsPX3skffDXQJwBlhy0NDg%2Ba44Ctt2kQHZLt%2BP4P15JNP6qmnntL48eOVnJwsy7L0xRdfaOnSpbr%2B%2BuuVkZHh75KAkNB7xrpAlwAA%2BD8BuQdryZIlSkxM9Iz17t1b7dq1080336w1a9b4uyQAAACj/P7uYzt37jzhTT4lKSYmRnv27PF3OQAAAMb5PWAlJSVp/vz5Xu%2BKXlVVpaKiIp177rn%2BLgcAAMA4v18ivO%2B%2B%2BzR16lQ5HA61aNFCNptNhw4dUtOmTbVo0SJ/lwMAAGCc3wNW//79tWnTJr311lvat2%2BfLMtSYmKifvvb3yo6OjB3%2BgMAAJgUkHfObNasmQYOHKh9%2B/apXbt2gSgBAADAZ/x%2BD9aRI0c0ffp09ezZU5dddpmk4/dg3XLLLaqqqvJ3OQAAAMb5PWD94Q9/UHl5uQoLC2Wz/f/m6%2BrqVFhY6O9yAAAAjPN7wFq/fr3%2B9Kc/aejQoZ4PfY6JidG8efNUUlLi73IAAACM83vAqq6uVocOHU4Yj4%2BP1/fff%2B/vcgAAAIzze8A699xz9Y9//EOSvD57cN26dTr77LP9XQ4AAIBxfn8V4bXXXquJEydqzJgxqq%2Bv19NPP62tW7dq/fr1mjFjhr/LAQAAMM7vASs3N1d2u13PPfecwsPD9fjjj6tjx44qLCzU0KFD/V0OAACAcX4PWAcOHNCYMWM0ZswYf28aAADAL/x%2BD9bAgQO97r0CAAAINX4PWBkZGVq7dq2/NwsAAOA3fr9EeNZZZ%2Bmhhx7SkiVLdO6556pJkyZe80VFRf4uCQAAwCi/B6zt27frvPPOkyS5XC5/bx4AAMDn/BawCgoKtGDBAj377LOesUWLFik/P99fJQAAAPiF3%2B7B2rhx4wljS5Ys8dfmAQAA/MZvAetkrxzk1YQAACAU%2BS1g/fDBzj83BgAAEOz8/jYNAAAAoY6ABQAAYJjfXkVYU1OjqVOn/uwY74MFAACCnd8C1gUXXKDKysqfHQMAAAh2fgtY//7%2BVwAAAKHM7%2B/k7g8ffPCBbrrpJq8xy7JUU1OjZcuWaezYsYqIiPCa/8///E9ddtllkqRly5Zp%2BfLlcjqdSk5O1owZM5SWlua3%2BgEAQHALyYDVp08flZaWeo09/vjj%2BvzzzyVJSUlJJ33jU%2Bn4G6IuXLhQTz75pJKTk7Vs2TKNHz9eJSUlat68uc9rBwAAwe%2BMeBXhv/71Lz399NO6%2B%2B67f3ZZh8Oh0aNH6/zzz1fTpk11yy23SJLefPNNX5cJAABCxBkRsB577DGNGTNGZ599tiSpurpa%2Bfn5ysjI0G9/%2B1s9/fTTnneVLysrU0pKiuexNptN3bp1O%2BGMGAAAwKmE5CXCf7d7926VlJSopKREkhQVFaWuXbvqd7/7nRYsWKD3339fkydPVnR0tHJycuR2uxUbG%2Bu1jtjYWLlcrgZvs7KyUk6n02vMbm%2BuhISExu9QkAoPt3l9h1n0FcCpcHwIjJAPWMuXL9fgwYPVpk0bSVJqaqrXKxr79%2B%2Bva665Ri%2B99JJycnIkNf4zEh0Oh4qLi73G8vPzNWnSpEatNxTExDQLdAkAcEbhuBsYIR%2Bw1q9fr%2BnTp//kMklJSVq/fr0kKS4uTm6322ve7XarS5cuDd5mbm6usrOzvcbs9uZyuaobvI5QEx5uU0xMM1VVHVZdXX2gywk5PEMFcCpn%2BnE3Lq5FQLYb0gGrvLxce/bsUb9%2B/Txja9eulcvl0rXXXusZ27Fjh9q1aydJSktLU1lZmUaNGiVJqqur07Zt2zxntxoiISHhhMuBTudB1daeub/gP6irq6cPAOBHHHcDI6Sf9m7btk0tW7ZUVFSUZ6xJkyZ65JFH9M4776impkbvvvuuXnzxReXl5UmS8vLy9PLLL%2BuTTz7R4cOHtXjxYkVERGjAgAEB2gsAABBsQvoM1v79%2Bz33Xv1g0KBBuu%2B%2B%2BzR37lzt3btXrVu31n333afBgwdLki6%2B%2BGLdeeedmjJlir799lulp6dryZIlatq0aSB2AQAABKEwq7F3dKNBnM6DgS4hoOx2m%2BLiWsjlquZUtQ/Y7TZdWrg50GUAOM1seWjoGX/cbdMmOiDbDelLhAAAAIFAwAIAADCMgAUAAGAYAQsAAMAwAhYAAIBhBCwAAADDCFgAAACGEbAAAAAMI2ABAAAYFtIflQMAwJms94x1gS6hwdZO6RfoEoziDBYAAIBhBCwAAADDCFgAAACGEbAAAAAMI2ABAAAYRsACAAAwjIAFAABgGAELAADAMAIWAACAYQQsAAAAwwhYAAAAhhGwAAAADCNgAQAAGEbAAgAAMIyABQAAYBgBCwAAwDACFgAAgGEELAAAAMNCNmAlJycrLS1N6enpnq%2B5c%2BdKkt577z3l5OSoV69eGj58uFatWuX12GXLlmnIkCHq1auX8vLytHXr1kDsAgAACFL2QBfgS%2BvWrdM555zjNVZZWanbb79dM2bM0BVXXKEPP/xQEyZMUMeOHZWenq6NGzdq4cKFevLJJ5WcnKxly5Zp/PjxKikpUfPmzQO0JwAAIJiE7BmsU1m9erU6dOignJwcRUZGKjMzU9nZ2VqxYoUkyeFwaPTo0Tr//PPVtGlT3XLLLZKkN998M5BlAwCAIBLSAauoqEgDBgxQ7969NWvWLFVXV6usrEwpKSley6WkpHguA/543mazqVu3biotLfVr7QAAIHiF7CXCHj16KDMzU4888oi%2B/vprTZkyRffff7/cbrcSExO9lm3ZsqVcLpckye12KzY21ms%2BNjbWM98QlZWVcjqdXmN2e3MlJCT8yr0JfuHhNq/vMIu%2BAgh2dntoHcdCNmA5HA7Pvzt16qRp06ZpwoQJuuCCC372sZZlNXrbxcXFXmP5%2BfmaNGlSo9YbCmJimgW6BADAaSgurkWgSzAqZAPWj51zzjmqq6uTzWaT2%2B32mnO5XIqPj5ckxcXFnTDvdrvVpUuXBm8rNzdX2dnZXmN2e3O5XNW/qvZQEB5uU0xMM1VVHVZdXX2gywk5nMECEOx89X9koIJbSAasbdu2adWqVbrnnns8YxUVFYqIiFBWVpb%2B%2Bte/ei2/detWnX/%2B%2BZKktLQ0lZWVadSoUZKkuro6bdu2TTk5OQ3efkJCwgmXA53Og6qtJVjU1dXTBwDACULt/4aQfNrbqlUrORwOLVmyRMeOHdNXX32lxx57TLm5ubryyiu1Z88erVixQkePHtVbb72lt956S1dffbUkKS8vTy%2B//LI%2B%2BeQTHT58WIsXL1ZERIQGDBgQ2J0CAABBI8xq7A1Hp6kPPvhARUVF%2BuKLLxQREaFRo0apoKBAkZGR%2BuCDD/Tggw%2BqoqJCSUlJmjp1qgYPHux57P/8z/9oyZIl%2Bvbbb5Wenq45c%2Baoa9eujarH6TzY2F0Kana7TXFxLeRyVYfcs5TTgd1u06WFmwNdBgD8amun9PPJetu0ifbJen9OyAas0w0Bi4DlSwQsAMEu1AJWSF4iBAAACCQCFgAAgGEh%2BSpCwITLHn030CUAAIIUZ7AAAAAMI2ABAAAYRsACAAAwjIAFAABgGAELAADAMAIWAACAYQQsAAAAwwhYAAAAhhGwAAAADCNgAQAAGEbAAgAAMIyABQAAYBgBCwAAwDACFgAAgGEELAAAAMMIWAAAAIYRsAAAAAwjYAEAABhGwAIAADCMgAUAAGAYAQsAAMAwAhYAAIBhBCwAAADDCFgAAACGEbAAAAAMC9mAtWfPHuXn5ysjI0OZmZm65557VFVVpd27dys5OVnp6eleX3/%2B8589j33ttdd0xRVXqGfPnho9erTeeeedAO4JAAAINvZAF%2BAr48ePV1pamjZu3KiDBw8qPz9fjzzyiCZMmCBJKi0tPenjysvLNX36dBUXF%2BvCCy/U%2BvXrdccdd2jdunVq27atP3cBAAAEqZA8g1VVVaW0tDRNnTpVLVq0UNu2bTVq1Cht2bLlZx%2B7YsUKZWVlKSsrS5GRkRoxYoS6du2qVatW%2BaFyAAAQCkIyYMXExGjevHlq3bq1Z2zv3r1KSEjw/Hz33Xerf//%2BuvDCC1VUVKSamhpJUllZmVJSUrzWl5KScsozXgAAAD8WspcI/11paamee%2B45LV68WBEREerZs6cuvfRSPfTQQyovL9fEiRNlt9s1efJkud1uxcbGej0%2BNjZW27dvb/D2Kisr5XQ6vcbs9uZeAe9MEx5u8/oOAMC/s9tD6/%2BHkA9YH374oSZMmKCpU6cqMzNTkvTCCy945rt3767bbrtNTzzxhCZPnixJsiyrUdt0OBwqLi72GsvPz9ekSZMatd5QEBPTLNAlAABOQ3FxLQJdglEhHbA2btyou%2B66S7NmzdLIkSNPuVxSUpL2798vy7IUFxcnt9vtNe92uxUfH9/g7ebm5io7O9trzG5vLper%2BpeUH1LCw22KiWmmqqrDqqurD3Q5AIDTjK/%2BjwxUcAvZgPXRRx9p%2BvTpeuyxx9S/f3/P%2BHvvvadPPvnE82pCSdqxY4eSkpIUFhamtLQ0bd261WtdpaWlGj58eIO3nZCQcMLlQKfzoGprCRZ1dfX0AQBwglD7vyG0Lnj%2Bn9raWs2cOVPTpk3zCleSFB0drUWLFumVV15RTU2NSktL9ec//1l5eXmSpKuvvlp/%2B9vftGnTJh09elQrV67Uzp07NWLEiEDsCgAACEJhVmNvODoNbdmyRdddd50iIiJOmFu3bp22bdum4uJi7dy5U9HR0brhhht06623ymY7njdLSkpUVFSkPXv2qHPnzpoxY4b69OnTqJqczoONenyws9ttiotrIZerOmiepVz26LuBLgEAzhhrp/TzyXrbtIn2yXp/TkgGrNMRAYuABQA4tVALWCF5iRAAACCQCFgAAACGEbAAAAAMI2ABAAAYRsACAAAwjIAFAABgGAELAADAsJD9qBycfnrPWBfoEgAA8AvOYAEAABhGwAIAADCMgAUAAGAYAQsAAMAwAhYAAIBhBCwAAADDCFgAAACGEbAAAAAMI2ABAAAYRsACAAAwjIAFAABgGAELAADAMAIWAACAYQQsAAAAwwhYAAAAhhGwAAAADCNgAQAAGEbAAgAAMIyABQAAYBgBCwAAwDACFgAAgGEErJPYs2eP/uM//kMZGRm65JJL9Ic//EH19fWBLgsAAAQJe6ALOB1NnDhRqamp2rBhg7799lvddtttat26tW688cZAl3aCyx59N9AlAACAH%2BEM1o%2BUlpbq888/17Rp0xQdHa0OHTpo3LhxcjgcgS4NAAAECc5g/UhZWZmSkpIUGxvrGUtNTdVXX32lQ4cOKSoq6mfXUVlZKafT6TVmtzdXQkKC8XoBAAgFdntonfMhYP2I2%2B1WTEyM19gPYcvlcjUoYDkcDhUXF3uN3XHHHZo4caK5Qv/PloeGGl%2BnL1RWVsrhcCg3N5eg6QP013fore/QW9%2Biv4EVWnHREMuyGvX43NxcvfTSS15fubm5hqoLTk6nU8XFxSec2YMZ9Nd36K3v0Fvfor%2BBxRmsH4mPj5fb7fYac7vdCgsLU3x8fIPWkZCQwLMFAADOYJzB%2BpG0tDTt3btXBw4c8IyVlpaqc%2BfOatGiRQArAwAAwYKA9SMpKSlKT09XUVGRDh06pIqKCj399NPKy8sLdGkAACBIELBO4k9/%2BpMqKyvVr18/jR07ViNHjtS1114b6LKCWps2bXTHHXeoTZs2gS4lJNFf36G3vkNvfYv%2BBlaY1dg7ugEAAOCFM1gAAACGEbAAAAAMI2ABAAAYRsACAAAwjIAFAABgGAELAADAMAIWAACAYQQsAAAAwwhYAAAAhhGwYNTDDz%2Bs5ORkz8/vvfeecnJy1KtXLw0fPlyrVq3yWn7ZsmUaMmSIevXqpby8PG3dutXfJZ/2kpOTlZaWpvT0dM/X3LlzJdFfExYvXqz%2B/furR48eGjdunHbv3i2J3jbGBx984PX7mp6errS0NM%2Bxgd423rZt2zR27Fj17t1b/fr107Rp03TgwAFJ9Pe0YQGGbNu2zerbt6/VtWtXy7Is65tvvrF69OhhrVixwjpy5Ij17rvvWt27d7c%2B%2B%2Bwzy7Is64033rB69%2B5tffLJJ9bhw4etJ554wurXr59VXV0dyN047XTt2tX6%2BuuvTxinv4333HPPWUOHDrUqKiqsgwcPWnPnzrXmzp1Lb31g8eLF1uTJk%2BmtATU1NVa/fv2soqIi6%2BjRo9aBAwesG2%2B80Zo4cSL9PY1wBgtG1NfXa/bs2Ro3bpxnbPXq1erQoYNycnIUGRmpzMxMZWdna8WKFZIkh8Oh0aNH6/zzz1fTpk11yy23SJLefPPNQOxC0KG/jffUU0%2BpoKBA5513nqKiojRz5kzNnDmT3hr2r3/9S08//bTuvvtuemuA0%2BmU0%2BnUlVdeqYiICMXFxenSSy9VeXk5/T2NELBgxAsvvKDIyEhdccUVnrGysjKlpKR4LZeSkuI5Hf3jeZvNpm7duqm0tNQ/RQeRoqIiDRgwQL1799asWbNUXV1Nfxvpm2%2B%2B0e7du/Xdd99p2LBhysjI0KRJk3TgwAF6a9hjjz2mMWPG6Oyzz6a3BiQmJqpbt25yOByqrq7Wt99%2Bq5KSEg0YMID%2BnkYIWGi0/fv3a%2BHChZo9e7bXuNvtVkxMjNdYy5Yt5XK5PPOxsbFe87GxsZ55HNejRw9lZmaqpKREDodDn3zyie6//37620j79u2TJK1bt05PP/20XnnlFe3bt08zZ86ktwbt3r1bJSUluvHGGyVxXDDBZrNp4cKFeuONN9SrVy9lZmaqtrZWU6dOpb%2BnEQIWGm3evHkaPXq0Onfu/Isfa1mWDyoKLQ6HQ1dddZUiIiLUqVMnTZs2TWvWrFFNTc3PPpb%2BntoPvbnllluUmJiotm3bauLEidq4ceMvejx%2B2vLlyzV48GC1adOmwY%2Bhtz/t2LFjGj9%2BvIYOHaotW7bo7bffVnR0tKZNm9agx9Nf/yBgoVHee%2B89ffzxx8rPzz9hLi4uTm6322vM5XIpPj7%2BlPNut9szj5M755xzVFdXJ5vNRn8boXXr1pLk9Ww/KSlJlmWppqaG3hqyfv16ZWdne37muNB47733nnbv3q0777xT0dHRSkxM1KRJk/T6669zXDiNELDQKKtWrdK3336rSy65RBkZGRo9erQkKSMjQ127dj3h5b9bt27V%2BeefL0lKS0tTWVmZZ66urk7btm3zzOP4S7Hnz5/vNVZRUaGIiAhlZWXR30Zo27atoqKiVF5e7hnbs2ePmjRpQm8NKS8v1549e9SvXz/PWHp6Or1tpLq6OtXX13udiTp27JgkKTMzk/6eLgL3AkaEArfbbe3du9fz9fHHH1tdu3a19u7da%2B3Zs8fq2bOn9Ze//MU6cuSItWnTJqt79%2B5WeXm5ZVmW9dZbb1kXXHCB9fHHH1vff/%2B9tXDhQisrK8s6fPhwgPfq9LFv3z6rR48e1hNPPGEdPXrU2rFjhzVs2DBr7ty51v79%2B%2BlvIz388MPWwIEDrZ07d1r79%2B%2B3cnNzrXvuuYfeGrJy5Uqrb9%2B%2BXmP0tvEOHDhg9e3b1/rjH/9off/999aBAwes8ePHW9dddx39PY0QsGDU119/7XkfLMuyrPfff98aMWKElZqaag0ePNhav3691/LLly%2B3srKyrLS0NCsvL8/64osv/F3yae/999%2B3cnNzrR49elh9%2B/a15s2bZx05csQzR39/vaNHj1pz5syx%2BvTpY/Xo0cOaPn26dejQIcuy6K0Jjz/%2BuDV8%2BPATxult45WWllrXX3%2B91bt3byszM9OaMmWKtW/fPsuy6O/pIsyyuNsNAADAJO7BAgAAMIyABQAAYBgBCwAAwDACFgAAgGEELAAAAMMIWAAAAIYRsAAAAAwjYAEAABhGwAIAADCMgAUAAGAYAQsAAMAwAhYAAIBhBCwAAADD/hcF4/ibWFs7oQAAAABJRU5ErkJggg%3D%3D\"/>\n",
       "        </div>\n",
       "        <div role=\"tabpanel\" class=\"tab-pane col-md-12\" id=\"common-7112521967912181854\">\n",
       "            \n",
       "<table class=\"freq table table-hover\">\n",
       "    <thead>\n",
       "    <tr>\n",
       "        <td class=\"fillremaining\">Value</td>\n",
       "        <td class=\"number\">Count</td>\n",
       "        <td class=\"number\">Frequency (%)</td>\n",
       "        <td style=\"min-width:200px\">&nbsp;</td>\n",
       "    </tr>\n",
       "    </thead>\n",
       "    <tr class=\"\">\n",
       "        <td class=\"fillremaining\">850</td>\n",
       "        <td class=\"number\">233</td>\n",
       "        <td class=\"number\">2.3%</td>\n",
       "        <td>\n",
       "            <div class=\"bar\" style=\"width:3%\">&nbsp;</div>\n",
       "        </td>\n",
       "</tr><tr class=\"\">\n",
       "        <td class=\"fillremaining\">678</td>\n",
       "        <td class=\"number\">63</td>\n",
       "        <td class=\"number\">0.6%</td>\n",
       "        <td>\n",
       "            <div class=\"bar\" style=\"width:1%\">&nbsp;</div>\n",
       "        </td>\n",
       "</tr><tr class=\"\">\n",
       "        <td class=\"fillremaining\">655</td>\n",
       "        <td class=\"number\">54</td>\n",
       "        <td class=\"number\">0.5%</td>\n",
       "        <td>\n",
       "            <div class=\"bar\" style=\"width:1%\">&nbsp;</div>\n",
       "        </td>\n",
       "</tr><tr class=\"\">\n",
       "        <td class=\"fillremaining\">705</td>\n",
       "        <td class=\"number\">53</td>\n",
       "        <td class=\"number\">0.5%</td>\n",
       "        <td>\n",
       "            <div class=\"bar\" style=\"width:1%\">&nbsp;</div>\n",
       "        </td>\n",
       "</tr><tr class=\"\">\n",
       "        <td class=\"fillremaining\">667</td>\n",
       "        <td class=\"number\">53</td>\n",
       "        <td class=\"number\">0.5%</td>\n",
       "        <td>\n",
       "            <div class=\"bar\" style=\"width:1%\">&nbsp;</div>\n",
       "        </td>\n",
       "</tr><tr class=\"\">\n",
       "        <td class=\"fillremaining\">684</td>\n",
       "        <td class=\"number\">52</td>\n",
       "        <td class=\"number\">0.5%</td>\n",
       "        <td>\n",
       "            <div class=\"bar\" style=\"width:1%\">&nbsp;</div>\n",
       "        </td>\n",
       "</tr><tr class=\"\">\n",
       "        <td class=\"fillremaining\">670</td>\n",
       "        <td class=\"number\">50</td>\n",
       "        <td class=\"number\">0.5%</td>\n",
       "        <td>\n",
       "            <div class=\"bar\" style=\"width:1%\">&nbsp;</div>\n",
       "        </td>\n",
       "</tr><tr class=\"\">\n",
       "        <td class=\"fillremaining\">651</td>\n",
       "        <td class=\"number\">50</td>\n",
       "        <td class=\"number\">0.5%</td>\n",
       "        <td>\n",
       "            <div class=\"bar\" style=\"width:1%\">&nbsp;</div>\n",
       "        </td>\n",
       "</tr><tr class=\"\">\n",
       "        <td class=\"fillremaining\">683</td>\n",
       "        <td class=\"number\">48</td>\n",
       "        <td class=\"number\">0.5%</td>\n",
       "        <td>\n",
       "            <div class=\"bar\" style=\"width:1%\">&nbsp;</div>\n",
       "        </td>\n",
       "</tr><tr class=\"\">\n",
       "        <td class=\"fillremaining\">660</td>\n",
       "        <td class=\"number\">48</td>\n",
       "        <td class=\"number\">0.5%</td>\n",
       "        <td>\n",
       "            <div class=\"bar\" style=\"width:1%\">&nbsp;</div>\n",
       "        </td>\n",
       "</tr><tr class=\"other\">\n",
       "        <td class=\"fillremaining\">Other values (450)</td>\n",
       "        <td class=\"number\">9296</td>\n",
       "        <td class=\"number\">93.0%</td>\n",
       "        <td>\n",
       "            <div class=\"bar\" style=\"width:100%\">&nbsp;</div>\n",
       "        </td>\n",
       "</tr>\n",
       "</table>\n",
       "        </div>\n",
       "        <div role=\"tabpanel\" class=\"tab-pane col-md-12\"  id=\"extreme-7112521967912181854\">\n",
       "            <p class=\"h4\">Minimum 5 values</p>\n",
       "            \n",
       "<table class=\"freq table table-hover\">\n",
       "    <thead>\n",
       "    <tr>\n",
       "        <td class=\"fillremaining\">Value</td>\n",
       "        <td class=\"number\">Count</td>\n",
       "        <td class=\"number\">Frequency (%)</td>\n",
       "        <td style=\"min-width:200px\">&nbsp;</td>\n",
       "    </tr>\n",
       "    </thead>\n",
       "    <tr class=\"\">\n",
       "        <td class=\"fillremaining\">350</td>\n",
       "        <td class=\"number\">5</td>\n",
       "        <td class=\"number\">0.1%</td>\n",
       "        <td>\n",
       "            <div class=\"bar\" style=\"width:100%\">&nbsp;</div>\n",
       "        </td>\n",
       "</tr><tr class=\"\">\n",
       "        <td class=\"fillremaining\">351</td>\n",
       "        <td class=\"number\">1</td>\n",
       "        <td class=\"number\">0.0%</td>\n",
       "        <td>\n",
       "            <div class=\"bar\" style=\"width:20%\">&nbsp;</div>\n",
       "        </td>\n",
       "</tr><tr class=\"\">\n",
       "        <td class=\"fillremaining\">358</td>\n",
       "        <td class=\"number\">1</td>\n",
       "        <td class=\"number\">0.0%</td>\n",
       "        <td>\n",
       "            <div class=\"bar\" style=\"width:20%\">&nbsp;</div>\n",
       "        </td>\n",
       "</tr><tr class=\"\">\n",
       "        <td class=\"fillremaining\">359</td>\n",
       "        <td class=\"number\">1</td>\n",
       "        <td class=\"number\">0.0%</td>\n",
       "        <td>\n",
       "            <div class=\"bar\" style=\"width:20%\">&nbsp;</div>\n",
       "        </td>\n",
       "</tr><tr class=\"\">\n",
       "        <td class=\"fillremaining\">363</td>\n",
       "        <td class=\"number\">1</td>\n",
       "        <td class=\"number\">0.0%</td>\n",
       "        <td>\n",
       "            <div class=\"bar\" style=\"width:20%\">&nbsp;</div>\n",
       "        </td>\n",
       "</tr>\n",
       "</table>\n",
       "            <p class=\"h4\">Maximum 5 values</p>\n",
       "            \n",
       "<table class=\"freq table table-hover\">\n",
       "    <thead>\n",
       "    <tr>\n",
       "        <td class=\"fillremaining\">Value</td>\n",
       "        <td class=\"number\">Count</td>\n",
       "        <td class=\"number\">Frequency (%)</td>\n",
       "        <td style=\"min-width:200px\">&nbsp;</td>\n",
       "    </tr>\n",
       "    </thead>\n",
       "    <tr class=\"\">\n",
       "        <td class=\"fillremaining\">846</td>\n",
       "        <td class=\"number\">5</td>\n",
       "        <td class=\"number\">0.1%</td>\n",
       "        <td>\n",
       "            <div class=\"bar\" style=\"width:3%\">&nbsp;</div>\n",
       "        </td>\n",
       "</tr><tr class=\"\">\n",
       "        <td class=\"fillremaining\">847</td>\n",
       "        <td class=\"number\">6</td>\n",
       "        <td class=\"number\">0.1%</td>\n",
       "        <td>\n",
       "            <div class=\"bar\" style=\"width:3%\">&nbsp;</div>\n",
       "        </td>\n",
       "</tr><tr class=\"\">\n",
       "        <td class=\"fillremaining\">848</td>\n",
       "        <td class=\"number\">5</td>\n",
       "        <td class=\"number\">0.1%</td>\n",
       "        <td>\n",
       "            <div class=\"bar\" style=\"width:3%\">&nbsp;</div>\n",
       "        </td>\n",
       "</tr><tr class=\"\">\n",
       "        <td class=\"fillremaining\">849</td>\n",
       "        <td class=\"number\">8</td>\n",
       "        <td class=\"number\">0.1%</td>\n",
       "        <td>\n",
       "            <div class=\"bar\" style=\"width:4%\">&nbsp;</div>\n",
       "        </td>\n",
       "</tr><tr class=\"\">\n",
       "        <td class=\"fillremaining\">850</td>\n",
       "        <td class=\"number\">233</td>\n",
       "        <td class=\"number\">2.3%</td>\n",
       "        <td>\n",
       "            <div class=\"bar\" style=\"width:100%\">&nbsp;</div>\n",
       "        </td>\n",
       "</tr>\n",
       "</table>\n",
       "        </div>\n",
       "    </div>\n",
       "</div>\n",
       "</div><div class=\"row variablerow\">\n",
       "    <div class=\"col-md-3 namecol\">\n",
       "        <p class=\"h4 pp-anchor\" id=\"pp_var_Geography\">Geography<br/>\n",
       "            <small>Categorical</small>\n",
       "        </p>\n",
       "    </div><div class=\"col-md-3\">\n",
       "    <table class=\"stats \">\n",
       "        <tr class=\"\">\n",
       "            <th>Distinct count</th>\n",
       "            <td>3</td>\n",
       "        </tr>\n",
       "        <tr>\n",
       "            <th>Unique (%)</th>\n",
       "            <td>0.0%</td>\n",
       "        </tr>\n",
       "        <tr class=\"ignore\">\n",
       "            <th>Missing (%)</th>\n",
       "            <td>0.0%</td>\n",
       "        </tr>\n",
       "        <tr class=\"ignore\">\n",
       "            <th>Missing (n)</th>\n",
       "            <td>0</td>\n",
       "        </tr>\n",
       "    </table>\n",
       "</div>\n",
       "<div class=\"col-md-6 collapse in\" id=\"minifreqtable-5097539849141061422\">\n",
       "    <table class=\"mini freq\">\n",
       "        <tr class=\"\">\n",
       "    <th>France</th>\n",
       "    <td>\n",
       "        <div class=\"bar\" style=\"width:100%\" data-toggle=\"tooltip\" data-placement=\"right\" data-html=\"true\"\n",
       "             data-delay=500 title=\"Percentage: 50.1%\">\n",
       "            5014\n",
       "        </div>\n",
       "        \n",
       "    </td>\n",
       "</tr><tr class=\"\">\n",
       "    <th>Germany</th>\n",
       "    <td>\n",
       "        <div class=\"bar\" style=\"width:50%\" data-toggle=\"tooltip\" data-placement=\"right\" data-html=\"true\"\n",
       "             data-delay=500 title=\"Percentage: 25.1%\">\n",
       "            2509\n",
       "        </div>\n",
       "        \n",
       "    </td>\n",
       "</tr><tr class=\"\">\n",
       "    <th>Spain</th>\n",
       "    <td>\n",
       "        <div class=\"bar\" style=\"width:49%\" data-toggle=\"tooltip\" data-placement=\"right\" data-html=\"true\"\n",
       "             data-delay=500 title=\"Percentage: 24.8%\">\n",
       "            2477\n",
       "        </div>\n",
       "        \n",
       "    </td>\n",
       "</tr>\n",
       "    </table>\n",
       "</div>\n",
       "<div class=\"col-md-12 text-right\">\n",
       "    <a role=\"button\" data-toggle=\"collapse\" data-target=\"#freqtable-5097539849141061422, #minifreqtable-5097539849141061422\"\n",
       "       aria-expanded=\"true\" aria-controls=\"collapseExample\">\n",
       "        Toggle details\n",
       "    </a>\n",
       "</div>\n",
       "<div class=\"col-md-12 extrapadding collapse\" id=\"freqtable-5097539849141061422\">\n",
       "    \n",
       "<table class=\"freq table table-hover\">\n",
       "    <thead>\n",
       "    <tr>\n",
       "        <td class=\"fillremaining\">Value</td>\n",
       "        <td class=\"number\">Count</td>\n",
       "        <td class=\"number\">Frequency (%)</td>\n",
       "        <td style=\"min-width:200px\">&nbsp;</td>\n",
       "    </tr>\n",
       "    </thead>\n",
       "    <tr class=\"\">\n",
       "        <td class=\"fillremaining\">France</td>\n",
       "        <td class=\"number\">5014</td>\n",
       "        <td class=\"number\">50.1%</td>\n",
       "        <td>\n",
       "            <div class=\"bar\" style=\"width:100%\">&nbsp;</div>\n",
       "        </td>\n",
       "</tr><tr class=\"\">\n",
       "        <td class=\"fillremaining\">Germany</td>\n",
       "        <td class=\"number\">2509</td>\n",
       "        <td class=\"number\">25.1%</td>\n",
       "        <td>\n",
       "            <div class=\"bar\" style=\"width:50%\">&nbsp;</div>\n",
       "        </td>\n",
       "</tr><tr class=\"\">\n",
       "        <td class=\"fillremaining\">Spain</td>\n",
       "        <td class=\"number\">2477</td>\n",
       "        <td class=\"number\">24.8%</td>\n",
       "        <td>\n",
       "            <div class=\"bar\" style=\"width:49%\">&nbsp;</div>\n",
       "        </td>\n",
       "</tr>\n",
       "</table>\n",
       "</div>\n",
       "</div><div class=\"row variablerow\">\n",
       "    <div class=\"col-md-3 namecol\">\n",
       "        <p class=\"h4 pp-anchor\" id=\"pp_var_Gender\">Gender<br/>\n",
       "            <small>Categorical</small>\n",
       "        </p>\n",
       "    </div><div class=\"col-md-3\">\n",
       "    <table class=\"stats \">\n",
       "        <tr class=\"\">\n",
       "            <th>Distinct count</th>\n",
       "            <td>2</td>\n",
       "        </tr>\n",
       "        <tr>\n",
       "            <th>Unique (%)</th>\n",
       "            <td>0.0%</td>\n",
       "        </tr>\n",
       "        <tr class=\"ignore\">\n",
       "            <th>Missing (%)</th>\n",
       "            <td>0.0%</td>\n",
       "        </tr>\n",
       "        <tr class=\"ignore\">\n",
       "            <th>Missing (n)</th>\n",
       "            <td>0</td>\n",
       "        </tr>\n",
       "    </table>\n",
       "</div>\n",
       "<div class=\"col-md-6 collapse in\" id=\"minifreqtable-8598470298969404224\">\n",
       "    <table class=\"mini freq\">\n",
       "        <tr class=\"\">\n",
       "    <th>Male</th>\n",
       "    <td>\n",
       "        <div class=\"bar\" style=\"width:100%\" data-toggle=\"tooltip\" data-placement=\"right\" data-html=\"true\"\n",
       "             data-delay=500 title=\"Percentage: 54.6%\">\n",
       "            5457\n",
       "        </div>\n",
       "        \n",
       "    </td>\n",
       "</tr><tr class=\"\">\n",
       "    <th>Female</th>\n",
       "    <td>\n",
       "        <div class=\"bar\" style=\"width:83%\" data-toggle=\"tooltip\" data-placement=\"right\" data-html=\"true\"\n",
       "             data-delay=500 title=\"Percentage: 45.4%\">\n",
       "            4543\n",
       "        </div>\n",
       "        \n",
       "    </td>\n",
       "</tr>\n",
       "    </table>\n",
       "</div>\n",
       "<div class=\"col-md-12 text-right\">\n",
       "    <a role=\"button\" data-toggle=\"collapse\" data-target=\"#freqtable-8598470298969404224, #minifreqtable-8598470298969404224\"\n",
       "       aria-expanded=\"true\" aria-controls=\"collapseExample\">\n",
       "        Toggle details\n",
       "    </a>\n",
       "</div>\n",
       "<div class=\"col-md-12 extrapadding collapse\" id=\"freqtable-8598470298969404224\">\n",
       "    \n",
       "<table class=\"freq table table-hover\">\n",
       "    <thead>\n",
       "    <tr>\n",
       "        <td class=\"fillremaining\">Value</td>\n",
       "        <td class=\"number\">Count</td>\n",
       "        <td class=\"number\">Frequency (%)</td>\n",
       "        <td style=\"min-width:200px\">&nbsp;</td>\n",
       "    </tr>\n",
       "    </thead>\n",
       "    <tr class=\"\">\n",
       "        <td class=\"fillremaining\">Male</td>\n",
       "        <td class=\"number\">5457</td>\n",
       "        <td class=\"number\">54.6%</td>\n",
       "        <td>\n",
       "            <div class=\"bar\" style=\"width:100%\">&nbsp;</div>\n",
       "        </td>\n",
       "</tr><tr class=\"\">\n",
       "        <td class=\"fillremaining\">Female</td>\n",
       "        <td class=\"number\">4543</td>\n",
       "        <td class=\"number\">45.4%</td>\n",
       "        <td>\n",
       "            <div class=\"bar\" style=\"width:83%\">&nbsp;</div>\n",
       "        </td>\n",
       "</tr>\n",
       "</table>\n",
       "</div>\n",
       "</div><div class=\"row variablerow\">\n",
       "    <div class=\"col-md-3 namecol\">\n",
       "        <p class=\"h4 pp-anchor\" id=\"pp_var_Age\">Age<br/>\n",
       "            <small>Numeric</small>\n",
       "        </p>\n",
       "    </div><div class=\"col-md-6\">\n",
       "    <div class=\"row\">\n",
       "        <div class=\"col-sm-6\">\n",
       "            <table class=\"stats \">\n",
       "                <tr>\n",
       "                    <th>Distinct count</th>\n",
       "                    <td>70</td>\n",
       "                </tr>\n",
       "                <tr>\n",
       "                    <th>Unique (%)</th>\n",
       "                    <td>0.7%</td>\n",
       "                </tr>\n",
       "                <tr class=\"ignore\">\n",
       "                    <th>Missing (%)</th>\n",
       "                    <td>0.0%</td>\n",
       "                </tr>\n",
       "                <tr class=\"ignore\">\n",
       "                    <th>Missing (n)</th>\n",
       "                    <td>0</td>\n",
       "                </tr>\n",
       "                <tr class=\"ignore\">\n",
       "                    <th>Infinite (%)</th>\n",
       "                    <td>0.0%</td>\n",
       "                </tr>\n",
       "                <tr class=\"ignore\">\n",
       "                    <th>Infinite (n)</th>\n",
       "                    <td>0</td>\n",
       "                </tr>\n",
       "            </table>\n",
       "\n",
       "        </div>\n",
       "        <div class=\"col-sm-6\">\n",
       "            <table class=\"stats \">\n",
       "\n",
       "                <tr>\n",
       "                    <th>Mean</th>\n",
       "                    <td>38.922</td>\n",
       "                </tr>\n",
       "                <tr>\n",
       "                    <th>Minimum</th>\n",
       "                    <td>18</td>\n",
       "                </tr>\n",
       "                <tr>\n",
       "                    <th>Maximum</th>\n",
       "                    <td>92</td>\n",
       "                </tr>\n",
       "                <tr class=\"ignore\">\n",
       "                    <th>Zeros (%)</th>\n",
       "                    <td>0.0%</td>\n",
       "                </tr>\n",
       "            </table>\n",
       "        </div>\n",
       "    </div>\n",
       "</div>\n",
       "<div class=\"col-md-3 collapse in\" id=\"minihistogram1012038283183272403\">\n",
       "    <img src=\"data:image/png;base64,iVBORw0KGgoAAAANSUhEUgAAAMgAAABLCAYAAAA1fMjoAAAAOXRFWHRTb2Z0d2FyZQBNYXRwbG90bGliIHZlcnNpb24zLjUuMSwgaHR0cHM6Ly9tYXRwbG90bGliLm9yZy/YYfK9AAAACXBIWXMAAA9hAAAPYQGoP6dpAAABMElEQVR4nO3d0Y2CQBRAUTVb0hZhT37b0xaxPY0NmBs0QUY4559kfm6GRxg4jzHGCXjqsvUCYGY/Wy9gK7%2B3v5ev%2Bb9fV1gJM7ODQBAIBIFAEAgEgUAQCASBQBAIBIFAEAgEgUAQCASBQBAIBIFAEAgEgUAQCIRdHLl95/gsLGEHgSAQCAKBsIsZ5FNenXV8Juj72UEgCASCQCAIBIJAIAgEgkAgCASCQCAIBIJAIAgEgpcVV%2BQ/iN/PDgJBIBCmu8VyvpyZTBfI0Zlb5uIWC4JAIAgEghlkB3xMYj0COSAPApYTCIscNarzGGNsvQiYlSEdgkAgCASCQCAIBIJAIAgEgkAgCASCQCAIBIJAIAgEgkAgCASCQCAIBIJAIAgEgkAgCASCQCAIBIJAIAgEwgN56SBtJAV9FAAAAABJRU5ErkJggg%3D%3D\">\n",
       "\n",
       "</div>\n",
       "<div class=\"col-md-12 text-right\">\n",
       "    <a role=\"button\" data-toggle=\"collapse\" data-target=\"#descriptives1012038283183272403,#minihistogram1012038283183272403\"\n",
       "       aria-expanded=\"false\" aria-controls=\"collapseExample\">\n",
       "        Toggle details\n",
       "    </a>\n",
       "</div>\n",
       "<div class=\"row collapse col-md-12\" id=\"descriptives1012038283183272403\">\n",
       "    <ul class=\"nav nav-tabs\" role=\"tablist\">\n",
       "        <li role=\"presentation\" class=\"active\"><a href=\"#quantiles1012038283183272403\"\n",
       "                                                  aria-controls=\"quantiles1012038283183272403\" role=\"tab\"\n",
       "                                                  data-toggle=\"tab\">Statistics</a></li>\n",
       "        <li role=\"presentation\"><a href=\"#histogram1012038283183272403\" aria-controls=\"histogram1012038283183272403\"\n",
       "                                   role=\"tab\" data-toggle=\"tab\">Histogram</a></li>\n",
       "        <li role=\"presentation\"><a href=\"#common1012038283183272403\" aria-controls=\"common1012038283183272403\"\n",
       "                                   role=\"tab\" data-toggle=\"tab\">Common Values</a></li>\n",
       "        <li role=\"presentation\"><a href=\"#extreme1012038283183272403\" aria-controls=\"extreme1012038283183272403\"\n",
       "                                   role=\"tab\" data-toggle=\"tab\">Extreme Values</a></li>\n",
       "\n",
       "    </ul>\n",
       "\n",
       "    <div class=\"tab-content\">\n",
       "        <div role=\"tabpanel\" class=\"tab-pane active row\" id=\"quantiles1012038283183272403\">\n",
       "            <div class=\"col-md-4 col-md-offset-1\">\n",
       "                <p class=\"h4\">Quantile statistics</p>\n",
       "                <table class=\"stats indent\">\n",
       "                    <tr>\n",
       "                        <th>Minimum</th>\n",
       "                        <td>18</td>\n",
       "                    </tr>\n",
       "                    <tr>\n",
       "                        <th>5-th percentile</th>\n",
       "                        <td>25</td>\n",
       "                    </tr>\n",
       "                    <tr>\n",
       "                        <th>Q1</th>\n",
       "                        <td>32</td>\n",
       "                    </tr>\n",
       "                    <tr>\n",
       "                        <th>Median</th>\n",
       "                        <td>37</td>\n",
       "                    </tr>\n",
       "                    <tr>\n",
       "                        <th>Q3</th>\n",
       "                        <td>44</td>\n",
       "                    </tr>\n",
       "                    <tr>\n",
       "                        <th>95-th percentile</th>\n",
       "                        <td>60</td>\n",
       "                    </tr>\n",
       "                    <tr>\n",
       "                        <th>Maximum</th>\n",
       "                        <td>92</td>\n",
       "                    </tr>\n",
       "                    <tr>\n",
       "                        <th>Range</th>\n",
       "                        <td>74</td>\n",
       "                    </tr>\n",
       "                    <tr>\n",
       "                        <th>Interquartile range</th>\n",
       "                        <td>12</td>\n",
       "                    </tr>\n",
       "                </table>\n",
       "            </div>\n",
       "            <div class=\"col-md-4 col-md-offset-2\">\n",
       "                <p class=\"h4\">Descriptive statistics</p>\n",
       "                <table class=\"stats indent\">\n",
       "                    <tr>\n",
       "                        <th>Standard deviation</th>\n",
       "                        <td>10.488</td>\n",
       "                    </tr>\n",
       "                    <tr>\n",
       "                        <th>Coef of variation</th>\n",
       "                        <td>0.26946</td>\n",
       "                    </tr>\n",
       "                    <tr>\n",
       "                        <th>Kurtosis</th>\n",
       "                        <td>1.3953</td>\n",
       "                    </tr>\n",
       "                    <tr>\n",
       "                        <th>Mean</th>\n",
       "                        <td>38.922</td>\n",
       "                    </tr>\n",
       "                    <tr>\n",
       "                        <th>MAD</th>\n",
       "                        <td>7.941</td>\n",
       "                    </tr>\n",
       "                    <tr class=\"\">\n",
       "                        <th>Skewness</th>\n",
       "                        <td>1.0113</td>\n",
       "                    </tr>\n",
       "                    <tr>\n",
       "                        <th>Sum</th>\n",
       "                        <td>389218</td>\n",
       "                    </tr>\n",
       "                    <tr>\n",
       "                        <th>Variance</th>\n",
       "                        <td>109.99</td>\n",
       "                    </tr>\n",
       "                    <tr>\n",
       "                        <th>Memory size</th>\n",
       "                        <td>78.2 KiB</td>\n",
       "                    </tr>\n",
       "                </table>\n",
       "            </div>\n",
       "        </div>\n",
       "        <div role=\"tabpanel\" class=\"tab-pane col-md-8 col-md-offset-2\" id=\"histogram1012038283183272403\">\n",
       "            <img src=\"data:image/png;base64,iVBORw0KGgoAAAANSUhEUgAAAlgAAAGQCAYAAAByNR6YAAAAOXRFWHRTb2Z0d2FyZQBNYXRwbG90bGliIHZlcnNpb24zLjUuMSwgaHR0cHM6Ly9tYXRwbG90bGliLm9yZy/YYfK9AAAACXBIWXMAAA9hAAAPYQGoP6dpAAA2SklEQVR4nO3deXhU9d3%2B8TuLCUsyWZDEFqmhbCUk7BAbkEAQEFBQBEKsAoqWJRoTQbGgqAUFCxQocCG01aeIfZyCaIGCoLKomNa6oJMAKkEqpGBGmCEkJCHL%2Bf3RH/N0WCSSkxlm5v26rlzI9zvL53YmenPOYRJkGIYhAAAAmCbY2wMAAAD4GwoWAACAyShYAAAAJqNgAQAAmIyCBQAAYDIKFgAAgMkoWAAAACajYAEAAJiMggUAAGAyChYAAIDJKFgAAAAmo2ABAACYjIIFAABgMgoWAACAyShYAAAAJqNgAQAAmIyCBQAAYDIKFgAAgMkoWAAAACajYAEAAJiMggUAAGAyChYAAIDJKFgAAAAmo2ABAACYjIIFAABgMgoWAACAyShYAAAAJqNgAQAAmIyCBQAAYDIKFgAAgMkoWAAAACajYAEAAJiMggUAAGAyChYAAIDJKFgAAAAmo2ABAACYjIIFAABgMgoWAACAyShYAAAAJgv19gCBwm4/7e0RFBwcpNjYpjp5sky1tYa3x2lQZPVPgZI1UHJKZPVXV1PW5s0jvfK8HMEKIMHBQQoKClJwcJC3R2lwZPVPgZI1UHJKZPVXgZT1UihYAAAAJqNgAQAAmIyCBQAAYDIKFgAAgMkoWAAAACajYAEAAJiMggUAAGAyChYAAIDJKFgAAAAmo2ABAACYjIIFAABgMgoWAACAyShYAAAAJgv19gDA1WrIkj3eHuEHeWv6Td4eAQDw/3EECwAAwGQULAAAAJNRsAAAAExGwQIAADAZBQsAAMBkFCwAAACT%2BWzBOnDggMaPH6/u3bsrNTVVOTk5stvt%2Bsc//qH27dsrOTnZ7Wvr1q2u%2B65Zs0aDBw9Wt27dlJmZqfz8fNdeZWWlZs%2Berb59%2ByolJUXZ2dlyOBzeiAgAAHyUTxass2fP6r777lOvXr2Ul5enzZs368SJE3r66aclSS1atJDNZnP7GjJkiCRpx44dWrZsmX7zm9/ogw8%2BUP/%2B/TV58mSdOXNGkrR48WIVFBTIarVq27ZtMgxDv/rVr7wVFQAA%2BCCfLFjl5eXKzc3VpEmTFBYWptjYWA0cOFBfffXVZe9rtVo1cuRIde7cWY0aNdL9998vSdq5c6eqq6u1fv16TZ06VT/60Y8UHR2tnJwc7dq1S99%2B%2B21DxwIAAH7CJz/JPSoqSqNHj3b9/tChQ3r99dddR6nKysqUlZWljz76SGFhYbrvvvs0YcIEBQUFqaCgQEOHDnXdNzg4WB06dJDNZlOHDh10%2BvRpdezY0bXfunVrNWrUSAUFBYqPj6/TfMXFxbLb7W5roaFNFBcXV5/Y9RYSEuz2qz8LpKznBELWQHldAyWnRFZ/FUhZL8UnC9Y5RUVFGjx4sKqrqzVmzBhlZ2frwIEDateuncaPH6/Fixfrww8/1MMPP6zIyEiNGjVKTqdTUVFRbo8TFRUlh8Mhp9MpSbJYLG77FovlB12HZbVatXz5cre1rKwsZWdnX1lQk1ksjb09gseQ1T8FStZAySmR1V8FUtbz%2BXTBOnet1b/%2B9S/Nnj1bjz32mBYtWqSXX37ZdZs%2Bffpo7Nix2rBhg0aNGiVJMgzjex/3cvuXk5GRofT0dLe10NAmcjjK6vW49RUSEiyLpbFKSspVU1Pr1VkaWiBlPScQsgbK6xooOSWy%2BqurKWtMTFOvPK9PFyxJCgoKUkJCgnJzczV27FjNmjVLsbGxbrdp0aKFtm3bJkmKiYlxHak6x%2Bl0qm3btq77OZ1ONW36fy/IqVOn1KxZszrPFBcXd8HpQLv9tKqrr45vqJqa2qtmloZGVv8UKFkDJadEVn8VSFnP55MnR/Py8jR48GDV1v7fixYc/J8ou3fv1p///Ge32x86dEgtW7aUJCUlJamgoMC1V1NTo3379qlz585q2bKloqKi3Pa//PJLnT17VklJSQ0ZCQAA%2BBGfLFhJSUkqLS3VggULVF5erpMnT2rZsmXq0aOHIiMj9fzzz%2Bv9999XVVWV9uzZo9dee02ZmZmSpMzMTL3xxhvau3evysvLtXLlSoWFhalfv34KCQnRmDFj9MILL%2BjYsWNyOBz67W9/q4EDB%2Braa6/1cmoAAOArfPIUYWRkpF588UXNnTtXN954o5o0aaIbb7xRzz77rOLj4zVz5kzNmTNHx44d07XXXquZM2dq0KBBkqS%2BffvqkUceUU5Ojk6cOKHk5GStXr1ajRo1kiRlZ2errKxMI0aMUHV1tfr37%2B/6fC0AAIC6CDLqe0U36sRuP%2B3tERQaGqyYmKZyOMr8/py4GVmHLNlj8lQN663pN/G6%2BolAySmR1V9dTVmbN4/0yvP65ClCAACAqxkFCwAAwGQULAAAAJNRsAAAAExGwQIAADAZBQsAAMBkFCwAAACTUbAAAABMRsECAAAwGQULAADAZBQsAAAAk1GwAAAATEbBAgAAMBkFCwAAwGQULAAAAJNRsAAAAExGwQIAADAZBQsAAMBkFCwAAACTUbAAAABMRsECAAAwGQULAADAZBQsAAAAk1GwAAAATEbBAgAAMBkFCwAAwGQULAAAAJNRsAAAAExGwQIAADAZBQsAAMBkFCwAAACT%2BWzBOnDggMaPH6/u3bsrNTVVOTk5stvtkqS8vDyNGjVK3bp107Bhw7Rx40a3%2B65Zs0aDBw9Wt27dlJmZqfz8fNdeZWWlZs%2Berb59%2ByolJUXZ2dlyOBwezQYAAHybTxass2fP6r777lOvXr2Ul5enzZs368SJE3r66adVXFysqVOnauzYscrLy9OsWbP05JNPymazSZJ27NihZcuW6Te/%2BY0%2B%2BOAD9e/fX5MnT9aZM2ckSYsXL1ZBQYGsVqu2bdsmwzD0q1/9yptxAQCAj/HJglVeXq7c3FxNmjRJYWFhio2N1cCBA/XVV19p06ZNSkhI0KhRoxQeHq7U1FSlp6dr3bp1kiSr1aqRI0eqc%2BfOatSoke6//35J0s6dO1VdXa3169dr6tSp%2BtGPfqTo6Gjl5ORo165d%2Bvbbb70ZGQAA%2BJBQbw9wJaKiojR69GjX7w8dOqTXX39dQ4YMUUFBgRITE91un5iYqK1bt0qSCgoKNHToUNdecHCwOnToIJvNpg4dOuj06dPq2LGja79169Zq1KiRCgoKFB8fX6f5iouLXacrzwkNbaK4uLgfnNVMISHBbr/6s0DKek4gZA2U1zVQckpk9VeBlPVSfLJgnVNUVKTBgwerurpaY8aMUXZ2th544IELilB0dLTrOiqn06moqCi3/aioKDkcDjmdTkmSxWJx27dYLD/oOiyr1arly5e7rWVlZSk7O7vOj9GQLJbG3h7BY8jqnwIla6DklMjqrwIp6/l8umC1aNFCNptN//rXvzR79mw99thjdbqfYRj12r%2BcjIwMpaenu62FhjaRw1FWr8etr5CQYFksjVVSUq6amlqvztLQAinrOYGQNVBe10DJKZHVX11NWWNimnrleX26YElSUFCQEhISlJubq7FjxyotLc11JOoch8Oh2NhYSVJMTMwF%2B06nU23btnXdxul0qmnT/3tBTp06pWbNmtV5pri4uAtOB9rtp1VdfXV8Q9XU1F41szQ0svqnQMkaKDklsvqrQMp6Pp88OZqXl6fBgwertvb/XrTg4P9E6dSpk9vHLkhSfn6%2BOnfuLElKSkpSQUGBa6%2Bmpkb79u1T586d1bJlS0VFRbntf/nllzp79qySkpIaMhIAAPAjPlmwkpKSVFpaqgULFqi8vFwnT57UsmXL1KNHD2VmZqqoqEjr1q1TZWWldu/erd27d2vMmDGSpMzMTL3xxhvau3evysvLtXLlSoWFhalfv34KCQnRmDFj9MILL%2BjYsWNyOBz67W9/q4EDB%2Braa6/1cmoAAOArfPIUYWRkpF588UXNnTtXN954o5o0aaIbb7xRzz77rJo1a6ZVq1Zp7ty5euaZZ9SiRQstWLBAP/vZzyRJffv21SOPPKKcnBydOHFCycnJWr16tRo1aiRJys7OVllZmUaMGKHq6mr1799fTz/9tBfTAgAAXxNk1PeKbtSJ3X7a2yMoNDRYMTFN5XCU%2Bf05cTOyDlmyx%2BSpGtZb02/idfUTgZJTIqu/upqyNm8e6ZXn9clThAAAAFczChYAAIDJKFgAAAAmo2ABAACYjIIFAABgMgoWAACAyShYAAAAJqNgAQAAmIyCBQAAYDIKFgAAgMkoWAAAACajYAEAAJiMggUAAGAyChYAAIDJKFgAAAAmo2ABAACYjIIFAABgMgoWAACAyShYAAAAJqNgAQAAmIyCBQAAYDIKFgAAgMkoWAAAACajYAEAAJiMggUAAGAyChYAAIDJKFgAAAAmo2ABAACYjIIFAABgMgoWAACAyShYAAAAJvPZglVUVKSsrCylpKQoNTVVjz/%2BuEpKSnT06FG1b99eycnJbl9//OMfXffdsmWLbrvtNnXt2lUjR47U%2B%2B%2B/79qrra3V4sWLNWDAAPXs2VMTJ07UkSNHvBERAAD4KJ8tWJMnT5bFYtGOHTu0YcMGffXVV3r%2B%2Bedd%2Bzabze1r4sSJkqT9%2B/drxowZmj59uv7%2B979rwoQJevDBB3X8%2BHFJ0iuvvKJNmzZp9erV2rlzpxISEpSVlSXDMLySEwAA%2BB6fLFglJSVKSkrStGnT1LRpU1133XW644479NFHH132vuvWrVNaWprS0tIUHh6u4cOHq127dtq4caMkyWq1asKECWrdurUiIiKUm5urwsJCffbZZw0dCwAA%2BIlQbw9wJSwWi%2BbNm%2Be2duzYMcXFxbl%2B/9hjj%2BmDDz5QdXW1Ro8erezsbF1zzTUqKChQWlqa230TExNls9lUUVGhgwcPKjEx0bUXERGhG264QTabTV26dKnTfMXFxbLb7W5roaFN3ObzhpCQYLdf/VkgZT0nELIGyusaKDklsvqrQMp6KT5ZsM5ns9m0du1arVy5UmFhYeratasGDhyoZ599Vvv379dDDz2k0NBQPfzww3I6nYqKinK7f1RUlA4ePKhTp07JMIyL7jscjjrPY7VatXz5cre1rKwsZWdnX3lIE1ksjb09gseQ1T8FStZAySmR1V8FUtbz%2BXzB%2BvjjjzVlyhRNmzZNqampkqRXX33Vtd%2BpUydNmjRJq1at0sMPPyxJl72eqr7XW2VkZCg9Pd1tLTS0iRyOsno9bn2FhATLYmmskpJy1dTUenWWhhZIWc8JhKyB8roGSk6JrP7qasoaE9PUK8/r0wVrx44devTRR/Xkk0/q9ttvv%2BTtWrRooe%2B%2B%2B06GYSgmJkZOp9Nt3%2Bl0KjY2VtHR0QoODr7ofrNmzeo8V1xc3AWnA%2B3206quvjq%2BoWpqaq%2BaWRoaWf1ToGQNlJwSWf1VIGU9n8%2BeHP3kk080Y8YMLV261K1c5eXlaeXKlW63PXTokFq0aKGgoCAlJSUpPz/fbd9ms6lz584KDw9X27ZtVVBQ4NorKSnRN998o06dOjVoHgAA4D98smBVV1friSee0PTp09WnTx%2B3vcjISK1YsUJ//etfVVVVJZvNpj/%2B8Y/KzMyUJI0ZM0YffPCBdu3apcrKSq1fv16HDx/W8OHDJUmZmZlas2aNCgsLVVpaqoULF6pDhw5KTk72eE4AAOCbfPIU4d69e1VYWKi5c%2Bdq7ty5bntvvvmmFi9erOXLl2v27NmKjIzUPffco/Hjx0uS2rVrp4ULF2revHkqKipSmzZttGrVKjVv3lySNHbsWNntdt1zzz0qKytTSkrKBResAwAAfJ8gg0/Q9Ai7/bS3R1BoaLBiYprK4Sjz%2B3PiZmQdsmSPyVM1rLem38Tr6icCJadEVn91NWVt3jzSK8/rk6cIAQAArmYULAAAAJNRsAAAAExGwQIAADAZBQsAAMBkFCwAAACTUbAAAABMRsECAAAwGQULAADAZBQsAAAAk3m8YKWnp2v58uU6duyYp58aAADAIzxesO68805t2bJFN998s%2B6//35t375d1dXVnh4DAACgwXi8YGVlZWnLli36y1/%2BorZt2%2Bq5555TWlqaFixYoK%2B//trT4wAAAJjOa9dgdezYUTNmzNDOnTs1c%2BZM/eUvf9HQoUM1ceJEff75594aCwAAoN68VrCqqqq0ZcsWPfDAA5oxY4bi4%2BP1q1/9Sh06dNCECRO0adMmb40GAABQL6GefsLCwkKtX79eb7zxhsrKyjR48GD96U9/Uvfu3V236dmzp55%2B%2Bmnddtttnh4PAACg3jxesIYNG6ZWrVpp0qRJuv322xUdHX3BbdLS0nTy5ElPjwYAAGAKjxesNWvWqFevXpe93WeffeaBaQAAAMzn8Wuw2rdvr8mTJ%2Bvtt992rf3P//yPHnjgATmdTk%2BPAwAAYDqPF6x58%2Bbp9OnTatOmjWutX79%2Bqq2t1fz58z09DgAAgOk8forw/fff16ZNmxQTE%2BNaS0hI0MKFC3Xrrbd6ehx40JAle7w9AgAAHuHxI1gVFRUKDw%2B/cJDgYJWXl3t6HAAAANN5vGD17NlT8%2BfP16lTp1xr3377rZ555hm3j2oAAADwVR4/RThz5kzdd999%2BvnPf66IiAjV1taqrKxMLVu21Msvv%2BzpcQAAAEzn8YLVsmVL/e1vf9O7776rb775RsHBwWrVqpX69OmjkJAQT48DAABgOo8XLEkKCwvTzTff7I2nBgAAaHAeL1hHjhzRokWL9NVXX6miouKC/XfeecfTIwEAAJjKK9dgFRcXq0%2BfPmrSpImnnx4AAKDBebxg5efn65133lFsbKynnxoAAMAjPP4xDc2aNePIFQAA8GseL1iTJk3S8uXLZRiGp58aAADAIzx%2BivDdd9/VJ598og0bNuj6669XcLB7x3v11Vfr9DhFRUV67rnn9NFHHykkJER9%2B/bVzJkzZbFYtH//fj377LPav3%2B/mjVrprFjx%2Bq%2B%2B%2B5z3XfLli1auXKljh49qlatWumRRx5Rnz59JEm1tbVaunSpNm/erJKSEnXq1ElPP/20WrZsad6/BAAA4Nc8fgQrIiJCffv2VVpamlq3bq1WrVq5fdXV5MmTZbFYtGPHDm3YsEFfffWVnn/%2BeVVUVGjSpEm68cYb9d5772nx4sVatWqVtm/fLknav3%2B/ZsyYoenTp%2Bvvf/%2B7JkyYoAcffFDHjx%2BXJL3yyivatGmTVq9erZ07dyohIUFZWVkccQMAAHXm8SNY8%2BbNq/djlJSUKCkpSdOmTVPTpk3VtGlT3XHHHXr55Ze1a9cuVVVVacqUKQoJCVHHjh01evRoWa1WDRo0SOvWrVNaWprS0tIkScOHD9fatWu1ceNG/fKXv5TVatWECRPUunVrSVJubq5SUlL02WefqUuXLvWeHQAA%2BD%2BvfNDooUOH9Le//U3//ve/XYXr008/VdeuXet0f4vFckFRO3bsmOLi4lRQUKD27du7fSp8YmKi1q1bJ0kqKChwlav/3rfZbKqoqNDBgweVmJjo2ouIiNANN9wgm81W54JVXFwsu93uthYa2kRxcXF1un9DCQkJdvsV/iUQXtdAeQ8HSk6JrP4qkLJeiscLVl5enh544AG1atVKhw8f1rx583TkyBGNGzdOS5Ys0YABA37wY9psNq1du1YrV67U1q1bZbFY3Pajo6PldDpVW1srp9OpqKgot/2oqCgdPHhQp06dkmEYF913OBx1nsdqtWr58uVua1lZWcrOzv6ByRqGxdLY2yOgAQTS6xooWQMlp0RWfxVIWc/n8YK1ePFiPfrooxo/frw6deok6T8/n3D%2B/PlasWLFDy5YH3/8saZMmaJp06YpNTVVW7duvejtgoKCXP98ueup6nu9VUZGhtLT093WQkObyOEoq9fj1ldISLAslsYqKSlXTU2tV2eB%2BQLhdQ2U93Cg5JTI6q%2BupqwxMU298rweL1hffvml1q5dK8m99Nxyyy2aOXPmD3qsHTt26NFHH9WTTz6p22%2B/XZIUGxurw4cPu93O6XQqOjpawcHBiomJkdPpvGA/NjbWdZuL7Tdr1qzOc8XFxV1wOtBuP63q6qvjG6qmpvaqmQXmCaTXNVCyBkpOiaz%2BKpCyns/jJ0cjIyMv%2BjMIi4uLFRYWVufH%2BeSTTzRjxgwtXbrUVa4kKSkpSV988YWqq6tdazabTZ07d3bt5%2Bfnuz3Wuf3w8HC1bdtWBQUFrr2SkhJ98803rqNtAAAAl%2BPxgtWtWzc999xzKi0tda19/fXXmjFjhn7%2B85/X6TGqq6v1xBNPaPr06a7PrzonLS1NERERWrlypcrLy/XZZ59p/fr1yszMlCSNGTNGH3zwgXbt2qXKykqtX79ehw8f1vDhwyVJmZmZWrNmjQoLC1VaWqqFCxeqQ4cOSk5ONunfAAAA8HdBhoc/4On48eMaP368jh49qpqaGjVp0kTl5eVq27atXnjhBf34xz%2B%2B7GN89NFH%2BsUvfnHRI15vvvmmysrK9NRTTyk/P1/XXnutHnjgAd11112u22zfvl2LFi1SUVGR2rRpo1mzZqlnz56S/nP91bJly/Tqq6%2BqrKxMKSkp%2BvWvf63rrruuXrnt9tP1ur8ZQkODFRPTVA5HmVcO2Q5ZssfjzxlI3pp%2Bk98fivf2e9hTAiWnRFZ/dTVlbd480ivP6/GCJUlVVVXavXu3vv76azVq1EitWrVS79693a7J8jcULApWQ6Ng%2BY9AySmR1V9dTVm9VbC88jlY11xzjW6%2B%2BWZvPDUAAECD83jBSk9P/94jVe%2B8844HpwEAADCfxwvW0KFD3QpWTU2Nvv76a9lsNo0fP97T4wAAAJjO4wVr%2BvTpF13ftm2b/vGPf3h4GgAAAPN55Rqsi7n55ps1e/ZszZ4929ujAD5p4ML3vD1CnW3N6e3tEQCgQV01P4Vx37599f4RNQAAAFcDjx/BGjt27AVr5eXlKiws1KBBgzw9DgAAgOk8XrASEhIu%2BFuE4eHhGjVqlEaPHu3pcQAAAEzn8YI1f/58Tz8lAACAR3m8YL3xxht1vu1//xBnAAAAX%2BHxgjVr1izV1tZecEF7UFCQ21pQUBAFCwAA%2BCSPF6w//OEPevHFFzV58mS1b99ehmHoiy%2B%2B0O9//3vdfffdSklJ8fRIAAAApvLKNVirV69WfHy8a61Hjx5q2bKlJk6cqM2bN3t6JAAAAFN5/HOwDh8%2BrKioqAvWLRaLioqKPD0OAACA6TxesFq0aKH58%2BfL4XC41kpKSrRo0SL95Cc/8fQ4AAAApvP4KcKZM2dq2rRpslqtatq0qYKDg1VaWqpGjRppxYoVnh4HAADAdB4vWH369NGuXbu0e/duHT9%2BXIZhKD4%2BXjfddJMiIyM9PQ4AAIDpvPLDnhs3bqwBAwbo%2BPHjatmypTdGAAAAaDAevwaroqJCM2bMUNeuXTVkyBBJ/7kG6/7771dJSYmnxwEAADCdxwvWggULtH//fi1cuFDBwf/39DU1NVq4cKGnxwEAADCdxwvWtm3b9Lvf/U633HKL64c%2BWywWzZs3T9u3b/f0OAAAAKbzeMEqKytTQkLCBeuxsbE6c%2BaMp8cBAAAwnccL1k9%2B8hP94x//kCS3nz345ptv6sc//rGnxwEAADCdx/8W4V133aWHHnpId955p2pra/XSSy8pPz9f27Zt06xZszw9DgAAgOk8XrAyMjIUGhqqtWvXKiQkRC%2B88IJatWqlhQsX6pZbbvH0OAAAAKbzeME6efKk7rzzTt15552efmoAAACP8Pg1WAMGDHC79goAAMDfeLxgpaSkaOvWrZ5%2BWgAAAI/x%2BCnCH/3oR3r22We1evVq/eQnP9E111zjtr9o0SJPjwQAAGAqjxesgwcP6qc//akkyeFwePrpAQAAGpzHClZubq4WL16sl19%2B2bW2YsUKZWVleWoEAAAAj/DYNVg7duy4YG316tX1esz33ntPqampys3NdVvfsGGDfvaznyk5Odnt6/PPP5ck1dbWavHixRowYIB69uypiRMn6siRI677O51O5eTkKDU1VX369NGsWbNUUVFRr1kBAEDg8FjButjfHKzP3yb8/e9/r7lz5%2BqGG2646H7Pnj1ls9ncvjp16iRJeuWVV7Rp0yatXr1aO3fuVEJCgrKyslzzPPnkkyovL9fmzZv12muvqbCwkB9EDQAA6sxjBevcD3a%2B3FpdhYeHa/369ZcsWN/HarVqwoQJat26tSIiIpSbm6vCwkJ99tln%2Bu677/T2228rNzdXsbGxio%2BP19SpU/Xaa6%2BpqqrqiucFAACBw%2BMXuZtl3Lhx37t/7Ngx3XvvvcrPz5fFYlF2drZGjBihiooKHTx4UImJia7bRkRE6IYbbpDNZtPp06cVEhKi9u3bu/Y7duyoM2fO6NChQ27rl1JcXCy73e62FhraRHFxcT8wpblCQoLdfgW8JTT0yt6DgfIeDpScEln9VSBlvRSfLVjfJzY2VgkJCXrkkUfUpk0bvfXWW3rssccUFxenn/70pzIMQ1FRUW73iYqKksPhUHR0tCIiItyOrp27bV3/1qPVatXy5cvd1rKyspSdnV3PZOawWBp7ewQEuJiYpvW6f6C8hwMlp0RWfxVIWc/nsYJVVVWladOmXXbNjM/B6tevn/r16%2Bf6/bBhw/TWW29pw4YNmj59uqTvv/6rvp80n5GRofT0dLe10NAmcjjK6vW49RUSEiyLpbFKSspVU1Pr1VkQ2K70eyFQ3sOBklMiq7%2B6mrLW9w90V8pjBat79%2B4qLi6%2B7FpDadGihfLz8xUdHa3g4GA5nU63fafTqWbNmik2NlalpaWqqalRSEiIa0%2BSmjVrVqfniouLu%2BB0oN1%2BWtXVV8c3VE1N7VUzCwJTfd9/gfIeDpScEln9VSBlPZ/HCtZ/f/5VQ/vf//1fRUVFaejQoa61wsJCtWzZUuHh4Wrbtq0KCgrUq1cvSVJJSYm%2B%2BeYbderUSS1atJBhGDpw4IA6duwoSbLZbLJYLGrVqpXHMgAAAN/ll1efnT17VnPmzJHNZlNVVZU2b96sd999V2PHjpUkZWZmas2aNSosLFRpaakWLlyoDh06KDk5WbGxsRo8eLCWLFmikydP6vjx41qxYoVGjRql0FC/vGQNAACYzGcbQ3JysiSpurpakvT2229L%2Bs/RpnHjxqmsrEwPP/yw7Ha7rr/%2Beq1YsUJJSUmSpLFjx8put%2Buee%2B5RWVmZUlJS3C5K//Wvf62nnnpKAwYM0DXXXKNbb731gg8zBQAAuJQgo75XdKNO7PbT3h5BoaHBiolpKoejzCvnxIcs2ePx58TVaWtO7yu6n7ffw54SKDklsvqrqylr8%2BaRXnlevzxFCAAA4E0ULAAAAJNRsAAAAExGwQIAADAZBQsAAMBkFCwAAACTUbAAAABMRsECAAAwGQULAADAZBQsAAAAk1GwAAAATEbBAgAAMBkFCwAAwGQULAAAAJNRsAAAAExGwQIAADAZBQsAAMBkFCwAAACTUbAAAABMRsECAAAwGQULAADAZBQsAAAAk1GwAAAATEbBAgAAMBkFCwAAwGQULAAAAJNRsAAAAExGwQIAADAZBQsAAMBkFCwAAACTUbAAAABM5tMF67333lNqaqpyc3Mv2NuyZYtuu%2B02de3aVSNHjtT777/v2qutrdXixYs1YMAA9ezZUxMnTtSRI0dc%2B06nUzk5OUpNTVWfPn00a9YsVVRUeCQTAADwfT5bsH7/%2B99r7ty5uuGGGy7Y279/v2bMmKHp06fr73//uyZMmKAHH3xQx48flyS98sor2rRpk1avXq2dO3cqISFBWVlZMgxDkvTkk0%2BqvLxcmzdv1muvvabCwkItXLjQo/kAAIDv8tmCFR4ervXr11%2B0YK1bt05paWlKS0tTeHi4hg8frnbt2mnjxo2SJKvVqgkTJqh169aKiIhQbm6uCgsL9dlnn%2Bm7777T22%2B/rdzcXMXGxio%2BPl5Tp07Va6%2B9pqqqKk/HBAAAPijU2wNcqXHjxl1yr6CgQGlpaW5riYmJstlsqqio0MGDB5WYmOjai4iI0A033CCbzabTp08rJCRE7du3d%2B137NhRZ86c0aFDh9zWL6W4uFh2u91tLTS0ieLi4uoar0GEhAS7/Qp4S2jolb0HA%2BU9HCg5JbL6q0DKeik%2BW7C%2Bj9PpVFRUlNtaVFSUDh48qFOnTskwjIvuOxwORUdHKyIiQkFBQW57kuRwOOr0/FarVcuXL3dby8rKUnZ29pXEMZ3F0tjbIyDAxcQ0rdf9A%2BU9HCg5JbL6q0DKej6/LFiSXNdTXcn%2B5e57ORkZGUpPT3dbCw1tIoejrF6PW18hIcGyWBqrpKRcNTW1Xp0Fge1KvxcC5T0cKDklsvqrqylrff9Ad6X8smDFxMTI6XS6rTmdTsXGxio6OlrBwcEX3W/WrJliY2NVWlqqmpoahYSEuPYkqVmzZnV6/ri4uAtOB9rtp1VdfXV8Q9XU1F41syAw1ff9Fyjv4UDJKZHVXwVS1vP55cnRpKQk5efnu63ZbDZ17txZ4eHhatu2rQoKClx7JSUl%2Buabb9SpUyd16NBBhmHowIEDbve1WCxq1aqVxzIAAADf5ZcFa8yYMfrggw%2B0a9cuVVZWav369Tp8%2BLCGDx8uScrMzNSaNWtUWFio0tJSLVy4UB06dFBycrJiY2M1ePBgLVmyRCdPntTx48e1YsUKjRo1SqGhfnnADwAAmMxnG0NycrIkqbq6WpL09ttvS/rP0aZ27dpp4cKFmjdvnoqKitSmTRutWrVKzZs3lySNHTtWdrtd99xzj8rKypSSkuJ2Ufqvf/1rPfXUUxowYICuueYa3XrrrRf9MFMAAICLCTLqe0U36sRuP%2B3tERQaGqyYmKZyOMq8ck58yJI9Hn9OXJ225vS%2Bovt5%2Bz3sKYGSUyKrv7qasjZvHumV5/XLU4QAAADeRMECAAAwGQULAADAZBQsAAAAk1GwAAAATEbBAgAAMBkFCwAAwGQ%2B%2B0GjAHyXr30m2pV%2BbheAwMURLAAAAJNRsAAAAExGwQIAADAZBQsAAMBkFCwAAACTUbAAAABMRsECAAAwGQULAADAZBQsAAAAk1GwAAAATEbBAgAAMBkFCwAAwGQULAAAAJNRsAAAAExGwQIAADAZBQsAAMBkFCwAAACTUbAAAABMFurtAVA/Q5bs8fYIAADgPBzBAgAAMBkFCwAAwGQULAAAAJNRsAAAAEzmtwWrffv2SkpKUnJysutrzpw5kqS8vDyNGjVK3bp107Bhw7Rx40a3%2B65Zs0aDBw9Wt27dlJmZqfz8fG9EAAAAPsqv/xbhm2%2B%2Bqeuvv95trbi4WFOnTtWsWbN022236eOPP9aUKVPUqlUrJScna8eOHVq2bJn%2B8Ic/qH379lqzZo0mT56s7du3q0mTJl5KAgAAfIlfF6yL2bRpkxISEjRq1ChJUmpqqtLT07Vu3TolJyfLarVq5MiR6ty5syTp/vvv15o1a7Rz504NGzbMm6MD8BJf%2BziUrTm9vT0CEPD8umAtWrRIn376qUpLSzVkyBA9/vjjKigoUGJiotvtEhMTtXXrVklSQUGBhg4d6toLDg5Whw4dZLPZ6lywiouLZbfb3dZCQ5soLi6unokA4PJCQ33n6o%2BQkGC3X/0ZWQOL3xasLl26KDU1Vc8//7yOHDminJwcPfPMM3I6nYqPj3e7bXR0tBwOhyTJ6XQqKirKbT8qKsq1XxdWq1XLly93W8vKylJ2dvYVpgGAuouJaertEX4wi6Wxt0fwGLIGBr8tWFar1fXPrVu31vTp0zVlyhR17979svc1DKNez52RkaH09HS3tdDQJnI4yur1uABQF77035qQkGBZLI1VUlKumppab4/ToMjqHd76A4ffFqzzXX/99aqpqVFwcLCcTqfbnsPhUGxsrCQpJibmgn2n06m2bdvW%2Bbni4uIuOB1ot59WdbV/f0MBuDr44n9rampqfXLuK0HWwOCXJ0f37dun%2BfPnu60VFhYqLCxMaWlpF3zsQn5%2Bvuui9qSkJBUUFLj2ampqtG/fPtc%2BAADA5fhlwWrWrJmsVqtWr16ts2fP6uuvv9bSpUuVkZGhESNGqKioSOvWrVNlZaV2796t3bt3a8yYMZKkzMxMvfHGG9q7d6/Ky8u1cuVKhYWFqV%2B/ft4NBQAAfIZfniKMj4/X6tWrtWjRIldBuuOOO5Sbm6vw8HCtWrVKc%2BfO1TPPPKMWLVpowYIF%2BtnPfiZJ6tu3rx555BHl5OToxIkTSk5O1urVq9WoUSMvpwIAAL4iyKjvFd2oE7v9dIM8rq99Pg%2BAhudLn4MVGhqsmJimcjjK/P5aHbJ6R/PmkV55Xr88RQgAAOBNFCwAAACTUbAAAABMRsECAAAwGQULAADAZBQsAAAAk1GwAAAATEbBAgAAMBkFCwAAwGQULAAAAJNRsAAAAExGwQIAADAZBQsAAMBkFCwAAACTUbAAAABMRsECAAAwGQULAADAZBQsAAAAk4V6ewAAgLmGLNnj7RHq7K3pN3l7BKBBcAQLAADAZBQsAAAAk1GwAAAATEbBAgAAMBkFCwAAwGT8LUIAgNcMXPiet0f4Qbbm9Pb2CPARHMECAAAwGQULAADAZBQsAAAAk1GwAAAATEbBAgAAMBkFCwAAwGQUrIsoKirSL3/5S6WkpKh///5asGCBamtrvT0WAADwEXwO1kU89NBD6tixo95%2B%2B22dOHFCkyZN0rXXXqt7773X26MBAAAfQME6j81m04EDB/TSSy8pMjJSkZGRmjBhgv70pz9RsAAgwA1ZssfbI/wgfDCq91CwzlNQUKAWLVooKirKtdaxY0d9/fXXKi0tVURExGUfo7i4WHa73W0tNLSJ4uLiTJ8XAIBLCQ31zpVAISHBbr8GIgrWeZxOpywWi9vaubLlcDjqVLCsVquWL1/utvbggw/qoYceMm/Q/%2B%2BjZ2%2Bp822Li4tltVqVkZHh92WPrP4pULIGSk6JrP6quLhYf/rTHwIi66UEbrX8HoZh1Ov%2BGRkZ2rBhg9tXRkaGSdNdObvdruXLl19wdM0fkdU/BUrWQMkpkdVfBVLWS%2BEI1nliY2PldDrd1pxOp4KCghQbG1unx4iLiwvYxg4AADiCdYGkpCQdO3ZMJ0%2BedK3ZbDa1adNGTZs29eJkAADAV1CwzpOYmKjk5GQtWrRIpaWlKiws1EsvvaTMzExvjwYAAHwEBesifve736m4uFi9e/fWuHHjdPvtt%2Buuu%2B7y9lj11rx5cz344INq3ry5t0dpcGT1T4GSNVBySmT1V4GU9VKCjPpe0Q0AAAA3HMECAAAwGQULAADAZBQsAAAAk1GwAAAATEbBAgAAMBkFCwAAwGQULAAAAJNRsAAAAExGwQIAADAZBctPFRUVKSsrSykpKUpNTdXjjz%2BukpISSdL%2B/ft19913q3v37ho0aJBefPFFL0975Q4cOKDx48ere/fuSk1NVU5Ojux2uyQpLy9Po0aNUrdu3TRs2DBt3LjRy9Oa57nnnlP79u1dv/e3rO3bt1dSUpKSk5NdX3PmzJHkf1klaeXKlerTp4%2B6dOmiCRMm6OjRo5L8K%2Bs///lPt9czOTlZSUlJrvexP2WVpH379mncuHHq0aOHevfurenTp%2BvkyZOS/C9rfn6%2Bxo0bp%2B7du%2Bumm27SH//4R9feli1bdNttt6lr164aOXKk3n//fS9O6mEG/NKtt95qPP7440Zpaalx7NgxY%2BTIkcbMmTON8vJy46abbjKWLVtmlJWVGfn5%2BUavXr2Mbdu2eXvkH6yystL4%2Bc9/bixfvtyorKw0Tpw4Ydx9993G1KlTjW%2B//dbo0qWLsW7dOqOiosLYs2eP0alTJ%2BPzzz/39tj1tm/fPqNXr15Gu3btDMMw/DJru3btjCNHjlyw7o9Z165da9xyyy1GYWGhcfr0aWPOnDnGnDlz/DLr%2BVauXGk8/PDDfpe1qqrK6N27t7Fo0SKjsrLSOHnypHHvvfcaDz30kN9ldTgcRkpKirFw4ULjzJkzxpdffmn079/f2LJli7Fv3z4jKSnJ2LVrl1FRUWH89a9/NTp37mwcO3bM22N7BEew/FBJSYmSkpI0bdo0NW3aVNddd53uuOMOffTRR9q1a5eqqqo0ZcoUNWnSRB07dtTo0aNltVq9PfYPVl5ertzcXE2aNElhYWGKjY3VwIED9dVXX2nTpk1KSEjQqFGjFB4ertTUVKWnp2vdunXeHrteamtr9dRTT2nChAmuNX/NejH%2BmPXFF19Ubm6ufvrTnyoiIkJPPPGEnnjiCb/M%2Bt/%2B/e9/66WXXtJjjz3md1ntdrvsdrtGjBihsLAwxcTEaODAgdq/f7/fZd27d6/KysqUk5Ojxo0bq23btpo4caLWr1%2BvdevWKS0tTWlpaQoPD9fw4cPVrl07nz9iV1cULD9ksVg0b948XXvtta61Y8eOKS4uTgUFBWrfvr1CQkJce4mJicrPz/fGqPUSFRWl0aNHKzQ0VJJ06NAhvf766xoyZIgKCgqUmJjodntfzfnfXn31VYWHh%2Bu2225zrflr1kWLFqlfv37q0aOHnnzySZWVlfld1m%2B//VZHjx7VqVOnNHToUKWkpCg7O1snT570u6znW7p0qe688079%2BMc/9rus8fHx6tChg6xWq8rKynTixAlt375d/fr187uskhQUFOT2%2B6ioKO3fv/%2BSWW02myfH8xoKVgCw2Wxau3atpkyZIqfTKYvF4rYfHR0tp9Op2tpaL01YP0VFRUpKStLQoUOVnJys7OzsS%2BZ0OBxemrL%2BvvvuOy1btkxPPfWU27o/Zu3SpYtSU1O1fft2Wa1W7d27V88884zfZT1%2B/Lgk6c0339RLL72kv/71rzp%2B/LieeOIJv8v6344ePart27fr3nvvleR/7%2BHg4GAtW7ZM77zzjrp166bU1FRVV1dr2rRpfpe1a9euaty4sZYuXary8nJ98803%2BvOf/6xTp07J6XQqKirK7fZRUVE%2Bm/WHomD5uY8//lgTJ07UtGnTlJqaesnbnf8nEF/SokUL2Ww2vfnmmzp8%2BLAee%2Bwxb4/UIObNm6eRI0eqTZs23h6lwVmtVo0ePVphYWFq3bq1pk%2Bfrs2bN6uqqsrbo5nKMAxJ0v3336/4%2BHhdd911euihh7Rjxw4vT9awXnnlFQ0aNEjNmzf39igN4uzZs5o8ebJuueUWffTRR3r33XcVGRmp6dOne3s000VFRWnFihXKy8tT79699eijj2rEiBGusyTn3uOBiILlx3bs2KFf/vKXmjlzpsaNGydJio2NveBPD06nU9HR0QoO9t23Q1BQkBISEpSbm6vNmzcrNDRUTqfT7TYOh0OxsbHeGbCe8vLy9OmnnyorK%2BuCvZiYGL/KejHXX3%2B9ampqFBwc7FdZz53G/%2B8jGi1atJBhGKqqqvKrrP9t27ZtSk9Pd/3e397DeXl5Onr0qB555BFFRkYqPj5e2dnZeuutt/zuPSxJPXr00Lp16/TJJ5/IarUqOjpa8fHxF31dnU6nT2f9IXz3/6j4Xp988olmzJihpUuX6vbbb3etJyUl6YsvvlB1dbVrzWazqXPnzl6Ysn7y8vI0ePBgt1Ob50pip06dLrimIT8/3ydzStLGjRt14sQJ9e/fXykpKRo5cqQkKSUlRe3atfOrrPv27dP8%2BfPd1goLCxUWFqa0tDS/ynrdddcpIiJC%2B/fvd60VFRXpmmuu8bus5%2Bzfv19FRUXq3bu3ay05OdmvstbU1Ki2ttbt6M3Zs2clSampqX6VtbKyUq%2B//rpKS0tda3v27FHXrl2VlJR0QVZf/f/NFfHuX2JEQ6iqqjKGDBlivPrqqxfsVVZWGv379zd%2B97vfGWfOnDH27t1r9OjRw9i5c6fnB62nkpISIzU11Zg/f75x5swZ48SJE8bEiRONu%2B66y/juu%2B%2BMrl27Gn/5y1%2BMiooKY9euXUanTp2M/fv3e3vsK%2BJ0Oo1jx465vj799FOjXbt2xrFjx4yioiK/ynr8%2BHGjS5cuxqpVq4zKykrj0KFDxtChQ405c%2Bb43etqGIbx3HPPGQMGDDAOHz5sfPfdd0ZGRobx%2BOOP%2B2VWwzCM9evXG7169XJb87esJ0%2BeNHr16mX89re/Nc6cOWOcPHnSmDx5svGLX/zC77LW1NQY6enpxm9%2B8xujqqrKeO%2B994zOnTsb%2Bfn5xhdffGEkJycbO3fuNCoqKox169YZXbt2NYqLi709tkdQsPzQP//5T6Ndu3ZGUlLSBV9Hjx41vvjiC2Ps2LFGUlKS0a9fP%2BOVV17x9shX7MCBA8bdd99tdOrUybjxxhuNnJwc4/jx44ZhGMaHH35oDB8%2B3OjYsaMxaNAgn/ysr0s5cuSI63OwDMP/sn744YdGRkaG0aVLF6NXr17GvHnzjIqKCteeP2WtrKw0nn76aaNnz55Gly5djBkzZhilpaWGYfhfVsMwjBdeeMEYNmzYBev%2BltVmsxl333230aNHDyM1NdWv/9v0%2BeefG3fccYfRqVMnY9CgQcb27dtde9u2bTMGDRpkdOzY0RgxYoTx4YcfenFSzwoyjAC%2BAg0AAKABcA0WAACAyShYAAAAJqNgAQAAmIyCBQAAYDIKFgAAgMkoWAAAACajYAEAAJiMggUAAGAyChYAAIDJKFgAAAAmo2ABAACYjIIFAABgMgoWAACAyf4fW%2BcKxPo39d4AAAAASUVORK5CYII%3D\"/>\n",
       "        </div>\n",
       "        <div role=\"tabpanel\" class=\"tab-pane col-md-12\" id=\"common1012038283183272403\">\n",
       "            \n",
       "<table class=\"freq table table-hover\">\n",
       "    <thead>\n",
       "    <tr>\n",
       "        <td class=\"fillremaining\">Value</td>\n",
       "        <td class=\"number\">Count</td>\n",
       "        <td class=\"number\">Frequency (%)</td>\n",
       "        <td style=\"min-width:200px\">&nbsp;</td>\n",
       "    </tr>\n",
       "    </thead>\n",
       "    <tr class=\"\">\n",
       "        <td class=\"fillremaining\">37</td>\n",
       "        <td class=\"number\">478</td>\n",
       "        <td class=\"number\">4.8%</td>\n",
       "        <td>\n",
       "            <div class=\"bar\" style=\"width:9%\">&nbsp;</div>\n",
       "        </td>\n",
       "</tr><tr class=\"\">\n",
       "        <td class=\"fillremaining\">38</td>\n",
       "        <td class=\"number\">477</td>\n",
       "        <td class=\"number\">4.8%</td>\n",
       "        <td>\n",
       "            <div class=\"bar\" style=\"width:9%\">&nbsp;</div>\n",
       "        </td>\n",
       "</tr><tr class=\"\">\n",
       "        <td class=\"fillremaining\">35</td>\n",
       "        <td class=\"number\">474</td>\n",
       "        <td class=\"number\">4.7%</td>\n",
       "        <td>\n",
       "            <div class=\"bar\" style=\"width:9%\">&nbsp;</div>\n",
       "        </td>\n",
       "</tr><tr class=\"\">\n",
       "        <td class=\"fillremaining\">36</td>\n",
       "        <td class=\"number\">456</td>\n",
       "        <td class=\"number\">4.6%</td>\n",
       "        <td>\n",
       "            <div class=\"bar\" style=\"width:9%\">&nbsp;</div>\n",
       "        </td>\n",
       "</tr><tr class=\"\">\n",
       "        <td class=\"fillremaining\">34</td>\n",
       "        <td class=\"number\">447</td>\n",
       "        <td class=\"number\">4.5%</td>\n",
       "        <td>\n",
       "            <div class=\"bar\" style=\"width:8%\">&nbsp;</div>\n",
       "        </td>\n",
       "</tr><tr class=\"\">\n",
       "        <td class=\"fillremaining\">33</td>\n",
       "        <td class=\"number\">442</td>\n",
       "        <td class=\"number\">4.4%</td>\n",
       "        <td>\n",
       "            <div class=\"bar\" style=\"width:8%\">&nbsp;</div>\n",
       "        </td>\n",
       "</tr><tr class=\"\">\n",
       "        <td class=\"fillremaining\">40</td>\n",
       "        <td class=\"number\">432</td>\n",
       "        <td class=\"number\">4.3%</td>\n",
       "        <td>\n",
       "            <div class=\"bar\" style=\"width:8%\">&nbsp;</div>\n",
       "        </td>\n",
       "</tr><tr class=\"\">\n",
       "        <td class=\"fillremaining\">39</td>\n",
       "        <td class=\"number\">423</td>\n",
       "        <td class=\"number\">4.2%</td>\n",
       "        <td>\n",
       "            <div class=\"bar\" style=\"width:8%\">&nbsp;</div>\n",
       "        </td>\n",
       "</tr><tr class=\"\">\n",
       "        <td class=\"fillremaining\">32</td>\n",
       "        <td class=\"number\">418</td>\n",
       "        <td class=\"number\">4.2%</td>\n",
       "        <td>\n",
       "            <div class=\"bar\" style=\"width:8%\">&nbsp;</div>\n",
       "        </td>\n",
       "</tr><tr class=\"\">\n",
       "        <td class=\"fillremaining\">31</td>\n",
       "        <td class=\"number\">404</td>\n",
       "        <td class=\"number\">4.0%</td>\n",
       "        <td>\n",
       "            <div class=\"bar\" style=\"width:8%\">&nbsp;</div>\n",
       "        </td>\n",
       "</tr><tr class=\"other\">\n",
       "        <td class=\"fillremaining\">Other values (60)</td>\n",
       "        <td class=\"number\">5549</td>\n",
       "        <td class=\"number\">55.5%</td>\n",
       "        <td>\n",
       "            <div class=\"bar\" style=\"width:100%\">&nbsp;</div>\n",
       "        </td>\n",
       "</tr>\n",
       "</table>\n",
       "        </div>\n",
       "        <div role=\"tabpanel\" class=\"tab-pane col-md-12\"  id=\"extreme1012038283183272403\">\n",
       "            <p class=\"h4\">Minimum 5 values</p>\n",
       "            \n",
       "<table class=\"freq table table-hover\">\n",
       "    <thead>\n",
       "    <tr>\n",
       "        <td class=\"fillremaining\">Value</td>\n",
       "        <td class=\"number\">Count</td>\n",
       "        <td class=\"number\">Frequency (%)</td>\n",
       "        <td style=\"min-width:200px\">&nbsp;</td>\n",
       "    </tr>\n",
       "    </thead>\n",
       "    <tr class=\"\">\n",
       "        <td class=\"fillremaining\">18</td>\n",
       "        <td class=\"number\">22</td>\n",
       "        <td class=\"number\">0.2%</td>\n",
       "        <td>\n",
       "            <div class=\"bar\" style=\"width:26%\">&nbsp;</div>\n",
       "        </td>\n",
       "</tr><tr class=\"\">\n",
       "        <td class=\"fillremaining\">19</td>\n",
       "        <td class=\"number\">27</td>\n",
       "        <td class=\"number\">0.3%</td>\n",
       "        <td>\n",
       "            <div class=\"bar\" style=\"width:32%\">&nbsp;</div>\n",
       "        </td>\n",
       "</tr><tr class=\"\">\n",
       "        <td class=\"fillremaining\">20</td>\n",
       "        <td class=\"number\">40</td>\n",
       "        <td class=\"number\">0.4%</td>\n",
       "        <td>\n",
       "            <div class=\"bar\" style=\"width:48%\">&nbsp;</div>\n",
       "        </td>\n",
       "</tr><tr class=\"\">\n",
       "        <td class=\"fillremaining\">21</td>\n",
       "        <td class=\"number\">53</td>\n",
       "        <td class=\"number\">0.5%</td>\n",
       "        <td>\n",
       "            <div class=\"bar\" style=\"width:63%\">&nbsp;</div>\n",
       "        </td>\n",
       "</tr><tr class=\"\">\n",
       "        <td class=\"fillremaining\">22</td>\n",
       "        <td class=\"number\">84</td>\n",
       "        <td class=\"number\">0.8%</td>\n",
       "        <td>\n",
       "            <div class=\"bar\" style=\"width:100%\">&nbsp;</div>\n",
       "        </td>\n",
       "</tr>\n",
       "</table>\n",
       "            <p class=\"h4\">Maximum 5 values</p>\n",
       "            \n",
       "<table class=\"freq table table-hover\">\n",
       "    <thead>\n",
       "    <tr>\n",
       "        <td class=\"fillremaining\">Value</td>\n",
       "        <td class=\"number\">Count</td>\n",
       "        <td class=\"number\">Frequency (%)</td>\n",
       "        <td style=\"min-width:200px\">&nbsp;</td>\n",
       "    </tr>\n",
       "    </thead>\n",
       "    <tr class=\"\">\n",
       "        <td class=\"fillremaining\">83</td>\n",
       "        <td class=\"number\">1</td>\n",
       "        <td class=\"number\">0.0%</td>\n",
       "        <td>\n",
       "            <div class=\"bar\" style=\"width:50%\">&nbsp;</div>\n",
       "        </td>\n",
       "</tr><tr class=\"\">\n",
       "        <td class=\"fillremaining\">84</td>\n",
       "        <td class=\"number\">2</td>\n",
       "        <td class=\"number\">0.0%</td>\n",
       "        <td>\n",
       "            <div class=\"bar\" style=\"width:100%\">&nbsp;</div>\n",
       "        </td>\n",
       "</tr><tr class=\"\">\n",
       "        <td class=\"fillremaining\">85</td>\n",
       "        <td class=\"number\">1</td>\n",
       "        <td class=\"number\">0.0%</td>\n",
       "        <td>\n",
       "            <div class=\"bar\" style=\"width:50%\">&nbsp;</div>\n",
       "        </td>\n",
       "</tr><tr class=\"\">\n",
       "        <td class=\"fillremaining\">88</td>\n",
       "        <td class=\"number\">1</td>\n",
       "        <td class=\"number\">0.0%</td>\n",
       "        <td>\n",
       "            <div class=\"bar\" style=\"width:50%\">&nbsp;</div>\n",
       "        </td>\n",
       "</tr><tr class=\"\">\n",
       "        <td class=\"fillremaining\">92</td>\n",
       "        <td class=\"number\">2</td>\n",
       "        <td class=\"number\">0.0%</td>\n",
       "        <td>\n",
       "            <div class=\"bar\" style=\"width:100%\">&nbsp;</div>\n",
       "        </td>\n",
       "</tr>\n",
       "</table>\n",
       "        </div>\n",
       "    </div>\n",
       "</div>\n",
       "</div><div class=\"row variablerow\">\n",
       "    <div class=\"col-md-3 namecol\">\n",
       "        <p class=\"h4 pp-anchor\" id=\"pp_var_Tenure\">Tenure<br/>\n",
       "            <small>Numeric</small>\n",
       "        </p>\n",
       "    </div><div class=\"col-md-6\">\n",
       "    <div class=\"row\">\n",
       "        <div class=\"col-sm-6\">\n",
       "            <table class=\"stats \">\n",
       "                <tr>\n",
       "                    <th>Distinct count</th>\n",
       "                    <td>12</td>\n",
       "                </tr>\n",
       "                <tr>\n",
       "                    <th>Unique (%)</th>\n",
       "                    <td>0.1%</td>\n",
       "                </tr>\n",
       "                <tr class=\"alert\">\n",
       "                    <th>Missing (%)</th>\n",
       "                    <td>9.1%</td>\n",
       "                </tr>\n",
       "                <tr class=\"alert\">\n",
       "                    <th>Missing (n)</th>\n",
       "                    <td>909</td>\n",
       "                </tr>\n",
       "                <tr class=\"ignore\">\n",
       "                    <th>Infinite (%)</th>\n",
       "                    <td>0.0%</td>\n",
       "                </tr>\n",
       "                <tr class=\"ignore\">\n",
       "                    <th>Infinite (n)</th>\n",
       "                    <td>0</td>\n",
       "                </tr>\n",
       "            </table>\n",
       "\n",
       "        </div>\n",
       "        <div class=\"col-sm-6\">\n",
       "            <table class=\"stats \">\n",
       "\n",
       "                <tr>\n",
       "                    <th>Mean</th>\n",
       "                    <td>4.9977</td>\n",
       "                </tr>\n",
       "                <tr>\n",
       "                    <th>Minimum</th>\n",
       "                    <td>0</td>\n",
       "                </tr>\n",
       "                <tr>\n",
       "                    <th>Maximum</th>\n",
       "                    <td>10</td>\n",
       "                </tr>\n",
       "                <tr class=\"alert\">\n",
       "                    <th>Zeros (%)</th>\n",
       "                    <td>3.8%</td>\n",
       "                </tr>\n",
       "            </table>\n",
       "        </div>\n",
       "    </div>\n",
       "</div>\n",
       "<div class=\"col-md-3 collapse in\" id=\"minihistogram-3038888990260508794\">\n",
       "    <img src=\"data:image/png;base64,iVBORw0KGgoAAAANSUhEUgAAAMgAAABLCAYAAAA1fMjoAAAAOXRFWHRTb2Z0d2FyZQBNYXRwbG90bGliIHZlcnNpb24zLjUuMSwgaHR0cHM6Ly9tYXRwbG90bGliLm9yZy/YYfK9AAAACXBIWXMAAA9hAAAPYQGoP6dpAAABJklEQVR4nO3bwW2EMBBA0RBtSSkiPeW8PW0R25PTQPQlkADLee%2BONBw%2Bw8HexhjjA/jT590DwMwedw/Aur5%2BXrufeT%2B/T5jkOBsEgkAgCASCQCAIBIJAIAgEgkAgCASCQCAIBIJAICxxWHGFQ3HMaYlAjjgS1V5HIrwi9ivefRV%2BsSD82w1yhau%2B1DbCeWwQCAKBIBAIAoEgEAgCgSAQCAKBIBAIAoEgEAgCgSAQCAKBIBAIAoEw3YUpl3%2BYiQ0CQSAQBAJBIBAEAkEgEAQCQSAQBAJBIBAEAkEgEAQCYRtjjLuHgFnZIBAEAkEgEAQCQSAQBAJBIBAEAkEgEAQCQSAQBAJBIBAEAkEgEAQCQSAQBAJBIBAEAkEgEAQCQSAQBAJBIBB%2BAZNDGjMyDkEpAAAAAElFTkSuQmCC\">\n",
       "\n",
       "</div>\n",
       "<div class=\"col-md-12 text-right\">\n",
       "    <a role=\"button\" data-toggle=\"collapse\" data-target=\"#descriptives-3038888990260508794,#minihistogram-3038888990260508794\"\n",
       "       aria-expanded=\"false\" aria-controls=\"collapseExample\">\n",
       "        Toggle details\n",
       "    </a>\n",
       "</div>\n",
       "<div class=\"row collapse col-md-12\" id=\"descriptives-3038888990260508794\">\n",
       "    <ul class=\"nav nav-tabs\" role=\"tablist\">\n",
       "        <li role=\"presentation\" class=\"active\"><a href=\"#quantiles-3038888990260508794\"\n",
       "                                                  aria-controls=\"quantiles-3038888990260508794\" role=\"tab\"\n",
       "                                                  data-toggle=\"tab\">Statistics</a></li>\n",
       "        <li role=\"presentation\"><a href=\"#histogram-3038888990260508794\" aria-controls=\"histogram-3038888990260508794\"\n",
       "                                   role=\"tab\" data-toggle=\"tab\">Histogram</a></li>\n",
       "        <li role=\"presentation\"><a href=\"#common-3038888990260508794\" aria-controls=\"common-3038888990260508794\"\n",
       "                                   role=\"tab\" data-toggle=\"tab\">Common Values</a></li>\n",
       "        <li role=\"presentation\"><a href=\"#extreme-3038888990260508794\" aria-controls=\"extreme-3038888990260508794\"\n",
       "                                   role=\"tab\" data-toggle=\"tab\">Extreme Values</a></li>\n",
       "\n",
       "    </ul>\n",
       "\n",
       "    <div class=\"tab-content\">\n",
       "        <div role=\"tabpanel\" class=\"tab-pane active row\" id=\"quantiles-3038888990260508794\">\n",
       "            <div class=\"col-md-4 col-md-offset-1\">\n",
       "                <p class=\"h4\">Quantile statistics</p>\n",
       "                <table class=\"stats indent\">\n",
       "                    <tr>\n",
       "                        <th>Minimum</th>\n",
       "                        <td>0</td>\n",
       "                    </tr>\n",
       "                    <tr>\n",
       "                        <th>5-th percentile</th>\n",
       "                        <td>1</td>\n",
       "                    </tr>\n",
       "                    <tr>\n",
       "                        <th>Q1</th>\n",
       "                        <td>2</td>\n",
       "                    </tr>\n",
       "                    <tr>\n",
       "                        <th>Median</th>\n",
       "                        <td>5</td>\n",
       "                    </tr>\n",
       "                    <tr>\n",
       "                        <th>Q3</th>\n",
       "                        <td>7</td>\n",
       "                    </tr>\n",
       "                    <tr>\n",
       "                        <th>95-th percentile</th>\n",
       "                        <td>9</td>\n",
       "                    </tr>\n",
       "                    <tr>\n",
       "                        <th>Maximum</th>\n",
       "                        <td>10</td>\n",
       "                    </tr>\n",
       "                    <tr>\n",
       "                        <th>Range</th>\n",
       "                        <td>10</td>\n",
       "                    </tr>\n",
       "                    <tr>\n",
       "                        <th>Interquartile range</th>\n",
       "                        <td>5</td>\n",
       "                    </tr>\n",
       "                </table>\n",
       "            </div>\n",
       "            <div class=\"col-md-4 col-md-offset-2\">\n",
       "                <p class=\"h4\">Descriptive statistics</p>\n",
       "                <table class=\"stats indent\">\n",
       "                    <tr>\n",
       "                        <th>Standard deviation</th>\n",
       "                        <td>2.8947</td>\n",
       "                    </tr>\n",
       "                    <tr>\n",
       "                        <th>Coef of variation</th>\n",
       "                        <td>0.57921</td>\n",
       "                    </tr>\n",
       "                    <tr>\n",
       "                        <th>Kurtosis</th>\n",
       "                        <td>-1.1651</td>\n",
       "                    </tr>\n",
       "                    <tr>\n",
       "                        <th>Mean</th>\n",
       "                        <td>4.9977</td>\n",
       "                    </tr>\n",
       "                    <tr>\n",
       "                        <th>MAD</th>\n",
       "                        <td>2.4859</td>\n",
       "                    </tr>\n",
       "                    <tr class=\"\">\n",
       "                        <th>Skewness</th>\n",
       "                        <td>0.016153</td>\n",
       "                    </tr>\n",
       "                    <tr>\n",
       "                        <th>Sum</th>\n",
       "                        <td>45434</td>\n",
       "                    </tr>\n",
       "                    <tr>\n",
       "                        <th>Variance</th>\n",
       "                        <td>8.3794</td>\n",
       "                    </tr>\n",
       "                    <tr>\n",
       "                        <th>Memory size</th>\n",
       "                        <td>78.2 KiB</td>\n",
       "                    </tr>\n",
       "                </table>\n",
       "            </div>\n",
       "        </div>\n",
       "        <div role=\"tabpanel\" class=\"tab-pane col-md-8 col-md-offset-2\" id=\"histogram-3038888990260508794\">\n",
       "            <img src=\"data:image/png;base64,iVBORw0KGgoAAAANSUhEUgAAAlgAAAGQCAYAAAByNR6YAAAAOXRFWHRTb2Z0d2FyZQBNYXRwbG90bGliIHZlcnNpb24zLjUuMSwgaHR0cHM6Ly9tYXRwbG90bGliLm9yZy/YYfK9AAAACXBIWXMAAA9hAAAPYQGoP6dpAAAq20lEQVR4nO3df3RU9Z3/8VeSIUHyO0KCm0WxDVBCWASFrJESCCgIAhojIbal2SMCEkiBpIffK/YgoMBim3AQ3AWlunUEPRAQhMUAgsRu8eckgFWEWnKIGcMMgRB%2BJJnvH37NdgyWlHxmxhmej3N6KJ/PzOfzvu9Tva/ee3MT5HK5XAIAAIAxwb4uAAAAINAQsAAAAAwjYAEAABhGwAIAADCMgAUAAGAYAQsAAMAwAhYAAIBhBCwAAADDCFgAAACGEbAAAAAMI2ABAAAYRsACAAAwjIAFAABgGAELAADAMAIWAACAYQQsAAAAwwhYAAAAhhGwAAAADCNgAQAAGEbAAgAAMIyABQAAYBgBCwAAwDACFgAAgGEELAAAAMMIWAAAAIYRsAAAAAwjYAEAABhGwAIAADCMgAUAAGAYAQsAAMAwAhYAAIBhBCwAAADDCFgAAACGEbAAAAAMI2ABAAAYRsACAAAwjIAFAABgGAELAADAMAIWAACAYRZfF3CjsNvPGV8zODhIcXHhOnOmTk1NLuPr38jorefQW8%2Biv55Dbz3Hk73t1CnS6HqtxRUsPxYcHKSgoCAFBwf5upSAQ289h956Fv31HHrrOYHYWwIWAACAYQQsAAAAwwhYAAAAhhGwAAAADCNgAQAAGEbAAgAAMIyABQAAYBgBCwAAwDACFgAAgGEELAAAAMMIWAAAAIYRsAAAAAwjYAEAABhm8XUBAADAM%2B5/7l1fl9Bqh58e4esSjOIKFgAAgGEELAAAAMMIWAAAAIYRsAAAAAwjYAEAABhGwAIAADCMgAUAAGAYAQsAAMAwAhYAAIBhBCwAAADDCFgAAACGEbAAAAAMI2ABAAAYRsACAAAwjIAFAABgGAELAADAMAIWAACAYQQsAAAAwwhYAAAAhhGwAAAADCNgAQAAGEbAAgAAMIyABQAAYBgBCwAAwDC/DVgHDhxQWlqaZs6c2WJu9%2B7dGjNmjPr27avhw4frtddec5vfuHGjhg8frn79%2BiknJ0fl5eXNc5cuXdK///u/a9CgQUpNTVV%2Bfr4cDofHjwcAAAQOvwxYL7zwghYvXqzbbrutxdwnn3yiwsJC5efn609/%2BpPmzZun3/zmNzp8%2BLAkqbS0VEVFRXr22Wd16NAhDRkyRFOmTNGFCxckSatWrVJFRYWsVqt27doll8uluXPnevX4AACAf/PLgBUWFqbNmzdfNWA5nU5NnjxZw4YNk8ViUXp6urp3794csKxWqzIzM9WnTx%2B1b99eEydOlCTt3btXDQ0N2rx5s6ZOnapbbrlFMTExmjFjhvbt26evvvrKq8cIAAD8l18GrAkTJigyMvKqc4MGDVJeXl7z3xsaGmS325WQkCBJqqioUHJycvN8cHCwevbsKZvNpi%2B//FLnzp1Tr169mud//OMfq3379qqoqPDQ0QAAgEBj8XUBnrZixQp16NBBI0eOlPTNFa7o6Gi3z0RHR8vhcMjpdEqSoqKi3OajoqL%2BoeewqqurZbfb3cYslg6Kj4%2B/jiP4fiEhwW5/whx66zn01rPor%2BfQW88LpN4GbMByuVxasWKFtm/fro0bNyosLMxt7lrfbQur1ari4mK3sby8POXn57dp3e8TFXWTR9YFvfUkeutZ9Ndz6K3nBFJvAzJgNTU1ae7cufrkk0/0hz/8QV26dGmei42Nbb5S9S2n06lu3bopLi6u%2Be/h4eHN82fPntXNN9/c6v2zs7OVkZHhNmaxdJDDUXcdR/P9QkKCFRV1k2pr69XY2GR07RsdvfUceutZ9Ndz6K3neaK3sbHh1/6QBwRkwFqyZIk%2B%2B%2Bwz/eEPf1BMTIzbXEpKiioqKvTQQw9JkhobG3XkyBFlZWWpS5cuio6OVkVFhRITEyVJf/7zn3X58mWlpKS0ev/4%2BPgWtwPt9nNqaPDMP5CNjU0eW/tGR289h956Fv31HHrrOYHU28C52fn/vf/%2B%2ByopKdG6detahCtJysnJ0ZYtW/TRRx%2Bpvr5ea9asUWhoqAYPHqyQkBCNGzdOzz//vE6fPi2Hw6H/%2BI//0L333quOHTt6/2AAAIBf8ssrWL1795b0zU8IStKePXskSTabTa%2B//rrOnTunIUOGuH2nf//%2BWr9%2BvQYNGqRZs2ZpxowZqqmpUe/evbVu3Tq1b99ekpSfn6%2B6ujqNHTtWDQ0NGjJkiBYtWuS9gwMAAH4vyNXWJ7rRKnb7OeNrWizBio0Nl8NRFzCXVH8o6K3n0FvPor%2Be44%2B9vf%2B5d31dQqsdfnqER3rbqdPVX%2BvkaQF3ixAAAMDXCFgAAACGEbAAAAAMI2ABAAAYRsACAAAwjIAFAABgGAELAADAMAIWAACAYQQsAAAAwwhYAAAAhhGwAAAADCNgAQAAGEbAAgAAMIyABQAAYBgBCwAAwDACFgAAgGEELAAAAMMIWAAAAIYRsAAAAAwjYAEAABhGwAIAADCMgAUAAGAYAQsAAMAwAhYAAIBhBCwAAADDCFgAAACGEbAAAAAMI2ABAAAYRsACAAAwjIAFAABgGAELAADAMAIWAACAYQQsAAAAwwhYAAAAhhGwAAAADPPrgHXgwAGlpaVp5syZLeZ27Nih0aNHq2/fvsrMzNTBgweb55qamrRq1SoNHTpU/fv312OPPaa//vWvzfNOp1MzZsxQWlqaBg4cqPnz5%2BvixYteOSYAAOD//DZgvfDCC1q8eLFuu%2B22FnNHjx7V7NmzVVhYqPfee0%2B5ubmaNm2aqqqqJEmvvPKKtm3bpnXr1mnv3r3q2rWr8vLy5HK5JEkLFy5UfX29tm/frtdff13Hjx/XihUrvHp8AADAf/ltwAoLC9PmzZuvGrA2bdqk9PR0paenKywsTGPGjFH37t1VUlIiSbJarcrNzdWPf/xjRUREaObMmTp%2B/Lg%2B/vhjff3119qzZ49mzpypuLg4JSQkaOrUqXr99dd15coVbx8mAADwQ34bsCZMmKDIyMirzlVUVCg5OdltLDk5WTabTRcvXtTnn3/uNh8REaHbbrtNNptNR48eVUhIiHr06NE836tXL124cEFffPGFZw4GAAAEFIuvC/AEp9Op6Ohot7Ho6Gh9/vnnOnv2rFwu11XnHQ6HYmJiFBERoaCgILc5SXI4HK3av7q6Wna73W3MYumg%2BPj46zmc7xUSEuz2J8yht55Dbz2L/noOvfW8QOptQAYsSc3PU13P/LW%2Bey1Wq1XFxcVuY3l5ecrPz2/Tut8nKuomj6wLeutJ9Naz6K/n0FvPCaTeBmTAio2NldPpdBtzOp2Ki4tTTEyMgoODrzp/8803Ky4uTufPn1djY6NCQkKa5yTp5ptvbtX%2B2dnZysjIcBuzWDrI4ai7ruP5PiEhwYqKukm1tfVqbGwyuvaNjt56Dr31LPrrOfTW8zzR29jYcKPrtVZABqyUlBSVl5e7jdlsNo0aNUphYWHq1q2bKioqNGDAAElSbW2tvvzyS/3Lv/yLEhMT5XK5dOzYMfXq1av5u1FRUbr99ttbtX98fHyL24F2%2Bzk1NHjmH8jGxiaPrX2jo7eeQ289i/56Dr31nEDqbeDc7Pwb48aN06FDh7Rv3z5dunRJmzdv1smTJzVmzBhJUk5OjjZu3Kjjx4/r/PnzWrFihXr27KnevXsrLi5Ow4cP13PPPaczZ86oqqpKq1evVlZWliyWgMyjAADAML9NDL1795YkNTQ0SJL27Nkj6ZurTd27d9eKFSu0dOlSVVZWKikpSWvXrlWnTp0kSePHj5fdbtcvfvEL1dXVKTU11e2Zqd/85jd68sknNXToULVr104PPPDAVV9mCgAAcDVBrrY%2B0Y1WsdvPGV/TYglWbGy4HI66gLmk%2BkNBbz2H3noW/fUcf%2Bzt/c%2B96%2BsSWu3w0yM80ttOna7%2BSidPC8hbhAAAAL5EwAIAADCMgAUAAGAYAQsAAMAwAhYAAIBhfvuaBvgff/ppFn%2B0c8Y9vi4BAPD/cQULAADAMAIWAACAYQQsAAAAw3gGCwCAVrpr/lu%2BLgF%2BgoAFBAh/%2BiGCw0%2BP8HUJ/xB/6q3kf/0FAhEBCwDgM/4WXoHW4hksAAAAwwhYAAAAhhGwAAAADCNgAQAAGEbAAgAAMIyABQAAYBgBCwAAwDACFgAAgGG8aBSA1/HrRgAEOgIWAAQYAizge9wiBAAAMIyABQAAYBgBCwAAwDACFgAAgGEELAAAAMMIWAAAAIYRsAAAAAwjYAEAABjm9YCVkZGh4uJinT592ttbAwAAeIXXA9bDDz%2BsHTt2aNiwYZo4caJ2796thoYGb5cBAADgMV4PWHl5edqxY4dee%2B01devWTUuWLFF6erqWL1%2BuEydOeLscAAAA43z2DFavXr00e/Zs7d27V/PmzdNrr72mkSNH6rHHHtMnn3ziq7IAAADazGcB68qVK9qxY4cef/xxzZ49WwkJCZo7d6569uyp3Nxcbdu2zVelAQAAtInF2xseP35cmzdv1pYtW1RXV6fhw4frpZde0p133tn8mf79%2B2vRokUaPXr0de9z5MgRLVu2TEeOHFFYWJjuvvtuzZs3T3FxcSorK9PKlSv1xRdf6JZbbtHkyZM1ZsyY5u9u3LhRr7zyiux2u3r06KH58%2BcrJSWlTccNAABuHF6/gjVq1Cjt27dPkydP1jvvvKPly5e7hStJSk9P15kzZ657j4aGBk2aNEl33HGHDh06pO3bt%2BvMmTNatGiRqqurNXXqVI0fP15lZWWaP3%2B%2BFi5cKJvNJkkqLS1VUVGRnn32WR06dEhDhgzRlClTdOHChTYdNwAAuHF4PWBt3LhRO3fuVG5urmJiYr73cx9//PF172G322W32zV27FiFhoYqNjZW9957r44ePapt27apa9euysrKUlhYmNLS0pSRkaFNmzZJkqxWqzIzM9WnTx%2B1b99eEydOlCTt3bv3uusBAAA3Fq/fIuzRo4emTJmirKwsDRs2TJL04osv6t1339Xy5cv/buhqrYSEBPXs2VNWq1W/%2BtWvdPHiRe3evVuDBw9WRUWFkpOT3T6fnJysnTt3SpIqKio0cuTI5rng4GD17NlTNptNo0aNatX%2B1dXVstvtbmMWSwfFx8e38cjchYQEu/0JAIA/C6TzmdcD1tKlS3Xu3DklJSU1jw0ePFgHDhzQsmXLtGzZsjbvERwcrKKiIuXm5uqll16SJA0YMEAFBQWaOnWqEhIS3D4fExMjh8MhSXI6nYqOjnabj46Obp5vDavVquLiYrexvLw85efnX8/hXFNU1E0eWRcAAG8KpPOZ1wPWwYMHtW3bNsXGxjaPde3aVStWrNADDzxgZI/Lly9rypQpGjFiRPPzU0899ZQKCwtb9X2Xy9Wm/bOzs5WRkeE2ZrF0kMNR16Z1vyskJFhRUTeptrZejY1NRtcGAMDbPHE%2Bi40NN7pea3k9YF28eFFhYWEtxoODg1VfX29kj7KyMp06dUqzZs1SSEiIIiMjlZ%2Bfr7Fjx%2BqnP/2pnE6n2%2BcdDofi4uIkSbGxsS3mnU6nunXr1ur94%2BPjW9wOtNvPqaHBMyGosbHJY2sDAOAtgXQ%2B8/rNzv79%2B2vZsmU6e/Zs89hXX32lp556qsVPE16vxsZGNTU1uV2Junz5siQpLS1N5eXlbp8vLy9Xnz59JEkpKSmqqKhwW%2BvIkSPN8wAAANfi9YA1b948lZWV6e6779aAAQN01113afDgwSovL9fixYuN7NG3b1916NBBRUVFqq%2Bvl8Ph0Jo1a9S/f3%2BNHTtWlZWV2rRpky5duqT9%2B/dr//79GjdunCQpJydHW7Zs0UcffaT6%2BnqtWbNGoaGhGjx4sJHaAABA4AtytfWBo%2Btw%2BfJlvfPOO/ryyy8VHBys22%2B/XQMHDlRISIixPcrLy/XMM8/o2LFjCg0N1YABAzRnzhwlJCToT3/6kxYvXqzjx48rMTFRBQUFuu%2B%2B%2B5q/%2B9///d9at26dampq1Lt3by1atEjdu3dvUz12%2B7m2HlILFkuwYmPD5XDU%2BcUl1fufe9fXJQAAfqAOPz3CI%2BezTp0ija7XWj4JWDciAhYBCwDw/QItYHn9Ife//vWvWrlypT777DNdvHixxfzbb7/t7ZIAAACM8nrAmjdvnqqrqzVw4EB16NDB29sDAAB4nNcDVnl5ud5%2B%2B%2B3m1yIAAAAEGq//FOHNN9/MlSsAABDQvB6wJk%2BerOLi4ja/LR0AAOCHyuu3CN955x198MEHeuONN/TP//zPCg52z3ivvvqqt0sCAAAwyusBKyIiQoMGDfL2tgAAAF7j9YC1dOlSb28JAADgVV5/BkuSvvjiCxUVFWnu3LnNYx9%2B%2BKEvSgEAADDO6wGrrKxMY8aM0e7du7V9%2B3ZJ37x8dMKECbxkFAAABASvB6xVq1bp17/%2BtbZt26agoCBJUpcuXbRs2TKtXr3a2%2BUAAAAY5/WA9ec//1k5OTmS1BywJGnEiBE6fvy4t8sBAAAwzusBKzIy8qq/g7C6ulqhoaHeLgcAAMA4rwesfv36acmSJTp//nzz2IkTJzR79mzdfffd3i4HAADAOK%2B/pmHu3Ln65S9/qdTUVDU2Nqpfv36qr69Xt27dtGzZMm%2BXAwAAYJzXA1bnzp21fft27d%2B/XydOnFD79u11%2B%2B2365577nF7JgsAAMBfeT1gSVK7du00bNgwX2wNAADgcV4PWBkZGX/3ShXvwgIAAP7O6wFr5MiRbgGrsbFRJ06ckM1m0y9/%2BUtvlwMAAGCc1wNWYWHhVcd37dqlP/7xj16uBgAAwDyf/C7Cqxk2bJjefPNNX5cBAADQZj%2BYgHXkyBG5XC5flwEAANBmXr9FOH78%2BBZj9fX1On78uO677z5vlwMAAGCc1wNW165dW/wUYVhYmLKysvTII494uxwAAADjvB6weFs7AAAIdF4PWFu2bGn1Zx988EGP1QEAAOApXg9Y8%2BfPV1NTU4sH2oOCgtzGgoKCCFgAAMAveT1g/ed//qfWr1%2BvKVOmqEePHnK5XPr000/1wgsv6Oc//7lSU1O9XRIAAIBRPnkGa926dUpISGgeu%2Buuu9SlSxc99thj2r59u7dLAgAAMMrr78E6efKkoqOjW4xHRUWpsrLS2%2BUAAAAY5/WAlZiYqGXLlsnhcDSP1dbWauXKlbr11lu9XQ4AAIBxXr9FOG/ePBUUFMhqtSo8PFzBwcE6f/682rdvr9WrV3u7HAAAAOO8HrAGDhyoffv2af/%2B/aqqqpLL5VJCQoJ%2B%2BtOfKjIy0tvlAAAAGOf1gCVJN910k4YOHaqqqip16dLFFyUAAAB4jNefwbp48aJmz56tvn376v7775f0zTNYEydOVG1trbfLAQAAMM7rAWv58uU6evSoVqxYoeDg/9u%2BsbFRK1asMLrXmjVrNHDgQN1xxx3Kzc3VqVOnJEllZWXKyspSv379NGrUKJWUlLh9b%2BPGjRo%2BfLj69eunnJwclZeXG60LAAAENq8HrF27dul3v/udRowY0fxLn6OiorR06VLt3r3b2D6vvPKKSkpKtHHjRh08eFBJSUl68cUXVV1dralTp2r8%2BPEqKyvT/PnztXDhQtlsNklSaWmpioqK9Oyzz%2BrQoUMaMmSIpkyZogsXLhirDQAABDavB6y6ujp17dq1xXhcXJzRELN%2B/XrNnDlTP/rRjxQREaEFCxZowYIF2rZtm7p27aqsrCyFhYUpLS1NGRkZ2rRpkyTJarUqMzNTffr0Ufv27TVx4kRJ0t69e43VBgAAApvXH3K/9dZb9cc//lGpqaluv3vwrbfe0j/90z8Z2eOrr77SqVOndPbsWY0cOVI1NTVKTU3VokWLVFFRoeTkZLfPJycna%2BfOnZKkiooKjRw5snkuODhYPXv2lM1m06hRo1q1f3V1tex2u9uYxdJB8fHxbTwydyEhwW5/AgDgzwLpfOb1gPXoo49q%2BvTpevjhh9XU1KQNGzaovLxcu3bt0vz5843sUVVVJemb0LZhwwa5XC7l5%2BdrwYIFunjxotuv6ZGkmJiY5hefOp3OFm%2Baj46Odnsx6rVYrVYVFxe7jeXl5Sk/P/96DueaoqJu8si6AAB4UyCdz7wesLKzs2WxWPTyyy8rJCREzz//vG6//XatWLFCI0aMMLLHt1fGJk6c2Bympk%2Bfrscff1xpaWmt/v71ys7OVkZGhtuYxdJBDkddm9b9rpCQYEVF3aTa2no1NjYZXRsAAG/zxPksNjbc6Hqt5fWAdebMGT388MN6%2BOGHPbZHx44dJX3z8Py3EhMT5XK5dOXKFTmdTrfPOxwOxcXFSZJiY2NbzDudTnXr1q3V%2B8fHx7e4HWi3n1NDg2dCUGNjk8fWBgDAWwLpfOb1m51Dhw5t8xWia%2BncubMiIiJ09OjR5rHKykq1a9dO6enpLV67UF5erj59%2BkiSUlJSVFFR0TzX2NioI0eONM8DAABci9cDVmpqavMD5Z5isViUlZWl559/Xn/5y19UU1Oj1atXa/To0XrooYdUWVmpTZs26dKlS9q/f7/279%2BvcePGSZJycnK0ZcsWffTRR6qvr9eaNWsUGhqqwYMHe7RmAAAQOLx%2Bi/CWW27R008/rXXr1unWW29Vu3bt3OZXrlxpZJ%2BCggJdvnxZjzzyiK5cuaLhw4drwYIFCg8P19q1a7V48WI99dRTSkxM1PLly/WTn/xEkjRo0CDNmjVLM2bMUE1NjXr37q1169apffv2RuoCAACBL8jl6ft13/GLX/zi787//ve/91Il3mW3nzO%2BpsUSrNjYcDkcdX5xz/r%2B5971dQkAgB%2Bow0%2BP8Mj5rFOnSKPrtZbXrmDNnDlTq1atcgtQq1evVl5enrdKAAAA8AqvPYNVWlraYmzdunXe2h4AAMBrvBawrnYn0st3JwEAALzCawHr21/sfK0xAAAAfxc4v/QHAADgB4KABQAAYJjXforwypUrKigouOaYqfdgAQAA%2BIrXAtadd96p6urqa44BAAD4O68FrEB9gSgAAMB38QwWAACAYQQsAAAAwwhYAAAAhhGwAAAADCNgAQAAGEbAAgAAMIyABQAAYBgBCwAAwDACFgAAgGEELAAAAMMIWAAAAIYRsAAAAAwjYAEAABhGwAIAADCMgAUAAGAYAQsAAMAwAhYAAIBhBCwAAADDCFgAAACGEbAAAAAMI2ABAAAYRsACAAAwjIAFAABgGAELAADAMAIWAACAYQQsAAAAw26IgLVkyRL16NGj%2Be9lZWXKyspSv379NGrUKJWUlLh9fuPGjRo%2BfLj69eunnJwclZeXe7tkAADgxwI%2BYB09elRbt25t/nt1dbWmTp2q8ePHq6ysTPPnz9fChQtls9kkSaWlpSoqKtKzzz6rQ4cOaciQIZoyZYouXLjgq0MAAAB%2BJqADVlNTk5588knl5uY2j23btk1du3ZVVlaWwsLClJaWpoyMDG3atEmSZLValZmZqT59%2Bqh9%2B/aaOHGiJGnv3r2%2BOAQAAOCHLL4uwJNeffVVhYWFafTo0XruueckSRUVFUpOTnb7XHJysnbu3Nk8P3LkyOa54OBg9ezZUzabTaNGjWrVvtXV1bLb7W5jFksHxcfHt%2BFoWgoJCXb7EwAAfxZI57OADVhff/21ioqK9Pvf/95t3Ol0KiEhwW0sJiZGDoejeT46OtptPjo6unm%2BNaxWq4qLi93G8vLylJ%2Bf/48cQqtFRd3kkXUBAPCmQDqfBWzAWrp0qTIzM5WUlKRTp079Q991uVxt2js7O1sZGRluYxZLBzkcdW1a97tCQoIVFXWTamvr1djYZHRtAAC8zRPns9jYcKPrtVZABqyysjJ9%2BOGH2r59e4u52NhYOZ1OtzGHw6G4uLjvnXc6nerWrVur94%2BPj29xO9BuP6eGBs%2BEoMbGJo%2BtDQCAtwTS%2BSxwbnb%2BjZKSEtXU1GjIkCFKTU1VZmamJCk1NVXdu3dv8dqF8vJy9enTR5KUkpKiioqK5rnGxkYdOXKkeR4AAOBaAvIK1pw5c/SrX/2q%2Be9VVVXKzs7W1q1b1dTUpLVr12rTpk0aM2aM3nvvPe3fv19Wq1WSlJOTo1mzZumBBx5Qjx499F//9V8KDQ3V4MGDfXQ0f99d89/ydQkAAOA7AjJgRUdHuz2o3tDQIEnq3LmzJGnt2rVavHixnnrqKSUmJmr58uX6yU9%2BIkkaNGiQZs2apRkzZqimpka9e/fWunXr1L59e%2B8fCAAA8EtBrrY%2B0Y1WsdvPGV/TYgnWvSsOGF8XAABvO/z0CDkcdcafwerUKdLoeq0VkM9gAQAA%2BBIBCwAAwDACFgAAgGEELAAAAMMIWAAAAIYRsAAAAAwjYAEAABhGwAIAADCMgAUAAGAYAQsAAMAwAhYAAIBhBCwAAADDCFgAAACGEbAAAAAMI2ABAAAYRsACAAAwjIAFAABgGAELAADAMAIWAACAYQQsAAAAwwhYAAAAhhGwAAAADCNgAQAAGEbAAgAAMIyABQAAYBgBCwAAwDACFgAAgGEELAAAAMMIWAAAAIYRsAAAAAwjYAEAABhGwAIAADCMgAUAAGAYAQsAAMAwAhYAAIBhARuwKisrlZeXp9TUVKWlpWnOnDmqra2VJB09elQ///nPdeedd%2Bq%2B%2B%2B7T%2BvXr3b67Y8cOjR49Wn379lVmZqYOHjzoi0MAAAB%2BKmAD1pQpUxQVFaXS0lK98cYb%2Buyzz/TMM8/o4sWLmjx5sv71X/9VBw4c0KpVq7R27Vrt3r1b0jfha/bs2SosLNR7772n3NxcTZs2TVVVVT4%2BIgAA4C8CMmDV1tYqJSVFBQUFCg8PV%2BfOnfXQQw/p8OHD2rdvn65cuaInnnhCHTp0UK9evfTII4/IarVKkjZt2qT09HSlp6crLCxMY8aMUffu3VVSUuLjowIAAP7C4usCPCEqKkpLly51Gzt9%2BrTi4%2BNVUVGhHj16KCQkpHkuOTlZmzZtkiRVVFQoPT3d7bvJycmy2Wyt3r%2B6ulp2u91tzGLpoPj4%2BH/0UP6ukJCAzMcAgBtUIJ3XAjJgfZfNZtPLL7%2BsNWvWaOfOnYqKinKbj4mJkdPpVFNTk5xOp6Kjo93mo6Oj9fnnn7d6P6vVquLiYrexvLw85efnX/9BAAAQ4KKibvJ1CcYEfMB6//339cQTT6igoEBpaWnauXPnVT8XFBTU/N9dLleb9szOzlZGRobbmMXSQQ5HXZvW/a5ASvoAANTW1quxscnomrGx4UbXa62ADlilpaX69a9/rYULF%2BrBBx%2BUJMXFxenkyZNun3M6nYqJiVFwcLBiY2PldDpbzMfFxbV63/j4%2BBa3A%2B32c2poMPs/GgAAAkljY1PAnCsD9hLIBx98oNmzZ%2Bu3v/1tc7iSpJSUFH366adqaGhoHrPZbOrTp0/zfHl5udtafzsPAABwLQEZsBoaGrRgwQIVFhZq4MCBbnPp6emKiIjQmjVrVF9fr48//libN29WTk6OJGncuHE6dOiQ9u3bp0uXLmnz5s06efKkxowZ44tDAQAAfijI1dYHjn6ADh8%2BrJ/97GcKDQ1tMffWW2%2Bprq5OTz75pMrLy9WxY0c9/vjjevTRR5s/s3v3bq1cuVKVlZVKSkrS/Pnz1b9//zbVZLefa9P3r8ZiCda9Kw4YXxcAAG87/PQIORx1xm8RduoUaXS91grIgPVDRMACAOD7BVrACshbhAAAAL5EwAIAADCMgAUAAGAYAQsAAMAwAhYAAIBhBCwAAADDCFgAAACGEbAAAAAMI2ABAAAYRsACAAAwjIAFAABgGAELAADAMAIWAACAYQQsAAAAwwhYAAAAhhGwAAAADCNgAQAAGEbAAgAAMIyABQAAYBgBCwAAwDACFgAAgGEELAAAAMMIWAAAAIYRsAAAAAwjYAEAABhGwAIAADCMgAUAAGAYAQsAAMAwAhYAAIBhBCwAAADDCFgAAACGEbAAAAAMI2ABAAAYRsACAAAwjIAFAABgGAHrKiorKzVp0iSlpqZqyJAhWr58uZqamnxdFgAA8BMWXxfwQzR9%2BnT16tVLe/bsUU1NjSZPnqyOHTvq3/7t33xdGgAA8ANcwfoOm82mY8eOqbCwUJGRkeratatyc3NltVp9XRoAAPATXMH6joqKCiUmJio6Orp5rFevXjpx4oTOnz%2BviIiIa65RXV0tu93uNmaxdFB8fLzRWkNCyMcAgMARSOc1AtZ3OJ1ORUVFuY19G7YcDkerApbValVxcbHb2LRp0zR9%2BnRzheqbIPfLzp8pOzvbeHi70VVXV8tqtdJbD6C3nkV/PYfeek51dbWKiooCqreBExUNcrlcbfp%2Bdna23njjDbf/ZGdnG6ru/9jtdhUXF7e4Woa2o7eeQ289i/56Dr31nEDsLVewviMuLk5Op9NtzOl0KigoSHFxca1aIz4%2BPmASOAAA%2BMdxBes7UlJSdPr0aZ05c6Z5zGazKSkpSeHh4T6sDAAA%2BAsC1nckJyerd%2B/eWrlypc6fP6/jx49rw4YNysnJ8XVpAADATxCwruJ3v/udqqurdc8992jChAl68MEH9eijj/q6rBY6deqkadOmqVOnTr4uJeDQW8%2Bht55Ffz2H3npOIPY2yNXWJ7oBAADghitYAAAAhhGwAAAADCNgAQAAGEbAAgAAMIyABQAAYBgBCwAAwDACFgAAgGEELAAAAMMIWAAAAIYRsPxQZWWlJk2apNTUVA0ZMkTLly9XU1OTr8sKGJWVlcrLy1NqaqrS0tI0Z84c1dbW%2BrqsgLNkyRL16NHD12UEnDVr1mjgwIG64447lJubq1OnTvm6pIBw5MgRTZgwQXfddZfuueceFRYW6syZM74uyy8dOHBAaWlpmjlzZou5HTt2aPTo0erbt68yMzN18OBBH1RoBgHLD02fPl0JCQnas2ePNmzYoD179uill17ydVkBY8qUKYqKilJpaaneeOMNffbZZ3rmmWd8XVZAOXr0qLZu3errMgLOK6%2B8opKSEm3cuFEHDx5UUlKSXnzxRV%2BX5fcaGho0adIk3XHHHTp06JC2b9%2BuM2fOaNGiRb4uze%2B88MILWrx4sW677bYWc0ePHtXs2bNVWFio9957T7m5uZo2bZqqqqp8UGnbEbD8jM1m07Fjx1RYWKjIyEh17dpVubm5slqtvi4tINTW1iolJUUFBQUKDw9X586d9dBDD%2Bnw4cO%2BLi1gNDU16cknn1Rubq6vSwk469ev18yZM/WjH/1IERERWrBggRYsWODrsvye3W6X3W7X2LFjFRoaqtjYWN177706evSor0vzO2FhYdq8efNVA9amTZuUnp6u9PR0hYWFacyYMerevbtKSkp8UGnbEbD8TEVFhRITExUdHd081qtXL504cULnz5/3YWWBISoqSkuXLlXHjh2bx06fPq34%2BHgfVhVYXn31VYWFhWn06NG%2BLiWgfPXVVzp16pTOnj2rkSNHKjU1Vfn5%2BdzGMiAhIUE9e/aU1WpVXV2dampqtHv3bg0ePNjXpfmdCRMmKDIy8qpzFRUVSk5OdhtLTk6WzWbzRmnGEbD8jNPpVFRUlNvYt2HL4XD4oqSAZrPZ9PLLL%2BuJJ57wdSkB4euvv1ZRUZGefPJJX5cScL69jfLWW29pw4YN2rp1q6qqqriCZUBwcLCKior09ttvq1%2B/fkpLS1NDQ4MKCgp8XVpAcTqdbhcPpG/Ob/56biNg%2BSGXy%2BXrEm4I77//vh577DEVFBQoLS3N1%2BUEhKVLlyozM1NJSUm%2BLiXgfPvvhYkTJyohIUGdO3fW9OnTVVpaqkuXLvm4Ov92%2BfJlTZkyRSNGjNDhw4f1zjvvKDIyUoWFhb4uLeAE0vmNgOVn4uLi5HQ63cacTqeCgoIUFxfnm6ICUGlpqSZNmqR58%2BZpwoQJvi4nIJSVlenDDz9UXl6er0sJSN/e1v7bK9yJiYlyuVyqqanxVVkBoaysTKdOndKsWbMUGRmphIQE5efn63/%2B539a/PsY1y82Nvaq5zd/PbcRsPxMSkqKTp8%2B7fZchc1mU1JSksLDw31YWeD44IMPNHv2bP32t7/Vgw8%2B6OtyAkZJSYlqamo0ZMgQpaamKjMzU5KUmpqqN99808fV%2Bb/OnTsrIiLC7cHryspKtWvXjmcI26ixsVFNTU1uV1cuX77sw4oCU0pKisrLy93GbDab%2BvTp46OK2oaA5WeSk5PVu3dvrVy5UufPn9fx48e1YcMG5eTk%2BLq0gNDQ0KAFCxaosLBQAwcO9HU5AWXOnDnatWuXtm7dqq1bt2rdunWSpK1btyojI8PH1fk/i8WirKwsPf/88/rLX/6impoarV69WqNHj5bFYvF1eX6tb9%2B%2B6tChg4qKilRfXy%2BHw6E1a9aof//%2BiomJ8XV5AWPcuHE6dOiQ9u3bp0uXLmnz5s06efKkxowZ4%2BvSrkuQK5BueN4gqqqqtHDhQv3v//6vIiIiNH78eE2bNk1BQUG%2BLs3vHT58WD/72c8UGhraYu6tt95SYmKiD6oKTKdOndLQoUP16aef%2BrqUgHH58mUtXbpUb775pq5cuaLhw4dr4cKFXN02oLy8XM8884yOHTum0NBQDRgwQHPmzFFCQoKvS/MrvXv3lvTN/5mV1Bz%2Bv/1Jwd27d2vlypWqrKxUUlKS5s%2Bfr/79%2B/um2DYiYAEAABjGLUIAAADDCFgAAACGEbAAAAAMI2ABAAAYRsACAAAwjIAFAABgGAELAADAMAIWAACAYQQsAAAAwwhYAAAAhhGwAAAADCNgAQAAGEbAAgAAMOz/AVQLAJL%2B07E8AAAAAElFTkSuQmCC\"/>\n",
       "        </div>\n",
       "        <div role=\"tabpanel\" class=\"tab-pane col-md-12\" id=\"common-3038888990260508794\">\n",
       "            \n",
       "<table class=\"freq table table-hover\">\n",
       "    <thead>\n",
       "    <tr>\n",
       "        <td class=\"fillremaining\">Value</td>\n",
       "        <td class=\"number\">Count</td>\n",
       "        <td class=\"number\">Frequency (%)</td>\n",
       "        <td style=\"min-width:200px\">&nbsp;</td>\n",
       "    </tr>\n",
       "    </thead>\n",
       "    <tr class=\"\">\n",
       "        <td class=\"fillremaining\">1.0</td>\n",
       "        <td class=\"number\">952</td>\n",
       "        <td class=\"number\">9.5%</td>\n",
       "        <td>\n",
       "            <div class=\"bar\" style=\"width:100%\">&nbsp;</div>\n",
       "        </td>\n",
       "</tr><tr class=\"\">\n",
       "        <td class=\"fillremaining\">2.0</td>\n",
       "        <td class=\"number\">950</td>\n",
       "        <td class=\"number\">9.5%</td>\n",
       "        <td>\n",
       "            <div class=\"bar\" style=\"width:99%\">&nbsp;</div>\n",
       "        </td>\n",
       "</tr><tr class=\"\">\n",
       "        <td class=\"fillremaining\">8.0</td>\n",
       "        <td class=\"number\">933</td>\n",
       "        <td class=\"number\">9.3%</td>\n",
       "        <td>\n",
       "            <div class=\"bar\" style=\"width:98%\">&nbsp;</div>\n",
       "        </td>\n",
       "</tr><tr class=\"\">\n",
       "        <td class=\"fillremaining\">3.0</td>\n",
       "        <td class=\"number\">928</td>\n",
       "        <td class=\"number\">9.3%</td>\n",
       "        <td>\n",
       "            <div class=\"bar\" style=\"width:97%\">&nbsp;</div>\n",
       "        </td>\n",
       "</tr><tr class=\"\">\n",
       "        <td class=\"fillremaining\">5.0</td>\n",
       "        <td class=\"number\">927</td>\n",
       "        <td class=\"number\">9.3%</td>\n",
       "        <td>\n",
       "            <div class=\"bar\" style=\"width:97%\">&nbsp;</div>\n",
       "        </td>\n",
       "</tr><tr class=\"\">\n",
       "        <td class=\"fillremaining\">7.0</td>\n",
       "        <td class=\"number\">925</td>\n",
       "        <td class=\"number\">9.2%</td>\n",
       "        <td>\n",
       "            <div class=\"bar\" style=\"width:97%\">&nbsp;</div>\n",
       "        </td>\n",
       "</tr><tr class=\"\">\n",
       "        <td class=\"fillremaining\">4.0</td>\n",
       "        <td class=\"number\">885</td>\n",
       "        <td class=\"number\">8.8%</td>\n",
       "        <td>\n",
       "            <div class=\"bar\" style=\"width:93%\">&nbsp;</div>\n",
       "        </td>\n",
       "</tr><tr class=\"\">\n",
       "        <td class=\"fillremaining\">9.0</td>\n",
       "        <td class=\"number\">882</td>\n",
       "        <td class=\"number\">8.8%</td>\n",
       "        <td>\n",
       "            <div class=\"bar\" style=\"width:92%\">&nbsp;</div>\n",
       "        </td>\n",
       "</tr><tr class=\"\">\n",
       "        <td class=\"fillremaining\">6.0</td>\n",
       "        <td class=\"number\">881</td>\n",
       "        <td class=\"number\">8.8%</td>\n",
       "        <td>\n",
       "            <div class=\"bar\" style=\"width:92%\">&nbsp;</div>\n",
       "        </td>\n",
       "</tr><tr class=\"\">\n",
       "        <td class=\"fillremaining\">10.0</td>\n",
       "        <td class=\"number\">446</td>\n",
       "        <td class=\"number\">4.5%</td>\n",
       "        <td>\n",
       "            <div class=\"bar\" style=\"width:47%\">&nbsp;</div>\n",
       "        </td>\n",
       "</tr><tr class=\"missing\">\n",
       "        <td class=\"fillremaining\">(Missing)</td>\n",
       "        <td class=\"number\">909</td>\n",
       "        <td class=\"number\">9.1%</td>\n",
       "        <td>\n",
       "            <div class=\"bar\" style=\"width:95%\">&nbsp;</div>\n",
       "        </td>\n",
       "</tr>\n",
       "</table>\n",
       "        </div>\n",
       "        <div role=\"tabpanel\" class=\"tab-pane col-md-12\"  id=\"extreme-3038888990260508794\">\n",
       "            <p class=\"h4\">Minimum 5 values</p>\n",
       "            \n",
       "<table class=\"freq table table-hover\">\n",
       "    <thead>\n",
       "    <tr>\n",
       "        <td class=\"fillremaining\">Value</td>\n",
       "        <td class=\"number\">Count</td>\n",
       "        <td class=\"number\">Frequency (%)</td>\n",
       "        <td style=\"min-width:200px\">&nbsp;</td>\n",
       "    </tr>\n",
       "    </thead>\n",
       "    <tr class=\"\">\n",
       "        <td class=\"fillremaining\">0.0</td>\n",
       "        <td class=\"number\">382</td>\n",
       "        <td class=\"number\">3.8%</td>\n",
       "        <td>\n",
       "            <div class=\"bar\" style=\"width:40%\">&nbsp;</div>\n",
       "        </td>\n",
       "</tr><tr class=\"\">\n",
       "        <td class=\"fillremaining\">1.0</td>\n",
       "        <td class=\"number\">952</td>\n",
       "        <td class=\"number\">9.5%</td>\n",
       "        <td>\n",
       "            <div class=\"bar\" style=\"width:100%\">&nbsp;</div>\n",
       "        </td>\n",
       "</tr><tr class=\"\">\n",
       "        <td class=\"fillremaining\">2.0</td>\n",
       "        <td class=\"number\">950</td>\n",
       "        <td class=\"number\">9.5%</td>\n",
       "        <td>\n",
       "            <div class=\"bar\" style=\"width:99%\">&nbsp;</div>\n",
       "        </td>\n",
       "</tr><tr class=\"\">\n",
       "        <td class=\"fillremaining\">3.0</td>\n",
       "        <td class=\"number\">928</td>\n",
       "        <td class=\"number\">9.3%</td>\n",
       "        <td>\n",
       "            <div class=\"bar\" style=\"width:97%\">&nbsp;</div>\n",
       "        </td>\n",
       "</tr><tr class=\"\">\n",
       "        <td class=\"fillremaining\">4.0</td>\n",
       "        <td class=\"number\">885</td>\n",
       "        <td class=\"number\">8.8%</td>\n",
       "        <td>\n",
       "            <div class=\"bar\" style=\"width:93%\">&nbsp;</div>\n",
       "        </td>\n",
       "</tr>\n",
       "</table>\n",
       "            <p class=\"h4\">Maximum 5 values</p>\n",
       "            \n",
       "<table class=\"freq table table-hover\">\n",
       "    <thead>\n",
       "    <tr>\n",
       "        <td class=\"fillremaining\">Value</td>\n",
       "        <td class=\"number\">Count</td>\n",
       "        <td class=\"number\">Frequency (%)</td>\n",
       "        <td style=\"min-width:200px\">&nbsp;</td>\n",
       "    </tr>\n",
       "    </thead>\n",
       "    <tr class=\"\">\n",
       "        <td class=\"fillremaining\">6.0</td>\n",
       "        <td class=\"number\">881</td>\n",
       "        <td class=\"number\">8.8%</td>\n",
       "        <td>\n",
       "            <div class=\"bar\" style=\"width:94%\">&nbsp;</div>\n",
       "        </td>\n",
       "</tr><tr class=\"\">\n",
       "        <td class=\"fillremaining\">7.0</td>\n",
       "        <td class=\"number\">925</td>\n",
       "        <td class=\"number\">9.2%</td>\n",
       "        <td>\n",
       "            <div class=\"bar\" style=\"width:99%\">&nbsp;</div>\n",
       "        </td>\n",
       "</tr><tr class=\"\">\n",
       "        <td class=\"fillremaining\">8.0</td>\n",
       "        <td class=\"number\">933</td>\n",
       "        <td class=\"number\">9.3%</td>\n",
       "        <td>\n",
       "            <div class=\"bar\" style=\"width:100%\">&nbsp;</div>\n",
       "        </td>\n",
       "</tr><tr class=\"\">\n",
       "        <td class=\"fillremaining\">9.0</td>\n",
       "        <td class=\"number\">882</td>\n",
       "        <td class=\"number\">8.8%</td>\n",
       "        <td>\n",
       "            <div class=\"bar\" style=\"width:94%\">&nbsp;</div>\n",
       "        </td>\n",
       "</tr><tr class=\"\">\n",
       "        <td class=\"fillremaining\">10.0</td>\n",
       "        <td class=\"number\">446</td>\n",
       "        <td class=\"number\">4.5%</td>\n",
       "        <td>\n",
       "            <div class=\"bar\" style=\"width:48%\">&nbsp;</div>\n",
       "        </td>\n",
       "</tr>\n",
       "</table>\n",
       "        </div>\n",
       "    </div>\n",
       "</div>\n",
       "</div><div class=\"row variablerow\">\n",
       "    <div class=\"col-md-3 namecol\">\n",
       "        <p class=\"h4 pp-anchor\" id=\"pp_var_Balance\">Balance<br/>\n",
       "            <small>Numeric</small>\n",
       "        </p>\n",
       "    </div><div class=\"col-md-6\">\n",
       "    <div class=\"row\">\n",
       "        <div class=\"col-sm-6\">\n",
       "            <table class=\"stats \">\n",
       "                <tr>\n",
       "                    <th>Distinct count</th>\n",
       "                    <td>6382</td>\n",
       "                </tr>\n",
       "                <tr>\n",
       "                    <th>Unique (%)</th>\n",
       "                    <td>63.8%</td>\n",
       "                </tr>\n",
       "                <tr class=\"ignore\">\n",
       "                    <th>Missing (%)</th>\n",
       "                    <td>0.0%</td>\n",
       "                </tr>\n",
       "                <tr class=\"ignore\">\n",
       "                    <th>Missing (n)</th>\n",
       "                    <td>0</td>\n",
       "                </tr>\n",
       "                <tr class=\"ignore\">\n",
       "                    <th>Infinite (%)</th>\n",
       "                    <td>0.0%</td>\n",
       "                </tr>\n",
       "                <tr class=\"ignore\">\n",
       "                    <th>Infinite (n)</th>\n",
       "                    <td>0</td>\n",
       "                </tr>\n",
       "            </table>\n",
       "\n",
       "        </div>\n",
       "        <div class=\"col-sm-6\">\n",
       "            <table class=\"stats \">\n",
       "\n",
       "                <tr>\n",
       "                    <th>Mean</th>\n",
       "                    <td>76486</td>\n",
       "                </tr>\n",
       "                <tr>\n",
       "                    <th>Minimum</th>\n",
       "                    <td>0</td>\n",
       "                </tr>\n",
       "                <tr>\n",
       "                    <th>Maximum</th>\n",
       "                    <td>250900</td>\n",
       "                </tr>\n",
       "                <tr class=\"alert\">\n",
       "                    <th>Zeros (%)</th>\n",
       "                    <td>36.2%</td>\n",
       "                </tr>\n",
       "            </table>\n",
       "        </div>\n",
       "    </div>\n",
       "</div>\n",
       "<div class=\"col-md-3 collapse in\" id=\"minihistogram7247964243011071211\">\n",
       "    <img src=\"data:image/png;base64,iVBORw0KGgoAAAANSUhEUgAAAMgAAABLCAYAAAA1fMjoAAAAOXRFWHRTb2Z0d2FyZQBNYXRwbG90bGliIHZlcnNpb24zLjUuMSwgaHR0cHM6Ly9tYXRwbG90bGliLm9yZy/YYfK9AAAACXBIWXMAAA9hAAAPYQGoP6dpAAABMElEQVR4nO3bwW0CMRBA0RClpBRBT5zpiSLSk7kihL52kaI1u%2B/dkXz5Ggbj0xhjfAEvfW99AJjZz9YHePZ7ua3%2BzN/1/A8nARMEkkAgCASCQCAIBIJAIAgEgkAgCASCQCAIBIJAIAgEgkAgCASCQCAIBIJAIAgEwnRv0vfE%2B/rPZ4JAEAgEgUCwg0zG3jIXEwSCQCAIBIJAIAgEgkAgCASCe5AV3rmj4LOZIBAEAkEgEAQCwZK%2BA2t/PPDnxuVMEAgCgSAQCAKBcNgl3a04S5ggEA47QY7Mu/flTBAIpzHG2PoQj%2BwG%2B7GHqTNdIDATX7EgCASCQCAIBIJAIAgEgkAgCASCQCAIBIJAIAgEgkAgCASCQCAIBIJAIAgEgkAgCASCQCAIBIJAIAgEgkAg3AGI%2BSFkqNlBpAAAAABJRU5ErkJggg%3D%3D\">\n",
       "\n",
       "</div>\n",
       "<div class=\"col-md-12 text-right\">\n",
       "    <a role=\"button\" data-toggle=\"collapse\" data-target=\"#descriptives7247964243011071211,#minihistogram7247964243011071211\"\n",
       "       aria-expanded=\"false\" aria-controls=\"collapseExample\">\n",
       "        Toggle details\n",
       "    </a>\n",
       "</div>\n",
       "<div class=\"row collapse col-md-12\" id=\"descriptives7247964243011071211\">\n",
       "    <ul class=\"nav nav-tabs\" role=\"tablist\">\n",
       "        <li role=\"presentation\" class=\"active\"><a href=\"#quantiles7247964243011071211\"\n",
       "                                                  aria-controls=\"quantiles7247964243011071211\" role=\"tab\"\n",
       "                                                  data-toggle=\"tab\">Statistics</a></li>\n",
       "        <li role=\"presentation\"><a href=\"#histogram7247964243011071211\" aria-controls=\"histogram7247964243011071211\"\n",
       "                                   role=\"tab\" data-toggle=\"tab\">Histogram</a></li>\n",
       "        <li role=\"presentation\"><a href=\"#common7247964243011071211\" aria-controls=\"common7247964243011071211\"\n",
       "                                   role=\"tab\" data-toggle=\"tab\">Common Values</a></li>\n",
       "        <li role=\"presentation\"><a href=\"#extreme7247964243011071211\" aria-controls=\"extreme7247964243011071211\"\n",
       "                                   role=\"tab\" data-toggle=\"tab\">Extreme Values</a></li>\n",
       "\n",
       "    </ul>\n",
       "\n",
       "    <div class=\"tab-content\">\n",
       "        <div role=\"tabpanel\" class=\"tab-pane active row\" id=\"quantiles7247964243011071211\">\n",
       "            <div class=\"col-md-4 col-md-offset-1\">\n",
       "                <p class=\"h4\">Quantile statistics</p>\n",
       "                <table class=\"stats indent\">\n",
       "                    <tr>\n",
       "                        <th>Minimum</th>\n",
       "                        <td>0</td>\n",
       "                    </tr>\n",
       "                    <tr>\n",
       "                        <th>5-th percentile</th>\n",
       "                        <td>0</td>\n",
       "                    </tr>\n",
       "                    <tr>\n",
       "                        <th>Q1</th>\n",
       "                        <td>0</td>\n",
       "                    </tr>\n",
       "                    <tr>\n",
       "                        <th>Median</th>\n",
       "                        <td>97199</td>\n",
       "                    </tr>\n",
       "                    <tr>\n",
       "                        <th>Q3</th>\n",
       "                        <td>127640</td>\n",
       "                    </tr>\n",
       "                    <tr>\n",
       "                        <th>95-th percentile</th>\n",
       "                        <td>162710</td>\n",
       "                    </tr>\n",
       "                    <tr>\n",
       "                        <th>Maximum</th>\n",
       "                        <td>250900</td>\n",
       "                    </tr>\n",
       "                    <tr>\n",
       "                        <th>Range</th>\n",
       "                        <td>250900</td>\n",
       "                    </tr>\n",
       "                    <tr>\n",
       "                        <th>Interquartile range</th>\n",
       "                        <td>127640</td>\n",
       "                    </tr>\n",
       "                </table>\n",
       "            </div>\n",
       "            <div class=\"col-md-4 col-md-offset-2\">\n",
       "                <p class=\"h4\">Descriptive statistics</p>\n",
       "                <table class=\"stats indent\">\n",
       "                    <tr>\n",
       "                        <th>Standard deviation</th>\n",
       "                        <td>62397</td>\n",
       "                    </tr>\n",
       "                    <tr>\n",
       "                        <th>Coef of variation</th>\n",
       "                        <td>0.8158</td>\n",
       "                    </tr>\n",
       "                    <tr>\n",
       "                        <th>Kurtosis</th>\n",
       "                        <td>-1.4894</td>\n",
       "                    </tr>\n",
       "                    <tr>\n",
       "                        <th>Mean</th>\n",
       "                        <td>76486</td>\n",
       "                    </tr>\n",
       "                    <tr>\n",
       "                        <th>MAD</th>\n",
       "                        <td>56661</td>\n",
       "                    </tr>\n",
       "                    <tr class=\"\">\n",
       "                        <th>Skewness</th>\n",
       "                        <td>-0.14111</td>\n",
       "                    </tr>\n",
       "                    <tr>\n",
       "                        <th>Sum</th>\n",
       "                        <td>764860000</td>\n",
       "                    </tr>\n",
       "                    <tr>\n",
       "                        <th>Variance</th>\n",
       "                        <td>3893400000</td>\n",
       "                    </tr>\n",
       "                    <tr>\n",
       "                        <th>Memory size</th>\n",
       "                        <td>78.2 KiB</td>\n",
       "                    </tr>\n",
       "                </table>\n",
       "            </div>\n",
       "        </div>\n",
       "        <div role=\"tabpanel\" class=\"tab-pane col-md-8 col-md-offset-2\" id=\"histogram7247964243011071211\">\n",
       "            <img src=\"data:image/png;base64,iVBORw0KGgoAAAANSUhEUgAAAlgAAAGQCAYAAAByNR6YAAAAOXRFWHRTb2Z0d2FyZQBNYXRwbG90bGliIHZlcnNpb24zLjUuMSwgaHR0cHM6Ly9tYXRwbG90bGliLm9yZy/YYfK9AAAACXBIWXMAAA9hAAAPYQGoP6dpAAA3k0lEQVR4nO3de3gU9b3H8U%2BSlSDkDgTbSIFyCSSbcCc0IOEioCIICIT4KFBBAYMxERQLolCxYAlFBQ4Sra2op0aQKlAQRS71QuupFt0EUAlYkAYTYZdASIAkc/7wsKcrt2Bmd5nl/XqePK2/3%2B7M9/fdzfLJzGQSZBiGIQAAAJgm2N8FAAAABBoCFgAAgMkIWAAAACYjYAEAAJiMgAUAAGAyAhYAAIDJCFgAAAAmI2ABAACYjIAFAABgMgIWAACAyQhYAAAAJiNgAQAAmIyABQAAYDICFgAAgMkIWAAAACYjYAEAAJiMgAUAAGAyAhYAAIDJCFgAAAAmI2ABAACYjIAFAABgMgIWAACAyQhYAAAAJiNgAQAAmIyABQAAYDICFgAAgMkIWAAAACYjYAEAAJiMgAUAAGAyAhYAAIDJCFgAAAAmI2ABAACYjIAFAABgMgIWAACAyQhYAAAAJiNgAQAAmIyABQAAYDICFgAAgMkIWAAAACaz%2BbuAq0Vp6XHTtxkcHKSYmIY6erRcNTWG6du/mtFb76G33kNvvYfeeo%2B3e9ukSbjp26wNjmBZWHBwkIKCghQcHOTvUgIOvfUeeus99NZ76K33BGpvCVgAAAAmI2ABAACYjIAFAABgMgIWAACAyQhYAAAAJiNgAQAAmIyABQAAYDICFgAAgMkIWAAAACYjYAEAAJiMgAUAAGAyAhYAAIDJCFgAAAAms/m7ANRN11lv%2B7uEWtuY3dPfJQAA4BMcwQIAADAZAQsAAMBkBCwAAACTEbAAAABMRsACAAAwmWUD1p49ezRu3Dh16dJFqampys7OVmlpqf7%2B978rPj5eSUlJHl8bN250P3flypUaNGiQOnfurIyMDBUUFLjnTp06pccee0y9e/dWSkqKsrKy5HQ6/bFEAABgUZYMWKdPn9bdd9%2Bt7t27a8eOHVq/fr2OHDmiOXPmSJLi4uLkcDg8vm6%2B%2BWZJ0pYtW7RkyRL99re/1UcffaS%2Bfftq8uTJOnnypCRp8eLFKiwsVH5%2BvjZt2iTDMPSrX/3KX0sFAAAWZMmAVVFRoZycHE2aNEn16tVTTEyMBgwYoK%2B%2B%2BuqSz83Pz9eIESPUoUMH1a9fXxMnTpQkbd26VVVVVVq9erXuu%2B8%2B/eQnP1FUVJSys7O1bds2ffvtt95eFgAACBCWDFiRkZEaNWqUbLbv75O6b98%2B/fnPf3YfpSovL1dmZqZSUlJ0ww036A9/%2BIMMw5AkFRYWKiEhwb2t4OBgtW/fXg6HQwcOHNDx48eVmJjonm/VqpXq16%2BvwsJCH64QAABYmaXv5H7o0CENGjRIVVVVGj16tLKysrRnzx61bdtW48aN0%2BLFi/Xxxx/rgQceUHh4uEaOHCmXy6XIyEiP7URGRsrpdMrlckmSIiIiPOYjIiIu6zqskpISlZaWeozZbA0UGxv74xZ6ASEh1srHNpt16j3bW6v12ArorffQW%2B%2Bht94TqL21dMA6e63Vv/71Lz322GN6%2BOGHtWjRIr388svux/Tq1UtjxozRmjVrNHLkSElyH826kEvNX0p%2Bfr6WLl3qMZaZmamsrKw6bdfqoqMb%2BruEyxYRca2/SwhY9NZ76K330FvvCbTeWjpgSVJQUJBatGihnJwcjRkzRrNmzVJMTIzHY%2BLi4rRp0yZJUnR0tPtI1Vkul0tt2rRxP8/lcqlhw/8PA8eOHVOjRo1qXVN6err69evnMWazNZDTWX45S7skq6V9s9fvTSEhwYqIuFZlZRWqrq7xdzkBhd56D731HnrrPd7urb9%2BuLdkwNqxY4fmzJmjjRs3Kjj4%2B5Bx9n%2B3b9%2BuiooK3XHHHe7H79u3T82aNZMk2e12FRYWavjw4ZKk6upq7dq1SyNHjlSzZs0UGRmpwsJCxcXFSZK%2B/PJLnT59Wna7vdb1xcbGnnM6sLT0uKqqru5vSiuuv7q6xpJ1WwG99R566z301nsCrbfWOgTyf%2Bx2u06cOKGFCxeqoqJCR48e1ZIlS9S1a1eFh4frqaee0gcffKAzZ87oww8/1BtvvKGMjAxJUkZGht58803t3LlTFRUVWr58uerVq6c%2BffooJCREo0eP1nPPPafi4mI5nU797ne/04ABA9S4cWM/rxoAAFiFJY9ghYeH68UXX9S8efPUo0cPNWjQQD169NCTTz6ppk2baubMmXriiSdUXFysxo0ba%2BbMmRo4cKAkqXfv3nrwwQeVnZ2tI0eOKCkpSXl5eapfv74kKSsrS%2BXl5brttttUVVWlvn37uu%2BvBQAAUBtBRl2v6EatlJYeN32bNluwBuS%2Bb/p2vWVjdk9/l1BrNluwoqMbyuksD6hD1lcCeus99NZ76K33eLu3TZqEm77N2rDkKUIAAIArGQELAADAZAQsAAAAkxGwAAAATEbAAgAAMBkBCwAAwGQELAAAAJMRsAAAAExGwAIAADAZAQsAAMBkBCwAAACTEbAAAABMRsACAAAwGQELAADAZAQsAAAAkxGwAAAATEbAAgAAMBkBCwAAwGQELAAAAJMRsAAAAExGwAIAADAZAQsAAMBkBCwAAACTEbAAAABMRsACAAAwGQELAADAZAQsAAAAkxGwAAAATEbAAgAAMBkBCwAAwGQELAAAAJNZNmDt2bNH48aNU5cuXZSamqrs7GyVlpZKknbs2KGRI0eqc%2BfOGjx4sNauXevx3JUrV2rQoEHq3LmzMjIyVFBQ4J47deqUHnvsMfXu3VspKSnKysqS0%2Bn06doAAIC1WTJgnT59Wnfffbe6d%2B%2BuHTt2aP369Tpy5IjmzJmjkpIS3XfffRozZox27NihWbNmafbs2XI4HJKkLVu2aMmSJfrtb3%2Brjz76SH379tXkyZN18uRJSdLixYtVWFio/Px8bdq0SYZh6Fe/%2BpU/lwsAACzGkgGroqJCOTk5mjRpkurVq6eYmBgNGDBAX331ldatW6cWLVpo5MiRCg0NVWpqqvr166dVq1ZJkvLz8zVixAh16NBB9evX18SJEyVJW7duVVVVlVavXq377rtPP/nJTxQVFaXs7Gxt27ZN3377rT%2BXDAAALMSSASsyMlKjRo2SzWaTJO3bt09//vOfdfPNN6uwsFAJCQkej09ISHCfBvzhfHBwsNq3by%2BHw6EDBw7o%2BPHjSkxMdM%2B3atVK9evXV2FhoQ9WBgAAAoHN3wXUxaFDhzRo0CBVVVVp9OjRysrK0j333KOmTZt6PC4qKsp9HZXL5VJkZKTHfGRkpJxOp1wulyQpIiLCYz4iIuKyrsMqKSlxXw92ls3WQLGxsbXeRm2EhFgrH9ts1qn3bG%2Bt1mMroLfeQ2%2B9h956T6D21tIBKy4uTg6HQ//617/02GOP6eGHH67V8wzDqNP8peTn52vp0qUeY5mZmcrKyqrTdq0uOrqhv0u4bBER1/q7hIBFb72H3noPvfWeQOutpQOWJAUFBalFixbKycnRmDFjlJaW5j4SdZbT6VRMTIwkKTo6%2Bpx5l8ulNm3auB/jcrnUsOH/h4Fjx46pUaNGta4pPT1d/fr18xiz2RrI6Sy/jJVdmtXSvtnr96aQkGBFRFyrsrIKVVfX%2BLucgEJvvYfeeg%2B99R5v99ZfP9xbMmDt2LFDc%2BbM0caNGxUc/H3IOPu/ycnJ2rRpk8fjCwoK1KFDB0mS3W5XYWGhhg8fLkmqrq7Wrl27NHLkSDVr1kyRkZEqLCxUXFycJOnLL7/U6dOnZbfba11fbGzsOacDS0uPq6rq6v6mtOL6q6trLFm3FdBb76G33kNvvSfQemutQyD/x26368SJE1q4cKEqKip09OhRLVmyRF27dlVGRoYOHTqkVatW6dSpU9q%2Bfbu2b9%2Bu0aNHS5IyMjL05ptvaufOnaqoqNDy5ctVr1499enTRyEhIRo9erSee%2B45FRcXy%2Bl06ne/%2B50GDBigxo0b%2B3nVAADAKix5BCs8PFwvvvii5s2bpx49eqhBgwbq0aOHnnzySTVq1EgrVqzQvHnzNHfuXMXFxWnhwoVq166dJKl379568MEHlZ2drSNHjigpKUl5eXmqX7%2B%2BJCkrK0vl5eW67bbbVFVVpb59%2B2rOnDl%2BXC0AALCaIKOuV3SjVkpLj5u%2BTZstWANy3zd9u96yMbunv0uoNZstWNHRDeV0lgfUIesrAb31HnrrPfTWe7zd2yZNwk3fZm1Y8hQhAADAlYyABQAAYDICFgAAgMkIWAAAACYjYAEAAJiMgAUAAGAyAhYAAIDJCFgAAAAmI2ABAACYjIAFAABgMgIWAACAyQhYAAAAJiNgAQAAmIyABQAAYDICFgAAgMkIWAAAACYjYAEAAJiMgAUAAGAyAhYAAIDJCFgAAAAmI2ABAACYjIAFAABgMgIWAACAyQhYAAAAJiNgAQAAmIyABQAAYDICFgAAgMkIWAAAACYjYAEAAJiMgAUAAGAyAhYAAIDJLBuwDh06pMzMTKWkpCg1NVWPPPKIysrK9M033yg%2BPl5JSUkeX7///e/dz92wYYOGDBmiTp06acSIEfrggw/cczU1NVq8eLH69%2B%2Bvbt26acKECTp48KA/lggAACzKsgFr8uTJioiI0JYtW7RmzRp99dVXeuqpp9zzDofD42vChAmSpN27d2vGjBmaPn26/va3v2n8%2BPGaOnWqDh8%2BLEl69dVXtW7dOuXl5Wnr1q1q0aKFMjMzZRiGX9YJAACsx5IBq6ysTHa7XdOmTVPDhg113XXXafjw4frHP/5xyeeuWrVKaWlpSktLU2hoqIYOHaq2bdtq7dq1kqT8/HyNHz9erVq1UlhYmHJyclRUVKTPPvvM28sCAAABwpIBKyIiQvPnz1fjxo3dY8XFxYqNjXX/98MPP6xevXqpR48eWrRokc6cOSNJKiwsVEJCgsf2EhIS5HA4VFlZqb1793rMh4WFqXnz5nI4HF5eFQAACBQ2fxdgBofDoVdeeUXLly9XvXr11KlTJw0YMEBPPvmkdu/erfvvv182m00PPPCAXC6XIiMjPZ4fGRmpvXv36tixYzIM47zzTqez1vWUlJSotLTUY8xma%2BARAM0QEmKtfGyzWafes721Wo%2BtgN56D731HnrrPYHaW8sHrE8%2B%2BURTpkzRtGnTlJqaKkl67bXX3PPJycmaNGmSVqxYoQceeECSLnk9VV2vt8rPz9fSpUs9xjIzM5WVlVWn7VpddHRDf5dw2SIirvV3CQGL3noPvfUeeus9gdZbSwesLVu26KGHHtLs2bM1bNiwCz4uLi5O3333nQzDUHR0tFwul8e8y%2BVSTEyMoqKiFBwcfN75Ro0a1bqu9PR09evXz2PMZmsgp7O81tuoDaulfbPX700hIcGKiLhWZWUVqq6u8Xc5AYXeeg%2B99R566z3e7q2/fri3bMD69NNPNWPGDD3zzDPq1auXe3zHjh3auXOnpkyZ4h7bt2%2Bf4uLiFBQUJLvdroKCAo9tORwODR48WKGhoWrTpo0KCwvVvXt3Sd9fUH/gwAElJyfXurbY2NhzTgeWlh5XVdXV/U1pxfVXV9dYsm4roLfeQ2%2B9h956T6D11lqHQP5PVVWVHn30UU2fPt0jXElSeHi4li1bprfeektnzpyRw%2BHQ73//e2VkZEiSRo8erY8%2B%2Bkjbtm3TqVOntHr1an399dcaOnSoJCkjI0MrV65UUVGRTpw4odzcXLVv315JSUk%2BXycAALAmSx7B2rlzp4qKijRv3jzNmzfPY%2B7tt9/W4sWLtXTpUj322GMKDw/XXXfdpXHjxkmS2rZtq9zcXM2fP1%2BHDh1S69attWLFCjVp0kSSNGbMGJWWluquu%2B5SeXm5UlJSzrmeCgAA4GKCDO6g6ROlpcdN36bNFqwBue%2Bbvl1v2Zjd098l1JrNFqzo6IZyOssD6pD1lYDeeg%2B99R566z3e7m2TJuGmb7M2LHmKEAAA4EpGwAIAADAZAQsAAMBkBCwAAACTEbAAAABMRsACAAAwGQELAADAZAQsAAAAkxGwAAAATEbAAgAAMBkBCwAAwGQ%2BD1j9%2BvXT0qVLVVxc7OtdAwAA%2BITPA9btt9%2BuDRs26MYbb9TEiRP1zjvvqKqqytdlAAAAeI3PA1ZmZqY2bNig119/XW3atNFvfvMbpaWlaeHChdq/f7%2BvywEAADCd367BSkxM1IwZM7R161bNnDlTr7/%2Bum655RZNmDBBn3/%2Bub/KAgAAqDO/BawzZ85ow4YNuueeezRjxgw1bdpUv/rVr9S%2BfXuNHz9e69at81dpAAAAdWLz9Q6Lioq0evVqvfnmmyovL9egQYP00ksvqUuXLu7HdOvWTXPmzNGQIUN8XR4AAECd%2BTxgDR48WC1bttSkSZM0bNgwRUVFnfOYtLQ0HT161NelAQAAmMLnAWvlypXq3r37JR/32Wef%2BaAaAAAA8/n8Gqz4%2BHhNnjxZmzdvdo/98Y9/1D333COXy%2BXrcgAAAEzn84A1f/58HT9%2BXK1bt3aP9enTRzU1NVqwYIGvywEAADCdz08RfvDBB1q3bp2io6PdYy1atFBubq5uvfVWX5cDAABgOp8fwaqsrFRoaOi5hQQHq6KiwtflAAAAmM7nAatbt25asGCBjh075h779ttvNXfuXI9bNQAAAFiVz08Rzpw5U3fffbd%2B8YtfKCwsTDU1NSovL1ezZs308ssv%2B7ocAAAA0/k8YDVr1kx/%2Bctf9Ne//lUHDhxQcHCwWrZsqV69eikkJMTX5QAAAJjO5wFLkurVq6cbb7zRH7sGAADwOp8HrIMHD2rRokX66quvVFlZec78e%2B%2B95%2BuSAAAATOWXa7BKSkrUq1cvNWjQwNe7BwAA8DqfB6yCggK99957iomJ8fWuAVwhus56298lXJaN2T39XQIAi/H5bRoaNWrEkSsAABDQfB6wJk2apKVLl8owjDpt59ChQ8rMzFRKSopSU1P1yCOPqKysTJK0e/du3XnnnerSpYsGDhyoF1980eO5GzZs0JAhQ9SpUyeNGDFCH3zwgXuupqZGixcvVv/%2B/dWtWzdNmDBBBw8erFOtAADg6uLzU4R//etf9emnn2rNmjW6/vrrFRzsmfFee%2B21Wm1n8uTJstvt2rJli44fP67MzEw99dRTmj17tiZNmqTRo0crLy9P%2B/fv1913363rr79eAwcO1O7duzVjxgwtXbpUPXr00KZNmzR16lS9/fbbuu666/Tqq69q3bp1ev7559W0aVMtXrxYmZmZeuuttxQUFOSNlgAAgADj8yNYYWFh6t27t9LS0tSqVSu1bNnS46s2ysrKZLfbNW3aNDVs2FDXXXedhg8frn/84x/atm2bzpw5oylTpqhBgwZKTEzUqFGjlJ%2BfL0latWqV0tLSlJaWptDQUA0dOlRt27bV2rVrJUn5%2BfkaP368WrVqpbCwMOXk5KioqEifffaZ13oCAAACi8%2BPYM2fP7/O24iIiDhnO8XFxYqNjVVhYaHi4%2BM9blqakJCgVatWSZIKCwuVlpbm8dyEhAQ5HA5VVlZq7969SkhIcM%2BFhYWpefPmcjgc6tixY51rBwAAgc8vNxrdt2%2Bf/vKXv%2Bjf//63Oyj985//VKdOnX7U9hwOh1555RUtX75cGzduVEREhMd8VFSUXC6Xampq5HK5FBkZ6TEfGRmpvXv36tixYzIM47zzTqez1vWUlJSotLTUY8xma6DY2NjLXNnFhYT4/ABkndhs1qn3bG%2Bt1mMrsGJPrfLe5X3rPfTWewK1tz4PWDt27NA999yjli1b6uuvv9b8%2BfN18OBBjR07Vk8//bT69%2B9/Wdv75JNPNGXKFE2bNk2pqanauHHjeR/3n9dPXeoC%2B7pegJ%2Bfn6%2BlS5d6jGVmZiorK6tO27W66OiG/i7hskVEXOvvEnAFsNp7l/et99Bb7wm03vo8YC1evFgPPfSQxo0bp%2BTkZEnf/33CBQsWaNmyZZcVsLZs2aKHHnpIs2fP1rBhwyRJMTEx%2Bvrrrz0e53K5FBUVpeDgYEVHR8vlcp0zHxMT437M%2BeYbNWpU67rS09PVr18/jzGbrYGczvJab6M2rJb2zV6/N4WEBCsi4lqVlVWourrG3%2BUEFKu9byXrvHd533oPvfUeb/fWXz8g%2BTxgffnll3rllVckeR5VuummmzRz5sxab%2BfTTz/VjBkz9Mwzz6hXr17ucbvdrj/96U%2BqqqqSzfb98hwOhzp06OCeLygo8NiWw%2BHQ4MGDFRoaqjZt2qiwsFDdu3eX9P0F9QcOHHCHwdqIjY0953RgaelxVVVd3d%2BUVlx/dXWNJeuGuaz2HuB96z301nsCrbc%2B/1EyPDz8vH%2BDsKSkRPXq1avVNqqqqvToo49q%2BvTpHuFKktLS0hQWFqbly5eroqJCn332mVavXq2MjAxJ0ujRo/XRRx9p27ZtOnXqlFavXq2vv/5aQ4cOlSRlZGRo5cqVKioq0okTJ5Sbm6v27dsrKSmpjisHAABXC58fwercubN%2B85vf6NFHH3WP7d%2B/X48//rh%2B8Ytf1GobO3fuVFFRkebNm6d58%2BZ5zL399tt67rnn9PjjjysvL0%2BNGzdWTk6O%2BvTpI0lq27atcnNzNX/%2BfB06dEitW7fWihUr1KRJE0nSmDFjVFpaqrvuukvl5eVKSUk553oqAACAiwky6npF92U6fPiwxo0bp2%2B%2B%2BUbV1dVq0KCBKioq1KZNGz333HP66U9/6styfKa09Ljp27TZgjUg933Tt%2BstVvp7bjZbsKKjG8rpLA%2BoQ9ZXAqu9byXrvHd533oPvfUeb/e2SZNw07dZGz4/gnXddddp/fr12r59u/bv36/69eurZcuW6tmzJ3dKBwAAAcEv98G65pprdOONN/pj1wAAAF7n84DVr1%2B/ix6peu%2B993xYDQAAgPl8HrBuueUWj4BVXV2t/fv3y%2BFwaNy4cb4uBwAAwHQ%2BD1jTp08/7/imTZv097//3cfVAAAAmO%2BKuaXyjTfeqL/85S/%2BLgMAAKDOrpiAtWvXrjr/DUAAAIArgc9PEY4ZM%2BacsYqKChUVFWngwIG%2BLgcAAMB0Pg9YLVq0OOe3CENDQzVy5EiNGjXK1%2BUAAACYzucBa8GCBb7eJQAAgE/5PGC9%2BeabtX7ssGHDvFYHAACAt/g8YM2aNUs1NTXnXNAeFBTkMRYUFETAAgAAluTzgPXCCy/oxRdf1OTJkxUfHy/DMPTFF1/o%2Beef15133qmUlBRflwQAAGAqv1yDlZeXp6ZNm7rHunbtqmbNmmnChAlav369r0sCAAAwlc/vg/X1118rMjLynPGIiAgdOnTI1%2BUAAACYzudHsOLi4rRgwQI98MADio6OliSVlZXp2Wef1c9%2B9jNflwMAl3Tz0x/6u4TL8u70G/xdAnDV83nAmjlzpqZNm6b8/Hw1bNhQwcHBOnHihOrXr69ly5b5uhwAAADT%2BTxg9erVS9u2bdP27dt1%2BPBhGYahpk2b6oYbblB4eLivywEAADCdzwOWJF177bXq37%2B/Dh8%2BrGbNmvmjBAAAAK/x%2BUXulZWVmjFjhjp16qSbb75Z0vfXYE2cOFFlZWW%2BLgcAAMB0Pg9YCxcu1O7du5Wbm6vg4P/ffXV1tXJzc31dDgAAgOl8HrA2bdqkZ599VjfddJP7jz5HRERo/vz5euedd3xdDgAAgOl8HrDKy8vVokWLc8ZjYmJ08uRJX5cDAABgOp8HrJ/97Gf6%2B9//Lkkef3vw7bff1k9/%2BlNflwMAAGA6n/8W4R133KH7779ft99%2Bu2pqavSHP/xBBQUF2rRpk2bNmuXrcgAAAEzn84CVnp4um82mV155RSEhIXruuefUsmVL5ebm6qabbvJ1OQAAAKbzecA6evSobr/9dt1%2B%2B%2B2%2B3jUAAIBP%2BPwarP79%2B3tcewUAABBofB6wUlJStHHjRl/vFgAAwGd8forwJz/5iZ588knl5eXpZz/7ma655hqP%2BUWLFvm6JAAAAFP5PGDt3btXP//5zyVJTqfT17sHAADwOp8FrJycHC1evFgvv/yye2zZsmXKzMz80dt8//33NWPGDKWkpGjx4sXu8TVr1mjmzJnnHB179dVXlZycrJqaGj3zzDNav369ysrKlJycrDlz5rj/8LTL5dKcOXP08ccfKzg4WGlpaZo9e7bq16//o2sFAABXD59dg7Vly5ZzxvLy8n709p5//nnNmzdPzZs3P%2B98t27d5HA4PL6Sk5MlfR%2B01q1bp7y8PG3dulUtWrRQZmam%2B%2BL72bNnq6KiQuvXr9cbb7yhoqIi/k4iAACoNZ8FrPP95mBdfpswNDRUq1evvmDAupj8/HyNHz9erVq1UlhYmHJyclRUVKTPPvtM3333nTZv3qycnBzFxMSoadOmuu%2B%2B%2B/TGG2/ozJkzP7peAABw9fBZwDr7h50vNVZbY8eOVXh4%2BAXni4uL9ctf/lLdunVT//799dZbb0mSKisrtXfvXiUkJLgfGxYWpubNm8vhcGj37t0KCQlRfHy8ez4xMVEnT57Uvn37fnS9AADg6uHzi9x9ISYmRi1atNCDDz6o1q1b691339XDDz%2Bs2NhY/fznP5dhGIqMjPR4TmRkpJxOp6KiohQWFuYR/s4%2BtrYX5ZeUlKi0tNRjzGZroNjY2DquzFNIiM/vslEnNpt16j3bW6v12AroqffRY/PxmeA9gdrbgAxYffr0UZ8%2Bfdz/PXjwYL377rtas2aNpk%2BfLunipyfreiPU/Px8LV261GMsMzNTWVlZddqu1UVHN/R3CZctIuJaf5cAXDbet95Db70n0Hrrs4B15swZTZs27ZJj3roPVlxcnAoKChQVFaXg4GC5XC6PeZfLpUaNGikmJkYnTpxQdXW1QkJC3HOS1KhRo1rtKz09Xf369fMYs9kayOksr/M6/pPV0r7Z6/emkJBgRURcq7KyClVX1/i7nIBitfetFfG%2BNR%2BfCd7j7d7664d7nwWsLl26qKSk5JJjZvjTn/6kyMhI3XLLLe6xoqIiNWvWTKGhoWrTpo0KCwvVvXt3SVJZWZkOHDig5ORkxcXFyTAM7dmzR4mJiZIkh8OhiIgItWzZslb7j42NPed0YGnpcVVVXd3flFZcf3V1jSXrxtWN96330FvvCbTe%2Bixg/ef9r7zt9OnTeuKJJ9SsWTO1a9dOmzZt0l//%2Ble9/vrrkqSMjAzl5eWpd%2B/eatq0qXJzc9W%2BfXslJSVJkgYNGqSnn35aTz31lE6fPq1ly5Zp5MiRstkC8owqAAAwmWUTw9kwVFVVJUnavHmzpO%2BPNo0dO1bl5eV64IEHVFpaquuvv17Lli2T3W6XJI0ZM0alpaW66667VF5erpSUFI9rpn7961/r8ccfV//%2B/XXNNdfo1ltvVU5Ojo9XCAAArCrIqOsV3aiV0tLjpm/TZgvWgNz3Td%2But2zM7unvEmrNZgtWdHRDOZ3lAXXI%2BkpgtfetFb07/QbetybjM8F7vN3bJk0ufEsnb%2BJqUwAAAJMRsAAAAExGwAIAADAZAQsAAMBkBCwAAACTEbAAAABMRsACAAAwGQELAADAZAQsAAAAkxGwAAAATEbAAgAAMBkBCwAAwGQELAAAAJMRsAAAAExGwAIAADAZAQsAAMBkBCwAAACTEbAAAABMRsACAAAwGQELAADAZAQsAAAAk9n8XQAAc9z89If%2BLgEA8H84ggUAAGAyAhYAAIDJCFgAAAAmI2ABAACYjIAFAABgMgIWAACAyQhYAAAAJiNgAQAAmIyABQAAYDJLB6z3339fqampysnJOWduw4YNGjJkiDp16qQRI0bogw8%2BcM/V1NRo8eLF6t%2B/v7p166YJEybo4MGD7nmXy6Xs7GylpqaqV69emjVrliorK32yJgAAYH2WDVjPP/%2B85s2bp%2BbNm58zt3v3bs2YMUPTp0/X3/72N40fP15Tp07V4cOHJUmvvvqq1q1bp7y8PG3dulUtWrRQZmamDMOQJM2ePVsVFRVav3693njjDRUVFSk3N9en6wMAANZl2YAVGhqq1atXnzdgrVq1SmlpaUpLS1NoaKiGDh2qtm3bau3atZKk/Px8jR8/Xq1atVJYWJhycnJUVFSkzz77TN999502b96snJwcxcTEqGnTprrvvvv0xhtv6MyZM75eJgAAsCDLBqyxY8cqPDz8vHOFhYVKSEjwGEtISJDD4VBlZaX27t3rMR8WFqbmzZvL4XBo9%2B7dCgkJUXx8vHs%2BMTFRJ0%2Be1L59%2B7yzGAAAEFBs/i7AG1wulyIjIz3GIiMjtXfvXh07dkyGYZx33ul0KioqSmFhYQoKCvKYkySn01mr/ZeUlKi0tNRjzGZroNjY2B%2BznAsKCbFWPrbZrFPv2d5arceAxPvWG/hM8J5A7W1ABixJ7uupfsz8pZ57Kfn5%2BVq6dKnHWGZmprKysuq0XauLjm7o7xIuW0TEtf4uAbhsvG%2B9h956T6D1NiADVnR0tFwul8eYy%2BVSTEyMoqKiFBwcfN75Ro0aKSYmRidOnFB1dbVCQkLcc5LUqFGjWu0/PT1d/fr18xiz2RrI6Sz/Ueu5EKulfbPX700hIcGKiLhWZWUVqq6u8Xc5wGXhfWs%2BPhO8x9u99dcP9wEZsOx2uwoKCjzGHA6HBg8erNDQULVp00aFhYXq3r27JKmsrEwHDhxQcnKy4uLiZBiG9uzZo8TERPdzIyIi1LJly1rtPzY29pzTgaWlx1VVdXV/U1px/dXVNZasG1c33rfeQ2%2B9J9B6a61DILU0evRoffTRR9q2bZtOnTql1atX6%2Buvv9bQoUMlSRkZGVq5cqWKiop04sQJ5ebmqn379kpKSlJMTIwGDRqkp59%2BWkePHtXhw4e1bNkyjRw5UjZbQOZRAABgMssmhqSkJElSVVWVJGnz5s2Svj/a1LZtW%2BXm5mr%2B/Pk6dOiQWrdurRUrVqhJkyaSpDFjxqi0tFR33XWXysvLlZKS4nHN1K9//Ws9/vjj6t%2B/v6655hrdeuut572ZKQAAwPkEGXW9ohu1Ulp63PRt2mzBGpD7vunb9ZaN2T39XUKt2WzBio5uKKez3DKHrG9%2B%2BkN/l4ArxLvTb7DM%2B9YqrPiZYBXe7m2TJue/pZO3BeQpQgAAAH8iYAEAAJiMgAUAAGAyAhYAAIDJCFgAAAAmI2ABAACYjIAFAABgMgIWAACAyQhYAAAAJiNgAQAAmIyABQAAYDICFgAAgMkIWAAAACYjYAEAAJiMgAUAAGAyAhYAAIDJCFgAAAAms/m7AACAuQbkvu/vEmptY3ZPf5cAeAVHsAAAAExGwAIAADAZAQsAAMBkBCwAAACTEbAAAABMRsACAAAwGQELAADAZAQsAAAAkxGwAAAATEbAAgAAMBkBCwAAwGQELAAAAJMRsAAAAEwWsAErPj5edrtdSUlJ7q8nnnhCkrRjxw6NHDlSnTt31uDBg7V27VqP565cuVKDBg1S586dlZGRoYKCAn8sAQAAWJTN3wV409tvv63rr7/eY6ykpET33XefZs2apSFDhuiTTz7RlClT1LJlSyUlJWnLli1asmSJXnjhBcXHx2vlypWaPHmy3nnnHTVo0MBPKwEAAFYSsEewLmTdunVq0aKFRo4cqdDQUKWmpqpfv35atWqVJCk/P18jRoxQhw4dVL9%2BfU2cOFGStHXrVn%2BWDQAALCSgA9aiRYvUp08fde3aVbNnz1Z5ebkKCwuVkJDg8biEhAT3acAfzgcHB6t9%2B/ZyOBw%2BrR0AAFhXwJ4i7Nixo1JTU/XUU0/p4MGDys7O1ty5c%2BVyudS0aVOPx0ZFRcnpdEqSXC6XIiMjPeYjIyPd87VRUlKi0tJSjzGbrYFiY2N/5GrOLyTEWvnYZrNOvWd7a7UeA1Zjlc8FPhO8J1B7G7ABKz8/3/3/W7VqpenTp2vKlCnq0qXLJZ9rGEad97106VKPsczMTGVlZdVpu1YXHd3Q3yVctoiIa/1dAhDQrPa5wGeC9wRabwM2YP3Q9ddfr%2BrqagUHB8vlcnnMOZ1OxcTESJKio6PPmXe5XGrTpk2t95Wenq5%2B/fp5jNlsDeR0lv%2Bo2i/Eamnf7PV7U0hIsCIirlVZWYWqq2v8XQ4QsKzyucBngvd4u7f%2BCvEBGbB27dqltWvX6pFHHnGPFRUVqV69ekpLS9Of//xnj8cXFBSoQ4cOkiS73a7CwkINHz5cklRdXa1du3Zp5MiRtd5/bGzsOacDS0uPq6rq6v6mtOL6q6trLFk3YBVW%2B/7iM8F7Aq231joEUkuNGjVSfn6%2B8vLydPr0ae3fv1/PPPOM0tPTddttt%2BnQoUNatWqVTp06pe3bt2v79u0aPXq0JCkjI0Nvvvmmdu7cqYqKCi1fvlz16tVTnz59/LsoAABgGQF5BKtp06bKy8vTokWL3AFp%2BPDhysnJUWhoqFasWKF58%2BZp7ty5iouL08KFC9WuXTtJUu/evfXggw8qOztbR44cUVJSkvLy8lS/fn0/rwoAAFhFQAYsSerWrZtee%2B21C8699dZbF3zuHXfcoTvuuMNbpQEAgAAXkKcIAQAA/ImABQAAYDICFgAAgMkIWAAAACYjYAEAAJiMgAUAAGCygL1NA1BXXWe97e8SAAAWxREsAAAAkxGwAAAATEbAAgAAMBkBCwAAwGQELAAAAJMRsAAAAExGwAIAADAZAQsAAMBkBCwAAACTEbAAAABMRsACAAAwGQELAADAZAQsAAAAk9n8XQAA4Op189Mf%2BruEy/Lu9Bv8XQIsgiNYAAAAJiNgAQAAmIyABQAAYDICFgAAgMkIWAAAACYjYAEAAJiMgAUAAGAyAhYAAIDJCFgAAAAm407u8Bmr3bEZAIAfiyNYAAAAJiNgncehQ4d07733KiUlRX379tXChQtVU1Pj77IAAIBFcIrwPO6//34lJiZq8%2BbNOnLkiCZNmqTGjRvrl7/8pb9LAwD40YDc9/1dwmXZmN3T3yVctTiC9QMOh0N79uzR9OnTFR4erhYtWmj8%2BPHKz8/3d2kAAMAiOIL1A4WFhYqLi1NkZKR7LDExUfv379eJEycUFhZ2yW2UlJSotLTUY8xma6DY2FhTaw0JIR8DAC7MZrvy/504%2B29ZoP2bRsD6AZfLpYiICI%2Bxs2HL6XTWKmDl5%2Bdr6dKlHmNTp07V/fffb16h%2Bj7IjbvuK6Wnp5se3q52JSUlys/Pp7deQG%2B9h956D731npKSEr300gsB19vAiosmMQyjTs9PT0/XmjVrPL7S09NNqu7/lZaWaunSpeccLUPd0VvvobfeQ2%2B9h956T6D2liNYPxATEyOXy%2BUx5nK5FBQUpJiYmFptIzY2NqBSOAAAuDwcwfoBu92u4uJiHT161D3mcDjUunVrNWzY0I%2BVAQAAqyBg/UBCQoKSkpK0aNEinThxQkVFRfrDH/6gjIwMf5cGAAAsgoB1Hs8%2B%2B6xKSkrUs2dPjR07VsOGDdMdd9zh77LO0aRJE02dOlVNmjTxdykBh956D731HnrrPfTWewK1t0FGXa/oBgAAgAeOYAEAAJiMgAUAAGAyAhYAAIDJCFgAAAAmI2ABAACYjIAFAABgMgIWAACAyQhYAAAAJiNgAQAAmIyAZUGHDh3Svffeq5SUFPXt21cLFy5UTU2Nv8u6YsTHx8tutyspKcn99cQTT0iSduzYoZEjR6pz584aPHiw1q5d6/HclStXatCgQercubMyMjJUUFDgnjt16pQee%2Bwx9e7dWykpKcrKypLT6XTPB%2Brr8v777ys1NVU5OTnnzG3YsEFDhgxRp06dNGLECH3wwQfuuZqaGi1evFj9%2B/dXt27dNGHCBB08eNA973K5lJ2drdTUVPXq1UuzZs1SZWWle3737t2688471aVLFw0cOFAvvvhirfdtFRfq7Zo1a9SuXTuP93BSUpI%2B//xzSfT2Ug4dOqTMzEylpKQoNTVVjzzyiMrKyiTVbe3e7rsVXKi333zzjeLj4895z/7%2B9793P/eq660Byxk%2BfLjx6KOPGmVlZcb%2B/fuNgQMHGi%2B%2B%2BKK/y7pitG3b1jh48OA5499%2B%2B63RsWNHY9WqVUZlZaXx4YcfGsnJycbnn39uGIZhvPfee0bXrl2NnTt3GhUVFcaKFSuMnj17GuXl5YZhGMb8%2BfONESNGGP/%2B978Np9NpTJ061Zg0aZJ7%2B4H4uuTl5RkDBw40xowZY2RnZ3vM7dq1y7Db7ca2bduMyspK46233jI6dOhgFBcXG4ZhGCtXrjT69u1r7N271zh%2B/Ljx61//2hgyZIhRU1NjGIZhTJ061bj33nuNI0eOGIcPHzbS09ONJ554wjAMw6ioqDBuuOEGY8mSJUZ5eblRUFBgdO/e3di0aVOt9m0FF%2BvtG2%2B8Ydx5550XfC69vbhbb73VeOSRR4wTJ04YxcXFxogRI4yZM2fWee3e7LtVXKi3Bw8eNNq2bXvB512NvSVgWcznn39utG/f3nC5XO6x//7v/zYGDRrkx6quLBcKWC%2B88IIxbNgwj7Hs7Gxj9uzZhmEYxr333mv85je/cc9VV1cbPXv2NNavX2%2BcOXPG6NKli7F582b3/N69e434%2BHjj8OHDAfu6vPTSS0ZZWZkxY8aMc0LA3LlzjczMTI%2BxUaNGGStWrDAMwzAGDx5svPTSS%2B6548ePGwkJCcY///lPo7S01GjXrp2xe/du9/z27duNjh07GqdPnzY2btxo9OjRw6iqqnLPL1y40Lj77rtrtW8ruFhvLxWw6O2FHTt2zHjkkUeM0tJS99jLL79sDBw4sM5r92bfreBivb1UwLoae8spQospLCxUXFycIiMj3WOJiYnav3%2B/Tpw44cfKriyLFi1Snz591LVrV82ePVvl5eUqLCxUQkKCx%2BMSEhLcpwF/OB8cHKz27dvL4XDowIEDOn78uBITE93zrVq1Uv369VVYWBiwr8vYsWMVHh5%2B3rkL9dPhcKiyslJ79%2B71mA8LC1Pz5s3lcDi0e/duhYSEKD4%2B3j2fmJiokydPat%2B%2BfSosLFR8fLxCQkI8tn2h1%2Bo/920VF%2ButJBUXF%2BuXv/ylunXrpv79%2B%2Butt96SJHp7CREREZo/f74aN27sHisuLlZsbGyd1u7tvlvBxXp71sMPP6xevXqpR48eWrRokc6cOSPp6uwtActiXC6XIiIiPMbO/qP%2Bn9cDXc06duyo1NRUvfPOO8rPz9fOnTs1d%2B7c8/YuKirK3TeXy%2BURkKTve%2Bt0OuVyuSTpnOdHRES456%2B21%2BVi/Tp27JgMw7hoP8PCwhQUFOQxJ%2BmC/YyKipLL5VJNTc1F9x0IYmJi1KJFCz300EP68MMP9eCDD2rmzJnasWMHvb1MDodDr7zyiqZMmVKntXu771b0n72tV6%2BeOnXqpAEDBmjr1q3Ky8vT2rVr9V//9V%2BS/Pt54S8ELAsyDMPfJVzR8vPzNWrUKNWrV0%2BtWrXS9OnTtX79evdPUhdzqd5ebP5qfF183a///IAN5H736dNHL7zwghISElSvXj0NHjxYAwYM0Jo1a9yPobeX9sknn2jChAmaNm2aUlNTL/i4y1m7N/tuJT/sbWxsrF577TUNGDBA11xzjZKTkzVp0qRav2cvNW/F3hKwLCYmJsZ9NOUsl8uloKAgxcTE%2BKeoK9z111%2Bv6upqBQcHn9M7p9Pp7lt0dPR5exsTE%2BN%2BzA/njx07pkaNGl2Vr8vF%2BhUVFXXefrtcLne/Tpw4oerqao85Se75Hx4xcblc7u1ebN%2BBKi4uTiUlJfS2lrZs2aJ7771XM2fO1NixYyWpTmv3dt%2Bt5Hy9PZ%2B4uDh99913MgzjquyttV5VyG63q7i4WEePHnWPORwOtW7dWg0bNvRjZVeGXbt2acGCBR5jRUVFqlevntLS0s45J19QUKAOHTpI%2Br63hYWF7rnq6mrt2rVLHTp0ULNmzRQZGekx/%2BWXX%2Br06dOy2%2B1X5etit9vP6afD4VCHDh0UGhqqNm3aePSrrKxMBw4cUHJystq3by/DMLRnzx6P50ZERKhly5ay2%2B364osvVFVVdc62L7XvQPCnP/1JGzZs8BgrKipSs2bN6G0tfPrpp5oxY4aeeeYZDRs2zD1el7V7u%2B9WcaHe7tixQ8uXL/d47L59%2BxQXF6egoKCrs7e%2Bupoe5hk1apQxc%2BZM4/jx48bevXuNfv36Ga%2B88oq/y7oiHD582OjYsaOxYsUK49SpU8a%2BffuMW265xXjiiSeM7777zujUqZPx%2BuuvG5WVlca2bduM5ORk92%2BmbN%2B%2B3ejSpYvxz3/%2B0zh58qSxZMkSIy0tzaioqDAM4/vfShk%2BfLjx73//2zh69KgxadIk4/7773fvO5Bfl/P9ptsXX3xhJCUlGVu3bjUqKyuNVatWGZ06dTJKSkoMw/j%2Btyj79Onj/rXr2bNnG7fffrv7%2BdnZ2cbEiRONI0eOGMXFxcbtt99uLFiwwDAMwzh16pTRt29f49lnnzVOnjxp7Ny50%2BjatauxdevWWu3bSs7X2z/%2B8Y9Gjx49jM8//9w4ffq0sW7dOqN9%2B/aGw%2BEwDIPeXsyZM2eMm2%2B%2B2XjttdfOmavr2r3Zdyu4WG8dDoeRmJhovPnmm8bp06eNzz//3OjZs6f7VjVXY28JWBZUXFxsTJw40UhOTjZSU1ONZ5991n2vEBjGxx9/bKSnpxsdO3Y0unfvbsyfP9%2BorKx0zw0dOtRITEw0Bg4ceM59Ul599VUjLS3NsNvtRkZGhvHFF1%2B4506dOmXMmTPH6Natm9GpUyfjwQcfNMrKytzzgfi62O12w263G%2B3atTPatWvn/u%2BzNm3aZAwcONBITEw0brvtNuPjjz92z9XU1BjPPPOM8Ytf/MJITk427rnnHo97KZWVlRk5OTlGx44djW7duhlz5841Tp065Z7/4osvjDFjxhh2u93o06eP8eqrr3rUdrF9W8HFeltTU2MsW7bM6Nu3r2G3242bbrrJ2LJli/u59PbC/ud//sdo27atu5//%2BfXNN9/Uae3e7vuV7lK9feedd4yhQ4caycnJRs%2BePY3nnnvOqK6udj//auttkGEEyNWMAAAAVwiuwQIAADAZAQsAAMBkBCwAAACTEbAAAABMRsACAAAwGQELAADAZAQsAAAAkxGwAAAATEbAAgAAMBkBCwAAwGQELAAAAJMRsAAAAExGwAIAADDZ/wI1n4oXdgjOxwAAAABJRU5ErkJggg%3D%3D\"/>\n",
       "        </div>\n",
       "        <div role=\"tabpanel\" class=\"tab-pane col-md-12\" id=\"common7247964243011071211\">\n",
       "            \n",
       "<table class=\"freq table table-hover\">\n",
       "    <thead>\n",
       "    <tr>\n",
       "        <td class=\"fillremaining\">Value</td>\n",
       "        <td class=\"number\">Count</td>\n",
       "        <td class=\"number\">Frequency (%)</td>\n",
       "        <td style=\"min-width:200px\">&nbsp;</td>\n",
       "    </tr>\n",
       "    </thead>\n",
       "    <tr class=\"\">\n",
       "        <td class=\"fillremaining\">0.0</td>\n",
       "        <td class=\"number\">3617</td>\n",
       "        <td class=\"number\">36.2%</td>\n",
       "        <td>\n",
       "            <div class=\"bar\" style=\"width:57%\">&nbsp;</div>\n",
       "        </td>\n",
       "</tr><tr class=\"\">\n",
       "        <td class=\"fillremaining\">105473.74</td>\n",
       "        <td class=\"number\">2</td>\n",
       "        <td class=\"number\">0.0%</td>\n",
       "        <td>\n",
       "            <div class=\"bar\" style=\"width:1%\">&nbsp;</div>\n",
       "        </td>\n",
       "</tr><tr class=\"\">\n",
       "        <td class=\"fillremaining\">130170.82</td>\n",
       "        <td class=\"number\">2</td>\n",
       "        <td class=\"number\">0.0%</td>\n",
       "        <td>\n",
       "            <div class=\"bar\" style=\"width:1%\">&nbsp;</div>\n",
       "        </td>\n",
       "</tr><tr class=\"\">\n",
       "        <td class=\"fillremaining\">113063.83</td>\n",
       "        <td class=\"number\">1</td>\n",
       "        <td class=\"number\">0.0%</td>\n",
       "        <td>\n",
       "            <div class=\"bar\" style=\"width:1%\">&nbsp;</div>\n",
       "        </td>\n",
       "</tr><tr class=\"\">\n",
       "        <td class=\"fillremaining\">80242.37</td>\n",
       "        <td class=\"number\">1</td>\n",
       "        <td class=\"number\">0.0%</td>\n",
       "        <td>\n",
       "            <div class=\"bar\" style=\"width:1%\">&nbsp;</div>\n",
       "        </td>\n",
       "</tr><tr class=\"\">\n",
       "        <td class=\"fillremaining\">134320.23</td>\n",
       "        <td class=\"number\">1</td>\n",
       "        <td class=\"number\">0.0%</td>\n",
       "        <td>\n",
       "            <div class=\"bar\" style=\"width:1%\">&nbsp;</div>\n",
       "        </td>\n",
       "</tr><tr class=\"\">\n",
       "        <td class=\"fillremaining\">90218.9</td>\n",
       "        <td class=\"number\">1</td>\n",
       "        <td class=\"number\">0.0%</td>\n",
       "        <td>\n",
       "            <div class=\"bar\" style=\"width:1%\">&nbsp;</div>\n",
       "        </td>\n",
       "</tr><tr class=\"\">\n",
       "        <td class=\"fillremaining\">155196.17</td>\n",
       "        <td class=\"number\">1</td>\n",
       "        <td class=\"number\">0.0%</td>\n",
       "        <td>\n",
       "            <div class=\"bar\" style=\"width:1%\">&nbsp;</div>\n",
       "        </td>\n",
       "</tr><tr class=\"\">\n",
       "        <td class=\"fillremaining\">95386.82</td>\n",
       "        <td class=\"number\">1</td>\n",
       "        <td class=\"number\">0.0%</td>\n",
       "        <td>\n",
       "            <div class=\"bar\" style=\"width:1%\">&nbsp;</div>\n",
       "        </td>\n",
       "</tr><tr class=\"\">\n",
       "        <td class=\"fillremaining\">125961.74</td>\n",
       "        <td class=\"number\">1</td>\n",
       "        <td class=\"number\">0.0%</td>\n",
       "        <td>\n",
       "            <div class=\"bar\" style=\"width:1%\">&nbsp;</div>\n",
       "        </td>\n",
       "</tr><tr class=\"other\">\n",
       "        <td class=\"fillremaining\">Other values (6372)</td>\n",
       "        <td class=\"number\">6372</td>\n",
       "        <td class=\"number\">63.7%</td>\n",
       "        <td>\n",
       "            <div class=\"bar\" style=\"width:100%\">&nbsp;</div>\n",
       "        </td>\n",
       "</tr>\n",
       "</table>\n",
       "        </div>\n",
       "        <div role=\"tabpanel\" class=\"tab-pane col-md-12\"  id=\"extreme7247964243011071211\">\n",
       "            <p class=\"h4\">Minimum 5 values</p>\n",
       "            \n",
       "<table class=\"freq table table-hover\">\n",
       "    <thead>\n",
       "    <tr>\n",
       "        <td class=\"fillremaining\">Value</td>\n",
       "        <td class=\"number\">Count</td>\n",
       "        <td class=\"number\">Frequency (%)</td>\n",
       "        <td style=\"min-width:200px\">&nbsp;</td>\n",
       "    </tr>\n",
       "    </thead>\n",
       "    <tr class=\"\">\n",
       "        <td class=\"fillremaining\">0.0</td>\n",
       "        <td class=\"number\">3617</td>\n",
       "        <td class=\"number\">36.2%</td>\n",
       "        <td>\n",
       "            <div class=\"bar\" style=\"width:100%\">&nbsp;</div>\n",
       "        </td>\n",
       "</tr><tr class=\"\">\n",
       "        <td class=\"fillremaining\">3768.69</td>\n",
       "        <td class=\"number\">1</td>\n",
       "        <td class=\"number\">0.0%</td>\n",
       "        <td>\n",
       "            <div class=\"bar\" style=\"width:1%\">&nbsp;</div>\n",
       "        </td>\n",
       "</tr><tr class=\"\">\n",
       "        <td class=\"fillremaining\">12459.19</td>\n",
       "        <td class=\"number\">1</td>\n",
       "        <td class=\"number\">0.0%</td>\n",
       "        <td>\n",
       "            <div class=\"bar\" style=\"width:1%\">&nbsp;</div>\n",
       "        </td>\n",
       "</tr><tr class=\"\">\n",
       "        <td class=\"fillremaining\">14262.8</td>\n",
       "        <td class=\"number\">1</td>\n",
       "        <td class=\"number\">0.0%</td>\n",
       "        <td>\n",
       "            <div class=\"bar\" style=\"width:1%\">&nbsp;</div>\n",
       "        </td>\n",
       "</tr><tr class=\"\">\n",
       "        <td class=\"fillremaining\">16893.59</td>\n",
       "        <td class=\"number\">1</td>\n",
       "        <td class=\"number\">0.0%</td>\n",
       "        <td>\n",
       "            <div class=\"bar\" style=\"width:1%\">&nbsp;</div>\n",
       "        </td>\n",
       "</tr>\n",
       "</table>\n",
       "            <p class=\"h4\">Maximum 5 values</p>\n",
       "            \n",
       "<table class=\"freq table table-hover\">\n",
       "    <thead>\n",
       "    <tr>\n",
       "        <td class=\"fillremaining\">Value</td>\n",
       "        <td class=\"number\">Count</td>\n",
       "        <td class=\"number\">Frequency (%)</td>\n",
       "        <td style=\"min-width:200px\">&nbsp;</td>\n",
       "    </tr>\n",
       "    </thead>\n",
       "    <tr class=\"\">\n",
       "        <td class=\"fillremaining\">216109.88</td>\n",
       "        <td class=\"number\">1</td>\n",
       "        <td class=\"number\">0.0%</td>\n",
       "        <td>\n",
       "            <div class=\"bar\" style=\"width:100%\">&nbsp;</div>\n",
       "        </td>\n",
       "</tr><tr class=\"\">\n",
       "        <td class=\"fillremaining\">221532.8</td>\n",
       "        <td class=\"number\">1</td>\n",
       "        <td class=\"number\">0.0%</td>\n",
       "        <td>\n",
       "            <div class=\"bar\" style=\"width:100%\">&nbsp;</div>\n",
       "        </td>\n",
       "</tr><tr class=\"\">\n",
       "        <td class=\"fillremaining\">222267.63</td>\n",
       "        <td class=\"number\">1</td>\n",
       "        <td class=\"number\">0.0%</td>\n",
       "        <td>\n",
       "            <div class=\"bar\" style=\"width:100%\">&nbsp;</div>\n",
       "        </td>\n",
       "</tr><tr class=\"\">\n",
       "        <td class=\"fillremaining\">238387.56</td>\n",
       "        <td class=\"number\">1</td>\n",
       "        <td class=\"number\">0.0%</td>\n",
       "        <td>\n",
       "            <div class=\"bar\" style=\"width:100%\">&nbsp;</div>\n",
       "        </td>\n",
       "</tr><tr class=\"\">\n",
       "        <td class=\"fillremaining\">250898.09</td>\n",
       "        <td class=\"number\">1</td>\n",
       "        <td class=\"number\">0.0%</td>\n",
       "        <td>\n",
       "            <div class=\"bar\" style=\"width:100%\">&nbsp;</div>\n",
       "        </td>\n",
       "</tr>\n",
       "</table>\n",
       "        </div>\n",
       "    </div>\n",
       "</div>\n",
       "</div><div class=\"row variablerow\">\n",
       "    <div class=\"col-md-3 namecol\">\n",
       "        <p class=\"h4 pp-anchor\" id=\"pp_var_NumOfProducts\">NumOfProducts<br/>\n",
       "            <small>Numeric</small>\n",
       "        </p>\n",
       "    </div><div class=\"col-md-6\">\n",
       "    <div class=\"row\">\n",
       "        <div class=\"col-sm-6\">\n",
       "            <table class=\"stats \">\n",
       "                <tr>\n",
       "                    <th>Distinct count</th>\n",
       "                    <td>4</td>\n",
       "                </tr>\n",
       "                <tr>\n",
       "                    <th>Unique (%)</th>\n",
       "                    <td>0.0%</td>\n",
       "                </tr>\n",
       "                <tr class=\"ignore\">\n",
       "                    <th>Missing (%)</th>\n",
       "                    <td>0.0%</td>\n",
       "                </tr>\n",
       "                <tr class=\"ignore\">\n",
       "                    <th>Missing (n)</th>\n",
       "                    <td>0</td>\n",
       "                </tr>\n",
       "                <tr class=\"ignore\">\n",
       "                    <th>Infinite (%)</th>\n",
       "                    <td>0.0%</td>\n",
       "                </tr>\n",
       "                <tr class=\"ignore\">\n",
       "                    <th>Infinite (n)</th>\n",
       "                    <td>0</td>\n",
       "                </tr>\n",
       "            </table>\n",
       "\n",
       "        </div>\n",
       "        <div class=\"col-sm-6\">\n",
       "            <table class=\"stats \">\n",
       "\n",
       "                <tr>\n",
       "                    <th>Mean</th>\n",
       "                    <td>1.5302</td>\n",
       "                </tr>\n",
       "                <tr>\n",
       "                    <th>Minimum</th>\n",
       "                    <td>1</td>\n",
       "                </tr>\n",
       "                <tr>\n",
       "                    <th>Maximum</th>\n",
       "                    <td>4</td>\n",
       "                </tr>\n",
       "                <tr class=\"ignore\">\n",
       "                    <th>Zeros (%)</th>\n",
       "                    <td>0.0%</td>\n",
       "                </tr>\n",
       "            </table>\n",
       "        </div>\n",
       "    </div>\n",
       "</div>\n",
       "<div class=\"col-md-3 collapse in\" id=\"minihistogram8094312227293879418\">\n",
       "    <img src=\"data:image/png;base64,iVBORw0KGgoAAAANSUhEUgAAAMgAAABLCAYAAAA1fMjoAAAAOXRFWHRTb2Z0d2FyZQBNYXRwbG90bGliIHZlcnNpb24zLjUuMSwgaHR0cHM6Ly9tYXRwbG90bGliLm9yZy/YYfK9AAAACXBIWXMAAA9hAAAPYQGoP6dpAAABGElEQVR4nO3dsY3CQBBAUXOiJIqgp4vpiSLoachP6EsOLO%2Bh9/KVJvkae5O9zMxswEc/Zw8AK7uePcBft9/n7jOvx/2AScAGgSQQCAKBIBAIy/2kr2zvBYLLg//PBoEgEAgCgSAQCAKBIBAIAoEgEAgCgSAQCAKBIBAIAoEgEAgCgSAQCAKBIBAIAoEgEAgCgSAQCAKBIBAIAoEgEAgCgSAQCAKBIBAIAoEgEAgCgSAQCAKBIBAIAoEgEAiegf4Cnqc%2Bjg0CwQbhMHs327att90uMzNnDwGr8okFQSAQBAJBIBAEAkEgEAQCQSAQBAJBIBAEAkEgEAQCQSAQBAJBIBAEAkEgEAQCQSAQBAJBIBAEAkEgEAQC4Q03EBSV5X6UsgAAAABJRU5ErkJggg%3D%3D\">\n",
       "\n",
       "</div>\n",
       "<div class=\"col-md-12 text-right\">\n",
       "    <a role=\"button\" data-toggle=\"collapse\" data-target=\"#descriptives8094312227293879418,#minihistogram8094312227293879418\"\n",
       "       aria-expanded=\"false\" aria-controls=\"collapseExample\">\n",
       "        Toggle details\n",
       "    </a>\n",
       "</div>\n",
       "<div class=\"row collapse col-md-12\" id=\"descriptives8094312227293879418\">\n",
       "    <ul class=\"nav nav-tabs\" role=\"tablist\">\n",
       "        <li role=\"presentation\" class=\"active\"><a href=\"#quantiles8094312227293879418\"\n",
       "                                                  aria-controls=\"quantiles8094312227293879418\" role=\"tab\"\n",
       "                                                  data-toggle=\"tab\">Statistics</a></li>\n",
       "        <li role=\"presentation\"><a href=\"#histogram8094312227293879418\" aria-controls=\"histogram8094312227293879418\"\n",
       "                                   role=\"tab\" data-toggle=\"tab\">Histogram</a></li>\n",
       "        <li role=\"presentation\"><a href=\"#common8094312227293879418\" aria-controls=\"common8094312227293879418\"\n",
       "                                   role=\"tab\" data-toggle=\"tab\">Common Values</a></li>\n",
       "        <li role=\"presentation\"><a href=\"#extreme8094312227293879418\" aria-controls=\"extreme8094312227293879418\"\n",
       "                                   role=\"tab\" data-toggle=\"tab\">Extreme Values</a></li>\n",
       "\n",
       "    </ul>\n",
       "\n",
       "    <div class=\"tab-content\">\n",
       "        <div role=\"tabpanel\" class=\"tab-pane active row\" id=\"quantiles8094312227293879418\">\n",
       "            <div class=\"col-md-4 col-md-offset-1\">\n",
       "                <p class=\"h4\">Quantile statistics</p>\n",
       "                <table class=\"stats indent\">\n",
       "                    <tr>\n",
       "                        <th>Minimum</th>\n",
       "                        <td>1</td>\n",
       "                    </tr>\n",
       "                    <tr>\n",
       "                        <th>5-th percentile</th>\n",
       "                        <td>1</td>\n",
       "                    </tr>\n",
       "                    <tr>\n",
       "                        <th>Q1</th>\n",
       "                        <td>1</td>\n",
       "                    </tr>\n",
       "                    <tr>\n",
       "                        <th>Median</th>\n",
       "                        <td>1</td>\n",
       "                    </tr>\n",
       "                    <tr>\n",
       "                        <th>Q3</th>\n",
       "                        <td>2</td>\n",
       "                    </tr>\n",
       "                    <tr>\n",
       "                        <th>95-th percentile</th>\n",
       "                        <td>2</td>\n",
       "                    </tr>\n",
       "                    <tr>\n",
       "                        <th>Maximum</th>\n",
       "                        <td>4</td>\n",
       "                    </tr>\n",
       "                    <tr>\n",
       "                        <th>Range</th>\n",
       "                        <td>3</td>\n",
       "                    </tr>\n",
       "                    <tr>\n",
       "                        <th>Interquartile range</th>\n",
       "                        <td>1</td>\n",
       "                    </tr>\n",
       "                </table>\n",
       "            </div>\n",
       "            <div class=\"col-md-4 col-md-offset-2\">\n",
       "                <p class=\"h4\">Descriptive statistics</p>\n",
       "                <table class=\"stats indent\">\n",
       "                    <tr>\n",
       "                        <th>Standard deviation</th>\n",
       "                        <td>0.58165</td>\n",
       "                    </tr>\n",
       "                    <tr>\n",
       "                        <th>Coef of variation</th>\n",
       "                        <td>0.38012</td>\n",
       "                    </tr>\n",
       "                    <tr>\n",
       "                        <th>Kurtosis</th>\n",
       "                        <td>0.58298</td>\n",
       "                    </tr>\n",
       "                    <tr>\n",
       "                        <th>Mean</th>\n",
       "                        <td>1.5302</td>\n",
       "                    </tr>\n",
       "                    <tr>\n",
       "                        <th>MAD</th>\n",
       "                        <td>0.53911</td>\n",
       "                    </tr>\n",
       "                    <tr class=\"\">\n",
       "                        <th>Skewness</th>\n",
       "                        <td>0.74557</td>\n",
       "                    </tr>\n",
       "                    <tr>\n",
       "                        <th>Sum</th>\n",
       "                        <td>15302</td>\n",
       "                    </tr>\n",
       "                    <tr>\n",
       "                        <th>Variance</th>\n",
       "                        <td>0.33832</td>\n",
       "                    </tr>\n",
       "                    <tr>\n",
       "                        <th>Memory size</th>\n",
       "                        <td>78.2 KiB</td>\n",
       "                    </tr>\n",
       "                </table>\n",
       "            </div>\n",
       "        </div>\n",
       "        <div role=\"tabpanel\" class=\"tab-pane col-md-8 col-md-offset-2\" id=\"histogram8094312227293879418\">\n",
       "            <img src=\"data:image/png;base64,iVBORw0KGgoAAAANSUhEUgAAAlgAAAGQCAYAAAByNR6YAAAAOXRFWHRTb2Z0d2FyZQBNYXRwbG90bGliIHZlcnNpb24zLjUuMSwgaHR0cHM6Ly9tYXRwbG90bGliLm9yZy/YYfK9AAAACXBIWXMAAA9hAAAPYQGoP6dpAAAuMElEQVR4nO3deXBUZb7/8U8WSYCQDQh4EQmXzYTEjCzGiVzCjsKAGNkyNSIjeFmiuQngADIo3IkCEkUlXiF6mRG1xh4YRxZZLIfFhThV48J0GlwIcGFSSCJ0ExIDmOX3x/zomTaYDvBwmu68X1Wpkuc5fc73fPOAn5xz0h1UX19fLwAAABgT7OsCAAAAAg0BCwAAwDACFgAAgGEELAAAAMMIWAAAAIYRsAAAAAwjYAEAABhGwAIAADCMgAUAAGAYAQsAAMAwAhYAAIBhBCwAAADDCFgAAACGEbAAAAAMI2ABAAAYRsACAAAwjIAFAABgGAELAADAMAIWAACAYQQsAAAAwwhYAAAAhhGwAAAADCNgAQAAGEbAAgAAMIyABQAAYBgBCwAAwDACFgAAgGEELAAAAMMIWAAAAIYRsAAAAAwjYAEAABhGwAIAADCMgAUAAGAYAQsAAMAwAhYAAIBhBCwAAADDCFgAAACGEbAAAAAMI2ABAAAYFurrApqL8vKzxvcZHByk2NjWOn26SnV19cb3HwjoUePoj3f0yDt61Dj649217FH79m2M7q%2BpuILlx4KDgxQUFKTg4CBfl3LdokeNoz/e0SPv6FHj6I93gdgjAhYAAIBhBCwAAADDCFgAAACGEbAAAAAMI2ABAAAYRsACAAAwjIAFAABgGAELAADAMAIWAACAYQQsAAAAwwhYAAAAhhGwAAAADCNgAQAAGBbq6wJwdfot2uHrEppse86dvi4BAABL%2BO0VrF69eikpKUnJycnur9/85jeSpKKiIo0fP159%2BvTR6NGjtXnzZo/Xrl%2B/XiNHjlSfPn2UmZmp4uJi99z58%2Bf1%2BOOPa%2BDAgUpNTVV2dracTqel5wYAAPybX1/B2rFjh2666SaPsbKyMs2ePVuLFi3SmDFj9Mknn2jWrFnq2rWrkpOTtWvXLq1evVqvvPKKevXqpfXr12vmzJl699131apVK61atUoOh0M2m00tW7bU4sWLtXDhQq1Zs8ZHZwkAAPyN317B%2BjFbtmxRfHy8xo8fr7CwMKWlpWnIkCHasGGDJMlmsykjI0MpKSkKDw/X9OnTJUm7d%2B9WTU2NNm7cqNmzZ%2BvGG29UdHS0cnJytGfPHp08edKXpwUAAPyIX1/BeuaZZ/TZZ5%2BpsrJSd999txYsWCCHw6HExESP7RITE7V9%2B3ZJksPh0KhRo9xzwcHBSkhIkN1uV0JCgs6ePavevXu757t166bw8HA5HA516NChSXWVlZWpvLzcYyw0tJXi4uKu9FQvKSTEv/JxaKj19V7skb/1yir0xzt65B09ahz98S4Qe%2BS3AesnP/mJ0tLStGLFCh0/flw5OTlaunSpXC5XgyAUHR3tfo7K5XIpKirKYz4qKkpOp1Mul0uSFBkZ6TEfGRl5Wc9h2Ww2FRQUeIxlZWUpOzu7yfsIRDExrX127MjIlj47tj%2BgP97RI%2B/oUePoj3eB1CO/DVg2m8393926ddO8efM0a9Ys9e3b1%2Btr6%2Bvrr2rem0mTJmnIkCEeY6GhreR0Vl3Vfn/I35K%2B6fNvipCQYEVGtlRFRbVqa%2BssP/71jv54R4%2B8o0eNoz/eXcse%2BeqHe78NWD900003qba2VsHBwe4rURc5nU7FxsZKkmJiYhrMu1wu9ejRw72Ny%2BVS69b//IacOXNGbdu2bXItcXFxDW4HlpefVU1N8/6L5cvzr62ta/b9bwz98Y4eeUePGkd/vAukHvnXJZD/78CBA1q%2BfLnHWElJiVq0aKH09HSPt12QpOLiYqWkpEiSkpKS5HA43HO1tbU6cOCAUlJS1LlzZ0VFRXnMf/XVV7pw4YKSkpKu4RkBAIBA4pcBq23btrLZbCosLNSFCxd05MgRPf/885o0aZLuuecelZaWasOGDTp//rz27t2rvXv3auLEiZKkzMxMvf322/r8889VXV2tl156SS1atNCgQYMUEhKiiRMnas2aNTpx4oScTqeeffZZDR8%2BXO3atfPxWQMAAH/hl7cIO3TooMLCQj3zzDPugHTvvfcqNzdXYWFhWrt2rfLy8rR06VJ16tRJK1eu1C233CJJGjhwoObMmaOcnBydOnVKycnJKiwsVHh4uCQpOztbVVVVuueee1RTU6PBgwdryZIlPjxbAADgb4Lqr/aJbjRJeflZ4/sMDQ3W8PwPjO/3WvHFR%2BWEhgYrJqa1nM6qgLmvbxL98Y4eeUePGkd/vLuWPWrfvo3R/TWVX94iBAAAuJ4RsAAAAAwjYAEAABhGwAIAADCMgAUAAGAYAQsAAMAwAhYAAIBhBCwAAADDCFgAAACGEbAAAAAMI2ABAAAYRsACAAAwjIAFAABgGAELAADAMAIWAACAYQQsAAAAwwhYAAAAhhGwAAAADAv1dQEAzLj7uY98XUKTbc%2B509clAMA1xRUsAAAAwwhYAAAAhhGwAAAADCNgAQAAGEbAAgAAMIyABQAAYBgBCwAAwDACFgAAgGEELAAAAMMIWAAAAIYRsAAAAAwjYAEAABhGwAIAADCMgAUAAGAYAQsAAMAwAhYAAIBhBCwAAADDCFgAAACGEbAAAAAMI2ABAAAYRsACAAAwjIAFAABgGAELAADAMAIWAACAYQQsAAAAwwhYAAAAhhGwAAAADCNgAQAAGEbAAgAAMIyABQAAYFhABKynnnpKvXr1cv%2B5qKhI48ePV58%2BfTR69Ght3rzZY/v169dr5MiR6tOnjzIzM1VcXOyeO3/%2BvB5//HENHDhQqampys7OltPptOxcAACA//P7gHXw4EFt2rTJ/eeysjLNnj1bkydPVlFRkRYtWqTFixfLbrdLknbt2qXVq1fr6aef1r59%2BzR48GDNnDlT3333nSRp1apVcjgcstls2rlzp%2Brr67Vw4UKfnBsAAPBPfh2w6urq9MQTT2jq1KnusS1btig%2BPl7jx49XWFiY0tLSNGTIEG3YsEGSZLPZlJGRoZSUFIWHh2v69OmSpN27d6umpkYbN27U7NmzdeONNyo6Olo5OTnas2ePTp486YtTBAAAfijU1wVcjTfffFNhYWEaM2aMnnvuOUmSw%2BFQYmKix3aJiYnavn27e37UqFHuueDgYCUkJMhutyshIUFnz55V79693fPdunVTeHi4HA6HOnTo0KS6ysrKVF5e7jEWGtpKcXFxV3KaPyokxL/ycWio9fVe7JG/9SrQ%2BWItXCnWkHf0qHH0x7tA7JHfBqxvv/1Wq1ev1muvveYx7nK5GgSh6Oho93NULpdLUVFRHvNRUVFyOp1yuVySpMjISI/5yMjIy3oOy2azqaCgwGMsKytL2dnZTd5HIIqJae2zY0dGtvTZsdGQL9fClWINeUePGkd/vAukHvltwFq2bJkyMjLUvXt3/f3vf7%2Bs19bX11/VvDeTJk3SkCFDPMZCQ1vJ6ay6qv3%2BkL8lfdPn3xQhIcGKjGypiopq1dbWWX58XJov1sKVYg15R48aR3%2B8u5Y98tUPdH4ZsIqKivTZZ59p69atDeZiYmLcV6Iucjqdio2N/dF5l8ulHj16uLdxuVxq3fqf35AzZ86obdu2Ta4vLi6uwe3A8vKzqqlp3n%2BxfHn%2BtbV1zb7/1xN//F6whryjR42jP94FUo/86xLI/7d582adOnVKgwcPVmpqqjIyMiRJqamp6tmzp8fbLkhScXGxUlJSJElJSUlyOBzuudraWh04cEApKSnq3LmzoqKiPOa/%2BuorXbhwQUlJSRacGQAACAR%2BGbAWLFignTt3atOmTdq0aZMKCwslSZs2bdKYMWNUWlqqDRs26Pz589q7d6/27t2riRMnSpIyMzP19ttv6/PPP1d1dbVeeukltWjRQoMGDVJISIgmTpyoNWvW6MSJE3I6nXr22Wc1fPhwtWvXzpenDAAA/Ihf3iKMioryeFC9pqZGktSxY0dJ0tq1a5WXl6elS5eqU6dOWrlypW655RZJ0sCBAzVnzhzl5OTo1KlTSk5OVmFhocLDwyVJ2dnZqqqq0j333KOamhoNHjxYS5YssfYEAQCAXwuqv9onutEk5eVnje8zNDRYw/M/ML7fa2V7zp2WHzM0NFgxMa3ldFYFzH39H3P3cx/5uoQm88VauFLNaQ1dKXrUOPrj3bXsUfv2bYzur6n88hYhAADA9YyABQAAYBgBCwAAwDACFgAAgGEELAAAAMMIWAAAAIYRsAAAAAwjYAEAABhGwAIAADCMgAUAAGAYAQsAAMAwAhYAAIBhBCwAAADDCFgAAACGEbAAAAAMI2ABAAAYRsACAAAwjIAFAABgGAELAADAMAIWAACAYQQsAAAAwwhYAAAAhhGwAAAADCNgAQAAGEbAAgAAMIyABQAAYBgBCwAAwDACFgAAgGEELAAAAMMIWAAAAIYRsAAAAAwjYAEAABhGwAIAADCMgAUAAGAYAQsAAMAwAhYAAIBhBCwAAADDCFgAAACGEbAAAAAMI2ABAAAYZnnAGjJkiAoKCnTixAmrDw0AAGAJywPWfffdp23btmnYsGGaPn263n33XdXU1FhdBgAAwDVjecDKysrStm3b9Ic//EE9evTQU089pfT0dK1cuVJHjhyxuhwAAADjfPYMVu/evTV//nzt3r1bjz32mP7whz9o1KhRmjZtmv72t7/5qiwAAICr5rOA9f3332vbtm166KGHNH/%2BfHXo0EELFy5UQkKCpk6dqi1btviqNAAAgKsSavUBS0pKtHHjRr399tuqqqrSyJEj9eqrr6pv377ubfr3768lS5ZozJgxVpcHAABw1SwPWKNHj1bXrl01Y8YMjRs3TtHR0Q22SU9P1%2BnTp60uDQAAwAjLA9b69et1%2B%2B23e91u//79FlQDAABgnuXPYPXq1UszZ87Ue%2B%2B95x773e9%2Bp4ceekgul8vqcgAAAIyzPGAtW7ZMZ8%2BeVffu3d1jgwYNUl1dnZYvX97k/XzxxRd64IEH1LdvX6WlpSknJ0fl5eWSpKKiIo0fP159%2BvTR6NGjtXnzZo/Xrl%2B/XiNHjlSfPn2UmZmp4uJi99z58%2Bf1%2BOOPa%2BDAgUpNTVV2dracTudVnjUAAGhOLA9YH374oQoKChQfH%2B8ei4%2BPV35%2Bvj744IMm7ePChQt68MEHdfvtt6uoqEhbt27VqVOntGTJEpWVlWn27NmaPHmyioqKtGjRIi1evFh2u12StGvXLq1evVpPP/209u3bp8GDB2vmzJn67rvvJEmrVq2Sw%2BGQzWbTzp07VV9fr4ULFxrvAwAACFyWB6xz584pLCysYSHBwaqurm7SPqqrq5Wbm6sZM2aoRYsWio2N1fDhw/X1119ry5Ytio%2BP1/jx4xUWFqa0tDQNGTJEGzZskCTZbDZlZGQoJSVF4eHhmj59uiRp9%2B7dqqmp0caNGzV79mzdeOONio6OVk5Ojvbs2aOTJ0%2BaawIAAAholj/k3r9/fy1fvlxz585VVFSUJOnkyZNasWKFx1s1NCYqKkoTJkxw//nw4cP605/%2BpLvvvlsOh0OJiYke2ycmJmr79u2SJIfDoVGjRrnngoODlZCQILvdroSEBJ09e1a9e/d2z3fr1k3h4eFyOBzq0KFDk%2BorKytz3668KDS0leLi4pr0%2BqYKCfGvz%2BoODbW%2B3os98rdeBTpfrIUrxRryjh41jv54F4g9sjxgPfbYY3rwwQf105/%2BVBEREaqrq1NVVZU6d%2B6s11577bL2VVpaqpEjR6qmpkYTJ05Udna2HnrooQZBKDo62v0clcvlcge7i6KiouR0Ot0P2UdGRnrMR0ZGXtZzWDabTQUFBR5jWVlZys7ObvI%2BAlFMTGufHTsysqXPjo2GfLkWrhRryDt61Dj6410g9cjygNW5c2e98847ev/993Xs2DEFBwera9euGjBggEJCQi5rX506dZLdbtf//d//6fHHH9evfvWrJr2uvr7%2Bqua9mTRpkoYMGeIxFhraSk5n1VXt94f8LembPv%2BmCAkJVmRkS1VUVKu2ts7y4%2BPSfLEWrhRryDt61Dj649217JGvfqCzPGBJUosWLTRs2DAj%2BwoKClJ8fLxyc3M1efJkpaenN3i7B6fTqdjYWElSTExMg3mXy6UePXq4t3G5XGrd%2Bp/fkDNnzqht27ZNrikuLq7B7cDy8rOqqWnef7F8ef61tXXNvv/XE3/8XrCGvKNHjaM/3gVSjyy/BHL8%2BHHl5ORo9OjRGjp0aIOvpigqKtLIkSNVV/fPb0Jw8D9O5dZbb/V42wVJKi4uVkpKiiQpKSlJDofDPVdbW6sDBw4oJSVFnTt3VlRUlMf8V199pQsXLigpKemKzxkAADQvPnkGq6ysTAMGDFCrVq2uaB9JSUmqrKzUypUrlZ2drerqaq1evVr9%2BvVTZmam1q1bpw0bNmjs2LH6%2BOOPtXfvXtlsNklSZmam5syZo5/97Gfq1auX/vd//1ctWrTQoEGDFBISookTJ2rNmjVKTk5WeHi4nn32WQ0fPlzt2rUz2QYAABDALA9YxcXF%2BvOf/%2By%2BHXcl2rRpo3Xr1ikvL0933HGHWrVqpTvuuENPPvmk2rZtq7Vr1yovL09Lly5Vp06dtHLlSt1yyy2SpIEDB2rOnDnKycnRqVOnlJycrMLCQoWHh0uSsrOzVVVVpXvuuUc1NTUaPHiwlixZYuLUAQBAMxFUf7VPdF%2BmYcOGaevWre5A01yUl581vs/Q0GANz2/am7NeD7bn3Gn5MUNDgxUT01pOZ1XA3Nf/MXc/95GvS2gyX6yFK9Wc1tCVokeNoz/eXcsetW/fxuj%2BmsryZ7BmzJihgoKCq/5NPQAAgOuV5bcI33//fX366ad66623dNNNN7kfTr/ozTfftLokAAAAoywPWBERERo4cKDVhwUAALCM5QFr2bJlVh8SAADAUj55K/DDhw9r9erVWrhwoXvss88%2B80UpAAAAxlkesIqKijR27Fi9%2B%2B672rp1q6R/vPnolClT9Oc//9nqcgAAAIyzPGCtWrVKjz76qLZs2aKgoCBJ//h8wuXLl%2BvFF1%2B0uhwAAADjLA9YX331lTIzMyXJHbAk6a677lJJSYnV5QAAABhnecBq06aNzp0712C8rKxMLVq0sLocAAAA4ywPWH369NFTTz2lyspK99iRI0c0f/58/fSnP7W6HAAAAOMsf5uGhQsX6oEHHlBqaqpqa2vVp08fVVdXq0ePHlq%2BfLnV5QAAABhnecDq2LGjtm7dqr179%2BrIkSMKDw9X165ddeedd3o8kwUAAOCvLA9YknTDDTdo2LBhvjg0AADANWd5wBoyZEijV6p4LywAAODvLA9Yo0aN8ghYtbW1OnLkiOx2ux544AGrywEAADDO8oA1b968S47v3LlTf/nLXyyuBgAAwDyffBbhpQwbNkzvvPOOr8sAAAC4atdNwDpw4IDq6%2Bt9XQYAAMBVs/wW4eTJkxuMVVdXq6SkRCNGjLC6HAAAAOMsD1jx8fENfoswLCxM48eP14QJE6wuBwAAwDjLAxbv1g4AAAKd5QHr7bffbvK248aNu2Z1AAAAXCuWB6xFixaprq6uwQPtQUFBHmNBQUEELAAA4JcsD1ivvPKK1q1bp5kzZ6pXr16qr6/Xl19%2BqZdfflm/%2BMUvlJqaanVJAAAARvnkGazCwkJ16NDBPdavXz917txZ06ZN09atW60uCQAAwCjL3wfr6NGjioqKajAeGRmp0tJSq8sBAAAwzvKA1alTJy1fvlxOp9M9VlFRoWeeeUY333yz1eUAAAAYZ/ktwscee0xz586VzWZT69atFRwcrMrKSoWHh%2BvFF1%2B0uhwAAADjLA9YAwYM0J49e7R371598803qq%2BvV4cOHfQf//EfatOmjdXlAAAAGGd5wJKkli1baujQofrmm2/UuXNnX5QAAABwzVj%2BDNa5c%2Bc0f/583Xbbbbr77rsl/eMZrOnTp6uiosLqcgAAAIyzPGCtXLlSBw8eVH5%2BvoKD/3n42tpa5efnW10OAACAcZYHrJ07d%2BqFF17QXXfd5f7Q58jISC1btkzvvvuu1eUAAAAYZ3nAqqqqUnx8fIPx2NhYfffdd1aXAwAAYJzlAevmm2/WX/7yF0ny%2BOzBHTt26N/%2B7d%2BsLgcAAMA4y3%2BL8Oc//7keeeQR3Xfffaqrq9Nvf/tbFRcXa%2BfOnVq0aJHV5QAAABhnecCaNGmSQkND9frrryskJERr1qxR165dlZ%2Bfr7vuusvqcgAAAIyzPGCdPn1a9913n%2B677z6rDw0AAGAJy5/BGjp0qMezVwAAAIHG8oCVmpqq7du3W31YAAAAy1h%2Bi/DGG2/Uk08%2BqcLCQt1888264YYbPOafeeYZq0sCAAAwyvKAdejQIf37v/%2B7JMnpdFp9eAAAgGvOsoCVm5urVatW6bXXXnOPvfjii8rKyrKqBAAAAEtY9gzWrl27GowVFhZadXgAAADLWBawLvWbg/w2IQAACESWBayLH%2BzsbQwAAMDfWf42DQAAAIGOgAUAAGCYZb9F%2BP3332vu3Llex3gfLAAA4O8su4LVt29flZWVeXxdaqypSktLlZWVpdTUVKWlpWnBggWqqKiQJB08eFC/%2BMUv1LdvX40YMULr1q3zeO22bds0ZswY3XbbbcrIyNCHH37onqurq9OqVas0dOhQ9e/fX9OmTdPx48fNNAEAADQLll3B%2Btf3vzJh5syZSkpK0q5du3T27FllZWVpxYoVWrx4sWbMmKGJEyeqsLBQR44c0YMPPqibbrpJI0aM0MGDBzV//nwVFBTojjvu0M6dO/Xwww9rx44d6tixo9544w1t2bJFL7/8sjp06KBVq1YpKytLmzZt4qF8AADQJH75DFZFRYWSkpI0d%2B5ctW7dWh07dtS9996rv/71r9qzZ4%2B%2B//57zZo1S61atVLv3r01YcIE2Ww2SdKGDRuUnp6u9PR0hYWFaezYserZs6c2b94sSbLZbJo6daq6deumiIgI5ebmqqSkRPv37/flKQMAAD9i%2BUflmBAZGally5Z5jJ04cUJxcXFyOBzq1auXQkJC3HOJiYnasGGDJMnhcCg9Pd3jtYmJibLb7Tp37pwOHTqkxMRE91xERIS6dOkiu92un/zkJ02qr6ysTOXl5R5joaGtFBcXdzmn6VVIiH/l49BQ6%2Bu92CN/61Wg88VauFKsIe/oUePoj3eB2CO/DFg/ZLfb9frrr%2Bull17S9u3bFRkZ6TEfHR0tl8uluro6uVwuRUVFecxHRUXp0KFDOnPmjOrr6y85fzmfm2iz2VRQUOAxlpWVpezs7Ms8s8ASE9PaZ8eOjGzps2OjIV%2BuhSvFGvKOHjWO/ngXSD3y%2B4D1ySefaNasWZo7d67S0tK0ffv2S273r89PeXsH%2Bat9h/lJkyZpyJAhHmOhoa3kdFZd1X5/yN%2BSvunzb4qQkGBFRrZURUW1amvrLD8%2BLs0Xa%2BFKsYa8o0eNoz/eXcse%2BeoHOr8OWLt27dKjjz6qxYsXa9y4cZKk2NhYHT161GM7l8ul6OhoBQcHKyYmRi6Xq8F8bGyse5tLzbdt27bJdcXFxTW4HVheflY1Nc37L5Yvz7%2B2tq7Z9/964o/fC9aQd/SocfTHu0DqkX9dAvkXn376qebPn6/nn3/eHa4kKSkpSV9%2B%2BaVqamrcY3a7XSkpKe754uJij31dnA8LC1OPHj3kcDjccxUVFTp27JhuvfXWa3tCAAAgYPhlwKqpqdGvf/1rzZs3TwMGDPCYS09PV0REhF566SVVV1dr//792rhxozIzMyVJEydO1L59%2B7Rnzx6dP39eGzdu1NGjRzV27FhJUmZmptavX6%2BSkhJVVlYqPz9fCQkJSk5Otvw8AQCAf/LLW4Sff/65SkpKlJeXp7y8PI%2B5HTt2aM2aNXriiSdUWFiodu3aKTc3V4MGDZIk9ezZU/n5%2BVq2bJlKS0vVvXt3rV27Vu3bt5ckTZ48WeXl5br//vtVVVWl1NTUBg%2BsAwAANMYvA1a/fv305ZdfNrrN73//%2Bx%2BdGzFihEaMGHHJuaCgIGVnZzf73/gDAABXzi9vEQIAAFzPCFgAAACGEbAAAAAMI2ABAAAYRsACAAAwjIAFAABgGAELAADAMAIWAACAYQQsAAAAwwhYAAAAhhGwAAAADCNgAQAAGEbAAgAAMIyABQAAYBgBCwAAwDACFgAAgGEELAAAAMMIWAAAAIYRsAAAAAwjYAEAABhGwAIAADCMgAUAAGAYAQsAAMAwAhYAAIBhBCwAAADDCFgAAACGEbAAAAAMI2ABAAAYRsACAAAwjIAFAABgGAELAADAMAIWAACAYQQsAAAAwwhYAAAAhhGwAAAADCNgAQAAGEbAAgAAMIyABQAAYBgBCwAAwDACFgAAgGEELAAAAMMIWAAAAIYRsAAAAAwjYAEAABhGwAIAADCMgAUAAGAYAQsAAMAwAhYAAIBhBCwAAADD/DpgffDBB0pLS1Nubm6DuW3btmnMmDG67bbblJGRoQ8//NA9V1dXp1WrVmno0KHq37%2B/pk2bpuPHj7vnXS6XcnJylJaWpgEDBmjRokU6d%2B6cJecEAAD8n98GrJdffll5eXnq0qVLg7mDBw9q/vz5mjdvnj7%2B%2BGNNnTpVDz/8sL755htJ0htvvKEtW7aosLBQu3fvVnx8vLKyslRfXy9JWrx4saqrq7V161b98Y9/VElJifLz8y09PwAA4L/8NmCFhYVp48aNlwxYGzZsUHp6utLT0xUWFqaxY8eqZ8%2Be2rx5syTJZrNp6tSp6tatmyIiIpSbm6uSkhLt379f3377rd577z3l5uYqNjZWHTp00OzZs/XHP/5R33//vdWnCQAA/FCorwu4UlOmTPnROYfDofT0dI%2BxxMRE2e12nTt3TocOHVJiYqJ7LiIiQl26dJHdbtfZs2cVEhKiXr16ued79%2B6t7777TocPH/YY/zFlZWUqLy/3GAsNbaW4uLimnl6ThIT4Vz4ODbW%2B3os98rdeBTpfrIUrxRryjh41jv54F4g98tuA1RiXy6WoqCiPsaioKB06dEhnzpxRfX39JeedTqeio6MVERGhoKAgjzlJcjqdTTq%2BzWZTQUGBx1hWVpays7Ov5HQCRkxMa58dOzKypc%2BOjYZ8uRauFGvIO3rUOPrjXSD1KCADliT381RXMu/ttd5MmjRJQ4YM8RgLDW0lp7Pqqvb7Q/6W9E2ff1OEhAQrMrKlKiqqVVtbZ/nxcWm%2BWAtXijXkHT1qHP3x7lr2yFc/0AVkwIqJiZHL5fIYc7lcio2NVXR0tIKDgy8537ZtW8XGxqqyslK1tbUKCQlxz0lS27Ztm3T8uLi4BrcDy8vPqqamef/F8uX519bWNfv%2BX0/88XvBGvKOHjWO/ngXSD3yr0sgTZSUlKTi4mKPMbvdrpSUFIWFhalHjx5yOBzuuYqKCh07dky33nqrEhISVF9fry%2B%2B%2BMLjtZGRkeratatl5wAAAPxXQAasiRMnat%2B%2BfdqzZ4/Onz%2BvjRs36ujRoxo7dqwkKTMzU%2BvXr1dJSYkqKyuVn5%2BvhIQEJScnKzY2ViNHjtRzzz2n06dP65tvvtGLL76o8ePHKzQ0IC/4AQAAw/w2MSQnJ0uSampqJEnvvfeepH9cberZs6fy8/O1bNkylZaWqnv37lq7dq3at28vSZo8ebLKy8t1//33q6qqSqmpqR4Ppf/3f/%2B3nnjiCQ0dOlQ33HCDfvazn13yzUwBAAAuxW8Dlt1ub3R%2BxIgRGjFixCXngoKClJ2d/aO/1demTRs9%2B%2ByzV10jAABongLyFiEAAIAvEbAAAAAMI2ABAAAYRsACAAAwjIAFAABgGAELAADAMAIWAACAYQQsAAAAwwhYAAAAhhGwAAAADCNgAQAAGEbAAgAAMIyABQAAYBgBCwAAwDACFgAAgGEELAAAAMMIWAAAAIYRsAAAAAwjYAEAABhGwAIAADCMgAUAAGAYAQsAAMAwAhYAAIBhBCwAAADDCFgAAACGEbAAAAAMI2ABAAAYRsACAAAwjIAFAABgGAELAADAMAIWAACAYQQsAAAAwwhYAAAAhhGwAAAADCNgAQAAGEbAAgAAMIyABQAAYFiorwsAAJh193Mf%2BbqEJtuec6evSwCuCa5gAQAAGEbAAgAAMIyABQAAYBgBCwAAwDACFgAAgGEELAAAAMMIWAAAAIYRsAAAAAwjYAEAABhGwAIAADCMgAUAAGAYn0V4CaWlpVq6dKn279%2BvVq1aadSoUZo7d66Cg8mjAAD/4U%2BfS/nXJ%2B/ydQlGEbAu4ZFHHlHv3r313nvv6dSpU5oxY4batWunX/7yl74uDQAA%2BAEuyfyA3W7XF198oXnz5qlNmzaKj4/X1KlTZbPZfF0aAADwE1zB%2BgGHw6FOnTopKirKPda7d28dOXJElZWVioiI8LqPsrIylZeXe4yFhrZSXFyc0VpDQvwrH4eGWl/vxR75W68CnS/WwpViDV1b/rQWrhRrqOkCqUcErB9wuVyKjIz0GLsYtpxOZ5MCls1mU0FBgcfYww8/rEceecRcofpHkHug49eaNGmS8fAWKMrKyvTqq680ix5dyfMLZWVlstlszaI/V8of15DVz7KwjhrnyzXkL881lZWVafXq1QG1hgInKhpUX19/Va%2BfNGmS3nrrLY%2BvSZMmGarun8rLy1VQUNDgahn%2BiR41jv54R4%2B8o0eNoz/eBWKPuIL1A7GxsXK5XB5jLpdLQUFBio2NbdI%2B4uLiAiaBAwCAy8cVrB9ISkrSiRMndPr0afeY3W5X9%2B7d1bp1ax9WBgAA/AUB6wcSExOVnJysZ555RpWVlSopKdFvf/tbZWZm%2Bro0AADgJwhYl/DCCy%2BorKxMd955p6ZMmaJx48bp5z//ua/LaqB9%2B/Z6%2BOGH1b59e1%2BXct2iR42jP97RI%2B/oUePoj3eB2KOg%2Bqt9ohsAAAAeuIIFAABgGAELAADAMAIWAACAYQQsAAAAwwhYAAAAhhGwAAAADCNgAQAAGEbAAgAAMIyABQAAYBgB6zr3wQcfKC0tTbm5uY1uV1dXp1WrVmno0KHq37%2B/pk2bpuPHj1tUpW81tUcLFixwf9bkxa9%2B/fpZVKXvlJaWKisrS6mpqUpLS9OCBQtUUVFxyW23bdumMWPG6LbbblNGRoY%2B/PBDi6v1jab26K233tItt9zisYaSk5P1t7/9zQdVW%2BuLL77QAw88oL59%2ByotLU05OTkqLy%2B/5Lbr16/XyJEj1adPH2VmZqq4uNjiaq3X1P6sXr1aCQkJDdbQt99%2B64Oqfeepp55Sr169fnQ%2BENYQAes69vLLLysvL09dunTxuu0bb7yhLVu2qLCwULt371Z8fLyysrIU6J%2BEdDk9kqRZs2bJbre7v/76179e4wp9b%2BbMmYqMjNSuXbv01ltv6euvv9aKFSsabHfw4EHNnz9f8%2BbN08cff6ypU6fq4Ycf1jfffOODqq3V1B5JUv/%2B/T3WkN1u16233mpxxda6cOGCHnzwQd1%2B%2B%2B0qKirS1q1bderUKS1ZsqTBtrt27dLq1av19NNPa9%2B%2BfRo8eLBmzpyp7777zvrCLXI5/ZGke%2B65p8EaateunbVF%2B9DBgwe1adOmH50PlDVEwLqOhYWFaePGjU0KDzabTVOnTlW3bt0UERGh3NxclZSUaP/%2B/RZU6juX06PmqKKiQklJSZo7d65at26tjh076t57771ksNywYYPS09OVnp6usLAwjR07Vj179tTmzZt9ULl1LqdHzVV1dbVyc3M1Y8YMtWjRQrGxsRo%2BfLi%2B/vrrBtvabDZlZGQoJSVF4eHhmj59uiRp9%2B7dVpdtmcvpT3NXV1enJ554QlOnTv3RbQJlDRGwrmNTpkxRmzZtvG537tw5HTp0SImJie6xiIgIdenSRXa7/VqW6HNN7dFFH3/8scaNG6fbbrtN48eP98vLzpcjMjJSy5Yt8/jp%2BMSJE4qLi2uwrcPh8FhDkpSYmBjwa%2BhyenRx7pe//KX69%2B%2BvoUOHNvqTeKCIiorShAkTFBoaKkk6fPiw/vSnP%2Bnuu%2B9usO0P11FwcLASEhICeh1dTn8k6csvv9TkyZPVp08fjR49utncipekN998U2FhYRozZsyPbhMoa4iAFQDOnDmj%2Bvp6RUVFeYxHRUXJ6XT6qKrrT%2BfOndWlSxetXbtWH3zwgfr166cHH3ywWfXIbrfr9ddf16xZsxrMuVwu1pAa71FsbKzi4%2BP16KOP6qOPPtKcOXP02GOPqaioyAeVWq%2B0tFRJSUkaNWqUkpOTlZ2d3WCb5ryOmtKfjh07qnPnzlqxYoU%2B%2BugjTZgwQTNnztThw4d9ULG1vv32W61evVpPPPFEo9sFyhoiYAWQQH/e6mplZWXpqaeeUocOHRQREaFHH31ULVq00Hvvvefr0izxySefaNq0aZo7d67S0tIuuU1zX0PeejRo0CC98sorSkxMVIsWLTR69GgNHz5cb731lg%2BqtV6nTp1kt9u1Y8cOHT16VL/61a8uuV1zXUdN6c%2BECRP0wgsvqEuXLmrZsqWmTp2qhISEgL8VL0nLli1TRkaGunfv7nXbQFhDBKwAEB0dreDgYLlcLo9xl8ultm3b%2BqYoPxASEqIbb7xRZWVlvi7lmtu1a5f%2B8z//U4899pimTJlyyW1iYmIuuYZiY2MtqND3mtKjS%2BnUqVOzWEMXBQUFKT4%2BXrm5udq6datOnz7tMd/c15G3/lxKc1hDRUVF%2Buyzz5SVleV120BZQwSsABAWFqYePXrI4XC4xyoqKnTs2LGA/%2B2mpqqvr9eyZcv0xRdfuMcuXLigY8eOqXPnzj6s7Nr79NNPNX/%2BfD3//PMaN27cj26XlJTU4Jk0u92ulJSUa1yh7zW1R7///e%2B1bds2j7GSkpKAX0NFRUUaOXKk6urq3GPBwf/438cNN9zgsW1SUpLHv0W1tbU6cOBAQK%2Bjy%2BnP//zP/zS4pdwc1tDmzZt16tQpDR48WKmpqcrIyJAkpaam6p133vHYNlDWEAHLT508eVJ33XWX%2B72uMjMztX79epWUlKiyslL5%2Bfnu91pprv61R0FBQfr73/%2BupUuX6uTJk6qqqlJ%2Bfr5uuOEGDRs2zNelXjM1NTX69a9/rXnz5mnAgAEN5h944AF3YJg4caL27dunPXv26Pz589q4caOOHj2qsWPHWl22pS6nRxcuXNBvfvMb2e12ff/999q6davef/99TZ482eqyLZWUlKTKykqtXLlS1dXVOn36tFavXq1%2B/fqpTZs2uuuuu9y/dZmZmam3335bn3/%2Buaqrq/XSSy%2BpRYsWGjRokG9P4hq6nP64XC4tXbpUhw8f1vnz57Vu3TodO3ZM9957r4/P4tpasGCBdu7cqU2bNmnTpk0qLCyUJG3atElDhgwJyDUU6usC8OMuhqOamhpJcj8rdPEf9yNHjujChQuSpMmTJ6u8vFz333%2B/qqqqlJqaqoKCAt8UbqHL6dGTTz6pFStWKCMjQ5WVlbr11lv16quvqlWrVr4p3gKff/65SkpKlJeXp7y8PI%2B5HTt26Pjx4zpz5owkqWfPnsrPz9eyZctUWlqq7t27a%2B3atWrfvr0vSrfM5fRoypQpqqqq0n/913%2BpvLxcN910k1588UUlJSX5onTLtGnTRuvWrVNeXp7uuOMOtWrVSnfccYeefPJJSdKRI0fc71E0cOBAzZkzRzk5OTp16pSSk5NVWFio8PBwX57CNXU5/Zk7d64kaerUqXK5XOrevbt%2B97vfqWPHjj6r3wpRUVEeD65f/Df74nkH4hoKqg%2BEJ8kAAACuI9wiBAAAMIyABQAAYBgBCwAAwDACFgAAgGEELAAAAMMIWAAAAIYRsAAAAAwjYAEAABhGwAIAADCMgAUAAGAYAQsAAMAwAhYAAIBhBCwAAADD/h/AA3PR4esd9wAAAABJRU5ErkJggg%3D%3D\"/>\n",
       "        </div>\n",
       "        <div role=\"tabpanel\" class=\"tab-pane col-md-12\" id=\"common8094312227293879418\">\n",
       "            \n",
       "<table class=\"freq table table-hover\">\n",
       "    <thead>\n",
       "    <tr>\n",
       "        <td class=\"fillremaining\">Value</td>\n",
       "        <td class=\"number\">Count</td>\n",
       "        <td class=\"number\">Frequency (%)</td>\n",
       "        <td style=\"min-width:200px\">&nbsp;</td>\n",
       "    </tr>\n",
       "    </thead>\n",
       "    <tr class=\"\">\n",
       "        <td class=\"fillremaining\">1</td>\n",
       "        <td class=\"number\">5084</td>\n",
       "        <td class=\"number\">50.8%</td>\n",
       "        <td>\n",
       "            <div class=\"bar\" style=\"width:100%\">&nbsp;</div>\n",
       "        </td>\n",
       "</tr><tr class=\"\">\n",
       "        <td class=\"fillremaining\">2</td>\n",
       "        <td class=\"number\">4590</td>\n",
       "        <td class=\"number\">45.9%</td>\n",
       "        <td>\n",
       "            <div class=\"bar\" style=\"width:90%\">&nbsp;</div>\n",
       "        </td>\n",
       "</tr><tr class=\"\">\n",
       "        <td class=\"fillremaining\">3</td>\n",
       "        <td class=\"number\">266</td>\n",
       "        <td class=\"number\">2.7%</td>\n",
       "        <td>\n",
       "            <div class=\"bar\" style=\"width:6%\">&nbsp;</div>\n",
       "        </td>\n",
       "</tr><tr class=\"\">\n",
       "        <td class=\"fillremaining\">4</td>\n",
       "        <td class=\"number\">60</td>\n",
       "        <td class=\"number\">0.6%</td>\n",
       "        <td>\n",
       "            <div class=\"bar\" style=\"width:2%\">&nbsp;</div>\n",
       "        </td>\n",
       "</tr>\n",
       "</table>\n",
       "        </div>\n",
       "        <div role=\"tabpanel\" class=\"tab-pane col-md-12\"  id=\"extreme8094312227293879418\">\n",
       "            <p class=\"h4\">Minimum 5 values</p>\n",
       "            \n",
       "<table class=\"freq table table-hover\">\n",
       "    <thead>\n",
       "    <tr>\n",
       "        <td class=\"fillremaining\">Value</td>\n",
       "        <td class=\"number\">Count</td>\n",
       "        <td class=\"number\">Frequency (%)</td>\n",
       "        <td style=\"min-width:200px\">&nbsp;</td>\n",
       "    </tr>\n",
       "    </thead>\n",
       "    <tr class=\"\">\n",
       "        <td class=\"fillremaining\">1</td>\n",
       "        <td class=\"number\">5084</td>\n",
       "        <td class=\"number\">50.8%</td>\n",
       "        <td>\n",
       "            <div class=\"bar\" style=\"width:100%\">&nbsp;</div>\n",
       "        </td>\n",
       "</tr><tr class=\"\">\n",
       "        <td class=\"fillremaining\">2</td>\n",
       "        <td class=\"number\">4590</td>\n",
       "        <td class=\"number\">45.9%</td>\n",
       "        <td>\n",
       "            <div class=\"bar\" style=\"width:90%\">&nbsp;</div>\n",
       "        </td>\n",
       "</tr><tr class=\"\">\n",
       "        <td class=\"fillremaining\">3</td>\n",
       "        <td class=\"number\">266</td>\n",
       "        <td class=\"number\">2.7%</td>\n",
       "        <td>\n",
       "            <div class=\"bar\" style=\"width:6%\">&nbsp;</div>\n",
       "        </td>\n",
       "</tr><tr class=\"\">\n",
       "        <td class=\"fillremaining\">4</td>\n",
       "        <td class=\"number\">60</td>\n",
       "        <td class=\"number\">0.6%</td>\n",
       "        <td>\n",
       "            <div class=\"bar\" style=\"width:2%\">&nbsp;</div>\n",
       "        </td>\n",
       "</tr>\n",
       "</table>\n",
       "            <p class=\"h4\">Maximum 5 values</p>\n",
       "            \n",
       "<table class=\"freq table table-hover\">\n",
       "    <thead>\n",
       "    <tr>\n",
       "        <td class=\"fillremaining\">Value</td>\n",
       "        <td class=\"number\">Count</td>\n",
       "        <td class=\"number\">Frequency (%)</td>\n",
       "        <td style=\"min-width:200px\">&nbsp;</td>\n",
       "    </tr>\n",
       "    </thead>\n",
       "    <tr class=\"\">\n",
       "        <td class=\"fillremaining\">1</td>\n",
       "        <td class=\"number\">5084</td>\n",
       "        <td class=\"number\">50.8%</td>\n",
       "        <td>\n",
       "            <div class=\"bar\" style=\"width:100%\">&nbsp;</div>\n",
       "        </td>\n",
       "</tr><tr class=\"\">\n",
       "        <td class=\"fillremaining\">2</td>\n",
       "        <td class=\"number\">4590</td>\n",
       "        <td class=\"number\">45.9%</td>\n",
       "        <td>\n",
       "            <div class=\"bar\" style=\"width:90%\">&nbsp;</div>\n",
       "        </td>\n",
       "</tr><tr class=\"\">\n",
       "        <td class=\"fillremaining\">3</td>\n",
       "        <td class=\"number\">266</td>\n",
       "        <td class=\"number\">2.7%</td>\n",
       "        <td>\n",
       "            <div class=\"bar\" style=\"width:6%\">&nbsp;</div>\n",
       "        </td>\n",
       "</tr><tr class=\"\">\n",
       "        <td class=\"fillremaining\">4</td>\n",
       "        <td class=\"number\">60</td>\n",
       "        <td class=\"number\">0.6%</td>\n",
       "        <td>\n",
       "            <div class=\"bar\" style=\"width:2%\">&nbsp;</div>\n",
       "        </td>\n",
       "</tr>\n",
       "</table>\n",
       "        </div>\n",
       "    </div>\n",
       "</div>\n",
       "</div><div class=\"row variablerow\">\n",
       "    <div class=\"col-md-3 namecol\">\n",
       "        <p class=\"h4 pp-anchor\" id=\"pp_var_HasCrCard\">HasCrCard<br/>\n",
       "            <small>Boolean</small>\n",
       "        </p>\n",
       "    </div><div class=\"col-md-6\">\n",
       "    <div class=\"row\">\n",
       "        <div class=\"col-sm-6\">\n",
       "            <table class=\"stats \">\n",
       "                <tr class=\"\">\n",
       "                    <th>Distinct count</th>\n",
       "                    <td>2</td>\n",
       "                </tr>\n",
       "                <tr>\n",
       "                    <th>Unique (%)</th>\n",
       "                    <td>0.0%</td>\n",
       "                </tr>\n",
       "                <tr class=\"ignore\">\n",
       "                    <th>Missing (%)</th>\n",
       "                    <td>0.0%</td>\n",
       "                </tr>\n",
       "                <tr class=\"ignore\">\n",
       "                    <th>Missing (n)</th>\n",
       "                    <td>0</td>\n",
       "                </tr>\n",
       "            </table>\n",
       "        </div>\n",
       "        <div class=\"col-sm-6\">\n",
       "            <table class=\"stats \">\n",
       "                <tr>\n",
       "                    <th>Mean</th>\n",
       "                    <td>0.7055</td>\n",
       "                </tr>\n",
       "            </table>\n",
       "        </div>\n",
       "    </div>\n",
       "</div>\n",
       "<div class=\"col-md-3 collapse in\" id=\"minifreqtable5202635932778543535\">\n",
       "    <table class=\"mini freq\">\n",
       "        <tr class=\"\">\n",
       "    <th>1</th>\n",
       "    <td>\n",
       "        <div class=\"bar\" style=\"width:100%\" data-toggle=\"tooltip\" data-placement=\"right\" data-html=\"true\"\n",
       "             data-delay=500 title=\"Percentage: 70.5%\">\n",
       "            7055\n",
       "        </div>\n",
       "        \n",
       "    </td>\n",
       "</tr><tr class=\"\">\n",
       "    <th>0</th>\n",
       "    <td>\n",
       "        <div class=\"bar\" style=\"width:42%\" data-toggle=\"tooltip\" data-placement=\"right\" data-html=\"true\"\n",
       "             data-delay=500 title=\"Percentage: 29.4%\">\n",
       "            2945\n",
       "        </div>\n",
       "        \n",
       "    </td>\n",
       "</tr>\n",
       "    </table>\n",
       "</div>\n",
       "<div class=\"col-md-12 text-right\">\n",
       "    <a role=\"button\" data-toggle=\"collapse\" data-target=\"#freqtable5202635932778543535, #minifreqtable5202635932778543535\"\n",
       "        aria-expanded=\"true\" aria-controls=\"collapseExample\">\n",
       "        Toggle details\n",
       "    </a>\n",
       "</div>\n",
       "<div class=\"col-md-12 extrapadding collapse\" id=\"freqtable5202635932778543535\">\n",
       "    \n",
       "<table class=\"freq table table-hover\">\n",
       "    <thead>\n",
       "    <tr>\n",
       "        <td class=\"fillremaining\">Value</td>\n",
       "        <td class=\"number\">Count</td>\n",
       "        <td class=\"number\">Frequency (%)</td>\n",
       "        <td style=\"min-width:200px\">&nbsp;</td>\n",
       "    </tr>\n",
       "    </thead>\n",
       "    <tr class=\"\">\n",
       "        <td class=\"fillremaining\">1</td>\n",
       "        <td class=\"number\">7055</td>\n",
       "        <td class=\"number\">70.5%</td>\n",
       "        <td>\n",
       "            <div class=\"bar\" style=\"width:100%\">&nbsp;</div>\n",
       "        </td>\n",
       "</tr><tr class=\"\">\n",
       "        <td class=\"fillremaining\">0</td>\n",
       "        <td class=\"number\">2945</td>\n",
       "        <td class=\"number\">29.4%</td>\n",
       "        <td>\n",
       "            <div class=\"bar\" style=\"width:42%\">&nbsp;</div>\n",
       "        </td>\n",
       "</tr>\n",
       "</table>\n",
       "</div>\n",
       "</div><div class=\"row variablerow\">\n",
       "    <div class=\"col-md-3 namecol\">\n",
       "        <p class=\"h4 pp-anchor\" id=\"pp_var_IsActiveMember\">IsActiveMember<br/>\n",
       "            <small>Boolean</small>\n",
       "        </p>\n",
       "    </div><div class=\"col-md-6\">\n",
       "    <div class=\"row\">\n",
       "        <div class=\"col-sm-6\">\n",
       "            <table class=\"stats \">\n",
       "                <tr class=\"\">\n",
       "                    <th>Distinct count</th>\n",
       "                    <td>2</td>\n",
       "                </tr>\n",
       "                <tr>\n",
       "                    <th>Unique (%)</th>\n",
       "                    <td>0.0%</td>\n",
       "                </tr>\n",
       "                <tr class=\"ignore\">\n",
       "                    <th>Missing (%)</th>\n",
       "                    <td>0.0%</td>\n",
       "                </tr>\n",
       "                <tr class=\"ignore\">\n",
       "                    <th>Missing (n)</th>\n",
       "                    <td>0</td>\n",
       "                </tr>\n",
       "            </table>\n",
       "        </div>\n",
       "        <div class=\"col-sm-6\">\n",
       "            <table class=\"stats \">\n",
       "                <tr>\n",
       "                    <th>Mean</th>\n",
       "                    <td>0.5151</td>\n",
       "                </tr>\n",
       "            </table>\n",
       "        </div>\n",
       "    </div>\n",
       "</div>\n",
       "<div class=\"col-md-3 collapse in\" id=\"minifreqtable-3060442650322807685\">\n",
       "    <table class=\"mini freq\">\n",
       "        <tr class=\"\">\n",
       "    <th>1</th>\n",
       "    <td>\n",
       "        <div class=\"bar\" style=\"width:100%\" data-toggle=\"tooltip\" data-placement=\"right\" data-html=\"true\"\n",
       "             data-delay=500 title=\"Percentage: 51.5%\">\n",
       "            5151\n",
       "        </div>\n",
       "        \n",
       "    </td>\n",
       "</tr><tr class=\"\">\n",
       "    <th>0</th>\n",
       "    <td>\n",
       "        <div class=\"bar\" style=\"width:94%\" data-toggle=\"tooltip\" data-placement=\"right\" data-html=\"true\"\n",
       "             data-delay=500 title=\"Percentage: 48.5%\">\n",
       "            4849\n",
       "        </div>\n",
       "        \n",
       "    </td>\n",
       "</tr>\n",
       "    </table>\n",
       "</div>\n",
       "<div class=\"col-md-12 text-right\">\n",
       "    <a role=\"button\" data-toggle=\"collapse\" data-target=\"#freqtable-3060442650322807685, #minifreqtable-3060442650322807685\"\n",
       "        aria-expanded=\"true\" aria-controls=\"collapseExample\">\n",
       "        Toggle details\n",
       "    </a>\n",
       "</div>\n",
       "<div class=\"col-md-12 extrapadding collapse\" id=\"freqtable-3060442650322807685\">\n",
       "    \n",
       "<table class=\"freq table table-hover\">\n",
       "    <thead>\n",
       "    <tr>\n",
       "        <td class=\"fillremaining\">Value</td>\n",
       "        <td class=\"number\">Count</td>\n",
       "        <td class=\"number\">Frequency (%)</td>\n",
       "        <td style=\"min-width:200px\">&nbsp;</td>\n",
       "    </tr>\n",
       "    </thead>\n",
       "    <tr class=\"\">\n",
       "        <td class=\"fillremaining\">1</td>\n",
       "        <td class=\"number\">5151</td>\n",
       "        <td class=\"number\">51.5%</td>\n",
       "        <td>\n",
       "            <div class=\"bar\" style=\"width:100%\">&nbsp;</div>\n",
       "        </td>\n",
       "</tr><tr class=\"\">\n",
       "        <td class=\"fillremaining\">0</td>\n",
       "        <td class=\"number\">4849</td>\n",
       "        <td class=\"number\">48.5%</td>\n",
       "        <td>\n",
       "            <div class=\"bar\" style=\"width:94%\">&nbsp;</div>\n",
       "        </td>\n",
       "</tr>\n",
       "</table>\n",
       "</div>\n",
       "</div><div class=\"row variablerow\">\n",
       "    <div class=\"col-md-3 namecol\">\n",
       "        <p class=\"h4 pp-anchor\" id=\"pp_var_EstimatedSalary\">EstimatedSalary<br/>\n",
       "            <small>Numeric</small>\n",
       "        </p>\n",
       "    </div><div class=\"col-md-6\">\n",
       "    <div class=\"row\">\n",
       "        <div class=\"col-sm-6\">\n",
       "            <table class=\"stats \">\n",
       "                <tr>\n",
       "                    <th>Distinct count</th>\n",
       "                    <td>9999</td>\n",
       "                </tr>\n",
       "                <tr>\n",
       "                    <th>Unique (%)</th>\n",
       "                    <td>100.0%</td>\n",
       "                </tr>\n",
       "                <tr class=\"ignore\">\n",
       "                    <th>Missing (%)</th>\n",
       "                    <td>0.0%</td>\n",
       "                </tr>\n",
       "                <tr class=\"ignore\">\n",
       "                    <th>Missing (n)</th>\n",
       "                    <td>0</td>\n",
       "                </tr>\n",
       "                <tr class=\"ignore\">\n",
       "                    <th>Infinite (%)</th>\n",
       "                    <td>0.0%</td>\n",
       "                </tr>\n",
       "                <tr class=\"ignore\">\n",
       "                    <th>Infinite (n)</th>\n",
       "                    <td>0</td>\n",
       "                </tr>\n",
       "            </table>\n",
       "\n",
       "        </div>\n",
       "        <div class=\"col-sm-6\">\n",
       "            <table class=\"stats \">\n",
       "\n",
       "                <tr>\n",
       "                    <th>Mean</th>\n",
       "                    <td>100090</td>\n",
       "                </tr>\n",
       "                <tr>\n",
       "                    <th>Minimum</th>\n",
       "                    <td>11.58</td>\n",
       "                </tr>\n",
       "                <tr>\n",
       "                    <th>Maximum</th>\n",
       "                    <td>199990</td>\n",
       "                </tr>\n",
       "                <tr class=\"ignore\">\n",
       "                    <th>Zeros (%)</th>\n",
       "                    <td>0.0%</td>\n",
       "                </tr>\n",
       "            </table>\n",
       "        </div>\n",
       "    </div>\n",
       "</div>\n",
       "<div class=\"col-md-3 collapse in\" id=\"minihistogram4803040639271660670\">\n",
       "    <img src=\"data:image/png;base64,iVBORw0KGgoAAAANSUhEUgAAAMgAAABLCAYAAAA1fMjoAAAAOXRFWHRTb2Z0d2FyZQBNYXRwbG90bGliIHZlcnNpb24zLjUuMSwgaHR0cHM6Ly9tYXRwbG90bGliLm9yZy/YYfK9AAAACXBIWXMAAA9hAAAPYQGoP6dpAAABGUlEQVR4nO3X0QnCMBRAUSuO5BDu5Lc7OYQ7xQXkogVt1HO%2BA3mQXJouY4yxAx7abz0AzOyw9QDf5Hi%2BvrT%2Bdjm9fY%2B1%2B/Cc5V%2BfWGsu4q8Q7vOmC%2BRTB/HPgcxstqh%2B4onlsvMuftIhCASCQCAIBIJAIAgEgkAgCASCQCAIBIJAIAgEgkAgCASCQCAIBIJAIAgEgkAgCASCQCAIBIJAIAgEgkAgCASCQCAIBIJAIAgEgkAgCASCQCAIBIJAIAgEgkAgCASCQCAIBIJAIAgEgkAgLGOMsfUQMCtfEAgCgSAQCAKBIBAIAoEgEAgCgSAQCAKBIBAIAoEgEAgCgSAQCAKBIBAIAoEgEAgCgSAQCAKBIBAIAoEgEAh38mYj7uVOvh8AAAAASUVORK5CYII%3D\">\n",
       "\n",
       "</div>\n",
       "<div class=\"col-md-12 text-right\">\n",
       "    <a role=\"button\" data-toggle=\"collapse\" data-target=\"#descriptives4803040639271660670,#minihistogram4803040639271660670\"\n",
       "       aria-expanded=\"false\" aria-controls=\"collapseExample\">\n",
       "        Toggle details\n",
       "    </a>\n",
       "</div>\n",
       "<div class=\"row collapse col-md-12\" id=\"descriptives4803040639271660670\">\n",
       "    <ul class=\"nav nav-tabs\" role=\"tablist\">\n",
       "        <li role=\"presentation\" class=\"active\"><a href=\"#quantiles4803040639271660670\"\n",
       "                                                  aria-controls=\"quantiles4803040639271660670\" role=\"tab\"\n",
       "                                                  data-toggle=\"tab\">Statistics</a></li>\n",
       "        <li role=\"presentation\"><a href=\"#histogram4803040639271660670\" aria-controls=\"histogram4803040639271660670\"\n",
       "                                   role=\"tab\" data-toggle=\"tab\">Histogram</a></li>\n",
       "        <li role=\"presentation\"><a href=\"#common4803040639271660670\" aria-controls=\"common4803040639271660670\"\n",
       "                                   role=\"tab\" data-toggle=\"tab\">Common Values</a></li>\n",
       "        <li role=\"presentation\"><a href=\"#extreme4803040639271660670\" aria-controls=\"extreme4803040639271660670\"\n",
       "                                   role=\"tab\" data-toggle=\"tab\">Extreme Values</a></li>\n",
       "\n",
       "    </ul>\n",
       "\n",
       "    <div class=\"tab-content\">\n",
       "        <div role=\"tabpanel\" class=\"tab-pane active row\" id=\"quantiles4803040639271660670\">\n",
       "            <div class=\"col-md-4 col-md-offset-1\">\n",
       "                <p class=\"h4\">Quantile statistics</p>\n",
       "                <table class=\"stats indent\">\n",
       "                    <tr>\n",
       "                        <th>Minimum</th>\n",
       "                        <td>11.58</td>\n",
       "                    </tr>\n",
       "                    <tr>\n",
       "                        <th>5-th percentile</th>\n",
       "                        <td>9851.8</td>\n",
       "                    </tr>\n",
       "                    <tr>\n",
       "                        <th>Q1</th>\n",
       "                        <td>51002</td>\n",
       "                    </tr>\n",
       "                    <tr>\n",
       "                        <th>Median</th>\n",
       "                        <td>100190</td>\n",
       "                    </tr>\n",
       "                    <tr>\n",
       "                        <th>Q3</th>\n",
       "                        <td>149390</td>\n",
       "                    </tr>\n",
       "                    <tr>\n",
       "                        <th>95-th percentile</th>\n",
       "                        <td>190160</td>\n",
       "                    </tr>\n",
       "                    <tr>\n",
       "                        <th>Maximum</th>\n",
       "                        <td>199990</td>\n",
       "                    </tr>\n",
       "                    <tr>\n",
       "                        <th>Range</th>\n",
       "                        <td>199980</td>\n",
       "                    </tr>\n",
       "                    <tr>\n",
       "                        <th>Interquartile range</th>\n",
       "                        <td>98386</td>\n",
       "                    </tr>\n",
       "                </table>\n",
       "            </div>\n",
       "            <div class=\"col-md-4 col-md-offset-2\">\n",
       "                <p class=\"h4\">Descriptive statistics</p>\n",
       "                <table class=\"stats indent\">\n",
       "                    <tr>\n",
       "                        <th>Standard deviation</th>\n",
       "                        <td>57510</td>\n",
       "                    </tr>\n",
       "                    <tr>\n",
       "                        <th>Coef of variation</th>\n",
       "                        <td>0.57459</td>\n",
       "                    </tr>\n",
       "                    <tr>\n",
       "                        <th>Kurtosis</th>\n",
       "                        <td>-1.1815</td>\n",
       "                    </tr>\n",
       "                    <tr>\n",
       "                        <th>Mean</th>\n",
       "                        <td>100090</td>\n",
       "                    </tr>\n",
       "                    <tr>\n",
       "                        <th>MAD</th>\n",
       "                        <td>49677</td>\n",
       "                    </tr>\n",
       "                    <tr class=\"\">\n",
       "                        <th>Skewness</th>\n",
       "                        <td>0.0020854</td>\n",
       "                    </tr>\n",
       "                    <tr>\n",
       "                        <th>Sum</th>\n",
       "                        <td>1000900000</td>\n",
       "                    </tr>\n",
       "                    <tr>\n",
       "                        <th>Variance</th>\n",
       "                        <td>3307500000</td>\n",
       "                    </tr>\n",
       "                    <tr>\n",
       "                        <th>Memory size</th>\n",
       "                        <td>78.2 KiB</td>\n",
       "                    </tr>\n",
       "                </table>\n",
       "            </div>\n",
       "        </div>\n",
       "        <div role=\"tabpanel\" class=\"tab-pane col-md-8 col-md-offset-2\" id=\"histogram4803040639271660670\">\n",
       "            <img src=\"data:image/png;base64,iVBORw0KGgoAAAANSUhEUgAAAlgAAAGQCAYAAAByNR6YAAAAOXRFWHRTb2Z0d2FyZQBNYXRwbG90bGliIHZlcnNpb24zLjUuMSwgaHR0cHM6Ly9tYXRwbG90bGliLm9yZy/YYfK9AAAACXBIWXMAAA9hAAAPYQGoP6dpAAAv90lEQVR4nO3deXhUVZ7/8U8WAkJIQoCgjbSgrEkggEA0oGwSGBEEDIQ4DmLLpiDN5oAso7QLKGFUFoG0YouiRtCWpUEYZBEk2u4mAWlZHCQDJkIVgZBAlvP7wx/VlmGJ5qSKqn6/noenm3Nu3XO%2BOZfKx3tv3QowxhgBAADAmkBvTwAAAMDfELAAAAAsI2ABAABYRsACAACwjIAFAABgGQELAADAMgIWAACAZQQsAAAAywhYAAAAlhGwAAAALCNgAQAAWEbAAgAAsIyABQAAYBkBCwAAwDICFgAAgGUELAAAAMsIWAAAAJYRsAAAACwjYAEAAFhGwAIAALCMgAUAAGAZAQsAAMAyAhYAAIBlBCwAAADLCFgAAACWEbAAAAAsI2ABAABYRsACAACwjIAFAABgGQELAADAMgIWAACAZQQsAAAAywhYAAAAlhGwAAAALCNgAQAAWEbAAgAAsIyABQAAYBkBCwAAwDICFgAAgGXB3p7Av4q8vFPW9xkYGKDIyFo6caJAZWXG%2Bv69xV/rkvy3Nn%2BtS6I2X%2BSvdUn%2BW1tV1lW/fm2r%2B6sozmD5sMDAAAUEBCgwMMDbU7HKX%2BuS/Lc2f61LojZf5K91Sf5bmz/WRcACAACwjIAFAABgGQELAADAMgIWAACAZQQsAAAAywhYAAAAlhGwAAAALCNgAQAAWEbAAgAAsIyABQAAYBkBCwAAwDICFgAAgGUELAAAAMuCvT0BAHb823MfensKFbZxQmdvT%2BFX6TDjPW9P4VfxtZ8v4I84gwUAAGAZAQsAAMAyAhYAAIBlPh2wdu7cqYSEBE2cOLFc34YNG9SvXz%2B1a9dOgwYN0q5du1x9ZWVlevbZZ9WzZ0917NhR999/v77//ntXv9Pp1IQJE5SQkKAuXbpoxowZKioq8khNAADA9/lswPrzn/%2BsJ554Qtddd125vr1792rq1KmaMmWKPvroIw0fPlzjxo3TsWPHJEkrV67UunXrlJaWpm3btqlx48YaO3asjDGSpFmzZqmwsFDr16/X22%2B/rQMHDig1NdWj9QEAAN/ls58irF69ulavXq0nn3xSZ8%2BedetbtWqVunbtqq5du0qS%2Bvfvr9dee01r167VqFGjlJ6eruHDh%2BuGG26QJE2cOFHx8fH66quvdO2112rLli3661//qsjISEnSgw8%2BqD/%2B8Y%2BaOnWqqlWr5tlC4TW%2B9Kk84Od86dj1tU88%2BtLPVvK9n68/8dmANWzYsIv2ZWdnu8LVedHR0crMzFRRUZH279%2Bv6OhoV19oaKiuu%2B46ZWZm6tSpUwoKClKLFi1c/TExMTpz5owOHjzo1n4xubm5ysvLc2sLDq6pqKioipZXIUFBgW7/6y/8tS78U3Cw76wtx2HVqopjgfeQf/KVf2v%2BuGY%2BG7Auxel0Kjw83K0tPDxc%2B/fv18mTJ2WMuWC/w%2BFQRESEQkNDFRAQ4NYnSQ6Ho0Ljp6ena9GiRW5tY8eO1fjx439LOZcVFnZVlezX2/y1Lki9Und6ewq4QtSpU6vK9s17SNX%2BfKuCP62ZXwYsSa77qX5L/%2BVeeznJycnq0aOHW1twcE05HAWV2u8vBQUFKizsKuXnF6q0tMzqvr3JX%2BsCUJ7t90WJ95Cfq4qfb1WoyjXzVsj0y4BVp04dOZ1Otzan06nIyEhFREQoMDDwgv1169ZVZGSkTp8%2BrdLSUgUFBbn6JKlu3boVGj8qKqrc5cC8vFMqKamaf%2BilpWVVtm9v8te6APxTVf4b5z2kan%2B%2BVcGf1sx/Lnb%2BTGxsrLKystzaMjMzFRcXp%2BrVq6tZs2bKzs529eXn5%2Bvw4cNq06aNWrVqJWOMvvnmG7fXhoWFqUmTJh6rAQAA%2BC6/PIM1ZMgQJSUlafv27br55pu1bt06fffdd%2Brfv78kKSUlRWlpabr11lvVoEEDpaamqlWrVmrdurUkqXfv3nruuef09NNP69y5c1q8eLGSkpIUHHzl/bh86TvS%2BDQLAOBfxZWXGCrofBgqKSmRJG3ZskXST2ebmjdvrtTUVM2ZM0c5OTlq2rSpli1bpvr160uShg4dqry8PP3Hf/yHCgoKFB8f73ZT%2Bp/%2B9Cc9%2Buij6tmzp6pVq6Y77rjjgg8zBQDgSuZLj5X49Mk%2B3p6CVQGmsnd0o0Ly8k5Z32dwcKBPfRqromewgoMDVadOLTkcBV69Fu9Lb0wA4Os%2BfbJPlbzv169f2%2Br%2BKsov78ECAADwJgIWAACAZQQsAAAAy3z2Jnf4Hu5pAgD8q%2BAMFgAAgGUELAAAAMsIWAAAAJYRsAAAACwjYAEAAFhGwAIAALCMgAUAAGAZAQsAAMAyAhYAAIBlBCwAAADLCFgAAACWEbAAAAAsI2ABAABYRsACAACwjIAFAABgGQELAADAMgIWAACAZQQsAAAAywhYAAAAlhGwAAAALCNgAQAAWEbAAgAAsIyABQAAYBkBCwAAwDICFgAAgGUELAAAAMsIWAAAAJYRsAAAACwjYAEAAFhGwAIAALCMgAUAAGAZAQsAAMAyAhYAAIBlBCwAAADLCFgAAACWEbAAAAAsI2ABAABYRsACAACwjIAFAABgGQELAADAMgIWAACAZQQsAAAAywhYAAAAlhGwAAAALPPbgLVnzx4NGzZMHTp0UOfOnTVlyhSdOHFCkpSRkaGkpCS1b99effv21dq1a91eu2LFCvXu3Vvt27dXSkqKsrKyvFECAADwUX4ZsEpKSjRq1Ci1bdtWu3fv1vr163XixAk99thjys3N1YMPPqihQ4cqIyNDM2bM0KxZs5SZmSlJ2rp1qxYuXKhnnnlGu3fvVvfu3TVmzBidOXPGy1UBAABf4ZcBKy8vT3l5ebrzzjsVEhKiOnXqqFevXtq7d6/WrVunxo0bKykpSdWrV1dCQoJ69OihVatWSZLS09M1aNAgxcXFqUaNGhoxYoQkadu2bd4sCQAA%2BBC/DFgNGjRQq1atlJ6eroKCAh0/flybN29Wt27dlJ2drejoaLfto6OjXZcBf9kfGBioVq1auc5wAQAAXE6wtydQFQIDA7Vw4UINHz5cr7zyiiSpU6dOmjx5sh588EE1aNDAbfuIiAg5HA5JktPpVHh4uFt/eHi4q78icnNzlZeX59YWHFxTUVFRv6WciwoK8st8DAD4F%2BVPv9f8MmCdO3dOY8aMUZ8%2BfVz3T82ePVtTpkyp0OuNMZUaPz09XYsWLXJrGzt2rMaPH1%2Bp/QIA4M/Cwq7y9hSs8cuAlZGRoSNHjmjSpEkKCgpS7dq1NX78eN1555265ZZb5HQ63bZ3OByKjIyUJNWpU6dcv9PpVLNmzSo8fnJysnr06OHWFhxcUw5HwW%2Bq52L8KekDAJCfX6jS0jKr%2B6xTp5bV/VWUXwas0tJSlZWVuZ2JOnfunCQpISFBf/3rX922z8rKUlxcnCQpNjZW2dnZGjhwoGtfe/bsUVJSUoXHj4qKKnc5MC/vlEpK7B40AAD4k9LSMr/5XemXp0DatWunmjVrauHChSosLJTD4dCSJUvUsWNH3XnnncrJydGqVat09uxZ7dixQzt27NCQIUMkSSkpKXr33Xf15ZdfqrCwUEuWLFFISIi6devm3aIAAIDPCDCVveHoCpWVlaWnn35a33zzjUJCQtSpUydNmzZNDRo00CeffKInnnhCBw4cUMOGDTV58mQlJia6Xvv6668rLS1Nx48fV%2BvWrfXYY4%2BpefPmlZpPXt6pypZUTnBwoHql7rS%2BXwAAPO3TJ/vI4Siwfgarfv3aVvdXUX4bsK40BCwAAC7O3wKWX14iBAAA8CYCFgAAgGUELAAAAMsIWAAAAJYRsAAAACwjYAEAAFhGwAIAALCMgAUAAGAZAQsAAMAyAhYAAIBlBCwAAADLCFgAAACWEbAAAAAsI2ABAABYRsACAACwjIAFAABgGQELAADAMgIWAACAZQQsAAAAywhYAAAAlhGwAAAALCNgAQAAWEbAAgAAsIyABQAAYBkBCwAAwDICFgAAgGUELAAAAMsIWAAAAJYRsAAAACwjYAEAAFhGwAIAALCMgAUAAGAZAQsAAMAyAhYAAIBlBCwAAADLCFgAAACWEbAAAAAsI2ABAABY5vGA1aNHDy1atEhHjx719NAAAAAe4fGAddddd2nDhg267bbbNGLECG3evFklJSWengYAAECVCTDGGG8MnJ2drfXr12vjxo0qLi7WgAEDlJSUpCZNmnhjOlUuL%2B%2BU9X0GBweqV%2BpO6/sFAMDTPn2yjxyOApWUlFndb/36ta3ur6K8dg9WTEyMpk6dqm3btmn69Ol66623dPvtt%2Bv%2B%2B%2B/X119/7a1pAQAAVJrXAlZxcbE2bNigkSNHaurUqWrQoIEeeeQRtWrVSsOHD9e6deu8NTUAAIBKCfb0gAcOHNDq1av17rvvqqCgQL1799Yrr7yiG2%2B80bVNx44d9dhjj6lfv36enh4AAECleTxg9e3bV02aNNHo0aM1YMAARURElNuma9euOnHihKenBgAAYIXHA9aKFSvUqVOny2731VdfeWA2AAAA9nn8HqwWLVpozJgx2rJli6vtL3/5i0aOHCmn0%2Bnp6QAAAFjn8YA1Z84cnTp1Sk2bNnW1devWTWVlZZo7d66npwMAAGCdxwPWrl27tGjRIjVu3NjV1rhxY6WmpmrnTrvPdFqyZIm6dOmitm3bavjw4Tpy5IgkKSMjQ0lJSWrfvr369u2rtWvXur1uxYoV6t27t9q3b6%2BUlBRlZWVZnRcAAPBvHg9YRUVFql69evmJBAaqsLDQ2jgrV67U2rVrtWLFCu3atUtNmzbVX/7yF%2BXm5urBBx/U0KFDlZGRoRkzZmjWrFnKzMyUJG3dulULFy7UM888o927d6t79%2B4aM2aMzpw5Y21uAADAv3k8YHXs2FFz587VyZMnXW0//PCDZs%2Be7faohspavny5Jk6cqOuvv16hoaGaOXOmZs6cqXXr1qlx48ZKSkpS9erVlZCQoB49emjVqlWSpPT0dA0aNEhxcXGqUaOGRowYIUnatm2btbkBAAD/5vGANX36dGVkZOjmm29Wp06d1KFDB3Xr1k1ZWVl64oknrIzxww8/6MiRIzp58qRuv/12xcfHa/z48Tpx4oSys7MVHR3ttn10dLTrMuAv%2BwMDA9WqVSvXGS4AAIDL8fhjGho1aqS//e1v%2BuCDD3T48GEFBgaqSZMm6tKli4KCgqyMcezYMUnSe%2B%2B9p5dfflnGGI0fP14zZ85UUVGRGjRo4LZ9RESEHA6HJMnpdCo8PNytPzw83NVfEbm5ucrLy3NrCw6uqaioqN9SzkUFBXntQfwAAFjnT7/XPB6wJCkkJES33XZble3//PdXjxgxwhWmHnroIY0cOVIJCQkVfv1vlZ6erkWLFrm1jR07VuPHj6/UfgEA8GdhYVd5ewrWeDxgff/995o/f76%2B/fZbFRUVlet///33Kz1GvXr1JElhYWGutoYNG8oYo%2BLi4nLP23I4HIqMjJQk1alTp1y/0%2BlUs2bNKjx%2BcnKyevTo4dYWHFxTDkfBr6ji8vwp6QMAkJ9fqNLSMqv7rFOnltX9VZTHA9b06dOVm5urLl26qGbNmlUyxtVXX63Q0FDt3btXMTExkqScnBxVq1ZNXbt21Zo1a9y2z8rKUlxcnCQpNjZW2dnZGjhwoCSptLRUe/bsUVJSUoXHj4qKKnc5MC/vlEpK7B40AAD4k9LSMr/5XenxgJWVlaX333/fdcaoKgQHByspKUlLly5Vx44dFRoaqsWLF6tfv34aOHCgXnjhBa1atUr9%2B/fXRx99pB07dig9PV2SlJKSokmTJumOO%2B5QixYt9NJLLykkJETdunWrsvkCAAD/4vGAVbdu3So7c/VzkydP1rlz5zR48GAVFxerd%2B/emjlzpmrVqqVly5bpiSee0OzZs9WwYUPNmzdPLVu2lCTdeuutmjRpkiZMmKDjx4%2BrdevWSktLU40aNap8zgAAwD8EmMre0f0rrVq1Sv/7v/%2BryZMnKyAgwJNDe1Ve3inr%2BwwODlSvVLtPvwcAwBs%2BfbKPHI4C65cI69evbXV/FeXxM1gffPCBPv/8c73zzju69tprFRjofqP2m2%2B%2B6ekpAQAAWOXxgBUaGqpbb73V08MCAAB4jMcD1pw5czw9JAAAgEd55UFKBw8e1MKFC/XII4%2B42r744gtvTAUAAMA6jwesjIwM9e/fX5s3b9b69esl/fTw0WHDhll5yCgAAIC3eTxgPfvss3r44Ye1bt0616cIGzVqpLlz52rx4sWeng4AAIB1Hg9Y//jHP5SSkiJJbo9p6NOnjw4cOODp6QAAAFjn8YBVu3btC34HYW5urkJCQjw9HQAAAOs8HrDat2%2Bvp556SqdPn3a1HTp0SFOnTtXNN9/s6ekAAABY5/HHNDzyyCO69957FR8fr9LSUrVv316FhYVq1qyZ5s6d6%2BnpAAAAWOfxgHX11Vdr/fr12rFjhw4dOqQaNWqoSZMm6ty587/UV%2BcAAAD/5fGAJUnVqlXTbbfd5o2hAQAAqpzHA1aPHj0ueaaKZ2EBAABf5/GAdfvtt7sFrNLSUh06dEiZmZm69957PT0dAAAA6zwesKZMmXLB9k2bNunjjz/28GwAAADs88p3EV7Ibbfdpr/97W/engYAAEClXTEBa8%2BePTLGeHsaAAAAlebxS4RDhw4t11ZYWKgDBw4oMTHR09MBAACwzuMBq3HjxuU%2BRVi9enUlJSVp8ODBnp4OAACAdR4PWDytHQAA%2BDuPB6x33323wtsOGDCgyuYBAABQVTwesGbMmKGysrJyN7QHBAS4tQUEBBCwAACAT/J4wHrxxRe1fPlyjRkzRi1atJAxRvv27dOf//xn3XPPPYqPj/f0lAAAAKzyyj1YaWlpatCggautQ4cOatSoke6//36tX7/e01MCAACwyuPPwfruu%2B8UHh5erj0sLEw5OTmeng4AAIB1Hg9YDRs21Ny5c%2BVwOFxt%2Bfn5mj9/vn7/%2B997ejoAAADWefwS4fTp0zV58mSlp6erVq1aCgwM1OnTp1WjRg0tXrzY09MBAACwzuMBq0uXLtq%2Bfbt27NihY8eOyRijBg0a6JZbblHt2rU9PR0AAADrPB6wJOmqq65Sz549dezYMTVq1MgbUwAAAKgyHr8Hq6ioSFOnTlW7du30b//2b5J%2BugdrxIgRys/P9/R0AAAArPN4wJo3b5727t2r1NRUBQb%2Bc/jS0lKlpqZ6ejoAAADWeTxgbdq0SQsWLFCfPn1cX/ocFhamOXPmaPPmzZ6eDgAAgHUeD1gFBQVq3LhxufbIyEidOXPG09MBAACwzuMB6/e//70%2B/vhjSXL77sH33ntPv/vd7zw9HQAAAOs8/inCu%2B%2B%2BWw899JDuuusulZWV6eWXX1ZWVpY2bdqkGTNmeHo6AAAA1nk8YCUnJys4OFivvfaagoKCtHTpUjVp0kSpqanq06ePp6cDAABgnccD1okTJ3TXXXfprrvu8vTQAAAAHuHxe7B69uzpdu8VAACAv/F4wIqPj9fGjRs9PSwAAIDHePwS4TXXXKMnn3xSaWlp%2Bv3vf69q1aq59c%2BfP9/TUwIAALDK4wFr//79uv766yVJDofD08MDAABUOY8FrIkTJ%2BrZZ5/Vq6%2B%2B6mpbvHixxo4d66kpAAAAeITH7sHaunVruba0tDRPDQ8AAOAxHgtYF/rkIJ8mBAAA/shjAev8Fztfrg0AAMDXefwxDQAAAP6OgAUAAGCZxz5FWFxcrMmTJ1%2B2jedgAQAAX%2BexgHXjjTcqNzf3sm0AAAC%2BzmMB6%2BfPv/K0p556Sq%2B88or27dsnScrIyND8%2BfN18OBBXXPNNRo9erT69%2B/v2n7FihVauXKl8vLy1KJFC82YMUOxsbHemj4AAPAxfn8P1t69e7VmzRrX33Nzc/Xggw9q6NChysjI0IwZMzRr1ixlZmZK%2Bul5XQsXLtQzzzyj3bt3q3v37hozZozOnDnjrRIAAICP8euAVVZWpkcffVTDhw93ta1bt06NGzdWUlKSqlevroSEBPXo0UOrVq2SJKWnp2vQoEGKi4tTjRo1NGLECEnStm3bvFECAADwQR7/LkJPevPNN1W9enX169dPzz33nCQpOztb0dHRbttFR0dr48aNrv7bb7/d1RcYGKhWrVopMzNTffv2rdC4ubm5ysvLc2sLDq6pqKioSlRTXlCQX%2BdjAMC/GH/6vea3AevHH3/UwoULy9375XQ61aBBA7e2iIgI1xdPO51OhYeHu/WHh4f/qi%2BmTk9P16JFi9zaxo4dq/Hjx/%2BaEgAA%2BJcSFnaVt6dgjd8GrDlz5mjQoEFq2rSpjhw58qteW9mv8ElOTlaPHj3c2oKDa8rhKKjUfn/Jn5I%2BAAD5%2BYUqLS2zus86dWpZ3V9F%2BWXAysjI0BdffKH169eX66tTp46cTqdbm8PhUGRk5EX7nU6nmjVrVuHxo6Kiyl0OzMs7pZISuwcNAAD%2BpLS0zG9%2BV/rlKZC1a9fq%2BPHj6t69u%2BLj4zVo0CBJUnx8vJo3b66srCy37bOyshQXFydJio2NVXZ2tquvtLRUe/bscfUDAABcjl8GrGnTpmnTpk1as2aN1qxZo7S0NEnSmjVr1K9fP%2BXk5GjVqlU6e/asduzYoR07dmjIkCGSpJSUFL377rv68ssvVVhYqCVLligkJETdunXzYkUAAMCX%2BOUlwvDwcLcb1UtKSiRJV199tSRp2bJleuKJJzR79mw1bNhQ8%2BbNU8uWLSVJt956qyZNmqQJEybo%2BPHjat26tdLS0lSjRg3PFwIAAHxSgKnsHd2okLy8U9b3GRwcqF6pO63vFwAAT/v0yT5yOAqs34NVv35tq/urKL%2B8RAgAAOBNBCwAAADLCFgAAACWEbAAAAAsI2ABAABYRsACAACwjIAFAABgGQELAADAMgIWAACAZQQsAAAAywhYAAAAlhGwAAAALCNgAQAAWEbAAgAAsIyABQAAYBkBCwAAwDICFgAAgGUELAAAAMsIWAAAAJYRsAAAACwjYAEAAFhGwAIAALCMgAUAAGAZAQsAAMAyAhYAAIBlBCwAAADLCFgAAACWEbAAAAAsI2ABAABYRsACAACwjIAFAABgGQELAADAMgIWAACAZQQsAAAAywhYAAAAlhGwAAAALCNgAQAAWEbAAgAAsIyABQAAYBkBCwAAwDICFgAAgGUELAAAAMsIWAAAAJYRsAAAACwjYAEAAFhGwAIAALCMgAUAAGAZAQsAAMAyvw1YOTk5Gjt2rOLj45WQkKBp06YpPz9fkrR3717dc889uvHGG5WYmKjly5e7vXbDhg3q16%2Bf2rVrp0GDBmnXrl3eKAEAAPgovw1YY8aMUVhYmLZu3ap33nlH3377rZ5%2B%2BmkVFRVp9OjRuummm7Rz5049%2B%2ByzWrZsmTZv3izpp/A1depUTZkyRR999JGGDx%2BucePG6dixY16uCAAA%2BAq/DFj5%2BfmKjY3V5MmTVatWLV199dUaOHCgPv30U23fvl3FxcV64IEHVLNmTcXExGjw4MFKT0%2BXJK1atUpdu3ZV165dVb16dfXv31/NmzfX2rVrvVwVAADwFX4ZsMLCwjRnzhzVq1fP1Xb06FFFRUUpOztbLVq0UFBQkKsvOjpaWVlZkqTs7GxFR0e77S86OlqZmZmemTwAAPB5wd6egCdkZmbqtdde05IlS7Rx40aFhYW59UdERMjpdKqsrExOp1Ph4eFu/eHh4dq/f3%2BFx8vNzVVeXp5bW3BwTUVFRf32Ii4gKMgv8zEA4F%2BUP/1e8/uA9dlnn%2BmBBx7Q5MmTlZCQoI0bN15wu4CAANf/N8ZUasz09HQtWrTIrW3s2LEaP358pfYLAIA/Cwu7yttTsMavA9bWrVv18MMPa9asWRowYIAkKTIyUt99953bdk6nUxEREQoMDFSdOnXkdDrL9UdGRlZ43OTkZPXo0cOtLTi4phyOgt9SxkX5U9IHACA/v1ClpWVW91mnTi2r%2B6sovw1Yn3/%2BuaZOnarnn39eXbp0cbXHxsbqjTfeUElJiYKDfyo/MzNTcXFxrv7z92Odl5mZqb59%2B1Z47KioqHKXA/PyTqmkxO5BAwCAPyktLfOb35V%2BeQqkpKREM2fO1JQpU9zClSR17dpVoaGhWrJkiQoLC/XVV19p9erVSklJkSQNGTJEu3fv1vbt23X27FmtXr1a3333nfr37%2B%2BNUgAAgA8KMJW94egK9Omnn%2Brf//3fFRISUq7vvffeU0FBgR599FFlZWWpXr16GjlypO6%2B%2B27XNps3b9b8%2BfOVk5Ojpk2basaMGerYsWOl5pSXd6pSr7%2BQ4OBA9UrdaX2/AAB42qdP9pHDUWD9DFb9%2BrWt7q%2Bi/DJgXYkIWAAAXJy/BSy/vEQIAADgTQQsAAAAywhYAAAAlhGwAAAALCNgAQAAWEbAAgAAsIyABQAAYBkBCwAAwDICFgAAgGUELAAAAMsIWAAAAJYRsAAAACwjYAEAAFhGwAIAALCMgAUAAGAZAQsAAMAyAhYAAIBlBCwAAADLCFgAAACWEbAAAAAsI2ABAABYRsACAACwjIAFAABgGQELAADAMgIWAACAZQQsAAAAywhYAAAAlhGwAAAALCNgAQAAWEbAAgAAsIyABQAAYBkBCwAAwDICFgAAgGUELAAAAMsIWAAAAJYRsAAAACwjYAEAAFhGwAIAALCMgAUAAGAZAQsAAMAyAhYAAIBlBCwAAADLCFgAAACWEbAAAAAsI2ABAABYRsACAACwjIAFAABgGQELAADAMgIWAACAZQSsC8jJydGoUaMUHx%2Bv7t27a968eSorK/P2tAAAgI8I9vYErkQPPfSQYmJitGXLFh0/flyjR49WvXr1dN9993l7agAAwAdwBusXMjMz9c0332jKlCmqXbu2GjdurOHDhys9Pd3bUwMAAD6CM1i/kJ2drYYNGyo8PNzVFhMTo0OHDun06dMKDQ297D5yc3OVl5fn1hYcXFNRUVFW5xoURD4GAPgPf/q9RsD6BafTqbCwMLe282HL4XBUKGClp6dr0aJFbm3jxo3TQw89ZG%2Bi%2BinI3Xv1t0pOTrYe3rwpNzdX6enpfleX5L%2B1%2BWtdErX5In%2BtS/Lf2nJzc7Vw4UK/qst/oqJFxphKvT45OVnvvPOO25/k5GRLs/unvLw8LVq0qNzZMl/nr3VJ/lubv9YlUZsv8te6JP%2BtzR/r4gzWL0RGRsrpdLq1OZ1OBQQEKDIyskL7iIqK8psEDgAAfj3OYP1CbGysjh49qhMnTrjaMjMz1bRpU9WqVcuLMwMAAL6CgPUL0dHRat26tebPn6/Tp0/rwIEDevnll5WSkuLtqQEAAB9BwLqABQsWKDc3V507d9awYcM0YMAA3X333d6eVjn169fXuHHjVL9%2BfW9PxSp/rUvy39r8tS6J2nyRv9Yl%2BW9t/lhXgKnsHd0AAABwwxksAAAAywhYAAAAlhGwAAAALCNgAQAAWEbAAgAAsIyABQAAYBkBCwAAwDICFgAAgGUELAAAAMsIWD4oJydHo0aNUnx8vLp376558%2BaprKzM29NyycnJ0dixYxUfH6%2BEhARNmzZN%2Bfn5OnLkiFq0aKHWrVu7/XnppZdcr92wYYP69eundu3aadCgQdq1a5err6ysTM8%2B%2B6x69uypjh076v7779f333/v6nc6nZowYYISEhLUpUsXzZgxQ0VFRdbqatGihWJjY93m/vjjj0uSMjIylJSUpPbt26tv375au3at22tXrFih3r17q3379kpJSVFWVpar7%2BzZs/qv//ov3XrrrYqPj9f48ePlcDjcfp5Vud6ffPJJuTWJjY1VixYt9PHHH19wzTZu3HjF1rZz504lJCRo4sSJ5fqq8vjau3ev7rnnHt14441KTEzU8uXLKzx2ZevavHmz%2Bvfvr3bt2ql379566623XH0LFy5Uq1atyq3hjz/%2BKKnya3S5Y78ytb3zzjtq2bJlubl//fXXknx3zWbOnFmupujoaD3yyCOSpGnTprm%2BF/f8nw4dOlwxdUkXf5%2Bv7PhVvaYeZeBzBg4caGbOnGny8/PNoUOHTGJiolm%2BfLm3p%2BVyxx13mGnTppnTp0%2Bbo0ePmkGDBpnp06eb77//3jRv3vyir9uzZ4%2BJjY0127dvN0VFRWbNmjUmLi7OHD161BhjzIoVK0z37t3N/v37zalTp8yf/vQn069fP1NWVmaMMWbcuHFm1KhR5vjx4%2BbYsWMmOTnZPP7449bqat68ufn%2B%2B%2B/Ltf/www%2Bmbdu2ZtWqVaaoqMh8%2BOGHpk2bNubrr782xhjz/vvvmw4dOpgvv/zSFBYWmmXLlpnOnTubgoICY4wxc%2BbMMYMGDTL/93//ZxwOhxk3bpwZPXq0a//eWO8lS5aYP/7xj%2Bajjz4y3bt3v%2Bh2V1ptaWlpJjEx0QwdOtRMmDDBra8qj6/CwkJzyy23mIULF5qCggKTlZVlOnXqZDZt2lShsStT11dffWVat25t/ud//scUFxeb7du3m5iYGPPJJ58YY4xZsGCBmTp16kX3XZk1utyxX9na3n77bXPPPfdc9LW%2Buma/VFxcbPr27Wu2b99ujDFm6tSpZsGCBRfd3pt1nXex9/nKjl%2BVa%2BppBCwf8/XXX5tWrVoZp9Ppanv99ddN7969vTirfzp58qSZNm2aycvLc7W9%2BuqrJjEx8bIBa/bs2Wbs2LFubYMHDzbLli0zxhjTt29f88orr7j6Tp06ZaKjo80XX3xh8vLyTMuWLc3evXtd/Tt27DBt27Y1586ds1LbxQLWiy%2B%2BaAYMGODWNmHCBDNr1ixjjDGjRo0yTz31lKuvtLTUdO7c2axfv94UFxebG2%2B80WzZssXVv3//ftOiRQtz7Ngxr6x3Tk6O6dSpk8nJyblswLrSanvllVdMfn6%2BmTp1arlfalV5fG3cuNHcdNNNpqSkxNU/b94884c//KFCY1emrh07dphFixa5tQ0cONAsWbLEGHPpgFXZNbrcsV/Z2i4XsHx1zX7pxRdfNCNHjnT9/VIBy9t1GXPp9/nKjl%2BVa%2BppXCL0MdnZ2WrYsKHCw8NdbTExMTp06JBOnz7txZn9JCwsTHPmzFG9evVcbUePHlVUVJTr7//5n/%2BpLl266KabbtL8%2BfNVXFws6afaoqOj3fYXHR2tzMxMFRUVaf/%2B/W79oaGhuu6665SZmam9e/cqKChILVq0cPXHxMTozJkzOnjwoLX65s%2Bfr27duqlDhw6aNWuWCgoKLjrv85fKftkfGBioVq1aKTMzU4cPH9apU6cUExPj6r/hhhtUo0YNZWdne2W9n3/%2Bed1111363e9%2BJ0kqKChwXQq45ZZb9PLLL8v8/%2B%2BIv9JqGzZsmGrXrn3Bvqo8vrKzs9WiRQsFBQW57ftix8DPx65sXbfeeqvGjh3r%2BntJSYny8vLUoEEDV9u%2Bffs0dOhQ12W885dkKrtGlzv2K1ub9NP7x3333aeOHTuqZ8%2BeWrNmjST59Jr9XH5%2BvpYuXaqHH37Yrf2jjz7SgAED1K5dOyUlJbnm5e26pEu/z1dm/KpeU08jYPkYp9OpsLAwt7bzb34/v2/iSpGZmanXXntNDzzwgEJCQtSuXTv16tVL27ZtU1pamtauXasXXnhB0k%2B1/fyNXPqpNofDoZMnT8oYc9F%2Bp9Op0NBQBQQEuPVJ9n4ubdu2VUJCgjZv3qz09HR9%2BeWXmj179gXXJCIiwjXupepyOp2SVO71YWFhrn5PrveRI0e0efNm3XfffZJ%2BenNr3ry57r33Xu3cuVNz5szRokWL9Pbbb/tcbVV5fF3sGHA6nSorK7vk2LalpqaqZs2auv322yVJV199tRo1aqSnn35aH374oQYPHqwxY8bo4MGDlV6jyx37lRUZGanGjRvr4Ycf1ocffqhJkyZp%2BvTpysjI8Js1e%2B2119SxY0c1a9bM1daoUSNdd911WrZsmXbu3KkOHTroD3/4wxVb18/f5yszflWvqacRsHzQ%2BbMHV7rPPvtM999/vyZPnqyEhARFRUXpzTffVK9evVStWjW1adNGo0eP1jvvvON6zeVqu1R/Vf9c0tPTNXjwYIWEhOiGG27QlClTtH79etcZuEu5kuv6uZUrVyoxMVH169eX9NN/Hb766qvq1KmTQkJC1KVLFw0dOtRn1uzXjmd7rj//RVDVtRpjNG/ePK1fv15LlixR9erVJUmDBw/WggULdN111%2Bmqq67S8OHD1apVK7eb0a%2BkNfq5bt266cUXX1R0dLRCQkLUt29f9erVq8LH35W%2BZqWlpVq5cqWGDRvm1j527Fg99dRTatCggUJDQ/Xwww8rJCREW7Zs%2Bc3zqqq6fvk%2Bb2P8qlxTTyJg%2BZjIyEjXf3We53Q6FRAQoMjISO9M6gK2bt2qUaNGafr06eXePH6uYcOG%2BvHHH2WMUZ06dS5YW2RkpCIiIhQYGHjB/rp16yoyMlKnT59WaWmpW58k1a1b11ZZbq699lqVlpZecF4Oh8O1Hpeq6/w2v%2Bw/efKkqy5PrvemTZvUo0ePS27TsGFD5ebmSvKt2qry%2BIqMjCx3BsDpdLr2e6mxbSgrK9O0adO0detWvfHGG7r%2B%2Busvuf35NazsGl2orp8f%2B1Xh/Nx9fc2knz7Be%2B7cObdPCF5IUFCQrrnmGteaXSl1Xeh9vjLjV/WaehoBy8fExsbq6NGjOnHihKstMzNTTZs2Va1atbw4s3/6/PPPNXXqVD3//PMaMGCAqz0jI0NLlixx2/bgwYNq2LChAgICFBsbW%2B5aeWZmpuLi4lS9enU1a9ZM2dnZrr78/HwdPnxYbdq0UatWrWSM0TfffOP22rCwMDVp0qTSNe3Zs0dz5851aztw4IBCQkLUtWvXcvPOyspSXFycpJ/W7OfzLi0t1Z49exQXF6dGjRopPDzcrf8f//iHzp07p9jYWI%2Bu9969e5WTk6POnTu72jZu3KjXX3/dbbuDBw%2BqUaNGPlXb%2BblW1fEVGxurffv2qaSkpNy%2BLze2DU899ZS%2B/fZbvfHGG661Oe%2BFF15QRkaGW9uBAwfUqFGjSq9R69atL3nsV9Ybb7yhDRs2XHDuvr5mkvT%2B%2B%2B/rpptuUnBwsKvNGKM5c%2Ba4zfvcuXM6fPiwGjVqdMXUdbH3%2BcqMX9Vr6mkELB9z/tko8%2BfP1%2BnTp3XgwAG9/PLLSklJ8fbUJP10g%2B3MmTM1ZcoUdenSxa2vdu3aWrx4sdasWaPi4mJlZmbqpZdecs19yJAh2r17t7Zv366zZ89q9erV%2Bu6779S/f39JUkpKilasWKEDBw7o9OnTSk1NdT3fJzIyUr1799Zzzz2nEydO6NixY1q8eLGSkpLc3rx%2Bq7p16yo9PV1paWk6d%2B6cDh06pOeff17Jycm68847lZOTo1WrVuns2bPasWOHduzYoSFDhrjm/e677%2BrLL79UYWGhlixZopCQEHXr1k1BQUEaMmSIli5dqqNHj8rhcOi///u/1atXL9WrV8%2Bj671nzx5FREQoNDTU1VatWjU9/fTT2rVrl4qLi/Xhhx/q7bffdo3vK7VJVXt8de3aVaGhoVqyZIkKCwv11VdfafXq1RU%2Btivjs88%2B09q1a5WWlqaIiIhy/U6nU7Nnz9bBgwd19uxZLV%2B%2BXIcPH9bAgQMrvUb9%2BvW75LFfWefOndPjjz%2BuzMxMFRcXa/369frggw80dOhQSb67Zuft3btX1157rVtbQECAjhw5otmzZ%2BuHH35QQUGBUlNTVa1aNd12221XRF2Xep%2Bv7PhVuaYeV6WfUUSVOHr0qBkxYoRp06aNSUhIMAsWLHA9I8TbPvnkE9O8eXMTGxtb7s%2BRI0fM5s2bTf/%2B/U2bNm1M586dzdKlS01paanr9Zs2bTKJiYkmJibG3Hnnnebvf/%2B7q6%2BsrMw8//zz5uabbzZt2rQxI0eOdHt2S35%2Bvpk4caJp27at6dixo5k9e7Y5e/astdr%2B/ve/m%2BTkZNO2bVvTqVMnM2fOHFNUVOTq69%2B/v4mJiTGJiYnlnruycuVK07VrVxMbG2tSUlLMvn37XH1nz541jz32mOnYsaNp166dmTRpksnPz3f1e2q9ly5davr27Vuu/c033zSJiYmmdevWpnv37uatt966Yms7f6y1bNnStGzZ0vX386ry%2BNq3b58ZOnSoiY2NNd26dTMrV650m9ulxq5MXY888ohb2/k/9913nzHGmKKiIvPkk0%2BaW265xbRu3doMHDjQfP755659V3aNLnfsV6a2srIys3jxYtO9e3cTGxtr%2BvTpY7Zu3ep6ra%2Bu2XmJiYnmxRdfLPdah8Nhpk2bZhISEkybNm3MPffcY/bv339F1GXM5d/nKzN%2BVa%2BpJwUY4yN3TAMAAPgILhECAABYRsACAACwjIAFAABgGQELAADAMgIWAACAZQQsAAAAywhYAAAAlhGwAAAALCNgAQAAWEbAAgAAsIyABQAAYBkBCwAAwDICFgAAgGX/DzSE8lnSEygSAAAAAElFTkSuQmCC\"/>\n",
       "        </div>\n",
       "        <div role=\"tabpanel\" class=\"tab-pane col-md-12\" id=\"common4803040639271660670\">\n",
       "            \n",
       "<table class=\"freq table table-hover\">\n",
       "    <thead>\n",
       "    <tr>\n",
       "        <td class=\"fillremaining\">Value</td>\n",
       "        <td class=\"number\">Count</td>\n",
       "        <td class=\"number\">Frequency (%)</td>\n",
       "        <td style=\"min-width:200px\">&nbsp;</td>\n",
       "    </tr>\n",
       "    </thead>\n",
       "    <tr class=\"\">\n",
       "        <td class=\"fillremaining\">24924.92</td>\n",
       "        <td class=\"number\">2</td>\n",
       "        <td class=\"number\">0.0%</td>\n",
       "        <td>\n",
       "            <div class=\"bar\" style=\"width:1%\">&nbsp;</div>\n",
       "        </td>\n",
       "</tr><tr class=\"\">\n",
       "        <td class=\"fillremaining\">109029.72</td>\n",
       "        <td class=\"number\">1</td>\n",
       "        <td class=\"number\">0.0%</td>\n",
       "        <td>\n",
       "            <div class=\"bar\" style=\"width:1%\">&nbsp;</div>\n",
       "        </td>\n",
       "</tr><tr class=\"\">\n",
       "        <td class=\"fillremaining\">182025.95</td>\n",
       "        <td class=\"number\">1</td>\n",
       "        <td class=\"number\">0.0%</td>\n",
       "        <td>\n",
       "            <div class=\"bar\" style=\"width:1%\">&nbsp;</div>\n",
       "        </td>\n",
       "</tr><tr class=\"\">\n",
       "        <td class=\"fillremaining\">82820.85</td>\n",
       "        <td class=\"number\">1</td>\n",
       "        <td class=\"number\">0.0%</td>\n",
       "        <td>\n",
       "            <div class=\"bar\" style=\"width:1%\">&nbsp;</div>\n",
       "        </td>\n",
       "</tr><tr class=\"\">\n",
       "        <td class=\"fillremaining\">30314.04</td>\n",
       "        <td class=\"number\">1</td>\n",
       "        <td class=\"number\">0.0%</td>\n",
       "        <td>\n",
       "            <div class=\"bar\" style=\"width:1%\">&nbsp;</div>\n",
       "        </td>\n",
       "</tr><tr class=\"\">\n",
       "        <td class=\"fillremaining\">143265.65</td>\n",
       "        <td class=\"number\">1</td>\n",
       "        <td class=\"number\">0.0%</td>\n",
       "        <td>\n",
       "            <div class=\"bar\" style=\"width:1%\">&nbsp;</div>\n",
       "        </td>\n",
       "</tr><tr class=\"\">\n",
       "        <td class=\"fillremaining\">148305.82</td>\n",
       "        <td class=\"number\">1</td>\n",
       "        <td class=\"number\">0.0%</td>\n",
       "        <td>\n",
       "            <div class=\"bar\" style=\"width:1%\">&nbsp;</div>\n",
       "        </td>\n",
       "</tr><tr class=\"\">\n",
       "        <td class=\"fillremaining\">21254.06</td>\n",
       "        <td class=\"number\">1</td>\n",
       "        <td class=\"number\">0.0%</td>\n",
       "        <td>\n",
       "            <div class=\"bar\" style=\"width:1%\">&nbsp;</div>\n",
       "        </td>\n",
       "</tr><tr class=\"\">\n",
       "        <td class=\"fillremaining\">56297.85</td>\n",
       "        <td class=\"number\">1</td>\n",
       "        <td class=\"number\">0.0%</td>\n",
       "        <td>\n",
       "            <div class=\"bar\" style=\"width:1%\">&nbsp;</div>\n",
       "        </td>\n",
       "</tr><tr class=\"\">\n",
       "        <td class=\"fillremaining\">113481.02</td>\n",
       "        <td class=\"number\">1</td>\n",
       "        <td class=\"number\">0.0%</td>\n",
       "        <td>\n",
       "            <div class=\"bar\" style=\"width:1%\">&nbsp;</div>\n",
       "        </td>\n",
       "</tr><tr class=\"other\">\n",
       "        <td class=\"fillremaining\">Other values (9989)</td>\n",
       "        <td class=\"number\">9989</td>\n",
       "        <td class=\"number\">99.9%</td>\n",
       "        <td>\n",
       "            <div class=\"bar\" style=\"width:100%\">&nbsp;</div>\n",
       "        </td>\n",
       "</tr>\n",
       "</table>\n",
       "        </div>\n",
       "        <div role=\"tabpanel\" class=\"tab-pane col-md-12\"  id=\"extreme4803040639271660670\">\n",
       "            <p class=\"h4\">Minimum 5 values</p>\n",
       "            \n",
       "<table class=\"freq table table-hover\">\n",
       "    <thead>\n",
       "    <tr>\n",
       "        <td class=\"fillremaining\">Value</td>\n",
       "        <td class=\"number\">Count</td>\n",
       "        <td class=\"number\">Frequency (%)</td>\n",
       "        <td style=\"min-width:200px\">&nbsp;</td>\n",
       "    </tr>\n",
       "    </thead>\n",
       "    <tr class=\"\">\n",
       "        <td class=\"fillremaining\">11.58</td>\n",
       "        <td class=\"number\">1</td>\n",
       "        <td class=\"number\">0.0%</td>\n",
       "        <td>\n",
       "            <div class=\"bar\" style=\"width:100%\">&nbsp;</div>\n",
       "        </td>\n",
       "</tr><tr class=\"\">\n",
       "        <td class=\"fillremaining\">90.07</td>\n",
       "        <td class=\"number\">1</td>\n",
       "        <td class=\"number\">0.0%</td>\n",
       "        <td>\n",
       "            <div class=\"bar\" style=\"width:100%\">&nbsp;</div>\n",
       "        </td>\n",
       "</tr><tr class=\"\">\n",
       "        <td class=\"fillremaining\">91.75</td>\n",
       "        <td class=\"number\">1</td>\n",
       "        <td class=\"number\">0.0%</td>\n",
       "        <td>\n",
       "            <div class=\"bar\" style=\"width:100%\">&nbsp;</div>\n",
       "        </td>\n",
       "</tr><tr class=\"\">\n",
       "        <td class=\"fillremaining\">96.27</td>\n",
       "        <td class=\"number\">1</td>\n",
       "        <td class=\"number\">0.0%</td>\n",
       "        <td>\n",
       "            <div class=\"bar\" style=\"width:100%\">&nbsp;</div>\n",
       "        </td>\n",
       "</tr><tr class=\"\">\n",
       "        <td class=\"fillremaining\">106.67</td>\n",
       "        <td class=\"number\">1</td>\n",
       "        <td class=\"number\">0.0%</td>\n",
       "        <td>\n",
       "            <div class=\"bar\" style=\"width:100%\">&nbsp;</div>\n",
       "        </td>\n",
       "</tr>\n",
       "</table>\n",
       "            <p class=\"h4\">Maximum 5 values</p>\n",
       "            \n",
       "<table class=\"freq table table-hover\">\n",
       "    <thead>\n",
       "    <tr>\n",
       "        <td class=\"fillremaining\">Value</td>\n",
       "        <td class=\"number\">Count</td>\n",
       "        <td class=\"number\">Frequency (%)</td>\n",
       "        <td style=\"min-width:200px\">&nbsp;</td>\n",
       "    </tr>\n",
       "    </thead>\n",
       "    <tr class=\"\">\n",
       "        <td class=\"fillremaining\">199909.32</td>\n",
       "        <td class=\"number\">1</td>\n",
       "        <td class=\"number\">0.0%</td>\n",
       "        <td>\n",
       "            <div class=\"bar\" style=\"width:100%\">&nbsp;</div>\n",
       "        </td>\n",
       "</tr><tr class=\"\">\n",
       "        <td class=\"fillremaining\">199929.17</td>\n",
       "        <td class=\"number\">1</td>\n",
       "        <td class=\"number\">0.0%</td>\n",
       "        <td>\n",
       "            <div class=\"bar\" style=\"width:100%\">&nbsp;</div>\n",
       "        </td>\n",
       "</tr><tr class=\"\">\n",
       "        <td class=\"fillremaining\">199953.33</td>\n",
       "        <td class=\"number\">1</td>\n",
       "        <td class=\"number\">0.0%</td>\n",
       "        <td>\n",
       "            <div class=\"bar\" style=\"width:100%\">&nbsp;</div>\n",
       "        </td>\n",
       "</tr><tr class=\"\">\n",
       "        <td class=\"fillremaining\">199970.74</td>\n",
       "        <td class=\"number\">1</td>\n",
       "        <td class=\"number\">0.0%</td>\n",
       "        <td>\n",
       "            <div class=\"bar\" style=\"width:100%\">&nbsp;</div>\n",
       "        </td>\n",
       "</tr><tr class=\"\">\n",
       "        <td class=\"fillremaining\">199992.48</td>\n",
       "        <td class=\"number\">1</td>\n",
       "        <td class=\"number\">0.0%</td>\n",
       "        <td>\n",
       "            <div class=\"bar\" style=\"width:100%\">&nbsp;</div>\n",
       "        </td>\n",
       "</tr>\n",
       "</table>\n",
       "        </div>\n",
       "    </div>\n",
       "</div>\n",
       "</div><div class=\"row variablerow\">\n",
       "    <div class=\"col-md-3 namecol\">\n",
       "        <p class=\"h4 pp-anchor\" id=\"pp_var_Exited\">Exited<br/>\n",
       "            <small>Boolean</small>\n",
       "        </p>\n",
       "    </div><div class=\"col-md-6\">\n",
       "    <div class=\"row\">\n",
       "        <div class=\"col-sm-6\">\n",
       "            <table class=\"stats \">\n",
       "                <tr class=\"\">\n",
       "                    <th>Distinct count</th>\n",
       "                    <td>2</td>\n",
       "                </tr>\n",
       "                <tr>\n",
       "                    <th>Unique (%)</th>\n",
       "                    <td>0.0%</td>\n",
       "                </tr>\n",
       "                <tr class=\"ignore\">\n",
       "                    <th>Missing (%)</th>\n",
       "                    <td>0.0%</td>\n",
       "                </tr>\n",
       "                <tr class=\"ignore\">\n",
       "                    <th>Missing (n)</th>\n",
       "                    <td>0</td>\n",
       "                </tr>\n",
       "            </table>\n",
       "        </div>\n",
       "        <div class=\"col-sm-6\">\n",
       "            <table class=\"stats \">\n",
       "                <tr>\n",
       "                    <th>Mean</th>\n",
       "                    <td>0.2037</td>\n",
       "                </tr>\n",
       "            </table>\n",
       "        </div>\n",
       "    </div>\n",
       "</div>\n",
       "<div class=\"col-md-3 collapse in\" id=\"minifreqtable-7343686890682407974\">\n",
       "    <table class=\"mini freq\">\n",
       "        <tr class=\"\">\n",
       "    <th>0</th>\n",
       "    <td>\n",
       "        <div class=\"bar\" style=\"width:100%\" data-toggle=\"tooltip\" data-placement=\"right\" data-html=\"true\"\n",
       "             data-delay=500 title=\"Percentage: 79.6%\">\n",
       "            7963\n",
       "        </div>\n",
       "        \n",
       "    </td>\n",
       "</tr><tr class=\"\">\n",
       "    <th>1</th>\n",
       "    <td>\n",
       "        <div class=\"bar\" style=\"width:26%\" data-toggle=\"tooltip\" data-placement=\"right\" data-html=\"true\"\n",
       "             data-delay=500 title=\"Percentage: 20.4%\">\n",
       "            2037\n",
       "        </div>\n",
       "        \n",
       "    </td>\n",
       "</tr>\n",
       "    </table>\n",
       "</div>\n",
       "<div class=\"col-md-12 text-right\">\n",
       "    <a role=\"button\" data-toggle=\"collapse\" data-target=\"#freqtable-7343686890682407974, #minifreqtable-7343686890682407974\"\n",
       "        aria-expanded=\"true\" aria-controls=\"collapseExample\">\n",
       "        Toggle details\n",
       "    </a>\n",
       "</div>\n",
       "<div class=\"col-md-12 extrapadding collapse\" id=\"freqtable-7343686890682407974\">\n",
       "    \n",
       "<table class=\"freq table table-hover\">\n",
       "    <thead>\n",
       "    <tr>\n",
       "        <td class=\"fillremaining\">Value</td>\n",
       "        <td class=\"number\">Count</td>\n",
       "        <td class=\"number\">Frequency (%)</td>\n",
       "        <td style=\"min-width:200px\">&nbsp;</td>\n",
       "    </tr>\n",
       "    </thead>\n",
       "    <tr class=\"\">\n",
       "        <td class=\"fillremaining\">0</td>\n",
       "        <td class=\"number\">7963</td>\n",
       "        <td class=\"number\">79.6%</td>\n",
       "        <td>\n",
       "            <div class=\"bar\" style=\"width:100%\">&nbsp;</div>\n",
       "        </td>\n",
       "</tr><tr class=\"\">\n",
       "        <td class=\"fillremaining\">1</td>\n",
       "        <td class=\"number\">2037</td>\n",
       "        <td class=\"number\">20.4%</td>\n",
       "        <td>\n",
       "            <div class=\"bar\" style=\"width:26%\">&nbsp;</div>\n",
       "        </td>\n",
       "</tr>\n",
       "</table>\n",
       "</div>\n",
       "</div>\n",
       "    <div class=\"row headerrow highlight\">\n",
       "        <h1>Correlations</h1>\n",
       "    </div>\n",
       "    <div class=\"row variablerow\">\n",
       "    <img src=\"data:image/png;base64,iVBORw0KGgoAAAANSUhEUgAAApUAAAJKCAYAAAB9Ob5dAAAAOXRFWHRTb2Z0d2FyZQBNYXRwbG90bGliIHZlcnNpb24zLjUuMSwgaHR0cHM6Ly9tYXRwbG90bGliLm9yZy/YYfK9AAAACXBIWXMAAA9hAAAPYQGoP6dpAAC7w0lEQVR4nOzdd3RU5dbH8e%2BkUkICAYJ0FKQIAROkVwNIF0SQ4kURFCXUgF1AuqIgXKqI0lQ0KEiXqrygYqWFSAclREiCJEBC6mTePyJzGQmSMA9kkN9nrawkp%2BzZc6bt2ec851hsNpsNEREREREnuOV1AiIiIiJy%2B1NRKSIiIiJOU1EpIiIiIk5TUSkiIiIiTlNRKSIiIiJOU1EpIiIiIk5TUSkiIiIiTlNRKSIiIiJOU1EpIiIiIk5TUSkiIiIiTvPI6wRERK5UpUqVa87z9PSkcOHC1KhRg86dO9O6dWssFsstzE5ERK7Fomt/i4gruVxU1qxZk%2BLFizvMS01N5fjx4/zxxx8APPjgg8yYMQMvL69bnqeIiDhSUSkiLuVyUTl79mxatmyZ7TJbtmzhhRde4NKlS/Tt25eXXnrpVqYoIiLZ0DGVInLbadmyJSNGjADgk08%2BITU1NY8zEhERHVMpIrelhx56iPHjx5OcnMyvv/5KUFCQw/ydO3fy8ccfs2fPHhISEvDx8aFq1ao8%2BuijdOzYMduYCQkJLFy4kP/7v//j999/Jy0tDT8/P2rWrMlTTz1FvXr1rlonJCSE6Oho5s%2BfT2pqKtOmTSMqKopFixZRu3ZtAA4fPsyCBQv4%2BeefiYmJwcPDg4CAAOrWrct//vOfbI8jvXjxIosXL2br1q38/vvvpKenU6xYMYKDg%2BnTpw%2BBgYEOy586dYoWLVoAsG/fPo4dO8bcuXPZvXs3CQkJBAQE0KJFC8LCwihQoMANbXMRkX%2BiTqWI3JYKFy5s//vChQsO86ZNm0afPn3YvHkzPj4%2B1KtXD39/f3bu3Mnzzz/PsGHDsFqtDuvExcXRpUsX3n33XY4fP859991H/fr18fLy4uuvv%2BbJJ59k%2BfLl18zn%2BPHjhIWF4enpSf369cmXLx8AP/74I48%2B%2BihffPEFqamp1K5dm6CgIBITE1m2bBmPPfYYO3fudIgVHR3NI488wsyZMzl69ChVq1alfv362Gw21q5dy2OPPcbnn39%2BzVx27dpFr169iIyMpGrVqtx9991ER0ezZMkSBg8enNNNLCKSOzYRERdSuXJlW%2BXKlW2bN2/%2Bx%2BWOHTtmX3bfvn326Zs2bbJVrlzZVqdOHdsPP/zgsM6PP/5oa9iwoa1y5cq2hQsXOsybMGGCrXLlyrbWrVvbzp49a5%2BekZFhmzhxoq1y5cq22rVr2xITEx3We/DBB22VK1e2hYSE2ObOnXtVnt26dbNVrlzZ9uabb9qsVqtD3GnTptkqV65s69Chg8M6vXr1slWuXNnWpUsXW0xMjH261Wq1zZw501a5cmVbjRo1bMePH7fPi4qKsm%2BP5s2b29577z1bZmamff4XX3xhn3/gwIF/2rQiIjdEnUoRuS1t2rQJAD8/P6pVq2afPnfuXABeeukl6tat67BOnTp1ePHFFwFYvHixw7yAgADat2/PoEGDKFq0qH26u7s7YWFhuLm5cfHiRfbs2ZNtPpmZmfTv3/%2Bq6QcOHACgS5cuuLn97y3X3d2dIUOGMGTIEHr37k1aWhoAe/fu5eeffwbgrbfeIiAgwL6Om5sbgwYNonr16qSlpfHpp59mm8u9997LM88843C6pU6dOuHv72%2B/DRER03RMpYjcdv7v//6PefPmAfD000/j4ZH1VhYTE0NkZCQArVq1ynbdli1bYrFY%2BOOPPzhx4gR33303AM8888w1by9//vwULVqUuLg44uLisl2mfv36DkXjZb6%2Bvpw9e5b169czdOhQh3lubm4MHDjQYdqOHTuArFHwFStWvOZ9iIyMvGq3%2BWXZHTNqsVgoW7Ys586dIz4%2BPtv1REScoaJSRFzSvHnzWLFihcO0tLQ0fvvtN6KiooCs7t/TTz9tn3/48GH73y%2B//PI1Y3t4eJCens5vv/1mLyovx/%2B///s/9u/fT2xsLBcuXMD211nXLl68CGR1JLNTokSJbKc/%2BeSTTJ06lTlz5rBjxw46dOhAgwYNrnmS96NHjwJZ3cZrueeee4Cs4zizU65cuWyne3t7A5Cenn7N2CIiN0pFpYi4pH379l01zd3dnSJFitCiRQu6d%2B9Os2bNHOafP3/e/vfWrVuvexuXC0WAgwcPMnDgQE6dOnVD%2Bfr5%2BWU7/fIu8Xnz5hEREUFERAQAxYsXp02bNjz55JOULVv2qpx8fX2veVuFChUCsorDlJQU%2B6Cgy3QyeBHJCyoqRcQl/dPJz6/l8jGEnp6eRERE5PgSjikpKQwYMIA//viDChUqEBoaSoMGDShSpAienp7A/04ddL3bzk7//v3p0aMHW7Zs4f/%2B7//47rvviIuL48MPPyQ8PJy33nqLtm3b5vh%2B2q64ZkV2u9xFRPKCikoR%2Bde4fJqh9PR04uPj7QNTrmf79u388ccfWCwW3nvvPcqXL3/VMikpKU7l5uvrS5cuXejSpQtWq5XvvvuO2bNns3v3bl577TXq169PkSJF7B3Pv58m6UqX5%2BXLl09dSRFxGfqKKyL/GpUrV7b/feTIkRyv99tvvwFZxyJmV1CePHmSP//80%2Bn8LnN3d6dJkyYsWbKEEiVKkJSUZN/df/lYyiuPD/27y/P%2B6bhLEZFbTUWliPxrFC9enOrVqwOwbNmybJc5ceIEnTp1sp96CP53jOK1Lvc4e/Zs%2B99/P2n6P9m7dy%2BvvvoqCxYsyHa%2Bl5cXxYoVA/7XCb18nOjhw4ezLSwzMzPtp1Nq0qRJjnMREbnZVFSKyL/Kc889B8DatWtZtGiRw/GHv//%2BO0OGDOHgwYOcPn3aPr1q1aoAnDlzhi1bttinJycnM2HCBCIiIuyXgbzWiOvsuLu7s3z5cmbMmMG2bduumr9582YOHDiAp6cnwcHBANx33300btwYgFdffZVz587Zl8/IyODtt9/m2LFjFCpUiB49euQ4FxGRm03HVIrIv8pDDz1E//79ee%2B993jjjTdYsmQJ99xzD/Hx8Rw4cACr1cp9993H888/b18nKCiIxo0b88033zB48GBq1aqFt7c3%2B/fvx8PDg4ULF7Ju3Tp2797NkiVLOHToEAMGDKBOnTr/mEuNGjXo27cvCxYs4Nlnn6V06dKUL18eNzc3Tp06Zd/t/tprr1G8eHH7epMmTeLJJ58kIiKCkJAQKleujLe3N0eOHCE%2BPp58%2BfIxderUa57GSEQkL6ioFJF/nREjRtCwYUM%2B%2Bugj9uzZw86dO/H29qZGjRq0a9eOXr16XTXAZfr06UyZMoWtW7eyf/9%2BAgICaN26Nc899xzlypXjrrvu4tdff2XXrl0cOXIkxyPLX3rpJerUqcPKlSvZv38/u3fvJiMjg%2BLFi9OhQwf%2B85//2Lugl5UoUYLPP/%2BcRYsWsXnzZo4cOUJGRgYlSpTgoYceol%2B/ftke%2Bykikpcstiv3DYmIiIiI3AAdUykiIiIiTlNRKSIiIiJOU1EpIiIiIk5TUSkiIiLionbs2EHDhg0JCwv7x%2BUyMzOZNm0aLVq0oE6dOvTr14%2BoqCj7/ISEBIYNG0bDhg1p3Lgxr732mtNXCvs7FZUiIiIiLmj%2B/PlMmDAhR2d7%2BPjjj1mzZg3vvfceX3/9NRUqVGDgwIH2c/WOGjWK5ORk1q5dy/Llyzl27BhTpkwxmq%2BKShEREZGbJDY2lsjISIef2NjYHK3r7e3N559/nqOiMjw8nD59%2BlCxYkV8fHwICwvj2LFj7N27l7Nnz7JlyxbCwsLw9/enRIkShIaGsnz5ctLT0529i3Y6T%2BWdKofn2Luuu%2B%2BGI0fg3nvhxAnn42VmOh9DXIYNQ8%2Bzm8DkU83NzVw8dzed5S3XXPXBBGxu7sZimZSRYS6Wh4fZeJ6e5mLlmqnPxiuEz5jBrFmzHKYNGjSIwYMHX3fdJ554Ike3kZKSwtGjR7nvvvvs03x8fChfvjwRERFcvHgRd3d3qlSpYp9fvXp1Ll26xPHjxx2mO0NFpTincGFwd8/67YosFnDFU7G6al7gsrm5aFrATfkcMsPVN5or5uayD6Y22e2qe/fuhISEOEy78gpaJpw/fx6bzYafn5/DdD8/P%2BLj4ylcuDA%2BPj4OF224vGx8fLyxPFRUioiIiEBWp9qwgIAAAgICjMfNzj9dz%2BZWXOtGx1SKiIiI3MYKFy6Mm5sbCQkJDtMTEhIoWrQo/v7%2BJCYmYrVaHeYBFC1a1FgeKipFREREIKtTafrnFvD29ubee%2B8lMjLSPu3ChQucPHmSmjVrUq1aNWw2GwcPHrTPj4iIwNfXl7vvvttYHioqRUREROC2KipjYmJo06aN/VyUPXv2ZMmSJRw7dozExESmTJlCtWrVCAwMxN/fn9atWzN9%2BnTOnTvHmTNnmD17Nl27dsXDw9yRkDqmUkRERMQFBQYGApDx1/D6LVu2AFldxvT0dE6cOEFaWhoAPXr0IC4ujt69e5OUlES9evUcRp2PGzeO119/nRYtWuDp6UmHDh2ue0L13LLYbsWRm%2BJ6TA3XCwqCXbsgOBh273Y%2BnulTCrnycElXzAuM5mbylEKmN5nJp5q7O1xxqJJzsUyeUugOeZ657IOJ2VMKmdxkpk8BZPBUh3l7SqH8%2Bc3HTE42H9NFafe3iIiIiDhNu79FRERE4JYNrPm3UlEpIiIiAioqnaStJyIiIiJOU6dSREREBNSpdJK2noiIiIg4TZ1KEREREVCn0knaerdQlSpV2L59e16nISIiItm5ja6o44pcqlMZEhJCTEwMblc8CMWLF6dVq1YMGTKEggULGrmdU6dO0aJFC1q0aMGcOXMc5s2cOZPo6GjefPNNI7clIiIicidwqaISYOTIkfTs2RMAm83G0aNHCQsLIzk5mXHjxhm9rV27drFjxw6aNGliNK6IiIjchu6wzqJpLr31LBYL9957L8888wybN28G4MyZMwwYMIB69epRu3ZtwsLCSEhI4OTJk1SrVo2LFy8CkJKSQo0aNXj77bft8aZPn86gQYPs/4eFhTFhwgT7dTP/bsWKFTRq1Mhh2mOPPcbMmTOBrK7mc889x8yZM6lTpw6NGzdmy5YtrFixgmbNmlGnTh3mzp3rsH5UVBTdu3fn/vvvp2vXrhw9etQ%2B7%2BDBgzz55JM88MAD1K9fnwkTJpD%2B17WvVqxYQYcOHXjzzTe5//77iYmJudHNKiIiImKcy3Uqs5N%2BxUVFQ0NDqVSpElu3biUlJYWhQ4fy%2Buuv89///pe77rqLPXv20KRJE/bs2UOZMmX45Zdf7Ov%2B8ssvtGnTxv5/t27dWLZsGQsXLuTZZ5%2B9odx2795Ns2bN%2BPbbbxk/fjxjxoyhVatWbNq0iS%2B//JJXX32Vxx57jKJFiwKwdOlSpk%2BfTqlSpRg1ahRDhw5l3bp1JCcn8/TTT9O7d2/mz59PTEwMoaGhfPDBBzz33HMAxMbG4u3tzU8//YRnLi6OGhsbS1xcnMO04nffTUDhwjd0nx1Urer4W0RE5HalTqVTXLqozMzM5NChQ8yfP5%2BOHTty4MABIiMjmTdvHj4%2BPvj4%2BNC/f38GDhxIWloa9erVY/fu3TRp0oSff/6ZDh068OGHH9o7kXv37mXs2LH2%2BG5ubowePZqnnnqKTp06cdddd%2BU6R09PT/vu%2BmbNmrFs2TL69%2B%2BPt7c3ISEhWK1WoqKi7EVlp06duPfeewHo378/nTp1Ijo6mn379mGz2ezFbdmyZenXrx/z5s2zF5UXL17kmWeeyVVBCRAeHs6sWbMcpg0aOpTBQ4fm%2Bv5e09Kl5mKZZrHkdQbZc9W8wFhupu%2BhyU3m7m4ultl4hrfaHfA8c%2BEH02VfA7n8GLnl8fKMikqnuFxROWHCBCZNmgRkFZX58%2Bend%2B/eDBw4kK%2B//ho/Pz%2BKFy9uX75cuXKkp6cTExNDvXr1WL16NQA//fQToaGh/Pjjj%2Bzbtw83NzeKFCnCPffcw6lTp%2Bzr16pVizZt2vDGG2/w3//%2BN9f5XlmIenl5AVCiRAkAvL29AUhNTbUvU7FiRfvfZcuWBSAmJoaoqCj%2B/PNPAgMD7fNtNps9JoCvry8%2BPj65zrF79%2B6EhIQ4TCvesSMsXpzrWFepWjWroOzVCw4edD7eFZ1lIywWsNnMxjTBVfMCo7nZDH6kmt5kmZnmYrm7g9VqKJabwTt5hzzPXPbBBGxuBgtUg5ssI8NMHMgqKK/YoWgkntyeXK6ovHKgzjfffMPAgQPp1KkTHh4e1zz2EbKOv6xfvz7jx48nNTWVX3/9lVq1ahEUFMQvv/yCxWKhQYMG2a77/PPP07p1a3bu3Hnd/Kx/e7Nxy%2BZbTXbTsptn%2B%2BvdwdvbG29vb%2B69917WrFlzzXU9PG7s4QoICCAgIMBx4okTNxTrmg4ehN27zcYUERG5ldSpdIpLb73GjRvTokULRo0ahc1mo2zZspw/f56zZ8/alzl%2B/Dje3t6UKFGCkiVLUrRoUVasWME999xDvnz5CA4OZteuXezateuaRaW/vz9DhgxhwoQJZFzx9c3b25vk5GT7/1arlejoaKfu04krirmoqCggq7NZrlw5oqKiSEpKss%2BPj48nMTHRqdsTERERuRVcuqgEePXVVzl48CDh4eEEBgZSsWJFpk6dyqVLl4iJiWHu3Lm0b9/efpxh/fr1Wbx4MbVr1wbg/vvvZ%2B/evURERFyzqATo1asX7u7uLF%2B%2B3D6tfPnyJCUl8c0335CWlsa8efPs3cUbtXLlSn7//XdSUlJ4//33CQoKolixYjRu3Bh/f38mT55MYmIicXFxDB06lClTpjh1eyIiIpJDOvm5U1z%2B3hYrVozhw4fz9ttvExsby5w5c4iNjaV58%2BY89thj1KpVi9GjR9uXr1evHidOnLAXlX5%2BfhQtWpTChQtfvQv4Cu7u7owePdphlHSNGjXo06cPYWFhNG3aFA8PD4KCgpy6P71792bEiBHUr1%2BfU6dO2U%2By7unpyZw5czh%2B/DiNGjWic%2BfOVKhQgZdeesmp2xMREZEcUlHpFIvN2dab3J5MDSEMCoJduyA42MwxlSYPuAfXHajgqnmBBurcAA3UuQEaqJNrGqhzC5Qvbz7m77%2Bbj%2BmiXG6gjoiIiEieuMM6i6Zp64mIiIiI09SpFBEREQF1Kp2kolJEREQEVFQ6SVtPRERERJymTqWIiIgIqFPpJG09EREREXGaOpUiIiIioE6lk1RUioiIiICKSidp64mIiIiI09SpFBEREQF1Kp2kovJOZfoa27/8YiaOyRf05euS167tmtclN8n0tY8NxcvINHfdY09Ps9crdtnPDtMXZTYYz%2Bpm7qLM7u5gzTRzbXh30w%2BmwXiWTHPXEcfd3Vg8Dw9zr82seEbD5R2XfWO4PWjriYiIiIjT/i3fLURERESco06lU7T1RERERMRp6lSKiIiIgDqVTlJRKSIiIgIqKp2krSciIiIiTlOnUkRERATUqXSStp6IiIiIOE2dShERERFQp9JJKipFREREQEWlk7T1RERERMRp6lSKiIiIgEt2KqOjoxk7dix79%2B6lQIECtGvXjhEjRuD2t1z79u3LTz/95DAtIyODgQMHMmjQIHr37s2uXbsc1rv77rtZvXq1sVxVVIqIiIi4qMGDB1O9enW2bNnCn3/%2BybPPPkuxYsV46qmnHJZbsGCBw/8XLlygXbt2tGrVyj5t/PjxdOnS5ablqqJSREREBG5KpzI2Npa4uDiHacWLFycgIOC660ZERHDw4EEWLlxIoUKFKFSoEH369GHx4sVXFZV/N336dFq1akWVKlWcyj83VFSKiIiIwE0pKsPDw5k1a5bDtEGDBjF48ODrrhsZGUnp0qXx8/OzT6tevTonTpwgMTERHx%2BfbNf7/fffWblyJVu2bHGYvn79et5//31Onz5NrVq1GDduHOXKlbuBe5U9FZW3mWPHjtGuXTu2bt1KmTJl8jodERER%2BQfdu3cnJCTEYVrx4sVztG5CQgK%2Bvr4O0y4XmPHx8dcsKt977z0effRR/P397dMqVqxI/vz5mTJlCpmZmUyYMIGnn36atWvX4uXllZu7dE23TVF5/PhxZs%2Bezc6dO0lKSqJo0aKEhIQwaNAgChcufMNxrVYrS5YsuW4b%2BVZZsWIFU6dO5dtvv83rVERERO4sN6FTGRAQkKNd3ddis9lytXxCQgKrVq3iyy%2B/dJg%2BZswYh//HjRtHvXr1%2BOWXX2jQoMEN53cl1xvmlI0DBw7QtWtX7rrrLlavXs2uXbuYPXs2hw4domfPnqSkpNxw7F9//ZX333/fYLYiIiIizvP39ychIcFhWkJCAhaLxaELeaWtW7dy9913U7Zs2X%2BM7ePjg5%2BfHzExMabSvT06lePGjaNx48a88MIL9mnVqlVj7ty5TJw4kdjYWFq1asX69eupWLEiAFOmTGHv3r18%2BOGHJCcnM2bMGLZv305KSgpVqlRh5MiRZGZm0rNnTzIyMggMDGT%2B/PnUr1%2BfTz/9lMWLF/PHH39QsmRJhgwZQrt27QDo3bs3DRo04Ndff%2BWbb76hTJkyzJgxg6VLl7Jy5UoKFizI%2BPHjadq0KQAHDx7kjTfeIDIyEg8PDzp06MBLL72Ep6cnK1asYMGCBTRu3JhPP/2UjRs3XnXf//zzT1566SV%2B%2BeUXSpUqxdNPP53r7ZftQcLFijn1zemmCQoyF6tqVcffIiIi/8TFTilUo0YNTp8%2Bzblz5%2BxFZEREBJUqVaJgwYLZrrN161YaNWrkMC0xMZEpU6YwYMAASpQoAcC5c%2Bc4d%2B7cdYvP3HD5ovLPP/9k165dfPjhh1fN8/Hx4Y033uDUqVP/GGPx4sWcPXuWzZs34%2BXlxfz58xk1ahRffPEF48ePd9jd/NVXX/H2228zb948atWqxebNm3nhhReoWLGifQTVsmXLmDFjBm%2B%2B%2BSaPP/44ffv2ZciQIbz44ouMHz%2Bet99%2Bm6ZNm5KcnMzTTz9N7969mT9/PjExMYSGhvLBBx/w3HPPAVkFn7e3Nz/99BOenp5X5T5p0iRSU1PZtm0bKSkpPP/887nehtkeJDxwIIOHDMl1rGuyWMzE2bXLTJwrLV1qPqYJprYZgLu7uVgG43kaTiubl4jLMPYQuBu%2BkwY3muGH0%2BDT1uBrCe6I16bhLWZ0k%2BUpFysq77vvPgIDA5k6dSqvvPIKMTExLFy4kL59%2BwLQpk0bJkyYwAMPPGBf58CBAzRs2NAhjo%2BPD3v37mXChAmMHz8ei8XC2LFjqVKlCkEGmzkuX1RGRUUBWSfovFEXLlzA09OTfPny4eHhQWhoKKGhodku%2B/nnn9OhQwf7A9SuXTsWLFjAxo0b7UVlcHAwNWvWBKBu3bp8/fXX9vM%2BNWvWjJUrVwKwbds2bDYbzz77LABly5alX79%2BzJs3z15UXrx4kWeeeSbbghJgy5YtTJs2DT8/P/z8/PjPf/7Djz/%2BmKv7n%2B1BwsWKQS6P07gmi8VcrNq1zcSBrA7l0qXQqxccPOh8vF9%2BcT7GZSa3GUBmprlY7u5gtRoJlZ5p7gPV0xPS042FM/rZYXCT4Z5p8E4a3mhWN4MFqslt5mbwtXSHvDZtbuZem6Y32b%2BmQDVkxowZjBo1ikaNGuHj40OPHj3o1asXACdOnODSpUsOy8fFxVGsWLGr4syePZtJkybRunVr0tLSaNCgAe%2B9995VJ1F3hssXlZa/nl2ZTrwwe/XqRb9%2B/WjWrBlNmjShZcuWtGjRIttlT506Rf369R2mlS9fnujoaPv/d911l/1vb29veysZwMvLi7S0NCCrIP7zzz8JDAy0z7fZbA6jrHx9fa85eis%2BPp6UlBSHUd4VKlTIwT12lO1BwibfAUzavdt8zIMHb05cERH5d3GxTiVk1Rzz58/Pdt6hQ4eumrZ///5sly1VqtRVey1Nc/mi8vL5k44cOeJQvF2P9Ypvc2XKlGH9%2BvX88MMPfPXVV4wePZrVq1czY8aMq9a7XBD%2BneWKr05/r%2BqvVeV7e3tz7733smbNmmvm6eFx7Yfgci5X3pfcjgITERERuRVcryT/myJFilC3bl0WLlx41bzk5GS6dOliH7l05Sjwy7vNAZKSkrBarTRs2JCRI0fy2WefsXHjRuLj46%2BKWa5cOY4fP%2B4w7fjx4zd0IGu5cuWIiooiKSnJPi0%2BPp7ExMQcre/v74%2BnpyenT5%2B2Tzt69Giu8xAREZEccHMz/3MHuS3u7WuvvcaePXsYPnw4Z86cITMzkwMHDvD000%2BTL18%2BAgMDKVSoEJs2bcJqtfLNN9%2BwZ88e%2B/pDhgxh8uTJJCYmkpmZye7duylcuDB%2Bfn7ky5ePixcvEhMTQ0pKCp06dWLNmjXs2bOH9PR0VqxYwZEjR2jfvn2u827cuDH%2B/v72246Li2Po0KFMmTIlR%2Bt7enpSv359lixZwsWLF4mOjubjjz/OdR4iIiKSAyoqnXJb3NuqVauybNkyMjMzeeSRRwgKCmLYsGHUr1%2BfBQsW4OXlxeuvv84XX3zBAw88wMqVK3n88cft648fP57ff/%2Bdpk2bUqdOHT766CNmz56Nm5sb9evXp0yZMrRs2ZKvvvqK9u3b8%2Byzz/Liiy9Sr149li5dyoIFC27oWEZPT0/mzJnD8ePHadSoEZ07d6ZChQq89NJLOY4xceJEAJo2bcozzzzDk08%2Bmes8RERERG42i00H6d2ZTA/VMxXP5Le6oKCsUxQFB5sZqGNyFOcdMsJUo79vIJZGf%2Bc%2BlkZ/55pGf19Dp07mY65aZT6mi7otOpUiIiIi4tpcfvS3iIiIyC1xhx0DaZqKShERERFQUekkbT0RERERcZo6lSIiIiKgTqWTtPVERERExGnqVIqIiIiAOpVOUlEpIiIiAioqnaStJyIiIiJOU6dSREREBNSpdJK2noiIiIg4TZ1KcS0mr5N72S%2B/mIlj6hvs5WuS165t5prkgC3T3IV3LZi7LrCH4a%2BtHgbfsSwYvFgxFoPXnza80Qx2Xkw3cYzFS0szE8diAS%2BvrOulG7qYtc3L20gcMPvadOFNhre5TZZ76lQ6RUWliIiICKiodJK2noiIiIg4TZ1KEREREVCn0kkqKkVERERARaWTtPVERERExGnqVIqIiIiAOpVO0tYTEREREaepUykiIiIC6lQ6SUWliIiICKiodJK2noiIiIg4TZ1KEREREVCn0knaeiIiIiLiNHUqRURERECdSiepqBQREREBFZVO0tb7S6NGjVixYgUArVu35rPPPsvjjERERERuH7dFp/L48ePMnj2bnTt3kpSURNGiRQkJCWHQoEEULlzY%2BO1t3LjR/ndUVBSRkZG0adPGPm3VqlV8%2BOGH/Pbbb6SmplKhQgWeeOIJunXrZjwXERERuUXUqXSKy2%2B9AwcO0LVrV%2B666y5Wr17Nrl27mD17NocOHaJnz56kpKTc1NvftGmTQ5G5YcMGxo0bx9ChQ/nuu%2B/YtWsXw4YNY9KkSaxdu/am5iIiIiLiqly%2BqBw3bhyNGzfmhRdeoFixYri7u1OtWjXmzp3L/fffT2xsLFWqVGHRokU0btyY9957D4CdO3fSvXt3goKCaNKkCbNnz7bHzMjIYPz48dSrV48mTZpctas7JCSETz75hA8%2B%2BIApU6awYcMGAgMDsVqtfPfddwQHB9OkSRO8vLzw9PSkRYsWzJw5k0qVKtljLFiwgAcffJDg4GD69evHqVOn7PM%2B/fRT2rZtS61atWjTpg3r16%2B3z%2Bvduzdvv/02HTt2pH///gBER0fz3HPPUa9ePerUqcOLL75IYmLiTdneIiIidyw3N/M/dxCX3v39559/smvXLj788MOr5vn4%2BPDGG2/Y/9%2ByZQsrV66kaNGinDlzhtDQUF5//XU6duzI0aNHefrppylXrhwdO3Zk%2BfLlbNiwgaVLl1KyZEkmT57M%2BfPnr7qNfv36ceTIEVJTU5k2bRoA99xzD2vWrGHLli2EhITg9tcTpnHjxg65zJ8/n4ULF3LPPfcwbtw4nn/%2BeT799FO%2B%2Buor3n77bebNm0etWrXYvHkzL7zwAhUrVqRKlSoArFu3jhkzZhAYGIjNZiM0NJTg4GCmTZvGpUuXGD58OJMnT2b8%2BPE52o6xsbHExcU5TCterBgBAQE5Wl/%2BEhRkJk7Vqo6/RcQ5FovZOKbiuTBtsmu4w4pA01y6qIyKigLg7rvvvu6ybdu2pVixYgCsXbuWe%2B%2B9l86dOwNQpUoVevTowapVq%2BjYsSObN2%2BmY8eOVKxYEYChQ4cSHh6eo5x69erFoUOHGDx4ML6%2BvgQFBdGwYUPat29P0aJFAVi%2BfDnt27en6l9FQ1hYGD/%2B%2BCOZmZl8/vnndOjQgQceeACAdu3asWDBAjZu3GgvKmvWrEnNmjUB2LdvH0eOHOGTTz4hf/785M%2Bfn8GDB9OvXz/GjRuHJQev5PDwcGbNmuUwbdDAgQweMiRH9zlHXPkdxVRuu3aZiXPZ0qXGQpne%2Bq76cJrNy/CdNJWcu7uZODchnss%2Bz7y8DAX6i6ensVCuus1ceJPJbcyli8rLBVNmZuZ1ly1VqpT975MnTxIREUFgYKB9ms1msxenMTExNG/e3D7P398fPz%2B/HOXk5eXFG2%2B8wfDhw/n222/56aefmDdvHtOmTWP27Nk0bNiQqKgo6tWrZ1%2BnaNGitG3bFoBTp05Rv359h5jly5cnOjra/n/p0qXtf0dFRWG1Wh3iAVitVuLj4/H3979uzt27dyckJMRhWvFixcBmy9F9vi6LxVws00zmVru2mThVq2YVlL16wcGDRkLafjFX8Lrqw2k6LwsmgxlMLgfvdznm7g5Wq7FwNjeDBarBTWZJTzMUyJJVHaWnG0vO5mmuejO5zdLTzcS5CZvMeMGbK%2BpUOsWli8py5coBcOTIEUqUKPGPy7pf8W08X758NGvWjHfffTfbZdPS0sjIyHCYlpPC9UrFixenc%2BfOdO7cmfT0dAYOHMg777xDw4YNsVgs2K7x6kpLy/7N78qO45X3xdvbmwIFCrB79%2B5c5XelgICAq3d1u2LV4OqceAyydfCg%2BZgidyLT72c227/%2BPVKbTG4Gly7JixQpQt26dVm4cOFV85KTk%2BnSpQu//PLLVfPKlSvH4cOHHQq7uLg4e0EXEBDAmTNn7PNiY2O5cOHCdfOx2WxMnTqVffv2OUz39PSkfv36JCcnA1C2bFlOnDhhn3/u3DkWLFhAeno65cqV4/jx4w7rHz9%2BnLJly2Z7m%2BXKlePSpUv2QwEAEhMTiY%2BPv26%2BIiIikgsaqOMUl7%2B3r732Gnv27GH48OGcOXOGzMxMDhw4wNNPP02%2BfPnsxx5eqX379iQkJDBnzhxSUlKIioqib9%2B%2BLF68GIAmTZqwdu1afvvtNxITE5k2bRre3t7Z3r63tzenT5/mwoULWK1WYmNjefHFF/n555/tHc/du3ezdOlSWrRoAcCjjz7KunXr2Lt3L2lpacyePZsNGzbg6elJp06dWLNmDXv27CE9PZ0VK1Zw5MgR2rdvn%2B3tV65cmaCgICZOnMi5c%2Be4cOECr7/%2BOi%2B%2B%2BKKhLSwiIiKAikonufTub4CqVauybNkyZs6cySOPPMKlS5e466676NChA8888wye2RwdXKRIEebMmcNbb73Fu%2B%2B%2Bi7%2B/P506daJv374A9OnTh6ioKB577DG8vLwYMmRIth1PgI4dO7JhwwYefPBB1qxZw/jx45k3bx6jR4/m9OnTWK1WypUrR48ePXjqqacAaNGiBWFhYQwcOJBLly4RFBTE1KlTgayCNzo6mhdffJGzZ89yzz33sGDBAipUqHDNbTB16lTGjRtHixYt8PLyokGDBrz55ptOblkRERERcyy2ax38J/9uRkc8uOjIDjCbm6lvnEFBWSPJg4ONHVNpyzS3/V314dRAnRtwpwzUSUs1FMiSNUokLc3cQB2v7PeC3QiT2%2Bwah/fn2k3YZFxjx%2BGtMWqU%2BZg5PP3ftURHRzN27Fj27t1LgQIFaNeuHSNGjLCf0vCymTNnMmfOHDw8HPuFX3/9NcWKFSM1NZWJEyeybds2UlNTqVevHmPHjqVIkSJO5XelO6svKyIiInIbGTx4MCVKlGDLli0sXLiQLVu22A/n%2B7tOnToRERHh8HP5dIvTpk0jMjKS8PBwNm7ciM1m45VXXjGaq8vv/hYRERG5JW7CMZDZXoCkePEcXYAkIiKCgwcPsnDhQgoVKkShQoXo06cPixcvth9ylxMZGRl8/vnnTJ48mZIlSwIwbNgw2rdvT0xMzHXPsJNTKipFRERE4KYUldlegGTQIAYPHnzddSMjIyldurTDubSrV6/OiRMnSExMxMfHx2H5Q4cO0aNHDw4fPkzJkiV55ZVXaNy4MSdPnuTixYtUr17dvmzFihXJly8fkZGRKipFREREXF22FyApXjxH6yYkJODr6%2Bsw7XKBGR8f71BU3nXXXZQtW5YRI0YQEBBAeHg4zz33HKtXryYhIQHgqli%2Bvr5GT1GoolJEREQEbkqnMtsLkORCTsdTd%2BvWjW7dutn/79OnD%2BvWrWP16tU0bdo0V7FulAbqiIiIiLggf39/e5fxsoSEBCwWS44u01y6dGliY2Pty/491vnz5ylatKipdFVUioiIiAAud/LzGjVqcPr0ac6dO2efFhERQaVKlShYsKDDsnPmzGHnzp0O044dO0bZsmUpW7Ysfn5%2BREZG2ucdPnyYtLQ0atSo4VSOV1JRKSIiIgIuV1Ted999BAYGMnXqVBITEzl27BgLFy6kZ8%2BeALRp04aff/4ZyOpCjh07luPHj5OamsqCBQs4efIkjzzyCO7u7jz22GO8%2B%2B67nD59mvj4eN555x1atWplP%2BWQCTqmUkRERMRFzZgxg1GjRtGoUSN8fHzo0aMHvXr1AuDEiRNcunQJgBEjRgBZx1ImJCRQqVIlFi1axF133QXAkCFDSEpKolOnTmRkZPDggw8yZswYo7nqijp3Kl1RJ/d0RZ08pSvq3ABdUSeXgXRFndz6111RZ/Jk8zFfesl8TBel3d8iIiIi4jTt/hYRERGBm3JKoTuJikpxLSZ3/UHW7j9DMY3uYgZsv%2BwyF8/NYibQX7vmLbXN7Jq3ZpjbZgYfyqx4GYb3/6WnG9n/l4qZfX8WC3i5Q5rV3dhuSQ%2BDnxgmH0/3CxfMBPLwyHosk5IgI8NMzGI5O8n1reb91ZdmAvn6QqNGeP30LZh6HNq2NRPnRqiodIq2noiIiIg4TZ1KEREREVCn0knaeiIiIiLiNHUqRURERECdSiepqBQREREBFZVO0tYTEREREaepUykiIiIC6lQ6SUWliIiICKiodJK2noiIiIg4TZ1KEREREVCn0knaeiIiIiLiNHUqRURERECdSiepqBQREREBFZVO0tYTEREREaepUykiIiIC6lQ6SVvvFvnmm2%2BoUqUKY8eOzetURERERIxTUXmLfPbZZ7Rv355169aRmpqa1%2BmIiIjI37m5mf%2B5g2j39y0QHx/PV199xZo1a4iMjGTz5s106NABgHPnzhEWFsbu3bu5%2B%2B67GT58OP3792fr1q2UKVOG6Ohoxo8fz%2B7du8nMzOTBBx9k9OjR%2BPj45Pj2Y2NjiYuLc5hWvFgxAgICjN5PyUNBQWbiVK3q%2BPvfzGIxG8dQPENZmU7LtXkY%2Bihzd3f8/W/m62smTsGCjr9vd3dYEWiaispbYNWqVVSrVo0KFSrQsWNHPv/8c3tR%2Bdprr5Gens727duJj49nxIgR9vVsNhuhoaEEBwczbdo0Ll26xPDhw5k8eTLjx4/P8e2Hh4cza9Ysh2mDBg5k8JAhZu4gmPvkuhlv5oZimv5sNvphv2uXwWDA0qVGwph%2BNI0%2BPdy9DAYDPD2NhDGclam0bgpjj2eRIoYC/cVUwYULv280amQo0F/uv99sPLktqai8BT7//HN69uwJQKdOnZg9ezanTp2iVKlS7Nixg%2BnTp1O4cGEKFy5M9%2B7dGT16NAAREREcOXKETz75hPz585M/f34GDx5Mv379GDduHJYcvrt0796dkJAQh2nFixUDm83MHbRYzMXKzDQT5zJ3d7BajYSyuZmraExuMgBL7WAzgapWzSooe/WCgwedDmf9yVyxa/ChzIpnTTMTyGLJqtzS0408qGmGykrDaQFmi3qTj6f7hXhDgdyzCsoLF8y9bxQ2V/CafN%2BwfPetmUAFC2YVlHv2QFKSmZimC97cUKfSKSoqb7I9e/bw22%2B/0bZtWwDKli3L/fffz4oVK/jPf/5Deno6pUuXti8fGBho/zsqKgqr1Uq9evUcYlqtVuLj4/H3989RDgEBAVfv6jZZ0Uje273bbLyDB83HdDWmXwM2m5GYpl%2BZhtJybRkZZuNZreZjupoLF8zGS0oyH1NuOyoqb7LPPvuMjIwMWrRoYZ%2BWnp5OTEwMjz/%2BOAAeVxwP5HbFtyRvb28KFCjA7n/7h7uIiIgrUKfSKSoqb6KkpCTWr1/P2LFjqV%2B/vn16cnIyXbt25ddff8Xd3Z0//viDe%2B%2B9F8ja5X1ZuXLluHTpElFRUZQtWxaAxMRE0tPTKWL6GCIREZE7nYpKp6iovInWr1%2BPt7c3jzzyCF5ejsdJhYSEsGLFCh544AEWLlxIcHAwZ8%2Be5bPPPrMvU7lyZYKCgpg4cSKTJk3Cw8ODsWPHcuHCBebPn3%2Br746IiIjINakkv4mWL19Ox44dryooAR599FG2bNnCiy%2B%2ByIULF2jUqBGvvPIKzz77LPC/3eBTp07FZrPRokULWrVqhdVq5c0337yl90NEROSOoPNUOkWdypvo008/vea8Zs2a2Xd1f/rpp/bC8/vvv8fNzY1ixYoBULp0aebNm3fzkxURERFxgorKPPbqq68SHR3NzJkzsVgsLFy4kIYNG2bb3RQREZGb6A7rLJqmrZfHXnjhBfz8/GjZsiUtW7bE3d2diRMn5nVaIiIidx7t/naKOpV5rEiRIsyYMSOv0xARERFxiopKEREREbjjOoumaeuJiIiIiNPUqRQREREBdSqdpKJSREREBFRUOklbT0REREScpk6liIiICKhT6SRtPRERERFxmjqVIiIiIqBOpZMsNpvNltdJyK1n8lG3WMzFy8gwE%2BcyT09ITzcTy8PgVzCT2wwgM9NcLHd3sFoNxfKwmAkUFAS7dkFwMOzebSSkNcPcA2B0m2EoEJhNDMy9QC0W8PKCtDQjL4TkTG8DSWWllS8fpKSYe33m93LNxzM9091IHDD7Pns5Xp7ZvNl8zFatzMd0USrJRURERMRp2v0tIiIiAi65%2Bzs6OpqxY8eyd%2B9eChQoQLt27RgxYgRu2eT6ySefsGjRImJjYylXrhyDBw%2BmZcuWALz88susXr0ad/f/dam9vb35%2BeefjeWqolJERETERQ0ePJjq1auzZcsW/vzzT5599lmKFSvGU0895bDcxo0bmTp1KvPmzaNmzZqsXLmSYcOG8eWXX1K2bFkABgwYwODBg29arq5XkouIiIjkBTc34z%2BxsbFERkY6/MTGxuYonYiICA4ePMjzzz9PoUKFqFChAn369CE8PPyqZVNSUhg%2BfDi1a9fG09OTbt26UbBgQfbs2WN4I12bOpUiIiIicFN2f4eHhzNr1iyHaYMGDcpRxzAyMpLSpUvj5%2Bdnn1a9enVOnDhBYmIiPj4%2B9umdOnVyWPfChQskJSVRokQJ%2B7Tvv/%2BerVu38vvvv1OxYkXGjBlDjRo1bvSuXUVFpYiIiMhN0r17d0JCQhymFS9ePEfrJiQk4Ovr6zDtcoEZHx/vUFReyWazMXLkSGrVqkXdunUBKFu2LG5ubgwdOpSCBQsya9Ys%2Bvbty8aNGylSpEhu71a2VFSKiIiIwE3pVAYEBBAQEHDD6%2Bf2zI/p6em8/PLLHD16lCVLltinDxw40GG5F154gbVr17Jlyxa6det2w/ldSUWliIiIiAvy9/cnISHBYVpCQgIWiwV/f/%2Brlk9JSSE0NJTk5GQ%2B/vjjf%2BxAuru7U7JkyRwf35kTGqgjIiIiAjdloI4zatSowenTpzl37px9WkREBJUqVaJgwYIOy9psNsLCwvDw8GDRokUOBaXNZuONN97g4MGD9mlpaWmcPHnSPjLcBBWVIiIiIuByReV9991HYGAgU6dOJTExkWPHjrFw4UJ69uwJQJs2beznmVyzZg1Hjx7lv//9L97ejleZslgsnDp1irFjxxITE0NSUhJTpkzB09PTfh5LE1RUioiIiLioGTNmEBsbS6NGjXjiiSfo3LkzvXr1AuDEiRNcunQJgOXLlxMdHU3dunUJDAy0/4wcORKAiRMnUqFCBbp06ULDhg05cOAAixcvpkCBAsZy1bW/71C69nfu6drfNxBL1/7OfSxd%2BzvXdO3v3NO1v6/hhx/Mx6xXz3xMF6VOpYiIiIg4TaO/RURERMAlr/19O1FRKSIiIgIqKp2kojIbffv25aeffgLAarWSmZmJ5xUHeWzYsIHSpUvnVXoiIiIiLkdFZTYWLFhg/3vmzJns2LGDZcuW5WFGIiIictOpU%2BkUbb1cio6O5rnnnqNevXrUqVOHF198kcTERAB%2B%2BOEHateuzfbt22nTpg33338//fr14/z58wC8/PLLhIWF2WOlpqZSpUoVfvhrtFnv3r15%2B%2B236dixI/3797/u7YmIiIhBLnaeytuNOpW5YLPZCA0NJTg4mGnTpnHp0iWGDx/O5MmTGT9%2BPADJycmsW7eO8PBwkpOT6dq1K8uWLeOZZ57J0W2sW7eOGTNmEBgYmKPby4nY2Fji4uIcphUrVtypa5GK5EhQkJk4Vas6/pa8YTF0iqjLcQzFc9G0RO44KipzISIigiNHjvDJJ5%2BQP39%2B8ufPz%2BDBg%2BnXrx/jxo0Dso7BfPrpp/Hz88PPz4/atWtz/PjxHN9GzZo1qVmzJgD79u37x9uz5PCdLzw8nFmzZjlMGzhwEEOGDM5xXtdj6k34ZpyfLE/PefYPTH5wuZs75ZzZeLt2GQr0l6VLjYUyvMkMPgau%2BmAajgXGXpz5jET5H28zp738i2s%2Bnp6u%2BVDmvTuss2iaispciIqKwmq1Uu9vJzK1Wq3Ex8fb/y9Tpoz97/z585OSkpLj27hyAND1bi%2B7i8lnp3v37oSEhDhMK1asuLGT%2B%2Brk57l3x5z8vE6wmUBVq2YVlL16wRXXrnWG9SdzBe8dc/JzU7Eslv%2B9OA28EFIyvQwklZWWtzekppp7febzdM3HUyc/l5tBRWUueHt7U6BAAXZf54oebjn8pmPN5s3B/YpvoTm9vesJCAi4ale3rqMkt4Shq9/YHTxoPqbknOk3DpvNSEwXTUtuR%2BpUOkVbLxfKlSvHpUuXiIqKsk9LTEx06FL%2BEy8vL5KTk%2B3/nzx58qbenoiIiOSCBuo45c66t06qXLkyQUFBTJw4kXPnznHhwgVef/11XnzxxRytX6FCBfbu3cuZM2e4ePEiCxYscOhMmr49ERERkVtFRWUuTZ06FZvNRosWLWjVqhVWq5U333wzR%2Bt27dqV6tWr06ZNGx599FE6dOhAvnz/fIi5M7cnIiIiuaBOpVMsNpuOHLkTmXzUNVAn9%2B6YgToehoa4BwVljSQPDjZ2TKU1w9wDcMcM1DH1ArVYwMsL0tKMvBCSM80M17ZYIF8%2BSEkx9/rM7%2BWaj6cG6lzDoUPmY1apYj6mi9JAHRERERG44zqLpqmoFBEREQEVlU7S1hMRERERp6lTKSIiIgLqVDpJW09EREREnKZOpYiIiAioU%2BkkFZUiIiIioKLSSdp6IiIiIuI0dSpFREREQJ1KJ2nriYiIiIjT1KkUERERAXUqnaSiUkRERARUVDpJReUdKjPTXCx3d3Pxbsbr2VRMCzYzgf6KZjKee0aamUAWC7h74W5NA5vz%2BVkzDN5HwPrTLnPxPCxmAgUFwa5duNcJht27nQ63ZrWZbebnB02bwvZv3Tl/3khI2rVzNxOIvx5Pdy8jscxE%2BR9PT8MBXZDnH7%2BbCeTlBSVL4nn2NKQZeh8qX95MHLnlVFSKiIiIgDqVTtLWExERERGnqVMpIiIiAupUOklFpYiIiAioqHSStp6IiIiIOE2dShERERFQp9JJ2noiIiIi4jR1KkVERERAnUonqagUERERARWVTtLWExERERGnqVMpIiIiAupUOklbT0REREScpk6liIiICKhT6SQVlSIiIiKgotJJ2no34NSpU1SpUoVjx47ldSoiIiIiLuGO7VSGhIQQExODm5sbFouFQoUKUb9%2BfV588UVKlCiR1%2BmJiIjIreaCncro6GjGjh3L3r17KVCgAO3atWPEiBG4ZZPrkiVL%2BPjjj4mLi6NKlSq89tpr1KhRA4DU1FQmTpzItm3bSE1NpV69eowdO5YiRYoYy9X1tt4tNHLkSCIiIti3bx8rVqzg7NmzjB49Oq/TEhEREQFg8ODBlChRgi1btrBw4UK2bNnC4sWLr1ruq6%2B%2BYubMmbz11lt89913PPjggzz33HNcunQJgGnTphEZGUl4eDgbN27EZrPxyiuvGM31ju1U/l2JEiV46KGH7A/UuXPnGDNmDD/99BPp6ekEBQUxbtw4SpYsedW6J0%2BeZOzYsezfvx%2BARo0aMWbMGHx9fTl16hQtWrRgwYIFvP322/z2229UrVqVKVOmUKZMGQBWrVrFnDlziI2NpUqVKrz%2B%2ButUq1YNgPXr1zNv3jx%2B//13ihYtSv/%2B/enevXuu7ltsbCxxcXEO04oWLU7x4gG53k7ioiwWs3FMxXNlQUFm4lSt6vjbSX5%2BRsLg4%2BP4W8SBl5eZOB4ejr9vdzehU5ndZ3Dx4sUJCLj%2BZ3BERAQHDx5k4cKFFCpUiEKFCtGnTx8WL17MU0895bBseHg4Xbp0oVatWgA8/fTTLFmyhK%2B//prWrVvz%2BeefM3nyZHsdM2zYMNq3b09MTIyxPbT/kmeBc2w2G6dOnWLVqlV06NABgLfffpukpCS2bt2KzWZj2LBhTJo0iZkzZ161/siRIyldujQ7duwgMTGRfv36MWfOHF5%2B%2BWX7MkuWLGHevHl4e3vzxBNP8P777zNmzBj279/PmDFjmDt3LrVr12bevHmEhoayZcsWfv31V1577TVmzpxJgwYN2L17N8888wz33nsvwcHBOb5/4eHhzJo1y2HawIGDGDJk8A1usau5uxsLZZy53AwXWiYLN1MfEJd5ehoJY/ppYfR5tmuXwWDA0qVGwjQ1EuV/cvFWccu56vuG2bwM30lTyWXTIHFK8eJm4%2BURm%2Bn3ebL/DB40aBCDB1//MzgyMpLSpUvjd8W3zerVq3PixAkSExPxueJbY2RkJO3atbP/7%2BbmRrVq1YiIiKBatWpcvHiR6tWr2%2BdXrFiRfPnyERkZqaLShAkTJjBp0iRsNhvp6ek0aNCAxx9/HICxY8eSkZFBgQIFAGjZsiXvvvtutnHee%2B89LBYLXl5e%2BPv706RJE3b97QOrZ8%2Be9getcePGREREALBy5Urq169P/fr1AejXrx933303qamprFixgubNm9O4cWMAHnjgAdq2bcuqVatyVVR2796dkJAQh2lFixbHas1xiH/k7o6xWKaZzM3dzWYmEGQVlDaD8dLTzcSxWLIKyvR0I/lZ3c0Vu6afZ%2B51DFVbVatmFZS9esHBg06H2z7dTLHr45NVUO7aBYmJRkLSqJGZOOC67xvGn2eYDGYwudhYM3E8PLIKyrg4yMgwE9N0wZvHsvsMLp7DIjwhIQFfX1%2BHaZcLzPj4eIeiMiEhwaH4vLxsfHw8CQkJAFfF8vX1JT4%2BPke55MQdXVSOHDmSnj17AnDhwgU%2B/PBDOnfuzOrVqzl79ixvvvkm%2B/btIyUlhczMTAoXLpxtnP379zN16lQOHTpEeno6VqvVfmDsZZd3dQPkz5%2Bf1NRUAKKioihXrpzDvPbt2wNZu9V37txJYGCgfb7NZrMXmTkVEBBwVZvdFd/MxQkmC9TL8UzHdDW7d5uNd/CgkZjnzxvI5QqJieZjyr9AWprZeBkZ5mPmgcxM8zGz%2BwzODVsu3ouvt2xuYt2IO3qgzpV8fX0ZOHAgnp6erF%2B/nmeffRZ/f382btxIREQEY8aMyXa98%2BfP079/f4KDg9m%2BfTsRERH079//quUs19jVabFYrvkg58uXj549exIREWH/2b9//zU7piIiInLjMjPN/zjD39/f3mW8LCEhAYvFgr%2B/v8P0IkWKZLusv7%2B/fdm/zz9//jxFixZ1LskrqKjMxoULF4iOjqZ37972B%2BLXX3/Ndtnjx4%2BTlJREv3797G3oay2bnbJly3LixAn7/2lpaXzwwQfEx8dTrlw5Dh065LD8mTNnsKrNKCIi8q9Xo0YNTp8%2Bzblz5%2BzTIiIiqFSpEgULFrxq2cjISPv/VquVX3/9lVq1alG2bFn8/Pwc5h8%2BfJi0tLSr9qw6Q0XlX1JTU1m4cCHx8fG0bt2aAgUKsGfPHlJTU1mzZg0HDhwgMTGRpKQkh/VKlSqFm5sbu3fv5tKlSyxatIizZ89y9uxZMnJwfEmXLl344Ycf%2BPrrr0lPT2fRokUsWbIEHx8funbtyq5du1i%2BfDlpaWkcOHCAbt26sXHjxpu1GURERO5YrtapvO%2B%2B%2BwgMDGTq1KkkJiZy7NgxFi5caD90r02bNvz8889A1tiNlStXsmfPHpKTk5k7dy5eXl40b94cd3d3HnvsMd59911Onz5NfHw877zzDq1ataJYsWLObja7O7qonDBhAoGBgQQGBtKoUSO%2B/vpr3n//fe655x7GjBnDe%2B%2B9R8OGDfnpp5%2BYOXMmd911Fw899JBDjBIlSjB8%2BHBeffVVHnzwQc6fP8%2BUKVNIS0ujV69e182hWrVqTJkyhfHjx1OnTh2%2B%2Buor5s6di6enJxUrVmTq1Km8//77PPDAAwwePJh%2B/fo5jO4SERGRf68ZM2YQGxtLo0aNeOKJJ%2BjcubO9vjhx4oT9PJRNmzZl%2BPDhDBs2jLp16/Ldd9/x3nvvkS9fPgCGDBlCrVq16NSpEy1atKBgwYJMnDjRaK4W280%2BalNcktHRjS46ihPuoNHfpg6Qt1iyTk%2BUlmZm9LeHt4Gkshgfleth6NQhQUFZQ6yDg40M1Fmz2szzws8PmjaF7dvNDdQx%2BX3WVd837pjR36dOmYnj5ZU1Wvv0aXPvQ%2BXLm4lzA5KTzcfMn998TFd1R4/%2BFhEREbnsZoz%2BvpPc0bu/RURERMQMdSpFREREUKfSWepUioiIiIjT1KkUERERQZ1KZ6moFBEREUFFpbO0%2B1tEREREnKZOpYiIiAjqVDpLnUoRERERcZo6lSIiIiKoU%2BksFZUiIiIiqKh0lq79facy%2BbCbvI51RoaZOJd5ekJ6uplYbgaPFjF8geHUDHcjcQxf%2BhtvDxe97jGwZr2ZbWb6GtsdH3bNa5IDZj9xTb5vmMzLVS9KDkZzu3jJzPPfzQ0KFoSkJHMPQ6FCZuLciJgY8zFLlDAf01WpUykiIiKCOpXO0kAdEREREXGaOpUiIiIiqFPpLBWVIiIiIqiodJZ2f4uIiIiI09SpFBEREUGdSmepUykiIiIiTlOnUkRERAR1Kp2lolJEREQEFZXO0u5vEREREXGaOpUiIiIiqFPpLHUqRURERMRp6lSKiIiIoE6ls1RUioiIiKCi0ln/yt3fhw8fpnXr1tx///239HbDwsJ4%2BeWXb%2BltioiIiLiCGy4qQ0JCaNq0KZcuXXKY/sMPPxASEuJ0Ytm5ePEiU6dO5aGHHqJWrVrUq1ePAQMGsG/fPoflli1bhq%2BvLz///LM91%2BrVqxMYGEhgYCC1a9emV69e/PjjjzclT2dFRkby3Xff5XUaIiIid5TMTPM/dxKnOpVpaWnMmTPHVC7/KCkpiV69evHrr78ya9Ys9uzZw6ZNm6hbty5PPPEE27dvd1i2TJkyeHj8b%2B/%2ByJEjiYiIICIigm%2B%2B%2BYaWLVvSv39/oqKibkn%2BubF8%2BXIVlSIiInJbcaqoHDx4MB9//DEnTpy4at6pU6eoUqUKx44ds0%2BbMmUKvXv3BrI6msHBwWzdupWQkBCCgoKYPn06ERERPPzwwwQFBTFo0CDS09MBWLBgARcvXmTu3LlUrlwZi8WCn58fTz31FE888QSjR48mIyODF198kZUrV7JhwwYCAwOzzTt//vz07duXgIAAezHau3dv3n77bTp27Ej//v0BOHPmDAMGDKBevXrUrl2bsLAwEhIS7HGWLVtGSEgItWvXZuzYsWRe8ZXk5ZdfJiwszP5/amoqVapU4YcffgAgOTmZUaNGUa9ePerXr8%2BoUaNIS0tj/PjxLF26lAULFtCqVSsAVqxYYd%2Bd/%2BCDD7JgwYJcP1YiIiLyz9SpdI5TA3UqVarEY489xoQJE/jggw9yvX5ycjI7d%2B5k3bp1bNy4kZdffplDhw6xaNEizp8/z8MPP8xXX31F69at2bhxI927d8fLy%2BuqOE888QTz5s1j7969vPXWW7i5uZGamsq0adP%2B8fatVivu7u72/9etW8eMGTPsxWhoaCiVKlVi69atpKSkMHToUF5//XX%2B%2B9//cvz4cUaPHs2sWbNo2rQpq1evZsKECbRp0yZH9/2dd97h6NGjfPnllwA8/fTTzJ49m1GjRnH48GFq1arF888/z5kzZxg3bhzh4eFUqVKF/fv3069fP%2BrXr899992Xo9uKjY0lLi7OYVrxYsUICAjI0fri%2BiwWs3FMxXNlfn5m4vj4OP52WlCQmThVqzr%2BFrmCm6ERFZfjmIqX1%2B60ItA0p0d/Dx48mDZt2rB582Z7Zy2nMjMz6dWrF/nz5yckJASbzUbr1q3x9/fH39%2Bfe%2B65h99//x2AkydPUr58%2BWzjFCtWjEKFChEVFUXt2rWve7tJSUl8%2BumnnDt3jmbNmtmn16xZk5o1awJw4MABIiMjmTdvHj4%2BPvj4%2BNC/f38GDhxIWloaW7Zs4b777qNly5YAdO3alcWLF%2BfofttsNlauXMmkSZPw9/cHYNKkSVy4cOGqZRMTE8nMzKRAgQIA1KhRg507d%2BKWi1dweHg4s2bNcpg2aOBABg8ZkuMY12WqCvH0NBPnZsc04YovNM7yMhcKMLnJDCdmcJs1bWosFADBwYYC7dplKNBfli41G88kU%2B8bBp8XNyWeSYZyK1jQSBi7/PnNxpPbk9NFpY%2BPD88//zxvvPEGTZo0yfX6JUuWBMDb2xuAEiVK2Od5e3uTmppq/99qtd5wnhMmTGDSpEkA5MuXj2rVqrFo0SL77QOULl3a/vepU6fw8/OjePHi9mnlypUjPT2dmJgYYmJiKFOmjMNtVKhQIUe5xMfHc%2BHCBYf1q16jm1CxYkU6depE27ZtqVu3Lo0bN%2BaRRx6hSJEiObotgO7du181eKp4sWJgs%2BU4xj%2ByWMzFysgwE%2BcyT0/46xAKp5n8Ku7uDk48n/8uzWrmg8Zi%2Bd8mM/GQermbu4%2Bmt9n2b81sMx%2BfrIJy1y5ITHQ%2BXtNhhqrTqlWzCspeveDgQTMxf/nFTBww%2B75hsr1k%2BHlmlMHcklLMPP/d3LIKyuRkcw%2BD6YI3N9SpdI6R81R27tyZ8PBw5s2bR/369a%2B5XHZF4d87btfqwN19990Ox2deKS4ujosXL3LPPfdc87ZHjhxJz549rzkfcNgVnpaWds3lLBYLaWlpZPytAMr8h2fjlff98n38p%2BWvvK3x48fz9NNPs2XLFjZs2MD8%2BfNZtmwZZcuWve76AAEBAVfv6jb1Zi4uwfTDabP9%2B58i58%2BbjZeYaCjm7t0Gglzh4EHzMeW2Z7p4uhOPH5SrGWu9jB49mkWLFtlHU1/uPKakpNiXcWakdZs2bfj8888d4l22dOlSypcvT40aNW44/t%2BVLVuW8%2BfPc/bsWfu048eP4%2B3tTYkSJQgICODMmTMO61xZ9Hp5eZGcnGz//%2BTJk/a/CxcujK%2Bvr8MAp8jISFatWnVVHpmZmVy4cIHy5cvTr18/li1bRqVKldi8ebOR%2BykiIiJZNFDHOcaKymrVqtG5c2emT58OgL%2B/P4UKFWLTpk1YrVa%2B%2BeYb9uzZc8Px%2B/Tpg7%2B/P//5z384ePAgNpuNCxcuMGfOHBYtWsT48eNzdZzh9QQGBlKxYkWmTp3KpUuXiImJYe7cubRv3x5PT0%2BaNm3Kr7/%2ByrZt20hLS%2BPjjz8mJibGvn6FChXYu3cvZ86c4eLFiyxYsMChE9qlSxfef/99YmJiiI%2BPZ/z48Rw5cgTIKshPnTrF%2BfPnWb9%2BPd26deP48eMAREdHExMTQ7ly5YzdVxEREVFR6Syj47WGDRtm3yXs7u7O66%2B/zhdffMEDDzzAypUrefzxx284dv78%2Bfn444%2BpU6cOgwYNolatWrRq1Ypff/2Vjz/%2BmHr16pm6G0DWbuc5c%2BYQGxtL8%2BbNeeyxx6hVqxajR48GoFatWowcOZIxY8ZQv359Dh8%2B7DDyu2vXrlSvXp02bdrw6KOP0qFDB/Lly2efP2LECGrWrEm7du1o164d9957L4MGDQKyCs7t27fz0EMP0bZtW9q0acOTTz5JrVq1eOKJJ%2BjSpYt9gJCIiIiIK7DYbP/2I6ckWyYfdg3UyT3DgwFSM8wN1PHygrQ0Mw%2Bpt4frDtRZs97MNvPzyxpJvn27mWMqOz5saER0UFDW6KHgYHPHVJpsu2igTu4ZzO3iJXMDdQoWhKQkcw9DoUJm4tyIv04lbZThnpdLMzJQR0REROR2d6ftrjbtX3K6UhERERHJS%2BpUioiIiKBOpbPUqRQRERERp6moFBEREeH2O6VQQkICw4YNo2HDhjRu3JjXXnst2/N5X7Zp0yYefvhhgoKCaN26NcuWLbPPmzlzJtWqVSMwMNDh58rzdV%2BPdn%2BLiIiIcPvt/h41ahRpaWmsXbuW9PR0hg4dypQpUxg5cuRVy%2B7bt4/nn3%2Bed955h%2BbNm/Ptt98ycOBA7rnnHh544AEAOnXqxJtvvnnD%2BahTKSIiInKTxMbGEhkZ6fATGxvrdNyzZ8%2ByZcsWwsLC8Pf3p0SJEoSGhrJ8%2BXLSszmVXkJCAs8%2B%2BywtW7bEw8ODZs2aUblyZX7%2B%2BWenc7lMnUoRERERbk6nMjw8nFmzZjlMGzRoEIMHD3Yq7oEDB3B3d6dKlSr2adWrV%2BfSpUscP37cYTpA06ZNadq0qf3/jIwM4uLiKFGihH3aoUOH6NGjB4cPH6ZkyZK88sorNG7cOMc5qagUERERuUm6d%2B9OSEiIw7TixYs7HTchIQEfHx8slv9dMMHPzw%2BA%2BPj4664/ZcoUChQoQLt27QC46667KFu2LCNGjCAgIIDw8HCee%2B45Vq9ezT333JOjnFRUioiIiHBzOpUBAQEEBATc0LqrVq3ixRdfzHZeWFgYN3JRRJvNxpQpU1i7di1LlizB29sbgG7dutGtWzf7cn369GHdunWsXr2aYcOG5Si2ikoRERERXG%2BgTqdOnejUqVO287799lsSExOxWq24u2dddjMhIQGAokWLZrtOZmYmr7zyCvv27eOTTz6hbNmy/3j7pUuXztXxnxqoIyIiInKbqVatGjabjYMHD9qnRURE4Ovry913353tOpMmTeLIkSPZFpRz5sxh586dDtOOHTt23cLzSupUikuxunkajeduMKabwa9gFsDm5m4snofhV7K7qdQyMszEsViykrJa4QZ292SnXTtz2x%2BgUSNDgUy3Sn75xVwsUy%2BCoCDYtQtq14bdu50OZ80w85yAv94zMPvcMMVkbj4%2BRsLYFShgNl5ecbVO5T/x9/endevWTJ8%2BncmTJ5OWlsbs2bPp2rUrHn99KDz55JN0796ddu3a8csvv7B69WrWr19P4cKFr4qXkJDA2LFjmTNnDqVLl%2Bbjjz/m5MmTPPLIIznOSUWliIiIyG1o3LhxvP7667Ro0QJPT086dOhAWFiYfX5UVBTnz58HYPny5Vy8eJEHH3zQIUadOnVYsGABI0aMALKOpUxISKBSpUosWrSIu%2B66K8f5WGw3cpSn3P5MPuwWi7F41kzL9RfKhcvNLROMdirNbTLA7Ldrk9vMPSPVTCCLBby8IC3N3HPNw9tIHDC8zdxc87UJmO9UBge7XqfS4GNp2p3yfmYx%2BzGQK19%2BaT5m27bmY7oqdSpFREREuL12f7siDdQREREREaepUykiIiKCOpXOUqdSRERERJymTqWIiIgI6lQ6S0WliIiICCoqnaXd3yIiIiLiNHUqRURERFCn0lnqVIqIiIiI09SpFBEREUGdSmepqBQRERFBRaWztPtbRERERJymovI2M2XKFHr37p3XaYiIiPzrZGaa/7mT3FZFZUhICJ988slV0z/55BNCQkKM3MbatWvp0aMHQUFB1K5dm65du7J8%2BfLrrpeamsqcOXNo27YttWrVon79%2BjzzzDP8/PPPRvISERERcWU6pvIK06dPZ9myZYwbN46mTZuSkZHBtm3bGD16NNHR0QwZMiTb9TIyMnjmmWe4dOkSb731FtWrVyc%2BPp5PPvmEPn36MG/ePBo1anSL742IiIjkxp3WWTTtX1dURkRE8MYbb3D48GG8vLxo1aoVI0eOxNPTk%2BTkZMaMGcP27dtJSUmhSpUqjBw5kho1anDixAneffdd3n33XZo3bw6Al5cX7dq1I1%2B%2BfERERACwYsUKFixYQOPGjfn000/ZuHEj27dvJyIigi1btlC0aFEAihYtyqBBg/Dy8iIhIQHI6maOHz%2Bebdu2cenSJapWrcqYMWOoXLkykNWJ7datG59//jmNGzdm7NixfPXVV0yePJnY2FiaNWtGsWLFcr1NYmNjiYuLc5hWvFgxAgICbnAri%2BSQxWI2jql4cmOCgszEqVrV8beIi1BR6Zx/XVEZFhbGww8/zIcffkhMTAw9evSgUqVK9O7dm8WLF3P27Fk2b96Ml5cX8%2BfPZ9SoUXzxxRds2bKF0qVL2wvKK4WEhDjsXo%2BNjcXb25uffvoJT09PNm3aRJs2bewF5ZX69%2B9v/3v%2B/Pns3buXtWvXUqBAAcaNG8fLL7/MihUr7MusW7eOBQsWUK5cOS5cuEBYWBjPP/883bt3Z%2BfOnYwYMYJq1arlapuEh4cza9Ysh2mDBg5k8DU6rzfE0Ie9u7uRMDc9pgkm6yPT99FYPHcvQ4H%2B4ulpLJTpp4W5x8Bw4WzyibZrl7lYAEuXGgnjuo%2Blea6am77vCdyGReWECROYNGmSw7TMzExKlCgBwMqVK/Hy8sLd3Z1SpUpRp04d9u/fD8CFCxfw9PQkX758eHh4EBoaSmhoKABRUVFUqFAhRzlcvHiRZ555Bs%2B/PuCioqKoU6fOddd79tln6dOnDz4%2BPgC0adOGFStWkJGRgYdH1kPRpEkTypcvD8A333xDgQIFePzxx3Fzc6NZs2Y88MADJCUl5SjPy7p3737VMafFixUDmy1Xca7JYjEWy5pp9p3J3R2sVjOx3AwegWxwkwFmv12b3Gbu1jQzgSyWrIIyPd3cc81gwWt0m7kZfGKYfqLVrm0mTtWqWQVlr15w8KDT4aw/mSt2TT6Wpt0p72d5WaCqU%2Bmc266oHDlyJD179nSY9sknnzB//nwAvv/%2Be2bPns1vv/1GRkYGGRkZtGnTBoBevXrRr18/mjVrRpMmTWjZsiUtWrQAwGKxkJnDZ5Ovr6%2B9MLy8rjUHr/Rz584xYcIEfvzxR3thaLVasVqt9qKydOnS9uXPnDlDyZIlcbvi1V%2BhQgUiIyNzlOdlAQEBV%2B/qNvkOIHItpp9nNpueu3lp926z8Q4eNB9TRPLMbTX6%2B3qOHTvG0KFDeeSRR9i5cycRERF06NDBPr9MmTKsX7%2Bet99%2BGx8fH0aPHs3QoUOBrGLt2LFj2HLwgXW5ALysfPnyHD169LrrhYWFkZiYyKpVq9i/f7%2B9EL6S%2BxX7NtLS0q4qVnNa%2BIqIiEju6JRCzvlXFZUHDhzAy8uLJ554gnz58mGz2Thw4IB9flJSElarlYYNGzJy5Eg%2B%2B%2BwzNm7cSHx8PC1btuTs2bOsXbv2qrjffPMNjz32GBkZGdnebuvWrdm4cSOnTp26at60adN48803Adi3bx%2BPPfYYd911F8B1O44BAQHExMQ4FLrHjh27/oYQERGRXFNR6Zx/VVFZunRpUlJSOHDgAOfPn%2Bftt9/Gy8uL2NhYbDYbQ4YMYfLkySQmJpKZmcnu3bspXLgwfn5%2BlC1bltDQUEaNGsVnn31GSkoKycnJrF27lrCwMDp16nRVh/KyTp068cADD/DEE0/w/fffY7VaOXfuHDNmzOCjjz6iXbt29vz27dtHeno627dv59tvvwUgJiYm27gNGzYkMTGRTz/9lLS0NLZs2cLevXtvzsYTERERccK/qqgMCgri8ccf5z//%2BQ/t27endOnSvPrqqxw%2BfJiwsDDGjx/P77//TtOmTalTpw4fffQRs2fPth%2BzOGjQIMaOHcuyZcto0KABzZo149NPP%2BXtt9/m8ccfv%2Bbturm5MW/ePLp06cLrr79OcHAwDz/8MMeOHePTTz%2BlZs2aAIwePZpNmzZRt25dPv/8c9555x1q1apFly5dOHv27FVx77rrLqZOncqCBQuoW7cuq1evplevXjdn44mIiNzh1Kl0jsWWk4MI5d/H9FA9jf7OlTtm9HdGqplAFgt4eUFamrnnmoe3kThwB43%2BNvUiCArKOj1RcLCRgTrWDHP3UaO/c%2B/fNPo7m6EOTnvmGfMxXdVtN/pbRERE5Ga40zqLpqmoFBEREUFFpbP%2BVcdUioiIiEjeUKdSREREBHUqnaWiUkRERAQVlc7S7m8RERERcZo6lSIiIiKoU%2BksdSpFRERExGnqVIqIiIigTqWzVFSKiIiIoKLSWdr9LSIiIiJOU6fyTmX6YtGG4rmbvCAtABZz11JOSzMT56/rWFvSzV3H2v3CBSNx8PCAIkVwvxAPGRlOh0v2KW4gqaxNlg9IyfQydo1hLzNhzHPR1yYYvsY2YP1pl5lYHoYuFv3XNcnd65i5JjmY3WYmHT5sJo63N1SoAL//DqmpZmJWqWImzo1Qp9I56lSKiIiIiNPUqRQRERFBnUpnqagUERERQUWls7T7W0REREScpk6liIiICOpUOkudShEREZHbUEJCAsOGDaNhw4Y0btyY1157jZSUlGyXXbFiBVWrViUwMNDhZ9%2B%2BfQBkZmYybdo0WrRoQZ06dejXrx9RUVG5ykdFpYiIiAhZnUrTPzfTqFGjSE5OZu3atSxfvpxjx44xZcqUay5fp04dIiIiHH5q1qwJwMcff8yaNWt47733%2BPrrr6lQoQIDBw7ElovzuKmoFBEREeH2KirPnj3Lli1bCAsLw9/fnxIlShAaGsry5ctJT0/Pdbzw8HD69OlDxYoV8fHxISwsjGPHjrF3794cx1BRKSIiInKTxMbGEhkZ6fATGxvrdNwDBw7g7u5OlSvOFl%2B9enUuXbrE8ePHs13n9OnTPPXUU9SpU4cWLVqwatUqAFJSUjh69Cj33XeffVkfHx/Kly9PREREjnPSQB0RERERbk5nMTw8nFmzZjlMGzRoEIMHD3YqbkJCAj4%2BPlgs/7uilJ%2BfHwDx8fFXLe/v70%2BFChUYPnw4lSpVYvPmzbz44osEBARwzz33YLPZ7OtfGS%2B7WNeiolJERETkJunevTshISEO04oXz9klbFetWsWLL76Y7bywsLBcHe/YvHlzmjdvbv%2B/ffv2bN68mRUrVvD8888D5CpedlRUioiIiHBzOpUBAQEEBATc0LqdOnWiU6dO2c779ttvSUxMxGq14u7uDmR1LwGKFi2ao/ilS5dm//79FC5cGDc3N/v6lyUkJOQ4FuiYShERERHg9hqoU61aNWw2GwcPHrRPi4iIwNfXl7vvvvuq5T/55BPWr1/vMO3YsWOULVsWb29v7r33XiIjI%2B3zLly4wMmTJ%2B2jw3NCRaWIiIjIbcbf35/WrVszffp0zp07x5kzZ5g9ezZdu3bFwyNrR/STTz5pLyTT0tIYP348ERERpKens3btWrZv306PHj0A6NmzJ0uWLOHYsWMkJiYyZcoUqlWrRmBgYI5zum12f//000/07duXX375BS8vr7xO54bMnDmTHTt2sGzZsrxORURERP7mdruizrhx43j99ddp0aIFnp6edOjQgbCwMPv8qKgozp8/D8ATTzxBUlISQ4cOJS4ujjJlyjB79mxq1KgBQI8ePYiLi6N3794kJSVRr169qwYYXc8NFZW9e/emVq1a9gM7r%2Bedd95h3rx5TJ8%2BnbZt2%2Bb4djZt2kSVKlUoX768/YSdzjp16pT9bPEfffTRVfMHDBjAV199xdatWylTpozTtyciIiJyMxQqVIh33nnnmvO/%2Buor%2B98Wi4XQ0FBCQ0OzXdZisTBkyBCGDBlyw/nc9N3fVquVL774gvbt27N8%2BfJcrTtjxgx%2B//33m5LXb7/9xh9//OEw7fz58w7HE4iIiMid43Y6ptIVOVVUZmZm8uabb9K4cWPuv/9%2BHn74YXbs2OGwzP/93//h7u7O888/z86dOzlz5ozD/KioKPr27UtQUBAPPvggS5YsAeDhhx/myJEjhIaG8sorr/DDDz9QpUoVUlNT6dat21Ut2QkTJtCvXz8AoqOjee6556hXrx516tThxRdfJDEx0WH5Jk2asHbtWodpmzZtomHDhg7TUlJSGDduHM2bN%2Bf%2B%2B%2B%2Bnd%2B/eHD161D6/SpUqrFu3ji5dulCzZk369%2B/PmTNn6NevH0FBQXTp0oVTp045xHz33Xdp0KABDRs2ZNq0afYh/JmZmcyYMYOWLVtSq1YtHn30UX755Rf7eiEhIcydO5cWLVrw%2Buuv//ODIyIiIrmiotI5Th1TuW7dOr777jtWr16Nn58fK1eu5KWXXuL//u//8PT0BOCzzz6jQ4cOlCpViuDgYFasWOHQeh00aBB169Zl9uzZ/Pbbbzz%2B%2BONUrFiR1atXU6VKFebMmUPTpk354Ycf7Ou0adOGNWvWMGjQIPu0rVu3MnjwYGw2G6GhoQQHBzNt2jQuXbrE8OHDmTx5MuPHj3eIMWXKFPr372%2BftmbNGvr27csXX3xhnzZlyhR%2B/fVXwsPD8fPzY8aMGQwaNIgvv/zSfsLRTz/9lHfffZdLly7RsWNHnnnmGSZPnky5cuV4/PHHWbhwIaNGjQLgyJEjNGjQgK%2B//pr9%2B/fTt29fqlatStu2bVm8eDHr1q3j/fffp1SpUoSHhzNgwAC2bdtGgQIF7Nt8wYIFlCtXLsePU2xsLHFxcQ7TihctSkAOz5Mlf7niBLNG4piKB%2BBh6PDov05LYf/tJFfeZPIvEhRkJk7Vqo6//8W8vc3EuTzE4TYd6iCGOfVJdOHCBTw8PMifPz/u7u48%2BuijPPLII7i5ZTVA4%2BLi2L59O8OHDwegc%2BfOzJ07lwEDBmCxWPj11185dOgQixcvJn/%2B/FSrVo1Zs2ZRokSJf7zdNm3a8PbbbxMdHW0/x1JcXBwtW7YkIiKCI0eO8Mknn5A/f37y58/P4MGD6devH%2BPGjbPHaNSoEa%2B88goHDx6katWqxMTEcPToURo3bmxfJjMzkxUrVjB9%2BnR7TsOGDeOjjz5i37591KpVC8g6gejlc1Ddc889VK9e3X6po7p16zpcLsnNzY2BAwfi5eXFAw88QJMmTdi%2BfTtt27bl888/p0%2BfPlSoUAHIOnZ18eLFbNu2jXbt2gFZHdby5cvn6nHK9mz%2BAwcy2InjJq5iqAi5KUxVIqbfNf/64mWE6dx8fY2EyWckyv%2BY%2BiC8Gcy9BAy/lgy%2BNk2/yo2ltmuXoUB/WbrUWChX3WZ/fcwYU6qU2Xh55U7rLJrmVFHZvn17Vq1aRdOmTWnUqBHNmzenffv29qLyiy%2B%2BoHLlytx7770AtG7dmnHjxvHDDz9Qv359Tp48iY%2BPD4ULF7bH/Pvu5%2ByULl2awMBAtmzZwpNPPsnmzZtp0qQJvr6%2BREVFYbVaqVevnsM6VqvV4VJDHh4etG/fntWrV1O1alW%2B/PJLWrdubR%2BGD/Dnn3%2BSlJREaGiow2WQMjMzOX36tL2oLFmypH2et7e3Q1Hs7e1NWlqa/f9y5co5jF4vV64chw4dAuDkyZNMnDiRSZMmXXVbV9733Mr2bP5Fi4LVmutY2XJ3NxfLzfBhvhYLOHmFALv0dDNxLJasgjI93VxuSUlm4ri7ZxWUFy4YeUxT8hcxkFTWJvP2htRUc5vMZE1v8iXgjqFAYDYxwGqwRDK6zeoEmwlUtWpWQdmrF1xx7j9nWH8yV/Ca3GZRUWbieHllFZR//AFXfNQ5xXTBK7eOU0Vl4cKFWbZsGbt27eLrr79mxowZfPLJJ3z88cd4eHiwfPlyTp06RdAVuybS0tJYvnw59evXx83Njcwb/FrQtm1bh6JywIABQFYRV6BAAXbv3p3tepcuXbL/3alTJwYOHMgLL7zAmjVreO211xyWzZcvq8/y6aef2ofcZ8fyt06Y2z8URn9f1maz2YvMfPnyMWHCBFq3bn3N9d1v4GtqtmfzN/hBc8cwVc1cGc9UzIwMM3Eus1qNxHTlTSb/Itd4v79hBw%2Baj%2BliUlPNxktLMx8zL6hT6Ryn2kKpqakkJycTHBzMiBEjWLt2LYcPH%2BbgwYP8%2BOOPnDp1ivDwcFauXGn/mThxIps2beLixYuULVuWpKQkYmNj7TG3bNnCjz/%2BeN3bbt26Nbt27WLv3r1ER0fbO3HlypXj0qVLRF3xNSwxMTHbC6LXqFEDHx8f1q5dS0JCAsHBjt92CxUqROHChe2dxMv%2BPvAmN06dOkX6FR2vkydP2jubZcuWNXpbIiIiknMaqOMcp4rKiRMn8tJLL3Hu3DlsNhuRkZFkZmZSqlQpPvvsM5o0aUKNGjUoX768/efhhx%2BmUKFCrF27lmrVqnHfffcxffp0kpKSOHz4MK%2B99hopKSlAVtfx999/v2rkNmTtBq5evTpvvfUWzZo1o2DBggBUrlyZoKAgJk6cyLlz57hw4QKvv/76NS/I3qlTJ6ZNm0aHDh2ynd%2BjRw/mzp3LsWPHSE9PZ9GiRXTt2pXk5OQb2mbp6enMnz%2BftLQ09uzZw7fffkurVq3st/Xxxx%2BzZ88erFYr69evp0OHDled%2BkhERETE1ThVVI4YMQI3Nzdat25NcHAwEydOZOrUqXh6erJp0ya6du161ToeHh506tTJfs7Kd999l%2BjoaBo2bMhzzz1HaGgoTZs2BbKKrLfeeosXXngh29tv06YNP//8M%2B3bt3eYPnXqVGw2Gy1atKBVq1ZYrVbefPPNbGN07NiR06dP8/DDD2c7PzQ0lCZNmtCrVy/q1avH5s2bmT9/Pvnz58/xdrpSYGAgNpuNJk2aMHDgQJ555hn74KCuXbvSq1cvBg0aRO3atXn//feZNWsWpf4tR0CLiIi4MHUqnWOx2XSE0h3J5DGVd8pAHVNHoVssWUe3p6WZy%2B3CBTNxPDygSBGIjzdyTGWyj5nTVlkskC8fpKSY22QmB8xroE7uGd1mHobO8BAUlDWSPDjY2DGV1gxzH7Emt9kVp1t2ird31sCa334zd0xllSpm4tyIwYPNx5w503xMV3XbXPtbRERE5Ga60zqLpqmoFBEREUFFpbNu%2BrW/RUREROTfT51KEREREdSpdJY6lSIiIiLiNHUqRURERFCn0lkqKkVERERQUeks7f4WEREREaepUykiIiKCOpXOUqdSRERERJymTqWIiIgI6lQ6S0WliIiICCoqnaWi8g5lc3M3FstiMJ4l02okjp27u7F3CZuXt5E48Nc28/QyFo9ixY2FsgC2wkWMxMpv9PF0J5%2Bn4eeHMe6446q5/ftZM2zGYrkD1p92mYvnYTETKCgIdu3CvU4w7N7tdLgqGRkGkrrMnQplzb7W5fakolJEREQEdSqdpaJSREREBBWVztLobxERERFxmjqVIiIiIqhT6Sx1KkVERETEaepUioiIiKBOpbNUVIqIiIigotJZ2v0tIiIiIk5Tp1JEREQEdSqdpU6liIiIiDhNnUoRERER1Kl0lopKEREREVRUOku7v0VERETEaepUioiIiKBOpbPypFMZHR1NYGAgJ06cyIub/0fbt2%2BnSpUqxuL98MMPVKlShdTUVGMxRURERFxNrjqVISEhxMTE4OZ2dS36xhtv0KFDh2uuu3PnTnx8fAgMDKR06dJERETkPtscSEhIYPPmzXTr1s1IvMTERP773/%2BydetWzp49i6enJ3Xq1CEsLMxo8SkiIiJ5S51K5%2BR69/fIkSPp2bNnrm9o0aJFNG/enMDAwFyvmxvff/89n332mbGi8vnnnyc1NZVFixZRtmxZ4uPjmTlzJk8%2B%2BSRbtmzBx8fHyO2IiIhI3lJR6Ryjx1Ru27aNqVOncurUKQoWLEinTp0YMWIEoaGhbNu2jW%2B%2B%2BYYNGzYwceJEWrRowfr166lYsSIhISE888wzrF%2B/nn379lGtWjWmTZvGlClT%2BOqrrwgICGDq1KnUqFEDgNWrV/Puu%2B9y%2BvRpihQpwtNPP02vXr348ssvGTFiBJmZmQQGBrJ%2B/XpKly7NrFmzWL16NXFxcVSqVIlXX32V2rVrA/Dbb7/x8ssvc%2BjQISpVqsTDDz/scJ%2B%2B/fZbJk%2BeTLly5QDw9/fnlVdeoVatWlitVgBOnjzJ2LFj2b9/PwCNGjVizJgx%2BPr6XrWNIiIieOONNzh8%2BDBeXl60atWKkSNH4unpyQ8//MBzzz3H0KFDmTFjBu%2B99x59%2BvRhx44dFClSBICUlBQaNGjAzJkzady4cY4el9jYWOLi4hymFStWnICAgJw%2BtCIiciOCgszEqVrV8beICzJWVKanpxMWFsbs2bNp0KABv//%2BO08//TRBQUG8%2B%2B679sKxZ8%2BenDp16qr1ly5dyowZMyhUqBCdO3fm8ccfZ/z48UyaNImBAwcya9Ys3n33XaKionjppZf44IMPaNCgAd9//z19%2B/YlODiYtm3bcvToUXbs2MGyZcsAWLhwIevWreP999%2BnVKlShIeHM2DAALZt20aBAgV4%2BeWXKV26NAsWLOD06dMMHTrUIa%2B7776bjz76iBo1atgLSy8vLzp37mxfZuTIkZQuXZodO3aQmJhIv379mDNnDi%2B//PJV9zMsLIyHH36YDz/8kJiYGHr06EGlSpXo3bu3fTv%2B/vvvfPfdd3h7e1OiRAk2bNhg7w5/8803FCxYkAYNGuT4sQkPD2fWrFkO0wYOHMSQIYNzHON6LBZDgdzdDQUyH9PUXbTHMx3QIJd9PG/G88MUV83NYF6m7%2BEdsMlg1y6DwYClS83GM8VVH8xcUqfSObkuKidMmMCkSZMcphUoUICtW7eSkpJCgQIFsFgsVKhQgU2bNmV7/GV2mjdvzt133w1AzZo1SUpKolGjRgA0btyYTz/9FIAyZcrw/fff4%2BfnB0CDBg0oWrQokZGRVM3mG9znn39Onz59qFChAgC9e/dm8eLFbNu2jTp16rB7927Gjh1LgQIFqFixIl26dGHy5Mn29d966y1GjBhBq1atqFChAnXr1qV58%2BY0b94c979eRO%2B99x4WiwUvLy/8/f1p0qQJu67xRrJy5Uq8vLxwd3enVKlS1KlTx97hhKyislevXuTLlw%2BATp06sWbNGntRuWnTJtq1a2e/7Zzo3r07ISEhDtOKFSuOzZbjEP/IYsFcrEyrmUCXubuD1UxMm5u5N02T28w0l308DT6WxrlqbobzshosK%2B%2BQTYZ7nWAzgapWzSooe/WCgwedj/fTT87HuMz4Rvt3FKi3QkJCAmPGjOHHH3/Ezc2NZs2aMWrUKHsNcaWRI0eyatUqh2lWq5VOnTrxxhtv8PLLL7N69WqH%2BsLb25uff/45x/kYPaZy4MCB/Oc//6FmzZo0atSILl26ULJkyRzFveuuu%2Bx/e3t7Oxyr6O3tTVpaGgAWi4VPPvmEzz//nNjYWGw2G2lpafb5f3fy5EkmTpzoUAhnZmZy%2BvRpYmJigKxC9bLLxedlVatWZd26dezfv5%2BdO3fy448/MnToUKpUqcKSJUsoWLAg%2B/fvZ%2BrUqRw6dIj09HSsVqt9V/3fff/998yePZvffvuNjIwMMjIyaNOmjcMypUqVsv/duXNn5s6dS3R0NAEBAWzbto0PPvjgnzblVQICAq7a1e2qBY2IyL/K7t1m4x08aD6m2N1uncpRo0aRlpbG2rVrSU9PZ%2BjQoUyZMoWRI0deteyECROYMGGC/f%2BMjAw6d%2B7sUIMMGDCAwYNvfC%2Bm0VMKDRo0iK1bt9K%2BfXt%2B/vln2rVrx759%2B3KWyN86mtfqcH722We89957TJgwgd27dxMREeFQkP5dvnz5mDp1KhEREfafyMhI%2BvXrZy9ErVd8w8q8xjOqRo0aPPPMM8yfP5/Vq1dz/PhxVq5cyfnz5%2Bnfvz/BwcFs376diIgI%2Bvfvn22MY8eOMXToUB555BF27txJREREtiPmPTz%2BV%2BuXK1eOWrVqsW7dOn788Uf8/f1v%2BmAnERGRO1Fmpvmfm%2BXs2bNs2bKFsLAw/P39KVGiBKGhoSxfvpz09PTrrr948WJKlSpFs2bNjOVktKhMSEigRIkSPP744yxcuJA2bdpc1Wp1VkREBA888AD169fH3d2duLg4YmNjr7l82bJlOXTokMO0y8d0Xu7enT592j7v2LFj9r8PHz7MhAkTrio077nnHsqUKUNycjLHjx8nKSmJfv362burv/76a7a5HDhwAC8vL5544gny5cuHzWbjwIED173PnTt3ZsOGDXz55Zd07NjxusuLiIiIa4iNjSUyMtLh55/qlpw6cOAA7u7uDqc3rF69OpcuXeL48eP/uO6FCxd49913eeGFFxymf//993Tu3JmgoCC6du3qcHheThgrKnfv3k3btm3Zt28fNpuNP//8kxMnTtgHt3h7e3Py5EkuXrzo1O2ULl2a48ePc/78eaKjo5kwYQKlSpWy78r29vYmLi6OhIQE0tLS6NGjBx9//DF79uzBarWyfv16OnTowB9//EGZMmWoWLEiCxYsIDk5mcOHDzsUwcWKFWPNmjWMHj2aP/74A5vNRmJiIkuWLOG3336jadOmlCpVCjc3N3bv3s2lS5dYtGgRZ8%2Be5ezZs2RkZFyVe0pKCgcOHOD8%2BfO8/fbbeHl52XfjX0u7du04evSoikoREZGb6GZ0KsPDw%2BnSpYvDT3h4uNO5JiQk4OPjg%2BWKkZWXx5vEx8f/47offfQRderU4d5777VPK1u2LOXLl2fevHns2LGDBx54gL59%2B1431pWMDNQB6NChAwMGDGDYsGGcPXuWwoUL07ZtWx5//HEAHnvsMaZPn853333H7Nmzc3uzdj179uTHH3%2BkWbNmlC5dmjFjxrB//36mT59O8eLFadmyJUuXLqV58%2BYsWLCArl27cvr0aQYNGkRiYiL33HMPs2bNsh%2B3OGPGDF555RUaNGhAxYoV6devH6%2B%2B%2BiqQdfqgpUuXMmvWLLp3705CQgLe3t7UrFmThQsXUrlyZQCGDx9uX6dXr15MmTKFJ554gl69ejFixAh77kFBQTz%2B%2BOP85z//IX/%2B/AwYMIBXX32VAQMGEBYWds1jVX19fWnevDkxMTH2Il1ERERcX3aDZYsXL56jdVetWsWLL76Y7bywsLB/bEhdi9Vq5eOPP2bq1KkO0wcOHOjw/wsvvMDatWvZsmVLjs/9bbHdSEZyy/3nP/%2BhU6dOxk7qbvJRd9nRwqDR3zfAZR9PVx0uDK6bm0Z/55rxgcwehs7PFRSUdXqi4GAzA3X%2BtifNKf%2Bi0d9NmpiPuWOH%2BZiQdR7t/v37s2/fPvuI7bNnz9KoUSPWrl3r0IW80vfff8/gwYPZuXOnwxiO7HTr1o3mzZtfVXBeS55c%2B1tyzmazsXTpUqKjo7XrW0RE5Ca6nQbqVKtWDZvNxsErTjEVERGBr6%2Bv/RSN2dm6dSv169d3KChtNhtvvPGGQ6y0tDROnjxJ2bJlc5yTikoXV6tWLT7%2B%2BGP%2B%2B9//ZnveKREREbnz%2BPv707p1a6ZPn865c%2Bc4c%2BYMs2fPpmvXrvaC8cknn2T9%2BvUO6x04cMDhVIqQdbrGU6dOMXbsWGJiYkhKSmLKlCl4enrSsmXLHOdk9DKNYl5OT8kkIiIizrndzlM5btw4Xn/9dVq0aIGnpycdOnQgLCzMPj8qKorz5887rBMXF0exYsWuijVx4kQmT55Mly5dSExMpGbNmixevJgCBQrkOB8dU3mH0jGVuadjKm8glo6pzFs6pjLXdEzlDfgXHVOZiysg59jOneZjuip1KkVERES4/TqVrkZFpYiIiAgqKp2lgToiIiIi4jR1KkVERERQp9JZ6lSKiIiIiNPUqRQRERFBnUpnqagUERERQUWls1RU3qFMnqLM09NcPA8Ps%2Bcns2Du/JJpaUbCYLGAlxekp5s7H6T3V1%2BaCeTrC40aYfnuW7hwwelw6S3bGkgqi6c7pGeae354/vG7mUBeXlCyJMTGGnmSXPQvbyApcHODggUhKcXd2Aelj4%2BZOJe5GToA6/BhM3G8vaFCBYiKgtRUMzGrmHyzBfjpJzNxrnPN5xy7fP7MOnXMnD8TXPckvnJdKipFREREUKfSWRqoIyIiIiJOU6dSREREBHUqnaWiUkRERAQVlc7S7m8RERERcZo6lSIiIiKoU%2BksFZUiIiIiqKh0lnZ/i4iIiIjT1KkUERERQZ1KZ6lTKSIiIiJOU6dSREREBHUqnaWiUkRERAQVlc7S7m8RERERcZo6lSIiIiKoU%2BksdSpvgdatW/PZZ58ZifXJJ58QEhJiJJaIiIiIKepU5lBISAgxMTG4uV1dh7/xxht06NDhmutu3LjR/ndUVBSRkZG0adPmpuQpIiIiN0adSueoqMyFkSNH0rNnT6dibNq0if3796uoFBERcTEqKp2j3d8GHD58mFq1anHw4EEAbDYbPXr0YMKECUBWl/OTTz7hgw8%2BYMqUKWzYsIHAwECsVispKSmMGzeO5s2bc//999O7d2%2BOHj1qj713714efvhh7r//fp566in%2B/PPPPLmPIiIiIv9EnUoDKleuzFNPPcXEiRP58MMPWb16NbGxsQwfPtxhuX79%2BnHkyBFSU1OZNm0akLXr/NdffyU8PBw/Pz9mzJjBoEGD%2BPLLL8nMzGTIkCG0b9%2BeoUOHcvDgQQYPHoyHR%2B4ettjYWOLi4hymFSlSnOLFA5y743cYi8VsHFPxAPD1NROnYEHH3/9mXl5m4lx%2BPebydXkt2Rxh41QcU/Fcmbe3mTiXnxKmnhouLSjITJyqVR1/3%2BbUqXSOispcmDBhApMmTXKYVqBAAX744QdCQ0N5%2BOGH%2Beyzz5g5cyYTJ06kQIEC/xgvMzOTFStWMH36dEqUKAHAsGHD%2BOijj9i3bx%2BQVRAOGDAAb29vatWqRatWrfj6669zlXd4eDizZs1ymDZw4CCGDBmcqzj/xNPTWCjjTBVvpj9ojG6zRo0MBgPuv99IGNNPC6PbrGRJg8GA4sWNhDFdzufPbzigQaZemxUqmIlzWalSJqO5mwwG7obi7dplJs5lS5eajSe3JRWVufBPx1R6eXkxfvx4evfuTYcOHWjSpMl14/35558kJSURGhqK5Yp318zMTE6fPo3FYsHX15dChQrZ51W4gXfP7t27XzVivEiR4qSn5zpUtjw9MRbLULPHzmIBm81MLFP30WL53zYzlZvXT9%2BaCVSwYFZBuWcPJCU5HS69rrli1%2BTzDMDz7GkzgTw8sgrKuDjIyHA6XJKvmWLXzS2roExONtd9uc735Fwx%2Bdr8/Xczcby8sgrKP/6AtDQzMSuUtZoJBFkFpdVQvDp1zMSpWjWroOzVC/46BMxppgveXFCn0jkqKg06deoU%2BfPnJyoqiszMzGxHil8pX758AHz66afUqFHjqvlr1qzB%2Brc3kMwbeMYHBAQQEOC4q9vkh/OdwtQH4JXxjMW8cMFQoL8kJZmP6WpMVQ2XZWQYiWn6Qy0z89//QZmaajZeWpr5mC5n926z8Q4eNB8zD/zbXys32x1wtM2tce7cOSZPnsy8efNITk7mww8/vO46hQoVonDhwhw6dMhh%2BqlTp4CsYjAxMZGLFy/a5x07dsxs4iIiIiIGqKg0ZNKkSTz44IPUrVuX0aNHM336dKKjo69aztvbm9OnT3PhwgUyMjLo0aMHc%2BfO5dixY6Snp7No0SK6du1KcnIytWrVws/Pj/fff5%2B0tDR%2B/vnnXB9PKSIiIjlzubNv8udOot3fuZDdQB2A4sWLk5iYyIYNGwB44IEHeOihhxg9ejQffPCBw7IdO3Zkw4YNPPjgg6xZs4bQ0FAuXLhAr169SE9Pp1q1asyfP5/8fx1dP3v2bMaMGcOiRYsICgqib9%2B%2BOeqCioiIiNxKFpvN9JFicjswOuDhDhmoY%2BoQPIsla0BAWpq53Ly/%2BtJMIF/frJHk335r5JjK9JZtDSSVxfhAnT8Mju4oWRJOnzbyJLnoX95AUlkDdQoWzDo81lS3xMfHTBww%2B9o8fNhMHG/vrJHkv/1m7pjKKpVcdKCOqTfboKCsgTXBweaOqczDssTPz3zM8%2BfNx3RV6lSKiIiIcOftrjZNx1SKiIiIiNPUqRQRERFBnUpnqVMpIiIiIk5Tp1JEREQEdSqdpaJSREREBBWVztLubxERERFxmjqVIiIiIqhT6Sx1KkVERERuUxEREbRq1YrHHnvsussuWbKE1q1bExwcTM%2BePdm/f799XmpqKqNHj6Zp06bUq1ePIUOGEB8fn6tcVFSKiIiIcPtd%2B3v16tUMHjyY8uWvfyWur776ipkzZ/LWW2/x3Xff8eCDD/Lcc89x6dIlAKZNm0ZkZCTh4eFs3LgRm83GK6%2B8kqt8VFSKiIiIcPsVlampqYSHh1OrVq3rLhseHk6XLl2oVasW%2BfLl4%2Bmnnwbg66%2B/JiMjg88//5zQ0FBKlixJ4cKFGTZsGNu2bSMmJibH%2BeiYShEREZGbJDY2lri4OIdpxYsXJyAgwOnY3bp1y/GykZGRtGvXzv6/m5sb1apVIyIigmrVqnHx4kWqV69un1%2BxYkXy5ctHZGQkJUqUyNFtqKi8Q3l6mokTGxtLeHg43bt3N/ICMcl0bt7eBpLiJm2ztm2NhImNjSV85kxjuRl6mt2cbZaD3UU54bDNDMQsZCAnyMprwYI747VZpYqBpMjKa%2BbMrLwqVDC1zdyNRDH%2BGrDZnI/BFc//DRtc7nl2IwxtFgczZ4Yza9Ysh2mDBg1i8ODB5m/sHyQkJODn5%2Bcwzc/Pj/j4eBISEgDw9fV1mO/r65ur4yq1%2B1ucEhcXx6xZs676FuYKXDU3V80LXDc3V80LXDc3V80LXDc3V80LXDc3V83LlXTv3p0VK1Y4/HTv3j1H665atYoqVapk%2B7NixYpc52K7TtV8vfnXo06liIiIyE0SEBBww13cTp060alTJyN5FClSxN6RvCwhIYF7770Xf39/%2B/8FCxa0zz9//jxFixbN8W2oUykiIiLyL1ejRg0iIyPt/1utVn799Vdq1apF2bJl8fPzc5h/%2BPBh0tLSqFGjRo5vQ0WliIiIyL9QmzZt%2BPnnnwHo2bMnK1euZM%2BePSQnJzN37ly8vLxo3rw57u7uPPbYY7z77rucPn2a%2BPh43nnnHVq1akWxYsVyfHva/S1OKV68OIMGDaJ48eJ5ncpVXDU3V80LXDc3V80LXDc3V80LXDc3V80LXDc3V83rTtG6dWv%2B%2BOMPrFYrmZmZBAYGArBhwwZKly7NiRMn7OehbNq0KcOHD2fYsGH8%2BeefBAYG8t5775EvXz4AhgwZQlJSEp06dSIjI4MHH3yQMWPG5Cofi83ZozJFRERE5I6n3d8iIiIi4jQVlSIiIiLiNBWVIiIiIuI0FZUiIiIi4jQVlSIiIiLiNBWVIiIiIuI0FZUiIiIi4jQVlSIiIiLiNBWVIiIiIuI0FZUiIiIi4jRd%2B1tue3/88UeOly1VqtRNzCRn4uPjKVKkSF6ncRVXzQtcOzcREcmiTqXkWlxcXF6n4CAkJIQWLVrk6CevJCUlMXr0aO6//36aNGkCQEJCAs8%2B%2Byznzp1TXrdZbq7s4MGD9r%2Bjo6NZtGgRX331VR5m5PrGjh2b1ylk67vvvsNms%2BV1GiI5pk6l5NpDDz3Ezz//jLu7e16nAsD69evtf%2B/bt4/ly5fTu3dvKlSoQGZmJkePHmXp0qX06dMnz3IcN24csbGxvP/%2B%2B/Tt2xcAT09PfHx8mDBhAu%2B8847yuo1yA9izZw%2BrVq0iJiaGOXPmkJmZyaZNm2jTpk2e5bRw4ULmzZvH999/T0JCAo899hgVK1YkJiaGo0eP0r9//1uaT%2B/evbFYLDladsmSJTc5m2vbsWMHUVFRlC1bNs9yyM7AgQPx8fGhffv2dOzYkerVq%2BdZLiEhITl%2BLLdu3XqTsxFXpaJScq1Hjx7Mnj2bfv36UbBgwbxOh3vuucf%2B99ChQ/nggw8ICAiwT6tatSpBQUE8%2B%2ByzPPTQQ3mRItu2bePLL7/E39/f/sZcsGBBXn/9dVq3bp0nOblyXq6e27Jly3jzzTdp27YtO3bsALI6%2BJMmTSI2NpYnnngiT/L68MMP%2BeCDDwD44osvKFOmDEuWLCE6Opo%2Bffrc8qLy/vvvt/%2BdnJzMqlWrqF27Nnfffbf9C9%2B%2Bffvo1avXLc3r77p27UpoaChNmzalVKlSeHg4fjR27949T/L6/vvv2bFjB5s3b6Zv374ULVqUjh070qFDh1teAF/53Pnzzz9ZtmwZrVq1cvjyvm3bNvsXQLkzqaiUXPvmm2%2BIjY1l3rx5%2BPr6XtWx/Oabb/Ios6zdfQUKFLhqup%2BfH9HR0XmQURaLxYKPj89V061WK6mpqXmQURZXzQtcO7f58%2Bczf/58ateuzZo1awAoUaIE8%2BbNY%2BjQoXlWVMbHx9u7Wd988429a1q6dGnOnj17y/MZMWKE/e/hw4czdepUmjZt6rDMli1bWLt27a1OzcGyZcsA%2BPLLL6%2BaZ7FY8qyo9Pb2pmXLlrRs2ZKMjAx%2B/PFHvvzyS7p06ULFihV57LHH6NChA15eXjc9lx49etj/7tevHzNnzqRmzZoOy/z888/MmTMnT/cKSd5SUSm55srfRIODgwkNDaVfv36ULl2ajIwMzpw5w5IlSwgKCsqzvIKCgnjrrbd4/vnn7dOio6OZOHEidevWVV7ZcOXczp49S3BwMIDDLsFKlSoRGxubV2kREBDA0aNHyZcvHz/%2B%2BCNjxowB4MSJExQqVCjP8oKszvNbb7111fRmzZrxwgsv5EFG/3M7HHMaFxdHZGQkkZGRpKWlUaJECb744gtmzZrFzJkzb%2Bmu8V27dlG1atWrptesWZPdu3ffsjzE9aiolFx75JFH8jqFa3rrrbeYOHEiQ4cOJSUlBQAPDw8aNGjAxIkT8yyvUaNGERoaygMPPEBGRga1a9fm0qVLBAUFMXXqVJfL6/7778/zYxZddZsBlC9fnu%2B//54GDRo4TF%2B7dm2enmHg2WefpVu3bthsNh555BHKli3LxYsXGTBgAF26dMmzvCCr4A0PD%2Bfxxx93mL5ixQqKFy%2BeR1n9T0pKCl9//TUxMTH2TtuZM2e466678iyn8%2BfPs2HDBtasWcPu3bupVasW3bt3p127dvYvCUuXLuXll1%2B2d8xvhXLlyjFz5kyeffZZ%2B96ExMRE3n//fcqUKXPL8hDXY7FpaJnkktVq5YMPPmDlypXExcXx008/kZSUxNSpU3nppZfw9vbO6xSBrJHCaWlp%2BPv7X3WMVF6JiIggKioKb29vypUrx7333pvXKQFZA5xOnTrlcnmBa26z9evX89prrxESEsKGDRvo2bMnhw4dYvfu3UydOjVPj/mMiYkhMTGRihUrAmCz2Vi/fj3t2rXL8UCLm%2BGrr75i%2BPDhFCxYkJIlS2K1WomJieHixYu88847tGrVKs9y27VrFwMGDMDX15fTp0%2Bzf/9%2BoqOj6dChA3PmzLnqy8OtUqNGDUqWLMnDDz9M586dr3kcZa1atdi7d%2B8ty2vv3r0MHTqUuLg4fH19sVqtJCYm4uvry%2BzZs6ldu/Yty0Vci4pKybWJEyfy448/0rdvX0aNGsW%2BfftISEhg6NCh3H333fZdbvI/zz33HO%2B%2B%2B25ep3GVfzrHp5ubG8WKFcuzgtxVt9llERERfPHFF5w8eZJ8%2BfJRtmxZunXr5jBw7FZr3bo1GzduvGr6hQsXaN26NTt37syDrP7n4sWL7Nixg5iYGNLS0ggICKBhw4aUKFEiT/Pq1q0bnTt35vHHH6dmzZr8f3t3Hk11/v8B/HkptJsWKkvrTMtMRWlR1ETfyJJJSosWTYr20TaTkkKm0jYjaZJUkylriYrR9k20ytYwSkLITTVkvdx7f3847sS9xLff3PfVvB7ndA6fzz3nPo8u933fy%2BuVnJwMoPbDw/HjxxESEsIk14MHD6Cjo8PkuT9EIBAgNTUVL1%2B%2BFP1fjhgxQmYmFQgbsjF9Q1qVyMhIBAUFQU1NDc7OzgAAZWVleHp6YsaMGUwGlXp6es16HKtDRPn5%2BUhNTcVXX33F5Pkb86EyIXJychg/fjzc3Nyk/sYvqz%2BzOl999RUGDhyIdu3aAahdqpR0sEga4uPjERcXh7y8PInbFl68eAEej8cg2d927NiB7du3w8TEhGkOSZ48eSI6jPP%2B74OxsTGcnJxYxYK9vT3i4uKkchCnpeTk/i5zbWZmBgDMD9AR9mhQSVqsurpa4j6jdu3aoaysjEGi%2BqdMZdHEiROxZs0aDB8%2BXGLJEkdHRya5jh49ikOHDmHOnDkYNmwYOBwOUlJSEBwcDHt7e7Rr1w7%2B/v5wdXWFl5eXVLPJ6s8MqC0wvmLFCmzYsEE0SAoJCcHp06dx5MgRiYcY/kldunRBeXk5%2BHy%2BxIMSSkpKcHNzk2qmhmS1FiQA9OjRAwUFBWLZUlJSmH1QAIDVq1dj9%2B7dmDdvHnr37i1WaYPVYDMzMxOrVq1Cfn4%2BBAIBUlJSkJeXh1mzZsHX1xdDhw5lkouwR4NK0mJffvkl/Pz8YGdnJ7pWUVEBT09PZrNKdYeHXr16JROb/htKSkqCmpoaXr9%2BjdevX9e7x3Kf28GDB3Hw4EH06dNHdG3w4MHQ0dGBk5MTAgIC8OWXXzKp7ymrPzOgdtZt5syZMDAwEF2zsbFBTU0Ndu7ciYCAAKnmGTp0KIYOHQoOh4OtW7dK9bmbS1ZrQQKAubk57OzsYGtrC4FAgJiYGKSnp%2BPMmTNMa2gePHgQNTU1jb6e0tLSpJyo1s6dO2FoaIg1a9aIlufV1NSwbNkyeHh44PTp00xyEfZoTyVpsfT0dCxduhRAbRHczz//HLm5uejatSu8vb0xaNAgZtm0tbXx8OHDekszpHEjRoxAbGysWLmZ0tJS6OnpITExEe/evcOUKVNw9%2B5dRillz8iRI3H//n2xmaOamhqMHj2aWVkVHo8Hb29v6Onpid7sw8PD8fTpU6xatYrpMur7A/CGOBwO0y4sQqEQ/v7%2BCAkJqbdHds6cObCysmL2IebevXtN3mdVWktbWxt3796FgoJCvUNCNTU1GDduHB48eMAkF2GPZipJiw0ePBgxMTG4fv06cnNzoaSkBE1NTejp6TE/ZT1nzhx4eXnJTLef9z158gRRUVGiIux9%2BvSBqakp0%2BVALS0tODg4YMmSJejduzfatm2LvLw8nDhxAgMHDkRNTQ1Wr17N5PTr/fv3m7w/evRoKSURp6KigoSEBLEMt2/fRteuXRmlAtzc3JCamlpv3%2BLAgQMREBAAd3d3pj2um6oF2XAmWto4HA5sbW1ha2vLNEdDTQ0aHR0dmQ0qlZWVUVJSgu7du9e7npOTw/w9gLBFM5Xkf1ZQUIDCwkIoKipCVVWV6ZtpHXNzc3C5XFF5C1np9nPp0iVs2rQJQ4YMgaamJoDagtRPnz6Fn58fsxOeb9%2B%2BxZYtWxAbG4vq6moAgLy8PEaPHo1NmzZh6NChcHJywqZNm9ClSxepZmtsX2KbNm2gpKTEdDbkwoULcHFxwfjx46Gurg6BQICsrCzcu3cPnp6ezNqBjh8/HpGRkfjss8/qXX/79i3MzMxw%2B/ZtJrneJxAIUFNTI/q%2BsLAQM2fO/OCs3D8tKioKN2/erPc3berUqczKCQG15dvOnj2L1NTUegetuFwuMjIymK0e7Ny5U7SveMWKFTh37hzS09Nx5MgR6OvrY9u2bUxyEfZoUElaLDMzE2vXrkVmZibqXj4cDgdaWlrYvXu3aNDEQlhYWJP3WRVuNzExwapVq8ROvoaGhuLs2bOiNnGsCIVC/PXXXxAKhfjjjz8QGhqKq1evSrX2XUMNTyvz%2BXxkZ2fjxIkTMDc3b/aJ/39KamoqLly4gNzcXHA4HGhoaMDS0lLqh3TeN3bsWERFRUFZWbnedS6XCxMTE6YD8SdPnmDz5s3IyMgAn8%2Bvd2/48OE4d%2B4co2TAgQMH4O/vD319fdHKQU5ODuLi4rBs2TI4ODgwyeXi4oLr169DR0cHV65cgampKdLS0qCgoAAnJydRVydpq6qqwt69exEWFiY6nKmsrAxra2usXLlSJk%2BrE%2BmgQSVpsdmzZ0NDQwN2dnbQ1NSEUChETk4OfH19kZeXh7Nnz7KOKHO0tLTw8OFDiXvwZGEPUn5%2BPkJDQxEWFoZXr17BwMAAlpaWYn2aZcG7d%2B9gZWUlsR7jv922bdvw7NkzLFmyBGpqahAKhcjKyoKvry%2BGDRvGdPnbxsYG/fr1g5GREezt7XHs2DE8fvwYcXFxOHDggNRnwt%2Bnp6eHQ4cOiRXtTkxMxKpVq5itcOjp6SE4OBg9e/YU1c8UCoXw9PSEuro65s6dyySXUCgEh8OBUCjE69evoaSkhI4dO4LP5%2BPVq1dMuxARtmjzA2mxJ0%2Be4OTJk6L6fAAwZMgQuLu7M10qAmS320/v3r2RlJQkNrPw%2BPFjdOvWjUkmHo%2BHmJgYBAUF4d69exgxYgS4XC6CgoKYzrZ9SHl5OdP%2B2kDtINzX1xeZmZkSa/Ox%2BmDl5OSEffv24YcffkBJSQkAoHPnzrC0tGRedis9PR3%2B/v5o06YN5OTkoKurC11dXQwaNAjOzs44dOgQs2wCgQDDhg0Tu/7ll1/WW6qXtqqqKtEATV5eHjweDwoKCli2bBnMzc2ZDSq1tLSQlJQEDodTb19leXk5zM3NP7gfmny6aFBJWmzQoEHIz88XtYGrw%2BVyMXDgQEapav3444%2B4d%2B8eli9fLtrXU11djczMTHh4eDDr9rNw4ULRG0Hdz%2B3Zs2e4ePEili9fLvU8rq6uiIiIgLKyMszNzbFz505oaGhAW1tbZg44SRoEVVRUICkpiekhHaD2kERFRQX09PTqfbhiTUlJCU5OTnBycsLbt28hJyfHdAbwfUpKSqioqECnTp3Qvn17cLlcqKioQFdXF%2BvWrWOabdGiRfD29sbKlSvRtm1bAH9/QF20aBGzXF988QW8vLywfPly9OvXD0FBQZg/fz4KCgpQXl4u9TxRUVGIiopCdXW1xN/P/Px8sdUY8u9Cy9%2BkWd5f/snOzsbZs2dhYWGBAQMGQE5ODllZWTh//jwWLFiAmTNnMss5fvx4Ubef90tdvHr1CjNmzGC2jAXUnn4NCQkRdTfR1NSEhYUFkw4jgwcPhqmpKdauXVtvD6y2tjbCw8NlokD1Dz/8IHZNQUEBffv2hZWVlVgZJGnS1tbGzZs30blzZ2YZJJHlE/Nbt25FSkoKfvvtN2zevBnl5eWYPXs2kpKSEB0djZiYGKnmsba2rlcqKCMjA/Ly8tDQ0ICcnBxyc3NRU1ODYcOGwd/fX6rZ6qSkpMDR0REXLlxAXFwc1q1bBwUFBVRVVWH%2B/PnYsmWLVPPk5uYiOjoa%2B/btg4WFhdh9RUVFmJmZyWxrSfLPo0ElaZbmLodyOBxmBXmB2jfNO3fuQF5evt6gsrS0FPr6%2BszqB9ap24sE1O6nZFV%2BIzY2FsHBwbh%2B/TqGDBkCCwsLTJs2DZMnT5aZQaUsmzFjBo4dOyZWUoU1WT4xz%2BPxcOzYMdjb26OoqAjfffcdUlJSRO1ex48fL9U8LekQtWrVqn8wSfNlZmYiPT0dampq0NLSYpbDz88PS5YsYfb8RHbRoJJ8UhYvXowJEybAzs5ONKisqKjA7t27kZmZyazTQ15eHjZu3IhFixbByMgIAHDixAlERUVh3759UFNTY5Lr7du3uHDhAkJCQpCVlQWBQIAdO3ZgxowZzOvNvXv3DoGBgY3uW9y3bx%2BDVLXi4uJw6tQpzJs3D2pqamLF9vv168ckl6yfmCcf1pIe7dI8ZR0cHAwrKysA%2BOBJfZbdkQhbNKgk/5M3b97gxYsXYm/2HA6H6dKHrHb7Wbp0KXr16oXvvvtOVM/zzZs3OHz4MHJycnDs2DEmud6XmJiIoKAgXL58GUpKSpg%2BfTq%2B//57ZnmWLl2KP//8E6NGjZK4b9HDw4NBqlqSZgTrTsOynq2XhPWJ%2Bfj4eLx9%2B1Zsq8fu3bthamrKrL1rnfz8fPj5%2BSE7O1viB5hTp05JLcvgwYOb3cFHmq8zY2NjXLlyBYBsd0cibNGgkrSYj48Pfv75Z7FacwD75W8AqKyslLluPzo6OoiPjxcdAqjD4/Ewfvx45iWF3ldeXo7IyEiEhIQwLQ%2Blra2NK1euQFVVlVmGxtR1RWoMq5nnxhQWFsLY2JjJ9o%2BHDx9i0aJFWLdunegDX50DBw4gICAAZ8%2BeFTv4J02WlpYQCAQYM2aMxAoR0jw535Ii8Kw66hDSGDr9TVrMz88P7u7uMDQ0ZFaipylKSkqYNm0a6xj1dO7cGVlZWfjiiy/qXU9PT5ep08MA0L59e8yaNQuzZs1imqNnz54ycxK9ocYGjQKBAPPmzWM2GJfFE/O//PIL7O3txQaUAPDdd99BXl4eXl5eOHDgAIN0tbKyshAbGysTr7fmDBT5fD7mz5/P7HW2a9curF%2B/Xuzvf0FBAZydnWVi5YWwQYNK0mLt27eHiYmJTHZNiI2NxZ49e5CdnS1xbxKrWVQbGxvY2trC1NS0Xlu/S5cuMS%2BnIqu2bNkCd3d3LF26FOrq6mJLgixff6WlpTh8%2BDBSU1NF7S0BoKioqEV74v6/SfqZdOzYEUuXLhXth5O2lJSUJrcq2NjYSDxJLE2jRo1Cbm6uzNVnldXXWXJyMkxMTODq6io6YHXq1CkcPHhQtGec/DvR8jdpsbCwMKSmpmLZsmUytzQ5efJk6OvrY%2BLEiRJnUfX19RmkqhUTE4PQ0NB6bf1mzpzZ5P6kfzMdHR1UVFRAIBBIvM9ym8X69euRlZUFfX19HD9%2BHHZ2dvjjjz9QVFSEffv2oW/fvsyyyRptbe0ml90FAgFGjRrFtDJDYWEh7OzsMHz4cKiqqop9gGF1%2Bvv915mvry%2BWLVsmM6%2BzCxcuYP/%2B/Rg7dixycnJQWVmJbdu2iXUlIv8uNKgkLRYTEwMXFxe8fv1a4n3WJYXi4%2BOZn1wmH%2B9De8tY7icbN24crly5AmVlZVH7PAA4efIkSkpKsHr1aqllkVTPszEsDjeZmJjA09MTQ4cOlXj/7t272L59u%2BgQCAv29vaIi4tD//79xT6McjgcZsvMsvQ6kyQoKAjOzs5o3749jh49SvUpCS1/k5bbsWMHDAwMGp0NZOmbb75BREQEvvnmG9ZRRC5duoQBAwaITp7Hx8fjwIEDqKiogKGhIdauXdvs057/Ju8PGt%2B%2BfYvPPvuMYZr6hEKhqPh627ZtUV5ejvbt22P27NkwMDCQ6pv9%2B6eVBQIBbt68CXV1dfTr1w8CgQCZmZkoLCxkts/YzMwMLi4uOHr0qNj/YX5%2BPpycnDBjxgwm2erEx8cjIiKiXiMAWSBLr7P3ZWRkwNXVFa9fv8bp06eRm5uL1atXw8DAABs2bJCp31UiXTSoJC1WVVUFZ2dnmZwNnDdvHpYsWQJvb2%2BJy1jSLA0C1H6S9/DwEBVafvPmDVasWIExY8Zg2rRpCAgIQJcuXWBrayvVXK1BWVkZdu/ejfDwcNTU1CA1NRV//fUXNm/eDA8PD1FpJhaGDRuG7du3w9nZGYMGDYKPjw9sbW2RmJjY6HL9P2X//v2ir3fu3ImtW7eKdbU6c%2BYMnj59KtVcdZYuXYo7d%2B7A0NAQxsbGosHukydPEB0dDR0dHdjZ2THJVmfgwIEycUinIVl6nb1v9uzZWLJkCezt7aGgoAAdHR1MmjQJu3btgrGxMe7evcssG2GLlr9Ji3l5eUFFRQWzZ89mHUWMubk55OXlZaI0CABMnz4d69atE%2B2bPH36NI4ePYqbN29CXl4ejx49grOzMy5evCjVXK3B5s2bweVysXLlSixZsgTJyckoKyuDs7MzhEJhvcGUtOXk5GDbtm04duwYkpOTsXz5cpSXl0NOTg6Ojo749ttvmeRqbPsH69JVfD4foaGh%2BP3330V7ivv06QMjIyNYWFgwn6m/dOkSzp49C3Nzc6iqqooVs2dVNF7WXmeXLl2CiYkJnjx5gs8//1ziYwwNDalO5b8YDSpJizk4OCAhIQGKioro2bOn2B9g1rUNb9%2B%2Bjfbt2zPL8L4RI0YgISEB8vLyAGr3bvXo0QOurq4Aat9sR40ahcTERIYpZdPYsWNx%2BfJldO3atV7LzZKSEhgZGSE%2BPp5xwr%2BVlJTg2bNn6NWrF9PDawYGBti6davY4a%2BbN2/CxcUF169fZ5QMePXqFXr06MHs%2BZvS1KlvWai9W4f16%2Bz930MA0NXVFfs9bPgY8u8ie%2BuXROZ9%2BeWX%2BPLLL1nHkEhPTw/Pnj1j3qGjjoKCAgQCAeTl5SEUCvHo0SNs2bJFdF8gEIgNykktDoeDjh07il3n8/kSu57807Kyspq836VLF5SXlyMrK4tZm0Z7e3usXLkSQ4cOhbq6Ovh8PgoKCpCWlgYnJycmmepMnToVDx8%2BlMnXe3p6OusIYsrLy8Hn80V7KisqKhAZGYmKigpMmjSJyaCy4RxUWVmZ1DMQ2UaDStJirMprNMfQoUOxZs0aaGtro1evXmJvYI6OjlLN07dvX9y/fx/jx4/H1atXUVpaWm8pLTk5Gb169ZJqJllXUFCAXr16QVtbG3v27MGGDRtE9/Ly8uDu7s7k5Pe0adNErRglkYU2jbNnz4aOjg6uXr2KwsJC8Hg8DB48GNu3b8fw4cOZZKozZ84c/Pzzz1i6dKlM7l8Ean8fX758ialTpwKo3T/O4jBiRkYGFi9ejO%2B//x7Tp0%2BHQCDAwoUL8fTpU6irq%2BPQoUM4ceIERo4cKdVcDbcpsN62QGQPDSpJi9UdOmkMy0FnXFwc1NTUwOVyweVy691j8QfQxsYGa9aswahRo/DgwQNYWFigW7duAGrfwLZt2ybWD/nfztjYGElJSdi6dStWrlwJHR0d1NTUYNSoUSgvL4e2tjb27dsn9VytZZ9Y//79oaGhAS6XCw6HA1VVVdH2C5ZiY2PB5XLxyy%2B/oHPnzmKZYmNjGSUDMjMzsWrVKuTn54PP5yM1NRV5eXmYNWsWfH19Gy2H9E85cOAAjI2NRX8bbty4gbS0NERERKBv3744deoUDh8%2BjOPHj0s1FyEfQoNK0mK3bt2q9z2fz0deXh6EQqHUPzk3dPr0aabP35CFhQUUFRURHx%2BP1atXY968eaJ7MTExGD58OOzt7RkmlD11M4Fqamo4f/48kpOT8eLFCygqKkJTU7PRAwL/tOb08y4vL8fUqVOZDZCKi4vh4uKCmJgY1NTUAAAUFRVhZmaGbdu2MS0BtmTJEmbP/SE7d%2B6EoaEh1qxZI6q1qKamhmXLlsHDw0Pqf1cePHiA33//XXTg6saNG5gwYYKo2LmlpeUHP9wTwgINKkmLnTt3TuyaQCCAj4%2BPTLRufPLkCaKiopCXlwcA6NOnD0xNTaGhocEkj7GxMYyMjMRmSh0dHcHn8/Hq1Sv07NmTSTZZ1PDnNHz4cOZLtw0VFhbC3d0dqamp9drllZWVQUVFhVmuHTt24NWrV/Dy8kKfPn0A1M7C%2Bfj4wNPTk%2Bm%2BSkm1KGVlT3FycjKOHTsGBQWFeq8/GxsbJoM3Ho8HZWVl0ff37t3DrFmzRN937NiRyb5iPp%2BPwMBA0Qe/ht/XXSP/XjSoJP8v5OTkYGdnh0mTJmHp0qXMcly6dAmbNm3CkCFDRIWMo6Oj4e3tDT8/P2YdH7S0tCSeiCwvL4e5uTnu37/PIJVs4vF4mDNnzgcfx7LKwLZt2wDUHozZuXMnXFxc8PjxY6SlpeHw4cPMct26dQtRUVH1anj27dsXX331FebMmcNsUOnl5QWhUChWrHvu3LmYMWNGs/6//0nKysooKSlB9%2B7d613PyclhUo%2B3e/fuePHiBdTV1ZGbm4vs7Gzo6uqK7hcUFKBLly5Sz6WiogIfH59Gv6%2B7Rv69aFBJ/t/cv39ftOTGipeXF/bs2SO2TzE0NBR79uxBYGCgVPNERUUhKioK1dXVEmtk5ufny8R%2BN1kiJyfHrC5gcyUmJuLmzZto164d3N3dYWVlBSsrK0RERODnn3%2BGi4sLk1zy8vJo166d2PXOnTujvLycQaLa372TJ09i7969YvdWr14NR0dH9O7dGxMnTmSQrtbkyZOxZs0arFixAkKhEGlpaUhPT8eRI0dgamoq9TwGBgbYvn07Zs2ahV9//RUDBw6st6/zyJEjGD16tNRzXbt2TerPSVoXqlNJWkzSG35lZSXKysqwePFibN68mUGqWlpaWnj48KHYQK2mpgbjxo2TevHn3NxcREdHY9%2B%2BfbCwsBC7X7ffjXrm/q011LkbP348rl%2B/DkVFRYwZMwbR0dFQVlYGj8fDhAkTmM08r1ixAl26dMHGjRtFs5Vv3ryBp6cnuFwufH19pZ5p9uzZWLx4caMH0iIiInDu3Dmm%2B6Grqqqwd%2B9ehIWFicrkKCsrw9raGitXrpT6tp7S0lJs2LABcXFx6NevH3bv3i2qpenu7o6LFy8iICAA/fv3l2ouQj6EBpWkxUJDQ8X2vSkqKqJPnz7M61eamJjAzc1N7MBQUlISNm3ahKioKCa5/Pz8ZPqggiwZPnw4kpOTWcdo0po1a1BRUYGffvoJq1atQvfu3bFgwQIkJibCx8eH2UGdwsJCODg4IC0tDZ07dwZQWzB7wIAB8Pb2ZtLbevTo0bh16xaUlJQk3q%2BsrMSkSZNkorWfUCjE69evoaSkJLFGqix48uQJunXrxrRNKSGNoeVv0mKWlpasIzRq4cKFWLZsGczNzTFgwAAAwLNnz3Dx4kUsX75cqlmCg4NhZWUFAOjQoYPEA051rK2tpRVL5rFY1mupHTt2YO/evWjTpg2%2B//57LF%2B%2BHOHh4WjXrh127NjBLJeqqipCQ0ORnp6OFy9egMfjQUNDA8OGDWOWic/nN7kvkcPhoLq6WoqJ/pafny/xOo/HQ0lJiej73r17SyvSB7GqfkBIc9BMJWm2H3744YOP4XA42LVrlxTSNO7atWsICQkRvalqamrCwsJC6vUgjY2NceXKFQAQa5v3Pg6H02pqIBJxxcXFiIiIQGlpKYyMjERlX1iwt7cXOzjB2pw5c7Bs2bJGfweCgoIQFBQk9f3OQG17xvdXXSS9HUq7mH3DTE2RlfaRhNShmUrSbE3V6aupqUFISAiKioqYDirv3bsHAwMDsTewqqoqXL58GdOmTZNalroBJUAb3D8VXC4Xzs7OyMrKgrm5OebNm4dvvvkGbdu2BQD88ssvOH78OLS0tJjky8/PR2pqqsy0KQVqy/I4OzujTZs2YodxIiMjsWvXLuzcuZNJtsmTJ%2BOPP/7A%2BPHjYWxsDH19feYljo4dOyb6Ojs7G%2BfOnYOlpSX69u0LgUCAp0%2BfIjw8nGmVDUIaQzOV5KPduXMHbm5ukJeXx7Zt25geOmnskAeXy8V//vMfqR4AOX/%2BfLMf%2B8033/xjOcj/n/Xr1%2BP169f4z3/%2Bg/DwcHTo0AE6OjpYsWIFAODEiRO4efMm/P39meTz9PTEpUuXMHz4cPTu3Vts2VnabUrrHDx4EEePHoW6urpocJSZmYmioiLY29sz7cJVUlKCqKgoREREIDMzE0ZGRpg%2BfTpGjBjBLFMda2tr/Pjjj2K95DMyMuDk5ISgoCBGyQiRjAaV5H9WWFgIDw8PxMfHY82aNZg7dy6zT/n%2B/v7w9fXF69evRW0Q31daWgo1NTVERkZKLVPDU/IlJSWorq5G586dIRQKUVJSAiUlJaiqqjI7QERaRk9PD2FhYejRowdyc3MxdepU3L9/X3Sog8fjQU9PD/fu3WOSb8GCBY3e43A4OHXqlBTT1JeVlYWYmBi8ePECHA4Hffv2haGhIbOmBJIUFhbi8uXLiIiIQHFxMczMzGBubs7slLW2tjbu3Lkj1gmpsrISurq6ePToEZNchDSGBpWkxWpqauDn54ejR49i2rRpcHR0ZH4SUSAQ4PHjx5g7dy5cXV3F7isqKkJXVxefffYZg3S1%2B8YeP36MtWvXijJwuVwcPHgQ2tra9bplENmlpaWFxMRE0ffDhg1DSkpKvce0hpJIsqK4uJhJEe/miIiIwIEDB/Dy5Us8fvyYSYa5c%2BdCXV0dy5cvh5qaGvh8PgoKCuDn54fMzEwm%2B1AJaQoNKkmL3L59G66urujYsSOcnZ1lrn1ecnKyWCZZeOOaNGkSoqKixMqqlJaWwsTEBP/9738ZJSMt0XDAKGkAyWpQ%2BeLFC9y6dQvy8vKYNGkSVFVVpZ6hKY8fP8a2bdsQGhoKAFi7di2ioqLw2WefwdvbG9ra2owT1i4rh4eHIzIyEh07doS5uTmmT5/OrI1qdnY2Nm/ejMTERNHhHaFQiIEDB%2BLQoUOiCheEyAo6qEOabdWqVUhISMB3330nszNr8vLysLS0lLk3rsrKShQUFIjtjXr9%2BjWTHr7kfyOrvY/v37%2BPZcuWQUVFBXw%2BH7t374a/vz/TUkINubm5YcqUKQCAmJgYPHz4ENeuXUNCQgL27t2LgIAAJrlevnyJ8PBwXLx4EW/evIGpqSm8vLyY19wFgD59%2BuDs2bMoKipCYWEheDweVFRUmjw0SQhLNFNJmq2uowMAiSUvhEKh1MtvNDR37lzo6%2BtjxYoViImJgYuLCwIDA5GQkICAgABmb1yurq6IioqCubk51NXVRctYkZGR%2BPrrr5mdfiUt01RpqPdJ%2B7S/jY0NDA0NYWtrCwA4fvw4bt26xezAkCSjRo3C3bt30aZNG/zwww/o1KkTtmzZAqFQiDFjxjDpQrRgwQI8f/4c%2Bvr6MDY2hp6eHvPT3w1VVlbi%2BvXrePnypej/9%2BXLl8xmTwlpCg0qSbPl5eU163EsP0XL4hsXUDt7FRwcjJiYGLx8%2BVI04zBx4kQsXrxYVJKGkP/F6NGjERsbKzrQUV5ejsmTJ8tEl5o648ePx9WrV6GgoIBJkyZh79690NXVRVlZGSZOnIiHDx9KPZOsf1BOSEiAg4MDOnfujIKCAqSmpiIvLw9mZmbw9vaGrq4uk1yENIaWv0mz1Q0W16xZg/Hjx0NXVxd9%2BvRhnKo%2BRUVFVFdXg8Ph4NatW9i7dy%2BA2jdZgUDALJe8vDysra2pcw75R/B4vHonhNu3b4/KykqGicRNnDgRa9asQZs2bdCxY0eMGzcO1dXVOHDggFhbVWmR9aYDHh4eWLNmDebPny/aK66mpgZ3d3d4enoiJCSEcUJC6qNBJWmxAQMGIDIyEh4eHujatSvGjRsnGmR2796daTZZfOOqExkZiQsXLoDL5eL8%2BfPg8Xg4ffo0lixZ0uwOGoS0Vi4uLjh58iRKSkqwdetWUXvGrKwsuLu7M8kkaVXl7du3zKpENPTkyRPRB9H3/0YYGxvDycmJVSxCGkWDStJia9euBQBUV1cjNTUVDx48QGRkJHbv3o3PPvsMFy9eZJbNxcUF/v7%2BePfuncy8cQGAt7c3zp07B2tra1EbvZKSEpw/fx7v3r3DunXrmGUjrV9jB4YaXmM5U66kpITly5fXu9a%2BfXscP34cjo6O2L9/P6NkQFlZGXbv3o3w8HDU1NQgNTUVf/31FzZv3iz68MxCjx49UFBQIFbLMyUlRVQblRBZQoNK8lEEAkG9k7Cst%2BgqKSnB3t6%2B3rW6Ny6Wzp07B19fX3z%2B%2Bec4evQoAKB79%2B7w9vbGwoULaVBJPoqKiopYz%2B%2BG1zgcDtNBJZ/Px9mzZ5Gamgoejye6zuVykZGRwSwXAOzcuRNcLhe%2Bvr5YsmQJAKBt27bo2LEj3NzcmA14zc3NYWdnB1tbWwgEAsTExCA9PR1nzpzBvHnzmGQipCl0UIe02L59%2B/Dw4UNkZWVh0KBB0NLSgra2NrS1tdG5c2em2RYsWNDkUjKrjiIjR45EQkICgPp1DKuqqjBmzBgqlk0%2BeS4uLrh%2B/Tp0dHRw5coVmJqaIi0tDQoKCnBycmK6PWXs2LG4fPkyunbtWu/3s6SkBEZGRoiPj2eSSygUwt/fHyEhIcjJyYGSkhI0NDQwZ84cWFlZ0bYZInNoppK0mL%2B/P9TV1WFjY4MxY8ZgxIgRUFBQYB0LQG3Hk/fx%2BXzk5uYiMTERNjY2bEIB%2BOKLLxAeHo7p06fXu%2B7n50cFjMlH0dbWRkJCAjgcjkx384mJiUFwcDB69uyJ33//HXv27IFQKISnpyf%2B/PNPpoNKDocjcTmZz%2BczrSObl5cHW1tbUSmhOjweD0lJSWJ/7whhjWYqSYtVVVUhMTER9%2B/fx4MHD/DHH3%2Bgf//%2B0NHRwahRozB58mTWEcXExsYiPDwce/bsYfL88fHxWLlyJb744gskJydj0qRJyMjIQHFxMby9vTFmzBgmuUjrZ2RkBGVlZairq%2BPy5cuYNm1ao4/dt2%2BfFJPVN3r0aFFJL21tbdy9excKCgooLi6Gubk5065SDg4OUFNTw4YNGzB27FgkJSUhLy8P7u7uEAgEYlsLpKWxDwnFxcX4%2Buuvqfc3kTk0qCQfjcfjITQ0FCdPnsTz58%2BZFj9vjEAggI6OjmgJmoXCwkJERESIlrE0NTVhamoKZWVlZplI6/fkyRMEBgaitLQUFy5cgIWFRaOP9fDwkGKy%2BubPnw9dXV0sX74c1tbWmDlzJubPn4/09HTY2NjgwYMHzLLl5%2BdjxYoVePr0KWpqatChQweUl5dDW1sb%2B/btQ69evaSaJygoCMHBwUhJSZHYCpfL5UIoFOL69etSzUXIh9CgkrRYaWkpkpKS8OjRIzx69AhJSUno1q0bxo4di7Fjx8LU1JRZtqysLLFrlZWViI6ORlhYGG7cuCH9UACOHTsGOzs7Js9N/j02b96M3bt3s44hUUpKChwdHXHhwgXExcVh3bp1UFBQQFVVFebNmycTJXKSk5Px4sULKCoqQlNTE59//jmTHMXFxYiPj8f69evh4OAgdl9RURFTpkwRa/tKCGs0qCQtNnToUPTs2VM0iBw3bpzMtAwbPHgwOByO6BR63dedOnWCi4sLswGvnp4ewsPDmZUmIf8OAoEASUlJyMnJAYfDwYABA2Sih7Ukz549Q1paGtTV1TFixAimWezs7GBqaoopU6bIVKmeK1euwNjYWOK9gIAAOgFOZA4NKkmL5ebmQkNDA9XV1eByueBwOFBVVYW8vDzTXDweD4WFhWK9ewsLC/HVV18xPUzk7%2B%2BPq1evwsTEBL179xb7Wenp6TFKRj4VsbGxcHZ2Rn5%2BPjp16gQAePfuHfr06QN3d3fo6OgwyWVgYNCsU8osu9u4ubnh2rVrKCoqgr6%2BPkxNTTF58mS0a9eOWaY6GRkZePz4cb0yTIWFhThx4gTtqSQyhwaVpMVKSkqwfft2xMTEoKamBkDtcoyZmRm2bdtWr12ctBQXF2PevHkYMWIEdu3aVe%2BepaUlOnTogOPHjzMbWL7fY7ghlr2FyachJSUFCxcuFP3r1q0bAKCoqAhnzpzByZMnERAQ0OTr8J9y9uxZ0ddCoRDu7u7YunWr2OPmzJkjzVgSpaamIiYmBr///jvy8/MxadIkmJmZYcqUKUzy/Pbbb3B1dUW3bt1QVFQEVVVVcLlcqKmpYf78%2BVi8eDGTXIQ0hgaVpMUcHR3B5XJhZ2cn6v2dmZkJHx8faGlpMdkb5e7ujvT0dPj4%2BKBDhw717lVUVMDOzg66urpYuXKl1LPVzaA27IqRkJCA4cOHo00bquxFPs7KlSsxevToRgcZ3t7eSE9Px08//STdYBLIctmj9yUnJ2PPnj14%2BPAhsw99U6ZMgZubG8aNG4fhw4cjOTkZr169gru7O2xsbJjNPhPSGLkPP4SQ%2Bm7duoWffvoJkyZNQt%2B%2BfdG3b18YGhrCy8sLMTExTDJdv34dTk5OYgNKAGjXrh2cnJwQEREh9VzFxcWYMWMGjhw5InbPzc0Ntra29Za1CPlfPHz4EDNnzmz0/oIFC3Dv3j0pJmqdCgoKcPr0aSxatAjz5s1DdXU1Nm3axCzP69evMW7cOACAnJwchEIhevTogY0bN2LHjh3MchHSGBpUkhaTl5eXuNeoc%2BfOKC8vZ5Co9o/voEGDGr0/ePBgvHz5UoqJanl5eaFr164SZ2/PnDkDoVCIY8eOST0X%2BbRUVVWJ9lFK0qlTJ1RWVkoxUety%2BPBhWFpawtDQEBcvXsTXX3%2BN6OhonDt3TqzwuDT17t0bd%2B7cAVDbB7yu7FKnTp3w4sULZrkIaQwNKkmLjRw5Ejt37sSbN29E1968eQNXV1d89dVXTDK1b98eb9%2B%2BbfQ%2Bl8tlsuleVmdQyadFRUUFmZmZjd5PT09Hjx49pJiodbl58ybMzMwQExODwMBA2Nraonfv3qxjYfny5fj222/x7t07zJw5Ew4ODrC3t4eVlRVGjRrFOh4hYmgzF2mx7du3w8HBARMmTBD1%2Bi4pKcGAAQPg7e3NJJOuri78/f3h6Ogo8f6ePXtEy0jSJKszqOTTMnXqVHh4eMDHx0dsjy6Px4OzszOmTp3KJNu5c%2Bfqfc/n8xEYGIiG2/mtra2lGQvV1dVo27YtAODXX38VXZe0HYXVAb/p06dj5MiR6NSpE%2Bzt7dGtWzekpKRg5MiRmDt3LpNMhDSFDuqQ/1l6ejpevHgBHo8HDQ0NDBs2DFwuFyoqKlLPkpWVBSsrK0ycOBHz589Hv379wOfz8fTpU/j5%2BSEpKQmBgYFSLxY8YcIEXLx4sdH6lIWFhZgxYwbi4uKkmot8WkpLSzF37lyUlZXB2toaffr0AZ/PR2ZmJoKCgtCtWzf8%2BuuvTGowGhgYfPAxHA5H6iWF3j8wVFfftjFUnYGQ5qFBJWm28vJy7N69W3QYZ/r06di4caOoLmRgYCD27t0r6u8rbWlpaXB1dUVCQoLoDUIoFGLMmDFwcnJqcsbwn7Jhwwb07t270RnU9evXQygUYv/%2B/VJORj415eXlOH78OKKjo5GTkwMA6NevH4yNjbF48WIoKSkxTihbHjx4IDo9/aFDTGPGjJFGJDF//PEHfv75Z2RnZ6OqqkrsPsvanoRIQoNK0mw//vgjbt%2B%2BDTs7O/B4PPj6%2BsLMzAzTp0%2BHk5MT/vzzTzg6OjKvN/fmzRvk5uaCw%2BFAU1OTaW9tWZ1BJYT8zcnJCe7u7mLXS0tLsXnzZhw%2BfJhBKmDatGlQV1eHnp6exPq/rP/WEtIQDSpJsxkaGuKXX37BgAEDANTODC5cuBA1NTUwMDDAli1bREWXyd9kcQaVfJr4fD6uXbuG58%2BfS5zZWrVqFYNUsis3NxfPnz/HihUr4OPjI7bPMzs7G3v27GFWV3PkyJG4c%2BcO025ghLQEHdQhzVZUVCQaUAK1%2B5AqKipw9OhRTJgwgWEy2TZkyBAEBATI1Awq%2BTStW7cON2/eRP/%2B/cVmtjgcDg0qG6grCF9dXY1vv/1W7L6ioiLT2UADAwM8fPgQurq6zDIQ0hI0U0maTVInjNbSHYOQfwNtbW2EhYWhb9%2B%2BrKO0KhYWFrhw4QLrGGJevnwJGxsbaGhoQFVVVewwkYeHB6NkhEhGdSoJIeQTQTPg/5sLFy4gPj4ez549E1178OABbt%2B%2BzTAV8N1336Gqqgrt27cHj8dDVVVVvX%2BEyBpa/ibNJqm%2BnKRr0q43Rwip5e7uDicnJxgbG0NFRUVUmaHO6NGjGSWTbadPn8ahQ4fw888/o3///gBqW6xu2bIFq1evho2NDZNcaWlpuHbtWqMlyQiRNbT8TZpNVuvNEUJqHTp0SOKBE6D2d5PqLUpmYGAAb29vDB48uN71jIwMODg4MPubtnDhQri5uUFTU5PJ8xPSUjRTSZrt2rVrrCMQQppw8uRJ/PjjjzAwMJBYgoZI9vbtW9EM5fvU1dXrtaOVNhMTE6xatQqTJ09Gz549xWaeaVWIyBqaqSSEkE%2BEgYEBLl%2B%2BTAPKFvr222/x%2BeefY%2BXKlejUqROA2moXBw8exIsXL%2BDv788kV1OrQ7QqRGQRDSoJIeQTce3aNcTHx8PGxgY9e/YUOy1M9Q4ly83NxerVq5GRkYGOHTtCIBCgrKwMQ4YMwZEjR6Cqqso6IiGtAg0qCSHkEzFq1ChUVFRI3FMJUA/rD0lLS0NOTg7k5OSgoaEhtsdSGrKzs9GnTx8AtR25mkKduIisoUElIYR8ImS1h3VrVFpaisjISISEhCAwMFBqzzt8%2BHAkJycDqG0wweFw6OAVaTXooA4hhHwiaND48e7du4eQkBBER0ejQ4cO%2BOabb6T6/FeuXBF9TXsmSWtDM5WEEPKJWLBggdg%2ByvedOnVKimlaj8LCQoSFhSE0NBRcLhfV1dVwc3PD9OnTIS8vzyyXra0tTpw4IXa9tLQUCxYsQFhYGINUhDSOZioJIeQToaWlVe97Pp%2BP3NxcJCYmMivgLcuioqIQHByM%2BPh4jBw5Evb29pg6dSr09fWho6PDbED5%2BPFjpKSk4P79%2B2LNJQAgJycHz58/Z5KNkKbQoJIQQj4R69evl3g9NjYW4eHhUk4j%2B9auXQtTU1PExMSgZ8%2BerOOIvHv3Djdu3EBNTQ18fHzE7ispKWHt2rUMkhHSNFr%2BJoSQT5xAIICOjg4SEhJYR5Ep%2B/fvx/nz59GmTRuYm5tj%2BvTpGDBgALS1tREeHg4NDQ2m%2BRwcHHDkyBGmGQhpCRpUEkLIJ0JSCZrKykpER0cjLCwMN27ckH4oGScQCHDjxg0EBwfjv//9L7744gtkZGQgKCgIQ4YMYZpNKBTi2rVrMDQ0BACkpKTgwoUL6Nu3L%2BbNmyfWYYcQ1mhQSQghn4jGStB06tQJ27dvh5mZGaNkrUNRURFCQ0MREhKCvLw8TJw4EVZWVk12tvkneXp6Ijo6GtHR0Xj58iVMTExgZGSE58%2BfQ0tLC5s3b2aSi5DG0KCSEEI%2BEXl5eWLXFBUV0bVrV5rVaqF79%2B4hKCgIMTExePToEZMM%2Bvr6OHPmDDQ1NeHt7Y0HDx7Az88Pr1%2B/xsyZM2nmmcgcOqhDCCGtnIGBQZOlhIDaYtkxMTFSStT68Pl80WlvgUCAjh07YsuWLdi%2BfTuzTKWlpdDU1AQA3L59G6ampgCAbt264a%2B//mKWi5DG0KCSEEJauR9//LHRe7m5uTh48CBqamqkmKh1iY2Nxffff4/Y2FjU1NTAxsYGf/75J4DawzyTJ09mkktDQwN37txB%2B/btkZycjAMHDgCo3VvZrVs3JpkIaQoNKgkhpJWT1EmHx%2BPBx8cHJ06cgKWlJZWgaYKnpyccHR0BAJGRkSgqKkJcXBxSU1Ph4eHBbFDp6OgIBwcH8Hg8ODg4QEVFBcXFxVi%2BfDlWrFjBJBMhTaFBJSGEfGJiYmKwa9cu9OrVC7/99hsGDx7MOpJMy87OxowZMwAAN27cgKmpKdq1a4fRo0czKTJ%2B6dIlmJiY4Ouvv8b9%2B/dRVVWFDh06AAC6dOmCw4cPIzg4WOq5CPkQ2rlNCCGfiOzsbCxduhQ7duzA2rVrcebMGRpQNkOHDh1QUlKCyspK3L59WzQz%2BfbtW7RpI/25lx9%2B%2BEH0dZs2bTBlypR697W1tRERESHtWIR8EM1UEkJIK1dZWYnDhw/jzJkzsLa2xsGDB9GxY0fWsVoNMzMzLFq0CPLy8ujXrx%2B0tLRQWVmJ7du3Y8KECVLP07AoS1lZ2QcfQ4gsoEElIYS0ckZGRqiursbGjRsxcOBApKWlSXzc6NGjpZysddi8eTMiIyNRUlIiquUpJycHZWVlbNy4Uep5Gp7kl3Sy/0On/QlhgQaVhBDSysnLy0NeXh7Hjh1r9DEcDgdXr16VYirZt3//frFrvr6%2Boq%2BVlZVx7Ngx0SEeQkjTaFBJCCGt3LVr11hHaJWaU9ScZgQJaT4aVBJCCPlXOn36NOsIEvH5fAQGBor2TTb8vu4aIbKG2jQSQgghMqS5vcZphprIGhpUEkIIIYSQj0Z1KgkhhBBCyEejQSUhhBBCCPloNKgkhBBCCCEfjQaVhBBCCCHko9GgkhBCCCGEfDQaVBJCCCGEkI9Gg0pCCCGEEPLR/g%2Buana5h8MTHQAAAABJRU5ErkJggg%3D%3D\" class=\"center-img\">\n",
       "    <img src=\"data:image/png;base64,iVBORw0KGgoAAAANSUhEUgAAApUAAAJKCAYAAAB9Ob5dAAAAOXRFWHRTb2Z0d2FyZQBNYXRwbG90bGliIHZlcnNpb24zLjUuMSwgaHR0cHM6Ly9tYXRwbG90bGliLm9yZy/YYfK9AAAACXBIWXMAAA9hAAAPYQGoP6dpAAC%2BCklEQVR4nOzdeVxUZfvH8c%2BALCqKoqC5ZWqiKRqa%2Bxrq475kmkuPZVlWuKJl9WTmXpamj2tmuVUaluZervmzxbJyQxT3EkkBE1SQdZjfH%2BQ8TmKCc6tjft%2BvFy/gLNfc5z6zXHOdc59jsdlsNkREREREnOB2uxsgIiIiInc%2BJZUiIiIi4jQllSIiIiLiNCWVIiIiIuI0JZUiIiIi4jQllSIiIiLiNCWVIiIiIuI0JZUiIiIi4jQllSIiIiLiNCWVIiIiIuK0fLe7ASJy99i3bx8rVqxg9%2B7dnDp1ipSUFLy8vAgICKB69eq0a9eOkJAQLBbL7W6qiIjkkUX3/haRm81mszFhwgQ%2B%2BugjAHx9falcuTI%2BPj4kJSVx8OBBkpKSAHj44YeZPn06np6et7PJIiKSR0oqReSm%2B%2BSTTxg7dize3t6MGTOGjh074u7ubp%2BfmprKp59%2ByqRJk8jKyqJ///4MHz78NrZYRETySudUishNt3TpUgCeeOIJunTp4pBQAnh7e9O3b1%2BeffZZAD7%2B%2BGNSU1NveTtFROTGKakUkZvu5MmTAAQGBv7tcn379uWDDz5g06ZNeHt7A/DKK68QGBjIpEmTSE5O5s033yQkJISgoCDq16/PwIEDOXz48DVj7tixg4EDB9K4cWOqV69O/fr16du3L2vWrLnmOomJiUydOpUuXboQHBxMtWrVaNiwIc8//zw//vhjjuuEhIQQGBjI9u3b2bRpE%2B3atSMoKIhffvkFgBkzZhAYGMgrr7xCeno6M2bMoHXr1tSoUYNmzZoxbtw4Ll26BMCRI0cYPHgwjRo1IigoiI4dO7J69eocHzclJYV58%2Bbx2GOP8dBDD/HAAw9Qr149nnrqKTZt2pTjOn369CEwMJClS5eSnJzM1KlT7W2pU6cOzz77LPv3779m/4iI5ERJpYjcdH5%2BfgDs2bPnuss1adKE4sWLXzUvOTmZvn37snTpUooWLUqdOnWwWq1s2rSJ7t2755gETZ06lb59%2B7Jp0yZ8fHyoV68efn5%2B7NixgxdffJGhQ4ditVod1omPj6dr16689957HD9%2BnAceeID69evj6enJ119/zZNPPsny5cuvuQ3Hjx8nLCwMDw8P6tevb0%2BOr/TSSy8xf/58Spcuzf33309cXBwff/wxL7/8MocPH6ZXr15ERUVRpUoV/P39OXz4MC%2B99BLbtm1ziJOSkkLv3r2ZPHkykZGRVKxYkQYNGuDr68v333/PwIEDmTFjxjXbmp6eTt%2B%2BfVm0aBH33HMP1apVw2q1sn37dvr06WP/MiAikis2EZGb7OWXX7ZVrlzZFhgYaJs0aZItNjY2z%2BvWqlXL1qFDB4d1L1y4YOvWrZutcuXKtm7dujmst3HjRlvlypVtderUsf34448O83bu3Glr2LChrXLlyrYFCxY4zBs/frytcuXKttatW9vOnj1rn56ZmWmbMGGCrXLlyrbatWvbkpKSHNZ7%2BOGHbZUrV7aFhITY5syZc9V2TJ8%2B3Va5cmVb48aNbZ06dbLFx8fb523atMneP23atLHNmDHDlpWVZbPZbDar1WobMGCArXLlyrZ%2B/fo5xFywYIGtcuXKtvr169tOnDiR47yqVavaTp486TDv3//%2Bt61y5cq25s2b23r37m37448/7PPi4uJsjRo1slWuXNk2ceLEq7ZDRORaVKkUkZtu6NCh3HPPPdhsNj788EOaN2/Ov//9b6ZNm8b3339PSkrKdWMkJSUxevRoAgIC7NMKFSrEK6%2B8AmRfrujXX3%2B1z5szZw4AL7/8MnXr1nWIVadOHUaMGAHAokWLHOYFBATQvn17Bg4cSLFixezT3d3dCQsLw83NjYsXL16z6np5oNG1xMXFMWbMGIdqbMuWLfH398dms5EvXz4GDBhgv6ySm5sbPXr0AODAgQMOsQoWLEjHjh15/vnnKV%2B%2BvMO8J598En9/f6xWKzt27MixLfHx8bz77rv2SjKAv78/HTt2BGDv3r3X3A4Rkb/SdSpF5KYrWbIkn332Ge%2B88w5r167FarXy008/8dNPPzFnzhw8PDyoV68enTp1on379uTLd/VbU0BAALVr175qenBwMAULFiQ5OZk9e/ZQvnx5YmNjiYyMBKBVq1Y5tqlly5ZYLBZ%2B//13Tpw4wX333QdgHyyUk/z581OsWDHi4%2BOJj4/PcZn69evj5nbt7%2Bv%2B/v48%2BOCDV00vXbo08fHxPPzww1ddp7N06dIAnD9/3mF69%2B7d6d69e46PY7FYKFOmzN%2B2tW7dupQoUeKq6eXKlQMgISHhmtshIvJXSipF5Jbw9/fn7bffZsSIEWzatIkdO3bw888/88cff5CRkcG3337Lt99%2By7x585g9e7Y9sbmscuXKOcZ1c3OjdOnSHD58mFOnTgE4DNy5XMnMSb58%2BcjIyODXX3%2B1J5WQfa7h//3f/7F//37i4uK4cOECtj%2Bvvnbx4kUguyKZk5yStCuVKVMmx%2BmXr8t5OYHMaV5mZuZV87Kysvjuu%2B/YvXs3cXFxJCYm2tt24sSJv21r2bJlc5zu5eUFQEZGxt9tioiIAyWVInJLFS9enF69etGrVy8ge2DLjz/%2ByKpVq9i9ezdHjhyhf//%2BrFmzBg8PD/t6vr6%2B14xZqFAhIHswDzhW9LZs2XLdNl1OFAGioqIYMGCAPUHNq79rJ%2BCwTTcy/0q///47AwYMuOqweG7pAvMiYpKSShG5rSpUqECFChXo1asXixYtYuLEiZw4cYL169fTuXNn%2B3J/d0j5ciXu8jKXDx97eHgQERGR69s%2Bpqam8sILL/D7779Tvnx5QkNDadCgAUWLFrUneyEhIcTExFwzxq28xeTgwYM5cOAAxYsXZ9CgQTRt2pTixYvbk8U%2Bffqwc%2BfOW9YeEbm7KakUEZfx5JNP8vHHH3Py5EmOHDniMO/ybRxzcnne5YplkSJFgOzDtwkJCQ4DUf7O9u3b%2Bf3337FYLLz//vvce%2B%2B9Vy3jKhdlj4yMJCIiAoDJkyfToEGDq5ZxlbaKyN1Bo79F5KbatGkTo0aN4v3338/V8pcPH18%2Br%2B%2Byo0eP5ri81Wq1Vw4vnyN45fmXf01O/87l0ePlypXLMaE8efIkf/zxR67j3Uy//fYbgP16mH%2BVnJz8txeFFxExTUmliNxUERERhIeH8/777/P777//7bKxsbFERUUBXDVCOjo6moMHD161zi%2B//GK/E01wcDCQPSioWrVqACxbtizHxzpx4gSdO3e2X3oI/lfpTEtLy3GdWbNm2f/%2B60XTbzUfHx8g%2B9B/TgNqPvzwQ3ulMqcBPiIipimpFJGb6qmnnsLf35%2BLFy/y5JNP5nibQ5vNxg8//MAzzzxDRkYGDz74II0aNXJYplChQowcOdKhUpiYmMhbb70FZF/Kp1SpUvZ5zz//PABr165l4cKF9tHbkF3lGzx4MFFRUZw%2Bfdo%2BvUqVKgCcOXOGzZs326enpKQwfvx4IiIi7Inr8ePHb7hPTKhcuTLu7u5YrVaWLFlin56ZmcncuXMJDw/n4YcfBv43ClxE5GbSOZUiclMVLVqU%2BfPnM2jQIH799VeeeOIJ/P39qVChAgUKFCAxMZFTp07Zr6VYu3ZtZs6cedXAnJCQEKKjo2nRogVBQUF4eHiwd%2B9ekpKS8PHxYdSoUQ7L/%2Btf/6J///68//77vPnmmyxevJgKFSqQkJDAwYMHsVqtPPDAA7z44ov2dYKDg2ncuDHffvstgwYNombNmnh5ebF//37y5cvHggULWLduHbt372bx4sUcOnSIF154gTp16tz8jvyLkiVL0q1bN8LDw3nzzTdZvXo1RYoU4eDBgyQnJzNz5kxOnTrF119/zYYNG%2BjTpw%2B9e/embdu2t7ytInJ3UFIpIjdd5cqVWbNmDevWrWPr1q1ERUWxb98%2B0tPT8fb2pkSJEjRo0IB27drRvHnzHEdQu7m5MX/%2BfGbPns3GjRv5/fffKViwIK1btyYsLMzhOpOXDR8%2BnIYNG/Lxxx%2BzZ88eduzYgZeXF9WrV6ddu3b07t37qsvqTJs2jcmTJ7Nlyxb2799PQEAArVu35vnnn6dcuXKULFmSAwcOsGvXLo4cOXJLR3v/1ciRI/H19WXt2rUcPnyYYsWKUa9ePZ577jmqVq1KamoqP/74I9u3b%2BfIkSMO1VoREdMsNr3LiIgLe%2BWVV/jiiy945JFH7Ie6RUTE9eicShERERFxmpJKEREREXGakkoRERERcZqSShEREREX9c0339CwYUPCwsL%2BdrmsrCymTp1KixYtqFOnDv369SM6Oto%2BPzExkaFDh9KwYUMaN27Ma6%2B9ZvyuWxqoIyIiIuKC5s2bx%2Beff46fnx8lS5Zk6tSp11z2o48%2BYsGCBcybN48SJUowdepUfvrpJ1atWoXFYmHQoEGkp6fz5ptvkpGRwZAhQ6hevTojR4401l5VKkVERERukri4OCIjIx1%2B4uLicrWul5cXn3/%2BeY63jf2r8PBw%2BvbtS8WKFfHx8SEsLIxjx46xd%2B9ezp49y%2BbNmwkLC8PPz48SJUoQGhrK8uXLc7wj143SdSrvVqaurXfffXDkCNx/P5i4a0dWlvMxxGXYuH3XcLwek081Nzdz8dwxePtHkw27HM8VuerOBGxu7sZimWTyzp358pmN5%2BFhLlae3YTrzoZPn87MmTMdpg0cOJBBgwZdd90nnngiV4%2BRmprK0aNHeeCBB%2BzTfHx8uPfee4mIiODixYu4u7sTGBhon1%2BtWjUuXbrE8ePHHaY7Q0mlOKdIEXB3z/7tiiwWcMUzPFy1XeCybXPRZgE35XPIDJdtGK67Q124z9Rld6YePXoQEhLiMM3f39/oY5w/fx6bzYavr6/DdF9fXxISEihSpAg%2BPj4ON2u4vGxCQoKxdiipFBEREYGbUo0PCAggICDAeNyc/N0wmVsxhMZFj2WIiIiISG4UKVIENzc3EhMTHaYnJiZSrFgx/Pz8SEpKwmq1OswDKFasmLF2KKkUERERgexKpemfW8DLy4v777%2BfyMhI%2B7QLFy5w8uRJatSoQdWqVbHZbERFRdnnR0REULhwYe677z5j7VBSKSIiIgJ3VFIZGxtLmzZt7Nei7NWrF4sXL%2BbYsWMkJSUxefJkqlatSlBQEH5%2BfrRu3Zpp06Zx7tw5zpw5w6xZs%2BjWrRv58pk7E1LnVIqIiIi4oKCgIAAy/xxev3nzZiC7ypiRkcGJEydIT08HoGfPnsTHx9OnTx%2BSk5OpV6%2Bew6jzsWPH8sYbb9CiRQs8PDzo0KHDdS%2Bonle6%2BPndytRwveBg2LULatWC3budj2f6kkKuPFzSFdsFRttm8pJCprvM5FPN3R2shq4EZPSSQiYbBmarLiZ3qKvuTMxeUshkl5m%2BBJDBSx3e3ksK5c9vPmZKivmYLkqHv0VERETEaTr8LSIiIgKue4H/O4SSShERERFQUukk9Z6IiIiIOE2VShERERFQpdJJ6j0RERERcZoqlSIiIiKgSqWT1Hu3UGBgINu3b7/dzRAREZGc3EF31HFFLlWpDAkJITY2FrcrdoK/vz%2BtWrVi8ODBFCxY0MjjnDp1ihYtWtCiRQtmz57tMG/GjBnExMTw1ltvGXksERERkbuBSyWVACNHjqRXr14A2Gw2jh49SlhYGCkpKYwdO9boY%2B3atYtvvvmGJk2aGI0rIiIid6C7rLJomkv3nsVi4f777%2BfZZ59l06ZNAJw5c4YXXniBevXqUbt2bcLCwkhMTOTkyZNUrVqVixcvApCamkr16tV555137PGmTZvGwIED7f%2BHhYUxfvx4%2B30z/2rFihU0atTIYdpjjz3GjBkzgOyq5vPPP8%2BMGTOoU6cOjRs3ZvPmzaxYsYJmzZpRp04d5syZ47B%2BdHQ0PXr04MEHH6Rbt24cPXrUPi8qKoonn3yShx56iPr16zN%2B/Hgy/rz31YoVK%2BjQoQNvvfUWDz74ILGxsTfarSIiIiLGuVylMicZV9xUNDQ0lEqVKrFlyxZSU1MZMmQIb7zxBv/9738pWbIke/bsoUmTJuzZs4cyZcrwyy%2B/2Nf95ZdfaNOmjf3/7t27s2zZMhYsWMBzzz13Q23bvXs3zZo147vvvmPcuHGMHj2aVq1asXHjRr788kv%2B85//8Nhjj1GsWDEAlixZwrRp0yhVqhSvv/46Q4YMYd26daSkpPDMM8/Qp08f5s2bR2xsLKGhoXz44Yc8//zzAMTFxeHl5cVPP/2ERx5ujhoXF0d8fLzDNP/77iOgSJEb2mYHVao4/hYREblTqVLpFJdOKrOysjh06BDz5s2jY8eOHDx4kMjISObOnYuPjw8%2BPj7079%2BfAQMGkJ6eTr169di9ezdNmjTh559/pkOHDnz00Uf2SuTevXsZM2aMPb6bmxujRo3iqaeeonPnzpQsWTLPbfTw8LAfrm/WrBnLli2jf//%2BeHl5ERISgtVqJTo62p5Udu7cmfvvvx%2BA/v3707lzZ2JiYti3bx82m82e3JYtW5Z%2B/foxd%2B5ce1J58eJFnn322TwllADh4eHMnDnTYdrAIUMYNGRInrf3mpYsMRfLNIvldrcgZ67aLjDWNtNbaLLL3N3NxTIbz2UbZp6pHeq6O9NlXwN5/Bi55fFuGyWVTnG5pHL8%2BPFMnDgRyE4q8%2BfPT58%2BfRgwYABff/01vr6%2B%2BPv725cvV64cGRkZxMbGUq9ePVavXg3ATz/9RGhoKDt37mTfvn24ublRtGhRKlSowKlTp%2Bzr16xZkzZt2vDmm2/y3//%2BN8/tvTIR9fT0BKBEiRIAeHl5AZCWlmZfpmLFiva/y5YtC0BsbCzR0dH88ccfBAUF2efbbDZ7TIDChQvj4%2BOT5zb26NGDkJAQh2n%2BHTvCokV5jnWVKlWyE8revSEqyvl4V1SWjbBYwGYzG9MEV20XGG2bzeBHqukuy8oyF8vdHaxWQ7EwFAjMNgzMfuCa3KGuujMBm5vBBNVgl2VmmokD2QnlFQcUjcSTO5PLJZVXDtT59ttvGTBgAJ07dyZfvnzXPPcRss%2B/rF%2B/PuPGjSMtLY0DBw5Qs2ZNgoOD%2BeWXX7BYLDRo0CDHdV988UVat27Njh07rts%2B61/ebNxyeJPNaVpO82x/vjt4eXnh5eXF/fffz5o1a665br58N7a7AgICCAgIcJx44sQNxbqmqCjYvdtsTBERkVtJlUqnuHTvNW7cmBYtWvD6669js9koW7Ys58%2Bf5%2BzZs/Zljh8/jpeXFyVKlOCee%2B6hWLFirFixggoVKuDt7U2tWrXYtWsXu3btumZS6efnx%2BDBgxk/fjyZV3x98/LyIiUlxf6/1WolJibGqW06cUUyFx0dDWRXNsuVK0d0dDTJycn2%2BQkJCSQlJTn1eCIiIiK3gksnlQD/%2Bc9/iIqKIjw8nKCgICpWrMiUKVO4dOkSsbGxzJkzh/bt29vPM6xfvz6LFi2idu3aADz44IPs3buXiIiIayaVAL1798bd3Z3ly5fbp917770kJyfz7bffkp6ezty5c%2B3VxRu1cuVKfvvtN1JTU/nggw8IDg6mePHiNG7cGD8/PyZNmkRSUhLx8fEMGTKEyZMnO/V4IiIikku6%2BLlTXH5rixcvzrBhw3jnnXeIi4tj9uzZxMXF0bx5cx577DFq1qzJqFGj7MvXq1ePEydO2JNKX19fihUrRpEiRa4%2BBHwFd3d3Ro0a5TBKunr16vTt25ewsDCaNm1Kvnz5CA4Odmp7%2BvTpw/Dhw6lfvz6nTp2yX2Tdw8OD2bNnc/z4cRo1akSXLl0oX748L7/8slOPJyIiIrmkpNIpFpuzpTe5M5kaQhgcDLt2Qa1aZs6pNHnCPbjugBhXbRdooM4N0ECdG6CBOnmmgTq3wL33mo/522/mY7oolxuoIyIiInJb3GWVRdPUeyIiIiLiNFUqRURERECVSicpqRQREREBJZVOUu%2BJiIiIiNNUqRQREREBVSqdpN4TEREREaepUikiIiICqlQ6SUmliIiICCipdJJ6T0REREScpkqliIiICKhS6SQllXcr0/fY/uUXM3FMvqAv35e8dm3XvC%2B5SabvfWwoXmaWufsee3iYvV%2Bxy352uOi%2BBLBibn%2B6u4M1y8y94d1N70yD8SxZZu/lbipevnzm9mV2PKPhbh%2BXfWO4M6j3RERERMRp/5TvFiIiIiLOUaXSKeo9EREREXGaKpUiIiIioEqlk5RUioiIiICSSiep90RERETEaapUioiIiIAqlU5S74mIiIiI01SpFBEREQFVKp2kpFJEREQElFQ6Sb0nIiIiIk5TpVJEREQEXLJSGRMTw5gxY9i7dy8FChSgXbt2DB8%2BHLe/tPXpp5/mp59%2BcpiWmZnJgAEDGDhwIH369GHXrl0O6913332sXr3aWFuVVIqIiIi4qEGDBlGtWjU2b97MH3/8wXPPPUfx4sV56qmnHJabP3%2B%2Bw/8XLlygXbt2tGrVyj5t3LhxdO3a9aa1VUmliIiICNyUSmVcXBzx8fEO0/z9/QkICLjuuhEREURFRbFgwQIKFSpEoUKF6Nu3L4sWLboqqfyradOm0apVKwIDA51qf14oqRQRERGBm5JUhoeHM3PmTIdpAwcOZNCgQdddNzIyktKlS%2BPr62ufVq1aNU6cOEFSUhI%2BPj45rvfbb7%2BxcuVKNm/e7DB9/fr1fPDBB5w%2BfZqaNWsyduxYypUrdwNblTMllXeYY8eO0a5dO7Zs2UKZMmVud3NERETkb/To0YOQkBCHaf7%2B/rlaNzExkcKFCztMu5xgJiQkXDOpfP/993n00Ufx8/OzT6tYsSL58%2Bdn8uTJZGVlMX78eJ555hnWrl2Lp6dnXjbpmu6YpPL48ePMmjWLHTt2kJycTLFixQgJCWHgwIEUKVLkhuNarVYWL1583TLyrbJixQqmTJnCd999d7ubIiIicne5CZXKgICAXB3qvhabzZan5RMTE1m1ahVffvmlw/TRo0c7/D927Fjq1avHL7/8QoMGDW64fVdyvWFOOTh48CDdunWjZMmSrF69ml27djFr1iwOHTpEr169SE1NveHYBw4c4IMPPjDYWhERERHn%2Bfn5kZiY6DAtMTERi8XiUIW80pYtW7jvvvsoW7bs38b28fHB19eX2NhYU829MyqVY8eOpXHjxrz00kv2aVWrVmXOnDlMmDCBuLg4WrVqxfr166lYsSIAkydPZu/evXz00UekpKQwevRotm/fTmpqKoGBgYwcOZKsrCx69epFZmYmQUFBzJs3j/r16/Ppp5%2ByaNEifv/9d%2B655x4GDx5Mu3btAOjTpw8NGjTgwIEDfPvtt5QpU4bp06ezZMkSVq5cScGCBRk3bhxNmzYFICoqijfffJPIyEjy5ctHhw4dePnll/Hw8GDFihXMnz%2Bfxo0b8%2Bmnn7Jhw4artv2PP/7g5Zdf5pdffqFUqVI888wzee6/HE8SLl7cqW9ON01wsLlYVao4/hYREfk7LnZJoerVq3P69GnOnTtnTyIjIiKoVKkSBQsWzHGdLVu20KhRI4dpSUlJTJ48mRdeeIESJUoAcO7cOc6dO3fd5DMvXD6p/OOPP9i1axcfffTRVfN8fHx48803OXXq1N/GWLRoEWfPnmXTpk14enoyb948Xn/9db744gvGjRvncLh569atvPPOO8ydO5eaNWuyadMmXnrpJSpWrGgfQbVs2TKmT5/OW2%2B9xeOPP87TTz/N4MGDGTFiBOPGjeOdd96hadOmpKSk8Mwzz9CnTx/mzZtHbGwsoaGhfPjhhzz//PNAdsLn5eXFTz/9hIeHx1VtnzhxImlpaWzbto3U1FRefPHFPPdhjicJDxjAoMGD8xzrmiwWM3F27TIT50pLlpiPaYKpPgNwdzcXy2A8D8PNyuEl4jKM7QJ3wxtpsNMM706DT1uDryW4K16bhnvMaJfdVi6WVD7wwAMEBQUxZcoUXn31VWJjY1mwYAFPP/00AG3atGH8%2BPE89NBD9nUOHjxIw4YNHeL4%2BPiwd%2B9exo8fz7hx47BYLIwZM4bAwECCDRZzXD6pjI6OBrIv0HmjLly4gIeHB97e3uTLl4/Q0FBCQ0NzXPbzzz%2BnQ4cO9h3Url075s%2Bfz4YNG%2BxJZa1atahRowYAdevW5euvv7Zf96lZs2asXLkSgG3btmGz2XjuuecAKFu2LP369WPu3Ln2pPLixYs8%2B%2ByzOSaUAJs3b2bq1Kn4%2Bvri6%2BvLv//9b3bu3Jmn7c/xJOHixSGP52lck8ViLlbt2mbiQHaFcskS6N0boqKcj/fLL87HuMxknwFkZZmL5e4OVquRUBlZ5j5QPTwgI8NYOKOfHQa7DPcsgxtpuNOsbgYTVJN95mbwtXSXvDZtbuZem6a77B%2BToBoyffp0Xn/9dRo1aoSPjw89e/akd%2B/eAJw4cYJLly45LB8fH0/x4sWvijNr1iwmTpxI69atSU9Pp0GDBrz//vtXXUTdGS6fVFr%2BfHZlOfHC7N27N/369aNZs2Y0adKEli1b0qJFixyXPXXqFPXr13eYdu%2B99xITE2P/v2TJkva/vby87KVkAE9PT9LT04HshPiPP/4gKCjIPt9mszmMsipcuPA1R28lJCSQmprqMMq7fPnyudhiRzmeJGzyHcCk3bvNx4yKujlxRUTkn8XFKpWQnXPMmzcvx3mHDh26atr%2B/ftzXLZUqVJXHbU0zeWTysvXTzpy5IhD8nY91iu%2BzZUpU4b169fz448/snXrVkaNGsXq1auZPn36VetdTgj/ynLFV6e/ZvXXyvK9vLy4//77WbNmzTXbmS/ftXfB5bZcuS15HQUmIiIiciu4Xkr%2BF0WLFqVu3bosWLDgqnkpKSl07drVPnLpylHglw%2BbAyQnJ2O1WmnYsCEjR47ks88%2BY8OGDSQkJFwVs1y5chw/ftxh2vHjx2/oRNZy5coRHR1NcnKyfVpCQgJJSUm5Wt/Pzw8PDw9Onz5tn3b06NE8t0NERERywc3N/M9d5I7Y2tdee409e/YwbNgwzpw5Q1ZWFgcPHuSZZ57B29uboKAgChUqxMaNG7FarXz77bfs2bPHvv7gwYOZNGkSSUlJZGVlsXv3booUKYKvry/e3t5cvHiR2NhYUlNT6dy5M2vWrGHPnj1kZGSwYsUKjhw5Qvv27fPc7saNG%2BPn52d/7Pj4eIYMGcLkyZNztb6Hhwf169dn8eLFXLx4kZiYGD755JM8t0NERERyQUmlU%2B6Ira1SpQrLli0jKyuLRx55hODgYIYOHUr9%2BvWZP38%2Bnp6evPHGG3zxxRc89NBDrFy5kscff9y%2B/rhx4/jtt99o2rQpderU4eOPP2bWrFm4ublRv359ypQpQ8uWLdm6dSvt27fnueeeY8SIEdSrV48lS5Ywf/78GzqX0cPDg9mzZ3P8%2BHEaNWpEly5dKF%2B%2BPC%2B//HKuY0yYMAGApk2b8uyzz/Lkk0/muR0iIiIiN5vFppP07k6mh%2BqZimfyW11wcPYlimrVMjNQx%2BQozrtkhKlGf99ALI3%2Bznssjf7OM43%2BvobOnc3HXLXKfEwXdUdUKkVERETEtbn86G8RERGRW%2BIuOwfSNCWVIiIiIqCk0knqPRERERFxmiqVIiIiIqBKpZPUeyIiIiLiNFUqRURERECVSicpqRQREREBJZVOUu%2BJiIiIiNNUqRQREREBVSqdpN4TEREREaepUimuxeR9ci/75RczcUx9g718T/Latc3ckxywZpq78a47YMXMfYE98hm8ITAWw/FMshi8/7Th7/oGKy%2BmizjG4qWnm4ljsYCnZ/b90k3dzNrT00ycywx1WmamkTBA9i3mTce7bVSpdIqSShERERFQUukk9Z6IiIiIOE2VShERERFQpdJJSipFREREQEmlk9R7IiIiIuI0VSpFREREQJVKJ6n3RERERMRpqlSKiIiIgCqVTlJSKSIiIgJKKp2k3hMRERERp6lSKSIiIgKqVDpJvSciIiIiTlOlUkRERARUqXSSkkoRERERUFLpJPXenxo1asSKFSsAaN26NZ999tltbpGIiIjIneOOqFQeP36cWbNmsWPHDpKTkylWrBghISEMHDiQIkWKGH%2B8DRs22P%2BOjo4mMjKSNm3a2KetWrWKjz76iF9//ZW0tDTKly/PE088Qffu3Y23RURERG4RVSqd4vK9d/DgQbp160bJkiVZvXo1u3btYtasWRw6dIhevXqRmpp6Ux9/48aNDknmV199xdixYxkyZAjff/89u3btYujQoUycOJG1a9fe1LaIiIiIuCqXTyrHjh1L48aNeemllyhevDju7u5UrVqVOXPm8OCDDxIXF0dgYCALFy6kcePGvP/%2B%2BwDs2LGDHj16EBwcTJMmTZg1a5Y9ZmZmJuPGjaNevXo0adLkqkPdISEhLF26lA8//JDJkyfz1VdfERQUhNVq5fvvv6dWrVo0adIET09PPDw8aNGiBTNmzKBSpUr2GPPnz%2Bfhhx%2BmVq1a9OvXj1OnTtnnffrpp7Rt25aaNWvSpk0b1q9fb5/Xp08f3nnnHTp27Ej//v0BiImJ4fnnn6devXrUqVOHESNGkJSUdFP6W0RE5K7l5mb%2B5y7i0oe///jjD3bt2sVHH3101TwfHx/efPNN%2B/%2BbN29m5cqVFCtWjDNnzhAaGsobb7xBx44dOXr0KM888wzlypWjY8eOLF%2B%2BnK%2B%2B%2BoolS5Zwzz33MGnSJM6fP3/VY/Tr148jR46QlpbG1KlTAahQoQJr1qxh8%2BbNhISE4PbnE6Zx48YObZk3bx4LFiygQoUKjB07lhdffJFPP/2UrVu38s477zB37lxq1qzJpk2beOmll6hYsSKBgYEArFu3junTpxMUFITNZiM0NJRatWoxdepULl26xLBhw5g0aRLjxo3LVT/GxcURHx/vMM2/eHECAgJytb78KTjYTJwqVRx/i4hzLBazcUzFkzvPXZYEmubSSWV0dDQA991333WXbdu2LcWLFwdg7dq13H///XTp0gWAwMBAevbsyapVq%2BjYsSObNm2iY8eOVKxYEYAhQ4YQHh6eqzb17t2bQ4cOMWjQIAoXLkxwcDANGzakffv2FCtWDIDly5fTvn17qvyZNISFhbFz506ysrL4/PPP6dChAw899BAA7dq1Y/78%2BWzYsMGeVNaoUYMaNWoAsG/fPo4cOcLSpUvJnz8/%2BfPnZ9CgQfTr14%2BxY8diycWbX3h4ODNnznSYNnDAAAYNHpyrbc4VV34TNtW2XbvMxLlsyRJjodyNRfoznrGAhp8Xd8PzzFznG49nuveN7U5PT0OB/uThYTaeSYY6zfQmunKXya3j0knl5YQpKyvrusuWKlXK/vfJkyeJiIggKCjIPs1ms9mT09jYWJo3b26f5%2Bfnh6%2Bvb67a5OnpyZtvvsmwYcP47rvv%2BOmnn5g7dy5Tp05l1qxZNGzYkOjoaOrVq2dfp1ixYrRt2xaAU6dOUb9%2BfYeY9957LzExMfb/S5cubf87Ojoaq9XqEA/AarWSkJCAn5/fddvco0cPQkJCHKb5Fy8ONluutvm6LBZzsUwz2bbatc3EqVIlO6Hs3RuiooyEtP5kLuF1dwer1VAsN4PPi7vleZaL97tcM7kzAZubwQTVYJdZMtINBbJkZ0cZGeYaZzLbMthpGZnmviJc7jKT8W4bVSqd4tJJZbly5QA4cuQIJUqU%2BNtl3a/4Nu7t7U2zZs147733clw2PT2dzMxMh2m5SVyv5O/vT5cuXejSpQsZGRkMGDCAd999l4YNG2KxWLBd44Wfnp7zm9%2BVFccrt8XLy4sCBQqwe/fuPLXvSgEBAVcf6nbVD2dX5sQ%2ByFFUlPmYIncj0%2B9nNpveI0VugEun5EWLFqVu3bosWLDgqnkpKSl07dqVX3755ap55cqV4/Dhww6JXXx8vD2hCwgI4MyZM/Z5cXFxXLhw4brtsdlsTJkyhX379jlM9/DwoH79%2BqSkpABQtmxZTpw4YZ9/7tw55s%2BfT0ZGBuXKleP48eMO6x8/fpyyZcvm%2BJjlypXj0qVL9lMBAJKSkkhISLhue0VERCQPNFDHKS6/ta%2B99hp79uxh2LBhnDlzhqysLA4ePMgzzzyDt7e3/dzDK7Vv357ExERmz55Namoq0dHRPP300yxatAiAJk2asHbtWn799VeSkpKYOnUqXl5eOT6%2Bl5cXp0%2Bf5sKFC1itVuLi4hgxYgQ///yzveK5e/dulixZQosWLQB49NFHWbduHXv37iU9PZ1Zs2bx1Vdf4eHhQefOnVmzZg179uwhIyODFStWcOTIEdq3b5/j41euXJng4GAmTJjAuXPnuHDhAm%2B88QYjRoww1MMiIiICKKl0kksf/gaoUqUKy5YtY8aMGTzyyCNcunSJkiVL0qFDB5599lk8cjj5omjRosyePZu3336b9957Dz8/Pzp37szTTz8NQN%2B%2BfYmOjuaxxx7D09OTwYMH51jxBOjYsSNfffUVDz/8MGvWrGHcuHHMnTuXUaNGcfr0aaxWK%2BXKlaNnz5489dRTALRo0YKwsDAGDBjApUuXCA4OZsqUKUB2whsTE8OIESM4e/YsFSpUYP78%2BZQvX/6afTBlyhTGjh1LixYt8PT0pEGDBrz11ltO9qyIiIiIORbbtU7%2Bk382k7v9bhlAYeobZ3Bw9kjyWrWMnVNpzTTX/xqocwM0UCfPjA7USU8zFMiSPZI8Pd1c40yOTNdAnZvv9dfNx8zl5f%2BuJSYmhjFjxrB3714KFChAu3btGD58uP2ShpfNmDGD2bNnky%2BfY73w66%2B/pnjx4qSlpTFhwgS2bdtGWloa9erVY8yYMRQtWtSp9l3p7qrLioiIiNxBBg0aRIkSJdi8eTMLFixg8%2BbN9tP5/qpz585EREQ4/Fy%2B3OLUqVOJjIwkPDycDRs2YLPZePXVV4221eUPf4uIiIjcEjfhHMgcb0Di75%2BrG5BEREQQFRXFggULKFSoEIUKFaJv374sWrTIfspdbmRmZvL5558zadIk7rnnHgCGDh1K%2B/btiY2Nve4VdnJLSaWIiIgI3JSkMscbkAwcyKBBg667bmRkJKVLl3a4lna1atU4ceIESUlJ%2BPj4OCx/6NAhevbsyeHDh7nnnnt49dVXady4MSdPnuTixYtUq1bNvmzFihXx9vYmMjJSSaWIiIiIq8vxBiT%2B/rlaNzExkcKFCztMu5xgJiQkOCSVJUuWpGzZsgwfPpyAgADCw8N5/vnnWb16NYmJiQBXxSpcuLDRSxQqqRQRERGBm1KpzPEGJHmQ2/HU3bt3p3v37vb/%2B/bty7p161i9ejVNmzbNU6wbpYE6IiIiIi7Iz8/PXmW8LDExEYvFkqvbNJcuXZq4uDj7sn%2BNdf78eYoVK2aquUoqRURERACXu/h59erVOX36NOfOnbNPi4iIoFKlShQsWNBh2dmzZ7Njxw6HaceOHaNs2bKULVsWX19fIiMj7fMOHz5Meno61atXd6qNV1JSKSIiIgIul1Q%2B8MADBAUFMWXKFJKSkjh27BgLFiygV69eALRp04aff/4ZyK5CjhkzhuPHj5OWlsb8%2BfM5efIkjzzyCO7u7jz22GO89957nD59moSEBN59911atWplv%2BSQCTqnUkRERMRFTZ8%2Bnddff51GjRrh4%2BNDz5496d27NwAnTpzg0qVLAAwfPhzIPpcyMTGRSpUqsXDhQkqWLAnA4MGDSU5OpnPnzmRmZvLwww8zevRoo23VHXXuVrqjTt7pjjp5j6U76uSd7qiT91i6o06e6Y461zBpkvmYL79sPqaL0uFvEREREXGaDn%2BLiIiIwE25pNDdREmluBaTh/4g%2B/CfoZhGDzED1p92mYuXz9ChrD8PzbvXMXNo3vhh%2BSxzh%2Bzc01PMBLJYwNsb0tKMHJo8n57fQKOyPxsLFYKLl9yNvaz%2BcvMOpxh8aeKemWkm0OWEwmo11jibp5eROAAWwIaZ14DH6uVG4lCkCLRogcf2LfCXy9XcsEcfNRPnRiipdIp6T0REREScpkqliIiICKhS6ST1noiIiIg4TZVKEREREVCl0klKKkVERERASaWT1HsiIiIi4jRVKkVERERAlUonKakUERERASWVTlLviYiIiIjTVKkUERERAVUqnaTeExERERGnqVIpIiIiAqpUOklJpYiIiAgoqXSSek9EREREnKZKpYiIiAioUukk9d4t8u233xIYGMiYMWNud1NEREREjFNSeYt89tlntG/fnnXr1pGWlna7myMiIiJ/5eZm/ucuosPft0BCQgJbt25lzZo1REZGsmnTJjp06ADAuXPnCAsLY/fu3dx3330MGzaM/v37s2XLFsqUKUNMTAzjxo1j9%2B7dZGVl8fDDDzNq1Ch8fHxy/fhxcXHEx8c7TPMvXpyAgACj2ym3UXCwmThVqjj%2B/iezWMzGMRTP1GfQ5Th3xWeaqY28cl/%2B0zuuSBEzcQoVcvx9p/un7/ebTEnlLbBq1SqqVq1K%2BfLl6dixI59//rk9qXzttdfIyMhg%2B/btJCQkMHz4cPt6NpuN0NBQatWqxdSpU7l06RLDhg1j0qRJjBs3LtePHx4ezsyZMx2mDRwwgEGDB5vZQDD3Ae3ubibOTYhpumVGN3XXLoPBgCVLjIRx6T5z9zYYDPDyMhKmkOFmFSxoNp5JxvZn/vyGAv3J29xOMPTO%2BL94pgK2aGEo0J/q1jUbT%2B5ISipvgc8//5xevXoB0LlzZ2bNmsWpU6coVaoU33zzDdOmTaNIkSIUKVKEHj16MGrUKAAiIiI4cuQIS5cuJX/%2B/OTPn59BgwbRr18/xo4diyWX7y49evQgJCTEYZp/8eJgs5nZQIvFXKysLDNxLnN3B6vVSCirwRTJYLOy49WpZSZQlSrZCWXv3hAV5XQ460/mkl3jfZaRaiaQxZKdUKalGXkdXMwwk9C4uWUnlMnJ5l5WBQqYiQNm96d7eoqZQBZLdkKZmmrsPc3mbS7hNflWa9m6xUygQoWyE8qdO%2BHiRTMxTSe8eaFKpVOUVN5ke/bs4ddff6Vt27YAlC1blgcffJAVK1bw73//m4yMDEqXLm1fPigoyP53dHQ0VquVevXqOcS0Wq0kJCTg5%2BeXqzYEBARcfajb1DuTuIbdu83Gi4oyH9PVmH4N2GxGYpr%2BXpWVZT6myzG1gZcTCpvtn99piYlm4128aD6m3HGUVN5kn332GZmZmbS44ptXRkYGsbGxPP744wDky/e/3eB2xbckLy8vChQowO5/%2Boe7iIiIK1Cl0ilKKm%2Bi5ORk1q9fz5gxY6hfv759ekpKCt26dePAgQO4u7vz%2B%2B%2B/c//99wPZh7wvK1euHJcuXSI6OpqyZcsCkJSUREZGBkWLFr21GyMiIvJPp6TSKUoqb6L169fj5eXFI488gqenp8O8kJAQVqxYwUMPPcSCBQuoVasWZ8%2Be5bPPPrMvU7lyZYKDg5kwYQITJ04kX758jBkzhgsXLjBv3rxbvTkiIiIi16SU/CZavnw5HTt2vCqhBHj00UfZvHkzI0aM4MKFCzRq1IhXX32V5557DvjfYfApU6Zgs9lo0aIFrVq1wmq18tZbb93S7RAREbkr6DqVTlGl8ib69NNPrzmvWbNm9kPdn376qT3x/OGHH3Bzc6N48eIAlC5dmrlz5978xoqIiIg4QUnlbfaf//yHmJgYZsyYgcViYcGCBTRs2DDH6qaIiIjcRHdZZdE09d5t9tJLL%2BHr60vLli1p2bIl7u7uTJgw4XY3S0RE5O6jw99OUaXyNitatCjTp0%2B/3c0QERERcYqSShERERG46yqLpqn3RERERMRpqlSKiIiIgCqVTlJSKSIiIgJKKp2k3hMRERERp6lSKSIiIgKqVDpJvSciIiIiTlOlUkRERARUqXSSxWaz2W53I%2BTWM7nXLRZz8TIzzcS5zMMDMjIMxcrnop0GWLMsxmK5u4PVaihWPkPtCg6GXbugVi3YvdtISFuWuf43uTstWYY6H8zuTDD3ArVYwNMT0tONdFxKlpeBRmU3y9sbUlPN7c/8nq65PzOy3I3EAbPvs5fj3TabNpmP2aqV%2BZguSim5iIiIiDhNh79FREREwCUPf8fExDBmzBj27t1LgQIFaNeuHcOHD8cth7YuXbqUhQsXEhcXR7ly5Rg0aBAtW7YE4JVXXmH16tW4u/%2BvSu3l5cXPP/9srK1KKkVERERc1KBBg6hWrRqbN2/mjz/%2B4LnnnqN48eI89dRTDstt2LCBKVOmMHfuXGrUqMHKlSsZOnQoX375JWXLlgXghRdeYNCgQTetra6XkouIiIjcDm5uxn/i4uKIjIx0%2BImLi8tVcyIiIoiKiuLFF1%2BkUKFClC9fnr59%2BxIeHn7VsqmpqQwbNozatWvj4eFB9%2B7dKViwIHv27DHcSdemSqWIiIgI3JTD3%2BHh4cycOdNh2sCBA3NVMYyMjKR06dL4%2Bvrap1WrVo0TJ06QlJSEj4%2BPfXrnzp0d1r1w4QLJycmUKFHCPu2HH35gy5Yt/Pbbb1SsWJHRo0dTvXr1G920qyipFBEREblJevToQUhIiMM0f3//XK2bmJhI4cKFHaZdTjATEhIcksor2Ww2Ro4cSc2aNalbty4AZcuWxc3NjSFDhlCwYEFmzpzJ008/zYYNGyhatGheNytHSipFRERE4KZUKgMCAggICLjh9fN65ceMjAxeeeUVjh49yuLFi%2B3TBwwY4LDcSy%2B9xNq1a9m8eTPdu3e/4fZdSUmliIiIiAvy8/MjMTHRYVpiYiIWiwU/P7%2Brlk9NTSU0NJSUlBQ%2B%2BeSTv61Auru7c8899%2BT6/M7c0EAdEREREbgpA3WcUb16dU6fPs25c%2Bfs0yIiIqhUqRIFCxZ0WNZmsxEWFka%2BfPlYuHChQ0Jps9l48803iYqKsk9LT0/n5MmT9pHhJiipFBEREQGXSyofeOABgoKCmDJlCklJSRw7dowFCxbQq1cvANq0aWO/zuSaNWs4evQo//3vf/HycrzLlMVi4dSpU4wZM4bY2FiSk5OZPHkyHh4e9utYmqCkUkRERMRFTZ8%2Bnbi4OBo1asQTTzxBly5d6N27NwAnTpzg0qVLACxfvpyYmBjq1q1LUFCQ/WfkyJEATJgwgfLly9O1a1caNmzIwYMHWbRoEQUKFDDWVt37%2By6le3/fQCzd%2BzvvsXTv77zH0r2/80z3/s473fv7Gn780XzMevXMx3RRqlSKiIiIiNM0%2BltEREQEXPLe33cSJZUiIiIioKTSSUoqc/D000/z008/AWC1WsnKysLjipM8vvrqK0qXLn27miciIiLicpRU5mD%2B/Pn2v2fMmME333zDsmXLbmOLRERE5KZTpdIp6r08iomJ4fnnn6devXrUqVOHESNGkJSUBMCPP/5I7dq12b59O23atOHBBx%2BkX79%2BnD9/HoBXXnmFsLAwe6y0tDQCAwP58c/RZn369OGdd96hY8eO9O/f/7qPJyIiIga52HUq7zSqVOaBzWYjNDSUWrVqMXXqVC5dusSwYcOYNGkS48aNAyAlJYV169YRHh5OSkoK3bp1Y9myZTz77LO5eox169Yxffp0goKCcvV4uREXF0d8fLzDtOLF/Z26F6lIrgQHm4lTpYrjb7k9LIYuEXU5jqF4LtoskbuOkso8iIiI4MiRIyxdupT8%2BfOTP39%2BBg0aRL9%2B/Rg7diyQfQ7mM888g6%2BvL76%2BvtSuXZvjx4/n%2BjFq1KhBjRo1ANi3b9/fPp4ll%2B984eHhzJw502HagAEDGTx4UK7bdT2m3oRvxvXJzMU0/Elj8JPL3dwl58zG27XLUKA/LVliLJTpvMHY7nTZnWk4Fhh7cXobifI/XmYue/kn19yfHq65K2%2B/u6yyaJqSyjyIjo7GarVS7y8XMrVarSQkJNj/L1OmjP3v/Pnzk5qamuvHuHIA0PUeL6ebyeekR48ehISEOEwrXtzf3MWadfHzvLtbLn5ep5aZQFWqZCeUvXvDFfeudYbtF3MJ711z8XNTsSyW/704DXRcapangUZlN8vLC9LSzO1Pbw/X3J%2B6%2BLncDEoq88DLy4sCBQqw%2Bzp39HDL5Tcdaw5vDu5XfAvN7eNdT0BAwFWHunUfJbklDN39xi4qynxMyT3Tbxw2m5GYLtosuROpUukU9V4elCtXjkuXLhEdHW2flpSU5FCl/Duenp6kpKTY/z958uRNfTwRERHJAw3UccrdtbVOqly5MsHBwUyYMIFz585x4cIF3njjDUaMGJGr9cuXL8/evXs5c%2BYMFy9eZP78%2BQ6VSdOPJyIiInKrKKnMoylTpmCz2WjRogWtWrXCarXy1ltv5Wrdbt26Ua1aNdq0acOjjz5Khw4d8Pb%2B%2B1PMnXk8ERERyQNVKp1isdl05sjdyORe10CdG3C3DNTJZ6hdwcHZI8lr1TJ2TqUty1z/3zUDdUy9QC0W8PSE9HQjHZeSZWa4tsUC3t6Qmmpuf%2Bb3dM39qYE613DokPmYgYHmY7ooDdQRERERgbuusmiakkoRERERUFLpJPWeiIiIiDhNlUoRERERUKXSSeo9EREREXGaKpUiIiIioEqlk5RUioiIiICSSiep90RERETEaapUioiIiIAqlU5S74mIiIiI01SpFBEREQFVKp2kpFJEREQElFQ6SUnlXSory1wsd3dz8W7G6/lueI9wT08xE8hiAXdv3DNSwWZzOpwty/kYl1kA2y%2B7zMVzs5gJFBwMu3ZhqV0Ldu92OtwXK8z0ma8vhITA1v9z5/x5IyHp1MndTCDAHbC6exqJZSbK/3h4GA7ogjzORBsK5AElS%2BLxxxnIyDATs2xZM3HkllNSKSIiIgJ3RxXiJlLviYiIiIjTVKkUERERAVUqnaSkUkRERASUVDpJvSciIiIiTlOlUkRERARUqXSSek9EREREnKZKpYiIiAioUukkJZUiIiIioKTSSeo9EREREXGaKpUiIiIioEqlk9R7IiIiIuI0VSpFREREQJVKJympFBEREQEllU5S792AU6dOERgYyLFjx253U0RERERcwl1bqQwJCSE2NhY3NzcsFguFChWifv36jBgxghIlStzu5omIiMit5oKVypiYGMaMGcPevXspUKAA7dq1Y/jw4bjl0NbFixfzySefEB8fT2BgIK%2B99hrVq1cHIC0tjQkTJrBt2zbS0tKoV68eY8aMoWjRosba6nq9dwuNHDmSiIgI9u3bx4oVKzh79iyjRo263c0SERERAWDQoEGUKFGCzZs3s2DBAjZv3syiRYuuWm7r1q3MmDGDt99%2Bm%2B%2B//56HH36Y559/nkuXLgEwdepUIiMjCQ8PZ8OGDdhsNl599VWjbb1rK5V/VaJECf71r3/Zd9S5c%2BcYPXo0P/30ExkZGQQHBzN27Fjuueeeq9Y9efIkY8aMYf/%2B/QA0atSI0aNHU7hwYU6dOkWLFi2YP38%2B77zzDr/%2B%2BitVqlRh8uTJlClTBoBVq1Yxe/Zs4uLiCAwM5I033qBq1aoArF%2B/nrlz5/Lbb79RrFgx%2BvfvT48ePfK0bXFxccTHxztMK1bMH3//gDz3k7goi8VsHFPxXFlwsJk4Vao4/naSr6%2BRMPj4OP4WceDhYSZOvnyOv%2B90N6FSmdNnsL%2B/PwEB1/8MjoiIICoqigULFlCoUCEKFSpE3759WbRoEU899ZTDsuHh4XTt2pWaNWsC8Mwzz7B48WK%2B/vprWrduzeeff86kSZPseczQoUNp3749sbGxxo7Q/kOeBc6x2WycOnWKVatW0aFDBwDeeecdkpOT2bJlCzabjaFDhzJx4kRmzJhx1fojR46kdOnSfPPNNyQlJdGvXz9mz57NK6%2B8Yl9m8eLFzJ07Fy8vL5544gk%2B%2BOADRo8ezf79%2Bxk9ejRz5syhdu3azJ07l9DQUDZv3syBAwd47bXXmDFjBg0aNGD37t08%2B%2Byz3H///dSqVSvX2xceHs7MmTMdpg0YMJDBgwfdYI9dzd3dWCjjzLXNcKJlMnHz9jYXC8DLy0gY06mp0Vx31y6DwYAlS4yECTES5X/q1jUc0CBXfd8w2y7DG2mqcSVLmolzWfHiZuPdJjbj71o5fwYPHDiQQYOu/xkcGRlJ6dKl8b3i22a1atU4ceIESUlJ%2BFzxrTEyMpJ27drZ/3dzc6Nq1apERERQtWpVLl68SLVq1ezzK1asiLe3N5GRkUoqTRg/fjwTJ07EZrORkZFBgwYNePzxxwEYM2YMmZmZFChQAICWLVvy3nvv5Rjn/fffx2Kx4OnpiZ%2BfH02aNGHXXz6wevXqZd9pjRs3JiIiAoCVK1dSv3596tevD0C/fv247777SEtLY8WKFTRv3pzGjRsD8NBDD9G2bVtWrVqVp6SyR48ehIQ4flQVK%2BaP1ZrrEH/L3R1jsUwz2TZ3N5uZQJCdHdkMxktLMxPHYslOKNPSjLTP5mUu2TXdZZbauX8N/a0qVbITyt69ISrK6XBbJ5tJdn18shPKnTshKclISJo1MxMHXPd9w3S73DEZzGDj/lI5u2H58mUnlGfPQmammZimE97bLKfPYH9//1ytm5iYSOHChR2mXU4wExISHJLKxMREh%2BTz8rIJCQkkJiYCXBWrcOHCJCQk5KotuXFXJ5UjR46kV69eAFy4cIGPPvqILl26sHr1as6ePctbb73Fvn37SE1NJSsriyJFiuQYZ//%2B/UyZMoVDhw6RkZGB1Wq1nxh72eVD3QD58%2Bcn7c8kIDo6mnLlyjnMa9%2B%2BPZB9WH3Hjh0EBQXZ59tsNnuSmVsBAQFXldld8c1cnGAy27ocz3RMV7N7t9l4UVFGYp4/b6AtV0hKMh9T/gEyMszGy8w0H/M2yMoyHzOnz%2BC8sOXhvfh6y%2BYl1o24qwfqXKlw4cIMGDAADw8P1q9fz3PPPYefnx8bNmwgIiKC0aNH57je%2BfPn6d%2B/P7Vq1WL79u1ERETQv3//q5azXOO4ncViueZO9vb2plevXkRERNh/9u/ff82KqYiIiNy4rCzzP87w8/OzVxkvS0xMxGKx4Ofn5zC9aNGiOS7r5%2BdnX/av88%2BfP0%2BxYsWca%2BQVlFTm4MKFC8TExNCnTx/7jjhw4ECOyx4/fpzk5GT69etnL0Nfa9mclC1blhMnTtj/T09P58MPPyQhIYFy5cpx6NAhh%2BXPnDmDVWVGERGRf7zq1atz%2BvRpzp07Z58WERFBpUqVKFiw4FXLRkZG2v%2B3Wq0cOHCAmjVrUrZsWXx9fR3mHz58mPT09KuOrDpDSeWf0tLSWLBgAQkJCbRu3ZoCBQqwZ88e0tLSWLNmDQcPHiQpKYnk5GSH9UqVKoWbmxu7d%2B/m0qVLLFy4kLNnz3L27Fkyc3F%2BSdeuXfnxxx/5%2BuuvycjIYOHChSxevBgfHx%2B6devGrl27WL58Oenp6Rw8eJDu3buzYcOGm9UNIiIidy1Xq1Q%2B8MADBAUFMWXKFJKSkjh27BgLFiywn7rXpk0bfv75ZyB77MbKlSvZs2cPKSkpzJkzB09PT5o3b467uzuPPfYY7733HqdPnyYhIYF3332XVq1aUdzgIKu7OqkcP348QUFBBAUF0ahRI77%2B%2Bms%2B%2BOADKlSowOjRo3n//fdp2LAhP/30EzNmzKBkyZL861//cohRokQJhg0bxn/%2B8x8efvhhzp8/z%2BTJk0lPT6d3797XbUPVqlWZPHky48aNo06dOmzdupU5c%2Bbg4eFBxYoVmTJlCh988AEPPfQQgwYNol%2B/fg6ju0REROSfa/r06cTFxdGoUSOeeOIJunTpYs8vTpw4Yb8OZdOmTRk2bBhDhw6lbt26fP/997z//vt4/3l1kMGDB1OzZk06d%2B5MixYtKFiwIBMmTDDaVovtZp%2B1KS7J6OhGFx3FCXfR6O/UVDNxLJbsyxOlppoZ/e2d30Cjshkf/e1m6NIhwcHZlyeqVcvIQJ0vVpjZSF9fCAmBrVvNDdTp1MlMHHDd9427ZvT377%2BbiePhkT1a%2B8wZcwN1ypY1E%2BcGpKSYj5nf3Nugy7urR3%2BLiIiIXHYzRn/fTe7qw98iIiIiYoYqlSIiIiKoUuksVSpFRERExGmqVIqIiIigSqWzlFSKiIiIoKTSWTr8LSIiIiJOU6VSREREBFUqnaVKpYiIiIg4TZVKEREREVSpdJaSShERERGUVDpLSeVdyuj9aHE3F8/0K9rdA/csQ/ejNXm2iLu70W09n27m5rJublDIGy5meBtpnq%2Bn2fseW7LMxTN6j21g6%2BRdRu6x/UhXs/ckD3nRzD3JAcOvTwvuboZu5p6ZaSYOGH7PIPtF5YJOZJq5v7anG5QGYqwlSTe0G%2B4zE0ZuAyWVIiIiIqhS6SzX/AolIiIiIncUVSpFREREUKXSWUoqRURERFBS6Swd/hYRERERp6lSKSIiIoIqlc5SpVJEREREnKZKpYiIiAiqVDpLSaWIiIgISiqdpcPfIiIiIuI0VSpFREREUKXSWapUioiIiIjTVKkUERERQZVKZympFBEREUFJpbP%2BkYe/Dx8%2BTOvWrXnwwQdv6eOGhYXxyiuv3NLHFBEREXEFN5xUhoSE0LRpUy5duuQw/ccffyQkJMTphuXk4sWLTJkyhX/961/UrFmTevXq8cILL7Bv3z6H5ZYtW0bhwoX5%2Beef7W2tVq0aQUFBBAUFUbt2bXr37s3OnTtvSjudFRkZyffff3%2B7myEiInJXycoy/3M3capSmZ6ezuzZs0215W8lJyfTu3dvDhw4wMyZM9mzZw8bN26kbt26PPHEE2zfvt1h2TJlypAv3/%2BO7o8cOZKIiAgiIiL49ttvadmyJf379yc6OvqWtD8vli9frqRSRERE7ihOJZWDBg3ik08%2B4cSJE1fNO3XqFIGBgRw7dsw%2BbfLkyfTp0wfIrmjWqlWLLVu2EBISQnBwMNOmTSMiIoJOnToRHBzMwIEDycjIAGD%2B/PlcvHiROXPmULlyZSwWC76%2Bvjz11FM88cQTjBo1iszMTEaMGMHKlSv56quvCAoKyrHd%2BfPn5%2BmnnyYgIMCejPbp04d33nmHjh070r9/fwDOnDnDCy%2B8QL169ahduzZhYWEkJiba4yxbtoyQkBBq167NmDFjyLriK8krr7xCWFiY/f%2B0tDQCAwP58ccfAUhJSeH111%2BnXr161K9fn9dff5309HTGjRvHkiVLmD9/Pq1atQJgxYoV9sP5Dz/8MPPnz8/zvhIREZG/p0qlc5waqFOpUiUee%2Bwxxo8fz4cffpjn9VNSUtixYwfr1q1jw4YNvPLKKxw6dIiFCxdy/vx5OnXqxNatW2ndujUbNmygR48eeHp6XhXniSeeYO7cuezdu5e3334bNzc30tLSmDp16t8%2BvtVqxd3d3f7/unXrmD59uj0ZDQ0NpVKlSmzZsoXU1FSGDBnCG2%2B8wX//%2B1%2BOHz/OqFGjmDlzJk2bNmX16tWMHz%2BeNm3a5Grb3333XY4ePcqXX34JwDPPPMOsWbN4/fXXOXz4MDVr1uTFF1/kzJkzjB07lvDwcAIDA9m/fz/9%2BvWjfv36PPDAA7l6rLi4OOLj4x2m%2BRcrRoC/f67WF9fnZujs6MtxTMVzZb6%2BZuL4%2BDj%2BdlpwsJk4Vao4/ha5Qg4fpTfEw8Px953ubksCTXN69PegQYNo06YNmzZtslfWcisrK4vevXuTP39%2BQkJCsNlstG7dGj8/P/z8/KhQoQK//fYbACdPnuTee%2B/NMU7x4sUpVKgQ0dHR1K5d%2B7qPm5yczKeffsq5c%2Bdo1qyZfXqNGjWoUaMGAAcPHiQyMpK5c%2Bfi4%2BODj48P/fv3Z8CAAaSnp7N582YeeOABWrZsCUC3bt1YtGhRrrbbZrOxcuVKJk6ciJ%2BfHwATJ07kwoULVy2blJREVlYWBQoUAKB69ers2LEDtzx86oeHhzNz5kyHaQMHDGDQ4MG5jnFdVyTnLhHnSq76bmdwWwsVMhYKgIIFTUUyvD8N9pnpU7/r1jUUaNcuQ4H%2BtGSJ2XgmWSxm4ph%2BjbvqewYYew2ULm0kjF1AgNl4cmdyOqn08fHhxRdf5M0336RJkyZ5Xv%2Bee%2B4BwMvLC4ASJUrY53l5eZGWlmb/32q13nA7x48fz8SJEwHw9vamatWqLFy40P74AKWveJWdOnUKX19f/K%2Bo5pUrV46MjAxiY2OJjY2lTJkyDo9Rvnz5XLUlISGBCxcuOKxf5RrVhIoVK9K5c2fatm1L3bp1ady4MY888ghFixbN1WMB9OjR46rBU/7FioET/enA3d1cLNNfEz084M9TKJxmsnxnss%2BAi5fMfNC4uWUnlMnJZnZFoQLmttF0n239PzN95uOTnVDu3AlJSc7HC3mxlvNBILtCuWQJ9O4NUVFmYv7yi5k4kJ1Q2mxmYmVmmokDZt8zwGXfN2LOmHn%2Be3hkJ5Rxcea6zXTCmxeqVDrHyHUqu3TpQnh4OHPnzqV%2B/frXXC6npPCvFbdrVeDuu%2B8%2Bh/MzrxQfH8/FixepUKHCNR975MiR9OrV65rzAYdD4enp6ddczmKxkJ6eTuZf3siy/ubZeOW2X97Gv1v%2ByscaN24czzzzDJs3b%2Barr75i3rx5LFu2jLJly153fYCAgAAC/vo10uCHs9x%2Bpt8I74Zzgc6fNxsvKclQzN27DQS5QlSU%2BZhyx/ubj7gbkpFhPqbceYx9hRo1ahQLFy60j6a%2BXHlMTU21L%2BPMSOs2bdrw%2BeefO8S7bMmSJdx7771Ur179huP/VdmyZTl//jxnz561Tzt%2B/DheXl6UKFGCgIAAzpw547DOlUmvp6cnKSkp9v9Pnjxp/7tIkSIULlzYYYBTZGQkq1atuqodWVlZXLhwgXvvvZd%2B/fqxbNkyKlWqxKZNm4xsp4iIiGTTQB3nGEsqq1atSpcuXZg2bRoAfn5%2BFCpUiI0bN2K1Wvn222/Zs2fPDcfv27cvfn5%2B/Pvf/yYqKgqbzcaFCxeYPXs2CxcuZNy4cXk6z/B6goKCqFixIlOmTOHSpUvExsYyZ84c2rdvj4eHB02bNuXAgQNs27aN9PR0PvnkE2JjY%2B3rly9fnr1793LmzBkuXrzI/PnzHSqhXbt25YMPPiA2NpaEhATGjRvHkSNHgOyE/NSpU5w/f57169fTvXt3jh8/DkBMTAyxsbGUK1fO2LaKiIiIkkpnGR3jOXToUPshYXd3d9544w2%2B%2BOILHnroIVauXMnjjz9%2Bw7Hz58/PJ598Qp06dRg4cCA1a9akVatWHDhwgE8%2B%2BYR69eqZ2gwg%2B7Dz7NmziYuLo3nz5jz22GPUrFmTUaNGAVCzZk1GjhzJ6NGjqV%2B/PocPH3YY%2Bd2tWzeqVatGmzZtePTRR%2BnQoQPe3t72%2BcOHD6dGjRq0a9eOdu3acf/99zNw4EAgO%2BHcvn07//rXv2jbti1t2rThySefpGbNmjzxxBN07drVPkBIRERExBVYbDZTZ0rLHcXkOZUaqJN3hgednE8yN1CnUCG4eNHMrvD1cdHnGfDFajN95uubPZJ861Yz51Q%2B0tXQiOjg4OyR5LVqmTun0uTrUwN18s7ga%2BDESTPPf0/P7IE1MTHmzqm87z4zcW7En5eSNspwzculGRmoIyIiInKnu9sOV5t2F1ziWERERERuNlUqRURERFCl0lmqVIqIiIiI05RUioiIiHDnXVIoMTGRoUOH0rBhQxo3bsxrr72W4/W8L9u4cSOdOnUiODiY1q1bs2zZMvu8GTNmULVqVYKCghx%2Brrxe9/Xo8LeIiIgId97h79dff5309HTWrl1LRkYGQ4YMYfLkyYwcOfKqZfft28eLL77Iu%2B%2B%2BS/Pmzfnuu%2B8YMGAAFSpU4KGHHgKgc%2BfOvPXWWzfcHlUqRURERG6SuLg4IiMjHX7i4uKcjnv27Fk2b95MWFgYfn5%2BlChRgtDQUJYvX05GDpfFSkxM5LnnnqNly5bky5ePZs2aUblyZX7%2B%2BWen23KZKpUiIiIi3JxKZXh4ODNnznSYNnDgQAYNGuRU3IMHD%2BLu7k5gYKB9WrVq1bh06RLHjx93mA7QtGlTmjZtav8/MzOT%2BPh4SpQoYZ926NAhevbsyeHDh7nnnnt49dVXady4ca7bpKRSRERE5Cbp0aMHISEhDtP8/f2djpuYmIiPjw8Wy/9umODr6wtAQkLCddefPHkyBQoUoF27dgCULFmSsmXLMnz4cAICAggPD%2Bf5559n9erVVKhQIVdtUlIpIiIiws2pVAYEBBAQEHBD665atYoRI0bkOC8sLIwbuSmizWZj8uTJrF27lsWLF%2BPl5QVA9%2B7d6d69u325vn37sm7dOlavXs3QoUNzFVtJpYiIiAiuN1Cnc%2BfOdO7cOcd53333HUlJSVitVtzds2%2B7mZiYCECxYsVyXCcrK4tXX32Vffv2sXTpUsqWLfu3j1%2B6dOk8nf%2BpgToiIiIid5iqVatis9mIioqyT4uIiKBw4cLcd40bqE%2BcOJEjR47kmFDOnj2bHTt2OEw7duzYdRPPK6lSebdyM/x9wlA8K%2B5G4lzmDljdPIzEMtllFsDmZm5bfXyMhQKgQAFDgTIzzcSxWMDdHaxWuIHDPTnp1Mnsc61ZM0OBTJdKfvnFXCxTL4LgYNi1C2rXht27nQ5nzTTznACz7xmmuWPuPbJ8eSNh7EqVMhvvdnG1SuXf8fPzo3Xr1kybNo1JkyaRnp7OrFmz6NatG/nyZad3Tz75JD169KBdu3b88ssvrF69mvXr11OkSJGr4iUmJjJmzBhmz55N6dKl%2BeSTTzh58iSPPPJIrtukpFJERETkDjR27FjeeOMNWrRogYeHBx06dCAsLMw%2BPzo6mvPnzwOwfPlyLl68yMMPP%2BwQo06dOsyfP5/hw4cD2edSJiYmUqlSJRYuXEjJkiVz3R6L7UbO8pQ7n8ndbrEYi2fNslx/oTy4XNwywWil0lyXAWa/XZvsM/fMNDOBLBbw9IT0dHPPtXxeRuKA4T5zc83XJmC%2BUlmrlutVKg3uS9Pulvczi9mPgTz58kvzMdu2NR/TValSKSIiIsKddfjbFWmgjoiIiIg4TZVKEREREVSpdJYqlSIiIiLiNFUqRURERFCl0llKKkVERERQUuksHf4WEREREaepUikiIiKCKpXOUqVSRERERJymSqWIiIgIqlQ6S0mliIiICEoqnaXD3yIiIiLiNCWVd5jJkyfTp0%2Bf290MERGRf5ysLPM/d5M7KqkMCQlh6dKlV01funQpISEhRh5j7dq19OzZk%2BDgYGrXrk23bt1Yvnz5dddLS0tj9uzZtG3blpo1a1K/fn2effZZfv75ZyPtEhEREXFlOqfyCtOmTWPZsmWMHTuWpk2bkpmZybZt2xg1ahQxMTEMHjw4x/UyMzN59tlnuXTpEm%2B//TbVqlUjISGBpUuX0rdvX%2BbOnUujRo1u8daIiIhIXtxtlUXT/nFJZUREBG%2B%2B%2BSaHDx/G09OTVq1aMXLkSDw8PEhJSWH06NFs376d1NRUAgMDGTlyJNWrV%2BfEiRO89957vPfeezRv3hwAT09P2rVrh7e3NxEREQCsWLGC%2BfPn07hxYz799FM2bNjA9u3biYiIYPPmzRQrVgyAYsWKMXDgQDw9PUlMTASyq5njxo1j27ZtXLp0iSpVqjB69GgqV64MZFdiu3fvzueff07jxo0ZM2YMW7duZdKkScTFxdGsWTOKFy%2Be5z6Ji4sjPj7eYZp/8eIEBATcYC%2BL5JLFYjaOqXhyY4KDzcSpUsXxt4iLUFLpnH9cUhkWFkanTp346KOPiI2NpWfPnlSqVIk%2BffqwaNEizp49y6ZNm/D09GTevHm8/vrrfPHFF2zevJnSpUvbE8orhYSEOBxej4uLw8vLi59%2B%2BgkPDw82btxImzZt7Anllfr372//e968eezdu5e1a9dSoEABxo4dyyuvvMKKFSvsy6xbt4758%2BdTrlw5Lly4QFhYGC%2B%2B%2BCI9evRgx44dDB8%2BnKpVq%2BapT8LDw5k5c6bDtIEDBjDoGpXXG2Low97d3UiYmx7TBJP5keltNBbP3dNQoD95eBgLZfppYW4fGE6cTT7Rdu0yFwtgyRIjYVx3X5rnqm3T9z2BOzCpHD9%2BPBMnTnSYlpWVRYkSJQBYuXIlnp6euLu7U6pUKerUqcP%2B/fsBuHDhAh4eHnh7e5MvXz5CQ0MJDQ0FIDo6mvLly%2BeqDRcvXuTZZ5/F488PuOjoaOrUqXPd9Z577jn69u2Lj48PAG3atGHFihVkZmaSL1/2rmjSpAn33nsvAN9%2B%2By0FChTg8ccfx83NjWbNmvHQQw%2BRnJycq3Ze1qNHj6vOOfUvXhxstjzFuSaLxVgsa5bZdyZ3d7BazcRyM3gGssEuA8x%2BuzbZZ%2B7WdDOBLJbshDIjw9xzzWDCa7TP3Aw%2BMUw/0WrXNhOnSpXshLJ3b4iKcjqc9Sdzya7JfWna3fJ%2BdjsTVFUqnXPHJZUjR46kV69eDtOWLl3KvHnzAPjhhx%2BYNWsWv/76K5mZmWRmZtKmTRsAevfuTb9%2B/WjWrBlNmjShZcuWtGjRAgCLxUJWLp9NhQsXtieGl9e15uKVfu7cOcaPH8/OnTvtiaHVasVqtdqTytKlS9uXP3PmDPfccw9uV7z6y5cvT2RkZK7aeVlAQMDVh7pNvgOIXIvp55nNpufu7bR7t9l4UVHmY4rIbXNHjf6%2BnmPHjjFkyBAeeeQRduzYQUREBB06dLDPL1OmDOvXr%2Bedd97Bx8eHUaNGMWTIECA7WTt27Bi2XHxgXU4AL7v33ns5evToddcLCwsjKSmJVatWsX//fnsifCX3K45tpKenX5Ws5jbxFRERkbzRJYWc849KKg8ePIinpydPPPEE3t7e2Gw2Dh48aJ%2BfnJyM1WqlYcOGjBw5ks8%2B%2B4wNGzaQkJBAy5YtOXv2LGvXrr0q7rfffstjjz1GZmZmjo/bunVrNmzYwKlTp66aN3XqVN566y0A9u3bx2OPPUbJkiUBrltxDAgIIDY21iHRPXbs2PU7QkRERPJMSaVz/lFJZenSpUlNTeXgwYOcP3%2Bed955B09PT%2BLi4rDZbAwePJhJkyaRlJREVlYWu3fvpkiRIvj6%2BlK2bFlCQ0N5/fXX%2Beyzz0hNTSUlJYW1a9cSFhZG586dr6pQXta5c2ceeughnnjiCX744QesVivnzp1j%2BvTpfPzxx7Rr187evn379pGRkcH27dv57rvvAIiNjc0xbsOGDUlKSuLTTz8lPT2dzZs3s3fv3pvTeSIiIiJO%2BEcllcHBwTz%2B%2BOP8%2B9//pn379pQuXZr//Oc/HD58mLCwMMaNG8dvv/1G06ZNqVOnDh9//DGzZs2yn7M4cOBAxowZw7Jly2jQoAHNmjXj008/5Z133uHxxx%2B/5uO6ubkxd%2B5cunbtyhtvvEGtWrXo1KkTx44d49NPP6VGjRoAjBo1io0bN1K3bl0%2B//xz3n33XWrWrEnXrl05e/bsVXFLlizJlClTmD9/PnXr1mX16tX07t375nSeiIjIXU6VSudYbLk5iVD%2BeUwP1dPo7zy5a0Z/Z6aZCWSxgKcnpKebe67l8zISB%2B6i0d%2BmXgTBwdmXJ6pVy8hAHWumuW3U6O%2B8%2ByeN/s5hqIPTnn3WfExXdceN/hYRERG5Ge62yqJpSipFREREUFLprH/UOZUiIiIicnuoUikiIiKCKpXOUlIpIiIigpJKZ%2Bnwt4iIiIg4TZVKEREREVSpdJYqlSIiIiLiNFUqRURERFCl0llKKkVERERQUuksHf4WEREREaepUnm3Mn2zaEPx3E3ekBYAi7l7Kaenm4nz532sLRnm7mPtnplpJA5ubpA/P%2B7pKUb2aYpbQQONyu4ybyA1y9PYPYY9zYQxz9S%2BBPDwMBrP6D22AetPu8zEymfoZtF/3pPcvY6Ze5KD2T4z6fBhM3G8vKB8efjtN0hLMxMzMNBMnBuhSqVzVKkUEREREaepUikiIiKCKpXOUlIpIiIigpJKZ%2Bnwt4iIiIg4TZVKEREREVSpdJYqlSIiIiJ3oMTERIYOHUrDhg1p3Lgxr732GqmpqTkuu2LFCqpUqUJQUJDDz759%2BwDIyspi6tSptGjRgjp16tCvXz%2Bio6Pz1B4llSIiIiJkVypN/9xMr7/%2BOikpKaxdu5bly5dz7NgxJk%2BefM3l69SpQ0REhMNPjRo1APjkk09Ys2YN77//Pl9//TXly5dnwIAB2PJwHTcllSIiIiLcWUnl2bNn2bx5M2FhYfj5%2BVGiRAlCQ0NZvnw5GRkZeY4XHh5O3759qVixIj4%2BPoSFhXHs2DH27t2b6xhKKkVERERukri4OCIjIx1%2B4uLinI578OBB3N3dCbziavHVqlXj0qVLHD9%2BPMd1Tp8%2BzVNPPUWdOnVo0aIFq1atAiA1NZWjR4/ywAMP2Jf18fHh3nvvJSIiItdt0kAdEREREW5OZTE8PJyZM2c6TBs4cCCDBg1yKm5iYiI%2BPj5YLP%2B7o5Svry8ACQkJVy3v5%2BdH%2BfLlGTZsGJUqVWLTpk2MGDGCgIAAKlSogM1ms69/ZbycYl2LkkoRERGRm6RHjx6EhIQ4TPP398/VuqtWrWLEiBE5zgsLC8vT%2BY7NmzenefPm9v/bt2/Ppk2bWLFiBS%2B%2B%2BCJAnuLlREmliIiICDenUhkQEEBAQMANrdu5c2c6d%2B6c47zvvvuOpKQkrFYr7u7uQHb1EqBYsWK5il%2B6dGn2799PkSJFcHNzs69/WWJiYq5jgc6pFBEREQHurIE6VatWxWazERUVZZ8WERFB4cKFue%2B%2B%2B65afunSpaxfv95h2rFjxyhbtixeXl7cf//9REZG2udduHCBkydP2keH54aSShEREZE7jJ%2BfH61bt2batGmcO3eOM2fOMGvWLLp160a%2BfNkHop988kl7Ipmens64ceOIiIggIyODtWvXsn37dnr27AlAr169WLx4MceOHSMpKYnJkydTtWpVgoKCct2mO%2Bbw908//cTTTz/NL7/8gqen5%2B1uzg2ZMWMG33zzDcuWLbvdTREREZG/uNPuqDN27FjeeOMNWrRogYeHBx06dCAsLMw%2BPzo6mvPnzwPwxBNPkJyczJAhQ4iPj6dMmTLMmjWL6tWrA9CzZ0/i4%2BPp06cPycnJ1KtX76oBRtdzQ0llnz59qFmzpv3Ezut59913mTt3LtOmTaNt27a5fpyNGzcSGBjIvffea79gp7NOnTplv1r8xx9/fNX8F154ga1bt7JlyxbKlCnj9OOJiIiI3AyFChXi3Xffveb8rVu32v%2B2WCyEhoYSGhqa47IWi4XBgwczePDgG27PTT/8bbVa%2BeKLL2jfvj3Lly/P07rTp0/nt99%2Buynt%2BvXXX/n9998dpp0/f97hfAIRERG5e9xJ51S6IqeSyqysLN566y0aN27Mgw8%2BSKdOnfjmm28clvm///s/3N3defHFF9mxYwdnzpxxmB8dHc3TTz9NcHAwDz/8MIsXLwagU6dOHDlyhNDQUF599VV%2B/PFHAgMDSUtLo3v37leVZMePH0%2B/fv0AiImJ4fnnn6devXrUqVOHESNGkJSU5LB8kyZNWLt2rcO0jRs30rBhQ4dpqampjB07lubNm/Pggw/Sp08fjh49ap8fGBjIunXr6Nq1KzVq1KB///6cOXOGfv36ERwcTNeuXTl16pRDzPfee48GDRrQsGFDpk6dah/Cn5WVxfTp02nZsiU1a9bk0Ucf5ZdffrGvFxISwpw5c2jRogVvvPHG3%2B8cERERyRMllc5x6pzKdevW8f3337N69Wp8fX1ZuXIlL7/8Mv/3f/%2BHh4cHAJ999hkdOnSgVKlS1KpVixUrVjiUXgcOHEjdunWZNWsWv/76K48//jgVK1Zk9erVBAYGMnv2bJo2bcqPP/5oX6dNmzasWbOGgQMH2qdt2bKFQYMGYbPZCA0NpVatWkydOpVLly4xbNgwJk2axLhx4xxiTJ48mf79%2B9unrVmzhqeffpovvvjCPm3y5MkcOHCA8PBwfH19mT59OgMHDuTLL7%2B0X3D0008/5b333uPSpUt07NiRZ599lkmTJlGuXDkef/xxFixYwOuvvw7AkSNHaNCgAV9//TX79%2B/n6aefpkqVKrRt25ZFixaxbt06PvjgA0qVKkV4eDgvvPAC27Zto0CBAvY%2Bnz9/PuXKlcv1foqLiyM%2BPt5hmn%2BxYgTk8jpZ8qcrLjBrJI6peABuhg46XNk2AzFducvkHyQ42EycKlUcf/%2BDeXmZiXN5iMMdOtRBDHMqqbxw4QL58uUjf/78uLu78%2Bijj/LII4/g9ueHUXx8PNu3b2fYsGEAdOnShTlz5vDCCy9gsVg4cOAAhw4dYtGiReTPn5%2BqVasyc%2BZMSpQo8beP26ZNG9555x1iYmLs11iKj4%2BnZcuWREREcOTIEZYuXUr%2B/PnJnz8/gwYNol%2B/fowdO9Yeo1GjRrz66qtERUVRpUoVYmNjOXr0KI0bN7Yvk5WVxYoVK5g2bZq9TUOHDuXjjz9m37591KxZE8i%2BgOjla1BVqFCBatWq2W91VLduXYfbJbm5uTFgwAA8PT156KGHaNKkCdu3b6dt27Z8/vnn9O3bl/LlywPZ564uWrSIbdu20a5dOyC7wnrvvffmaT/leDX/AQMY5MR5E1f58xpZLslUJmL6XfPPL14uydvbTBgjUf7H1AfhzWDsJeBu%2BHlh8Hlm%2BlVurM927TIU6E9LlhgL5ap99ufHjDGlSpmNd7vcbZVF05xKKtu3b8%2BqVato2rQpjRo1onnz5rRv396eVH7xxRdUrlyZ%2B%2B%2B/H4DWrVszduxYfvzxR%2BrXr8/Jkyfx8fGhSJEi9ph/Pfyck9KlSxMUFMTmzZt58skn2bRpE02aNKFw4cJER0djtVqpV6%2BewzpWq9XhVkP58uWjffv2rF69mipVqvDll1/SunVr%2BzB8gD/%2B%2BIPk5GRCQ0MdboOUlZXF6dOn7UnlPffcY5/n5eXlkBR7eXmRnp5u/79cuXIOo9fLlSvHoUOHADh58iQTJkxg4sSJVz3WldueVzlezb9YMbBa8xwrR%2B7u5mKZqrhdZrGAk3cIsMvIMBPHYsn%2BoM/IMNc2U/1vsWQnlKmpRtqWaslvoFHZzfLygrQ0c11mMqc3%2BRJwzzL0PIP/Pc8MsboZTFBN9lmdWmYCVamSnVD27g1XXPvPGdafzCW8JvssOtpMHE/P7ITy99/hio86p5hOeOXWcSqpLFKkCMuWLWPXrl18/fXXTJ8%2BnaVLl/LJJ5%2BQL18%2Bli9fzqlTpwi%2B4tBEeno6y5cvp379%2Bri5uZF1g18L2rZt65BUvvDCC0B2ElegQAF2796d43qXLl2y/925c2cGDBjASy%2B9xJo1a3jttdcclvX%2Bs1rz6aef2ofc58Tyl0qY298kRn9d1maz2ZNMb29vxo8fT%2BvWra%2B5vvsNfE3N8Wr%2Bpt6Z7iamspkr45mKaerr9eXnrs1mJKbN8HcEk10m/yDXeL%2B/YVFR5mO6mLQ0s/HS083HvB1UqXSOU2/5aWlppKSkUKtWLYYPH87atWs5fPgwUVFR7Ny5k1OnThEeHs7KlSvtPxMmTGDjxo1cvHiRsmXLkpycTFxcnD3m5s2b2blz53Ufu3Xr1uzatYu9e/cSExNjr8SVK1eOS5cuEX3F17CkpKQcb4hevXp1fHx8WLt2LYmJidSq5fhtt1ChQhQpUsReSbzsrwNv8uLUqVNkXFE5OHnypL2yWbZsWaOPJSIiIrmngTrOcSqpnDBhAi%2B//DLnzp3DZrMRGRlJVlYWpUqV4rPPPqNJkyZUr16de%2B%2B91/7TqVMnChUqxNq1a6latSoPPPAA06ZNIzk5mcOHD/Paa6%2BRmpoKZFcdf/vtt6tGbkP2YeBq1arx9ttv06xZMwoWLAhA5cqVCQ4OZsKECZw7d44LFy7wxhtvXPOG7J07d2bq1Kl06NAhx/k9e/Zkzpw5HDt2jIyMDBYuXEi3bt1ISUm5oT7LyMhg3rx5pKens2fPHr777jtatWplf6xPPvmEPXv2YLVaWb9%2BPR06dLjq0kciIiIirsappHL48OG4ubnRunVratWqxYQJE5gyZQoeHh5s3LiRbt26XbVOvnz56Ny5s/2ale%2B99x4xMTE0bNiQ559/ntDQUJo2bQpkJ1lvv/02L730Uo6P36ZNG37%2B%2BWfat2/vMH3KlCnYbDZatGhBq1atsFqtvPXWWznG6NixI6dPn6ZTp045zg8NDaVJkyb07t2bevXqsWnTJubNm0f%2B/Dd2rlhQUBA2m40mTZowYMAAnn32WfvgoG7dutG7d28GDhxI7dq1%2BeCDD5g5cyal/ilnQIuIiLgwVSqdY7HZdIbSXcnkOZV3y0AdU2ehWyzZZ7enp5trW2ammThubpA/P6SkGHk3THEraKBRxscPAWYH82ugTt4Z7bN8hq7wEBycPZK8Vi1j51RaM819xJrssysut%2BwUL6/sgTW//mrunMrAQDNxbsSgQeZjzphhPqarumPu/S0iIiJyM91tlUXTlFSKiIiIoKTSWTf93t8iIiIi8s%2BnSqWIiIgIqlQ6S5VKEREREXGaKpUiIiIiqFLpLCWVIiIiIiipdJYOf4uIiIiI01SpFBEREUGVSmepUikiIiIiTlOlUkRERARVKp2lpFJEREQEJZXOUlJ5l7K5uRuLZTEYz5JlNRLHzt3d3LuEp6eZOJd5eBgLZfP0MhbLAti88xuJld/o/nTH28Pw88MYd9wx1DY3w2clmY7ngqyZNmOx3AHrT7vMxctnMRMoOBh27cK9Ti3YvdvpcIGZmQYadZk75cuafa3LnUlJpYiIiAiqVDpLSaWIiIgISiqd9c8/LiIiIiIiN50qlSIiIiKoUuksVSpFRERExGmqVIqIiIigSqWzlFSKiIiIoKTSWTr8LSIiIiJOU6VSREREBFUqnaVKpYiIiIg4TZVKEREREVSpdJaSShERERGUVDpLh79FRERExGmqVIqIiIigSqWzbkulMiYmhqCgIE6cOHE7Hv5vbd%2B%2BncDAQGPxfvzxRwIDA0lLSzMWU0RERMTV5KlSGRISQmxsLG5uV%2Beib775Jh06dLjmujt27MDHx4egoCBKly5NRERE3lubC4mJiWzatInu3bsbiZeUlMR///tftmzZwtmzZ/Hw8KBOnTqEhYUZTT5FRETk9lKl0jl5Pvw9cuRIevXqlecHWrhwIc2bNycoKCjP6%2BbFDz/8wGeffWYsqXzxxRdJS0tj4cKFlC1bloSEBGbMmMGTTz7J5s2b8fHxMfI4IiIicnspqXSO0XMqt23bxpQpUzh16hQFCxakc%2BfODB8%2BnNDQULZt28a3337LV199xYQJE2jRogXr16%2BnYsWKhISE8Oyzz7J%2B/Xr27dtH1apVmTp1KpMnT2br1q0EBAQwZcoUqlevDsDq1at57733OH36NEWLFuWZZ56hd%2B/efPnllwwfPpysrCyCgoJYv349pUuXZubMmaxevZr4%2BHgqVarEf/7zH2rXrg3Ar7/%2ByiuvvMKhQ4eoVKkSnTp1ctim7777jkmTJlGuXDkA/Pz8ePXVV6lZsyZWqxWAkydPMmbMGPbv3w9Ao0aNGD16NIULF76qjyIiInjzzTc5fPgwnp6etGrVipEjR%2BLh4cGPP/7I888/z5AhQ5g%2BfTrvv/8%2Bffv25ZtvvqFo0aIApKam0qBBA2bMmEHjxo1ztV/i4uKIj493mFa8uD8BAQG53bUiInIjgoPNxKlSxfG3iAsyllRmZGQQFhbGrFmzaNCgAb/99hvPPPMMwcHBvPfee/bEsVevXpw6deqq9ZcsWcL06dMpVKgQXbp04fHHH2fcuHFMnDiRAQMGMHPmTN577z2io6N5%2BeWX%2BfDDD2nQoAE//PADTz/9NLVq1aJt27YcPXqUb775hmXLlgGwYMEC1q1bxwcffECpUqUIDw/nhRdeYNu2bRQoUIBXXnmF0qVLM3/%2BfE6fPs2QIUMc2nXffffx8ccfU716dXti6enpSZcuXezLjBw5ktKlS/PNN9%2BQlJREv379mD17Nq%2B88spV2xkWFkanTp346KOPiI2NpWfPnlSqVIk%2BffrY%2B/G3337j%2B%2B%2B/x8vLixIlSvDVV1/Zq8PffvstBQsWpEGDBrneN%2BHh4cycOdNh2oABAxk8eFCuY1yPxWIokLu7oUA3OaYJxjoNzEX6M56r7k9X3Zfgum0z2C7TW3gXdBns2mUwGLBkidl4prjqzswjVSqdk%2Bekcvz48UycONFhWoECBdiyZQupqakUKFAAi8VC%2BfLl2bhxY47nX%2BakefPm3HfffQDUqFGD5ORkGjVqBEDjxo359NNPAShTpgw//PADvr6%2BADRo0IBixYoRGRlJlRy%2BwX3%2B%2Bef07duX8uXLA9CnTx8WLVrEtm3bqFOnDrt372bMmDEUKFCAihUr0rVrVyZNmmRf/%2B2332b48OG0atWK8uXLU7duXZo3b07z5s1x//NF9P7772OxWPD09MTPz48mTZqw6xpvJCtXrsTT0xN3d3dKlSpFnTp17BVOyE4qe/fujbe3NwCdO3dmzZo19qRy48aNtGvXzv7YudGjRw9CQkIcphUv7o/NlusQf8tiwVysLKuZQJe5u4PVUMxcPpdzxWSnATaDaaXL7k%2BT%2B9I0V22b4XZZDaaVd0mX4V6nlplAVapkJ5S9e0NUlPPxfvrJ%2BRiXGe%2B0f0aCeiskJiYyevRodu7ciZubG82aNeP111%2B35xBXGjlyJKtWrXKYZrVa6dy5M2%2B%2B%2BSavvPIKq1evdsgvvLy8%2BPnnn3PdHqPnVA4YMIB///vf1KhRg0aNGtG1a1fuueeeXMUtWbKk/W8vLy%2BHcxW9vLxIT08HwGKxsHTpUj7//HPi4uKw2Wykp6fb5//VyZMnmTBhgkMinJWVxenTp4mNjQWyE9XLLiefl1WpUoV169axf/9%2BduzYwc6dOxkyZAiBgYEsXryYggULsn//fqZMmcKhQ4fIyMjAarXaD9X/1Q8//MCsWbP49ddfyczMJDMzkzZt2jgsU6pUKfvfXbp0Yc6cOcTExBAQEMC2bdv48MMP/64rrxIQEHDVoW6D%2BYyIiFzL7t1m40VFmY8pdndapfL1118nPT2dtWvXkpGRwZAhQ5g8eTIjR468atnx48czfvx4%2B/%2BZmZl06dLFIQd54YUXGDToxo9iGr2k0MCBA9myZQvt27fn559/pl27duzbty93DflLFehaFc7PPvuM999/n/Hjx7N7924iIiIcEtK/8vb2ZsqUKURERNh/IiMj6devnz0RtV7xDSvrGs%2Bo6tWr8%2ByzzzJv3jxWr17N8ePHWblyJefPn6d///7UqlWL7du3ExERQf/%2B/XOMcezYMYYMGcIjjzzCjh07iIiIyHHEfL58/8v1y5UrR82aNVm3bh07d%2B7Ez8/vpg92EhERuRtlZZn/uVnOnj3L5s2bCQsLw8/PjxIlShAaGsry5cvJyMi47vqLFi2iVKlSNGvWzFibjCaViYmJlChRgscff5wFCxbQpk2bq0qtzoqIiOChhx6ifv36uLu7Ex8fT1xc3DWXL1u2LIcOHXKYdvmczsvVu9OnT9vnHTt2zP734cOHGT9%2B/FWJZoUKFShTpgwpKSkcP36c5ORk%2BvXrZ6%2BuHjhwIMe2HDx4EE9PT5544gm8vb2x2WwcPHjwutvcpUsXvvrqK7788ks6dux43eVFRETENcTFxREZGenw83d5S24dPHgQd3d3h8sbVqtWjUuXLnH8%2BPG/XffChQu89957vPTSSw7Tf/jhB7p06UJwcDDdunVzOD0vN4wllbt376Zt27bs27cPm83GH3/8wYkTJ%2ByDW7y8vDh58iQXL1506nFKly7N8ePHOX/%2BPDExMYwfP55SpUrZD2V7eXkRHx9PYmIi6enp9OzZk08%2B%2BYQ9e/ZgtVpZv349HTp04Pfff6dMmTJUrFiR%2BfPnk5KSwuHDhx2S4OLFi7NmzRpGjRrF77//js1mIykpicWLF/Prr7/StGlTSpUqhZubG7t37%2BbSpUssXLiQs2fPcvbsWTIzM69qe2pqKgcPHuT8%2BfO88847eHp62g/jX0u7du04evSokkoREZGb6GZUKsPDw%2BnatavDT3h4uNNtTUxMxMfHB8sVIysvjzdJSEj423U//vhj6tSpw/3332%2BfVrZsWe69917mzp3LN998w0MPPcTTTz993VhXMjJQB6BDhw688MILDB06lLNnz1KkSBHatm3L448/DsBjjz3GtGnT%2BP7775k1a1ZeH9auV69e7Ny5k2bNmlG6dGlGjx7N/v37mTZtGv7%2B/rRs2ZIlS5bQvHlz5s%2BfT7du3Th9%2BjQDBw4kKSmJChUqMHPmTPt5i9OnT%2BfVV1%2BlQYMGVKxYkX79%2BvGf//wHyL580JIlS5g5cyY9evQgMTERLy8vatSowYIFC6hcuTIAw4YNs6/Tu3dvJk%2BezBNPPEHv3r0ZPny4ve3BwcE8/vjj/Pvf/yZ//vy88MIL/Oc//%2BGFF14gLCzsmueqFi5cmObNmxMbG2tP0kVERMT15TRY1t/fP1frrlq1ihEjRuQ4Lyws7G8LUtditVr55JNPmDJlisP0AQMGOPz/0ksvsXbtWjZv3pzra39bbDfSIrnl/v3vf9O5c2djF3U3uddddrQwaPT3DXDZ/emqw4XBddum0d95Znwgcz5Dr83g4OzLE9WqZWagzl%2BOpDnlHzT6u0kT8zG/%2BcZ8TMi%2Bjnb//v3Zt2%2BffcT22bNnadSoEWvXrnWoQl7phx9%2BYNCgQezYscNhDEdOunfvTvPmza9KOK/lttz7W3LPZrOxZMkSYmJidOhbRETkJrqTBupUrVoVm81G1BWXmIqIiKBw4cL2SzTmZMuWLdSvX98hobTZbLz55psOsdLT0zl58iRly5bNdZuUVLq4mjVr8sknn/Df//43x%2BtOiYiIyN3Hz8%2BP1q1bM23aNM6dO8eZM2eYNWsW3bp1syeMTz75JOvXr3dY7%2BDBgw6XUoTsyzWeOnWKMWPGEBsbS3JyMpMnT8bDw4OWLVvmuk1Gb9Mo5uX2kkwiIiLinDvtOpVjx47ljTfeoEWLFnh4eNChQwfCwsLs86Ojozl//rzDOvHx8RQvXvyqWBMmTGDSpEl07dqVpKQkatSowaJFiyhQoECu26NzKu9SOqfyBuicyrzH0jmVt5fOqcwznVN5A/5B51Tm4Q7IubZjh/mYrkqVShERERHuvEqlq1FSKSIiIoKSSmdpoI6IiIiIOE2VShERERFUqXSWKpUiIiIi4jRVKkVERERQpdJZSipFREREUFLpLCWVdymTlyjz8DAXL18%2Bs9cnswA2NzMxTfdZRqa5a0t6rF5uJlCRItCiBZatWyAx0elwGZ0edTrGZR7ukJFl7vnhcSbaUCAPKFkS4uMhI8PpcCcyc39LtL/j6QmlS0PMGXfS042EpHx5M3EuM3Xp18OHzcTx8srexuhoSEszEzPQ5BsHwE8/mYlznXs%2B59rl62fWqWPm%2Bplg9kLKckspqRQRERFBlUpnaaCOiIiIiDhNlUoRERERVKl0lpJKEREREZRUOkuHv0VERETEaapUioiIiKBKpbOUVIqIiIigpNJZOvwtIiIiIk5TpVJEREQEVSqdpUqliIiIiDhNlUoRERERVKl0lpJKEREREZRUOkuHv0VERETEaapUioiIiKBKpbNUqbwFWrduzWeffWYk1tKlSwkJCTESS0RERMQUVSpzKSQkhNjYWNzcrs7D33zzTTp06HDNdTds2GD/Ozo6msjISNq0aXNT2ikiIiI3RpVK5yipzIORI0fSq1cvp2Js3LiR/fv3K6kUERFxMUoqnaPD3wYcPnyYmjVrEhUVBYDNZqNnz56MHz8eyK5yLl26lA8//JDJkyfz1VdfERQUhNVqJTU1lbFjx9K8eXMefPBB%2BvTpw9GjR%2B2x9%2B7dS6dOnXjwwQd56qmn%2BOOPP27LNoqIiIj8HVUqDahcuTJPPfUUEyZM4KOPPmL16tXExcUxbNgwh%2BX69evHkSNHSEtLY%2BrUqUD2ofMDBw4QHh6Or68v06dPZ%2BDAgXz55ZdkZWUxePBg2rdvz5AhQ4iKimLQoEHky5e33RYXF0d8fLzDtKJF/fH3D3Buw8V1FCliJk6hQo6//8k8PMzEufx6zOPr8lo8DX3Vv7x5pjbTlXl5mYnj6en4%2Bx8tONhMnCpVHH/f4VSpdI6SyjwYP348EydOdJhWoEABfvzxR0JDQ%2BnUqROfffYZM2bMYMKECRQoUOBv42VlZbFixQqmTZtGiRIlABg6dCgff/wx%2B/btA7ITwhdeeAEvLy9q1qxJq1at%2BPrrr/PU7vDwcGbOnOkwbcCAgQwePChPcf6OK39wWSxm4pjeRqPxWrQwGAyoW9dIGNNPC6N9VrKkwWBA8eJGwpQ2EuV/Alz4u6Op12b58mbiXFaqlMlo7iaDgbuheLt2mYlz2ZIlZuPJHUlJZR783TmVnp6ejBs3jj59%2BtChQweaNGly3Xh//PEHycnJhIaGYrni3TUrK4vTp09jsVgoXLgwha6oGpW/gXfPHj16XDVivGhRfzIy8hwqRx4eGItlqNhjZ7GAzWYmVmammThgts8APLZvMROoUKHshHLnTrh40elwGU3NJbvG%2B%2ByPM2YC5cuXnVCePWvkSRJjNZPsenhkJ5Rxceb6zWSyZfK1%2BdtvZuJ4emZv4%2B%2B/Q3q6mZjly1rNBILshNJqKF6dOmbiVKmSnVD27g1/ngLmNNMJbx6oUukcJZUGnTp1ivz58xMdHU1WVlaOI8Wv5O3tDcCnn35K9erVr5q/Zs0arH95A8m6gWd8QEAAAX8pV5j8cBYXkJhoNt7Fi%2BZjuhrTL4LMTCMx0w1%2BeYHsJplKkFxVWprZeOnp5mO6nN27zcaLijIf8zZQUukcDdQx5Ny5c0yaNIm5c%2BeSkpLCRx99dN11ChUqRJEiRTh06JDD9FOnTgHZyWBSUhIXr6gYHTt2zGzDRURERAxQUmnIxIkTefjhh6lbty6jRo1i2rRpxMTEXLWcl5cXp0%2Bf5sKFC2RmZtKzZ0/mzJnDsWPHyMjIYOHChXTr1o2UlBRq1qyJr68vH3zwAenp6fz88895Pp9SREREcicry/zP3USHv/Mgp4E6AP7%2B/iQlJfHVV18B8NBDD/Gvf/2LUaNG8eGHHzos27FjR7766isefvhh1qxZQ2hoKBcuXKB3795kZGRQtWpV5s2bR/78%2BQGYNWsWo0ePZuHChQQHB/P000/nqgoqIiIicitZbDZTp0rLncTogAcN1Mkz44NOVi83E6hIkeyR5Fu2GDmnMqPTo07HuMx4n52JNhTII3sk%2BZkzRhp4IrOsgUZlDzopXRpiYgwOOilvJg6YfW0ePmwmjpdX9jb%2B%2Bqu5cyoDK7noQB1Tb7bBwdkDa2rVMndO5W1MS3x9zcc8f958TFelSqWIiIgId9/hatN0TqWIiIiIOE2VShERERFUqXSWKpUiIiIi4jRVKkVERERQpdJZSipFREREUFLpLB3%2BFhERERGnqVIpIiIigiqVzlKlUkREROQOFRERQatWrXjssceuu%2BzixYtp3bo1tWrVolevXuzfv98%2BLy0tjVGjRtG0aVPq1avH4MGDSUhIyFNblFSKiIiIcOfd%2B3v16tUMGjSIe%2B%2B997rLbt26lRkzZvD222/z/fff8/DDD/P8889z6dIlAKZOnUpkZCTh4eFs2LABm83Gq6%2B%2Bmqf2KKkUERER4c5LKtPS0ggPD6dmzZrXXTY8PJyuXbtSs2ZNvL29eeaZZwD4%2BuuvyczM5PPPPyc0NJR77rmHIkWKMHToULZt20ZsbGyu26NzKkVERERukri4OOLj4x2m%2Bfv7ExAQ4HTs7t2753rZyMhI2rVrZ//fzc2NqlWrEhERQdWqVbl48SLVqlWzz69YsSLe3t5ERkZSokSJXD2Gksq7lIeHmThxcXGEh4fTo0cPIy8Qk0y3zaX77NFHjYSJi4sjfMYMc31moE1wk/qsbFkjYRz6zEDM%2Bwy0CbLbNWNGdp%2BVLv3Pfm0GBhpoFI59Vr68qT5zNxLF%2BGvAZnM%2BBlc8/7/6yuU%2BA26EoW5xMGNGODNnznSYNnDgQAYNGmT%2Bwf5GYmIivr6%2BDtN8fX1JSEggMTERgMKFCzvML1y4cJ7Oq9Thb3FKfHw8M2fOvOpbmCtw1ba5arvAddvmqu0C122bq7YLXLdtrtoucN22uWq7XEmPHj1YsWKFw0%2BPHj1yte6qVasIDAzM8WfFihV5bovtOlnz9eZfjyqVIiIiIjdJQEDADVdxO3fuTOfOnY20o2jRovaK5GWJiYncf//9%2BPn52f8vWLCgff758%2BcpVqxYrh9DlUoRERGRf7jq1asTGRlp/99qtXLgwAFq1qxJ2bJl8fX1dZh/%2BPBh0tPTqV69eq4fQ0mliIiIyD9QmzZt%2BPnnnwHo1asXK1euZM%2BePaSkpDBnzhw8PT1p3rw57u7uPPbYY7z33nucPn2ahIQE3n33XVq1akXx4sVz/Xg6/C1O8ff3Z%2BDAgfj7%2B9/uplzFVdvmqu0C122bq7YLXLdtrtoucN22uWq7wHXb5qrtulu0bt2a33//HavVSlZWFkFBQQB89dVXlC5dmhMnTtivQ9m0aVOGDRvG0KFD%2BeOPPwgKCuL999/H29sbgMGDB5OcnEznzp3JzMzk4YcfZvTo0Xlqj8Xm7FmZIiIiInLX0%2BFvEREREXGakkoRERERcZqSShERERFxmpJKEREREXGakkoRERERcZqSShERERFxmpJKEREREXGakkoRERERcZqSShERERFxmpJKEREREXGa7v0td7zff/8918uWKlXqJrYkdxISEihatOjtbsZVXLVd4NptExGRbKpUSp7Fx8ff7iY4CAkJoUWLFrn6uV2Sk5MZNWoUDz74IE2aNAEgMTGR5557jnPnzqldd1jbXFlUVJT975iYGBYuXMjWrVtvY4tc35gxY253E3L0/fffY7PZbnczRHJNlUrJs3/961/8/PPPuLu73%2B6mALB%2B/Xr73/v27WP58uX06dOH8uXLk5WVxdGjR1myZAl9%2B/a9bW0cO3YscXFxfPDBBzz99NMAeHh44OPjw/jx43n33XfVrjuobQB79uxh1apVxMbGMnv2bLKysti4cSNt2rS5bW1asGABc%2BfO5YcffiAxMZHHHnuMihUrEhsby9GjR%2Bnfv/8tbU%2BfPn2wWCy5Wnbx4sU3uTXX9s033xAdHU3ZsmVvWxtyMmDAAHx8fGjfvj0dO3akWrVqt60tISEhud6XW7ZsucmtEVelpFLyrGfPnsyaNYt%2B/fpRsGDB290cKlSoYP97yJAhfPjhhwQEBNinValSheDgYJ577jn%2B9a9/3Y4msm3bNr788kv8/Pzsb8wFCxbkjTfeoHXr1relTa7cLldv27Jly3jrrbdo27Yt33zzDZBdwZ84cSJxcXE88cQTt6VdH330ER9%2B%2BCEAX3zxBWXKlGHx4sXExMTQt2/fW55UPvjgg/a/U1JSWLVqFbVr1%2Ba%2B%2B%2B6zf%2BHbt28fvXv3vqXt%2Bqtu3boRGhpK06ZNKVWqFPnyOX409ujR47a064cffuCbb75h06ZNPP300xQrVoyOHTvSoUOHW54AX/nc%2BeOPP1i2bBmtWrVy%2BPK%2Bbds2%2BxdAuTspqZQ8%2B/bbb4mLi2Pu3LkULlz4qorlt99%2Be5taln24r0CBAldN9/X1JSYm5ja0KJvFYsHHx%2Beq6VarlbS0tNvQomyu2i5w7bbNmzePefPmUbt2bdasWQNAiRIlmDt3LkOGDLltSWVCQoK9mvXtt9/aq6alS5fm7Nmzt7w9w4cPt/89bNgwpkyZQtOmTR2W2bx5M2vXrr3VTXOwbNkyAL788sur5lksltuWVHp5edGyZUtatmxJZmYmO3fu5Msvv6Rr165UrFiRxx57jA4dOuDp6XnT29KzZ0/73/369WPGjBnUqFHDYZmff/6Z2bNn39ajQnJ7KamUPHPlb6K1atUiNDSUfv36Ubp0aTIzMzlz5gyLFy8mODj4trUrODiYt99%2BmxdffNE%2BLSYmhgkTJlC3bl21Kweu3LazZ89Sq1YtAIdDgpUqVSIuLu52NYuAgACOHj2Kt7c3O3fuZPTo0QCcOHGCQoUK3bZ2QXbl%2Be23375qerNmzXjppZduQ4v%2B50445zQ%2BPp7IyEgiIyNJT0%2BnRIkSfPHFF8ycOZMZM2bc0kPju3btokqVKldNr1GjBrt3775l7RDXo6RS8uyRRx653U24prfffpsJEyYw5P/bu/OomvP/D%2BDPW1S2NJZCi30sQ0pZShhllDZkyZIlI5V9wjQjEkqDsgySkYTRF6lIoSbbV2RNm6mJpF1XmNJ66977%2B6PTHbm31Hd%2Bc9%2BXeT3OcU59Pvec%2Bzy5dV/3vbzeq1ejqqoKANCqVSsYGBjAy8uLWa5NmzZh2bJl0NfXR21tLfT09FBRUQFdXV34%2BvrKXC4dHR3maxZl9WcGAD179sTdu3dhYGDQ4HpkZCTTDgOOjo6YOXMmhEIhpk2bBk1NTbx79w7Ozs6wsbFhlguoK3jPnDmDefPmNbgeFhaGrl27Mkr1l6qqKly/fh1FRUWikbaXL1%2BiW7duzDKVlJTgypUruHjxIh4/foxhw4bB1tYW5ubmog8JwcHB%2BOGHH0Qj5tKgpaWF/fv3w9HRUTSbUFZWhoCAAGhoaEgtB5E9HCFtLSMtxOfzcfToUZw/fx6vXr3CgwcPUF5eDl9fX7i6ukJRUZF1RAB1O4V5PB46deoktkaKlZSUFOTm5kJRURFaWlro378/60gA6jY45eXlyVwuQDZ/ZpcuXYKbmxuMjY1x5coVzJkzB3/88QceP34MX19fpms%2Bi4qKUFZWhr59%2BwIAhEIhLl26BHNz82ZvtPgnXLt2DS4uLmjXrh26d%2B8OPp%2BPoqIivHv3Drt378Y333zDLFtCQgKcnZ2hrKyMwsJCpKamIj8/H5aWlvDz8xP78CAtQ4YMQffu3WFtbY2pU6c2uo5y2LBhSEpKklqupKQkrF69Gq9evYKysjL4fD7KysqgrKyMgwcPQk9PT2pZiGyhopK0mJeXF%2B7fv4/Fixdj06ZNSE5Oxp9//onVq1ejd%2B/eoik38hcnJyf4%2B/uzjiGmqR6fcnJy6NKlC7OCXFZ/ZvVSUlIQHh6OnJwcKCkpQVNTEzNnzmywcUzaTE1NER0dLXa9tLQUpqamiI%2BPZ5DqL%2B/evcOtW7dQVFQEHo8HVVVVGBoaQk1NjWmumTNnYurUqZg3bx60tbWRnJwMoO7Dw9GjRxEaGsok18OHD6Gvr8/kuT9GIBAgNTUVL1%2B%2BFP1fDhs2TGYGFQgbsjF8Qz4pUVFRCAkJgbq6Otzd3QEAKioq8PHxwbRp05gUlUZGRs16HKtNRAUFBUhNTcWQIUOYPH9jPtYmRE5ODoaGhvD09JT6G7%2Bs/szqDRkyBP369UObNm0A1E1VStpYJA3x8fG4c%2BcO8vPzJS5byMvLA4/HY5DsL1u2bMHmzZthbm7ONIckT58%2BFW3Gef/3wczMDG5ubqxiwcnJCXfu3JHKRpyWkpP7q821paUlADDfQEfYo6KStFhNTY3EdUZt2rRBeXk5g0QNd5nKonHjxmHVqlXQ1taW2LLExcWFSa7Dhw9j3759mD17NoYOHQoOh4OUlBScO3cOTk5OaNOmDYKCgrBt2zYcOHBAqtlk9WcG1DUYX7ZsGdatWycqkkJDQ3Hy5EkcOnRI4iaGf1LHjh1RUVEBPp8vcaOEkpISPD09pZrpQ7LaCxIAunbtisLCQrFsKSkpzD4oAMDKlSuxY8cOzJ07Fz169BDrtMGq2MzMzMSKFStQUFAAgUCAlJQU5OfnY%2BbMmQgICMDgwYOZ5CLsUVFJWuyrr75CYGAgHBwcRNcqKyvh4%2BPDbFSpfvPQq1evZGLR/4eSkpKgrq6O169f4/Xr1w3usVzntnfvXuzduxc9e/YUXRs4cCD09fXh5uaG4OBgfPXVV0z6e8rqzwyoG3WbPn06jI2NRdfs7OxQW1uLrVu3Ijg4WKp5Bg8ejMGDB4PD4WDjxo1Sfe7mktVekABgZWUFBwcH2NvbQyAQIDY2Funp6Th16hTTHpp79%2B5FbW1to6%2BntLQ0KSeqs3XrVpiYmGDVqlWi6Xl1dXUsXboU3t7eOHnyJJNchD1aU0laLD09HUuWLAFQ1wS3f//%2ByM3NRadOneDn54cBAwYwy6arq4tHjx41mJohjRs2bBji4uLE2s2UlZXByMgIiYmJePfuHSZOnIh79%2B4xSil7hg8fjgcPHoiNHNXW1mLEiBHM2qrweDz4%2BfnByMhI9GYfERGBZ8%2BeYcWKFUynUd8vwD/E4XCYnsIiFAoRFBSE0NDQBmtkZ8%2BejRkzZjD7EHP//v0m77NqraWrq4t79%2B5BQUGhwSah2tpajB49Gg8fPmSSi7BHI5WkxQYOHIjY2Fhcv34dubm5UFJSgpaWFoyMjJjvsp49ezYOHDggM6f9vO/p06eIjo4WNWHv2bMnLCwsmE4H6ujowNnZGYsXL0aPHj3QunVr5Ofn49ixY%2BjXrx9qa2uxcuVKJrtfHzx40OT9ESNGSCmJOFVVVSQkJIhluH37Njp16sQoFeDp6YnU1NQG6xb79euH4OBgeHl5MT3juqlekB%2BOREsbh8OBvb097O3tmeb4UFNFo4uLC7OiUkVFBaWlpejSpUuD6zk5OczfAwhbNFJJ/meFhYUoKiqCoqIi1NTUmL6Z1rOysgKXyxW1t5CV034uXbqE77//HoMGDYKWlhaAuobUz549Q2BgILMdnm/fvsWGDRsQFxeHmpoaAIC8vDxGjBiB77//HoMHD4abmxu%2B//57dOzYUarZGluX2KpVKygpKTEdDblw4QI8PDxgaGgIDQ0NCAQCZGVl4f79%2B/Dx8WF2HKihoSGioqLwxRdfNLj%2B9u1bWFpa4vbt20xyvU8gEKC2tlb0fVFREaZPn/7RUbl/WnR0NG7evNngb9qkSZOYtRMC6tq3nT59GqmpqQ02WnG5XGRkZDCbPdi6datoXfGyZctw5swZpKen49ChQxg7diw2bdrEJBdhj4pK0mKZmZlYvXo1MjMzUf/y4XA40NHRwY4dO0RFEwvh4eFN3mfVuN3c3BwrVqwQ2/kaFhaG06dPi46JY0UoFOLPP/%2BEUCjE77//jrCwMFy9elWqve8%2B9OFuZT6fj%2BzsbBw7dgxWVlbN3vH/T0lNTcWFCxeQm5sLDocDTU1N2NjYSH2TzvtGjRqF6OhoqKioNLjO5XJhbm7OtBB/%2BvQpXF1dkZGRAT6f3%2BCetrY2zpw5wygZsGfPHgQFBWHs2LGimYOcnBzcuXMHS5cuhbOzM5NcHh4euH79OvT19XHlyhVYWFggLS0NCgoKcHNzE53qJG3V1dXYtWsXwsPDRZszVVRUYGtri%2BXLl8vkbnUiHVRUkhabNWsWNDU14eDgAC0tLQiFQuTk5CAgIAD5%2Bfk4ffo064gyR0dHB48ePZK4Bk8W1iAVFBQgLCwM4eHhePXqFYyNjWFjYyN2TrMsePfuHWbMmCGxH%2BO/3aZNm/D8%2BXMsXrwY6urqEAqFyMrKQkBAAIYOHcp0%2BtvOzg69e/eGqakpnJyccOTIETx58gR37tzBnj17pD4S/j4jIyPs27dPrGl3YmIiVqxYwWyGw8jICOfOnUO3bt1E/TOFQiF8fHygoaGBOXPmMMklFArB4XAgFArx%2BvVrKCkpoX379uDz%2BXj16hXTU4gIW7T4gbTY06dPcfz4cVF/PgAYNGgQvLy8mE4VAbJ72k%2BPHj2QlJQkNrLw5MkTdO7cmUkmHo%2BH2NhYhISE4P79%2Bxg2bBi4XC5CQkKYjrZ9TEVFBdPztYG6IjwgIACZmZkSe/Ox%2BmDl5uYGX19f/PjjjygtLQUAKCsrw8bGhnnbrfT0dAQFBaFVq1aQk5ODgYEBDAwMMGDAALi7u2Pfvn3MsgkEAgwdOlTs%2BldffdVgql7aqqurRQWavLw8eDweFBQUsHTpUlhZWTErKnV0dJCUlAQOh9NgXWVFRQWsrKw%2Buh6afL6oqCQtNmDAABQUFIiOgavH5XLRr18/Rqnq/PTTT7h//z4cHR1F63pqamqQmZkJb29vZqf9LFiwQPRGUP9ze/78OS5evAhHR0ep59m2bRsiIyOhoqICKysrbN26FZqamtDV1ZWZDU6SiqDKykokJSUx3aQD1G2SqKyshJGRUYMPV6wpKSnBzc0Nbm5uePv2LeTk5JiOAL5PSUkJlZWV6NChA9q2bQsulwtVVVUYGBhgzZo1TLMtXLgQfn5%2BWL58OVq3bg3grw%2BoCxcuZJbryy%2B/xIEDB%2BDo6IjevXsjJCQE8%2BbNQ2FhISoqKqSeJzo6GtHR0aipqZH4%2B1lQUCA2G0P%2BXWj6mzTL%2B9M/2dnZOH36NKZMmYK%2BfftCTk4OWVlZOH/%2BPObPn4/p06czy2loaCg67ef9VhevXr3CtGnTmE1jAXW7X0NDQ0Wnm2hpaWHKlClMThgZOHAgLCwssHr16gZrYHV1dRERESETDap//PFHsWsKCgro1asXZsyYIdYGSZp0dXVx8%2BZNKCsrM8sgiSzvmN%2B4cSNSUlLwn//8B66urqioqMCsWbOQlJSEmJgYxMbGSjWPra1tg1ZBGRkZkJeXh6amJuTk5JCbm4va2loMHToUQUFBUs1WLyUlBS4uLrhw4QLu3LmDNWvWQEFBAdXV1Zg3bx42bNgg1Ty5ubmIiYmBr68vpkyZInZfUVERlpaWMnu0JPnnUVFJmqW506EcDodZQ16g7k3z7t27kJeXb1BUlpWVYezYscz6B9arX4sE1K2nZNV%2BIy4uDufOncP169cxaNAgTJkyBZMnT8aECRNkpqiUZdOmTcORI0fEWqqwJss75nk8Ho4cOQInJycUFxfju%2B%2B%2BQ0pKiui4V0NDQ6nmackJUStWrPgHkzRfZmYm0tPToa6uDh0dHWY5AgMDsXjxYmbPT2QXFZXks7Jo0SKMGTMGDg4OoqKysrISO3bsQGZmJrOTHvLz87F%2B/XosXLgQpqamAIBjx44hOjoavr6%2BUFdXZ5Lr7du3uHDhAkJDQ5GVlQWBQIAtW7Zg2rRpzPvNvXv3DmfPnm103aKvry%2BDVHXu3LmDEydOYO7cuVBXVxdrtt%2B7d28muWR9xzz5uJac0S7NXdbnzp3DjBkzAOCjO/VZno5E2KKikvxP3rx5g7y8PLE3ew6Hw3TqQ1ZP%2B1myZAm6d%2B%2BO7777TtTP882bNzh48CBycnJw5MgRJrnel5iYiJCQEFy%2BfBlKSkqwtrbGDz/8wCzPkiVL8Mcff0BPT0/iukVvb28GqepIGhGs3w3LerReEtY75uPj4/H27VuxpR47duyAhYUFs%2BNd6xUUFCAwMBDZ2dkSP8CcOHFCalkGDhzY7BN8pPk6MzMzw5UrVwDI9ulIhC0qKkmL%2Bfv7Y//%2B/WK95gD2098AUFVVJXOn/ejr6yM%2BPl60CaAej8eDoaEh85ZC76uoqEBUVBRCQ0OZtofS1dXFlStXoKamxixDY%2BpPRWoMq5HnxhQVFcHMzIzJ8o9Hjx5h4cKFWLNmjegDX709e/YgODgYp0%2BfFtv4J002NjYQCAQYOXKkxA4R0tw535Im8KxO1CGkMbT7m7RYYGAgvLy8YGJiwqxFT1OUlJQwefJk1jEaUFZWRlZWFr788ssG19PT02Vq9zAAtG3bFjNnzsTMmTOZ5ujWrZvM7ET/UGNFo0AgwNy5c5kV47K4Y/6XX36Bk5OTWEEJAN999x3k5eVx4MAB7Nmzh0G6OllZWYiLi5OJ11tzCkU%2Bn4958%2BYxe51t374da9euFfv7X1hYCHd3d5mYeSFsUFFJWqxt27YwNzeXyVMT4uLisHPnTmRnZ0tcm8RqFNXOzg729vawsLBocKzfpUuXmLdTkVUbNmyAl5cXlixZAg0NDbEpQZavv7KyMhw8eBCpqami4y0BoLi4uEVr4v6/SfqZtG/fHkuWLBGth5O2lJSUJpcq2NnZSdxJLE16enrIzc2Vuf6ssvo6S05Ohrm5ObZt2ybaYHXixAns3btXtGac/DvR9DdpsfDwcKSmpmLp0qUyNzU5YcIEjB07FuPGjZM4ijp27FgGqerExsYiLCyswbF%2B06dPb3J90r%2BZvr4%2BKisrIRAIJN5nucxi7dq1yMrKwtixY3H06FE4ODjg999/R3FxMXx9fdGrVy9m2WSNrq5uk9PuAoEAenp6TDszFBUVwcHBAdra2lBTUxP7AMNq9/f7r7OAgAAsXbpUZl5nFy5cwO7duzFq1Cjk5OSgqqoKmzZtEjuViPy7UFFJWiw2NhYeHh54/fq1xPusWwrFx8cz37lM/r6PrS1juZ5s9OjRuHLlClRUVETH5wHA8ePHUVpaipUrV0oti6R%2Bno1hsbnJ3NwcPj4%2BGDx4sMT79%2B7dw%2BbNm0WbQFhwcnLCnTt30KdPH7EPoxwOh9k0syy9ziQJCQmBu7s72rZti8OHD1N/SkLT36TltmzZAmNj40ZHA1maOnUqIiMjMXXqVNZRRC5duoS%2BffuKdp7Hx8djz549qKyshImJCVavXt3s3Z7/Ju8XjW/fvsUXX3zBME1DQqFQ1Hy9devWqKioQNu2bTFr1iwYGxtL9c3%2B/d3KAoEAN2/ehIaGBnr37g2BQIDMzEwUFRUxW2dsaWkJDw8PHD58WOz/sKCgAG5ubpg2bRqTbPXi4%2BMRGRnZ4CAAWSBLr7P3ZWRkYNu2bXj9%2BjVOnjyJ3NxcrFy5EsbGxli3bp1M/a4S6aKikrRYdXU13N3dZXI0cO7cuVi8eDH8/PwkTmNJszUIUPdJ3tvbW9Ro%2Bc2bN1i2bBlGjhyJyZMnIzg4GB07doS9vb1Uc30KysvLsWPHDkRERKC2thapqan4888/4erqCm9vb1FrJhaGDh2KzZs3w93dHQMGDIC/vz/s7e2RmJjY6HT9P2X37t2ir7du3YqNGzeKnWp16tQpPHv2TKq56i1ZsgR3796FiYkJzMzMRMXu06dPERMTA319fTg4ODDJVq9fv34ysUnnQ7L0OnvfrFmzsHjxYjg5OUFBQQH6%2BvoYP348tm/fDjMzM9y7d49ZNsIWTX%2BTFjtw4ABUVVUxa9Ys1lHEWFlZQV5eXiZagwCAtbU11qxZI1o3efLkSRw%2BfBg3b96EvLw8Hj9%2BDHd3d1y8eFGquT4Frq6u4HK5WL58ORYvXozk5GSUl5fD3d0dQqGwQTElbTk5Odi0aROOHDmC5ORkODo6oqKiAnJycnBxccG3337LJFdjyz9Yt67i8/kICwvDb7/9JlpT3LNnT5iammLKlCnMR%2BovXbqE06dPw8rKCmpqamLN7Fk1jZe119mlS5dgbm6Op0%2Bfon///hIfY2JiQn0q/8WoqCQt5uzsjISEBCgqKqJbt25if4BZ9za8ffs22rZtyyzD%2B4YNG4aEhATIy8sDqFu71bVrV2zbtg1A3Zutnp4eEhMTGaaUTaNGjcLly5fRqVOnBkdulpaWwtTUFPHx8YwT/qW0tBTPnz9H9%2B7dmW5eMzY2xsaNG8U2f928eRMeHh64fv06o2TAq1ev0LVrV2bP35Smdn3LQu/deqxfZ%2B//HgKAgYGB2O/hh48h/y6yN39JZN5XX32Fr776inUMiYyMjPD8%2BXPmJ3TUU1BQgEAggLy8PIRCIR4/fowNGzaI7gsEArGinNThcDho37692HU%2Bny/x1JN/WlZWVpP3O3bsiIqKCmRlZTE7ptHJyQnLly/H4MGDoaGhAT6fj8LCQqSlpcHNzY1JpnqTJk3Co0ePZPL1np6ezjqCmIqKCvD5fNGaysrKSkRFRaGyshLjx49nUlR%2BOAZVXl4u9QxEtlFRSVqMVXuN5hg8eDBWrVoFXV1ddO/eXewNzMXFRap5evXqhQcPHsDQ0BBXr15FWVlZg6m05ORkdO/eXaqZZF1hYSG6d%2B8OXV1d7Ny5E%2BvWrRPdy8/Ph5eXF5Od35MnTxYdxSiJLBzTOGvWLOjr6%2BPq1asoKioCj8fDwIEDsXnzZmhrazPJVG/27NnYv38/lixZIpPrF4G638eXL19i0qRJAOrWj7PYjJiRkYFFixbhhx9%2BgLW1NQQCARYsWIBnz55BQ0MD%2B/btw7FjxzB8%2BHCp5vpwmQLrZQtE9lBRSVqsftNJY1gWnXfu3IG6ujq4XC64XG6Deyz%2BANrZ2WHVqlXQ09PDw4cPMWXKFHTu3BlA3RvYpk2bxM5D/rczMzNDUlISNm7ciOXLl0NfXx%2B1tbXQ09NDRUUFdHV14evrK/Vcn8o6sT59%2BkBTUxNcLhccDgdqamqi5RcsxcXFgcvl4pdffoGysrJYpri4OEbJgMzMTKxYsQIFBQXg8/lITU1Ffn4%2BZs6ciYCAgEbbIf1T9uzZAzMzM9Hfhhs3biAtLQ2RkZHo1asXTpw4gYMHD%2BLo0aNSzUXIx1BRSVrs1q1bDb7n8/nIz8%2BHUCiU%2BifnD508eZLp839oypQpUFRURHx8PFauXIm5c%2BeK7sXGxkJbWxtOTk4ME8qe%2BpFAdXV1nD9/HsnJycjLy4OioiK0tLQa3SDwT2vOed4VFRWYNGkSswKppKQEHh4eiI2NRW1tLQBAUVERlpaW2LRpE9MWYIsXL2b23B%2BzdetWmJiYYNWqVaJei%2Brq6li6dCm8vb2l/nfl4cOH%2BO2330Qbrm7cuIExY8aImp3b2Nh89MM9ISxQUUla7MyZM2LXBAIB/P39ZeLoxqdPnyI6Ohr5%2BfkAgJ49e8LCwgKamppM8piZmcHU1FRspNTFxQV8Ph%2BvXr1Ct27dmGSTRR/%2BnLS1tZlP3X6oqKgIXl5eSE1NbXBcXnl5OVRVVZnl2rJlC169eoUDBw6gZ8%2BeAOpG4fz9/eHj48N0XaWkXpSysqY4OTkZR44cgYKCQoPXn52dHZPijcfjQUVFRfT9/fv3MXPmTNH37du3Z7KumM/n4%2BzZs6IPfh9%2BX3%2BN/HtRUUn%2BX8jJycHBwQHjx4/HkiVLmOW4dOkSvv/%2BewwaNEjUyDgmJgZ%2Bfn4IDAxkduKDjo6OxB2RFRUVsLKywoMHDxikkk08Hg%2BzZ8/%2B6ONYdhnYtGkTgLqNMVu3boWHhweePHmCtLQ0HDx4kFmuW7duITo6ukEPz169emHIkCGYPXs2s6LywIEDEAqFYs2658yZg2nTpjXr//ufpKKigtLSUnTp0qXB9ZycHCb9eLt06YK8vDxoaGggNzcX2dnZMDAwEN0vLCxEx44dpZ5LVVUV/v7%2BjX5ff438e1FRSf7fPHjwQDTlxsqBAwewc%2BdOsXWKYWFh2LlzJ86ePSvVPNHR0YiOjkZNTY3EHpkFBQUysd5NlsjJyTHrC9hciYmJuHnzJtq0aQMvLy/MmDEDM2bMQGRkJPbv3w8PDw8mueTl5dGmTRux68rKyqioqGCQqO537/jx49i1a5fYvZUrV8LFxQU9evTAuHHjGKSrM2HCBKxatQrLli2DUChEWloa0tPTcejQIVhYWEg9j7GxMTZv3oyZM2fi119/Rb9%2B/Rqs6zx06BBGjBgh9VzXrl2T%2BnOSTwv1qSQtJukNv6qqCuXl5Vi0aBFcXV0ZpKqjo6ODR48eiRVqtbW1GD16tNSbP%2Bfm5iImJga%2Bvr6YMmWK2P369W50Zu5fPoU%2Bd4aGhrh%2B/ToUFRUxcuRIxMTEQEVFBTweD2PGjGE28rxs2TJ07NgR69evF41WvnnzBj4%2BPuByuQgICJB6plmzZmHRokWNbkiLjIzEmTNnmK6Hrq6uxq5duxAeHi5qk6OiogJbW1ssX75c6st6ysrKsG7dOty5cwe9e/fGjh07RL00vby8cPHiRQQHB6NPnz5SzUXIx1BRSVosLCxMbN2boqIievbsybx/pbm5OTw9PcU2DCUlJeH7779HdHQ0k1yBgYEyvVFBlmhrayM5OZl1jCatWrUKlZWV%2BPnnn7FixQp06dIF8%2BfPR2JiIvz9/Zlt1CkqKoKzszPS0tKgrKwMoK5hdt%2B%2BfeHn58fkbOsRI0bg1q1bUFJSkni/qqoK48ePl4mj/YRCIV6/fg0lJSWJPVJlwdOnT9G5c2emx5QS0hia/iYtZmNjwzpCoxYsWIClS5fCysoKffv2BQA8f/4cFy9ehKOjo1SznDt3DjNmzAAAtGvXTuIGp3q2trbSiiXzWEzrtdSWLVuwa9cutGrVCj/88AMcHR0RERGBNm3aYMuWLcxyqampISwsDOnp6cjLywOPx4OmpiaGDh3KLBOfz29yXSKHw0FNTY0UE/2loKBA4nUej4fS0lLR9z169JBWpI9i1f2AkOagkUrSbD/%2B%2BONHH8PhcLB9%2B3YppGnctWvXEBoaKnpT1dLSwpQpU6TeD9LMzAxXrlwBALFj897H4XA%2BmR6IRFxJSQkiIyNRVlYGU1NTUdsXFpycnMQ2TrA2e/ZsLF26tNHfgZCQEISEhEh9vTNQdzzj%2B7Mukt4Opd3M/sNMTZGV4yMJqUcjlaTZmurTV1tbi9DQUBQXFzMtKu/fvw9jY2OxN7Dq6mpcvnwZkydPllqW%2BoISoAXunwsulwt3d3dkZWXBysoKc%2BfOxdSpU9G6dWsAwC%2B//IKjR49CR0eHSb6CggKkpqbKzDGlQF1bHnd3d7Rq1UpsM05UVBS2b9%2BOrVu3Msk2YcIE/P777zA0NISZmRnGjh3LvMXRkSNHRF9nZ2fjzJkzsLGxQa9evSAQCPDs2TNEREQw7bJBSGNopJL8bXfv3oWnpyfk5eWxadMmpptOGtvkweVy8c0330h1A8j58%2Beb/dipU6f%2BYznI/5%2B1a9fi9evX%2BOabbxAREYF27dpBX18fy5YtAwAcO3YMN2/eRFBQEJN8Pj4%2BuHTpErS1tdGjRw%2BxaWdpH1Nab%2B/evTh8%2BDA0NDRExVFmZiaKi4vh5OTE9BSu0tJSREdHIzIyEpmZmTA1NYW1tTWGDRvGLFM9W1tb/PTTT2JnyWdkZMDNzQ0hISGMkhEiGRWV5H9WVFQEb29vxMfHY9WqVZgzZw6zT/lBQUEICAjA69evRccgvq%2BsrAzq6uqIioqSWqYPd8mXlpaipqYGysrKEAqFKC0thZKSEtTU1JhtICItY2RkhPDwcHTt2hW5ubmYNGkSHjx4INrUwePxYGRkhPv37zPJN3/%2B/EbvcTgcnDhxQoppGsrKykJsbCzy8vLA4XDQq1cvmJiYMDuUQJKioiJcvnwZkZGRKCkpgaWlJaysrJjtstbV1cXdu3fFTkKqqqqCgYEBHj9%2BzCQXIY2hopK0WG1tLQIDA3H48GFMnjwZLi4uzHciCgQCPHnyBHPmzMG2bdvE7isqKsLAwABffPEFg3R168aePHmC1atXizJwuVzs3bsXurq6DU7LILJLR0cHiYmJou%2BHDh2KlJSUBo/5FFoiyYqSkhImTbybIzIyEnv27MHLly/x5MkTJhnmzJkDDQ0NODo6Ql1dHXw%2BH4WFhQgMDERmZiaTdaiENIWKStIit2/fxrZt29C%2BfXu4u7vL3PF5ycnJYplk4Y1r/PjxiI6OFmurUlZWBnNzc/z3v/9llIy0xIcFo6QCklVRmZeXh1u3bkFeXh7jx4%2BHmpqa1DM05cmTJ9i0aRPCwsIAAKtXr0Z0dDS%2B%2BOIL%2BPn5QVdXl3HCumnliIgIREVFoX379rCysoK1tTWzY1Szs7Ph6uqKxMRE0eYdoVCIfv36Yd%2B%2BfaIOF4TICtqoQ5ptxYoVSEhIwHfffSezI2vy8vKwsbGRuTeuqqoqFBYWiq2Nev36NZMzfMn/RlbPPn7w4AGWLl0KVVVV8Pl87NixA0FBQUxbCX3I09MTEydOBADExsbi0aNHuHbtGhISErBr1y4EBwczyfXy5UtERETg4sWLePPmDSwsLHDgwAHmPXcBoGfPnjh9%2BjSKi4tRVFQEHo8HVVXVJjdNEsISjVSSZqs/0QGAxJYXQqFQ6u03PjRnzhyMHTsWy5YtQ2xsLDw8PHD27FkkJCQgODiY2RvXtm3bEB0dDSsrK2hoaIimsaKiovD1118z2/1KWqap1lDvk/Zufzs7O5iYmMDe3h4AcPToUdy6dYvZhiFJ9PT0cO/ePbRq1Qo//vgjOnTogA0bNkAoFGLkyJFMTiGaP38%2BXrx4gbFjx8LMzAxGRkbMd39/qKqqCtevX8fLly9F/78vX75kNnpKSFOoqCTNlp%2Bf36zHsfwULYtvXEDd6NW5c%2BcQGxuLly9fikYcxo0bh0WLFola0hDyvxgxYgTi4uJEGzoqKiowYcIEmTilpp6hoSGuXr0KBQUFjB8/Hrt27YKBgQHKy8sxbtw4PHr0SOqZZP2DckJCApydnaGsrIzCwkKkpqYiPz8flpaW8PPzg4GBAZNchDSGpr9Js9UXi6tWrYKhoSEMDAzQs2dPxqkaUlRURE1NDTgcDm7duoVdu3YBqHuTFQgEzHLJy8vD1taWTs4h/wgej9dgh3Dbtm1RVVXFMJG4cePGYdWqVWjVqhXat2%2BP0aNHo6amBnv27BE7VlVaZP3QAW9vb6xatQrz5s0TrRVXV1eHl5cXfHx8EBoayjghIQ1RUUlarG/fvoiKioK3tzc6deqE0aNHi4rMLl26MM0mi29c9aKionDhwgVwuVycP38ePB4PJ0%2BexOLFi5t9ggYhnyoPDw8cP34cpaWl2Lhxo%2Bh4xqysLHh5eTHJJGlW5e3bt8y6RHzo6dOnog%2Bi7/%2BNMDMzg5ubG6tYhDSKikrSYqtXrwYA1NTUIDU1FQ8fPkRUVBR27NiBL774AhcvXmSWzcPDA0FBQXj37p3MvHEBgJ%2BfH86cOQNbW1vRMXqlpaU4f/483r17hzVr1jDLRj59jW0Y%2BvAay5FyJSUlODo6NrjWtm1bHD16FC4uLti9ezejZEB5eTl27NiBiIgI1NbWIjU1FX/%2B%2BSdcXV1FH55Z6Nq1KwoLC8V6eaakpIh6oxIiS6ioJH%2BLQCBosBOW9RJdJSUlODk5NbhW/8bF0pkzZxAQEID%2B/fvj8OHDAIAuXbrAz88PCxYsoKKS/C2qqqpiZ35/eI3D4TAtKvl8Pk6fPo3U1FTweDzRdS6Xi4yMDGa5AGDr1q3gcrkICAjA4sWLAQCtW7dG%2B/bt4enpyazgtbKygoODA%2Bzt7SEQCBAbG4v09HScOnUKc%2BfOZZKJkKbQRh3SYr6%2Bvnj06BGysrIwYMAA6OjoQFdXF7q6ulBWVmaabf78%2BU1OJbM6UWT48OFISEgA0LCPYXV1NUaOHEnNsslnz8PDA9evX4e%2Bvj6uXLkCCwsLpKWlQUFBAW5ubkyXp4waNQqXL19Gp06dGvx%2BlpaWwtTUFPHx8UxyCYVCBAUFITQ0FDk5OVBSUoKmpiZmz56NGTNm0LIZInNopJK0WFBQEDQ0NGBnZ4eRI0di2LBhUFBQYB0LQN2JJ%2B/j8/nIzc1FYmIi7Ozs2IQC8OWXXyIiIgLW1tYNrgcGBlIDY/K36OrqIiEhARwOR6ZP84mNjcW5c%2BfQrVs3/Pbbb9i5cyeEQiF8fHzwxx9/MC0qORyOxOlkPp/PtI9sfn4%2B7O3tRa2E6vF4PCQlJYn9vSOENRqpJC1WXV2NxMREPHjwAA8fPsTvv/%2BOPn36QF9fH3p6epgwYQLriGLi4uIQERGBnTt3Mnn%2B%2BPh4LF%2B%2BHF9%2B%2BSWSk5Mxfvx4ZGRkoKSkBH5%2Bfhg5ciSTXOTTZ2pqChUVFWhoaODy5cuYPHlyo4/19fWVYrKGRowYIWrppauri3v37kFBQQElJSWwsrJieqqUs7Mz1NXVsW7dOowaNQpJSUnIz8%2BHl5cXBAKB2NICaWnsQ0JJSQm%2B/vprOvubyBwqKsnfxuPxEBYWhuPHj%2BPFixdMm583RiAQQF9fXzQFzUJRUREiIyNF01haWlqwsLCAiooKs0zk0/f06VOcPXsWZWVluHDhAqZMmdLoY729vaWYrKF58%2BbBwMAAjo6OsLW1xfTp0zFv3jykp6fDzs4ODx8%2BZJatoKAAy5Ytw7Nnz1BbW4t27dqhoqICurq68PX1Rffu3aWaJyQkBOfOnUNKSorEo3C5XC6EQiGuX78u1VyEfAwVlaTFysrKkJSUhMePH%2BPx48dISkpC586dMWrUKIwaNQoWFhbMsmVlZYldq6qqQkxMDMLDw3Hjxg3phwJw5MgRODg4MHlu8u/h6uqKHTt2sI4hUUpKClxcXHDhwgXcuXMHa9asgYKCAqqrqzF37lyZaJGTnJyMvLw8KCoqQktLC/3792eSo6SkBPHx8Vi7di2cnZ3F7isqKmLixIlix74SwhoVlaTFBg8ejG7duomKyNGjR8vMkWEDBw4Eh8MR7UKv/7pDhw7w8PBgVvAaGRkhIiKCWWsS8u8gEAiQlJSEnJwccDgc9O3bVybOsJbk%2BfPnSEtLg4aGBoYNG8Y0i4ODAywsLDBx4kSZatVz5coVmJmZSbwXHBxMO8CJzKGikrRYbm4uNDU1UVNTAy6XCw6HAzU1NcjLyzPNxePxUFRUJHZ2b1FREYYMGcJ0M1FQUBCuXr0Kc3Nz9OjRQ%2BxnZWRkxCgZ%2BVzExcXB3d0dBQUF6NChAwDg3bt36NmzJ7y8vKCvr88kl7GxcbN2KbM83cbT0xPXrl1DcXExxo4dCwsLC0yYMAFt2rRhlqleRkYGnjx50qANU1FREY4dO0ZrKonMoaKStFhpaSk2b96M2NhY1NbWAqibjrG0tMSmTZsaHBcnLSUlJZg7dy6GDRuG7du3N7hnY2ODdu3a4ejRo8wKy/fPGP4Qy7OFyechJSUFCxYsEP3r3LkzAKC4uBinTp3C8ePHERwc3OTr8J9y%2BvRp0ddCoRBeXl7YuHGj2ONmz54tzVgSpaamIjY2Fr/99hsKCgowfvx4WFpaYuLEiUzy/Oc//8G2bdvQuXNnFBcXQ01NDVwuF%2Brq6pg3bx4WLVrEJBchjaGikrSYi4sLuFwuHBwcRGd/Z2Zmwt/fHzo6OkzWRnl5eSE9PR3%2B/v5o165dg3uVlZVwcHCAgYEBli9fLvVs9SOoH56KkZCQAG1tbbRqRZ29yN%2BzfPlyjBgxotEiw8/PD%2Bnp6fj555%2BlG0wCWW579L7k5GTs3LkTjx49Yvahb%2BLEifD09MTo0aOhra2N5ORkvHr1Cl5eXrCzs2M2%2BkxIY%2BQ%2B/hBCGrp16xZ%2B/vlnjB8/Hr169UKvXr1gYmKCAwcOIDY2lkmm69evw83NTaygBIA2bdrAzc0NkZGRUs9VUlKCadOm4dChQ2L3PD09YW9v32Bai5D/xaNHjzB9%2BvRG78%2BfPx/379%2BXYqJPU2FhIU6ePImFCxdi7ty5qKmpwffff88sz%2BvXrzF69GgAgJycHIRCIbp27Yr169djy5YtzHIR0hgqKkmLycvLS1xrpKysjIqKCgaJ6v74DhgwoNH7AwcOxMuXL6WYqM6BAwfQqVMniaO3p06dglAoxJEjR6Sei3xeqqurResoJenQoQOqqqqkmOjTcvDgQdjY2MDExAQXL17E119/jZiYGJw5c0as8bg09ejRA3fv3gVQdw54fdulDh06IC8vj1kuQhpDRSVpseHDh2Pr1q148%2BaN6NqbN2%2Bwbds2DBkyhEmmtm3b4u3bt43e53K5TBbdy%2BoIKvm8qKqqIjMzs9H76enp6Nq1qxQTfVpu3rwJS0tLxMbG4uzZs7C3t0ePHj1Yx4KjoyO%2B/fZbvHv3DtOnT4ezszOcnJwwY8YM6OnpsY5HiBhazEVabPPmzXB2dsaYMWNEZ32Xlpaib9%2B%2B8PPzY5LJwMAAQUFBcHFxkXh/586domkkaZLVEVTyeZk0aRK8vb3h7%2B8vtkaXx%2BPB3d0dkyZNYpLtzJkzDb7n8/k4e/YsPlzOb2trK81YqKmpQevWrQEAv/76q%2Bi6pOUorDb4WVtbY/jw4ejQoQOcnJzQuXNnpKSkYPjw4ZgzZw6TTIQ0hTbqkP9Zeno68vLywOPxoKmpiaFDh4LL5UJVVVXqWbKysjBjxgyMGzcO8%2BbNQ%2B/evcHn8/Hs2TMEBgYiKSkJZ8%2BelXqz4DFjxuDixYuN9qcsKirCtGnTcOfOHanmIp%2BXsrIyzJkzB%2BXl5bC1tUXPnj3B5/ORmZmJkJAQdO7cGb/%2B%2BiuTHozGxsYffQyHw5F6S6H3NwzV97dtDHVnIKR5qKgkzVZRUYEdO3aINuNYW1tj/fr1or6QZ8%2Bexa5du0Tn%2B0pbWloatm3bhoSEBNEbhFAoxMiRI%2BHm5tbkiOE/Zd26dejRo0ejI6hr166FUCjE7t27pZyMfG4qKipw9OhRxMTEICcnBwDQu3dvmJmZYdGiRVBSUmKcULY8fPhQtHv6Y5uYRo4cKY1IYn7//Xfs378f2dnZqK6uFrvPsrcnIZJQUUma7aeffsLt27fh4OAAHo%2BHgIAAWFpawtraGm5ubvjjjz/g4uLCvN/cmzdvkJubCw6HAy0tLaZna8vqCCoh5C9ubm7w8vISu15WVgZXV1ccPHiQQSpg8uTJ0NDQgJGRkcT%2Bv6z/1hLyISoqSbOZmJjgl19%2BQd%2B%2BfQHUjQwuWLAAtbW1MDY2xoYNG0RNl8lfZHEElXye%2BHw%2Brl27hhcvXkgc2VqxYgWDVLIrNzcXL168wLJly%2BDv7y%2B2zjM7Oxs7d%2B5k1ldz%2BPDhuHv3LtPTwAhpCdqoQ5qtuLhYVFACdeuQKisrcfjwYYwZM4ZhMtk2aNAgBAcHy9QIKvk8rVmzBjdv3kSfPn3ERrY4HA4VlR%2BobwhfU1ODb7/9Vuy%2BoqIi09FAY2NjPHr0CAYGBswyENISNFJJmk3SSRifyukYhPwb6OrqIjw8HL169WId5ZMyZcoUXLhwgXUMMS9fvoSdnR00NTWhpqYmtpnI29ubUTJCJKM%2BlYQQ8pmgEfD/zYULFxAfH4/nz5%2BLrj18%2BBC3b99mmAr47rvvUF1djbZt24LH46G6urrBP0JkDU1/k2aT1F9O0jVp95sjhNTx8vKCm5sbzMzMoKqqKurMUG/EiBGMksm2kydPYt%2B%2Bfdi/fz/69OkDoO6I1Q0bNmDlypWws7NjkistLQ3Xrl1rtCUZIbKGpr9Js8lqvzlCSJ19%2B/ZJ3HAC1P1uUr9FyYyNjeHn54eBAwc2uJ6RkQFnZ2dmf9MWLFgAT09PaGlpMXl%2BQlqKRipJs127do11BEJIE44fP46ffvoJxsbGElvQEMnevn0rGqF8n4aGRoPjaKXN3NwcK1aswIQJE9CtWzexkWeaFSKyhkYqCSHkM2FsbIzLly9TQdlC3377Lfr374/ly5ejQ4cOAOq6Xezduxd5eXkICgpikqup2SGaFSKyiIpKQgj5TFy7dg3x8fGws7NDt27dxHYLU79DyXJzc7Fy5UpkZGSgffv2EAgEKC8vx6BBg3Do0CGoqamxjkjIJ4GKSkII%2BUzo6emhsrJS4ppKgM6w/pi0tDTk5ORATk4OmpqaYmsspSE7Oxs9e/YEUHciV1PoJC4ia6ioJISQz4SsnmH9KSorK0NUVBRCQ0Nx9uxZqT2vtrY2kpOTAdQdMMHhcGjjFflk0EYdQgj5TFDR%2BPfdv38foaGhiImJQbt27TB16lSpPv%2BVK1dEX9OaSfKpoZFKQgj5TMyfP19sHeX7Tpw4IcU0n46ioiKEh4cjLCwMXC4XNTU18PT0hLW1NeTl5Znlsre3x7Fjx8Sul5WVYf78%2BQgPD2eQipDG0UglIYR8JnR0dBp8z%2BfzkZubi8TERGYNvGVZdHQ0zp07h/j4eAwfPhxOTk6YNGkSxo4dC319fWYF5ZMnT5CSkoIHDx6IHS4BADk5OXjx4gWTbIQ0hYpKQgj5TKxdu1bi9bi4OEREREg5jexbvXo1LCwsEBsbi27durGOI/Lu3TvcuHEDtbW18Pf3F7uvpKSE1atXM0hGSNNo%2BpsQQj5zAoEA%2Bvr6SEhIYB1FpuzevRvnz59Hq1atYGVlBWtra/Tt2xe6urqIiIiApqYm03zOzs44dOgQ0wyEtAQVlYQQ8pmQ1IKmqqoKMTExCA8Px40bN6QfSsYJBALcuHED586dw3//%2B198%2BeWXyMjIQEhICAYNGsQ0m1AoxLVr12BiYgIASElJwYULF9CrVy/MnTtX7IQdQlijopIQQj4TjbWg6dChAzZv3gxLS0tGyT4NxcXFCAsLQ2hoKPLz8zFu3DjMmDGjyZNt/kk%2BPj6IiYlBTEwMXr58CXNzc5iamuLFixfQ0dGBq6srk1yENIaKSkII%2BUzk5%2BeLXVNUVESnTp1oVKuF7t%2B/j5CQEMTGxuLx48dMMowdOxanTp2ClpYW/Pz88PDhQwQGBuL169eYPn06jTwTmUMbdQgh5BNnbGzcZCshoK5ZdmxsrJQSfXr4fL5ot7dAIED79u2xYcMGbN68mVmmsrIyaGlpAQBu374NCwsLAEDnzp3x559/MstFSGOoqCSEkE/cTz/91Oi93Nxc7N27F7W1tVJM9GmJi4vDDz/8gLi4ONTW1sLOzg5//PEHgLrNPBMmTGCSS1NTE3fv3kXbtm2RnJyMPXv2AKhbW9m5c2cmmQhpChWVhBDyiZN0kg6Px4O/vz%2BOHTsGGxsbakHTBB8fH7i4uAAAoqKiUFxcjDt37iA1NRXe3t7MikoXFxc4OzuDx%2BPB2dkZqqqqKCkpgaOjI5YtW8YkEyFNoaKSEEI%2BM7Gxsdi%2BfTu6d%2B%2BO//znPxg4cCDrSDItOzsb06ZNAwDcuHEDFhYWaNOmDUaMGMGkyfilS5dgbm6Or7/%2BGg8ePEB1dTXatWsHAOjYsSMOHjyIc%2BfOST0XIR9DK7cJIeQzkZ2djSVLlmDLli1YvXo1Tp06RQVlM7Rr1w6lpaWoqqrC7du3RSOTb9%2B%2BRatW0h97%2BfHHH0Vft2rVChMnTmxwX1dXF5GRkdKORchH0UglIYR84qqqqnDw4EGcOnUKtra22Lt3L9q3b8861ifD0tISCxcuhLy8PHr37g0dHR1UVVVh8%2BbNGDNmjNTzfNiUpby8/KOPIUQWUFFJCCGfOFNTU9TU1GD9%2BvXo168f0tLSJD5uxIgRUk72aXB1dUVUVBRKS0tFvTzl5OSgoqKC9evXSz3Phzv5Je3s/9huf0JYoKKSEEI%2BcfLy8pCXl8eRI0cafQyHw8HVq1elmEr27d69W%2BxaQECA6GsVFRUcOXJEtImHENI0KioJIeQTd%2B3aNdYRPknNaWpOI4KENB8VlYQQQv6VTp48yTqCRHw%2BH2fPnhWtm/zw%2B/prhMgaOqaREEIIkSHNPWucRqiJrKGikhBCCCGE/G3Up5IQQgghhPxtVFQSQgghhJC/jYpKQgghhBDyt1FRSQghhBBC/jYqKgkhhBBCyN9GRSUhhBBCCPnbqKgkhBBCCCF/2/8BjWE0GawiK5MAAAAASUVORK5CYII%3D\" class=\"center-img\">\n",
       "</div>\n",
       "    <div class=\"row headerrow highlight\">\n",
       "        <h1>Sample</h1>\n",
       "    </div>\n",
       "    <div class=\"row variablerow\">\n",
       "    <div class=\"col-md-12\" style=\"overflow:scroll; width: 100%%; overflow-y: hidden;\">\n",
       "        <table border=\"1\" class=\"dataframe sample\">\n",
       "  <thead>\n",
       "    <tr style=\"text-align: right;\">\n",
       "      <th></th>\n",
       "      <th>RowNumber</th>\n",
       "      <th>CustomerId</th>\n",
       "      <th>Surname</th>\n",
       "      <th>CreditScore</th>\n",
       "      <th>Geography</th>\n",
       "      <th>Gender</th>\n",
       "      <th>Age</th>\n",
       "      <th>Tenure</th>\n",
       "      <th>Balance</th>\n",
       "      <th>NumOfProducts</th>\n",
       "      <th>HasCrCard</th>\n",
       "      <th>IsActiveMember</th>\n",
       "      <th>EstimatedSalary</th>\n",
       "      <th>Exited</th>\n",
       "    </tr>\n",
       "  </thead>\n",
       "  <tbody>\n",
       "    <tr>\n",
       "      <th>0</th>\n",
       "      <td>1</td>\n",
       "      <td>15634602</td>\n",
       "      <td>Hargrave</td>\n",
       "      <td>619</td>\n",
       "      <td>France</td>\n",
       "      <td>Female</td>\n",
       "      <td>42</td>\n",
       "      <td>2.0</td>\n",
       "      <td>0.00</td>\n",
       "      <td>1</td>\n",
       "      <td>1</td>\n",
       "      <td>1</td>\n",
       "      <td>101348.88</td>\n",
       "      <td>1</td>\n",
       "    </tr>\n",
       "    <tr>\n",
       "      <th>1</th>\n",
       "      <td>2</td>\n",
       "      <td>15647311</td>\n",
       "      <td>Hill</td>\n",
       "      <td>608</td>\n",
       "      <td>Spain</td>\n",
       "      <td>Female</td>\n",
       "      <td>41</td>\n",
       "      <td>1.0</td>\n",
       "      <td>83807.86</td>\n",
       "      <td>1</td>\n",
       "      <td>0</td>\n",
       "      <td>1</td>\n",
       "      <td>112542.58</td>\n",
       "      <td>0</td>\n",
       "    </tr>\n",
       "    <tr>\n",
       "      <th>2</th>\n",
       "      <td>3</td>\n",
       "      <td>15619304</td>\n",
       "      <td>Onio</td>\n",
       "      <td>502</td>\n",
       "      <td>France</td>\n",
       "      <td>Female</td>\n",
       "      <td>42</td>\n",
       "      <td>8.0</td>\n",
       "      <td>159660.80</td>\n",
       "      <td>3</td>\n",
       "      <td>1</td>\n",
       "      <td>0</td>\n",
       "      <td>113931.57</td>\n",
       "      <td>1</td>\n",
       "    </tr>\n",
       "    <tr>\n",
       "      <th>3</th>\n",
       "      <td>4</td>\n",
       "      <td>15701354</td>\n",
       "      <td>Boni</td>\n",
       "      <td>699</td>\n",
       "      <td>France</td>\n",
       "      <td>Female</td>\n",
       "      <td>39</td>\n",
       "      <td>1.0</td>\n",
       "      <td>0.00</td>\n",
       "      <td>2</td>\n",
       "      <td>0</td>\n",
       "      <td>0</td>\n",
       "      <td>93826.63</td>\n",
       "      <td>0</td>\n",
       "    </tr>\n",
       "    <tr>\n",
       "      <th>4</th>\n",
       "      <td>5</td>\n",
       "      <td>15737888</td>\n",
       "      <td>Mitchell</td>\n",
       "      <td>850</td>\n",
       "      <td>Spain</td>\n",
       "      <td>Female</td>\n",
       "      <td>43</td>\n",
       "      <td>2.0</td>\n",
       "      <td>125510.82</td>\n",
       "      <td>1</td>\n",
       "      <td>1</td>\n",
       "      <td>1</td>\n",
       "      <td>79084.10</td>\n",
       "      <td>0</td>\n",
       "    </tr>\n",
       "  </tbody>\n",
       "</table>\n",
       "    </div>\n",
       "</div>\n",
       "</div>"
      ],
      "text/plain": [
       "<pandas_profiling.ProfileReport at 0x7f808b2ce850>"
      ]
     },
     "execution_count": 4,
     "metadata": {},
     "output_type": "execute_result"
    }
   ],
   "source": [
    "pandas_profiling.ProfileReport(df)"
   ]
  },
  {
   "cell_type": "markdown",
   "metadata": {},
   "source": [
    "Есть пропуски в колонке Tenure"
   ]
  },
  {
   "cell_type": "code",
   "execution_count": 5,
   "metadata": {},
   "outputs": [
    {
     "name": "stdout",
     "output_type": "stream",
     "text": [
      "Доля пропусков в Tenure составляет 0.0909\n"
     ]
    }
   ],
   "source": [
    "print('Доля пропусков в Tenure составляет', df.Tenure.isna().mean())"
   ]
  },
  {
   "cell_type": "code",
   "execution_count": 7,
   "metadata": {},
   "outputs": [
    {
     "name": "stdout",
     "output_type": "stream",
     "text": [
      "Количество пропусков в Tenure составляет 909\n"
     ]
    }
   ],
   "source": [
    "print('Количество пропусков в Tenure составляет', df.Tenure.isna().sum())"
   ]
  },
  {
   "cell_type": "code",
   "execution_count": 8,
   "metadata": {
    "scrolled": true
   },
   "outputs": [
    {
     "data": {
      "text/html": [
       "<div>\n",
       "<style scoped>\n",
       "    .dataframe tbody tr th:only-of-type {\n",
       "        vertical-align: middle;\n",
       "    }\n",
       "\n",
       "    .dataframe tbody tr th {\n",
       "        vertical-align: top;\n",
       "    }\n",
       "\n",
       "    .dataframe thead th {\n",
       "        text-align: right;\n",
       "    }\n",
       "</style>\n",
       "<table border=\"1\" class=\"dataframe\">\n",
       "  <thead>\n",
       "    <tr style=\"text-align: right;\">\n",
       "      <th></th>\n",
       "      <th>RowNumber</th>\n",
       "      <th>CustomerId</th>\n",
       "      <th>Surname</th>\n",
       "      <th>CreditScore</th>\n",
       "      <th>Geography</th>\n",
       "      <th>Gender</th>\n",
       "      <th>Age</th>\n",
       "      <th>Tenure</th>\n",
       "      <th>Balance</th>\n",
       "      <th>NumOfProducts</th>\n",
       "      <th>HasCrCard</th>\n",
       "      <th>IsActiveMember</th>\n",
       "      <th>EstimatedSalary</th>\n",
       "      <th>Exited</th>\n",
       "    </tr>\n",
       "  </thead>\n",
       "  <tbody>\n",
       "    <tr>\n",
       "      <th>30</th>\n",
       "      <td>31</td>\n",
       "      <td>15589475</td>\n",
       "      <td>Azikiwe</td>\n",
       "      <td>591</td>\n",
       "      <td>Spain</td>\n",
       "      <td>Female</td>\n",
       "      <td>39</td>\n",
       "      <td>NaN</td>\n",
       "      <td>0.00</td>\n",
       "      <td>3</td>\n",
       "      <td>1</td>\n",
       "      <td>0</td>\n",
       "      <td>140469.38</td>\n",
       "      <td>1</td>\n",
       "    </tr>\n",
       "    <tr>\n",
       "      <th>48</th>\n",
       "      <td>49</td>\n",
       "      <td>15766205</td>\n",
       "      <td>Yin</td>\n",
       "      <td>550</td>\n",
       "      <td>Germany</td>\n",
       "      <td>Male</td>\n",
       "      <td>38</td>\n",
       "      <td>NaN</td>\n",
       "      <td>103391.38</td>\n",
       "      <td>1</td>\n",
       "      <td>0</td>\n",
       "      <td>1</td>\n",
       "      <td>90878.13</td>\n",
       "      <td>0</td>\n",
       "    </tr>\n",
       "    <tr>\n",
       "      <th>51</th>\n",
       "      <td>52</td>\n",
       "      <td>15768193</td>\n",
       "      <td>Trevisani</td>\n",
       "      <td>585</td>\n",
       "      <td>Germany</td>\n",
       "      <td>Male</td>\n",
       "      <td>36</td>\n",
       "      <td>NaN</td>\n",
       "      <td>146050.97</td>\n",
       "      <td>2</td>\n",
       "      <td>0</td>\n",
       "      <td>0</td>\n",
       "      <td>86424.57</td>\n",
       "      <td>0</td>\n",
       "    </tr>\n",
       "    <tr>\n",
       "      <th>53</th>\n",
       "      <td>54</td>\n",
       "      <td>15702298</td>\n",
       "      <td>Parkhill</td>\n",
       "      <td>655</td>\n",
       "      <td>Germany</td>\n",
       "      <td>Male</td>\n",
       "      <td>41</td>\n",
       "      <td>NaN</td>\n",
       "      <td>125561.97</td>\n",
       "      <td>1</td>\n",
       "      <td>0</td>\n",
       "      <td>0</td>\n",
       "      <td>164040.94</td>\n",
       "      <td>1</td>\n",
       "    </tr>\n",
       "    <tr>\n",
       "      <th>60</th>\n",
       "      <td>61</td>\n",
       "      <td>15651280</td>\n",
       "      <td>Hunter</td>\n",
       "      <td>742</td>\n",
       "      <td>Germany</td>\n",
       "      <td>Male</td>\n",
       "      <td>35</td>\n",
       "      <td>NaN</td>\n",
       "      <td>136857.00</td>\n",
       "      <td>1</td>\n",
       "      <td>0</td>\n",
       "      <td>0</td>\n",
       "      <td>84509.57</td>\n",
       "      <td>0</td>\n",
       "    </tr>\n",
       "  </tbody>\n",
       "</table>\n",
       "</div>"
      ],
      "text/plain": [
       "    RowNumber  CustomerId    Surname  CreditScore Geography  Gender  Age  \\\n",
       "30         31    15589475    Azikiwe          591     Spain  Female   39   \n",
       "48         49    15766205        Yin          550   Germany    Male   38   \n",
       "51         52    15768193  Trevisani          585   Germany    Male   36   \n",
       "53         54    15702298   Parkhill          655   Germany    Male   41   \n",
       "60         61    15651280     Hunter          742   Germany    Male   35   \n",
       "\n",
       "    Tenure    Balance  NumOfProducts  HasCrCard  IsActiveMember  \\\n",
       "30     NaN       0.00              3          1               0   \n",
       "48     NaN  103391.38              1          0               1   \n",
       "51     NaN  146050.97              2          0               0   \n",
       "53     NaN  125561.97              1          0               0   \n",
       "60     NaN  136857.00              1          0               0   \n",
       "\n",
       "    EstimatedSalary  Exited  \n",
       "30        140469.38       1  \n",
       "48         90878.13       0  \n",
       "51         86424.57       0  \n",
       "53        164040.94       1  \n",
       "60         84509.57       0  "
      ]
     },
     "execution_count": 8,
     "metadata": {},
     "output_type": "execute_result"
    }
   ],
   "source": [
    "df.query('Tenure.isna()').head()"
   ]
  },
  {
   "cell_type": "code",
   "execution_count": 9,
   "metadata": {
    "scrolled": true
   },
   "outputs": [
    {
     "data": {
      "text/html": [
       "<div>\n",
       "<style scoped>\n",
       "    .dataframe tbody tr th:only-of-type {\n",
       "        vertical-align: middle;\n",
       "    }\n",
       "\n",
       "    .dataframe tbody tr th {\n",
       "        vertical-align: top;\n",
       "    }\n",
       "\n",
       "    .dataframe thead th {\n",
       "        text-align: right;\n",
       "    }\n",
       "</style>\n",
       "<table border=\"1\" class=\"dataframe\">\n",
       "  <thead>\n",
       "    <tr style=\"text-align: right;\">\n",
       "      <th></th>\n",
       "      <th>Tenure</th>\n",
       "    </tr>\n",
       "  </thead>\n",
       "  <tbody>\n",
       "    <tr>\n",
       "      <th>1.0</th>\n",
       "      <td>952</td>\n",
       "    </tr>\n",
       "    <tr>\n",
       "      <th>2.0</th>\n",
       "      <td>950</td>\n",
       "    </tr>\n",
       "    <tr>\n",
       "      <th>8.0</th>\n",
       "      <td>933</td>\n",
       "    </tr>\n",
       "    <tr>\n",
       "      <th>3.0</th>\n",
       "      <td>928</td>\n",
       "    </tr>\n",
       "    <tr>\n",
       "      <th>5.0</th>\n",
       "      <td>927</td>\n",
       "    </tr>\n",
       "    <tr>\n",
       "      <th>7.0</th>\n",
       "      <td>925</td>\n",
       "    </tr>\n",
       "    <tr>\n",
       "      <th>4.0</th>\n",
       "      <td>885</td>\n",
       "    </tr>\n",
       "    <tr>\n",
       "      <th>9.0</th>\n",
       "      <td>882</td>\n",
       "    </tr>\n",
       "    <tr>\n",
       "      <th>6.0</th>\n",
       "      <td>881</td>\n",
       "    </tr>\n",
       "    <tr>\n",
       "      <th>10.0</th>\n",
       "      <td>446</td>\n",
       "    </tr>\n",
       "    <tr>\n",
       "      <th>0.0</th>\n",
       "      <td>382</td>\n",
       "    </tr>\n",
       "  </tbody>\n",
       "</table>\n",
       "</div>"
      ],
      "text/plain": [
       "      Tenure\n",
       "1.0      952\n",
       "2.0      950\n",
       "8.0      933\n",
       "3.0      928\n",
       "5.0      927\n",
       "7.0      925\n",
       "4.0      885\n",
       "9.0      882\n",
       "6.0      881\n",
       "10.0     446\n",
       "0.0      382"
      ]
     },
     "execution_count": 9,
     "metadata": {},
     "output_type": "execute_result"
    }
   ],
   "source": [
    "df.Tenure.value_counts().to_frame()"
   ]
  },
  {
   "cell_type": "markdown",
   "metadata": {},
   "source": [
    "Так как Tenure заполнен значениями примерно одинаково за исключненим 0 и 10, проведем замену пропусков случайными значенями в диапазоне от 0 до 10. Это позволит нем сохраить объем выборки в отличии от удаления строк с пропусками"
   ]
  },
  {
   "cell_type": "code",
   "execution_count": 10,
   "metadata": {
    "scrolled": true
   },
   "outputs": [],
   "source": [
    "df = df.apply(lambda x: x.fillna(np.random.randint(0, 10)), axis=1)"
   ]
  },
  {
   "cell_type": "code",
   "execution_count": 11,
   "metadata": {},
   "outputs": [
    {
     "data": {
      "text/plain": [
       "0"
      ]
     },
     "execution_count": 11,
     "metadata": {},
     "output_type": "execute_result"
    }
   ],
   "source": [
    "df.Tenure.isna().sum()"
   ]
  },
  {
   "cell_type": "code",
   "execution_count": 12,
   "metadata": {
    "scrolled": true
   },
   "outputs": [
    {
     "data": {
      "text/html": [
       "<div>\n",
       "<style scoped>\n",
       "    .dataframe tbody tr th:only-of-type {\n",
       "        vertical-align: middle;\n",
       "    }\n",
       "\n",
       "    .dataframe tbody tr th {\n",
       "        vertical-align: top;\n",
       "    }\n",
       "\n",
       "    .dataframe thead th {\n",
       "        text-align: right;\n",
       "    }\n",
       "</style>\n",
       "<table border=\"1\" class=\"dataframe\">\n",
       "  <thead>\n",
       "    <tr style=\"text-align: right;\">\n",
       "      <th></th>\n",
       "      <th>Tenure</th>\n",
       "    </tr>\n",
       "  </thead>\n",
       "  <tbody>\n",
       "    <tr>\n",
       "      <th>2.0</th>\n",
       "      <td>1049</td>\n",
       "    </tr>\n",
       "    <tr>\n",
       "      <th>1.0</th>\n",
       "      <td>1040</td>\n",
       "    </tr>\n",
       "    <tr>\n",
       "      <th>3.0</th>\n",
       "      <td>1025</td>\n",
       "    </tr>\n",
       "    <tr>\n",
       "      <th>7.0</th>\n",
       "      <td>1024</td>\n",
       "    </tr>\n",
       "    <tr>\n",
       "      <th>5.0</th>\n",
       "      <td>1022</td>\n",
       "    </tr>\n",
       "    <tr>\n",
       "      <th>8.0</th>\n",
       "      <td>1016</td>\n",
       "    </tr>\n",
       "    <tr>\n",
       "      <th>9.0</th>\n",
       "      <td>981</td>\n",
       "    </tr>\n",
       "    <tr>\n",
       "      <th>4.0</th>\n",
       "      <td>963</td>\n",
       "    </tr>\n",
       "    <tr>\n",
       "      <th>6.0</th>\n",
       "      <td>962</td>\n",
       "    </tr>\n",
       "    <tr>\n",
       "      <th>0.0</th>\n",
       "      <td>472</td>\n",
       "    </tr>\n",
       "    <tr>\n",
       "      <th>10.0</th>\n",
       "      <td>446</td>\n",
       "    </tr>\n",
       "  </tbody>\n",
       "</table>\n",
       "</div>"
      ],
      "text/plain": [
       "      Tenure\n",
       "2.0     1049\n",
       "1.0     1040\n",
       "3.0     1025\n",
       "7.0     1024\n",
       "5.0     1022\n",
       "8.0     1016\n",
       "9.0      981\n",
       "4.0      963\n",
       "6.0      962\n",
       "0.0      472\n",
       "10.0     446"
      ]
     },
     "execution_count": 12,
     "metadata": {},
     "output_type": "execute_result"
    }
   ],
   "source": [
    "df.Tenure.value_counts().to_frame()"
   ]
  },
  {
   "cell_type": "markdown",
   "metadata": {},
   "source": [
    "Названия колонок переименуем согласно правилу"
   ]
  },
  {
   "cell_type": "code",
   "execution_count": 13,
   "metadata": {},
   "outputs": [
    {
     "data": {
      "text/plain": [
       "Index(['RowNumber', 'CustomerId', 'Surname', 'CreditScore', 'Geography',\n",
       "       'Gender', 'Age', 'Tenure', 'Balance', 'NumOfProducts', 'HasCrCard',\n",
       "       'IsActiveMember', 'EstimatedSalary', 'Exited'],\n",
       "      dtype='object')"
      ]
     },
     "execution_count": 13,
     "metadata": {},
     "output_type": "execute_result"
    }
   ],
   "source": [
    "df.columns"
   ]
  },
  {
   "cell_type": "code",
   "execution_count": 14,
   "metadata": {},
   "outputs": [],
   "source": [
    "df.set_axis(['row_number',\n",
    "             'customer_id', \n",
    "             'surname', \n",
    "             'credit_score', \n",
    "             'geography', \n",
    "             'gender', \n",
    "             'age', \n",
    "             'tenure', \n",
    "             'balance', \n",
    "             'products_num', \n",
    "             'has_cr_card', \n",
    "             'is_active', \n",
    "             'salary', \n",
    "             'exited'], axis=1, inplace=True)"
   ]
  },
  {
   "cell_type": "code",
   "execution_count": 15,
   "metadata": {
    "scrolled": false
   },
   "outputs": [
    {
     "data": {
      "text/plain": [
       "Index(['row_number', 'customer_id', 'surname', 'credit_score', 'geography',\n",
       "       'gender', 'age', 'tenure', 'balance', 'products_num', 'has_cr_card',\n",
       "       'is_active', 'salary', 'exited'],\n",
       "      dtype='object')"
      ]
     },
     "execution_count": 15,
     "metadata": {},
     "output_type": "execute_result"
    }
   ],
   "source": [
    "df.columns"
   ]
  },
  {
   "cell_type": "markdown",
   "metadata": {},
   "source": [
    "Проведем преобразование данных согласно поставленной задачи обучения модели предсказания целевого признака exited: \n",
    "* уберем из выборки колонки row_number, customer_id, surname, \n",
    "* колонки с категориальными данными преобразуем в числовые по принципу OHE\n",
    "* колонки с числовыми вещественными данными подвергнем стандартизации"
   ]
  },
  {
   "cell_type": "code",
   "execution_count": 16,
   "metadata": {},
   "outputs": [],
   "source": [
    "data = df.drop(['row_number', 'customer_id', 'surname'], axis=1)"
   ]
  },
  {
   "cell_type": "markdown",
   "metadata": {},
   "source": [
    "Колонки с категориальными данными преобразуем в числовые по принципу OHE (one hot encoding)"
   ]
  },
  {
   "cell_type": "code",
   "execution_count": 17,
   "metadata": {},
   "outputs": [],
   "source": [
    "data_ohe = pd.get_dummies(data, drop_first=True)"
   ]
  },
  {
   "cell_type": "markdown",
   "metadata": {},
   "source": [
    "Разделим данные на фичи и таргет для обучения модели"
   ]
  },
  {
   "cell_type": "code",
   "execution_count": 18,
   "metadata": {},
   "outputs": [],
   "source": [
    "target = data_ohe['exited']\n",
    "features = data_ohe.drop('exited', axis=1)"
   ]
  },
  {
   "cell_type": "markdown",
   "metadata": {},
   "source": [
    "Разобъем фичи и таргет на обучающую, валидационную и тестовую выборки в соотношении 60/20/20"
   ]
  },
  {
   "cell_type": "code",
   "execution_count": 19,
   "metadata": {},
   "outputs": [],
   "source": [
    "features_train, features_valid, target_train, target_valid = train_test_split(\n",
    "    features, target, test_size=0.4, random_state=12345) \n",
    "\n",
    "features_valid, features_test, target_valid, target_test = train_test_split(\n",
    "    features_valid, target_valid, test_size=0.5, random_state=12345) "
   ]
  },
  {
   "cell_type": "code",
   "execution_count": 20,
   "metadata": {
    "scrolled": true
   },
   "outputs": [
    {
     "name": "stdout",
     "output_type": "stream",
     "text": [
      "Размер всего датасета: (10000, 12) 100%\n",
      "Размер фичей обучающей выборки: (6000, 11) 60%\n",
      "Размер фичей валидационной выборки: (2000, 11) 20%\n",
      "Размер фичей тестовой выборки: (2000, 11) 20%\n",
      "Размер целевого признака обучающей выборки: (6000,) 60%\n",
      "Размер целевого признака валидационной выборки: (2000,) 20%\n",
      "Размер целевого признака тестовой выборки: (2000,) 20%\n"
     ]
    }
   ],
   "source": [
    "# Убедимся в правильности разделения датасета\n",
    "\n",
    "print('Размер всего датасета:', data_ohe.shape, '{:.0%}'.format(len(data_ohe)/len(data_ohe)))\n",
    "print('Размер фичей обучающей выборки:', features_train.shape, '{:.0%}'.format(len(features_train)/len(data_ohe)))\n",
    "print('Размер фичей валидационной выборки:', features_valid.shape, '{:.0%}'.format(len(features_valid)/len(data_ohe)))\n",
    "print('Размер фичей тестовой выборки:', features_test.shape, '{:.0%}'.format(len(features_test)/len(data_ohe)))\n",
    "print('Размер целевого признака обучающей выборки:', target_train.shape, '{:.0%}'.format(len(target_train)/len(data_ohe)))\n",
    "print('Размер целевого признака валидационной выборки:', target_valid.shape, '{:.0%}'.format(len(target_valid)/len(data_ohe)))\n",
    "print('Размер целевого признака тестовой выборки:', target_test.shape, '{:.0%}'.format(len(target_test)/len(data_ohe)))"
   ]
  },
  {
   "cell_type": "markdown",
   "metadata": {},
   "source": [
    "Стандартизируем числовые вещественные данные"
   ]
  },
  {
   "cell_type": "code",
   "execution_count": 21,
   "metadata": {},
   "outputs": [],
   "source": [
    "numeric = ['credit_score', 'age', 'tenure', 'balance', 'products_num', 'salary']\n",
    "\n",
    "scaler = StandardScaler()\n",
    "scaler.fit(features_train[numeric])\n",
    "features_train[numeric] = scaler.transform(features_train[numeric]) \n",
    "features_valid[numeric] = scaler.transform(features_valid[numeric])\n",
    "features_test[numeric] = scaler.transform(features_test[numeric]) "
   ]
  },
  {
   "cell_type": "code",
   "execution_count": 22,
   "metadata": {
    "scrolled": true
   },
   "outputs": [
    {
     "data": {
      "text/html": [
       "<div>\n",
       "<style scoped>\n",
       "    .dataframe tbody tr th:only-of-type {\n",
       "        vertical-align: middle;\n",
       "    }\n",
       "\n",
       "    .dataframe tbody tr th {\n",
       "        vertical-align: top;\n",
       "    }\n",
       "\n",
       "    .dataframe thead th {\n",
       "        text-align: right;\n",
       "    }\n",
       "</style>\n",
       "<table border=\"1\" class=\"dataframe\">\n",
       "  <thead>\n",
       "    <tr style=\"text-align: right;\">\n",
       "      <th></th>\n",
       "      <th>credit_score</th>\n",
       "      <th>age</th>\n",
       "      <th>tenure</th>\n",
       "      <th>balance</th>\n",
       "      <th>products_num</th>\n",
       "      <th>has_cr_card</th>\n",
       "      <th>is_active</th>\n",
       "      <th>salary</th>\n",
       "      <th>geography_Germany</th>\n",
       "      <th>geography_Spain</th>\n",
       "      <th>gender_Male</th>\n",
       "    </tr>\n",
       "  </thead>\n",
       "  <tbody>\n",
       "    <tr>\n",
       "      <th>7479</th>\n",
       "      <td>-0.886751</td>\n",
       "      <td>-0.373192</td>\n",
       "      <td>1.044851</td>\n",
       "      <td>1.232271</td>\n",
       "      <td>-0.891560</td>\n",
       "      <td>1</td>\n",
       "      <td>0</td>\n",
       "      <td>-0.187705</td>\n",
       "      <td>0</td>\n",
       "      <td>1</td>\n",
       "      <td>1</td>\n",
       "    </tr>\n",
       "    <tr>\n",
       "      <th>3411</th>\n",
       "      <td>0.608663</td>\n",
       "      <td>-0.183385</td>\n",
       "      <td>1.044851</td>\n",
       "      <td>0.600563</td>\n",
       "      <td>-0.891560</td>\n",
       "      <td>0</td>\n",
       "      <td>0</td>\n",
       "      <td>-0.333945</td>\n",
       "      <td>0</td>\n",
       "      <td>0</td>\n",
       "      <td>0</td>\n",
       "    </tr>\n",
       "    <tr>\n",
       "      <th>6027</th>\n",
       "      <td>2.052152</td>\n",
       "      <td>0.480939</td>\n",
       "      <td>-0.686659</td>\n",
       "      <td>1.027098</td>\n",
       "      <td>0.830152</td>\n",
       "      <td>0</td>\n",
       "      <td>1</td>\n",
       "      <td>1.503095</td>\n",
       "      <td>1</td>\n",
       "      <td>0</td>\n",
       "      <td>1</td>\n",
       "    </tr>\n",
       "    <tr>\n",
       "      <th>1247</th>\n",
       "      <td>-1.457915</td>\n",
       "      <td>-1.417129</td>\n",
       "      <td>0.352247</td>\n",
       "      <td>-1.233163</td>\n",
       "      <td>0.830152</td>\n",
       "      <td>1</td>\n",
       "      <td>0</td>\n",
       "      <td>-1.071061</td>\n",
       "      <td>0</td>\n",
       "      <td>0</td>\n",
       "      <td>1</td>\n",
       "    </tr>\n",
       "    <tr>\n",
       "      <th>3716</th>\n",
       "      <td>0.130961</td>\n",
       "      <td>-1.132419</td>\n",
       "      <td>-1.032961</td>\n",
       "      <td>1.140475</td>\n",
       "      <td>-0.891560</td>\n",
       "      <td>0</td>\n",
       "      <td>0</td>\n",
       "      <td>1.524268</td>\n",
       "      <td>1</td>\n",
       "      <td>0</td>\n",
       "      <td>0</td>\n",
       "    </tr>\n",
       "  </tbody>\n",
       "</table>\n",
       "</div>"
      ],
      "text/plain": [
       "      credit_score       age    tenure   balance  products_num  has_cr_card  \\\n",
       "7479     -0.886751 -0.373192  1.044851  1.232271     -0.891560            1   \n",
       "3411      0.608663 -0.183385  1.044851  0.600563     -0.891560            0   \n",
       "6027      2.052152  0.480939 -0.686659  1.027098      0.830152            0   \n",
       "1247     -1.457915 -1.417129  0.352247 -1.233163      0.830152            1   \n",
       "3716      0.130961 -1.132419 -1.032961  1.140475     -0.891560            0   \n",
       "\n",
       "      is_active    salary  geography_Germany  geography_Spain  gender_Male  \n",
       "7479          0 -0.187705                  0                1            1  \n",
       "3411          0 -0.333945                  0                0            0  \n",
       "6027          1  1.503095                  1                0            1  \n",
       "1247          0 -1.071061                  0                0            1  \n",
       "3716          0  1.524268                  1                0            0  "
      ]
     },
     "execution_count": 22,
     "metadata": {},
     "output_type": "execute_result"
    }
   ],
   "source": [
    "features_train.head()"
   ]
  },
  {
   "cell_type": "code",
   "execution_count": 23,
   "metadata": {},
   "outputs": [
    {
     "data": {
      "text/html": [
       "<div>\n",
       "<style scoped>\n",
       "    .dataframe tbody tr th:only-of-type {\n",
       "        vertical-align: middle;\n",
       "    }\n",
       "\n",
       "    .dataframe tbody tr th {\n",
       "        vertical-align: top;\n",
       "    }\n",
       "\n",
       "    .dataframe thead th {\n",
       "        text-align: right;\n",
       "    }\n",
       "</style>\n",
       "<table border=\"1\" class=\"dataframe\">\n",
       "  <thead>\n",
       "    <tr style=\"text-align: right;\">\n",
       "      <th></th>\n",
       "      <th>credit_score</th>\n",
       "      <th>age</th>\n",
       "      <th>tenure</th>\n",
       "      <th>balance</th>\n",
       "      <th>products_num</th>\n",
       "      <th>has_cr_card</th>\n",
       "      <th>is_active</th>\n",
       "      <th>salary</th>\n",
       "      <th>geography_Germany</th>\n",
       "      <th>geography_Spain</th>\n",
       "      <th>gender_Male</th>\n",
       "    </tr>\n",
       "  </thead>\n",
       "  <tbody>\n",
       "    <tr>\n",
       "      <th>7041</th>\n",
       "      <td>-2.226392</td>\n",
       "      <td>-0.088482</td>\n",
       "      <td>-1.032961</td>\n",
       "      <td>-1.233163</td>\n",
       "      <td>0.830152</td>\n",
       "      <td>1</td>\n",
       "      <td>0</td>\n",
       "      <td>0.647083</td>\n",
       "      <td>0</td>\n",
       "      <td>0</td>\n",
       "      <td>1</td>\n",
       "    </tr>\n",
       "    <tr>\n",
       "      <th>5709</th>\n",
       "      <td>-0.087120</td>\n",
       "      <td>0.006422</td>\n",
       "      <td>1.391153</td>\n",
       "      <td>-1.233163</td>\n",
       "      <td>-0.891560</td>\n",
       "      <td>1</td>\n",
       "      <td>0</td>\n",
       "      <td>-1.658410</td>\n",
       "      <td>0</td>\n",
       "      <td>0</td>\n",
       "      <td>0</td>\n",
       "    </tr>\n",
       "    <tr>\n",
       "      <th>7117</th>\n",
       "      <td>-0.917905</td>\n",
       "      <td>-0.752805</td>\n",
       "      <td>0.005945</td>\n",
       "      <td>0.722307</td>\n",
       "      <td>-0.891560</td>\n",
       "      <td>1</td>\n",
       "      <td>1</td>\n",
       "      <td>-1.369334</td>\n",
       "      <td>0</td>\n",
       "      <td>1</td>\n",
       "      <td>1</td>\n",
       "    </tr>\n",
       "    <tr>\n",
       "      <th>7775</th>\n",
       "      <td>-0.253277</td>\n",
       "      <td>0.101325</td>\n",
       "      <td>1.737455</td>\n",
       "      <td>-1.233163</td>\n",
       "      <td>0.830152</td>\n",
       "      <td>1</td>\n",
       "      <td>0</td>\n",
       "      <td>0.075086</td>\n",
       "      <td>0</td>\n",
       "      <td>1</td>\n",
       "      <td>1</td>\n",
       "    </tr>\n",
       "    <tr>\n",
       "      <th>8735</th>\n",
       "      <td>0.785204</td>\n",
       "      <td>-0.847708</td>\n",
       "      <td>1.737455</td>\n",
       "      <td>0.615625</td>\n",
       "      <td>-0.891560</td>\n",
       "      <td>0</td>\n",
       "      <td>1</td>\n",
       "      <td>-1.070919</td>\n",
       "      <td>0</td>\n",
       "      <td>0</td>\n",
       "      <td>1</td>\n",
       "    </tr>\n",
       "  </tbody>\n",
       "</table>\n",
       "</div>"
      ],
      "text/plain": [
       "      credit_score       age    tenure   balance  products_num  has_cr_card  \\\n",
       "7041     -2.226392 -0.088482 -1.032961 -1.233163      0.830152            1   \n",
       "5709     -0.087120  0.006422  1.391153 -1.233163     -0.891560            1   \n",
       "7117     -0.917905 -0.752805  0.005945  0.722307     -0.891560            1   \n",
       "7775     -0.253277  0.101325  1.737455 -1.233163      0.830152            1   \n",
       "8735      0.785204 -0.847708  1.737455  0.615625     -0.891560            0   \n",
       "\n",
       "      is_active    salary  geography_Germany  geography_Spain  gender_Male  \n",
       "7041          0  0.647083                  0                0            1  \n",
       "5709          0 -1.658410                  0                0            0  \n",
       "7117          1 -1.369334                  0                1            1  \n",
       "7775          0  0.075086                  0                1            1  \n",
       "8735          1 -1.070919                  0                0            1  "
      ]
     },
     "execution_count": 23,
     "metadata": {},
     "output_type": "execute_result"
    }
   ],
   "source": [
    "features_test.head()"
   ]
  },
  {
   "cell_type": "markdown",
   "metadata": {},
   "source": [
    "### Выводы"
   ]
  },
  {
   "cell_type": "markdown",
   "metadata": {},
   "source": [
    "* Данные соответствуют заявленным описаниям и типам. \n",
    "*В колонке Tenure есть пропуски, их доля составила 9%, заполнили случайными значениями в диапазоне от 0 до 10.\n",
    "*Провели замену названий колонок.\n",
    "*Проведем преобразование данных согласно поставленной задачи обучения модели предсказания целевого признака exited:\n",
    "*убрали из выборки колонки row_number, customer_id, surname,\n",
    "*колонки с категориальными данными преобразовали в числовые по принципу OHE\n",
    "*колонки с числовыми вещественными данными подвергли стандартизации"
   ]
  },
  {
   "cell_type": "markdown",
   "metadata": {},
   "source": [
    "## Исследование задачи"
   ]
  },
  {
   "cell_type": "markdown",
   "metadata": {},
   "source": [
    "Исследование баланса классов"
   ]
  },
  {
   "cell_type": "code",
   "execution_count": 24,
   "metadata": {
    "scrolled": true
   },
   "outputs": [
    {
     "name": "stdout",
     "output_type": "stream",
     "text": [
      "[[1372  210]\n",
      " [ 214  204]]\n"
     ]
    }
   ],
   "source": [
    "model = DecisionTreeClassifier(random_state=12345)\n",
    "model.fit(features_train, target_train)\n",
    "predicted_valid = model.predict(features_valid)\n",
    "\n",
    "print(confusion_matrix(target_valid, predicted_valid))"
   ]
  },
  {
   "cell_type": "markdown",
   "metadata": {},
   "source": [
    "Видим, что баланс классов нарушен"
   ]
  },
  {
   "cell_type": "code",
   "execution_count": 25,
   "metadata": {},
   "outputs": [
    {
     "data": {
      "text/plain": [
       "3.9091801669121256"
      ]
     },
     "execution_count": 25,
     "metadata": {},
     "output_type": "execute_result"
    }
   ],
   "source": [
    "target[target == 0].count() / target[target == 1].count()"
   ]
  },
  {
   "cell_type": "markdown",
   "metadata": {},
   "source": [
    "Дисбаланс классов в целевом признаке кратен примерно 4"
   ]
  },
  {
   "cell_type": "code",
   "execution_count": 26,
   "metadata": {},
   "outputs": [
    {
     "data": {
      "text/plain": [
       "0.4880382775119617"
      ]
     },
     "execution_count": 26,
     "metadata": {},
     "output_type": "execute_result"
    }
   ],
   "source": [
    "# Полнота прогноза\n",
    "\n",
    "recall_score(target_valid, predicted_valid)"
   ]
  },
  {
   "cell_type": "code",
   "execution_count": 27,
   "metadata": {},
   "outputs": [
    {
     "data": {
      "text/plain": [
       "0.4927536231884058"
      ]
     },
     "execution_count": 27,
     "metadata": {},
     "output_type": "execute_result"
    }
   ],
   "source": [
    "# Точность прогноза\n",
    "\n",
    "precision_score(target_valid, predicted_valid)"
   ]
  },
  {
   "cell_type": "code",
   "execution_count": 28,
   "metadata": {},
   "outputs": [
    {
     "name": "stdout",
     "output_type": "stream",
     "text": [
      "F1: 0.49038461538461536\n"
     ]
    }
   ],
   "source": [
    "print(\"F1:\", f1_score(target_valid, predicted_valid))"
   ]
  },
  {
   "cell_type": "markdown",
   "metadata": {},
   "source": [
    "Метрика F1 на несбалансированной модели при алгоритме решающего дерева показывает значение ниже порогового 0.59"
   ]
  },
  {
   "cell_type": "code",
   "execution_count": 29,
   "metadata": {
    "scrolled": false
   },
   "outputs": [
    {
     "name": "stdout",
     "output_type": "stream",
     "text": [
      "Глубина: 2 F1: 0.1853448275862069\n",
      "Глубина: 3 F1: 0.26639344262295084\n",
      "Глубина: 4 F1: 0.40293040293040294\n",
      "Глубина: 5 F1: 0.46735395189003437\n",
      "Глубина: 6 F1: 0.5256198347107438\n",
      "Глубина: 7 F1: 0.5527156549520766\n",
      "Глубина: 8 F1: 0.5614035087719298\n",
      "Глубина: 9 F1: 0.5758998435054773\n",
      "Глубина: 10 F1: 0.5632911392405064\n",
      "Глубина: 11 F1: 0.5736434108527132\n",
      "Глубина: 12 F1: 0.5801526717557252\n",
      "Глубина: 13 F1: 0.5727136431784108\n",
      "Глубина: 14 F1: 0.5727272727272728\n",
      "Глубина: 15 F1: 0.5739910313901345\n",
      "Глубина: 16 F1: 0.5701492537313433\n",
      "Глубина: 17 F1: 0.5824665676077266\n",
      "Глубина: 18 F1: 0.5654135338345865\n",
      "Глубина: 19 F1: 0.5825825825825826\n",
      "Глубина: 20 F1: 0.5701357466063349\n",
      "Глубина: 21 F1: 0.56752655538695\n",
      "Глубина: 22 F1: 0.5727272727272728\n",
      "Глубина: 23 F1: 0.56797583081571\n",
      "Глубина: 24 F1: 0.5636363636363636\n",
      "Глубина: 25 F1: 0.5636363636363636\n",
      "Глубина: 26 F1: 0.5636363636363636\n",
      "Глубина: 27 F1: 0.5636363636363636\n",
      "Глубина: 28 F1: 0.5636363636363636\n",
      "Глубина: 29 F1: 0.5636363636363636\n",
      "Глубина: 30 F1: 0.5636363636363636\n"
     ]
    }
   ],
   "source": [
    "for depth in range(2, 31, 1):    \n",
    "    model = RandomForestClassifier(random_state=12345, n_estimators=50, max_depth=depth)\n",
    "    model.fit(features_train, target_train)\n",
    "    predicted_valid = model.predict(features_valid)\n",
    "\n",
    "    print('Глубина:', depth, 'F1:', f1_score(target_valid, predicted_valid))"
   ]
  },
  {
   "cell_type": "code",
   "execution_count": 30,
   "metadata": {
    "scrolled": false
   },
   "outputs": [
    {
     "name": "stdout",
     "output_type": "stream",
     "text": [
      "Глубина: 2 F1: 0.15418502202643172\n",
      "Глубина: 3 F1: 0.24481327800829872\n",
      "Глубина: 4 F1: 0.40293040293040294\n",
      "Глубина: 5 F1: 0.47440273037542663\n",
      "Глубина: 6 F1: 0.5320197044334976\n",
      "Глубина: 7 F1: 0.5576923076923077\n",
      "Глубина: 8 F1: 0.5614035087719298\n",
      "Глубина: 9 F1: 0.5727699530516431\n",
      "Глубина: 10 F1: 0.5615141955835962\n",
      "Глубина: 11 F1: 0.5679012345679013\n",
      "Глубина: 12 F1: 0.5749235474006116\n",
      "Глубина: 13 F1: 0.572289156626506\n",
      "Глубина: 14 F1: 0.5769805680119582\n",
      "Глубина: 15 F1: 0.5765765765765767\n",
      "Глубина: 16 F1: 0.5663189269746647\n",
      "Глубина: 17 F1: 0.5878877400295421\n",
      "Глубина: 18 F1: 0.5667655786350148\n",
      "Глубина: 19 F1: 0.588410104011887\n",
      "Глубина: 20 F1: 0.571001494768311\n",
      "Глубина: 21 F1: 0.5748865355521936\n",
      "Глубина: 22 F1: 0.5787878787878789\n",
      "Глубина: 23 F1: 0.5731523378582202\n",
      "Глубина: 24 F1: 0.56752655538695\n",
      "Глубина: 25 F1: 0.563165905631659\n",
      "Глубина: 26 F1: 0.563165905631659\n",
      "Глубина: 27 F1: 0.563165905631659\n",
      "Глубина: 28 F1: 0.563165905631659\n",
      "Глубина: 29 F1: 0.563165905631659\n",
      "Глубина: 30 F1: 0.563165905631659\n"
     ]
    }
   ],
   "source": [
    "for depth in range(2, 31, 1):    \n",
    "    model = RandomForestClassifier(random_state=12345, n_estimators=60, max_depth=depth)\n",
    "    model.fit(features_train, target_train)\n",
    "    predicted_valid = model.predict(features_valid)\n",
    "\n",
    "    print('Глубина:', depth, 'F1:', f1_score(target_valid, predicted_valid))"
   ]
  },
  {
   "cell_type": "code",
   "execution_count": 31,
   "metadata": {
    "scrolled": true
   },
   "outputs": [
    {
     "name": "stdout",
     "output_type": "stream",
     "text": [
      "Глубина: 2 F1: 0.11286681715575622\n",
      "Глубина: 3 F1: 0.23799582463465552\n",
      "Глубина: 4 F1: 0.38589981447124305\n",
      "Глубина: 5 F1: 0.48287671232876717\n",
      "Глубина: 6 F1: 0.533112582781457\n",
      "Глубина: 7 F1: 0.5568\n",
      "Глубина: 8 F1: 0.5599999999999999\n",
      "Глубина: 9 F1: 0.5678627145085803\n",
      "Глубина: 10 F1: 0.5629860031104199\n",
      "Глубина: 11 F1: 0.5793528505392913\n",
      "Глубина: 12 F1: 0.5891238670694864\n",
      "Глубина: 13 F1: 0.5817091454272864\n",
      "Глубина: 14 F1: 0.5709969788519637\n",
      "Глубина: 15 F1: 0.5739910313901345\n",
      "Глубина: 16 F1: 0.572289156626506\n",
      "Глубина: 17 F1: 0.5838323353293413\n",
      "Глубина: 18 F1: 0.5752212389380531\n",
      "Глубина: 19 F1: 0.5919282511210762\n",
      "Глубина: 20 F1: 0.5701357466063349\n",
      "Глубина: 21 F1: 0.5787106446776611\n",
      "Глубина: 22 F1: 0.5791855203619909\n",
      "Глубина: 23 F1: 0.5735735735735735\n",
      "Глубина: 24 F1: 0.5714285714285714\n",
      "Глубина: 25 F1: 0.5714285714285714\n",
      "Глубина: 26 F1: 0.5714285714285714\n",
      "Глубина: 27 F1: 0.5714285714285714\n",
      "Глубина: 28 F1: 0.5714285714285714\n",
      "Глубина: 29 F1: 0.5714285714285714\n",
      "Глубина: 30 F1: 0.5714285714285714\n"
     ]
    }
   ],
   "source": [
    "for depth in range(2, 31, 1):    \n",
    "    model = RandomForestClassifier(random_state=12345, n_estimators=70, max_depth=depth)\n",
    "    model.fit(features_train, target_train)\n",
    "    predicted_valid = model.predict(features_valid)\n",
    "\n",
    "    print('Глубина:', depth, 'F1:', f1_score(target_valid, predicted_valid))"
   ]
  },
  {
   "cell_type": "code",
   "execution_count": 32,
   "metadata": {
    "scrolled": true
   },
   "outputs": [
    {
     "name": "stdout",
     "output_type": "stream",
     "text": [
      "Глубина: 2 F1: 0.1294642857142857\n",
      "Глубина: 3 F1: 0.23749999999999996\n",
      "Глубина: 4 F1: 0.37757009345794396\n",
      "Глубина: 5 F1: 0.4626086956521739\n",
      "Глубина: 6 F1: 0.5337726523887973\n",
      "Глубина: 7 F1: 0.5530546623794212\n",
      "Глубина: 8 F1: 0.5614035087719298\n",
      "Глубина: 9 F1: 0.577639751552795\n",
      "Глубина: 10 F1: 0.5714285714285714\n",
      "Глубина: 11 F1: 0.5780525502318393\n",
      "Глубина: 12 F1: 0.5862595419847327\n",
      "Глубина: 13 F1: 0.5753424657534246\n",
      "Глубина: 14 F1: 0.5778443113772455\n",
      "Глубина: 15 F1: 0.5774436090225564\n",
      "Глубина: 16 F1: 0.5688622754491017\n",
      "Глубина: 17 F1: 0.5896296296296296\n",
      "Глубина: 18 F1: 0.5654761904761905\n",
      "Глубина: 19 F1: 0.588410104011887\n",
      "Глубина: 20 F1: 0.5804511278195489\n",
      "Глубина: 21 F1: 0.5774436090225564\n",
      "Глубина: 22 F1: 0.5735963581183612\n",
      "Глубина: 23 F1: 0.5770392749244713\n",
      "Глубина: 24 F1: 0.575712143928036\n",
      "Глубина: 25 F1: 0.5709969788519637\n",
      "Глубина: 26 F1: 0.56797583081571\n",
      "Глубина: 27 F1: 0.56797583081571\n",
      "Глубина: 28 F1: 0.56797583081571\n",
      "Глубина: 29 F1: 0.56797583081571\n",
      "Глубина: 30 F1: 0.56797583081571\n"
     ]
    }
   ],
   "source": [
    "for depth in range(2, 31, 1):    \n",
    "    model = RandomForestClassifier(random_state=12345, n_estimators=100, max_depth=depth)\n",
    "    model.fit(features_train, target_train)\n",
    "    predicted_valid = model.predict(features_valid)\n",
    "\n",
    "    print('Глубина:', depth, 'F1:', f1_score(target_valid, predicted_valid))"
   ]
  },
  {
   "cell_type": "markdown",
   "metadata": {},
   "source": [
    "Для несбалансированной модели на алгоритме случайного леса метрика F1 максимальна при глубине равной 16 и количестве деревьев 60 и составляет 0.6014, что незначительно выше 0.59"
   ]
  },
  {
   "cell_type": "code",
   "execution_count": 33,
   "metadata": {
    "scrolled": true
   },
   "outputs": [
    {
     "name": "stdout",
     "output_type": "stream",
     "text": [
      "F1: 0.33220338983050846\n"
     ]
    }
   ],
   "source": [
    "model = LogisticRegression(random_state=12345, solver='liblinear')\n",
    "model.fit(features_train, target_train)\n",
    "predicted_valid = model.predict(features_valid)\n",
    "\n",
    "print('F1:', f1_score(target_valid, predicted_valid))"
   ]
  },
  {
   "cell_type": "markdown",
   "metadata": {},
   "source": [
    "Метрика F1 для несбалансированной модели на алгоритме логистической регрессии 0.30, что значительно ниже порогового 0.59 и является наихудшим результатом"
   ]
  },
  {
   "cell_type": "markdown",
   "metadata": {},
   "source": [
    "### Выводы"
   ]
  },
  {
   "cell_type": "markdown",
   "metadata": {},
   "source": [
    "* Изучены модели без учёта дисбаланса\n",
    "* Худший результат относительно метрики F1 показала модель на логистической регрессии, а лучший - на алгоритме случайного леса"
   ]
  },
  {
   "cell_type": "code",
   "execution_count": 34,
   "metadata": {},
   "outputs": [],
   "source": [
    "model = RandomForestClassifier(random_state=12345, n_estimators=60, max_depth=16)\n",
    "model.fit(features_train, target_train)\n",
    "probabilities_valid_u = model.predict_proba(features_valid)\n",
    "probabilities_one_valid_u = probabilities_valid_u[:, 1]"
   ]
  },
  {
   "cell_type": "code",
   "execution_count": 35,
   "metadata": {
    "scrolled": true
   },
   "outputs": [
    {
     "data": {
      "image/png": "[encoded data removed]",
      "text/plain": [
       "<Figure size 400x400 with 1 Axes>"
      ]
     },
     "metadata": {},
     "output_type": "display_data"
    }
   ],
   "source": [
    "fpr, tpr, thresholds = roc_curve(target_valid, probabilities_one_valid_u) \n",
    "\n",
    "plt.figure(figsize=(4, 4))\n",
    "\n",
    "plt.plot(fpr, tpr)\n",
    "\n",
    "# ROC-кривая случайной модели \n",
    "plt.plot([0, 1], [0, 1], linestyle='--')\n",
    "\n",
    "plt.xlim([0.0, 1.0])\n",
    "plt.ylim([0.0, 1.0])\n",
    "\n",
    "plt.xlabel(\"False Positive Rate\")\n",
    "plt.ylabel(\"True Positive Rate\")\n",
    "\n",
    "plt.title(\"ROC-кривая\")\n",
    "\n",
    "plt.show()"
   ]
  },
  {
   "cell_type": "code",
   "execution_count": 36,
   "metadata": {
    "scrolled": true
   },
   "outputs": [
    {
     "data": {
      "text/plain": [
       "0.8359149583532444"
      ]
     },
     "execution_count": 36,
     "metadata": {},
     "output_type": "execute_result"
    }
   ],
   "source": [
    "roc_auc_score(target_valid, probabilities_one_valid_u)"
   ]
  },
  {
   "cell_type": "markdown",
   "metadata": {},
   "source": [
    "<div class=\"alert alert-block alert-success\">\n",
    "<b>Успех[2]:</b> Есть \n",
    "</div>\n"
   ]
  },
  {
   "cell_type": "markdown",
   "metadata": {},
   "source": [
    "## Борьба с дисбалансом"
   ]
  },
  {
   "cell_type": "markdown",
   "metadata": {},
   "source": [
    "Применим метод upsampling для устранения дисбаланса классов в выборках"
   ]
  },
  {
   "cell_type": "code",
   "execution_count": 37,
   "metadata": {},
   "outputs": [],
   "source": [
    "def upsample(features, target, repeat):\n",
    "    \n",
    "    features_zeros = features[target == 0]\n",
    "    features_ones = features[target == 1]\n",
    "    target_zeros = target[target == 0]\n",
    "    target_ones = target[target == 1]\n",
    "\n",
    "    features_upsampled = pd.concat([features_zeros] + [features_ones] * repeat)\n",
    "    target_upsampled = pd.concat([target_zeros] + [target_ones] * repeat)\n",
    "    \n",
    "    features_upsampled, target_upsampled = shuffle(\n",
    "        features_upsampled, target_upsampled, random_state=12345)\n",
    "    \n",
    "    return features_upsampled, target_upsampled\n",
    "\n",
    "\n",
    "features_upsampled, target_upsampled = upsample(features_train, target_train, 4)"
   ]
  },
  {
   "cell_type": "markdown",
   "metadata": {},
   "source": [
    "Теперь применим метод downsampling для устранения дисбаланса классов в выборках"
   ]
  },
  {
   "cell_type": "code",
   "execution_count": 38,
   "metadata": {},
   "outputs": [],
   "source": [
    "def downsample(features, target, fraction):\n",
    "    features_zeros = features[target == 0]\n",
    "    features_ones = features[target == 1]\n",
    "    target_zeros = target[target == 0]\n",
    "    target_ones = target[target == 1]\n",
    "\n",
    "    features_downsampled = pd.concat(\n",
    "        [features_zeros.sample(frac=fraction, random_state=12345)] + [features_ones])\n",
    "    target_downsampled = pd.concat(\n",
    "        [target_zeros.sample(frac=fraction, random_state=12345)] + [target_ones])\n",
    "    \n",
    "    features_downsampled, target_downsampled = shuffle(\n",
    "        features_downsampled, target_downsampled, random_state=12345)\n",
    "    \n",
    "    return features_downsampled, target_downsampled\n",
    "\n",
    "\n",
    "features_downsampled, target_downsampled = downsample(features_train, target_train, 0.39)"
   ]
  },
  {
   "cell_type": "code",
   "execution_count": 39,
   "metadata": {},
   "outputs": [
    {
     "data": {
      "text/plain": [
       "3.9091801669121256"
      ]
     },
     "execution_count": 39,
     "metadata": {},
     "output_type": "execute_result"
    }
   ],
   "source": [
    "target[target == 0].count() / target[target == 1].count()"
   ]
  },
  {
   "cell_type": "markdown",
   "metadata": {},
   "source": [
    "Дисбаланс классов в целевом признаке кратен примерно 4"
   ]
  },
  {
   "cell_type": "markdown",
   "metadata": {},
   "source": [
    "Логистическая регрессия с upsampling"
   ]
  },
  {
   "cell_type": "code",
   "execution_count": 40,
   "metadata": {
    "scrolled": false
   },
   "outputs": [
    {
     "name": "stdout",
     "output_type": "stream",
     "text": [
      "F1: 0.4875536480686695\n"
     ]
    }
   ],
   "source": [
    "model = LogisticRegression(random_state=12345, solver='liblinear')\n",
    "model.fit(features_upsampled, target_upsampled)\n",
    "predicted_valid = model.predict(features_valid)\n",
    "\n",
    "print(\"F1:\", f1_score(target_valid, predicted_valid))"
   ]
  },
  {
   "cell_type": "markdown",
   "metadata": {},
   "source": [
    "Логистическая регрессия с downsampling"
   ]
  },
  {
   "cell_type": "code",
   "execution_count": 41,
   "metadata": {
    "scrolled": false
   },
   "outputs": [
    {
     "name": "stdout",
     "output_type": "stream",
     "text": [
      "F1: 0.4989293361884368\n"
     ]
    }
   ],
   "source": [
    "model = LogisticRegression(random_state=12345, solver='liblinear').fit(features_downsampled, target_downsampled)\n",
    "predicted_valid = model.predict(features_valid)\n",
    "\n",
    "print(\"F1:\", f1_score(target_valid, predicted_valid))"
   ]
  },
  {
   "cell_type": "markdown",
   "metadata": {},
   "source": [
    "Логистическая регрессия с гиперпараметром class_weight='balanced'"
   ]
  },
  {
   "cell_type": "code",
   "execution_count": 42,
   "metadata": {},
   "outputs": [
    {
     "name": "stdout",
     "output_type": "stream",
     "text": [
      "F1: 0.488013698630137\n"
     ]
    }
   ],
   "source": [
    "model = LogisticRegression(random_state=12345, solver='liblinear', class_weight='balanced')\n",
    "model.fit(features_train, target_train)\n",
    "predicted_valid = model.predict(features_valid)\n",
    "\n",
    "print('F1:', f1_score(target_valid, predicted_valid))"
   ]
  },
  {
   "cell_type": "markdown",
   "metadata": {},
   "source": [
    "Метрика F1 для сбалансированной модели на алгоритме логистической регрессии достигает максимума 0.50 при применении гиперпараметра взвешенных классов, что ниже порогового 0.59"
   ]
  },
  {
   "cell_type": "markdown",
   "metadata": {},
   "source": [
    "Случайный лес с upsampling"
   ]
  },
  {
   "cell_type": "code",
   "execution_count": 43,
   "metadata": {
    "scrolled": true
   },
   "outputs": [
    {
     "name": "stdout",
     "output_type": "stream",
     "text": [
      "F1: 0.5959079283887468\n"
     ]
    }
   ],
   "source": [
    "model = RandomForestClassifier(random_state=12345, n_estimators=60, max_depth=16).fit(features_upsampled, target_upsampled)\n",
    "predicted_valid = model.predict(features_valid)\n",
    "\n",
    "print(\"F1:\", f1_score(target_valid, predicted_valid))"
   ]
  },
  {
   "cell_type": "markdown",
   "metadata": {},
   "source": [
    "Случайный лес с downsampling"
   ]
  },
  {
   "cell_type": "code",
   "execution_count": 44,
   "metadata": {},
   "outputs": [
    {
     "name": "stdout",
     "output_type": "stream",
     "text": [
      "F1: 0.6064659977703456\n"
     ]
    }
   ],
   "source": [
    "model = RandomForestClassifier(random_state=12345, n_estimators=60, max_depth=16).fit(features_downsampled, target_downsampled)\n",
    "predicted_valid = model.predict(features_valid)\n",
    "\n",
    "print(\"F1:\", f1_score(target_valid, predicted_valid))"
   ]
  },
  {
   "cell_type": "markdown",
   "metadata": {},
   "source": [
    "Случайный лес с гиперпараметром class_weight='balanced'"
   ]
  },
  {
   "cell_type": "code",
   "execution_count": 45,
   "metadata": {
    "scrolled": true
   },
   "outputs": [
    {
     "name": "stdout",
     "output_type": "stream",
     "text": [
      "F1: 0.5825825825825826\n"
     ]
    }
   ],
   "source": [
    "model = RandomForestClassifier(random_state=12345, n_estimators=60, max_depth=16, class_weight='balanced')\n",
    "model.fit(features_train, target_train)\n",
    "predicted_valid = model.predict(features_valid)\n",
    "\n",
    "print('F1:', f1_score(target_valid, predicted_valid))"
   ]
  },
  {
   "cell_type": "markdown",
   "metadata": {},
   "source": [
    "Метрика F1 для сбалансированной модели на алгоритме случайного леса достигает максимума 0.60 при применении downsampling, что выше порогового 0.59"
   ]
  },
  {
   "cell_type": "markdown",
   "metadata": {},
   "source": [
    "Дерево решений с upsampling"
   ]
  },
  {
   "cell_type": "code",
   "execution_count": 46,
   "metadata": {
    "scrolled": true
   },
   "outputs": [
    {
     "name": "stdout",
     "output_type": "stream",
     "text": [
      "F1: 0.49264705882352944\n"
     ]
    }
   ],
   "source": [
    "model = DecisionTreeClassifier(random_state=12345).fit(features_upsampled, target_upsampled)\n",
    "predicted_valid = model.predict(features_valid)\n",
    "\n",
    "print(\"F1:\", f1_score(target_valid, predicted_valid))"
   ]
  },
  {
   "cell_type": "markdown",
   "metadata": {},
   "source": [
    "Дерево решений с downsampling"
   ]
  },
  {
   "cell_type": "code",
   "execution_count": 47,
   "metadata": {},
   "outputs": [
    {
     "name": "stdout",
     "output_type": "stream",
     "text": [
      "F1: 0.5014031805425632\n"
     ]
    }
   ],
   "source": [
    "model = DecisionTreeClassifier(random_state=12345).fit(features_downsampled, target_downsampled)\n",
    "predicted_valid = model.predict(features_valid)\n",
    "\n",
    "print(\"F1:\", f1_score(target_valid, predicted_valid))"
   ]
  },
  {
   "cell_type": "markdown",
   "metadata": {},
   "source": [
    "Дерево решений с гиперпараметром class_weight='balanced'"
   ]
  },
  {
   "cell_type": "code",
   "execution_count": 48,
   "metadata": {
    "scrolled": true
   },
   "outputs": [
    {
     "name": "stdout",
     "output_type": "stream",
     "text": [
      "F1: 0.4777227722772277\n"
     ]
    }
   ],
   "source": [
    "model = DecisionTreeClassifier(random_state=12345, class_weight='balanced')\n",
    "model.fit(features_train, target_train)\n",
    "predicted_valid = model.predict(features_valid)\n",
    "\n",
    "print('F1:', f1_score(target_valid, predicted_valid))"
   ]
  },
  {
   "cell_type": "markdown",
   "metadata": {},
   "source": [
    "Метрика F1 для сбалансированной модели на алгоритме дерева решений достигает максимума 0.49 при применении взвешенных классов, что ниже порогового 0.59"
   ]
  },
  {
   "cell_type": "markdown",
   "metadata": {},
   "source": [
    "### Выводы"
   ]
  },
  {
   "cell_type": "markdown",
   "metadata": {},
   "source": [
    "* Изучены модели без учёта дисбаланса\n",
    "* Худший результат относительно метрики F1 показала модель на логистической регрессии, а лучший - на алгоритме случайного леса при устранении дисбаланса классов методом upsampling, при этом мы вписываемся в порог 0.59."
   ]
  },
  {
   "cell_type": "code",
   "execution_count": 49,
   "metadata": {},
   "outputs": [],
   "source": [
    "model = RandomForestClassifier(random_state=12345, n_estimators=60, max_depth=16).fit(features_downsampled, target_downsampled)\n",
    "probabilities_valid_b = model.predict_proba(features_valid)\n",
    "probabilities_one_valid_b = probabilities_valid_b[:, 1]"
   ]
  },
  {
   "cell_type": "code",
   "execution_count": 50,
   "metadata": {
    "scrolled": true
   },
   "outputs": [
    {
     "data": {
      "image/png": "[encoded data removed]",
      "text/plain": [
       "<Figure size 400x400 with 1 Axes>"
      ]
     },
     "metadata": {},
     "output_type": "display_data"
    }
   ],
   "source": [
    "plt.figure(figsize=(4, 4))\n",
    "\n",
    "fpr, tpr, thresholds = roc_curve(target_valid, probabilities_one_valid_u) \n",
    "plt.plot(fpr, tpr)\n",
    "fpr, tpr, thresholds = roc_curve(target_valid, probabilities_one_valid_b) \n",
    "plt.plot(fpr, tpr)\n",
    "\n",
    "# ROC-кривая случайной модели \n",
    "plt.plot([0, 1], [0, 1], linestyle='--')\n",
    "\n",
    "plt.xlim([0.0, 1.0])\n",
    "plt.ylim([0.0, 1.0])\n",
    "\n",
    "plt.xlabel(\"False Positive Rate\")\n",
    "plt.ylabel(\"True Positive Rate\")\n",
    "plt.legend(['несбалансированная', 'сбалансированная'], loc='best')\n",
    "plt.title(\"ROC-кривая\")\n",
    "\n",
    "plt.show()"
   ]
  },
  {
   "cell_type": "code",
   "execution_count": 51,
   "metadata": {},
   "outputs": [
    {
     "data": {
      "text/plain": [
       "0.838488014081866"
      ]
     },
     "execution_count": 51,
     "metadata": {},
     "output_type": "execute_result"
    }
   ],
   "source": [
    "roc_auc_score(target_valid, probabilities_one_valid_b)"
   ]
  },
  {
   "cell_type": "markdown",
   "metadata": {},
   "source": [
    "<div class=\"alert alert-block alert-success\">\n",
    "<b>Успех[2]:</b> Есть \n",
    "</div>\n"
   ]
  },
  {
   "cell_type": "markdown",
   "metadata": {},
   "source": [
    "## Тестирование модели"
   ]
  },
  {
   "cell_type": "markdown",
   "metadata": {},
   "source": [
    "Итак, исследование моделей показало, что лучший результат метрики F1 достигается на сбалансированной методом downsampling модели на алгоритме случайного леса при глубине равной 17 и количестве деревьев 100"
   ]
  },
  {
   "cell_type": "code",
   "execution_count": 52,
   "metadata": {},
   "outputs": [
    {
     "name": "stdout",
     "output_type": "stream",
     "text": [
      "F1: 0.6050198150594451\n"
     ]
    }
   ],
   "source": [
    "model = RandomForestClassifier(\n",
    "    random_state=12345, \n",
    "    n_estimators=100, \n",
    "    max_depth=25).fit(features_upsampled, target_upsampled)\n",
    "\n",
    "predicted_valid = model.predict(features_valid)\n",
    "\n",
    "print(\"F1:\", f1_score(target_valid, predicted_valid))"
   ]
  },
  {
   "cell_type": "markdown",
   "metadata": {},
   "source": [
    "Проверим этот результат на тестовой выборке"
   ]
  },
  {
   "cell_type": "code",
   "execution_count": 53,
   "metadata": {
    "scrolled": false
   },
   "outputs": [
    {
     "name": "stdout",
     "output_type": "stream",
     "text": [
      "F1: 0.583883751651255\n"
     ]
    }
   ],
   "source": [
    "predicted_test = model.predict(features_test)\n",
    "\n",
    "print(\"F1:\", f1_score(target_test, predicted_test))"
   ]
  },
  {
   "cell_type": "markdown",
   "metadata": {},
   "source": [
    "Измерим AUC-ROC и сравним её значение с F1-мерой на валидационной и тестовой выборках"
   ]
  },
  {
   "cell_type": "code",
   "execution_count": 54,
   "metadata": {
    "scrolled": true
   },
   "outputs": [
    {
     "name": "stdout",
     "output_type": "stream",
     "text": [
      "Порог = 0.00 | Точность = 0.217, Полнота = 0.993, F1-мера = 0.357\n",
      "Порог = 0.02 | Точность = 0.237, Полнота = 0.983, F1-мера = 0.382\n",
      "Порог = 0.04 | Точность = 0.254, Полнота = 0.959, F1-мера = 0.402\n",
      "Порог = 0.06 | Точность = 0.271, Полнота = 0.945, F1-мера = 0.422\n",
      "Порог = 0.08 | Точность = 0.287, Полнота = 0.923, F1-мера = 0.438\n",
      "Порог = 0.10 | Точность = 0.304, Полнота = 0.914, F1-мера = 0.457\n",
      "Порог = 0.12 | Точность = 0.326, Полнота = 0.902, F1-мера = 0.479\n",
      "Порог = 0.14 | Точность = 0.343, Полнота = 0.873, F1-мера = 0.492\n",
      "Порог = 0.16 | Точность = 0.361, Полнота = 0.844, F1-мера = 0.506\n",
      "Порог = 0.18 | Точность = 0.374, Полнота = 0.823, F1-мера = 0.514\n",
      "Порог = 0.20 | Точность = 0.391, Полнота = 0.809, F1-мера = 0.527\n",
      "Порог = 0.22 | Точность = 0.415, Полнота = 0.789, F1-мера = 0.544\n",
      "Порог = 0.24 | Точность = 0.436, Полнота = 0.770, F1-мера = 0.557\n",
      "Порог = 0.26 | Точность = 0.456, Полнота = 0.761, F1-мера = 0.570\n",
      "Порог = 0.28 | Точность = 0.478, Полнота = 0.749, F1-мера = 0.583\n",
      "Порог = 0.30 | Точность = 0.489, Полнота = 0.722, F1-мера = 0.584\n",
      "Порог = 0.32 | Точность = 0.503, Полнота = 0.703, F1-мера = 0.587\n",
      "Порог = 0.34 | Точность = 0.530, Полнота = 0.687, F1-мера = 0.599\n",
      "Порог = 0.36 | Точность = 0.558, Полнота = 0.672, F1-мера = 0.610\n",
      "Порог = 0.38 | Точность = 0.578, Полнота = 0.653, F1-мера = 0.613\n",
      "Порог = 0.40 | Точность = 0.585, Полнота = 0.632, F1-мера = 0.608\n",
      "Порог = 0.42 | Точность = 0.601, Полнота = 0.612, F1-мера = 0.607\n",
      "Порог = 0.44 | Точность = 0.624, Полнота = 0.589, F1-мера = 0.606\n",
      "Порог = 0.46 | Точность = 0.643, Полнота = 0.574, F1-мера = 0.607\n",
      "Порог = 0.48 | Точность = 0.659, Полнота = 0.560, F1-мера = 0.605\n",
      "Порог = 0.50 | Точность = 0.676, Полнота = 0.548, F1-мера = 0.605\n",
      "Порог = 0.52 | Точность = 0.676, Полнота = 0.519, F1-мера = 0.587\n",
      "Порог = 0.54 | Точность = 0.693, Полнота = 0.498, F1-мера = 0.579\n",
      "Порог = 0.56 | Точность = 0.719, Полнота = 0.478, F1-мера = 0.575\n",
      "Порог = 0.58 | Точность = 0.738, Полнота = 0.459, F1-мера = 0.566\n",
      "Порог = 0.60 | Точность = 0.774, Полнота = 0.443, F1-мера = 0.563\n",
      "Порог = 0.62 | Точность = 0.786, Полнота = 0.431, F1-мера = 0.556\n",
      "Порог = 0.64 | Точность = 0.801, Полнота = 0.414, F1-мера = 0.546\n",
      "Порог = 0.66 | Точность = 0.806, Полнота = 0.397, F1-мера = 0.532\n",
      "Порог = 0.68 | Точность = 0.824, Полнота = 0.380, F1-мера = 0.520\n"
     ]
    }
   ],
   "source": [
    "probabilities_valid = model.predict_proba(features_valid)\n",
    "probabilities_one_valid = probabilities_valid[:, 1]\n",
    "\n",
    "for threshold in np.arange(0, 0.7, 0.02):\n",
    "    predicted_valid = probabilities_one_valid > threshold\n",
    "    precision = precision_score(target_valid, predicted_valid) \n",
    "    recall = recall_score(target_valid, predicted_valid) \n",
    "    f1 = f1_score(target_valid, predicted_valid)\n",
    "\n",
    "    print(\"Порог = {:.2f} | Точность = {:.3f}, Полнота = {:.3f}, F1-мера = {:.3f}\".format(\n",
    "        threshold, precision, recall, f1))"
   ]
  },
  {
   "cell_type": "code",
   "execution_count": 55,
   "metadata": {
    "scrolled": true
   },
   "outputs": [
    {
     "data": {
      "image/png": "[encoded data removed]",
      "text/plain": [
       "<Figure size 400x400 with 1 Axes>"
      ]
     },
     "metadata": {},
     "output_type": "display_data"
    }
   ],
   "source": [
    "precision, recall, thresholds = precision_recall_curve(target_valid, probabilities_one_valid)\n",
    "\n",
    "plt.figure(figsize=(4, 4))\n",
    "plt.step(recall, precision, where='post')\n",
    "plt.xlabel('Recall')\n",
    "plt.ylabel('Precision')\n",
    "plt.ylim([0.0, 1.05])\n",
    "plt.xlim([0.0, 1.0])\n",
    "plt.title('Кривая Precision-Recall')\n",
    "plt.show() "
   ]
  },
  {
   "cell_type": "code",
   "execution_count": 56,
   "metadata": {
    "scrolled": true
   },
   "outputs": [
    {
     "data": {
      "image/png": "[encoded data removed]",
      "text/plain": [
       "<Figure size 400x400 with 1 Axes>"
      ]
     },
     "metadata": {},
     "output_type": "display_data"
    }
   ],
   "source": [
    "fpr, tpr, thresholds = roc_curve(target_valid, probabilities_one_valid) \n",
    "\n",
    "plt.figure(figsize=(4, 4))\n",
    "\n",
    "plt.plot(fpr, tpr)\n",
    "\n",
    "# ROC-кривая случайной модели \n",
    "plt.plot([0, 1], [0, 1], linestyle='--')\n",
    "\n",
    "plt.xlim([0.0, 1.0])\n",
    "plt.ylim([0.0, 1.0])\n",
    "\n",
    "plt.xlabel(\"False Positive Rate\")\n",
    "plt.ylabel(\"True Positive Rate\")\n",
    "\n",
    "plt.title(\"ROC-кривая\")\n",
    "\n",
    "plt.show()"
   ]
  },
  {
   "cell_type": "code",
   "execution_count": 57,
   "metadata": {},
   "outputs": [
    {
     "data": {
      "text/plain": [
       "0.8371549852104114"
      ]
     },
     "execution_count": 57,
     "metadata": {},
     "output_type": "execute_result"
    }
   ],
   "source": [
    "roc_auc_score(target_valid, probabilities_one_valid)"
   ]
  },
  {
   "cell_type": "code",
   "execution_count": 58,
   "metadata": {},
   "outputs": [
    {
     "name": "stdout",
     "output_type": "stream",
     "text": [
      "Порог = 0.00 | Точность = 0.221, Полнота = 0.993, F1-мера = 0.361\n",
      "Порог = 0.02 | Точность = 0.242, Полнота = 0.988, F1-мера = 0.389\n",
      "Порог = 0.04 | Точность = 0.264, Полнота = 0.986, F1-мера = 0.416\n",
      "Порог = 0.06 | Точность = 0.284, Полнота = 0.967, F1-мера = 0.440\n",
      "Порог = 0.08 | Точность = 0.304, Полнота = 0.946, F1-мера = 0.460\n",
      "Порог = 0.10 | Точность = 0.324, Полнота = 0.931, F1-мера = 0.481\n",
      "Порог = 0.12 | Точность = 0.340, Полнота = 0.913, F1-мера = 0.496\n",
      "Порог = 0.14 | Точность = 0.359, Полнота = 0.889, F1-мера = 0.512\n",
      "Порог = 0.16 | Точность = 0.378, Полнота = 0.872, F1-мера = 0.527\n",
      "Порог = 0.18 | Точность = 0.392, Полнота = 0.844, F1-мера = 0.536\n",
      "Порог = 0.20 | Точность = 0.418, Полнота = 0.827, F1-мера = 0.555\n",
      "Порог = 0.22 | Точность = 0.440, Полнота = 0.809, F1-мера = 0.570\n",
      "Порог = 0.24 | Точность = 0.452, Полнота = 0.780, F1-мера = 0.572\n",
      "Порог = 0.26 | Точность = 0.466, Полнота = 0.749, F1-мера = 0.575\n",
      "Порог = 0.28 | Точность = 0.487, Полнота = 0.738, F1-мера = 0.586\n",
      "Порог = 0.30 | Точность = 0.511, Полнота = 0.728, F1-мера = 0.600\n",
      "Порог = 0.32 | Точность = 0.531, Полнота = 0.709, F1-мера = 0.607\n",
      "Порог = 0.34 | Точность = 0.551, Полнота = 0.688, F1-мера = 0.612\n",
      "Порог = 0.36 | Точность = 0.562, Полнота = 0.662, F1-мера = 0.608\n",
      "Порог = 0.38 | Точность = 0.581, Полнота = 0.634, F1-мера = 0.606\n",
      "Порог = 0.40 | Точность = 0.606, Полнота = 0.622, F1-мера = 0.614\n",
      "Порог = 0.42 | Точность = 0.625, Полнота = 0.610, F1-мера = 0.617\n",
      "Порог = 0.44 | Точность = 0.638, Полнота = 0.586, F1-мера = 0.611\n",
      "Порог = 0.46 | Точность = 0.646, Полнота = 0.560, F1-мера = 0.600\n",
      "Порог = 0.48 | Точность = 0.659, Полнота = 0.548, F1-мера = 0.599\n",
      "Порог = 0.50 | Точность = 0.662, Полнота = 0.522, F1-мера = 0.584\n",
      "Порог = 0.52 | Точность = 0.674, Полнота = 0.504, F1-мера = 0.576\n",
      "Порог = 0.54 | Точность = 0.688, Полнота = 0.485, F1-мера = 0.569\n",
      "Порог = 0.56 | Точность = 0.690, Полнота = 0.452, F1-мера = 0.546\n",
      "Порог = 0.58 | Точность = 0.702, Полнота = 0.435, F1-мера = 0.537\n",
      "Порог = 0.60 | Точность = 0.713, Полнота = 0.404, F1-мера = 0.516\n",
      "Порог = 0.62 | Точность = 0.737, Полнота = 0.397, F1-мера = 0.516\n",
      "Порог = 0.64 | Точность = 0.775, Полнота = 0.374, F1-мера = 0.504\n",
      "Порог = 0.66 | Точность = 0.789, Полнота = 0.345, F1-мера = 0.480\n",
      "Порог = 0.68 | Точность = 0.803, Полнота = 0.329, F1-мера = 0.466\n"
     ]
    }
   ],
   "source": [
    "probabilities_test = model.predict_proba(features_test)\n",
    "probabilities_one_test = probabilities_test[:, 1]\n",
    "\n",
    "for threshold in np.arange(0, 0.7, 0.02):\n",
    "    predicted_test = probabilities_one_test > threshold\n",
    "    precision = precision_score(target_test, predicted_test)\n",
    "    recall = recall_score(target_test, predicted_test)\n",
    "    f1 = f1_score(target_test, predicted_test)\n",
    "\n",
    "    print(\"Порог = {:.2f} | Точность = {:.3f}, Полнота = {:.3f}, F1-мера = {:.3f}\".format(\n",
    "        threshold, precision, recall, f1))"
   ]
  },
  {
   "cell_type": "code",
   "execution_count": 59,
   "metadata": {
    "scrolled": true
   },
   "outputs": [
    {
     "data": {
      "image/png": "[encoded data removed]",
      "text/plain": [
       "<Figure size 400x400 with 1 Axes>"
      ]
     },
     "metadata": {},
     "output_type": "display_data"
    }
   ],
   "source": [
    "plt.figure(figsize=(4, 4))\n",
    "\n",
    "precision, recall, thresholds = precision_recall_curve(target_valid, probabilities_one_valid)\n",
    "plt.step(recall, precision, where='post')\n",
    "\n",
    "precision, recall, thresholds = precision_recall_curve(target_test, probabilities_one_test)\n",
    "plt.step(recall, precision, where='post')\n",
    "\n",
    "plt.xlabel('Recall')\n",
    "plt.ylabel('Precision')\n",
    "plt.ylim([0.0, 1.05])\n",
    "plt.xlim([0.0, 1.0])\n",
    "plt.title('Кривая Precision-Recall')\n",
    "plt.legend(['валидационная', 'тестовая'], loc='best')\n",
    "plt.show() "
   ]
  },
  {
   "cell_type": "code",
   "execution_count": 60,
   "metadata": {
    "scrolled": true
   },
   "outputs": [
    {
     "data": {
      "image/png": "[encoded data removed]",
      "text/plain": [
       "<Figure size 400x400 with 1 Axes>"
      ]
     },
     "metadata": {},
     "output_type": "display_data"
    }
   ],
   "source": [
    "plt.figure(figsize=(4, 4))\n",
    "\n",
    "fpr, tpr, thresholds = roc_curve(target_valid, probabilities_one_valid) \n",
    "plt.plot(fpr, tpr)\n",
    "fpr, tpr, thresholds = roc_curve(target_test, probabilities_one_test) \n",
    "plt.plot(fpr, tpr)\n",
    "\n",
    "# ROC-кривая случайной модели \n",
    "plt.plot([0, 1], [0, 1], linestyle='--')\n",
    "\n",
    "plt.xlim([0.0, 1.0])\n",
    "plt.ylim([0.0, 1.0])\n",
    "\n",
    "plt.xlabel(\"False Positive Rate\")\n",
    "plt.ylabel(\"True Positive Rate\")\n",
    "\n",
    "plt.title(\"ROC-кривая\")\n",
    "plt.legend(['валидационная', 'тестовая', 'случайная модель'], loc='best')\n",
    "\n",
    "plt.show() "
   ]
  },
  {
   "cell_type": "code",
   "execution_count": 61,
   "metadata": {},
   "outputs": [
    {
     "data": {
      "text/plain": [
       "0.8497970980600266"
      ]
     },
     "execution_count": 61,
     "metadata": {},
     "output_type": "execute_result"
    }
   ],
   "source": [
    "roc_auc_score(target_test, probabilities_one_test)"
   ]
  },
  {
   "cell_type": "markdown",
   "metadata": {},
   "source": [
    "### Выводы"
   ]
  },
  {
   "cell_type": "markdown",
   "metadata": {},
   "source": [
    "Итак мы имеем следующие показатели на выбранной обученной модели:\n",
    "* F1-мера: 0.597 (выше 0.59), при пороге в 0.4 достигается 0.612\n",
    "* ROC AUC: 0.85\n",
    "\n",
    "Таким образом можно считать, что поставленных целей достичь удалось."
   ]
  },
  {
   "cell_type": "markdown",
   "metadata": {},
   "source": [
    "В целях понимания степени влияния фичей на целевой признак, выведем их важность."
   ]
  },
  {
   "cell_type": "code",
   "execution_count": 62,
   "metadata": {
    "scrolled": true
   },
   "outputs": [
    {
     "name": "stdout",
     "output_type": "stream",
     "text": [
      "Elapsed time to compute the importances: 0.049 seconds\n"
     ]
    }
   ],
   "source": [
    "import time\n",
    "\n",
    "start_time = time.time()\n",
    "importances = model.feature_importances_\n",
    "std = np.std([tree.feature_importances_ for tree in model.estimators_], axis=0)\n",
    "elapsed_time = time.time() - start_time\n",
    "\n",
    "print(f\"Elapsed time to compute the importances: {elapsed_time:.3f} seconds\")"
   ]
  },
  {
   "cell_type": "code",
   "execution_count": 63,
   "metadata": {},
   "outputs": [
    {
     "data": {
      "image/png": "[encoded data removed]",
      "text/plain": [
       "<Figure size 800x550 with 1 Axes>"
      ]
     },
     "metadata": {},
     "output_type": "display_data"
    }
   ],
   "source": [
    "model_importances = pd.Series(importances, index=features.columns)\n",
    "\n",
    "fig, ax = plt.subplots()\n",
    "color = cm.inferno_r(np.linspace(.4,.8, 30))\n",
    "model_importances.sort_values(ascending=False).plot.bar(yerr=std, ax=ax, stacked=True,  color=color, rot=45)\n",
    "ax.set_title(\"Feature importances using MDI\")\n",
    "ax.set_ylabel(\"Mean decrease in impurity\")\n",
    "fig.tight_layout()\n",
    "#plt.show()"
   ]
  },
  {
   "cell_type": "markdown",
   "metadata": {},
   "source": [
    "Видим, что основными факторами влияния на целевой признак прогнозирования, уйдёт клиент из банка в ближайшее время или нет, являются возраст клиента, доход, объем средств на счету, число банковских продуктов и кредитная история."
   ]
  }
 ],
 "metadata": {
  "ExecuteTimeLog": [
   {
    "duration": 1120,
    "start_time": "2022-02-24T12:52:28.651Z"
   },
   {
    "duration": 87,
    "start_time": "2022-02-24T12:54:30.235Z"
   },
   {
    "duration": 57,
    "start_time": "2022-02-24T12:54:51.145Z"
   },
   {
    "duration": 6,
    "start_time": "2022-02-24T13:13:41.076Z"
   },
   {
    "duration": 345,
    "start_time": "2022-02-24T13:14:35.350Z"
   },
   {
    "duration": 5,
    "start_time": "2022-02-24T13:14:49.839Z"
   },
   {
    "duration": 6,
    "start_time": "2022-02-24T13:16:52.790Z"
   },
   {
    "duration": 34,
    "start_time": "2022-02-24T13:17:34.621Z"
   },
   {
    "duration": 16,
    "start_time": "2022-02-24T13:25:03.529Z"
   },
   {
    "duration": 5,
    "start_time": "2022-02-24T13:27:49.112Z"
   },
   {
    "duration": 5,
    "start_time": "2022-02-24T13:37:25.537Z"
   },
   {
    "duration": 289,
    "start_time": "2022-02-24T13:40:08.300Z"
   },
   {
    "duration": 905,
    "start_time": "2022-02-24T13:40:23.962Z"
   },
   {
    "duration": 5,
    "start_time": "2022-02-24T13:40:49.467Z"
   },
   {
    "duration": 16,
    "start_time": "2022-02-24T13:40:54.578Z"
   },
   {
    "duration": 4,
    "start_time": "2022-02-24T13:43:48.472Z"
   },
   {
    "duration": 4,
    "start_time": "2022-02-24T13:44:17.575Z"
   },
   {
    "duration": 13,
    "start_time": "2022-02-24T13:44:20.600Z"
   },
   {
    "duration": 184,
    "start_time": "2022-02-24T17:21:37.922Z"
   },
   {
    "duration": 988,
    "start_time": "2022-02-24T17:56:43.072Z"
   },
   {
    "duration": 55,
    "start_time": "2022-02-24T17:57:01.644Z"
   },
   {
    "duration": 5,
    "start_time": "2022-02-24T17:57:08.497Z"
   },
   {
    "duration": 18,
    "start_time": "2022-02-24T17:57:10.489Z"
   },
   {
    "duration": 4,
    "start_time": "2022-02-24T17:57:16.495Z"
   },
   {
    "duration": 14,
    "start_time": "2022-02-24T17:57:39.287Z"
   },
   {
    "duration": 232,
    "start_time": "2022-02-24T18:01:19.197Z"
   },
   {
    "duration": 5,
    "start_time": "2022-02-24T18:01:23.649Z"
   },
   {
    "duration": 216,
    "start_time": "2022-02-24T18:01:25.245Z"
   },
   {
    "duration": 59,
    "start_time": "2022-02-24T18:08:24.038Z"
   },
   {
    "duration": 196,
    "start_time": "2022-02-24T18:09:32.735Z"
   },
   {
    "duration": 271,
    "start_time": "2022-02-24T18:11:34.994Z"
   },
   {
    "duration": 4,
    "start_time": "2022-02-24T18:11:45.691Z"
   },
   {
    "duration": 299,
    "start_time": "2022-02-24T18:11:52.549Z"
   },
   {
    "duration": 23,
    "start_time": "2022-02-24T18:12:08.310Z"
   },
   {
    "duration": 19,
    "start_time": "2022-02-24T18:12:55.282Z"
   },
   {
    "duration": 4,
    "start_time": "2022-02-24T18:14:14.669Z"
   },
   {
    "duration": 42,
    "start_time": "2022-02-24T18:14:14.720Z"
   },
   {
    "duration": 5,
    "start_time": "2022-02-24T18:14:14.765Z"
   },
   {
    "duration": 35,
    "start_time": "2022-02-24T18:14:14.772Z"
   },
   {
    "duration": 6,
    "start_time": "2022-02-24T18:14:14.810Z"
   },
   {
    "duration": 23,
    "start_time": "2022-02-24T18:14:14.819Z"
   },
   {
    "duration": 7,
    "start_time": "2022-02-24T18:14:14.846Z"
   },
   {
    "duration": 312,
    "start_time": "2022-02-24T18:14:14.855Z"
   },
   {
    "duration": 58,
    "start_time": "2022-02-24T18:14:15.169Z"
   },
   {
    "duration": 310,
    "start_time": "2022-02-24T18:14:15.230Z"
   },
   {
    "duration": 67,
    "start_time": "2022-02-24T18:14:15.553Z"
   },
   {
    "duration": 55,
    "start_time": "2022-02-24T18:14:15.631Z"
   },
   {
    "duration": 21,
    "start_time": "2022-02-24T18:15:09.865Z"
   },
   {
    "duration": 4,
    "start_time": "2022-02-24T18:15:51.100Z"
   },
   {
    "duration": 73,
    "start_time": "2022-02-24T18:15:51.107Z"
   },
   {
    "duration": 5,
    "start_time": "2022-02-24T18:15:51.183Z"
   },
   {
    "duration": 35,
    "start_time": "2022-02-24T18:15:51.191Z"
   },
   {
    "duration": 3,
    "start_time": "2022-02-24T18:15:51.229Z"
   },
   {
    "duration": 19,
    "start_time": "2022-02-24T18:15:51.235Z"
   },
   {
    "duration": 7,
    "start_time": "2022-02-24T18:15:51.256Z"
   },
   {
    "duration": 45,
    "start_time": "2022-02-24T18:15:51.266Z"
   },
   {
    "duration": 14,
    "start_time": "2022-02-24T18:15:51.314Z"
   },
   {
    "duration": 7,
    "start_time": "2022-02-24T18:15:51.331Z"
   },
   {
    "duration": 25,
    "start_time": "2022-02-24T18:15:51.341Z"
   },
   {
    "duration": 13,
    "start_time": "2022-02-24T18:15:51.368Z"
   },
   {
    "duration": 279,
    "start_time": "2022-02-24T19:25:47.957Z"
   },
   {
    "duration": 14,
    "start_time": "2022-02-24T19:26:20.922Z"
   },
   {
    "duration": 6,
    "start_time": "2022-02-24T19:26:42.305Z"
   },
   {
    "duration": 5,
    "start_time": "2022-02-24T19:29:11.695Z"
   },
   {
    "duration": 5,
    "start_time": "2022-02-24T19:29:20.176Z"
   },
   {
    "duration": 337,
    "start_time": "2022-02-24T19:30:07.480Z"
   },
   {
    "duration": 7,
    "start_time": "2022-02-24T19:30:29.604Z"
   },
   {
    "duration": 100,
    "start_time": "2022-02-24T19:30:29.613Z"
   },
   {
    "duration": 5,
    "start_time": "2022-02-24T19:30:29.715Z"
   },
   {
    "duration": 19,
    "start_time": "2022-02-24T19:30:29.722Z"
   },
   {
    "duration": 5,
    "start_time": "2022-02-24T19:30:29.743Z"
   },
   {
    "duration": 6,
    "start_time": "2022-02-24T19:30:29.750Z"
   },
   {
    "duration": 6,
    "start_time": "2022-02-24T19:30:29.759Z"
   },
   {
    "duration": 40,
    "start_time": "2022-02-24T19:30:29.767Z"
   },
   {
    "duration": 21,
    "start_time": "2022-02-24T19:30:29.810Z"
   },
   {
    "duration": 5,
    "start_time": "2022-02-24T19:30:29.833Z"
   },
   {
    "duration": 13,
    "start_time": "2022-02-24T19:30:29.840Z"
   },
   {
    "duration": 12,
    "start_time": "2022-02-24T19:30:29.855Z"
   },
   {
    "duration": 39,
    "start_time": "2022-02-24T19:30:29.869Z"
   },
   {
    "duration": 13,
    "start_time": "2022-02-24T19:30:29.910Z"
   },
   {
    "duration": 5,
    "start_time": "2022-02-24T19:30:51.290Z"
   },
   {
    "duration": 85,
    "start_time": "2022-02-24T19:36:46.388Z"
   },
   {
    "duration": 250,
    "start_time": "2022-02-24T19:40:30.626Z"
   },
   {
    "duration": 5,
    "start_time": "2022-02-24T19:41:45.552Z"
   },
   {
    "duration": 264,
    "start_time": "2022-02-24T19:41:51.352Z"
   },
   {
    "duration": 268,
    "start_time": "2022-02-24T19:42:44.203Z"
   },
   {
    "duration": 240,
    "start_time": "2022-02-24T19:43:26.725Z"
   },
   {
    "duration": 249,
    "start_time": "2022-02-24T19:43:37.675Z"
   },
   {
    "duration": 247,
    "start_time": "2022-02-24T19:43:45.460Z"
   },
   {
    "duration": 242,
    "start_time": "2022-02-24T19:43:53.960Z"
   },
   {
    "duration": 5,
    "start_time": "2022-02-24T19:45:46.053Z"
   },
   {
    "duration": 26,
    "start_time": "2022-02-24T19:47:13.113Z"
   },
   {
    "duration": 7,
    "start_time": "2022-02-24T19:47:34.202Z"
   },
   {
    "duration": 5,
    "start_time": "2022-02-24T19:47:58.919Z"
   },
   {
    "duration": 15,
    "start_time": "2022-02-24T19:48:00.868Z"
   },
   {
    "duration": 7,
    "start_time": "2022-02-24T19:48:03.022Z"
   },
   {
    "duration": 7,
    "start_time": "2022-02-24T19:48:04.914Z"
   },
   {
    "duration": 8,
    "start_time": "2022-02-24T19:48:06.539Z"
   },
   {
    "duration": 23,
    "start_time": "2022-02-24T19:48:13.113Z"
   },
   {
    "duration": 12,
    "start_time": "2022-02-24T19:48:17.743Z"
   },
   {
    "duration": 269,
    "start_time": "2022-02-24T19:48:24.572Z"
   },
   {
    "duration": 43,
    "start_time": "2022-02-24T19:48:31.695Z"
   },
   {
    "duration": 287,
    "start_time": "2022-02-24T20:34:13.960Z"
   },
   {
    "duration": 4,
    "start_time": "2022-02-24T20:35:08.683Z"
   },
   {
    "duration": 7,
    "start_time": "2022-02-24T20:35:26.345Z"
   },
   {
    "duration": 6,
    "start_time": "2022-02-24T20:35:28.497Z"
   },
   {
    "duration": 301,
    "start_time": "2022-02-24T20:37:43.956Z"
   },
   {
    "duration": 4,
    "start_time": "2022-02-24T20:37:51.931Z"
   },
   {
    "duration": 6,
    "start_time": "2022-02-24T20:37:57.697Z"
   },
   {
    "duration": 44,
    "start_time": "2022-02-24T20:38:16.762Z"
   },
   {
    "duration": 45,
    "start_time": "2022-02-24T20:38:26.763Z"
   },
   {
    "duration": 53,
    "start_time": "2022-02-24T20:45:07.854Z"
   },
   {
    "duration": 53,
    "start_time": "2022-02-24T20:45:37.891Z"
   },
   {
    "duration": 7,
    "start_time": "2022-02-24T20:45:40.957Z"
   },
   {
    "duration": 76,
    "start_time": "2022-02-24T20:45:44.941Z"
   },
   {
    "duration": 831,
    "start_time": "2022-02-24T20:49:35.778Z"
   },
   {
    "duration": 756,
    "start_time": "2022-02-24T20:50:00.374Z"
   },
   {
    "duration": 8895,
    "start_time": "2022-02-24T20:52:37.777Z"
   },
   {
    "duration": 5702,
    "start_time": "2022-02-24T20:55:21.839Z"
   },
   {
    "duration": 4437,
    "start_time": "2022-02-24T20:55:50.928Z"
   },
   {
    "duration": 6551,
    "start_time": "2022-02-24T20:56:00.320Z"
   },
   {
    "duration": 5391,
    "start_time": "2022-02-24T20:56:44.159Z"
   },
   {
    "duration": 5852,
    "start_time": "2022-02-24T20:57:24.262Z"
   },
   {
    "duration": 30,
    "start_time": "2022-02-24T20:59:38.991Z"
   },
   {
    "duration": 4,
    "start_time": "2022-02-24T21:19:24.860Z"
   },
   {
    "duration": 40,
    "start_time": "2022-02-24T21:23:57.303Z"
   },
   {
    "duration": 27,
    "start_time": "2022-02-24T21:29:09.254Z"
   },
   {
    "duration": 29,
    "start_time": "2022-02-24T21:31:17.735Z"
   },
   {
    "duration": 31,
    "start_time": "2022-02-24T21:33:45.956Z"
   },
   {
    "duration": 487,
    "start_time": "2022-02-24T21:34:02.028Z"
   },
   {
    "duration": 89,
    "start_time": "2022-02-24T21:34:25.218Z"
   },
   {
    "duration": 710,
    "start_time": "2022-02-24T21:40:51.208Z"
   },
   {
    "duration": 315,
    "start_time": "2022-02-24T21:40:54.468Z"
   },
   {
    "duration": 233,
    "start_time": "2022-02-24T21:44:24.953Z"
   },
   {
    "duration": 481,
    "start_time": "2022-02-24T21:44:36.095Z"
   },
   {
    "duration": 318,
    "start_time": "2022-02-24T22:00:00.203Z"
   },
   {
    "duration": 53,
    "start_time": "2022-02-24T22:02:12.890Z"
   },
   {
    "duration": 25,
    "start_time": "2022-02-24T22:02:14.738Z"
   },
   {
    "duration": 28,
    "start_time": "2022-02-24T22:02:16.780Z"
   },
   {
    "duration": 4439,
    "start_time": "2022-02-25T07:40:01.782Z"
   },
   {
    "duration": 5854,
    "start_time": "2022-02-25T07:40:22.442Z"
   },
   {
    "duration": 5105,
    "start_time": "2022-02-25T07:40:49.361Z"
   },
   {
    "duration": 103,
    "start_time": "2022-02-25T07:46:19.463Z"
   },
   {
    "duration": 1181,
    "start_time": "2022-02-25T07:51:17.913Z"
   },
   {
    "duration": 90,
    "start_time": "2022-02-25T07:51:19.096Z"
   },
   {
    "duration": 49,
    "start_time": "2022-02-25T07:51:19.190Z"
   },
   {
    "duration": 5,
    "start_time": "2022-02-25T07:51:19.241Z"
   },
   {
    "duration": 40,
    "start_time": "2022-02-25T07:51:19.248Z"
   },
   {
    "duration": 9,
    "start_time": "2022-02-25T07:51:19.291Z"
   },
   {
    "duration": 7,
    "start_time": "2022-02-25T07:51:19.304Z"
   },
   {
    "duration": 11,
    "start_time": "2022-02-25T07:51:19.314Z"
   },
   {
    "duration": 12,
    "start_time": "2022-02-25T07:51:19.328Z"
   },
   {
    "duration": 19,
    "start_time": "2022-02-25T07:51:19.342Z"
   },
   {
    "duration": 19,
    "start_time": "2022-02-25T07:51:19.368Z"
   },
   {
    "duration": 22,
    "start_time": "2022-02-25T07:51:19.389Z"
   },
   {
    "duration": 6,
    "start_time": "2022-02-25T07:51:19.413Z"
   },
   {
    "duration": 24,
    "start_time": "2022-02-25T07:51:19.421Z"
   },
   {
    "duration": 9,
    "start_time": "2022-02-25T07:51:19.447Z"
   },
   {
    "duration": 45,
    "start_time": "2022-02-25T07:51:19.458Z"
   },
   {
    "duration": 41,
    "start_time": "2022-02-25T07:51:19.505Z"
   },
   {
    "duration": 13,
    "start_time": "2022-02-25T07:51:19.548Z"
   },
   {
    "duration": 37,
    "start_time": "2022-02-25T07:51:19.563Z"
   },
   {
    "duration": 8,
    "start_time": "2022-02-25T07:51:19.602Z"
   },
   {
    "duration": 10,
    "start_time": "2022-02-25T07:51:19.612Z"
   },
   {
    "duration": 10,
    "start_time": "2022-02-25T07:51:19.626Z"
   },
   {
    "duration": 3677,
    "start_time": "2022-02-25T07:51:19.638Z"
   },
   {
    "duration": 4293,
    "start_time": "2022-02-25T07:51:23.317Z"
   },
   {
    "duration": 5232,
    "start_time": "2022-02-25T07:51:27.612Z"
   },
   {
    "duration": 37,
    "start_time": "2022-02-25T07:51:32.846Z"
   },
   {
    "duration": 116,
    "start_time": "2022-02-25T07:51:32.970Z"
   },
   {
    "duration": 25,
    "start_time": "2022-02-25T07:51:33.089Z"
   },
   {
    "duration": 82,
    "start_time": "2022-02-25T07:51:33.116Z"
   },
   {
    "duration": 234,
    "start_time": "2022-02-25T07:51:33.201Z"
   },
   {
    "duration": 196,
    "start_time": "2022-02-25T07:51:33.473Z"
   },
   {
    "duration": 689,
    "start_time": "2022-02-25T07:51:33.673Z"
   },
   {
    "duration": 273,
    "start_time": "2022-02-25T07:51:34.364Z"
   },
   {
    "duration": 278,
    "start_time": "2022-02-25T07:51:34.639Z"
   },
   {
    "duration": 56,
    "start_time": "2022-02-25T07:51:34.919Z"
   },
   {
    "duration": 23,
    "start_time": "2022-02-25T07:51:34.977Z"
   },
   {
    "duration": 23,
    "start_time": "2022-02-25T07:51:35.002Z"
   },
   {
    "duration": 5416,
    "start_time": "2022-02-25T08:04:54.874Z"
   },
   {
    "duration": 1184,
    "start_time": "2022-02-25T08:05:45.571Z"
   },
   {
    "duration": 113,
    "start_time": "2022-02-25T08:05:46.758Z"
   },
   {
    "duration": 53,
    "start_time": "2022-02-25T08:05:46.876Z"
   },
   {
    "duration": 4,
    "start_time": "2022-02-25T08:05:46.932Z"
   },
   {
    "duration": 40,
    "start_time": "2022-02-25T08:05:46.939Z"
   },
   {
    "duration": 8,
    "start_time": "2022-02-25T08:05:46.981Z"
   },
   {
    "duration": 6,
    "start_time": "2022-02-25T08:05:46.992Z"
   },
   {
    "duration": 9,
    "start_time": "2022-02-25T08:05:47.001Z"
   },
   {
    "duration": 9,
    "start_time": "2022-02-25T08:05:47.012Z"
   },
   {
    "duration": 19,
    "start_time": "2022-02-25T08:05:47.024Z"
   },
   {
    "duration": 45,
    "start_time": "2022-02-25T08:05:47.045Z"
   },
   {
    "duration": 7,
    "start_time": "2022-02-25T08:05:47.092Z"
   },
   {
    "duration": 4,
    "start_time": "2022-02-25T08:05:47.101Z"
   },
   {
    "duration": 12,
    "start_time": "2022-02-25T08:05:47.107Z"
   },
   {
    "duration": 7,
    "start_time": "2022-02-25T08:05:47.122Z"
   },
   {
    "duration": 17,
    "start_time": "2022-02-25T08:05:47.132Z"
   },
   {
    "duration": 41,
    "start_time": "2022-02-25T08:05:47.152Z"
   },
   {
    "duration": 13,
    "start_time": "2022-02-25T08:05:47.195Z"
   },
   {
    "duration": 66,
    "start_time": "2022-02-25T08:05:47.210Z"
   },
   {
    "duration": 8,
    "start_time": "2022-02-25T08:05:47.278Z"
   },
   {
    "duration": 9,
    "start_time": "2022-02-25T08:05:47.288Z"
   },
   {
    "duration": 6,
    "start_time": "2022-02-25T08:05:47.301Z"
   },
   {
    "duration": 5791,
    "start_time": "2022-02-25T08:05:47.309Z"
   },
   {
    "duration": 6372,
    "start_time": "2022-02-25T08:05:53.102Z"
   },
   {
    "duration": 7811,
    "start_time": "2022-02-25T08:05:59.477Z"
   },
   {
    "duration": 82,
    "start_time": "2022-02-25T08:06:07.290Z"
   },
   {
    "duration": 117,
    "start_time": "2022-02-25T08:06:07.375Z"
   },
   {
    "duration": 28,
    "start_time": "2022-02-25T08:06:07.494Z"
   },
   {
    "duration": 47,
    "start_time": "2022-02-25T08:06:07.524Z"
   },
   {
    "duration": 102,
    "start_time": "2022-02-25T08:06:07.573Z"
   },
   {
    "duration": 211,
    "start_time": "2022-02-25T08:06:07.678Z"
   },
   {
    "duration": 761,
    "start_time": "2022-02-25T08:06:07.893Z"
   },
   {
    "duration": 276,
    "start_time": "2022-02-25T08:06:08.656Z"
   },
   {
    "duration": 279,
    "start_time": "2022-02-25T08:06:08.934Z"
   },
   {
    "duration": 54,
    "start_time": "2022-02-25T08:06:09.215Z"
   },
   {
    "duration": 22,
    "start_time": "2022-02-25T08:06:09.272Z"
   },
   {
    "duration": 37,
    "start_time": "2022-02-25T08:06:09.296Z"
   },
   {
    "duration": 592,
    "start_time": "2022-02-25T08:18:25.448Z"
   },
   {
    "duration": 276,
    "start_time": "2022-02-25T08:18:29.035Z"
   },
   {
    "duration": 267,
    "start_time": "2022-02-25T08:18:31.161Z"
   },
   {
    "duration": 1184,
    "start_time": "2022-02-25T11:49:52.962Z"
   },
   {
    "duration": 94,
    "start_time": "2022-02-25T11:49:54.149Z"
   },
   {
    "duration": 48,
    "start_time": "2022-02-25T11:49:54.246Z"
   },
   {
    "duration": 5,
    "start_time": "2022-02-25T11:49:54.297Z"
   },
   {
    "duration": 23,
    "start_time": "2022-02-25T11:49:54.304Z"
   },
   {
    "duration": 9,
    "start_time": "2022-02-25T11:49:54.330Z"
   },
   {
    "duration": 29,
    "start_time": "2022-02-25T11:49:54.341Z"
   },
   {
    "duration": 8,
    "start_time": "2022-02-25T11:49:54.374Z"
   },
   {
    "duration": 13,
    "start_time": "2022-02-25T11:49:54.385Z"
   },
   {
    "duration": 11,
    "start_time": "2022-02-25T11:49:54.400Z"
   },
   {
    "duration": 37,
    "start_time": "2022-02-25T11:49:54.414Z"
   },
   {
    "duration": 8,
    "start_time": "2022-02-25T11:49:54.453Z"
   },
   {
    "duration": 5,
    "start_time": "2022-02-25T11:49:54.469Z"
   },
   {
    "duration": 39,
    "start_time": "2022-02-25T11:49:54.476Z"
   },
   {
    "duration": 17,
    "start_time": "2022-02-25T11:49:54.517Z"
   },
   {
    "duration": 21,
    "start_time": "2022-02-25T11:49:54.536Z"
   },
   {
    "duration": 25,
    "start_time": "2022-02-25T11:49:54.559Z"
   },
   {
    "duration": 12,
    "start_time": "2022-02-25T11:49:54.586Z"
   },
   {
    "duration": 34,
    "start_time": "2022-02-25T11:49:54.600Z"
   },
   {
    "duration": 7,
    "start_time": "2022-02-25T11:49:54.636Z"
   },
   {
    "duration": 29,
    "start_time": "2022-02-25T11:49:54.645Z"
   },
   {
    "duration": 8,
    "start_time": "2022-02-25T11:49:54.676Z"
   },
   {
    "duration": 5099,
    "start_time": "2022-02-25T11:49:54.689Z"
   },
   {
    "duration": 6158,
    "start_time": "2022-02-25T11:49:59.790Z"
   },
   {
    "duration": 7268,
    "start_time": "2022-02-25T11:50:05.951Z"
   },
   {
    "duration": 57,
    "start_time": "2022-02-25T11:50:13.221Z"
   },
   {
    "duration": 103,
    "start_time": "2022-02-25T11:50:13.280Z"
   },
   {
    "duration": 23,
    "start_time": "2022-02-25T11:50:13.385Z"
   },
   {
    "duration": 61,
    "start_time": "2022-02-25T11:50:13.410Z"
   },
   {
    "duration": 107,
    "start_time": "2022-02-25T11:50:13.474Z"
   },
   {
    "duration": 113,
    "start_time": "2022-02-25T11:50:13.669Z"
   },
   {
    "duration": 774,
    "start_time": "2022-02-25T11:50:13.784Z"
   },
   {
    "duration": 277,
    "start_time": "2022-02-25T11:50:14.560Z"
   },
   {
    "duration": 277,
    "start_time": "2022-02-25T11:50:14.840Z"
   },
   {
    "duration": 56,
    "start_time": "2022-02-25T11:50:15.120Z"
   },
   {
    "duration": 21,
    "start_time": "2022-02-25T11:50:15.178Z"
   },
   {
    "duration": 34,
    "start_time": "2022-02-25T11:50:15.202Z"
   },
   {
    "duration": 260,
    "start_time": "2022-02-25T11:50:15.238Z"
   },
   {
    "duration": 258,
    "start_time": "2022-02-25T11:53:55.524Z"
   },
   {
    "duration": 53,
    "start_time": "2022-02-25T11:55:25.528Z"
   },
   {
    "duration": 419,
    "start_time": "2022-02-25T11:55:45.533Z"
   },
   {
    "duration": 584,
    "start_time": "2022-02-25T12:00:50.192Z"
   },
   {
    "duration": 22,
    "start_time": "2022-02-25T12:03:16.038Z"
   },
   {
    "duration": 1124,
    "start_time": "2022-02-25T12:04:25.721Z"
   },
   {
    "duration": 97,
    "start_time": "2022-02-25T12:04:26.847Z"
   },
   {
    "duration": 47,
    "start_time": "2022-02-25T12:04:26.946Z"
   },
   {
    "duration": 5,
    "start_time": "2022-02-25T12:04:26.995Z"
   },
   {
    "duration": 19,
    "start_time": "2022-02-25T12:04:27.003Z"
   },
   {
    "duration": 9,
    "start_time": "2022-02-25T12:04:27.025Z"
   },
   {
    "duration": 36,
    "start_time": "2022-02-25T12:04:27.036Z"
   },
   {
    "duration": 8,
    "start_time": "2022-02-25T12:04:27.075Z"
   },
   {
    "duration": 7,
    "start_time": "2022-02-25T12:04:27.086Z"
   },
   {
    "duration": 7,
    "start_time": "2022-02-25T12:04:27.095Z"
   },
   {
    "duration": 17,
    "start_time": "2022-02-25T12:04:27.104Z"
   },
   {
    "duration": 9,
    "start_time": "2022-02-25T12:04:27.123Z"
   },
   {
    "duration": 7,
    "start_time": "2022-02-25T12:04:27.134Z"
   },
   {
    "duration": 9,
    "start_time": "2022-02-25T12:04:27.170Z"
   },
   {
    "duration": 4,
    "start_time": "2022-02-25T12:04:27.181Z"
   },
   {
    "duration": 12,
    "start_time": "2022-02-25T12:04:27.187Z"
   },
   {
    "duration": 29,
    "start_time": "2022-02-25T12:04:27.201Z"
   },
   {
    "duration": 12,
    "start_time": "2022-02-25T12:04:27.232Z"
   },
   {
    "duration": 39,
    "start_time": "2022-02-25T12:04:27.269Z"
   },
   {
    "duration": 6,
    "start_time": "2022-02-25T12:04:27.310Z"
   },
   {
    "duration": 6,
    "start_time": "2022-02-25T12:04:27.318Z"
   },
   {
    "duration": 6,
    "start_time": "2022-02-25T12:04:27.326Z"
   },
   {
    "duration": 5112,
    "start_time": "2022-02-25T12:04:27.335Z"
   },
   {
    "duration": 6356,
    "start_time": "2022-02-25T12:04:32.450Z"
   },
   {
    "duration": 7181,
    "start_time": "2022-02-25T12:04:38.808Z"
   },
   {
    "duration": 82,
    "start_time": "2022-02-25T12:04:45.992Z"
   },
   {
    "duration": 103,
    "start_time": "2022-02-25T12:04:46.077Z"
   },
   {
    "duration": 14,
    "start_time": "2022-02-25T12:04:46.182Z"
   },
   {
    "duration": 171,
    "start_time": "2022-02-25T12:04:46.198Z"
   },
   {
    "duration": 17,
    "start_time": "2022-02-25T12:04:46.371Z"
   },
   {
    "duration": 112,
    "start_time": "2022-02-25T12:04:46.470Z"
   },
   {
    "duration": 747,
    "start_time": "2022-02-25T12:04:46.584Z"
   },
   {
    "duration": 259,
    "start_time": "2022-02-25T12:04:47.333Z"
   },
   {
    "duration": 406,
    "start_time": "2022-02-25T12:04:47.594Z"
   },
   {
    "duration": 42,
    "start_time": "2022-02-25T12:04:48.002Z"
   },
   {
    "duration": 38,
    "start_time": "2022-02-25T12:04:48.045Z"
   },
   {
    "duration": 33,
    "start_time": "2022-02-25T12:04:48.085Z"
   },
   {
    "duration": 594,
    "start_time": "2022-02-25T12:04:48.120Z"
   },
   {
    "duration": 25,
    "start_time": "2022-02-25T12:04:48.716Z"
   },
   {
    "duration": 943,
    "start_time": "2022-02-25T12:08:11.192Z"
   },
   {
    "duration": 28,
    "start_time": "2022-02-25T12:09:07.044Z"
   },
   {
    "duration": 10325,
    "start_time": "2022-02-25T12:10:53.923Z"
   },
   {
    "duration": 1142,
    "start_time": "2022-02-25T12:12:21.594Z"
   },
   {
    "duration": 94,
    "start_time": "2022-02-25T12:12:22.738Z"
   },
   {
    "duration": 51,
    "start_time": "2022-02-25T12:12:22.835Z"
   },
   {
    "duration": 4,
    "start_time": "2022-02-25T12:12:22.888Z"
   },
   {
    "duration": 27,
    "start_time": "2022-02-25T12:12:22.894Z"
   },
   {
    "duration": 8,
    "start_time": "2022-02-25T12:12:22.923Z"
   },
   {
    "duration": 12,
    "start_time": "2022-02-25T12:12:22.932Z"
   },
   {
    "duration": 22,
    "start_time": "2022-02-25T12:12:22.947Z"
   },
   {
    "duration": 6,
    "start_time": "2022-02-25T12:12:22.972Z"
   },
   {
    "duration": 18,
    "start_time": "2022-02-25T12:12:22.980Z"
   },
   {
    "duration": 21,
    "start_time": "2022-02-25T12:12:23.000Z"
   },
   {
    "duration": 8,
    "start_time": "2022-02-25T12:12:23.023Z"
   },
   {
    "duration": 5,
    "start_time": "2022-02-25T12:12:23.032Z"
   },
   {
    "duration": 16,
    "start_time": "2022-02-25T12:12:23.038Z"
   },
   {
    "duration": 2,
    "start_time": "2022-02-25T12:12:23.070Z"
   },
   {
    "duration": 15,
    "start_time": "2022-02-25T12:12:23.074Z"
   },
   {
    "duration": 28,
    "start_time": "2022-02-25T12:12:23.091Z"
   },
   {
    "duration": 12,
    "start_time": "2022-02-25T12:12:23.122Z"
   },
   {
    "duration": 49,
    "start_time": "2022-02-25T12:12:23.136Z"
   },
   {
    "duration": 7,
    "start_time": "2022-02-25T12:12:23.188Z"
   },
   {
    "duration": 14,
    "start_time": "2022-02-25T12:12:23.197Z"
   },
   {
    "duration": 14,
    "start_time": "2022-02-25T12:12:23.213Z"
   },
   {
    "duration": 5066,
    "start_time": "2022-02-25T12:12:23.232Z"
   },
   {
    "duration": 6049,
    "start_time": "2022-02-25T12:12:28.300Z"
   },
   {
    "duration": 7250,
    "start_time": "2022-02-25T12:12:34.352Z"
   },
   {
    "duration": 9999,
    "start_time": "2022-02-25T12:12:41.604Z"
   },
   {
    "duration": 63,
    "start_time": "2022-02-25T12:12:51.605Z"
   },
   {
    "duration": 108,
    "start_time": "2022-02-25T12:12:51.671Z"
   },
   {
    "duration": 26,
    "start_time": "2022-02-25T12:12:51.781Z"
   },
   {
    "duration": 61,
    "start_time": "2022-02-25T12:12:51.809Z"
   },
   {
    "duration": 196,
    "start_time": "2022-02-25T12:12:51.873Z"
   },
   {
    "duration": 114,
    "start_time": "2022-02-25T12:12:52.072Z"
   },
   {
    "duration": 882,
    "start_time": "2022-02-25T12:12:52.188Z"
   },
   {
    "duration": 275,
    "start_time": "2022-02-25T12:12:53.072Z"
   },
   {
    "duration": 421,
    "start_time": "2022-02-25T12:12:53.349Z"
   },
   {
    "duration": 42,
    "start_time": "2022-02-25T12:12:53.772Z"
   },
   {
    "duration": 23,
    "start_time": "2022-02-25T12:12:53.816Z"
   },
   {
    "duration": 55,
    "start_time": "2022-02-25T12:12:53.841Z"
   },
   {
    "duration": 613,
    "start_time": "2022-02-25T12:12:53.898Z"
   },
   {
    "duration": 900,
    "start_time": "2022-02-25T12:12:54.514Z"
   },
   {
    "duration": 30,
    "start_time": "2022-02-25T12:12:55.416Z"
   },
   {
    "duration": 1076,
    "start_time": "2022-02-25T12:13:29.172Z"
   },
   {
    "duration": 453,
    "start_time": "2022-02-25T12:13:32.416Z"
   },
   {
    "duration": 705,
    "start_time": "2022-02-25T12:13:34.764Z"
   },
   {
    "duration": 14,
    "start_time": "2022-02-25T12:14:07.552Z"
   },
   {
    "duration": 43,
    "start_time": "2022-02-25T12:14:10.927Z"
   },
   {
    "duration": 18,
    "start_time": "2022-02-25T12:14:12.862Z"
   },
   {
    "duration": 26,
    "start_time": "2022-02-25T12:14:15.088Z"
   },
   {
    "duration": 1084,
    "start_time": "2022-02-25T12:14:32.403Z"
   },
   {
    "duration": 422,
    "start_time": "2022-02-25T12:14:35.132Z"
   },
   {
    "duration": 702,
    "start_time": "2022-02-25T12:14:37.667Z"
   },
   {
    "duration": 43,
    "start_time": "2022-02-25T12:14:55.842Z"
   },
   {
    "duration": 24,
    "start_time": "2022-02-25T12:14:57.746Z"
   },
   {
    "duration": 35,
    "start_time": "2022-02-25T12:15:00.878Z"
   },
   {
    "duration": 965,
    "start_time": "2022-02-25T12:17:15.280Z"
   },
   {
    "duration": 406,
    "start_time": "2022-02-25T12:17:51.312Z"
   },
   {
    "duration": 382,
    "start_time": "2022-02-25T12:17:53.446Z"
   },
   {
    "duration": 7090,
    "start_time": "2022-02-25T12:19:20.496Z"
   },
   {
    "duration": 8710,
    "start_time": "2022-02-25T12:19:33.913Z"
   },
   {
    "duration": 9550,
    "start_time": "2022-02-25T12:19:51.977Z"
   },
   {
    "duration": 15897,
    "start_time": "2022-02-25T12:21:05.306Z"
   },
   {
    "duration": 19092,
    "start_time": "2022-02-25T12:21:28.999Z"
   },
   {
    "duration": 8988,
    "start_time": "2022-02-25T12:22:07.433Z"
   },
   {
    "duration": 10923,
    "start_time": "2022-02-25T12:22:23.192Z"
   },
   {
    "duration": 12703,
    "start_time": "2022-02-25T12:22:55.689Z"
   },
   {
    "duration": 18370,
    "start_time": "2022-02-25T12:23:16.401Z"
   },
   {
    "duration": 977,
    "start_time": "2022-02-25T12:25:00.263Z"
   },
   {
    "duration": 439,
    "start_time": "2022-02-25T12:25:04.126Z"
   },
   {
    "duration": 794,
    "start_time": "2022-02-25T12:25:08.173Z"
   },
   {
    "duration": 436,
    "start_time": "2022-02-25T12:25:55.676Z"
   },
   {
    "duration": 408,
    "start_time": "2022-02-25T12:25:58.108Z"
   },
   {
    "duration": 29,
    "start_time": "2022-02-25T12:26:22.429Z"
   },
   {
    "duration": 427,
    "start_time": "2022-02-25T12:26:28.523Z"
   },
   {
    "duration": 29,
    "start_time": "2022-02-25T12:26:30.446Z"
   },
   {
    "duration": 83,
    "start_time": "2022-02-25T12:28:40.057Z"
   },
   {
    "duration": 413,
    "start_time": "2022-02-25T12:34:34.866Z"
   },
   {
    "duration": 4,
    "start_time": "2022-02-25T12:36:32.372Z"
   },
   {
    "duration": 90,
    "start_time": "2022-02-25T12:36:38.834Z"
   },
   {
    "duration": 109,
    "start_time": "2022-02-25T12:39:25.448Z"
   },
   {
    "duration": 205,
    "start_time": "2022-02-25T12:39:44.411Z"
   },
   {
    "duration": 209,
    "start_time": "2022-02-25T12:41:59.349Z"
   },
   {
    "duration": 193,
    "start_time": "2022-02-25T12:43:20.597Z"
   },
   {
    "duration": 95,
    "start_time": "2022-02-25T12:50:50.033Z"
   },
   {
    "duration": 275,
    "start_time": "2022-02-25T12:51:52.045Z"
   },
   {
    "duration": 284,
    "start_time": "2022-02-25T12:52:30.080Z"
   },
   {
    "duration": 185,
    "start_time": "2022-02-25T12:52:38.370Z"
   },
   {
    "duration": 180,
    "start_time": "2022-02-25T12:52:47.942Z"
   },
   {
    "duration": 245,
    "start_time": "2022-02-25T12:53:20.741Z"
   },
   {
    "duration": 222,
    "start_time": "2022-02-25T12:53:33.581Z"
   },
   {
    "duration": 249,
    "start_time": "2022-02-25T12:53:38.580Z"
   },
   {
    "duration": 193,
    "start_time": "2022-02-25T12:54:02.256Z"
   },
   {
    "duration": 7,
    "start_time": "2022-02-25T13:01:49.057Z"
   },
   {
    "duration": 9,
    "start_time": "2022-02-25T13:03:38.351Z"
   },
   {
    "duration": 8,
    "start_time": "2022-02-25T13:03:58.405Z"
   },
   {
    "duration": 174,
    "start_time": "2022-02-25T13:04:54.803Z"
   },
   {
    "duration": 167,
    "start_time": "2022-02-25T13:07:46.048Z"
   },
   {
    "duration": 190,
    "start_time": "2022-02-25T13:07:58.009Z"
   },
   {
    "duration": 265,
    "start_time": "2022-02-25T13:08:20.080Z"
   },
   {
    "duration": 190,
    "start_time": "2022-02-25T13:08:47.867Z"
   },
   {
    "duration": 198,
    "start_time": "2022-02-25T13:08:50.571Z"
   },
   {
    "duration": 243,
    "start_time": "2022-02-25T13:08:52.880Z"
   },
   {
    "duration": 206,
    "start_time": "2022-02-25T13:09:03.971Z"
   },
   {
    "duration": 428,
    "start_time": "2022-02-25T13:14:43.681Z"
   },
   {
    "duration": 28,
    "start_time": "2022-02-25T13:15:00.629Z"
   },
   {
    "duration": 422,
    "start_time": "2022-02-25T13:17:06.765Z"
   },
   {
    "duration": 29,
    "start_time": "2022-02-25T13:17:12.909Z"
   },
   {
    "duration": 430,
    "start_time": "2022-02-25T13:17:21.414Z"
   },
   {
    "duration": 27,
    "start_time": "2022-02-25T13:17:29.644Z"
   },
   {
    "duration": 1287,
    "start_time": "2022-02-25T13:17:41.477Z"
   },
   {
    "duration": 89,
    "start_time": "2022-02-25T13:17:42.768Z"
   },
   {
    "duration": 51,
    "start_time": "2022-02-25T13:17:42.859Z"
   },
   {
    "duration": 5,
    "start_time": "2022-02-25T13:17:42.912Z"
   },
   {
    "duration": 52,
    "start_time": "2022-02-25T13:17:42.919Z"
   },
   {
    "duration": 10,
    "start_time": "2022-02-25T13:17:42.973Z"
   },
   {
    "duration": 9,
    "start_time": "2022-02-25T13:17:42.986Z"
   },
   {
    "duration": 7,
    "start_time": "2022-02-25T13:17:42.998Z"
   },
   {
    "duration": 10,
    "start_time": "2022-02-25T13:17:43.008Z"
   },
   {
    "duration": 15,
    "start_time": "2022-02-25T13:17:43.021Z"
   },
   {
    "duration": 42,
    "start_time": "2022-02-25T13:17:43.038Z"
   },
   {
    "duration": 6,
    "start_time": "2022-02-25T13:17:43.082Z"
   },
   {
    "duration": 4,
    "start_time": "2022-02-25T13:17:43.089Z"
   },
   {
    "duration": 13,
    "start_time": "2022-02-25T13:17:43.095Z"
   },
   {
    "duration": 3,
    "start_time": "2022-02-25T13:17:43.110Z"
   },
   {
    "duration": 17,
    "start_time": "2022-02-25T13:17:43.114Z"
   },
   {
    "duration": 45,
    "start_time": "2022-02-25T13:17:43.133Z"
   },
   {
    "duration": 19,
    "start_time": "2022-02-25T13:17:43.180Z"
   },
   {
    "duration": 38,
    "start_time": "2022-02-25T13:17:43.201Z"
   },
   {
    "duration": 6,
    "start_time": "2022-02-25T13:17:43.242Z"
   },
   {
    "duration": 28,
    "start_time": "2022-02-25T13:17:43.249Z"
   },
   {
    "duration": 6,
    "start_time": "2022-02-25T13:17:43.278Z"
   },
   {
    "duration": 9578,
    "start_time": "2022-02-25T13:17:43.288Z"
   },
   {
    "duration": 11185,
    "start_time": "2022-02-25T13:17:52.870Z"
   },
   {
    "duration": 12947,
    "start_time": "2022-02-25T13:18:04.057Z"
   },
   {
    "duration": 18267,
    "start_time": "2022-02-25T13:18:17.006Z"
   },
   {
    "duration": 94,
    "start_time": "2022-02-25T13:18:35.275Z"
   },
   {
    "duration": 113,
    "start_time": "2022-02-25T13:18:35.372Z"
   },
   {
    "duration": 20,
    "start_time": "2022-02-25T13:18:35.488Z"
   },
   {
    "duration": 64,
    "start_time": "2022-02-25T13:18:35.511Z"
   },
   {
    "duration": 110,
    "start_time": "2022-02-25T13:18:35.579Z"
   },
   {
    "duration": 200,
    "start_time": "2022-02-25T13:18:35.771Z"
   },
   {
    "duration": 1363,
    "start_time": "2022-02-25T13:18:35.973Z"
   },
   {
    "duration": 449,
    "start_time": "2022-02-25T13:18:37.338Z"
   },
   {
    "duration": 713,
    "start_time": "2022-02-25T13:18:37.789Z"
   },
   {
    "duration": 44,
    "start_time": "2022-02-25T13:18:38.505Z"
   },
   {
    "duration": 39,
    "start_time": "2022-02-25T13:18:38.551Z"
   },
   {
    "duration": 33,
    "start_time": "2022-02-25T13:18:38.592Z"
   },
   {
    "duration": 460,
    "start_time": "2022-02-25T13:18:38.627Z"
   },
   {
    "duration": 30,
    "start_time": "2022-02-25T13:18:39.089Z"
   },
   {
    "duration": 238,
    "start_time": "2022-02-25T13:18:39.121Z"
   },
   {
    "duration": 223,
    "start_time": "2022-02-25T13:18:39.370Z"
   },
   {
    "duration": 315,
    "start_time": "2022-02-25T13:18:39.596Z"
   },
   {
    "duration": 276,
    "start_time": "2022-02-25T13:18:39.914Z"
   },
   {
    "duration": 216,
    "start_time": "2022-02-25T13:18:40.193Z"
   },
   {
    "duration": 219,
    "start_time": "2022-02-25T13:18:40.411Z"
   },
   {
    "duration": 9,
    "start_time": "2022-02-25T19:00:28.072Z"
   },
   {
    "duration": 8,
    "start_time": "2022-02-25T19:08:03.875Z"
   },
   {
    "duration": 8,
    "start_time": "2022-02-25T19:08:12.272Z"
   },
   {
    "duration": 7,
    "start_time": "2022-02-25T19:08:42.813Z"
   },
   {
    "duration": 344,
    "start_time": "2022-02-25T19:11:05.685Z"
   },
   {
    "duration": 365,
    "start_time": "2022-02-25T19:15:03.064Z"
   },
   {
    "duration": 360,
    "start_time": "2022-02-25T19:18:52.264Z"
   },
   {
    "duration": 1253,
    "start_time": "2022-02-25T19:19:31.092Z"
   },
   {
    "duration": 93,
    "start_time": "2022-02-25T19:19:32.348Z"
   },
   {
    "duration": 57,
    "start_time": "2022-02-25T19:19:32.443Z"
   },
   {
    "duration": 5,
    "start_time": "2022-02-25T19:19:32.503Z"
   },
   {
    "duration": 24,
    "start_time": "2022-02-25T19:19:32.509Z"
   },
   {
    "duration": 8,
    "start_time": "2022-02-25T19:19:32.535Z"
   },
   {
    "duration": 25,
    "start_time": "2022-02-25T19:19:32.545Z"
   },
   {
    "duration": 44,
    "start_time": "2022-02-25T19:19:32.573Z"
   },
   {
    "duration": 36,
    "start_time": "2022-02-25T19:19:32.619Z"
   },
   {
    "duration": 59,
    "start_time": "2022-02-25T19:19:32.657Z"
   },
   {
    "duration": 44,
    "start_time": "2022-02-25T19:19:32.718Z"
   },
   {
    "duration": 12,
    "start_time": "2022-02-25T19:19:32.764Z"
   },
   {
    "duration": 16,
    "start_time": "2022-02-25T19:19:32.778Z"
   },
   {
    "duration": 14,
    "start_time": "2022-02-25T19:19:32.796Z"
   },
   {
    "duration": 3,
    "start_time": "2022-02-25T19:19:32.812Z"
   },
   {
    "duration": 13,
    "start_time": "2022-02-25T19:19:32.816Z"
   },
   {
    "duration": 36,
    "start_time": "2022-02-25T19:19:32.831Z"
   },
   {
    "duration": 15,
    "start_time": "2022-02-25T19:19:32.869Z"
   },
   {
    "duration": 49,
    "start_time": "2022-02-25T19:19:32.886Z"
   },
   {
    "duration": 6,
    "start_time": "2022-02-25T19:19:32.937Z"
   },
   {
    "duration": 8,
    "start_time": "2022-02-25T19:19:32.945Z"
   },
   {
    "duration": 19,
    "start_time": "2022-02-25T19:19:32.955Z"
   },
   {
    "duration": 9187,
    "start_time": "2022-02-25T19:19:32.978Z"
   },
   {
    "duration": 10770,
    "start_time": "2022-02-25T19:19:42.169Z"
   },
   {
    "duration": 12965,
    "start_time": "2022-02-25T19:19:52.941Z"
   },
   {
    "duration": 18057,
    "start_time": "2022-02-25T19:20:05.908Z"
   },
   {
    "duration": 28,
    "start_time": "2022-02-25T19:20:23.969Z"
   },
   {
    "duration": 106,
    "start_time": "2022-02-25T19:20:24.070Z"
   },
   {
    "duration": 16,
    "start_time": "2022-02-25T19:20:24.178Z"
   },
   {
    "duration": 76,
    "start_time": "2022-02-25T19:20:24.197Z"
   },
   {
    "duration": 107,
    "start_time": "2022-02-25T19:20:24.275Z"
   },
   {
    "duration": 192,
    "start_time": "2022-02-25T19:20:24.384Z"
   },
   {
    "duration": 1171,
    "start_time": "2022-02-25T19:20:24.579Z"
   },
   {
    "duration": 441,
    "start_time": "2022-02-25T19:20:25.752Z"
   },
   {
    "duration": 686,
    "start_time": "2022-02-25T19:20:26.196Z"
   },
   {
    "duration": 43,
    "start_time": "2022-02-25T19:20:26.884Z"
   },
   {
    "duration": 43,
    "start_time": "2022-02-25T19:20:26.929Z"
   },
   {
    "duration": 35,
    "start_time": "2022-02-25T19:20:26.975Z"
   },
   {
    "duration": 444,
    "start_time": "2022-02-25T19:20:27.012Z"
   },
   {
    "duration": 38,
    "start_time": "2022-02-25T19:20:27.458Z"
   },
   {
    "duration": 226,
    "start_time": "2022-02-25T19:20:27.498Z"
   },
   {
    "duration": 213,
    "start_time": "2022-02-25T19:20:27.727Z"
   },
   {
    "duration": 196,
    "start_time": "2022-02-25T19:20:27.942Z"
   },
   {
    "duration": 6,
    "start_time": "2022-02-25T19:20:28.140Z"
   },
   {
    "duration": 195,
    "start_time": "2022-02-25T19:20:28.148Z"
   },
   {
    "duration": 374,
    "start_time": "2022-02-25T19:20:28.345Z"
   },
   {
    "duration": 190,
    "start_time": "2022-02-25T19:20:28.721Z"
   },
   {
    "duration": 191,
    "start_time": "2022-02-25T19:20:28.914Z"
   },
   {
    "duration": 6,
    "start_time": "2022-02-25T19:20:29.107Z"
   },
   {
    "duration": 1219,
    "start_time": "2022-02-25T19:21:14.415Z"
   },
   {
    "duration": 144,
    "start_time": "2022-02-25T19:21:15.636Z"
   },
   {
    "duration": 55,
    "start_time": "2022-02-25T19:21:15.785Z"
   },
   {
    "duration": 5,
    "start_time": "2022-02-25T19:21:15.843Z"
   },
   {
    "duration": 30,
    "start_time": "2022-02-25T19:21:15.849Z"
   },
   {
    "duration": 8,
    "start_time": "2022-02-25T19:21:15.881Z"
   },
   {
    "duration": 10,
    "start_time": "2022-02-25T19:21:15.892Z"
   },
   {
    "duration": 6,
    "start_time": "2022-02-25T19:21:15.904Z"
   },
   {
    "duration": 13,
    "start_time": "2022-02-25T19:21:15.911Z"
   },
   {
    "duration": 7,
    "start_time": "2022-02-25T19:21:15.926Z"
   },
   {
    "duration": 39,
    "start_time": "2022-02-25T19:21:15.936Z"
   },
   {
    "duration": 6,
    "start_time": "2022-02-25T19:21:15.977Z"
   },
   {
    "duration": 12,
    "start_time": "2022-02-25T19:21:15.985Z"
   },
   {
    "duration": 16,
    "start_time": "2022-02-25T19:21:15.999Z"
   },
   {
    "duration": 3,
    "start_time": "2022-02-25T19:21:16.017Z"
   },
   {
    "duration": 20,
    "start_time": "2022-02-25T19:21:16.023Z"
   },
   {
    "duration": 37,
    "start_time": "2022-02-25T19:21:16.046Z"
   },
   {
    "duration": 13,
    "start_time": "2022-02-25T19:21:16.085Z"
   },
   {
    "duration": 37,
    "start_time": "2022-02-25T19:21:16.100Z"
   },
   {
    "duration": 30,
    "start_time": "2022-02-25T19:21:16.139Z"
   },
   {
    "duration": 6,
    "start_time": "2022-02-25T19:21:16.171Z"
   },
   {
    "duration": 8,
    "start_time": "2022-02-25T19:21:16.180Z"
   },
   {
    "duration": 9091,
    "start_time": "2022-02-25T19:21:16.191Z"
   },
   {
    "duration": 10942,
    "start_time": "2022-02-25T19:21:25.284Z"
   },
   {
    "duration": 12783,
    "start_time": "2022-02-25T19:21:36.228Z"
   },
   {
    "duration": 18161,
    "start_time": "2022-02-25T19:21:49.013Z"
   },
   {
    "duration": 23,
    "start_time": "2022-02-25T19:22:07.176Z"
   },
   {
    "duration": 171,
    "start_time": "2022-02-25T19:22:07.202Z"
   },
   {
    "duration": 15,
    "start_time": "2022-02-25T19:22:07.376Z"
   },
   {
    "duration": 79,
    "start_time": "2022-02-25T19:22:07.393Z"
   },
   {
    "duration": 108,
    "start_time": "2022-02-25T19:22:07.475Z"
   },
   {
    "duration": 191,
    "start_time": "2022-02-25T19:22:07.589Z"
   },
   {
    "duration": 1218,
    "start_time": "2022-02-25T19:22:07.782Z"
   },
   {
    "duration": 587,
    "start_time": "2022-02-25T19:22:09.002Z"
   },
   {
    "duration": 725,
    "start_time": "2022-02-25T19:22:09.591Z"
   },
   {
    "duration": 57,
    "start_time": "2022-02-25T19:22:10.318Z"
   },
   {
    "duration": 21,
    "start_time": "2022-02-25T19:22:10.377Z"
   },
   {
    "duration": 35,
    "start_time": "2022-02-25T19:22:10.400Z"
   },
   {
    "duration": 468,
    "start_time": "2022-02-25T19:22:10.437Z"
   },
   {
    "duration": 35,
    "start_time": "2022-02-25T19:22:10.907Z"
   },
   {
    "duration": 256,
    "start_time": "2022-02-25T19:22:10.944Z"
   },
   {
    "duration": 214,
    "start_time": "2022-02-25T19:22:11.202Z"
   },
   {
    "duration": 204,
    "start_time": "2022-02-25T19:22:11.418Z"
   },
   {
    "duration": 6,
    "start_time": "2022-02-25T19:22:11.624Z"
   },
   {
    "duration": 219,
    "start_time": "2022-02-25T19:22:11.632Z"
   },
   {
    "duration": 203,
    "start_time": "2022-02-25T19:22:11.853Z"
   },
   {
    "duration": 205,
    "start_time": "2022-02-25T19:22:12.058Z"
   },
   {
    "duration": 6,
    "start_time": "2022-02-25T19:22:12.269Z"
   },
   {
    "duration": 54958,
    "start_time": "2022-02-26T07:26:31.522Z"
   },
   {
    "duration": 488,
    "start_time": "2022-02-26T07:29:25.178Z"
   },
   {
    "duration": 3410,
    "start_time": "2022-02-26T07:31:59.701Z"
   },
   {
    "duration": 537,
    "start_time": "2022-02-26T07:32:16.116Z"
   },
   {
    "duration": 121,
    "start_time": "2022-02-26T07:33:39.963Z"
   },
   {
    "duration": 352,
    "start_time": "2022-02-26T07:34:40.601Z"
   },
   {
    "duration": 2157,
    "start_time": "2022-02-26T07:35:07.527Z"
   },
   {
    "duration": 1045,
    "start_time": "2022-02-26T07:35:46.555Z"
   },
   {
    "duration": 688,
    "start_time": "2022-02-26T07:36:01.923Z"
   },
   {
    "duration": 466,
    "start_time": "2022-02-26T07:36:13.041Z"
   },
   {
    "duration": 11,
    "start_time": "2022-02-26T07:36:20.618Z"
   },
   {
    "duration": 138,
    "start_time": "2022-02-26T07:36:25.618Z"
   },
   {
    "duration": 77,
    "start_time": "2022-02-26T07:36:28.468Z"
   },
   {
    "duration": 447,
    "start_time": "2022-02-26T07:36:36.047Z"
   },
   {
    "duration": 15443,
    "start_time": "2022-02-26T07:37:13.375Z"
   },
   {
    "duration": 12,
    "start_time": "2022-02-26T07:37:39.468Z"
   },
   {
    "duration": 119,
    "start_time": "2022-02-26T07:37:41.326Z"
   },
   {
    "duration": 79,
    "start_time": "2022-02-26T07:37:44.101Z"
   },
   {
    "duration": 380,
    "start_time": "2022-02-26T07:37:48.395Z"
   },
   {
    "duration": 10,
    "start_time": "2022-02-26T07:38:19.811Z"
   },
   {
    "duration": 5300,
    "start_time": "2022-02-26T07:38:24.927Z"
   },
   {
    "duration": 374,
    "start_time": "2022-02-26T07:49:47.569Z"
   },
   {
    "duration": 6,
    "start_time": "2022-02-26T07:50:01.554Z"
   },
   {
    "duration": 30,
    "start_time": "2022-02-26T07:50:05.025Z"
   },
   {
    "duration": 10,
    "start_time": "2022-02-26T07:50:08.305Z"
   },
   {
    "duration": 7,
    "start_time": "2022-02-26T07:50:10.904Z"
   },
   {
    "duration": 5,
    "start_time": "2022-02-26T07:50:14.568Z"
   },
   {
    "duration": 6,
    "start_time": "2022-02-26T07:50:16.764Z"
   },
   {
    "duration": 6,
    "start_time": "2022-02-26T07:50:20.073Z"
   },
   {
    "duration": 22,
    "start_time": "2022-02-26T07:50:22.777Z"
   },
   {
    "duration": 7,
    "start_time": "2022-02-26T07:50:26.424Z"
   },
   {
    "duration": 12,
    "start_time": "2022-02-26T07:50:29.878Z"
   },
   {
    "duration": 13,
    "start_time": "2022-02-26T07:50:34.920Z"
   },
   {
    "duration": 39,
    "start_time": "2022-02-26T07:50:42.343Z"
   },
   {
    "duration": 17,
    "start_time": "2022-02-26T07:50:50.984Z"
   },
   {
    "duration": 17,
    "start_time": "2022-02-26T07:51:09.550Z"
   },
   {
    "duration": 46,
    "start_time": "2022-02-26T07:51:18.954Z"
   },
   {
    "duration": 45,
    "start_time": "2022-02-26T07:51:37.906Z"
   },
   {
    "duration": 9,
    "start_time": "2022-02-26T07:51:37.954Z"
   },
   {
    "duration": 8,
    "start_time": "2022-02-26T07:51:37.967Z"
   },
   {
    "duration": 8,
    "start_time": "2022-02-26T07:51:38.011Z"
   },
   {
    "duration": 12720,
    "start_time": "2022-02-26T07:51:38.021Z"
   },
   {
    "duration": 14630,
    "start_time": "2022-02-26T07:51:50.743Z"
   },
   {
    "duration": 17072,
    "start_time": "2022-02-26T07:52:05.375Z"
   },
   {
    "duration": 23972,
    "start_time": "2022-02-26T07:52:22.453Z"
   },
   {
    "duration": 93,
    "start_time": "2022-02-26T07:52:46.428Z"
   },
   {
    "duration": 103,
    "start_time": "2022-02-26T07:52:46.525Z"
   },
   {
    "duration": 17,
    "start_time": "2022-02-26T07:52:46.630Z"
   },
   {
    "duration": 162,
    "start_time": "2022-02-26T07:52:46.649Z"
   },
   {
    "duration": 196,
    "start_time": "2022-02-26T07:52:46.815Z"
   },
   {
    "duration": 199,
    "start_time": "2022-02-26T07:52:47.016Z"
   },
   {
    "duration": 1433,
    "start_time": "2022-02-26T07:52:47.219Z"
   },
   {
    "duration": 619,
    "start_time": "2022-02-26T07:52:48.655Z"
   },
   {
    "duration": 974,
    "start_time": "2022-02-26T07:52:49.277Z"
   },
   {
    "duration": 71,
    "start_time": "2022-02-26T07:52:50.253Z"
   },
   {
    "duration": 29,
    "start_time": "2022-02-26T07:52:50.327Z"
   },
   {
    "duration": 73,
    "start_time": "2022-02-26T07:52:50.358Z"
   },
   {
    "duration": 679,
    "start_time": "2022-02-26T07:52:50.434Z"
   },
   {
    "duration": 69,
    "start_time": "2022-02-26T07:52:51.115Z"
   },
   {
    "duration": 367,
    "start_time": "2022-02-26T07:52:51.189Z"
   },
   {
    "duration": 384,
    "start_time": "2022-02-26T07:52:51.559Z"
   },
   {
    "duration": 319,
    "start_time": "2022-02-26T07:52:51.945Z"
   },
   {
    "duration": 8,
    "start_time": "2022-02-26T07:52:52.267Z"
   },
   {
    "duration": 352,
    "start_time": "2022-02-26T07:52:52.277Z"
   },
   {
    "duration": 295,
    "start_time": "2022-02-26T07:52:52.631Z"
   },
   {
    "duration": 301,
    "start_time": "2022-02-26T07:52:52.928Z"
   },
   {
    "duration": 8,
    "start_time": "2022-02-26T07:52:53.232Z"
   },
   {
    "duration": 962,
    "start_time": "2022-02-26T07:55:57.999Z"
   },
   {
    "duration": 326,
    "start_time": "2022-02-26T07:56:01.093Z"
   },
   {
    "duration": 6,
    "start_time": "2022-02-26T08:07:21.164Z"
   },
   {
    "duration": 418,
    "start_time": "2022-02-26T08:08:53.204Z"
   },
   {
    "duration": 7,
    "start_time": "2022-02-26T08:09:19.256Z"
   },
   {
    "duration": 7,
    "start_time": "2022-02-26T08:09:27.270Z"
   },
   {
    "duration": 10,
    "start_time": "2022-02-26T08:10:09.300Z"
   },
   {
    "duration": 10,
    "start_time": "2022-02-26T08:10:40.029Z"
   },
   {
    "duration": 18,
    "start_time": "2022-02-26T08:11:16.945Z"
   },
   {
    "duration": 679,
    "start_time": "2022-02-26T08:19:15.811Z"
   },
   {
    "duration": 366,
    "start_time": "2022-02-26T08:19:18.080Z"
   },
   {
    "duration": 9,
    "start_time": "2022-02-26T08:19:21.722Z"
   },
   {
    "duration": 959,
    "start_time": "2022-02-26T08:27:10.121Z"
   },
   {
    "duration": 392,
    "start_time": "2022-02-26T08:27:12.959Z"
   },
   {
    "duration": 12,
    "start_time": "2022-02-26T08:27:19.532Z"
   },
   {
    "duration": 946,
    "start_time": "2022-02-26T08:28:02.773Z"
   },
   {
    "duration": 314,
    "start_time": "2022-02-26T08:28:05.030Z"
   },
   {
    "duration": 10,
    "start_time": "2022-02-26T08:28:08.701Z"
   },
   {
    "duration": 566,
    "start_time": "2022-02-26T08:30:44.391Z"
   },
   {
    "duration": 317,
    "start_time": "2022-02-26T08:30:46.645Z"
   },
   {
    "duration": 8,
    "start_time": "2022-02-26T08:30:51.851Z"
   },
   {
    "duration": 582,
    "start_time": "2022-02-26T08:33:29.767Z"
   },
   {
    "duration": 64,
    "start_time": "2022-02-26T08:33:50.845Z"
   },
   {
    "duration": 397,
    "start_time": "2022-02-26T08:52:53.915Z"
   },
   {
    "duration": 29,
    "start_time": "2022-02-26T08:53:41.635Z"
   },
   {
    "duration": 694,
    "start_time": "2022-02-26T09:00:22.438Z"
   },
   {
    "duration": 15640,
    "start_time": "2022-02-26T09:18:14.986Z"
   },
   {
    "duration": 415,
    "start_time": "2022-02-26T09:18:30.217Z"
   },
   {
    "duration": 407,
    "start_time": "2022-02-26T09:18:30.227Z"
   },
   {
    "duration": 400,
    "start_time": "2022-02-26T09:18:30.235Z"
   },
   {
    "duration": 388,
    "start_time": "2022-02-26T09:18:30.249Z"
   },
   {
    "duration": 369,
    "start_time": "2022-02-26T09:18:30.270Z"
   },
   {
    "duration": 361,
    "start_time": "2022-02-26T09:18:30.280Z"
   },
   {
    "duration": 355,
    "start_time": "2022-02-26T09:18:30.288Z"
   },
   {
    "duration": 331,
    "start_time": "2022-02-26T09:18:30.313Z"
   },
   {
    "duration": 325,
    "start_time": "2022-02-26T09:18:30.321Z"
   },
   {
    "duration": 319,
    "start_time": "2022-02-26T09:18:30.329Z"
   },
   {
    "duration": 311,
    "start_time": "2022-02-26T09:18:30.338Z"
   },
   {
    "duration": 303,
    "start_time": "2022-02-26T09:18:30.348Z"
   },
   {
    "duration": 289,
    "start_time": "2022-02-26T09:18:30.363Z"
   },
   {
    "duration": 278,
    "start_time": "2022-02-26T09:18:30.376Z"
   },
   {
    "duration": 271,
    "start_time": "2022-02-26T09:18:30.384Z"
   },
   {
    "duration": 259,
    "start_time": "2022-02-26T09:18:30.397Z"
   },
   {
    "duration": 250,
    "start_time": "2022-02-26T09:18:30.408Z"
   },
   {
    "duration": 230,
    "start_time": "2022-02-26T09:18:30.430Z"
   },
   {
    "duration": 221,
    "start_time": "2022-02-26T09:18:30.440Z"
   },
   {
    "duration": 213,
    "start_time": "2022-02-26T09:18:30.449Z"
   },
   {
    "duration": 205,
    "start_time": "2022-02-26T09:18:30.458Z"
   },
   {
    "duration": 198,
    "start_time": "2022-02-26T09:18:30.467Z"
   },
   {
    "duration": 189,
    "start_time": "2022-02-26T09:18:30.477Z"
   },
   {
    "duration": 176,
    "start_time": "2022-02-26T09:18:30.492Z"
   },
   {
    "duration": 169,
    "start_time": "2022-02-26T09:18:30.500Z"
   },
   {
    "duration": 160,
    "start_time": "2022-02-26T09:18:30.510Z"
   },
   {
    "duration": 195,
    "start_time": "2022-02-26T09:18:30.516Z"
   },
   {
    "duration": 187,
    "start_time": "2022-02-26T09:18:30.525Z"
   },
   {
    "duration": 166,
    "start_time": "2022-02-26T09:18:30.547Z"
   },
   {
    "duration": 154,
    "start_time": "2022-02-26T09:18:30.561Z"
   },
   {
    "duration": 148,
    "start_time": "2022-02-26T09:18:30.568Z"
   },
   {
    "duration": 139,
    "start_time": "2022-02-26T09:18:30.579Z"
   },
   {
    "duration": 132,
    "start_time": "2022-02-26T09:18:30.588Z"
   },
   {
    "duration": 124,
    "start_time": "2022-02-26T09:18:30.597Z"
   },
   {
    "duration": -107,
    "start_time": "2022-02-26T09:18:30.830Z"
   },
   {
    "duration": -120,
    "start_time": "2022-02-26T09:18:30.844Z"
   },
   {
    "duration": -125,
    "start_time": "2022-02-26T09:18:30.851Z"
   },
   {
    "duration": -136,
    "start_time": "2022-02-26T09:18:30.863Z"
   },
   {
    "duration": -143,
    "start_time": "2022-02-26T09:18:30.872Z"
   },
   {
    "duration": -177,
    "start_time": "2022-02-26T09:18:30.908Z"
   },
   {
    "duration": -183,
    "start_time": "2022-02-26T09:18:30.915Z"
   },
   {
    "duration": -192,
    "start_time": "2022-02-26T09:18:30.926Z"
   },
   {
    "duration": -230,
    "start_time": "2022-02-26T09:18:30.965Z"
   },
   {
    "duration": -242,
    "start_time": "2022-02-26T09:18:30.979Z"
   },
   {
    "duration": -249,
    "start_time": "2022-02-26T09:18:30.988Z"
   },
   {
    "duration": -256,
    "start_time": "2022-02-26T09:18:30.996Z"
   },
   {
    "duration": -275,
    "start_time": "2022-02-26T09:18:31.017Z"
   },
   {
    "duration": -284,
    "start_time": "2022-02-26T09:18:31.028Z"
   },
   {
    "duration": -290,
    "start_time": "2022-02-26T09:18:31.035Z"
   },
   {
    "duration": -317,
    "start_time": "2022-02-26T09:18:31.064Z"
   },
   {
    "duration": -325,
    "start_time": "2022-02-26T09:18:31.073Z"
   },
   {
    "duration": -331,
    "start_time": "2022-02-26T09:18:31.080Z"
   },
   {
    "duration": -278,
    "start_time": "2022-02-26T09:18:31.088Z"
   },
   {
    "duration": -284,
    "start_time": "2022-02-26T09:18:31.096Z"
   },
   {
    "duration": -292,
    "start_time": "2022-02-26T09:18:31.106Z"
   },
   {
    "duration": -331,
    "start_time": "2022-02-26T09:18:31.147Z"
   },
   {
    "duration": -340,
    "start_time": "2022-02-26T09:18:31.157Z"
   },
   {
    "duration": -349,
    "start_time": "2022-02-26T09:18:31.167Z"
   },
   {
    "duration": 14667,
    "start_time": "2022-02-26T09:26:40.052Z"
   },
   {
    "duration": 2972,
    "start_time": "2022-02-26T09:27:28.450Z"
   },
   {
    "duration": 7,
    "start_time": "2022-02-26T09:28:06.843Z"
   },
   {
    "duration": 148,
    "start_time": "2022-02-26T09:28:12.496Z"
   },
   {
    "duration": 67,
    "start_time": "2022-02-26T09:28:12.647Z"
   },
   {
    "duration": 7448,
    "start_time": "2022-02-26T09:28:12.717Z"
   },
   {
    "duration": 5,
    "start_time": "2022-02-26T09:28:20.168Z"
   },
   {
    "duration": 50,
    "start_time": "2022-02-26T09:28:20.176Z"
   },
   {
    "duration": 9,
    "start_time": "2022-02-26T09:28:20.229Z"
   },
   {
    "duration": 5,
    "start_time": "2022-02-26T09:28:20.241Z"
   },
   {
    "duration": 13,
    "start_time": "2022-02-26T09:28:20.250Z"
   },
   {
    "duration": 11,
    "start_time": "2022-02-26T09:28:20.266Z"
   },
   {
    "duration": 35,
    "start_time": "2022-02-26T09:28:20.279Z"
   },
   {
    "duration": 24,
    "start_time": "2022-02-26T09:28:20.317Z"
   },
   {
    "duration": 8,
    "start_time": "2022-02-26T09:28:20.344Z"
   },
   {
    "duration": 19,
    "start_time": "2022-02-26T09:28:20.356Z"
   },
   {
    "duration": 14,
    "start_time": "2022-02-26T09:28:20.411Z"
   },
   {
    "duration": 47,
    "start_time": "2022-02-26T09:28:20.428Z"
   },
   {
    "duration": 37,
    "start_time": "2022-02-26T09:28:20.478Z"
   },
   {
    "duration": 17,
    "start_time": "2022-02-26T09:28:20.518Z"
   },
   {
    "duration": 77,
    "start_time": "2022-02-26T09:28:20.538Z"
   },
   {
    "duration": 9,
    "start_time": "2022-02-26T09:28:20.618Z"
   },
   {
    "duration": 10,
    "start_time": "2022-02-26T09:28:20.629Z"
   },
   {
    "duration": 7,
    "start_time": "2022-02-26T09:28:20.642Z"
   },
   {
    "duration": 6,
    "start_time": "2022-02-26T09:28:20.652Z"
   },
   {
    "duration": 12538,
    "start_time": "2022-02-26T09:28:20.665Z"
   },
   {
    "duration": 14722,
    "start_time": "2022-02-26T09:28:33.207Z"
   },
   {
    "duration": 17196,
    "start_time": "2022-02-26T09:28:47.932Z"
   },
   {
    "duration": 24417,
    "start_time": "2022-02-26T09:29:05.131Z"
   },
   {
    "duration": 163,
    "start_time": "2022-02-26T09:29:29.550Z"
   },
   {
    "duration": 1000,
    "start_time": "2022-02-26T09:29:29.716Z"
   },
   {
    "duration": 319,
    "start_time": "2022-02-26T09:29:30.719Z"
   },
   {
    "duration": 8,
    "start_time": "2022-02-26T09:29:31.040Z"
   },
   {
    "duration": 18,
    "start_time": "2022-02-26T09:29:31.050Z"
   },
   {
    "duration": 52,
    "start_time": "2022-02-26T09:29:31.071Z"
   },
   {
    "duration": 10,
    "start_time": "2022-02-26T09:29:31.125Z"
   },
   {
    "duration": 78,
    "start_time": "2022-02-26T09:29:31.138Z"
   },
   {
    "duration": 208,
    "start_time": "2022-02-26T09:29:31.219Z"
   },
   {
    "duration": 207,
    "start_time": "2022-02-26T09:29:31.430Z"
   },
   {
    "duration": 1401,
    "start_time": "2022-02-26T09:29:31.713Z"
   },
   {
    "duration": 609,
    "start_time": "2022-02-26T09:29:33.117Z"
   },
   {
    "duration": 945,
    "start_time": "2022-02-26T09:29:33.729Z"
   },
   {
    "duration": 70,
    "start_time": "2022-02-26T09:29:34.677Z"
   },
   {
    "duration": 30,
    "start_time": "2022-02-26T09:29:34.750Z"
   },
   {
    "duration": 69,
    "start_time": "2022-02-26T09:29:34.783Z"
   },
   {
    "duration": 611,
    "start_time": "2022-02-26T09:29:34.855Z"
   },
   {
    "duration": 366,
    "start_time": "2022-02-26T09:29:35.468Z"
   },
   {
    "duration": 9,
    "start_time": "2022-02-26T09:29:35.837Z"
   },
   {
    "duration": 593,
    "start_time": "2022-02-26T09:29:35.848Z"
   },
   {
    "duration": 71,
    "start_time": "2022-02-26T09:29:36.444Z"
   },
   {
    "duration": 331,
    "start_time": "2022-02-26T09:29:36.517Z"
   },
   {
    "duration": 284,
    "start_time": "2022-02-26T09:29:36.850Z"
   },
   {
    "duration": 315,
    "start_time": "2022-02-26T09:29:37.136Z"
   },
   {
    "duration": 9,
    "start_time": "2022-02-26T09:29:37.453Z"
   },
   {
    "duration": 339,
    "start_time": "2022-02-26T09:29:37.464Z"
   },
   {
    "duration": 319,
    "start_time": "2022-02-26T09:29:37.810Z"
   },
   {
    "duration": 309,
    "start_time": "2022-02-26T09:29:38.132Z"
   },
   {
    "duration": 9,
    "start_time": "2022-02-26T09:29:38.443Z"
   },
   {
    "duration": 56,
    "start_time": "2022-02-26T09:29:38.455Z"
   },
   {
    "duration": 626,
    "start_time": "2022-02-26T09:29:38.514Z"
   },
   {
    "duration": 274,
    "start_time": "2022-02-26T09:33:32.527Z"
   },
   {
    "duration": 384,
    "start_time": "2022-02-26T09:33:49.552Z"
   },
   {
    "duration": 311,
    "start_time": "2022-02-26T09:34:01.114Z"
   },
   {
    "duration": 327,
    "start_time": "2022-02-26T09:34:17.490Z"
   },
   {
    "duration": 278,
    "start_time": "2022-02-26T09:34:24.540Z"
   },
   {
    "duration": 311,
    "start_time": "2022-02-26T09:34:36.499Z"
   },
   {
    "duration": 334,
    "start_time": "2022-02-26T09:34:47.281Z"
   },
   {
    "duration": 312,
    "start_time": "2022-02-26T09:34:59.114Z"
   },
   {
    "duration": 250,
    "start_time": "2022-02-26T09:35:25.442Z"
   },
   {
    "duration": 306,
    "start_time": "2022-02-26T09:35:31.282Z"
   },
   {
    "duration": 530,
    "start_time": "2022-02-26T09:36:37.694Z"
   },
   {
    "duration": 541,
    "start_time": "2022-02-26T09:36:48.681Z"
   },
   {
    "duration": 380,
    "start_time": "2022-02-26T09:37:04.453Z"
   },
   {
    "duration": 410,
    "start_time": "2022-02-26T09:37:13.860Z"
   },
   {
    "duration": 432,
    "start_time": "2022-02-26T09:48:36.256Z"
   },
   {
    "duration": 15663,
    "start_time": "2022-02-26T09:49:46.617Z"
   },
   {
    "duration": 2929,
    "start_time": "2022-02-26T09:50:02.283Z"
   },
   {
    "duration": 3,
    "start_time": "2022-02-26T09:50:05.216Z"
   },
   {
    "duration": 70,
    "start_time": "2022-02-26T09:50:05.222Z"
   },
   {
    "duration": 6833,
    "start_time": "2022-02-26T09:50:05.295Z"
   },
   {
    "duration": 6,
    "start_time": "2022-02-26T09:50:12.130Z"
   },
   {
    "duration": 36,
    "start_time": "2022-02-26T09:50:12.138Z"
   },
   {
    "duration": 43,
    "start_time": "2022-02-26T09:50:12.178Z"
   },
   {
    "duration": 8,
    "start_time": "2022-02-26T09:50:12.224Z"
   },
   {
    "duration": 6,
    "start_time": "2022-02-26T09:50:12.236Z"
   },
   {
    "duration": 9,
    "start_time": "2022-02-26T09:50:12.245Z"
   },
   {
    "duration": 6,
    "start_time": "2022-02-26T09:50:12.256Z"
   },
   {
    "duration": 58,
    "start_time": "2022-02-26T09:50:12.264Z"
   },
   {
    "duration": 7,
    "start_time": "2022-02-26T09:50:12.325Z"
   },
   {
    "duration": 12,
    "start_time": "2022-02-26T09:50:12.334Z"
   },
   {
    "duration": 11,
    "start_time": "2022-02-26T09:50:12.348Z"
   },
   {
    "duration": 77,
    "start_time": "2022-02-26T09:50:12.361Z"
   },
   {
    "duration": 17,
    "start_time": "2022-02-26T09:50:12.440Z"
   },
   {
    "duration": 20,
    "start_time": "2022-02-26T09:50:12.460Z"
   },
   {
    "duration": 69,
    "start_time": "2022-02-26T09:50:12.482Z"
   },
   {
    "duration": 8,
    "start_time": "2022-02-26T09:50:12.554Z"
   },
   {
    "duration": 8,
    "start_time": "2022-02-26T09:50:12.564Z"
   },
   {
    "duration": 38,
    "start_time": "2022-02-26T09:50:12.578Z"
   },
   {
    "duration": 6,
    "start_time": "2022-02-26T09:50:12.620Z"
   },
   {
    "duration": 12628,
    "start_time": "2022-02-26T09:50:12.629Z"
   },
   {
    "duration": 14875,
    "start_time": "2022-02-26T09:50:25.259Z"
   },
   {
    "duration": 17234,
    "start_time": "2022-02-26T09:50:40.137Z"
   },
   {
    "duration": 24344,
    "start_time": "2022-02-26T09:50:57.373Z"
   },
   {
    "duration": 92,
    "start_time": "2022-02-26T09:51:21.719Z"
   },
   {
    "duration": 1042,
    "start_time": "2022-02-26T09:51:21.815Z"
   },
   {
    "duration": 333,
    "start_time": "2022-02-26T09:51:22.860Z"
   },
   {
    "duration": 20,
    "start_time": "2022-02-26T09:51:23.195Z"
   },
   {
    "duration": 20,
    "start_time": "2022-02-26T09:51:23.217Z"
   },
   {
    "duration": 20,
    "start_time": "2022-02-26T09:51:23.239Z"
   },
   {
    "duration": 49,
    "start_time": "2022-02-26T09:51:23.262Z"
   },
   {
    "duration": 100,
    "start_time": "2022-02-26T09:51:23.314Z"
   },
   {
    "duration": 114,
    "start_time": "2022-02-26T09:51:23.420Z"
   },
   {
    "duration": 201,
    "start_time": "2022-02-26T09:51:23.613Z"
   },
   {
    "duration": 1327,
    "start_time": "2022-02-26T09:51:23.910Z"
   },
   {
    "duration": 614,
    "start_time": "2022-02-26T09:51:25.240Z"
   },
   {
    "duration": 943,
    "start_time": "2022-02-26T09:51:25.857Z"
   },
   {
    "duration": 64,
    "start_time": "2022-02-26T09:51:26.803Z"
   },
   {
    "duration": 45,
    "start_time": "2022-02-26T09:51:26.869Z"
   },
   {
    "duration": 47,
    "start_time": "2022-02-26T09:51:26.917Z"
   },
   {
    "duration": 595,
    "start_time": "2022-02-26T09:51:26.967Z"
   },
   {
    "duration": 351,
    "start_time": "2022-02-26T09:51:27.565Z"
   },
   {
    "duration": 8,
    "start_time": "2022-02-26T09:51:27.919Z"
   },
   {
    "duration": 709,
    "start_time": "2022-02-26T09:51:27.929Z"
   },
   {
    "duration": 73,
    "start_time": "2022-02-26T09:51:28.640Z"
   },
   {
    "duration": 359,
    "start_time": "2022-02-26T09:51:28.716Z"
   },
   {
    "duration": 312,
    "start_time": "2022-02-26T09:51:29.078Z"
   },
   {
    "duration": 336,
    "start_time": "2022-02-26T09:51:29.393Z"
   },
   {
    "duration": 9,
    "start_time": "2022-02-26T09:51:29.732Z"
   },
   {
    "duration": 353,
    "start_time": "2022-02-26T09:51:29.744Z"
   },
   {
    "duration": 330,
    "start_time": "2022-02-26T09:51:30.099Z"
   },
   {
    "duration": 979,
    "start_time": "2022-02-26T09:51:30.431Z"
   },
   {
    "duration": 422,
    "start_time": "2022-02-26T09:51:30.991Z"
   },
   {
    "duration": 410,
    "start_time": "2022-02-26T09:51:31.004Z"
   },
   {
    "duration": 404,
    "start_time": "2022-02-26T09:51:31.012Z"
   },
   {
    "duration": 299,
    "start_time": "2022-02-26T09:53:10.888Z"
   },
   {
    "duration": 301,
    "start_time": "2022-02-26T09:53:23.969Z"
   },
   {
    "duration": 10,
    "start_time": "2022-02-26T09:53:24.273Z"
   },
   {
    "duration": 52,
    "start_time": "2022-02-26T09:53:24.287Z"
   },
   {
    "duration": 889,
    "start_time": "2022-02-26T09:53:24.342Z"
   },
   {
    "duration": 375,
    "start_time": "2022-02-26T10:03:06.516Z"
   },
   {
    "duration": 66,
    "start_time": "2022-02-26T10:03:21.893Z"
   },
   {
    "duration": 8,
    "start_time": "2022-02-26T10:03:27.275Z"
   },
   {
    "duration": 6,
    "start_time": "2022-02-26T10:03:41.063Z"
   },
   {
    "duration": 6,
    "start_time": "2022-02-26T10:03:45.354Z"
   },
   {
    "duration": 12,
    "start_time": "2022-02-26T10:04:18.473Z"
   },
   {
    "duration": 393,
    "start_time": "2022-02-26T10:04:49.870Z"
   },
   {
    "duration": 8,
    "start_time": "2022-02-26T10:05:07.686Z"
   },
   {
    "duration": 6,
    "start_time": "2022-02-26T10:06:07.210Z"
   },
   {
    "duration": 6,
    "start_time": "2022-02-26T10:06:17.534Z"
   },
   {
    "duration": 7,
    "start_time": "2022-02-26T10:06:55.415Z"
   },
   {
    "duration": 9,
    "start_time": "2022-02-26T10:10:51.788Z"
   },
   {
    "duration": 428,
    "start_time": "2022-02-26T10:12:05.892Z"
   },
   {
    "duration": 360,
    "start_time": "2022-02-26T10:12:28.921Z"
   },
   {
    "duration": 13,
    "start_time": "2022-02-26T10:12:33.477Z"
   },
   {
    "duration": 5,
    "start_time": "2022-02-26T10:12:41.646Z"
   },
   {
    "duration": 6,
    "start_time": "2022-02-26T10:13:37.601Z"
   },
   {
    "duration": 10,
    "start_time": "2022-02-26T10:14:03.574Z"
   },
   {
    "duration": 15,
    "start_time": "2022-02-26T10:15:46.211Z"
   },
   {
    "duration": 6,
    "start_time": "2022-02-26T10:16:00.408Z"
   },
   {
    "duration": 6,
    "start_time": "2022-02-26T10:16:29.306Z"
   },
   {
    "duration": 11,
    "start_time": "2022-02-26T10:16:33.464Z"
   },
   {
    "duration": 13,
    "start_time": "2022-02-26T10:18:05.156Z"
   },
   {
    "duration": 12,
    "start_time": "2022-02-26T10:18:40.435Z"
   },
   {
    "duration": 507,
    "start_time": "2022-02-26T10:21:41.577Z"
   },
   {
    "duration": 457,
    "start_time": "2022-02-26T10:21:55.448Z"
   },
   {
    "duration": 14,
    "start_time": "2022-02-26T10:22:12.720Z"
   },
   {
    "duration": 14,
    "start_time": "2022-02-26T10:22:48.038Z"
   },
   {
    "duration": 6,
    "start_time": "2022-02-26T10:22:53.346Z"
   },
   {
    "duration": 14,
    "start_time": "2022-02-26T10:22:55.516Z"
   },
   {
    "duration": 14,
    "start_time": "2022-02-26T10:23:07.431Z"
   },
   {
    "duration": 14,
    "start_time": "2022-02-26T10:23:23.237Z"
   },
   {
    "duration": 14,
    "start_time": "2022-02-26T10:23:35.929Z"
   },
   {
    "duration": 5,
    "start_time": "2022-02-26T10:23:37.122Z"
   },
   {
    "duration": 14,
    "start_time": "2022-02-26T10:23:37.915Z"
   },
   {
    "duration": 9992,
    "start_time": "2022-02-26T11:01:43.800Z"
   },
   {
    "duration": 458,
    "start_time": "2022-02-26T11:01:59.119Z"
   },
   {
    "duration": 381,
    "start_time": "2022-02-26T11:02:39.069Z"
   },
   {
    "duration": 462,
    "start_time": "2022-02-26T11:02:57.740Z"
   },
   {
    "duration": 378,
    "start_time": "2022-02-26T11:03:45.116Z"
   },
   {
    "duration": 3,
    "start_time": "2022-02-26T18:48:33.722Z"
   },
   {
    "duration": 1239,
    "start_time": "2022-02-26T18:48:33.742Z"
   },
   {
    "duration": 752,
    "start_time": "2022-02-26T18:48:34.234Z"
   },
   {
    "duration": 739,
    "start_time": "2022-02-26T18:48:34.249Z"
   },
   {
    "duration": 729,
    "start_time": "2022-02-26T18:48:34.260Z"
   },
   {
    "duration": 721,
    "start_time": "2022-02-26T18:48:34.270Z"
   },
   {
    "duration": 711,
    "start_time": "2022-02-26T18:48:34.281Z"
   },
   {
    "duration": 702,
    "start_time": "2022-02-26T18:48:34.291Z"
   },
   {
    "duration": 692,
    "start_time": "2022-02-26T18:48:34.303Z"
   },
   {
    "duration": 679,
    "start_time": "2022-02-26T18:48:34.317Z"
   },
   {
    "duration": 620,
    "start_time": "2022-02-26T18:48:34.378Z"
   },
   {
    "duration": 613,
    "start_time": "2022-02-26T18:48:34.386Z"
   },
   {
    "duration": 602,
    "start_time": "2022-02-26T18:48:34.398Z"
   },
   {
    "duration": 596,
    "start_time": "2022-02-26T18:48:34.406Z"
   },
   {
    "duration": 588,
    "start_time": "2022-02-26T18:48:34.415Z"
   },
   {
    "duration": 556,
    "start_time": "2022-02-26T18:48:34.449Z"
   },
   {
    "duration": 547,
    "start_time": "2022-02-26T18:48:34.459Z"
   },
   {
    "duration": 523,
    "start_time": "2022-02-26T18:48:34.484Z"
   },
   {
    "duration": 500,
    "start_time": "2022-02-26T18:48:34.509Z"
   },
   {
    "duration": 400,
    "start_time": "2022-02-26T18:48:34.610Z"
   },
   {
    "duration": 394,
    "start_time": "2022-02-26T18:48:34.618Z"
   },
   {
    "duration": 386,
    "start_time": "2022-02-26T18:48:34.627Z"
   },
   {
    "duration": 360,
    "start_time": "2022-02-26T18:48:34.654Z"
   },
   {
    "duration": 352,
    "start_time": "2022-02-26T18:48:34.664Z"
   },
   {
    "duration": 342,
    "start_time": "2022-02-26T18:48:34.675Z"
   },
   {
    "duration": 336,
    "start_time": "2022-02-26T18:48:34.682Z"
   },
   {
    "duration": 329,
    "start_time": "2022-02-26T18:48:34.691Z"
   },
   {
    "duration": 322,
    "start_time": "2022-02-26T18:48:34.699Z"
   },
   {
    "duration": 310,
    "start_time": "2022-02-26T18:48:34.712Z"
   },
   {
    "duration": 355,
    "start_time": "2022-02-26T18:48:34.719Z"
   },
   {
    "duration": 338,
    "start_time": "2022-02-26T18:48:34.738Z"
   },
   {
    "duration": 330,
    "start_time": "2022-02-26T18:48:34.747Z"
   },
   {
    "duration": 309,
    "start_time": "2022-02-26T18:48:34.770Z"
   },
   {
    "duration": 296,
    "start_time": "2022-02-26T18:48:34.784Z"
   },
   {
    "duration": 285,
    "start_time": "2022-02-26T18:48:34.796Z"
   },
   {
    "duration": 280,
    "start_time": "2022-02-26T18:48:34.803Z"
   },
   {
    "duration": 270,
    "start_time": "2022-02-26T18:48:34.814Z"
   },
   {
    "duration": 265,
    "start_time": "2022-02-26T18:48:34.821Z"
   },
   {
    "duration": 256,
    "start_time": "2022-02-26T18:48:34.831Z"
   },
   {
    "duration": 251,
    "start_time": "2022-02-26T18:48:34.838Z"
   },
   {
    "duration": 207,
    "start_time": "2022-02-26T18:48:34.883Z"
   },
   {
    "duration": 198,
    "start_time": "2022-02-26T18:48:34.893Z"
   },
   {
    "duration": 190,
    "start_time": "2022-02-26T18:48:34.903Z"
   },
   {
    "duration": 183,
    "start_time": "2022-02-26T18:48:34.911Z"
   },
   {
    "duration": 176,
    "start_time": "2022-02-26T18:48:34.919Z"
   },
   {
    "duration": 169,
    "start_time": "2022-02-26T18:48:34.928Z"
   },
   {
    "duration": 163,
    "start_time": "2022-02-26T18:48:34.936Z"
   },
   {
    "duration": 153,
    "start_time": "2022-02-26T18:48:34.947Z"
   },
   {
    "duration": 144,
    "start_time": "2022-02-26T18:48:34.957Z"
   },
   {
    "duration": 139,
    "start_time": "2022-02-26T18:48:34.964Z"
   },
   {
    "duration": 130,
    "start_time": "2022-02-26T18:48:34.974Z"
   },
   {
    "duration": 103,
    "start_time": "2022-02-26T18:48:35.002Z"
   },
   {
    "duration": 95,
    "start_time": "2022-02-26T18:48:35.012Z"
   },
   {
    "duration": 88,
    "start_time": "2022-02-26T18:48:35.020Z"
   },
   {
    "duration": 77,
    "start_time": "2022-02-26T18:48:35.032Z"
   },
   {
    "duration": 71,
    "start_time": "2022-02-26T18:48:35.040Z"
   },
   {
    "duration": 126,
    "start_time": "2022-02-26T18:48:35.049Z"
   },
   {
    "duration": 119,
    "start_time": "2022-02-26T18:48:35.057Z"
   },
   {
    "duration": 112,
    "start_time": "2022-02-26T18:48:35.066Z"
   },
   {
    "duration": 100,
    "start_time": "2022-02-26T18:48:35.079Z"
   },
   {
    "duration": 93,
    "start_time": "2022-02-26T18:48:35.087Z"
   },
   {
    "duration": 58451,
    "start_time": "2022-02-26T18:49:04.316Z"
   },
   {
    "duration": 1241,
    "start_time": "2022-02-26T18:50:05.175Z"
   },
   {
    "duration": 10,
    "start_time": "2022-02-26T18:50:16.847Z"
   },
   {
    "duration": 5,
    "start_time": "2022-02-26T18:50:16.860Z"
   },
   {
    "duration": 70,
    "start_time": "2022-02-26T18:50:16.868Z"
   },
   {
    "duration": 5300,
    "start_time": "2022-02-26T18:50:16.941Z"
   },
   {
    "duration": 6,
    "start_time": "2022-02-26T18:50:22.244Z"
   },
   {
    "duration": 401,
    "start_time": "2022-02-26T18:50:22.273Z"
   },
   {
    "duration": 32,
    "start_time": "2022-02-26T18:50:22.677Z"
   },
   {
    "duration": 14,
    "start_time": "2022-02-26T18:50:22.711Z"
   },
   {
    "duration": 59,
    "start_time": "2022-02-26T18:50:22.727Z"
   },
   {
    "duration": 5,
    "start_time": "2022-02-26T18:50:22.789Z"
   },
   {
    "duration": 10,
    "start_time": "2022-02-26T18:50:22.798Z"
   },
   {
    "duration": 9,
    "start_time": "2022-02-26T18:50:22.811Z"
   },
   {
    "duration": 7,
    "start_time": "2022-02-26T18:50:22.822Z"
   },
   {
    "duration": 54,
    "start_time": "2022-02-26T18:50:22.834Z"
   },
   {
    "duration": 7,
    "start_time": "2022-02-26T18:50:22.891Z"
   },
   {
    "duration": 11,
    "start_time": "2022-02-26T18:50:22.901Z"
   },
   {
    "duration": 13,
    "start_time": "2022-02-26T18:50:22.914Z"
   },
   {
    "duration": 78,
    "start_time": "2022-02-26T18:50:22.930Z"
   },
   {
    "duration": 17,
    "start_time": "2022-02-26T18:50:23.010Z"
   },
   {
    "duration": 17,
    "start_time": "2022-02-26T18:50:23.029Z"
   },
   {
    "duration": 298,
    "start_time": "2022-02-26T18:50:23.049Z"
   },
   {
    "duration": -234,
    "start_time": "2022-02-26T18:50:23.585Z"
   },
   {
    "duration": -244,
    "start_time": "2022-02-26T18:50:23.596Z"
   },
   {
    "duration": -265,
    "start_time": "2022-02-26T18:50:23.618Z"
   },
   {
    "duration": -277,
    "start_time": "2022-02-26T18:50:23.632Z"
   },
   {
    "duration": -286,
    "start_time": "2022-02-26T18:50:23.642Z"
   },
   {
    "duration": -294,
    "start_time": "2022-02-26T18:50:23.652Z"
   },
   {
    "duration": -302,
    "start_time": "2022-02-26T18:50:23.661Z"
   },
   {
    "duration": -309,
    "start_time": "2022-02-26T18:50:23.670Z"
   },
   {
    "duration": -317,
    "start_time": "2022-02-26T18:50:23.679Z"
   },
   {
    "duration": -325,
    "start_time": "2022-02-26T18:50:23.689Z"
   },
   {
    "duration": -332,
    "start_time": "2022-02-26T18:50:23.697Z"
   },
   {
    "duration": -341,
    "start_time": "2022-02-26T18:50:23.708Z"
   },
   {
    "duration": -370,
    "start_time": "2022-02-26T18:50:23.738Z"
   },
   {
    "duration": -424,
    "start_time": "2022-02-26T18:50:23.793Z"
   },
   {
    "duration": -465,
    "start_time": "2022-02-26T18:50:23.836Z"
   },
   {
    "duration": -510,
    "start_time": "2022-02-26T18:50:23.883Z"
   },
   {
    "duration": -586,
    "start_time": "2022-02-26T18:50:23.960Z"
   },
   {
    "duration": -592,
    "start_time": "2022-02-26T18:50:23.968Z"
   },
   {
    "duration": -604,
    "start_time": "2022-02-26T18:50:23.981Z"
   },
   {
    "duration": -613,
    "start_time": "2022-02-26T18:50:23.991Z"
   },
   {
    "duration": -618,
    "start_time": "2022-02-26T18:50:23.998Z"
   },
   {
    "duration": -626,
    "start_time": "2022-02-26T18:50:24.007Z"
   },
   {
    "duration": -632,
    "start_time": "2022-02-26T18:50:24.015Z"
   },
   {
    "duration": -704,
    "start_time": "2022-02-26T18:50:24.088Z"
   },
   {
    "duration": -713,
    "start_time": "2022-02-26T18:50:24.099Z"
   },
   {
    "duration": -723,
    "start_time": "2022-02-26T18:50:24.110Z"
   },
   {
    "duration": -728,
    "start_time": "2022-02-26T18:50:24.117Z"
   },
   {
    "duration": -738,
    "start_time": "2022-02-26T18:50:24.128Z"
   },
   {
    "duration": -745,
    "start_time": "2022-02-26T18:50:24.136Z"
   },
   {
    "duration": -759,
    "start_time": "2022-02-26T18:50:24.151Z"
   },
   {
    "duration": -769,
    "start_time": "2022-02-26T18:50:24.163Z"
   },
   {
    "duration": -779,
    "start_time": "2022-02-26T18:50:24.175Z"
   },
   {
    "duration": -949,
    "start_time": "2022-02-26T18:50:24.346Z"
   },
   {
    "duration": -977,
    "start_time": "2022-02-26T18:50:24.375Z"
   },
   {
    "duration": -1060,
    "start_time": "2022-02-26T18:50:24.459Z"
   },
   {
    "duration": -1109,
    "start_time": "2022-02-26T18:50:24.510Z"
   },
   {
    "duration": -1117,
    "start_time": "2022-02-26T18:50:24.519Z"
   },
   {
    "duration": -1129,
    "start_time": "2022-02-26T18:50:24.532Z"
   },
   {
    "duration": -1142,
    "start_time": "2022-02-26T18:50:24.546Z"
   },
   {
    "duration": 239,
    "start_time": "2022-02-26T18:51:54.377Z"
   },
   {
    "duration": 11,
    "start_time": "2022-02-26T18:52:27.688Z"
   },
   {
    "duration": 9,
    "start_time": "2022-02-26T18:52:38.524Z"
   },
   {
    "duration": 8,
    "start_time": "2022-02-26T18:53:11.917Z"
   },
   {
    "duration": 10,
    "start_time": "2022-02-26T18:53:14.773Z"
   },
   {
    "duration": 226,
    "start_time": "2022-02-26T18:54:48.901Z"
   },
   {
    "duration": 13570,
    "start_time": "2022-02-26T18:55:14.029Z"
   },
   {
    "duration": 2991,
    "start_time": "2022-02-26T18:55:27.602Z"
   },
   {
    "duration": 3,
    "start_time": "2022-02-26T18:55:30.597Z"
   },
   {
    "duration": 153,
    "start_time": "2022-02-26T18:55:30.602Z"
   },
   {
    "duration": 5388,
    "start_time": "2022-02-26T18:55:30.758Z"
   },
   {
    "duration": 5,
    "start_time": "2022-02-26T18:55:36.149Z"
   },
   {
    "duration": 7,
    "start_time": "2022-02-26T18:55:36.173Z"
   },
   {
    "duration": 28,
    "start_time": "2022-02-26T18:55:36.185Z"
   },
   {
    "duration": 62,
    "start_time": "2022-02-26T18:55:36.217Z"
   },
   {
    "duration": 12,
    "start_time": "2022-02-26T18:55:36.282Z"
   },
   {
    "duration": 9,
    "start_time": "2022-02-26T18:55:36.297Z"
   },
   {
    "duration": 5,
    "start_time": "2022-02-26T18:55:36.309Z"
   },
   {
    "duration": 6,
    "start_time": "2022-02-26T18:55:36.317Z"
   },
   {
    "duration": 50,
    "start_time": "2022-02-26T18:55:36.325Z"
   },
   {
    "duration": 8,
    "start_time": "2022-02-26T18:55:36.377Z"
   },
   {
    "duration": 23,
    "start_time": "2022-02-26T18:55:36.387Z"
   },
   {
    "duration": 7,
    "start_time": "2022-02-26T18:55:36.412Z"
   },
   {
    "duration": 12,
    "start_time": "2022-02-26T18:55:36.421Z"
   },
   {
    "duration": 39,
    "start_time": "2022-02-26T18:55:36.435Z"
   },
   {
    "duration": 44,
    "start_time": "2022-02-26T18:55:36.477Z"
   },
   {
    "duration": 17,
    "start_time": "2022-02-26T18:55:36.524Z"
   },
   {
    "duration": 42,
    "start_time": "2022-02-26T18:55:36.543Z"
   },
   {
    "duration": 51,
    "start_time": "2022-02-26T18:55:36.591Z"
   },
   {
    "duration": 9,
    "start_time": "2022-02-26T18:55:36.645Z"
   },
   {
    "duration": 8,
    "start_time": "2022-02-26T18:55:36.674Z"
   },
   {
    "duration": 8,
    "start_time": "2022-02-26T18:55:36.685Z"
   },
   {
    "duration": 8,
    "start_time": "2022-02-26T18:55:36.696Z"
   },
   {
    "duration": 13218,
    "start_time": "2022-02-26T18:55:36.706Z"
   },
   {
    "duration": 16114,
    "start_time": "2022-02-26T18:55:49.926Z"
   },
   {
    "duration": 19033,
    "start_time": "2022-02-26T18:56:06.043Z"
   },
   {
    "duration": 26349,
    "start_time": "2022-02-26T18:56:25.079Z"
   },
   {
    "duration": 143,
    "start_time": "2022-02-26T18:56:51.430Z"
   },
   {
    "duration": 1119,
    "start_time": "2022-02-26T18:56:51.577Z"
   },
   {
    "duration": 279,
    "start_time": "2022-02-26T18:56:52.698Z"
   },
   {
    "duration": 11,
    "start_time": "2022-02-26T18:56:52.980Z"
   },
   {
    "duration": 19,
    "start_time": "2022-02-26T18:56:52.993Z"
   },
   {
    "duration": 18,
    "start_time": "2022-02-26T18:56:53.015Z"
   },
   {
    "duration": 43,
    "start_time": "2022-02-26T18:56:53.036Z"
   },
   {
    "duration": 97,
    "start_time": "2022-02-26T18:56:53.081Z"
   },
   {
    "duration": 98,
    "start_time": "2022-02-26T18:56:53.275Z"
   },
   {
    "duration": 200,
    "start_time": "2022-02-26T18:56:53.376Z"
   },
   {
    "duration": 1664,
    "start_time": "2022-02-26T18:56:53.579Z"
   },
   {
    "duration": 716,
    "start_time": "2022-02-26T18:56:55.245Z"
   },
   {
    "duration": 1022,
    "start_time": "2022-02-26T18:56:55.963Z"
   },
   {
    "duration": 61,
    "start_time": "2022-02-26T18:56:56.987Z"
   },
   {
    "duration": 55,
    "start_time": "2022-02-26T18:56:57.051Z"
   },
   {
    "duration": 67,
    "start_time": "2022-02-26T18:56:57.109Z"
   },
   {
    "duration": 735,
    "start_time": "2022-02-26T18:56:57.179Z"
   },
   {
    "duration": 356,
    "start_time": "2022-02-26T18:56:57.917Z"
   },
   {
    "duration": 10,
    "start_time": "2022-02-26T18:56:58.275Z"
   },
   {
    "duration": 741,
    "start_time": "2022-02-26T18:56:58.287Z"
   },
   {
    "duration": 80,
    "start_time": "2022-02-26T18:56:59.031Z"
   },
   {
    "duration": 367,
    "start_time": "2022-02-26T18:56:59.114Z"
   },
   {
    "duration": 278,
    "start_time": "2022-02-26T18:56:59.484Z"
   },
   {
    "duration": 294,
    "start_time": "2022-02-26T18:56:59.765Z"
   },
   {
    "duration": 19,
    "start_time": "2022-02-26T18:57:00.061Z"
   },
   {
    "duration": 346,
    "start_time": "2022-02-26T18:57:00.082Z"
   },
   {
    "duration": 316,
    "start_time": "2022-02-26T18:57:00.430Z"
   },
   {
    "duration": 307,
    "start_time": "2022-02-26T18:57:00.748Z"
   },
   {
    "duration": 17,
    "start_time": "2022-02-26T18:57:01.058Z"
   },
   {
    "duration": 29,
    "start_time": "2022-02-26T18:57:01.077Z"
   },
   {
    "duration": 620,
    "start_time": "2022-02-26T18:57:01.109Z"
   },
   {
    "duration": 38,
    "start_time": "2022-02-26T18:58:06.689Z"
   },
   {
    "duration": 6,
    "start_time": "2022-02-26T18:58:49.453Z"
   },
   {
    "duration": 8,
    "start_time": "2022-02-26T18:58:58.795Z"
   },
   {
    "duration": 6,
    "start_time": "2022-02-26T18:59:00.460Z"
   },
   {
    "duration": 1590,
    "start_time": "2022-02-26T19:04:31.727Z"
   },
   {
    "duration": 642,
    "start_time": "2022-02-26T19:04:35.243Z"
   },
   {
    "duration": 1016,
    "start_time": "2022-02-26T19:04:37.894Z"
   },
   {
    "duration": 872,
    "start_time": "2022-02-26T19:05:10.101Z"
   },
   {
    "duration": 1468,
    "start_time": "2022-02-26T19:05:14.765Z"
   },
   {
    "duration": 1437,
    "start_time": "2022-02-26T19:05:21.171Z"
   },
   {
    "duration": 1470,
    "start_time": "2022-02-26T19:05:30.182Z"
   },
   {
    "duration": 1444,
    "start_time": "2022-02-26T19:05:35.346Z"
   },
   {
    "duration": 1461,
    "start_time": "2022-02-26T19:05:40.018Z"
   },
   {
    "duration": 869,
    "start_time": "2022-02-26T19:06:21.370Z"
   },
   {
    "duration": 1472,
    "start_time": "2022-02-26T19:06:27.502Z"
   },
   {
    "duration": 1470,
    "start_time": "2022-02-26T19:08:30.535Z"
   },
   {
    "duration": 313,
    "start_time": "2022-02-26T19:08:33.432Z"
   },
   {
    "duration": 9,
    "start_time": "2022-02-26T19:08:37.072Z"
   },
   {
    "duration": 1458,
    "start_time": "2022-02-26T19:08:48.509Z"
   },
   {
    "duration": 70,
    "start_time": "2022-02-26T19:08:54.345Z"
   },
   {
    "duration": 327,
    "start_time": "2022-02-26T19:09:10.607Z"
   },
   {
    "duration": 271,
    "start_time": "2022-02-26T19:09:23.684Z"
   },
   {
    "duration": 260,
    "start_time": "2022-02-26T19:09:26.498Z"
   },
   {
    "duration": 9,
    "start_time": "2022-02-26T19:10:07.976Z"
   },
   {
    "duration": 346,
    "start_time": "2022-02-26T19:10:12.350Z"
   },
   {
    "duration": 292,
    "start_time": "2022-02-26T19:10:44.356Z"
   },
   {
    "duration": 303,
    "start_time": "2022-02-26T19:10:48.782Z"
   },
   {
    "duration": 8,
    "start_time": "2022-02-26T19:10:52.166Z"
   },
   {
    "duration": 32,
    "start_time": "2022-02-26T19:12:58.444Z"
   },
   {
    "duration": 641,
    "start_time": "2022-02-26T19:13:00.253Z"
   },
   {
    "duration": 14,
    "start_time": "2022-02-27T06:59:38.962Z"
   },
   {
    "duration": 1223,
    "start_time": "2022-02-27T07:02:08.073Z"
   },
   {
    "duration": 15321,
    "start_time": "2022-02-27T07:03:12.963Z"
   },
   {
    "duration": 13,
    "start_time": "2022-02-27T07:03:28.288Z"
   },
   {
    "duration": 21,
    "start_time": "2022-02-27T07:03:28.306Z"
   },
   {
    "duration": 57,
    "start_time": "2022-02-27T07:03:28.330Z"
   },
   {
    "duration": 5360,
    "start_time": "2022-02-27T07:03:28.390Z"
   },
   {
    "duration": 6,
    "start_time": "2022-02-27T07:03:33.753Z"
   },
   {
    "duration": 7,
    "start_time": "2022-02-27T07:03:33.773Z"
   },
   {
    "duration": 39,
    "start_time": "2022-02-27T07:03:33.783Z"
   },
   {
    "duration": 18,
    "start_time": "2022-02-27T07:03:33.825Z"
   },
   {
    "duration": 1124,
    "start_time": "2022-02-27T07:03:33.845Z"
   },
   {
    "duration": 1309,
    "start_time": "2022-02-27T07:03:33.663Z"
   },
   {
    "duration": 5425,
    "start_time": "2022-02-27T07:17:51.938Z"
   },
   {
    "duration": 7,
    "start_time": "2022-02-27T07:18:04.381Z"
   },
   {
    "duration": 12,
    "start_time": "2022-02-27T07:18:06.522Z"
   },
   {
    "duration": 33,
    "start_time": "2022-02-27T07:19:23.502Z"
   },
   {
    "duration": 12,
    "start_time": "2022-02-27T07:20:02.886Z"
   },
   {
    "duration": 15747,
    "start_time": "2022-02-27T07:26:29.926Z"
   },
   {
    "duration": 3024,
    "start_time": "2022-02-27T07:26:45.677Z"
   },
   {
    "duration": 3,
    "start_time": "2022-02-27T07:26:48.704Z"
   },
   {
    "duration": 62,
    "start_time": "2022-02-27T07:26:48.711Z"
   },
   {
    "duration": 6735,
    "start_time": "2022-02-27T07:26:48.776Z"
   },
   {
    "duration": 5,
    "start_time": "2022-02-27T07:26:55.513Z"
   },
   {
    "duration": 9,
    "start_time": "2022-02-27T07:26:55.520Z"
   },
   {
    "duration": 58,
    "start_time": "2022-02-27T07:26:55.533Z"
   },
   {
    "duration": 13,
    "start_time": "2022-02-27T07:26:55.595Z"
   },
   {
    "duration": 5363,
    "start_time": "2022-02-27T07:26:55.611Z"
   },
   {
    "duration": 8,
    "start_time": "2022-02-27T07:27:00.976Z"
   },
   {
    "duration": 25,
    "start_time": "2022-02-27T07:27:00.987Z"
   },
   {
    "duration": 7,
    "start_time": "2022-02-27T07:27:01.015Z"
   },
   {
    "duration": 8,
    "start_time": "2022-02-27T07:27:01.024Z"
   },
   {
    "duration": 40,
    "start_time": "2022-02-27T07:27:01.035Z"
   },
   {
    "duration": 24,
    "start_time": "2022-02-27T07:27:01.078Z"
   },
   {
    "duration": 25,
    "start_time": "2022-02-27T07:27:01.104Z"
   },
   {
    "duration": 8,
    "start_time": "2022-02-27T07:27:01.131Z"
   },
   {
    "duration": 13,
    "start_time": "2022-02-27T07:27:01.141Z"
   },
   {
    "duration": 23,
    "start_time": "2022-02-27T07:27:01.157Z"
   },
   {
    "duration": 45,
    "start_time": "2022-02-27T07:27:01.183Z"
   },
   {
    "duration": 18,
    "start_time": "2022-02-27T07:27:01.230Z"
   },
   {
    "duration": 19,
    "start_time": "2022-02-27T07:27:01.275Z"
   },
   {
    "duration": 77,
    "start_time": "2022-02-27T07:27:01.297Z"
   },
   {
    "duration": 8,
    "start_time": "2022-02-27T07:27:01.377Z"
   },
   {
    "duration": 12,
    "start_time": "2022-02-27T07:27:01.388Z"
   },
   {
    "duration": 16,
    "start_time": "2022-02-27T07:27:01.403Z"
   },
   {
    "duration": 11,
    "start_time": "2022-02-27T07:27:01.421Z"
   },
   {
    "duration": 13221,
    "start_time": "2022-02-27T07:27:01.435Z"
   },
   {
    "duration": 15945,
    "start_time": "2022-02-27T07:27:14.658Z"
   },
   {
    "duration": 18769,
    "start_time": "2022-02-27T07:27:30.605Z"
   },
   {
    "duration": 26162,
    "start_time": "2022-02-27T07:27:49.377Z"
   },
   {
    "duration": 53,
    "start_time": "2022-02-27T07:28:15.541Z"
   },
   {
    "duration": 1114,
    "start_time": "2022-02-27T07:28:15.677Z"
   },
   {
    "duration": 282,
    "start_time": "2022-02-27T07:28:16.794Z"
   },
   {
    "duration": 8,
    "start_time": "2022-02-27T07:28:17.079Z"
   },
   {
    "duration": 19,
    "start_time": "2022-02-27T07:28:17.089Z"
   },
   {
    "duration": 17,
    "start_time": "2022-02-27T07:28:17.111Z"
   },
   {
    "duration": 43,
    "start_time": "2022-02-27T07:28:17.131Z"
   },
   {
    "duration": 43,
    "start_time": "2022-02-27T07:28:17.177Z"
   },
   {
    "duration": 197,
    "start_time": "2022-02-27T07:28:17.275Z"
   },
   {
    "duration": 200,
    "start_time": "2022-02-27T07:28:17.477Z"
   },
   {
    "duration": 1484,
    "start_time": "2022-02-27T07:28:17.772Z"
   },
   {
    "duration": 624,
    "start_time": "2022-02-27T07:28:19.259Z"
   },
   {
    "duration": 1002,
    "start_time": "2022-02-27T07:28:19.886Z"
   },
   {
    "duration": 62,
    "start_time": "2022-02-27T07:28:20.890Z"
   },
   {
    "duration": 48,
    "start_time": "2022-02-27T07:28:20.954Z"
   },
   {
    "duration": 49,
    "start_time": "2022-02-27T07:28:21.004Z"
   },
   {
    "duration": 1445,
    "start_time": "2022-02-27T07:28:21.074Z"
   },
   {
    "duration": 308,
    "start_time": "2022-02-27T07:28:22.522Z"
   },
   {
    "duration": 8,
    "start_time": "2022-02-27T07:28:22.832Z"
   },
   {
    "duration": 1448,
    "start_time": "2022-02-27T07:28:22.842Z"
   },
   {
    "duration": 81,
    "start_time": "2022-02-27T07:28:24.292Z"
   },
   {
    "duration": 348,
    "start_time": "2022-02-27T07:28:24.375Z"
   },
   {
    "duration": 350,
    "start_time": "2022-02-27T07:28:24.726Z"
   },
   {
    "duration": 306,
    "start_time": "2022-02-27T07:28:25.078Z"
   },
   {
    "duration": 8,
    "start_time": "2022-02-27T07:28:25.386Z"
   },
   {
    "duration": 355,
    "start_time": "2022-02-27T07:28:25.397Z"
   },
   {
    "duration": 319,
    "start_time": "2022-02-27T07:28:25.755Z"
   },
   {
    "duration": 278,
    "start_time": "2022-02-27T07:28:26.076Z"
   },
   {
    "duration": 17,
    "start_time": "2022-02-27T07:28:26.357Z"
   },
   {
    "duration": 32,
    "start_time": "2022-02-27T07:28:26.376Z"
   },
   {
    "duration": 653,
    "start_time": "2022-02-27T07:28:26.410Z"
   },
   {
    "duration": 653,
    "start_time": "2022-02-27T07:34:23.147Z"
   },
   {
    "duration": 620,
    "start_time": "2022-02-27T07:34:42.607Z"
   },
   {
    "duration": 708,
    "start_time": "2022-02-27T07:43:12.157Z"
   },
   {
    "duration": 607,
    "start_time": "2022-02-27T07:43:22.362Z"
   },
   {
    "duration": 732,
    "start_time": "2022-02-27T07:43:56.475Z"
   },
   {
    "duration": 435,
    "start_time": "2022-02-27T07:44:36.986Z"
   },
   {
    "duration": 573,
    "start_time": "2022-02-27T07:44:45.491Z"
   },
   {
    "duration": 552,
    "start_time": "2022-02-27T07:46:26.194Z"
   },
   {
    "duration": 628,
    "start_time": "2022-02-27T07:53:40.858Z"
   },
   {
    "duration": 11,
    "start_time": "2022-02-27T08:05:02.021Z"
   },
   {
    "duration": 638,
    "start_time": "2022-02-27T08:05:32.914Z"
   },
   {
    "duration": 376,
    "start_time": "2022-02-27T08:06:25.386Z"
   },
   {
    "duration": 366,
    "start_time": "2022-02-27T08:06:51.893Z"
   },
   {
    "duration": 382,
    "start_time": "2022-02-27T08:06:57.023Z"
   },
   {
    "duration": 414,
    "start_time": "2022-02-27T08:07:01.538Z"
   },
   {
    "duration": 432,
    "start_time": "2022-02-27T08:07:39.241Z"
   },
   {
    "duration": 454,
    "start_time": "2022-02-27T08:07:47.814Z"
   },
   {
    "duration": 435,
    "start_time": "2022-02-27T08:07:57.901Z"
   },
   {
    "duration": 299,
    "start_time": "2022-02-27T08:08:06.687Z"
   },
   {
    "duration": 299,
    "start_time": "2022-02-27T08:08:11.331Z"
   },
   {
    "duration": 321,
    "start_time": "2022-02-27T08:08:16.940Z"
   },
   {
    "duration": 14191,
    "start_time": "2022-02-27T08:08:44.247Z"
   },
   {
    "duration": 2882,
    "start_time": "2022-02-27T08:08:58.442Z"
   },
   {
    "duration": 3,
    "start_time": "2022-02-27T08:09:01.326Z"
   },
   {
    "duration": 54,
    "start_time": "2022-02-27T08:09:01.332Z"
   },
   {
    "duration": 6993,
    "start_time": "2022-02-27T08:09:01.390Z"
   },
   {
    "duration": 5,
    "start_time": "2022-02-27T08:09:08.386Z"
   },
   {
    "duration": 11,
    "start_time": "2022-02-27T08:09:08.394Z"
   },
   {
    "duration": 27,
    "start_time": "2022-02-27T08:09:08.409Z"
   },
   {
    "duration": 12,
    "start_time": "2022-02-27T08:09:08.474Z"
   },
   {
    "duration": 5366,
    "start_time": "2022-02-27T08:09:08.488Z"
   },
   {
    "duration": 17,
    "start_time": "2022-02-27T08:09:13.856Z"
   },
   {
    "duration": 20,
    "start_time": "2022-02-27T08:09:13.876Z"
   },
   {
    "duration": 16,
    "start_time": "2022-02-27T08:09:13.899Z"
   },
   {
    "duration": 14,
    "start_time": "2022-02-27T08:09:13.918Z"
   },
   {
    "duration": 28,
    "start_time": "2022-02-27T08:09:13.935Z"
   },
   {
    "duration": 26,
    "start_time": "2022-02-27T08:09:13.966Z"
   },
   {
    "duration": 44,
    "start_time": "2022-02-27T08:09:13.995Z"
   },
   {
    "duration": 21,
    "start_time": "2022-02-27T08:09:14.042Z"
   },
   {
    "duration": 20,
    "start_time": "2022-02-27T08:09:14.066Z"
   },
   {
    "duration": 17,
    "start_time": "2022-02-27T08:09:14.089Z"
   },
   {
    "duration": 46,
    "start_time": "2022-02-27T08:09:14.108Z"
   },
   {
    "duration": 27,
    "start_time": "2022-02-27T08:09:14.157Z"
   },
   {
    "duration": 20,
    "start_time": "2022-02-27T08:09:14.193Z"
   },
   {
    "duration": 90,
    "start_time": "2022-02-27T08:09:14.218Z"
   },
   {
    "duration": 8,
    "start_time": "2022-02-27T08:09:14.310Z"
   },
   {
    "duration": 10,
    "start_time": "2022-02-27T08:09:14.320Z"
   },
   {
    "duration": 8,
    "start_time": "2022-02-27T08:09:14.332Z"
   },
   {
    "duration": 36,
    "start_time": "2022-02-27T08:09:14.343Z"
   },
   {
    "duration": 13983,
    "start_time": "2022-02-27T08:09:14.381Z"
   },
   {
    "duration": 17196,
    "start_time": "2022-02-27T08:09:28.374Z"
   },
   {
    "duration": 18992,
    "start_time": "2022-02-27T08:09:45.574Z"
   },
   {
    "duration": 26124,
    "start_time": "2022-02-27T08:10:04.568Z"
   },
   {
    "duration": 81,
    "start_time": "2022-02-27T08:10:30.694Z"
   },
   {
    "duration": 1130,
    "start_time": "2022-02-27T08:10:30.778Z"
   },
   {
    "duration": 288,
    "start_time": "2022-02-27T08:10:31.911Z"
   },
   {
    "duration": 8,
    "start_time": "2022-02-27T08:10:32.201Z"
   },
   {
    "duration": 22,
    "start_time": "2022-02-27T08:10:32.211Z"
   },
   {
    "duration": 40,
    "start_time": "2022-02-27T08:10:32.236Z"
   },
   {
    "duration": 8,
    "start_time": "2022-02-27T08:10:32.279Z"
   },
   {
    "duration": 95,
    "start_time": "2022-02-27T08:10:32.289Z"
   },
   {
    "duration": 100,
    "start_time": "2022-02-27T08:10:32.475Z"
   },
   {
    "duration": 198,
    "start_time": "2022-02-27T08:10:32.578Z"
   },
   {
    "duration": 1550,
    "start_time": "2022-02-27T08:10:32.785Z"
   },
   {
    "duration": 629,
    "start_time": "2022-02-27T08:10:34.338Z"
   },
   {
    "duration": 1014,
    "start_time": "2022-02-27T08:10:34.970Z"
   },
   {
    "duration": 61,
    "start_time": "2022-02-27T08:10:35.986Z"
   },
   {
    "duration": 49,
    "start_time": "2022-02-27T08:10:36.050Z"
   },
   {
    "duration": 72,
    "start_time": "2022-02-27T08:10:36.102Z"
   },
   {
    "duration": 1506,
    "start_time": "2022-02-27T08:10:36.177Z"
   },
   {
    "duration": 290,
    "start_time": "2022-02-27T08:10:37.685Z"
   },
   {
    "duration": 9,
    "start_time": "2022-02-27T08:10:37.977Z"
   },
   {
    "duration": 1581,
    "start_time": "2022-02-27T08:10:37.988Z"
   },
   {
    "duration": 70,
    "start_time": "2022-02-27T08:10:39.574Z"
   },
   {
    "duration": 356,
    "start_time": "2022-02-27T08:10:39.646Z"
   },
   {
    "duration": 272,
    "start_time": "2022-02-27T08:10:40.004Z"
   },
   {
    "duration": 285,
    "start_time": "2022-02-27T08:10:40.278Z"
   },
   {
    "duration": 9,
    "start_time": "2022-02-27T08:10:40.573Z"
   },
   {
    "duration": 347,
    "start_time": "2022-02-27T08:10:40.585Z"
   },
   {
    "duration": 317,
    "start_time": "2022-02-27T08:10:40.935Z"
   },
   {
    "duration": 300,
    "start_time": "2022-02-27T08:10:41.254Z"
   },
   {
    "duration": 24,
    "start_time": "2022-02-27T08:10:41.557Z"
   },
   {
    "duration": 43,
    "start_time": "2022-02-27T08:10:41.584Z"
   },
   {
    "duration": 557,
    "start_time": "2022-02-27T08:10:41.630Z"
   },
   {
    "duration": 557,
    "start_time": "2022-02-27T08:11:01.000Z"
   },
   {
    "duration": 552,
    "start_time": "2022-02-27T08:11:16.907Z"
   },
   {
    "duration": 563,
    "start_time": "2022-02-27T08:12:23.205Z"
   },
   {
    "duration": 562,
    "start_time": "2022-02-27T08:12:43.691Z"
   },
   {
    "duration": 290,
    "start_time": "2022-02-27T08:22:37.067Z"
   },
   {
    "duration": 333,
    "start_time": "2022-02-27T08:24:11.735Z"
   },
   {
    "duration": 330,
    "start_time": "2022-02-27T08:25:12.568Z"
   },
   {
    "duration": 365,
    "start_time": "2022-02-27T08:27:08.968Z"
   },
   {
    "duration": 321,
    "start_time": "2022-02-27T08:27:35.094Z"
   },
   {
    "duration": 444,
    "start_time": "2022-02-27T08:27:43.310Z"
   },
   {
    "duration": 459,
    "start_time": "2022-02-27T08:28:19.129Z"
   },
   {
    "duration": 305,
    "start_time": "2022-02-27T08:29:03.405Z"
   },
   {
    "duration": 278,
    "start_time": "2022-02-27T08:29:54.111Z"
   },
   {
    "duration": 304,
    "start_time": "2022-02-27T08:30:08.069Z"
   },
   {
    "duration": 652,
    "start_time": "2022-02-27T08:39:25.035Z"
   },
   {
    "duration": 280,
    "start_time": "2022-02-27T08:39:31.105Z"
   },
   {
    "duration": 602,
    "start_time": "2022-02-27T08:40:15.809Z"
   },
   {
    "duration": 269,
    "start_time": "2022-02-27T08:40:20.707Z"
   },
   {
    "duration": 706,
    "start_time": "2022-02-27T08:40:43.695Z"
   },
   {
    "duration": 1455,
    "start_time": "2022-02-27T08:40:51.382Z"
   },
   {
    "duration": 326,
    "start_time": "2022-02-27T08:40:54.320Z"
   },
   {
    "duration": 870,
    "start_time": "2022-02-27T08:42:22.426Z"
   },
   {
    "duration": 373,
    "start_time": "2022-02-27T08:42:24.850Z"
   },
   {
    "duration": 622,
    "start_time": "2022-02-27T08:42:27.651Z"
   },
   {
    "duration": 614,
    "start_time": "2022-02-27T08:42:55.767Z"
   },
   {
    "duration": 317,
    "start_time": "2022-02-27T08:42:57.979Z"
   },
   {
    "duration": 389,
    "start_time": "2022-02-27T08:44:36.134Z"
   },
   {
    "duration": 13700,
    "start_time": "2022-02-27T08:44:57.443Z"
   },
   {
    "duration": 3447,
    "start_time": "2022-02-27T08:45:11.146Z"
   },
   {
    "duration": 3,
    "start_time": "2022-02-27T08:45:14.596Z"
   },
   {
    "duration": 41,
    "start_time": "2022-02-27T08:45:14.601Z"
   },
   {
    "duration": 6511,
    "start_time": "2022-02-27T08:45:14.644Z"
   },
   {
    "duration": 16,
    "start_time": "2022-02-27T08:45:21.158Z"
   },
   {
    "duration": 7,
    "start_time": "2022-02-27T08:45:21.178Z"
   },
   {
    "duration": 32,
    "start_time": "2022-02-27T08:45:21.190Z"
   },
   {
    "duration": 56,
    "start_time": "2022-02-27T08:45:21.226Z"
   },
   {
    "duration": 5356,
    "start_time": "2022-02-27T08:45:21.284Z"
   },
   {
    "duration": 6,
    "start_time": "2022-02-27T08:45:26.643Z"
   },
   {
    "duration": 14,
    "start_time": "2022-02-27T08:45:26.652Z"
   },
   {
    "duration": 5,
    "start_time": "2022-02-27T08:45:26.673Z"
   },
   {
    "duration": 4,
    "start_time": "2022-02-27T08:45:26.681Z"
   },
   {
    "duration": 10,
    "start_time": "2022-02-27T08:45:26.688Z"
   },
   {
    "duration": 7,
    "start_time": "2022-02-27T08:45:26.701Z"
   },
   {
    "duration": 22,
    "start_time": "2022-02-27T08:45:26.710Z"
   },
   {
    "duration": 7,
    "start_time": "2022-02-27T08:45:26.734Z"
   },
   {
    "duration": 12,
    "start_time": "2022-02-27T08:45:26.743Z"
   },
   {
    "duration": 17,
    "start_time": "2022-02-27T08:45:26.757Z"
   },
   {
    "duration": 39,
    "start_time": "2022-02-27T08:45:26.777Z"
   },
   {
    "duration": 18,
    "start_time": "2022-02-27T08:45:26.818Z"
   },
   {
    "duration": 23,
    "start_time": "2022-02-27T08:45:26.841Z"
   },
   {
    "duration": 56,
    "start_time": "2022-02-27T08:45:26.867Z"
   },
   {
    "duration": 8,
    "start_time": "2022-02-27T08:45:26.925Z"
   },
   {
    "duration": 8,
    "start_time": "2022-02-27T08:45:26.935Z"
   },
   {
    "duration": 8,
    "start_time": "2022-02-27T08:45:26.945Z"
   },
   {
    "duration": 20,
    "start_time": "2022-02-27T08:45:26.955Z"
   },
   {
    "duration": 13469,
    "start_time": "2022-02-27T08:45:26.977Z"
   },
   {
    "duration": 15749,
    "start_time": "2022-02-27T08:45:40.449Z"
   },
   {
    "duration": 19489,
    "start_time": "2022-02-27T08:45:56.200Z"
   },
   {
    "duration": 26169,
    "start_time": "2022-02-27T08:46:15.692Z"
   },
   {
    "duration": 111,
    "start_time": "2022-02-27T08:46:41.863Z"
   },
   {
    "duration": 719,
    "start_time": "2022-02-27T08:46:41.978Z"
   },
   {
    "duration": 285,
    "start_time": "2022-02-27T08:46:42.700Z"
   },
   {
    "duration": 407,
    "start_time": "2022-02-27T08:46:42.988Z"
   },
   {
    "duration": 1524,
    "start_time": "2022-02-27T08:46:41.873Z"
   },
   {
    "duration": 1509,
    "start_time": "2022-02-27T08:46:41.890Z"
   },
   {
    "duration": 1495,
    "start_time": "2022-02-27T08:46:41.905Z"
   },
   {
    "duration": 1484,
    "start_time": "2022-02-27T08:46:41.918Z"
   },
   {
    "duration": 1475,
    "start_time": "2022-02-27T08:46:41.928Z"
   },
   {
    "duration": 1466,
    "start_time": "2022-02-27T08:46:41.939Z"
   },
   {
    "duration": 1440,
    "start_time": "2022-02-27T08:46:41.966Z"
   },
   {
    "duration": 1430,
    "start_time": "2022-02-27T08:46:41.978Z"
   },
   {
    "duration": 1419,
    "start_time": "2022-02-27T08:46:41.990Z"
   },
   {
    "duration": 1402,
    "start_time": "2022-02-27T08:46:42.009Z"
   },
   {
    "duration": 1390,
    "start_time": "2022-02-27T08:46:42.022Z"
   },
   {
    "duration": 1381,
    "start_time": "2022-02-27T08:46:42.032Z"
   },
   {
    "duration": 1376,
    "start_time": "2022-02-27T08:46:42.039Z"
   },
   {
    "duration": 1365,
    "start_time": "2022-02-27T08:46:42.051Z"
   },
   {
    "duration": 1359,
    "start_time": "2022-02-27T08:46:42.059Z"
   },
   {
    "duration": 1332,
    "start_time": "2022-02-27T08:46:42.087Z"
   },
   {
    "duration": 1323,
    "start_time": "2022-02-27T08:46:42.097Z"
   },
   {
    "duration": 1313,
    "start_time": "2022-02-27T08:46:42.109Z"
   },
   {
    "duration": 1303,
    "start_time": "2022-02-27T08:46:42.120Z"
   },
   {
    "duration": 1295,
    "start_time": "2022-02-27T08:46:42.130Z"
   },
   {
    "duration": 1288,
    "start_time": "2022-02-27T08:46:42.139Z"
   },
   {
    "duration": 1272,
    "start_time": "2022-02-27T08:46:42.156Z"
   },
   {
    "duration": 1258,
    "start_time": "2022-02-27T08:46:42.171Z"
   },
   {
    "duration": 1229,
    "start_time": "2022-02-27T08:46:42.202Z"
   },
   {
    "duration": 1221,
    "start_time": "2022-02-27T08:46:42.211Z"
   },
   {
    "duration": 1208,
    "start_time": "2022-02-27T08:46:42.226Z"
   },
   {
    "duration": 1237,
    "start_time": "2022-02-27T08:46:42.236Z"
   },
   {
    "duration": 586,
    "start_time": "2022-02-27T08:48:06.848Z"
   },
   {
    "duration": 327,
    "start_time": "2022-02-27T08:48:11.336Z"
   },
   {
    "duration": 8,
    "start_time": "2022-02-27T08:48:33.005Z"
   },
   {
    "duration": 9,
    "start_time": "2022-02-27T08:48:50.178Z"
   },
   {
    "duration": 21,
    "start_time": "2022-02-27T08:48:50.190Z"
   },
   {
    "duration": 59,
    "start_time": "2022-02-27T08:48:50.214Z"
   },
   {
    "duration": 11,
    "start_time": "2022-02-27T08:48:50.277Z"
   },
   {
    "duration": 185,
    "start_time": "2022-02-27T08:48:50.291Z"
   },
   {
    "duration": 120,
    "start_time": "2022-02-27T08:48:50.486Z"
   },
   {
    "duration": 189,
    "start_time": "2022-02-27T08:48:50.610Z"
   },
   {
    "duration": 1036,
    "start_time": "2022-02-27T08:48:50.803Z"
   },
   {
    "duration": 442,
    "start_time": "2022-02-27T08:48:51.842Z"
   },
   {
    "duration": 939,
    "start_time": "2022-02-27T08:48:52.287Z"
   },
   {
    "duration": 71,
    "start_time": "2022-02-27T08:48:53.228Z"
   },
   {
    "duration": 33,
    "start_time": "2022-02-27T08:48:53.301Z"
   },
   {
    "duration": 71,
    "start_time": "2022-02-27T08:48:53.336Z"
   },
   {
    "duration": 725,
    "start_time": "2022-02-27T08:48:53.410Z"
   },
   {
    "duration": 357,
    "start_time": "2022-02-27T08:48:54.137Z"
   },
   {
    "duration": 228,
    "start_time": "2022-02-27T08:48:54.497Z"
   },
   {
    "duration": 1527,
    "start_time": "2022-02-27T08:48:53.201Z"
   },
   {
    "duration": 1519,
    "start_time": "2022-02-27T08:48:53.210Z"
   },
   {
    "duration": 1509,
    "start_time": "2022-02-27T08:48:53.222Z"
   },
   {
    "duration": 1501,
    "start_time": "2022-02-27T08:48:53.231Z"
   },
   {
    "duration": 1495,
    "start_time": "2022-02-27T08:48:53.239Z"
   },
   {
    "duration": 1472,
    "start_time": "2022-02-27T08:48:53.263Z"
   },
   {
    "duration": 1464,
    "start_time": "2022-02-27T08:48:53.272Z"
   },
   {
    "duration": 1455,
    "start_time": "2022-02-27T08:48:53.283Z"
   },
   {
    "duration": 1447,
    "start_time": "2022-02-27T08:48:53.292Z"
   },
   {
    "duration": 1441,
    "start_time": "2022-02-27T08:48:53.300Z"
   },
   {
    "duration": 1433,
    "start_time": "2022-02-27T08:48:53.309Z"
   },
   {
    "duration": 1427,
    "start_time": "2022-02-27T08:48:53.317Z"
   },
   {
    "duration": 859,
    "start_time": "2022-02-27T08:49:24.110Z"
   },
   {
    "duration": 551,
    "start_time": "2022-02-27T08:49:26.572Z"
   },
   {
    "duration": 883,
    "start_time": "2022-02-27T08:49:29.079Z"
   },
   {
    "duration": 11,
    "start_time": "2022-02-27T08:50:25.894Z"
   },
   {
    "duration": 369,
    "start_time": "2022-02-27T08:52:16.329Z"
   },
   {
    "duration": 348,
    "start_time": "2022-02-27T08:52:18.544Z"
   },
   {
    "duration": 719,
    "start_time": "2022-02-27T08:52:31.613Z"
   },
   {
    "duration": 276,
    "start_time": "2022-02-27T08:52:33.312Z"
   },
   {
    "duration": 364,
    "start_time": "2022-02-27T08:52:40.382Z"
   },
   {
    "duration": 331,
    "start_time": "2022-02-27T08:52:41.875Z"
   },
   {
    "duration": 13194,
    "start_time": "2022-02-27T08:53:10.903Z"
   },
   {
    "duration": 2878,
    "start_time": "2022-02-27T08:53:24.099Z"
   },
   {
    "duration": 3,
    "start_time": "2022-02-27T08:53:26.980Z"
   },
   {
    "duration": 44,
    "start_time": "2022-02-27T08:53:26.985Z"
   },
   {
    "duration": 6850,
    "start_time": "2022-02-27T08:53:27.031Z"
   },
   {
    "duration": 6,
    "start_time": "2022-02-27T08:53:33.883Z"
   },
   {
    "duration": 19,
    "start_time": "2022-02-27T08:53:33.892Z"
   },
   {
    "duration": 37,
    "start_time": "2022-02-27T08:53:33.915Z"
   },
   {
    "duration": 30,
    "start_time": "2022-02-27T08:53:33.955Z"
   },
   {
    "duration": 5390,
    "start_time": "2022-02-27T08:53:33.988Z"
   },
   {
    "duration": 6,
    "start_time": "2022-02-27T08:53:39.381Z"
   },
   {
    "duration": 23,
    "start_time": "2022-02-27T08:53:39.389Z"
   },
   {
    "duration": 19,
    "start_time": "2022-02-27T08:53:39.414Z"
   },
   {
    "duration": 17,
    "start_time": "2022-02-27T08:53:39.436Z"
   },
   {
    "duration": 20,
    "start_time": "2022-02-27T08:53:39.455Z"
   },
   {
    "duration": 10,
    "start_time": "2022-02-27T08:53:39.478Z"
   },
   {
    "duration": 39,
    "start_time": "2022-02-27T08:53:39.490Z"
   },
   {
    "duration": 13,
    "start_time": "2022-02-27T08:53:39.532Z"
   },
   {
    "duration": 26,
    "start_time": "2022-02-27T08:53:39.547Z"
   },
   {
    "duration": 16,
    "start_time": "2022-02-27T08:53:39.576Z"
   },
   {
    "duration": 43,
    "start_time": "2022-02-27T08:53:39.594Z"
   },
   {
    "duration": 17,
    "start_time": "2022-02-27T08:53:39.639Z"
   },
   {
    "duration": 18,
    "start_time": "2022-02-27T08:53:39.676Z"
   },
   {
    "duration": 76,
    "start_time": "2022-02-27T08:53:39.697Z"
   },
   {
    "duration": 9,
    "start_time": "2022-02-27T08:53:39.775Z"
   },
   {
    "duration": 8,
    "start_time": "2022-02-27T08:53:39.787Z"
   },
   {
    "duration": 9,
    "start_time": "2022-02-27T08:53:39.797Z"
   },
   {
    "duration": 7,
    "start_time": "2022-02-27T08:53:39.809Z"
   },
   {
    "duration": 13420,
    "start_time": "2022-02-27T08:53:39.818Z"
   },
   {
    "duration": 15874,
    "start_time": "2022-02-27T08:53:53.241Z"
   },
   {
    "duration": 17902,
    "start_time": "2022-02-27T08:54:09.118Z"
   },
   {
    "duration": 26747,
    "start_time": "2022-02-27T08:54:27.022Z"
   },
   {
    "duration": 104,
    "start_time": "2022-02-27T08:54:53.773Z"
   },
   {
    "duration": 707,
    "start_time": "2022-02-27T08:54:53.881Z"
   },
   {
    "duration": 288,
    "start_time": "2022-02-27T08:54:54.591Z"
   },
   {
    "duration": 9,
    "start_time": "2022-02-27T08:54:54.881Z"
   },
   {
    "duration": 19,
    "start_time": "2022-02-27T08:54:54.892Z"
   },
   {
    "duration": 18,
    "start_time": "2022-02-27T08:54:54.913Z"
   },
   {
    "duration": 41,
    "start_time": "2022-02-27T08:54:54.933Z"
   },
   {
    "duration": 97,
    "start_time": "2022-02-27T08:54:54.977Z"
   },
   {
    "duration": 115,
    "start_time": "2022-02-27T08:54:55.077Z"
   },
   {
    "duration": 205,
    "start_time": "2022-02-27T08:54:55.195Z"
   },
   {
    "duration": 946,
    "start_time": "2022-02-27T08:54:55.475Z"
   },
   {
    "duration": 378,
    "start_time": "2022-02-27T08:54:56.424Z"
   },
   {
    "duration": 598,
    "start_time": "2022-02-27T08:54:56.804Z"
   },
   {
    "duration": 73,
    "start_time": "2022-02-27T08:54:57.404Z"
   },
   {
    "duration": 32,
    "start_time": "2022-02-27T08:54:57.479Z"
   },
   {
    "duration": 74,
    "start_time": "2022-02-27T08:54:57.514Z"
   },
   {
    "duration": 383,
    "start_time": "2022-02-27T08:54:57.591Z"
   },
   {
    "duration": 331,
    "start_time": "2022-02-27T08:54:57.977Z"
   },
   {
    "duration": 10,
    "start_time": "2022-02-27T08:54:58.310Z"
   },
   {
    "duration": 1488,
    "start_time": "2022-02-27T08:54:58.323Z"
   },
   {
    "duration": 83,
    "start_time": "2022-02-27T08:54:59.814Z"
   },
   {
    "duration": 355,
    "start_time": "2022-02-27T08:54:59.899Z"
   },
   {
    "duration": 316,
    "start_time": "2022-02-27T08:55:00.257Z"
   },
   {
    "duration": 297,
    "start_time": "2022-02-27T08:55:00.576Z"
   },
   {
    "duration": 8,
    "start_time": "2022-02-27T08:55:00.876Z"
   },
   {
    "duration": 345,
    "start_time": "2022-02-27T08:55:00.886Z"
   },
   {
    "duration": 351,
    "start_time": "2022-02-27T08:55:01.233Z"
   },
   {
    "duration": 331,
    "start_time": "2022-02-27T08:55:01.586Z"
   },
   {
    "duration": 9,
    "start_time": "2022-02-27T08:55:01.919Z"
   },
   {
    "duration": 52,
    "start_time": "2022-02-27T08:55:01.930Z"
   },
   {
    "duration": 674,
    "start_time": "2022-02-27T08:55:01.985Z"
   },
   {
    "duration": 34,
    "start_time": "2022-02-28T12:16:32.861Z"
   },
   {
    "duration": 573,
    "start_time": "2022-02-28T12:16:36.184Z"
   },
   {
    "duration": 448,
    "start_time": "2022-03-02T07:58:15.716Z"
   },
   {
    "duration": 562,
    "start_time": "2022-03-02T07:58:35.399Z"
   },
   {
    "duration": 601,
    "start_time": "2022-03-02T07:58:38.882Z"
   },
   {
    "duration": 567,
    "start_time": "2022-03-02T07:58:55.712Z"
   },
   {
    "duration": 561,
    "start_time": "2022-03-02T07:59:10.458Z"
   },
   {
    "duration": 592,
    "start_time": "2022-03-02T07:59:17.467Z"
   },
   {
    "duration": 568,
    "start_time": "2022-03-02T08:00:57.994Z"
   },
   {
    "duration": 8,
    "start_time": "2022-03-05T20:27:07.385Z"
   },
   {
    "duration": 252,
    "start_time": "2022-03-05T20:28:02.606Z"
   },
   {
    "duration": 4796,
    "start_time": "2022-03-05T20:28:20.205Z"
   },
   {
    "duration": 13813,
    "start_time": "2022-03-05T20:28:58.806Z"
   },
   {
    "duration": 4785,
    "start_time": "2022-03-05T20:29:12.623Z"
   },
   {
    "duration": 3,
    "start_time": "2022-03-05T20:29:17.411Z"
   },
   {
    "duration": 75,
    "start_time": "2022-03-05T20:29:17.416Z"
   },
   {
    "duration": 7005,
    "start_time": "2022-03-05T20:29:17.493Z"
   },
   {
    "duration": 6,
    "start_time": "2022-03-05T20:29:24.501Z"
   },
   {
    "duration": 7,
    "start_time": "2022-03-05T20:29:24.509Z"
   },
   {
    "duration": 25,
    "start_time": "2022-03-05T20:29:24.521Z"
   },
   {
    "duration": 11,
    "start_time": "2022-03-05T20:29:24.549Z"
   },
   {
    "duration": 5474,
    "start_time": "2022-03-05T20:29:24.562Z"
   },
   {
    "duration": 8,
    "start_time": "2022-03-05T20:29:30.038Z"
   },
   {
    "duration": 30,
    "start_time": "2022-03-05T20:29:30.049Z"
   },
   {
    "duration": 13,
    "start_time": "2022-03-05T20:29:30.082Z"
   },
   {
    "duration": 9,
    "start_time": "2022-03-05T20:29:30.097Z"
   },
   {
    "duration": 29,
    "start_time": "2022-03-05T20:29:30.109Z"
   },
   {
    "duration": 21,
    "start_time": "2022-03-05T20:29:30.141Z"
   },
   {
    "duration": 36,
    "start_time": "2022-03-05T20:29:30.164Z"
   },
   {
    "duration": 21,
    "start_time": "2022-03-05T20:29:30.202Z"
   },
   {
    "duration": 26,
    "start_time": "2022-03-05T20:29:30.225Z"
   },
   {
    "duration": 18,
    "start_time": "2022-03-05T20:29:30.254Z"
   },
   {
    "duration": 64,
    "start_time": "2022-03-05T20:29:30.275Z"
   },
   {
    "duration": 20,
    "start_time": "2022-03-05T20:29:30.341Z"
   },
   {
    "duration": 20,
    "start_time": "2022-03-05T20:29:30.376Z"
   },
   {
    "duration": 74,
    "start_time": "2022-03-05T20:29:30.400Z"
   },
   {
    "duration": 10,
    "start_time": "2022-03-05T20:29:30.477Z"
   },
   {
    "duration": 14,
    "start_time": "2022-03-05T20:29:30.489Z"
   },
   {
    "duration": 31,
    "start_time": "2022-03-05T20:29:30.505Z"
   },
   {
    "duration": 20,
    "start_time": "2022-03-05T20:29:30.539Z"
   },
   {
    "duration": 13674,
    "start_time": "2022-03-05T20:29:30.561Z"
   },
   {
    "duration": 17671,
    "start_time": "2022-03-05T20:29:44.237Z"
   },
   {
    "duration": 18580,
    "start_time": "2022-03-05T20:30:01.910Z"
   },
   {
    "duration": 25825,
    "start_time": "2022-03-05T20:30:20.493Z"
   },
   {
    "duration": 61,
    "start_time": "2022-03-05T20:30:46.321Z"
   },
   {
    "duration": 713,
    "start_time": "2022-03-05T20:30:46.475Z"
   },
   {
    "duration": 309,
    "start_time": "2022-03-05T20:30:47.191Z"
   },
   {
    "duration": 8,
    "start_time": "2022-03-05T20:30:47.503Z"
   },
   {
    "duration": 18,
    "start_time": "2022-03-05T20:30:47.514Z"
   },
   {
    "duration": 49,
    "start_time": "2022-03-05T20:30:47.534Z"
   },
   {
    "duration": 8,
    "start_time": "2022-03-05T20:30:47.585Z"
   },
   {
    "duration": 88,
    "start_time": "2022-03-05T20:30:47.596Z"
   },
   {
    "duration": 115,
    "start_time": "2022-03-05T20:30:47.776Z"
   },
   {
    "duration": 279,
    "start_time": "2022-03-05T20:30:47.894Z"
   },
   {
    "duration": 975,
    "start_time": "2022-03-05T20:30:48.177Z"
   },
   {
    "duration": 386,
    "start_time": "2022-03-05T20:30:49.154Z"
   },
   {
    "duration": 617,
    "start_time": "2022-03-05T20:30:49.542Z"
   },
   {
    "duration": 69,
    "start_time": "2022-03-05T20:30:50.161Z"
   },
   {
    "duration": 53,
    "start_time": "2022-03-05T20:30:50.232Z"
   },
   {
    "duration": 54,
    "start_time": "2022-03-05T20:30:50.288Z"
   },
   {
    "duration": 398,
    "start_time": "2022-03-05T20:30:50.345Z"
   },
   {
    "duration": 383,
    "start_time": "2022-03-05T20:30:50.746Z"
   },
   {
    "duration": 8,
    "start_time": "2022-03-05T20:30:51.132Z"
   },
   {
    "duration": 1561,
    "start_time": "2022-03-05T20:30:51.143Z"
   },
   {
    "duration": 90,
    "start_time": "2022-03-05T20:30:52.707Z"
   },
   {
    "duration": 353,
    "start_time": "2022-03-05T20:30:52.800Z"
   },
   {
    "duration": 333,
    "start_time": "2022-03-05T20:30:53.156Z"
   },
   {
    "duration": 288,
    "start_time": "2022-03-05T20:30:53.491Z"
   },
   {
    "duration": 9,
    "start_time": "2022-03-05T20:30:53.781Z"
   },
   {
    "duration": 358,
    "start_time": "2022-03-05T20:30:53.793Z"
   },
   {
    "duration": 338,
    "start_time": "2022-03-05T20:30:54.154Z"
   },
   {
    "duration": 323,
    "start_time": "2022-03-05T20:30:54.495Z"
   },
   {
    "duration": 9,
    "start_time": "2022-03-05T20:30:54.820Z"
   },
   {
    "duration": 54,
    "start_time": "2022-03-05T20:30:54.832Z"
   },
   {
    "duration": 672,
    "start_time": "2022-03-05T20:30:54.889Z"
   },
   {
    "duration": 354,
    "start_time": "2022-03-05T20:31:32.368Z"
   },
   {
    "duration": 233555,
    "start_time": "2022-03-05T20:32:58.169Z"
   },
   {
    "duration": 59943,
    "start_time": "2022-03-11T11:15:42.403Z"
   },
   {
    "duration": 3509,
    "start_time": "2022-03-11T15:23:43.314Z"
   },
   {
    "duration": 47,
    "start_time": "2022-03-11T15:24:15.490Z"
   },
   {
    "duration": 5278,
    "start_time": "2022-03-11T15:24:20.827Z"
   },
   {
    "duration": 4,
    "start_time": "2022-03-11T15:25:30.629Z"
   }
  ],
  "kernelspec": {
   "display_name": "Python 3",
   "language": "python",
   "name": "python3"
  },
  "language_info": {
   "codemirror_mode": {
    "name": "ipython",
    "version": 3
   },
   "file_extension": ".py",
   "mimetype": "text/x-python",
   "name": "python",
   "nbconvert_exporter": "python",
   "pygments_lexer": "ipython3",
   "version": "3.8.8"
  },
  "toc": {
   "base_numbering": 1,
   "nav_menu": {},
   "number_sections": true,
   "sideBar": true,
   "skip_h1_title": true,
   "title_cell": "Содержание",
   "title_sidebar": "Contents",
   "toc_cell": true,
   "toc_position": {
    "height": "calc(100% - 180px)",
    "left": "10px",
    "top": "150px",
    "width": "287px"
   },
   "toc_section_display": true,
   "toc_window_display": true
  }
 },
 "nbformat": 4,
 "nbformat_minor": 2
}
