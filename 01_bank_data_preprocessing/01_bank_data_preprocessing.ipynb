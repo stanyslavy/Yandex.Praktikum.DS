{
 "cells": [
  {
   "cell_type": "markdown",
   "metadata": {},
   "source": [
    "# Исследование надёжности заёмщиков\n",
    "\n",
    "Заказчик — кредитный отдел банка. Нужно разобраться, влияет ли семейное положение и количество детей клиента на факт погашения кредита в срок. Входные данные от банка — статистика о платёжеспособности клиентов.\n",
    "\n",
    "Результаты исследования будут учтены при построении модели **кредитного скоринга** — специальной системы, которая оценивает способность потенциального заёмщика вернуть кредит банку."
   ]
  },
  {
   "cell_type": "markdown",
   "metadata": {},
   "source": [
    "**Описание данных**\n",
    "* children — количество детей в семье\n",
    "* days_employed — общий трудовой стаж в днях\n",
    "* dob_years — возраст клиента в годах\n",
    "* education — уровень образования клиента\n",
    "* education_id — идентификатор уровня образования\n",
    "* family_status — семейное положение\n",
    "* family_status_id — идентификатор семейного положения\n",
    "* gender — пол клиента\n",
    "* income_type — тип занятости\n",
    "* debt — имел ли задолженность по возврату кредитов\n",
    "* total_income — ежемесячный доход\n",
    "* purpose — цель получения кредита"
   ]
  },
  {
   "cell_type": "markdown",
   "metadata": {},
   "source": [
    "## Шаг 1. Откроем файл с данными и изучим общую информацию"
   ]
  },
  {
   "cell_type": "code",
   "execution_count": 85,
   "metadata": {
    "scrolled": true
   },
   "outputs": [
    {
     "data": {
      "text/html": [
       "<div>\n",
       "<style scoped>\n",
       "    .dataframe tbody tr th:only-of-type {\n",
       "        vertical-align: middle;\n",
       "    }\n",
       "\n",
       "    .dataframe tbody tr th {\n",
       "        vertical-align: top;\n",
       "    }\n",
       "\n",
       "    .dataframe thead th {\n",
       "        text-align: right;\n",
       "    }\n",
       "</style>\n",
       "<table border=\"1\" class=\"dataframe\">\n",
       "  <thead>\n",
       "    <tr style=\"text-align: right;\">\n",
       "      <th></th>\n",
       "      <th>children</th>\n",
       "      <th>days_employed</th>\n",
       "      <th>dob_years</th>\n",
       "      <th>education</th>\n",
       "      <th>education_id</th>\n",
       "      <th>family_status</th>\n",
       "      <th>family_status_id</th>\n",
       "      <th>gender</th>\n",
       "      <th>income_type</th>\n",
       "      <th>debt</th>\n",
       "      <th>total_income</th>\n",
       "      <th>purpose</th>\n",
       "    </tr>\n",
       "  </thead>\n",
       "  <tbody>\n",
       "    <tr>\n",
       "      <th>0</th>\n",
       "      <td>1</td>\n",
       "      <td>-8437.673028</td>\n",
       "      <td>42</td>\n",
       "      <td>высшее</td>\n",
       "      <td>0</td>\n",
       "      <td>женат / замужем</td>\n",
       "      <td>0</td>\n",
       "      <td>F</td>\n",
       "      <td>сотрудник</td>\n",
       "      <td>0</td>\n",
       "      <td>253875.639453</td>\n",
       "      <td>покупка жилья</td>\n",
       "    </tr>\n",
       "    <tr>\n",
       "      <th>1</th>\n",
       "      <td>1</td>\n",
       "      <td>-4024.803754</td>\n",
       "      <td>36</td>\n",
       "      <td>среднее</td>\n",
       "      <td>1</td>\n",
       "      <td>женат / замужем</td>\n",
       "      <td>0</td>\n",
       "      <td>F</td>\n",
       "      <td>сотрудник</td>\n",
       "      <td>0</td>\n",
       "      <td>112080.014102</td>\n",
       "      <td>приобретение автомобиля</td>\n",
       "    </tr>\n",
       "    <tr>\n",
       "      <th>2</th>\n",
       "      <td>0</td>\n",
       "      <td>-5623.422610</td>\n",
       "      <td>33</td>\n",
       "      <td>Среднее</td>\n",
       "      <td>1</td>\n",
       "      <td>женат / замужем</td>\n",
       "      <td>0</td>\n",
       "      <td>M</td>\n",
       "      <td>сотрудник</td>\n",
       "      <td>0</td>\n",
       "      <td>145885.952297</td>\n",
       "      <td>покупка жилья</td>\n",
       "    </tr>\n",
       "    <tr>\n",
       "      <th>3</th>\n",
       "      <td>3</td>\n",
       "      <td>-4124.747207</td>\n",
       "      <td>32</td>\n",
       "      <td>среднее</td>\n",
       "      <td>1</td>\n",
       "      <td>женат / замужем</td>\n",
       "      <td>0</td>\n",
       "      <td>M</td>\n",
       "      <td>сотрудник</td>\n",
       "      <td>0</td>\n",
       "      <td>267628.550329</td>\n",
       "      <td>дополнительное образование</td>\n",
       "    </tr>\n",
       "    <tr>\n",
       "      <th>4</th>\n",
       "      <td>0</td>\n",
       "      <td>340266.072047</td>\n",
       "      <td>53</td>\n",
       "      <td>среднее</td>\n",
       "      <td>1</td>\n",
       "      <td>гражданский брак</td>\n",
       "      <td>1</td>\n",
       "      <td>F</td>\n",
       "      <td>пенсионер</td>\n",
       "      <td>0</td>\n",
       "      <td>158616.077870</td>\n",
       "      <td>сыграть свадьбу</td>\n",
       "    </tr>\n",
       "  </tbody>\n",
       "</table>\n",
       "</div>"
      ],
      "text/plain": [
       "   children  days_employed  dob_years education  education_id  \\\n",
       "0         1   -8437.673028         42    высшее             0   \n",
       "1         1   -4024.803754         36   среднее             1   \n",
       "2         0   -5623.422610         33   Среднее             1   \n",
       "3         3   -4124.747207         32   среднее             1   \n",
       "4         0  340266.072047         53   среднее             1   \n",
       "\n",
       "      family_status  family_status_id gender income_type  debt   total_income  \\\n",
       "0   женат / замужем                 0      F   сотрудник     0  253875.639453   \n",
       "1   женат / замужем                 0      F   сотрудник     0  112080.014102   \n",
       "2   женат / замужем                 0      M   сотрудник     0  145885.952297   \n",
       "3   женат / замужем                 0      M   сотрудник     0  267628.550329   \n",
       "4  гражданский брак                 1      F   пенсионер     0  158616.077870   \n",
       "\n",
       "                      purpose  \n",
       "0               покупка жилья  \n",
       "1     приобретение автомобиля  \n",
       "2               покупка жилья  \n",
       "3  дополнительное образование  \n",
       "4             сыграть свадьбу  "
      ]
     },
     "execution_count": 85,
     "metadata": {},
     "output_type": "execute_result"
    }
   ],
   "source": [
    "# Импортируем библиотеку pandas, запишем содержимое файла csv в датафрейм df\n",
    "\n",
    "import pandas as pd \n",
    "import numpy as np\n",
    "import matplotlib.pyplot as plt\n",
    "from matplotlib import colors\n",
    "df = pd.read_csv('/datasets/data.csv')\n",
    "df.head()"
   ]
  },
  {
   "cell_type": "code",
   "execution_count": 2,
   "metadata": {},
   "outputs": [
    {
     "name": "stdout",
     "output_type": "stream",
     "text": [
      "<class 'pandas.core.frame.DataFrame'>\n",
      "RangeIndex: 21525 entries, 0 to 21524\n",
      "Data columns (total 12 columns):\n",
      " #   Column            Non-Null Count  Dtype  \n",
      "---  ------            --------------  -----  \n",
      " 0   children          21525 non-null  int64  \n",
      " 1   days_employed     19351 non-null  float64\n",
      " 2   dob_years         21525 non-null  int64  \n",
      " 3   education         21525 non-null  object \n",
      " 4   education_id      21525 non-null  int64  \n",
      " 5   family_status     21525 non-null  object \n",
      " 6   family_status_id  21525 non-null  int64  \n",
      " 7   gender            21525 non-null  object \n",
      " 8   income_type       21525 non-null  object \n",
      " 9   debt              21525 non-null  int64  \n",
      " 10  total_income      19351 non-null  float64\n",
      " 11  purpose           21525 non-null  object \n",
      "dtypes: float64(2), int64(5), object(5)\n",
      "memory usage: 2.0+ MB\n"
     ]
    }
   ],
   "source": [
    "df.info()"
   ]
  },
  {
   "cell_type": "markdown",
   "metadata": {},
   "source": [
    "**Вывод**"
   ]
  },
  {
   "cell_type": "markdown",
   "metadata": {},
   "source": [
    "* Имеем датафрейм из 21525 строк и 12 колонок. \n",
    "* Типы данных: 2 колонки - вещественный, 5 - целочисленный, 5 - строковый. \n",
    "* В колонках days_employed и total_income количество строк меньше, значит там будем искать пропуски. \n",
    "* Названия колонок в целом соответствуют правилам, хотя колонку с возрастом dob_years лучше переименовать в age, debt  - в debt_status, days_employed - employed. Видим, что в этой колонке присутствуют аномалии в виде отрицательных значений, наличия знаков после точки и слишком высоких значений. \n",
    "* Данные общего ежемесячного дохода в total_income следует также округлить. \n",
    "* Колонки education и family_status лучше вынести в отдельные таблицы и убрать из основного датафрейма."
   ]
  },
  {
   "cell_type": "markdown",
   "metadata": {},
   "source": [
    "## Шаг 2. Предобработка данных"
   ]
  },
  {
   "cell_type": "markdown",
   "metadata": {},
   "source": [
    "### Общая обработка "
   ]
  },
  {
   "cell_type": "markdown",
   "metadata": {},
   "source": [
    "#### Переименуем колонки датафрейма"
   ]
  },
  {
   "cell_type": "code",
   "execution_count": 3,
   "metadata": {
    "scrolled": false
   },
   "outputs": [
    {
     "data": {
      "text/html": [
       "<div>\n",
       "<style scoped>\n",
       "    .dataframe tbody tr th:only-of-type {\n",
       "        vertical-align: middle;\n",
       "    }\n",
       "\n",
       "    .dataframe tbody tr th {\n",
       "        vertical-align: top;\n",
       "    }\n",
       "\n",
       "    .dataframe thead th {\n",
       "        text-align: right;\n",
       "    }\n",
       "</style>\n",
       "<table border=\"1\" class=\"dataframe\">\n",
       "  <thead>\n",
       "    <tr style=\"text-align: right;\">\n",
       "      <th></th>\n",
       "      <th>0</th>\n",
       "    </tr>\n",
       "  </thead>\n",
       "  <tbody>\n",
       "    <tr>\n",
       "      <th>children</th>\n",
       "      <td>children</td>\n",
       "    </tr>\n",
       "    <tr>\n",
       "      <th>employed</th>\n",
       "      <td>employed</td>\n",
       "    </tr>\n",
       "    <tr>\n",
       "      <th>age</th>\n",
       "      <td>age</td>\n",
       "    </tr>\n",
       "    <tr>\n",
       "      <th>education</th>\n",
       "      <td>education</td>\n",
       "    </tr>\n",
       "    <tr>\n",
       "      <th>education_id</th>\n",
       "      <td>education_id</td>\n",
       "    </tr>\n",
       "    <tr>\n",
       "      <th>family_status</th>\n",
       "      <td>family_status</td>\n",
       "    </tr>\n",
       "    <tr>\n",
       "      <th>family_status_id</th>\n",
       "      <td>family_status_id</td>\n",
       "    </tr>\n",
       "    <tr>\n",
       "      <th>gender</th>\n",
       "      <td>gender</td>\n",
       "    </tr>\n",
       "    <tr>\n",
       "      <th>income_type</th>\n",
       "      <td>income_type</td>\n",
       "    </tr>\n",
       "    <tr>\n",
       "      <th>debt_status</th>\n",
       "      <td>debt_status</td>\n",
       "    </tr>\n",
       "    <tr>\n",
       "      <th>total_income</th>\n",
       "      <td>total_income</td>\n",
       "    </tr>\n",
       "    <tr>\n",
       "      <th>purpose</th>\n",
       "      <td>purpose</td>\n",
       "    </tr>\n",
       "  </tbody>\n",
       "</table>\n",
       "</div>"
      ],
      "text/plain": [
       "                                 0\n",
       "children                  children\n",
       "employed                  employed\n",
       "age                            age\n",
       "education                education\n",
       "education_id          education_id\n",
       "family_status        family_status\n",
       "family_status_id  family_status_id\n",
       "gender                      gender\n",
       "income_type            income_type\n",
       "debt_status            debt_status\n",
       "total_income          total_income\n",
       "purpose                    purpose"
      ]
     },
     "execution_count": 3,
     "metadata": {},
     "output_type": "execute_result"
    }
   ],
   "source": [
    "df.set_axis(['children', 'employed', 'age', 'education', 'education_id', 'family_status', \n",
    "             'family_status_id', 'gender', 'income_type', 'debt_status', 'total_income', 'purpose'], axis=1, inplace=True)\n",
    "df.columns.to_frame()"
   ]
  },
  {
   "cell_type": "markdown",
   "metadata": {},
   "source": [
    "### Обработка пропусков"
   ]
  },
  {
   "cell_type": "markdown",
   "metadata": {},
   "source": [
    "#### Исследуем аномалии во всех колонках и пропуски в колонках employed и total_income\n",
    "##### Колонка children"
   ]
  },
  {
   "cell_type": "code",
   "execution_count": 4,
   "metadata": {
    "scrolled": false
   },
   "outputs": [
    {
     "data": {
      "text/html": [
       "<div>\n",
       "<style scoped>\n",
       "    .dataframe tbody tr th:only-of-type {\n",
       "        vertical-align: middle;\n",
       "    }\n",
       "\n",
       "    .dataframe tbody tr th {\n",
       "        vertical-align: top;\n",
       "    }\n",
       "\n",
       "    .dataframe thead th {\n",
       "        text-align: right;\n",
       "    }\n",
       "</style>\n",
       "<table border=\"1\" class=\"dataframe\">\n",
       "  <thead>\n",
       "    <tr style=\"text-align: right;\">\n",
       "      <th></th>\n",
       "      <th>children</th>\n",
       "    </tr>\n",
       "  </thead>\n",
       "  <tbody>\n",
       "    <tr>\n",
       "      <th>0</th>\n",
       "      <td>14149</td>\n",
       "    </tr>\n",
       "    <tr>\n",
       "      <th>1</th>\n",
       "      <td>4818</td>\n",
       "    </tr>\n",
       "    <tr>\n",
       "      <th>2</th>\n",
       "      <td>2055</td>\n",
       "    </tr>\n",
       "    <tr>\n",
       "      <th>3</th>\n",
       "      <td>330</td>\n",
       "    </tr>\n",
       "    <tr>\n",
       "      <th>20</th>\n",
       "      <td>76</td>\n",
       "    </tr>\n",
       "    <tr>\n",
       "      <th>-1</th>\n",
       "      <td>47</td>\n",
       "    </tr>\n",
       "    <tr>\n",
       "      <th>4</th>\n",
       "      <td>41</td>\n",
       "    </tr>\n",
       "    <tr>\n",
       "      <th>5</th>\n",
       "      <td>9</td>\n",
       "    </tr>\n",
       "  </tbody>\n",
       "</table>\n",
       "</div>"
      ],
      "text/plain": [
       "     children\n",
       " 0      14149\n",
       " 1       4818\n",
       " 2       2055\n",
       " 3        330\n",
       " 20        76\n",
       "-1         47\n",
       " 4         41\n",
       " 5          9"
      ]
     },
     "execution_count": 4,
     "metadata": {},
     "output_type": "execute_result"
    }
   ],
   "source": [
    "# Частотное разложение уникальных значений в колонке children\n",
    "\n",
    "df['children'].value_counts().to_frame() "
   ]
  },
  {
   "cell_type": "markdown",
   "metadata": {},
   "source": [
    "Обращаем внимание на аномальные значения количества детей в семье: \"-1\" и \"20\". "
   ]
  },
  {
   "cell_type": "markdown",
   "metadata": {},
   "source": [
    "Так как эта метрика имеет ключевое значение для целей исселедования, ошибочные выбросы в ней могут серьезно на него повлиять. Значения \"20\" нужно заменить на \"2\", а \"-1\" на \"1\", либо все ошибки заменить на медианное значение \"0\". Третий вариант: целиком убрать строки с ошибочными данными, так как ошибка имеет случайный характер и составляет 123 / 21 525 * 100% = 0,6%, следовательно удаление данных не повлияет на исследование и данными можно пренебречь. Склоняюсь к первому варианту. "
   ]
  },
  {
   "cell_type": "code",
   "execution_count": 5,
   "metadata": {},
   "outputs": [
    {
     "data": {
      "text/html": [
       "<div>\n",
       "<style scoped>\n",
       "    .dataframe tbody tr th:only-of-type {\n",
       "        vertical-align: middle;\n",
       "    }\n",
       "\n",
       "    .dataframe tbody tr th {\n",
       "        vertical-align: top;\n",
       "    }\n",
       "\n",
       "    .dataframe thead th {\n",
       "        text-align: right;\n",
       "    }\n",
       "</style>\n",
       "<table border=\"1\" class=\"dataframe\">\n",
       "  <thead>\n",
       "    <tr style=\"text-align: right;\">\n",
       "      <th></th>\n",
       "      <th>children</th>\n",
       "    </tr>\n",
       "  </thead>\n",
       "  <tbody>\n",
       "    <tr>\n",
       "      <th>0</th>\n",
       "      <td>14149</td>\n",
       "    </tr>\n",
       "    <tr>\n",
       "      <th>1</th>\n",
       "      <td>4865</td>\n",
       "    </tr>\n",
       "    <tr>\n",
       "      <th>2</th>\n",
       "      <td>2131</td>\n",
       "    </tr>\n",
       "    <tr>\n",
       "      <th>3</th>\n",
       "      <td>330</td>\n",
       "    </tr>\n",
       "    <tr>\n",
       "      <th>4</th>\n",
       "      <td>41</td>\n",
       "    </tr>\n",
       "    <tr>\n",
       "      <th>5</th>\n",
       "      <td>9</td>\n",
       "    </tr>\n",
       "  </tbody>\n",
       "</table>\n",
       "</div>"
      ],
      "text/plain": [
       "   children\n",
       "0     14149\n",
       "1      4865\n",
       "2      2131\n",
       "3       330\n",
       "4        41\n",
       "5         9"
      ]
     },
     "execution_count": 5,
     "metadata": {},
     "output_type": "execute_result"
    }
   ],
   "source": [
    "# Первый вариант с заменой\n",
    "\n",
    "df.loc[df['children'] == 20, 'children'] = 2\n",
    "df.loc[df['children'] == -1, 'children'] = 1\n",
    "df['children'].value_counts().to_frame()\n",
    "\n",
    "# Третий вариант с удалением\n",
    "\n",
    "#df = df.loc[df['children'] != 20]\n",
    "#df = df.loc[df['children'] != -1]\n",
    "#df['children'].value_counts()"
   ]
  },
  {
   "cell_type": "markdown",
   "metadata": {},
   "source": [
    "##### Колонка age"
   ]
  },
  {
   "cell_type": "code",
   "execution_count": 6,
   "metadata": {},
   "outputs": [
    {
     "data": {
      "text/plain": [
       "array([42, 36, 33, 32, 53, 27, 43, 50, 35, 41, 40, 65, 54, 56, 26, 48, 24,\n",
       "       21, 57, 67, 28, 63, 62, 47, 34, 68, 25, 31, 30, 20, 49, 37, 45, 61,\n",
       "       64, 44, 52, 46, 23, 38, 39, 51,  0, 59, 29, 60, 55, 58, 71, 22, 73,\n",
       "       66, 69, 19, 72, 70, 74, 75])"
      ]
     },
     "execution_count": 6,
     "metadata": {},
     "output_type": "execute_result"
    }
   ],
   "source": [
    "# Уникальные значения в колонке с возрастом age\n",
    "\n",
    "df['age'].unique() "
   ]
  },
  {
   "cell_type": "markdown",
   "metadata": {},
   "source": [
    "Есть аномальное значение 0, что предположительно является пропуском"
   ]
  },
  {
   "cell_type": "code",
   "execution_count": 7,
   "metadata": {
    "scrolled": false
   },
   "outputs": [
    {
     "data": {
      "text/html": [
       "<div>\n",
       "<style scoped>\n",
       "    .dataframe tbody tr th:only-of-type {\n",
       "        vertical-align: middle;\n",
       "    }\n",
       "\n",
       "    .dataframe tbody tr th {\n",
       "        vertical-align: top;\n",
       "    }\n",
       "\n",
       "    .dataframe thead th {\n",
       "        text-align: right;\n",
       "    }\n",
       "</style>\n",
       "<table border=\"1\" class=\"dataframe\">\n",
       "  <thead>\n",
       "    <tr style=\"text-align: right;\">\n",
       "      <th></th>\n",
       "      <th>age</th>\n",
       "    </tr>\n",
       "  </thead>\n",
       "  <tbody>\n",
       "    <tr>\n",
       "      <th>68</th>\n",
       "      <td>99</td>\n",
       "    </tr>\n",
       "    <tr>\n",
       "      <th>69</th>\n",
       "      <td>85</td>\n",
       "    </tr>\n",
       "    <tr>\n",
       "      <th>70</th>\n",
       "      <td>65</td>\n",
       "    </tr>\n",
       "    <tr>\n",
       "      <th>71</th>\n",
       "      <td>58</td>\n",
       "    </tr>\n",
       "    <tr>\n",
       "      <th>20</th>\n",
       "      <td>51</td>\n",
       "    </tr>\n",
       "    <tr>\n",
       "      <th>72</th>\n",
       "      <td>33</td>\n",
       "    </tr>\n",
       "    <tr>\n",
       "      <th>19</th>\n",
       "      <td>14</td>\n",
       "    </tr>\n",
       "    <tr>\n",
       "      <th>73</th>\n",
       "      <td>8</td>\n",
       "    </tr>\n",
       "    <tr>\n",
       "      <th>74</th>\n",
       "      <td>6</td>\n",
       "    </tr>\n",
       "    <tr>\n",
       "      <th>75</th>\n",
       "      <td>1</td>\n",
       "    </tr>\n",
       "  </tbody>\n",
       "</table>\n",
       "</div>"
      ],
      "text/plain": [
       "    age\n",
       "68   99\n",
       "69   85\n",
       "70   65\n",
       "71   58\n",
       "20   51\n",
       "72   33\n",
       "19   14\n",
       "73    8\n",
       "74    6\n",
       "75    1"
      ]
     },
     "execution_count": 7,
     "metadata": {},
     "output_type": "execute_result"
    }
   ],
   "source": [
    "df['age'].value_counts().tail(10).to_frame()"
   ]
  },
  {
   "cell_type": "markdown",
   "metadata": {},
   "source": [
    "Возраст \"0\" присутствует 101 раз. Заменим его на медианное значение в зависимости от группы занятости 'income_type'"
   ]
  },
  {
   "cell_type": "code",
   "execution_count": 8,
   "metadata": {
    "scrolled": true
   },
   "outputs": [
    {
     "data": {
      "text/plain": [
       "income_type\n",
       "безработный        38\n",
       "в декрете          39\n",
       "госслужащий        40\n",
       "компаньон          39\n",
       "пенсионер          60\n",
       "предприниматель    42\n",
       "сотрудник          39\n",
       "студент            22\n",
       "Name: age, dtype: int64"
      ]
     },
     "execution_count": 8,
     "metadata": {},
     "output_type": "execute_result"
    }
   ],
   "source": [
    "income_type_group = df.groupby('income_type')['age'].median().astype('int')\n",
    "income_type_group"
   ]
  },
  {
   "cell_type": "code",
   "execution_count": 9,
   "metadata": {},
   "outputs": [
    {
     "data": {
      "text/plain": [
       "Index(['безработный', 'в декрете', 'госслужащий', 'компаньон', 'пенсионер',\n",
       "       'предприниматель', 'сотрудник', 'студент'],\n",
       "      dtype='object', name='income_type')"
      ]
     },
     "execution_count": 9,
     "metadata": {},
     "output_type": "execute_result"
    }
   ],
   "source": [
    "income_type_group.index"
   ]
  },
  {
   "cell_type": "markdown",
   "metadata": {},
   "source": [
    "Заменим значения возраста в каждой группе"
   ]
  },
  {
   "cell_type": "code",
   "execution_count": 11,
   "metadata": {},
   "outputs": [],
   "source": [
    "i = 0\n",
    "\n",
    "for income in income_type_group.index:\n",
    "    df.loc[(df['income_type'] == income) & (df['age'] == 0), 'age'] = income_type_group[i]\n",
    "    i += 1  "
   ]
  },
  {
   "cell_type": "code",
   "execution_count": 12,
   "metadata": {},
   "outputs": [
    {
     "data": {
      "text/plain": [
       "0"
      ]
     },
     "execution_count": 12,
     "metadata": {},
     "output_type": "execute_result"
    }
   ],
   "source": [
    "df[df['age'] == 0]['age'].count()"
   ]
  },
  {
   "cell_type": "code",
   "execution_count": 13,
   "metadata": {
    "scrolled": true
   },
   "outputs": [
    {
     "data": {
      "text/html": [
       "<div>\n",
       "<style scoped>\n",
       "    .dataframe tbody tr th:only-of-type {\n",
       "        vertical-align: middle;\n",
       "    }\n",
       "\n",
       "    .dataframe tbody tr th {\n",
       "        vertical-align: top;\n",
       "    }\n",
       "\n",
       "    .dataframe thead th {\n",
       "        text-align: right;\n",
       "    }\n",
       "</style>\n",
       "<table border=\"1\" class=\"dataframe\">\n",
       "  <thead>\n",
       "    <tr style=\"text-align: right;\">\n",
       "      <th></th>\n",
       "      <th>age</th>\n",
       "    </tr>\n",
       "  </thead>\n",
       "  <tbody>\n",
       "    <tr>\n",
       "      <th>68</th>\n",
       "      <td>99</td>\n",
       "    </tr>\n",
       "    <tr>\n",
       "      <th>69</th>\n",
       "      <td>85</td>\n",
       "    </tr>\n",
       "    <tr>\n",
       "      <th>70</th>\n",
       "      <td>65</td>\n",
       "    </tr>\n",
       "    <tr>\n",
       "      <th>71</th>\n",
       "      <td>58</td>\n",
       "    </tr>\n",
       "    <tr>\n",
       "      <th>20</th>\n",
       "      <td>51</td>\n",
       "    </tr>\n",
       "    <tr>\n",
       "      <th>72</th>\n",
       "      <td>33</td>\n",
       "    </tr>\n",
       "    <tr>\n",
       "      <th>19</th>\n",
       "      <td>14</td>\n",
       "    </tr>\n",
       "    <tr>\n",
       "      <th>73</th>\n",
       "      <td>8</td>\n",
       "    </tr>\n",
       "    <tr>\n",
       "      <th>74</th>\n",
       "      <td>6</td>\n",
       "    </tr>\n",
       "    <tr>\n",
       "      <th>75</th>\n",
       "      <td>1</td>\n",
       "    </tr>\n",
       "  </tbody>\n",
       "</table>\n",
       "</div>"
      ],
      "text/plain": [
       "    age\n",
       "68   99\n",
       "69   85\n",
       "70   65\n",
       "71   58\n",
       "20   51\n",
       "72   33\n",
       "19   14\n",
       "73    8\n",
       "74    6\n",
       "75    1"
      ]
     },
     "execution_count": 13,
     "metadata": {},
     "output_type": "execute_result"
    }
   ],
   "source": [
    "# Убедимся, что замена прошла успешно\n",
    "\n",
    "df['age'].value_counts().tail(10).to_frame()"
   ]
  },
  {
   "cell_type": "markdown",
   "metadata": {},
   "source": [
    "##### Колонка employed"
   ]
  },
  {
   "cell_type": "code",
   "execution_count": 14,
   "metadata": {},
   "outputs": [
    {
     "data": {
      "text/plain": [
       "2174"
      ]
     },
     "execution_count": 14,
     "metadata": {},
     "output_type": "execute_result"
    }
   ],
   "source": [
    "# Исследуем на пропуски колонку employed\n",
    "\n",
    "df['employed'].isnull().sum() "
   ]
  },
  {
   "cell_type": "code",
   "execution_count": 15,
   "metadata": {
    "scrolled": true
   },
   "outputs": [
    {
     "data": {
      "text/plain": [
       "0.11234561521368405"
      ]
     },
     "execution_count": 15,
     "metadata": {},
     "output_type": "execute_result"
    }
   ],
   "source": [
    "df['employed'].isnull().sum() / df['employed'].count()"
   ]
  },
  {
   "cell_type": "markdown",
   "metadata": {},
   "source": [
    "Пропуски составляют 11% от всех данных, что довольно существенно"
   ]
  },
  {
   "cell_type": "code",
   "execution_count": 16,
   "metadata": {
    "scrolled": false
   },
   "outputs": [
    {
     "data": {
      "text/plain": [
       "employed\n",
       "-18388.949901     1\n",
       "-17615.563266     1\n",
       "-16593.472817     1\n",
       "-16264.699501     1\n",
       "-16119.687737     1\n",
       "                 ..\n",
       " 401663.850046    1\n",
       " 401674.466633    1\n",
       " 401675.093434    1\n",
       " 401715.811749    1\n",
       " 401755.400475    1\n",
       "Name: employed, Length: 19351, dtype: int64"
      ]
     },
     "execution_count": 16,
     "metadata": {},
     "output_type": "execute_result"
    }
   ],
   "source": [
    "# Подсчет уникальных значений в колонке employed\n",
    "\n",
    "df.groupby('employed')['employed'].count()"
   ]
  },
  {
   "cell_type": "markdown",
   "metadata": {},
   "source": [
    "Довольно странный диапазон значений для трудового стажа в днях: от -18 388 до 401 755. Количество рабочих дней трудового стажа 100-летнего человека при 247 рабочих днях в году в среднем не может превышать: (100 - 16) х 247 ~ 21 000 дней. Можно видеть, что отрицательные числа логически укладываются в разумные пределы трудового стажа, если отбросить знак и округлить до целого. А вот положительные значения видимо выражены в часах, что легко проверить, разделив максимальное положительное число на 24: 401 755 : 24 = 16 739 дней.  "
   ]
  },
  {
   "cell_type": "markdown",
   "metadata": {},
   "source": [
    "Разобъем данные на положительные и отрицательные числа. У первых отбросим знак, вторые разделим на 24. "
   ]
  },
  {
   "cell_type": "code",
   "execution_count": 17,
   "metadata": {},
   "outputs": [
    {
     "data": {
      "text/plain": [
       "8437.673028     1\n",
       "3507.818775     1\n",
       "14770.850661    1\n",
       "769.717438      1\n",
       "3963.590317     1\n",
       "               ..\n",
       "1099.957609     1\n",
       "209.984794      1\n",
       "16587.474685    1\n",
       "1271.038880     1\n",
       "1984.507589     1\n",
       "Name: employed, Length: 19351, dtype: int64"
      ]
     },
     "execution_count": 17,
     "metadata": {},
     "output_type": "execute_result"
    }
   ],
   "source": [
    "# Напишем функцию для обработки колонки employed\n",
    "\n",
    "def employed_processing(emp):\n",
    "    if emp <= 0:\n",
    "        return abs(emp)\n",
    "    else:\n",
    "        return emp / 24\n",
    "    \n",
    "# Применим функцию\n",
    "\n",
    "df['employed'] = df['employed'].apply(employed_processing)\n",
    "df['employed'].value_counts()"
   ]
  },
  {
   "cell_type": "markdown",
   "metadata": {},
   "source": [
    "Заменим пропуски методом fillna() на медианные значения в зависимости от возраста. \n",
    "Медиану для каждой группы получим методом median()"
   ]
  },
  {
   "cell_type": "code",
   "execution_count": 18,
   "metadata": {
    "scrolled": true
   },
   "outputs": [
    {
     "data": {
      "text/html": [
       "<div>\n",
       "<style scoped>\n",
       "    .dataframe tbody tr th:only-of-type {\n",
       "        vertical-align: middle;\n",
       "    }\n",
       "\n",
       "    .dataframe tbody tr th {\n",
       "        vertical-align: top;\n",
       "    }\n",
       "\n",
       "    .dataframe thead th {\n",
       "        text-align: right;\n",
       "    }\n",
       "</style>\n",
       "<table border=\"1\" class=\"dataframe\">\n",
       "  <thead>\n",
       "    <tr style=\"text-align: right;\">\n",
       "      <th></th>\n",
       "      <th>age</th>\n",
       "    </tr>\n",
       "  </thead>\n",
       "  <tbody>\n",
       "    <tr>\n",
       "      <th>count</th>\n",
       "      <td>21525.000000</td>\n",
       "    </tr>\n",
       "    <tr>\n",
       "      <th>mean</th>\n",
       "      <td>43.496167</td>\n",
       "    </tr>\n",
       "    <tr>\n",
       "      <th>std</th>\n",
       "      <td>12.231538</td>\n",
       "    </tr>\n",
       "    <tr>\n",
       "      <th>min</th>\n",
       "      <td>19.000000</td>\n",
       "    </tr>\n",
       "    <tr>\n",
       "      <th>25%</th>\n",
       "      <td>34.000000</td>\n",
       "    </tr>\n",
       "    <tr>\n",
       "      <th>50%</th>\n",
       "      <td>43.000000</td>\n",
       "    </tr>\n",
       "    <tr>\n",
       "      <th>75%</th>\n",
       "      <td>53.000000</td>\n",
       "    </tr>\n",
       "    <tr>\n",
       "      <th>max</th>\n",
       "      <td>75.000000</td>\n",
       "    </tr>\n",
       "  </tbody>\n",
       "</table>\n",
       "</div>"
      ],
      "text/plain": [
       "                age\n",
       "count  21525.000000\n",
       "mean      43.496167\n",
       "std       12.231538\n",
       "min       19.000000\n",
       "25%       34.000000\n",
       "50%       43.000000\n",
       "75%       53.000000\n",
       "max       75.000000"
      ]
     },
     "execution_count": 18,
     "metadata": {},
     "output_type": "execute_result"
    }
   ],
   "source": [
    "df['age'].describe().to_frame()"
   ]
  },
  {
   "cell_type": "markdown",
   "metadata": {},
   "source": [
    "Для этого разобьем стаж на 4 группы по перценталям распределения возраста и добавим в датафрейм столбец-идентификатор группы age_id:\n",
    "\n",
    "    1: 19-34\n",
    "    2: 35-43\n",
    "    3: 44-53\n",
    "    4: 54-75"
   ]
  },
  {
   "cell_type": "code",
   "execution_count": 19,
   "metadata": {
    "scrolled": false
   },
   "outputs": [],
   "source": [
    "# Составим функцию для распределения значений \n",
    "\n",
    "def get_age_id(row):\n",
    "    age = row['age']\n",
    "    if age <= 34:\n",
    "        return 1\n",
    "    elif 35 <= age <= 43:\n",
    "        return 2\n",
    "    elif 44 <= age <= 53:\n",
    "        return 3\n",
    "    elif 54 <= age <= 75:\n",
    "        return 4"
   ]
  },
  {
   "cell_type": "code",
   "execution_count": 20,
   "metadata": {},
   "outputs": [
    {
     "data": {
      "text/html": [
       "<div>\n",
       "<style scoped>\n",
       "    .dataframe tbody tr th:only-of-type {\n",
       "        vertical-align: middle;\n",
       "    }\n",
       "\n",
       "    .dataframe tbody tr th {\n",
       "        vertical-align: top;\n",
       "    }\n",
       "\n",
       "    .dataframe thead th {\n",
       "        text-align: right;\n",
       "    }\n",
       "</style>\n",
       "<table border=\"1\" class=\"dataframe\">\n",
       "  <thead>\n",
       "    <tr style=\"text-align: right;\">\n",
       "      <th></th>\n",
       "      <th>age</th>\n",
       "      <th>age_id</th>\n",
       "    </tr>\n",
       "  </thead>\n",
       "  <tbody>\n",
       "    <tr>\n",
       "      <th>0</th>\n",
       "      <td>42</td>\n",
       "      <td>2</td>\n",
       "    </tr>\n",
       "    <tr>\n",
       "      <th>1</th>\n",
       "      <td>36</td>\n",
       "      <td>2</td>\n",
       "    </tr>\n",
       "    <tr>\n",
       "      <th>2</th>\n",
       "      <td>33</td>\n",
       "      <td>1</td>\n",
       "    </tr>\n",
       "    <tr>\n",
       "      <th>3</th>\n",
       "      <td>32</td>\n",
       "      <td>1</td>\n",
       "    </tr>\n",
       "    <tr>\n",
       "      <th>4</th>\n",
       "      <td>53</td>\n",
       "      <td>3</td>\n",
       "    </tr>\n",
       "    <tr>\n",
       "      <th>5</th>\n",
       "      <td>27</td>\n",
       "      <td>1</td>\n",
       "    </tr>\n",
       "    <tr>\n",
       "      <th>6</th>\n",
       "      <td>43</td>\n",
       "      <td>2</td>\n",
       "    </tr>\n",
       "    <tr>\n",
       "      <th>7</th>\n",
       "      <td>50</td>\n",
       "      <td>3</td>\n",
       "    </tr>\n",
       "    <tr>\n",
       "      <th>8</th>\n",
       "      <td>35</td>\n",
       "      <td>2</td>\n",
       "    </tr>\n",
       "    <tr>\n",
       "      <th>9</th>\n",
       "      <td>41</td>\n",
       "      <td>2</td>\n",
       "    </tr>\n",
       "  </tbody>\n",
       "</table>\n",
       "</div>"
      ],
      "text/plain": [
       "   age  age_id\n",
       "0   42       2\n",
       "1   36       2\n",
       "2   33       1\n",
       "3   32       1\n",
       "4   53       3\n",
       "5   27       1\n",
       "6   43       2\n",
       "7   50       3\n",
       "8   35       2\n",
       "9   41       2"
      ]
     },
     "execution_count": 20,
     "metadata": {},
     "output_type": "execute_result"
    }
   ],
   "source": [
    "# Вносим данные в новый столбец\n",
    "\n",
    "df['age_id'] = df.apply(get_age_id, axis=1)\n",
    "df[['age', 'age_id']].head(10)"
   ]
  },
  {
   "cell_type": "code",
   "execution_count": 21,
   "metadata": {
    "scrolled": true
   },
   "outputs": [
    {
     "data": {
      "text/plain": [
       "0.000000        2174\n",
       "8437.673028        1\n",
       "5135.928528        1\n",
       "14770.850661       1\n",
       "769.717438         1\n",
       "                ... \n",
       "1099.957609        1\n",
       "209.984794         1\n",
       "16587.474685       1\n",
       "1271.038880        1\n",
       "1984.507589        1\n",
       "Name: employed, Length: 19352, dtype: int64"
      ]
     },
     "execution_count": 21,
     "metadata": {},
     "output_type": "execute_result"
    }
   ],
   "source": [
    "# Временно присвоим пропускам нулевые значения для удобства   \n",
    "\n",
    "df['employed'] = df['employed'].fillna(0)\n",
    "df['employed'].value_counts()"
   ]
  },
  {
   "cell_type": "code",
   "execution_count": 22,
   "metadata": {},
   "outputs": [
    {
     "data": {
      "text/plain": [
       "age_id\n",
       "1     1031.782464\n",
       "2     1576.393455\n",
       "3     2105.631868\n",
       "4    14048.556619\n",
       "Name: employed, dtype: float64"
      ]
     },
     "execution_count": 22,
     "metadata": {},
     "output_type": "execute_result"
    }
   ],
   "source": [
    "# Находим медианы для каждой группы\n",
    "\n",
    "age_id_group = df.groupby('age_id')['employed'].median()\n",
    "age_id_group"
   ]
  },
  {
   "cell_type": "code",
   "execution_count": 23,
   "metadata": {},
   "outputs": [],
   "source": [
    "# Заполняем колонку стажа медианными значениями в зависимости от группы\n",
    "\n",
    "df.loc[(df['age_id'] == 1) & (df['employed'] == 0), 'employed'] = age_id_group[1]\n",
    "df.loc[(df['age_id'] == 2) & (df['employed'] == 0), 'employed'] = age_id_group[2]\n",
    "df.loc[(df['age_id'] == 3) & (df['employed'] == 0), 'employed'] = age_id_group[3]\n",
    "df.loc[(df['age_id'] == 4) & (df['employed'] == 0), 'employed'] = age_id_group[4]"
   ]
  },
  {
   "cell_type": "code",
   "execution_count": 24,
   "metadata": {},
   "outputs": [
    {
     "data": {
      "text/plain": [
       "0"
      ]
     },
     "execution_count": 24,
     "metadata": {},
     "output_type": "execute_result"
    }
   ],
   "source": [
    "# Проверяем наличие нулевых значений для столбца стажа\n",
    "\n",
    "df[df['employed'] == 0]['employed'].count()"
   ]
  },
  {
   "cell_type": "markdown",
   "metadata": {},
   "source": [
    "##### Колонка education"
   ]
  },
  {
   "cell_type": "code",
   "execution_count": 25,
   "metadata": {},
   "outputs": [
    {
     "data": {
      "text/html": [
       "<div>\n",
       "<style scoped>\n",
       "    .dataframe tbody tr th:only-of-type {\n",
       "        vertical-align: middle;\n",
       "    }\n",
       "\n",
       "    .dataframe tbody tr th {\n",
       "        vertical-align: top;\n",
       "    }\n",
       "\n",
       "    .dataframe thead th {\n",
       "        text-align: right;\n",
       "    }\n",
       "</style>\n",
       "<table border=\"1\" class=\"dataframe\">\n",
       "  <thead>\n",
       "    <tr style=\"text-align: right;\">\n",
       "      <th></th>\n",
       "      <th>education</th>\n",
       "    </tr>\n",
       "  </thead>\n",
       "  <tbody>\n",
       "    <tr>\n",
       "      <th>среднее</th>\n",
       "      <td>13750</td>\n",
       "    </tr>\n",
       "    <tr>\n",
       "      <th>высшее</th>\n",
       "      <td>4718</td>\n",
       "    </tr>\n",
       "    <tr>\n",
       "      <th>СРЕДНЕЕ</th>\n",
       "      <td>772</td>\n",
       "    </tr>\n",
       "    <tr>\n",
       "      <th>Среднее</th>\n",
       "      <td>711</td>\n",
       "    </tr>\n",
       "    <tr>\n",
       "      <th>неоконченное высшее</th>\n",
       "      <td>668</td>\n",
       "    </tr>\n",
       "    <tr>\n",
       "      <th>ВЫСШЕЕ</th>\n",
       "      <td>274</td>\n",
       "    </tr>\n",
       "    <tr>\n",
       "      <th>Высшее</th>\n",
       "      <td>268</td>\n",
       "    </tr>\n",
       "    <tr>\n",
       "      <th>начальное</th>\n",
       "      <td>250</td>\n",
       "    </tr>\n",
       "    <tr>\n",
       "      <th>Неоконченное высшее</th>\n",
       "      <td>47</td>\n",
       "    </tr>\n",
       "    <tr>\n",
       "      <th>НЕОКОНЧЕННОЕ ВЫСШЕЕ</th>\n",
       "      <td>29</td>\n",
       "    </tr>\n",
       "    <tr>\n",
       "      <th>НАЧАЛЬНОЕ</th>\n",
       "      <td>17</td>\n",
       "    </tr>\n",
       "    <tr>\n",
       "      <th>Начальное</th>\n",
       "      <td>15</td>\n",
       "    </tr>\n",
       "    <tr>\n",
       "      <th>ученая степень</th>\n",
       "      <td>4</td>\n",
       "    </tr>\n",
       "    <tr>\n",
       "      <th>Ученая степень</th>\n",
       "      <td>1</td>\n",
       "    </tr>\n",
       "    <tr>\n",
       "      <th>УЧЕНАЯ СТЕПЕНЬ</th>\n",
       "      <td>1</td>\n",
       "    </tr>\n",
       "  </tbody>\n",
       "</table>\n",
       "</div>"
      ],
      "text/plain": [
       "                     education\n",
       "среднее                  13750\n",
       "высшее                    4718\n",
       "СРЕДНЕЕ                    772\n",
       "Среднее                    711\n",
       "неоконченное высшее        668\n",
       "ВЫСШЕЕ                     274\n",
       "Высшее                     268\n",
       "начальное                  250\n",
       "Неоконченное высшее         47\n",
       "НЕОКОНЧЕННОЕ ВЫСШЕЕ         29\n",
       "НАЧАЛЬНОЕ                   17\n",
       "Начальное                   15\n",
       "ученая степень               4\n",
       "Ученая степень               1\n",
       "УЧЕНАЯ СТЕПЕНЬ               1"
      ]
     },
     "execution_count": 25,
     "metadata": {},
     "output_type": "execute_result"
    }
   ],
   "source": [
    "# Уникальные значения в колонке education\n",
    "\n",
    "df['education'].value_counts().to_frame() \n",
    "\n",
    "# Есть явные повторы. Составим словарь и уберем эту колонку из датафрейма"
   ]
  },
  {
   "cell_type": "markdown",
   "metadata": {},
   "source": [
    "##### Колонка education_id"
   ]
  },
  {
   "cell_type": "code",
   "execution_count": 26,
   "metadata": {},
   "outputs": [
    {
     "data": {
      "text/plain": [
       "array([0, 1, 2, 3, 4])"
      ]
     },
     "execution_count": 26,
     "metadata": {},
     "output_type": "execute_result"
    }
   ],
   "source": [
    "# Уникальные значения в колонке education_id\n",
    "\n",
    "df['education_id'].unique()\n",
    "\n",
    "# нет аномалий и повторов"
   ]
  },
  {
   "cell_type": "markdown",
   "metadata": {},
   "source": [
    "##### Колонка family_status"
   ]
  },
  {
   "cell_type": "code",
   "execution_count": 27,
   "metadata": {},
   "outputs": [
    {
     "data": {
      "text/plain": [
       "array(['женат / замужем', 'гражданский брак', 'вдовец / вдова',\n",
       "       'в разводе', 'Не женат / не замужем'], dtype=object)"
      ]
     },
     "execution_count": 27,
     "metadata": {},
     "output_type": "execute_result"
    }
   ],
   "source": [
    "# Уникальные значения в колонке family_status\n",
    "\n",
    "df['family_status'].unique() \n",
    "\n",
    "# нет аномалий и повторов"
   ]
  },
  {
   "cell_type": "markdown",
   "metadata": {},
   "source": [
    "##### Колонка family_status_id"
   ]
  },
  {
   "cell_type": "code",
   "execution_count": 28,
   "metadata": {},
   "outputs": [
    {
     "data": {
      "text/plain": [
       "array([0, 1, 2, 3, 4])"
      ]
     },
     "execution_count": 28,
     "metadata": {},
     "output_type": "execute_result"
    }
   ],
   "source": [
    "# уникальные значения в колонке family_status_id\n",
    "\n",
    "df['family_status_id'].unique() \n",
    "\n",
    "# нет аномалий и повторов"
   ]
  },
  {
   "cell_type": "markdown",
   "metadata": {},
   "source": [
    "##### Колонка gender"
   ]
  },
  {
   "cell_type": "code",
   "execution_count": 29,
   "metadata": {},
   "outputs": [
    {
     "data": {
      "text/plain": [
       "array(['F', 'M', 'XNA'], dtype=object)"
      ]
     },
     "execution_count": 29,
     "metadata": {},
     "output_type": "execute_result"
    }
   ],
   "source": [
    "# уникальные значения в колонке gender\n",
    "\n",
    "df['gender'].unique() \n",
    "\n",
    "# здесь есть неявные пропуски"
   ]
  },
  {
   "cell_type": "code",
   "execution_count": 30,
   "metadata": {
    "scrolled": false
   },
   "outputs": [
    {
     "data": {
      "text/plain": [
       "F      14236\n",
       "M       7288\n",
       "XNA        1\n",
       "Name: gender, dtype: int64"
      ]
     },
     "execution_count": 30,
     "metadata": {},
     "output_type": "execute_result"
    }
   ],
   "source": [
    "df['gender'].value_counts() "
   ]
  },
  {
   "cell_type": "code",
   "execution_count": 31,
   "metadata": {
    "scrolled": true
   },
   "outputs": [
    {
     "data": {
      "text/html": [
       "<div>\n",
       "<style scoped>\n",
       "    .dataframe tbody tr th:only-of-type {\n",
       "        vertical-align: middle;\n",
       "    }\n",
       "\n",
       "    .dataframe tbody tr th {\n",
       "        vertical-align: top;\n",
       "    }\n",
       "\n",
       "    .dataframe thead th {\n",
       "        text-align: right;\n",
       "    }\n",
       "</style>\n",
       "<table border=\"1\" class=\"dataframe\">\n",
       "  <thead>\n",
       "    <tr style=\"text-align: right;\">\n",
       "      <th></th>\n",
       "      <th>children</th>\n",
       "      <th>employed</th>\n",
       "      <th>age</th>\n",
       "      <th>education</th>\n",
       "      <th>education_id</th>\n",
       "      <th>family_status</th>\n",
       "      <th>family_status_id</th>\n",
       "      <th>gender</th>\n",
       "      <th>income_type</th>\n",
       "      <th>debt_status</th>\n",
       "      <th>total_income</th>\n",
       "      <th>purpose</th>\n",
       "      <th>age_id</th>\n",
       "    </tr>\n",
       "  </thead>\n",
       "  <tbody>\n",
       "    <tr>\n",
       "      <th>10701</th>\n",
       "      <td>0</td>\n",
       "      <td>2358.600502</td>\n",
       "      <td>24</td>\n",
       "      <td>неоконченное высшее</td>\n",
       "      <td>2</td>\n",
       "      <td>гражданский брак</td>\n",
       "      <td>1</td>\n",
       "      <td>XNA</td>\n",
       "      <td>компаньон</td>\n",
       "      <td>0</td>\n",
       "      <td>203905.157261</td>\n",
       "      <td>покупка недвижимости</td>\n",
       "      <td>1</td>\n",
       "    </tr>\n",
       "  </tbody>\n",
       "</table>\n",
       "</div>"
      ],
      "text/plain": [
       "       children     employed  age            education  education_id  \\\n",
       "10701         0  2358.600502   24  неоконченное высшее             2   \n",
       "\n",
       "          family_status  family_status_id gender income_type  debt_status  \\\n",
       "10701  гражданский брак                 1    XNA   компаньон            0   \n",
       "\n",
       "        total_income               purpose  age_id  \n",
       "10701  203905.157261  покупка недвижимости       1  "
      ]
     },
     "execution_count": 31,
     "metadata": {},
     "output_type": "execute_result"
    }
   ],
   "source": [
    "df[df['gender'] == 'XNA']"
   ]
  },
  {
   "cell_type": "markdown",
   "metadata": {},
   "source": [
    "Пропуск всего 1, его можно устранить внесением значения моды пола"
   ]
  },
  {
   "cell_type": "code",
   "execution_count": 32,
   "metadata": {},
   "outputs": [
    {
     "data": {
      "text/html": [
       "<div>\n",
       "<style scoped>\n",
       "    .dataframe tbody tr th:only-of-type {\n",
       "        vertical-align: middle;\n",
       "    }\n",
       "\n",
       "    .dataframe tbody tr th {\n",
       "        vertical-align: top;\n",
       "    }\n",
       "\n",
       "    .dataframe thead th {\n",
       "        text-align: right;\n",
       "    }\n",
       "</style>\n",
       "<table border=\"1\" class=\"dataframe\">\n",
       "  <thead>\n",
       "    <tr style=\"text-align: right;\">\n",
       "      <th></th>\n",
       "      <th>gender</th>\n",
       "    </tr>\n",
       "  </thead>\n",
       "  <tbody>\n",
       "    <tr>\n",
       "      <th>F</th>\n",
       "      <td>14237</td>\n",
       "    </tr>\n",
       "    <tr>\n",
       "      <th>M</th>\n",
       "      <td>7288</td>\n",
       "    </tr>\n",
       "  </tbody>\n",
       "</table>\n",
       "</div>"
      ],
      "text/plain": [
       "   gender\n",
       "F   14237\n",
       "M    7288"
      ]
     },
     "execution_count": 32,
     "metadata": {},
     "output_type": "execute_result"
    }
   ],
   "source": [
    "# Присвоим пропуску модное значение \"F\" и убедимся в замене\n",
    "\n",
    "df.loc[df['gender'] == 'XNA', 'gender'] = 'F'\n",
    "df['gender'].value_counts().to_frame() "
   ]
  },
  {
   "cell_type": "markdown",
   "metadata": {},
   "source": [
    "##### Колонка income_type"
   ]
  },
  {
   "cell_type": "code",
   "execution_count": 33,
   "metadata": {
    "scrolled": true
   },
   "outputs": [
    {
     "data": {
      "text/plain": [
       "array(['сотрудник', 'пенсионер', 'компаньон', 'госслужащий',\n",
       "       'безработный', 'предприниматель', 'студент', 'в декрете'],\n",
       "      dtype=object)"
      ]
     },
     "execution_count": 33,
     "metadata": {},
     "output_type": "execute_result"
    }
   ],
   "source": [
    "# уникальные значения в колонке income_type\n",
    "\n",
    "df['income_type'].unique() \n",
    "\n",
    "# здесь нет аномалий и повторов"
   ]
  },
  {
   "cell_type": "markdown",
   "metadata": {},
   "source": [
    "##### Колонка debt_status"
   ]
  },
  {
   "cell_type": "code",
   "execution_count": 34,
   "metadata": {
    "scrolled": true
   },
   "outputs": [
    {
     "data": {
      "text/plain": [
       "array([0, 1])"
      ]
     },
     "execution_count": 34,
     "metadata": {},
     "output_type": "execute_result"
    }
   ],
   "source": [
    "# уникальные значения в колонке debt_status\n",
    "\n",
    "df['debt_status'].unique() \n",
    "\n",
    "# здесь нет аномалий и повторов"
   ]
  },
  {
   "cell_type": "markdown",
   "metadata": {},
   "source": [
    "##### Колонка total_income"
   ]
  },
  {
   "cell_type": "code",
   "execution_count": 96,
   "metadata": {},
   "outputs": [
    {
     "data": {
      "image/png": "[encoded data removed]",
      "text/plain": [
       "<Figure size 432x288 with 1 Axes>"
      ]
     },
     "metadata": {
      "needs_background": "light"
     },
     "output_type": "display_data"
    },
    {
     "name": "stdout",
     "output_type": "stream",
     "text": [
      "count      19351.0\n",
      "mean      167422.0\n",
      "std       102972.0\n",
      "min        20667.0\n",
      "25%       103053.0\n",
      "50%       145018.0\n",
      "75%       203435.0\n",
      "max      2265604.0\n",
      "Name: total_income, dtype: float64\n"
     ]
    }
   ],
   "source": [
    "ax1 = plt.hist(df['total_income'], bins=int(np.sqrt(len(df))))\n",
    "\n",
    "# N — счетчик в каждом баре (столбце), bins — нижняя граница бара\n",
    "N, bins, patches = plt.hist(df['total_income'], bins=int(np.sqrt(len(df))))\n",
    "                               \n",
    "# Для кодирования цвета будем использовать относительную высоту\n",
    "fracs = N / N.max()\n",
    "\n",
    "# нормализуем fracs до промежутка между 0 и 1 для полноценного цветового диапазона\n",
    "norm = colors.Normalize(fracs.min(), fracs.max())\n",
    "\n",
    "# нужно пройтись циклом по полученным объектам и установить цвет для каждого в отдельности\n",
    "for thisfrac, thispatch in zip(fracs, patches):\n",
    "    color = plt.cm.viridis(norm(thisfrac))\n",
    "    thispatch.set_facecolor(color)\n",
    "\n",
    "ax1 = plt.xlabel('$Ежемесячный$ $доход,$ $руб.$', fontsize=11)\n",
    "ax1 = plt.ylabel('$Клиенты,$ $чел.$', fontsize=11)\n",
    "plt.title('Гистограмма ежемесячных доходов', fontsize=13)\n",
    "plt.text(1000000, 1500, '$\\mu=167422,\\sigma=102972$', fontsize=13)\n",
    "plt.show()\n",
    "print(round(df['total_income'].describe()))"
   ]
  },
  {
   "cell_type": "code",
   "execution_count": 35,
   "metadata": {},
   "outputs": [
    {
     "data": {
      "text/plain": [
       "2174"
      ]
     },
     "execution_count": 35,
     "metadata": {},
     "output_type": "execute_result"
    }
   ],
   "source": [
    "# Исследуем на пропуски колонку total_income\n",
    "\n",
    "df['total_income'].isna().sum() \n",
    "\n",
    "# Есть пропуски, и их количество совпало с данными в колонке employed"
   ]
  },
  {
   "cell_type": "code",
   "execution_count": 36,
   "metadata": {
    "scrolled": true
   },
   "outputs": [
    {
     "data": {
      "text/plain": [
       "total_income\n",
       "2.066726e+04    1\n",
       "2.120528e+04    1\n",
       "2.136765e+04    1\n",
       "2.169510e+04    1\n",
       "2.189561e+04    1\n",
       "               ..\n",
       "1.711309e+06    1\n",
       "1.715018e+06    1\n",
       "1.726276e+06    1\n",
       "2.200852e+06    1\n",
       "2.265604e+06    1\n",
       "Name: total_income, Length: 19351, dtype: int64"
      ]
     },
     "execution_count": 36,
     "metadata": {},
     "output_type": "execute_result"
    }
   ],
   "source": [
    "df.groupby('total_income')['total_income'].count()\n",
    "\n",
    "# Как и количество уникальных значений: 19351"
   ]
  },
  {
   "cell_type": "markdown",
   "metadata": {},
   "source": [
    "Заменим временно пропуски на нули"
   ]
  },
  {
   "cell_type": "code",
   "execution_count": 37,
   "metadata": {
    "scrolled": true
   },
   "outputs": [
    {
     "data": {
      "text/html": [
       "<div>\n",
       "<style scoped>\n",
       "    .dataframe tbody tr th:only-of-type {\n",
       "        vertical-align: middle;\n",
       "    }\n",
       "\n",
       "    .dataframe tbody tr th {\n",
       "        vertical-align: top;\n",
       "    }\n",
       "\n",
       "    .dataframe thead th {\n",
       "        text-align: right;\n",
       "    }\n",
       "</style>\n",
       "<table border=\"1\" class=\"dataframe\">\n",
       "  <thead>\n",
       "    <tr style=\"text-align: right;\">\n",
       "      <th></th>\n",
       "      <th>total_income</th>\n",
       "    </tr>\n",
       "    <tr>\n",
       "      <th>income_type</th>\n",
       "      <th></th>\n",
       "    </tr>\n",
       "  </thead>\n",
       "  <tbody>\n",
       "    <tr>\n",
       "      <th>безработный</th>\n",
       "      <td>131339.751676</td>\n",
       "    </tr>\n",
       "    <tr>\n",
       "      <th>в декрете</th>\n",
       "      <td>53829.130729</td>\n",
       "    </tr>\n",
       "    <tr>\n",
       "      <th>госслужащий</th>\n",
       "      <td>150447.935283</td>\n",
       "    </tr>\n",
       "    <tr>\n",
       "      <th>компаньон</th>\n",
       "      <td>172357.950966</td>\n",
       "    </tr>\n",
       "    <tr>\n",
       "      <th>пенсионер</th>\n",
       "      <td>118514.486412</td>\n",
       "    </tr>\n",
       "    <tr>\n",
       "      <th>предприниматель</th>\n",
       "      <td>499163.144947</td>\n",
       "    </tr>\n",
       "    <tr>\n",
       "      <th>сотрудник</th>\n",
       "      <td>142594.396847</td>\n",
       "    </tr>\n",
       "    <tr>\n",
       "      <th>студент</th>\n",
       "      <td>98201.625314</td>\n",
       "    </tr>\n",
       "  </tbody>\n",
       "</table>\n",
       "</div>"
      ],
      "text/plain": [
       "                  total_income\n",
       "income_type                   \n",
       "безработный      131339.751676\n",
       "в декрете         53829.130729\n",
       "госслужащий      150447.935283\n",
       "компаньон        172357.950966\n",
       "пенсионер        118514.486412\n",
       "предприниматель  499163.144947\n",
       "сотрудник        142594.396847\n",
       "студент           98201.625314"
      ]
     },
     "execution_count": 37,
     "metadata": {},
     "output_type": "execute_result"
    }
   ],
   "source": [
    "# Найдем медианы дохода для каждой группы занятости\n",
    "\n",
    "total_income_group = df.groupby('income_type')['total_income'].median()\n",
    "total_income_group.to_frame()"
   ]
  },
  {
   "cell_type": "code",
   "execution_count": 38,
   "metadata": {
    "scrolled": false
   },
   "outputs": [
    {
     "data": {
      "text/html": [
       "<div>\n",
       "<style scoped>\n",
       "    .dataframe tbody tr th:only-of-type {\n",
       "        vertical-align: middle;\n",
       "    }\n",
       "\n",
       "    .dataframe tbody tr th {\n",
       "        vertical-align: top;\n",
       "    }\n",
       "\n",
       "    .dataframe thead th {\n",
       "        text-align: right;\n",
       "    }\n",
       "</style>\n",
       "<table border=\"1\" class=\"dataframe\">\n",
       "  <thead>\n",
       "    <tr style=\"text-align: right;\">\n",
       "      <th></th>\n",
       "      <th></th>\n",
       "      <th></th>\n",
       "      <th>total_income</th>\n",
       "    </tr>\n",
       "    <tr>\n",
       "      <th>income_type</th>\n",
       "      <th>age_id</th>\n",
       "      <th>education_id</th>\n",
       "      <th></th>\n",
       "    </tr>\n",
       "  </thead>\n",
       "  <tbody>\n",
       "    <tr>\n",
       "      <th rowspan=\"14\" valign=\"top\">сотрудник</th>\n",
       "      <th rowspan=\"4\" valign=\"top\">2</th>\n",
       "      <th>1</th>\n",
       "      <td>140108.105563</td>\n",
       "    </tr>\n",
       "    <tr>\n",
       "      <th>2</th>\n",
       "      <td>162204.016314</td>\n",
       "    </tr>\n",
       "    <tr>\n",
       "      <th>3</th>\n",
       "      <td>124294.504244</td>\n",
       "    </tr>\n",
       "    <tr>\n",
       "      <th>4</th>\n",
       "      <td>115949.039788</td>\n",
       "    </tr>\n",
       "    <tr>\n",
       "      <th rowspan=\"5\" valign=\"top\">3</th>\n",
       "      <th>0</th>\n",
       "      <td>169412.945538</td>\n",
       "    </tr>\n",
       "    <tr>\n",
       "      <th>1</th>\n",
       "      <td>136588.000855</td>\n",
       "    </tr>\n",
       "    <tr>\n",
       "      <th>2</th>\n",
       "      <td>167686.286724</td>\n",
       "    </tr>\n",
       "    <tr>\n",
       "      <th>3</th>\n",
       "      <td>130600.077985</td>\n",
       "    </tr>\n",
       "    <tr>\n",
       "      <th>4</th>\n",
       "      <td>198570.757322</td>\n",
       "    </tr>\n",
       "    <tr>\n",
       "      <th rowspan=\"5\" valign=\"top\">4</th>\n",
       "      <th>0</th>\n",
       "      <td>174775.300640</td>\n",
       "    </tr>\n",
       "    <tr>\n",
       "      <th>1</th>\n",
       "      <td>136885.746787</td>\n",
       "    </tr>\n",
       "    <tr>\n",
       "      <th>2</th>\n",
       "      <td>177913.652679</td>\n",
       "    </tr>\n",
       "    <tr>\n",
       "      <th>3</th>\n",
       "      <td>146009.429326</td>\n",
       "    </tr>\n",
       "    <tr>\n",
       "      <th>4</th>\n",
       "      <td>268411.214536</td>\n",
       "    </tr>\n",
       "    <tr>\n",
       "      <th>студент</th>\n",
       "      <th>1</th>\n",
       "      <th>0</th>\n",
       "      <td>98201.625314</td>\n",
       "    </tr>\n",
       "  </tbody>\n",
       "</table>\n",
       "</div>"
      ],
      "text/plain": [
       "                                  total_income\n",
       "income_type age_id education_id               \n",
       "сотрудник   2      1             140108.105563\n",
       "                   2             162204.016314\n",
       "                   3             124294.504244\n",
       "                   4             115949.039788\n",
       "            3      0             169412.945538\n",
       "                   1             136588.000855\n",
       "                   2             167686.286724\n",
       "                   3             130600.077985\n",
       "                   4             198570.757322\n",
       "            4      0             174775.300640\n",
       "                   1             136885.746787\n",
       "                   2             177913.652679\n",
       "                   3             146009.429326\n",
       "                   4             268411.214536\n",
       "студент     1      0              98201.625314"
      ]
     },
     "execution_count": 38,
     "metadata": {},
     "output_type": "execute_result"
    }
   ],
   "source": [
    "# Попробуем сделать более узкую выборку. Найдем медианы дохода для каждому типу занятости, образования и возрастной группе  \n",
    "\n",
    "total_income_group_3 = df.groupby(['income_type', 'age_id', 'education_id'])['total_income'].median()\n",
    "total_income_group_3.tail(15).to_frame()"
   ]
  },
  {
   "cell_type": "code",
   "execution_count": 39,
   "metadata": {},
   "outputs": [
    {
     "data": {
      "text/plain": [
       "1"
      ]
     },
     "execution_count": 39,
     "metadata": {},
     "output_type": "execute_result"
    }
   ],
   "source": [
    "total_income_group_3.isna().sum()"
   ]
  },
  {
   "cell_type": "markdown",
   "metadata": {},
   "source": [
    "Для одной группы не нашлось ни одного значения для расчета медианы, поэтому в этом случае расширим группировку"
   ]
  },
  {
   "cell_type": "code",
   "execution_count": 40,
   "metadata": {},
   "outputs": [
    {
     "data": {
      "text/plain": [
       "4"
      ]
     },
     "execution_count": 40,
     "metadata": {},
     "output_type": "execute_result"
    }
   ],
   "source": [
    "total_income_group_1 = df.groupby(['income_type', 'age'])['total_income'].median()\n",
    "total_income_group_1.isna().sum()"
   ]
  },
  {
   "cell_type": "code",
   "execution_count": 41,
   "metadata": {
    "scrolled": true
   },
   "outputs": [
    {
     "data": {
      "text/html": [
       "<div>\n",
       "<style scoped>\n",
       "    .dataframe tbody tr th:only-of-type {\n",
       "        vertical-align: middle;\n",
       "    }\n",
       "\n",
       "    .dataframe tbody tr th {\n",
       "        vertical-align: top;\n",
       "    }\n",
       "\n",
       "    .dataframe thead th {\n",
       "        text-align: right;\n",
       "    }\n",
       "</style>\n",
       "<table border=\"1\" class=\"dataframe\">\n",
       "  <thead>\n",
       "    <tr style=\"text-align: right;\">\n",
       "      <th></th>\n",
       "      <th></th>\n",
       "      <th>total_income</th>\n",
       "    </tr>\n",
       "    <tr>\n",
       "      <th>income_type</th>\n",
       "      <th>education_id</th>\n",
       "      <th></th>\n",
       "    </tr>\n",
       "  </thead>\n",
       "  <tbody>\n",
       "    <tr>\n",
       "      <th rowspan=\"3\" valign=\"top\">пенсионер</th>\n",
       "      <th>2</th>\n",
       "      <td>120136.896353</td>\n",
       "    </tr>\n",
       "    <tr>\n",
       "      <th>3</th>\n",
       "      <td>102598.653164</td>\n",
       "    </tr>\n",
       "    <tr>\n",
       "      <th>4</th>\n",
       "      <td>177088.845999</td>\n",
       "    </tr>\n",
       "    <tr>\n",
       "      <th>предприниматель</th>\n",
       "      <th>0</th>\n",
       "      <td>499163.144947</td>\n",
       "    </tr>\n",
       "    <tr>\n",
       "      <th rowspan=\"5\" valign=\"top\">сотрудник</th>\n",
       "      <th>0</th>\n",
       "      <td>165640.744634</td>\n",
       "    </tr>\n",
       "    <tr>\n",
       "      <th>1</th>\n",
       "      <td>136555.108821</td>\n",
       "    </tr>\n",
       "    <tr>\n",
       "      <th>2</th>\n",
       "      <td>151308.937846</td>\n",
       "    </tr>\n",
       "    <tr>\n",
       "      <th>3</th>\n",
       "      <td>125994.910603</td>\n",
       "    </tr>\n",
       "    <tr>\n",
       "      <th>4</th>\n",
       "      <td>198570.757322</td>\n",
       "    </tr>\n",
       "    <tr>\n",
       "      <th>студент</th>\n",
       "      <th>0</th>\n",
       "      <td>98201.625314</td>\n",
       "    </tr>\n",
       "  </tbody>\n",
       "</table>\n",
       "</div>"
      ],
      "text/plain": [
       "                               total_income\n",
       "income_type     education_id               \n",
       "пенсионер       2             120136.896353\n",
       "                3             102598.653164\n",
       "                4             177088.845999\n",
       "предприниматель 0             499163.144947\n",
       "сотрудник       0             165640.744634\n",
       "                1             136555.108821\n",
       "                2             151308.937846\n",
       "                3             125994.910603\n",
       "                4             198570.757322\n",
       "студент         0              98201.625314"
      ]
     },
     "execution_count": 41,
     "metadata": {},
     "output_type": "execute_result"
    }
   ],
   "source": [
    "total_income_group_2 = df.groupby(['income_type', 'education_id'])['total_income'].median()\n",
    "total_income_group_2.tail(10).to_frame()"
   ]
  },
  {
   "cell_type": "code",
   "execution_count": 42,
   "metadata": {},
   "outputs": [
    {
     "data": {
      "text/plain": [
       "0"
      ]
     },
     "execution_count": 42,
     "metadata": {},
     "output_type": "execute_result"
    }
   ],
   "source": [
    "total_income_group_2.isna().sum()"
   ]
  },
  {
   "cell_type": "markdown",
   "metadata": {},
   "source": [
    "Заменяем пропуски в столбце дохода медианными значениями в зависимости от группы занятости"
   ]
  },
  {
   "cell_type": "code",
   "execution_count": 45,
   "metadata": {},
   "outputs": [
    {
     "data": {
      "text/plain": [
       "1"
      ]
     },
     "execution_count": 45,
     "metadata": {},
     "output_type": "execute_result"
    }
   ],
   "source": [
    "# Проверяем наличие пропусков\n",
    "\n",
    "df.total_income.isna().sum()"
   ]
  },
  {
   "cell_type": "code",
   "execution_count": 46,
   "metadata": {
    "scrolled": true
   },
   "outputs": [
    {
     "data": {
      "text/html": [
       "<div>\n",
       "<style scoped>\n",
       "    .dataframe tbody tr th:only-of-type {\n",
       "        vertical-align: middle;\n",
       "    }\n",
       "\n",
       "    .dataframe tbody tr th {\n",
       "        vertical-align: top;\n",
       "    }\n",
       "\n",
       "    .dataframe thead th {\n",
       "        text-align: right;\n",
       "    }\n",
       "</style>\n",
       "<table border=\"1\" class=\"dataframe\">\n",
       "  <thead>\n",
       "    <tr style=\"text-align: right;\">\n",
       "      <th></th>\n",
       "      <th>children</th>\n",
       "      <th>employed</th>\n",
       "      <th>age</th>\n",
       "      <th>education</th>\n",
       "      <th>education_id</th>\n",
       "      <th>family_status</th>\n",
       "      <th>family_status_id</th>\n",
       "      <th>gender</th>\n",
       "      <th>income_type</th>\n",
       "      <th>debt_status</th>\n",
       "      <th>total_income</th>\n",
       "      <th>purpose</th>\n",
       "      <th>age_id</th>\n",
       "    </tr>\n",
       "  </thead>\n",
       "  <tbody>\n",
       "    <tr>\n",
       "      <th>5936</th>\n",
       "      <td>0</td>\n",
       "      <td>14048.556619</td>\n",
       "      <td>58</td>\n",
       "      <td>высшее</td>\n",
       "      <td>0</td>\n",
       "      <td>женат / замужем</td>\n",
       "      <td>0</td>\n",
       "      <td>M</td>\n",
       "      <td>предприниматель</td>\n",
       "      <td>0</td>\n",
       "      <td>NaN</td>\n",
       "      <td>покупка жилой недвижимости</td>\n",
       "      <td>4</td>\n",
       "    </tr>\n",
       "  </tbody>\n",
       "</table>\n",
       "</div>"
      ],
      "text/plain": [
       "      children      employed  age education  education_id    family_status  \\\n",
       "5936         0  14048.556619   58    высшее             0  женат / замужем   \n",
       "\n",
       "      family_status_id gender      income_type  debt_status  total_income  \\\n",
       "5936                 0      M  предприниматель            0           NaN   \n",
       "\n",
       "                         purpose  age_id  \n",
       "5936  покупка жилой недвижимости       4  "
      ]
     },
     "execution_count": 46,
     "metadata": {},
     "output_type": "execute_result"
    }
   ],
   "source": [
    "df[df['total_income'].isna()]"
   ]
  },
  {
   "cell_type": "markdown",
   "metadata": {},
   "source": [
    "Значение для предпринимателя в необработанной единственной строке возьмем из total_income_group_2"
   ]
  },
  {
   "cell_type": "code",
   "execution_count": 47,
   "metadata": {},
   "outputs": [],
   "source": [
    "df['total_income'] = df.groupby(['income_type', 'education_id'])['total_income'].transform(lambda x: x.fillna(x.mean()))"
   ]
  },
  {
   "cell_type": "code",
   "execution_count": 48,
   "metadata": {},
   "outputs": [
    {
     "data": {
      "text/plain": [
       "0"
      ]
     },
     "execution_count": 48,
     "metadata": {},
     "output_type": "execute_result"
    }
   ],
   "source": [
    "df.total_income.isna().sum()"
   ]
  },
  {
   "cell_type": "markdown",
   "metadata": {},
   "source": [
    "##### Колонка purpose"
   ]
  },
  {
   "cell_type": "code",
   "execution_count": 49,
   "metadata": {},
   "outputs": [
    {
     "data": {
      "text/plain": [
       "array(['покупка жилья', 'приобретение автомобиля',\n",
       "       'дополнительное образование', 'сыграть свадьбу',\n",
       "       'операции с жильем', 'образование', 'на проведение свадьбы',\n",
       "       'покупка жилья для семьи', 'покупка недвижимости',\n",
       "       'покупка коммерческой недвижимости', 'покупка жилой недвижимости',\n",
       "       'строительство собственной недвижимости', 'недвижимость',\n",
       "       'строительство недвижимости', 'на покупку подержанного автомобиля',\n",
       "       'на покупку своего автомобиля',\n",
       "       'операции с коммерческой недвижимостью',\n",
       "       'строительство жилой недвижимости', 'жилье',\n",
       "       'операции со своей недвижимостью', 'автомобили',\n",
       "       'заняться образованием', 'сделка с подержанным автомобилем',\n",
       "       'получение образования', 'автомобиль', 'свадьба',\n",
       "       'получение дополнительного образования', 'покупка своего жилья',\n",
       "       'операции с недвижимостью', 'получение высшего образования',\n",
       "       'свой автомобиль', 'сделка с автомобилем',\n",
       "       'профильное образование', 'высшее образование',\n",
       "       'покупка жилья для сдачи', 'на покупку автомобиля', 'ремонт жилью',\n",
       "       'заняться высшим образованием'], dtype=object)"
      ]
     },
     "execution_count": 49,
     "metadata": {},
     "output_type": "execute_result"
    }
   ],
   "source": [
    "# Исследуем на пропуски колонку purpose\n",
    "\n",
    "df['purpose'].unique() "
   ]
  },
  {
   "cell_type": "markdown",
   "metadata": {},
   "source": [
    "**В колонке purpose нужно отобрать неявные повторы с помощью лемматизатора**"
   ]
  },
  {
   "cell_type": "markdown",
   "metadata": {},
   "source": [
    "#### Колонки education и family_status вынесем в отдельные таблицы-словари и уберем как избыточные из основного датафрейма"
   ]
  },
  {
   "cell_type": "code",
   "execution_count": 50,
   "metadata": {
    "scrolled": false
   },
   "outputs": [
    {
     "data": {
      "text/html": [
       "<div>\n",
       "<style scoped>\n",
       "    .dataframe tbody tr th:only-of-type {\n",
       "        vertical-align: middle;\n",
       "    }\n",
       "\n",
       "    .dataframe tbody tr th {\n",
       "        vertical-align: top;\n",
       "    }\n",
       "\n",
       "    .dataframe thead th {\n",
       "        text-align: right;\n",
       "    }\n",
       "</style>\n",
       "<table border=\"1\" class=\"dataframe\">\n",
       "  <thead>\n",
       "    <tr style=\"text-align: right;\">\n",
       "      <th></th>\n",
       "      <th>education</th>\n",
       "      <th>education_id</th>\n",
       "    </tr>\n",
       "  </thead>\n",
       "  <tbody>\n",
       "    <tr>\n",
       "      <th>0</th>\n",
       "      <td>высшее</td>\n",
       "      <td>0</td>\n",
       "    </tr>\n",
       "    <tr>\n",
       "      <th>1</th>\n",
       "      <td>среднее</td>\n",
       "      <td>1</td>\n",
       "    </tr>\n",
       "    <tr>\n",
       "      <th>2</th>\n",
       "      <td>Среднее</td>\n",
       "      <td>1</td>\n",
       "    </tr>\n",
       "    <tr>\n",
       "      <th>3</th>\n",
       "      <td>среднее</td>\n",
       "      <td>1</td>\n",
       "    </tr>\n",
       "    <tr>\n",
       "      <th>4</th>\n",
       "      <td>среднее</td>\n",
       "      <td>1</td>\n",
       "    </tr>\n",
       "    <tr>\n",
       "      <th>5</th>\n",
       "      <td>высшее</td>\n",
       "      <td>0</td>\n",
       "    </tr>\n",
       "    <tr>\n",
       "      <th>6</th>\n",
       "      <td>высшее</td>\n",
       "      <td>0</td>\n",
       "    </tr>\n",
       "    <tr>\n",
       "      <th>7</th>\n",
       "      <td>СРЕДНЕЕ</td>\n",
       "      <td>1</td>\n",
       "    </tr>\n",
       "    <tr>\n",
       "      <th>8</th>\n",
       "      <td>ВЫСШЕЕ</td>\n",
       "      <td>0</td>\n",
       "    </tr>\n",
       "    <tr>\n",
       "      <th>9</th>\n",
       "      <td>среднее</td>\n",
       "      <td>1</td>\n",
       "    </tr>\n",
       "  </tbody>\n",
       "</table>\n",
       "</div>"
      ],
      "text/plain": [
       "  education  education_id\n",
       "0    высшее             0\n",
       "1   среднее             1\n",
       "2   Среднее             1\n",
       "3   среднее             1\n",
       "4   среднее             1\n",
       "5    высшее             0\n",
       "6    высшее             0\n",
       "7   СРЕДНЕЕ             1\n",
       "8    ВЫСШЕЕ             0\n",
       "9   среднее             1"
      ]
     },
     "execution_count": 50,
     "metadata": {},
     "output_type": "execute_result"
    }
   ],
   "source": [
    "df_education = df.loc[:, ['education', 'education_id']]\n",
    "df_education.head(10)"
   ]
  },
  {
   "cell_type": "markdown",
   "metadata": {},
   "source": [
    "Уберем явные и неявные повторы с помощью методов str.lower() и drop_duplicates()"
   ]
  },
  {
   "cell_type": "code",
   "execution_count": 51,
   "metadata": {},
   "outputs": [
    {
     "data": {
      "text/html": [
       "<div>\n",
       "<style scoped>\n",
       "    .dataframe tbody tr th:only-of-type {\n",
       "        vertical-align: middle;\n",
       "    }\n",
       "\n",
       "    .dataframe tbody tr th {\n",
       "        vertical-align: top;\n",
       "    }\n",
       "\n",
       "    .dataframe thead th {\n",
       "        text-align: right;\n",
       "    }\n",
       "</style>\n",
       "<table border=\"1\" class=\"dataframe\">\n",
       "  <thead>\n",
       "    <tr style=\"text-align: right;\">\n",
       "      <th></th>\n",
       "      <th>education</th>\n",
       "      <th>education_id</th>\n",
       "    </tr>\n",
       "  </thead>\n",
       "  <tbody>\n",
       "    <tr>\n",
       "      <th>0</th>\n",
       "      <td>высшее</td>\n",
       "      <td>0</td>\n",
       "    </tr>\n",
       "    <tr>\n",
       "      <th>1</th>\n",
       "      <td>среднее</td>\n",
       "      <td>1</td>\n",
       "    </tr>\n",
       "    <tr>\n",
       "      <th>2</th>\n",
       "      <td>неоконченное высшее</td>\n",
       "      <td>2</td>\n",
       "    </tr>\n",
       "    <tr>\n",
       "      <th>3</th>\n",
       "      <td>начальное</td>\n",
       "      <td>3</td>\n",
       "    </tr>\n",
       "    <tr>\n",
       "      <th>4</th>\n",
       "      <td>ученая степень</td>\n",
       "      <td>4</td>\n",
       "    </tr>\n",
       "  </tbody>\n",
       "</table>\n",
       "</div>"
      ],
      "text/plain": [
       "             education  education_id\n",
       "0               высшее             0\n",
       "1              среднее             1\n",
       "2  неоконченное высшее             2\n",
       "3            начальное             3\n",
       "4       ученая степень             4"
      ]
     },
     "execution_count": 51,
     "metadata": {},
     "output_type": "execute_result"
    }
   ],
   "source": [
    "df_education['education'] = df_education['education'].str.lower()\n",
    "df_education = df_education.drop_duplicates().reset_index(drop=True)\n",
    "df_education"
   ]
  },
  {
   "cell_type": "code",
   "execution_count": 52,
   "metadata": {
    "scrolled": true
   },
   "outputs": [
    {
     "data": {
      "text/html": [
       "<div>\n",
       "<style scoped>\n",
       "    .dataframe tbody tr th:only-of-type {\n",
       "        vertical-align: middle;\n",
       "    }\n",
       "\n",
       "    .dataframe tbody tr th {\n",
       "        vertical-align: top;\n",
       "    }\n",
       "\n",
       "    .dataframe thead th {\n",
       "        text-align: right;\n",
       "    }\n",
       "</style>\n",
       "<table border=\"1\" class=\"dataframe\">\n",
       "  <thead>\n",
       "    <tr style=\"text-align: right;\">\n",
       "      <th></th>\n",
       "      <th>family_status</th>\n",
       "      <th>family_status_id</th>\n",
       "    </tr>\n",
       "  </thead>\n",
       "  <tbody>\n",
       "    <tr>\n",
       "      <th>0</th>\n",
       "      <td>женат / замужем</td>\n",
       "      <td>0</td>\n",
       "    </tr>\n",
       "    <tr>\n",
       "      <th>1</th>\n",
       "      <td>гражданский брак</td>\n",
       "      <td>1</td>\n",
       "    </tr>\n",
       "    <tr>\n",
       "      <th>2</th>\n",
       "      <td>вдовец / вдова</td>\n",
       "      <td>2</td>\n",
       "    </tr>\n",
       "    <tr>\n",
       "      <th>3</th>\n",
       "      <td>в разводе</td>\n",
       "      <td>3</td>\n",
       "    </tr>\n",
       "    <tr>\n",
       "      <th>4</th>\n",
       "      <td>Не женат / не замужем</td>\n",
       "      <td>4</td>\n",
       "    </tr>\n",
       "  </tbody>\n",
       "</table>\n",
       "</div>"
      ],
      "text/plain": [
       "           family_status  family_status_id\n",
       "0        женат / замужем                 0\n",
       "1       гражданский брак                 1\n",
       "2         вдовец / вдова                 2\n",
       "3              в разводе                 3\n",
       "4  Не женат / не замужем                 4"
      ]
     },
     "execution_count": 52,
     "metadata": {},
     "output_type": "execute_result"
    }
   ],
   "source": [
    "df_family_status = df.loc[:, ['family_status', 'family_status_id']]\n",
    "df_family_status = df_family_status.drop_duplicates().reset_index(drop=True)\n",
    "df_family_status"
   ]
  },
  {
   "cell_type": "markdown",
   "metadata": {},
   "source": [
    "Поправим регистр в последней категории"
   ]
  },
  {
   "cell_type": "code",
   "execution_count": 53,
   "metadata": {
    "scrolled": false
   },
   "outputs": [
    {
     "data": {
      "text/html": [
       "<div>\n",
       "<style scoped>\n",
       "    .dataframe tbody tr th:only-of-type {\n",
       "        vertical-align: middle;\n",
       "    }\n",
       "\n",
       "    .dataframe tbody tr th {\n",
       "        vertical-align: top;\n",
       "    }\n",
       "\n",
       "    .dataframe thead th {\n",
       "        text-align: right;\n",
       "    }\n",
       "</style>\n",
       "<table border=\"1\" class=\"dataframe\">\n",
       "  <thead>\n",
       "    <tr style=\"text-align: right;\">\n",
       "      <th></th>\n",
       "      <th>family_status</th>\n",
       "      <th>family_status_id</th>\n",
       "    </tr>\n",
       "  </thead>\n",
       "  <tbody>\n",
       "    <tr>\n",
       "      <th>0</th>\n",
       "      <td>женат / замужем</td>\n",
       "      <td>0</td>\n",
       "    </tr>\n",
       "    <tr>\n",
       "      <th>1</th>\n",
       "      <td>гражданский брак</td>\n",
       "      <td>1</td>\n",
       "    </tr>\n",
       "    <tr>\n",
       "      <th>2</th>\n",
       "      <td>вдовец / вдова</td>\n",
       "      <td>2</td>\n",
       "    </tr>\n",
       "    <tr>\n",
       "      <th>3</th>\n",
       "      <td>в разводе</td>\n",
       "      <td>3</td>\n",
       "    </tr>\n",
       "    <tr>\n",
       "      <th>4</th>\n",
       "      <td>не женат / не замужем</td>\n",
       "      <td>4</td>\n",
       "    </tr>\n",
       "  </tbody>\n",
       "</table>\n",
       "</div>"
      ],
      "text/plain": [
       "           family_status  family_status_id\n",
       "0        женат / замужем                 0\n",
       "1       гражданский брак                 1\n",
       "2         вдовец / вдова                 2\n",
       "3              в разводе                 3\n",
       "4  не женат / не замужем                 4"
      ]
     },
     "execution_count": 53,
     "metadata": {},
     "output_type": "execute_result"
    }
   ],
   "source": [
    "df_family_status.loc[4, 'family_status'] = 'не женат / не замужем'\n",
    "df_family_status"
   ]
  },
  {
   "cell_type": "markdown",
   "metadata": {},
   "source": [
    "Теперь уберем лишние столбцы из датафрейма"
   ]
  },
  {
   "cell_type": "code",
   "execution_count": 54,
   "metadata": {},
   "outputs": [],
   "source": [
    "df = df.drop(columns=['education', 'family_status'])"
   ]
  },
  {
   "cell_type": "code",
   "execution_count": 55,
   "metadata": {},
   "outputs": [
    {
     "name": "stdout",
     "output_type": "stream",
     "text": [
      "<class 'pandas.core.frame.DataFrame'>\n",
      "RangeIndex: 21525 entries, 0 to 21524\n",
      "Data columns (total 11 columns):\n",
      " #   Column            Non-Null Count  Dtype  \n",
      "---  ------            --------------  -----  \n",
      " 0   children          21525 non-null  int64  \n",
      " 1   employed          21525 non-null  float64\n",
      " 2   age               21525 non-null  int64  \n",
      " 3   education_id      21525 non-null  int64  \n",
      " 4   family_status_id  21525 non-null  int64  \n",
      " 5   gender            21525 non-null  object \n",
      " 6   income_type       21525 non-null  object \n",
      " 7   debt_status       21525 non-null  int64  \n",
      " 8   total_income      21525 non-null  float64\n",
      " 9   purpose           21525 non-null  object \n",
      " 10  age_id            21525 non-null  int64  \n",
      "dtypes: float64(2), int64(6), object(3)\n",
      "memory usage: 1.8+ MB\n"
     ]
    }
   ],
   "source": [
    "df.info()"
   ]
  },
  {
   "cell_type": "markdown",
   "metadata": {},
   "source": [
    "**Вывод**"
   ]
  },
  {
   "cell_type": "markdown",
   "metadata": {},
   "source": [
    "* Для удобства столбцы были переименованы, а лишние перенесены в отдельные таблицы.\n",
    "\n",
    "* Был проведен анализ данных на предмет пропусков и аномалий. \n",
    "\n",
    "* Убрали данные, где количеством детей было аномальным, так как эти значения составляли лишь 0,6% от общих данных и могли существенно повлиять на результат.\n",
    "\n",
    "* В столбце возраста пропуски в виде нулевого значения заменили на медианное.\n",
    "\n",
    "* В столбце пола 1 пропуск заменили на значение моды.\n",
    "\n",
    "* В двух столбцах employed и total_income с вещественным типом данных выявлены одновременные пропуски, которые составляют около 10% от общего количества, что довольно существенно. Заменили пропуски на медианные значения.\n",
    "\n",
    "* Замечены повторы категорий в столбцах purpose и education.\n",
    "\n",
    "**Пропусков больше нет**"
   ]
  },
  {
   "cell_type": "markdown",
   "metadata": {},
   "source": [
    "### Замена типа данных\n",
    "#### Проведем замену типа данных в колонках employed и total_income на целочисленный"
   ]
  },
  {
   "cell_type": "code",
   "execution_count": 56,
   "metadata": {
    "scrolled": false
   },
   "outputs": [
    {
     "data": {
      "text/html": [
       "<div>\n",
       "<style scoped>\n",
       "    .dataframe tbody tr th:only-of-type {\n",
       "        vertical-align: middle;\n",
       "    }\n",
       "\n",
       "    .dataframe tbody tr th {\n",
       "        vertical-align: top;\n",
       "    }\n",
       "\n",
       "    .dataframe thead th {\n",
       "        text-align: right;\n",
       "    }\n",
       "</style>\n",
       "<table border=\"1\" class=\"dataframe\">\n",
       "  <thead>\n",
       "    <tr style=\"text-align: right;\">\n",
       "      <th></th>\n",
       "      <th>children</th>\n",
       "      <th>employed</th>\n",
       "      <th>age</th>\n",
       "      <th>education_id</th>\n",
       "      <th>family_status_id</th>\n",
       "      <th>gender</th>\n",
       "      <th>income_type</th>\n",
       "      <th>debt_status</th>\n",
       "      <th>total_income</th>\n",
       "      <th>purpose</th>\n",
       "      <th>age_id</th>\n",
       "    </tr>\n",
       "  </thead>\n",
       "  <tbody>\n",
       "    <tr>\n",
       "      <th>0</th>\n",
       "      <td>1</td>\n",
       "      <td>8437</td>\n",
       "      <td>42</td>\n",
       "      <td>0</td>\n",
       "      <td>0</td>\n",
       "      <td>F</td>\n",
       "      <td>сотрудник</td>\n",
       "      <td>0</td>\n",
       "      <td>253875</td>\n",
       "      <td>покупка жилья</td>\n",
       "      <td>2</td>\n",
       "    </tr>\n",
       "    <tr>\n",
       "      <th>1</th>\n",
       "      <td>1</td>\n",
       "      <td>4024</td>\n",
       "      <td>36</td>\n",
       "      <td>1</td>\n",
       "      <td>0</td>\n",
       "      <td>F</td>\n",
       "      <td>сотрудник</td>\n",
       "      <td>0</td>\n",
       "      <td>112080</td>\n",
       "      <td>приобретение автомобиля</td>\n",
       "      <td>2</td>\n",
       "    </tr>\n",
       "    <tr>\n",
       "      <th>2</th>\n",
       "      <td>0</td>\n",
       "      <td>5623</td>\n",
       "      <td>33</td>\n",
       "      <td>1</td>\n",
       "      <td>0</td>\n",
       "      <td>M</td>\n",
       "      <td>сотрудник</td>\n",
       "      <td>0</td>\n",
       "      <td>145885</td>\n",
       "      <td>покупка жилья</td>\n",
       "      <td>1</td>\n",
       "    </tr>\n",
       "    <tr>\n",
       "      <th>3</th>\n",
       "      <td>3</td>\n",
       "      <td>4124</td>\n",
       "      <td>32</td>\n",
       "      <td>1</td>\n",
       "      <td>0</td>\n",
       "      <td>M</td>\n",
       "      <td>сотрудник</td>\n",
       "      <td>0</td>\n",
       "      <td>267628</td>\n",
       "      <td>дополнительное образование</td>\n",
       "      <td>1</td>\n",
       "    </tr>\n",
       "    <tr>\n",
       "      <th>4</th>\n",
       "      <td>0</td>\n",
       "      <td>14177</td>\n",
       "      <td>53</td>\n",
       "      <td>1</td>\n",
       "      <td>1</td>\n",
       "      <td>F</td>\n",
       "      <td>пенсионер</td>\n",
       "      <td>0</td>\n",
       "      <td>158616</td>\n",
       "      <td>сыграть свадьбу</td>\n",
       "      <td>3</td>\n",
       "    </tr>\n",
       "  </tbody>\n",
       "</table>\n",
       "</div>"
      ],
      "text/plain": [
       "   children  employed  age  education_id  family_status_id gender income_type  \\\n",
       "0         1      8437   42             0                 0      F   сотрудник   \n",
       "1         1      4024   36             1                 0      F   сотрудник   \n",
       "2         0      5623   33             1                 0      M   сотрудник   \n",
       "3         3      4124   32             1                 0      M   сотрудник   \n",
       "4         0     14177   53             1                 1      F   пенсионер   \n",
       "\n",
       "   debt_status  total_income                     purpose  age_id  \n",
       "0            0        253875               покупка жилья       2  \n",
       "1            0        112080     приобретение автомобиля       2  \n",
       "2            0        145885               покупка жилья       1  \n",
       "3            0        267628  дополнительное образование       1  \n",
       "4            0        158616             сыграть свадьбу       3  "
      ]
     },
     "execution_count": 56,
     "metadata": {},
     "output_type": "execute_result"
    }
   ],
   "source": [
    "df['employed'] = df['employed'].astype('int')\n",
    "df['total_income'] = df['total_income'].astype('int')\n",
    "df.head()"
   ]
  },
  {
   "cell_type": "code",
   "execution_count": 57,
   "metadata": {},
   "outputs": [
    {
     "data": {
      "text/html": [
       "<div>\n",
       "<style scoped>\n",
       "    .dataframe tbody tr th:only-of-type {\n",
       "        vertical-align: middle;\n",
       "    }\n",
       "\n",
       "    .dataframe tbody tr th {\n",
       "        vertical-align: top;\n",
       "    }\n",
       "\n",
       "    .dataframe thead th {\n",
       "        text-align: right;\n",
       "    }\n",
       "</style>\n",
       "<table border=\"1\" class=\"dataframe\">\n",
       "  <thead>\n",
       "    <tr style=\"text-align: right;\">\n",
       "      <th></th>\n",
       "      <th>0</th>\n",
       "    </tr>\n",
       "  </thead>\n",
       "  <tbody>\n",
       "    <tr>\n",
       "      <th>children</th>\n",
       "      <td>int64</td>\n",
       "    </tr>\n",
       "    <tr>\n",
       "      <th>employed</th>\n",
       "      <td>int64</td>\n",
       "    </tr>\n",
       "    <tr>\n",
       "      <th>age</th>\n",
       "      <td>int64</td>\n",
       "    </tr>\n",
       "    <tr>\n",
       "      <th>education_id</th>\n",
       "      <td>int64</td>\n",
       "    </tr>\n",
       "    <tr>\n",
       "      <th>family_status_id</th>\n",
       "      <td>int64</td>\n",
       "    </tr>\n",
       "    <tr>\n",
       "      <th>gender</th>\n",
       "      <td>object</td>\n",
       "    </tr>\n",
       "    <tr>\n",
       "      <th>income_type</th>\n",
       "      <td>object</td>\n",
       "    </tr>\n",
       "    <tr>\n",
       "      <th>debt_status</th>\n",
       "      <td>int64</td>\n",
       "    </tr>\n",
       "    <tr>\n",
       "      <th>total_income</th>\n",
       "      <td>int64</td>\n",
       "    </tr>\n",
       "    <tr>\n",
       "      <th>purpose</th>\n",
       "      <td>object</td>\n",
       "    </tr>\n",
       "    <tr>\n",
       "      <th>age_id</th>\n",
       "      <td>int64</td>\n",
       "    </tr>\n",
       "  </tbody>\n",
       "</table>\n",
       "</div>"
      ],
      "text/plain": [
       "                       0\n",
       "children           int64\n",
       "employed           int64\n",
       "age                int64\n",
       "education_id       int64\n",
       "family_status_id   int64\n",
       "gender            object\n",
       "income_type       object\n",
       "debt_status        int64\n",
       "total_income       int64\n",
       "purpose           object\n",
       "age_id             int64"
      ]
     },
     "execution_count": 57,
     "metadata": {},
     "output_type": "execute_result"
    }
   ],
   "source": [
    "df.dtypes.to_frame()"
   ]
  },
  {
   "cell_type": "markdown",
   "metadata": {},
   "source": [
    "**Вывод**"
   ]
  },
  {
   "cell_type": "markdown",
   "metadata": {},
   "source": [
    "Провели изменения типа данных методом `astype()`, так как он подходит для преобразования типа данных из вещественного в целочисленный. Видим, что в датафрейме данных с вещественными числами больше нет и количественные данные округлены, так как нам нужна только целая часть. Остались целочисленные и строковые данные."
   ]
  },
  {
   "cell_type": "markdown",
   "metadata": {},
   "source": [
    "### Обработка дубликатов"
   ]
  },
  {
   "cell_type": "markdown",
   "metadata": {},
   "source": [
    "#### Найдем явные дубликаты"
   ]
  },
  {
   "cell_type": "code",
   "execution_count": 58,
   "metadata": {
    "scrolled": true
   },
   "outputs": [
    {
     "data": {
      "text/plain": [
       "71"
      ]
     },
     "execution_count": 58,
     "metadata": {},
     "output_type": "execute_result"
    }
   ],
   "source": [
    "df.duplicated().sum()"
   ]
  },
  {
   "cell_type": "code",
   "execution_count": 59,
   "metadata": {
    "scrolled": false
   },
   "outputs": [
    {
     "data": {
      "text/plain": [
       "130499    294\n",
       "146158    254\n",
       "156478    247\n",
       "153459    209\n",
       "157728    110\n",
       "184724    100\n",
       "179770     92\n",
       "184897     81\n",
       "169151     80\n",
       "219868     71\n",
       "Name: total_income, dtype: int64"
      ]
     },
     "execution_count": 59,
     "metadata": {},
     "output_type": "execute_result"
    }
   ],
   "source": [
    "df['total_income'].value_counts().head(10)"
   ]
  },
  {
   "cell_type": "markdown",
   "metadata": {},
   "source": [
    "Избавляемся от полных дубликатов в датафрейме и обновляем сквозную индексацию"
   ]
  },
  {
   "cell_type": "code",
   "execution_count": 60,
   "metadata": {},
   "outputs": [
    {
     "data": {
      "text/html": [
       "<div>\n",
       "<style scoped>\n",
       "    .dataframe tbody tr th:only-of-type {\n",
       "        vertical-align: middle;\n",
       "    }\n",
       "\n",
       "    .dataframe tbody tr th {\n",
       "        vertical-align: top;\n",
       "    }\n",
       "\n",
       "    .dataframe thead th {\n",
       "        text-align: right;\n",
       "    }\n",
       "</style>\n",
       "<table border=\"1\" class=\"dataframe\">\n",
       "  <thead>\n",
       "    <tr style=\"text-align: right;\">\n",
       "      <th></th>\n",
       "      <th>children</th>\n",
       "      <th>employed</th>\n",
       "      <th>age</th>\n",
       "      <th>education_id</th>\n",
       "      <th>family_status_id</th>\n",
       "      <th>gender</th>\n",
       "      <th>income_type</th>\n",
       "      <th>debt_status</th>\n",
       "      <th>total_income</th>\n",
       "      <th>purpose</th>\n",
       "      <th>age_id</th>\n",
       "    </tr>\n",
       "  </thead>\n",
       "  <tbody>\n",
       "    <tr>\n",
       "      <th>0</th>\n",
       "      <td>1</td>\n",
       "      <td>8437</td>\n",
       "      <td>42</td>\n",
       "      <td>0</td>\n",
       "      <td>0</td>\n",
       "      <td>F</td>\n",
       "      <td>сотрудник</td>\n",
       "      <td>0</td>\n",
       "      <td>253875</td>\n",
       "      <td>покупка жилья</td>\n",
       "      <td>2</td>\n",
       "    </tr>\n",
       "    <tr>\n",
       "      <th>1</th>\n",
       "      <td>1</td>\n",
       "      <td>4024</td>\n",
       "      <td>36</td>\n",
       "      <td>1</td>\n",
       "      <td>0</td>\n",
       "      <td>F</td>\n",
       "      <td>сотрудник</td>\n",
       "      <td>0</td>\n",
       "      <td>112080</td>\n",
       "      <td>приобретение автомобиля</td>\n",
       "      <td>2</td>\n",
       "    </tr>\n",
       "    <tr>\n",
       "      <th>2</th>\n",
       "      <td>0</td>\n",
       "      <td>5623</td>\n",
       "      <td>33</td>\n",
       "      <td>1</td>\n",
       "      <td>0</td>\n",
       "      <td>M</td>\n",
       "      <td>сотрудник</td>\n",
       "      <td>0</td>\n",
       "      <td>145885</td>\n",
       "      <td>покупка жилья</td>\n",
       "      <td>1</td>\n",
       "    </tr>\n",
       "    <tr>\n",
       "      <th>3</th>\n",
       "      <td>3</td>\n",
       "      <td>4124</td>\n",
       "      <td>32</td>\n",
       "      <td>1</td>\n",
       "      <td>0</td>\n",
       "      <td>M</td>\n",
       "      <td>сотрудник</td>\n",
       "      <td>0</td>\n",
       "      <td>267628</td>\n",
       "      <td>дополнительное образование</td>\n",
       "      <td>1</td>\n",
       "    </tr>\n",
       "    <tr>\n",
       "      <th>4</th>\n",
       "      <td>0</td>\n",
       "      <td>14177</td>\n",
       "      <td>53</td>\n",
       "      <td>1</td>\n",
       "      <td>1</td>\n",
       "      <td>F</td>\n",
       "      <td>пенсионер</td>\n",
       "      <td>0</td>\n",
       "      <td>158616</td>\n",
       "      <td>сыграть свадьбу</td>\n",
       "      <td>3</td>\n",
       "    </tr>\n",
       "    <tr>\n",
       "      <th>...</th>\n",
       "      <td>...</td>\n",
       "      <td>...</td>\n",
       "      <td>...</td>\n",
       "      <td>...</td>\n",
       "      <td>...</td>\n",
       "      <td>...</td>\n",
       "      <td>...</td>\n",
       "      <td>...</td>\n",
       "      <td>...</td>\n",
       "      <td>...</td>\n",
       "      <td>...</td>\n",
       "    </tr>\n",
       "    <tr>\n",
       "      <th>21449</th>\n",
       "      <td>1</td>\n",
       "      <td>4529</td>\n",
       "      <td>43</td>\n",
       "      <td>1</td>\n",
       "      <td>1</td>\n",
       "      <td>F</td>\n",
       "      <td>компаньон</td>\n",
       "      <td>0</td>\n",
       "      <td>224791</td>\n",
       "      <td>операции с жильем</td>\n",
       "      <td>2</td>\n",
       "    </tr>\n",
       "    <tr>\n",
       "      <th>21450</th>\n",
       "      <td>0</td>\n",
       "      <td>14330</td>\n",
       "      <td>67</td>\n",
       "      <td>1</td>\n",
       "      <td>0</td>\n",
       "      <td>F</td>\n",
       "      <td>пенсионер</td>\n",
       "      <td>0</td>\n",
       "      <td>155999</td>\n",
       "      <td>сделка с автомобилем</td>\n",
       "      <td>4</td>\n",
       "    </tr>\n",
       "    <tr>\n",
       "      <th>21451</th>\n",
       "      <td>1</td>\n",
       "      <td>2113</td>\n",
       "      <td>38</td>\n",
       "      <td>1</td>\n",
       "      <td>1</td>\n",
       "      <td>M</td>\n",
       "      <td>сотрудник</td>\n",
       "      <td>1</td>\n",
       "      <td>89672</td>\n",
       "      <td>недвижимость</td>\n",
       "      <td>2</td>\n",
       "    </tr>\n",
       "    <tr>\n",
       "      <th>21452</th>\n",
       "      <td>3</td>\n",
       "      <td>3112</td>\n",
       "      <td>38</td>\n",
       "      <td>1</td>\n",
       "      <td>0</td>\n",
       "      <td>M</td>\n",
       "      <td>сотрудник</td>\n",
       "      <td>1</td>\n",
       "      <td>244093</td>\n",
       "      <td>на покупку своего автомобиля</td>\n",
       "      <td>2</td>\n",
       "    </tr>\n",
       "    <tr>\n",
       "      <th>21453</th>\n",
       "      <td>2</td>\n",
       "      <td>1984</td>\n",
       "      <td>40</td>\n",
       "      <td>1</td>\n",
       "      <td>0</td>\n",
       "      <td>F</td>\n",
       "      <td>сотрудник</td>\n",
       "      <td>0</td>\n",
       "      <td>82047</td>\n",
       "      <td>на покупку автомобиля</td>\n",
       "      <td>2</td>\n",
       "    </tr>\n",
       "  </tbody>\n",
       "</table>\n",
       "<p>21454 rows × 11 columns</p>\n",
       "</div>"
      ],
      "text/plain": [
       "       children  employed  age  education_id  family_status_id gender  \\\n",
       "0             1      8437   42             0                 0      F   \n",
       "1             1      4024   36             1                 0      F   \n",
       "2             0      5623   33             1                 0      M   \n",
       "3             3      4124   32             1                 0      M   \n",
       "4             0     14177   53             1                 1      F   \n",
       "...         ...       ...  ...           ...               ...    ...   \n",
       "21449         1      4529   43             1                 1      F   \n",
       "21450         0     14330   67             1                 0      F   \n",
       "21451         1      2113   38             1                 1      M   \n",
       "21452         3      3112   38             1                 0      M   \n",
       "21453         2      1984   40             1                 0      F   \n",
       "\n",
       "      income_type  debt_status  total_income                       purpose  \\\n",
       "0       сотрудник            0        253875                 покупка жилья   \n",
       "1       сотрудник            0        112080       приобретение автомобиля   \n",
       "2       сотрудник            0        145885                 покупка жилья   \n",
       "3       сотрудник            0        267628    дополнительное образование   \n",
       "4       пенсионер            0        158616               сыграть свадьбу   \n",
       "...           ...          ...           ...                           ...   \n",
       "21449   компаньон            0        224791             операции с жильем   \n",
       "21450   пенсионер            0        155999          сделка с автомобилем   \n",
       "21451   сотрудник            1         89672                  недвижимость   \n",
       "21452   сотрудник            1        244093  на покупку своего автомобиля   \n",
       "21453   сотрудник            0         82047         на покупку автомобиля   \n",
       "\n",
       "       age_id  \n",
       "0           2  \n",
       "1           2  \n",
       "2           1  \n",
       "3           1  \n",
       "4           3  \n",
       "...       ...  \n",
       "21449       2  \n",
       "21450       4  \n",
       "21451       2  \n",
       "21452       2  \n",
       "21453       2  \n",
       "\n",
       "[21454 rows x 11 columns]"
      ]
     },
     "execution_count": 60,
     "metadata": {},
     "output_type": "execute_result"
    }
   ],
   "source": [
    "df.drop_duplicates().reset_index(drop=True)"
   ]
  },
  {
   "cell_type": "markdown",
   "metadata": {},
   "source": [
    "**Вывод**"
   ]
  },
  {
   "cell_type": "markdown",
   "metadata": {},
   "source": [
    "Для поиска дубликатов использован метод `duplicated()` вместе с `sum()` для отображения их количества. \n",
    "Для избавления от дубликатов использован метод `drop_duplicates()` вместе с методом `reset_index()` и аргументом `drop=True` для сброса индексации. Таким образом сделана копия датафрейма без дубликатов.\n",
    "Возможные причины появления дубликатов в данных заключаются в системной технической ошибке. Причины дубликатов в категориях столбца об образовании - человеческий фактор."
   ]
  },
  {
   "cell_type": "markdown",
   "metadata": {},
   "source": [
    "### Лемматизация"
   ]
  },
  {
   "cell_type": "markdown",
   "metadata": {},
   "source": [
    "Для разбиения на классы выделяем леммы в значениях столбца с целями получения кредита"
   ]
  },
  {
   "cell_type": "code",
   "execution_count": 106,
   "metadata": {},
   "outputs": [
    {
     "data": {
      "text/plain": [
       "array(['покупка жилья', 'приобретение автомобиля',\n",
       "       'дополнительное образование', 'сыграть свадьбу',\n",
       "       'операции с жильем', 'образование', 'на проведение свадьбы',\n",
       "       'покупка жилья для семьи', 'покупка недвижимости',\n",
       "       'покупка коммерческой недвижимости', 'покупка жилой недвижимости',\n",
       "       'строительство собственной недвижимости', 'недвижимость',\n",
       "       'строительство недвижимости', 'на покупку подержанного автомобиля',\n",
       "       'на покупку своего автомобиля',\n",
       "       'операции с коммерческой недвижимостью',\n",
       "       'строительство жилой недвижимости', 'жилье',\n",
       "       'операции со своей недвижимостью', 'автомобили',\n",
       "       'заняться образованием', 'сделка с подержанным автомобилем',\n",
       "       'получение образования', 'автомобиль', 'свадьба',\n",
       "       'получение дополнительного образования', 'покупка своего жилья',\n",
       "       'операции с недвижимостью', 'получение высшего образования',\n",
       "       'свой автомобиль', 'сделка с автомобилем',\n",
       "       'профильное образование', 'высшее образование',\n",
       "       'покупка жилья для сдачи', 'на покупку автомобиля', 'ремонт жилью',\n",
       "       'заняться высшим образованием'], dtype=object)"
      ]
     },
     "execution_count": 106,
     "metadata": {},
     "output_type": "execute_result"
    }
   ],
   "source": [
    "df['purpose'].unique()"
   ]
  },
  {
   "cell_type": "code",
   "execution_count": 124,
   "metadata": {
    "scrolled": true
   },
   "outputs": [
    {
     "data": {
      "text/plain": [
       "'покупка жилья приобретение автомобиля покупка жилья дополнительное образование сыграть свадьбу покупка жилья операции с жильем образование на проведение свадьбы покупка жилья для семьи покупка недвижимости покупка коммерческой недвижимости сыграть свадьбу приобретение автомобиля покупка жилой недвижимости строительство собственной недвижимости недвижимость строительство недвижимости на покупку подержанного автомобиля на покупку своего автомобиля недвижимость приобретение автомобиля на покупку подержанного автомобиля сыграть свадьбу операции с коммерческой недвижимостью покупка недвижимости образование строительство собственной недвижимости строительство собственной недвижимости строительство жилой недвижимости операции с коммерческой недвижимостью жилье на проведение свадьбы покупка жилья операции со своей недвижимостью на проведение свадьбы автомобили приобретение автомобиля образование заняться образованием покупка недвижимости сделка с подержанным автомобилем получение образования п'"
      ]
     },
     "execution_count": 124,
     "metadata": {},
     "output_type": "execute_result"
    }
   ],
   "source": [
    "# Сделаем из списка запросов строку\n",
    "\n",
    "queries = ' '.join(df['purpose'])\n",
    "text = ' '.join(df['purpose'].unique())\n",
    "queries[:1000]"
   ]
  },
  {
   "cell_type": "code",
   "execution_count": null,
   "metadata": {},
   "outputs": [],
   "source": [
    "# Проводим лемматизацию строки, предварительно загрузим модуль лемматизатора \n",
    "import json\n",
    "#pprint(json.dumps(m.analyze(text), ensure_ascii=False))\n",
    "lemmas = m.lemmatize(queries)\n",
    "from pprint import pprint"
   ]
  },
  {
   "cell_type": "code",
   "execution_count": 211,
   "metadata": {
    "scrolled": true
   },
   "outputs": [
    {
     "data": {
      "text/html": [
       "<div>\n",
       "<style scoped>\n",
       "    .dataframe tbody tr th:only-of-type {\n",
       "        vertical-align: middle;\n",
       "    }\n",
       "\n",
       "    .dataframe tbody tr th {\n",
       "        vertical-align: top;\n",
       "    }\n",
       "\n",
       "    .dataframe thead th {\n",
       "        text-align: right;\n",
       "    }\n",
       "</style>\n",
       "<table border=\"1\" class=\"dataframe\">\n",
       "  <thead>\n",
       "    <tr style=\"text-align: right;\">\n",
       "      <th></th>\n",
       "      <th>lex</th>\n",
       "      <th>wt</th>\n",
       "      <th>gr</th>\n",
       "    </tr>\n",
       "  </thead>\n",
       "  <tbody>\n",
       "    <tr>\n",
       "      <th>0</th>\n",
       "      <td>покупка</td>\n",
       "      <td>1</td>\n",
       "      <td>S,жен,неод=им,ед</td>\n",
       "    </tr>\n",
       "    <tr>\n",
       "      <th>1</th>\n",
       "      <td>жилье</td>\n",
       "      <td>1</td>\n",
       "      <td>S,ед,сред,неод=род</td>\n",
       "    </tr>\n",
       "    <tr>\n",
       "      <th>2</th>\n",
       "      <td>приобретение</td>\n",
       "      <td>1</td>\n",
       "      <td>S,сред,неод=(вин,ед|им,ед)</td>\n",
       "    </tr>\n",
       "    <tr>\n",
       "      <th>3</th>\n",
       "      <td>автомобиль</td>\n",
       "      <td>1</td>\n",
       "      <td>S,муж,неод=род,ед</td>\n",
       "    </tr>\n",
       "    <tr>\n",
       "      <th>4</th>\n",
       "      <td>покупка</td>\n",
       "      <td>1</td>\n",
       "      <td>S,жен,неод=им,ед</td>\n",
       "    </tr>\n",
       "    <tr>\n",
       "      <th>5</th>\n",
       "      <td>жилье</td>\n",
       "      <td>1</td>\n",
       "      <td>S,ед,сред,неод=род</td>\n",
       "    </tr>\n",
       "    <tr>\n",
       "      <th>6</th>\n",
       "      <td>дополнительный</td>\n",
       "      <td>1</td>\n",
       "      <td>A=(вин,ед,полн,сред|им,ед,полн,сред)</td>\n",
       "    </tr>\n",
       "    <tr>\n",
       "      <th>7</th>\n",
       "      <td>образование</td>\n",
       "      <td>1</td>\n",
       "      <td>S,сред,неод=(вин,ед|им,ед)</td>\n",
       "    </tr>\n",
       "    <tr>\n",
       "      <th>8</th>\n",
       "      <td>сыграть</td>\n",
       "      <td>1</td>\n",
       "      <td>V,сов,пе=инф</td>\n",
       "    </tr>\n",
       "    <tr>\n",
       "      <th>9</th>\n",
       "      <td>свадьба</td>\n",
       "      <td>1</td>\n",
       "      <td>S,жен,неод=вин,ед</td>\n",
       "    </tr>\n",
       "  </tbody>\n",
       "</table>\n",
       "</div>"
      ],
      "text/plain": [
       "              lex wt                                    gr\n",
       "0         покупка  1                      S,жен,неод=им,ед\n",
       "1           жилье  1                    S,ед,сред,неод=род\n",
       "2    приобретение  1            S,сред,неод=(вин,ед|им,ед)\n",
       "3      автомобиль  1                     S,муж,неод=род,ед\n",
       "4         покупка  1                      S,жен,неод=им,ед\n",
       "5           жилье  1                    S,ед,сред,неод=род\n",
       "6  дополнительный  1  A=(вин,ед,полн,сред|им,ед,полн,сред)\n",
       "7     образование  1            S,сред,неод=(вин,ед|им,ед)\n",
       "8         сыграть  1                          V,сов,пе=инф\n",
       "9         свадьба  1                     S,жен,неод=вин,ед"
      ]
     },
     "execution_count": 211,
     "metadata": {},
     "output_type": "execute_result"
    }
   ],
   "source": [
    "from pymystem3 import Mystem\n",
    "m = Mystem(entire_input=False)\n",
    "\n",
    "queries = ' '.join(df['purpose'])\n",
    "table_analyze = pd.DataFrame(m.analyze(queries))\n",
    "\n",
    "dict, i = {}, 0\n",
    "\n",
    "for row in table_analyze['analysis']:\n",
    "    dict[i] = row[0]\n",
    "    i += 1\n",
    "\n",
    "table = pd.DataFrame(dict).transpose()\n",
    "table.head(10)"
   ]
  },
  {
   "cell_type": "code",
   "execution_count": 205,
   "metadata": {},
   "outputs": [
    {
     "data": {
      "text/plain": [
       "lex\n",
       "недвижимость     6367\n",
       "покупка          5912\n",
       "жилье            4473\n",
       "автомобиль       4315\n",
       "образование      4022\n",
       "операция         2610\n",
       "свадьба          2348\n",
       "строительство    1881\n",
       "получение        1316\n",
       "сделка            944\n",
       "проведение        777\n",
       "сдача             653\n",
       "семья             641\n",
       "ремонт            612\n",
       "приобретение      462\n",
       "Name: wt, dtype: int64"
      ]
     },
     "execution_count": 205,
     "metadata": {},
     "output_type": "execute_result"
    }
   ],
   "source": [
    "table[table['gr'].str.contains('S')].groupby('lex')['wt'].count().sort_values(ascending=False)"
   ]
  },
  {
   "cell_type": "code",
   "execution_count": 117,
   "metadata": {},
   "outputs": [
    {
     "data": {
      "text/plain": [
       "[('недвижимость', 6367),\n",
       " ('покупка', 5912),\n",
       " ('жилье', 4473),\n",
       " ('автомобиль', 4315),\n",
       " ('образование', 4022),\n",
       " ('с', 2924),\n",
       " ('операция', 2610),\n",
       " ('свадьба', 2348),\n",
       " ('свой', 2235),\n",
       " ('на', 2233),\n",
       " ('строительство', 1881),\n",
       " ('высокий', 1375),\n",
       " ('получение', 1316),\n",
       " ('коммерческий', 1315),\n",
       " ('для', 1294),\n",
       " ('жилой', 1233),\n",
       " ('сделка', 944),\n",
       " ('дополнительный', 909),\n",
       " ('заниматься', 908),\n",
       " ('подержать', 858),\n",
       " ('проведение', 777),\n",
       " ('сыграть', 774),\n",
       " ('сдача', 653),\n",
       " ('семья', 641),\n",
       " ('собственный', 635),\n",
       " ('со', 630),\n",
       " ('ремонт', 612),\n",
       " ('приобретение', 462),\n",
       " ('профильный', 436),\n",
       " ('подержанный', 110)]"
      ]
     },
     "execution_count": 117,
     "metadata": {},
     "output_type": "execute_result"
    }
   ],
   "source": [
    "# Для подсчета частоты лемм используем функцию Counter из модуля collections \n",
    "\n",
    "from collections import Counter\n",
    "lemmas_count = Counter(lemmas)\n",
    "sorted(lemmas_count.items(), key = lambda x: x[1], reverse=True)"
   ]
  },
  {
   "cell_type": "code",
   "execution_count": 86,
   "metadata": {},
   "outputs": [
    {
     "name": "stdout",
     "output_type": "stream",
     "text": [
      "['недвижимость', 'покупка', 'жилье', 'автомобиль', 'образование', 'операция', 'свадьба', 'строительство']\n"
     ]
    }
   ],
   "source": [
    "final_list_of_purposes = [i for i in sorted(lemmas_count, key=lemmas_count.get, reverse=True)\n",
    "                          if len(i) > 4 if i != ' ' if i != '\\n'][0:8]\n",
    "print(final_list_of_purposes)"
   ]
  },
  {
   "cell_type": "markdown",
   "metadata": {},
   "source": [
    "**Вывод**"
   ]
  },
  {
   "cell_type": "markdown",
   "metadata": {},
   "source": [
    "Выделены леммы в значениях столбца с целями получения кредита. \n",
    "\n",
    "Выделяем следующие 6 категорий целей на основе анализа лемм: \n",
    "\n",
    "1. строительство или ремонт\n",
    "2. автомобиль\n",
    "3. образование\n",
    "4. свадьба\n",
    "5. недвижимость или жилье \n",
    "6. другое\n",
    "\n",
    "Слово \"покупка\" слишкое общее и емкое, слово \"операция\" здесь относится только к недвижимости.\n",
    "\n",
    "Процесс лемматизации:\n",
    "* Получение уникальных значений столбца методом unique()\n",
    "* Сведение значений в строку методом join()\n",
    "* Лемматизация строки методом lemmatize() из модуля Mystem библиотеки pymystem3 Яндекса\n",
    "* Нахождение частот лемм для классификации"
   ]
  },
  {
   "cell_type": "markdown",
   "metadata": {},
   "source": [
    "### Категоризация данных"
   ]
  },
  {
   "cell_type": "markdown",
   "metadata": {},
   "source": [
    "#### Проведем категоризацию клиентов в зависимости от категории цели кредита \n",
    "\n",
    "Введем функцию, возвращающую идентификатор категории цели кредита в зависимости от лемм цели"
   ]
  },
  {
   "cell_type": "code",
   "execution_count": 65,
   "metadata": {},
   "outputs": [],
   "source": [
    "def get_purpose_id(purposes):\n",
    "    \n",
    "    # извлекаем леммы из запроса  \n",
    "    lemma = m.lemmatize(purposes)\n",
    "    \n",
    "    if (('строительство' in lemma) or ('ремонт' in lemma)):\n",
    "        return 0\n",
    "    elif 'автомобиль' in lemma:\n",
    "        return 1\n",
    "    elif 'образование' in lemma:\n",
    "        return 2\n",
    "    elif 'свадьба' in lemma:\n",
    "        return 3\n",
    "    elif (('недвижимость' in lemma) or ('жилье' in lemma)):\n",
    "        return 4\n",
    "    else:\n",
    "        return 5"
   ]
  },
  {
   "cell_type": "code",
   "execution_count": 66,
   "metadata": {
    "scrolled": true
   },
   "outputs": [
    {
     "data": {
      "text/plain": [
       "{'покупка жилья': 4,\n",
       " 'приобретение автомобиля': 1,\n",
       " 'дополнительное образование': 2,\n",
       " 'сыграть свадьбу': 3,\n",
       " 'операции с жильем': 4,\n",
       " 'образование': 2,\n",
       " 'на проведение свадьбы': 3,\n",
       " 'покупка жилья для семьи': 4,\n",
       " 'покупка недвижимости': 4,\n",
       " 'покупка коммерческой недвижимости': 4,\n",
       " 'покупка жилой недвижимости': 4,\n",
       " 'строительство собственной недвижимости': 0,\n",
       " 'недвижимость': 4,\n",
       " 'строительство недвижимости': 0,\n",
       " 'на покупку подержанного автомобиля': 1,\n",
       " 'на покупку своего автомобиля': 1,\n",
       " 'операции с коммерческой недвижимостью': 4,\n",
       " 'строительство жилой недвижимости': 0,\n",
       " 'жилье': 4,\n",
       " 'операции со своей недвижимостью': 4,\n",
       " 'автомобили': 1,\n",
       " 'заняться образованием': 2,\n",
       " 'сделка с подержанным автомобилем': 1,\n",
       " 'получение образования': 2,\n",
       " 'автомобиль': 1,\n",
       " 'свадьба': 3,\n",
       " 'получение дополнительного образования': 2,\n",
       " 'покупка своего жилья': 4,\n",
       " 'операции с недвижимостью': 4,\n",
       " 'получение высшего образования': 2,\n",
       " 'свой автомобиль': 1,\n",
       " 'сделка с автомобилем': 1,\n",
       " 'профильное образование': 2,\n",
       " 'высшее образование': 2,\n",
       " 'покупка жилья для сдачи': 4,\n",
       " 'на покупку автомобиля': 1,\n",
       " 'ремонт жилью': 0,\n",
       " 'заняться высшим образованием': 2}"
      ]
     },
     "execution_count": 66,
     "metadata": {},
     "output_type": "execute_result"
    }
   ],
   "source": [
    "# Составим словарь категорий целей\n",
    "\n",
    "purpose_dict = {}\n",
    "\n",
    "for key in df['purpose'].unique():\n",
    "    purpose_dict[key] = get_purpose_id(key)\n",
    "    \n",
    "purpose_dict"
   ]
  },
  {
   "cell_type": "code",
   "execution_count": 67,
   "metadata": {
    "scrolled": true
   },
   "outputs": [
    {
     "data": {
      "text/html": [
       "<div>\n",
       "<style scoped>\n",
       "    .dataframe tbody tr th:only-of-type {\n",
       "        vertical-align: middle;\n",
       "    }\n",
       "\n",
       "    .dataframe tbody tr th {\n",
       "        vertical-align: top;\n",
       "    }\n",
       "\n",
       "    .dataframe thead th {\n",
       "        text-align: right;\n",
       "    }\n",
       "</style>\n",
       "<table border=\"1\" class=\"dataframe\">\n",
       "  <thead>\n",
       "    <tr style=\"text-align: right;\">\n",
       "      <th></th>\n",
       "      <th>children</th>\n",
       "      <th>employed</th>\n",
       "      <th>age</th>\n",
       "      <th>education_id</th>\n",
       "      <th>family_status_id</th>\n",
       "      <th>gender</th>\n",
       "      <th>income_type</th>\n",
       "      <th>debt_status</th>\n",
       "      <th>total_income</th>\n",
       "      <th>purpose</th>\n",
       "      <th>age_id</th>\n",
       "      <th>purpose_id</th>\n",
       "    </tr>\n",
       "  </thead>\n",
       "  <tbody>\n",
       "    <tr>\n",
       "      <th>0</th>\n",
       "      <td>1</td>\n",
       "      <td>8437</td>\n",
       "      <td>42</td>\n",
       "      <td>0</td>\n",
       "      <td>0</td>\n",
       "      <td>F</td>\n",
       "      <td>сотрудник</td>\n",
       "      <td>0</td>\n",
       "      <td>253875</td>\n",
       "      <td>покупка жилья</td>\n",
       "      <td>2</td>\n",
       "      <td>4</td>\n",
       "    </tr>\n",
       "    <tr>\n",
       "      <th>1</th>\n",
       "      <td>1</td>\n",
       "      <td>4024</td>\n",
       "      <td>36</td>\n",
       "      <td>1</td>\n",
       "      <td>0</td>\n",
       "      <td>F</td>\n",
       "      <td>сотрудник</td>\n",
       "      <td>0</td>\n",
       "      <td>112080</td>\n",
       "      <td>приобретение автомобиля</td>\n",
       "      <td>2</td>\n",
       "      <td>1</td>\n",
       "    </tr>\n",
       "    <tr>\n",
       "      <th>2</th>\n",
       "      <td>0</td>\n",
       "      <td>5623</td>\n",
       "      <td>33</td>\n",
       "      <td>1</td>\n",
       "      <td>0</td>\n",
       "      <td>M</td>\n",
       "      <td>сотрудник</td>\n",
       "      <td>0</td>\n",
       "      <td>145885</td>\n",
       "      <td>покупка жилья</td>\n",
       "      <td>1</td>\n",
       "      <td>4</td>\n",
       "    </tr>\n",
       "    <tr>\n",
       "      <th>3</th>\n",
       "      <td>3</td>\n",
       "      <td>4124</td>\n",
       "      <td>32</td>\n",
       "      <td>1</td>\n",
       "      <td>0</td>\n",
       "      <td>M</td>\n",
       "      <td>сотрудник</td>\n",
       "      <td>0</td>\n",
       "      <td>267628</td>\n",
       "      <td>дополнительное образование</td>\n",
       "      <td>1</td>\n",
       "      <td>2</td>\n",
       "    </tr>\n",
       "    <tr>\n",
       "      <th>4</th>\n",
       "      <td>0</td>\n",
       "      <td>14177</td>\n",
       "      <td>53</td>\n",
       "      <td>1</td>\n",
       "      <td>1</td>\n",
       "      <td>F</td>\n",
       "      <td>пенсионер</td>\n",
       "      <td>0</td>\n",
       "      <td>158616</td>\n",
       "      <td>сыграть свадьбу</td>\n",
       "      <td>3</td>\n",
       "      <td>3</td>\n",
       "    </tr>\n",
       "  </tbody>\n",
       "</table>\n",
       "</div>"
      ],
      "text/plain": [
       "   children  employed  age  education_id  family_status_id gender income_type  \\\n",
       "0         1      8437   42             0                 0      F   сотрудник   \n",
       "1         1      4024   36             1                 0      F   сотрудник   \n",
       "2         0      5623   33             1                 0      M   сотрудник   \n",
       "3         3      4124   32             1                 0      M   сотрудник   \n",
       "4         0     14177   53             1                 1      F   пенсионер   \n",
       "\n",
       "   debt_status  total_income                     purpose  age_id  purpose_id  \n",
       "0            0        253875               покупка жилья       2           4  \n",
       "1            0        112080     приобретение автомобиля       2           1  \n",
       "2            0        145885               покупка жилья       1           4  \n",
       "3            0        267628  дополнительное образование       1           2  \n",
       "4            0        158616             сыграть свадьбу       3           3  "
      ]
     },
     "execution_count": 67,
     "metadata": {},
     "output_type": "execute_result"
    }
   ],
   "source": [
    "# Применим к столбцу 'purpose' через метод apply()  \n",
    "# функцию классификатора с лемматизацией get_purpose_id(), созданную для словаря \n",
    "    \n",
    "df['purpose_id'] = df['purpose'].apply(get_purpose_id)\n",
    "        \n",
    "df.head()"
   ]
  },
  {
   "cell_type": "code",
   "execution_count": 68,
   "metadata": {
    "scrolled": true
   },
   "outputs": [
    {
     "data": {
      "text/html": [
       "<div>\n",
       "<style scoped>\n",
       "    .dataframe tbody tr th:only-of-type {\n",
       "        vertical-align: middle;\n",
       "    }\n",
       "\n",
       "    .dataframe tbody tr th {\n",
       "        vertical-align: top;\n",
       "    }\n",
       "\n",
       "    .dataframe thead th {\n",
       "        text-align: right;\n",
       "    }\n",
       "</style>\n",
       "<table border=\"1\" class=\"dataframe\">\n",
       "  <thead>\n",
       "    <tr style=\"text-align: right;\">\n",
       "      <th></th>\n",
       "      <th>purpose_id</th>\n",
       "    </tr>\n",
       "  </thead>\n",
       "  <tbody>\n",
       "    <tr>\n",
       "      <th>4</th>\n",
       "      <td>8347</td>\n",
       "    </tr>\n",
       "    <tr>\n",
       "      <th>1</th>\n",
       "      <td>4315</td>\n",
       "    </tr>\n",
       "    <tr>\n",
       "      <th>2</th>\n",
       "      <td>4022</td>\n",
       "    </tr>\n",
       "    <tr>\n",
       "      <th>0</th>\n",
       "      <td>2493</td>\n",
       "    </tr>\n",
       "    <tr>\n",
       "      <th>3</th>\n",
       "      <td>2348</td>\n",
       "    </tr>\n",
       "  </tbody>\n",
       "</table>\n",
       "</div>"
      ],
      "text/plain": [
       "   purpose_id\n",
       "4        8347\n",
       "1        4315\n",
       "2        4022\n",
       "0        2493\n",
       "3        2348"
      ]
     },
     "execution_count": 68,
     "metadata": {},
     "output_type": "execute_result"
    }
   ],
   "source": [
    "# Как видим, этот метод был выполнен без ошибок и сразу в нужный тип данных. \n",
    "# Все данные распределены и категорию 7 - \"другие\" не обнаруживаем.\n",
    "\n",
    "df['purpose_id'].value_counts().to_frame()"
   ]
  },
  {
   "cell_type": "markdown",
   "metadata": {},
   "source": [
    "Теперь перейдем к катаризации количественных признаков стажа и ежемесячного дохода."
   ]
  },
  {
   "cell_type": "markdown",
   "metadata": {},
   "source": [
    "Так как данные по трудовому стажу нам для поставленных задач не понадабятся, каталогизировать его не будем и перейдем сразу к столбцу дохода"
   ]
  },
  {
   "cell_type": "markdown",
   "metadata": {},
   "source": [
    "#### Разбиение на группы значений ежемесячного дохода: \n",
    "    \n",
    "    1 - менее 60 000\n",
    "    2 - от 60 000 до 120 000\n",
    "    3 - от 120 000 000 до 200 000\n",
    "    4 - более 200 000"
   ]
  },
  {
   "cell_type": "code",
   "execution_count": 69,
   "metadata": {
    "scrolled": true
   },
   "outputs": [
    {
     "data": {
      "text/html": [
       "<div>\n",
       "<style scoped>\n",
       "    .dataframe tbody tr th:only-of-type {\n",
       "        vertical-align: middle;\n",
       "    }\n",
       "\n",
       "    .dataframe tbody tr th {\n",
       "        vertical-align: top;\n",
       "    }\n",
       "\n",
       "    .dataframe thead th {\n",
       "        text-align: right;\n",
       "    }\n",
       "</style>\n",
       "<table border=\"1\" class=\"dataframe\">\n",
       "  <thead>\n",
       "    <tr style=\"text-align: right;\">\n",
       "      <th></th>\n",
       "      <th>total_income</th>\n",
       "    </tr>\n",
       "    <tr>\n",
       "      <th>income_type</th>\n",
       "      <th></th>\n",
       "    </tr>\n",
       "  </thead>\n",
       "  <tbody>\n",
       "    <tr>\n",
       "      <th>безработный</th>\n",
       "      <td>131339.0</td>\n",
       "    </tr>\n",
       "    <tr>\n",
       "      <th>в декрете</th>\n",
       "      <td>53829.0</td>\n",
       "    </tr>\n",
       "    <tr>\n",
       "      <th>госслужащий</th>\n",
       "      <td>154942.0</td>\n",
       "    </tr>\n",
       "    <tr>\n",
       "      <th>компаньон</th>\n",
       "      <td>179069.0</td>\n",
       "    </tr>\n",
       "    <tr>\n",
       "      <th>пенсионер</th>\n",
       "      <td>128300.5</td>\n",
       "    </tr>\n",
       "    <tr>\n",
       "      <th>предприниматель</th>\n",
       "      <td>499163.0</td>\n",
       "    </tr>\n",
       "    <tr>\n",
       "      <th>сотрудник</th>\n",
       "      <td>146912.0</td>\n",
       "    </tr>\n",
       "    <tr>\n",
       "      <th>студент</th>\n",
       "      <td>98201.0</td>\n",
       "    </tr>\n",
       "  </tbody>\n",
       "</table>\n",
       "</div>"
      ],
      "text/plain": [
       "                 total_income\n",
       "income_type                  \n",
       "безработный          131339.0\n",
       "в декрете             53829.0\n",
       "госслужащий          154942.0\n",
       "компаньон            179069.0\n",
       "пенсионер            128300.5\n",
       "предприниматель      499163.0\n",
       "сотрудник            146912.0\n",
       "студент               98201.0"
      ]
     },
     "execution_count": 69,
     "metadata": {},
     "output_type": "execute_result"
    }
   ],
   "source": [
    "# Находим медианы для каждой группы\n",
    "\n",
    "age_id_group = df.groupby('income_type')['total_income'].median()\n",
    "age_id_group.to_frame()"
   ]
  },
  {
   "cell_type": "code",
   "execution_count": 70,
   "metadata": {},
   "outputs": [
    {
     "data": {
      "text/html": [
       "<div>\n",
       "<style scoped>\n",
       "    .dataframe tbody tr th:only-of-type {\n",
       "        vertical-align: middle;\n",
       "    }\n",
       "\n",
       "    .dataframe tbody tr th {\n",
       "        vertical-align: top;\n",
       "    }\n",
       "\n",
       "    .dataframe thead th {\n",
       "        text-align: right;\n",
       "    }\n",
       "</style>\n",
       "<table border=\"1\" class=\"dataframe\">\n",
       "  <thead>\n",
       "    <tr style=\"text-align: right;\">\n",
       "      <th></th>\n",
       "      <th>total_income</th>\n",
       "    </tr>\n",
       "  </thead>\n",
       "  <tbody>\n",
       "    <tr>\n",
       "      <th>count</th>\n",
       "      <td>2.152500e+04</td>\n",
       "    </tr>\n",
       "    <tr>\n",
       "      <th>mean</th>\n",
       "      <td>1.674607e+05</td>\n",
       "    </tr>\n",
       "    <tr>\n",
       "      <th>std</th>\n",
       "      <td>9.818279e+04</td>\n",
       "    </tr>\n",
       "    <tr>\n",
       "      <th>min</th>\n",
       "      <td>2.066700e+04</td>\n",
       "    </tr>\n",
       "    <tr>\n",
       "      <th>25%</th>\n",
       "      <td>1.077750e+05</td>\n",
       "    </tr>\n",
       "    <tr>\n",
       "      <th>50%</th>\n",
       "      <td>1.496520e+05</td>\n",
       "    </tr>\n",
       "    <tr>\n",
       "      <th>75%</th>\n",
       "      <td>1.997800e+05</td>\n",
       "    </tr>\n",
       "    <tr>\n",
       "      <th>max</th>\n",
       "      <td>2.265604e+06</td>\n",
       "    </tr>\n",
       "  </tbody>\n",
       "</table>\n",
       "</div>"
      ],
      "text/plain": [
       "       total_income\n",
       "count  2.152500e+04\n",
       "mean   1.674607e+05\n",
       "std    9.818279e+04\n",
       "min    2.066700e+04\n",
       "25%    1.077750e+05\n",
       "50%    1.496520e+05\n",
       "75%    1.997800e+05\n",
       "max    2.265604e+06"
      ]
     },
     "execution_count": 70,
     "metadata": {},
     "output_type": "execute_result"
    }
   ],
   "source": [
    "df['total_income'].describe().to_frame()"
   ]
  },
  {
   "cell_type": "code",
   "execution_count": 71,
   "metadata": {
    "scrolled": false
   },
   "outputs": [],
   "source": [
    "# Составим функцию для распределения значений \n",
    "\n",
    "def get_total_income_id(row):\n",
    "    income = row['total_income']\n",
    "    if income < 60000:\n",
    "        return '< 60'\n",
    "    elif 60000 <= income < 120000:\n",
    "        return '60-120'\n",
    "    elif 120000 <= income < 200000:\n",
    "        return '120-200'\n",
    "    elif income >= 200000:\n",
    "        return '200 +'"
   ]
  },
  {
   "cell_type": "code",
   "execution_count": 72,
   "metadata": {},
   "outputs": [
    {
     "data": {
      "text/html": [
       "<div>\n",
       "<style scoped>\n",
       "    .dataframe tbody tr th:only-of-type {\n",
       "        vertical-align: middle;\n",
       "    }\n",
       "\n",
       "    .dataframe tbody tr th {\n",
       "        vertical-align: top;\n",
       "    }\n",
       "\n",
       "    .dataframe thead th {\n",
       "        text-align: right;\n",
       "    }\n",
       "</style>\n",
       "<table border=\"1\" class=\"dataframe\">\n",
       "  <thead>\n",
       "    <tr style=\"text-align: right;\">\n",
       "      <th></th>\n",
       "      <th>total_income_id</th>\n",
       "    </tr>\n",
       "  </thead>\n",
       "  <tbody>\n",
       "    <tr>\n",
       "      <th>0</th>\n",
       "      <td>200 +</td>\n",
       "    </tr>\n",
       "    <tr>\n",
       "      <th>1</th>\n",
       "      <td>60-120</td>\n",
       "    </tr>\n",
       "    <tr>\n",
       "      <th>2</th>\n",
       "      <td>120-200</td>\n",
       "    </tr>\n",
       "    <tr>\n",
       "      <th>3</th>\n",
       "      <td>200 +</td>\n",
       "    </tr>\n",
       "    <tr>\n",
       "      <th>4</th>\n",
       "      <td>120-200</td>\n",
       "    </tr>\n",
       "    <tr>\n",
       "      <th>...</th>\n",
       "      <td>...</td>\n",
       "    </tr>\n",
       "    <tr>\n",
       "      <th>21520</th>\n",
       "      <td>200 +</td>\n",
       "    </tr>\n",
       "    <tr>\n",
       "      <th>21521</th>\n",
       "      <td>120-200</td>\n",
       "    </tr>\n",
       "    <tr>\n",
       "      <th>21522</th>\n",
       "      <td>60-120</td>\n",
       "    </tr>\n",
       "    <tr>\n",
       "      <th>21523</th>\n",
       "      <td>200 +</td>\n",
       "    </tr>\n",
       "    <tr>\n",
       "      <th>21524</th>\n",
       "      <td>60-120</td>\n",
       "    </tr>\n",
       "  </tbody>\n",
       "</table>\n",
       "<p>21525 rows × 1 columns</p>\n",
       "</div>"
      ],
      "text/plain": [
       "      total_income_id\n",
       "0               200 +\n",
       "1              60-120\n",
       "2             120-200\n",
       "3               200 +\n",
       "4             120-200\n",
       "...               ...\n",
       "21520           200 +\n",
       "21521         120-200\n",
       "21522          60-120\n",
       "21523           200 +\n",
       "21524          60-120\n",
       "\n",
       "[21525 rows x 1 columns]"
      ]
     },
     "execution_count": 72,
     "metadata": {},
     "output_type": "execute_result"
    }
   ],
   "source": [
    "# Вносим данные в новый столбец\n",
    "\n",
    "df['total_income_id'] = df.apply(get_total_income_id, axis=1)\n",
    "df['total_income_id'].to_frame()"
   ]
  },
  {
   "cell_type": "code",
   "execution_count": 73,
   "metadata": {},
   "outputs": [
    {
     "data": {
      "text/html": [
       "<div>\n",
       "<style scoped>\n",
       "    .dataframe tbody tr th:only-of-type {\n",
       "        vertical-align: middle;\n",
       "    }\n",
       "\n",
       "    .dataframe tbody tr th {\n",
       "        vertical-align: top;\n",
       "    }\n",
       "\n",
       "    .dataframe thead th {\n",
       "        text-align: right;\n",
       "    }\n",
       "</style>\n",
       "<table border=\"1\" class=\"dataframe\">\n",
       "  <thead>\n",
       "    <tr style=\"text-align: right;\">\n",
       "      <th></th>\n",
       "      <th>children</th>\n",
       "      <th>employed</th>\n",
       "      <th>age</th>\n",
       "      <th>education_id</th>\n",
       "      <th>family_status_id</th>\n",
       "      <th>gender</th>\n",
       "      <th>income_type</th>\n",
       "      <th>debt_status</th>\n",
       "      <th>total_income</th>\n",
       "      <th>purpose</th>\n",
       "      <th>age_id</th>\n",
       "      <th>purpose_id</th>\n",
       "      <th>total_income_id</th>\n",
       "    </tr>\n",
       "  </thead>\n",
       "  <tbody>\n",
       "    <tr>\n",
       "      <th>0</th>\n",
       "      <td>1</td>\n",
       "      <td>8437</td>\n",
       "      <td>42</td>\n",
       "      <td>0</td>\n",
       "      <td>0</td>\n",
       "      <td>F</td>\n",
       "      <td>сотрудник</td>\n",
       "      <td>0</td>\n",
       "      <td>253875</td>\n",
       "      <td>покупка жилья</td>\n",
       "      <td>2</td>\n",
       "      <td>4</td>\n",
       "      <td>200 +</td>\n",
       "    </tr>\n",
       "    <tr>\n",
       "      <th>1</th>\n",
       "      <td>1</td>\n",
       "      <td>4024</td>\n",
       "      <td>36</td>\n",
       "      <td>1</td>\n",
       "      <td>0</td>\n",
       "      <td>F</td>\n",
       "      <td>сотрудник</td>\n",
       "      <td>0</td>\n",
       "      <td>112080</td>\n",
       "      <td>приобретение автомобиля</td>\n",
       "      <td>2</td>\n",
       "      <td>1</td>\n",
       "      <td>60-120</td>\n",
       "    </tr>\n",
       "    <tr>\n",
       "      <th>2</th>\n",
       "      <td>0</td>\n",
       "      <td>5623</td>\n",
       "      <td>33</td>\n",
       "      <td>1</td>\n",
       "      <td>0</td>\n",
       "      <td>M</td>\n",
       "      <td>сотрудник</td>\n",
       "      <td>0</td>\n",
       "      <td>145885</td>\n",
       "      <td>покупка жилья</td>\n",
       "      <td>1</td>\n",
       "      <td>4</td>\n",
       "      <td>120-200</td>\n",
       "    </tr>\n",
       "    <tr>\n",
       "      <th>3</th>\n",
       "      <td>3</td>\n",
       "      <td>4124</td>\n",
       "      <td>32</td>\n",
       "      <td>1</td>\n",
       "      <td>0</td>\n",
       "      <td>M</td>\n",
       "      <td>сотрудник</td>\n",
       "      <td>0</td>\n",
       "      <td>267628</td>\n",
       "      <td>дополнительное образование</td>\n",
       "      <td>1</td>\n",
       "      <td>2</td>\n",
       "      <td>200 +</td>\n",
       "    </tr>\n",
       "    <tr>\n",
       "      <th>4</th>\n",
       "      <td>0</td>\n",
       "      <td>14177</td>\n",
       "      <td>53</td>\n",
       "      <td>1</td>\n",
       "      <td>1</td>\n",
       "      <td>F</td>\n",
       "      <td>пенсионер</td>\n",
       "      <td>0</td>\n",
       "      <td>158616</td>\n",
       "      <td>сыграть свадьбу</td>\n",
       "      <td>3</td>\n",
       "      <td>3</td>\n",
       "      <td>120-200</td>\n",
       "    </tr>\n",
       "    <tr>\n",
       "      <th>...</th>\n",
       "      <td>...</td>\n",
       "      <td>...</td>\n",
       "      <td>...</td>\n",
       "      <td>...</td>\n",
       "      <td>...</td>\n",
       "      <td>...</td>\n",
       "      <td>...</td>\n",
       "      <td>...</td>\n",
       "      <td>...</td>\n",
       "      <td>...</td>\n",
       "      <td>...</td>\n",
       "      <td>...</td>\n",
       "      <td>...</td>\n",
       "    </tr>\n",
       "    <tr>\n",
       "      <th>21520</th>\n",
       "      <td>1</td>\n",
       "      <td>4529</td>\n",
       "      <td>43</td>\n",
       "      <td>1</td>\n",
       "      <td>1</td>\n",
       "      <td>F</td>\n",
       "      <td>компаньон</td>\n",
       "      <td>0</td>\n",
       "      <td>224791</td>\n",
       "      <td>операции с жильем</td>\n",
       "      <td>2</td>\n",
       "      <td>4</td>\n",
       "      <td>200 +</td>\n",
       "    </tr>\n",
       "    <tr>\n",
       "      <th>21521</th>\n",
       "      <td>0</td>\n",
       "      <td>14330</td>\n",
       "      <td>67</td>\n",
       "      <td>1</td>\n",
       "      <td>0</td>\n",
       "      <td>F</td>\n",
       "      <td>пенсионер</td>\n",
       "      <td>0</td>\n",
       "      <td>155999</td>\n",
       "      <td>сделка с автомобилем</td>\n",
       "      <td>4</td>\n",
       "      <td>1</td>\n",
       "      <td>120-200</td>\n",
       "    </tr>\n",
       "    <tr>\n",
       "      <th>21522</th>\n",
       "      <td>1</td>\n",
       "      <td>2113</td>\n",
       "      <td>38</td>\n",
       "      <td>1</td>\n",
       "      <td>1</td>\n",
       "      <td>M</td>\n",
       "      <td>сотрудник</td>\n",
       "      <td>1</td>\n",
       "      <td>89672</td>\n",
       "      <td>недвижимость</td>\n",
       "      <td>2</td>\n",
       "      <td>4</td>\n",
       "      <td>60-120</td>\n",
       "    </tr>\n",
       "    <tr>\n",
       "      <th>21523</th>\n",
       "      <td>3</td>\n",
       "      <td>3112</td>\n",
       "      <td>38</td>\n",
       "      <td>1</td>\n",
       "      <td>0</td>\n",
       "      <td>M</td>\n",
       "      <td>сотрудник</td>\n",
       "      <td>1</td>\n",
       "      <td>244093</td>\n",
       "      <td>на покупку своего автомобиля</td>\n",
       "      <td>2</td>\n",
       "      <td>1</td>\n",
       "      <td>200 +</td>\n",
       "    </tr>\n",
       "    <tr>\n",
       "      <th>21524</th>\n",
       "      <td>2</td>\n",
       "      <td>1984</td>\n",
       "      <td>40</td>\n",
       "      <td>1</td>\n",
       "      <td>0</td>\n",
       "      <td>F</td>\n",
       "      <td>сотрудник</td>\n",
       "      <td>0</td>\n",
       "      <td>82047</td>\n",
       "      <td>на покупку автомобиля</td>\n",
       "      <td>2</td>\n",
       "      <td>1</td>\n",
       "      <td>60-120</td>\n",
       "    </tr>\n",
       "  </tbody>\n",
       "</table>\n",
       "<p>21525 rows × 13 columns</p>\n",
       "</div>"
      ],
      "text/plain": [
       "       children  employed  age  education_id  family_status_id gender  \\\n",
       "0             1      8437   42             0                 0      F   \n",
       "1             1      4024   36             1                 0      F   \n",
       "2             0      5623   33             1                 0      M   \n",
       "3             3      4124   32             1                 0      M   \n",
       "4             0     14177   53             1                 1      F   \n",
       "...         ...       ...  ...           ...               ...    ...   \n",
       "21520         1      4529   43             1                 1      F   \n",
       "21521         0     14330   67             1                 0      F   \n",
       "21522         1      2113   38             1                 1      M   \n",
       "21523         3      3112   38             1                 0      M   \n",
       "21524         2      1984   40             1                 0      F   \n",
       "\n",
       "      income_type  debt_status  total_income                       purpose  \\\n",
       "0       сотрудник            0        253875                 покупка жилья   \n",
       "1       сотрудник            0        112080       приобретение автомобиля   \n",
       "2       сотрудник            0        145885                 покупка жилья   \n",
       "3       сотрудник            0        267628    дополнительное образование   \n",
       "4       пенсионер            0        158616               сыграть свадьбу   \n",
       "...           ...          ...           ...                           ...   \n",
       "21520   компаньон            0        224791             операции с жильем   \n",
       "21521   пенсионер            0        155999          сделка с автомобилем   \n",
       "21522   сотрудник            1         89672                  недвижимость   \n",
       "21523   сотрудник            1        244093  на покупку своего автомобиля   \n",
       "21524   сотрудник            0         82047         на покупку автомобиля   \n",
       "\n",
       "       age_id  purpose_id total_income_id  \n",
       "0           2           4           200 +  \n",
       "1           2           1          60-120  \n",
       "2           1           4         120-200  \n",
       "3           1           2           200 +  \n",
       "4           3           3         120-200  \n",
       "...       ...         ...             ...  \n",
       "21520       2           4           200 +  \n",
       "21521       4           1         120-200  \n",
       "21522       2           4          60-120  \n",
       "21523       2           1           200 +  \n",
       "21524       2           1          60-120  \n",
       "\n",
       "[21525 rows x 13 columns]"
      ]
     },
     "execution_count": 73,
     "metadata": {},
     "output_type": "execute_result"
    }
   ],
   "source": [
    "df"
   ]
  },
  {
   "cell_type": "markdown",
   "metadata": {},
   "source": [
    "**Вывод**"
   ]
  },
  {
   "cell_type": "markdown",
   "metadata": {},
   "source": [
    "Провели группировку данных по целям кредита, ежемесячному доходу. Данные практически полностью закатегоризированы о очищены, что позволяет перейти к решению поставленных задач."
   ]
  },
  {
   "cell_type": "markdown",
   "metadata": {},
   "source": [
    "## Шаг 3. Ответьте на вопросы"
   ]
  },
  {
   "cell_type": "markdown",
   "metadata": {},
   "source": [
    "<font color= 'dodgerblue'>**Есть ли зависимость между наличием детей и возвратом кредита в срок?** </font> "
   ]
  },
  {
   "cell_type": "markdown",
   "metadata": {},
   "source": [
    "Общая доля допустивших просрочку относительно всех клиентов составляет: 8,1%"
   ]
  },
  {
   "cell_type": "code",
   "execution_count": 74,
   "metadata": {
    "scrolled": true
   },
   "outputs": [
    {
     "data": {
      "text/plain": [
       "0.08088269454123112"
      ]
     },
     "execution_count": 74,
     "metadata": {},
     "output_type": "execute_result"
    }
   ],
   "source": [
    "df['debt_status'].sum() / df['debt_status'].count()"
   ]
  },
  {
   "cell_type": "code",
   "execution_count": 75,
   "metadata": {
    "scrolled": false
   },
   "outputs": [
    {
     "data": {
      "text/html": [
       "<div>\n",
       "<style scoped>\n",
       "    .dataframe tbody tr th:only-of-type {\n",
       "        vertical-align: middle;\n",
       "    }\n",
       "\n",
       "    .dataframe tbody tr th {\n",
       "        vertical-align: top;\n",
       "    }\n",
       "\n",
       "    .dataframe thead th {\n",
       "        text-align: right;\n",
       "    }\n",
       "</style>\n",
       "<table border=\"1\" class=\"dataframe\">\n",
       "  <thead>\n",
       "    <tr style=\"text-align: right;\">\n",
       "      <th>children</th>\n",
       "      <th>0</th>\n",
       "      <th>1</th>\n",
       "      <th>2</th>\n",
       "      <th>3</th>\n",
       "      <th>4</th>\n",
       "      <th>5</th>\n",
       "      <th>All</th>\n",
       "    </tr>\n",
       "    <tr>\n",
       "      <th>debt_status</th>\n",
       "      <th></th>\n",
       "      <th></th>\n",
       "      <th></th>\n",
       "      <th></th>\n",
       "      <th></th>\n",
       "      <th></th>\n",
       "      <th></th>\n",
       "    </tr>\n",
       "  </thead>\n",
       "  <tbody>\n",
       "    <tr>\n",
       "      <th>0</th>\n",
       "      <td>13086.0</td>\n",
       "      <td>4420.0</td>\n",
       "      <td>1929.0</td>\n",
       "      <td>303.0</td>\n",
       "      <td>37.0</td>\n",
       "      <td>9.0</td>\n",
       "      <td>19784</td>\n",
       "    </tr>\n",
       "    <tr>\n",
       "      <th>1</th>\n",
       "      <td>1063.0</td>\n",
       "      <td>445.0</td>\n",
       "      <td>202.0</td>\n",
       "      <td>27.0</td>\n",
       "      <td>4.0</td>\n",
       "      <td>NaN</td>\n",
       "      <td>1741</td>\n",
       "    </tr>\n",
       "    <tr>\n",
       "      <th>All</th>\n",
       "      <td>14149.0</td>\n",
       "      <td>4865.0</td>\n",
       "      <td>2131.0</td>\n",
       "      <td>330.0</td>\n",
       "      <td>41.0</td>\n",
       "      <td>9.0</td>\n",
       "      <td>21525</td>\n",
       "    </tr>\n",
       "  </tbody>\n",
       "</table>\n",
       "</div>"
      ],
      "text/plain": [
       "children           0       1       2      3     4    5    All\n",
       "debt_status                                                  \n",
       "0            13086.0  4420.0  1929.0  303.0  37.0  9.0  19784\n",
       "1             1063.0   445.0   202.0   27.0   4.0  NaN   1741\n",
       "All          14149.0  4865.0  2131.0  330.0  41.0  9.0  21525"
      ]
     },
     "execution_count": 75,
     "metadata": {},
     "output_type": "execute_result"
    }
   ],
   "source": [
    "df_pivot1 = df.pivot_table(index=['debt_status'], columns='children', values='family_status_id', aggfunc='count', margins=True)\n",
    "df_pivot1"
   ]
  },
  {
   "cell_type": "markdown",
   "metadata": {},
   "source": [
    "Доля допустивших просрочку относительно дисциплинированных клиентов в зависимости от наличия детей"
   ]
  },
  {
   "cell_type": "code",
   "execution_count": 76,
   "metadata": {
    "scrolled": true
   },
   "outputs": [
    {
     "data": {
      "text/html": [
       "<div>\n",
       "<style scoped>\n",
       "    .dataframe tbody tr th:only-of-type {\n",
       "        vertical-align: middle;\n",
       "    }\n",
       "\n",
       "    .dataframe tbody tr th {\n",
       "        vertical-align: top;\n",
       "    }\n",
       "\n",
       "    .dataframe thead th {\n",
       "        text-align: right;\n",
       "    }\n",
       "</style>\n",
       "<table border=\"1\" class=\"dataframe\">\n",
       "  <thead>\n",
       "    <tr style=\"text-align: right;\">\n",
       "      <th></th>\n",
       "      <th>debt_status</th>\n",
       "    </tr>\n",
       "    <tr>\n",
       "      <th>children</th>\n",
       "      <th></th>\n",
       "    </tr>\n",
       "  </thead>\n",
       "  <tbody>\n",
       "    <tr>\n",
       "      <th>0</th>\n",
       "      <td>7.51%</td>\n",
       "    </tr>\n",
       "    <tr>\n",
       "      <th>1</th>\n",
       "      <td>9.15%</td>\n",
       "    </tr>\n",
       "    <tr>\n",
       "      <th>2</th>\n",
       "      <td>9.48%</td>\n",
       "    </tr>\n",
       "    <tr>\n",
       "      <th>3</th>\n",
       "      <td>8.18%</td>\n",
       "    </tr>\n",
       "    <tr>\n",
       "      <th>4</th>\n",
       "      <td>9.76%</td>\n",
       "    </tr>\n",
       "    <tr>\n",
       "      <th>5</th>\n",
       "      <td>0.00%</td>\n",
       "    </tr>\n",
       "  </tbody>\n",
       "</table>\n",
       "</div>"
      ],
      "text/plain": [
       "         debt_status\n",
       "children            \n",
       "0              7.51%\n",
       "1              9.15%\n",
       "2              9.48%\n",
       "3              8.18%\n",
       "4              9.76%\n",
       "5              0.00%"
      ]
     },
     "execution_count": 76,
     "metadata": {},
     "output_type": "execute_result"
    }
   ],
   "source": [
    "df_pivot12 = df.pivot_table(index=['children'], values='debt_status')\n",
    "df_pivot12['debt_status'] = df_pivot12['debt_status'].apply(lambda x: format(x, '.2%'))\n",
    "df_pivot12"
   ]
  },
  {
   "cell_type": "markdown",
   "metadata": {},
   "source": [
    "**Вывод**"
   ]
  },
  {
   "cell_type": "markdown",
   "metadata": {},
   "source": [
    "Видим, что происходит рост просрочек с рождением каждого ребенка. Ситуация несколько улучшается при рождении 3-го ребенка (предположительно связано с социальными льготами и пособиями при присвоении статуса многодетной семьи), но далее деградирует."
   ]
  },
  {
   "cell_type": "markdown",
   "metadata": {},
   "source": [
    "<font color= 'dodgerblue'>**Есть ли зависимость между семейным положением и возвратом кредита в срок?**"
   ]
  },
  {
   "cell_type": "code",
   "execution_count": 77,
   "metadata": {
    "scrolled": true
   },
   "outputs": [
    {
     "data": {
      "text/html": [
       "<div>\n",
       "<style scoped>\n",
       "    .dataframe tbody tr th:only-of-type {\n",
       "        vertical-align: middle;\n",
       "    }\n",
       "\n",
       "    .dataframe tbody tr th {\n",
       "        vertical-align: top;\n",
       "    }\n",
       "\n",
       "    .dataframe thead th {\n",
       "        text-align: right;\n",
       "    }\n",
       "</style>\n",
       "<table border=\"1\" class=\"dataframe\">\n",
       "  <thead>\n",
       "    <tr style=\"text-align: right;\">\n",
       "      <th>family_status_id</th>\n",
       "      <th>0</th>\n",
       "      <th>1</th>\n",
       "      <th>2</th>\n",
       "      <th>3</th>\n",
       "      <th>4</th>\n",
       "      <th>All</th>\n",
       "    </tr>\n",
       "    <tr>\n",
       "      <th>debt_status</th>\n",
       "      <th></th>\n",
       "      <th></th>\n",
       "      <th></th>\n",
       "      <th></th>\n",
       "      <th></th>\n",
       "      <th></th>\n",
       "    </tr>\n",
       "  </thead>\n",
       "  <tbody>\n",
       "    <tr>\n",
       "      <th>0</th>\n",
       "      <td>11449</td>\n",
       "      <td>3789</td>\n",
       "      <td>897</td>\n",
       "      <td>1110</td>\n",
       "      <td>2539</td>\n",
       "      <td>19784</td>\n",
       "    </tr>\n",
       "    <tr>\n",
       "      <th>1</th>\n",
       "      <td>931</td>\n",
       "      <td>388</td>\n",
       "      <td>63</td>\n",
       "      <td>85</td>\n",
       "      <td>274</td>\n",
       "      <td>1741</td>\n",
       "    </tr>\n",
       "    <tr>\n",
       "      <th>All</th>\n",
       "      <td>12380</td>\n",
       "      <td>4177</td>\n",
       "      <td>960</td>\n",
       "      <td>1195</td>\n",
       "      <td>2813</td>\n",
       "      <td>21525</td>\n",
       "    </tr>\n",
       "  </tbody>\n",
       "</table>\n",
       "</div>"
      ],
      "text/plain": [
       "family_status_id      0     1    2     3     4    All\n",
       "debt_status                                          \n",
       "0                 11449  3789  897  1110  2539  19784\n",
       "1                   931   388   63    85   274   1741\n",
       "All               12380  4177  960  1195  2813  21525"
      ]
     },
     "execution_count": 77,
     "metadata": {},
     "output_type": "execute_result"
    }
   ],
   "source": [
    "df_pivot2 = df.pivot_table(index=['debt_status'], columns='family_status_id', values='education_id', aggfunc='count', margins=True)\n",
    "df_pivot2"
   ]
  },
  {
   "cell_type": "markdown",
   "metadata": {},
   "source": [
    "Доля допустивших просрочку относительно всех клиентов в зависимости от семейного положения"
   ]
  },
  {
   "cell_type": "code",
   "execution_count": 78,
   "metadata": {
    "scrolled": true
   },
   "outputs": [
    {
     "data": {
      "text/html": [
       "<div>\n",
       "<style scoped>\n",
       "    .dataframe tbody tr th:only-of-type {\n",
       "        vertical-align: middle;\n",
       "    }\n",
       "\n",
       "    .dataframe tbody tr th {\n",
       "        vertical-align: top;\n",
       "    }\n",
       "\n",
       "    .dataframe thead th {\n",
       "        text-align: right;\n",
       "    }\n",
       "</style>\n",
       "<table border=\"1\" class=\"dataframe\">\n",
       "  <thead>\n",
       "    <tr style=\"text-align: right;\">\n",
       "      <th></th>\n",
       "      <th>family_status</th>\n",
       "      <th>family_status_id</th>\n",
       "      <th>debt_status</th>\n",
       "    </tr>\n",
       "  </thead>\n",
       "  <tbody>\n",
       "    <tr>\n",
       "      <th>0</th>\n",
       "      <td>не женат / не замужем</td>\n",
       "      <td>4</td>\n",
       "      <td>9.74%</td>\n",
       "    </tr>\n",
       "    <tr>\n",
       "      <th>1</th>\n",
       "      <td>гражданский брак</td>\n",
       "      <td>1</td>\n",
       "      <td>9.29%</td>\n",
       "    </tr>\n",
       "    <tr>\n",
       "      <th>2</th>\n",
       "      <td>женат / замужем</td>\n",
       "      <td>0</td>\n",
       "      <td>7.52%</td>\n",
       "    </tr>\n",
       "    <tr>\n",
       "      <th>3</th>\n",
       "      <td>в разводе</td>\n",
       "      <td>3</td>\n",
       "      <td>7.11%</td>\n",
       "    </tr>\n",
       "    <tr>\n",
       "      <th>4</th>\n",
       "      <td>вдовец / вдова</td>\n",
       "      <td>2</td>\n",
       "      <td>6.56%</td>\n",
       "    </tr>\n",
       "  </tbody>\n",
       "</table>\n",
       "</div>"
      ],
      "text/plain": [
       "           family_status  family_status_id debt_status\n",
       "0  не женат / не замужем                 4       9.74%\n",
       "1       гражданский брак                 1       9.29%\n",
       "2        женат / замужем                 0       7.52%\n",
       "3              в разводе                 3       7.11%\n",
       "4         вдовец / вдова                 2       6.56%"
      ]
     },
     "execution_count": 78,
     "metadata": {},
     "output_type": "execute_result"
    }
   ],
   "source": [
    "df_pivot12 = df.pivot_table(index=['family_status_id'], values='debt_status')\n",
    "df_pivot12 = df_family_status.join(df_pivot12, on='family_status_id')\n",
    "df_pivot12['debt_status'] = df_pivot12['debt_status'].apply(lambda x: format(x, '.2%'))\n",
    "df_pivot12.sort_values(by='debt_status', ascending=False).reset_index(drop=True)"
   ]
  },
  {
   "cell_type": "markdown",
   "metadata": {},
   "source": [
    "**Вывод**"
   ]
  },
  {
   "cell_type": "markdown",
   "metadata": {},
   "source": [
    "Холостые и люди, состоящие в гражданском браке, значительно чаще допускают просрочку по кредиту."
   ]
  },
  {
   "cell_type": "markdown",
   "metadata": {},
   "source": [
    "<font color= 'dodgerblue'>**Есть ли зависимость между уровнем дохода и возвратом кредита в срок?**"
   ]
  },
  {
   "cell_type": "code",
   "execution_count": 79,
   "metadata": {
    "scrolled": true
   },
   "outputs": [
    {
     "data": {
      "text/html": [
       "<div>\n",
       "<style scoped>\n",
       "    .dataframe tbody tr th:only-of-type {\n",
       "        vertical-align: middle;\n",
       "    }\n",
       "\n",
       "    .dataframe tbody tr th {\n",
       "        vertical-align: top;\n",
       "    }\n",
       "\n",
       "    .dataframe thead th {\n",
       "        text-align: right;\n",
       "    }\n",
       "</style>\n",
       "<table border=\"1\" class=\"dataframe\">\n",
       "  <thead>\n",
       "    <tr style=\"text-align: right;\">\n",
       "      <th>total_income_id</th>\n",
       "      <th>120-200</th>\n",
       "      <th>200 +</th>\n",
       "      <th>60-120</th>\n",
       "      <th>&lt; 60</th>\n",
       "      <th>All</th>\n",
       "    </tr>\n",
       "    <tr>\n",
       "      <th>debt_status</th>\n",
       "      <th></th>\n",
       "      <th></th>\n",
       "      <th></th>\n",
       "      <th></th>\n",
       "      <th></th>\n",
       "    </tr>\n",
       "  </thead>\n",
       "  <tbody>\n",
       "    <tr>\n",
       "      <th>0</th>\n",
       "      <td>8479</td>\n",
       "      <td>5001</td>\n",
       "      <td>5547</td>\n",
       "      <td>757</td>\n",
       "      <td>19784</td>\n",
       "    </tr>\n",
       "    <tr>\n",
       "      <th>1</th>\n",
       "      <td>821</td>\n",
       "      <td>369</td>\n",
       "      <td>502</td>\n",
       "      <td>49</td>\n",
       "      <td>1741</td>\n",
       "    </tr>\n",
       "    <tr>\n",
       "      <th>All</th>\n",
       "      <td>9300</td>\n",
       "      <td>5370</td>\n",
       "      <td>6049</td>\n",
       "      <td>806</td>\n",
       "      <td>21525</td>\n",
       "    </tr>\n",
       "  </tbody>\n",
       "</table>\n",
       "</div>"
      ],
      "text/plain": [
       "total_income_id  120-200  200 +  60-120  < 60    All\n",
       "debt_status                                         \n",
       "0                   8479   5001    5547   757  19784\n",
       "1                    821    369     502    49   1741\n",
       "All                 9300   5370    6049   806  21525"
      ]
     },
     "execution_count": 79,
     "metadata": {},
     "output_type": "execute_result"
    }
   ],
   "source": [
    "df_pivot3 = df.pivot_table(index=['debt_status'], columns='total_income_id', values='age_id', aggfunc='count', margins=True)\n",
    "df_pivot3"
   ]
  },
  {
   "cell_type": "markdown",
   "metadata": {},
   "source": [
    "Доля допустивших просрочку относительно дисциплинированных клиентов в зависимости от уровня дохода"
   ]
  },
  {
   "cell_type": "code",
   "execution_count": 80,
   "metadata": {
    "scrolled": true
   },
   "outputs": [
    {
     "data": {
      "text/html": [
       "<div>\n",
       "<style scoped>\n",
       "    .dataframe tbody tr th:only-of-type {\n",
       "        vertical-align: middle;\n",
       "    }\n",
       "\n",
       "    .dataframe tbody tr th {\n",
       "        vertical-align: top;\n",
       "    }\n",
       "\n",
       "    .dataframe thead th {\n",
       "        text-align: right;\n",
       "    }\n",
       "</style>\n",
       "<table border=\"1\" class=\"dataframe\">\n",
       "  <thead>\n",
       "    <tr style=\"text-align: right;\">\n",
       "      <th></th>\n",
       "      <th>debt_status</th>\n",
       "    </tr>\n",
       "    <tr>\n",
       "      <th>total_income_id</th>\n",
       "      <th></th>\n",
       "    </tr>\n",
       "  </thead>\n",
       "  <tbody>\n",
       "    <tr>\n",
       "      <th>120-200</th>\n",
       "      <td>8.83%</td>\n",
       "    </tr>\n",
       "    <tr>\n",
       "      <th>60-120</th>\n",
       "      <td>8.30%</td>\n",
       "    </tr>\n",
       "    <tr>\n",
       "      <th>200 +</th>\n",
       "      <td>6.87%</td>\n",
       "    </tr>\n",
       "    <tr>\n",
       "      <th>&lt; 60</th>\n",
       "      <td>6.08%</td>\n",
       "    </tr>\n",
       "  </tbody>\n",
       "</table>\n",
       "</div>"
      ],
      "text/plain": [
       "                debt_status\n",
       "total_income_id            \n",
       "120-200               8.83%\n",
       "60-120                8.30%\n",
       "200 +                 6.87%\n",
       "< 60                  6.08%"
      ]
     },
     "execution_count": 80,
     "metadata": {},
     "output_type": "execute_result"
    }
   ],
   "source": [
    "df_pivot12 = df.pivot_table(index=['total_income_id'], values='debt_status')\n",
    "df_pivot12['debt_status'] = df_pivot12['debt_status'].apply(lambda x: format(x, '.2%'))\n",
    "df_pivot12.sort_values(by='debt_status', ascending=False)"
   ]
  },
  {
   "cell_type": "markdown",
   "metadata": {},
   "source": [
    "**Вывод**"
   ]
  },
  {
   "cell_type": "markdown",
   "metadata": {},
   "source": [
    "Выяснилось, что люди с самыми низкими доходами наименее склонны к просрочками по кредитам."
   ]
  },
  {
   "cell_type": "markdown",
   "metadata": {},
   "source": [
    "<font color= 'dodgerblue'>**Как разные цели кредита влияют на его возврат в срок?**"
   ]
  },
  {
   "cell_type": "code",
   "execution_count": 83,
   "metadata": {
    "scrolled": true
   },
   "outputs": [
    {
     "data": {
      "text/html": [
       "<div>\n",
       "<style scoped>\n",
       "    .dataframe tbody tr th:only-of-type {\n",
       "        vertical-align: middle;\n",
       "    }\n",
       "\n",
       "    .dataframe tbody tr th {\n",
       "        vertical-align: top;\n",
       "    }\n",
       "\n",
       "    .dataframe thead tr th {\n",
       "        text-align: left;\n",
       "    }\n",
       "\n",
       "    .dataframe thead tr:last-of-type th {\n",
       "        text-align: right;\n",
       "    }\n",
       "</style>\n",
       "<table border=\"1\" class=\"dataframe\">\n",
       "  <thead>\n",
       "    <tr>\n",
       "      <th></th>\n",
       "      <th colspan=\"6\" halign=\"left\">education_id</th>\n",
       "    </tr>\n",
       "    <tr>\n",
       "      <th>purpose_id</th>\n",
       "      <th>0</th>\n",
       "      <th>1</th>\n",
       "      <th>2</th>\n",
       "      <th>3</th>\n",
       "      <th>4</th>\n",
       "      <th>All</th>\n",
       "    </tr>\n",
       "    <tr>\n",
       "      <th>debt_status</th>\n",
       "      <th></th>\n",
       "      <th></th>\n",
       "      <th></th>\n",
       "      <th></th>\n",
       "      <th></th>\n",
       "      <th></th>\n",
       "    </tr>\n",
       "  </thead>\n",
       "  <tbody>\n",
       "    <tr>\n",
       "      <th>0</th>\n",
       "      <td>2314</td>\n",
       "      <td>3912</td>\n",
       "      <td>3652</td>\n",
       "      <td>2162</td>\n",
       "      <td>7744</td>\n",
       "      <td>19784</td>\n",
       "    </tr>\n",
       "    <tr>\n",
       "      <th>1</th>\n",
       "      <td>179</td>\n",
       "      <td>403</td>\n",
       "      <td>370</td>\n",
       "      <td>186</td>\n",
       "      <td>603</td>\n",
       "      <td>1741</td>\n",
       "    </tr>\n",
       "    <tr>\n",
       "      <th>All</th>\n",
       "      <td>2493</td>\n",
       "      <td>4315</td>\n",
       "      <td>4022</td>\n",
       "      <td>2348</td>\n",
       "      <td>8347</td>\n",
       "      <td>21525</td>\n",
       "    </tr>\n",
       "  </tbody>\n",
       "</table>\n",
       "</div>"
      ],
      "text/plain": [
       "            education_id                               \n",
       "purpose_id             0     1     2     3     4    All\n",
       "debt_status                                            \n",
       "0                   2314  3912  3652  2162  7744  19784\n",
       "1                    179   403   370   186   603   1741\n",
       "All                 2493  4315  4022  2348  8347  21525"
      ]
     },
     "execution_count": 83,
     "metadata": {},
     "output_type": "execute_result"
    }
   ],
   "source": [
    "df_pivot4 = df.pivot_table(index=['debt_status'], columns=['purpose_id'], values=['education_id'], aggfunc='count', margins=True)\n",
    "df_pivot4"
   ]
  },
  {
   "cell_type": "markdown",
   "metadata": {},
   "source": [
    "0. строительство или ремонт\n",
    "1. автомобиль\n",
    "2. образование\n",
    "3. свадьба\n",
    "4. недвижимость или жилье \n",
    "\n",
    "Доля допустивших просрочку относительно дисциплинированных клиентов в зависимости от цели кредита"
   ]
  },
  {
   "cell_type": "code",
   "execution_count": 82,
   "metadata": {
    "scrolled": true
   },
   "outputs": [
    {
     "data": {
      "text/html": [
       "<div>\n",
       "<style scoped>\n",
       "    .dataframe tbody tr th:only-of-type {\n",
       "        vertical-align: middle;\n",
       "    }\n",
       "\n",
       "    .dataframe tbody tr th {\n",
       "        vertical-align: top;\n",
       "    }\n",
       "\n",
       "    .dataframe thead th {\n",
       "        text-align: right;\n",
       "    }\n",
       "</style>\n",
       "<table border=\"1\" class=\"dataframe\">\n",
       "  <thead>\n",
       "    <tr style=\"text-align: right;\">\n",
       "      <th></th>\n",
       "      <th>family_status</th>\n",
       "      <th>family_status_id</th>\n",
       "      <th>debt_status</th>\n",
       "    </tr>\n",
       "  </thead>\n",
       "  <tbody>\n",
       "    <tr>\n",
       "      <th>1</th>\n",
       "      <td>гражданский брак</td>\n",
       "      <td>1</td>\n",
       "      <td>9.34%</td>\n",
       "    </tr>\n",
       "    <tr>\n",
       "      <th>2</th>\n",
       "      <td>вдовец / вдова</td>\n",
       "      <td>2</td>\n",
       "      <td>9.20%</td>\n",
       "    </tr>\n",
       "    <tr>\n",
       "      <th>3</th>\n",
       "      <td>в разводе</td>\n",
       "      <td>3</td>\n",
       "      <td>7.92%</td>\n",
       "    </tr>\n",
       "    <tr>\n",
       "      <th>4</th>\n",
       "      <td>не женат / не замужем</td>\n",
       "      <td>4</td>\n",
       "      <td>7.22%</td>\n",
       "    </tr>\n",
       "    <tr>\n",
       "      <th>0</th>\n",
       "      <td>женат / замужем</td>\n",
       "      <td>0</td>\n",
       "      <td>7.18%</td>\n",
       "    </tr>\n",
       "  </tbody>\n",
       "</table>\n",
       "</div>"
      ],
      "text/plain": [
       "           family_status  family_status_id debt_status\n",
       "1       гражданский брак                 1       9.34%\n",
       "2         вдовец / вдова                 2       9.20%\n",
       "3              в разводе                 3       7.92%\n",
       "4  не женат / не замужем                 4       7.22%\n",
       "0        женат / замужем                 0       7.18%"
      ]
     },
     "execution_count": 82,
     "metadata": {},
     "output_type": "execute_result"
    }
   ],
   "source": [
    "df_pivot12 = df.pivot_table(index=['purpose_id'], values='debt_status')\n",
    "df_pivot12 = df_family_status.join(df_pivot12, on='family_status_id')\n",
    "df_pivot12['debt_status'] = df_pivot12['debt_status'].apply(lambda x: format(x, '.2%'))\n",
    "df_pivot12.sort_values(by='debt_status', ascending=False)"
   ]
  },
  {
   "cell_type": "markdown",
   "metadata": {},
   "source": [
    "**Вывод**"
   ]
  },
  {
   "cell_type": "markdown",
   "metadata": {},
   "source": [
    "Видим, что на цели образования и покупки автомобиля больше всего просрочек, а на цели, связанные с недвижимостью, наименьшее число"
   ]
  },
  {
   "cell_type": "markdown",
   "metadata": {},
   "source": [
    "## Шаг 4. Общий вывод"
   ]
  },
  {
   "cell_type": "markdown",
   "metadata": {},
   "source": [
    "Для корректной работы с исходными данными были обработаны пропуски, дубликаты и аномалии. Выделены категории для целей кредита, по возрасту и уровню дохода. С помощью сводных таблиц были даны ответы на поставленные задачи. \n",
    "\n",
    "Общая доля допустивших просрочку относительно всех клиентов составляет: 8,1%\n",
    "\n",
    "Анализ выявил следующие закономерности по категориям клиентов:\n",
    "\n",
    "наличие детей: \n",
    "* самые надежные: без детей (7.51% невозврата в срок), \n",
    "* самые безответственные: с 4-мя и более детьми (9.76% невозврата в срок)\n",
    "\n",
    "семейное положение:\n",
    "* самые надежные: вдовцы и вдовы (6.6% невозврата в срок), \n",
    "* самые безответственные: холостяки (9.8% невозврата в срок)\n",
    "\n",
    "ежемесячный доход:\n",
    "* самые надежные: менее 60 000 р. (6.08% невозврата в срок), \n",
    "* самые безответственные: от 120 000 p. (8.66% невозврата в срок)\n",
    "\n",
    "цель кредита:\n",
    "* самые надежные: недвижимость (7,2% невозврата в срок), \n",
    "* самые безответственные: автомобиль (9,3%% невозврата в срок)\n",
    "\n",
    "В итоге:\n",
    "\n",
    "<font color= 'dodgerblue'>**Самые надежные клиенты:** </font>\n",
    "\n",
    "<font color= 'green'>*без детей (7.5%), вдовцы и вдовы (6.6%), с ежем. доходом менее 60 000 р. (6.08%), цель кредита связана с недвижимостью (7,2%)* </font>\n",
    "\n",
    "<font color= 'dodgerblue'>**Самые безответственные клиенты:**</font>\n",
    "\n",
    "<font color= 'green'>*от 4 детей (9.8%), холостяки (9.8%), с ежем. доходом от 120 000 p. (8.66%), цель кредита связана с автомобилем (9,3%)* </font>\n",
    "\n",
    "Для выявления дополнительных закономерностей требуется статистический анализ."
   ]
  }
 ],
 "metadata": {
  "ExecuteTimeLog": [
   {
    "duration": 749,
    "start_time": "2021-12-08T18:25:48.016Z"
   },
   {
    "duration": 113,
    "start_time": "2021-12-08T18:34:52.767Z"
   },
   {
    "duration": 117,
    "start_time": "2021-12-08T18:36:29.339Z"
   },
   {
    "duration": 83,
    "start_time": "2021-12-08T18:39:03.554Z"
   },
   {
    "duration": 82,
    "start_time": "2021-12-08T18:39:33.114Z"
   },
   {
    "duration": 19,
    "start_time": "2021-12-08T18:39:49.774Z"
   },
   {
    "duration": 87,
    "start_time": "2021-12-08T19:05:57.413Z"
   },
   {
    "duration": 5,
    "start_time": "2021-12-08T19:35:51.052Z"
   },
   {
    "duration": 23,
    "start_time": "2021-12-08T19:36:11.815Z"
   },
   {
    "duration": 390,
    "start_time": "2021-12-08T19:37:56.178Z"
   },
   {
    "duration": 7,
    "start_time": "2021-12-08T19:38:07.980Z"
   },
   {
    "duration": 8,
    "start_time": "2021-12-08T19:38:24.100Z"
   },
   {
    "duration": 140,
    "start_time": "2021-12-08T19:39:24.919Z"
   },
   {
    "duration": 8,
    "start_time": "2021-12-08T19:39:31.720Z"
   },
   {
    "duration": 9,
    "start_time": "2021-12-08T19:39:54.553Z"
   },
   {
    "duration": 3657,
    "start_time": "2021-12-08T19:42:04.590Z"
   },
   {
    "duration": 12,
    "start_time": "2021-12-08T19:42:28.577Z"
   },
   {
    "duration": 11,
    "start_time": "2021-12-08T19:43:31.530Z"
   },
   {
    "duration": 8,
    "start_time": "2021-12-08T19:44:14.041Z"
   },
   {
    "duration": 12,
    "start_time": "2021-12-08T19:46:39.309Z"
   },
   {
    "duration": 12,
    "start_time": "2021-12-08T19:47:21.242Z"
   },
   {
    "duration": 7,
    "start_time": "2021-12-08T19:48:01.545Z"
   },
   {
    "duration": 8,
    "start_time": "2021-12-08T19:50:18.642Z"
   },
   {
    "duration": 7,
    "start_time": "2021-12-08T19:57:14.664Z"
   },
   {
    "duration": 8,
    "start_time": "2021-12-08T19:57:47.253Z"
   },
   {
    "duration": 7,
    "start_time": "2021-12-08T19:58:05.072Z"
   },
   {
    "duration": 7,
    "start_time": "2021-12-08T19:59:35.718Z"
   },
   {
    "duration": 7,
    "start_time": "2021-12-08T19:59:50.918Z"
   },
   {
    "duration": 6,
    "start_time": "2021-12-08T20:00:24.913Z"
   },
   {
    "duration": 10,
    "start_time": "2021-12-08T20:02:53.088Z"
   },
   {
    "duration": 7,
    "start_time": "2021-12-08T20:03:18.141Z"
   },
   {
    "duration": 15,
    "start_time": "2021-12-08T20:04:28.723Z"
   },
   {
    "duration": 6,
    "start_time": "2021-12-08T20:04:58.567Z"
   },
   {
    "duration": 7,
    "start_time": "2021-12-08T20:08:45.669Z"
   },
   {
    "duration": 7,
    "start_time": "2021-12-08T20:10:31.886Z"
   },
   {
    "duration": 7,
    "start_time": "2021-12-08T20:10:31.896Z"
   },
   {
    "duration": 5,
    "start_time": "2021-12-08T20:12:40.025Z"
   },
   {
    "duration": 5,
    "start_time": "2021-12-08T20:14:14.262Z"
   },
   {
    "duration": 7,
    "start_time": "2021-12-08T20:14:20.911Z"
   },
   {
    "duration": 8,
    "start_time": "2021-12-08T20:14:58.776Z"
   },
   {
    "duration": 10,
    "start_time": "2021-12-08T20:15:22.135Z"
   },
   {
    "duration": 6,
    "start_time": "2021-12-08T20:17:28.975Z"
   },
   {
    "duration": 7,
    "start_time": "2021-12-08T20:17:41.981Z"
   },
   {
    "duration": 11,
    "start_time": "2021-12-08T20:18:03.318Z"
   },
   {
    "duration": 7,
    "start_time": "2021-12-08T20:24:01.256Z"
   },
   {
    "duration": 6,
    "start_time": "2021-12-08T20:24:24.917Z"
   },
   {
    "duration": 11,
    "start_time": "2021-12-08T20:30:33.155Z"
   },
   {
    "duration": 300,
    "start_time": "2021-12-08T20:31:48.232Z"
   },
   {
    "duration": 303,
    "start_time": "2021-12-08T20:31:55.448Z"
   },
   {
    "duration": 12,
    "start_time": "2021-12-08T20:32:08.725Z"
   },
   {
    "duration": 11,
    "start_time": "2021-12-08T20:32:29.578Z"
   },
   {
    "duration": 11,
    "start_time": "2021-12-08T20:32:46.096Z"
   },
   {
    "duration": 11,
    "start_time": "2021-12-08T20:33:31.752Z"
   },
   {
    "duration": 7,
    "start_time": "2021-12-08T20:35:48.093Z"
   },
   {
    "duration": 8,
    "start_time": "2021-12-08T20:36:16.240Z"
   },
   {
    "duration": 8,
    "start_time": "2021-12-08T20:39:22.320Z"
   },
   {
    "duration": 6,
    "start_time": "2021-12-08T20:39:42.695Z"
   },
   {
    "duration": 7,
    "start_time": "2021-12-08T20:44:41.854Z"
   },
   {
    "duration": 6,
    "start_time": "2021-12-08T20:45:18.801Z"
   },
   {
    "duration": 6,
    "start_time": "2021-12-08T20:46:48.338Z"
   },
   {
    "duration": 7,
    "start_time": "2021-12-08T20:48:13.889Z"
   },
   {
    "duration": 7,
    "start_time": "2021-12-08T20:48:40.728Z"
   },
   {
    "duration": 30,
    "start_time": "2021-12-08T20:54:03.432Z"
   },
   {
    "duration": 10,
    "start_time": "2021-12-08T20:54:26.725Z"
   },
   {
    "duration": 311,
    "start_time": "2021-12-08T20:55:03.359Z"
   },
   {
    "duration": 8,
    "start_time": "2021-12-08T20:55:12.785Z"
   },
   {
    "duration": 10,
    "start_time": "2021-12-08T20:55:31.407Z"
   },
   {
    "duration": 11,
    "start_time": "2021-12-08T20:56:19.664Z"
   },
   {
    "duration": 11,
    "start_time": "2021-12-08T20:56:34.767Z"
   },
   {
    "duration": 11,
    "start_time": "2021-12-08T20:58:22.245Z"
   },
   {
    "duration": 11,
    "start_time": "2021-12-08T20:58:36.624Z"
   },
   {
    "duration": 12,
    "start_time": "2021-12-08T20:58:45.389Z"
   },
   {
    "duration": 11,
    "start_time": "2021-12-08T20:59:07.539Z"
   },
   {
    "duration": 5,
    "start_time": "2021-12-08T21:01:46.361Z"
   },
   {
    "duration": 5,
    "start_time": "2021-12-08T21:01:50.234Z"
   },
   {
    "duration": 9,
    "start_time": "2021-12-08T21:03:00.903Z"
   },
   {
    "duration": 7,
    "start_time": "2021-12-08T21:03:10.030Z"
   },
   {
    "duration": 8,
    "start_time": "2021-12-08T21:04:37.980Z"
   },
   {
    "duration": 7,
    "start_time": "2021-12-08T21:07:48.367Z"
   },
   {
    "duration": 8,
    "start_time": "2021-12-08T21:07:50.549Z"
   },
   {
    "duration": 9,
    "start_time": "2021-12-08T21:11:08.960Z"
   },
   {
    "duration": 10,
    "start_time": "2021-12-08T21:11:44.299Z"
   },
   {
    "duration": 10,
    "start_time": "2021-12-08T21:12:01.311Z"
   },
   {
    "duration": 13,
    "start_time": "2021-12-08T21:12:07.007Z"
   },
   {
    "duration": 5,
    "start_time": "2021-12-08T21:13:04.840Z"
   },
   {
    "duration": 10,
    "start_time": "2021-12-08T21:13:31.956Z"
   },
   {
    "duration": 5,
    "start_time": "2021-12-08T21:15:02.131Z"
   },
   {
    "duration": 6,
    "start_time": "2021-12-08T21:15:05.865Z"
   },
   {
    "duration": 5,
    "start_time": "2021-12-08T21:16:23.065Z"
   },
   {
    "duration": 7,
    "start_time": "2021-12-08T21:16:25.951Z"
   },
   {
    "duration": 11,
    "start_time": "2021-12-08T21:18:27.618Z"
   },
   {
    "duration": 12,
    "start_time": "2021-12-08T21:18:48.198Z"
   },
   {
    "duration": 7,
    "start_time": "2021-12-08T21:19:34.362Z"
   },
   {
    "duration": 11,
    "start_time": "2021-12-08T21:19:36.862Z"
   },
   {
    "duration": 324,
    "start_time": "2021-12-08T21:21:59.294Z"
   },
   {
    "duration": 5,
    "start_time": "2021-12-08T21:22:06.767Z"
   },
   {
    "duration": 6,
    "start_time": "2021-12-08T21:22:19.264Z"
   },
   {
    "duration": 7,
    "start_time": "2021-12-08T21:22:40.833Z"
   },
   {
    "duration": 5,
    "start_time": "2021-12-08T21:23:01.138Z"
   },
   {
    "duration": 7,
    "start_time": "2021-12-08T21:23:06.937Z"
   },
   {
    "duration": 7,
    "start_time": "2021-12-08T21:23:11.608Z"
   },
   {
    "duration": 6,
    "start_time": "2021-12-08T21:23:15.385Z"
   },
   {
    "duration": 7,
    "start_time": "2021-12-08T21:23:19.480Z"
   },
   {
    "duration": 7,
    "start_time": "2021-12-08T21:23:32.244Z"
   },
   {
    "duration": 442,
    "start_time": "2021-12-08T21:29:07.351Z"
   },
   {
    "duration": 6,
    "start_time": "2021-12-08T21:29:14.086Z"
   },
   {
    "duration": 12,
    "start_time": "2021-12-08T21:35:55.015Z"
   },
   {
    "duration": 12,
    "start_time": "2021-12-08T21:36:27.209Z"
   },
   {
    "duration": 11,
    "start_time": "2021-12-08T21:36:55.713Z"
   },
   {
    "duration": 40,
    "start_time": "2021-12-08T21:38:18.795Z"
   },
   {
    "duration": 15,
    "start_time": "2021-12-08T21:38:47.837Z"
   },
   {
    "duration": 13,
    "start_time": "2021-12-08T21:39:08.255Z"
   },
   {
    "duration": 14,
    "start_time": "2021-12-08T21:39:24.507Z"
   },
   {
    "duration": 15,
    "start_time": "2021-12-08T21:39:37.599Z"
   },
   {
    "duration": 14,
    "start_time": "2021-12-08T21:41:12.839Z"
   },
   {
    "duration": 17,
    "start_time": "2021-12-08T21:57:28.764Z"
   },
   {
    "duration": 8,
    "start_time": "2021-12-08T22:01:23.078Z"
   },
   {
    "duration": 11,
    "start_time": "2021-12-08T22:01:30.117Z"
   },
   {
    "duration": 10,
    "start_time": "2021-12-08T23:15:20.124Z"
   },
   {
    "duration": 7,
    "start_time": "2021-12-08T23:15:28.771Z"
   },
   {
    "duration": 9,
    "start_time": "2021-12-08T23:15:31.327Z"
   },
   {
    "duration": 313,
    "start_time": "2021-12-08T23:16:14.828Z"
   },
   {
    "duration": 10,
    "start_time": "2021-12-08T23:16:32.579Z"
   },
   {
    "duration": 9,
    "start_time": "2021-12-08T23:18:16.211Z"
   },
   {
    "duration": 87,
    "start_time": "2021-12-08T23:18:25.804Z"
   },
   {
    "duration": 31,
    "start_time": "2021-12-08T23:18:25.894Z"
   },
   {
    "duration": 7,
    "start_time": "2021-12-08T23:18:25.928Z"
   },
   {
    "duration": 9,
    "start_time": "2021-12-08T23:18:25.937Z"
   },
   {
    "duration": 7,
    "start_time": "2021-12-08T23:18:25.949Z"
   },
   {
    "duration": 851,
    "start_time": "2021-12-08T23:18:40.602Z"
   },
   {
    "duration": 10,
    "start_time": "2021-12-08T23:19:33.779Z"
   },
   {
    "duration": 10,
    "start_time": "2021-12-08T23:20:46.756Z"
   },
   {
    "duration": 11,
    "start_time": "2021-12-08T23:21:06.979Z"
   },
   {
    "duration": 12,
    "start_time": "2021-12-08T23:21:46.052Z"
   },
   {
    "duration": 6,
    "start_time": "2021-12-08T23:24:58.214Z"
   },
   {
    "duration": 61,
    "start_time": "2021-12-09T00:51:00.823Z"
   },
   {
    "duration": 12,
    "start_time": "2021-12-09T00:51:24.468Z"
   },
   {
    "duration": 11,
    "start_time": "2021-12-09T00:52:05.224Z"
   },
   {
    "duration": 301,
    "start_time": "2021-12-09T00:52:29.334Z"
   },
   {
    "duration": 10,
    "start_time": "2021-12-09T00:52:32.923Z"
   },
   {
    "duration": 290,
    "start_time": "2021-12-09T00:53:28.121Z"
   },
   {
    "duration": 49,
    "start_time": "2021-12-09T00:54:18.854Z"
   },
   {
    "duration": 33,
    "start_time": "2021-12-09T01:00:06.736Z"
   },
   {
    "duration": 37,
    "start_time": "2021-12-09T01:00:34.849Z"
   },
   {
    "duration": 12,
    "start_time": "2021-12-09T01:01:03.490Z"
   },
   {
    "duration": 10,
    "start_time": "2021-12-09T01:02:01.611Z"
   },
   {
    "duration": 11,
    "start_time": "2021-12-09T01:02:34.483Z"
   },
   {
    "duration": 11,
    "start_time": "2021-12-09T01:04:37.546Z"
   },
   {
    "duration": 12,
    "start_time": "2021-12-09T01:04:46.569Z"
   },
   {
    "duration": 11,
    "start_time": "2021-12-09T01:05:03.479Z"
   },
   {
    "duration": 11,
    "start_time": "2021-12-09T01:05:27.230Z"
   },
   {
    "duration": 11,
    "start_time": "2021-12-09T01:05:49.346Z"
   },
   {
    "duration": 110,
    "start_time": "2021-12-09T06:43:13.784Z"
   },
   {
    "duration": 104,
    "start_time": "2021-12-09T06:43:20.232Z"
   },
   {
    "duration": 52,
    "start_time": "2021-12-09T06:43:26.358Z"
   },
   {
    "duration": 64,
    "start_time": "2021-12-09T06:43:48.037Z"
   },
   {
    "duration": 11,
    "start_time": "2021-12-09T06:44:46.797Z"
   },
   {
    "duration": 11,
    "start_time": "2021-12-09T06:45:49.847Z"
   },
   {
    "duration": 15,
    "start_time": "2021-12-09T06:48:10.838Z"
   },
   {
    "duration": 15,
    "start_time": "2021-12-09T06:50:56.905Z"
   },
   {
    "duration": 11,
    "start_time": "2021-12-09T06:52:34.789Z"
   },
   {
    "duration": 6,
    "start_time": "2021-12-09T07:10:09.446Z"
   },
   {
    "duration": 5,
    "start_time": "2021-12-09T07:10:29.015Z"
   },
   {
    "duration": 6,
    "start_time": "2021-12-09T07:10:29.501Z"
   },
   {
    "duration": 10,
    "start_time": "2021-12-09T07:24:05.808Z"
   },
   {
    "duration": 99,
    "start_time": "2021-12-09T07:39:02.010Z"
   },
   {
    "duration": 7,
    "start_time": "2021-12-09T07:40:28.390Z"
   },
   {
    "duration": 28,
    "start_time": "2021-12-09T07:42:51.882Z"
   },
   {
    "duration": 163,
    "start_time": "2021-12-09T07:44:10.570Z"
   },
   {
    "duration": 12,
    "start_time": "2021-12-09T07:44:22.959Z"
   },
   {
    "duration": 13,
    "start_time": "2021-12-09T07:44:44.607Z"
   },
   {
    "duration": 325,
    "start_time": "2021-12-09T07:45:02.093Z"
   },
   {
    "duration": 7,
    "start_time": "2021-12-09T07:45:07.931Z"
   },
   {
    "duration": 9,
    "start_time": "2021-12-09T07:50:54.060Z"
   },
   {
    "duration": 7,
    "start_time": "2021-12-09T08:05:09.950Z"
   },
   {
    "duration": 10,
    "start_time": "2021-12-09T08:07:33.179Z"
   },
   {
    "duration": 3,
    "start_time": "2021-12-09T08:17:30.158Z"
   },
   {
    "duration": 2,
    "start_time": "2021-12-09T08:17:33.187Z"
   },
   {
    "duration": 10,
    "start_time": "2021-12-09T08:22:27.584Z"
   },
   {
    "duration": 11,
    "start_time": "2021-12-09T08:22:43.575Z"
   },
   {
    "duration": 7,
    "start_time": "2021-12-09T08:29:10.592Z"
   },
   {
    "duration": 84,
    "start_time": "2021-12-09T08:29:56.347Z"
   },
   {
    "duration": 19,
    "start_time": "2021-12-09T08:29:56.434Z"
   },
   {
    "duration": 6,
    "start_time": "2021-12-09T08:29:56.456Z"
   },
   {
    "duration": 35,
    "start_time": "2021-12-09T08:29:56.465Z"
   },
   {
    "duration": 11,
    "start_time": "2021-12-09T08:29:56.646Z"
   },
   {
    "duration": 12,
    "start_time": "2021-12-09T08:29:56.659Z"
   },
   {
    "duration": 19,
    "start_time": "2021-12-09T08:29:56.674Z"
   },
   {
    "duration": 25,
    "start_time": "2021-12-09T08:29:56.696Z"
   },
   {
    "duration": 6,
    "start_time": "2021-12-09T08:29:56.724Z"
   },
   {
    "duration": 18,
    "start_time": "2021-12-09T08:29:56.732Z"
   },
   {
    "duration": 23,
    "start_time": "2021-12-09T08:29:56.752Z"
   },
   {
    "duration": 11,
    "start_time": "2021-12-09T08:29:56.778Z"
   },
   {
    "duration": 25,
    "start_time": "2021-12-09T08:29:56.793Z"
   },
   {
    "duration": 22,
    "start_time": "2021-12-09T08:29:56.821Z"
   },
   {
    "duration": 25,
    "start_time": "2021-12-09T08:29:56.845Z"
   },
   {
    "duration": 18,
    "start_time": "2021-12-09T08:29:56.872Z"
   },
   {
    "duration": 19,
    "start_time": "2021-12-09T08:29:56.893Z"
   },
   {
    "duration": 27,
    "start_time": "2021-12-09T08:29:56.914Z"
   },
   {
    "duration": 25,
    "start_time": "2021-12-09T08:29:56.943Z"
   },
   {
    "duration": 23,
    "start_time": "2021-12-09T08:29:56.971Z"
   },
   {
    "duration": 17,
    "start_time": "2021-12-09T08:29:56.997Z"
   },
   {
    "duration": 15,
    "start_time": "2021-12-09T08:29:57.016Z"
   },
   {
    "duration": 40,
    "start_time": "2021-12-09T08:29:57.034Z"
   },
   {
    "duration": 7,
    "start_time": "2021-12-09T08:29:57.076Z"
   },
   {
    "duration": 12,
    "start_time": "2021-12-09T08:40:15.431Z"
   },
   {
    "duration": 6,
    "start_time": "2021-12-09T08:40:28.544Z"
   },
   {
    "duration": 84,
    "start_time": "2021-12-09T08:40:37.622Z"
   },
   {
    "duration": 18,
    "start_time": "2021-12-09T08:40:37.709Z"
   },
   {
    "duration": 6,
    "start_time": "2021-12-09T08:40:37.730Z"
   },
   {
    "duration": 9,
    "start_time": "2021-12-09T08:40:37.739Z"
   },
   {
    "duration": 21,
    "start_time": "2021-12-09T08:40:42.764Z"
   },
   {
    "duration": 21,
    "start_time": "2021-12-09T08:46:43.699Z"
   },
   {
    "duration": 24,
    "start_time": "2021-12-09T08:47:11.610Z"
   },
   {
    "duration": 33,
    "start_time": "2021-12-09T08:47:43.619Z"
   },
   {
    "duration": 33,
    "start_time": "2021-12-09T08:48:31.247Z"
   },
   {
    "duration": 14,
    "start_time": "2021-12-09T09:15:00.365Z"
   },
   {
    "duration": 85,
    "start_time": "2021-12-09T09:15:09.938Z"
   },
   {
    "duration": 18,
    "start_time": "2021-12-09T09:15:10.025Z"
   },
   {
    "duration": 11,
    "start_time": "2021-12-09T09:15:10.046Z"
   },
   {
    "duration": 31,
    "start_time": "2021-12-09T09:15:10.060Z"
   },
   {
    "duration": 48,
    "start_time": "2021-12-09T09:15:10.093Z"
   },
   {
    "duration": 53,
    "start_time": "2021-12-09T09:15:10.143Z"
   },
   {
    "duration": 22,
    "start_time": "2021-12-09T09:15:10.198Z"
   },
   {
    "duration": 18,
    "start_time": "2021-12-09T09:29:06.226Z"
   },
   {
    "duration": 18,
    "start_time": "2021-12-09T09:29:16.448Z"
   },
   {
    "duration": 17,
    "start_time": "2021-12-09T09:46:32.537Z"
   },
   {
    "duration": 1838,
    "start_time": "2021-12-09T10:28:32.712Z"
   },
   {
    "duration": 1141,
    "start_time": "2021-12-09T10:28:51.788Z"
   },
   {
    "duration": 1243,
    "start_time": "2021-12-09T10:29:07.251Z"
   },
   {
    "duration": 321,
    "start_time": "2021-12-09T10:36:49.012Z"
   },
   {
    "duration": 4,
    "start_time": "2021-12-09T10:37:03.801Z"
   },
   {
    "duration": 12,
    "start_time": "2021-12-09T10:38:09.497Z"
   },
   {
    "duration": 164,
    "start_time": "2021-12-09T10:38:26.400Z"
   },
   {
    "duration": 1686,
    "start_time": "2021-12-09T10:38:35.270Z"
   },
   {
    "duration": 526,
    "start_time": "2021-12-09T10:39:19.483Z"
   },
   {
    "duration": 418,
    "start_time": "2021-12-09T10:40:44.881Z"
   },
   {
    "duration": 1396,
    "start_time": "2021-12-09T10:41:07.643Z"
   },
   {
    "duration": 1555,
    "start_time": "2021-12-09T10:44:11.894Z"
   },
   {
    "duration": 374,
    "start_time": "2021-12-09T10:46:07.191Z"
   },
   {
    "duration": 318,
    "start_time": "2021-12-09T10:46:16.474Z"
   },
   {
    "duration": 1085,
    "start_time": "2021-12-09T10:51:41.660Z"
   },
   {
    "duration": 301,
    "start_time": "2021-12-09T10:54:24.916Z"
   },
   {
    "duration": 85,
    "start_time": "2021-12-09T10:54:40.651Z"
   },
   {
    "duration": 21,
    "start_time": "2021-12-09T10:54:40.739Z"
   },
   {
    "duration": 8,
    "start_time": "2021-12-09T10:54:40.764Z"
   },
   {
    "duration": 43,
    "start_time": "2021-12-09T10:54:40.776Z"
   },
   {
    "duration": 39,
    "start_time": "2021-12-09T10:54:40.821Z"
   },
   {
    "duration": 39,
    "start_time": "2021-12-09T10:54:40.862Z"
   },
   {
    "duration": 25,
    "start_time": "2021-12-09T10:54:40.903Z"
   },
   {
    "duration": 14,
    "start_time": "2021-12-09T10:54:40.931Z"
   },
   {
    "duration": 6,
    "start_time": "2021-12-09T10:54:40.947Z"
   },
   {
    "duration": 16,
    "start_time": "2021-12-09T10:54:40.955Z"
   },
   {
    "duration": 13,
    "start_time": "2021-12-09T10:54:41.018Z"
   },
   {
    "duration": 335,
    "start_time": "2021-12-09T10:54:41.118Z"
   },
   {
    "duration": 7,
    "start_time": "2021-12-09T10:54:41.457Z"
   },
   {
    "duration": 9,
    "start_time": "2021-12-09T10:54:41.466Z"
   },
   {
    "duration": 42,
    "start_time": "2021-12-09T10:54:41.477Z"
   },
   {
    "duration": 5,
    "start_time": "2021-12-09T10:54:41.522Z"
   },
   {
    "duration": 8,
    "start_time": "2021-12-09T10:54:41.529Z"
   },
   {
    "duration": 8,
    "start_time": "2021-12-09T10:54:41.540Z"
   },
   {
    "duration": 6,
    "start_time": "2021-12-09T10:54:41.552Z"
   },
   {
    "duration": 8,
    "start_time": "2021-12-09T10:54:41.561Z"
   },
   {
    "duration": 6,
    "start_time": "2021-12-09T10:54:41.618Z"
   },
   {
    "duration": 10,
    "start_time": "2021-12-09T10:54:41.627Z"
   },
   {
    "duration": 11,
    "start_time": "2021-12-09T10:54:41.640Z"
   },
   {
    "duration": 19,
    "start_time": "2021-12-09T10:54:41.654Z"
   },
   {
    "duration": 13,
    "start_time": "2021-12-09T10:54:41.717Z"
   },
   {
    "duration": 7,
    "start_time": "2021-12-09T10:54:41.732Z"
   },
   {
    "duration": 7,
    "start_time": "2021-12-09T10:54:41.742Z"
   },
   {
    "duration": 8,
    "start_time": "2021-12-09T10:54:41.751Z"
   },
   {
    "duration": 63,
    "start_time": "2021-12-09T10:54:41.762Z"
   },
   {
    "duration": 8,
    "start_time": "2021-12-09T10:54:41.828Z"
   },
   {
    "duration": 12,
    "start_time": "2021-12-09T10:56:18.684Z"
   },
   {
    "duration": 287,
    "start_time": "2021-12-09T10:58:13.315Z"
   },
   {
    "duration": 84,
    "start_time": "2021-12-09T10:58:29.126Z"
   },
   {
    "duration": 20,
    "start_time": "2021-12-09T10:58:29.212Z"
   },
   {
    "duration": 7,
    "start_time": "2021-12-09T10:58:29.235Z"
   },
   {
    "duration": 7,
    "start_time": "2021-12-09T10:58:29.245Z"
   },
   {
    "duration": 64,
    "start_time": "2021-12-09T10:58:29.255Z"
   },
   {
    "duration": 33,
    "start_time": "2021-12-09T10:58:29.322Z"
   },
   {
    "duration": 10,
    "start_time": "2021-12-09T10:58:29.357Z"
   },
   {
    "duration": 48,
    "start_time": "2021-12-09T10:58:29.371Z"
   },
   {
    "duration": 6,
    "start_time": "2021-12-09T10:58:29.422Z"
   },
   {
    "duration": 19,
    "start_time": "2021-12-09T10:58:29.431Z"
   },
   {
    "duration": 28,
    "start_time": "2021-12-09T10:58:29.452Z"
   },
   {
    "duration": 308,
    "start_time": "2021-12-09T10:59:41.625Z"
   },
   {
    "duration": 463,
    "start_time": "2021-12-09T11:00:57.334Z"
   },
   {
    "duration": 462,
    "start_time": "2021-12-09T11:01:59.575Z"
   },
   {
    "duration": 332,
    "start_time": "2021-12-09T11:02:54.974Z"
   },
   {
    "duration": 85,
    "start_time": "2021-12-09T11:06:36.281Z"
   },
   {
    "duration": 19,
    "start_time": "2021-12-09T11:06:36.369Z"
   },
   {
    "duration": 31,
    "start_time": "2021-12-09T11:06:36.391Z"
   },
   {
    "duration": 7,
    "start_time": "2021-12-09T11:06:36.425Z"
   },
   {
    "duration": 34,
    "start_time": "2021-12-09T11:06:36.434Z"
   },
   {
    "duration": 65,
    "start_time": "2021-12-09T11:06:36.470Z"
   },
   {
    "duration": 11,
    "start_time": "2021-12-09T11:06:36.538Z"
   },
   {
    "duration": 15,
    "start_time": "2021-12-09T11:06:36.552Z"
   },
   {
    "duration": 6,
    "start_time": "2021-12-09T11:06:36.570Z"
   },
   {
    "duration": 14,
    "start_time": "2021-12-09T11:06:36.618Z"
   },
   {
    "duration": 12,
    "start_time": "2021-12-09T11:06:36.634Z"
   },
   {
    "duration": 368,
    "start_time": "2021-12-09T11:06:36.648Z"
   },
   {
    "duration": 9,
    "start_time": "2021-12-09T11:06:37.019Z"
   },
   {
    "duration": 11,
    "start_time": "2021-12-09T11:06:37.030Z"
   },
   {
    "duration": 16,
    "start_time": "2021-12-09T11:06:37.044Z"
   },
   {
    "duration": 8,
    "start_time": "2021-12-09T11:06:37.063Z"
   },
   {
    "duration": 44,
    "start_time": "2021-12-09T11:06:37.074Z"
   },
   {
    "duration": 8,
    "start_time": "2021-12-09T11:06:37.121Z"
   },
   {
    "duration": 6,
    "start_time": "2021-12-09T11:06:37.132Z"
   },
   {
    "duration": 11,
    "start_time": "2021-12-09T11:06:37.140Z"
   },
   {
    "duration": 6,
    "start_time": "2021-12-09T11:06:37.153Z"
   },
   {
    "duration": 56,
    "start_time": "2021-12-09T11:06:37.162Z"
   },
   {
    "duration": 8,
    "start_time": "2021-12-09T11:06:37.222Z"
   },
   {
    "duration": 21,
    "start_time": "2021-12-09T11:06:37.233Z"
   },
   {
    "duration": 20,
    "start_time": "2021-12-09T11:06:37.257Z"
   },
   {
    "duration": 41,
    "start_time": "2021-12-09T11:06:37.280Z"
   },
   {
    "duration": 7,
    "start_time": "2021-12-09T11:06:37.324Z"
   },
   {
    "duration": 15,
    "start_time": "2021-12-09T11:06:37.334Z"
   },
   {
    "duration": 20,
    "start_time": "2021-12-09T11:06:37.351Z"
   },
   {
    "duration": 52,
    "start_time": "2021-12-09T11:06:37.374Z"
   },
   {
    "duration": 8,
    "start_time": "2021-12-09T11:06:37.429Z"
   },
   {
    "duration": 16,
    "start_time": "2021-12-09T11:09:04.212Z"
   },
   {
    "duration": 12,
    "start_time": "2021-12-09T11:11:12.739Z"
   },
   {
    "duration": 13,
    "start_time": "2021-12-09T11:11:21.211Z"
   },
   {
    "duration": 372,
    "start_time": "2021-12-09T11:11:21.227Z"
   },
   {
    "duration": 15,
    "start_time": "2021-12-09T11:11:21.602Z"
   },
   {
    "duration": 8,
    "start_time": "2021-12-09T11:11:21.619Z"
   },
   {
    "duration": 15,
    "start_time": "2021-12-09T11:11:21.630Z"
   },
   {
    "duration": 5,
    "start_time": "2021-12-09T11:11:21.648Z"
   },
   {
    "duration": 9,
    "start_time": "2021-12-09T11:11:21.656Z"
   },
   {
    "duration": 52,
    "start_time": "2021-12-09T11:11:21.667Z"
   },
   {
    "duration": 24,
    "start_time": "2021-12-09T11:11:21.722Z"
   },
   {
    "duration": 13,
    "start_time": "2021-12-09T11:11:21.748Z"
   },
   {
    "duration": 13,
    "start_time": "2021-12-09T11:11:21.763Z"
   },
   {
    "duration": 16,
    "start_time": "2021-12-09T11:11:21.779Z"
   },
   {
    "duration": 23,
    "start_time": "2021-12-09T11:11:21.798Z"
   },
   {
    "duration": 23,
    "start_time": "2021-12-09T11:11:21.824Z"
   },
   {
    "duration": 17,
    "start_time": "2021-12-09T11:11:21.850Z"
   },
   {
    "duration": 14,
    "start_time": "2021-12-09T11:11:21.870Z"
   },
   {
    "duration": 30,
    "start_time": "2021-12-09T11:11:21.887Z"
   },
   {
    "duration": 8,
    "start_time": "2021-12-09T11:11:21.920Z"
   },
   {
    "duration": 15,
    "start_time": "2021-12-09T11:11:21.933Z"
   },
   {
    "duration": 13,
    "start_time": "2021-12-09T11:11:21.951Z"
   },
   {
    "duration": 55,
    "start_time": "2021-12-09T11:11:21.967Z"
   },
   {
    "duration": 17,
    "start_time": "2021-12-09T11:11:22.025Z"
   },
   {
    "duration": 312,
    "start_time": "2021-12-09T11:12:27.467Z"
   },
   {
    "duration": 20,
    "start_time": "2021-12-09T11:15:48.170Z"
   },
   {
    "duration": 21,
    "start_time": "2021-12-09T11:17:46.109Z"
   },
   {
    "duration": 20,
    "start_time": "2021-12-09T11:18:42.506Z"
   },
   {
    "duration": 88,
    "start_time": "2021-12-09T11:18:54.786Z"
   },
   {
    "duration": 40,
    "start_time": "2021-12-09T11:18:54.876Z"
   },
   {
    "duration": 6,
    "start_time": "2021-12-09T11:18:54.920Z"
   },
   {
    "duration": 15,
    "start_time": "2021-12-09T11:18:54.929Z"
   },
   {
    "duration": 32,
    "start_time": "2021-12-09T11:18:54.946Z"
   },
   {
    "duration": 67,
    "start_time": "2021-12-09T11:18:54.980Z"
   },
   {
    "duration": 11,
    "start_time": "2021-12-09T11:18:55.049Z"
   },
   {
    "duration": 52,
    "start_time": "2021-12-09T11:18:55.065Z"
   },
   {
    "duration": 5,
    "start_time": "2021-12-09T11:18:55.120Z"
   },
   {
    "duration": 19,
    "start_time": "2021-12-09T11:18:55.128Z"
   },
   {
    "duration": 14,
    "start_time": "2021-12-09T11:18:55.150Z"
   },
   {
    "duration": 68,
    "start_time": "2021-12-09T11:18:55.167Z"
   },
   {
    "duration": 7,
    "start_time": "2021-12-09T11:18:55.237Z"
   },
   {
    "duration": 10,
    "start_time": "2021-12-09T11:18:55.247Z"
   },
   {
    "duration": 19,
    "start_time": "2021-12-09T11:18:55.259Z"
   },
   {
    "duration": 6,
    "start_time": "2021-12-09T11:18:55.316Z"
   },
   {
    "duration": 9,
    "start_time": "2021-12-09T11:18:55.325Z"
   },
   {
    "duration": 14,
    "start_time": "2021-12-09T11:18:55.336Z"
   },
   {
    "duration": 7,
    "start_time": "2021-12-09T11:18:55.352Z"
   },
   {
    "duration": 54,
    "start_time": "2021-12-09T11:18:55.362Z"
   },
   {
    "duration": 6,
    "start_time": "2021-12-09T11:18:55.419Z"
   },
   {
    "duration": 11,
    "start_time": "2021-12-09T11:18:55.427Z"
   },
   {
    "duration": 8,
    "start_time": "2021-12-09T11:18:55.442Z"
   },
   {
    "duration": 17,
    "start_time": "2021-12-09T11:18:55.454Z"
   },
   {
    "duration": 11,
    "start_time": "2021-12-09T11:18:55.518Z"
   },
   {
    "duration": 9,
    "start_time": "2021-12-09T11:18:55.532Z"
   },
   {
    "duration": 7,
    "start_time": "2021-12-09T11:18:55.543Z"
   },
   {
    "duration": 7,
    "start_time": "2021-12-09T11:18:55.552Z"
   },
   {
    "duration": 65,
    "start_time": "2021-12-09T11:18:55.562Z"
   },
   {
    "duration": 14,
    "start_time": "2021-12-09T11:18:55.630Z"
   },
   {
    "duration": 8,
    "start_time": "2021-12-09T11:18:55.647Z"
   },
   {
    "duration": 11,
    "start_time": "2021-12-09T11:18:55.658Z"
   },
   {
    "duration": 5,
    "start_time": "2021-12-09T11:29:55.686Z"
   },
   {
    "duration": 6,
    "start_time": "2021-12-09T11:30:10.782Z"
   },
   {
    "duration": 18,
    "start_time": "2021-12-09T11:30:28.125Z"
   },
   {
    "duration": 19,
    "start_time": "2021-12-09T11:31:37.549Z"
   },
   {
    "duration": 18,
    "start_time": "2021-12-09T11:39:42.337Z"
   },
   {
    "duration": 24,
    "start_time": "2021-12-09T11:52:28.284Z"
   },
   {
    "duration": 24,
    "start_time": "2021-12-09T11:52:35.185Z"
   },
   {
    "duration": 54,
    "start_time": "2021-12-09T11:55:01.044Z"
   },
   {
    "duration": 54,
    "start_time": "2021-12-09T11:57:29.904Z"
   },
   {
    "duration": 51,
    "start_time": "2021-12-09T11:57:35.400Z"
   },
   {
    "duration": 45,
    "start_time": "2021-12-09T11:58:19.609Z"
   },
   {
    "duration": 8,
    "start_time": "2021-12-09T12:00:56.151Z"
   },
   {
    "duration": 9,
    "start_time": "2021-12-09T12:01:25.844Z"
   },
   {
    "duration": 4916,
    "start_time": "2021-12-09T12:02:18.401Z"
   },
   {
    "duration": 22,
    "start_time": "2021-12-09T12:03:02.328Z"
   },
   {
    "duration": 8,
    "start_time": "2021-12-09T12:03:50.840Z"
   },
   {
    "duration": 44,
    "start_time": "2021-12-09T12:10:16.848Z"
   },
   {
    "duration": 10,
    "start_time": "2021-12-09T12:18:54.255Z"
   },
   {
    "duration": 10,
    "start_time": "2021-12-09T12:19:45.289Z"
   },
   {
    "duration": 11,
    "start_time": "2021-12-09T12:23:14.042Z"
   },
   {
    "duration": 11,
    "start_time": "2021-12-09T12:23:20.161Z"
   },
   {
    "duration": 96,
    "start_time": "2021-12-09T12:23:27.166Z"
   },
   {
    "duration": 23,
    "start_time": "2021-12-09T12:23:27.265Z"
   },
   {
    "duration": 10,
    "start_time": "2021-12-09T12:23:27.319Z"
   },
   {
    "duration": 13,
    "start_time": "2021-12-09T12:23:27.332Z"
   },
   {
    "duration": 24,
    "start_time": "2021-12-09T12:23:27.347Z"
   },
   {
    "duration": 58,
    "start_time": "2021-12-09T12:23:27.374Z"
   },
   {
    "duration": 17,
    "start_time": "2021-12-09T12:23:27.435Z"
   },
   {
    "duration": 14,
    "start_time": "2021-12-09T12:23:27.457Z"
   },
   {
    "duration": 43,
    "start_time": "2021-12-09T12:23:27.474Z"
   },
   {
    "duration": 13,
    "start_time": "2021-12-09T12:23:27.520Z"
   },
   {
    "duration": 12,
    "start_time": "2021-12-09T12:23:27.535Z"
   },
   {
    "duration": 21,
    "start_time": "2021-12-09T12:23:27.549Z"
   },
   {
    "duration": 5,
    "start_time": "2021-12-09T12:23:27.572Z"
   },
   {
    "duration": 7,
    "start_time": "2021-12-09T12:23:27.618Z"
   },
   {
    "duration": 16,
    "start_time": "2021-12-09T12:23:27.628Z"
   },
   {
    "duration": 5,
    "start_time": "2021-12-09T12:23:27.646Z"
   },
   {
    "duration": 8,
    "start_time": "2021-12-09T12:23:27.653Z"
   },
   {
    "duration": 11,
    "start_time": "2021-12-09T12:23:27.664Z"
   },
   {
    "duration": 6,
    "start_time": "2021-12-09T12:23:27.718Z"
   },
   {
    "duration": 14,
    "start_time": "2021-12-09T12:23:27.726Z"
   },
   {
    "duration": 8,
    "start_time": "2021-12-09T12:23:27.742Z"
   },
   {
    "duration": 9,
    "start_time": "2021-12-09T12:23:27.753Z"
   },
   {
    "duration": 9,
    "start_time": "2021-12-09T12:23:27.767Z"
   },
   {
    "duration": 53,
    "start_time": "2021-12-09T12:23:27.779Z"
   },
   {
    "duration": 16,
    "start_time": "2021-12-09T12:23:27.834Z"
   },
   {
    "duration": 9,
    "start_time": "2021-12-09T12:23:27.853Z"
   },
   {
    "duration": 5,
    "start_time": "2021-12-09T12:23:27.864Z"
   },
   {
    "duration": 7,
    "start_time": "2021-12-09T12:23:27.871Z"
   },
   {
    "duration": 48,
    "start_time": "2021-12-09T12:23:27.881Z"
   },
   {
    "duration": 11,
    "start_time": "2021-12-09T12:23:27.931Z"
   },
   {
    "duration": 7,
    "start_time": "2021-12-09T12:23:27.944Z"
   },
   {
    "duration": 11,
    "start_time": "2021-12-09T12:23:27.953Z"
   },
   {
    "duration": 67,
    "start_time": "2021-12-09T12:23:27.967Z"
   },
   {
    "duration": 20,
    "start_time": "2021-12-09T12:23:28.037Z"
   },
   {
    "duration": 20,
    "start_time": "2021-12-09T12:23:28.059Z"
   },
   {
    "duration": 56,
    "start_time": "2021-12-09T12:23:28.081Z"
   },
   {
    "duration": 9,
    "start_time": "2021-12-09T12:23:28.140Z"
   },
   {
    "duration": 75,
    "start_time": "2021-12-09T12:23:28.151Z"
   },
   {
    "duration": 99,
    "start_time": "2021-12-09T12:24:04.895Z"
   },
   {
    "duration": 45,
    "start_time": "2021-12-09T12:24:04.997Z"
   },
   {
    "duration": 10,
    "start_time": "2021-12-09T12:24:05.046Z"
   },
   {
    "duration": 16,
    "start_time": "2021-12-09T12:24:05.059Z"
   },
   {
    "duration": 58,
    "start_time": "2021-12-09T12:24:05.077Z"
   },
   {
    "duration": 19,
    "start_time": "2021-12-09T12:24:05.137Z"
   },
   {
    "duration": 15,
    "start_time": "2021-12-09T12:24:05.159Z"
   },
   {
    "duration": 47,
    "start_time": "2021-12-09T12:24:05.178Z"
   },
   {
    "duration": 6,
    "start_time": "2021-12-09T12:24:05.229Z"
   },
   {
    "duration": 16,
    "start_time": "2021-12-09T12:24:05.237Z"
   },
   {
    "duration": 12,
    "start_time": "2021-12-09T12:24:05.256Z"
   },
   {
    "duration": 67,
    "start_time": "2021-12-09T12:24:05.271Z"
   },
   {
    "duration": 6,
    "start_time": "2021-12-09T12:24:05.340Z"
   },
   {
    "duration": 10,
    "start_time": "2021-12-09T12:24:05.348Z"
   },
   {
    "duration": 16,
    "start_time": "2021-12-09T12:24:05.360Z"
   },
   {
    "duration": 42,
    "start_time": "2021-12-09T12:24:05.378Z"
   },
   {
    "duration": 12,
    "start_time": "2021-12-09T12:24:05.422Z"
   },
   {
    "duration": 13,
    "start_time": "2021-12-09T12:24:05.437Z"
   },
   {
    "duration": 9,
    "start_time": "2021-12-09T12:24:05.453Z"
   },
   {
    "duration": 10,
    "start_time": "2021-12-09T12:24:05.465Z"
   },
   {
    "duration": 6,
    "start_time": "2021-12-09T12:24:05.518Z"
   },
   {
    "duration": 8,
    "start_time": "2021-12-09T12:24:05.527Z"
   },
   {
    "duration": 8,
    "start_time": "2021-12-09T12:24:05.540Z"
   },
   {
    "duration": 20,
    "start_time": "2021-12-09T12:24:05.551Z"
   },
   {
    "duration": 51,
    "start_time": "2021-12-09T12:24:05.573Z"
   },
   {
    "duration": 14,
    "start_time": "2021-12-09T12:24:05.626Z"
   },
   {
    "duration": 15,
    "start_time": "2021-12-09T12:24:05.642Z"
   },
   {
    "duration": 13,
    "start_time": "2021-12-09T12:24:05.659Z"
   },
   {
    "duration": 48,
    "start_time": "2021-12-09T12:24:05.674Z"
   },
   {
    "duration": 12,
    "start_time": "2021-12-09T12:24:05.724Z"
   },
   {
    "duration": 8,
    "start_time": "2021-12-09T12:24:05.739Z"
   },
   {
    "duration": 14,
    "start_time": "2021-12-09T12:24:05.750Z"
   },
   {
    "duration": 62,
    "start_time": "2021-12-09T12:24:05.767Z"
   },
   {
    "duration": 19,
    "start_time": "2021-12-09T12:24:05.832Z"
   },
   {
    "duration": 21,
    "start_time": "2021-12-09T12:24:05.854Z"
   },
   {
    "duration": 66,
    "start_time": "2021-12-09T12:24:05.877Z"
   },
   {
    "duration": 8,
    "start_time": "2021-12-09T12:24:05.945Z"
   },
   {
    "duration": 85,
    "start_time": "2021-12-09T12:24:05.955Z"
   },
   {
    "duration": 8,
    "start_time": "2021-12-09T12:30:45.551Z"
   },
   {
    "duration": 7,
    "start_time": "2021-12-09T12:33:58.225Z"
   },
   {
    "duration": 435,
    "start_time": "2021-12-09T12:35:17.087Z"
   },
   {
    "duration": 308,
    "start_time": "2021-12-09T12:35:37.183Z"
   },
   {
    "duration": 3792,
    "start_time": "2021-12-09T12:35:55.312Z"
   },
   {
    "duration": 308,
    "start_time": "2021-12-09T12:36:11.458Z"
   },
   {
    "duration": 344,
    "start_time": "2021-12-09T12:36:46.357Z"
   },
   {
    "duration": 343,
    "start_time": "2021-12-09T12:37:05.370Z"
   },
   {
    "duration": 364,
    "start_time": "2021-12-09T12:37:28.147Z"
   },
   {
    "duration": 325,
    "start_time": "2021-12-09T12:37:38.585Z"
   },
   {
    "duration": 297,
    "start_time": "2021-12-09T12:38:08.246Z"
   },
   {
    "duration": 354,
    "start_time": "2021-12-09T12:38:20.562Z"
   },
   {
    "duration": 316,
    "start_time": "2021-12-09T12:38:27.364Z"
   },
   {
    "duration": 3648,
    "start_time": "2021-12-09T12:38:32.555Z"
   },
   {
    "duration": 87,
    "start_time": "2021-12-09T12:38:49.893Z"
   },
   {
    "duration": 36,
    "start_time": "2021-12-09T12:38:49.982Z"
   },
   {
    "duration": 7,
    "start_time": "2021-12-09T12:38:50.021Z"
   },
   {
    "duration": 9,
    "start_time": "2021-12-09T12:38:50.031Z"
   },
   {
    "duration": 25,
    "start_time": "2021-12-09T12:38:50.042Z"
   },
   {
    "duration": 55,
    "start_time": "2021-12-09T12:38:50.070Z"
   },
   {
    "duration": 12,
    "start_time": "2021-12-09T12:38:50.127Z"
   },
   {
    "duration": 14,
    "start_time": "2021-12-09T12:38:50.142Z"
   },
   {
    "duration": 6,
    "start_time": "2021-12-09T12:38:50.158Z"
   },
   {
    "duration": 61,
    "start_time": "2021-12-09T12:38:50.166Z"
   },
   {
    "duration": 12,
    "start_time": "2021-12-09T12:38:50.229Z"
   },
   {
    "duration": 32,
    "start_time": "2021-12-09T12:38:50.244Z"
   },
   {
    "duration": 44,
    "start_time": "2021-12-09T12:38:50.279Z"
   },
   {
    "duration": 10,
    "start_time": "2021-12-09T12:38:50.326Z"
   },
   {
    "duration": 18,
    "start_time": "2021-12-09T12:38:50.339Z"
   },
   {
    "duration": 6,
    "start_time": "2021-12-09T12:38:50.360Z"
   },
   {
    "duration": 50,
    "start_time": "2021-12-09T12:38:50.369Z"
   },
   {
    "duration": 11,
    "start_time": "2021-12-09T12:38:50.423Z"
   },
   {
    "duration": 7,
    "start_time": "2021-12-09T12:38:50.437Z"
   },
   {
    "duration": 11,
    "start_time": "2021-12-09T12:38:50.447Z"
   },
   {
    "duration": 5,
    "start_time": "2021-12-09T12:38:50.461Z"
   },
   {
    "duration": 55,
    "start_time": "2021-12-09T12:38:50.469Z"
   },
   {
    "duration": 8,
    "start_time": "2021-12-09T12:38:50.531Z"
   },
   {
    "duration": 21,
    "start_time": "2021-12-09T12:38:50.543Z"
   },
   {
    "duration": 57,
    "start_time": "2021-12-09T12:38:50.567Z"
   },
   {
    "duration": 9,
    "start_time": "2021-12-09T12:38:50.627Z"
   },
   {
    "duration": 6,
    "start_time": "2021-12-09T12:38:50.638Z"
   },
   {
    "duration": 16,
    "start_time": "2021-12-09T12:38:50.647Z"
   },
   {
    "duration": 56,
    "start_time": "2021-12-09T12:38:50.666Z"
   },
   {
    "duration": 14,
    "start_time": "2021-12-09T12:38:50.725Z"
   },
   {
    "duration": 9,
    "start_time": "2021-12-09T12:38:50.743Z"
   },
   {
    "duration": 8,
    "start_time": "2021-12-09T12:38:50.754Z"
   },
   {
    "duration": 63,
    "start_time": "2021-12-09T12:38:50.765Z"
   },
   {
    "duration": 21,
    "start_time": "2021-12-09T12:38:50.831Z"
   },
   {
    "duration": 22,
    "start_time": "2021-12-09T12:38:50.855Z"
   },
   {
    "duration": 53,
    "start_time": "2021-12-09T12:38:50.880Z"
   },
   {
    "duration": 9,
    "start_time": "2021-12-09T12:38:50.936Z"
   },
   {
    "duration": 73,
    "start_time": "2021-12-09T12:38:50.947Z"
   },
   {
    "duration": 8,
    "start_time": "2021-12-09T12:38:51.023Z"
   },
   {
    "duration": 3954,
    "start_time": "2021-12-09T12:38:51.033Z"
   },
   {
    "duration": 6,
    "start_time": "2021-12-09T12:39:27.228Z"
   },
   {
    "duration": 12,
    "start_time": "2021-12-09T12:39:35.603Z"
   },
   {
    "duration": 10,
    "start_time": "2021-12-09T12:40:14.094Z"
   },
   {
    "duration": 307,
    "start_time": "2021-12-09T12:40:26.402Z"
   },
   {
    "duration": 332,
    "start_time": "2021-12-09T12:40:54.413Z"
   },
   {
    "duration": 8,
    "start_time": "2021-12-09T12:41:24.208Z"
   },
   {
    "duration": 311,
    "start_time": "2021-12-09T12:41:44.348Z"
   },
   {
    "duration": 342,
    "start_time": "2021-12-09T12:41:49.329Z"
   },
   {
    "duration": 307,
    "start_time": "2021-12-09T12:41:56.936Z"
   },
   {
    "duration": 6,
    "start_time": "2021-12-09T12:42:34.153Z"
   },
   {
    "duration": 7,
    "start_time": "2021-12-09T12:42:53.436Z"
   },
   {
    "duration": 310,
    "start_time": "2021-12-09T12:43:05.864Z"
   },
   {
    "duration": 15,
    "start_time": "2021-12-09T12:43:23.223Z"
   },
   {
    "duration": 5,
    "start_time": "2021-12-09T12:43:47.629Z"
   },
   {
    "duration": 7,
    "start_time": "2021-12-09T12:43:55.534Z"
   },
   {
    "duration": 7,
    "start_time": "2021-12-09T12:44:25.187Z"
   },
   {
    "duration": 295,
    "start_time": "2021-12-09T12:44:42.086Z"
   },
   {
    "duration": 310,
    "start_time": "2021-12-09T12:47:24.258Z"
   },
   {
    "duration": 312,
    "start_time": "2021-12-09T12:47:33.073Z"
   },
   {
    "duration": 7,
    "start_time": "2021-12-09T12:47:44.614Z"
   },
   {
    "duration": 6,
    "start_time": "2021-12-09T12:48:03.781Z"
   },
   {
    "duration": 303,
    "start_time": "2021-12-09T12:48:24.626Z"
   },
   {
    "duration": 316,
    "start_time": "2021-12-09T12:48:44.850Z"
   },
   {
    "duration": 8,
    "start_time": "2021-12-09T12:48:53.586Z"
   },
   {
    "duration": 9,
    "start_time": "2021-12-09T12:49:24.147Z"
   },
   {
    "duration": 7,
    "start_time": "2021-12-09T12:49:39.442Z"
   },
   {
    "duration": 5,
    "start_time": "2021-12-09T12:49:52.453Z"
   },
   {
    "duration": 6,
    "start_time": "2021-12-09T12:49:55.323Z"
   },
   {
    "duration": 8,
    "start_time": "2021-12-09T12:51:42.626Z"
   },
   {
    "duration": 6,
    "start_time": "2021-12-09T12:52:10.041Z"
   },
   {
    "duration": 11,
    "start_time": "2021-12-09T12:52:19.967Z"
   },
   {
    "duration": 9,
    "start_time": "2021-12-09T12:54:03.000Z"
   },
   {
    "duration": 13,
    "start_time": "2021-12-09T13:04:33.572Z"
   },
   {
    "duration": 18,
    "start_time": "2021-12-09T13:04:40.271Z"
   },
   {
    "duration": 26,
    "start_time": "2021-12-09T13:05:37.080Z"
   },
   {
    "duration": 88,
    "start_time": "2021-12-09T13:11:38.326Z"
   },
   {
    "duration": 19,
    "start_time": "2021-12-09T13:11:38.417Z"
   },
   {
    "duration": 7,
    "start_time": "2021-12-09T13:11:38.439Z"
   },
   {
    "duration": 14,
    "start_time": "2021-12-09T13:11:38.449Z"
   },
   {
    "duration": 60,
    "start_time": "2021-12-09T13:11:38.465Z"
   },
   {
    "duration": 18,
    "start_time": "2021-12-09T13:11:38.528Z"
   },
   {
    "duration": 14,
    "start_time": "2021-12-09T13:11:38.548Z"
   },
   {
    "duration": 54,
    "start_time": "2021-12-09T13:11:38.565Z"
   },
   {
    "duration": 6,
    "start_time": "2021-12-09T13:11:38.622Z"
   },
   {
    "duration": 22,
    "start_time": "2021-12-09T13:11:38.630Z"
   },
   {
    "duration": 11,
    "start_time": "2021-12-09T13:11:38.655Z"
   },
   {
    "duration": 54,
    "start_time": "2021-12-09T13:11:38.668Z"
   },
   {
    "duration": 6,
    "start_time": "2021-12-09T13:11:38.724Z"
   },
   {
    "duration": 10,
    "start_time": "2021-12-09T13:11:38.733Z"
   },
   {
    "duration": 16,
    "start_time": "2021-12-09T13:11:38.745Z"
   },
   {
    "duration": 5,
    "start_time": "2021-12-09T13:11:38.763Z"
   },
   {
    "duration": 50,
    "start_time": "2021-12-09T13:11:38.771Z"
   },
   {
    "duration": 9,
    "start_time": "2021-12-09T13:11:38.824Z"
   },
   {
    "duration": 6,
    "start_time": "2021-12-09T13:11:38.835Z"
   },
   {
    "duration": 9,
    "start_time": "2021-12-09T13:11:38.843Z"
   },
   {
    "duration": 5,
    "start_time": "2021-12-09T13:11:38.855Z"
   },
   {
    "duration": 57,
    "start_time": "2021-12-09T13:11:38.863Z"
   },
   {
    "duration": 8,
    "start_time": "2021-12-09T13:11:38.925Z"
   },
   {
    "duration": 19,
    "start_time": "2021-12-09T13:11:38.936Z"
   },
   {
    "duration": 18,
    "start_time": "2021-12-09T13:11:38.957Z"
   },
   {
    "duration": 40,
    "start_time": "2021-12-09T13:11:38.978Z"
   },
   {
    "duration": 6,
    "start_time": "2021-12-09T13:11:39.020Z"
   },
   {
    "duration": 7,
    "start_time": "2021-12-09T13:11:39.028Z"
   },
   {
    "duration": 14,
    "start_time": "2021-12-09T13:11:39.037Z"
   },
   {
    "duration": 12,
    "start_time": "2021-12-09T13:11:39.054Z"
   },
   {
    "duration": 51,
    "start_time": "2021-12-09T13:11:39.069Z"
   },
   {
    "duration": 9,
    "start_time": "2021-12-09T13:11:39.122Z"
   },
   {
    "duration": 24,
    "start_time": "2021-12-09T13:11:39.134Z"
   },
   {
    "duration": 63,
    "start_time": "2021-12-09T13:11:39.161Z"
   },
   {
    "duration": 19,
    "start_time": "2021-12-09T13:11:39.226Z"
   },
   {
    "duration": 9,
    "start_time": "2021-12-09T13:11:39.247Z"
   },
   {
    "duration": 8,
    "start_time": "2021-12-09T13:11:39.259Z"
   },
   {
    "duration": 51,
    "start_time": "2021-12-09T13:11:39.269Z"
   },
   {
    "duration": 98,
    "start_time": "2021-12-09T13:11:54.052Z"
   },
   {
    "duration": 26,
    "start_time": "2021-12-09T13:11:54.154Z"
   },
   {
    "duration": 34,
    "start_time": "2021-12-09T13:11:54.184Z"
   },
   {
    "duration": 19,
    "start_time": "2021-12-09T13:11:54.220Z"
   },
   {
    "duration": 40,
    "start_time": "2021-12-09T13:11:54.242Z"
   },
   {
    "duration": 40,
    "start_time": "2021-12-09T13:11:54.285Z"
   },
   {
    "duration": 32,
    "start_time": "2021-12-09T13:11:54.328Z"
   },
   {
    "duration": 27,
    "start_time": "2021-12-09T13:11:54.363Z"
   },
   {
    "duration": 7,
    "start_time": "2021-12-09T13:11:54.396Z"
   },
   {
    "duration": 30,
    "start_time": "2021-12-09T13:11:54.407Z"
   },
   {
    "duration": 22,
    "start_time": "2021-12-09T13:11:54.440Z"
   },
   {
    "duration": 32,
    "start_time": "2021-12-09T13:11:54.465Z"
   },
   {
    "duration": 40,
    "start_time": "2021-12-09T13:11:54.499Z"
   },
   {
    "duration": 20,
    "start_time": "2021-12-09T13:11:54.541Z"
   },
   {
    "duration": 38,
    "start_time": "2021-12-09T13:11:54.563Z"
   },
   {
    "duration": 28,
    "start_time": "2021-12-09T13:11:54.603Z"
   },
   {
    "duration": 20,
    "start_time": "2021-12-09T13:11:54.633Z"
   },
   {
    "duration": 29,
    "start_time": "2021-12-09T13:11:54.656Z"
   },
   {
    "duration": 32,
    "start_time": "2021-12-09T13:11:54.688Z"
   },
   {
    "duration": 30,
    "start_time": "2021-12-09T13:11:54.723Z"
   },
   {
    "duration": 17,
    "start_time": "2021-12-09T13:11:54.755Z"
   },
   {
    "duration": 17,
    "start_time": "2021-12-09T13:11:54.774Z"
   },
   {
    "duration": 38,
    "start_time": "2021-12-09T13:11:54.793Z"
   },
   {
    "duration": 33,
    "start_time": "2021-12-09T13:11:54.833Z"
   },
   {
    "duration": 30,
    "start_time": "2021-12-09T13:11:54.868Z"
   },
   {
    "duration": 27,
    "start_time": "2021-12-09T13:11:54.900Z"
   },
   {
    "duration": 10,
    "start_time": "2021-12-09T13:11:54.932Z"
   },
   {
    "duration": 24,
    "start_time": "2021-12-09T13:11:54.944Z"
   },
   {
    "duration": 30,
    "start_time": "2021-12-09T13:11:54.971Z"
   },
   {
    "duration": 10,
    "start_time": "2021-12-09T13:11:55.004Z"
   },
   {
    "duration": 8,
    "start_time": "2021-12-09T13:11:55.017Z"
   },
   {
    "duration": 23,
    "start_time": "2021-12-09T13:11:55.027Z"
   },
   {
    "duration": 31,
    "start_time": "2021-12-09T13:11:55.052Z"
   },
   {
    "duration": 36,
    "start_time": "2021-12-09T13:11:55.085Z"
   },
   {
    "duration": 37,
    "start_time": "2021-12-09T13:11:55.123Z"
   },
   {
    "duration": 16,
    "start_time": "2021-12-09T13:11:55.162Z"
   },
   {
    "duration": 28,
    "start_time": "2021-12-09T13:11:55.180Z"
   },
   {
    "duration": 27,
    "start_time": "2021-12-09T13:11:55.210Z"
   },
   {
    "duration": 44,
    "start_time": "2021-12-09T13:11:55.240Z"
   },
   {
    "duration": 13,
    "start_time": "2021-12-09T13:11:55.286Z"
   },
   {
    "duration": 52,
    "start_time": "2021-12-09T13:11:55.301Z"
   },
   {
    "duration": 18,
    "start_time": "2021-12-09T13:12:29.143Z"
   },
   {
    "duration": 28,
    "start_time": "2021-12-09T13:12:42.395Z"
   },
   {
    "duration": 24,
    "start_time": "2021-12-09T13:13:51.048Z"
   },
   {
    "duration": 22,
    "start_time": "2021-12-09T20:14:53.811Z"
   },
   {
    "duration": 27,
    "start_time": "2021-12-09T20:40:17.180Z"
   },
   {
    "duration": 304,
    "start_time": "2021-12-09T21:50:09.704Z"
   },
   {
    "duration": 310,
    "start_time": "2021-12-09T21:52:21.281Z"
   },
   {
    "duration": 409,
    "start_time": "2021-12-09T21:52:41.158Z"
   },
   {
    "duration": 6,
    "start_time": "2021-12-09T21:52:48.593Z"
   },
   {
    "duration": 8,
    "start_time": "2021-12-09T21:52:53.644Z"
   },
   {
    "duration": 9,
    "start_time": "2021-12-09T21:59:22.821Z"
   },
   {
    "duration": 6,
    "start_time": "2021-12-09T22:00:09.785Z"
   },
   {
    "duration": 8,
    "start_time": "2021-12-09T22:00:17.743Z"
   },
   {
    "duration": 297,
    "start_time": "2021-12-09T22:00:21.193Z"
   },
   {
    "duration": 322,
    "start_time": "2021-12-09T22:00:37.874Z"
   },
   {
    "duration": 328,
    "start_time": "2021-12-09T22:01:07.752Z"
   },
   {
    "duration": 9,
    "start_time": "2021-12-09T22:01:49.743Z"
   },
   {
    "duration": 305,
    "start_time": "2021-12-09T22:02:04.433Z"
   },
   {
    "duration": 10,
    "start_time": "2021-12-09T22:33:55.802Z"
   },
   {
    "duration": 1028,
    "start_time": "2021-12-09T22:34:01.373Z"
   },
   {
    "duration": 1189,
    "start_time": "2021-12-09T22:34:13.206Z"
   },
   {
    "duration": 11,
    "start_time": "2021-12-09T22:35:40.128Z"
   },
   {
    "duration": 6,
    "start_time": "2021-12-09T22:37:53.926Z"
   },
   {
    "duration": 8,
    "start_time": "2021-12-09T22:41:18.201Z"
   },
   {
    "duration": 12,
    "start_time": "2021-12-09T22:43:58.215Z"
   },
   {
    "duration": 8,
    "start_time": "2021-12-09T22:44:24.404Z"
   },
   {
    "duration": 9,
    "start_time": "2021-12-09T22:44:49.700Z"
   },
   {
    "duration": 9,
    "start_time": "2021-12-09T22:44:58.195Z"
   },
   {
    "duration": 1115,
    "start_time": "2021-12-09T22:45:01.125Z"
   },
   {
    "duration": 4319,
    "start_time": "2021-12-09T22:55:26.338Z"
   },
   {
    "duration": 3305,
    "start_time": "2021-12-09T22:55:46.154Z"
   },
   {
    "duration": 309,
    "start_time": "2021-12-09T22:56:12.486Z"
   },
   {
    "duration": 22,
    "start_time": "2021-12-09T22:56:42.442Z"
   },
   {
    "duration": 24,
    "start_time": "2021-12-09T22:56:45.426Z"
   },
   {
    "duration": 29,
    "start_time": "2021-12-09T22:57:05.529Z"
   },
   {
    "duration": 101,
    "start_time": "2021-12-09T22:57:28.091Z"
   },
   {
    "duration": 44,
    "start_time": "2021-12-09T22:57:28.195Z"
   },
   {
    "duration": 7,
    "start_time": "2021-12-09T22:57:28.242Z"
   },
   {
    "duration": 12,
    "start_time": "2021-12-09T22:57:28.251Z"
   },
   {
    "duration": 74,
    "start_time": "2021-12-09T22:57:28.265Z"
   },
   {
    "duration": 18,
    "start_time": "2021-12-09T22:57:28.342Z"
   },
   {
    "duration": 11,
    "start_time": "2021-12-09T22:57:28.363Z"
   },
   {
    "duration": 27,
    "start_time": "2021-12-09T22:57:28.421Z"
   },
   {
    "duration": 7,
    "start_time": "2021-12-09T22:57:28.451Z"
   },
   {
    "duration": 56,
    "start_time": "2021-12-09T22:57:28.461Z"
   },
   {
    "duration": 16,
    "start_time": "2021-12-09T22:57:28.525Z"
   },
   {
    "duration": 22,
    "start_time": "2021-12-09T22:57:28.543Z"
   },
   {
    "duration": 6,
    "start_time": "2021-12-09T22:57:28.567Z"
   },
   {
    "duration": 44,
    "start_time": "2021-12-09T22:57:28.575Z"
   },
   {
    "duration": 17,
    "start_time": "2021-12-09T22:57:28.622Z"
   },
   {
    "duration": 5,
    "start_time": "2021-12-09T22:57:28.642Z"
   },
   {
    "duration": 7,
    "start_time": "2021-12-09T22:57:28.650Z"
   },
   {
    "duration": 59,
    "start_time": "2021-12-09T22:57:28.660Z"
   },
   {
    "duration": 11,
    "start_time": "2021-12-09T22:57:28.723Z"
   },
   {
    "duration": 9,
    "start_time": "2021-12-09T22:57:28.738Z"
   },
   {
    "duration": 7,
    "start_time": "2021-12-09T22:57:28.750Z"
   },
   {
    "duration": 7,
    "start_time": "2021-12-09T22:57:28.760Z"
   },
   {
    "duration": 14,
    "start_time": "2021-12-09T22:57:28.821Z"
   },
   {
    "duration": 19,
    "start_time": "2021-12-09T22:57:28.840Z"
   },
   {
    "duration": 11,
    "start_time": "2021-12-09T22:57:28.862Z"
   },
   {
    "duration": 52,
    "start_time": "2021-12-09T22:57:28.875Z"
   },
   {
    "duration": 8,
    "start_time": "2021-12-09T22:57:28.932Z"
   },
   {
    "duration": 10,
    "start_time": "2021-12-09T22:57:28.943Z"
   },
   {
    "duration": 15,
    "start_time": "2021-12-09T22:57:28.955Z"
   },
   {
    "duration": 49,
    "start_time": "2021-12-09T22:57:28.973Z"
   },
   {
    "duration": 10,
    "start_time": "2021-12-09T22:57:29.026Z"
   },
   {
    "duration": 7,
    "start_time": "2021-12-09T22:57:29.040Z"
   },
   {
    "duration": 82,
    "start_time": "2021-12-09T22:57:29.049Z"
   },
   {
    "duration": 21,
    "start_time": "2021-12-09T22:57:29.135Z"
   },
   {
    "duration": 27,
    "start_time": "2021-12-09T22:57:29.158Z"
   },
   {
    "duration": 54,
    "start_time": "2021-12-09T22:57:29.188Z"
   },
   {
    "duration": 8,
    "start_time": "2021-12-09T22:57:29.245Z"
   },
   {
    "duration": 10,
    "start_time": "2021-12-09T22:57:29.256Z"
   },
   {
    "duration": 58,
    "start_time": "2021-12-09T22:57:29.268Z"
   },
   {
    "duration": 29,
    "start_time": "2021-12-09T22:57:29.329Z"
   },
   {
    "duration": 10,
    "start_time": "2021-12-09T22:57:29.361Z"
   },
   {
    "duration": 91,
    "start_time": "2021-12-09T22:57:29.374Z"
   },
   {
    "duration": 8,
    "start_time": "2021-12-09T22:57:29.467Z"
   },
   {
    "duration": 8,
    "start_time": "2021-12-09T22:57:29.477Z"
   },
   {
    "duration": 1072,
    "start_time": "2021-12-09T22:57:29.522Z"
   },
   {
    "duration": 7,
    "start_time": "2021-12-09T22:57:30.596Z"
   },
   {
    "duration": -133,
    "start_time": "2021-12-09T22:58:50.782Z"
   },
   {
    "duration": 2234,
    "start_time": "2021-12-09T22:58:57.991Z"
   },
   {
    "duration": 14,
    "start_time": "2021-12-09T23:00:40.180Z"
   },
   {
    "duration": 360,
    "start_time": "2021-12-09T23:02:21.118Z"
   },
   {
    "duration": 10,
    "start_time": "2021-12-09T23:02:53.803Z"
   },
   {
    "duration": 9,
    "start_time": "2021-12-09T23:03:21.671Z"
   },
   {
    "duration": 336,
    "start_time": "2021-12-09T23:03:50.453Z"
   },
   {
    "duration": 298,
    "start_time": "2021-12-09T23:03:57.724Z"
   },
   {
    "duration": 444,
    "start_time": "2021-12-09T23:04:12.186Z"
   },
   {
    "duration": 337,
    "start_time": "2021-12-09T23:04:17.345Z"
   },
   {
    "duration": 293,
    "start_time": "2021-12-09T23:05:47.918Z"
   },
   {
    "duration": 16,
    "start_time": "2021-12-09T23:05:57.421Z"
   },
   {
    "duration": 16,
    "start_time": "2021-12-09T23:08:33.294Z"
   },
   {
    "duration": 16,
    "start_time": "2021-12-09T23:09:03.887Z"
   },
   {
    "duration": 15,
    "start_time": "2021-12-09T23:10:47.355Z"
   },
   {
    "duration": 15,
    "start_time": "2021-12-09T23:10:49.874Z"
   },
   {
    "duration": 15,
    "start_time": "2021-12-09T23:11:28.749Z"
   },
   {
    "duration": 4082,
    "start_time": "2021-12-09T23:13:12.039Z"
   },
   {
    "duration": 3781,
    "start_time": "2021-12-09T23:13:29.782Z"
   },
   {
    "duration": 4554,
    "start_time": "2021-12-09T23:13:52.736Z"
   },
   {
    "duration": 10,
    "start_time": "2021-12-09T23:14:33.977Z"
   },
   {
    "duration": 11,
    "start_time": "2021-12-09T23:14:43.110Z"
   },
   {
    "duration": 9,
    "start_time": "2021-12-09T23:14:48.563Z"
   },
   {
    "duration": 1134,
    "start_time": "2021-12-09T23:25:11.333Z"
   },
   {
    "duration": 100,
    "start_time": "2021-12-09T23:25:23.682Z"
   },
   {
    "duration": 47,
    "start_time": "2021-12-09T23:25:23.784Z"
   },
   {
    "duration": 8,
    "start_time": "2021-12-09T23:25:23.835Z"
   },
   {
    "duration": 11,
    "start_time": "2021-12-09T23:25:23.846Z"
   },
   {
    "duration": 60,
    "start_time": "2021-12-09T23:25:23.859Z"
   },
   {
    "duration": 25,
    "start_time": "2021-12-09T23:25:23.923Z"
   },
   {
    "duration": 11,
    "start_time": "2021-12-09T23:25:23.950Z"
   },
   {
    "duration": 55,
    "start_time": "2021-12-09T23:25:23.965Z"
   },
   {
    "duration": 9,
    "start_time": "2021-12-09T23:25:24.026Z"
   },
   {
    "duration": 17,
    "start_time": "2021-12-09T23:25:24.040Z"
   },
   {
    "duration": 12,
    "start_time": "2021-12-09T23:25:24.059Z"
   },
   {
    "duration": 42,
    "start_time": "2021-12-09T23:25:24.119Z"
   },
   {
    "duration": 7,
    "start_time": "2021-12-09T23:25:24.164Z"
   },
   {
    "duration": 67,
    "start_time": "2021-12-09T23:25:24.174Z"
   },
   {
    "duration": 19,
    "start_time": "2021-12-09T23:25:24.244Z"
   },
   {
    "duration": 5,
    "start_time": "2021-12-09T23:25:24.266Z"
   },
   {
    "duration": 8,
    "start_time": "2021-12-09T23:25:24.273Z"
   },
   {
    "duration": 36,
    "start_time": "2021-12-09T23:25:24.283Z"
   },
   {
    "duration": 10,
    "start_time": "2021-12-09T23:25:24.323Z"
   },
   {
    "duration": 10,
    "start_time": "2021-12-09T23:25:24.336Z"
   },
   {
    "duration": 7,
    "start_time": "2021-12-09T23:25:24.349Z"
   },
   {
    "duration": 12,
    "start_time": "2021-12-09T23:25:24.359Z"
   },
   {
    "duration": 9,
    "start_time": "2021-12-09T23:25:24.421Z"
   },
   {
    "duration": 19,
    "start_time": "2021-12-09T23:25:24.436Z"
   },
   {
    "duration": 13,
    "start_time": "2021-12-09T23:25:24.459Z"
   },
   {
    "duration": 10,
    "start_time": "2021-12-09T23:25:24.518Z"
   },
   {
    "duration": 9,
    "start_time": "2021-12-09T23:25:24.532Z"
   },
   {
    "duration": 8,
    "start_time": "2021-12-09T23:25:24.544Z"
   },
   {
    "duration": 70,
    "start_time": "2021-12-09T23:25:24.555Z"
   },
   {
    "duration": 14,
    "start_time": "2021-12-09T23:25:24.628Z"
   },
   {
    "duration": 11,
    "start_time": "2021-12-09T23:25:24.644Z"
   },
   {
    "duration": 26,
    "start_time": "2021-12-09T23:25:24.657Z"
   },
   {
    "duration": 37,
    "start_time": "2021-12-09T23:25:24.686Z"
   },
   {
    "duration": 19,
    "start_time": "2021-12-09T23:25:24.726Z"
   },
   {
    "duration": 9,
    "start_time": "2021-12-09T23:25:24.747Z"
   },
   {
    "duration": 31,
    "start_time": "2021-12-09T23:25:24.758Z"
   },
   {
    "duration": 30,
    "start_time": "2021-12-09T23:25:24.817Z"
   },
   {
    "duration": 303,
    "start_time": "2021-12-09T23:25:24.850Z"
   },
   {
    "duration": -1259,
    "start_time": "2021-12-09T23:25:26.415Z"
   },
   {
    "duration": -1268,
    "start_time": "2021-12-09T23:25:26.425Z"
   },
   {
    "duration": -1276,
    "start_time": "2021-12-09T23:25:26.434Z"
   },
   {
    "duration": -1281,
    "start_time": "2021-12-09T23:25:26.441Z"
   },
   {
    "duration": -1290,
    "start_time": "2021-12-09T23:25:26.451Z"
   },
   {
    "duration": -1297,
    "start_time": "2021-12-09T23:25:26.459Z"
   },
   {
    "duration": -1307,
    "start_time": "2021-12-09T23:25:26.471Z"
   },
   {
    "duration": -1327,
    "start_time": "2021-12-09T23:25:26.492Z"
   },
   {
    "duration": -1440,
    "start_time": "2021-12-09T23:25:26.606Z"
   },
   {
    "duration": -1457,
    "start_time": "2021-12-09T23:25:26.624Z"
   },
   {
    "duration": 310,
    "start_time": "2021-12-09T23:25:41.848Z"
   },
   {
    "duration": 329,
    "start_time": "2021-12-09T23:26:25.682Z"
   },
   {
    "duration": 7,
    "start_time": "2021-12-09T23:26:52.758Z"
   },
   {
    "duration": 17,
    "start_time": "2021-12-09T23:29:08.433Z"
   },
   {
    "duration": 8,
    "start_time": "2021-12-09T23:30:14.653Z"
   },
   {
    "duration": 88,
    "start_time": "2021-12-09T23:30:20.947Z"
   },
   {
    "duration": 19,
    "start_time": "2021-12-09T23:30:21.038Z"
   },
   {
    "duration": 7,
    "start_time": "2021-12-09T23:30:21.061Z"
   },
   {
    "duration": 7,
    "start_time": "2021-12-09T23:30:21.070Z"
   },
   {
    "duration": 19,
    "start_time": "2021-12-09T23:30:21.116Z"
   },
   {
    "duration": 19,
    "start_time": "2021-12-09T23:30:21.138Z"
   },
   {
    "duration": 11,
    "start_time": "2021-12-09T23:30:21.159Z"
   },
   {
    "duration": 54,
    "start_time": "2021-12-09T23:30:21.174Z"
   },
   {
    "duration": 6,
    "start_time": "2021-12-09T23:30:21.231Z"
   },
   {
    "duration": 15,
    "start_time": "2021-12-09T23:30:21.240Z"
   },
   {
    "duration": 12,
    "start_time": "2021-12-09T23:30:21.257Z"
   },
   {
    "duration": 21,
    "start_time": "2021-12-09T23:30:21.318Z"
   },
   {
    "duration": 6,
    "start_time": "2021-12-09T23:30:21.341Z"
   },
   {
    "duration": 10,
    "start_time": "2021-12-09T23:30:21.349Z"
   },
   {
    "duration": 14,
    "start_time": "2021-12-09T23:30:21.361Z"
   },
   {
    "duration": 6,
    "start_time": "2021-12-09T23:30:21.418Z"
   },
   {
    "duration": 9,
    "start_time": "2021-12-09T23:30:21.426Z"
   },
   {
    "duration": 8,
    "start_time": "2021-12-09T23:30:21.438Z"
   },
   {
    "duration": 7,
    "start_time": "2021-12-09T23:30:21.449Z"
   },
   {
    "duration": 8,
    "start_time": "2021-12-09T23:30:21.458Z"
   },
   {
    "duration": 52,
    "start_time": "2021-12-09T23:30:21.469Z"
   },
   {
    "duration": 10,
    "start_time": "2021-12-09T23:30:21.523Z"
   },
   {
    "duration": 8,
    "start_time": "2021-12-09T23:30:21.539Z"
   },
   {
    "duration": 18,
    "start_time": "2021-12-09T23:30:21.549Z"
   },
   {
    "duration": 53,
    "start_time": "2021-12-09T23:30:21.570Z"
   },
   {
    "duration": 8,
    "start_time": "2021-12-09T23:30:21.625Z"
   },
   {
    "duration": 6,
    "start_time": "2021-12-09T23:30:21.635Z"
   },
   {
    "duration": 7,
    "start_time": "2021-12-09T23:30:21.643Z"
   },
   {
    "duration": 16,
    "start_time": "2021-12-09T23:30:21.652Z"
   },
   {
    "duration": 55,
    "start_time": "2021-12-09T23:30:21.671Z"
   },
   {
    "duration": 7,
    "start_time": "2021-12-09T23:30:21.728Z"
   },
   {
    "duration": 9,
    "start_time": "2021-12-09T23:30:21.738Z"
   },
   {
    "duration": 16,
    "start_time": "2021-12-09T23:30:21.749Z"
   },
   {
    "duration": 55,
    "start_time": "2021-12-09T23:30:21.768Z"
   },
   {
    "duration": 8,
    "start_time": "2021-12-09T23:30:21.826Z"
   },
   {
    "duration": 46,
    "start_time": "2021-12-09T23:30:21.837Z"
   },
   {
    "duration": 43,
    "start_time": "2021-12-09T23:30:21.887Z"
   },
   {
    "duration": 7,
    "start_time": "2021-12-09T23:30:21.932Z"
   },
   {
    "duration": 13,
    "start_time": "2021-12-09T23:30:21.941Z"
   },
   {
    "duration": 16,
    "start_time": "2021-12-09T23:30:21.956Z"
   },
   {
    "duration": 47,
    "start_time": "2021-12-09T23:30:21.975Z"
   },
   {
    "duration": 27,
    "start_time": "2021-12-09T23:30:22.024Z"
   },
   {
    "duration": 9,
    "start_time": "2021-12-09T23:30:22.054Z"
   },
   {
    "duration": 84,
    "start_time": "2021-12-09T23:30:22.065Z"
   },
   {
    "duration": 8,
    "start_time": "2021-12-09T23:30:22.152Z"
   },
   {
    "duration": 25,
    "start_time": "2021-12-09T23:30:22.163Z"
   },
   {
    "duration": 1002,
    "start_time": "2021-12-09T23:30:22.191Z"
   },
   {
    "duration": 7,
    "start_time": "2021-12-09T23:30:23.195Z"
   },
   {
    "duration": 22,
    "start_time": "2021-12-09T23:37:53.145Z"
   },
   {
    "duration": 112,
    "start_time": "2021-12-09T23:38:12.646Z"
   },
   {
    "duration": 21,
    "start_time": "2021-12-09T23:38:12.760Z"
   },
   {
    "duration": 37,
    "start_time": "2021-12-09T23:38:12.784Z"
   },
   {
    "duration": 13,
    "start_time": "2021-12-09T23:38:12.826Z"
   },
   {
    "duration": 21,
    "start_time": "2021-12-09T23:38:12.844Z"
   },
   {
    "duration": 64,
    "start_time": "2021-12-09T23:38:12.868Z"
   },
   {
    "duration": 16,
    "start_time": "2021-12-09T23:38:12.936Z"
   },
   {
    "duration": 14,
    "start_time": "2021-12-09T23:38:12.956Z"
   },
   {
    "duration": 9,
    "start_time": "2021-12-09T23:38:13.019Z"
   },
   {
    "duration": 18,
    "start_time": "2021-12-09T23:38:13.031Z"
   },
   {
    "duration": 66,
    "start_time": "2021-12-09T23:38:13.052Z"
   },
   {
    "duration": 34,
    "start_time": "2021-12-09T23:38:13.123Z"
   },
   {
    "duration": 5,
    "start_time": "2021-12-09T23:38:13.160Z"
   },
   {
    "duration": 53,
    "start_time": "2021-12-09T23:38:13.167Z"
   },
   {
    "duration": 28,
    "start_time": "2021-12-09T23:38:13.223Z"
   },
   {
    "duration": 5,
    "start_time": "2021-12-09T23:38:13.253Z"
   },
   {
    "duration": 12,
    "start_time": "2021-12-09T23:38:13.261Z"
   },
   {
    "duration": 17,
    "start_time": "2021-12-09T23:38:13.275Z"
   },
   {
    "duration": 28,
    "start_time": "2021-12-09T23:38:13.294Z"
   },
   {
    "duration": 17,
    "start_time": "2021-12-09T23:38:13.324Z"
   },
   {
    "duration": 6,
    "start_time": "2021-12-09T23:38:13.344Z"
   },
   {
    "duration": 12,
    "start_time": "2021-12-09T23:38:13.352Z"
   },
   {
    "duration": 14,
    "start_time": "2021-12-09T23:38:13.418Z"
   },
   {
    "duration": 18,
    "start_time": "2021-12-09T23:38:13.437Z"
   },
   {
    "duration": 12,
    "start_time": "2021-12-09T23:38:13.457Z"
   },
   {
    "duration": 7,
    "start_time": "2021-12-09T23:38:13.471Z"
   },
   {
    "duration": 42,
    "start_time": "2021-12-09T23:38:13.481Z"
   },
   {
    "duration": 11,
    "start_time": "2021-12-09T23:38:13.527Z"
   },
   {
    "duration": 16,
    "start_time": "2021-12-09T23:38:13.541Z"
   },
   {
    "duration": 65,
    "start_time": "2021-12-09T23:38:13.560Z"
   },
   {
    "duration": 10,
    "start_time": "2021-12-09T23:38:13.628Z"
   },
   {
    "duration": 14,
    "start_time": "2021-12-09T23:38:13.641Z"
   },
   {
    "duration": 15,
    "start_time": "2021-12-09T23:38:13.657Z"
   },
   {
    "duration": 48,
    "start_time": "2021-12-09T23:38:13.674Z"
   },
   {
    "duration": 27,
    "start_time": "2021-12-09T23:38:13.725Z"
   },
   {
    "duration": 16,
    "start_time": "2021-12-09T23:38:13.754Z"
   },
   {
    "duration": 49,
    "start_time": "2021-12-09T23:38:13.772Z"
   },
   {
    "duration": 10,
    "start_time": "2021-12-09T23:38:13.824Z"
   },
   {
    "duration": 22,
    "start_time": "2021-12-09T23:38:13.837Z"
   },
   {
    "duration": 70,
    "start_time": "2021-12-09T23:38:13.861Z"
   },
   {
    "duration": 10,
    "start_time": "2021-12-09T23:38:13.934Z"
   },
   {
    "duration": 30,
    "start_time": "2021-12-09T23:38:13.946Z"
   },
   {
    "duration": 46,
    "start_time": "2021-12-09T23:38:13.978Z"
   },
   {
    "duration": 92,
    "start_time": "2021-12-09T23:38:14.029Z"
   },
   {
    "duration": 13,
    "start_time": "2021-12-09T23:38:14.125Z"
   },
   {
    "duration": 9,
    "start_time": "2021-12-09T23:38:14.140Z"
   },
   {
    "duration": 1092,
    "start_time": "2021-12-09T23:38:14.152Z"
   },
   {
    "duration": 6,
    "start_time": "2021-12-09T23:38:15.246Z"
   },
   {
    "duration": 19,
    "start_time": "2021-12-09T23:38:37.450Z"
   },
   {
    "duration": 17,
    "start_time": "2021-12-09T23:38:48.983Z"
   },
   {
    "duration": 92,
    "start_time": "2021-12-09T23:42:07.627Z"
   },
   {
    "duration": 28,
    "start_time": "2021-12-09T23:42:07.724Z"
   },
   {
    "duration": 7,
    "start_time": "2021-12-09T23:42:07.755Z"
   },
   {
    "duration": 9,
    "start_time": "2021-12-09T23:42:07.764Z"
   },
   {
    "duration": 27,
    "start_time": "2021-12-09T23:42:07.819Z"
   },
   {
    "duration": 19,
    "start_time": "2021-12-09T23:42:07.849Z"
   },
   {
    "duration": 59,
    "start_time": "2021-12-09T23:42:07.871Z"
   },
   {
    "duration": 17,
    "start_time": "2021-12-09T23:42:07.939Z"
   },
   {
    "duration": 6,
    "start_time": "2021-12-09T23:42:07.958Z"
   },
   {
    "duration": 64,
    "start_time": "2021-12-09T23:42:07.966Z"
   },
   {
    "duration": 14,
    "start_time": "2021-12-09T23:42:08.035Z"
   },
   {
    "duration": 22,
    "start_time": "2021-12-09T23:42:08.052Z"
   },
   {
    "duration": 43,
    "start_time": "2021-12-09T23:42:08.076Z"
   },
   {
    "duration": 9,
    "start_time": "2021-12-09T23:42:08.122Z"
   },
   {
    "duration": 19,
    "start_time": "2021-12-09T23:42:08.134Z"
   },
   {
    "duration": 7,
    "start_time": "2021-12-09T23:42:08.156Z"
   },
   {
    "duration": 14,
    "start_time": "2021-12-09T23:42:08.165Z"
   },
   {
    "duration": 42,
    "start_time": "2021-12-09T23:42:08.181Z"
   },
   {
    "duration": 12,
    "start_time": "2021-12-09T23:42:08.228Z"
   },
   {
    "duration": 17,
    "start_time": "2021-12-09T23:42:08.244Z"
   },
   {
    "duration": 16,
    "start_time": "2021-12-09T23:42:08.263Z"
   },
   {
    "duration": 37,
    "start_time": "2021-12-09T23:42:08.282Z"
   },
   {
    "duration": 12,
    "start_time": "2021-12-09T23:42:08.327Z"
   },
   {
    "duration": 18,
    "start_time": "2021-12-09T23:42:08.342Z"
   },
   {
    "duration": 18,
    "start_time": "2021-12-09T23:42:08.362Z"
   },
   {
    "duration": 40,
    "start_time": "2021-12-09T23:42:08.382Z"
   },
   {
    "duration": 9,
    "start_time": "2021-12-09T23:42:08.425Z"
   },
   {
    "duration": 8,
    "start_time": "2021-12-09T23:42:08.437Z"
   },
   {
    "duration": 25,
    "start_time": "2021-12-09T23:42:08.447Z"
   },
   {
    "duration": 50,
    "start_time": "2021-12-09T23:42:08.474Z"
   },
   {
    "duration": 10,
    "start_time": "2021-12-09T23:42:08.528Z"
   },
   {
    "duration": 9,
    "start_time": "2021-12-09T23:42:08.541Z"
   },
   {
    "duration": 15,
    "start_time": "2021-12-09T23:42:08.553Z"
   },
   {
    "duration": 19,
    "start_time": "2021-12-09T23:42:08.618Z"
   },
   {
    "duration": 11,
    "start_time": "2021-12-09T23:42:08.640Z"
   },
   {
    "duration": 19,
    "start_time": "2021-12-09T23:42:08.653Z"
   },
   {
    "duration": 75,
    "start_time": "2021-12-09T23:42:08.675Z"
   },
   {
    "duration": 6,
    "start_time": "2021-12-09T23:42:08.753Z"
   },
   {
    "duration": 58,
    "start_time": "2021-12-09T23:42:08.761Z"
   },
   {
    "duration": 14,
    "start_time": "2021-12-09T23:42:08.823Z"
   },
   {
    "duration": 47,
    "start_time": "2021-12-09T23:42:08.840Z"
   },
   {
    "duration": 35,
    "start_time": "2021-12-09T23:42:08.890Z"
   },
   {
    "duration": 10,
    "start_time": "2021-12-09T23:42:08.928Z"
   },
   {
    "duration": 1071,
    "start_time": "2021-12-09T23:42:08.941Z"
   },
   {
    "duration": 8,
    "start_time": "2021-12-09T23:42:10.018Z"
   },
   {
    "duration": 20,
    "start_time": "2021-12-09T23:42:29.040Z"
   },
   {
    "duration": 18,
    "start_time": "2021-12-09T23:42:50.084Z"
   },
   {
    "duration": 23,
    "start_time": "2021-12-09T23:43:35.110Z"
   },
   {
    "duration": 99,
    "start_time": "2021-12-09T23:44:03.542Z"
   },
   {
    "duration": 20,
    "start_time": "2021-12-09T23:44:03.644Z"
   },
   {
    "duration": 6,
    "start_time": "2021-12-09T23:44:03.667Z"
   },
   {
    "duration": 45,
    "start_time": "2021-12-09T23:44:03.675Z"
   },
   {
    "duration": 24,
    "start_time": "2021-12-09T23:44:03.724Z"
   },
   {
    "duration": 17,
    "start_time": "2021-12-09T23:44:03.750Z"
   },
   {
    "duration": 62,
    "start_time": "2021-12-09T23:44:03.770Z"
   },
   {
    "duration": 17,
    "start_time": "2021-12-09T23:44:03.839Z"
   },
   {
    "duration": 6,
    "start_time": "2021-12-09T23:44:03.858Z"
   },
   {
    "duration": 71,
    "start_time": "2021-12-09T23:44:03.866Z"
   },
   {
    "duration": 11,
    "start_time": "2021-12-09T23:44:03.940Z"
   },
   {
    "duration": 22,
    "start_time": "2021-12-09T23:44:03.953Z"
   },
   {
    "duration": 44,
    "start_time": "2021-12-09T23:44:03.978Z"
   },
   {
    "duration": 10,
    "start_time": "2021-12-09T23:44:04.027Z"
   },
   {
    "duration": 15,
    "start_time": "2021-12-09T23:44:04.040Z"
   },
   {
    "duration": 5,
    "start_time": "2021-12-09T23:44:04.057Z"
   },
   {
    "duration": 59,
    "start_time": "2021-12-09T23:44:04.065Z"
   },
   {
    "duration": 10,
    "start_time": "2021-12-09T23:44:04.127Z"
   },
   {
    "duration": 8,
    "start_time": "2021-12-09T23:44:04.140Z"
   },
   {
    "duration": 8,
    "start_time": "2021-12-09T23:44:04.150Z"
   },
   {
    "duration": 5,
    "start_time": "2021-12-09T23:44:04.160Z"
   },
   {
    "duration": 58,
    "start_time": "2021-12-09T23:44:04.168Z"
   },
   {
    "duration": 11,
    "start_time": "2021-12-09T23:44:04.239Z"
   },
   {
    "duration": 17,
    "start_time": "2021-12-09T23:44:04.253Z"
   },
   {
    "duration": 59,
    "start_time": "2021-12-09T23:44:04.273Z"
   },
   {
    "duration": 9,
    "start_time": "2021-12-09T23:44:04.337Z"
   },
   {
    "duration": 5,
    "start_time": "2021-12-09T23:44:04.349Z"
   },
   {
    "duration": 9,
    "start_time": "2021-12-09T23:44:04.356Z"
   },
   {
    "duration": 53,
    "start_time": "2021-12-09T23:44:04.367Z"
   },
   {
    "duration": 19,
    "start_time": "2021-12-09T23:44:04.424Z"
   },
   {
    "duration": 6,
    "start_time": "2021-12-09T23:44:04.445Z"
   },
   {
    "duration": 9,
    "start_time": "2021-12-09T23:44:04.454Z"
   },
   {
    "duration": 71,
    "start_time": "2021-12-09T23:44:04.466Z"
   },
   {
    "duration": 17,
    "start_time": "2021-12-09T23:44:04.541Z"
   },
   {
    "duration": 10,
    "start_time": "2021-12-09T23:44:04.561Z"
   },
   {
    "duration": 70,
    "start_time": "2021-12-09T23:44:04.574Z"
   },
   {
    "duration": 18,
    "start_time": "2021-12-09T23:44:04.647Z"
   },
   {
    "duration": 7,
    "start_time": "2021-12-09T23:44:04.667Z"
   },
   {
    "duration": 63,
    "start_time": "2021-12-09T23:44:04.676Z"
   },
   {
    "duration": 8,
    "start_time": "2021-12-09T23:44:04.743Z"
   },
   {
    "duration": 66,
    "start_time": "2021-12-09T23:44:04.754Z"
   },
   {
    "duration": 14,
    "start_time": "2021-12-09T23:44:04.823Z"
   },
   {
    "duration": 8,
    "start_time": "2021-12-09T23:44:04.839Z"
   },
   {
    "duration": 1092,
    "start_time": "2021-12-09T23:44:04.850Z"
   },
   {
    "duration": 7,
    "start_time": "2021-12-09T23:44:05.944Z"
   },
   {
    "duration": 32,
    "start_time": "2021-12-09T23:45:55.824Z"
   },
   {
    "duration": 28,
    "start_time": "2021-12-09T23:46:43.019Z"
   },
   {
    "duration": 12,
    "start_time": "2021-12-09T23:47:13.192Z"
   },
   {
    "duration": 6,
    "start_time": "2021-12-09T23:47:28.411Z"
   },
   {
    "duration": 11,
    "start_time": "2021-12-09T23:47:48.856Z"
   },
   {
    "duration": 24,
    "start_time": "2021-12-10T00:10:40.641Z"
   },
   {
    "duration": 20,
    "start_time": "2021-12-10T00:10:55.973Z"
   },
   {
    "duration": 112,
    "start_time": "2021-12-10T00:11:43.096Z"
   },
   {
    "duration": 26,
    "start_time": "2021-12-10T00:11:43.218Z"
   },
   {
    "duration": 8,
    "start_time": "2021-12-10T00:11:43.249Z"
   },
   {
    "duration": 9,
    "start_time": "2021-12-10T00:11:43.260Z"
   },
   {
    "duration": 66,
    "start_time": "2021-12-10T00:11:43.271Z"
   },
   {
    "duration": 19,
    "start_time": "2021-12-10T00:11:43.340Z"
   },
   {
    "duration": 16,
    "start_time": "2021-12-10T00:11:43.362Z"
   },
   {
    "duration": 47,
    "start_time": "2021-12-10T00:11:43.382Z"
   },
   {
    "duration": 8,
    "start_time": "2021-12-10T00:11:43.434Z"
   },
   {
    "duration": 33,
    "start_time": "2021-12-10T00:11:43.445Z"
   },
   {
    "duration": 38,
    "start_time": "2021-12-10T00:11:43.481Z"
   },
   {
    "duration": 29,
    "start_time": "2021-12-10T00:11:43.527Z"
   },
   {
    "duration": 6,
    "start_time": "2021-12-10T00:11:43.559Z"
   },
   {
    "duration": 55,
    "start_time": "2021-12-10T00:11:43.567Z"
   },
   {
    "duration": 24,
    "start_time": "2021-12-10T00:11:43.626Z"
   },
   {
    "duration": 5,
    "start_time": "2021-12-10T00:11:43.653Z"
   },
   {
    "duration": 14,
    "start_time": "2021-12-10T00:11:43.660Z"
   },
   {
    "duration": 45,
    "start_time": "2021-12-10T00:11:43.676Z"
   },
   {
    "duration": 11,
    "start_time": "2021-12-10T00:11:43.724Z"
   },
   {
    "duration": 16,
    "start_time": "2021-12-10T00:11:43.738Z"
   },
   {
    "duration": 16,
    "start_time": "2021-12-10T00:11:43.756Z"
   },
   {
    "duration": 24,
    "start_time": "2021-12-10T00:11:43.774Z"
   },
   {
    "duration": 11,
    "start_time": "2021-12-10T00:11:43.818Z"
   },
   {
    "duration": 28,
    "start_time": "2021-12-10T00:11:43.834Z"
   },
   {
    "duration": 27,
    "start_time": "2021-12-10T00:11:43.864Z"
   },
   {
    "duration": 14,
    "start_time": "2021-12-10T00:11:43.893Z"
   },
   {
    "duration": 25,
    "start_time": "2021-12-10T00:11:43.909Z"
   },
   {
    "duration": 14,
    "start_time": "2021-12-10T00:11:43.937Z"
   },
   {
    "duration": 30,
    "start_time": "2021-12-10T00:11:43.953Z"
   },
   {
    "duration": 12,
    "start_time": "2021-12-10T00:11:43.985Z"
   },
   {
    "duration": 31,
    "start_time": "2021-12-10T00:11:43.999Z"
   },
   {
    "duration": 12,
    "start_time": "2021-12-10T00:11:44.034Z"
   },
   {
    "duration": 23,
    "start_time": "2021-12-10T00:11:44.049Z"
   },
   {
    "duration": 57,
    "start_time": "2021-12-10T00:11:44.075Z"
   },
   {
    "duration": 17,
    "start_time": "2021-12-10T00:11:44.137Z"
   },
   {
    "duration": 22,
    "start_time": "2021-12-10T00:11:44.157Z"
   },
   {
    "duration": 56,
    "start_time": "2021-12-10T00:11:44.181Z"
   },
   {
    "duration": 18,
    "start_time": "2021-12-10T00:11:44.240Z"
   },
   {
    "duration": 30,
    "start_time": "2021-12-10T00:11:44.261Z"
   },
   {
    "duration": 29,
    "start_time": "2021-12-10T00:11:44.293Z"
   },
   {
    "duration": 42,
    "start_time": "2021-12-10T00:11:44.325Z"
   },
   {
    "duration": 8,
    "start_time": "2021-12-10T00:11:44.369Z"
   },
   {
    "duration": 75,
    "start_time": "2021-12-10T00:11:44.379Z"
   },
   {
    "duration": 10,
    "start_time": "2021-12-10T00:11:44.456Z"
   },
   {
    "duration": 14,
    "start_time": "2021-12-10T00:11:44.469Z"
   },
   {
    "duration": 1117,
    "start_time": "2021-12-10T00:11:44.486Z"
   },
   {
    "duration": 14,
    "start_time": "2021-12-10T00:11:45.606Z"
   },
   {
    "duration": 7,
    "start_time": "2021-12-10T00:12:27.402Z"
   },
   {
    "duration": 18,
    "start_time": "2021-12-10T00:12:36.629Z"
   },
   {
    "duration": 338,
    "start_time": "2021-12-10T00:12:50.531Z"
   },
   {
    "duration": 327,
    "start_time": "2021-12-10T00:13:06.825Z"
   },
   {
    "duration": 344,
    "start_time": "2021-12-10T00:14:07.106Z"
   },
   {
    "duration": 304,
    "start_time": "2021-12-10T00:14:12.312Z"
   },
   {
    "duration": 93,
    "start_time": "2021-12-10T00:14:35.563Z"
   },
   {
    "duration": 19,
    "start_time": "2021-12-10T00:14:35.659Z"
   },
   {
    "duration": 43,
    "start_time": "2021-12-10T00:14:35.681Z"
   },
   {
    "duration": 10,
    "start_time": "2021-12-10T00:14:35.730Z"
   },
   {
    "duration": 20,
    "start_time": "2021-12-10T00:14:35.742Z"
   },
   {
    "duration": 56,
    "start_time": "2021-12-10T00:14:35.765Z"
   },
   {
    "duration": 12,
    "start_time": "2021-12-10T00:14:35.825Z"
   },
   {
    "duration": 15,
    "start_time": "2021-12-10T00:14:35.842Z"
   },
   {
    "duration": 5,
    "start_time": "2021-12-10T00:14:35.860Z"
   },
   {
    "duration": 20,
    "start_time": "2021-12-10T00:14:35.917Z"
   },
   {
    "duration": 12,
    "start_time": "2021-12-10T00:14:35.940Z"
   },
   {
    "duration": 22,
    "start_time": "2021-12-10T00:14:35.954Z"
   },
   {
    "duration": 7,
    "start_time": "2021-12-10T00:14:36.018Z"
   },
   {
    "duration": 21,
    "start_time": "2021-12-10T00:14:36.028Z"
   },
   {
    "duration": 24,
    "start_time": "2021-12-10T00:14:36.052Z"
   },
   {
    "duration": 15,
    "start_time": "2021-12-10T00:14:36.079Z"
   },
   {
    "duration": 26,
    "start_time": "2021-12-10T00:14:36.097Z"
   },
   {
    "duration": 13,
    "start_time": "2021-12-10T00:14:36.127Z"
   },
   {
    "duration": 7,
    "start_time": "2021-12-10T00:14:36.143Z"
   },
   {
    "duration": 9,
    "start_time": "2021-12-10T00:14:36.153Z"
   },
   {
    "duration": 66,
    "start_time": "2021-12-10T00:14:36.165Z"
   },
   {
    "duration": 9,
    "start_time": "2021-12-10T00:14:36.235Z"
   },
   {
    "duration": 7,
    "start_time": "2021-12-10T00:14:36.250Z"
   },
   {
    "duration": 19,
    "start_time": "2021-12-10T00:14:36.260Z"
   },
   {
    "duration": 49,
    "start_time": "2021-12-10T00:14:36.281Z"
   },
   {
    "duration": 10,
    "start_time": "2021-12-10T00:14:36.334Z"
   },
   {
    "duration": 7,
    "start_time": "2021-12-10T00:14:36.347Z"
   },
   {
    "duration": 61,
    "start_time": "2021-12-10T00:14:36.357Z"
   },
   {
    "duration": 19,
    "start_time": "2021-12-10T00:14:36.421Z"
   },
   {
    "duration": 11,
    "start_time": "2021-12-10T00:14:36.443Z"
   },
   {
    "duration": 6,
    "start_time": "2021-12-10T00:14:36.457Z"
   },
   {
    "duration": 59,
    "start_time": "2021-12-10T00:14:36.466Z"
   },
   {
    "duration": 14,
    "start_time": "2021-12-10T00:14:36.530Z"
   },
   {
    "duration": 37,
    "start_time": "2021-12-10T00:14:36.546Z"
   },
   {
    "duration": 54,
    "start_time": "2021-12-10T00:14:36.585Z"
   },
   {
    "duration": 10,
    "start_time": "2021-12-10T00:14:36.642Z"
   },
   {
    "duration": 27,
    "start_time": "2021-12-10T00:14:36.654Z"
   },
   {
    "duration": 56,
    "start_time": "2021-12-10T00:14:36.684Z"
   },
   {
    "duration": 18,
    "start_time": "2021-12-10T00:14:36.742Z"
   },
   {
    "duration": 6,
    "start_time": "2021-12-10T00:14:36.762Z"
   },
   {
    "duration": 58,
    "start_time": "2021-12-10T00:14:36.770Z"
   },
   {
    "duration": 10,
    "start_time": "2021-12-10T00:14:36.832Z"
   },
   {
    "duration": 85,
    "start_time": "2021-12-10T00:14:36.845Z"
   },
   {
    "duration": 10,
    "start_time": "2021-12-10T00:14:36.933Z"
   },
   {
    "duration": 8,
    "start_time": "2021-12-10T00:14:36.946Z"
   },
   {
    "duration": 1054,
    "start_time": "2021-12-10T00:14:36.957Z"
   },
   {
    "duration": 28,
    "start_time": "2021-12-10T00:14:38.019Z"
   },
   {
    "duration": 26,
    "start_time": "2021-12-10T00:15:05.235Z"
   },
   {
    "duration": 99,
    "start_time": "2021-12-10T00:15:33.566Z"
   },
   {
    "duration": 19,
    "start_time": "2021-12-10T00:15:33.667Z"
   },
   {
    "duration": 6,
    "start_time": "2021-12-10T00:15:33.689Z"
   },
   {
    "duration": 33,
    "start_time": "2021-12-10T00:15:33.697Z"
   },
   {
    "duration": 22,
    "start_time": "2021-12-10T00:15:33.734Z"
   },
   {
    "duration": 61,
    "start_time": "2021-12-10T00:15:33.758Z"
   },
   {
    "duration": 17,
    "start_time": "2021-12-10T00:15:33.824Z"
   },
   {
    "duration": 15,
    "start_time": "2021-12-10T00:15:33.845Z"
   },
   {
    "duration": 5,
    "start_time": "2021-12-10T00:15:33.863Z"
   },
   {
    "duration": 23,
    "start_time": "2021-12-10T00:15:33.920Z"
   },
   {
    "duration": 13,
    "start_time": "2021-12-10T00:15:33.946Z"
   },
   {
    "duration": 79,
    "start_time": "2021-12-10T00:15:33.962Z"
   },
   {
    "duration": 5,
    "start_time": "2021-12-10T00:15:34.044Z"
   },
   {
    "duration": 12,
    "start_time": "2021-12-10T00:15:34.052Z"
   },
   {
    "duration": 18,
    "start_time": "2021-12-10T00:15:34.066Z"
   },
   {
    "duration": 8,
    "start_time": "2021-12-10T00:15:34.118Z"
   },
   {
    "duration": 17,
    "start_time": "2021-12-10T00:15:34.130Z"
   },
   {
    "duration": 16,
    "start_time": "2021-12-10T00:15:34.150Z"
   },
   {
    "duration": 6,
    "start_time": "2021-12-10T00:15:34.169Z"
   },
   {
    "duration": 42,
    "start_time": "2021-12-10T00:15:34.178Z"
   },
   {
    "duration": 13,
    "start_time": "2021-12-10T00:15:34.225Z"
   },
   {
    "duration": 7,
    "start_time": "2021-12-10T00:15:34.241Z"
   },
   {
    "duration": 9,
    "start_time": "2021-12-10T00:15:34.258Z"
   },
   {
    "duration": 78,
    "start_time": "2021-12-10T00:15:34.270Z"
   },
   {
    "duration": 15,
    "start_time": "2021-12-10T00:15:34.350Z"
   },
   {
    "duration": 9,
    "start_time": "2021-12-10T00:15:34.367Z"
   },
   {
    "duration": 8,
    "start_time": "2021-12-10T00:15:34.378Z"
   },
   {
    "duration": 39,
    "start_time": "2021-12-10T00:15:34.388Z"
   },
   {
    "duration": 25,
    "start_time": "2021-12-10T00:15:34.431Z"
   },
   {
    "duration": 12,
    "start_time": "2021-12-10T00:15:34.458Z"
   },
   {
    "duration": 8,
    "start_time": "2021-12-10T00:15:34.473Z"
   },
   {
    "duration": 43,
    "start_time": "2021-12-10T00:15:34.484Z"
   },
   {
    "duration": 17,
    "start_time": "2021-12-10T00:15:34.532Z"
   },
   {
    "duration": 36,
    "start_time": "2021-12-10T00:15:34.551Z"
   },
   {
    "duration": 42,
    "start_time": "2021-12-10T00:15:34.590Z"
   },
   {
    "duration": 12,
    "start_time": "2021-12-10T00:15:34.635Z"
   },
   {
    "duration": 26,
    "start_time": "2021-12-10T00:15:34.651Z"
   },
   {
    "duration": 55,
    "start_time": "2021-12-10T00:15:34.680Z"
   },
   {
    "duration": 19,
    "start_time": "2021-12-10T00:15:34.739Z"
   },
   {
    "duration": 6,
    "start_time": "2021-12-10T00:15:34.760Z"
   },
   {
    "duration": 69,
    "start_time": "2021-12-10T00:15:34.769Z"
   },
   {
    "duration": 10,
    "start_time": "2021-12-10T00:15:34.841Z"
   },
   {
    "duration": 73,
    "start_time": "2021-12-10T00:15:34.854Z"
   },
   {
    "duration": 11,
    "start_time": "2021-12-10T00:15:34.930Z"
   },
   {
    "duration": 8,
    "start_time": "2021-12-10T00:15:34.943Z"
   },
   {
    "duration": 1103,
    "start_time": "2021-12-10T00:15:34.953Z"
   },
   {
    "duration": 8,
    "start_time": "2021-12-10T00:15:36.058Z"
   },
   {
    "duration": 27,
    "start_time": "2021-12-10T00:16:38.448Z"
   },
   {
    "duration": 20,
    "start_time": "2021-12-10T00:16:42.477Z"
   },
   {
    "duration": 7,
    "start_time": "2021-12-10T00:16:56.589Z"
   },
   {
    "duration": 16,
    "start_time": "2021-12-10T00:17:04.541Z"
   },
   {
    "duration": 28,
    "start_time": "2021-12-10T00:17:29.427Z"
   },
   {
    "duration": 7,
    "start_time": "2021-12-10T00:17:35.865Z"
   },
   {
    "duration": 10,
    "start_time": "2021-12-10T00:18:02.669Z"
   },
   {
    "duration": 38,
    "start_time": "2021-12-10T00:18:05.342Z"
   },
   {
    "duration": 1267,
    "start_time": "2021-12-10T00:20:12.159Z"
   },
   {
    "duration": 987,
    "start_time": "2021-12-10T00:20:24.042Z"
   },
   {
    "duration": 965,
    "start_time": "2021-12-10T00:20:31.932Z"
   },
   {
    "duration": 320,
    "start_time": "2021-12-10T00:26:13.922Z"
   },
   {
    "duration": 6,
    "start_time": "2021-12-10T00:26:24.937Z"
   },
   {
    "duration": 106,
    "start_time": "2021-12-10T09:58:43.993Z"
   },
   {
    "duration": 5,
    "start_time": "2021-12-10T09:59:15.586Z"
   },
   {
    "duration": 18,
    "start_time": "2021-12-10T09:59:22.287Z"
   },
   {
    "duration": 3,
    "start_time": "2021-12-10T10:10:00.616Z"
   },
   {
    "duration": 20,
    "start_time": "2021-12-10T10:10:05.431Z"
   },
   {
    "duration": 315,
    "start_time": "2021-12-10T10:10:35.905Z"
   },
   {
    "duration": 20,
    "start_time": "2021-12-10T10:10:48.290Z"
   },
   {
    "duration": 4844,
    "start_time": "2021-12-10T10:13:56.989Z"
   },
   {
    "duration": 4703,
    "start_time": "2021-12-10T10:21:29.427Z"
   },
   {
    "duration": 3376,
    "start_time": "2021-12-10T10:22:56.646Z"
   },
   {
    "duration": 304,
    "start_time": "2021-12-10T10:25:58.541Z"
   },
   {
    "duration": 338,
    "start_time": "2021-12-10T10:26:25.926Z"
   },
   {
    "duration": 10,
    "start_time": "2021-12-10T10:28:51.933Z"
   },
   {
    "duration": 21,
    "start_time": "2021-12-10T10:41:27.945Z"
   },
   {
    "duration": 313,
    "start_time": "2021-12-10T10:45:08.237Z"
   },
   {
    "duration": 446,
    "start_time": "2021-12-10T10:47:33.688Z"
   },
   {
    "duration": 8,
    "start_time": "2021-12-10T10:48:12.486Z"
   },
   {
    "duration": 7,
    "start_time": "2021-12-10T10:53:11.173Z"
   },
   {
    "duration": 17,
    "start_time": "2021-12-10T10:53:13.590Z"
   },
   {
    "duration": 27,
    "start_time": "2021-12-10T10:53:39.178Z"
   },
   {
    "duration": 8,
    "start_time": "2021-12-10T10:53:59.416Z"
   },
   {
    "duration": 5,
    "start_time": "2021-12-10T10:56:31.711Z"
   },
   {
    "duration": 17,
    "start_time": "2021-12-10T10:56:34.013Z"
   },
   {
    "duration": 22,
    "start_time": "2021-12-10T10:56:43.140Z"
   },
   {
    "duration": 26,
    "start_time": "2021-12-10T10:57:49.804Z"
   },
   {
    "duration": 6,
    "start_time": "2021-12-10T10:58:02.956Z"
   },
   {
    "duration": 17,
    "start_time": "2021-12-10T10:58:04.900Z"
   },
   {
    "duration": 21,
    "start_time": "2021-12-10T10:58:14.328Z"
   },
   {
    "duration": 7,
    "start_time": "2021-12-10T10:58:24.479Z"
   },
   {
    "duration": 27,
    "start_time": "2021-12-10T11:01:06.005Z"
   },
   {
    "duration": 20,
    "start_time": "2021-12-10T11:01:28.944Z"
   },
   {
    "duration": 16,
    "start_time": "2021-12-10T11:02:14.140Z"
   },
   {
    "duration": 28,
    "start_time": "2021-12-10T11:03:11.991Z"
   },
   {
    "duration": 23,
    "start_time": "2021-12-10T11:05:12.490Z"
   },
   {
    "duration": 8,
    "start_time": "2021-12-10T11:05:26.246Z"
   },
   {
    "duration": 34,
    "start_time": "2021-12-10T11:05:53.234Z"
   },
   {
    "duration": 100,
    "start_time": "2021-12-10T11:06:37.717Z"
   },
   {
    "duration": 298,
    "start_time": "2021-12-10T11:06:44.356Z"
   },
   {
    "duration": 24,
    "start_time": "2021-12-10T11:08:04.922Z"
   },
   {
    "duration": 9,
    "start_time": "2021-12-10T11:08:23.734Z"
   },
   {
    "duration": 25,
    "start_time": "2021-12-10T11:12:18.140Z"
   },
   {
    "duration": 8,
    "start_time": "2021-12-10T11:12:39.497Z"
   },
   {
    "duration": 9954,
    "start_time": "2021-12-10T11:14:12.486Z"
   },
   {
    "duration": 9902,
    "start_time": "2021-12-10T11:15:16.691Z"
   },
   {
    "duration": 3916,
    "start_time": "2021-12-10T11:15:43.041Z"
   },
   {
    "duration": 7975,
    "start_time": "2021-12-10T11:19:42.753Z"
   },
   {
    "duration": 3679,
    "start_time": "2021-12-10T11:21:21.260Z"
   },
   {
    "duration": 2920,
    "start_time": "2021-12-10T11:21:52.053Z"
   },
   {
    "duration": 118,
    "start_time": "2021-12-10T11:25:54.735Z"
   },
   {
    "duration": 104,
    "start_time": "2021-12-10T11:26:15.082Z"
   },
   {
    "duration": 384,
    "start_time": "2021-12-10T11:26:38.947Z"
   },
   {
    "duration": 3829,
    "start_time": "2021-12-10T11:53:52.715Z"
   },
   {
    "duration": 7,
    "start_time": "2021-12-10T11:54:04.599Z"
   },
   {
    "duration": 3585,
    "start_time": "2021-12-10T12:01:28.121Z"
   },
   {
    "duration": 7,
    "start_time": "2021-12-10T12:06:21.587Z"
   },
   {
    "duration": 5,
    "start_time": "2021-12-10T12:11:02.762Z"
   },
   {
    "duration": 21,
    "start_time": "2021-12-10T12:11:04.194Z"
   },
   {
    "duration": 4014,
    "start_time": "2021-12-10T12:11:10.812Z"
   },
   {
    "duration": 7,
    "start_time": "2021-12-10T12:11:28.589Z"
   },
   {
    "duration": 7,
    "start_time": "2021-12-10T12:13:39.843Z"
   },
   {
    "duration": 18,
    "start_time": "2021-12-10T12:15:42.139Z"
   },
   {
    "duration": 23,
    "start_time": "2021-12-10T12:31:09.413Z"
   },
   {
    "duration": 90,
    "start_time": "2021-12-10T12:31:22.209Z"
   },
   {
    "duration": 24,
    "start_time": "2021-12-10T12:31:22.301Z"
   },
   {
    "duration": 6,
    "start_time": "2021-12-10T12:31:22.328Z"
   },
   {
    "duration": 9,
    "start_time": "2021-12-10T12:31:22.337Z"
   },
   {
    "duration": 21,
    "start_time": "2021-12-10T12:31:22.349Z"
   },
   {
    "duration": 55,
    "start_time": "2021-12-10T12:31:22.372Z"
   },
   {
    "duration": 11,
    "start_time": "2021-12-10T12:31:22.430Z"
   },
   {
    "duration": 14,
    "start_time": "2021-12-10T12:31:22.444Z"
   },
   {
    "duration": 6,
    "start_time": "2021-12-10T12:31:22.460Z"
   },
   {
    "duration": 61,
    "start_time": "2021-12-10T12:31:22.468Z"
   },
   {
    "duration": 24,
    "start_time": "2021-12-10T12:31:22.532Z"
   },
   {
    "duration": 6,
    "start_time": "2021-12-10T12:34:52.563Z"
   },
   {
    "duration": 13,
    "start_time": "2021-12-10T12:36:13.073Z"
   },
   {
    "duration": 13,
    "start_time": "2021-12-10T12:39:41.470Z"
   },
   {
    "duration": 13,
    "start_time": "2021-12-10T12:40:28.047Z"
   },
   {
    "duration": 13,
    "start_time": "2021-12-10T12:41:23.091Z"
   },
   {
    "duration": 99,
    "start_time": "2021-12-10T12:42:49.917Z"
   },
   {
    "duration": 21,
    "start_time": "2021-12-10T12:42:50.020Z"
   },
   {
    "duration": 9,
    "start_time": "2021-12-10T12:42:50.045Z"
   },
   {
    "duration": 8,
    "start_time": "2021-12-10T12:42:50.057Z"
   },
   {
    "duration": 62,
    "start_time": "2021-12-10T12:42:50.067Z"
   },
   {
    "duration": 20,
    "start_time": "2021-12-10T12:42:50.132Z"
   },
   {
    "duration": 12,
    "start_time": "2021-12-10T12:42:50.154Z"
   },
   {
    "duration": 57,
    "start_time": "2021-12-10T12:42:50.170Z"
   },
   {
    "duration": 6,
    "start_time": "2021-12-10T12:42:50.231Z"
   },
   {
    "duration": 15,
    "start_time": "2021-12-10T12:42:50.240Z"
   },
   {
    "duration": 64,
    "start_time": "2021-12-10T12:42:50.258Z"
   },
   {
    "duration": 11,
    "start_time": "2021-12-10T12:42:50.325Z"
   },
   {
    "duration": 5,
    "start_time": "2021-12-10T12:42:50.339Z"
   },
   {
    "duration": 11,
    "start_time": "2021-12-10T12:42:50.346Z"
   },
   {
    "duration": 58,
    "start_time": "2021-12-10T12:42:50.359Z"
   },
   {
    "duration": 5,
    "start_time": "2021-12-10T12:42:50.421Z"
   },
   {
    "duration": 7,
    "start_time": "2021-12-10T12:42:50.428Z"
   },
   {
    "duration": 7,
    "start_time": "2021-12-10T12:42:50.437Z"
   },
   {
    "duration": 14,
    "start_time": "2021-12-10T12:42:50.446Z"
   },
   {
    "duration": 10,
    "start_time": "2021-12-10T12:42:50.462Z"
   },
   {
    "duration": 5,
    "start_time": "2021-12-10T12:42:50.474Z"
   },
   {
    "duration": 7,
    "start_time": "2021-12-10T12:42:50.518Z"
   },
   {
    "duration": 12,
    "start_time": "2021-12-10T12:42:50.527Z"
   },
   {
    "duration": 33,
    "start_time": "2021-12-10T12:42:50.542Z"
   },
   {
    "duration": 50,
    "start_time": "2021-12-10T12:42:50.578Z"
   },
   {
    "duration": 10,
    "start_time": "2021-12-10T12:42:50.630Z"
   },
   {
    "duration": 6,
    "start_time": "2021-12-10T12:42:50.643Z"
   },
   {
    "duration": 7,
    "start_time": "2021-12-10T12:42:50.651Z"
   },
   {
    "duration": 59,
    "start_time": "2021-12-10T12:42:50.660Z"
   },
   {
    "duration": 12,
    "start_time": "2021-12-10T12:42:50.723Z"
   },
   {
    "duration": 6,
    "start_time": "2021-12-10T12:42:50.737Z"
   },
   {
    "duration": 10,
    "start_time": "2021-12-10T12:42:50.745Z"
   },
   {
    "duration": 11,
    "start_time": "2021-12-10T12:42:50.757Z"
   },
   {
    "duration": 69,
    "start_time": "2021-12-10T12:42:50.770Z"
   },
   {
    "duration": 15,
    "start_time": "2021-12-10T12:42:50.841Z"
   },
   {
    "duration": 9,
    "start_time": "2021-12-10T12:42:50.858Z"
   },
   {
    "duration": 7,
    "start_time": "2021-12-10T12:42:50.870Z"
   },
   {
    "duration": 55,
    "start_time": "2021-12-10T12:42:50.880Z"
   },
   {
    "duration": 17,
    "start_time": "2021-12-10T12:42:50.938Z"
   },
   {
    "duration": 7,
    "start_time": "2021-12-10T12:42:50.957Z"
   },
   {
    "duration": 53,
    "start_time": "2021-12-10T12:42:50.967Z"
   },
   {
    "duration": 9,
    "start_time": "2021-12-10T12:42:51.022Z"
   },
   {
    "duration": 36,
    "start_time": "2021-12-10T12:42:51.034Z"
   },
   {
    "duration": 8,
    "start_time": "2021-12-10T12:42:51.073Z"
   },
   {
    "duration": 8,
    "start_time": "2021-12-10T12:42:51.118Z"
   },
   {
    "duration": 1030,
    "start_time": "2021-12-10T12:42:51.129Z"
   },
   {
    "duration": 7,
    "start_time": "2021-12-10T12:42:52.162Z"
   },
   {
    "duration": 6,
    "start_time": "2021-12-10T12:42:52.173Z"
   },
   {
    "duration": 47,
    "start_time": "2021-12-10T12:42:52.182Z"
   },
   {
    "duration": 3711,
    "start_time": "2021-12-10T12:42:52.231Z"
   },
   {
    "duration": 8,
    "start_time": "2021-12-10T12:42:55.945Z"
   },
   {
    "duration": 23,
    "start_time": "2021-12-10T12:42:55.956Z"
   },
   {
    "duration": 396,
    "start_time": "2021-12-10T12:45:42.372Z"
   },
   {
    "duration": 88,
    "start_time": "2021-12-10T12:45:52.467Z"
   },
   {
    "duration": 18,
    "start_time": "2021-12-10T12:45:52.558Z"
   },
   {
    "duration": 38,
    "start_time": "2021-12-10T12:45:52.579Z"
   },
   {
    "duration": 6,
    "start_time": "2021-12-10T12:45:52.620Z"
   },
   {
    "duration": 21,
    "start_time": "2021-12-10T12:45:52.628Z"
   },
   {
    "duration": 19,
    "start_time": "2021-12-10T12:45:52.651Z"
   },
   {
    "duration": 51,
    "start_time": "2021-12-10T12:45:52.673Z"
   },
   {
    "duration": 14,
    "start_time": "2021-12-10T12:45:52.727Z"
   },
   {
    "duration": 6,
    "start_time": "2021-12-10T12:45:52.744Z"
   },
   {
    "duration": 21,
    "start_time": "2021-12-10T12:45:52.752Z"
   },
   {
    "duration": 55,
    "start_time": "2021-12-10T12:45:52.775Z"
   },
   {
    "duration": 14,
    "start_time": "2021-12-10T12:45:52.832Z"
   },
   {
    "duration": 5,
    "start_time": "2021-12-10T12:45:52.849Z"
   },
   {
    "duration": 12,
    "start_time": "2021-12-10T12:45:52.856Z"
   },
   {
    "duration": 56,
    "start_time": "2021-12-10T12:45:52.870Z"
   },
   {
    "duration": 5,
    "start_time": "2021-12-10T12:45:52.928Z"
   },
   {
    "duration": 8,
    "start_time": "2021-12-10T12:45:52.935Z"
   },
   {
    "duration": 8,
    "start_time": "2021-12-10T12:45:52.945Z"
   },
   {
    "duration": 5,
    "start_time": "2021-12-10T12:45:52.956Z"
   },
   {
    "duration": 55,
    "start_time": "2021-12-10T12:45:52.963Z"
   },
   {
    "duration": 6,
    "start_time": "2021-12-10T12:45:53.021Z"
   },
   {
    "duration": 14,
    "start_time": "2021-12-10T12:45:53.029Z"
   },
   {
    "duration": 15,
    "start_time": "2021-12-10T12:45:53.048Z"
   },
   {
    "duration": 32,
    "start_time": "2021-12-10T12:45:53.065Z"
   },
   {
    "duration": 26,
    "start_time": "2021-12-10T12:45:53.100Z"
   },
   {
    "duration": 10,
    "start_time": "2021-12-10T12:45:53.129Z"
   },
   {
    "duration": 24,
    "start_time": "2021-12-10T12:45:53.142Z"
   },
   {
    "duration": 7,
    "start_time": "2021-12-10T12:45:53.169Z"
   },
   {
    "duration": 44,
    "start_time": "2021-12-10T12:45:53.179Z"
   },
   {
    "duration": 13,
    "start_time": "2021-12-10T12:45:53.226Z"
   },
   {
    "duration": 20,
    "start_time": "2021-12-10T12:45:53.242Z"
   },
   {
    "duration": 11,
    "start_time": "2021-12-10T12:45:53.265Z"
   },
   {
    "duration": 39,
    "start_time": "2021-12-10T12:45:53.279Z"
   },
   {
    "duration": 28,
    "start_time": "2021-12-10T12:45:53.320Z"
   },
   {
    "duration": 15,
    "start_time": "2021-12-10T12:45:53.351Z"
   },
   {
    "duration": 14,
    "start_time": "2021-12-10T12:45:53.368Z"
   },
   {
    "duration": 33,
    "start_time": "2021-12-10T12:45:53.384Z"
   },
   {
    "duration": 24,
    "start_time": "2021-12-10T12:45:53.420Z"
   },
   {
    "duration": 17,
    "start_time": "2021-12-10T12:45:53.446Z"
   },
   {
    "duration": 6,
    "start_time": "2021-12-10T12:45:53.466Z"
   },
   {
    "duration": 55,
    "start_time": "2021-12-10T12:45:53.474Z"
   },
   {
    "duration": 7,
    "start_time": "2021-12-10T12:45:53.531Z"
   },
   {
    "duration": 42,
    "start_time": "2021-12-10T12:45:53.540Z"
   },
   {
    "duration": 32,
    "start_time": "2021-12-10T12:45:53.586Z"
   },
   {
    "duration": 10,
    "start_time": "2021-12-10T12:45:53.621Z"
   },
   {
    "duration": 1055,
    "start_time": "2021-12-10T12:45:53.634Z"
   },
   {
    "duration": 6,
    "start_time": "2021-12-10T12:45:54.692Z"
   },
   {
    "duration": 17,
    "start_time": "2021-12-10T12:45:54.701Z"
   },
   {
    "duration": 20,
    "start_time": "2021-12-10T12:45:54.721Z"
   },
   {
    "duration": 3719,
    "start_time": "2021-12-10T12:45:54.743Z"
   },
   {
    "duration": 7,
    "start_time": "2021-12-10T12:45:58.464Z"
   },
   {
    "duration": 3687,
    "start_time": "2021-12-10T12:46:29.537Z"
   },
   {
    "duration": 18,
    "start_time": "2021-12-10T12:46:42.360Z"
   },
   {
    "duration": 11,
    "start_time": "2021-12-10T12:53:19.150Z"
   },
   {
    "duration": 11,
    "start_time": "2021-12-10T12:56:17.504Z"
   },
   {
    "duration": 92,
    "start_time": "2021-12-10T12:56:50.598Z"
   },
   {
    "duration": 38,
    "start_time": "2021-12-10T12:56:50.693Z"
   },
   {
    "duration": 6,
    "start_time": "2021-12-10T12:56:50.734Z"
   },
   {
    "duration": 8,
    "start_time": "2021-12-10T12:56:50.743Z"
   },
   {
    "duration": 19,
    "start_time": "2021-12-10T12:56:50.753Z"
   },
   {
    "duration": 52,
    "start_time": "2021-12-10T12:56:50.775Z"
   },
   {
    "duration": 12,
    "start_time": "2021-12-10T12:56:50.830Z"
   },
   {
    "duration": 14,
    "start_time": "2021-12-10T12:56:50.846Z"
   },
   {
    "duration": 7,
    "start_time": "2021-12-10T12:56:50.864Z"
   },
   {
    "duration": 17,
    "start_time": "2021-12-10T12:56:50.917Z"
   },
   {
    "duration": 24,
    "start_time": "2021-12-10T12:56:50.937Z"
   },
   {
    "duration": 54,
    "start_time": "2021-12-10T12:56:50.963Z"
   },
   {
    "duration": 6,
    "start_time": "2021-12-10T12:56:51.019Z"
   },
   {
    "duration": 11,
    "start_time": "2021-12-10T12:56:51.027Z"
   },
   {
    "duration": 17,
    "start_time": "2021-12-10T12:56:51.040Z"
   },
   {
    "duration": 5,
    "start_time": "2021-12-10T12:56:51.059Z"
   },
   {
    "duration": 51,
    "start_time": "2021-12-10T12:56:51.067Z"
   },
   {
    "duration": 10,
    "start_time": "2021-12-10T12:56:51.121Z"
   },
   {
    "duration": 6,
    "start_time": "2021-12-10T12:56:51.134Z"
   },
   {
    "duration": 7,
    "start_time": "2021-12-10T12:56:51.142Z"
   },
   {
    "duration": 6,
    "start_time": "2021-12-10T12:56:51.152Z"
   },
   {
    "duration": 9,
    "start_time": "2021-12-10T12:56:51.161Z"
   },
   {
    "duration": 8,
    "start_time": "2021-12-10T12:56:51.220Z"
   },
   {
    "duration": 21,
    "start_time": "2021-12-10T12:56:51.232Z"
   },
   {
    "duration": 17,
    "start_time": "2021-12-10T12:56:51.255Z"
   },
   {
    "duration": 46,
    "start_time": "2021-12-10T12:56:51.274Z"
   },
   {
    "duration": 5,
    "start_time": "2021-12-10T12:56:51.323Z"
   },
   {
    "duration": 7,
    "start_time": "2021-12-10T12:56:51.331Z"
   },
   {
    "duration": 14,
    "start_time": "2021-12-10T12:56:51.341Z"
   },
   {
    "duration": 12,
    "start_time": "2021-12-10T12:56:51.357Z"
   },
   {
    "duration": 8,
    "start_time": "2021-12-10T12:56:51.418Z"
   },
   {
    "duration": 8,
    "start_time": "2021-12-10T12:56:51.428Z"
   },
   {
    "duration": 11,
    "start_time": "2021-12-10T12:56:51.439Z"
   },
   {
    "duration": 66,
    "start_time": "2021-12-10T12:56:51.452Z"
   },
   {
    "duration": 16,
    "start_time": "2021-12-10T12:56:51.521Z"
   },
   {
    "duration": 9,
    "start_time": "2021-12-10T12:56:51.539Z"
   },
   {
    "duration": 8,
    "start_time": "2021-12-10T12:56:51.550Z"
   },
   {
    "duration": 57,
    "start_time": "2021-12-10T12:56:51.560Z"
   },
   {
    "duration": 17,
    "start_time": "2021-12-10T12:56:51.620Z"
   },
   {
    "duration": 7,
    "start_time": "2021-12-10T12:56:51.639Z"
   },
   {
    "duration": 20,
    "start_time": "2021-12-10T12:56:51.649Z"
   },
   {
    "duration": 46,
    "start_time": "2021-12-10T12:56:51.672Z"
   },
   {
    "duration": 39,
    "start_time": "2021-12-10T12:56:51.725Z"
   },
   {
    "duration": 10,
    "start_time": "2021-12-10T12:56:51.768Z"
   },
   {
    "duration": 9,
    "start_time": "2021-12-10T12:56:51.818Z"
   },
   {
    "duration": 1048,
    "start_time": "2021-12-10T12:56:51.830Z"
   },
   {
    "duration": 8,
    "start_time": "2021-12-10T12:56:52.881Z"
   },
   {
    "duration": 26,
    "start_time": "2021-12-10T12:56:52.891Z"
   },
   {
    "duration": 23,
    "start_time": "2021-12-10T12:56:52.920Z"
   },
   {
    "duration": 3683,
    "start_time": "2021-12-10T12:56:52.946Z"
   },
   {
    "duration": 7,
    "start_time": "2021-12-10T12:56:56.633Z"
   },
   {
    "duration": 24,
    "start_time": "2021-12-10T12:56:56.643Z"
   },
   {
    "duration": 91,
    "start_time": "2021-12-10T12:58:04.049Z"
   },
   {
    "duration": 20,
    "start_time": "2021-12-10T12:58:04.142Z"
   },
   {
    "duration": 12,
    "start_time": "2021-12-10T12:58:04.164Z"
   },
   {
    "duration": 16,
    "start_time": "2021-12-10T12:58:04.178Z"
   },
   {
    "duration": 37,
    "start_time": "2021-12-10T12:58:04.217Z"
   },
   {
    "duration": 35,
    "start_time": "2021-12-10T12:58:04.257Z"
   },
   {
    "duration": 24,
    "start_time": "2021-12-10T12:58:04.294Z"
   },
   {
    "duration": 14,
    "start_time": "2021-12-10T12:58:04.322Z"
   },
   {
    "duration": 27,
    "start_time": "2021-12-10T12:58:04.339Z"
   },
   {
    "duration": 27,
    "start_time": "2021-12-10T12:58:04.369Z"
   },
   {
    "duration": 35,
    "start_time": "2021-12-10T12:58:04.398Z"
   },
   {
    "duration": 24,
    "start_time": "2021-12-10T12:58:04.435Z"
   },
   {
    "duration": 14,
    "start_time": "2021-12-10T12:58:04.461Z"
   },
   {
    "duration": 16,
    "start_time": "2021-12-10T12:58:04.477Z"
   },
   {
    "duration": 34,
    "start_time": "2021-12-10T12:58:04.496Z"
   },
   {
    "duration": 22,
    "start_time": "2021-12-10T12:58:04.533Z"
   },
   {
    "duration": 15,
    "start_time": "2021-12-10T12:58:04.558Z"
   },
   {
    "duration": 46,
    "start_time": "2021-12-10T12:58:04.575Z"
   },
   {
    "duration": 28,
    "start_time": "2021-12-10T12:58:04.623Z"
   },
   {
    "duration": 26,
    "start_time": "2021-12-10T12:58:04.654Z"
   },
   {
    "duration": 13,
    "start_time": "2021-12-10T12:58:04.683Z"
   },
   {
    "duration": 33,
    "start_time": "2021-12-10T12:58:04.699Z"
   },
   {
    "duration": 37,
    "start_time": "2021-12-10T12:58:04.738Z"
   },
   {
    "duration": 28,
    "start_time": "2021-12-10T12:58:04.778Z"
   },
   {
    "duration": 22,
    "start_time": "2021-12-10T12:58:04.809Z"
   },
   {
    "duration": 29,
    "start_time": "2021-12-10T12:58:04.833Z"
   },
   {
    "duration": 18,
    "start_time": "2021-12-10T12:58:04.864Z"
   },
   {
    "duration": 42,
    "start_time": "2021-12-10T12:58:04.885Z"
   },
   {
    "duration": 25,
    "start_time": "2021-12-10T12:58:04.929Z"
   },
   {
    "duration": 25,
    "start_time": "2021-12-10T12:58:04.957Z"
   },
   {
    "duration": 12,
    "start_time": "2021-12-10T12:58:04.985Z"
   },
   {
    "duration": 31,
    "start_time": "2021-12-10T12:58:05.000Z"
   },
   {
    "duration": 42,
    "start_time": "2021-12-10T12:58:05.033Z"
   },
   {
    "duration": 41,
    "start_time": "2021-12-10T12:58:05.077Z"
   },
   {
    "duration": 20,
    "start_time": "2021-12-10T12:58:05.121Z"
   },
   {
    "duration": 15,
    "start_time": "2021-12-10T12:58:05.144Z"
   },
   {
    "duration": 14,
    "start_time": "2021-12-10T12:58:05.161Z"
   },
   {
    "duration": 30,
    "start_time": "2021-12-10T12:58:05.177Z"
   },
   {
    "duration": 16,
    "start_time": "2021-12-10T12:58:05.218Z"
   },
   {
    "duration": 13,
    "start_time": "2021-12-10T12:58:05.236Z"
   },
   {
    "duration": 32,
    "start_time": "2021-12-10T12:58:05.251Z"
   },
   {
    "duration": 8,
    "start_time": "2021-12-10T12:58:05.285Z"
   },
   {
    "duration": 38,
    "start_time": "2021-12-10T12:58:05.318Z"
   },
   {
    "duration": 8,
    "start_time": "2021-12-10T12:58:05.358Z"
   },
   {
    "duration": 12,
    "start_time": "2021-12-10T12:58:05.369Z"
   },
   {
    "duration": 1035,
    "start_time": "2021-12-10T12:58:05.383Z"
   },
   {
    "duration": 7,
    "start_time": "2021-12-10T12:58:06.421Z"
   },
   {
    "duration": 20,
    "start_time": "2021-12-10T12:58:06.431Z"
   },
   {
    "duration": 39,
    "start_time": "2021-12-10T12:58:06.454Z"
   },
   {
    "duration": 3800,
    "start_time": "2021-12-10T12:58:06.496Z"
   },
   {
    "duration": 19,
    "start_time": "2021-12-10T12:58:10.299Z"
   },
   {
    "duration": 29,
    "start_time": "2021-12-10T12:58:10.322Z"
   },
   {
    "duration": 12,
    "start_time": "2021-12-10T12:58:10.354Z"
   },
   {
    "duration": 7,
    "start_time": "2021-12-10T13:14:57.838Z"
   },
   {
    "duration": 12,
    "start_time": "2021-12-10T14:10:29.607Z"
   },
   {
    "duration": 117,
    "start_time": "2021-12-10T14:15:27.994Z"
   },
   {
    "duration": 6,
    "start_time": "2021-12-10T14:15:59.458Z"
   },
   {
    "duration": 6,
    "start_time": "2021-12-10T14:16:40.445Z"
   },
   {
    "duration": 90,
    "start_time": "2021-12-10T14:17:22.502Z"
   },
   {
    "duration": 35,
    "start_time": "2021-12-10T14:17:22.596Z"
   },
   {
    "duration": 7,
    "start_time": "2021-12-10T14:17:22.634Z"
   },
   {
    "duration": 18,
    "start_time": "2021-12-10T14:17:22.643Z"
   },
   {
    "duration": 34,
    "start_time": "2021-12-10T14:17:22.663Z"
   },
   {
    "duration": 36,
    "start_time": "2021-12-10T14:17:22.699Z"
   },
   {
    "duration": 15,
    "start_time": "2021-12-10T14:17:22.737Z"
   },
   {
    "duration": 10,
    "start_time": "2021-12-10T14:17:22.756Z"
   },
   {
    "duration": 17,
    "start_time": "2021-12-10T14:17:22.769Z"
   },
   {
    "duration": 33,
    "start_time": "2021-12-10T14:17:22.788Z"
   },
   {
    "duration": 2876,
    "start_time": "2021-12-10T14:17:22.824Z"
   },
   {
    "duration": 493,
    "start_time": "2021-12-10T14:17:25.212Z"
   },
   {
    "duration": 474,
    "start_time": "2021-12-10T14:17:25.232Z"
   },
   {
    "duration": 463,
    "start_time": "2021-12-10T14:17:25.245Z"
   },
   {
    "duration": 448,
    "start_time": "2021-12-10T14:17:25.261Z"
   },
   {
    "duration": 416,
    "start_time": "2021-12-10T14:17:25.295Z"
   },
   {
    "duration": 364,
    "start_time": "2021-12-10T14:17:25.348Z"
   },
   {
    "duration": 348,
    "start_time": "2021-12-10T14:17:25.365Z"
   },
   {
    "duration": 321,
    "start_time": "2021-12-10T14:17:25.394Z"
   },
   {
    "duration": 303,
    "start_time": "2021-12-10T14:17:25.414Z"
   },
   {
    "duration": 219,
    "start_time": "2021-12-10T14:17:25.499Z"
   },
   {
    "duration": 209,
    "start_time": "2021-12-10T14:17:25.510Z"
   },
   {
    "duration": 192,
    "start_time": "2021-12-10T14:17:25.529Z"
   },
   {
    "duration": 182,
    "start_time": "2021-12-10T14:17:25.541Z"
   },
   {
    "duration": 174,
    "start_time": "2021-12-10T14:17:25.550Z"
   },
   {
    "duration": 164,
    "start_time": "2021-12-10T14:17:25.562Z"
   },
   {
    "duration": 155,
    "start_time": "2021-12-10T14:17:25.573Z"
   },
   {
    "duration": 122,
    "start_time": "2021-12-10T14:17:25.607Z"
   },
   {
    "duration": 109,
    "start_time": "2021-12-10T14:17:25.622Z"
   },
   {
    "duration": 101,
    "start_time": "2021-12-10T14:17:25.631Z"
   },
   {
    "duration": 90,
    "start_time": "2021-12-10T14:17:25.643Z"
   },
   {
    "duration": 81,
    "start_time": "2021-12-10T14:17:25.653Z"
   },
   {
    "duration": 70,
    "start_time": "2021-12-10T14:17:25.666Z"
   },
   {
    "duration": 48,
    "start_time": "2021-12-10T14:17:25.689Z"
   },
   {
    "duration": 37,
    "start_time": "2021-12-10T14:17:25.702Z"
   },
   {
    "duration": 0,
    "start_time": "2021-12-10T14:17:25.740Z"
   },
   {
    "duration": -8,
    "start_time": "2021-12-10T14:17:25.749Z"
   },
   {
    "duration": -16,
    "start_time": "2021-12-10T14:17:25.759Z"
   },
   {
    "duration": -28,
    "start_time": "2021-12-10T14:17:25.772Z"
   },
   {
    "duration": -35,
    "start_time": "2021-12-10T14:17:25.780Z"
   },
   {
    "duration": -44,
    "start_time": "2021-12-10T14:17:25.791Z"
   },
   {
    "duration": -51,
    "start_time": "2021-12-10T14:17:25.799Z"
   },
   {
    "duration": -61,
    "start_time": "2021-12-10T14:17:25.810Z"
   },
   {
    "duration": -69,
    "start_time": "2021-12-10T14:17:25.819Z"
   },
   {
    "duration": -75,
    "start_time": "2021-12-10T14:17:25.827Z"
   },
   {
    "duration": -103,
    "start_time": "2021-12-10T14:17:25.856Z"
   },
   {
    "duration": -111,
    "start_time": "2021-12-10T14:17:25.865Z"
   },
   {
    "duration": -120,
    "start_time": "2021-12-10T14:17:25.875Z"
   },
   {
    "duration": -68,
    "start_time": "2021-12-10T14:17:25.886Z"
   },
   {
    "duration": -74,
    "start_time": "2021-12-10T14:17:25.894Z"
   },
   {
    "duration": -85,
    "start_time": "2021-12-10T14:17:25.907Z"
   },
   {
    "duration": -92,
    "start_time": "2021-12-10T14:17:25.915Z"
   },
   {
    "duration": -102,
    "start_time": "2021-12-10T14:17:25.927Z"
   },
   {
    "duration": -112,
    "start_time": "2021-12-10T14:17:25.939Z"
   },
   {
    "duration": 116,
    "start_time": "2021-12-10T14:18:04.121Z"
   },
   {
    "duration": 5,
    "start_time": "2021-12-10T14:19:32.733Z"
   },
   {
    "duration": 5,
    "start_time": "2021-12-10T14:19:37.776Z"
   },
   {
    "duration": 6,
    "start_time": "2021-12-10T14:20:34.413Z"
   },
   {
    "duration": 7,
    "start_time": "2021-12-10T14:21:08.451Z"
   },
   {
    "duration": 14,
    "start_time": "2021-12-10T14:21:45.568Z"
   },
   {
    "duration": 12,
    "start_time": "2021-12-10T14:30:59.228Z"
   },
   {
    "duration": 87,
    "start_time": "2021-12-10T14:31:08.457Z"
   },
   {
    "duration": 18,
    "start_time": "2021-12-10T14:31:08.547Z"
   },
   {
    "duration": 6,
    "start_time": "2021-12-10T14:31:08.568Z"
   },
   {
    "duration": 10,
    "start_time": "2021-12-10T14:31:08.576Z"
   },
   {
    "duration": 18,
    "start_time": "2021-12-10T14:31:08.618Z"
   },
   {
    "duration": 18,
    "start_time": "2021-12-10T14:31:08.639Z"
   },
   {
    "duration": 10,
    "start_time": "2021-12-10T14:31:08.660Z"
   },
   {
    "duration": 51,
    "start_time": "2021-12-10T14:31:08.674Z"
   },
   {
    "duration": 6,
    "start_time": "2021-12-10T14:31:08.727Z"
   },
   {
    "duration": 6,
    "start_time": "2021-12-10T14:31:08.736Z"
   },
   {
    "duration": 14,
    "start_time": "2021-12-10T14:31:08.756Z"
   },
   {
    "duration": 55,
    "start_time": "2021-12-10T14:31:08.773Z"
   },
   {
    "duration": 12,
    "start_time": "2021-12-10T14:31:08.861Z"
   },
   {
    "duration": 6,
    "start_time": "2021-12-10T14:31:08.876Z"
   },
   {
    "duration": 8,
    "start_time": "2021-12-10T14:31:08.885Z"
   },
   {
    "duration": 32,
    "start_time": "2021-12-10T14:31:08.895Z"
   },
   {
    "duration": 4,
    "start_time": "2021-12-10T14:31:08.930Z"
   },
   {
    "duration": 9,
    "start_time": "2021-12-10T14:31:08.938Z"
   },
   {
    "duration": 15,
    "start_time": "2021-12-10T14:31:08.950Z"
   },
   {
    "duration": 50,
    "start_time": "2021-12-10T14:31:08.967Z"
   },
   {
    "duration": 6,
    "start_time": "2021-12-10T14:31:09.020Z"
   },
   {
    "duration": 5,
    "start_time": "2021-12-10T14:31:09.029Z"
   },
   {
    "duration": 8,
    "start_time": "2021-12-10T14:31:09.036Z"
   },
   {
    "duration": 7,
    "start_time": "2021-12-10T14:31:09.047Z"
   },
   {
    "duration": 79,
    "start_time": "2021-12-10T14:31:09.057Z"
   },
   {
    "duration": 14,
    "start_time": "2021-12-10T14:31:09.143Z"
   },
   {
    "duration": 14,
    "start_time": "2021-12-10T14:31:09.160Z"
   },
   {
    "duration": 43,
    "start_time": "2021-12-10T14:31:09.177Z"
   },
   {
    "duration": 6,
    "start_time": "2021-12-10T14:31:09.222Z"
   },
   {
    "duration": 17,
    "start_time": "2021-12-10T14:31:09.230Z"
   },
   {
    "duration": 12,
    "start_time": "2021-12-10T14:31:09.249Z"
   },
   {
    "duration": 55,
    "start_time": "2021-12-10T14:31:09.264Z"
   },
   {
    "duration": 11,
    "start_time": "2021-12-10T14:31:09.321Z"
   },
   {
    "duration": 30,
    "start_time": "2021-12-10T14:31:09.335Z"
   },
   {
    "duration": 51,
    "start_time": "2021-12-10T14:31:09.368Z"
   },
   {
    "duration": 10,
    "start_time": "2021-12-10T14:31:09.421Z"
   },
   {
    "duration": 7,
    "start_time": "2021-12-10T14:31:09.433Z"
   },
   {
    "duration": 19,
    "start_time": "2021-12-10T14:31:09.442Z"
   },
   {
    "duration": 53,
    "start_time": "2021-12-10T14:31:09.463Z"
   },
   {
    "duration": 7,
    "start_time": "2021-12-10T14:31:09.518Z"
   },
   {
    "duration": 22,
    "start_time": "2021-12-10T14:31:09.527Z"
   },
   {
    "duration": 8,
    "start_time": "2021-12-10T14:31:09.551Z"
   },
   {
    "duration": 77,
    "start_time": "2021-12-10T14:31:09.562Z"
   },
   {
    "duration": 8,
    "start_time": "2021-12-10T14:31:09.641Z"
   },
   {
    "duration": 8,
    "start_time": "2021-12-10T14:31:09.651Z"
   },
   {
    "duration": 1003,
    "start_time": "2021-12-10T14:31:09.661Z"
   },
   {
    "duration": 7,
    "start_time": "2021-12-10T14:31:10.667Z"
   },
   {
    "duration": 6,
    "start_time": "2021-12-10T14:31:10.676Z"
   },
   {
    "duration": 46,
    "start_time": "2021-12-10T14:31:10.684Z"
   },
   {
    "duration": 3705,
    "start_time": "2021-12-10T14:31:10.736Z"
   },
   {
    "duration": 8,
    "start_time": "2021-12-10T14:31:14.444Z"
   },
   {
    "duration": 20,
    "start_time": "2021-12-10T14:31:14.454Z"
   },
   {
    "duration": 9,
    "start_time": "2021-12-10T14:31:14.477Z"
   },
   {
    "duration": 21,
    "start_time": "2021-12-10T14:31:40.353Z"
   },
   {
    "duration": 20,
    "start_time": "2021-12-10T14:32:13.168Z"
   },
   {
    "duration": 88,
    "start_time": "2021-12-10T14:32:29.033Z"
   },
   {
    "duration": 20,
    "start_time": "2021-12-10T14:32:29.123Z"
   },
   {
    "duration": 7,
    "start_time": "2021-12-10T14:32:29.145Z"
   },
   {
    "duration": 8,
    "start_time": "2021-12-10T14:32:29.154Z"
   },
   {
    "duration": 18,
    "start_time": "2021-12-10T14:32:29.164Z"
   },
   {
    "duration": 18,
    "start_time": "2021-12-10T14:32:29.218Z"
   },
   {
    "duration": 13,
    "start_time": "2021-12-10T14:32:29.238Z"
   },
   {
    "duration": 10,
    "start_time": "2021-12-10T14:32:29.253Z"
   },
   {
    "duration": 5,
    "start_time": "2021-12-10T14:32:29.266Z"
   },
   {
    "duration": 49,
    "start_time": "2021-12-10T14:32:29.273Z"
   },
   {
    "duration": 17,
    "start_time": "2021-12-10T14:32:29.324Z"
   },
   {
    "duration": 94,
    "start_time": "2021-12-10T14:32:45.759Z"
   },
   {
    "duration": 19,
    "start_time": "2021-12-10T14:32:45.856Z"
   },
   {
    "duration": 40,
    "start_time": "2021-12-10T14:32:45.878Z"
   },
   {
    "duration": 11,
    "start_time": "2021-12-10T14:32:45.922Z"
   },
   {
    "duration": 18,
    "start_time": "2021-12-10T14:32:45.936Z"
   },
   {
    "duration": 64,
    "start_time": "2021-12-10T14:32:45.957Z"
   },
   {
    "duration": 11,
    "start_time": "2021-12-10T14:32:46.033Z"
   },
   {
    "duration": 10,
    "start_time": "2021-12-10T14:32:46.048Z"
   },
   {
    "duration": 5,
    "start_time": "2021-12-10T14:32:46.061Z"
   },
   {
    "duration": 55,
    "start_time": "2021-12-10T14:32:46.068Z"
   },
   {
    "duration": 20,
    "start_time": "2021-12-10T14:32:46.126Z"
   },
   {
    "duration": 21,
    "start_time": "2021-12-10T14:32:46.149Z"
   },
   {
    "duration": 52,
    "start_time": "2021-12-10T14:32:46.173Z"
   },
   {
    "duration": 6,
    "start_time": "2021-12-10T14:32:46.229Z"
   },
   {
    "duration": 10,
    "start_time": "2021-12-10T14:32:46.237Z"
   },
   {
    "duration": 15,
    "start_time": "2021-12-10T14:32:46.249Z"
   },
   {
    "duration": 6,
    "start_time": "2021-12-10T14:32:46.267Z"
   },
   {
    "duration": 49,
    "start_time": "2021-12-10T14:32:46.275Z"
   },
   {
    "duration": 16,
    "start_time": "2021-12-10T14:32:46.327Z"
   },
   {
    "duration": 7,
    "start_time": "2021-12-10T14:32:46.346Z"
   },
   {
    "duration": 10,
    "start_time": "2021-12-10T14:32:46.355Z"
   },
   {
    "duration": 51,
    "start_time": "2021-12-10T14:32:46.367Z"
   },
   {
    "duration": 10,
    "start_time": "2021-12-10T14:32:46.426Z"
   },
   {
    "duration": 9,
    "start_time": "2021-12-10T14:32:46.439Z"
   },
   {
    "duration": 19,
    "start_time": "2021-12-10T14:32:46.450Z"
   },
   {
    "duration": 55,
    "start_time": "2021-12-10T14:32:46.472Z"
   },
   {
    "duration": 7,
    "start_time": "2021-12-10T14:32:46.532Z"
   },
   {
    "duration": 7,
    "start_time": "2021-12-10T14:32:46.542Z"
   },
   {
    "duration": 9,
    "start_time": "2021-12-10T14:32:46.552Z"
   },
   {
    "duration": 60,
    "start_time": "2021-12-10T14:32:46.563Z"
   },
   {
    "duration": 15,
    "start_time": "2021-12-10T14:32:46.626Z"
   },
   {
    "duration": 8,
    "start_time": "2021-12-10T14:32:46.644Z"
   },
   {
    "duration": 11,
    "start_time": "2021-12-10T14:32:46.656Z"
   },
   {
    "duration": 77,
    "start_time": "2021-12-10T14:32:46.670Z"
   },
   {
    "duration": 16,
    "start_time": "2021-12-10T14:32:46.749Z"
   },
   {
    "duration": 9,
    "start_time": "2021-12-10T14:32:46.767Z"
   },
   {
    "duration": 6,
    "start_time": "2021-12-10T14:32:46.779Z"
   },
   {
    "duration": 25,
    "start_time": "2021-12-10T14:32:46.817Z"
   },
   {
    "duration": 15,
    "start_time": "2021-12-10T14:32:46.844Z"
   },
   {
    "duration": 6,
    "start_time": "2021-12-10T14:32:46.862Z"
   },
   {
    "duration": 61,
    "start_time": "2021-12-10T14:32:46.871Z"
   },
   {
    "duration": 8,
    "start_time": "2021-12-10T14:32:46.934Z"
   },
   {
    "duration": 36,
    "start_time": "2021-12-10T14:32:46.944Z"
   },
   {
    "duration": 45,
    "start_time": "2021-12-10T14:32:46.983Z"
   },
   {
    "duration": 10,
    "start_time": "2021-12-10T14:32:47.032Z"
   },
   {
    "duration": 1081,
    "start_time": "2021-12-10T14:32:47.044Z"
   },
   {
    "duration": 8,
    "start_time": "2021-12-10T14:32:48.129Z"
   },
   {
    "duration": 6,
    "start_time": "2021-12-10T14:32:48.139Z"
   },
   {
    "duration": 22,
    "start_time": "2021-12-10T14:32:48.147Z"
   },
   {
    "duration": 3932,
    "start_time": "2021-12-10T14:32:48.172Z"
   },
   {
    "duration": 12,
    "start_time": "2021-12-10T14:32:52.107Z"
   },
   {
    "duration": 23,
    "start_time": "2021-12-10T14:32:52.123Z"
   },
   {
    "duration": 13,
    "start_time": "2021-12-10T14:32:52.149Z"
   },
   {
    "duration": 297,
    "start_time": "2021-12-10T14:44:42.684Z"
   },
   {
    "duration": 15,
    "start_time": "2021-12-10T14:44:52.736Z"
   },
   {
    "duration": 11,
    "start_time": "2021-12-10T14:54:11.367Z"
   },
   {
    "duration": 15,
    "start_time": "2021-12-10T14:54:45.299Z"
   },
   {
    "duration": 15,
    "start_time": "2021-12-10T14:54:50.674Z"
   },
   {
    "duration": 27,
    "start_time": "2021-12-10T14:55:02.471Z"
   },
   {
    "duration": 69,
    "start_time": "2021-12-10T14:58:39.128Z"
   },
   {
    "duration": 7,
    "start_time": "2021-12-10T14:58:49.857Z"
   },
   {
    "duration": 62,
    "start_time": "2021-12-10T14:59:40.175Z"
   },
   {
    "duration": 365,
    "start_time": "2021-12-10T15:00:14.333Z"
   },
   {
    "duration": 59,
    "start_time": "2021-12-10T15:00:33.602Z"
   },
   {
    "duration": 6,
    "start_time": "2021-12-10T15:00:35.729Z"
   },
   {
    "duration": 10,
    "start_time": "2021-12-10T15:01:16.824Z"
   },
   {
    "duration": 11,
    "start_time": "2021-12-10T15:01:56.556Z"
   },
   {
    "duration": 60,
    "start_time": "2021-12-10T15:02:04.991Z"
   },
   {
    "duration": 6,
    "start_time": "2021-12-10T15:02:07.622Z"
   },
   {
    "duration": 98,
    "start_time": "2021-12-10T15:02:12.719Z"
   },
   {
    "duration": 19,
    "start_time": "2021-12-10T15:02:12.819Z"
   },
   {
    "duration": 7,
    "start_time": "2021-12-10T15:02:12.841Z"
   },
   {
    "duration": 11,
    "start_time": "2021-12-10T15:02:12.850Z"
   },
   {
    "duration": 11,
    "start_time": "2021-12-10T15:02:12.864Z"
   },
   {
    "duration": 49,
    "start_time": "2021-12-10T15:02:12.877Z"
   },
   {
    "duration": 8,
    "start_time": "2021-12-10T15:02:12.928Z"
   },
   {
    "duration": 14,
    "start_time": "2021-12-10T15:02:12.940Z"
   },
   {
    "duration": 21,
    "start_time": "2021-12-10T15:02:12.957Z"
   },
   {
    "duration": 46,
    "start_time": "2021-12-10T15:02:12.980Z"
   },
   {
    "duration": 6,
    "start_time": "2021-12-10T15:02:13.028Z"
   },
   {
    "duration": 15,
    "start_time": "2021-12-10T15:02:13.036Z"
   },
   {
    "duration": 9,
    "start_time": "2021-12-10T15:02:13.065Z"
   },
   {
    "duration": 63,
    "start_time": "2021-12-10T15:02:13.202Z"
   },
   {
    "duration": 63,
    "start_time": "2021-12-10T15:02:41.750Z"
   },
   {
    "duration": 6,
    "start_time": "2021-12-10T15:02:45.553Z"
   },
   {
    "duration": 85,
    "start_time": "2021-12-10T15:02:55.553Z"
   },
   {
    "duration": 19,
    "start_time": "2021-12-10T15:02:55.640Z"
   },
   {
    "duration": 7,
    "start_time": "2021-12-10T15:02:55.662Z"
   },
   {
    "duration": 8,
    "start_time": "2021-12-10T15:02:55.672Z"
   },
   {
    "duration": 46,
    "start_time": "2021-12-10T15:02:55.682Z"
   },
   {
    "duration": 8,
    "start_time": "2021-12-10T15:02:55.731Z"
   },
   {
    "duration": 8,
    "start_time": "2021-12-10T15:02:55.742Z"
   },
   {
    "duration": 67,
    "start_time": "2021-12-10T15:02:55.754Z"
   },
   {
    "duration": 22,
    "start_time": "2021-12-10T15:02:55.823Z"
   },
   {
    "duration": 12,
    "start_time": "2021-12-10T15:02:55.848Z"
   },
   {
    "duration": 6,
    "start_time": "2021-12-10T15:02:55.863Z"
   },
   {
    "duration": 53,
    "start_time": "2021-12-10T15:02:55.871Z"
   },
   {
    "duration": 12,
    "start_time": "2021-12-10T15:02:55.926Z"
   },
   {
    "duration": 100,
    "start_time": "2021-12-10T15:02:55.940Z"
   },
   {
    "duration": 6,
    "start_time": "2021-12-10T15:02:56.042Z"
   },
   {
    "duration": 11,
    "start_time": "2021-12-10T15:02:56.050Z"
   },
   {
    "duration": 7,
    "start_time": "2021-12-10T15:02:56.063Z"
   },
   {
    "duration": 49,
    "start_time": "2021-12-10T15:02:56.073Z"
   },
   {
    "duration": 7,
    "start_time": "2021-12-10T15:02:56.125Z"
   },
   {
    "duration": 8,
    "start_time": "2021-12-10T15:02:56.135Z"
   },
   {
    "duration": 9,
    "start_time": "2021-12-10T15:02:56.146Z"
   },
   {
    "duration": 74,
    "start_time": "2021-12-10T15:02:56.158Z"
   },
   {
    "duration": 12,
    "start_time": "2021-12-10T15:02:56.238Z"
   },
   {
    "duration": 19,
    "start_time": "2021-12-10T15:02:56.254Z"
   },
   {
    "duration": 12,
    "start_time": "2021-12-10T15:02:56.275Z"
   },
   {
    "duration": 29,
    "start_time": "2021-12-10T15:02:56.289Z"
   },
   {
    "duration": 19,
    "start_time": "2021-12-10T15:02:56.321Z"
   },
   {
    "duration": 13,
    "start_time": "2021-12-10T15:02:56.343Z"
   },
   {
    "duration": 8,
    "start_time": "2021-12-10T15:02:56.359Z"
   },
   {
    "duration": 50,
    "start_time": "2021-12-10T15:02:56.369Z"
   },
   {
    "duration": 34,
    "start_time": "2021-12-10T15:02:56.421Z"
   },
   {
    "duration": 15,
    "start_time": "2021-12-10T15:02:56.457Z"
   },
   {
    "duration": 18,
    "start_time": "2021-12-10T15:02:56.474Z"
   },
   {
    "duration": 28,
    "start_time": "2021-12-10T15:02:56.495Z"
   },
   {
    "duration": 23,
    "start_time": "2021-12-10T15:02:56.526Z"
   },
   {
    "duration": 18,
    "start_time": "2021-12-10T15:02:56.552Z"
   },
   {
    "duration": 6,
    "start_time": "2021-12-10T15:02:56.573Z"
   },
   {
    "duration": 20,
    "start_time": "2021-12-10T15:02:56.617Z"
   },
   {
    "duration": 9,
    "start_time": "2021-12-10T15:02:56.639Z"
   },
   {
    "duration": 66,
    "start_time": "2021-12-10T15:02:56.650Z"
   },
   {
    "duration": 8,
    "start_time": "2021-12-10T15:02:56.719Z"
   },
   {
    "duration": 13,
    "start_time": "2021-12-10T15:02:56.729Z"
   },
   {
    "duration": 1127,
    "start_time": "2021-12-10T15:02:56.744Z"
   },
   {
    "duration": 7,
    "start_time": "2021-12-10T15:02:57.874Z"
   },
   {
    "duration": 7,
    "start_time": "2021-12-10T15:02:57.883Z"
   },
   {
    "duration": 36,
    "start_time": "2021-12-10T15:02:57.892Z"
   },
   {
    "duration": 3610,
    "start_time": "2021-12-10T15:02:57.930Z"
   },
   {
    "duration": 8,
    "start_time": "2021-12-10T15:03:01.543Z"
   },
   {
    "duration": 25,
    "start_time": "2021-12-10T15:03:01.553Z"
   },
   {
    "duration": 37,
    "start_time": "2021-12-10T15:03:01.580Z"
   },
   {
    "duration": 6,
    "start_time": "2021-12-10T15:04:07.312Z"
   },
   {
    "duration": 6,
    "start_time": "2021-12-10T15:05:20.777Z"
   },
   {
    "duration": 91,
    "start_time": "2021-12-10T15:05:33.917Z"
   },
   {
    "duration": 25,
    "start_time": "2021-12-10T15:05:34.010Z"
   },
   {
    "duration": 24,
    "start_time": "2021-12-10T15:05:34.038Z"
   },
   {
    "duration": 27,
    "start_time": "2021-12-10T15:05:34.064Z"
   },
   {
    "duration": 13,
    "start_time": "2021-12-10T15:05:34.094Z"
   },
   {
    "duration": 9,
    "start_time": "2021-12-10T15:05:34.110Z"
   },
   {
    "duration": 15,
    "start_time": "2021-12-10T15:05:34.122Z"
   },
   {
    "duration": 18,
    "start_time": "2021-12-10T15:05:34.140Z"
   },
   {
    "duration": 22,
    "start_time": "2021-12-10T15:05:34.160Z"
   },
   {
    "duration": 44,
    "start_time": "2021-12-10T15:05:34.185Z"
   },
   {
    "duration": 6,
    "start_time": "2021-12-10T15:05:34.232Z"
   },
   {
    "duration": 17,
    "start_time": "2021-12-10T15:05:34.241Z"
   },
   {
    "duration": 18,
    "start_time": "2021-12-10T15:05:34.261Z"
   },
   {
    "duration": 95,
    "start_time": "2021-12-10T15:05:34.283Z"
   },
   {
    "duration": 6,
    "start_time": "2021-12-10T15:05:34.381Z"
   },
   {
    "duration": 9,
    "start_time": "2021-12-10T15:05:57.082Z"
   },
   {
    "duration": 87,
    "start_time": "2021-12-10T15:06:08.959Z"
   },
   {
    "duration": 20,
    "start_time": "2021-12-10T15:06:09.049Z"
   },
   {
    "duration": 7,
    "start_time": "2021-12-10T15:06:09.072Z"
   },
   {
    "duration": 41,
    "start_time": "2021-12-10T15:06:09.082Z"
   },
   {
    "duration": 13,
    "start_time": "2021-12-10T15:06:09.126Z"
   },
   {
    "duration": 6,
    "start_time": "2021-12-10T15:06:09.142Z"
   },
   {
    "duration": 7,
    "start_time": "2021-12-10T15:06:09.151Z"
   },
   {
    "duration": 70,
    "start_time": "2021-12-10T15:06:09.162Z"
   },
   {
    "duration": 31,
    "start_time": "2021-12-10T15:06:09.235Z"
   },
   {
    "duration": 16,
    "start_time": "2021-12-10T15:06:09.269Z"
   },
   {
    "duration": 31,
    "start_time": "2021-12-10T15:06:09.287Z"
   },
   {
    "duration": 9,
    "start_time": "2021-12-10T15:06:09.334Z"
   },
   {
    "duration": 15,
    "start_time": "2021-12-10T15:06:09.346Z"
   },
   {
    "duration": 94,
    "start_time": "2021-12-10T15:06:09.364Z"
   },
   {
    "duration": 6,
    "start_time": "2021-12-10T15:06:09.461Z"
   },
   {
    "duration": 7,
    "start_time": "2021-12-10T15:06:44.867Z"
   },
   {
    "duration": 119,
    "start_time": "2021-12-10T15:06:53.139Z"
   },
   {
    "duration": 26,
    "start_time": "2021-12-10T15:06:53.261Z"
   },
   {
    "duration": 26,
    "start_time": "2021-12-10T15:06:53.291Z"
   },
   {
    "duration": 9,
    "start_time": "2021-12-10T15:06:53.320Z"
   },
   {
    "duration": 13,
    "start_time": "2021-12-10T15:06:53.332Z"
   },
   {
    "duration": 7,
    "start_time": "2021-12-10T15:06:53.348Z"
   },
   {
    "duration": 7,
    "start_time": "2021-12-10T15:06:53.358Z"
   },
   {
    "duration": 59,
    "start_time": "2021-12-10T15:06:53.370Z"
   },
   {
    "duration": 21,
    "start_time": "2021-12-10T15:06:53.432Z"
   },
   {
    "duration": 12,
    "start_time": "2021-12-10T15:06:53.456Z"
   },
   {
    "duration": 6,
    "start_time": "2021-12-10T15:06:53.470Z"
   },
   {
    "duration": 7,
    "start_time": "2021-12-10T15:06:53.518Z"
   },
   {
    "duration": 13,
    "start_time": "2021-12-10T15:06:53.527Z"
   },
   {
    "duration": 93,
    "start_time": "2021-12-10T15:06:53.542Z"
   },
   {
    "duration": 6,
    "start_time": "2021-12-10T15:06:53.637Z"
   },
   {
    "duration": 89,
    "start_time": "2021-12-10T15:07:03.769Z"
   },
   {
    "duration": 21,
    "start_time": "2021-12-10T15:07:03.862Z"
   },
   {
    "duration": 8,
    "start_time": "2021-12-10T15:07:03.888Z"
   },
   {
    "duration": 7,
    "start_time": "2021-12-10T15:07:03.918Z"
   },
   {
    "duration": 10,
    "start_time": "2021-12-10T15:07:03.927Z"
   },
   {
    "duration": 11,
    "start_time": "2021-12-10T15:07:03.940Z"
   },
   {
    "duration": 10,
    "start_time": "2021-12-10T15:07:03.955Z"
   },
   {
    "duration": 59,
    "start_time": "2021-12-10T15:07:03.969Z"
   },
   {
    "duration": 22,
    "start_time": "2021-12-10T15:07:04.030Z"
   },
   {
    "duration": 12,
    "start_time": "2021-12-10T15:07:04.055Z"
   },
   {
    "duration": 5,
    "start_time": "2021-12-10T15:07:04.070Z"
   },
   {
    "duration": 7,
    "start_time": "2021-12-10T15:07:04.119Z"
   },
   {
    "duration": 13,
    "start_time": "2021-12-10T15:07:04.129Z"
   },
   {
    "duration": 92,
    "start_time": "2021-12-10T15:07:04.144Z"
   },
   {
    "duration": 6,
    "start_time": "2021-12-10T15:07:04.238Z"
   },
   {
    "duration": 8,
    "start_time": "2021-12-10T15:07:21.440Z"
   },
   {
    "duration": 8,
    "start_time": "2021-12-10T15:07:31.422Z"
   },
   {
    "duration": 92,
    "start_time": "2021-12-10T15:07:37.989Z"
   },
   {
    "duration": 43,
    "start_time": "2021-12-10T15:07:38.085Z"
   },
   {
    "duration": 7,
    "start_time": "2021-12-10T15:07:38.131Z"
   },
   {
    "duration": 8,
    "start_time": "2021-12-10T15:07:38.141Z"
   },
   {
    "duration": 13,
    "start_time": "2021-12-10T15:07:38.151Z"
   },
   {
    "duration": 56,
    "start_time": "2021-12-10T15:07:38.167Z"
   },
   {
    "duration": 11,
    "start_time": "2021-12-10T15:07:38.226Z"
   },
   {
    "duration": 15,
    "start_time": "2021-12-10T15:07:38.243Z"
   },
   {
    "duration": 67,
    "start_time": "2021-12-10T15:07:38.261Z"
   },
   {
    "duration": 13,
    "start_time": "2021-12-10T15:07:38.330Z"
   },
   {
    "duration": 6,
    "start_time": "2021-12-10T15:07:38.346Z"
   },
   {
    "duration": 8,
    "start_time": "2021-12-10T15:07:38.355Z"
   },
   {
    "duration": 57,
    "start_time": "2021-12-10T15:07:38.365Z"
   },
   {
    "duration": 59,
    "start_time": "2021-12-10T15:07:38.425Z"
   },
   {
    "duration": 5,
    "start_time": "2021-12-10T15:07:38.487Z"
   },
   {
    "duration": 8,
    "start_time": "2021-12-10T15:07:38.518Z"
   },
   {
    "duration": 6,
    "start_time": "2021-12-10T15:07:38.529Z"
   },
   {
    "duration": 20,
    "start_time": "2021-12-10T15:07:38.537Z"
   },
   {
    "duration": 9,
    "start_time": "2021-12-10T15:07:38.559Z"
   },
   {
    "duration": 22,
    "start_time": "2021-12-10T15:07:38.571Z"
   },
   {
    "duration": 31,
    "start_time": "2021-12-10T15:07:38.595Z"
   },
   {
    "duration": 22,
    "start_time": "2021-12-10T15:07:38.629Z"
   },
   {
    "duration": 12,
    "start_time": "2021-12-10T15:07:38.657Z"
   },
   {
    "duration": 18,
    "start_time": "2021-12-10T15:07:38.672Z"
   },
   {
    "duration": 5,
    "start_time": "2021-12-10T15:07:38.718Z"
   },
   {
    "duration": 6,
    "start_time": "2021-12-10T15:07:38.726Z"
   },
   {
    "duration": 16,
    "start_time": "2021-12-10T15:07:38.734Z"
   },
   {
    "duration": 13,
    "start_time": "2021-12-10T15:07:38.753Z"
   },
   {
    "duration": 51,
    "start_time": "2021-12-10T15:07:38.768Z"
   },
   {
    "duration": 11,
    "start_time": "2021-12-10T15:07:38.821Z"
   },
   {
    "duration": 118,
    "start_time": "2021-12-10T15:07:38.835Z"
   },
   {
    "duration": 15,
    "start_time": "2021-12-10T15:07:38.956Z"
   },
   {
    "duration": 9,
    "start_time": "2021-12-10T15:07:38.973Z"
   },
   {
    "duration": 32,
    "start_time": "2021-12-10T15:07:38.985Z"
   },
   {
    "duration": 17,
    "start_time": "2021-12-10T15:07:39.020Z"
   },
   {
    "duration": 17,
    "start_time": "2021-12-10T15:07:39.040Z"
   },
   {
    "duration": 9,
    "start_time": "2021-12-10T15:07:39.060Z"
   },
   {
    "duration": 62,
    "start_time": "2021-12-10T15:07:39.071Z"
   },
   {
    "duration": 16,
    "start_time": "2021-12-10T15:07:39.135Z"
   },
   {
    "duration": 40,
    "start_time": "2021-12-10T15:07:39.154Z"
   },
   {
    "duration": 10,
    "start_time": "2021-12-10T15:07:39.218Z"
   },
   {
    "duration": 10,
    "start_time": "2021-12-10T15:07:39.231Z"
   },
   {
    "duration": 1045,
    "start_time": "2021-12-10T15:07:39.243Z"
   },
   {
    "duration": 8,
    "start_time": "2021-12-10T15:07:40.292Z"
   },
   {
    "duration": 8,
    "start_time": "2021-12-10T15:07:40.318Z"
   },
   {
    "duration": 24,
    "start_time": "2021-12-10T15:07:40.328Z"
   },
   {
    "duration": 3740,
    "start_time": "2021-12-10T15:07:40.355Z"
   },
   {
    "duration": 22,
    "start_time": "2021-12-10T15:07:44.098Z"
   },
   {
    "duration": 24,
    "start_time": "2021-12-10T15:07:44.123Z"
   },
   {
    "duration": 12,
    "start_time": "2021-12-10T15:07:44.150Z"
   },
   {
    "duration": 8,
    "start_time": "2021-12-10T15:08:34.154Z"
   },
   {
    "duration": 9,
    "start_time": "2021-12-10T15:08:42.406Z"
   },
   {
    "duration": 92,
    "start_time": "2021-12-10T15:08:50.089Z"
   },
   {
    "duration": 37,
    "start_time": "2021-12-10T15:08:50.183Z"
   },
   {
    "duration": 7,
    "start_time": "2021-12-10T15:08:50.223Z"
   },
   {
    "duration": 10,
    "start_time": "2021-12-10T15:08:50.233Z"
   },
   {
    "duration": 10,
    "start_time": "2021-12-10T15:08:50.245Z"
   },
   {
    "duration": 6,
    "start_time": "2021-12-10T15:08:50.258Z"
   },
   {
    "duration": 52,
    "start_time": "2021-12-10T15:08:50.267Z"
   },
   {
    "duration": 15,
    "start_time": "2021-12-10T15:08:50.322Z"
   },
   {
    "duration": 21,
    "start_time": "2021-12-10T15:08:50.340Z"
   },
   {
    "duration": 13,
    "start_time": "2021-12-10T15:08:50.363Z"
   },
   {
    "duration": 9,
    "start_time": "2021-12-10T15:08:50.418Z"
   },
   {
    "duration": 9,
    "start_time": "2021-12-10T15:08:50.430Z"
   },
   {
    "duration": 13,
    "start_time": "2021-12-10T15:08:50.442Z"
   },
   {
    "duration": 107,
    "start_time": "2021-12-10T15:08:50.458Z"
   },
   {
    "duration": 7,
    "start_time": "2021-12-10T15:08:50.568Z"
   },
   {
    "duration": 9,
    "start_time": "2021-12-10T15:08:56.571Z"
   },
   {
    "duration": 9,
    "start_time": "2021-12-10T15:09:16.594Z"
   },
   {
    "duration": 9,
    "start_time": "2021-12-10T15:09:51.298Z"
   },
   {
    "duration": 779,
    "start_time": "2021-12-10T15:10:23.351Z"
   },
   {
    "duration": 25,
    "start_time": "2021-12-10T15:10:24.133Z"
   },
   {
    "duration": 13,
    "start_time": "2021-12-10T15:10:24.162Z"
   },
   {
    "duration": 42,
    "start_time": "2021-12-10T15:10:24.177Z"
   },
   {
    "duration": 13,
    "start_time": "2021-12-10T15:10:24.222Z"
   },
   {
    "duration": 6,
    "start_time": "2021-12-10T15:10:24.237Z"
   },
   {
    "duration": 6,
    "start_time": "2021-12-10T15:10:24.245Z"
   },
   {
    "duration": 15,
    "start_time": "2021-12-10T15:10:24.254Z"
   },
   {
    "duration": 66,
    "start_time": "2021-12-10T15:10:24.273Z"
   },
   {
    "duration": 14,
    "start_time": "2021-12-10T15:10:24.342Z"
   },
   {
    "duration": 8,
    "start_time": "2021-12-10T15:10:24.359Z"
   },
   {
    "duration": 50,
    "start_time": "2021-12-10T15:10:24.369Z"
   },
   {
    "duration": 16,
    "start_time": "2021-12-10T15:10:24.422Z"
   },
   {
    "duration": 92,
    "start_time": "2021-12-10T15:10:24.441Z"
   },
   {
    "duration": 6,
    "start_time": "2021-12-10T15:10:24.535Z"
   },
   {
    "duration": 15,
    "start_time": "2021-12-10T15:10:24.543Z"
   },
   {
    "duration": 9,
    "start_time": "2021-12-10T15:10:24.561Z"
   },
   {
    "duration": 17,
    "start_time": "2021-12-10T15:10:24.572Z"
   },
   {
    "duration": 29,
    "start_time": "2021-12-10T15:10:24.592Z"
   },
   {
    "duration": 9,
    "start_time": "2021-12-10T15:10:24.623Z"
   },
   {
    "duration": 15,
    "start_time": "2021-12-10T15:10:24.634Z"
   },
   {
    "duration": 27,
    "start_time": "2021-12-10T15:10:24.651Z"
   },
   {
    "duration": 37,
    "start_time": "2021-12-10T15:10:24.683Z"
   },
   {
    "duration": 20,
    "start_time": "2021-12-10T15:10:24.723Z"
   },
   {
    "duration": 6,
    "start_time": "2021-12-10T15:10:24.746Z"
   },
   {
    "duration": 8,
    "start_time": "2021-12-10T15:10:24.754Z"
   },
   {
    "duration": 16,
    "start_time": "2021-12-10T15:10:24.764Z"
   },
   {
    "duration": 46,
    "start_time": "2021-12-10T15:10:24.782Z"
   },
   {
    "duration": 8,
    "start_time": "2021-12-10T15:10:24.830Z"
   },
   {
    "duration": 16,
    "start_time": "2021-12-10T15:10:24.840Z"
   },
   {
    "duration": 60,
    "start_time": "2021-12-10T15:10:24.858Z"
   },
   {
    "duration": 17,
    "start_time": "2021-12-10T15:10:24.921Z"
   },
   {
    "duration": 10,
    "start_time": "2021-12-10T15:10:24.940Z"
   },
   {
    "duration": 7,
    "start_time": "2021-12-10T15:10:24.953Z"
   },
   {
    "duration": 59,
    "start_time": "2021-12-10T15:10:24.962Z"
   },
   {
    "duration": 18,
    "start_time": "2021-12-10T15:10:25.023Z"
   },
   {
    "duration": 7,
    "start_time": "2021-12-10T15:10:25.043Z"
   },
   {
    "duration": 24,
    "start_time": "2021-12-10T15:10:25.053Z"
   },
   {
    "duration": 42,
    "start_time": "2021-12-10T15:10:25.079Z"
   },
   {
    "duration": 40,
    "start_time": "2021-12-10T15:10:25.124Z"
   },
   {
    "duration": 8,
    "start_time": "2021-12-10T15:10:25.166Z"
   },
   {
    "duration": 43,
    "start_time": "2021-12-10T15:10:25.176Z"
   },
   {
    "duration": 961,
    "start_time": "2021-12-10T15:10:25.221Z"
   },
   {
    "duration": 6,
    "start_time": "2021-12-10T15:10:26.185Z"
   },
   {
    "duration": 24,
    "start_time": "2021-12-10T15:10:26.194Z"
   },
   {
    "duration": 26,
    "start_time": "2021-12-10T15:10:26.221Z"
   },
   {
    "duration": 3628,
    "start_time": "2021-12-10T15:10:26.250Z"
   },
   {
    "duration": 6,
    "start_time": "2021-12-10T15:10:29.881Z"
   },
   {
    "duration": 40,
    "start_time": "2021-12-10T15:10:29.890Z"
   },
   {
    "duration": 10,
    "start_time": "2021-12-10T15:10:29.933Z"
   },
   {
    "duration": 8,
    "start_time": "2021-12-10T15:11:10.812Z"
   },
   {
    "duration": 89,
    "start_time": "2021-12-10T15:11:20.828Z"
   },
   {
    "duration": 20,
    "start_time": "2021-12-10T15:11:20.919Z"
   },
   {
    "duration": 7,
    "start_time": "2021-12-10T15:11:20.941Z"
   },
   {
    "duration": 15,
    "start_time": "2021-12-10T15:11:20.950Z"
   },
   {
    "duration": 50,
    "start_time": "2021-12-10T15:11:20.968Z"
   },
   {
    "duration": 5,
    "start_time": "2021-12-10T15:11:21.021Z"
   },
   {
    "duration": 8,
    "start_time": "2021-12-10T15:11:21.029Z"
   },
   {
    "duration": 19,
    "start_time": "2021-12-10T15:11:21.040Z"
   },
   {
    "duration": 22,
    "start_time": "2021-12-10T15:11:21.061Z"
   },
   {
    "duration": 44,
    "start_time": "2021-12-10T15:11:21.085Z"
   },
   {
    "duration": 6,
    "start_time": "2021-12-10T15:11:21.131Z"
   },
   {
    "duration": 9,
    "start_time": "2021-12-10T15:11:21.139Z"
   },
   {
    "duration": 11,
    "start_time": "2021-12-10T15:11:21.151Z"
   },
   {
    "duration": 112,
    "start_time": "2021-12-10T15:11:21.165Z"
   },
   {
    "duration": 6,
    "start_time": "2021-12-10T15:11:21.279Z"
   },
   {
    "duration": 28,
    "start_time": "2021-12-10T15:11:21.288Z"
   },
   {
    "duration": 6,
    "start_time": "2021-12-10T15:11:21.319Z"
   },
   {
    "duration": 10,
    "start_time": "2021-12-10T15:11:21.327Z"
   },
   {
    "duration": 10,
    "start_time": "2021-12-10T15:11:32.227Z"
   },
   {
    "duration": 835,
    "start_time": "2021-12-10T15:11:51.258Z"
   },
   {
    "duration": 27,
    "start_time": "2021-12-10T15:11:52.095Z"
   },
   {
    "duration": 12,
    "start_time": "2021-12-10T15:11:52.126Z"
   },
   {
    "duration": 17,
    "start_time": "2021-12-10T15:11:52.141Z"
   },
   {
    "duration": 27,
    "start_time": "2021-12-10T15:11:52.161Z"
   },
   {
    "duration": 8,
    "start_time": "2021-12-10T15:11:52.190Z"
   },
   {
    "duration": 7,
    "start_time": "2021-12-10T15:11:52.217Z"
   },
   {
    "duration": 24,
    "start_time": "2021-12-10T15:11:52.227Z"
   },
   {
    "duration": 23,
    "start_time": "2021-12-10T15:11:52.254Z"
   },
   {
    "duration": 41,
    "start_time": "2021-12-10T15:11:52.279Z"
   },
   {
    "duration": 7,
    "start_time": "2021-12-10T15:11:52.322Z"
   },
   {
    "duration": 9,
    "start_time": "2021-12-10T15:11:52.332Z"
   },
   {
    "duration": 24,
    "start_time": "2021-12-10T15:11:52.343Z"
   },
   {
    "duration": 100,
    "start_time": "2021-12-10T15:11:52.370Z"
   },
   {
    "duration": 5,
    "start_time": "2021-12-10T15:11:52.473Z"
   },
   {
    "duration": 17,
    "start_time": "2021-12-10T15:11:52.480Z"
   },
   {
    "duration": 19,
    "start_time": "2021-12-10T15:11:52.499Z"
   },
   {
    "duration": 11,
    "start_time": "2021-12-10T15:11:52.522Z"
   },
   {
    "duration": 6,
    "start_time": "2021-12-10T15:11:52.536Z"
   },
   {
    "duration": 8,
    "start_time": "2021-12-10T15:11:52.545Z"
   },
   {
    "duration": 13,
    "start_time": "2021-12-10T15:11:52.556Z"
   },
   {
    "duration": 64,
    "start_time": "2021-12-10T15:11:52.571Z"
   },
   {
    "duration": 12,
    "start_time": "2021-12-10T15:11:52.640Z"
   },
   {
    "duration": 12,
    "start_time": "2021-12-10T15:11:52.655Z"
   },
   {
    "duration": 6,
    "start_time": "2021-12-10T15:11:52.669Z"
   },
   {
    "duration": 7,
    "start_time": "2021-12-10T15:11:52.718Z"
   },
   {
    "duration": 16,
    "start_time": "2021-12-10T15:11:52.727Z"
   },
   {
    "duration": 12,
    "start_time": "2021-12-10T15:11:52.746Z"
   },
   {
    "duration": 8,
    "start_time": "2021-12-10T15:11:52.760Z"
   },
   {
    "duration": 57,
    "start_time": "2021-12-10T15:11:52.770Z"
   },
   {
    "duration": 29,
    "start_time": "2021-12-10T15:11:52.829Z"
   },
   {
    "duration": 18,
    "start_time": "2021-12-10T15:11:52.861Z"
   },
   {
    "duration": 42,
    "start_time": "2021-12-10T15:11:52.882Z"
   },
   {
    "duration": 6,
    "start_time": "2021-12-10T15:11:52.926Z"
   },
   {
    "duration": 19,
    "start_time": "2021-12-10T15:11:52.934Z"
   },
   {
    "duration": 16,
    "start_time": "2021-12-10T15:11:52.955Z"
   },
   {
    "duration": 45,
    "start_time": "2021-12-10T15:11:52.974Z"
   },
   {
    "duration": 23,
    "start_time": "2021-12-10T15:11:53.021Z"
   },
   {
    "duration": 7,
    "start_time": "2021-12-10T15:11:53.047Z"
   },
   {
    "duration": 67,
    "start_time": "2021-12-10T15:11:53.056Z"
   },
   {
    "duration": 7,
    "start_time": "2021-12-10T15:11:53.125Z"
   },
   {
    "duration": 7,
    "start_time": "2021-12-10T15:11:53.135Z"
   },
   {
    "duration": 964,
    "start_time": "2021-12-10T15:11:53.145Z"
   },
   {
    "duration": 9,
    "start_time": "2021-12-10T15:11:54.113Z"
   },
   {
    "duration": 17,
    "start_time": "2021-12-10T15:11:54.125Z"
   },
   {
    "duration": 22,
    "start_time": "2021-12-10T15:11:54.145Z"
   },
   {
    "duration": 3718,
    "start_time": "2021-12-10T15:11:54.170Z"
   },
   {
    "duration": 7,
    "start_time": "2021-12-10T15:11:57.890Z"
   },
   {
    "duration": 26,
    "start_time": "2021-12-10T15:11:57.899Z"
   },
   {
    "duration": 11,
    "start_time": "2021-12-10T15:11:57.927Z"
   },
   {
    "duration": 9,
    "start_time": "2021-12-10T15:12:11.455Z"
   },
   {
    "duration": 800,
    "start_time": "2021-12-10T15:12:58.108Z"
   },
   {
    "duration": 25,
    "start_time": "2021-12-10T15:12:58.911Z"
   },
   {
    "duration": 11,
    "start_time": "2021-12-10T15:12:58.939Z"
   },
   {
    "duration": 10,
    "start_time": "2021-12-10T15:12:58.953Z"
   },
   {
    "duration": 52,
    "start_time": "2021-12-10T15:12:58.966Z"
   },
   {
    "duration": 6,
    "start_time": "2021-12-10T15:12:59.020Z"
   },
   {
    "duration": 7,
    "start_time": "2021-12-10T15:12:59.028Z"
   },
   {
    "duration": 14,
    "start_time": "2021-12-10T15:12:59.039Z"
   },
   {
    "duration": 60,
    "start_time": "2021-12-10T15:12:59.056Z"
   },
   {
    "duration": 13,
    "start_time": "2021-12-10T15:12:59.118Z"
   },
   {
    "duration": 7,
    "start_time": "2021-12-10T15:12:59.133Z"
   },
   {
    "duration": 9,
    "start_time": "2021-12-10T15:12:59.142Z"
   },
   {
    "duration": 11,
    "start_time": "2021-12-10T15:12:59.153Z"
   },
   {
    "duration": 164,
    "start_time": "2021-12-10T15:12:59.167Z"
   },
   {
    "duration": 5,
    "start_time": "2021-12-10T15:12:59.333Z"
   },
   {
    "duration": 10,
    "start_time": "2021-12-10T15:12:59.341Z"
   },
   {
    "duration": 7,
    "start_time": "2021-12-10T15:12:59.354Z"
   },
   {
    "duration": 60,
    "start_time": "2021-12-10T15:12:59.363Z"
   },
   {
    "duration": 5,
    "start_time": "2021-12-10T15:12:59.425Z"
   },
   {
    "duration": 7,
    "start_time": "2021-12-10T15:12:59.433Z"
   },
   {
    "duration": 8,
    "start_time": "2021-12-10T15:12:59.442Z"
   },
   {
    "duration": 79,
    "start_time": "2021-12-10T15:12:59.453Z"
   },
   {
    "duration": 17,
    "start_time": "2021-12-10T15:12:59.540Z"
   },
   {
    "duration": 63,
    "start_time": "2021-12-10T15:12:59.560Z"
   },
   {
    "duration": 7,
    "start_time": "2021-12-10T15:12:59.626Z"
   },
   {
    "duration": 7,
    "start_time": "2021-12-10T15:12:59.636Z"
   },
   {
    "duration": 15,
    "start_time": "2021-12-10T15:12:59.645Z"
   },
   {
    "duration": 13,
    "start_time": "2021-12-10T15:12:59.718Z"
   },
   {
    "duration": 8,
    "start_time": "2021-12-10T15:12:59.733Z"
   },
   {
    "duration": 11,
    "start_time": "2021-12-10T15:12:59.743Z"
   },
   {
    "duration": 81,
    "start_time": "2021-12-10T15:12:59.756Z"
   },
   {
    "duration": 16,
    "start_time": "2021-12-10T15:12:59.839Z"
   },
   {
    "duration": 62,
    "start_time": "2021-12-10T15:12:59.857Z"
   },
   {
    "duration": 6,
    "start_time": "2021-12-10T15:12:59.921Z"
   },
   {
    "duration": 17,
    "start_time": "2021-12-10T15:12:59.930Z"
   },
   {
    "duration": 69,
    "start_time": "2021-12-10T15:12:59.949Z"
   },
   {
    "duration": 6,
    "start_time": "2021-12-10T15:13:00.021Z"
   },
   {
    "duration": 25,
    "start_time": "2021-12-10T15:13:00.030Z"
   },
   {
    "duration": 61,
    "start_time": "2021-12-10T15:13:00.057Z"
   },
   {
    "duration": 98,
    "start_time": "2021-12-10T15:13:00.120Z"
   },
   {
    "duration": 7,
    "start_time": "2021-12-10T15:13:00.221Z"
   },
   {
    "duration": 9,
    "start_time": "2021-12-10T15:13:00.231Z"
   },
   {
    "duration": 1151,
    "start_time": "2021-12-10T15:13:00.242Z"
   },
   {
    "duration": 7,
    "start_time": "2021-12-10T15:13:01.396Z"
   },
   {
    "duration": 6,
    "start_time": "2021-12-10T15:13:01.417Z"
   },
   {
    "duration": 27,
    "start_time": "2021-12-10T15:13:01.426Z"
   },
   {
    "duration": 3750,
    "start_time": "2021-12-10T15:13:01.455Z"
   },
   {
    "duration": 15,
    "start_time": "2021-12-10T15:13:05.207Z"
   },
   {
    "duration": 21,
    "start_time": "2021-12-10T15:13:05.225Z"
   },
   {
    "duration": 13,
    "start_time": "2021-12-10T15:13:05.249Z"
   },
   {
    "duration": 9,
    "start_time": "2021-12-10T15:13:21.523Z"
   },
   {
    "duration": 9,
    "start_time": "2021-12-10T15:13:35.004Z"
   },
   {
    "duration": 9,
    "start_time": "2021-12-10T15:13:40.275Z"
   },
   {
    "duration": 6,
    "start_time": "2021-12-10T15:13:49.540Z"
   },
   {
    "duration": 100,
    "start_time": "2021-12-10T15:14:01.918Z"
   },
   {
    "duration": 20,
    "start_time": "2021-12-10T15:14:02.021Z"
   },
   {
    "duration": 8,
    "start_time": "2021-12-10T15:14:02.044Z"
   },
   {
    "duration": 13,
    "start_time": "2021-12-10T15:14:02.054Z"
   },
   {
    "duration": 51,
    "start_time": "2021-12-10T15:14:02.070Z"
   },
   {
    "duration": 6,
    "start_time": "2021-12-10T15:14:02.123Z"
   },
   {
    "duration": 7,
    "start_time": "2021-12-10T15:14:02.132Z"
   },
   {
    "duration": 18,
    "start_time": "2021-12-10T15:14:02.143Z"
   },
   {
    "duration": 67,
    "start_time": "2021-12-10T15:14:02.164Z"
   },
   {
    "duration": 13,
    "start_time": "2021-12-10T15:14:02.234Z"
   },
   {
    "duration": 6,
    "start_time": "2021-12-10T15:14:02.249Z"
   },
   {
    "duration": 13,
    "start_time": "2021-12-10T15:14:02.257Z"
   },
   {
    "duration": 52,
    "start_time": "2021-12-10T15:14:02.273Z"
   },
   {
    "duration": 62,
    "start_time": "2021-12-10T15:14:02.327Z"
   },
   {
    "duration": 27,
    "start_time": "2021-12-10T15:14:02.392Z"
   },
   {
    "duration": 10,
    "start_time": "2021-12-10T15:14:02.421Z"
   },
   {
    "duration": 8,
    "start_time": "2021-12-10T15:14:02.433Z"
   },
   {
    "duration": 12,
    "start_time": "2021-12-10T15:14:02.443Z"
   },
   {
    "duration": 6,
    "start_time": "2021-12-10T15:14:02.457Z"
   },
   {
    "duration": 15,
    "start_time": "2021-12-10T15:14:02.465Z"
   },
   {
    "duration": 9,
    "start_time": "2021-12-10T15:14:02.518Z"
   },
   {
    "duration": 20,
    "start_time": "2021-12-10T15:14:02.529Z"
   },
   {
    "duration": 11,
    "start_time": "2021-12-10T15:14:02.554Z"
   },
   {
    "duration": 14,
    "start_time": "2021-12-10T15:14:02.568Z"
   },
   {
    "duration": 7,
    "start_time": "2021-12-10T15:14:02.617Z"
   },
   {
    "duration": 9,
    "start_time": "2021-12-10T15:14:02.626Z"
   },
   {
    "duration": 17,
    "start_time": "2021-12-10T15:14:02.637Z"
   },
   {
    "duration": 13,
    "start_time": "2021-12-10T15:14:02.656Z"
   },
   {
    "duration": 47,
    "start_time": "2021-12-10T15:14:02.671Z"
   },
   {
    "duration": 10,
    "start_time": "2021-12-10T15:14:02.721Z"
   },
   {
    "duration": 29,
    "start_time": "2021-12-10T15:14:02.733Z"
   },
   {
    "duration": 15,
    "start_time": "2021-12-10T15:14:02.764Z"
   },
   {
    "duration": 44,
    "start_time": "2021-12-10T15:14:02.781Z"
   },
   {
    "duration": 8,
    "start_time": "2021-12-10T15:14:02.827Z"
   },
   {
    "duration": 18,
    "start_time": "2021-12-10T15:14:02.837Z"
   },
   {
    "duration": 19,
    "start_time": "2021-12-10T15:14:02.858Z"
   },
   {
    "duration": 45,
    "start_time": "2021-12-10T15:14:02.879Z"
   },
   {
    "duration": 22,
    "start_time": "2021-12-10T15:14:02.927Z"
   },
   {
    "duration": 7,
    "start_time": "2021-12-10T15:14:02.952Z"
   },
   {
    "duration": 84,
    "start_time": "2021-12-10T15:14:02.961Z"
   },
   {
    "duration": 8,
    "start_time": "2021-12-10T15:14:03.047Z"
   },
   {
    "duration": 9,
    "start_time": "2021-12-10T15:14:03.057Z"
   },
   {
    "duration": 1093,
    "start_time": "2021-12-10T15:14:03.068Z"
   },
   {
    "duration": 7,
    "start_time": "2021-12-10T15:14:04.164Z"
   },
   {
    "duration": 6,
    "start_time": "2021-12-10T15:14:04.173Z"
   },
   {
    "duration": 46,
    "start_time": "2021-12-10T15:14:04.182Z"
   },
   {
    "duration": 4058,
    "start_time": "2021-12-10T15:14:04.230Z"
   },
   {
    "duration": 8,
    "start_time": "2021-12-10T15:14:08.290Z"
   },
   {
    "duration": 35,
    "start_time": "2021-12-10T15:14:08.300Z"
   },
   {
    "duration": 10,
    "start_time": "2021-12-10T15:14:08.338Z"
   },
   {
    "duration": 10,
    "start_time": "2021-12-10T15:14:26.694Z"
   },
   {
    "duration": 62,
    "start_time": "2021-12-10T15:14:37.302Z"
   },
   {
    "duration": 12,
    "start_time": "2021-12-10T15:14:39.063Z"
   },
   {
    "duration": 11,
    "start_time": "2021-12-10T15:25:54.804Z"
   },
   {
    "duration": 33,
    "start_time": "2021-12-10T15:26:05.144Z"
   },
   {
    "duration": 8,
    "start_time": "2021-12-10T15:26:07.715Z"
   },
   {
    "duration": 87,
    "start_time": "2021-12-10T15:26:26.592Z"
   },
   {
    "duration": 36,
    "start_time": "2021-12-10T15:26:26.681Z"
   },
   {
    "duration": 7,
    "start_time": "2021-12-10T15:26:26.721Z"
   },
   {
    "duration": 7,
    "start_time": "2021-12-10T15:26:26.730Z"
   },
   {
    "duration": 13,
    "start_time": "2021-12-10T15:26:26.739Z"
   },
   {
    "duration": 8,
    "start_time": "2021-12-10T15:26:26.754Z"
   },
   {
    "duration": 9,
    "start_time": "2021-12-10T15:26:26.764Z"
   },
   {
    "duration": 50,
    "start_time": "2021-12-10T15:26:26.776Z"
   },
   {
    "duration": 33,
    "start_time": "2021-12-10T15:26:26.828Z"
   },
   {
    "duration": 9,
    "start_time": "2021-12-10T15:27:35.991Z"
   },
   {
    "duration": 24,
    "start_time": "2021-12-10T15:30:38.161Z"
   },
   {
    "duration": 23,
    "start_time": "2021-12-10T15:32:12.308Z"
   },
   {
    "duration": 90,
    "start_time": "2021-12-10T15:32:35.542Z"
   },
   {
    "duration": 22,
    "start_time": "2021-12-10T15:32:35.635Z"
   },
   {
    "duration": 7,
    "start_time": "2021-12-10T15:32:35.661Z"
   },
   {
    "duration": 46,
    "start_time": "2021-12-10T15:32:35.672Z"
   },
   {
    "duration": 12,
    "start_time": "2021-12-10T15:32:35.722Z"
   },
   {
    "duration": 7,
    "start_time": "2021-12-10T15:32:35.737Z"
   },
   {
    "duration": 8,
    "start_time": "2021-12-10T15:32:35.746Z"
   },
   {
    "duration": 11,
    "start_time": "2021-12-10T15:32:35.757Z"
   },
   {
    "duration": 35,
    "start_time": "2021-12-10T15:32:35.818Z"
   },
   {
    "duration": 7,
    "start_time": "2021-12-10T15:32:35.856Z"
   },
   {
    "duration": 8,
    "start_time": "2021-12-10T15:32:35.865Z"
   },
   {
    "duration": 6,
    "start_time": "2021-12-10T15:32:35.875Z"
   },
   {
    "duration": 46,
    "start_time": "2021-12-10T15:32:35.883Z"
   },
   {
    "duration": 838,
    "start_time": "2021-12-10T15:33:18.624Z"
   },
   {
    "duration": 22,
    "start_time": "2021-12-10T15:33:19.464Z"
   },
   {
    "duration": 9,
    "start_time": "2021-12-10T15:33:19.489Z"
   },
   {
    "duration": 7,
    "start_time": "2021-12-10T15:33:19.518Z"
   },
   {
    "duration": 12,
    "start_time": "2021-12-10T15:33:19.527Z"
   },
   {
    "duration": 7,
    "start_time": "2021-12-10T15:33:19.541Z"
   },
   {
    "duration": 11,
    "start_time": "2021-12-10T15:33:19.552Z"
   },
   {
    "duration": 54,
    "start_time": "2021-12-10T15:33:19.570Z"
   },
   {
    "duration": 34,
    "start_time": "2021-12-10T15:33:19.628Z"
   },
   {
    "duration": 8,
    "start_time": "2021-12-10T15:33:19.665Z"
   },
   {
    "duration": 43,
    "start_time": "2021-12-10T15:33:19.676Z"
   },
   {
    "duration": 8,
    "start_time": "2021-12-10T15:33:19.722Z"
   },
   {
    "duration": 16,
    "start_time": "2021-12-10T15:33:19.733Z"
   },
   {
    "duration": 66,
    "start_time": "2021-12-10T15:33:19.751Z"
   },
   {
    "duration": 14,
    "start_time": "2021-12-10T15:33:19.820Z"
   },
   {
    "duration": 8,
    "start_time": "2021-12-10T15:33:19.837Z"
   },
   {
    "duration": 9,
    "start_time": "2021-12-10T15:33:19.847Z"
   },
   {
    "duration": 10,
    "start_time": "2021-12-10T15:33:19.859Z"
   },
   {
    "duration": 46,
    "start_time": "2021-12-10T15:33:19.872Z"
   },
   {
    "duration": 17,
    "start_time": "2021-12-10T15:33:19.921Z"
   },
   {
    "duration": 10,
    "start_time": "2021-12-10T15:33:19.940Z"
   },
   {
    "duration": 23,
    "start_time": "2021-12-10T15:33:19.952Z"
   },
   {
    "duration": 38,
    "start_time": "2021-12-10T15:33:19.980Z"
   },
   {
    "duration": 7,
    "start_time": "2021-12-10T15:33:20.021Z"
   },
   {
    "duration": 6,
    "start_time": "2021-12-10T15:33:20.030Z"
   },
   {
    "duration": 7,
    "start_time": "2021-12-10T15:33:20.038Z"
   },
   {
    "duration": 17,
    "start_time": "2021-12-10T15:33:20.047Z"
   },
   {
    "duration": 53,
    "start_time": "2021-12-10T15:33:20.066Z"
   },
   {
    "duration": 8,
    "start_time": "2021-12-10T15:33:20.121Z"
   },
   {
    "duration": 18,
    "start_time": "2021-12-10T15:33:20.132Z"
   },
   {
    "duration": 30,
    "start_time": "2021-12-10T15:33:20.152Z"
   },
   {
    "duration": 45,
    "start_time": "2021-12-10T15:33:20.185Z"
   },
   {
    "duration": 10,
    "start_time": "2021-12-10T15:33:20.233Z"
   },
   {
    "duration": 9,
    "start_time": "2021-12-10T15:33:20.246Z"
   },
   {
    "duration": 20,
    "start_time": "2021-12-10T15:33:20.258Z"
   },
   {
    "duration": 52,
    "start_time": "2021-12-10T15:33:20.281Z"
   },
   {
    "duration": 7,
    "start_time": "2021-12-10T15:33:20.336Z"
   },
   {
    "duration": 24,
    "start_time": "2021-12-10T15:33:20.346Z"
   },
   {
    "duration": 51,
    "start_time": "2021-12-10T15:33:20.373Z"
   },
   {
    "duration": 39,
    "start_time": "2021-12-10T15:33:20.427Z"
   },
   {
    "duration": 10,
    "start_time": "2021-12-10T15:33:20.468Z"
   },
   {
    "duration": 7,
    "start_time": "2021-12-10T15:33:20.518Z"
   },
   {
    "duration": 971,
    "start_time": "2021-12-10T15:33:20.527Z"
   },
   {
    "duration": 7,
    "start_time": "2021-12-10T15:33:21.500Z"
   },
   {
    "duration": 10,
    "start_time": "2021-12-10T15:33:21.509Z"
   },
   {
    "duration": 19,
    "start_time": "2021-12-10T15:33:21.521Z"
   },
   {
    "duration": 3540,
    "start_time": "2021-12-10T15:33:21.542Z"
   },
   {
    "duration": 8,
    "start_time": "2021-12-10T15:33:25.084Z"
   },
   {
    "duration": 40,
    "start_time": "2021-12-10T15:33:25.095Z"
   },
   {
    "duration": 11,
    "start_time": "2021-12-10T15:33:25.137Z"
   },
   {
    "duration": 10,
    "start_time": "2021-12-10T15:36:00.737Z"
   },
   {
    "duration": 15,
    "start_time": "2021-12-10T16:45:26.040Z"
   },
   {
    "duration": 19,
    "start_time": "2021-12-10T16:47:04.226Z"
   },
   {
    "duration": 12,
    "start_time": "2021-12-10T16:47:41.906Z"
   },
   {
    "duration": 11,
    "start_time": "2021-12-10T16:52:17.087Z"
   },
   {
    "duration": 4,
    "start_time": "2021-12-10T17:14:31.814Z"
   },
   {
    "duration": 1176,
    "start_time": "2021-12-10T17:19:21.452Z"
   },
   {
    "duration": 293,
    "start_time": "2021-12-10T17:20:10.211Z"
   },
   {
    "duration": 8,
    "start_time": "2021-12-10T17:27:50.052Z"
   },
   {
    "duration": 9,
    "start_time": "2021-12-10T17:28:31.876Z"
   },
   {
    "duration": 7,
    "start_time": "2021-12-10T17:37:03.145Z"
   },
   {
    "duration": 10,
    "start_time": "2021-12-10T17:37:26.438Z"
   },
   {
    "duration": 328,
    "start_time": "2021-12-10T17:37:50.287Z"
   },
   {
    "duration": 9,
    "start_time": "2021-12-10T17:37:57.959Z"
   },
   {
    "duration": 4554,
    "start_time": "2021-12-10T17:38:02.008Z"
   },
   {
    "duration": 726,
    "start_time": "2021-12-10T17:38:50.356Z"
   },
   {
    "duration": 35,
    "start_time": "2021-12-10T17:38:51.085Z"
   },
   {
    "duration": 10,
    "start_time": "2021-12-10T17:38:51.123Z"
   },
   {
    "duration": 11,
    "start_time": "2021-12-10T17:38:51.136Z"
   },
   {
    "duration": 13,
    "start_time": "2021-12-10T17:38:51.149Z"
   },
   {
    "duration": 54,
    "start_time": "2021-12-10T17:38:51.164Z"
   },
   {
    "duration": 7,
    "start_time": "2021-12-10T17:38:51.221Z"
   },
   {
    "duration": 11,
    "start_time": "2021-12-10T17:38:51.232Z"
   },
   {
    "duration": 33,
    "start_time": "2021-12-10T17:38:51.246Z"
   },
   {
    "duration": 8,
    "start_time": "2021-12-10T17:38:51.318Z"
   },
   {
    "duration": 6,
    "start_time": "2021-12-10T17:38:51.328Z"
   },
   {
    "duration": 7,
    "start_time": "2021-12-10T17:38:51.336Z"
   },
   {
    "duration": 14,
    "start_time": "2021-12-10T17:38:51.345Z"
   },
   {
    "duration": 65,
    "start_time": "2021-12-10T17:38:51.361Z"
   },
   {
    "duration": 11,
    "start_time": "2021-12-10T17:38:51.428Z"
   },
   {
    "duration": 4,
    "start_time": "2021-12-10T17:38:51.441Z"
   },
   {
    "duration": 328,
    "start_time": "2021-12-10T17:38:51.447Z"
   },
   {
    "duration": 10,
    "start_time": "2021-12-10T17:38:51.778Z"
   },
   {
    "duration": 27,
    "start_time": "2021-12-10T17:38:51.790Z"
   },
   {
    "duration": 4409,
    "start_time": "2021-12-10T17:38:51.820Z"
   },
   {
    "duration": 751,
    "start_time": "2021-12-10T17:38:55.482Z"
   },
   {
    "duration": 739,
    "start_time": "2021-12-10T17:38:55.496Z"
   },
   {
    "duration": 731,
    "start_time": "2021-12-10T17:38:55.505Z"
   },
   {
    "duration": 722,
    "start_time": "2021-12-10T17:38:55.516Z"
   },
   {
    "duration": 714,
    "start_time": "2021-12-10T17:38:55.525Z"
   },
   {
    "duration": 706,
    "start_time": "2021-12-10T17:38:55.534Z"
   },
   {
    "duration": 694,
    "start_time": "2021-12-10T17:38:55.548Z"
   },
   {
    "duration": 667,
    "start_time": "2021-12-10T17:38:55.576Z"
   },
   {
    "duration": 662,
    "start_time": "2021-12-10T17:38:55.583Z"
   },
   {
    "duration": 651,
    "start_time": "2021-12-10T17:38:55.595Z"
   },
   {
    "duration": 647,
    "start_time": "2021-12-10T17:38:55.601Z"
   },
   {
    "duration": 638,
    "start_time": "2021-12-10T17:38:55.611Z"
   },
   {
    "duration": 633,
    "start_time": "2021-12-10T17:38:55.618Z"
   },
   {
    "duration": 626,
    "start_time": "2021-12-10T17:38:55.626Z"
   },
   {
    "duration": 620,
    "start_time": "2021-12-10T17:38:55.634Z"
   },
   {
    "duration": 612,
    "start_time": "2021-12-10T17:38:55.643Z"
   },
   {
    "duration": 606,
    "start_time": "2021-12-10T17:38:55.650Z"
   },
   {
    "duration": 595,
    "start_time": "2021-12-10T17:38:55.663Z"
   },
   {
    "duration": 566,
    "start_time": "2021-12-10T17:38:55.693Z"
   },
   {
    "duration": 555,
    "start_time": "2021-12-10T17:38:55.705Z"
   },
   {
    "duration": 549,
    "start_time": "2021-12-10T17:38:55.712Z"
   },
   {
    "duration": 542,
    "start_time": "2021-12-10T17:38:55.721Z"
   },
   {
    "duration": 536,
    "start_time": "2021-12-10T17:38:55.728Z"
   },
   {
    "duration": 530,
    "start_time": "2021-12-10T17:38:55.735Z"
   },
   {
    "duration": 522,
    "start_time": "2021-12-10T17:38:55.744Z"
   },
   {
    "duration": 513,
    "start_time": "2021-12-10T17:38:55.754Z"
   },
   {
    "duration": 556,
    "start_time": "2021-12-10T17:38:55.761Z"
   },
   {
    "duration": 549,
    "start_time": "2021-12-10T17:38:55.769Z"
   },
   {
    "duration": 542,
    "start_time": "2021-12-10T17:38:55.778Z"
   },
   {
    "duration": 519,
    "start_time": "2021-12-10T17:38:55.802Z"
   },
   {
    "duration": 510,
    "start_time": "2021-12-10T17:38:55.812Z"
   },
   {
    "duration": 501,
    "start_time": "2021-12-10T17:38:55.822Z"
   },
   {
    "duration": 496,
    "start_time": "2021-12-10T17:38:55.829Z"
   },
   {
    "duration": 488,
    "start_time": "2021-12-10T17:38:55.838Z"
   },
   {
    "duration": 471,
    "start_time": "2021-12-10T17:38:55.856Z"
   },
   {
    "duration": 10,
    "start_time": "2021-12-10T17:43:12.901Z"
   },
   {
    "duration": 3849,
    "start_time": "2021-12-10T17:43:16.869Z"
   },
   {
    "duration": 299,
    "start_time": "2021-12-10T17:44:59.873Z"
   },
   {
    "duration": 4300,
    "start_time": "2021-12-10T17:45:41.333Z"
   },
   {
    "duration": 3985,
    "start_time": "2021-12-10T17:51:15.092Z"
   },
   {
    "duration": 8,
    "start_time": "2021-12-10T17:51:33.942Z"
   },
   {
    "duration": 13,
    "start_time": "2021-12-10T17:52:27.565Z"
   },
   {
    "duration": 6,
    "start_time": "2021-12-10T17:53:53.081Z"
   },
   {
    "duration": 8,
    "start_time": "2021-12-10T17:55:38.612Z"
   },
   {
    "duration": 9,
    "start_time": "2021-12-10T17:56:53.978Z"
   },
   {
    "duration": 830,
    "start_time": "2021-12-10T17:57:17.904Z"
   },
   {
    "duration": 21,
    "start_time": "2021-12-10T17:57:18.736Z"
   },
   {
    "duration": 10,
    "start_time": "2021-12-10T17:57:18.760Z"
   },
   {
    "duration": 11,
    "start_time": "2021-12-10T17:57:18.774Z"
   },
   {
    "duration": 11,
    "start_time": "2021-12-10T17:57:18.818Z"
   },
   {
    "duration": 5,
    "start_time": "2021-12-10T17:57:18.832Z"
   },
   {
    "duration": 8,
    "start_time": "2021-12-10T17:57:18.840Z"
   },
   {
    "duration": 11,
    "start_time": "2021-12-10T17:57:18.851Z"
   },
   {
    "duration": 74,
    "start_time": "2021-12-10T17:57:18.865Z"
   },
   {
    "duration": 8,
    "start_time": "2021-12-10T17:57:18.941Z"
   },
   {
    "duration": 8,
    "start_time": "2021-12-10T17:57:18.951Z"
   },
   {
    "duration": 8,
    "start_time": "2021-12-10T17:57:18.962Z"
   },
   {
    "duration": 59,
    "start_time": "2021-12-10T17:57:18.972Z"
   },
   {
    "duration": 20,
    "start_time": "2021-12-10T17:57:19.034Z"
   },
   {
    "duration": 10,
    "start_time": "2021-12-10T17:57:19.057Z"
   },
   {
    "duration": 4,
    "start_time": "2021-12-10T17:57:19.070Z"
   },
   {
    "duration": 371,
    "start_time": "2021-12-10T17:57:19.076Z"
   },
   {
    "duration": 12,
    "start_time": "2021-12-10T17:57:19.450Z"
   },
   {
    "duration": 8,
    "start_time": "2021-12-10T17:57:19.464Z"
   },
   {
    "duration": 44,
    "start_time": "2021-12-10T17:57:19.475Z"
   },
   {
    "duration": 9,
    "start_time": "2021-12-10T17:57:19.521Z"
   },
   {
    "duration": 7,
    "start_time": "2021-12-10T17:57:19.533Z"
   },
   {
    "duration": 5,
    "start_time": "2021-12-10T17:57:19.545Z"
   },
   {
    "duration": 8,
    "start_time": "2021-12-10T17:57:19.553Z"
   },
   {
    "duration": 55,
    "start_time": "2021-12-10T17:57:19.564Z"
   },
   {
    "duration": 9,
    "start_time": "2021-12-10T17:57:19.622Z"
   },
   {
    "duration": 10,
    "start_time": "2021-12-10T17:57:19.633Z"
   },
   {
    "duration": 20,
    "start_time": "2021-12-10T17:57:19.646Z"
   },
   {
    "duration": 59,
    "start_time": "2021-12-10T17:57:19.669Z"
   },
   {
    "duration": 8,
    "start_time": "2021-12-10T17:57:19.730Z"
   },
   {
    "duration": 5,
    "start_time": "2021-12-10T17:57:19.740Z"
   },
   {
    "duration": 6,
    "start_time": "2021-12-10T17:57:19.748Z"
   },
   {
    "duration": 15,
    "start_time": "2021-12-10T17:57:19.756Z"
   },
   {
    "duration": 12,
    "start_time": "2021-12-10T17:57:19.817Z"
   },
   {
    "duration": 10,
    "start_time": "2021-12-10T17:57:19.832Z"
   },
   {
    "duration": 11,
    "start_time": "2021-12-10T17:57:19.845Z"
   },
   {
    "duration": 67,
    "start_time": "2021-12-10T17:57:19.859Z"
   },
   {
    "duration": 15,
    "start_time": "2021-12-10T17:57:19.928Z"
   },
   {
    "duration": 9,
    "start_time": "2021-12-10T17:57:19.945Z"
   },
   {
    "duration": 6,
    "start_time": "2021-12-10T17:57:19.956Z"
   },
   {
    "duration": 53,
    "start_time": "2021-12-10T17:57:19.964Z"
   },
   {
    "duration": 18,
    "start_time": "2021-12-10T17:57:20.019Z"
   },
   {
    "duration": 6,
    "start_time": "2021-12-10T17:57:20.039Z"
   },
   {
    "duration": 21,
    "start_time": "2021-12-10T17:57:20.047Z"
   },
   {
    "duration": 46,
    "start_time": "2021-12-10T17:57:20.071Z"
   },
   {
    "duration": 38,
    "start_time": "2021-12-10T17:57:20.120Z"
   },
   {
    "duration": 8,
    "start_time": "2021-12-10T17:57:20.160Z"
   },
   {
    "duration": 8,
    "start_time": "2021-12-10T17:57:20.170Z"
   },
   {
    "duration": 966,
    "start_time": "2021-12-10T17:57:20.181Z"
   },
   {
    "duration": 8,
    "start_time": "2021-12-10T17:57:21.150Z"
   },
   {
    "duration": 8,
    "start_time": "2021-12-10T17:57:21.161Z"
   },
   {
    "duration": 55,
    "start_time": "2021-12-10T17:57:21.171Z"
   },
   {
    "duration": 3568,
    "start_time": "2021-12-10T17:57:21.229Z"
   },
   {
    "duration": 18,
    "start_time": "2021-12-10T17:57:24.799Z"
   },
   {
    "duration": 22,
    "start_time": "2021-12-10T17:57:24.819Z"
   },
   {
    "duration": 10,
    "start_time": "2021-12-10T17:57:24.844Z"
   },
   {
    "duration": 289,
    "start_time": "2021-12-10T17:57:58.639Z"
   },
   {
    "duration": 6,
    "start_time": "2021-12-10T18:05:38.674Z"
   },
   {
    "duration": 13,
    "start_time": "2021-12-10T18:06:40.759Z"
   },
   {
    "duration": 767,
    "start_time": "2021-12-10T18:06:59.455Z"
   },
   {
    "duration": 21,
    "start_time": "2021-12-10T18:07:00.225Z"
   },
   {
    "duration": 10,
    "start_time": "2021-12-10T18:07:00.249Z"
   },
   {
    "duration": 28,
    "start_time": "2021-12-10T18:07:00.262Z"
   },
   {
    "duration": 26,
    "start_time": "2021-12-10T18:07:00.292Z"
   },
   {
    "duration": 14,
    "start_time": "2021-12-10T18:07:00.321Z"
   },
   {
    "duration": 9,
    "start_time": "2021-12-10T18:07:00.337Z"
   },
   {
    "duration": 13,
    "start_time": "2021-12-10T18:07:00.352Z"
   },
   {
    "duration": 68,
    "start_time": "2021-12-10T18:07:00.369Z"
   },
   {
    "duration": 7,
    "start_time": "2021-12-10T18:07:00.439Z"
   },
   {
    "duration": 9,
    "start_time": "2021-12-10T18:07:00.449Z"
   },
   {
    "duration": 8,
    "start_time": "2021-12-10T18:07:00.461Z"
   },
   {
    "duration": 56,
    "start_time": "2021-12-10T18:07:00.472Z"
   },
   {
    "duration": 25,
    "start_time": "2021-12-10T18:07:00.531Z"
   },
   {
    "duration": 12,
    "start_time": "2021-12-10T18:07:00.558Z"
   },
   {
    "duration": 5,
    "start_time": "2021-12-10T18:07:00.572Z"
   },
   {
    "duration": 378,
    "start_time": "2021-12-10T18:07:00.579Z"
   },
   {
    "duration": 11,
    "start_time": "2021-12-10T18:07:00.959Z"
   },
   {
    "duration": 16,
    "start_time": "2021-12-10T18:07:00.973Z"
   },
   {
    "duration": 32,
    "start_time": "2021-12-10T18:07:00.991Z"
   },
   {
    "duration": 9,
    "start_time": "2021-12-10T18:07:01.026Z"
   },
   {
    "duration": 11,
    "start_time": "2021-12-10T18:07:01.038Z"
   },
   {
    "duration": 7,
    "start_time": "2021-12-10T18:07:01.054Z"
   },
   {
    "duration": 9,
    "start_time": "2021-12-10T18:07:01.064Z"
   },
   {
    "duration": 42,
    "start_time": "2021-12-10T18:07:01.075Z"
   },
   {
    "duration": 10,
    "start_time": "2021-12-10T18:07:01.119Z"
   },
   {
    "duration": 17,
    "start_time": "2021-12-10T18:07:01.131Z"
   },
   {
    "duration": 20,
    "start_time": "2021-12-10T18:07:01.151Z"
   },
   {
    "duration": 44,
    "start_time": "2021-12-10T18:07:01.174Z"
   },
   {
    "duration": 7,
    "start_time": "2021-12-10T18:07:01.221Z"
   },
   {
    "duration": 8,
    "start_time": "2021-12-10T18:07:01.230Z"
   },
   {
    "duration": 15,
    "start_time": "2021-12-10T18:07:01.241Z"
   },
   {
    "duration": 25,
    "start_time": "2021-12-10T18:07:01.258Z"
   },
   {
    "duration": 40,
    "start_time": "2021-12-10T18:07:01.286Z"
   },
   {
    "duration": 15,
    "start_time": "2021-12-10T18:07:01.328Z"
   },
   {
    "duration": 18,
    "start_time": "2021-12-10T18:07:01.346Z"
   },
   {
    "duration": 30,
    "start_time": "2021-12-10T18:07:01.366Z"
   },
   {
    "duration": 16,
    "start_time": "2021-12-10T18:07:01.418Z"
   },
   {
    "duration": 9,
    "start_time": "2021-12-10T18:07:01.437Z"
   },
   {
    "duration": 20,
    "start_time": "2021-12-10T18:07:01.449Z"
   },
   {
    "duration": 45,
    "start_time": "2021-12-10T18:07:01.472Z"
   },
   {
    "duration": 17,
    "start_time": "2021-12-10T18:07:01.520Z"
   },
   {
    "duration": 24,
    "start_time": "2021-12-10T18:07:01.539Z"
   },
   {
    "duration": 30,
    "start_time": "2021-12-10T18:07:01.566Z"
   },
   {
    "duration": 22,
    "start_time": "2021-12-10T18:07:01.599Z"
   },
   {
    "duration": 56,
    "start_time": "2021-12-10T18:07:01.625Z"
   },
   {
    "duration": 9,
    "start_time": "2021-12-10T18:07:01.684Z"
   },
   {
    "duration": 11,
    "start_time": "2021-12-10T18:07:01.717Z"
   },
   {
    "duration": 974,
    "start_time": "2021-12-10T18:07:01.731Z"
   },
   {
    "duration": 12,
    "start_time": "2021-12-10T18:07:02.707Z"
   },
   {
    "duration": 13,
    "start_time": "2021-12-10T18:07:02.722Z"
   },
   {
    "duration": 22,
    "start_time": "2021-12-10T18:07:02.737Z"
   },
   {
    "duration": 3794,
    "start_time": "2021-12-10T18:07:02.761Z"
   },
   {
    "duration": 9,
    "start_time": "2021-12-10T18:07:06.558Z"
   },
   {
    "duration": 48,
    "start_time": "2021-12-10T18:07:06.569Z"
   },
   {
    "duration": 11,
    "start_time": "2021-12-10T18:07:06.620Z"
   },
   {
    "duration": 516,
    "start_time": "2021-12-10T18:14:00.893Z"
   },
   {
    "duration": 12,
    "start_time": "2021-12-10T18:14:11.615Z"
   },
   {
    "duration": 54,
    "start_time": "2021-12-10T18:21:52.228Z"
   },
   {
    "duration": 9,
    "start_time": "2021-12-10T18:24:35.742Z"
   },
   {
    "duration": 9,
    "start_time": "2021-12-10T18:26:08.154Z"
   },
   {
    "duration": 6,
    "start_time": "2021-12-10T18:26:39.935Z"
   },
   {
    "duration": 8,
    "start_time": "2021-12-10T18:27:12.878Z"
   },
   {
    "duration": 6,
    "start_time": "2021-12-10T18:27:48.502Z"
   },
   {
    "duration": 13,
    "start_time": "2021-12-10T18:28:24.115Z"
   },
   {
    "duration": 36,
    "start_time": "2021-12-10T18:28:54.032Z"
   },
   {
    "duration": 10,
    "start_time": "2021-12-10T18:37:05.668Z"
   },
   {
    "duration": 309,
    "start_time": "2021-12-10T18:37:10.644Z"
   },
   {
    "duration": 7,
    "start_time": "2021-12-10T18:37:49.601Z"
   },
   {
    "duration": 358,
    "start_time": "2021-12-10T18:37:52.200Z"
   },
   {
    "duration": 779,
    "start_time": "2021-12-10T18:38:24.254Z"
   },
   {
    "duration": 21,
    "start_time": "2021-12-10T18:38:25.035Z"
   },
   {
    "duration": 10,
    "start_time": "2021-12-10T18:38:25.059Z"
   },
   {
    "duration": 8,
    "start_time": "2021-12-10T18:38:25.072Z"
   },
   {
    "duration": 12,
    "start_time": "2021-12-10T18:38:25.117Z"
   },
   {
    "duration": 8,
    "start_time": "2021-12-10T18:38:25.132Z"
   },
   {
    "duration": 8,
    "start_time": "2021-12-10T18:38:25.142Z"
   },
   {
    "duration": 65,
    "start_time": "2021-12-10T18:38:25.156Z"
   },
   {
    "duration": 32,
    "start_time": "2021-12-10T18:38:25.224Z"
   },
   {
    "duration": 6,
    "start_time": "2021-12-10T18:38:25.259Z"
   },
   {
    "duration": 13,
    "start_time": "2021-12-10T18:38:25.267Z"
   },
   {
    "duration": 39,
    "start_time": "2021-12-10T18:38:25.283Z"
   },
   {
    "duration": 15,
    "start_time": "2021-12-10T18:38:25.324Z"
   },
   {
    "duration": 20,
    "start_time": "2021-12-10T18:38:25.342Z"
   },
   {
    "duration": 14,
    "start_time": "2021-12-10T18:38:25.364Z"
   },
   {
    "duration": 37,
    "start_time": "2021-12-10T18:38:25.380Z"
   },
   {
    "duration": 299,
    "start_time": "2021-12-10T18:38:25.419Z"
   },
   {
    "duration": 11,
    "start_time": "2021-12-10T18:38:25.720Z"
   },
   {
    "duration": 11,
    "start_time": "2021-12-10T18:38:25.733Z"
   },
   {
    "duration": 10,
    "start_time": "2021-12-10T18:38:25.747Z"
   },
   {
    "duration": 6,
    "start_time": "2021-12-10T18:38:25.760Z"
   },
   {
    "duration": 7,
    "start_time": "2021-12-10T18:38:25.769Z"
   },
   {
    "duration": 6,
    "start_time": "2021-12-10T18:38:25.821Z"
   },
   {
    "duration": 9,
    "start_time": "2021-12-10T18:38:25.830Z"
   },
   {
    "duration": 6,
    "start_time": "2021-12-10T18:38:25.841Z"
   },
   {
    "duration": 7,
    "start_time": "2021-12-10T18:38:25.850Z"
   },
   {
    "duration": 10,
    "start_time": "2021-12-10T18:38:25.859Z"
   },
   {
    "duration": 19,
    "start_time": "2021-12-10T18:38:25.918Z"
   },
   {
    "duration": 12,
    "start_time": "2021-12-10T18:38:25.939Z"
   },
   {
    "duration": 10,
    "start_time": "2021-12-10T18:38:25.953Z"
   },
   {
    "duration": 5,
    "start_time": "2021-12-10T18:38:25.966Z"
   },
   {
    "duration": 6,
    "start_time": "2021-12-10T18:38:26.018Z"
   },
   {
    "duration": 14,
    "start_time": "2021-12-10T18:38:26.027Z"
   },
   {
    "duration": 11,
    "start_time": "2021-12-10T18:38:26.044Z"
   },
   {
    "duration": 10,
    "start_time": "2021-12-10T18:38:26.057Z"
   },
   {
    "duration": 70,
    "start_time": "2021-12-10T18:38:26.069Z"
   },
   {
    "duration": 7,
    "start_time": "2021-12-10T18:38:26.141Z"
   },
   {
    "duration": 16,
    "start_time": "2021-12-10T18:38:26.150Z"
   },
   {
    "duration": 12,
    "start_time": "2021-12-10T18:38:26.168Z"
   },
   {
    "duration": 55,
    "start_time": "2021-12-10T18:38:26.183Z"
   },
   {
    "duration": 16,
    "start_time": "2021-12-10T18:38:26.240Z"
   },
   {
    "duration": 9,
    "start_time": "2021-12-10T18:38:26.258Z"
   },
   {
    "duration": 6,
    "start_time": "2021-12-10T18:38:26.270Z"
   },
   {
    "duration": 54,
    "start_time": "2021-12-10T18:38:26.278Z"
   },
   {
    "duration": 16,
    "start_time": "2021-12-10T18:38:26.335Z"
   },
   {
    "duration": 6,
    "start_time": "2021-12-10T18:38:26.353Z"
   },
   {
    "duration": 57,
    "start_time": "2021-12-10T18:38:26.362Z"
   },
   {
    "duration": 8,
    "start_time": "2021-12-10T18:38:26.421Z"
   },
   {
    "duration": 38,
    "start_time": "2021-12-10T18:38:26.431Z"
   },
   {
    "duration": 7,
    "start_time": "2021-12-10T18:38:26.471Z"
   },
   {
    "duration": 38,
    "start_time": "2021-12-10T18:38:26.480Z"
   },
   {
    "duration": 961,
    "start_time": "2021-12-10T18:38:26.520Z"
   },
   {
    "duration": 6,
    "start_time": "2021-12-10T18:38:27.484Z"
   },
   {
    "duration": 24,
    "start_time": "2021-12-10T18:38:27.493Z"
   },
   {
    "duration": 17,
    "start_time": "2021-12-10T18:38:27.519Z"
   },
   {
    "duration": 3606,
    "start_time": "2021-12-10T18:38:27.539Z"
   },
   {
    "duration": 8,
    "start_time": "2021-12-10T18:38:31.147Z"
   },
   {
    "duration": 42,
    "start_time": "2021-12-10T18:38:31.157Z"
   },
   {
    "duration": 17,
    "start_time": "2021-12-10T18:38:31.201Z"
   },
   {
    "duration": 12,
    "start_time": "2021-12-10T19:17:54.458Z"
   },
   {
    "duration": 11,
    "start_time": "2021-12-10T19:19:47.335Z"
   },
   {
    "duration": 290,
    "start_time": "2021-12-10T19:43:26.064Z"
   },
   {
    "duration": 797,
    "start_time": "2021-12-10T19:43:39.640Z"
   },
   {
    "duration": 21,
    "start_time": "2021-12-10T19:43:40.439Z"
   },
   {
    "duration": 9,
    "start_time": "2021-12-10T19:43:40.463Z"
   },
   {
    "duration": 11,
    "start_time": "2021-12-10T19:43:40.474Z"
   },
   {
    "duration": 31,
    "start_time": "2021-12-10T19:43:40.487Z"
   },
   {
    "duration": 7,
    "start_time": "2021-12-10T19:43:40.521Z"
   },
   {
    "duration": 8,
    "start_time": "2021-12-10T19:43:40.530Z"
   },
   {
    "duration": 11,
    "start_time": "2021-12-10T19:43:40.542Z"
   },
   {
    "duration": 73,
    "start_time": "2021-12-10T19:43:40.557Z"
   },
   {
    "duration": 7,
    "start_time": "2021-12-10T19:43:40.633Z"
   },
   {
    "duration": 14,
    "start_time": "2021-12-10T19:43:40.642Z"
   },
   {
    "duration": 7,
    "start_time": "2021-12-10T19:43:40.658Z"
   },
   {
    "duration": 49,
    "start_time": "2021-12-10T19:43:40.667Z"
   },
   {
    "duration": 22,
    "start_time": "2021-12-10T19:43:40.719Z"
   },
   {
    "duration": 11,
    "start_time": "2021-12-10T19:43:40.744Z"
   },
   {
    "duration": 4,
    "start_time": "2021-12-10T19:43:40.757Z"
   },
   {
    "duration": 316,
    "start_time": "2021-12-10T19:43:40.764Z"
   },
   {
    "duration": 12,
    "start_time": "2021-12-10T19:43:41.082Z"
   },
   {
    "duration": 28,
    "start_time": "2021-12-10T19:43:41.096Z"
   },
   {
    "duration": 14,
    "start_time": "2021-12-10T19:43:41.127Z"
   },
   {
    "duration": 9,
    "start_time": "2021-12-10T19:43:41.144Z"
   },
   {
    "duration": 9,
    "start_time": "2021-12-10T19:43:41.155Z"
   },
   {
    "duration": 7,
    "start_time": "2021-12-10T19:43:41.220Z"
   },
   {
    "duration": 9,
    "start_time": "2021-12-10T19:43:41.231Z"
   },
   {
    "duration": 6,
    "start_time": "2021-12-10T19:43:41.244Z"
   },
   {
    "duration": 9,
    "start_time": "2021-12-10T19:43:41.253Z"
   },
   {
    "duration": 58,
    "start_time": "2021-12-10T19:43:41.265Z"
   },
   {
    "duration": 19,
    "start_time": "2021-12-10T19:43:41.326Z"
   },
   {
    "duration": 12,
    "start_time": "2021-12-10T19:43:41.347Z"
   },
   {
    "duration": 10,
    "start_time": "2021-12-10T19:43:41.361Z"
   },
   {
    "duration": 7,
    "start_time": "2021-12-10T19:43:41.418Z"
   },
   {
    "duration": 8,
    "start_time": "2021-12-10T19:43:41.428Z"
   },
   {
    "duration": 16,
    "start_time": "2021-12-10T19:43:41.438Z"
   },
   {
    "duration": 12,
    "start_time": "2021-12-10T19:43:41.457Z"
   },
   {
    "duration": 13,
    "start_time": "2021-12-10T19:43:41.517Z"
   },
   {
    "duration": 33,
    "start_time": "2021-12-10T19:43:41.533Z"
   },
   {
    "duration": 6,
    "start_time": "2021-12-10T19:43:41.568Z"
   },
   {
    "duration": 46,
    "start_time": "2021-12-10T19:43:41.577Z"
   },
   {
    "duration": 21,
    "start_time": "2021-12-10T19:43:41.625Z"
   },
   {
    "duration": 34,
    "start_time": "2021-12-10T19:43:41.649Z"
   },
   {
    "duration": 32,
    "start_time": "2021-12-10T19:43:41.686Z"
   },
   {
    "duration": 9,
    "start_time": "2021-12-10T19:43:41.721Z"
   },
   {
    "duration": 9,
    "start_time": "2021-12-10T19:43:41.733Z"
   },
   {
    "duration": 55,
    "start_time": "2021-12-10T19:43:41.744Z"
   },
   {
    "duration": 16,
    "start_time": "2021-12-10T19:43:41.802Z"
   },
   {
    "duration": 7,
    "start_time": "2021-12-10T19:43:41.821Z"
   },
   {
    "duration": 22,
    "start_time": "2021-12-10T19:43:41.830Z"
   },
   {
    "duration": 8,
    "start_time": "2021-12-10T19:43:41.854Z"
   },
   {
    "duration": 78,
    "start_time": "2021-12-10T19:43:41.865Z"
   },
   {
    "duration": 8,
    "start_time": "2021-12-10T19:43:41.945Z"
   },
   {
    "duration": 9,
    "start_time": "2021-12-10T19:43:41.955Z"
   },
   {
    "duration": 962,
    "start_time": "2021-12-10T19:43:41.966Z"
   },
   {
    "duration": 8,
    "start_time": "2021-12-10T19:43:42.932Z"
   },
   {
    "duration": 16,
    "start_time": "2021-12-10T19:43:42.943Z"
   },
   {
    "duration": 18,
    "start_time": "2021-12-10T19:43:42.962Z"
   },
   {
    "duration": 3575,
    "start_time": "2021-12-10T19:43:42.983Z"
   },
   {
    "duration": 7,
    "start_time": "2021-12-10T19:43:46.560Z"
   },
   {
    "duration": 20,
    "start_time": "2021-12-10T19:43:46.570Z"
   },
   {
    "duration": 32,
    "start_time": "2021-12-10T19:43:46.592Z"
   },
   {
    "duration": 11,
    "start_time": "2021-12-10T19:43:46.627Z"
   },
   {
    "duration": 4,
    "start_time": "2021-12-10T19:43:46.641Z"
   },
   {
    "duration": 334,
    "start_time": "2021-12-10T19:43:46.648Z"
   },
   {
    "duration": 290,
    "start_time": "2021-12-10T19:45:43.681Z"
   },
   {
    "duration": 284,
    "start_time": "2021-12-10T19:46:01.866Z"
   },
   {
    "duration": 4,
    "start_time": "2021-12-10T19:47:39.858Z"
   },
   {
    "duration": 284,
    "start_time": "2021-12-10T19:47:40.441Z"
   },
   {
    "duration": 20,
    "start_time": "2021-12-10T19:48:23.842Z"
   },
   {
    "duration": 417,
    "start_time": "2021-12-10T19:59:00.515Z"
   },
   {
    "duration": 19,
    "start_time": "2021-12-10T19:59:15.004Z"
   },
   {
    "duration": 18,
    "start_time": "2021-12-10T20:00:03.070Z"
   },
   {
    "duration": 17,
    "start_time": "2021-12-10T20:00:21.581Z"
   },
   {
    "duration": 19,
    "start_time": "2021-12-10T20:04:43.888Z"
   },
   {
    "duration": 27,
    "start_time": "2021-12-10T20:04:50.355Z"
   },
   {
    "duration": 807,
    "start_time": "2021-12-10T20:05:52.394Z"
   },
   {
    "duration": 25,
    "start_time": "2021-12-10T20:05:53.203Z"
   },
   {
    "duration": 9,
    "start_time": "2021-12-10T20:05:53.234Z"
   },
   {
    "duration": 9,
    "start_time": "2021-12-10T20:05:53.245Z"
   },
   {
    "duration": 10,
    "start_time": "2021-12-10T20:05:53.257Z"
   },
   {
    "duration": 5,
    "start_time": "2021-12-10T20:05:53.269Z"
   },
   {
    "duration": 47,
    "start_time": "2021-12-10T20:05:53.278Z"
   },
   {
    "duration": 11,
    "start_time": "2021-12-10T20:05:53.328Z"
   },
   {
    "duration": 35,
    "start_time": "2021-12-10T20:05:53.342Z"
   },
   {
    "duration": 42,
    "start_time": "2021-12-10T20:05:53.379Z"
   },
   {
    "duration": 8,
    "start_time": "2021-12-10T20:05:53.423Z"
   },
   {
    "duration": 6,
    "start_time": "2021-12-10T20:05:53.433Z"
   },
   {
    "duration": 13,
    "start_time": "2021-12-10T20:05:53.442Z"
   },
   {
    "duration": 61,
    "start_time": "2021-12-10T20:05:53.458Z"
   },
   {
    "duration": 12,
    "start_time": "2021-12-10T20:05:53.522Z"
   },
   {
    "duration": 5,
    "start_time": "2021-12-10T20:05:53.536Z"
   },
   {
    "duration": 317,
    "start_time": "2021-12-10T20:05:53.544Z"
   },
   {
    "duration": 13,
    "start_time": "2021-12-10T20:05:53.864Z"
   },
   {
    "duration": 10,
    "start_time": "2021-12-10T20:05:53.880Z"
   },
   {
    "duration": 12,
    "start_time": "2021-12-10T20:05:53.918Z"
   },
   {
    "duration": 8,
    "start_time": "2021-12-10T20:05:53.932Z"
   },
   {
    "duration": 8,
    "start_time": "2021-12-10T20:05:53.946Z"
   },
   {
    "duration": 6,
    "start_time": "2021-12-10T20:05:53.957Z"
   },
   {
    "duration": 52,
    "start_time": "2021-12-10T20:05:53.965Z"
   },
   {
    "duration": 5,
    "start_time": "2021-12-10T20:05:54.020Z"
   },
   {
    "duration": 7,
    "start_time": "2021-12-10T20:05:54.027Z"
   },
   {
    "duration": 9,
    "start_time": "2021-12-10T20:05:54.037Z"
   },
   {
    "duration": 20,
    "start_time": "2021-12-10T20:05:54.048Z"
   },
   {
    "duration": 61,
    "start_time": "2021-12-10T20:05:54.071Z"
   },
   {
    "duration": 11,
    "start_time": "2021-12-10T20:05:54.135Z"
   },
   {
    "duration": 7,
    "start_time": "2021-12-10T20:05:54.149Z"
   },
   {
    "duration": 10,
    "start_time": "2021-12-10T20:05:54.159Z"
   },
   {
    "duration": 56,
    "start_time": "2021-12-10T20:05:54.172Z"
   },
   {
    "duration": 11,
    "start_time": "2021-12-10T20:05:54.230Z"
   },
   {
    "duration": 11,
    "start_time": "2021-12-10T20:05:54.243Z"
   },
   {
    "duration": 68,
    "start_time": "2021-12-10T20:05:54.256Z"
   },
   {
    "duration": 8,
    "start_time": "2021-12-10T20:05:54.327Z"
   },
   {
    "duration": 13,
    "start_time": "2021-12-10T20:05:54.337Z"
   },
   {
    "duration": 12,
    "start_time": "2021-12-10T20:05:54.353Z"
   },
   {
    "duration": 66,
    "start_time": "2021-12-10T20:05:54.368Z"
   },
   {
    "duration": 18,
    "start_time": "2021-12-10T20:05:54.437Z"
   },
   {
    "duration": 10,
    "start_time": "2021-12-10T20:05:54.458Z"
   },
   {
    "duration": 46,
    "start_time": "2021-12-10T20:05:54.472Z"
   },
   {
    "duration": 19,
    "start_time": "2021-12-10T20:05:54.521Z"
   },
   {
    "duration": 17,
    "start_time": "2021-12-10T20:05:54.543Z"
   },
   {
    "duration": 6,
    "start_time": "2021-12-10T20:05:54.562Z"
   },
   {
    "duration": 63,
    "start_time": "2021-12-10T20:05:54.570Z"
   },
   {
    "duration": 7,
    "start_time": "2021-12-10T20:05:54.636Z"
   },
   {
    "duration": 46,
    "start_time": "2021-12-10T20:05:54.646Z"
   },
   {
    "duration": 25,
    "start_time": "2021-12-10T20:05:54.694Z"
   },
   {
    "duration": 11,
    "start_time": "2021-12-10T20:05:54.721Z"
   },
   {
    "duration": 1001,
    "start_time": "2021-12-10T20:05:54.734Z"
   },
   {
    "duration": 8,
    "start_time": "2021-12-10T20:05:55.738Z"
   },
   {
    "duration": 6,
    "start_time": "2021-12-10T20:05:55.749Z"
   },
   {
    "duration": 21,
    "start_time": "2021-12-10T20:05:55.757Z"
   },
   {
    "duration": 3842,
    "start_time": "2021-12-10T20:05:55.780Z"
   },
   {
    "duration": 7,
    "start_time": "2021-12-10T20:05:59.625Z"
   },
   {
    "duration": 22,
    "start_time": "2021-12-10T20:05:59.634Z"
   },
   {
    "duration": 11,
    "start_time": "2021-12-10T20:05:59.658Z"
   },
   {
    "duration": 50,
    "start_time": "2021-12-10T20:05:59.671Z"
   },
   {
    "duration": 5,
    "start_time": "2021-12-10T20:05:59.724Z"
   },
   {
    "duration": 449,
    "start_time": "2021-12-10T20:05:59.732Z"
   },
   {
    "duration": 21,
    "start_time": "2021-12-10T20:06:00.183Z"
   },
   {
    "duration": 20,
    "start_time": "2021-12-10T20:06:00.217Z"
   },
   {
    "duration": 26,
    "start_time": "2021-12-10T20:06:00.240Z"
   },
   {
    "duration": 605,
    "start_time": "2021-12-10T20:13:25.101Z"
   },
   {
    "duration": 9,
    "start_time": "2021-12-10T20:14:10.378Z"
   },
   {
    "duration": 304,
    "start_time": "2021-12-10T20:14:33.287Z"
   },
   {
    "duration": 334,
    "start_time": "2021-12-10T20:15:32.812Z"
   },
   {
    "duration": 7,
    "start_time": "2021-12-10T20:15:45.287Z"
   },
   {
    "duration": 6,
    "start_time": "2021-12-10T20:21:22.465Z"
   },
   {
    "duration": 6,
    "start_time": "2021-12-10T20:22:01.911Z"
   },
   {
    "duration": 6,
    "start_time": "2021-12-10T20:22:22.669Z"
   },
   {
    "duration": 275,
    "start_time": "2021-12-10T20:25:25.816Z"
   },
   {
    "duration": 7,
    "start_time": "2021-12-10T20:25:39.629Z"
   },
   {
    "duration": 133,
    "start_time": "2021-12-10T20:27:51.080Z"
   },
   {
    "duration": 20,
    "start_time": "2021-12-10T20:28:01.471Z"
   },
   {
    "duration": 398,
    "start_time": "2021-12-10T20:38:54.390Z"
   },
   {
    "duration": 25,
    "start_time": "2021-12-10T20:39:03.141Z"
   },
   {
    "duration": 7,
    "start_time": "2021-12-10T20:39:06.359Z"
   },
   {
    "duration": 311,
    "start_time": "2021-12-10T20:40:57.542Z"
   },
   {
    "duration": 23,
    "start_time": "2021-12-10T20:41:28.675Z"
   },
   {
    "duration": 9,
    "start_time": "2021-12-10T20:48:31.461Z"
   },
   {
    "duration": 8,
    "start_time": "2021-12-10T20:50:00.643Z"
   },
   {
    "duration": 7,
    "start_time": "2021-12-10T20:58:53.998Z"
   },
   {
    "duration": 7,
    "start_time": "2021-12-10T20:59:06.149Z"
   },
   {
    "duration": 6,
    "start_time": "2021-12-10T20:59:18.498Z"
   },
   {
    "duration": 6,
    "start_time": "2021-12-10T20:59:35.712Z"
   },
   {
    "duration": 23,
    "start_time": "2021-12-10T21:06:07.076Z"
   },
   {
    "duration": 5,
    "start_time": "2021-12-10T21:08:35.400Z"
   },
   {
    "duration": 4186,
    "start_time": "2021-12-10T21:12:46.654Z"
   },
   {
    "duration": 23,
    "start_time": "2021-12-10T21:12:56.799Z"
   },
   {
    "duration": 4381,
    "start_time": "2021-12-10T21:12:59.635Z"
   },
   {
    "duration": 25,
    "start_time": "2021-12-10T21:13:59.940Z"
   },
   {
    "duration": 24,
    "start_time": "2021-12-10T21:14:08.123Z"
   },
   {
    "duration": 4570,
    "start_time": "2021-12-10T21:14:11.017Z"
   },
   {
    "duration": 4504,
    "start_time": "2021-12-10T21:23:28.686Z"
   },
   {
    "duration": 774,
    "start_time": "2021-12-10T21:23:57.973Z"
   },
   {
    "duration": 21,
    "start_time": "2021-12-10T21:23:58.750Z"
   },
   {
    "duration": 11,
    "start_time": "2021-12-10T21:23:58.775Z"
   },
   {
    "duration": 7,
    "start_time": "2021-12-10T21:23:58.817Z"
   },
   {
    "duration": 12,
    "start_time": "2021-12-10T21:23:58.827Z"
   },
   {
    "duration": 7,
    "start_time": "2021-12-10T21:23:58.842Z"
   },
   {
    "duration": 9,
    "start_time": "2021-12-10T21:23:58.852Z"
   },
   {
    "duration": 62,
    "start_time": "2021-12-10T21:23:58.864Z"
   },
   {
    "duration": 32,
    "start_time": "2021-12-10T21:23:58.929Z"
   },
   {
    "duration": 7,
    "start_time": "2021-12-10T21:23:58.963Z"
   },
   {
    "duration": 6,
    "start_time": "2021-12-10T21:23:58.973Z"
   },
   {
    "duration": 7,
    "start_time": "2021-12-10T21:23:59.017Z"
   },
   {
    "duration": 18,
    "start_time": "2021-12-10T21:23:59.026Z"
   },
   {
    "duration": 22,
    "start_time": "2021-12-10T21:23:59.046Z"
   },
   {
    "duration": 47,
    "start_time": "2021-12-10T21:23:59.070Z"
   },
   {
    "duration": 5,
    "start_time": "2021-12-10T21:23:59.120Z"
   },
   {
    "duration": 313,
    "start_time": "2021-12-10T21:23:59.127Z"
   },
   {
    "duration": 11,
    "start_time": "2021-12-10T21:23:59.442Z"
   },
   {
    "duration": 10,
    "start_time": "2021-12-10T21:23:59.456Z"
   },
   {
    "duration": 12,
    "start_time": "2021-12-10T21:23:59.468Z"
   },
   {
    "duration": 40,
    "start_time": "2021-12-10T21:23:59.482Z"
   },
   {
    "duration": 8,
    "start_time": "2021-12-10T21:23:59.525Z"
   },
   {
    "duration": 5,
    "start_time": "2021-12-10T21:23:59.539Z"
   },
   {
    "duration": 7,
    "start_time": "2021-12-10T21:23:59.547Z"
   },
   {
    "duration": 5,
    "start_time": "2021-12-10T21:23:59.557Z"
   },
   {
    "duration": 53,
    "start_time": "2021-12-10T21:23:59.564Z"
   },
   {
    "duration": 8,
    "start_time": "2021-12-10T21:23:59.619Z"
   },
   {
    "duration": 19,
    "start_time": "2021-12-10T21:23:59.629Z"
   },
   {
    "duration": 12,
    "start_time": "2021-12-10T21:23:59.651Z"
   },
   {
    "duration": 31,
    "start_time": "2021-12-10T21:23:59.665Z"
   },
   {
    "duration": 5,
    "start_time": "2021-12-10T21:23:59.717Z"
   },
   {
    "duration": 6,
    "start_time": "2021-12-10T21:23:59.725Z"
   },
   {
    "duration": 16,
    "start_time": "2021-12-10T21:23:59.733Z"
   },
   {
    "duration": 13,
    "start_time": "2021-12-10T21:23:59.752Z"
   },
   {
    "duration": 53,
    "start_time": "2021-12-10T21:23:59.768Z"
   },
   {
    "duration": 32,
    "start_time": "2021-12-10T21:23:59.823Z"
   },
   {
    "duration": 7,
    "start_time": "2021-12-10T21:23:59.857Z"
   },
   {
    "duration": 9,
    "start_time": "2021-12-10T21:23:59.866Z"
   },
   {
    "duration": 44,
    "start_time": "2021-12-10T21:23:59.877Z"
   },
   {
    "duration": 27,
    "start_time": "2021-12-10T21:23:59.923Z"
   },
   {
    "duration": 15,
    "start_time": "2021-12-10T21:23:59.952Z"
   },
   {
    "duration": 9,
    "start_time": "2021-12-10T21:23:59.969Z"
   },
   {
    "duration": 36,
    "start_time": "2021-12-10T21:23:59.981Z"
   },
   {
    "duration": 30,
    "start_time": "2021-12-10T21:24:00.019Z"
   },
   {
    "duration": 17,
    "start_time": "2021-12-10T21:24:00.051Z"
   },
   {
    "duration": 17,
    "start_time": "2021-12-10T21:24:00.072Z"
   },
   {
    "duration": 46,
    "start_time": "2021-12-10T21:24:00.092Z"
   },
   {
    "duration": 10,
    "start_time": "2021-12-10T21:24:00.141Z"
   },
   {
    "duration": 71,
    "start_time": "2021-12-10T21:24:00.153Z"
   },
   {
    "duration": 8,
    "start_time": "2021-12-10T21:24:00.226Z"
   },
   {
    "duration": 22,
    "start_time": "2021-12-10T21:24:00.236Z"
   },
   {
    "duration": 952,
    "start_time": "2021-12-10T21:24:00.261Z"
   },
   {
    "duration": 7,
    "start_time": "2021-12-10T21:24:01.218Z"
   },
   {
    "duration": 12,
    "start_time": "2021-12-10T21:24:01.227Z"
   },
   {
    "duration": 25,
    "start_time": "2021-12-10T21:24:01.241Z"
   },
   {
    "duration": 3562,
    "start_time": "2021-12-10T21:24:01.269Z"
   },
   {
    "duration": 6,
    "start_time": "2021-12-10T21:24:04.834Z"
   },
   {
    "duration": 21,
    "start_time": "2021-12-10T21:24:04.843Z"
   },
   {
    "duration": 13,
    "start_time": "2021-12-10T21:24:04.866Z"
   },
   {
    "duration": 13,
    "start_time": "2021-12-10T21:24:04.918Z"
   },
   {
    "duration": 4,
    "start_time": "2021-12-10T21:24:04.934Z"
   },
   {
    "duration": 323,
    "start_time": "2021-12-10T21:24:04.941Z"
   },
   {
    "duration": 21,
    "start_time": "2021-12-10T21:24:05.266Z"
   },
   {
    "duration": 41,
    "start_time": "2021-12-10T21:24:05.289Z"
   },
   {
    "duration": 26,
    "start_time": "2021-12-10T21:24:05.332Z"
   },
   {
    "duration": 7,
    "start_time": "2021-12-10T21:24:05.361Z"
   },
   {
    "duration": 57,
    "start_time": "2021-12-10T21:24:05.371Z"
   },
   {
    "duration": 9,
    "start_time": "2021-12-10T21:24:05.435Z"
   },
   {
    "duration": 7,
    "start_time": "2021-12-10T21:24:05.447Z"
   },
   {
    "duration": 25,
    "start_time": "2021-12-10T21:24:05.456Z"
   },
   {
    "duration": 4245,
    "start_time": "2021-12-10T21:24:05.483Z"
   },
   {
    "duration": 840,
    "start_time": "2021-12-10T21:24:08.890Z"
   },
   {
    "duration": 815,
    "start_time": "2021-12-10T21:24:08.916Z"
   },
   {
    "duration": 4031,
    "start_time": "2021-12-10T21:24:49.926Z"
   },
   {
    "duration": 23,
    "start_time": "2021-12-10T21:25:15.212Z"
   },
   {
    "duration": 4056,
    "start_time": "2021-12-10T21:25:24.353Z"
   },
   {
    "duration": 282,
    "start_time": "2021-12-10T21:25:32.770Z"
   },
   {
    "duration": 23,
    "start_time": "2021-12-10T21:25:44.240Z"
   },
   {
    "duration": 4115,
    "start_time": "2021-12-10T21:25:48.055Z"
   },
   {
    "duration": 25,
    "start_time": "2021-12-10T21:26:23.988Z"
   },
   {
    "duration": 4288,
    "start_time": "2021-12-10T21:26:28.987Z"
   },
   {
    "duration": 97,
    "start_time": "2021-12-10T21:28:57.336Z"
   },
   {
    "duration": 5,
    "start_time": "2021-12-10T21:29:28.061Z"
   },
   {
    "duration": 4355,
    "start_time": "2021-12-10T21:30:09.284Z"
   },
   {
    "duration": 9,
    "start_time": "2021-12-10T21:30:55.853Z"
   },
   {
    "duration": 4048,
    "start_time": "2021-12-10T21:31:02.104Z"
   },
   {
    "duration": 25,
    "start_time": "2021-12-10T21:31:13.696Z"
   },
   {
    "duration": 4027,
    "start_time": "2021-12-10T21:31:20.760Z"
   },
   {
    "duration": 4772,
    "start_time": "2021-12-10T21:32:07.682Z"
   },
   {
    "duration": 24,
    "start_time": "2021-12-10T21:32:15.530Z"
   },
   {
    "duration": 3960,
    "start_time": "2021-12-10T21:32:17.961Z"
   },
   {
    "duration": 851,
    "start_time": "2021-12-10T21:33:06.843Z"
   },
   {
    "duration": 825,
    "start_time": "2021-12-10T21:33:06.871Z"
   },
   {
    "duration": 814,
    "start_time": "2021-12-10T21:33:06.884Z"
   },
   {
    "duration": 801,
    "start_time": "2021-12-10T21:33:06.898Z"
   },
   {
    "duration": 785,
    "start_time": "2021-12-10T21:33:06.916Z"
   },
   {
    "duration": 768,
    "start_time": "2021-12-10T21:33:06.934Z"
   },
   {
    "duration": 740,
    "start_time": "2021-12-10T21:33:06.963Z"
   },
   {
    "duration": 696,
    "start_time": "2021-12-10T21:33:07.009Z"
   },
   {
    "duration": 683,
    "start_time": "2021-12-10T21:33:07.023Z"
   },
   {
    "duration": 669,
    "start_time": "2021-12-10T21:33:07.039Z"
   },
   {
    "duration": 622,
    "start_time": "2021-12-10T21:33:07.087Z"
   },
   {
    "duration": 598,
    "start_time": "2021-12-10T21:33:07.113Z"
   },
   {
    "duration": 561,
    "start_time": "2021-12-10T21:33:07.151Z"
   },
   {
    "duration": 549,
    "start_time": "2021-12-10T21:33:07.165Z"
   },
   {
    "duration": 535,
    "start_time": "2021-12-10T21:33:07.180Z"
   },
   {
    "duration": 524,
    "start_time": "2021-12-10T21:33:07.193Z"
   },
   {
    "duration": 509,
    "start_time": "2021-12-10T21:33:07.209Z"
   },
   {
    "duration": 498,
    "start_time": "2021-12-10T21:33:07.222Z"
   },
   {
    "duration": 483,
    "start_time": "2021-12-10T21:33:07.238Z"
   },
   {
    "duration": 446,
    "start_time": "2021-12-10T21:33:07.277Z"
   },
   {
    "duration": 424,
    "start_time": "2021-12-10T21:33:07.300Z"
   },
   {
    "duration": 415,
    "start_time": "2021-12-10T21:33:07.311Z"
   },
   {
    "duration": 404,
    "start_time": "2021-12-10T21:33:07.323Z"
   },
   {
    "duration": 394,
    "start_time": "2021-12-10T21:33:07.334Z"
   },
   {
    "duration": 383,
    "start_time": "2021-12-10T21:33:07.346Z"
   },
   {
    "duration": 375,
    "start_time": "2021-12-10T21:33:07.356Z"
   },
   {
    "duration": 365,
    "start_time": "2021-12-10T21:33:07.367Z"
   },
   {
    "duration": 338,
    "start_time": "2021-12-10T21:33:07.395Z"
   },
   {
    "duration": 328,
    "start_time": "2021-12-10T21:33:07.407Z"
   },
   {
    "duration": 320,
    "start_time": "2021-12-10T21:33:07.416Z"
   },
   {
    "duration": 309,
    "start_time": "2021-12-10T21:33:07.428Z"
   },
   {
    "duration": 301,
    "start_time": "2021-12-10T21:33:07.438Z"
   },
   {
    "duration": 291,
    "start_time": "2021-12-10T21:33:07.449Z"
   },
   {
    "duration": 281,
    "start_time": "2021-12-10T21:33:07.460Z"
   },
   {
    "duration": 271,
    "start_time": "2021-12-10T21:33:07.471Z"
   },
   {
    "duration": 265,
    "start_time": "2021-12-10T21:33:07.479Z"
   },
   {
    "duration": 237,
    "start_time": "2021-12-10T21:33:07.508Z"
   },
   {
    "duration": 229,
    "start_time": "2021-12-10T21:33:07.517Z"
   },
   {
    "duration": 217,
    "start_time": "2021-12-10T21:33:07.530Z"
   },
   {
    "duration": 206,
    "start_time": "2021-12-10T21:33:07.543Z"
   },
   {
    "duration": 196,
    "start_time": "2021-12-10T21:33:07.554Z"
   },
   {
    "duration": 188,
    "start_time": "2021-12-10T21:33:07.563Z"
   },
   {
    "duration": 175,
    "start_time": "2021-12-10T21:33:07.577Z"
   },
   {
    "duration": 57,
    "start_time": "2021-12-10T21:33:07.696Z"
   },
   {
    "duration": 42,
    "start_time": "2021-12-10T21:33:07.712Z"
   },
   {
    "duration": -37,
    "start_time": "2021-12-10T21:33:07.793Z"
   },
   {
    "duration": -124,
    "start_time": "2021-12-10T21:33:07.882Z"
   },
   {
    "duration": -140,
    "start_time": "2021-12-10T21:33:07.899Z"
   },
   {
    "duration": -157,
    "start_time": "2021-12-10T21:33:07.917Z"
   },
   {
    "duration": -108,
    "start_time": "2021-12-10T21:33:07.932Z"
   },
   {
    "duration": -123,
    "start_time": "2021-12-10T21:33:07.949Z"
   },
   {
    "duration": -137,
    "start_time": "2021-12-10T21:33:07.965Z"
   },
   {
    "duration": -171,
    "start_time": "2021-12-10T21:33:08.001Z"
   },
   {
    "duration": -252,
    "start_time": "2021-12-10T21:33:08.083Z"
   },
   {
    "duration": -344,
    "start_time": "2021-12-10T21:33:08.177Z"
   },
   {
    "duration": -356,
    "start_time": "2021-12-10T21:33:08.190Z"
   },
   {
    "duration": -369,
    "start_time": "2021-12-10T21:33:08.205Z"
   },
   {
    "duration": -496,
    "start_time": "2021-12-10T21:33:08.333Z"
   },
   {
    "duration": -517,
    "start_time": "2021-12-10T21:33:08.355Z"
   },
   {
    "duration": -532,
    "start_time": "2021-12-10T21:33:08.372Z"
   },
   {
    "duration": -543,
    "start_time": "2021-12-10T21:33:08.385Z"
   },
   {
    "duration": -554,
    "start_time": "2021-12-10T21:33:08.397Z"
   },
   {
    "duration": -566,
    "start_time": "2021-12-10T21:33:08.411Z"
   },
   {
    "duration": -596,
    "start_time": "2021-12-10T21:33:08.442Z"
   },
   {
    "duration": -609,
    "start_time": "2021-12-10T21:33:08.457Z"
   },
   {
    "duration": -622,
    "start_time": "2021-12-10T21:33:08.471Z"
   },
   {
    "duration": -704,
    "start_time": "2021-12-10T21:33:08.555Z"
   },
   {
    "duration": -672,
    "start_time": "2021-12-10T21:33:08.588Z"
   },
   {
    "duration": -681,
    "start_time": "2021-12-10T21:33:08.599Z"
   },
   {
    "duration": -688,
    "start_time": "2021-12-10T21:33:08.608Z"
   },
   {
    "duration": -697,
    "start_time": "2021-12-10T21:33:08.618Z"
   },
   {
    "duration": -707,
    "start_time": "2021-12-10T21:33:08.630Z"
   },
   {
    "duration": -718,
    "start_time": "2021-12-10T21:33:08.643Z"
   },
   {
    "duration": 96,
    "start_time": "2021-12-10T21:33:36.419Z"
   },
   {
    "duration": 24,
    "start_time": "2021-12-10T21:33:36.518Z"
   },
   {
    "duration": 7,
    "start_time": "2021-12-10T21:33:36.545Z"
   },
   {
    "duration": 9,
    "start_time": "2021-12-10T21:33:36.554Z"
   },
   {
    "duration": 11,
    "start_time": "2021-12-10T21:33:36.565Z"
   },
   {
    "duration": 6,
    "start_time": "2021-12-10T21:33:36.617Z"
   },
   {
    "duration": 7,
    "start_time": "2021-12-10T21:33:36.626Z"
   },
   {
    "duration": 11,
    "start_time": "2021-12-10T21:33:36.636Z"
   },
   {
    "duration": 70,
    "start_time": "2021-12-10T21:33:36.649Z"
   },
   {
    "duration": 7,
    "start_time": "2021-12-10T21:33:36.721Z"
   },
   {
    "duration": 9,
    "start_time": "2021-12-10T21:33:36.730Z"
   },
   {
    "duration": 6,
    "start_time": "2021-12-10T21:33:36.742Z"
   },
   {
    "duration": 15,
    "start_time": "2021-12-10T21:33:36.751Z"
   },
   {
    "duration": 67,
    "start_time": "2021-12-10T21:33:36.768Z"
   },
   {
    "duration": 10,
    "start_time": "2021-12-10T21:33:36.838Z"
   },
   {
    "duration": 8,
    "start_time": "2021-12-10T21:33:36.851Z"
   },
   {
    "duration": 336,
    "start_time": "2021-12-10T21:33:36.861Z"
   },
   {
    "duration": 25,
    "start_time": "2021-12-10T21:33:37.199Z"
   },
   {
    "duration": 10,
    "start_time": "2021-12-10T21:33:37.226Z"
   },
   {
    "duration": 11,
    "start_time": "2021-12-10T21:33:37.238Z"
   },
   {
    "duration": 11,
    "start_time": "2021-12-10T21:33:37.251Z"
   },
   {
    "duration": 8,
    "start_time": "2021-12-10T21:33:37.264Z"
   },
   {
    "duration": 5,
    "start_time": "2021-12-10T21:33:37.318Z"
   },
   {
    "duration": 8,
    "start_time": "2021-12-10T21:33:37.326Z"
   },
   {
    "duration": 5,
    "start_time": "2021-12-10T21:33:37.336Z"
   },
   {
    "duration": 7,
    "start_time": "2021-12-10T21:33:37.343Z"
   },
   {
    "duration": 9,
    "start_time": "2021-12-10T21:33:37.352Z"
   },
   {
    "duration": 68,
    "start_time": "2021-12-10T21:33:37.363Z"
   },
   {
    "duration": 14,
    "start_time": "2021-12-10T21:33:37.434Z"
   },
   {
    "duration": 7,
    "start_time": "2021-12-10T21:33:37.450Z"
   },
   {
    "duration": 5,
    "start_time": "2021-12-10T21:33:37.459Z"
   },
   {
    "duration": 51,
    "start_time": "2021-12-10T21:33:37.467Z"
   },
   {
    "duration": 15,
    "start_time": "2021-12-10T21:33:37.520Z"
   },
   {
    "duration": 11,
    "start_time": "2021-12-10T21:33:37.537Z"
   },
   {
    "duration": 10,
    "start_time": "2021-12-10T21:33:37.550Z"
   },
   {
    "duration": 73,
    "start_time": "2021-12-10T21:33:37.562Z"
   },
   {
    "duration": 6,
    "start_time": "2021-12-10T21:33:37.638Z"
   },
   {
    "duration": 9,
    "start_time": "2021-12-10T21:33:37.646Z"
   },
   {
    "duration": 14,
    "start_time": "2021-12-10T21:33:37.657Z"
   },
   {
    "duration": 64,
    "start_time": "2021-12-10T21:33:37.673Z"
   },
   {
    "duration": 14,
    "start_time": "2021-12-10T21:33:37.740Z"
   },
   {
    "duration": 9,
    "start_time": "2021-12-10T21:33:37.757Z"
   },
   {
    "duration": 9,
    "start_time": "2021-12-10T21:33:37.768Z"
   },
   {
    "duration": 55,
    "start_time": "2021-12-10T21:33:37.779Z"
   },
   {
    "duration": 16,
    "start_time": "2021-12-10T21:33:37.836Z"
   },
   {
    "duration": 8,
    "start_time": "2021-12-10T21:33:37.854Z"
   },
   {
    "duration": 53,
    "start_time": "2021-12-10T21:33:37.865Z"
   },
   {
    "duration": 8,
    "start_time": "2021-12-10T21:33:37.921Z"
   },
   {
    "duration": 37,
    "start_time": "2021-12-10T21:33:37.935Z"
   },
   {
    "duration": 7,
    "start_time": "2021-12-10T21:33:37.975Z"
   },
   {
    "duration": 9,
    "start_time": "2021-12-10T21:33:38.017Z"
   },
   {
    "duration": 1098,
    "start_time": "2021-12-10T21:33:38.028Z"
   },
   {
    "duration": 10,
    "start_time": "2021-12-10T21:33:39.129Z"
   },
   {
    "duration": 15,
    "start_time": "2021-12-10T21:33:39.142Z"
   },
   {
    "duration": 21,
    "start_time": "2021-12-10T21:33:39.160Z"
   },
   {
    "duration": 3618,
    "start_time": "2021-12-10T21:33:39.183Z"
   },
   {
    "duration": 22,
    "start_time": "2021-12-10T21:33:42.803Z"
   },
   {
    "duration": 20,
    "start_time": "2021-12-10T21:33:42.828Z"
   },
   {
    "duration": 13,
    "start_time": "2021-12-10T21:33:42.851Z"
   },
   {
    "duration": 52,
    "start_time": "2021-12-10T21:33:42.866Z"
   },
   {
    "duration": 5,
    "start_time": "2021-12-10T21:33:42.921Z"
   },
   {
    "duration": 299,
    "start_time": "2021-12-10T21:33:42.928Z"
   },
   {
    "duration": 20,
    "start_time": "2021-12-10T21:33:43.229Z"
   },
   {
    "duration": 20,
    "start_time": "2021-12-10T21:33:43.251Z"
   },
   {
    "duration": 54,
    "start_time": "2021-12-10T21:33:43.273Z"
   },
   {
    "duration": 7,
    "start_time": "2021-12-10T21:33:43.329Z"
   },
   {
    "duration": 24,
    "start_time": "2021-12-10T21:33:43.339Z"
   },
   {
    "duration": 9,
    "start_time": "2021-12-10T21:33:43.365Z"
   },
   {
    "duration": 46,
    "start_time": "2021-12-10T21:33:43.376Z"
   },
   {
    "duration": 25,
    "start_time": "2021-12-10T21:33:43.424Z"
   },
   {
    "duration": 3580,
    "start_time": "2021-12-10T21:33:43.451Z"
   },
   {
    "duration": 908,
    "start_time": "2021-12-10T21:33:46.126Z"
   },
   {
    "duration": 890,
    "start_time": "2021-12-10T21:33:46.145Z"
   },
   {
    "duration": 26,
    "start_time": "2021-12-10T21:34:11.433Z"
   },
   {
    "duration": 3576,
    "start_time": "2021-12-10T21:34:14.706Z"
   },
   {
    "duration": 3665,
    "start_time": "2021-12-10T21:34:51.106Z"
   },
   {
    "duration": 3720,
    "start_time": "2021-12-10T21:35:06.677Z"
   },
   {
    "duration": 97,
    "start_time": "2021-12-10T21:35:30.732Z"
   },
   {
    "duration": 5,
    "start_time": "2021-12-10T21:38:06.430Z"
   },
   {
    "duration": 4050,
    "start_time": "2021-12-10T21:38:08.538Z"
   },
   {
    "duration": 783,
    "start_time": "2021-12-10T21:38:33.840Z"
   },
   {
    "duration": 21,
    "start_time": "2021-12-10T21:38:34.626Z"
   },
   {
    "duration": 10,
    "start_time": "2021-12-10T21:38:34.650Z"
   },
   {
    "duration": 8,
    "start_time": "2021-12-10T21:38:34.663Z"
   },
   {
    "duration": 11,
    "start_time": "2021-12-10T21:38:34.673Z"
   },
   {
    "duration": 8,
    "start_time": "2021-12-10T21:38:34.718Z"
   },
   {
    "duration": 7,
    "start_time": "2021-12-10T21:38:34.729Z"
   },
   {
    "duration": 10,
    "start_time": "2021-12-10T21:38:34.740Z"
   },
   {
    "duration": 68,
    "start_time": "2021-12-10T21:38:34.753Z"
   },
   {
    "duration": 7,
    "start_time": "2021-12-10T21:38:34.824Z"
   },
   {
    "duration": 8,
    "start_time": "2021-12-10T21:38:34.834Z"
   },
   {
    "duration": 7,
    "start_time": "2021-12-10T21:38:34.845Z"
   },
   {
    "duration": 15,
    "start_time": "2021-12-10T21:38:34.855Z"
   },
   {
    "duration": 22,
    "start_time": "2021-12-10T21:38:34.918Z"
   },
   {
    "duration": 10,
    "start_time": "2021-12-10T21:38:34.942Z"
   },
   {
    "duration": 5,
    "start_time": "2021-12-10T21:38:34.955Z"
   },
   {
    "duration": 332,
    "start_time": "2021-12-10T21:38:34.962Z"
   },
   {
    "duration": 22,
    "start_time": "2021-12-10T21:38:35.296Z"
   },
   {
    "duration": 9,
    "start_time": "2021-12-10T21:38:35.320Z"
   },
   {
    "duration": 11,
    "start_time": "2021-12-10T21:38:35.331Z"
   },
   {
    "duration": 9,
    "start_time": "2021-12-10T21:38:35.345Z"
   },
   {
    "duration": 8,
    "start_time": "2021-12-10T21:38:35.357Z"
   },
   {
    "duration": 48,
    "start_time": "2021-12-10T21:38:35.371Z"
   },
   {
    "duration": 11,
    "start_time": "2021-12-10T21:38:35.423Z"
   },
   {
    "duration": 8,
    "start_time": "2021-12-10T21:38:35.436Z"
   },
   {
    "duration": 7,
    "start_time": "2021-12-10T21:38:35.446Z"
   },
   {
    "duration": 11,
    "start_time": "2021-12-10T21:38:35.455Z"
   },
   {
    "duration": 58,
    "start_time": "2021-12-10T21:38:35.468Z"
   },
   {
    "duration": 12,
    "start_time": "2021-12-10T21:38:35.529Z"
   },
   {
    "duration": 8,
    "start_time": "2021-12-10T21:38:35.543Z"
   },
   {
    "duration": 6,
    "start_time": "2021-12-10T21:38:35.553Z"
   },
   {
    "duration": 7,
    "start_time": "2021-12-10T21:38:35.562Z"
   },
   {
    "duration": 60,
    "start_time": "2021-12-10T21:38:35.571Z"
   },
   {
    "duration": 12,
    "start_time": "2021-12-10T21:38:35.633Z"
   },
   {
    "duration": 10,
    "start_time": "2021-12-10T21:38:35.648Z"
   },
   {
    "duration": 74,
    "start_time": "2021-12-10T21:38:35.661Z"
   },
   {
    "duration": 7,
    "start_time": "2021-12-10T21:38:35.738Z"
   },
   {
    "duration": 11,
    "start_time": "2021-12-10T21:38:35.748Z"
   },
   {
    "duration": 14,
    "start_time": "2021-12-10T21:38:35.762Z"
   },
   {
    "duration": 62,
    "start_time": "2021-12-10T21:38:35.779Z"
   },
   {
    "duration": 15,
    "start_time": "2021-12-10T21:38:35.844Z"
   },
   {
    "duration": 9,
    "start_time": "2021-12-10T21:38:35.861Z"
   },
   {
    "duration": 48,
    "start_time": "2021-12-10T21:38:35.873Z"
   },
   {
    "duration": 22,
    "start_time": "2021-12-10T21:38:35.923Z"
   },
   {
    "duration": 17,
    "start_time": "2021-12-10T21:38:35.947Z"
   },
   {
    "duration": 11,
    "start_time": "2021-12-10T21:38:35.966Z"
   },
   {
    "duration": 23,
    "start_time": "2021-12-10T21:38:36.018Z"
   },
   {
    "duration": 9,
    "start_time": "2021-12-10T21:38:36.044Z"
   },
   {
    "duration": 82,
    "start_time": "2021-12-10T21:38:36.056Z"
   },
   {
    "duration": 11,
    "start_time": "2021-12-10T21:38:36.140Z"
   },
   {
    "duration": 9,
    "start_time": "2021-12-10T21:38:36.154Z"
   },
   {
    "duration": 958,
    "start_time": "2021-12-10T21:38:36.166Z"
   },
   {
    "duration": 7,
    "start_time": "2021-12-10T21:38:37.126Z"
   },
   {
    "duration": 6,
    "start_time": "2021-12-10T21:38:37.135Z"
   },
   {
    "duration": 33,
    "start_time": "2021-12-10T21:38:37.143Z"
   },
   {
    "duration": 3511,
    "start_time": "2021-12-10T21:38:37.179Z"
   },
   {
    "duration": 7,
    "start_time": "2021-12-10T21:38:40.693Z"
   },
   {
    "duration": 19,
    "start_time": "2021-12-10T21:38:40.718Z"
   },
   {
    "duration": 10,
    "start_time": "2021-12-10T21:38:40.740Z"
   },
   {
    "duration": 10,
    "start_time": "2021-12-10T21:38:40.752Z"
   },
   {
    "duration": 4,
    "start_time": "2021-12-10T21:38:40.765Z"
   },
   {
    "duration": 361,
    "start_time": "2021-12-10T21:38:40.771Z"
   },
   {
    "duration": 21,
    "start_time": "2021-12-10T21:38:41.134Z"
   },
   {
    "duration": 19,
    "start_time": "2021-12-10T21:38:41.158Z"
   },
   {
    "duration": 55,
    "start_time": "2021-12-10T21:38:41.179Z"
   },
   {
    "duration": 7,
    "start_time": "2021-12-10T21:38:41.237Z"
   },
   {
    "duration": 24,
    "start_time": "2021-12-10T21:38:41.247Z"
   },
   {
    "duration": 41,
    "start_time": "2021-12-10T21:38:41.278Z"
   },
   {
    "duration": 8,
    "start_time": "2021-12-10T21:38:41.323Z"
   },
   {
    "duration": 24,
    "start_time": "2021-12-10T21:38:41.334Z"
   },
   {
    "duration": 3724,
    "start_time": "2021-12-10T21:38:41.361Z"
   },
   {
    "duration": 839,
    "start_time": "2021-12-10T21:38:44.249Z"
   },
   {
    "duration": 827,
    "start_time": "2021-12-10T21:38:44.262Z"
   },
   {
    "duration": 4,
    "start_time": "2021-12-10T21:40:04.553Z"
   },
   {
    "duration": 304,
    "start_time": "2021-12-10T21:40:08.405Z"
   },
   {
    "duration": 21,
    "start_time": "2021-12-10T21:40:16.688Z"
   },
   {
    "duration": 23,
    "start_time": "2021-12-10T21:40:33.029Z"
   },
   {
    "duration": 5002,
    "start_time": "2021-12-10T21:40:44.258Z"
   },
   {
    "duration": 95,
    "start_time": "2021-12-10T21:42:32.384Z"
   },
   {
    "duration": 25,
    "start_time": "2021-12-10T21:42:38.878Z"
   },
   {
    "duration": 112,
    "start_time": "2021-12-10T21:42:41.181Z"
   },
   {
    "duration": 109,
    "start_time": "2021-12-10T21:43:20.537Z"
   },
   {
    "duration": 476,
    "start_time": "2021-12-10T21:43:28.199Z"
   },
   {
    "duration": 25,
    "start_time": "2021-12-10T21:43:46.173Z"
   },
   {
    "duration": 3636,
    "start_time": "2021-12-10T21:44:34.992Z"
   },
   {
    "duration": 25,
    "start_time": "2021-12-10T21:45:11.658Z"
   },
   {
    "duration": 3731,
    "start_time": "2021-12-10T21:45:14.635Z"
   },
   {
    "duration": 3645,
    "start_time": "2021-12-10T21:45:39.383Z"
   },
   {
    "duration": 116,
    "start_time": "2021-12-10T21:46:21.641Z"
   },
   {
    "duration": 3855,
    "start_time": "2021-12-10T21:46:54.720Z"
   },
   {
    "duration": 4630,
    "start_time": "2021-12-10T21:47:42.451Z"
   },
   {
    "duration": 823,
    "start_time": "2021-12-10T21:48:21.995Z"
   },
   {
    "duration": 22,
    "start_time": "2021-12-10T21:48:22.821Z"
   },
   {
    "duration": 11,
    "start_time": "2021-12-10T21:48:22.845Z"
   },
   {
    "duration": 7,
    "start_time": "2021-12-10T21:48:22.859Z"
   },
   {
    "duration": 52,
    "start_time": "2021-12-10T21:48:22.869Z"
   },
   {
    "duration": 6,
    "start_time": "2021-12-10T21:48:22.923Z"
   },
   {
    "duration": 8,
    "start_time": "2021-12-10T21:48:22.931Z"
   },
   {
    "duration": 11,
    "start_time": "2021-12-10T21:48:22.942Z"
   },
   {
    "duration": 64,
    "start_time": "2021-12-10T21:48:22.956Z"
   },
   {
    "duration": 7,
    "start_time": "2021-12-10T21:48:23.023Z"
   },
   {
    "duration": 11,
    "start_time": "2021-12-10T21:48:23.032Z"
   },
   {
    "duration": 6,
    "start_time": "2021-12-10T21:48:23.045Z"
   },
   {
    "duration": 21,
    "start_time": "2021-12-10T21:48:23.053Z"
   },
   {
    "duration": 54,
    "start_time": "2021-12-10T21:48:23.077Z"
   },
   {
    "duration": 10,
    "start_time": "2021-12-10T21:48:23.133Z"
   },
   {
    "duration": 5,
    "start_time": "2021-12-10T21:48:23.145Z"
   },
   {
    "duration": 313,
    "start_time": "2021-12-10T21:48:23.152Z"
   },
   {
    "duration": 11,
    "start_time": "2021-12-10T21:48:23.467Z"
   },
   {
    "duration": 14,
    "start_time": "2021-12-10T21:48:23.480Z"
   },
   {
    "duration": 27,
    "start_time": "2021-12-10T21:48:23.497Z"
   },
   {
    "duration": 13,
    "start_time": "2021-12-10T21:48:23.526Z"
   },
   {
    "duration": 12,
    "start_time": "2021-12-10T21:48:23.541Z"
   },
   {
    "duration": 5,
    "start_time": "2021-12-10T21:48:23.559Z"
   },
   {
    "duration": 18,
    "start_time": "2021-12-10T21:48:23.568Z"
   },
   {
    "duration": 29,
    "start_time": "2021-12-10T21:48:23.589Z"
   },
   {
    "duration": 7,
    "start_time": "2021-12-10T21:48:23.621Z"
   },
   {
    "duration": 13,
    "start_time": "2021-12-10T21:48:23.630Z"
   },
   {
    "duration": 29,
    "start_time": "2021-12-10T21:48:23.646Z"
   },
   {
    "duration": 16,
    "start_time": "2021-12-10T21:48:23.677Z"
   },
   {
    "duration": 6,
    "start_time": "2021-12-10T21:48:23.718Z"
   },
   {
    "duration": 19,
    "start_time": "2021-12-10T21:48:23.727Z"
   },
   {
    "duration": 7,
    "start_time": "2021-12-10T21:48:23.748Z"
   },
   {
    "duration": 15,
    "start_time": "2021-12-10T21:48:23.757Z"
   },
   {
    "duration": 44,
    "start_time": "2021-12-10T21:48:23.774Z"
   },
   {
    "duration": 10,
    "start_time": "2021-12-10T21:48:23.820Z"
   },
   {
    "duration": 31,
    "start_time": "2021-12-10T21:48:23.833Z"
   },
   {
    "duration": 6,
    "start_time": "2021-12-10T21:48:23.867Z"
   },
   {
    "duration": 42,
    "start_time": "2021-12-10T21:48:23.875Z"
   },
   {
    "duration": 11,
    "start_time": "2021-12-10T21:48:23.919Z"
   },
   {
    "duration": 27,
    "start_time": "2021-12-10T21:48:23.932Z"
   },
   {
    "duration": 15,
    "start_time": "2021-12-10T21:48:23.961Z"
   },
   {
    "duration": 42,
    "start_time": "2021-12-10T21:48:23.978Z"
   },
   {
    "duration": 6,
    "start_time": "2021-12-10T21:48:24.022Z"
   },
   {
    "duration": 18,
    "start_time": "2021-12-10T21:48:24.030Z"
   },
   {
    "duration": 16,
    "start_time": "2021-12-10T21:48:24.050Z"
   },
   {
    "duration": 47,
    "start_time": "2021-12-10T21:48:24.069Z"
   },
   {
    "duration": 23,
    "start_time": "2021-12-10T21:48:24.119Z"
   },
   {
    "duration": 8,
    "start_time": "2021-12-10T21:48:24.144Z"
   },
   {
    "duration": 76,
    "start_time": "2021-12-10T21:48:24.155Z"
   },
   {
    "duration": 9,
    "start_time": "2021-12-10T21:48:24.234Z"
   },
   {
    "duration": 18,
    "start_time": "2021-12-10T21:48:24.246Z"
   },
   {
    "duration": 975,
    "start_time": "2021-12-10T21:48:24.267Z"
   },
   {
    "duration": 8,
    "start_time": "2021-12-10T21:48:25.245Z"
   },
   {
    "duration": 7,
    "start_time": "2021-12-10T21:48:25.256Z"
   },
   {
    "duration": 53,
    "start_time": "2021-12-10T21:48:25.266Z"
   },
   {
    "duration": 3499,
    "start_time": "2021-12-10T21:48:25.322Z"
   },
   {
    "duration": 7,
    "start_time": "2021-12-10T21:48:28.823Z"
   },
   {
    "duration": 22,
    "start_time": "2021-12-10T21:48:28.833Z"
   },
   {
    "duration": 12,
    "start_time": "2021-12-10T21:48:28.857Z"
   },
   {
    "duration": 47,
    "start_time": "2021-12-10T21:48:28.871Z"
   },
   {
    "duration": 5,
    "start_time": "2021-12-10T21:48:28.921Z"
   },
   {
    "duration": 307,
    "start_time": "2021-12-10T21:48:28.928Z"
   },
   {
    "duration": 20,
    "start_time": "2021-12-10T21:48:29.237Z"
   },
   {
    "duration": 19,
    "start_time": "2021-12-10T21:48:29.260Z"
   },
   {
    "duration": 58,
    "start_time": "2021-12-10T21:48:29.281Z"
   },
   {
    "duration": 6,
    "start_time": "2021-12-10T21:48:29.341Z"
   },
   {
    "duration": 25,
    "start_time": "2021-12-10T21:48:29.350Z"
   },
   {
    "duration": 8,
    "start_time": "2021-12-10T21:48:29.381Z"
   },
   {
    "duration": 7,
    "start_time": "2021-12-10T21:48:29.418Z"
   },
   {
    "duration": 26,
    "start_time": "2021-12-10T21:48:29.427Z"
   },
   {
    "duration": 4239,
    "start_time": "2021-12-10T21:48:29.455Z"
   },
   {
    "duration": 693,
    "start_time": "2021-12-10T21:48:33.005Z"
   },
   {
    "duration": 679,
    "start_time": "2021-12-10T21:48:33.021Z"
   },
   {
    "duration": 329,
    "start_time": "2021-12-10T21:49:51.564Z"
   },
   {
    "duration": 25,
    "start_time": "2021-12-10T21:50:24.852Z"
   },
   {
    "duration": 3561,
    "start_time": "2021-12-10T21:50:29.075Z"
   },
   {
    "duration": 26,
    "start_time": "2021-12-10T21:55:15.712Z"
   },
   {
    "duration": 25,
    "start_time": "2021-12-10T21:55:45.467Z"
   },
   {
    "duration": 3692,
    "start_time": "2021-12-10T21:56:23.631Z"
   },
   {
    "duration": 97,
    "start_time": "2021-12-10T21:56:47.157Z"
   },
   {
    "duration": 93,
    "start_time": "2021-12-10T21:56:56.499Z"
   },
   {
    "duration": 110,
    "start_time": "2021-12-10T21:57:30.146Z"
   },
   {
    "duration": 91,
    "start_time": "2021-12-10T21:57:52.423Z"
   },
   {
    "duration": 101,
    "start_time": "2021-12-10T21:58:30.120Z"
   },
   {
    "duration": 2787,
    "start_time": "2021-12-10T21:58:48.011Z"
   },
   {
    "duration": 5,
    "start_time": "2021-12-10T21:59:06.524Z"
   },
   {
    "duration": 5,
    "start_time": "2021-12-10T21:59:14.696Z"
   },
   {
    "duration": 6,
    "start_time": "2021-12-10T21:59:36.623Z"
   },
   {
    "duration": 7,
    "start_time": "2021-12-10T21:59:46.735Z"
   },
   {
    "duration": 99,
    "start_time": "2021-12-10T22:00:30.888Z"
   },
   {
    "duration": 284,
    "start_time": "2021-12-10T22:00:51.781Z"
   },
   {
    "duration": 4,
    "start_time": "2021-12-10T22:02:06.274Z"
   },
   {
    "duration": 378,
    "start_time": "2021-12-10T22:02:08.998Z"
   },
   {
    "duration": 21,
    "start_time": "2021-12-10T22:02:13.079Z"
   },
   {
    "duration": 3635,
    "start_time": "2021-12-10T22:02:41.679Z"
   },
   {
    "duration": 24,
    "start_time": "2021-12-10T22:02:53.407Z"
   },
   {
    "duration": 6,
    "start_time": "2021-12-10T22:02:57.463Z"
   },
   {
    "duration": 104,
    "start_time": "2021-12-10T22:04:05.415Z"
   },
   {
    "duration": 108,
    "start_time": "2021-12-10T22:04:22.526Z"
   },
   {
    "duration": 6,
    "start_time": "2021-12-10T22:04:33.368Z"
   },
   {
    "duration": 8,
    "start_time": "2021-12-10T22:05:47.677Z"
   },
   {
    "duration": 96,
    "start_time": "2021-12-10T22:09:59.548Z"
   },
   {
    "duration": 7,
    "start_time": "2021-12-10T22:10:38.030Z"
   },
   {
    "duration": 6,
    "start_time": "2021-12-10T22:11:17.811Z"
   },
   {
    "duration": 23,
    "start_time": "2021-12-10T22:11:36.984Z"
   },
   {
    "duration": 9,
    "start_time": "2021-12-10T22:11:43.882Z"
   },
   {
    "duration": 8,
    "start_time": "2021-12-10T22:13:26.602Z"
   },
   {
    "duration": 8,
    "start_time": "2021-12-10T22:14:08.980Z"
   },
   {
    "duration": 8,
    "start_time": "2021-12-10T22:14:19.301Z"
   },
   {
    "duration": 8,
    "start_time": "2021-12-10T22:14:32.188Z"
   },
   {
    "duration": 94,
    "start_time": "2021-12-10T22:16:33.414Z"
   },
   {
    "duration": 23,
    "start_time": "2021-12-10T22:16:33.511Z"
   },
   {
    "duration": 7,
    "start_time": "2021-12-10T22:16:33.537Z"
   },
   {
    "duration": 14,
    "start_time": "2021-12-10T22:16:33.547Z"
   },
   {
    "duration": 55,
    "start_time": "2021-12-10T22:16:33.564Z"
   },
   {
    "duration": 6,
    "start_time": "2021-12-10T22:16:33.621Z"
   },
   {
    "duration": 12,
    "start_time": "2021-12-10T22:16:33.629Z"
   },
   {
    "duration": 11,
    "start_time": "2021-12-10T22:16:33.645Z"
   },
   {
    "duration": 78,
    "start_time": "2021-12-10T22:16:33.660Z"
   },
   {
    "duration": 7,
    "start_time": "2021-12-10T22:16:33.740Z"
   },
   {
    "duration": 8,
    "start_time": "2021-12-10T22:16:33.749Z"
   },
   {
    "duration": 7,
    "start_time": "2021-12-10T22:16:33.759Z"
   },
   {
    "duration": 59,
    "start_time": "2021-12-10T22:16:33.768Z"
   },
   {
    "duration": 22,
    "start_time": "2021-12-10T22:16:33.829Z"
   },
   {
    "duration": 10,
    "start_time": "2021-12-10T22:16:33.853Z"
   },
   {
    "duration": 4,
    "start_time": "2021-12-10T22:16:33.866Z"
   },
   {
    "duration": 350,
    "start_time": "2021-12-10T22:16:33.872Z"
   },
   {
    "duration": 11,
    "start_time": "2021-12-10T22:16:34.225Z"
   },
   {
    "duration": 8,
    "start_time": "2021-12-10T22:16:34.239Z"
   },
   {
    "duration": 11,
    "start_time": "2021-12-10T22:16:34.250Z"
   },
   {
    "duration": 54,
    "start_time": "2021-12-10T22:16:34.263Z"
   },
   {
    "duration": 8,
    "start_time": "2021-12-10T22:16:34.319Z"
   },
   {
    "duration": 5,
    "start_time": "2021-12-10T22:16:34.333Z"
   },
   {
    "duration": 7,
    "start_time": "2021-12-10T22:16:34.342Z"
   },
   {
    "duration": 5,
    "start_time": "2021-12-10T22:16:34.351Z"
   },
   {
    "duration": 15,
    "start_time": "2021-12-10T22:16:34.358Z"
   },
   {
    "duration": 47,
    "start_time": "2021-12-10T22:16:34.375Z"
   },
   {
    "duration": 22,
    "start_time": "2021-12-10T22:16:34.424Z"
   },
   {
    "duration": 12,
    "start_time": "2021-12-10T22:16:34.448Z"
   },
   {
    "duration": 10,
    "start_time": "2021-12-10T22:16:34.462Z"
   },
   {
    "duration": 47,
    "start_time": "2021-12-10T22:16:34.474Z"
   },
   {
    "duration": 9,
    "start_time": "2021-12-10T22:16:34.523Z"
   },
   {
    "duration": 15,
    "start_time": "2021-12-10T22:16:34.534Z"
   },
   {
    "duration": 11,
    "start_time": "2021-12-10T22:16:34.551Z"
   },
   {
    "duration": 10,
    "start_time": "2021-12-10T22:16:34.565Z"
   },
   {
    "duration": 69,
    "start_time": "2021-12-10T22:16:34.577Z"
   },
   {
    "duration": 7,
    "start_time": "2021-12-10T22:16:34.648Z"
   },
   {
    "duration": 13,
    "start_time": "2021-12-10T22:16:34.657Z"
   },
   {
    "duration": 12,
    "start_time": "2021-12-10T22:16:34.673Z"
   },
   {
    "duration": 27,
    "start_time": "2021-12-10T22:16:34.718Z"
   },
   {
    "duration": 16,
    "start_time": "2021-12-10T22:16:34.748Z"
   },
   {
    "duration": 11,
    "start_time": "2021-12-10T22:16:34.766Z"
   },
   {
    "duration": 8,
    "start_time": "2021-12-10T22:16:34.822Z"
   },
   {
    "duration": 27,
    "start_time": "2021-12-10T22:16:34.832Z"
   },
   {
    "duration": 17,
    "start_time": "2021-12-10T22:16:34.861Z"
   },
   {
    "duration": 6,
    "start_time": "2021-12-10T22:16:34.881Z"
   },
   {
    "duration": 47,
    "start_time": "2021-12-10T22:16:34.889Z"
   },
   {
    "duration": 8,
    "start_time": "2021-12-10T22:16:34.938Z"
   },
   {
    "duration": 71,
    "start_time": "2021-12-10T22:16:34.948Z"
   },
   {
    "duration": 8,
    "start_time": "2021-12-10T22:16:35.021Z"
   },
   {
    "duration": 7,
    "start_time": "2021-12-10T22:16:35.033Z"
   },
   {
    "duration": 987,
    "start_time": "2021-12-10T22:16:35.042Z"
   },
   {
    "duration": 6,
    "start_time": "2021-12-10T22:16:36.032Z"
   },
   {
    "duration": 9,
    "start_time": "2021-12-10T22:16:36.040Z"
   },
   {
    "duration": 23,
    "start_time": "2021-12-10T22:16:36.051Z"
   },
   {
    "duration": 3557,
    "start_time": "2021-12-10T22:16:36.076Z"
   },
   {
    "duration": 7,
    "start_time": "2021-12-10T22:16:39.636Z"
   },
   {
    "duration": 21,
    "start_time": "2021-12-10T22:16:39.645Z"
   },
   {
    "duration": 11,
    "start_time": "2021-12-10T22:16:39.668Z"
   },
   {
    "duration": 44,
    "start_time": "2021-12-10T22:16:39.682Z"
   },
   {
    "duration": 4,
    "start_time": "2021-12-10T22:16:39.728Z"
   },
   {
    "duration": 314,
    "start_time": "2021-12-10T22:16:39.735Z"
   },
   {
    "duration": 23,
    "start_time": "2021-12-10T22:16:40.052Z"
   },
   {
    "duration": 45,
    "start_time": "2021-12-10T22:16:40.078Z"
   },
   {
    "duration": 25,
    "start_time": "2021-12-10T22:16:40.126Z"
   },
   {
    "duration": 7,
    "start_time": "2021-12-10T22:16:40.153Z"
   },
   {
    "duration": 56,
    "start_time": "2021-12-10T22:16:40.162Z"
   },
   {
    "duration": 8,
    "start_time": "2021-12-10T22:16:40.225Z"
   },
   {
    "duration": 7,
    "start_time": "2021-12-10T22:16:40.236Z"
   },
   {
    "duration": 26,
    "start_time": "2021-12-10T22:16:40.245Z"
   },
   {
    "duration": 8,
    "start_time": "2021-12-10T22:16:40.273Z"
   },
   {
    "duration": 25,
    "start_time": "2021-12-10T22:16:40.318Z"
   },
   {
    "duration": 3578,
    "start_time": "2021-12-10T22:16:40.346Z"
   },
   {
    "duration": 3554,
    "start_time": "2021-12-10T22:20:48.029Z"
   },
   {
    "duration": 4676,
    "start_time": "2021-12-10T22:21:36.009Z"
   },
   {
    "duration": 26,
    "start_time": "2021-12-10T22:21:47.981Z"
   },
   {
    "duration": 3591,
    "start_time": "2021-12-10T22:21:51.134Z"
   },
   {
    "duration": 3661,
    "start_time": "2021-12-10T22:22:10.656Z"
   },
   {
    "duration": 3687,
    "start_time": "2021-12-10T22:22:28.544Z"
   },
   {
    "duration": 10,
    "start_time": "2021-12-10T22:22:48.679Z"
   },
   {
    "duration": 15,
    "start_time": "2021-12-10T22:23:01.476Z"
   },
   {
    "duration": 3650,
    "start_time": "2021-12-10T22:24:30.057Z"
   },
   {
    "duration": 3878,
    "start_time": "2021-12-10T22:24:47.769Z"
   },
   {
    "duration": 3931,
    "start_time": "2021-12-10T22:25:14.980Z"
   },
   {
    "duration": 4650,
    "start_time": "2021-12-10T22:25:35.276Z"
   },
   {
    "duration": 6,
    "start_time": "2021-12-10T22:27:20.363Z"
   },
   {
    "duration": 6,
    "start_time": "2021-12-10T22:27:35.757Z"
   },
   {
    "duration": 5,
    "start_time": "2021-12-10T22:28:22.735Z"
   },
   {
    "duration": 4007,
    "start_time": "2021-12-10T22:29:03.066Z"
   },
   {
    "duration": 6,
    "start_time": "2021-12-10T22:29:23.745Z"
   },
   {
    "duration": 3806,
    "start_time": "2021-12-10T22:29:31.995Z"
   },
   {
    "duration": 5,
    "start_time": "2021-12-10T22:30:14.829Z"
   },
   {
    "duration": 6,
    "start_time": "2021-12-10T22:30:29.565Z"
   },
   {
    "duration": 9,
    "start_time": "2021-12-10T22:31:13.264Z"
   },
   {
    "duration": 28,
    "start_time": "2021-12-10T22:31:42.380Z"
   },
   {
    "duration": 8,
    "start_time": "2021-12-10T22:35:49.928Z"
   },
   {
    "duration": 10,
    "start_time": "2021-12-10T22:41:36.437Z"
   },
   {
    "duration": 25,
    "start_time": "2021-12-10T22:41:57.247Z"
   },
   {
    "duration": 10,
    "start_time": "2021-12-10T22:42:00.089Z"
   },
   {
    "duration": 793,
    "start_time": "2021-12-11T16:06:42.573Z"
   },
   {
    "duration": 14,
    "start_time": "2021-12-11T16:06:43.369Z"
   },
   {
    "duration": 7,
    "start_time": "2021-12-11T16:06:43.386Z"
   },
   {
    "duration": 28,
    "start_time": "2021-12-11T16:06:43.396Z"
   },
   {
    "duration": 16,
    "start_time": "2021-12-11T16:06:43.427Z"
   },
   {
    "duration": 5,
    "start_time": "2021-12-11T16:06:43.445Z"
   },
   {
    "duration": 13,
    "start_time": "2021-12-11T16:06:43.452Z"
   },
   {
    "duration": 10,
    "start_time": "2021-12-11T16:06:43.469Z"
   },
   {
    "duration": 78,
    "start_time": "2021-12-11T16:06:43.481Z"
   },
   {
    "duration": 8,
    "start_time": "2021-12-11T16:06:43.561Z"
   },
   {
    "duration": 10,
    "start_time": "2021-12-11T16:06:43.571Z"
   },
   {
    "duration": 9,
    "start_time": "2021-12-11T16:06:43.583Z"
   },
   {
    "duration": 41,
    "start_time": "2021-12-11T16:06:43.595Z"
   },
   {
    "duration": 19,
    "start_time": "2021-12-11T16:06:43.638Z"
   },
   {
    "duration": 10,
    "start_time": "2021-12-11T16:06:43.660Z"
   },
   {
    "duration": 5,
    "start_time": "2021-12-11T16:06:43.672Z"
   },
   {
    "duration": 398,
    "start_time": "2021-12-11T16:06:43.679Z"
   },
   {
    "duration": 10,
    "start_time": "2021-12-11T16:06:44.079Z"
   },
   {
    "duration": 33,
    "start_time": "2021-12-11T16:06:44.091Z"
   },
   {
    "duration": 22,
    "start_time": "2021-12-11T16:06:44.126Z"
   },
   {
    "duration": 7,
    "start_time": "2021-12-11T16:06:44.150Z"
   },
   {
    "duration": 13,
    "start_time": "2021-12-11T16:06:44.159Z"
   },
   {
    "duration": 5,
    "start_time": "2021-12-11T16:06:44.178Z"
   },
   {
    "duration": 39,
    "start_time": "2021-12-11T16:06:44.186Z"
   },
   {
    "duration": 14,
    "start_time": "2021-12-11T16:06:44.228Z"
   },
   {
    "duration": 7,
    "start_time": "2021-12-11T16:06:44.245Z"
   },
   {
    "duration": 12,
    "start_time": "2021-12-11T16:06:44.254Z"
   },
   {
    "duration": 19,
    "start_time": "2021-12-11T16:06:44.268Z"
   },
   {
    "duration": 48,
    "start_time": "2021-12-11T16:06:44.290Z"
   },
   {
    "duration": 24,
    "start_time": "2021-12-11T16:06:44.340Z"
   },
   {
    "duration": 17,
    "start_time": "2021-12-11T16:06:44.366Z"
   },
   {
    "duration": 24,
    "start_time": "2021-12-11T16:06:44.385Z"
   },
   {
    "duration": 27,
    "start_time": "2021-12-11T16:06:44.411Z"
   },
   {
    "duration": 13,
    "start_time": "2021-12-11T16:06:44.440Z"
   },
   {
    "duration": 26,
    "start_time": "2021-12-11T16:06:44.456Z"
   },
   {
    "duration": 50,
    "start_time": "2021-12-11T16:06:44.484Z"
   },
   {
    "duration": 7,
    "start_time": "2021-12-11T16:06:44.536Z"
   },
   {
    "duration": 28,
    "start_time": "2021-12-11T16:06:44.545Z"
   },
   {
    "duration": 21,
    "start_time": "2021-12-11T16:06:44.576Z"
   },
   {
    "duration": 46,
    "start_time": "2021-12-11T16:06:44.599Z"
   },
   {
    "duration": 17,
    "start_time": "2021-12-11T16:06:44.647Z"
   },
   {
    "duration": 18,
    "start_time": "2021-12-11T16:06:44.666Z"
   },
   {
    "duration": 22,
    "start_time": "2021-12-11T16:06:44.686Z"
   },
   {
    "duration": 25,
    "start_time": "2021-12-11T16:06:44.711Z"
   },
   {
    "duration": 26,
    "start_time": "2021-12-11T16:06:44.739Z"
   },
   {
    "duration": 8,
    "start_time": "2021-12-11T16:06:44.767Z"
   },
   {
    "duration": 25,
    "start_time": "2021-12-11T16:06:44.778Z"
   },
   {
    "duration": 20,
    "start_time": "2021-12-11T16:06:44.806Z"
   },
   {
    "duration": 41,
    "start_time": "2021-12-11T16:06:44.828Z"
   },
   {
    "duration": 7,
    "start_time": "2021-12-11T16:06:44.871Z"
   },
   {
    "duration": 16,
    "start_time": "2021-12-11T16:06:44.880Z"
   },
   {
    "duration": 901,
    "start_time": "2021-12-11T16:06:44.899Z"
   },
   {
    "duration": 7,
    "start_time": "2021-12-11T16:06:45.803Z"
   },
   {
    "duration": 11,
    "start_time": "2021-12-11T16:06:45.823Z"
   },
   {
    "duration": 36,
    "start_time": "2021-12-11T16:06:45.836Z"
   },
   {
    "duration": 3880,
    "start_time": "2021-12-11T16:06:45.874Z"
   },
   {
    "duration": 8,
    "start_time": "2021-12-11T16:06:49.756Z"
   },
   {
    "duration": 37,
    "start_time": "2021-12-11T16:06:49.766Z"
   },
   {
    "duration": 23,
    "start_time": "2021-12-11T16:06:49.805Z"
   },
   {
    "duration": 10,
    "start_time": "2021-12-11T16:06:49.830Z"
   },
   {
    "duration": 19,
    "start_time": "2021-12-11T16:06:49.843Z"
   },
   {
    "duration": 450,
    "start_time": "2021-12-11T16:06:49.864Z"
   },
   {
    "duration": 27,
    "start_time": "2021-12-11T16:06:50.316Z"
   },
   {
    "duration": 43,
    "start_time": "2021-12-11T16:06:50.346Z"
   },
   {
    "duration": 43,
    "start_time": "2021-12-11T16:06:50.392Z"
   },
   {
    "duration": 9,
    "start_time": "2021-12-11T16:06:50.438Z"
   },
   {
    "duration": 43,
    "start_time": "2021-12-11T16:06:50.450Z"
   },
   {
    "duration": 23,
    "start_time": "2021-12-11T16:06:50.502Z"
   },
   {
    "duration": 9,
    "start_time": "2021-12-11T16:06:50.528Z"
   },
   {
    "duration": 27,
    "start_time": "2021-12-11T16:06:50.540Z"
   },
   {
    "duration": 9,
    "start_time": "2021-12-11T16:06:50.570Z"
   },
   {
    "duration": 27,
    "start_time": "2021-12-11T16:06:50.624Z"
   },
   {
    "duration": 11,
    "start_time": "2021-12-11T16:06:50.653Z"
   },
   {
    "duration": 18,
    "start_time": "2021-12-11T16:09:53.749Z"
   },
   {
    "duration": 26,
    "start_time": "2021-12-11T16:10:11.331Z"
   },
   {
    "duration": 76,
    "start_time": "2021-12-11T16:10:53.295Z"
   },
   {
    "duration": 14,
    "start_time": "2021-12-11T16:10:53.374Z"
   },
   {
    "duration": 34,
    "start_time": "2021-12-11T16:10:53.391Z"
   },
   {
    "duration": 8,
    "start_time": "2021-12-11T16:10:53.427Z"
   },
   {
    "duration": 15,
    "start_time": "2021-12-11T16:10:53.438Z"
   },
   {
    "duration": 6,
    "start_time": "2021-12-11T16:10:53.455Z"
   },
   {
    "duration": 14,
    "start_time": "2021-12-11T16:10:53.463Z"
   },
   {
    "duration": 61,
    "start_time": "2021-12-11T16:10:53.481Z"
   },
   {
    "duration": 55,
    "start_time": "2021-12-11T16:10:53.545Z"
   },
   {
    "duration": 8,
    "start_time": "2021-12-11T16:10:53.602Z"
   },
   {
    "duration": 31,
    "start_time": "2021-12-11T16:10:53.612Z"
   },
   {
    "duration": 35,
    "start_time": "2021-12-11T16:10:53.645Z"
   },
   {
    "duration": 35,
    "start_time": "2021-12-11T16:10:53.682Z"
   },
   {
    "duration": 35,
    "start_time": "2021-12-11T16:10:53.720Z"
   },
   {
    "duration": 25,
    "start_time": "2021-12-11T16:10:53.757Z"
   },
   {
    "duration": 23,
    "start_time": "2021-12-11T16:10:53.784Z"
   },
   {
    "duration": 397,
    "start_time": "2021-12-11T16:10:53.810Z"
   },
   {
    "duration": 19,
    "start_time": "2021-12-11T16:10:54.209Z"
   },
   {
    "duration": 10,
    "start_time": "2021-12-11T16:10:54.231Z"
   },
   {
    "duration": 24,
    "start_time": "2021-12-11T16:10:54.243Z"
   },
   {
    "duration": 14,
    "start_time": "2021-12-11T16:10:54.269Z"
   },
   {
    "duration": 39,
    "start_time": "2021-12-11T16:10:54.285Z"
   },
   {
    "duration": 5,
    "start_time": "2021-12-11T16:10:54.329Z"
   },
   {
    "duration": 20,
    "start_time": "2021-12-11T16:10:54.337Z"
   },
   {
    "duration": 16,
    "start_time": "2021-12-11T16:10:54.360Z"
   },
   {
    "duration": 19,
    "start_time": "2021-12-11T16:10:54.379Z"
   },
   {
    "duration": 15,
    "start_time": "2021-12-11T16:10:54.401Z"
   },
   {
    "duration": 33,
    "start_time": "2021-12-11T16:10:54.419Z"
   },
   {
    "duration": 19,
    "start_time": "2021-12-11T16:10:54.454Z"
   },
   {
    "duration": 19,
    "start_time": "2021-12-11T16:10:54.475Z"
   },
   {
    "duration": 27,
    "start_time": "2021-12-11T16:10:54.496Z"
   },
   {
    "duration": 12,
    "start_time": "2021-12-11T16:10:54.531Z"
   },
   {
    "duration": 25,
    "start_time": "2021-12-11T16:10:54.546Z"
   },
   {
    "duration": 12,
    "start_time": "2021-12-11T16:10:54.573Z"
   },
   {
    "duration": 9,
    "start_time": "2021-12-11T16:10:54.588Z"
   },
   {
    "duration": 57,
    "start_time": "2021-12-11T16:10:54.599Z"
   },
   {
    "duration": 7,
    "start_time": "2021-12-11T16:10:54.658Z"
   },
   {
    "duration": 24,
    "start_time": "2021-12-11T16:10:54.668Z"
   },
   {
    "duration": 14,
    "start_time": "2021-12-11T16:10:54.695Z"
   },
   {
    "duration": 26,
    "start_time": "2021-12-11T16:10:54.724Z"
   },
   {
    "duration": 19,
    "start_time": "2021-12-11T16:10:54.752Z"
   },
   {
    "duration": 12,
    "start_time": "2021-12-11T16:10:54.774Z"
   },
   {
    "duration": 35,
    "start_time": "2021-12-11T16:10:54.788Z"
   },
   {
    "duration": 16,
    "start_time": "2021-12-11T16:10:54.826Z"
   },
   {
    "duration": 27,
    "start_time": "2021-12-11T16:10:54.845Z"
   },
   {
    "duration": 9,
    "start_time": "2021-12-11T16:10:54.874Z"
   },
   {
    "duration": 26,
    "start_time": "2021-12-11T16:10:54.885Z"
   },
   {
    "duration": 8,
    "start_time": "2021-12-11T16:10:54.923Z"
   },
   {
    "duration": 40,
    "start_time": "2021-12-11T16:10:57.656Z"
   },
   {
    "duration": 18,
    "start_time": "2021-12-11T16:10:59.640Z"
   },
   {
    "duration": 117,
    "start_time": "2021-12-11T16:14:07.606Z"
   },
   {
    "duration": 14,
    "start_time": "2021-12-11T16:14:07.726Z"
   },
   {
    "duration": 9,
    "start_time": "2021-12-11T16:14:07.743Z"
   },
   {
    "duration": 30,
    "start_time": "2021-12-11T16:14:07.755Z"
   },
   {
    "duration": 28,
    "start_time": "2021-12-11T16:14:07.787Z"
   },
   {
    "duration": 14,
    "start_time": "2021-12-11T16:14:07.817Z"
   },
   {
    "duration": 19,
    "start_time": "2021-12-11T16:14:07.833Z"
   },
   {
    "duration": 20,
    "start_time": "2021-12-11T16:14:07.856Z"
   },
   {
    "duration": 59,
    "start_time": "2021-12-11T16:14:07.879Z"
   },
   {
    "duration": 8,
    "start_time": "2021-12-11T16:14:07.940Z"
   },
   {
    "duration": 22,
    "start_time": "2021-12-11T16:14:07.951Z"
   },
   {
    "duration": 17,
    "start_time": "2021-12-11T16:14:07.975Z"
   },
   {
    "duration": 15,
    "start_time": "2021-12-11T16:14:07.994Z"
   },
   {
    "duration": 29,
    "start_time": "2021-12-11T16:14:08.011Z"
   },
   {
    "duration": 11,
    "start_time": "2021-12-11T16:14:08.042Z"
   },
   {
    "duration": 12,
    "start_time": "2021-12-11T16:14:08.055Z"
   },
   {
    "duration": 401,
    "start_time": "2021-12-11T16:14:08.069Z"
   },
   {
    "duration": 10,
    "start_time": "2021-12-11T16:14:08.473Z"
   },
   {
    "duration": 19,
    "start_time": "2021-12-11T16:14:08.486Z"
   },
   {
    "duration": 31,
    "start_time": "2021-12-11T16:14:08.507Z"
   },
   {
    "duration": 10,
    "start_time": "2021-12-11T16:14:08.540Z"
   },
   {
    "duration": 15,
    "start_time": "2021-12-11T16:14:08.552Z"
   },
   {
    "duration": 15,
    "start_time": "2021-12-11T16:14:08.573Z"
   },
   {
    "duration": 33,
    "start_time": "2021-12-11T16:14:08.592Z"
   },
   {
    "duration": 7,
    "start_time": "2021-12-11T16:14:08.627Z"
   },
   {
    "duration": 20,
    "start_time": "2021-12-11T16:14:08.636Z"
   },
   {
    "duration": 25,
    "start_time": "2021-12-11T16:14:08.658Z"
   },
   {
    "duration": 30,
    "start_time": "2021-12-11T16:14:08.685Z"
   },
   {
    "duration": 28,
    "start_time": "2021-12-11T16:14:08.717Z"
   },
   {
    "duration": 33,
    "start_time": "2021-12-11T16:14:08.748Z"
   },
   {
    "duration": 9,
    "start_time": "2021-12-11T16:14:08.784Z"
   },
   {
    "duration": 27,
    "start_time": "2021-12-11T16:14:08.795Z"
   },
   {
    "duration": 35,
    "start_time": "2021-12-11T16:14:08.824Z"
   },
   {
    "duration": 11,
    "start_time": "2021-12-11T16:14:08.862Z"
   },
   {
    "duration": 19,
    "start_time": "2021-12-11T16:14:08.876Z"
   },
   {
    "duration": 55,
    "start_time": "2021-12-11T16:14:08.897Z"
   },
   {
    "duration": 6,
    "start_time": "2021-12-11T16:14:08.954Z"
   },
   {
    "duration": 35,
    "start_time": "2021-12-11T16:14:08.963Z"
   },
   {
    "duration": 23,
    "start_time": "2021-12-11T16:14:09.000Z"
   },
   {
    "duration": 36,
    "start_time": "2021-12-11T16:14:09.025Z"
   },
   {
    "duration": 23,
    "start_time": "2021-12-11T16:14:09.063Z"
   },
   {
    "duration": 16,
    "start_time": "2021-12-11T16:14:09.088Z"
   },
   {
    "duration": 18,
    "start_time": "2021-12-11T16:14:09.107Z"
   },
   {
    "duration": 30,
    "start_time": "2021-12-11T16:14:09.127Z"
   },
   {
    "duration": 15,
    "start_time": "2021-12-11T16:14:09.160Z"
   },
   {
    "duration": 8,
    "start_time": "2021-12-11T16:14:09.178Z"
   },
   {
    "duration": 40,
    "start_time": "2021-12-11T16:14:09.189Z"
   },
   {
    "duration": 8,
    "start_time": "2021-12-11T16:14:09.231Z"
   },
   {
    "duration": 41,
    "start_time": "2021-12-11T16:14:09.242Z"
   },
   {
    "duration": 8,
    "start_time": "2021-12-11T16:14:09.286Z"
   },
   {
    "duration": 8,
    "start_time": "2021-12-11T16:14:09.324Z"
   },
   {
    "duration": 874,
    "start_time": "2021-12-11T16:14:09.334Z"
   },
   {
    "duration": 13,
    "start_time": "2021-12-11T16:14:10.211Z"
   },
   {
    "duration": 13,
    "start_time": "2021-12-11T16:14:10.227Z"
   },
   {
    "duration": 39,
    "start_time": "2021-12-11T16:14:10.242Z"
   },
   {
    "duration": 4004,
    "start_time": "2021-12-11T16:14:10.284Z"
   },
   {
    "duration": 7,
    "start_time": "2021-12-11T16:14:14.291Z"
   },
   {
    "duration": 36,
    "start_time": "2021-12-11T16:14:14.300Z"
   },
   {
    "duration": 10,
    "start_time": "2021-12-11T16:14:14.339Z"
   },
   {
    "duration": 19,
    "start_time": "2021-12-11T16:14:14.351Z"
   },
   {
    "duration": 12,
    "start_time": "2021-12-11T16:14:14.372Z"
   },
   {
    "duration": 402,
    "start_time": "2021-12-11T16:14:14.386Z"
   },
   {
    "duration": 885,
    "start_time": "2021-12-11T16:14:36.881Z"
   },
   {
    "duration": 15,
    "start_time": "2021-12-11T16:14:37.769Z"
   },
   {
    "duration": 6,
    "start_time": "2021-12-11T16:14:37.790Z"
   },
   {
    "duration": 8,
    "start_time": "2021-12-11T16:14:37.822Z"
   },
   {
    "duration": 15,
    "start_time": "2021-12-11T16:14:37.833Z"
   },
   {
    "duration": 6,
    "start_time": "2021-12-11T16:14:37.850Z"
   },
   {
    "duration": 7,
    "start_time": "2021-12-11T16:14:37.861Z"
   },
   {
    "duration": 60,
    "start_time": "2021-12-11T16:14:37.871Z"
   },
   {
    "duration": 47,
    "start_time": "2021-12-11T16:14:37.934Z"
   },
   {
    "duration": 43,
    "start_time": "2021-12-11T16:14:37.983Z"
   },
   {
    "duration": 8,
    "start_time": "2021-12-11T16:14:38.028Z"
   },
   {
    "duration": 7,
    "start_time": "2021-12-11T16:14:38.039Z"
   },
   {
    "duration": 15,
    "start_time": "2021-12-11T16:14:38.049Z"
   },
   {
    "duration": 67,
    "start_time": "2021-12-11T16:14:38.067Z"
   },
   {
    "duration": 14,
    "start_time": "2021-12-11T16:14:38.136Z"
   },
   {
    "duration": 6,
    "start_time": "2021-12-11T16:14:38.152Z"
   },
   {
    "duration": 412,
    "start_time": "2021-12-11T16:14:38.162Z"
   },
   {
    "duration": 12,
    "start_time": "2021-12-11T16:14:38.578Z"
   },
   {
    "duration": 34,
    "start_time": "2021-12-11T16:14:38.593Z"
   },
   {
    "duration": 22,
    "start_time": "2021-12-11T16:14:38.630Z"
   },
   {
    "duration": 6,
    "start_time": "2021-12-11T16:14:38.654Z"
   },
   {
    "duration": 13,
    "start_time": "2021-12-11T16:14:38.662Z"
   },
   {
    "duration": 7,
    "start_time": "2021-12-11T16:14:38.677Z"
   },
   {
    "duration": 7,
    "start_time": "2021-12-11T16:14:38.722Z"
   },
   {
    "duration": 5,
    "start_time": "2021-12-11T16:14:38.735Z"
   },
   {
    "duration": 7,
    "start_time": "2021-12-11T16:14:38.744Z"
   },
   {
    "duration": 10,
    "start_time": "2021-12-11T16:14:38.753Z"
   },
   {
    "duration": 65,
    "start_time": "2021-12-11T16:14:38.765Z"
   },
   {
    "duration": 16,
    "start_time": "2021-12-11T16:14:38.832Z"
   },
   {
    "duration": 6,
    "start_time": "2021-12-11T16:14:38.851Z"
   },
   {
    "duration": 7,
    "start_time": "2021-12-11T16:14:38.860Z"
   },
   {
    "duration": 6,
    "start_time": "2021-12-11T16:14:38.870Z"
   },
   {
    "duration": 56,
    "start_time": "2021-12-11T16:14:38.879Z"
   },
   {
    "duration": 11,
    "start_time": "2021-12-11T16:14:38.938Z"
   },
   {
    "duration": 9,
    "start_time": "2021-12-11T16:14:38.951Z"
   },
   {
    "duration": 82,
    "start_time": "2021-12-11T16:14:38.963Z"
   },
   {
    "duration": 7,
    "start_time": "2021-12-11T16:14:39.048Z"
   },
   {
    "duration": 25,
    "start_time": "2021-12-11T16:14:39.057Z"
   },
   {
    "duration": 11,
    "start_time": "2021-12-11T16:14:39.084Z"
   },
   {
    "duration": 43,
    "start_time": "2021-12-11T16:14:39.097Z"
   },
   {
    "duration": 15,
    "start_time": "2021-12-11T16:14:39.143Z"
   },
   {
    "duration": 9,
    "start_time": "2021-12-11T16:14:39.161Z"
   },
   {
    "duration": 8,
    "start_time": "2021-12-11T16:14:39.172Z"
   },
   {
    "duration": 50,
    "start_time": "2021-12-11T16:14:39.182Z"
   },
   {
    "duration": 19,
    "start_time": "2021-12-11T16:14:39.235Z"
   },
   {
    "duration": 7,
    "start_time": "2021-12-11T16:14:39.257Z"
   },
   {
    "duration": 62,
    "start_time": "2021-12-11T16:14:39.268Z"
   },
   {
    "duration": 8,
    "start_time": "2021-12-11T16:14:39.332Z"
   },
   {
    "duration": 37,
    "start_time": "2021-12-11T16:14:39.342Z"
   },
   {
    "duration": 7,
    "start_time": "2021-12-11T16:14:39.381Z"
   },
   {
    "duration": 7,
    "start_time": "2021-12-11T16:14:39.422Z"
   },
   {
    "duration": 874,
    "start_time": "2021-12-11T16:14:39.432Z"
   },
   {
    "duration": 15,
    "start_time": "2021-12-11T16:14:40.309Z"
   },
   {
    "duration": 5,
    "start_time": "2021-12-11T16:14:40.327Z"
   },
   {
    "duration": 18,
    "start_time": "2021-12-11T16:14:40.335Z"
   },
   {
    "duration": 4118,
    "start_time": "2021-12-11T16:14:40.355Z"
   },
   {
    "duration": 8,
    "start_time": "2021-12-11T16:14:44.475Z"
   },
   {
    "duration": 45,
    "start_time": "2021-12-11T16:14:44.486Z"
   },
   {
    "duration": 11,
    "start_time": "2021-12-11T16:14:44.533Z"
   },
   {
    "duration": 10,
    "start_time": "2021-12-11T16:14:44.546Z"
   },
   {
    "duration": 8,
    "start_time": "2021-12-11T16:14:44.558Z"
   },
   {
    "duration": 422,
    "start_time": "2021-12-11T16:14:44.568Z"
   },
   {
    "duration": 9,
    "start_time": "2021-12-11T16:14:44.993Z"
   },
   {
    "duration": 26,
    "start_time": "2021-12-11T16:19:23.788Z"
   },
   {
    "duration": 134,
    "start_time": "2021-12-11T19:40:46.048Z"
   },
   {
    "duration": 107,
    "start_time": "2021-12-11T19:41:02.793Z"
   },
   {
    "duration": 99,
    "start_time": "2021-12-11T19:43:25.579Z"
   },
   {
    "duration": 110,
    "start_time": "2021-12-11T19:43:53.437Z"
   },
   {
    "duration": 106,
    "start_time": "2021-12-11T19:44:32.104Z"
   },
   {
    "duration": 100,
    "start_time": "2021-12-11T19:44:54.285Z"
   },
   {
    "duration": 120,
    "start_time": "2021-12-11T19:45:00.976Z"
   },
   {
    "duration": 138,
    "start_time": "2021-12-11T19:49:23.857Z"
   },
   {
    "duration": 34,
    "start_time": "2021-12-11T19:51:11.758Z"
   },
   {
    "duration": 28,
    "start_time": "2021-12-11T19:57:27.088Z"
   },
   {
    "duration": 22,
    "start_time": "2021-12-11T19:57:50.511Z"
   },
   {
    "duration": 785,
    "start_time": "2021-12-11T19:58:12.454Z"
   },
   {
    "duration": 21,
    "start_time": "2021-12-11T19:58:13.242Z"
   },
   {
    "duration": 10,
    "start_time": "2021-12-11T19:58:13.267Z"
   },
   {
    "duration": 19,
    "start_time": "2021-12-11T19:58:13.280Z"
   },
   {
    "duration": 11,
    "start_time": "2021-12-11T19:58:13.317Z"
   },
   {
    "duration": 6,
    "start_time": "2021-12-11T19:58:13.331Z"
   },
   {
    "duration": 12,
    "start_time": "2021-12-11T19:58:13.339Z"
   },
   {
    "duration": 16,
    "start_time": "2021-12-11T19:58:13.355Z"
   },
   {
    "duration": 3,
    "start_time": "2021-12-11T19:58:13.375Z"
   },
   {
    "duration": 62,
    "start_time": "2021-12-11T19:58:13.380Z"
   },
   {
    "duration": 29,
    "start_time": "2021-12-11T19:58:13.445Z"
   },
   {
    "duration": 7,
    "start_time": "2021-12-11T19:58:13.477Z"
   },
   {
    "duration": 34,
    "start_time": "2021-12-11T19:58:13.487Z"
   },
   {
    "duration": 7,
    "start_time": "2021-12-11T19:58:13.524Z"
   },
   {
    "duration": 15,
    "start_time": "2021-12-11T19:58:13.534Z"
   },
   {
    "duration": 22,
    "start_time": "2021-12-11T19:58:13.551Z"
   },
   {
    "duration": 52,
    "start_time": "2021-12-11T19:58:13.575Z"
   },
   {
    "duration": 5,
    "start_time": "2021-12-11T19:58:13.629Z"
   },
   {
    "duration": 312,
    "start_time": "2021-12-11T19:58:13.636Z"
   },
   {
    "duration": 12,
    "start_time": "2021-12-11T19:58:13.950Z"
   },
   {
    "duration": 8,
    "start_time": "2021-12-11T19:58:13.965Z"
   },
   {
    "duration": 41,
    "start_time": "2021-12-11T19:58:13.976Z"
   },
   {
    "duration": 7,
    "start_time": "2021-12-11T19:58:14.023Z"
   },
   {
    "duration": 8,
    "start_time": "2021-12-11T19:58:14.034Z"
   },
   {
    "duration": 10,
    "start_time": "2021-12-11T19:58:14.044Z"
   },
   {
    "duration": 9,
    "start_time": "2021-12-11T19:58:14.056Z"
   },
   {
    "duration": 50,
    "start_time": "2021-12-11T19:58:14.067Z"
   },
   {
    "duration": 7,
    "start_time": "2021-12-11T19:58:14.119Z"
   },
   {
    "duration": 10,
    "start_time": "2021-12-11T19:58:14.128Z"
   },
   {
    "duration": 20,
    "start_time": "2021-12-11T19:58:14.140Z"
   },
   {
    "duration": 13,
    "start_time": "2021-12-11T19:58:14.162Z"
   },
   {
    "duration": 45,
    "start_time": "2021-12-11T19:58:14.178Z"
   },
   {
    "duration": 7,
    "start_time": "2021-12-11T19:58:14.226Z"
   },
   {
    "duration": 7,
    "start_time": "2021-12-11T19:58:14.236Z"
   },
   {
    "duration": 16,
    "start_time": "2021-12-11T19:58:14.246Z"
   },
   {
    "duration": 60,
    "start_time": "2021-12-11T19:58:14.265Z"
   },
   {
    "duration": 11,
    "start_time": "2021-12-11T19:58:14.327Z"
   },
   {
    "duration": 36,
    "start_time": "2021-12-11T19:58:14.341Z"
   },
   {
    "duration": 6,
    "start_time": "2021-12-11T19:58:14.379Z"
   },
   {
    "duration": 8,
    "start_time": "2021-12-11T19:58:14.418Z"
   },
   {
    "duration": 11,
    "start_time": "2021-12-11T19:58:14.428Z"
   },
   {
    "duration": 27,
    "start_time": "2021-12-11T19:58:14.441Z"
   },
   {
    "duration": 52,
    "start_time": "2021-12-11T19:58:14.471Z"
   },
   {
    "duration": 10,
    "start_time": "2021-12-11T19:58:14.525Z"
   },
   {
    "duration": 9,
    "start_time": "2021-12-11T19:58:14.537Z"
   },
   {
    "duration": 32,
    "start_time": "2021-12-11T19:58:14.548Z"
   },
   {
    "duration": 41,
    "start_time": "2021-12-11T19:58:14.583Z"
   },
   {
    "duration": 7,
    "start_time": "2021-12-11T19:58:14.626Z"
   },
   {
    "duration": 23,
    "start_time": "2021-12-11T19:58:14.635Z"
   },
   {
    "duration": 8,
    "start_time": "2021-12-11T19:58:14.660Z"
   },
   {
    "duration": 78,
    "start_time": "2021-12-11T19:58:14.670Z"
   },
   {
    "duration": 7,
    "start_time": "2021-12-11T19:58:14.751Z"
   },
   {
    "duration": 8,
    "start_time": "2021-12-11T19:58:14.761Z"
   },
   {
    "duration": 1058,
    "start_time": "2021-12-11T19:58:14.772Z"
   },
   {
    "duration": 6,
    "start_time": "2021-12-11T19:58:15.833Z"
   },
   {
    "duration": 6,
    "start_time": "2021-12-11T19:58:15.841Z"
   },
   {
    "duration": 20,
    "start_time": "2021-12-11T19:58:15.849Z"
   },
   {
    "duration": 3876,
    "start_time": "2021-12-11T19:58:15.871Z"
   },
   {
    "duration": 6,
    "start_time": "2021-12-11T19:58:19.750Z"
   },
   {
    "duration": 71,
    "start_time": "2021-12-11T19:58:19.758Z"
   },
   {
    "duration": 16,
    "start_time": "2021-12-11T19:58:19.831Z"
   },
   {
    "duration": 69,
    "start_time": "2021-12-11T19:58:19.850Z"
   },
   {
    "duration": 7,
    "start_time": "2021-12-11T19:58:19.922Z"
   },
   {
    "duration": 708,
    "start_time": "2021-12-11T19:58:19.931Z"
   },
   {
    "duration": 88,
    "start_time": "2021-12-11T19:58:20.642Z"
   },
   {
    "duration": 27,
    "start_time": "2021-12-11T19:58:20.732Z"
   },
   {
    "duration": 29,
    "start_time": "2021-12-11T19:58:20.817Z"
   },
   {
    "duration": 7,
    "start_time": "2021-12-11T19:58:20.853Z"
   },
   {
    "duration": 22,
    "start_time": "2021-12-11T19:58:20.918Z"
   },
   {
    "duration": 8,
    "start_time": "2021-12-11T19:58:20.942Z"
   },
   {
    "duration": 68,
    "start_time": "2021-12-11T19:58:20.953Z"
   },
   {
    "duration": 23,
    "start_time": "2021-12-11T19:58:21.024Z"
   },
   {
    "duration": 8,
    "start_time": "2021-12-11T19:58:21.050Z"
   },
   {
    "duration": 80,
    "start_time": "2021-12-11T19:58:21.060Z"
   },
   {
    "duration": 10,
    "start_time": "2021-12-11T19:58:21.142Z"
   },
   {
    "duration": 24,
    "start_time": "2021-12-11T20:00:49.076Z"
   },
   {
    "duration": 29,
    "start_time": "2021-12-11T20:01:14.623Z"
   },
   {
    "duration": 23,
    "start_time": "2021-12-11T20:01:17.225Z"
   },
   {
    "duration": 33,
    "start_time": "2021-12-11T20:01:37.238Z"
   },
   {
    "duration": 12,
    "start_time": "2021-12-11T20:01:40.273Z"
   },
   {
    "duration": 422,
    "start_time": "2021-12-11T20:03:21.152Z"
   },
   {
    "duration": 551,
    "start_time": "2021-12-11T20:03:25.872Z"
   },
   {
    "duration": 306,
    "start_time": "2021-12-11T20:03:34.990Z"
   },
   {
    "duration": 5,
    "start_time": "2021-12-11T20:03:40.102Z"
   },
   {
    "duration": 331,
    "start_time": "2021-12-11T20:05:01.407Z"
   },
   {
    "duration": 6,
    "start_time": "2021-12-11T20:05:06.676Z"
   },
   {
    "duration": 6,
    "start_time": "2021-12-11T20:05:59.989Z"
   },
   {
    "duration": 833,
    "start_time": "2021-12-11T20:06:39.405Z"
   },
   {
    "duration": 23,
    "start_time": "2021-12-11T20:06:40.240Z"
   },
   {
    "duration": 10,
    "start_time": "2021-12-11T20:06:40.266Z"
   },
   {
    "duration": 13,
    "start_time": "2021-12-11T20:06:40.279Z"
   },
   {
    "duration": 11,
    "start_time": "2021-12-11T20:06:40.318Z"
   },
   {
    "duration": 6,
    "start_time": "2021-12-11T20:06:40.332Z"
   },
   {
    "duration": 10,
    "start_time": "2021-12-11T20:06:40.340Z"
   },
   {
    "duration": 11,
    "start_time": "2021-12-11T20:06:40.353Z"
   },
   {
    "duration": 5,
    "start_time": "2021-12-11T20:06:40.367Z"
   },
   {
    "duration": 3,
    "start_time": "2021-12-11T20:06:40.418Z"
   },
   {
    "duration": 34,
    "start_time": "2021-12-11T20:06:40.423Z"
   },
   {
    "duration": 7,
    "start_time": "2021-12-11T20:06:40.459Z"
   },
   {
    "duration": 31,
    "start_time": "2021-12-11T20:06:40.469Z"
   },
   {
    "duration": 6,
    "start_time": "2021-12-11T20:06:40.517Z"
   },
   {
    "duration": 8,
    "start_time": "2021-12-11T20:06:40.525Z"
   },
   {
    "duration": 20,
    "start_time": "2021-12-11T20:06:40.535Z"
   },
   {
    "duration": 23,
    "start_time": "2021-12-11T20:06:40.557Z"
   },
   {
    "duration": 45,
    "start_time": "2021-12-11T20:06:40.582Z"
   },
   {
    "duration": 5,
    "start_time": "2021-12-11T20:06:40.629Z"
   },
   {
    "duration": 301,
    "start_time": "2021-12-11T20:06:40.636Z"
   },
   {
    "duration": 12,
    "start_time": "2021-12-11T20:06:40.940Z"
   },
   {
    "duration": 9,
    "start_time": "2021-12-11T20:06:40.954Z"
   },
   {
    "duration": 17,
    "start_time": "2021-12-11T20:06:40.969Z"
   },
   {
    "duration": 9,
    "start_time": "2021-12-11T20:06:41.017Z"
   },
   {
    "duration": 10,
    "start_time": "2021-12-11T20:06:41.029Z"
   },
   {
    "duration": 14,
    "start_time": "2021-12-11T20:06:41.042Z"
   },
   {
    "duration": 15,
    "start_time": "2021-12-11T20:06:41.059Z"
   },
   {
    "duration": 42,
    "start_time": "2021-12-11T20:06:41.077Z"
   },
   {
    "duration": 21,
    "start_time": "2021-12-11T20:06:41.122Z"
   },
   {
    "duration": 12,
    "start_time": "2021-12-11T20:06:41.146Z"
   },
   {
    "duration": 25,
    "start_time": "2021-12-11T20:06:41.161Z"
   },
   {
    "duration": 37,
    "start_time": "2021-12-11T20:06:41.189Z"
   },
   {
    "duration": 9,
    "start_time": "2021-12-11T20:06:41.229Z"
   },
   {
    "duration": 14,
    "start_time": "2021-12-11T20:06:41.241Z"
   },
   {
    "duration": 22,
    "start_time": "2021-12-11T20:06:41.258Z"
   },
   {
    "duration": 42,
    "start_time": "2021-12-11T20:06:41.283Z"
   },
   {
    "duration": 12,
    "start_time": "2021-12-11T20:06:41.328Z"
   },
   {
    "duration": 10,
    "start_time": "2021-12-11T20:06:41.342Z"
   },
   {
    "duration": 66,
    "start_time": "2021-12-11T20:06:41.354Z"
   },
   {
    "duration": 7,
    "start_time": "2021-12-11T20:06:41.422Z"
   },
   {
    "duration": 18,
    "start_time": "2021-12-11T20:06:41.431Z"
   },
   {
    "duration": 14,
    "start_time": "2021-12-11T20:06:41.451Z"
   },
   {
    "duration": 28,
    "start_time": "2021-12-11T20:06:41.467Z"
   },
   {
    "duration": 16,
    "start_time": "2021-12-11T20:06:41.518Z"
   },
   {
    "duration": 8,
    "start_time": "2021-12-11T20:06:41.536Z"
   },
   {
    "duration": 16,
    "start_time": "2021-12-11T20:06:41.546Z"
   },
   {
    "duration": 20,
    "start_time": "2021-12-11T20:06:41.564Z"
   },
   {
    "duration": 46,
    "start_time": "2021-12-11T20:06:41.587Z"
   },
   {
    "duration": 9,
    "start_time": "2021-12-11T20:06:41.635Z"
   },
   {
    "duration": 25,
    "start_time": "2021-12-11T20:06:41.646Z"
   },
   {
    "duration": 8,
    "start_time": "2021-12-11T20:06:41.674Z"
   },
   {
    "duration": 70,
    "start_time": "2021-12-11T20:06:41.684Z"
   },
   {
    "duration": 8,
    "start_time": "2021-12-11T20:06:41.757Z"
   },
   {
    "duration": 19,
    "start_time": "2021-12-11T20:06:41.767Z"
   },
   {
    "duration": 991,
    "start_time": "2021-12-11T20:06:41.789Z"
   },
   {
    "duration": 7,
    "start_time": "2021-12-11T20:06:42.783Z"
   },
   {
    "duration": 6,
    "start_time": "2021-12-11T20:06:42.793Z"
   },
   {
    "duration": 32,
    "start_time": "2021-12-11T20:06:42.817Z"
   },
   {
    "duration": 3582,
    "start_time": "2021-12-11T20:06:42.852Z"
   },
   {
    "duration": 7,
    "start_time": "2021-12-11T20:06:46.436Z"
   },
   {
    "duration": 21,
    "start_time": "2021-12-11T20:06:46.445Z"
   },
   {
    "duration": 12,
    "start_time": "2021-12-11T20:06:46.468Z"
   },
   {
    "duration": 44,
    "start_time": "2021-12-11T20:06:46.482Z"
   },
   {
    "duration": 4,
    "start_time": "2021-12-11T20:06:46.528Z"
   },
   {
    "duration": 305,
    "start_time": "2021-12-11T20:06:46.535Z"
   },
   {
    "duration": 21,
    "start_time": "2021-12-11T20:06:46.842Z"
   },
   {
    "duration": 20,
    "start_time": "2021-12-11T20:06:46.865Z"
   },
   {
    "duration": 53,
    "start_time": "2021-12-11T20:06:46.891Z"
   },
   {
    "duration": 8,
    "start_time": "2021-12-11T20:06:46.946Z"
   },
   {
    "duration": 23,
    "start_time": "2021-12-11T20:06:46.956Z"
   },
   {
    "duration": 42,
    "start_time": "2021-12-11T20:06:46.982Z"
   },
   {
    "duration": 13,
    "start_time": "2021-12-11T20:06:47.027Z"
   },
   {
    "duration": 31,
    "start_time": "2021-12-11T20:06:47.042Z"
   },
   {
    "duration": 7,
    "start_time": "2021-12-11T20:06:47.076Z"
   },
   {
    "duration": 26,
    "start_time": "2021-12-11T20:06:47.118Z"
   },
   {
    "duration": 9,
    "start_time": "2021-12-11T20:06:47.146Z"
   },
   {
    "duration": 825,
    "start_time": "2021-12-11T20:11:07.005Z"
   },
   {
    "duration": 21,
    "start_time": "2021-12-11T20:11:07.833Z"
   },
   {
    "duration": 6,
    "start_time": "2021-12-11T20:11:07.857Z"
   },
   {
    "duration": 8,
    "start_time": "2021-12-11T20:11:07.865Z"
   },
   {
    "duration": 10,
    "start_time": "2021-12-11T20:11:07.875Z"
   },
   {
    "duration": 35,
    "start_time": "2021-12-11T20:11:07.887Z"
   },
   {
    "duration": 7,
    "start_time": "2021-12-11T20:11:07.924Z"
   },
   {
    "duration": 10,
    "start_time": "2021-12-11T20:11:07.935Z"
   },
   {
    "duration": 5,
    "start_time": "2021-12-11T20:11:07.948Z"
   },
   {
    "duration": 7,
    "start_time": "2021-12-11T20:11:07.955Z"
   },
   {
    "duration": 73606,
    "start_time": "2021-12-11T20:11:07.965Z"
   },
   {
    "duration": 304,
    "start_time": "2021-12-11T20:12:21.272Z"
   },
   {
    "duration": 294,
    "start_time": "2021-12-11T20:12:21.283Z"
   },
   {
    "duration": 282,
    "start_time": "2021-12-11T20:12:21.297Z"
   },
   {
    "duration": 271,
    "start_time": "2021-12-11T20:12:21.309Z"
   },
   {
    "duration": 259,
    "start_time": "2021-12-11T20:12:21.322Z"
   },
   {
    "duration": 252,
    "start_time": "2021-12-11T20:12:21.331Z"
   },
   {
    "duration": 242,
    "start_time": "2021-12-11T20:12:21.342Z"
   },
   {
    "duration": 212,
    "start_time": "2021-12-11T20:12:21.374Z"
   },
   {
    "duration": 200,
    "start_time": "2021-12-11T20:12:21.387Z"
   },
   {
    "duration": 194,
    "start_time": "2021-12-11T20:12:21.395Z"
   },
   {
    "duration": 187,
    "start_time": "2021-12-11T20:12:21.403Z"
   },
   {
    "duration": 180,
    "start_time": "2021-12-11T20:12:21.411Z"
   },
   {
    "duration": 173,
    "start_time": "2021-12-11T20:12:21.420Z"
   },
   {
    "duration": 167,
    "start_time": "2021-12-11T20:12:21.428Z"
   },
   {
    "duration": 158,
    "start_time": "2021-12-11T20:12:21.438Z"
   },
   {
    "duration": 148,
    "start_time": "2021-12-11T20:12:21.449Z"
   },
   {
    "duration": 135,
    "start_time": "2021-12-11T20:12:21.464Z"
   },
   {
    "duration": 107,
    "start_time": "2021-12-11T20:12:21.493Z"
   },
   {
    "duration": 98,
    "start_time": "2021-12-11T20:12:21.503Z"
   },
   {
    "duration": 90,
    "start_time": "2021-12-11T20:12:21.512Z"
   },
   {
    "duration": 80,
    "start_time": "2021-12-11T20:12:21.523Z"
   },
   {
    "duration": 73,
    "start_time": "2021-12-11T20:12:21.532Z"
   },
   {
    "duration": 63,
    "start_time": "2021-12-11T20:12:21.543Z"
   },
   {
    "duration": 56,
    "start_time": "2021-12-11T20:12:21.551Z"
   },
   {
    "duration": 48,
    "start_time": "2021-12-11T20:12:21.560Z"
   },
   {
    "duration": 42,
    "start_time": "2021-12-11T20:12:21.568Z"
   },
   {
    "duration": 44,
    "start_time": "2021-12-11T20:12:21.577Z"
   },
   {
    "duration": 38,
    "start_time": "2021-12-11T20:12:21.584Z"
   },
   {
    "duration": 16,
    "start_time": "2021-12-11T20:12:21.608Z"
   },
   {
    "duration": 8,
    "start_time": "2021-12-11T20:12:21.617Z"
   },
   {
    "duration": -1,
    "start_time": "2021-12-11T20:12:21.627Z"
   },
   {
    "duration": -6,
    "start_time": "2021-12-11T20:12:21.634Z"
   },
   {
    "duration": -14,
    "start_time": "2021-12-11T20:12:21.643Z"
   },
   {
    "duration": -22,
    "start_time": "2021-12-11T20:12:21.652Z"
   },
   {
    "duration": -36,
    "start_time": "2021-12-11T20:12:21.667Z"
   },
   {
    "duration": -255,
    "start_time": "2021-12-11T20:12:21.887Z"
   },
   {
    "duration": -265,
    "start_time": "2021-12-11T20:12:21.899Z"
   },
   {
    "duration": -273,
    "start_time": "2021-12-11T20:12:21.908Z"
   },
   {
    "duration": -286,
    "start_time": "2021-12-11T20:12:21.922Z"
   },
   {
    "duration": -299,
    "start_time": "2021-12-11T20:12:21.936Z"
   },
   {
    "duration": -310,
    "start_time": "2021-12-11T20:12:21.948Z"
   },
   {
    "duration": -323,
    "start_time": "2021-12-11T20:12:21.962Z"
   },
   {
    "duration": -332,
    "start_time": "2021-12-11T20:12:21.973Z"
   },
   {
    "duration": -413,
    "start_time": "2021-12-11T20:12:22.055Z"
   },
   {
    "duration": -423,
    "start_time": "2021-12-11T20:12:22.066Z"
   },
   {
    "duration": -429,
    "start_time": "2021-12-11T20:12:22.074Z"
   },
   {
    "duration": -438,
    "start_time": "2021-12-11T20:12:22.084Z"
   },
   {
    "duration": -447,
    "start_time": "2021-12-11T20:12:22.094Z"
   },
   {
    "duration": -501,
    "start_time": "2021-12-11T20:12:22.149Z"
   },
   {
    "duration": -534,
    "start_time": "2021-12-11T20:12:22.183Z"
   },
   {
    "duration": -544,
    "start_time": "2021-12-11T20:12:22.195Z"
   },
   {
    "duration": -552,
    "start_time": "2021-12-11T20:12:22.204Z"
   },
   {
    "duration": -563,
    "start_time": "2021-12-11T20:12:22.216Z"
   },
   {
    "duration": -509,
    "start_time": "2021-12-11T20:12:22.226Z"
   },
   {
    "duration": -516,
    "start_time": "2021-12-11T20:12:22.238Z"
   },
   {
    "duration": -653,
    "start_time": "2021-12-11T20:12:22.376Z"
   },
   {
    "duration": -662,
    "start_time": "2021-12-11T20:12:22.386Z"
   },
   {
    "duration": -671,
    "start_time": "2021-12-11T20:12:22.397Z"
   },
   {
    "duration": -701,
    "start_time": "2021-12-11T20:12:22.428Z"
   },
   {
    "duration": -722,
    "start_time": "2021-12-11T20:12:22.451Z"
   },
   {
    "duration": -732,
    "start_time": "2021-12-11T20:12:22.462Z"
   },
   {
    "duration": -739,
    "start_time": "2021-12-11T20:12:22.470Z"
   },
   {
    "duration": -747,
    "start_time": "2021-12-11T20:12:22.480Z"
   },
   {
    "duration": -753,
    "start_time": "2021-12-11T20:12:22.488Z"
   },
   {
    "duration": -762,
    "start_time": "2021-12-11T20:12:22.500Z"
   },
   {
    "duration": 843,
    "start_time": "2021-12-11T20:15:17.984Z"
   },
   {
    "duration": 21,
    "start_time": "2021-12-11T20:15:18.829Z"
   },
   {
    "duration": 9,
    "start_time": "2021-12-11T20:15:18.853Z"
   },
   {
    "duration": 8,
    "start_time": "2021-12-11T20:15:18.865Z"
   },
   {
    "duration": 10,
    "start_time": "2021-12-11T20:15:18.875Z"
   },
   {
    "duration": 5,
    "start_time": "2021-12-11T20:15:18.918Z"
   },
   {
    "duration": 8,
    "start_time": "2021-12-11T20:15:18.926Z"
   },
   {
    "duration": 11,
    "start_time": "2021-12-11T20:15:18.937Z"
   },
   {
    "duration": 4,
    "start_time": "2021-12-11T20:15:18.951Z"
   },
   {
    "duration": 4,
    "start_time": "2021-12-11T20:15:18.958Z"
   },
   {
    "duration": 73,
    "start_time": "2021-12-11T20:15:18.965Z"
   },
   {
    "duration": 7,
    "start_time": "2021-12-11T20:15:19.041Z"
   },
   {
    "duration": 8,
    "start_time": "2021-12-11T20:15:19.050Z"
   },
   {
    "duration": 11,
    "start_time": "2021-12-11T20:15:19.061Z"
   },
   {
    "duration": 11,
    "start_time": "2021-12-11T20:15:19.074Z"
   },
   {
    "duration": 14,
    "start_time": "2021-12-11T20:15:19.118Z"
   },
   {
    "duration": 22,
    "start_time": "2021-12-11T20:15:19.134Z"
   },
   {
    "duration": 11,
    "start_time": "2021-12-11T20:15:19.158Z"
   },
   {
    "duration": 4,
    "start_time": "2021-12-11T20:15:19.171Z"
   },
   {
    "duration": 295,
    "start_time": "2021-12-11T20:15:19.217Z"
   },
   {
    "duration": 12,
    "start_time": "2021-12-11T20:15:19.517Z"
   },
   {
    "duration": 9,
    "start_time": "2021-12-11T20:15:19.531Z"
   },
   {
    "duration": 15,
    "start_time": "2021-12-11T20:15:19.548Z"
   },
   {
    "duration": 49,
    "start_time": "2021-12-11T20:15:19.568Z"
   },
   {
    "duration": 8,
    "start_time": "2021-12-11T20:15:19.619Z"
   },
   {
    "duration": 9,
    "start_time": "2021-12-11T20:15:19.629Z"
   },
   {
    "duration": 8,
    "start_time": "2021-12-11T20:15:19.640Z"
   },
   {
    "duration": 6,
    "start_time": "2021-12-11T20:15:19.651Z"
   },
   {
    "duration": 7,
    "start_time": "2021-12-11T20:15:19.659Z"
   },
   {
    "duration": 54,
    "start_time": "2021-12-11T20:15:19.669Z"
   },
   {
    "duration": 20,
    "start_time": "2021-12-11T20:15:19.725Z"
   },
   {
    "duration": 11,
    "start_time": "2021-12-11T20:15:19.747Z"
   },
   {
    "duration": 7,
    "start_time": "2021-12-11T20:15:19.761Z"
   },
   {
    "duration": 49,
    "start_time": "2021-12-11T20:15:19.770Z"
   },
   {
    "duration": 8,
    "start_time": "2021-12-11T20:15:19.822Z"
   },
   {
    "duration": 15,
    "start_time": "2021-12-11T20:15:19.833Z"
   },
   {
    "duration": 10,
    "start_time": "2021-12-11T20:15:19.850Z"
   },
   {
    "duration": 9,
    "start_time": "2021-12-11T20:15:19.863Z"
   },
   {
    "duration": 32,
    "start_time": "2021-12-11T20:15:19.917Z"
   },
   {
    "duration": 7,
    "start_time": "2021-12-11T20:15:19.951Z"
   },
   {
    "duration": 11,
    "start_time": "2021-12-11T20:15:19.960Z"
   },
   {
    "duration": 45,
    "start_time": "2021-12-11T20:15:19.974Z"
   },
   {
    "duration": 28,
    "start_time": "2021-12-11T20:15:20.021Z"
   },
   {
    "duration": 16,
    "start_time": "2021-12-11T20:15:20.051Z"
   },
   {
    "duration": 9,
    "start_time": "2021-12-11T20:15:20.070Z"
   },
   {
    "duration": 6,
    "start_time": "2021-12-11T20:15:20.118Z"
   },
   {
    "duration": 24,
    "start_time": "2021-12-11T20:15:20.127Z"
   },
   {
    "duration": 16,
    "start_time": "2021-12-11T20:15:20.153Z"
   },
   {
    "duration": 6,
    "start_time": "2021-12-11T20:15:20.171Z"
   },
   {
    "duration": 53,
    "start_time": "2021-12-11T20:15:20.180Z"
   },
   {
    "duration": 8,
    "start_time": "2021-12-11T20:15:20.235Z"
   },
   {
    "duration": 38,
    "start_time": "2021-12-11T20:15:20.245Z"
   },
   {
    "duration": 36,
    "start_time": "2021-12-11T20:15:20.286Z"
   },
   {
    "duration": 7,
    "start_time": "2021-12-11T20:15:20.324Z"
   },
   {
    "duration": 952,
    "start_time": "2021-12-11T20:15:20.334Z"
   },
   {
    "duration": 8,
    "start_time": "2021-12-11T20:15:21.289Z"
   },
   {
    "duration": 18,
    "start_time": "2021-12-11T20:15:21.300Z"
   },
   {
    "duration": 21,
    "start_time": "2021-12-11T20:15:21.321Z"
   },
   {
    "duration": 4110,
    "start_time": "2021-12-11T20:15:21.344Z"
   },
   {
    "duration": 7,
    "start_time": "2021-12-11T20:15:25.456Z"
   },
   {
    "duration": 29,
    "start_time": "2021-12-11T20:15:25.518Z"
   },
   {
    "duration": 70,
    "start_time": "2021-12-11T20:15:25.550Z"
   },
   {
    "duration": 11,
    "start_time": "2021-12-11T20:15:25.623Z"
   },
   {
    "duration": 4,
    "start_time": "2021-12-11T20:15:25.637Z"
   },
   {
    "duration": 375,
    "start_time": "2021-12-11T20:15:25.643Z"
   },
   {
    "duration": 20,
    "start_time": "2021-12-11T20:15:26.020Z"
   },
   {
    "duration": 20,
    "start_time": "2021-12-11T20:15:26.042Z"
   },
   {
    "duration": 55,
    "start_time": "2021-12-11T20:15:26.068Z"
   },
   {
    "duration": 6,
    "start_time": "2021-12-11T20:15:26.125Z"
   },
   {
    "duration": 24,
    "start_time": "2021-12-11T20:15:26.133Z"
   },
   {
    "duration": 8,
    "start_time": "2021-12-11T20:15:26.159Z"
   },
   {
    "duration": 48,
    "start_time": "2021-12-11T20:15:26.169Z"
   },
   {
    "duration": 26,
    "start_time": "2021-12-11T20:15:26.220Z"
   },
   {
    "duration": 7,
    "start_time": "2021-12-11T20:15:26.248Z"
   },
   {
    "duration": 26,
    "start_time": "2021-12-11T20:15:26.257Z"
   },
   {
    "duration": 36,
    "start_time": "2021-12-11T20:15:26.286Z"
   },
   {
    "duration": 28,
    "start_time": "2021-12-11T20:17:41.573Z"
   },
   {
    "duration": 7,
    "start_time": "2021-12-11T20:17:56.757Z"
   },
   {
    "duration": 5,
    "start_time": "2021-12-11T20:29:56.319Z"
   },
   {
    "duration": 3824,
    "start_time": "2021-12-11T20:29:58.125Z"
   },
   {
    "duration": 86,
    "start_time": "2021-12-11T20:30:10.575Z"
   },
   {
    "duration": 19,
    "start_time": "2021-12-11T20:30:10.664Z"
   },
   {
    "duration": 33,
    "start_time": "2021-12-11T20:30:10.686Z"
   },
   {
    "duration": 7,
    "start_time": "2021-12-11T20:30:10.722Z"
   },
   {
    "duration": 15,
    "start_time": "2021-12-11T20:30:10.731Z"
   },
   {
    "duration": 6,
    "start_time": "2021-12-11T20:30:10.748Z"
   },
   {
    "duration": 8,
    "start_time": "2021-12-11T20:30:10.756Z"
   },
   {
    "duration": 61,
    "start_time": "2021-12-11T20:30:10.767Z"
   },
   {
    "duration": 4,
    "start_time": "2021-12-11T20:30:10.831Z"
   },
   {
    "duration": 4,
    "start_time": "2021-12-11T20:30:10.838Z"
   },
   {
    "duration": 32,
    "start_time": "2021-12-11T20:30:10.844Z"
   },
   {
    "duration": 42,
    "start_time": "2021-12-11T20:30:10.878Z"
   },
   {
    "duration": 25,
    "start_time": "2021-12-11T20:30:10.922Z"
   },
   {
    "duration": 8,
    "start_time": "2021-12-11T20:30:10.950Z"
   },
   {
    "duration": 23,
    "start_time": "2021-12-11T20:30:10.960Z"
   },
   {
    "duration": 20,
    "start_time": "2021-12-11T20:30:10.985Z"
   },
   {
    "duration": 29,
    "start_time": "2021-12-11T20:30:11.007Z"
   },
   {
    "duration": 12,
    "start_time": "2021-12-11T20:30:11.039Z"
   },
   {
    "duration": 6,
    "start_time": "2021-12-11T20:30:11.053Z"
   },
   {
    "duration": 341,
    "start_time": "2021-12-11T20:30:11.061Z"
   },
   {
    "duration": 22,
    "start_time": "2021-12-11T20:30:11.404Z"
   },
   {
    "duration": 8,
    "start_time": "2021-12-11T20:30:11.428Z"
   },
   {
    "duration": 13,
    "start_time": "2021-12-11T20:30:11.443Z"
   },
   {
    "duration": 8,
    "start_time": "2021-12-11T20:30:11.460Z"
   },
   {
    "duration": 52,
    "start_time": "2021-12-11T20:30:11.470Z"
   },
   {
    "duration": 7,
    "start_time": "2021-12-11T20:30:11.525Z"
   },
   {
    "duration": 11,
    "start_time": "2021-12-11T20:30:11.534Z"
   },
   {
    "duration": 7,
    "start_time": "2021-12-11T20:30:11.548Z"
   },
   {
    "duration": 10,
    "start_time": "2021-12-11T20:30:11.558Z"
   },
   {
    "duration": 55,
    "start_time": "2021-12-11T20:30:11.571Z"
   },
   {
    "duration": 20,
    "start_time": "2021-12-11T20:30:11.629Z"
   },
   {
    "duration": 14,
    "start_time": "2021-12-11T20:30:11.651Z"
   },
   {
    "duration": 51,
    "start_time": "2021-12-11T20:30:11.667Z"
   },
   {
    "duration": 6,
    "start_time": "2021-12-11T20:30:11.721Z"
   },
   {
    "duration": 7,
    "start_time": "2021-12-11T20:30:11.730Z"
   },
   {
    "duration": 15,
    "start_time": "2021-12-11T20:30:11.740Z"
   },
   {
    "duration": 11,
    "start_time": "2021-12-11T20:30:11.757Z"
   },
   {
    "duration": 56,
    "start_time": "2021-12-11T20:30:11.770Z"
   },
   {
    "duration": 32,
    "start_time": "2021-12-11T20:30:11.829Z"
   },
   {
    "duration": 6,
    "start_time": "2021-12-11T20:30:11.864Z"
   },
   {
    "duration": 10,
    "start_time": "2021-12-11T20:30:11.873Z"
   },
   {
    "duration": 42,
    "start_time": "2021-12-11T20:30:11.885Z"
   },
   {
    "duration": 26,
    "start_time": "2021-12-11T20:30:11.929Z"
   },
   {
    "duration": 15,
    "start_time": "2021-12-11T20:30:11.958Z"
   },
   {
    "duration": 44,
    "start_time": "2021-12-11T20:30:11.975Z"
   },
   {
    "duration": 7,
    "start_time": "2021-12-11T20:30:12.021Z"
   },
   {
    "duration": 19,
    "start_time": "2021-12-11T20:30:12.030Z"
   },
   {
    "duration": 18,
    "start_time": "2021-12-11T20:30:12.053Z"
   },
   {
    "duration": 45,
    "start_time": "2021-12-11T20:30:12.074Z"
   },
   {
    "duration": 23,
    "start_time": "2021-12-11T20:30:12.122Z"
   },
   {
    "duration": 8,
    "start_time": "2021-12-11T20:30:12.148Z"
   },
   {
    "duration": 83,
    "start_time": "2021-12-11T20:30:12.158Z"
   },
   {
    "duration": 8,
    "start_time": "2021-12-11T20:30:12.243Z"
   },
   {
    "duration": 8,
    "start_time": "2021-12-11T20:30:12.253Z"
   },
   {
    "duration": 998,
    "start_time": "2021-12-11T20:30:12.264Z"
   },
   {
    "duration": 6,
    "start_time": "2021-12-11T20:30:13.265Z"
   },
   {
    "duration": 5,
    "start_time": "2021-12-11T20:30:13.274Z"
   },
   {
    "duration": 852,
    "start_time": "2021-12-11T20:30:55.397Z"
   },
   {
    "duration": 22,
    "start_time": "2021-12-11T20:30:56.252Z"
   },
   {
    "duration": 39,
    "start_time": "2021-12-11T20:30:56.278Z"
   },
   {
    "duration": 7,
    "start_time": "2021-12-11T20:30:56.320Z"
   },
   {
    "duration": 12,
    "start_time": "2021-12-11T20:30:56.329Z"
   },
   {
    "duration": 6,
    "start_time": "2021-12-11T20:30:56.343Z"
   },
   {
    "duration": 9,
    "start_time": "2021-12-11T20:30:56.352Z"
   },
   {
    "duration": 59,
    "start_time": "2021-12-11T20:30:56.367Z"
   },
   {
    "duration": 6,
    "start_time": "2021-12-11T20:30:56.429Z"
   },
   {
    "duration": 4,
    "start_time": "2021-12-11T20:30:56.438Z"
   },
   {
    "duration": 30,
    "start_time": "2021-12-11T20:30:56.445Z"
   },
   {
    "duration": 45,
    "start_time": "2021-12-11T20:30:56.477Z"
   },
   {
    "duration": 8,
    "start_time": "2021-12-11T20:30:56.525Z"
   },
   {
    "duration": 9,
    "start_time": "2021-12-11T20:30:56.535Z"
   },
   {
    "duration": 7,
    "start_time": "2021-12-11T20:30:56.546Z"
   },
   {
    "duration": 14,
    "start_time": "2021-12-11T20:30:56.555Z"
   },
   {
    "duration": 63,
    "start_time": "2021-12-11T20:30:56.571Z"
   },
   {
    "duration": 11,
    "start_time": "2021-12-11T20:30:56.636Z"
   },
   {
    "duration": 5,
    "start_time": "2021-12-11T20:30:56.649Z"
   },
   {
    "duration": 326,
    "start_time": "2021-12-11T20:30:56.656Z"
   },
   {
    "duration": 12,
    "start_time": "2021-12-11T20:30:56.984Z"
   },
   {
    "duration": 26,
    "start_time": "2021-12-11T20:30:56.998Z"
   },
   {
    "duration": 11,
    "start_time": "2021-12-11T20:30:57.031Z"
   },
   {
    "duration": 6,
    "start_time": "2021-12-11T20:30:57.046Z"
   },
   {
    "duration": 7,
    "start_time": "2021-12-11T20:30:57.055Z"
   },
   {
    "duration": 10,
    "start_time": "2021-12-11T20:30:57.064Z"
   },
   {
    "duration": 47,
    "start_time": "2021-12-11T20:30:57.076Z"
   },
   {
    "duration": 6,
    "start_time": "2021-12-11T20:30:57.125Z"
   },
   {
    "duration": 7,
    "start_time": "2021-12-11T20:30:57.133Z"
   },
   {
    "duration": 7,
    "start_time": "2021-12-11T20:30:57.142Z"
   },
   {
    "duration": 18,
    "start_time": "2021-12-11T20:30:57.152Z"
   },
   {
    "duration": 12,
    "start_time": "2021-12-11T20:30:57.216Z"
   },
   {
    "duration": 9,
    "start_time": "2021-12-11T20:30:57.230Z"
   },
   {
    "duration": 5,
    "start_time": "2021-12-11T20:30:57.241Z"
   },
   {
    "duration": 6,
    "start_time": "2021-12-11T20:30:57.248Z"
   },
   {
    "duration": 14,
    "start_time": "2021-12-11T20:30:57.256Z"
   },
   {
    "duration": 53,
    "start_time": "2021-12-11T20:30:57.272Z"
   },
   {
    "duration": 9,
    "start_time": "2021-12-11T20:30:57.327Z"
   },
   {
    "duration": 32,
    "start_time": "2021-12-11T20:30:57.339Z"
   },
   {
    "duration": 6,
    "start_time": "2021-12-11T20:30:57.373Z"
   },
   {
    "duration": 43,
    "start_time": "2021-12-11T20:30:57.381Z"
   },
   {
    "duration": 11,
    "start_time": "2021-12-11T20:30:57.426Z"
   },
   {
    "duration": 26,
    "start_time": "2021-12-11T20:30:57.440Z"
   },
   {
    "duration": 55,
    "start_time": "2021-12-11T20:30:57.468Z"
   },
   {
    "duration": 8,
    "start_time": "2021-12-11T20:30:57.526Z"
   },
   {
    "duration": 10,
    "start_time": "2021-12-11T20:30:57.536Z"
   },
   {
    "duration": 18,
    "start_time": "2021-12-11T20:30:57.549Z"
   },
   {
    "duration": 47,
    "start_time": "2021-12-11T20:30:57.569Z"
   },
   {
    "duration": 6,
    "start_time": "2021-12-11T20:30:57.619Z"
   },
   {
    "duration": 23,
    "start_time": "2021-12-11T20:30:57.627Z"
   },
   {
    "duration": 8,
    "start_time": "2021-12-11T20:30:57.652Z"
   },
   {
    "duration": 80,
    "start_time": "2021-12-11T20:30:57.663Z"
   },
   {
    "duration": 10,
    "start_time": "2021-12-11T20:30:57.746Z"
   },
   {
    "duration": 10,
    "start_time": "2021-12-11T20:30:57.759Z"
   },
   {
    "duration": 978,
    "start_time": "2021-12-11T20:30:57.772Z"
   },
   {
    "duration": 7,
    "start_time": "2021-12-11T20:30:58.754Z"
   },
   {
    "duration": 7,
    "start_time": "2021-12-11T20:30:58.765Z"
   },
   {
    "duration": 51,
    "start_time": "2021-12-11T20:30:58.775Z"
   },
   {
    "duration": 3591,
    "start_time": "2021-12-11T20:30:58.829Z"
   },
   {
    "duration": 8,
    "start_time": "2021-12-11T20:31:02.423Z"
   },
   {
    "duration": 28,
    "start_time": "2021-12-11T20:31:02.434Z"
   },
   {
    "duration": 13,
    "start_time": "2021-12-11T20:31:02.465Z"
   },
   {
    "duration": 42,
    "start_time": "2021-12-11T20:31:02.480Z"
   },
   {
    "duration": 6,
    "start_time": "2021-12-11T20:31:02.525Z"
   },
   {
    "duration": 426,
    "start_time": "2021-12-11T20:31:02.534Z"
   },
   {
    "duration": 22,
    "start_time": "2021-12-11T20:31:02.963Z"
   },
   {
    "duration": 43,
    "start_time": "2021-12-11T20:31:02.988Z"
   },
   {
    "duration": 26,
    "start_time": "2021-12-11T20:31:03.039Z"
   },
   {
    "duration": 7,
    "start_time": "2021-12-11T20:31:03.067Z"
   },
   {
    "duration": 54,
    "start_time": "2021-12-11T20:31:03.076Z"
   },
   {
    "duration": 8,
    "start_time": "2021-12-11T20:31:03.133Z"
   },
   {
    "duration": 10,
    "start_time": "2021-12-11T20:31:03.143Z"
   },
   {
    "duration": 26,
    "start_time": "2021-12-11T20:31:03.155Z"
   },
   {
    "duration": 36,
    "start_time": "2021-12-11T20:31:03.183Z"
   },
   {
    "duration": 35,
    "start_time": "2021-12-11T20:31:03.221Z"
   },
   {
    "duration": 622,
    "start_time": "2021-12-11T20:31:03.258Z"
   },
   {
    "duration": 309,
    "start_time": "2021-12-11T20:36:28.771Z"
   },
   {
    "duration": 8,
    "start_time": "2021-12-11T20:36:45.618Z"
   },
   {
    "duration": 57,
    "start_time": "2021-12-11T20:38:18.296Z"
   },
   {
    "duration": 114,
    "start_time": "2021-12-11T20:39:13.008Z"
   },
   {
    "duration": 69,
    "start_time": "2021-12-11T20:39:22.778Z"
   },
   {
    "duration": 54,
    "start_time": "2021-12-11T20:39:27.230Z"
   },
   {
    "duration": 51,
    "start_time": "2021-12-11T20:39:38.614Z"
   },
   {
    "duration": 7036,
    "start_time": "2021-12-11T20:41:00.243Z"
   },
   {
    "duration": 332,
    "start_time": "2021-12-11T20:41:41.971Z"
   },
   {
    "duration": 104,
    "start_time": "2021-12-11T20:41:54.835Z"
   },
   {
    "duration": 9,
    "start_time": "2021-12-11T20:42:34.374Z"
   },
   {
    "duration": 137,
    "start_time": "2021-12-11T20:43:30.642Z"
   },
   {
    "duration": 130,
    "start_time": "2021-12-11T20:46:02.246Z"
   },
   {
    "duration": 5,
    "start_time": "2021-12-11T20:46:08.510Z"
   },
   {
    "duration": 5,
    "start_time": "2021-12-11T20:46:16.732Z"
   },
   {
    "duration": 105,
    "start_time": "2021-12-11T20:46:50.224Z"
   },
   {
    "duration": 6,
    "start_time": "2021-12-11T20:47:07.361Z"
   },
   {
    "duration": 140,
    "start_time": "2021-12-11T20:47:52.537Z"
   },
   {
    "duration": 3969,
    "start_time": "2021-12-11T20:48:05.047Z"
   },
   {
    "duration": 7,
    "start_time": "2021-12-11T20:48:20.183Z"
   },
   {
    "duration": 7,
    "start_time": "2021-12-11T20:49:32.383Z"
   },
   {
    "duration": 5121,
    "start_time": "2021-12-11T20:49:46.714Z"
   },
   {
    "duration": 5,
    "start_time": "2021-12-11T20:49:55.354Z"
   },
   {
    "duration": 116,
    "start_time": "2021-12-11T20:50:22.463Z"
   },
   {
    "duration": 7,
    "start_time": "2021-12-11T20:50:30.701Z"
   },
   {
    "duration": 805,
    "start_time": "2021-12-11T20:51:15.272Z"
   },
   {
    "duration": 22,
    "start_time": "2021-12-11T20:51:16.080Z"
   },
   {
    "duration": 10,
    "start_time": "2021-12-11T20:51:16.117Z"
   },
   {
    "duration": 10,
    "start_time": "2021-12-11T20:51:16.131Z"
   },
   {
    "duration": 16,
    "start_time": "2021-12-11T20:51:16.144Z"
   },
   {
    "duration": 7,
    "start_time": "2021-12-11T20:51:16.163Z"
   },
   {
    "duration": 53,
    "start_time": "2021-12-11T20:51:16.173Z"
   },
   {
    "duration": 14,
    "start_time": "2021-12-11T20:51:16.233Z"
   },
   {
    "duration": 6,
    "start_time": "2021-12-11T20:51:16.251Z"
   },
   {
    "duration": 6,
    "start_time": "2021-12-11T20:51:16.260Z"
   },
   {
    "duration": 89,
    "start_time": "2021-12-11T20:51:16.269Z"
   },
   {
    "duration": 9,
    "start_time": "2021-12-11T20:51:16.361Z"
   },
   {
    "duration": 9,
    "start_time": "2021-12-11T20:51:16.373Z"
   },
   {
    "duration": 37,
    "start_time": "2021-12-11T20:51:16.386Z"
   },
   {
    "duration": 7,
    "start_time": "2021-12-11T20:51:16.426Z"
   },
   {
    "duration": 16,
    "start_time": "2021-12-11T20:51:16.436Z"
   },
   {
    "duration": 65,
    "start_time": "2021-12-11T20:51:16.455Z"
   },
   {
    "duration": 12,
    "start_time": "2021-12-11T20:51:16.523Z"
   },
   {
    "duration": 6,
    "start_time": "2021-12-11T20:51:16.538Z"
   },
   {
    "duration": 424,
    "start_time": "2021-12-11T20:51:16.547Z"
   },
   {
    "duration": 11,
    "start_time": "2021-12-11T20:51:16.974Z"
   },
   {
    "duration": 9,
    "start_time": "2021-12-11T20:51:16.987Z"
   },
   {
    "duration": 12,
    "start_time": "2021-12-11T20:51:17.022Z"
   },
   {
    "duration": 8,
    "start_time": "2021-12-11T20:51:17.038Z"
   },
   {
    "duration": 9,
    "start_time": "2021-12-11T20:51:17.048Z"
   },
   {
    "duration": 58,
    "start_time": "2021-12-11T20:51:17.059Z"
   },
   {
    "duration": 10,
    "start_time": "2021-12-11T20:51:17.119Z"
   },
   {
    "duration": 8,
    "start_time": "2021-12-11T20:51:17.132Z"
   },
   {
    "duration": 12,
    "start_time": "2021-12-11T20:51:17.142Z"
   },
   {
    "duration": 8,
    "start_time": "2021-12-11T20:51:17.157Z"
   },
   {
    "duration": 64,
    "start_time": "2021-12-11T20:51:17.167Z"
   },
   {
    "duration": 12,
    "start_time": "2021-12-11T20:51:17.234Z"
   },
   {
    "duration": 8,
    "start_time": "2021-12-11T20:51:17.249Z"
   },
   {
    "duration": 10,
    "start_time": "2021-12-11T20:51:17.260Z"
   },
   {
    "duration": 9,
    "start_time": "2021-12-11T20:51:17.317Z"
   },
   {
    "duration": 19,
    "start_time": "2021-12-11T20:51:17.330Z"
   },
   {
    "duration": 13,
    "start_time": "2021-12-11T20:51:17.352Z"
   },
   {
    "duration": 51,
    "start_time": "2021-12-11T20:51:17.367Z"
   },
   {
    "duration": 33,
    "start_time": "2021-12-11T20:51:17.421Z"
   },
   {
    "duration": 9,
    "start_time": "2021-12-11T20:51:17.457Z"
   },
   {
    "duration": 11,
    "start_time": "2021-12-11T20:51:17.468Z"
   },
   {
    "duration": 12,
    "start_time": "2021-12-11T20:51:17.518Z"
   },
   {
    "duration": 28,
    "start_time": "2021-12-11T20:51:17.532Z"
   },
   {
    "duration": 55,
    "start_time": "2021-12-11T20:51:17.563Z"
   },
   {
    "duration": 10,
    "start_time": "2021-12-11T20:51:17.621Z"
   },
   {
    "duration": 9,
    "start_time": "2021-12-11T20:51:17.633Z"
   },
   {
    "duration": 28,
    "start_time": "2021-12-11T20:51:17.644Z"
   },
   {
    "duration": 57,
    "start_time": "2021-12-11T20:51:17.675Z"
   },
   {
    "duration": 10,
    "start_time": "2021-12-11T20:51:17.735Z"
   },
   {
    "duration": 30,
    "start_time": "2021-12-11T20:51:17.748Z"
   },
   {
    "duration": 42,
    "start_time": "2021-12-11T20:51:17.781Z"
   },
   {
    "duration": 40,
    "start_time": "2021-12-11T20:51:17.826Z"
   },
   {
    "duration": 8,
    "start_time": "2021-12-11T20:51:17.869Z"
   },
   {
    "duration": 46,
    "start_time": "2021-12-11T20:51:17.879Z"
   },
   {
    "duration": 1158,
    "start_time": "2021-12-11T20:51:17.928Z"
   },
   {
    "duration": 8,
    "start_time": "2021-12-11T20:51:19.089Z"
   },
   {
    "duration": 21,
    "start_time": "2021-12-11T20:51:19.099Z"
   },
   {
    "duration": 23,
    "start_time": "2021-12-11T20:51:19.123Z"
   },
   {
    "duration": 4435,
    "start_time": "2021-12-11T20:51:19.149Z"
   },
   {
    "duration": 9,
    "start_time": "2021-12-11T20:51:23.587Z"
   },
   {
    "duration": 30,
    "start_time": "2021-12-11T20:51:23.618Z"
   },
   {
    "duration": 14,
    "start_time": "2021-12-11T20:51:23.650Z"
   },
   {
    "duration": 21,
    "start_time": "2021-12-11T20:51:23.667Z"
   },
   {
    "duration": 6,
    "start_time": "2021-12-11T20:51:23.719Z"
   },
   {
    "duration": 323,
    "start_time": "2021-12-11T20:51:23.728Z"
   },
   {
    "duration": 32,
    "start_time": "2021-12-11T20:51:24.054Z"
   },
   {
    "duration": 42,
    "start_time": "2021-12-11T20:51:24.089Z"
   },
   {
    "duration": 79,
    "start_time": "2021-12-11T20:51:24.139Z"
   },
   {
    "duration": 125,
    "start_time": "2021-12-11T20:51:24.222Z"
   },
   {
    "duration": 215,
    "start_time": "2021-12-11T20:51:24.136Z"
   },
   {
    "duration": 205,
    "start_time": "2021-12-11T20:51:24.148Z"
   },
   {
    "duration": 196,
    "start_time": "2021-12-11T20:51:24.159Z"
   },
   {
    "duration": 187,
    "start_time": "2021-12-11T20:51:24.170Z"
   },
   {
    "duration": 175,
    "start_time": "2021-12-11T20:51:24.184Z"
   },
   {
    "duration": 164,
    "start_time": "2021-12-11T20:51:24.197Z"
   },
   {
    "duration": 156,
    "start_time": "2021-12-11T20:51:24.207Z"
   },
   {
    "duration": 90,
    "start_time": "2021-12-11T20:52:31.086Z"
   },
   {
    "duration": 40,
    "start_time": "2021-12-11T20:52:31.179Z"
   },
   {
    "duration": 9,
    "start_time": "2021-12-11T20:52:31.223Z"
   },
   {
    "duration": 11,
    "start_time": "2021-12-11T20:52:31.235Z"
   },
   {
    "duration": 15,
    "start_time": "2021-12-11T20:52:31.249Z"
   },
   {
    "duration": 63,
    "start_time": "2021-12-11T20:52:31.267Z"
   },
   {
    "duration": 10,
    "start_time": "2021-12-11T20:52:31.332Z"
   },
   {
    "duration": 19,
    "start_time": "2021-12-11T20:52:31.346Z"
   },
   {
    "duration": 7,
    "start_time": "2021-12-11T20:52:31.369Z"
   },
   {
    "duration": 43,
    "start_time": "2021-12-11T20:52:31.379Z"
   },
   {
    "duration": 33,
    "start_time": "2021-12-11T20:52:31.426Z"
   },
   {
    "duration": 8,
    "start_time": "2021-12-11T20:52:31.461Z"
   },
   {
    "duration": 45,
    "start_time": "2021-12-11T20:52:31.472Z"
   },
   {
    "duration": 7,
    "start_time": "2021-12-11T20:52:31.519Z"
   },
   {
    "duration": 7,
    "start_time": "2021-12-11T20:52:31.529Z"
   },
   {
    "duration": 16,
    "start_time": "2021-12-11T20:52:31.538Z"
   },
   {
    "duration": 74,
    "start_time": "2021-12-11T20:52:31.557Z"
   },
   {
    "duration": 13,
    "start_time": "2021-12-11T20:52:31.634Z"
   },
   {
    "duration": 6,
    "start_time": "2021-12-11T20:52:31.650Z"
   },
   {
    "duration": 332,
    "start_time": "2021-12-11T20:52:31.659Z"
   },
   {
    "duration": 25,
    "start_time": "2021-12-11T20:52:31.993Z"
   },
   {
    "duration": 11,
    "start_time": "2021-12-11T20:52:32.021Z"
   },
   {
    "duration": 14,
    "start_time": "2021-12-11T20:52:32.040Z"
   },
   {
    "duration": 8,
    "start_time": "2021-12-11T20:52:32.058Z"
   },
   {
    "duration": 51,
    "start_time": "2021-12-11T20:52:32.068Z"
   },
   {
    "duration": 11,
    "start_time": "2021-12-11T20:52:32.121Z"
   },
   {
    "duration": 11,
    "start_time": "2021-12-11T20:52:32.134Z"
   },
   {
    "duration": 7,
    "start_time": "2021-12-11T20:52:32.147Z"
   },
   {
    "duration": 13,
    "start_time": "2021-12-11T20:52:32.156Z"
   },
   {
    "duration": 53,
    "start_time": "2021-12-11T20:52:32.171Z"
   },
   {
    "duration": 26,
    "start_time": "2021-12-11T20:52:32.226Z"
   },
   {
    "duration": 21,
    "start_time": "2021-12-11T20:52:32.255Z"
   },
   {
    "duration": 17,
    "start_time": "2021-12-11T20:52:32.279Z"
   },
   {
    "duration": 6,
    "start_time": "2021-12-11T20:52:32.318Z"
   },
   {
    "duration": 21,
    "start_time": "2021-12-11T20:52:32.326Z"
   },
   {
    "duration": 33,
    "start_time": "2021-12-11T20:52:32.350Z"
   },
   {
    "duration": 14,
    "start_time": "2021-12-11T20:52:32.387Z"
   },
   {
    "duration": 14,
    "start_time": "2021-12-11T20:52:32.418Z"
   },
   {
    "duration": 43,
    "start_time": "2021-12-11T20:52:32.435Z"
   },
   {
    "duration": 7,
    "start_time": "2021-12-11T20:52:32.481Z"
   },
   {
    "duration": 31,
    "start_time": "2021-12-11T20:52:32.492Z"
   },
   {
    "duration": 12,
    "start_time": "2021-12-11T20:52:32.526Z"
   },
   {
    "duration": 30,
    "start_time": "2021-12-11T20:52:32.541Z"
   },
   {
    "duration": 50,
    "start_time": "2021-12-11T20:52:32.574Z"
   },
   {
    "duration": 9,
    "start_time": "2021-12-11T20:52:32.627Z"
   },
   {
    "duration": 38,
    "start_time": "2021-12-11T20:52:32.639Z"
   },
   {
    "duration": 28,
    "start_time": "2021-12-11T20:52:32.679Z"
   },
   {
    "duration": 27,
    "start_time": "2021-12-11T20:52:32.709Z"
   },
   {
    "duration": 6,
    "start_time": "2021-12-11T20:52:32.739Z"
   },
   {
    "duration": 21,
    "start_time": "2021-12-11T20:52:32.748Z"
   },
   {
    "duration": 8,
    "start_time": "2021-12-11T20:52:32.772Z"
   },
   {
    "duration": 84,
    "start_time": "2021-12-11T20:52:32.782Z"
   },
   {
    "duration": 10,
    "start_time": "2021-12-11T20:52:32.869Z"
   },
   {
    "duration": 10,
    "start_time": "2021-12-11T20:52:32.882Z"
   },
   {
    "duration": 1140,
    "start_time": "2021-12-11T20:52:32.918Z"
   },
   {
    "duration": 9,
    "start_time": "2021-12-11T20:52:34.061Z"
   },
   {
    "duration": 8,
    "start_time": "2021-12-11T20:52:34.073Z"
   },
   {
    "duration": 44,
    "start_time": "2021-12-11T20:52:34.084Z"
   },
   {
    "duration": 4009,
    "start_time": "2021-12-11T20:52:34.131Z"
   },
   {
    "duration": 8,
    "start_time": "2021-12-11T20:52:38.143Z"
   },
   {
    "duration": 22,
    "start_time": "2021-12-11T20:52:38.154Z"
   },
   {
    "duration": 41,
    "start_time": "2021-12-11T20:52:38.178Z"
   },
   {
    "duration": 11,
    "start_time": "2021-12-11T20:52:38.221Z"
   },
   {
    "duration": 5,
    "start_time": "2021-12-11T20:52:38.235Z"
   },
   {
    "duration": 329,
    "start_time": "2021-12-11T20:52:38.243Z"
   },
   {
    "duration": 21,
    "start_time": "2021-12-11T20:52:38.574Z"
   },
   {
    "duration": 20,
    "start_time": "2021-12-11T20:52:38.618Z"
   },
   {
    "duration": 82,
    "start_time": "2021-12-11T20:52:38.646Z"
   },
   {
    "duration": 339,
    "start_time": "2021-12-11T20:52:38.732Z"
   },
   {
    "duration": 338,
    "start_time": "2021-12-11T20:52:38.737Z"
   },
   {
    "duration": 329,
    "start_time": "2021-12-11T20:52:38.747Z"
   },
   {
    "duration": 320,
    "start_time": "2021-12-11T20:52:38.757Z"
   },
   {
    "duration": 314,
    "start_time": "2021-12-11T20:52:38.765Z"
   },
   {
    "duration": 306,
    "start_time": "2021-12-11T20:52:38.775Z"
   },
   {
    "duration": 299,
    "start_time": "2021-12-11T20:52:38.783Z"
   },
   {
    "duration": 293,
    "start_time": "2021-12-11T20:52:38.792Z"
   },
   {
    "duration": 4687,
    "start_time": "2021-12-11T20:53:21.611Z"
   },
   {
    "duration": 8,
    "start_time": "2021-12-11T20:53:39.230Z"
   },
   {
    "duration": 8,
    "start_time": "2021-12-11T20:54:28.500Z"
   },
   {
    "duration": 8,
    "start_time": "2021-12-11T20:56:45.049Z"
   },
   {
    "duration": 280,
    "start_time": "2021-12-11T20:57:24.047Z"
   },
   {
    "duration": 6,
    "start_time": "2021-12-11T20:57:59.187Z"
   },
   {
    "duration": 834,
    "start_time": "2021-12-11T20:58:50.325Z"
   },
   {
    "duration": 21,
    "start_time": "2021-12-11T20:58:51.161Z"
   },
   {
    "duration": 13,
    "start_time": "2021-12-11T20:58:52.453Z"
   },
   {
    "duration": 18,
    "start_time": "2021-12-11T20:58:52.470Z"
   },
   {
    "duration": 35,
    "start_time": "2021-12-11T20:58:52.491Z"
   },
   {
    "duration": 8,
    "start_time": "2021-12-11T20:58:52.529Z"
   },
   {
    "duration": 9,
    "start_time": "2021-12-11T20:58:52.540Z"
   },
   {
    "duration": 14,
    "start_time": "2021-12-11T20:58:52.551Z"
   },
   {
    "duration": 7,
    "start_time": "2021-12-11T20:58:52.617Z"
   },
   {
    "duration": 3,
    "start_time": "2021-12-11T20:58:52.629Z"
   },
   {
    "duration": 45,
    "start_time": "2021-12-11T20:58:52.636Z"
   },
   {
    "duration": 37,
    "start_time": "2021-12-11T20:58:52.683Z"
   },
   {
    "duration": 10,
    "start_time": "2021-12-11T20:58:52.723Z"
   },
   {
    "duration": 7,
    "start_time": "2021-12-11T20:58:52.736Z"
   },
   {
    "duration": 8,
    "start_time": "2021-12-11T20:58:52.746Z"
   },
   {
    "duration": 70,
    "start_time": "2021-12-11T20:58:52.757Z"
   },
   {
    "duration": 33,
    "start_time": "2021-12-11T20:58:52.830Z"
   },
   {
    "duration": 13,
    "start_time": "2021-12-11T20:58:52.866Z"
   },
   {
    "duration": 38,
    "start_time": "2021-12-11T20:58:52.882Z"
   },
   {
    "duration": 502,
    "start_time": "2021-12-11T20:58:52.923Z"
   },
   {
    "duration": 14,
    "start_time": "2021-12-11T20:58:53.428Z"
   },
   {
    "duration": 10,
    "start_time": "2021-12-11T20:58:53.446Z"
   },
   {
    "duration": 16,
    "start_time": "2021-12-11T20:58:53.458Z"
   },
   {
    "duration": 46,
    "start_time": "2021-12-11T20:58:53.477Z"
   },
   {
    "duration": 11,
    "start_time": "2021-12-11T20:58:53.533Z"
   },
   {
    "duration": 8,
    "start_time": "2021-12-11T20:58:53.549Z"
   },
   {
    "duration": 57,
    "start_time": "2021-12-11T20:58:53.559Z"
   },
   {
    "duration": 6,
    "start_time": "2021-12-11T20:58:53.620Z"
   },
   {
    "duration": 11,
    "start_time": "2021-12-11T20:58:53.629Z"
   },
   {
    "duration": 8,
    "start_time": "2021-12-11T20:58:53.642Z"
   },
   {
    "duration": 66,
    "start_time": "2021-12-11T20:58:53.653Z"
   },
   {
    "duration": 13,
    "start_time": "2021-12-11T20:58:53.721Z"
   },
   {
    "duration": 8,
    "start_time": "2021-12-11T20:58:53.737Z"
   },
   {
    "duration": 6,
    "start_time": "2021-12-11T20:58:53.747Z"
   },
   {
    "duration": 6,
    "start_time": "2021-12-11T20:58:53.756Z"
   },
   {
    "duration": 65,
    "start_time": "2021-12-11T20:58:53.764Z"
   },
   {
    "duration": 11,
    "start_time": "2021-12-11T20:58:53.833Z"
   },
   {
    "duration": 10,
    "start_time": "2021-12-11T20:58:53.846Z"
   },
   {
    "duration": 77,
    "start_time": "2021-12-11T20:58:53.859Z"
   },
   {
    "duration": 6,
    "start_time": "2021-12-11T20:58:53.938Z"
   },
   {
    "duration": 9,
    "start_time": "2021-12-11T20:58:53.947Z"
   },
   {
    "duration": 11,
    "start_time": "2021-12-11T20:58:53.958Z"
   },
   {
    "duration": 71,
    "start_time": "2021-12-11T20:58:53.971Z"
   },
   {
    "duration": 16,
    "start_time": "2021-12-11T20:58:54.045Z"
   },
   {
    "duration": 10,
    "start_time": "2021-12-11T20:58:54.064Z"
   },
   {
    "duration": 6,
    "start_time": "2021-12-11T20:58:54.124Z"
   },
   {
    "duration": 18,
    "start_time": "2021-12-11T20:58:54.133Z"
   },
   {
    "duration": 17,
    "start_time": "2021-12-11T20:58:54.154Z"
   },
   {
    "duration": 9,
    "start_time": "2021-12-11T20:58:54.174Z"
   },
   {
    "duration": 29,
    "start_time": "2021-12-11T20:58:54.219Z"
   },
   {
    "duration": 11,
    "start_time": "2021-12-11T20:58:54.251Z"
   },
   {
    "duration": 94,
    "start_time": "2021-12-11T20:58:54.266Z"
   },
   {
    "duration": 10,
    "start_time": "2021-12-11T20:58:54.364Z"
   },
   {
    "duration": 10,
    "start_time": "2021-12-11T20:58:54.377Z"
   },
   {
    "duration": 1031,
    "start_time": "2021-12-11T20:58:54.390Z"
   },
   {
    "duration": 7,
    "start_time": "2021-12-11T20:58:55.425Z"
   },
   {
    "duration": 9,
    "start_time": "2021-12-11T20:58:55.435Z"
   },
   {
    "duration": 28,
    "start_time": "2021-12-11T20:58:55.448Z"
   },
   {
    "duration": 3938,
    "start_time": "2021-12-11T20:58:55.479Z"
   },
   {
    "duration": 8,
    "start_time": "2021-12-11T20:58:59.420Z"
   },
   {
    "duration": 28,
    "start_time": "2021-12-11T20:58:59.431Z"
   },
   {
    "duration": 16,
    "start_time": "2021-12-11T20:58:59.462Z"
   },
   {
    "duration": 44,
    "start_time": "2021-12-11T20:58:59.481Z"
   },
   {
    "duration": 6,
    "start_time": "2021-12-11T20:58:59.527Z"
   },
   {
    "duration": 329,
    "start_time": "2021-12-11T20:58:59.535Z"
   },
   {
    "duration": 22,
    "start_time": "2021-12-11T20:58:59.866Z"
   },
   {
    "duration": 41,
    "start_time": "2021-12-11T20:58:59.891Z"
   },
   {
    "duration": 84,
    "start_time": "2021-12-11T20:58:59.935Z"
   },
   {
    "duration": 9,
    "start_time": "2021-12-11T20:59:00.021Z"
   },
   {
    "duration": 7,
    "start_time": "2021-12-11T20:59:00.037Z"
   },
   {
    "duration": 82,
    "start_time": "2021-12-11T20:59:00.047Z"
   },
   {
    "duration": 9,
    "start_time": "2021-12-11T20:59:00.131Z"
   },
   {
    "duration": 15,
    "start_time": "2021-12-11T20:59:00.143Z"
   },
   {
    "duration": 82,
    "start_time": "2021-12-11T20:59:00.160Z"
   },
   {
    "duration": 9,
    "start_time": "2021-12-11T20:59:00.244Z"
   },
   {
    "duration": 80,
    "start_time": "2021-12-11T20:59:00.255Z"
   },
   {
    "duration": 12,
    "start_time": "2021-12-11T20:59:00.338Z"
   },
   {
    "duration": 119,
    "start_time": "2021-12-11T21:02:13.789Z"
   },
   {
    "duration": 6,
    "start_time": "2021-12-11T21:02:35.985Z"
   },
   {
    "duration": 6,
    "start_time": "2021-12-11T21:02:57.078Z"
   },
   {
    "duration": 158,
    "start_time": "2021-12-11T21:03:23.751Z"
   },
   {
    "duration": 607,
    "start_time": "2021-12-11T21:03:33.938Z"
   },
   {
    "duration": 6,
    "start_time": "2021-12-11T21:07:09.750Z"
   },
   {
    "duration": 7,
    "start_time": "2021-12-11T21:07:13.326Z"
   },
   {
    "duration": 401,
    "start_time": "2021-12-11T21:28:57.793Z"
   },
   {
    "duration": 301,
    "start_time": "2021-12-11T21:29:14.118Z"
   },
   {
    "duration": 812,
    "start_time": "2021-12-11T21:29:29.465Z"
   },
   {
    "duration": 41,
    "start_time": "2021-12-11T21:29:30.280Z"
   },
   {
    "duration": 11,
    "start_time": "2021-12-11T21:29:30.324Z"
   },
   {
    "duration": 9,
    "start_time": "2021-12-11T21:29:30.339Z"
   },
   {
    "duration": 12,
    "start_time": "2021-12-11T21:29:30.351Z"
   },
   {
    "duration": 56,
    "start_time": "2021-12-11T21:29:30.366Z"
   },
   {
    "duration": 10,
    "start_time": "2021-12-11T21:29:30.425Z"
   },
   {
    "duration": 11,
    "start_time": "2021-12-11T21:29:30.440Z"
   },
   {
    "duration": 6,
    "start_time": "2021-12-11T21:29:30.455Z"
   },
   {
    "duration": 53,
    "start_time": "2021-12-11T21:29:30.464Z"
   },
   {
    "duration": 30,
    "start_time": "2021-12-11T21:29:30.520Z"
   },
   {
    "duration": 8,
    "start_time": "2021-12-11T21:29:30.553Z"
   },
   {
    "duration": 12,
    "start_time": "2021-12-11T21:29:30.563Z"
   },
   {
    "duration": 40,
    "start_time": "2021-12-11T21:29:30.578Z"
   },
   {
    "duration": 14,
    "start_time": "2021-12-11T21:29:30.621Z"
   },
   {
    "duration": 21,
    "start_time": "2021-12-11T21:29:30.637Z"
   },
   {
    "duration": 21,
    "start_time": "2021-12-11T21:29:30.661Z"
   },
   {
    "duration": 38,
    "start_time": "2021-12-11T21:29:30.685Z"
   },
   {
    "duration": 5,
    "start_time": "2021-12-11T21:29:30.727Z"
   },
   {
    "duration": 319,
    "start_time": "2021-12-11T21:29:30.734Z"
   },
   {
    "duration": 13,
    "start_time": "2021-12-11T21:29:31.055Z"
   },
   {
    "duration": 19,
    "start_time": "2021-12-11T21:29:31.070Z"
   },
   {
    "duration": 30,
    "start_time": "2021-12-11T21:29:31.095Z"
   },
   {
    "duration": 7,
    "start_time": "2021-12-11T21:29:31.130Z"
   },
   {
    "duration": 14,
    "start_time": "2021-12-11T21:29:31.139Z"
   },
   {
    "duration": 26,
    "start_time": "2021-12-11T21:29:31.155Z"
   },
   {
    "duration": 13,
    "start_time": "2021-12-11T21:29:31.184Z"
   },
   {
    "duration": 25,
    "start_time": "2021-12-11T21:29:31.199Z"
   },
   {
    "duration": 14,
    "start_time": "2021-12-11T21:29:31.226Z"
   },
   {
    "duration": 11,
    "start_time": "2021-12-11T21:29:31.243Z"
   },
   {
    "duration": 60,
    "start_time": "2021-12-11T21:29:31.257Z"
   },
   {
    "duration": 26,
    "start_time": "2021-12-11T21:29:31.319Z"
   },
   {
    "duration": 10,
    "start_time": "2021-12-11T21:29:31.347Z"
   },
   {
    "duration": 7,
    "start_time": "2021-12-11T21:29:31.360Z"
   },
   {
    "duration": 8,
    "start_time": "2021-12-11T21:29:31.369Z"
   },
   {
    "duration": 44,
    "start_time": "2021-12-11T21:29:31.379Z"
   },
   {
    "duration": 14,
    "start_time": "2021-12-11T21:29:31.426Z"
   },
   {
    "duration": 11,
    "start_time": "2021-12-11T21:29:31.442Z"
   },
   {
    "duration": 73,
    "start_time": "2021-12-11T21:29:31.456Z"
   },
   {
    "duration": 7,
    "start_time": "2021-12-11T21:29:31.531Z"
   },
   {
    "duration": 10,
    "start_time": "2021-12-11T21:29:31.540Z"
   },
   {
    "duration": 11,
    "start_time": "2021-12-11T21:29:31.552Z"
   },
   {
    "duration": 63,
    "start_time": "2021-12-11T21:29:31.566Z"
   },
   {
    "duration": 16,
    "start_time": "2021-12-11T21:29:31.631Z"
   },
   {
    "duration": 8,
    "start_time": "2021-12-11T21:29:31.649Z"
   },
   {
    "duration": 10,
    "start_time": "2021-12-11T21:29:31.660Z"
   },
   {
    "duration": 45,
    "start_time": "2021-12-11T21:29:31.672Z"
   },
   {
    "duration": 17,
    "start_time": "2021-12-11T21:29:31.720Z"
   },
   {
    "duration": 8,
    "start_time": "2021-12-11T21:29:31.740Z"
   },
   {
    "duration": 23,
    "start_time": "2021-12-11T21:29:31.750Z"
   },
   {
    "duration": 43,
    "start_time": "2021-12-11T21:29:31.775Z"
   },
   {
    "duration": 39,
    "start_time": "2021-12-11T21:29:31.821Z"
   },
   {
    "duration": 8,
    "start_time": "2021-12-11T21:29:31.862Z"
   },
   {
    "duration": 7,
    "start_time": "2021-12-11T21:29:31.872Z"
   },
   {
    "duration": 937,
    "start_time": "2021-12-11T21:29:31.918Z"
   },
   {
    "duration": 7,
    "start_time": "2021-12-11T21:29:32.857Z"
   },
   {
    "duration": 5,
    "start_time": "2021-12-11T21:29:32.868Z"
   },
   {
    "duration": 47,
    "start_time": "2021-12-11T21:29:32.876Z"
   },
   {
    "duration": 3535,
    "start_time": "2021-12-11T21:29:32.926Z"
   },
   {
    "duration": 7,
    "start_time": "2021-12-11T21:29:36.465Z"
   },
   {
    "duration": 49,
    "start_time": "2021-12-11T21:29:36.475Z"
   },
   {
    "duration": 13,
    "start_time": "2021-12-11T21:29:36.527Z"
   },
   {
    "duration": 12,
    "start_time": "2021-12-11T21:29:36.542Z"
   },
   {
    "duration": 4,
    "start_time": "2021-12-11T21:29:36.557Z"
   },
   {
    "duration": 320,
    "start_time": "2021-12-11T21:29:36.564Z"
   },
   {
    "duration": 31,
    "start_time": "2021-12-11T21:29:36.886Z"
   },
   {
    "duration": 520,
    "start_time": "2021-12-11T21:29:36.919Z"
   },
   {
    "duration": 59,
    "start_time": "2021-12-11T21:29:37.384Z"
   },
   {
    "duration": 50,
    "start_time": "2021-12-11T21:29:37.394Z"
   },
   {
    "duration": -13,
    "start_time": "2021-12-11T21:29:37.459Z"
   },
   {
    "duration": -21,
    "start_time": "2021-12-11T21:29:37.468Z"
   },
   {
    "duration": -32,
    "start_time": "2021-12-11T21:29:37.480Z"
   },
   {
    "duration": -40,
    "start_time": "2021-12-11T21:29:37.490Z"
   },
   {
    "duration": -48,
    "start_time": "2021-12-11T21:29:37.499Z"
   },
   {
    "duration": -56,
    "start_time": "2021-12-11T21:29:37.508Z"
   },
   {
    "duration": -63,
    "start_time": "2021-12-11T21:29:37.517Z"
   },
   {
    "duration": -73,
    "start_time": "2021-12-11T21:29:37.528Z"
   },
   {
    "duration": -83,
    "start_time": "2021-12-11T21:29:37.539Z"
   },
   {
    "duration": 6,
    "start_time": "2021-12-11T21:29:57.683Z"
   },
   {
    "duration": 8,
    "start_time": "2021-12-11T21:30:40.399Z"
   },
   {
    "duration": 88,
    "start_time": "2021-12-11T21:31:11.694Z"
   },
   {
    "duration": 47,
    "start_time": "2021-12-11T21:31:11.786Z"
   },
   {
    "duration": 8,
    "start_time": "2021-12-11T21:31:11.837Z"
   },
   {
    "duration": 7,
    "start_time": "2021-12-11T21:31:11.848Z"
   },
   {
    "duration": 15,
    "start_time": "2021-12-11T21:31:11.857Z"
   },
   {
    "duration": 6,
    "start_time": "2021-12-11T21:31:11.918Z"
   },
   {
    "duration": 13,
    "start_time": "2021-12-11T21:31:11.926Z"
   },
   {
    "duration": 11,
    "start_time": "2021-12-11T21:31:11.942Z"
   },
   {
    "duration": 5,
    "start_time": "2021-12-11T21:31:11.956Z"
   },
   {
    "duration": 3,
    "start_time": "2021-12-11T21:31:11.964Z"
   },
   {
    "duration": 29,
    "start_time": "2021-12-11T21:31:12.018Z"
   },
   {
    "duration": 7,
    "start_time": "2021-12-11T21:31:12.049Z"
   },
   {
    "duration": 8,
    "start_time": "2021-12-11T21:31:12.058Z"
   },
   {
    "duration": 50,
    "start_time": "2021-12-11T21:31:12.068Z"
   },
   {
    "duration": 6,
    "start_time": "2021-12-11T21:31:12.121Z"
   },
   {
    "duration": 17,
    "start_time": "2021-12-11T21:31:12.129Z"
   },
   {
    "duration": 21,
    "start_time": "2021-12-11T21:31:12.148Z"
   },
   {
    "duration": 51,
    "start_time": "2021-12-11T21:31:12.171Z"
   },
   {
    "duration": 4,
    "start_time": "2021-12-11T21:31:12.225Z"
   },
   {
    "duration": 330,
    "start_time": "2021-12-11T21:31:12.231Z"
   },
   {
    "duration": 12,
    "start_time": "2021-12-11T21:31:12.563Z"
   },
   {
    "duration": 8,
    "start_time": "2021-12-11T21:31:12.577Z"
   },
   {
    "duration": 37,
    "start_time": "2021-12-11T21:31:12.591Z"
   },
   {
    "duration": 7,
    "start_time": "2021-12-11T21:31:12.631Z"
   },
   {
    "duration": 10,
    "start_time": "2021-12-11T21:31:12.640Z"
   },
   {
    "duration": 6,
    "start_time": "2021-12-11T21:31:12.653Z"
   },
   {
    "duration": 9,
    "start_time": "2021-12-11T21:31:12.661Z"
   },
   {
    "duration": 48,
    "start_time": "2021-12-11T21:31:12.672Z"
   },
   {
    "duration": 8,
    "start_time": "2021-12-11T21:31:12.722Z"
   },
   {
    "duration": 9,
    "start_time": "2021-12-11T21:31:12.733Z"
   },
   {
    "duration": 26,
    "start_time": "2021-12-11T21:31:12.745Z"
   },
   {
    "duration": 50,
    "start_time": "2021-12-11T21:31:12.774Z"
   },
   {
    "duration": 7,
    "start_time": "2021-12-11T21:31:12.826Z"
   },
   {
    "duration": 6,
    "start_time": "2021-12-11T21:31:12.835Z"
   },
   {
    "duration": 6,
    "start_time": "2021-12-11T21:31:12.844Z"
   },
   {
    "duration": 16,
    "start_time": "2021-12-11T21:31:12.853Z"
   },
   {
    "duration": 53,
    "start_time": "2021-12-11T21:31:12.872Z"
   },
   {
    "duration": 10,
    "start_time": "2021-12-11T21:31:12.928Z"
   },
   {
    "duration": 33,
    "start_time": "2021-12-11T21:31:12.941Z"
   },
   {
    "duration": 7,
    "start_time": "2021-12-11T21:31:12.977Z"
   },
   {
    "duration": 9,
    "start_time": "2021-12-11T21:31:13.018Z"
   },
   {
    "duration": 17,
    "start_time": "2021-12-11T21:31:13.029Z"
   },
   {
    "duration": 26,
    "start_time": "2021-12-11T21:31:13.049Z"
   },
   {
    "duration": 48,
    "start_time": "2021-12-11T21:31:13.078Z"
   },
   {
    "duration": 10,
    "start_time": "2021-12-11T21:31:13.129Z"
   },
   {
    "duration": 8,
    "start_time": "2021-12-11T21:31:13.142Z"
   },
   {
    "duration": 21,
    "start_time": "2021-12-11T21:31:13.153Z"
   },
   {
    "duration": 51,
    "start_time": "2021-12-11T21:31:13.176Z"
   },
   {
    "duration": 6,
    "start_time": "2021-12-11T21:31:13.229Z"
   },
   {
    "duration": 25,
    "start_time": "2021-12-11T21:31:13.237Z"
   },
   {
    "duration": 7,
    "start_time": "2021-12-11T21:31:13.264Z"
   },
   {
    "duration": 74,
    "start_time": "2021-12-11T21:31:13.274Z"
   },
   {
    "duration": 8,
    "start_time": "2021-12-11T21:31:13.350Z"
   },
   {
    "duration": 9,
    "start_time": "2021-12-11T21:31:13.360Z"
   },
   {
    "duration": 1006,
    "start_time": "2021-12-11T21:31:13.371Z"
   },
   {
    "duration": 6,
    "start_time": "2021-12-11T21:31:14.380Z"
   },
   {
    "duration": 6,
    "start_time": "2021-12-11T21:31:14.389Z"
   },
   {
    "duration": 17,
    "start_time": "2021-12-11T21:31:14.417Z"
   },
   {
    "duration": 3502,
    "start_time": "2021-12-11T21:31:14.437Z"
   },
   {
    "duration": 7,
    "start_time": "2021-12-11T21:31:17.941Z"
   },
   {
    "duration": 20,
    "start_time": "2021-12-11T21:31:17.951Z"
   },
   {
    "duration": 13,
    "start_time": "2021-12-11T21:31:17.973Z"
   },
   {
    "duration": 12,
    "start_time": "2021-12-11T21:31:18.016Z"
   },
   {
    "duration": 5,
    "start_time": "2021-12-11T21:31:18.031Z"
   },
   {
    "duration": 327,
    "start_time": "2021-12-11T21:31:18.038Z"
   },
   {
    "duration": 23,
    "start_time": "2021-12-11T21:31:18.368Z"
   },
   {
    "duration": 24,
    "start_time": "2021-12-11T21:31:18.393Z"
   },
   {
    "duration": 61,
    "start_time": "2021-12-11T21:31:18.425Z"
   },
   {
    "duration": 33,
    "start_time": "2021-12-11T21:31:18.488Z"
   },
   {
    "duration": 8,
    "start_time": "2021-12-11T21:31:18.523Z"
   },
   {
    "duration": 56,
    "start_time": "2021-12-11T21:31:18.533Z"
   },
   {
    "duration": 30,
    "start_time": "2021-12-11T21:31:18.592Z"
   },
   {
    "duration": 6,
    "start_time": "2021-12-11T21:31:18.625Z"
   },
   {
    "duration": 7,
    "start_time": "2021-12-11T21:31:18.633Z"
   },
   {
    "duration": 96,
    "start_time": "2021-12-11T21:31:18.642Z"
   },
   {
    "duration": 8,
    "start_time": "2021-12-11T21:31:18.740Z"
   },
   {
    "duration": 77,
    "start_time": "2021-12-11T21:31:18.751Z"
   },
   {
    "duration": 9,
    "start_time": "2021-12-11T21:31:18.830Z"
   },
   {
    "duration": 56,
    "start_time": "2021-12-12T01:59:38.669Z"
   },
   {
    "duration": 3809,
    "start_time": "2021-12-12T01:59:41.655Z"
   },
   {
    "duration": 571,
    "start_time": "2021-12-12T01:59:44.896Z"
   },
   {
    "duration": 94,
    "start_time": "2021-12-12T01:59:54.988Z"
   },
   {
    "duration": 37,
    "start_time": "2021-12-12T01:59:55.085Z"
   },
   {
    "duration": 7,
    "start_time": "2021-12-12T01:59:55.125Z"
   },
   {
    "duration": 13,
    "start_time": "2021-12-12T01:59:55.134Z"
   },
   {
    "duration": 13,
    "start_time": "2021-12-12T01:59:55.149Z"
   },
   {
    "duration": 6,
    "start_time": "2021-12-12T01:59:55.165Z"
   },
   {
    "duration": 49,
    "start_time": "2021-12-12T01:59:55.173Z"
   },
   {
    "duration": 11,
    "start_time": "2021-12-12T01:59:55.227Z"
   },
   {
    "duration": 5,
    "start_time": "2021-12-12T01:59:55.241Z"
   },
   {
    "duration": 10,
    "start_time": "2021-12-12T01:59:55.248Z"
   },
   {
    "duration": 71,
    "start_time": "2021-12-12T01:59:55.261Z"
   },
   {
    "duration": 8,
    "start_time": "2021-12-12T01:59:55.335Z"
   },
   {
    "duration": 11,
    "start_time": "2021-12-12T01:59:55.346Z"
   },
   {
    "duration": 11,
    "start_time": "2021-12-12T01:59:55.360Z"
   },
   {
    "duration": 8,
    "start_time": "2021-12-12T01:59:55.419Z"
   },
   {
    "duration": 22,
    "start_time": "2021-12-12T01:59:55.431Z"
   },
   {
    "duration": 67,
    "start_time": "2021-12-12T01:59:55.455Z"
   },
   {
    "duration": 13,
    "start_time": "2021-12-12T01:59:55.525Z"
   },
   {
    "duration": 6,
    "start_time": "2021-12-12T01:59:55.540Z"
   },
   {
    "duration": 364,
    "start_time": "2021-12-12T01:59:55.549Z"
   },
   {
    "duration": 14,
    "start_time": "2021-12-12T01:59:55.917Z"
   },
   {
    "duration": 10,
    "start_time": "2021-12-12T01:59:55.934Z"
   },
   {
    "duration": 13,
    "start_time": "2021-12-12T01:59:55.953Z"
   },
   {
    "duration": 51,
    "start_time": "2021-12-12T01:59:55.971Z"
   },
   {
    "duration": 11,
    "start_time": "2021-12-12T01:59:56.025Z"
   },
   {
    "duration": 8,
    "start_time": "2021-12-12T01:59:56.039Z"
   },
   {
    "duration": 10,
    "start_time": "2021-12-12T01:59:56.050Z"
   },
   {
    "duration": 10,
    "start_time": "2021-12-12T01:59:56.063Z"
   },
   {
    "duration": 46,
    "start_time": "2021-12-12T01:59:56.076Z"
   },
   {
    "duration": 8,
    "start_time": "2021-12-12T01:59:56.125Z"
   },
   {
    "duration": 23,
    "start_time": "2021-12-12T01:59:56.136Z"
   },
   {
    "duration": 13,
    "start_time": "2021-12-12T01:59:56.161Z"
   },
   {
    "duration": 43,
    "start_time": "2021-12-12T01:59:56.176Z"
   },
   {
    "duration": 6,
    "start_time": "2021-12-12T01:59:56.221Z"
   },
   {
    "duration": 7,
    "start_time": "2021-12-12T01:59:56.230Z"
   },
   {
    "duration": 14,
    "start_time": "2021-12-12T01:59:56.240Z"
   },
   {
    "duration": 11,
    "start_time": "2021-12-12T01:59:56.257Z"
   },
   {
    "duration": 56,
    "start_time": "2021-12-12T01:59:56.271Z"
   },
   {
    "duration": 33,
    "start_time": "2021-12-12T01:59:56.329Z"
   },
   {
    "duration": 6,
    "start_time": "2021-12-12T01:59:56.365Z"
   },
   {
    "duration": 9,
    "start_time": "2021-12-12T01:59:56.373Z"
   },
   {
    "duration": 11,
    "start_time": "2021-12-12T01:59:56.418Z"
   },
   {
    "duration": 27,
    "start_time": "2021-12-12T01:59:56.431Z"
   },
   {
    "duration": 15,
    "start_time": "2021-12-12T01:59:56.460Z"
   },
   {
    "duration": 40,
    "start_time": "2021-12-12T01:59:56.477Z"
   },
   {
    "duration": 6,
    "start_time": "2021-12-12T01:59:56.520Z"
   },
   {
    "duration": 18,
    "start_time": "2021-12-12T01:59:56.529Z"
   },
   {
    "duration": 17,
    "start_time": "2021-12-12T01:59:56.549Z"
   },
   {
    "duration": 6,
    "start_time": "2021-12-12T01:59:56.569Z"
   },
   {
    "duration": 22,
    "start_time": "2021-12-12T01:59:56.617Z"
   },
   {
    "duration": 8,
    "start_time": "2021-12-12T01:59:56.641Z"
   },
   {
    "duration": 67,
    "start_time": "2021-12-12T01:59:56.651Z"
   },
   {
    "duration": 8,
    "start_time": "2021-12-12T01:59:56.721Z"
   },
   {
    "duration": 8,
    "start_time": "2021-12-12T01:59:56.731Z"
   },
   {
    "duration": 1182,
    "start_time": "2021-12-12T01:59:56.742Z"
   },
   {
    "duration": 7,
    "start_time": "2021-12-12T01:59:57.927Z"
   },
   {
    "duration": 6,
    "start_time": "2021-12-12T01:59:57.937Z"
   },
   {
    "duration": 18,
    "start_time": "2021-12-12T01:59:57.946Z"
   },
   {
    "duration": 3507,
    "start_time": "2021-12-12T01:59:57.966Z"
   },
   {
    "duration": 8,
    "start_time": "2021-12-12T02:00:01.476Z"
   },
   {
    "duration": 43,
    "start_time": "2021-12-12T02:00:01.486Z"
   },
   {
    "duration": 14,
    "start_time": "2021-12-12T02:00:01.532Z"
   },
   {
    "duration": 35,
    "start_time": "2021-12-12T02:00:01.548Z"
   },
   {
    "duration": 14,
    "start_time": "2021-12-12T02:00:01.585Z"
   },
   {
    "duration": 336,
    "start_time": "2021-12-12T02:00:01.601Z"
   },
   {
    "duration": 22,
    "start_time": "2021-12-12T02:00:01.939Z"
   },
   {
    "duration": 27,
    "start_time": "2021-12-12T02:00:01.969Z"
   },
   {
    "duration": 72,
    "start_time": "2021-12-12T02:00:01.999Z"
   },
   {
    "duration": 8,
    "start_time": "2021-12-12T02:00:02.074Z"
   },
   {
    "duration": 13,
    "start_time": "2021-12-12T02:00:02.084Z"
   },
   {
    "duration": 52,
    "start_time": "2021-12-12T02:00:02.116Z"
   },
   {
    "duration": 8,
    "start_time": "2021-12-12T02:00:02.171Z"
   },
   {
    "duration": 14,
    "start_time": "2021-12-12T02:00:02.182Z"
   },
   {
    "duration": 8,
    "start_time": "2021-12-12T02:00:02.219Z"
   },
   {
    "duration": 60,
    "start_time": "2021-12-12T02:00:02.230Z"
   },
   {
    "duration": 3740,
    "start_time": "2021-12-12T02:00:02.292Z"
   },
   {
    "duration": 587,
    "start_time": "2021-12-12T02:00:05.447Z"
   },
   {
    "duration": 573,
    "start_time": "2021-12-12T02:00:05.462Z"
   },
   {
    "duration": 565,
    "start_time": "2021-12-12T02:00:05.472Z"
   },
   {
    "duration": 11,
    "start_time": "2021-12-12T02:04:41.660Z"
   },
   {
    "duration": 11,
    "start_time": "2021-12-12T02:05:34.762Z"
   },
   {
    "duration": 10,
    "start_time": "2021-12-12T02:06:01.979Z"
   },
   {
    "duration": 11,
    "start_time": "2021-12-12T02:06:51.597Z"
   },
   {
    "duration": 4,
    "start_time": "2021-12-12T02:20:00.341Z"
   },
   {
    "duration": 6,
    "start_time": "2021-12-12T02:20:50.295Z"
   },
   {
    "duration": 28,
    "start_time": "2021-12-12T02:20:53.742Z"
   },
   {
    "duration": 6,
    "start_time": "2021-12-12T02:20:56.693Z"
   },
   {
    "duration": 5,
    "start_time": "2021-12-12T02:28:30.165Z"
   },
   {
    "duration": 3753,
    "start_time": "2021-12-12T02:28:33.097Z"
   },
   {
    "duration": 91,
    "start_time": "2021-12-12T02:28:49.612Z"
   },
   {
    "duration": 27,
    "start_time": "2021-12-12T02:28:49.706Z"
   },
   {
    "duration": 6,
    "start_time": "2021-12-12T02:28:49.737Z"
   },
   {
    "duration": 7,
    "start_time": "2021-12-12T02:28:49.746Z"
   },
   {
    "duration": 10,
    "start_time": "2021-12-12T02:28:49.755Z"
   },
   {
    "duration": 55,
    "start_time": "2021-12-12T02:28:49.767Z"
   },
   {
    "duration": 13,
    "start_time": "2021-12-12T02:28:49.824Z"
   },
   {
    "duration": 11,
    "start_time": "2021-12-12T02:28:49.841Z"
   },
   {
    "duration": 6,
    "start_time": "2021-12-12T02:28:49.855Z"
   },
   {
    "duration": 3,
    "start_time": "2021-12-12T02:28:49.864Z"
   },
   {
    "duration": 30,
    "start_time": "2021-12-12T02:28:49.918Z"
   },
   {
    "duration": 7,
    "start_time": "2021-12-12T02:28:49.951Z"
   },
   {
    "duration": 9,
    "start_time": "2021-12-12T02:28:49.961Z"
   },
   {
    "duration": 48,
    "start_time": "2021-12-12T02:28:49.972Z"
   },
   {
    "duration": 9,
    "start_time": "2021-12-12T02:28:50.022Z"
   },
   {
    "duration": 20,
    "start_time": "2021-12-12T02:28:50.033Z"
   },
   {
    "duration": 23,
    "start_time": "2021-12-12T02:28:50.055Z"
   },
   {
    "duration": 45,
    "start_time": "2021-12-12T02:28:50.080Z"
   },
   {
    "duration": 6,
    "start_time": "2021-12-12T02:28:50.128Z"
   },
   {
    "duration": 335,
    "start_time": "2021-12-12T02:28:50.136Z"
   },
   {
    "duration": 11,
    "start_time": "2021-12-12T02:28:50.473Z"
   },
   {
    "duration": 32,
    "start_time": "2021-12-12T02:28:50.486Z"
   },
   {
    "duration": 12,
    "start_time": "2021-12-12T02:28:50.525Z"
   },
   {
    "duration": 7,
    "start_time": "2021-12-12T02:28:50.541Z"
   },
   {
    "duration": 12,
    "start_time": "2021-12-12T02:28:50.550Z"
   },
   {
    "duration": 14,
    "start_time": "2021-12-12T02:28:50.564Z"
   },
   {
    "duration": 38,
    "start_time": "2021-12-12T02:28:50.581Z"
   },
   {
    "duration": 10,
    "start_time": "2021-12-12T02:28:50.622Z"
   },
   {
    "duration": 14,
    "start_time": "2021-12-12T02:28:50.635Z"
   },
   {
    "duration": 9,
    "start_time": "2021-12-12T02:28:50.652Z"
   },
   {
    "duration": 53,
    "start_time": "2021-12-12T02:28:50.664Z"
   },
   {
    "duration": 12,
    "start_time": "2021-12-12T02:28:50.720Z"
   },
   {
    "duration": 12,
    "start_time": "2021-12-12T02:28:50.735Z"
   },
   {
    "duration": 6,
    "start_time": "2021-12-12T02:28:50.749Z"
   },
   {
    "duration": 8,
    "start_time": "2021-12-12T02:28:50.758Z"
   },
   {
    "duration": 56,
    "start_time": "2021-12-12T02:28:50.768Z"
   },
   {
    "duration": 13,
    "start_time": "2021-12-12T02:28:50.826Z"
   },
   {
    "duration": 11,
    "start_time": "2021-12-12T02:28:50.842Z"
   },
   {
    "duration": 4,
    "start_time": "2021-12-12T02:28:50.855Z"
   },
   {
    "duration": 70,
    "start_time": "2021-12-12T02:28:50.861Z"
   },
   {
    "duration": 7,
    "start_time": "2021-12-12T02:28:50.933Z"
   },
   {
    "duration": 11,
    "start_time": "2021-12-12T02:28:50.942Z"
   },
   {
    "duration": 11,
    "start_time": "2021-12-12T02:28:50.955Z"
   },
   {
    "duration": 58,
    "start_time": "2021-12-12T02:28:50.968Z"
   },
   {
    "duration": 15,
    "start_time": "2021-12-12T02:28:51.028Z"
   },
   {
    "duration": 9,
    "start_time": "2021-12-12T02:28:51.045Z"
   },
   {
    "duration": 13,
    "start_time": "2021-12-12T02:28:51.056Z"
   },
   {
    "duration": 46,
    "start_time": "2021-12-12T02:28:51.071Z"
   },
   {
    "duration": 17,
    "start_time": "2021-12-12T02:28:51.120Z"
   },
   {
    "duration": 6,
    "start_time": "2021-12-12T02:28:51.140Z"
   },
   {
    "duration": 28,
    "start_time": "2021-12-12T02:28:51.149Z"
   },
   {
    "duration": 38,
    "start_time": "2021-12-12T02:28:51.179Z"
   },
   {
    "duration": 39,
    "start_time": "2021-12-12T02:28:51.219Z"
   },
   {
    "duration": 7,
    "start_time": "2021-12-12T02:28:51.261Z"
   },
   {
    "duration": 7,
    "start_time": "2021-12-12T02:28:51.271Z"
   },
   {
    "duration": 1017,
    "start_time": "2021-12-12T02:28:51.280Z"
   },
   {
    "duration": 18,
    "start_time": "2021-12-12T02:28:52.299Z"
   },
   {
    "duration": 6,
    "start_time": "2021-12-12T02:28:52.319Z"
   },
   {
    "duration": 24,
    "start_time": "2021-12-12T02:28:52.327Z"
   },
   {
    "duration": 3525,
    "start_time": "2021-12-12T02:28:52.353Z"
   },
   {
    "duration": 8,
    "start_time": "2021-12-12T02:28:55.880Z"
   },
   {
    "duration": 40,
    "start_time": "2021-12-12T02:28:55.890Z"
   },
   {
    "duration": 12,
    "start_time": "2021-12-12T02:28:55.933Z"
   },
   {
    "duration": 11,
    "start_time": "2021-12-12T02:28:55.947Z"
   },
   {
    "duration": 5,
    "start_time": "2021-12-12T02:28:55.961Z"
   },
   {
    "duration": 322,
    "start_time": "2021-12-12T02:28:55.969Z"
   },
   {
    "duration": 32,
    "start_time": "2021-12-12T02:28:56.293Z"
   },
   {
    "duration": 6,
    "start_time": "2021-12-12T02:28:56.333Z"
   },
   {
    "duration": 85,
    "start_time": "2021-12-12T02:28:56.342Z"
   },
   {
    "duration": 11,
    "start_time": "2021-12-12T02:28:56.429Z"
   },
   {
    "duration": 57,
    "start_time": "2021-12-12T02:28:56.442Z"
   },
   {
    "duration": 22,
    "start_time": "2021-12-12T02:28:56.501Z"
   },
   {
    "duration": 11,
    "start_time": "2021-12-12T02:28:56.526Z"
   },
   {
    "duration": 90,
    "start_time": "2021-12-12T02:28:56.540Z"
   },
   {
    "duration": 10,
    "start_time": "2021-12-12T02:28:56.632Z"
   },
   {
    "duration": 74,
    "start_time": "2021-12-12T02:28:56.644Z"
   },
   {
    "duration": 11,
    "start_time": "2021-12-12T02:28:56.721Z"
   },
   {
    "duration": 315,
    "start_time": "2021-12-12T02:35:59.842Z"
   },
   {
    "duration": 18,
    "start_time": "2021-12-12T02:36:10.935Z"
   },
   {
    "duration": 16,
    "start_time": "2021-12-12T02:40:26.946Z"
   },
   {
    "duration": 17,
    "start_time": "2021-12-12T02:41:48.680Z"
   },
   {
    "duration": 15,
    "start_time": "2021-12-12T02:47:34.516Z"
   },
   {
    "duration": 14,
    "start_time": "2021-12-12T02:49:03.358Z"
   },
   {
    "duration": 11,
    "start_time": "2021-12-12T02:49:10.398Z"
   },
   {
    "duration": 804,
    "start_time": "2021-12-12T02:49:43.371Z"
   },
   {
    "duration": 21,
    "start_time": "2021-12-12T02:49:44.178Z"
   },
   {
    "duration": 23,
    "start_time": "2021-12-12T02:49:44.202Z"
   },
   {
    "duration": 7,
    "start_time": "2021-12-12T02:49:44.228Z"
   },
   {
    "duration": 10,
    "start_time": "2021-12-12T02:49:44.238Z"
   },
   {
    "duration": 6,
    "start_time": "2021-12-12T02:49:44.250Z"
   },
   {
    "duration": 7,
    "start_time": "2021-12-12T02:49:44.259Z"
   },
   {
    "duration": 57,
    "start_time": "2021-12-12T02:49:44.270Z"
   },
   {
    "duration": 5,
    "start_time": "2021-12-12T02:49:44.330Z"
   },
   {
    "duration": 3,
    "start_time": "2021-12-12T02:49:44.338Z"
   },
   {
    "duration": 40,
    "start_time": "2021-12-12T02:49:44.344Z"
   },
   {
    "duration": 33,
    "start_time": "2021-12-12T02:49:44.386Z"
   },
   {
    "duration": 9,
    "start_time": "2021-12-12T02:49:44.422Z"
   },
   {
    "duration": 9,
    "start_time": "2021-12-12T02:49:44.434Z"
   },
   {
    "duration": 7,
    "start_time": "2021-12-12T02:49:44.446Z"
   },
   {
    "duration": 18,
    "start_time": "2021-12-12T02:49:44.455Z"
   },
   {
    "duration": 58,
    "start_time": "2021-12-12T02:49:44.476Z"
   },
   {
    "duration": 11,
    "start_time": "2021-12-12T02:49:44.537Z"
   },
   {
    "duration": 4,
    "start_time": "2021-12-12T02:49:44.551Z"
   },
   {
    "duration": 387,
    "start_time": "2021-12-12T02:49:44.557Z"
   },
   {
    "duration": 15,
    "start_time": "2021-12-12T02:49:44.947Z"
   },
   {
    "duration": 9,
    "start_time": "2021-12-12T02:49:44.965Z"
   },
   {
    "duration": 39,
    "start_time": "2021-12-12T02:49:44.980Z"
   },
   {
    "duration": 7,
    "start_time": "2021-12-12T02:49:45.023Z"
   },
   {
    "duration": 13,
    "start_time": "2021-12-12T02:49:45.032Z"
   },
   {
    "duration": 9,
    "start_time": "2021-12-12T02:49:45.047Z"
   },
   {
    "duration": 11,
    "start_time": "2021-12-12T02:49:45.058Z"
   },
   {
    "duration": 47,
    "start_time": "2021-12-12T02:49:45.071Z"
   },
   {
    "duration": 24,
    "start_time": "2021-12-12T02:49:45.121Z"
   },
   {
    "duration": 16,
    "start_time": "2021-12-12T02:49:45.147Z"
   },
   {
    "duration": 23,
    "start_time": "2021-12-12T02:49:45.165Z"
   },
   {
    "duration": 14,
    "start_time": "2021-12-12T02:49:45.191Z"
   },
   {
    "duration": 7,
    "start_time": "2021-12-12T02:49:45.216Z"
   },
   {
    "duration": 6,
    "start_time": "2021-12-12T02:49:45.226Z"
   },
   {
    "duration": 6,
    "start_time": "2021-12-12T02:49:45.235Z"
   },
   {
    "duration": 14,
    "start_time": "2021-12-12T02:49:45.244Z"
   },
   {
    "duration": 10,
    "start_time": "2021-12-12T02:49:45.260Z"
   },
   {
    "duration": 56,
    "start_time": "2021-12-12T02:49:45.272Z"
   },
   {
    "duration": 4,
    "start_time": "2021-12-12T02:49:45.330Z"
   },
   {
    "duration": 31,
    "start_time": "2021-12-12T02:49:45.336Z"
   },
   {
    "duration": 5,
    "start_time": "2021-12-12T02:49:45.369Z"
   },
   {
    "duration": 46,
    "start_time": "2021-12-12T02:49:45.377Z"
   },
   {
    "duration": 12,
    "start_time": "2021-12-12T02:49:45.426Z"
   },
   {
    "duration": 29,
    "start_time": "2021-12-12T02:49:45.441Z"
   },
   {
    "duration": 45,
    "start_time": "2021-12-12T02:49:45.472Z"
   },
   {
    "duration": 9,
    "start_time": "2021-12-12T02:49:45.520Z"
   },
   {
    "duration": 7,
    "start_time": "2021-12-12T02:49:45.531Z"
   },
   {
    "duration": 18,
    "start_time": "2021-12-12T02:49:45.541Z"
   },
   {
    "duration": 17,
    "start_time": "2021-12-12T02:49:45.561Z"
   },
   {
    "duration": 41,
    "start_time": "2021-12-12T02:49:45.581Z"
   },
   {
    "duration": 29,
    "start_time": "2021-12-12T02:49:45.625Z"
   },
   {
    "duration": 8,
    "start_time": "2021-12-12T02:49:45.656Z"
   },
   {
    "duration": 64,
    "start_time": "2021-12-12T02:49:45.666Z"
   },
   {
    "duration": 7,
    "start_time": "2021-12-12T02:49:45.732Z"
   },
   {
    "duration": 7,
    "start_time": "2021-12-12T02:49:45.742Z"
   },
   {
    "duration": 971,
    "start_time": "2021-12-12T02:49:45.752Z"
   },
   {
    "duration": 7,
    "start_time": "2021-12-12T02:49:46.726Z"
   },
   {
    "duration": 6,
    "start_time": "2021-12-12T02:49:46.736Z"
   },
   {
    "duration": 21,
    "start_time": "2021-12-12T02:49:46.744Z"
   },
   {
    "duration": 3531,
    "start_time": "2021-12-12T02:49:46.768Z"
   },
   {
    "duration": 20,
    "start_time": "2021-12-12T02:49:50.301Z"
   },
   {
    "duration": 19,
    "start_time": "2021-12-12T02:49:50.324Z"
   },
   {
    "duration": 12,
    "start_time": "2021-12-12T02:49:50.345Z"
   },
   {
    "duration": 12,
    "start_time": "2021-12-12T02:49:50.359Z"
   },
   {
    "duration": 45,
    "start_time": "2021-12-12T02:49:50.373Z"
   },
   {
    "duration": 297,
    "start_time": "2021-12-12T02:49:50.421Z"
   },
   {
    "duration": 21,
    "start_time": "2021-12-12T02:49:50.721Z"
   },
   {
    "duration": 8,
    "start_time": "2021-12-12T02:49:50.749Z"
   },
   {
    "duration": 86,
    "start_time": "2021-12-12T02:49:50.760Z"
   },
   {
    "duration": 11,
    "start_time": "2021-12-12T02:49:50.849Z"
   },
   {
    "duration": 71,
    "start_time": "2021-12-12T02:49:50.863Z"
   },
   {
    "duration": 9,
    "start_time": "2021-12-12T02:49:50.936Z"
   },
   {
    "duration": 20,
    "start_time": "2021-12-12T02:49:50.948Z"
   },
   {
    "duration": 78,
    "start_time": "2021-12-12T02:49:50.970Z"
   },
   {
    "duration": 9,
    "start_time": "2021-12-12T02:49:51.050Z"
   },
   {
    "duration": 74,
    "start_time": "2021-12-12T02:49:51.062Z"
   },
   {
    "duration": 11,
    "start_time": "2021-12-12T02:49:51.138Z"
   },
   {
    "duration": 15,
    "start_time": "2021-12-12T02:55:07.168Z"
   },
   {
    "duration": 5,
    "start_time": "2021-12-12T03:16:46.987Z"
   },
   {
    "duration": 678,
    "start_time": "2021-12-12T03:19:03.570Z"
   },
   {
    "duration": 15,
    "start_time": "2021-12-12T03:20:31.014Z"
   },
   {
    "duration": 578,
    "start_time": "2021-12-12T03:20:35.072Z"
   },
   {
    "duration": 289,
    "start_time": "2021-12-12T03:23:13.253Z"
   },
   {
    "duration": 285,
    "start_time": "2021-12-12T03:24:32.378Z"
   },
   {
    "duration": 6,
    "start_time": "2021-12-12T03:26:35.755Z"
   },
   {
    "duration": 865,
    "start_time": "2021-12-12T03:26:49.529Z"
   },
   {
    "duration": 32,
    "start_time": "2021-12-12T03:26:50.396Z"
   },
   {
    "duration": 10,
    "start_time": "2021-12-12T03:26:50.431Z"
   },
   {
    "duration": 10,
    "start_time": "2021-12-12T03:26:50.443Z"
   },
   {
    "duration": 12,
    "start_time": "2021-12-12T03:26:50.455Z"
   },
   {
    "duration": 10,
    "start_time": "2021-12-12T03:26:50.469Z"
   },
   {
    "duration": 7,
    "start_time": "2021-12-12T03:26:50.518Z"
   },
   {
    "duration": 10,
    "start_time": "2021-12-12T03:26:50.529Z"
   },
   {
    "duration": 5,
    "start_time": "2021-12-12T03:26:50.542Z"
   },
   {
    "duration": 13,
    "start_time": "2021-12-12T03:26:50.549Z"
   },
   {
    "duration": 58,
    "start_time": "2021-12-12T03:26:50.564Z"
   },
   {
    "duration": 7,
    "start_time": "2021-12-12T03:26:50.624Z"
   },
   {
    "duration": 11,
    "start_time": "2021-12-12T03:26:50.633Z"
   },
   {
    "duration": 9,
    "start_time": "2021-12-12T03:26:50.646Z"
   },
   {
    "duration": 8,
    "start_time": "2021-12-12T03:26:50.657Z"
   },
   {
    "duration": 51,
    "start_time": "2021-12-12T03:26:50.668Z"
   },
   {
    "duration": 21,
    "start_time": "2021-12-12T03:26:50.721Z"
   },
   {
    "duration": 17,
    "start_time": "2021-12-12T03:26:50.745Z"
   },
   {
    "duration": 5,
    "start_time": "2021-12-12T03:26:50.764Z"
   },
   {
    "duration": 325,
    "start_time": "2021-12-12T03:26:50.772Z"
   },
   {
    "duration": 19,
    "start_time": "2021-12-12T03:26:51.099Z"
   },
   {
    "duration": 8,
    "start_time": "2021-12-12T03:26:51.121Z"
   },
   {
    "duration": 12,
    "start_time": "2021-12-12T03:26:51.135Z"
   },
   {
    "duration": 7,
    "start_time": "2021-12-12T03:26:51.150Z"
   },
   {
    "duration": 10,
    "start_time": "2021-12-12T03:26:51.159Z"
   },
   {
    "duration": 47,
    "start_time": "2021-12-12T03:26:51.171Z"
   },
   {
    "duration": 9,
    "start_time": "2021-12-12T03:26:51.221Z"
   },
   {
    "duration": 5,
    "start_time": "2021-12-12T03:26:51.232Z"
   },
   {
    "duration": 10,
    "start_time": "2021-12-12T03:26:51.239Z"
   },
   {
    "duration": 8,
    "start_time": "2021-12-12T03:26:51.251Z"
   },
   {
    "duration": 60,
    "start_time": "2021-12-12T03:26:51.261Z"
   },
   {
    "duration": 12,
    "start_time": "2021-12-12T03:26:51.323Z"
   },
   {
    "duration": 6,
    "start_time": "2021-12-12T03:26:51.337Z"
   },
   {
    "duration": 7,
    "start_time": "2021-12-12T03:26:51.345Z"
   },
   {
    "duration": 5,
    "start_time": "2021-12-12T03:26:51.355Z"
   },
   {
    "duration": 56,
    "start_time": "2021-12-12T03:26:51.362Z"
   },
   {
    "duration": 11,
    "start_time": "2021-12-12T03:26:51.421Z"
   },
   {
    "duration": 14,
    "start_time": "2021-12-12T03:26:51.434Z"
   },
   {
    "duration": 4,
    "start_time": "2021-12-12T03:26:51.450Z"
   },
   {
    "duration": 684,
    "start_time": "2021-12-12T03:26:51.456Z"
   },
   {
    "duration": -1530,
    "start_time": "2021-12-12T03:26:53.673Z"
   },
   {
    "duration": -1547,
    "start_time": "2021-12-12T03:26:53.691Z"
   },
   {
    "duration": -1560,
    "start_time": "2021-12-12T03:26:53.706Z"
   },
   {
    "duration": -1571,
    "start_time": "2021-12-12T03:26:53.718Z"
   },
   {
    "duration": -1583,
    "start_time": "2021-12-12T03:26:53.732Z"
   },
   {
    "duration": -1598,
    "start_time": "2021-12-12T03:26:53.748Z"
   },
   {
    "duration": -1707,
    "start_time": "2021-12-12T03:26:53.859Z"
   },
   {
    "duration": -1720,
    "start_time": "2021-12-12T03:26:53.873Z"
   },
   {
    "duration": -1773,
    "start_time": "2021-12-12T03:26:53.929Z"
   },
   {
    "duration": -1835,
    "start_time": "2021-12-12T03:26:53.993Z"
   },
   {
    "duration": -1848,
    "start_time": "2021-12-12T03:26:54.007Z"
   },
   {
    "duration": -1858,
    "start_time": "2021-12-12T03:26:54.019Z"
   },
   {
    "duration": -1872,
    "start_time": "2021-12-12T03:26:54.034Z"
   },
   {
    "duration": -1885,
    "start_time": "2021-12-12T03:26:54.048Z"
   },
   {
    "duration": -1899,
    "start_time": "2021-12-12T03:26:54.064Z"
   },
   {
    "duration": -1909,
    "start_time": "2021-12-12T03:26:54.075Z"
   },
   {
    "duration": -1936,
    "start_time": "2021-12-12T03:26:54.104Z"
   },
   {
    "duration": -1945,
    "start_time": "2021-12-12T03:26:54.114Z"
   },
   {
    "duration": -1954,
    "start_time": "2021-12-12T03:26:54.124Z"
   },
   {
    "duration": -1961,
    "start_time": "2021-12-12T03:26:54.133Z"
   },
   {
    "duration": -1969,
    "start_time": "2021-12-12T03:26:54.142Z"
   },
   {
    "duration": -1976,
    "start_time": "2021-12-12T03:26:54.150Z"
   },
   {
    "duration": -1984,
    "start_time": "2021-12-12T03:26:54.160Z"
   },
   {
    "duration": -1990,
    "start_time": "2021-12-12T03:26:54.168Z"
   },
   {
    "duration": -1999,
    "start_time": "2021-12-12T03:26:54.178Z"
   },
   {
    "duration": -2006,
    "start_time": "2021-12-12T03:26:54.186Z"
   },
   {
    "duration": -1982,
    "start_time": "2021-12-12T03:26:54.199Z"
   },
   {
    "duration": -2002,
    "start_time": "2021-12-12T03:26:54.220Z"
   },
   {
    "duration": -2010,
    "start_time": "2021-12-12T03:26:54.230Z"
   },
   {
    "duration": -2017,
    "start_time": "2021-12-12T03:26:54.238Z"
   },
   {
    "duration": -2026,
    "start_time": "2021-12-12T03:26:54.248Z"
   },
   {
    "duration": -2031,
    "start_time": "2021-12-12T03:26:54.255Z"
   },
   {
    "duration": -2041,
    "start_time": "2021-12-12T03:26:54.266Z"
   },
   {
    "duration": -2048,
    "start_time": "2021-12-12T03:26:54.274Z"
   },
   {
    "duration": -2055,
    "start_time": "2021-12-12T03:26:54.283Z"
   },
   {
    "duration": -2063,
    "start_time": "2021-12-12T03:26:54.292Z"
   },
   {
    "duration": -2072,
    "start_time": "2021-12-12T03:26:54.302Z"
   },
   {
    "duration": -2078,
    "start_time": "2021-12-12T03:26:54.310Z"
   },
   {
    "duration": 103,
    "start_time": "2021-12-12T03:27:06.617Z"
   },
   {
    "duration": 19,
    "start_time": "2021-12-12T03:27:06.722Z"
   },
   {
    "duration": 6,
    "start_time": "2021-12-12T03:27:06.744Z"
   },
   {
    "duration": 19,
    "start_time": "2021-12-12T03:27:06.753Z"
   },
   {
    "duration": 49,
    "start_time": "2021-12-12T03:27:06.774Z"
   },
   {
    "duration": 12,
    "start_time": "2021-12-12T03:27:06.825Z"
   },
   {
    "duration": 19,
    "start_time": "2021-12-12T03:27:06.839Z"
   },
   {
    "duration": 14,
    "start_time": "2021-12-12T03:27:06.861Z"
   },
   {
    "duration": 12,
    "start_time": "2021-12-12T03:27:06.878Z"
   },
   {
    "duration": 26,
    "start_time": "2021-12-12T03:27:06.892Z"
   },
   {
    "duration": 44,
    "start_time": "2021-12-12T03:27:06.921Z"
   },
   {
    "duration": 6,
    "start_time": "2021-12-12T03:27:06.967Z"
   },
   {
    "duration": 14,
    "start_time": "2021-12-12T03:27:06.975Z"
   },
   {
    "duration": 6,
    "start_time": "2021-12-12T03:27:07.016Z"
   },
   {
    "duration": 36,
    "start_time": "2021-12-12T03:27:07.024Z"
   },
   {
    "duration": 23,
    "start_time": "2021-12-12T03:27:07.062Z"
   },
   {
    "duration": 25,
    "start_time": "2021-12-12T03:27:07.087Z"
   },
   {
    "duration": 16,
    "start_time": "2021-12-12T03:27:07.118Z"
   },
   {
    "duration": 19,
    "start_time": "2021-12-12T03:27:07.136Z"
   },
   {
    "duration": 315,
    "start_time": "2021-12-12T03:27:07.158Z"
   },
   {
    "duration": 11,
    "start_time": "2021-12-12T03:27:07.475Z"
   },
   {
    "duration": 28,
    "start_time": "2021-12-12T03:27:07.489Z"
   },
   {
    "duration": 12,
    "start_time": "2021-12-12T03:27:07.523Z"
   },
   {
    "duration": 6,
    "start_time": "2021-12-12T03:27:07.539Z"
   },
   {
    "duration": 12,
    "start_time": "2021-12-12T03:27:07.547Z"
   },
   {
    "duration": 9,
    "start_time": "2021-12-12T03:27:07.561Z"
   },
   {
    "duration": 46,
    "start_time": "2021-12-12T03:27:07.572Z"
   },
   {
    "duration": 5,
    "start_time": "2021-12-12T03:27:07.621Z"
   },
   {
    "duration": 8,
    "start_time": "2021-12-12T03:27:07.628Z"
   },
   {
    "duration": 8,
    "start_time": "2021-12-12T03:27:07.638Z"
   },
   {
    "duration": 30,
    "start_time": "2021-12-12T03:27:07.648Z"
   },
   {
    "duration": 44,
    "start_time": "2021-12-12T03:27:07.681Z"
   },
   {
    "duration": 8,
    "start_time": "2021-12-12T03:27:07.727Z"
   },
   {
    "duration": 6,
    "start_time": "2021-12-12T03:27:07.737Z"
   },
   {
    "duration": 6,
    "start_time": "2021-12-12T03:27:07.746Z"
   },
   {
    "duration": 17,
    "start_time": "2021-12-12T03:27:07.754Z"
   },
   {
    "duration": 11,
    "start_time": "2021-12-12T03:27:07.817Z"
   },
   {
    "duration": 15,
    "start_time": "2021-12-12T03:27:07.831Z"
   },
   {
    "duration": 3,
    "start_time": "2021-12-12T03:27:07.849Z"
   },
   {
    "duration": 983,
    "start_time": "2021-12-12T03:27:07.854Z"
   },
   {
    "duration": -3191,
    "start_time": "2021-12-12T03:27:12.031Z"
   },
   {
    "duration": -3198,
    "start_time": "2021-12-12T03:27:12.039Z"
   },
   {
    "duration": -3206,
    "start_time": "2021-12-12T03:27:12.048Z"
   },
   {
    "duration": -3211,
    "start_time": "2021-12-12T03:27:12.055Z"
   },
   {
    "duration": -3219,
    "start_time": "2021-12-12T03:27:12.064Z"
   },
   {
    "duration": -3224,
    "start_time": "2021-12-12T03:27:12.070Z"
   },
   {
    "duration": -3232,
    "start_time": "2021-12-12T03:27:12.079Z"
   },
   {
    "duration": -3237,
    "start_time": "2021-12-12T03:27:12.086Z"
   },
   {
    "duration": -3245,
    "start_time": "2021-12-12T03:27:12.095Z"
   },
   {
    "duration": -3251,
    "start_time": "2021-12-12T03:27:12.102Z"
   },
   {
    "duration": -3258,
    "start_time": "2021-12-12T03:27:12.111Z"
   },
   {
    "duration": -3264,
    "start_time": "2021-12-12T03:27:12.118Z"
   },
   {
    "duration": -3307,
    "start_time": "2021-12-12T03:27:12.162Z"
   },
   {
    "duration": -3325,
    "start_time": "2021-12-12T03:27:12.181Z"
   },
   {
    "duration": -3333,
    "start_time": "2021-12-12T03:27:12.191Z"
   },
   {
    "duration": -3342,
    "start_time": "2021-12-12T03:27:12.201Z"
   },
   {
    "duration": -3349,
    "start_time": "2021-12-12T03:27:12.209Z"
   },
   {
    "duration": -3354,
    "start_time": "2021-12-12T03:27:12.216Z"
   },
   {
    "duration": -3362,
    "start_time": "2021-12-12T03:27:12.225Z"
   },
   {
    "duration": -3369,
    "start_time": "2021-12-12T03:27:12.233Z"
   },
   {
    "duration": -3376,
    "start_time": "2021-12-12T03:27:12.241Z"
   },
   {
    "duration": -3382,
    "start_time": "2021-12-12T03:27:12.249Z"
   },
   {
    "duration": -3407,
    "start_time": "2021-12-12T03:27:12.275Z"
   },
   {
    "duration": -3417,
    "start_time": "2021-12-12T03:27:12.287Z"
   },
   {
    "duration": -3427,
    "start_time": "2021-12-12T03:27:12.298Z"
   },
   {
    "duration": -3433,
    "start_time": "2021-12-12T03:27:12.306Z"
   },
   {
    "duration": -3448,
    "start_time": "2021-12-12T03:27:12.322Z"
   },
   {
    "duration": -3455,
    "start_time": "2021-12-12T03:27:12.331Z"
   },
   {
    "duration": -3423,
    "start_time": "2021-12-12T03:27:12.340Z"
   },
   {
    "duration": -3433,
    "start_time": "2021-12-12T03:27:12.351Z"
   },
   {
    "duration": -3442,
    "start_time": "2021-12-12T03:27:12.362Z"
   },
   {
    "duration": -3451,
    "start_time": "2021-12-12T03:27:12.372Z"
   },
   {
    "duration": -3477,
    "start_time": "2021-12-12T03:27:12.400Z"
   },
   {
    "duration": -3484,
    "start_time": "2021-12-12T03:27:12.408Z"
   },
   {
    "duration": -3494,
    "start_time": "2021-12-12T03:27:12.420Z"
   },
   {
    "duration": -3502,
    "start_time": "2021-12-12T03:27:12.429Z"
   },
   {
    "duration": -3511,
    "start_time": "2021-12-12T03:27:12.439Z"
   },
   {
    "duration": -3520,
    "start_time": "2021-12-12T03:27:12.450Z"
   },
   {
    "duration": 5,
    "start_time": "2021-12-12T03:29:15.899Z"
   },
   {
    "duration": 6,
    "start_time": "2021-12-12T03:29:29.322Z"
   },
   {
    "duration": 6,
    "start_time": "2021-12-12T03:29:47.237Z"
   },
   {
    "duration": 314,
    "start_time": "2021-12-12T03:29:58.572Z"
   },
   {
    "duration": 308,
    "start_time": "2021-12-12T03:30:09.072Z"
   },
   {
    "duration": 6,
    "start_time": "2021-12-12T03:30:23.911Z"
   },
   {
    "duration": 5,
    "start_time": "2021-12-12T03:30:38.616Z"
   },
   {
    "duration": 17,
    "start_time": "2021-12-12T03:31:18.795Z"
   },
   {
    "duration": 6,
    "start_time": "2021-12-12T03:32:34.106Z"
   },
   {
    "duration": 6,
    "start_time": "2021-12-12T03:32:41.991Z"
   },
   {
    "duration": 592,
    "start_time": "2021-12-12T03:34:23.987Z"
   },
   {
    "duration": 17,
    "start_time": "2021-12-12T03:34:59.911Z"
   },
   {
    "duration": 318,
    "start_time": "2021-12-12T03:38:07.620Z"
   },
   {
    "duration": 9,
    "start_time": "2021-12-12T03:39:21.957Z"
   },
   {
    "duration": 6,
    "start_time": "2021-12-12T03:40:07.499Z"
   },
   {
    "duration": 5,
    "start_time": "2021-12-12T03:42:16.871Z"
   },
   {
    "duration": 5,
    "start_time": "2021-12-12T03:42:42.719Z"
   },
   {
    "duration": 253,
    "start_time": "2021-12-12T08:13:08.326Z"
   },
   {
    "duration": 31,
    "start_time": "2021-12-12T08:13:15.745Z"
   },
   {
    "duration": 7,
    "start_time": "2021-12-12T08:20:05.374Z"
   },
   {
    "duration": 6,
    "start_time": "2021-12-12T08:20:22.380Z"
   },
   {
    "duration": 6,
    "start_time": "2021-12-12T08:20:29.021Z"
   },
   {
    "duration": 777,
    "start_time": "2021-12-12T08:21:12.371Z"
   },
   {
    "duration": 22,
    "start_time": "2021-12-12T08:21:13.150Z"
   },
   {
    "duration": 10,
    "start_time": "2021-12-12T08:21:13.175Z"
   },
   {
    "duration": 35,
    "start_time": "2021-12-12T08:21:13.188Z"
   },
   {
    "duration": 16,
    "start_time": "2021-12-12T08:21:13.226Z"
   },
   {
    "duration": 7,
    "start_time": "2021-12-12T08:21:13.244Z"
   },
   {
    "duration": 10,
    "start_time": "2021-12-12T08:21:13.254Z"
   },
   {
    "duration": 53,
    "start_time": "2021-12-12T08:21:13.268Z"
   },
   {
    "duration": 6,
    "start_time": "2021-12-12T08:21:13.325Z"
   },
   {
    "duration": 5,
    "start_time": "2021-12-12T08:21:13.334Z"
   },
   {
    "duration": 32,
    "start_time": "2021-12-12T08:21:13.342Z"
   },
   {
    "duration": 47,
    "start_time": "2021-12-12T08:21:13.376Z"
   },
   {
    "duration": 11,
    "start_time": "2021-12-12T08:21:13.426Z"
   },
   {
    "duration": 8,
    "start_time": "2021-12-12T08:21:13.440Z"
   },
   {
    "duration": 8,
    "start_time": "2021-12-12T08:21:13.451Z"
   },
   {
    "duration": 67,
    "start_time": "2021-12-12T08:21:13.462Z"
   },
   {
    "duration": 23,
    "start_time": "2021-12-12T08:21:13.531Z"
   },
   {
    "duration": 10,
    "start_time": "2021-12-12T08:21:13.556Z"
   },
   {
    "duration": 4,
    "start_time": "2021-12-12T08:21:13.569Z"
   },
   {
    "duration": 345,
    "start_time": "2021-12-12T08:21:13.575Z"
   },
   {
    "duration": 11,
    "start_time": "2021-12-12T08:21:13.922Z"
   },
   {
    "duration": 10,
    "start_time": "2021-12-12T08:21:13.936Z"
   },
   {
    "duration": 11,
    "start_time": "2021-12-12T08:21:13.952Z"
   },
   {
    "duration": 7,
    "start_time": "2021-12-12T08:21:13.967Z"
   },
   {
    "duration": 48,
    "start_time": "2021-12-12T08:21:13.976Z"
   },
   {
    "duration": 8,
    "start_time": "2021-12-12T08:21:14.027Z"
   },
   {
    "duration": 10,
    "start_time": "2021-12-12T08:21:14.038Z"
   },
   {
    "duration": 7,
    "start_time": "2021-12-12T08:21:14.051Z"
   },
   {
    "duration": 62,
    "start_time": "2021-12-12T08:21:14.061Z"
   },
   {
    "duration": 11,
    "start_time": "2021-12-12T08:21:14.126Z"
   },
   {
    "duration": 19,
    "start_time": "2021-12-12T08:21:14.139Z"
   },
   {
    "duration": 58,
    "start_time": "2021-12-12T08:21:14.161Z"
   },
   {
    "duration": 10,
    "start_time": "2021-12-12T08:21:14.222Z"
   },
   {
    "duration": 6,
    "start_time": "2021-12-12T08:21:14.234Z"
   },
   {
    "duration": 6,
    "start_time": "2021-12-12T08:21:14.243Z"
   },
   {
    "duration": 15,
    "start_time": "2021-12-12T08:21:14.252Z"
   },
   {
    "duration": 51,
    "start_time": "2021-12-12T08:21:14.269Z"
   },
   {
    "duration": 7,
    "start_time": "2021-12-12T08:21:14.323Z"
   },
   {
    "duration": 6,
    "start_time": "2021-12-12T08:21:14.333Z"
   },
   {
    "duration": 20,
    "start_time": "2021-12-12T08:21:14.341Z"
   },
   {
    "duration": 3,
    "start_time": "2021-12-12T08:21:14.363Z"
   },
   {
    "duration": 300,
    "start_time": "2021-12-12T08:21:14.369Z"
   },
   {
    "duration": 7,
    "start_time": "2021-12-12T08:21:14.671Z"
   },
   {
    "duration": 14,
    "start_time": "2021-12-12T08:21:14.680Z"
   },
   {
    "duration": 29,
    "start_time": "2021-12-12T08:21:14.697Z"
   },
   {
    "duration": 29,
    "start_time": "2021-12-12T08:21:14.729Z"
   },
   {
    "duration": 19,
    "start_time": "2021-12-12T08:21:14.760Z"
   },
   {
    "duration": 41,
    "start_time": "2021-12-12T08:21:14.782Z"
   },
   {
    "duration": 10,
    "start_time": "2021-12-12T08:21:14.826Z"
   },
   {
    "duration": 24,
    "start_time": "2021-12-12T08:21:14.839Z"
   },
   {
    "duration": 1066,
    "start_time": "2021-12-12T08:21:14.866Z"
   },
   {
    "duration": -955,
    "start_time": "2021-12-12T08:21:16.892Z"
   },
   {
    "duration": -963,
    "start_time": "2021-12-12T08:21:16.902Z"
   },
   {
    "duration": -1015,
    "start_time": "2021-12-12T08:21:16.956Z"
   },
   {
    "duration": -1025,
    "start_time": "2021-12-12T08:21:16.968Z"
   },
   {
    "duration": -1033,
    "start_time": "2021-12-12T08:21:16.978Z"
   },
   {
    "duration": -1042,
    "start_time": "2021-12-12T08:21:16.989Z"
   },
   {
    "duration": -1049,
    "start_time": "2021-12-12T08:21:16.998Z"
   },
   {
    "duration": -1059,
    "start_time": "2021-12-12T08:21:17.009Z"
   },
   {
    "duration": -1066,
    "start_time": "2021-12-12T08:21:17.018Z"
   },
   {
    "duration": -1076,
    "start_time": "2021-12-12T08:21:17.030Z"
   },
   {
    "duration": -1085,
    "start_time": "2021-12-12T08:21:17.041Z"
   },
   {
    "duration": -1109,
    "start_time": "2021-12-12T08:21:17.067Z"
   },
   {
    "duration": -1118,
    "start_time": "2021-12-12T08:21:17.078Z"
   },
   {
    "duration": -1220,
    "start_time": "2021-12-12T08:21:17.182Z"
   },
   {
    "duration": -1230,
    "start_time": "2021-12-12T08:21:17.194Z"
   },
   {
    "duration": -1319,
    "start_time": "2021-12-12T08:21:17.285Z"
   },
   {
    "duration": -1328,
    "start_time": "2021-12-12T08:21:17.296Z"
   },
   {
    "duration": -1293,
    "start_time": "2021-12-12T08:21:17.309Z"
   },
   {
    "duration": -1303,
    "start_time": "2021-12-12T08:21:17.322Z"
   },
   {
    "duration": -1311,
    "start_time": "2021-12-12T08:21:17.332Z"
   },
   {
    "duration": -1319,
    "start_time": "2021-12-12T08:21:17.342Z"
   },
   {
    "duration": -1327,
    "start_time": "2021-12-12T08:21:17.352Z"
   },
   {
    "duration": -1338,
    "start_time": "2021-12-12T08:21:17.365Z"
   },
   {
    "duration": -1348,
    "start_time": "2021-12-12T08:21:17.377Z"
   },
   {
    "duration": -1367,
    "start_time": "2021-12-12T08:21:17.399Z"
   },
   {
    "duration": -1377,
    "start_time": "2021-12-12T08:21:17.411Z"
   },
   {
    "duration": -1386,
    "start_time": "2021-12-12T08:21:17.422Z"
   },
   {
    "duration": -1396,
    "start_time": "2021-12-12T08:21:17.434Z"
   },
   {
    "duration": 698,
    "start_time": "2021-12-12T08:22:28.617Z"
   },
   {
    "duration": 266,
    "start_time": "2021-12-12T08:22:34.978Z"
   },
   {
    "duration": 6,
    "start_time": "2021-12-12T08:22:38.769Z"
   },
   {
    "duration": 17,
    "start_time": "2021-12-12T08:22:55.711Z"
   },
   {
    "duration": 9,
    "start_time": "2021-12-12T08:23:02.061Z"
   },
   {
    "duration": 1081,
    "start_time": "2021-12-12T08:23:10.800Z"
   },
   {
    "duration": 46,
    "start_time": "2021-12-12T08:23:11.884Z"
   },
   {
    "duration": 13,
    "start_time": "2021-12-12T08:23:11.934Z"
   },
   {
    "duration": 11,
    "start_time": "2021-12-12T08:23:11.951Z"
   },
   {
    "duration": 20,
    "start_time": "2021-12-12T08:23:11.965Z"
   },
   {
    "duration": 36,
    "start_time": "2021-12-12T08:23:11.988Z"
   },
   {
    "duration": 16,
    "start_time": "2021-12-12T08:23:12.027Z"
   },
   {
    "duration": 15,
    "start_time": "2021-12-12T08:23:12.048Z"
   },
   {
    "duration": 7,
    "start_time": "2021-12-12T08:23:12.067Z"
   },
   {
    "duration": 40,
    "start_time": "2021-12-12T08:23:12.077Z"
   },
   {
    "duration": 60,
    "start_time": "2021-12-12T08:23:12.120Z"
   },
   {
    "duration": 7,
    "start_time": "2021-12-12T08:23:12.183Z"
   },
   {
    "duration": 25,
    "start_time": "2021-12-12T08:23:12.193Z"
   },
   {
    "duration": 7,
    "start_time": "2021-12-12T08:23:12.220Z"
   },
   {
    "duration": 7,
    "start_time": "2021-12-12T08:23:12.229Z"
   },
   {
    "duration": 21,
    "start_time": "2021-12-12T08:23:12.238Z"
   },
   {
    "duration": 58,
    "start_time": "2021-12-12T08:23:12.261Z"
   },
   {
    "duration": 11,
    "start_time": "2021-12-12T08:23:12.322Z"
   },
   {
    "duration": 4,
    "start_time": "2021-12-12T08:23:12.336Z"
   },
   {
    "duration": 528,
    "start_time": "2021-12-12T08:23:12.343Z"
   },
   {
    "duration": 14,
    "start_time": "2021-12-12T08:23:12.874Z"
   },
   {
    "duration": 31,
    "start_time": "2021-12-12T08:23:12.891Z"
   },
   {
    "duration": 11,
    "start_time": "2021-12-12T08:23:12.928Z"
   },
   {
    "duration": 7,
    "start_time": "2021-12-12T08:23:12.942Z"
   },
   {
    "duration": 7,
    "start_time": "2021-12-12T08:23:12.952Z"
   },
   {
    "duration": 8,
    "start_time": "2021-12-12T08:23:12.962Z"
   },
   {
    "duration": 46,
    "start_time": "2021-12-12T08:23:12.972Z"
   },
   {
    "duration": 6,
    "start_time": "2021-12-12T08:23:13.021Z"
   },
   {
    "duration": 8,
    "start_time": "2021-12-12T08:23:13.030Z"
   },
   {
    "duration": 9,
    "start_time": "2021-12-12T08:23:13.040Z"
   },
   {
    "duration": 67,
    "start_time": "2021-12-12T08:23:13.052Z"
   },
   {
    "duration": 13,
    "start_time": "2021-12-12T08:23:13.121Z"
   },
   {
    "duration": 10,
    "start_time": "2021-12-12T08:23:13.136Z"
   },
   {
    "duration": 6,
    "start_time": "2021-12-12T08:23:13.149Z"
   },
   {
    "duration": 8,
    "start_time": "2021-12-12T08:23:13.158Z"
   },
   {
    "duration": 60,
    "start_time": "2021-12-12T08:23:13.169Z"
   },
   {
    "duration": 12,
    "start_time": "2021-12-12T08:23:13.232Z"
   },
   {
    "duration": 7,
    "start_time": "2021-12-12T08:23:13.247Z"
   },
   {
    "duration": 9,
    "start_time": "2021-12-12T08:23:13.256Z"
   },
   {
    "duration": 17,
    "start_time": "2021-12-12T08:23:13.316Z"
   },
   {
    "duration": 4,
    "start_time": "2021-12-12T08:23:13.335Z"
   },
   {
    "duration": 291,
    "start_time": "2021-12-12T08:23:13.341Z"
   },
   {
    "duration": 6,
    "start_time": "2021-12-12T08:23:13.634Z"
   },
   {
    "duration": 12,
    "start_time": "2021-12-12T08:23:13.643Z"
   },
   {
    "duration": 15,
    "start_time": "2021-12-12T08:23:13.658Z"
   },
   {
    "duration": 61,
    "start_time": "2021-12-12T08:23:13.676Z"
   },
   {
    "duration": 15,
    "start_time": "2021-12-12T08:23:13.739Z"
   },
   {
    "duration": 10,
    "start_time": "2021-12-12T08:23:13.756Z"
   },
   {
    "duration": 8,
    "start_time": "2021-12-12T08:23:13.768Z"
   },
   {
    "duration": 51,
    "start_time": "2021-12-12T08:23:13.778Z"
   },
   {
    "duration": 500,
    "start_time": "2021-12-12T08:23:13.832Z"
   },
   {
    "duration": -1075,
    "start_time": "2021-12-12T08:23:15.412Z"
   },
   {
    "duration": -1111,
    "start_time": "2021-12-12T08:23:15.450Z"
   },
   {
    "duration": -1121,
    "start_time": "2021-12-12T08:23:15.462Z"
   },
   {
    "duration": -1128,
    "start_time": "2021-12-12T08:23:15.471Z"
   },
   {
    "duration": -1134,
    "start_time": "2021-12-12T08:23:15.479Z"
   },
   {
    "duration": -1142,
    "start_time": "2021-12-12T08:23:15.489Z"
   },
   {
    "duration": -1150,
    "start_time": "2021-12-12T08:23:15.498Z"
   },
   {
    "duration": -1159,
    "start_time": "2021-12-12T08:23:15.509Z"
   },
   {
    "duration": -1166,
    "start_time": "2021-12-12T08:23:15.517Z"
   },
   {
    "duration": -1173,
    "start_time": "2021-12-12T08:23:15.527Z"
   },
   {
    "duration": -1184,
    "start_time": "2021-12-12T08:23:15.540Z"
   },
   {
    "duration": -1205,
    "start_time": "2021-12-12T08:23:15.563Z"
   },
   {
    "duration": -1388,
    "start_time": "2021-12-12T08:23:15.748Z"
   },
   {
    "duration": -1398,
    "start_time": "2021-12-12T08:23:15.759Z"
   },
   {
    "duration": -1404,
    "start_time": "2021-12-12T08:23:15.767Z"
   },
   {
    "duration": -1415,
    "start_time": "2021-12-12T08:23:15.779Z"
   },
   {
    "duration": -1423,
    "start_time": "2021-12-12T08:23:15.789Z"
   },
   {
    "duration": -1456,
    "start_time": "2021-12-12T08:23:15.824Z"
   },
   {
    "duration": -1465,
    "start_time": "2021-12-12T08:23:15.835Z"
   },
   {
    "duration": -1474,
    "start_time": "2021-12-12T08:23:15.846Z"
   },
   {
    "duration": -1482,
    "start_time": "2021-12-12T08:23:15.855Z"
   },
   {
    "duration": -1491,
    "start_time": "2021-12-12T08:23:15.865Z"
   },
   {
    "duration": -1500,
    "start_time": "2021-12-12T08:23:15.875Z"
   },
   {
    "duration": -1469,
    "start_time": "2021-12-12T08:23:15.885Z"
   },
   {
    "duration": -1477,
    "start_time": "2021-12-12T08:23:15.895Z"
   },
   {
    "duration": -1484,
    "start_time": "2021-12-12T08:23:15.905Z"
   },
   {
    "duration": -1492,
    "start_time": "2021-12-12T08:23:15.914Z"
   },
   {
    "duration": -1510,
    "start_time": "2021-12-12T08:23:15.935Z"
   },
   {
    "duration": 908,
    "start_time": "2021-12-12T08:25:43.004Z"
   },
   {
    "duration": 22,
    "start_time": "2021-12-12T08:25:43.918Z"
   },
   {
    "duration": 11,
    "start_time": "2021-12-12T08:25:43.943Z"
   },
   {
    "duration": 11,
    "start_time": "2021-12-12T08:25:43.956Z"
   },
   {
    "duration": 49,
    "start_time": "2021-12-12T08:25:43.970Z"
   },
   {
    "duration": 13,
    "start_time": "2021-12-12T08:25:44.022Z"
   },
   {
    "duration": 17,
    "start_time": "2021-12-12T08:25:44.038Z"
   },
   {
    "duration": 13,
    "start_time": "2021-12-12T08:25:44.059Z"
   },
   {
    "duration": 5,
    "start_time": "2021-12-12T08:25:44.075Z"
   },
   {
    "duration": 35,
    "start_time": "2021-12-12T08:25:44.083Z"
   },
   {
    "duration": 31,
    "start_time": "2021-12-12T08:25:44.121Z"
   },
   {
    "duration": 7,
    "start_time": "2021-12-12T08:25:44.155Z"
   },
   {
    "duration": 9,
    "start_time": "2021-12-12T08:25:44.165Z"
   },
   {
    "duration": 6,
    "start_time": "2021-12-12T08:25:44.218Z"
   },
   {
    "duration": 9,
    "start_time": "2021-12-12T08:25:44.227Z"
   },
   {
    "duration": 17,
    "start_time": "2021-12-12T08:25:44.239Z"
   },
   {
    "duration": 65,
    "start_time": "2021-12-12T08:25:44.259Z"
   },
   {
    "duration": 11,
    "start_time": "2021-12-12T08:25:44.327Z"
   },
   {
    "duration": 6,
    "start_time": "2021-12-12T08:25:44.341Z"
   },
   {
    "duration": 438,
    "start_time": "2021-12-12T08:25:44.349Z"
   },
   {
    "duration": 27,
    "start_time": "2021-12-12T08:25:44.790Z"
   },
   {
    "duration": 11,
    "start_time": "2021-12-12T08:25:44.820Z"
   },
   {
    "duration": 16,
    "start_time": "2021-12-12T08:25:44.837Z"
   },
   {
    "duration": 8,
    "start_time": "2021-12-12T08:25:44.858Z"
   },
   {
    "duration": 51,
    "start_time": "2021-12-12T08:25:44.869Z"
   },
   {
    "duration": 11,
    "start_time": "2021-12-12T08:25:44.923Z"
   },
   {
    "duration": 12,
    "start_time": "2021-12-12T08:25:44.937Z"
   },
   {
    "duration": 7,
    "start_time": "2021-12-12T08:25:44.952Z"
   },
   {
    "duration": 55,
    "start_time": "2021-12-12T08:25:44.962Z"
   },
   {
    "duration": 26,
    "start_time": "2021-12-12T08:25:45.020Z"
   },
   {
    "duration": 62,
    "start_time": "2021-12-12T08:25:45.048Z"
   },
   {
    "duration": 38,
    "start_time": "2021-12-12T08:25:45.113Z"
   },
   {
    "duration": 24,
    "start_time": "2021-12-12T08:25:45.153Z"
   },
   {
    "duration": 39,
    "start_time": "2021-12-12T08:25:45.180Z"
   },
   {
    "duration": 64,
    "start_time": "2021-12-12T08:25:45.222Z"
   },
   {
    "duration": 26,
    "start_time": "2021-12-12T08:25:45.289Z"
   },
   {
    "duration": 11,
    "start_time": "2021-12-12T08:25:45.317Z"
   },
   {
    "duration": 8,
    "start_time": "2021-12-12T08:25:45.331Z"
   },
   {
    "duration": 11,
    "start_time": "2021-12-12T08:25:45.342Z"
   },
   {
    "duration": 23,
    "start_time": "2021-12-12T08:25:45.356Z"
   },
   {
    "duration": 35,
    "start_time": "2021-12-12T08:25:45.383Z"
   },
   {
    "duration": 289,
    "start_time": "2021-12-12T08:25:45.422Z"
   },
   {
    "duration": 8,
    "start_time": "2021-12-12T08:25:45.714Z"
   },
   {
    "duration": 11,
    "start_time": "2021-12-12T08:25:45.725Z"
   },
   {
    "duration": 11,
    "start_time": "2021-12-12T08:25:45.740Z"
   },
   {
    "duration": 68,
    "start_time": "2021-12-12T08:25:45.754Z"
   },
   {
    "duration": 20,
    "start_time": "2021-12-12T08:25:45.825Z"
   },
   {
    "duration": 11,
    "start_time": "2021-12-12T08:25:45.848Z"
   },
   {
    "duration": 8,
    "start_time": "2021-12-12T08:25:45.862Z"
   },
   {
    "duration": 60,
    "start_time": "2021-12-12T08:25:45.872Z"
   },
   {
    "duration": 479,
    "start_time": "2021-12-12T08:25:45.935Z"
   },
   {
    "duration": -921,
    "start_time": "2021-12-12T08:25:47.339Z"
   },
   {
    "duration": -933,
    "start_time": "2021-12-12T08:25:47.353Z"
   },
   {
    "duration": -949,
    "start_time": "2021-12-12T08:25:47.370Z"
   },
   {
    "duration": -958,
    "start_time": "2021-12-12T08:25:47.381Z"
   },
   {
    "duration": -972,
    "start_time": "2021-12-12T08:25:47.396Z"
   },
   {
    "duration": -982,
    "start_time": "2021-12-12T08:25:47.408Z"
   },
   {
    "duration": -993,
    "start_time": "2021-12-12T08:25:47.420Z"
   },
   {
    "duration": -1018,
    "start_time": "2021-12-12T08:25:47.447Z"
   },
   {
    "duration": -1031,
    "start_time": "2021-12-12T08:25:47.461Z"
   },
   {
    "duration": -1454,
    "start_time": "2021-12-12T08:25:47.886Z"
   },
   {
    "duration": -1465,
    "start_time": "2021-12-12T08:25:47.898Z"
   },
   {
    "duration": -1474,
    "start_time": "2021-12-12T08:25:47.908Z"
   },
   {
    "duration": -1482,
    "start_time": "2021-12-12T08:25:47.918Z"
   },
   {
    "duration": -1491,
    "start_time": "2021-12-12T08:25:47.928Z"
   },
   {
    "duration": -1514,
    "start_time": "2021-12-12T08:25:47.952Z"
   },
   {
    "duration": -1525,
    "start_time": "2021-12-12T08:25:47.965Z"
   },
   {
    "duration": -1536,
    "start_time": "2021-12-12T08:25:47.977Z"
   },
   {
    "duration": -1542,
    "start_time": "2021-12-12T08:25:47.985Z"
   },
   {
    "duration": -1552,
    "start_time": "2021-12-12T08:25:47.996Z"
   },
   {
    "duration": -1559,
    "start_time": "2021-12-12T08:25:48.005Z"
   },
   {
    "duration": -1700,
    "start_time": "2021-12-12T08:25:48.147Z"
   },
   {
    "duration": -1787,
    "start_time": "2021-12-12T08:25:48.235Z"
   },
   {
    "duration": -1797,
    "start_time": "2021-12-12T08:25:48.247Z"
   },
   {
    "duration": -1808,
    "start_time": "2021-12-12T08:25:48.259Z"
   },
   {
    "duration": -1838,
    "start_time": "2021-12-12T08:25:48.290Z"
   },
   {
    "duration": -1854,
    "start_time": "2021-12-12T08:25:48.308Z"
   },
   {
    "duration": -1802,
    "start_time": "2021-12-12T08:25:48.318Z"
   },
   {
    "duration": -1823,
    "start_time": "2021-12-12T08:25:48.341Z"
   },
   {
    "duration": 7,
    "start_time": "2021-12-12T08:26:11.135Z"
   },
   {
    "duration": 6,
    "start_time": "2021-12-12T08:26:51.190Z"
   },
   {
    "duration": 17,
    "start_time": "2021-12-12T08:28:04.091Z"
   },
   {
    "duration": 10,
    "start_time": "2021-12-12T08:28:53.425Z"
   },
   {
    "duration": 17,
    "start_time": "2021-12-12T08:31:20.021Z"
   },
   {
    "duration": 17,
    "start_time": "2021-12-12T08:31:33.457Z"
   },
   {
    "duration": 15,
    "start_time": "2021-12-12T08:32:03.571Z"
   },
   {
    "duration": 15,
    "start_time": "2021-12-12T08:33:31.513Z"
   },
   {
    "duration": 17,
    "start_time": "2021-12-12T08:34:11.698Z"
   },
   {
    "duration": 17,
    "start_time": "2021-12-12T08:34:23.890Z"
   },
   {
    "duration": 19,
    "start_time": "2021-12-12T08:42:59.845Z"
   },
   {
    "duration": 19,
    "start_time": "2021-12-12T08:43:16.868Z"
   },
   {
    "duration": 7,
    "start_time": "2021-12-12T08:43:52.235Z"
   },
   {
    "duration": 15,
    "start_time": "2021-12-12T08:44:57.175Z"
   },
   {
    "duration": 14,
    "start_time": "2021-12-12T08:49:48.482Z"
   },
   {
    "duration": 12,
    "start_time": "2021-12-12T08:50:11.023Z"
   },
   {
    "duration": 13,
    "start_time": "2021-12-12T08:50:56.281Z"
   },
   {
    "duration": 13,
    "start_time": "2021-12-12T08:51:25.383Z"
   },
   {
    "duration": 12,
    "start_time": "2021-12-12T08:51:35.972Z"
   },
   {
    "duration": 14,
    "start_time": "2021-12-12T08:51:56.400Z"
   },
   {
    "duration": 20,
    "start_time": "2021-12-12T08:52:01.449Z"
   },
   {
    "duration": 22,
    "start_time": "2021-12-12T08:52:08.553Z"
   },
   {
    "duration": 15,
    "start_time": "2021-12-12T08:53:02.939Z"
   },
   {
    "duration": 7,
    "start_time": "2021-12-12T08:53:17.248Z"
   },
   {
    "duration": 1119,
    "start_time": "2021-12-12T08:53:29.503Z"
   },
   {
    "duration": 30,
    "start_time": "2021-12-12T08:53:30.626Z"
   },
   {
    "duration": 12,
    "start_time": "2021-12-12T08:53:30.660Z"
   },
   {
    "duration": 42,
    "start_time": "2021-12-12T08:53:30.675Z"
   },
   {
    "duration": 29,
    "start_time": "2021-12-12T08:53:30.720Z"
   },
   {
    "duration": 22,
    "start_time": "2021-12-12T08:53:30.752Z"
   },
   {
    "duration": 16,
    "start_time": "2021-12-12T08:53:30.776Z"
   },
   {
    "duration": 18,
    "start_time": "2021-12-12T08:53:30.796Z"
   },
   {
    "duration": 5,
    "start_time": "2021-12-12T08:53:30.817Z"
   },
   {
    "duration": 15,
    "start_time": "2021-12-12T08:53:30.825Z"
   },
   {
    "duration": 61,
    "start_time": "2021-12-12T08:53:30.842Z"
   },
   {
    "duration": 8,
    "start_time": "2021-12-12T08:53:30.906Z"
   },
   {
    "duration": 13,
    "start_time": "2021-12-12T08:53:30.916Z"
   },
   {
    "duration": 13,
    "start_time": "2021-12-12T08:53:30.932Z"
   },
   {
    "duration": 22,
    "start_time": "2021-12-12T08:53:30.947Z"
   },
   {
    "duration": 19,
    "start_time": "2021-12-12T08:53:30.971Z"
   },
   {
    "duration": 41,
    "start_time": "2021-12-12T08:53:30.993Z"
   },
   {
    "duration": 11,
    "start_time": "2021-12-12T08:53:31.037Z"
   },
   {
    "duration": 28,
    "start_time": "2021-12-12T08:53:31.051Z"
   },
   {
    "duration": 330,
    "start_time": "2021-12-12T08:53:31.082Z"
   },
   {
    "duration": 12,
    "start_time": "2021-12-12T08:53:31.417Z"
   },
   {
    "duration": 11,
    "start_time": "2021-12-12T08:53:31.432Z"
   },
   {
    "duration": 13,
    "start_time": "2021-12-12T08:53:31.449Z"
   },
   {
    "duration": 31,
    "start_time": "2021-12-12T08:53:31.465Z"
   },
   {
    "duration": 8,
    "start_time": "2021-12-12T08:53:31.518Z"
   },
   {
    "duration": 18,
    "start_time": "2021-12-12T08:53:31.529Z"
   },
   {
    "duration": 34,
    "start_time": "2021-12-12T08:53:31.549Z"
   },
   {
    "duration": 13,
    "start_time": "2021-12-12T08:53:31.585Z"
   },
   {
    "duration": 29,
    "start_time": "2021-12-12T08:53:31.601Z"
   },
   {
    "duration": 15,
    "start_time": "2021-12-12T08:53:31.632Z"
   },
   {
    "duration": 34,
    "start_time": "2021-12-12T08:53:31.649Z"
   },
   {
    "duration": 17,
    "start_time": "2021-12-12T08:53:31.686Z"
   },
   {
    "duration": 9,
    "start_time": "2021-12-12T08:53:31.718Z"
   },
   {
    "duration": 10,
    "start_time": "2021-12-12T08:53:31.730Z"
   },
   {
    "duration": 14,
    "start_time": "2021-12-12T08:53:31.743Z"
   },
   {
    "duration": 22,
    "start_time": "2021-12-12T08:53:31.760Z"
   },
   {
    "duration": 40,
    "start_time": "2021-12-12T08:53:31.785Z"
   },
   {
    "duration": 11,
    "start_time": "2021-12-12T08:53:31.827Z"
   },
   {
    "duration": 9,
    "start_time": "2021-12-12T08:53:31.841Z"
   },
   {
    "duration": 16,
    "start_time": "2021-12-12T08:53:31.853Z"
   },
   {
    "duration": 6,
    "start_time": "2021-12-12T08:53:31.871Z"
   },
   {
    "duration": 62,
    "start_time": "2021-12-12T08:53:31.879Z"
   },
   {
    "duration": 11,
    "start_time": "2021-12-12T08:53:31.943Z"
   },
   {
    "duration": 19,
    "start_time": "2021-12-12T08:53:31.957Z"
   },
   {
    "duration": 37,
    "start_time": "2021-12-12T08:53:31.979Z"
   },
   {
    "duration": 4,
    "start_time": "2021-12-12T08:53:32.019Z"
   },
   {
    "duration": 413,
    "start_time": "2021-12-12T08:53:32.025Z"
   },
   {
    "duration": -1709,
    "start_time": "2021-12-12T08:53:34.150Z"
   },
   {
    "duration": -1721,
    "start_time": "2021-12-12T08:53:34.163Z"
   },
   {
    "duration": -1730,
    "start_time": "2021-12-12T08:53:34.174Z"
   },
   {
    "duration": -1738,
    "start_time": "2021-12-12T08:53:34.183Z"
   },
   {
    "duration": -1749,
    "start_time": "2021-12-12T08:53:34.195Z"
   },
   {
    "duration": -1757,
    "start_time": "2021-12-12T08:53:34.205Z"
   },
   {
    "duration": -1766,
    "start_time": "2021-12-12T08:53:34.215Z"
   },
   {
    "duration": -1774,
    "start_time": "2021-12-12T08:53:34.225Z"
   },
   {
    "duration": -1797,
    "start_time": "2021-12-12T08:53:34.250Z"
   },
   {
    "duration": -1807,
    "start_time": "2021-12-12T08:53:34.261Z"
   },
   {
    "duration": -1818,
    "start_time": "2021-12-12T08:53:34.273Z"
   },
   {
    "duration": -1823,
    "start_time": "2021-12-12T08:53:34.281Z"
   },
   {
    "duration": -1833,
    "start_time": "2021-12-12T08:53:34.292Z"
   },
   {
    "duration": -1841,
    "start_time": "2021-12-12T08:53:34.301Z"
   },
   {
    "duration": -1851,
    "start_time": "2021-12-12T08:53:34.313Z"
   },
   {
    "duration": -1861,
    "start_time": "2021-12-12T08:53:34.324Z"
   },
   {
    "duration": -1872,
    "start_time": "2021-12-12T08:53:34.338Z"
   },
   {
    "duration": -1909,
    "start_time": "2021-12-12T08:53:34.376Z"
   },
   {
    "duration": -1921,
    "start_time": "2021-12-12T08:53:34.389Z"
   },
   {
    "duration": -1953,
    "start_time": "2021-12-12T08:53:34.423Z"
   },
   {
    "duration": -1965,
    "start_time": "2021-12-12T08:53:34.436Z"
   },
   {
    "duration": -1975,
    "start_time": "2021-12-12T08:53:34.447Z"
   },
   {
    "duration": -2009,
    "start_time": "2021-12-12T08:53:34.482Z"
   },
   {
    "duration": -2064,
    "start_time": "2021-12-12T08:53:34.538Z"
   },
   {
    "duration": -2072,
    "start_time": "2021-12-12T08:53:34.548Z"
   },
   {
    "duration": -2081,
    "start_time": "2021-12-12T08:53:34.558Z"
   },
   {
    "duration": -2052,
    "start_time": "2021-12-12T08:53:34.569Z"
   },
   {
    "duration": -2058,
    "start_time": "2021-12-12T08:53:34.577Z"
   },
   {
    "duration": -2068,
    "start_time": "2021-12-12T08:53:34.588Z"
   },
   {
    "duration": -2075,
    "start_time": "2021-12-12T08:53:34.597Z"
   },
   {
    "duration": -2084,
    "start_time": "2021-12-12T08:53:34.607Z"
   },
   {
    "duration": -2091,
    "start_time": "2021-12-12T08:53:34.616Z"
   },
   {
    "duration": -2100,
    "start_time": "2021-12-12T08:53:34.627Z"
   },
   {
    "duration": -2124,
    "start_time": "2021-12-12T08:53:34.652Z"
   },
   {
    "duration": -2133,
    "start_time": "2021-12-12T08:53:34.663Z"
   },
   {
    "duration": -2141,
    "start_time": "2021-12-12T08:53:34.673Z"
   },
   {
    "duration": -2150,
    "start_time": "2021-12-12T08:53:34.683Z"
   },
   {
    "duration": -2158,
    "start_time": "2021-12-12T08:53:34.692Z"
   },
   {
    "duration": 87,
    "start_time": "2021-12-12T08:53:47.718Z"
   },
   {
    "duration": 19,
    "start_time": "2021-12-12T08:53:47.816Z"
   },
   {
    "duration": 7,
    "start_time": "2021-12-12T08:53:47.838Z"
   },
   {
    "duration": 12,
    "start_time": "2021-12-12T08:53:47.847Z"
   },
   {
    "duration": 9,
    "start_time": "2021-12-12T08:53:47.862Z"
   },
   {
    "duration": 46,
    "start_time": "2021-12-12T08:53:47.873Z"
   },
   {
    "duration": 8,
    "start_time": "2021-12-12T08:53:47.921Z"
   },
   {
    "duration": 14,
    "start_time": "2021-12-12T08:53:47.933Z"
   },
   {
    "duration": 6,
    "start_time": "2021-12-12T08:53:47.950Z"
   },
   {
    "duration": 5,
    "start_time": "2021-12-12T08:53:47.959Z"
   },
   {
    "duration": 77,
    "start_time": "2021-12-12T08:53:47.966Z"
   },
   {
    "duration": 6,
    "start_time": "2021-12-12T08:53:48.046Z"
   },
   {
    "duration": 9,
    "start_time": "2021-12-12T08:53:48.055Z"
   },
   {
    "duration": 51,
    "start_time": "2021-12-12T08:53:48.066Z"
   },
   {
    "duration": 7,
    "start_time": "2021-12-12T08:53:48.120Z"
   },
   {
    "duration": 14,
    "start_time": "2021-12-12T08:53:48.129Z"
   },
   {
    "duration": 23,
    "start_time": "2021-12-12T08:53:48.146Z"
   },
   {
    "duration": 54,
    "start_time": "2021-12-12T08:53:48.171Z"
   },
   {
    "duration": 4,
    "start_time": "2021-12-12T08:53:48.230Z"
   },
   {
    "duration": 346,
    "start_time": "2021-12-12T08:53:48.238Z"
   },
   {
    "duration": 11,
    "start_time": "2021-12-12T08:53:48.586Z"
   },
   {
    "duration": 23,
    "start_time": "2021-12-12T08:53:48.600Z"
   },
   {
    "duration": 13,
    "start_time": "2021-12-12T08:53:48.626Z"
   },
   {
    "duration": 10,
    "start_time": "2021-12-12T08:53:48.641Z"
   },
   {
    "duration": 34,
    "start_time": "2021-12-12T08:53:48.653Z"
   },
   {
    "duration": 28,
    "start_time": "2021-12-12T08:53:48.690Z"
   },
   {
    "duration": 12,
    "start_time": "2021-12-12T08:53:48.721Z"
   },
   {
    "duration": 7,
    "start_time": "2021-12-12T08:53:48.736Z"
   },
   {
    "duration": 11,
    "start_time": "2021-12-12T08:53:48.745Z"
   },
   {
    "duration": 10,
    "start_time": "2021-12-12T08:53:48.758Z"
   },
   {
    "duration": 65,
    "start_time": "2021-12-12T08:53:48.771Z"
   },
   {
    "duration": 16,
    "start_time": "2021-12-12T08:53:48.839Z"
   },
   {
    "duration": 13,
    "start_time": "2021-12-12T08:53:48.858Z"
   },
   {
    "duration": 7,
    "start_time": "2021-12-12T08:53:48.873Z"
   },
   {
    "duration": 37,
    "start_time": "2021-12-12T08:53:48.882Z"
   },
   {
    "duration": 18,
    "start_time": "2021-12-12T08:53:48.922Z"
   },
   {
    "duration": 13,
    "start_time": "2021-12-12T08:53:48.943Z"
   },
   {
    "duration": 7,
    "start_time": "2021-12-12T08:53:48.959Z"
   },
   {
    "duration": 50,
    "start_time": "2021-12-12T08:53:48.969Z"
   },
   {
    "duration": 15,
    "start_time": "2021-12-12T08:53:49.022Z"
   },
   {
    "duration": 5,
    "start_time": "2021-12-12T08:53:49.039Z"
   },
   {
    "duration": 29,
    "start_time": "2021-12-12T08:53:49.047Z"
   },
   {
    "duration": 46,
    "start_time": "2021-12-12T08:53:49.079Z"
   },
   {
    "duration": 12,
    "start_time": "2021-12-12T08:53:49.127Z"
   },
   {
    "duration": 6,
    "start_time": "2021-12-12T08:53:49.141Z"
   },
   {
    "duration": 5,
    "start_time": "2021-12-12T08:53:49.149Z"
   },
   {
    "duration": 296,
    "start_time": "2021-12-12T08:53:49.157Z"
   },
   {
    "duration": -2798,
    "start_time": "2021-12-12T08:53:52.255Z"
   },
   {
    "duration": -2804,
    "start_time": "2021-12-12T08:53:52.262Z"
   },
   {
    "duration": -2812,
    "start_time": "2021-12-12T08:53:52.272Z"
   },
   {
    "duration": -2822,
    "start_time": "2021-12-12T08:53:52.283Z"
   },
   {
    "duration": -2828,
    "start_time": "2021-12-12T08:53:52.291Z"
   },
   {
    "duration": -2837,
    "start_time": "2021-12-12T08:53:52.301Z"
   },
   {
    "duration": -2844,
    "start_time": "2021-12-12T08:53:52.310Z"
   },
   {
    "duration": -2854,
    "start_time": "2021-12-12T08:53:52.321Z"
   },
   {
    "duration": -2862,
    "start_time": "2021-12-12T08:53:52.331Z"
   },
   {
    "duration": -2911,
    "start_time": "2021-12-12T08:53:52.381Z"
   },
   {
    "duration": -2922,
    "start_time": "2021-12-12T08:53:52.394Z"
   },
   {
    "duration": -2933,
    "start_time": "2021-12-12T08:53:52.406Z"
   },
   {
    "duration": -2940,
    "start_time": "2021-12-12T08:53:52.415Z"
   },
   {
    "duration": -2950,
    "start_time": "2021-12-12T08:53:52.426Z"
   },
   {
    "duration": -2959,
    "start_time": "2021-12-12T08:53:52.436Z"
   },
   {
    "duration": -2968,
    "start_time": "2021-12-12T08:53:52.446Z"
   },
   {
    "duration": -3219,
    "start_time": "2021-12-12T08:53:52.699Z"
   },
   {
    "duration": -3232,
    "start_time": "2021-12-12T08:53:52.714Z"
   },
   {
    "duration": -3243,
    "start_time": "2021-12-12T08:53:52.726Z"
   },
   {
    "duration": -3254,
    "start_time": "2021-12-12T08:53:52.739Z"
   },
   {
    "duration": -3291,
    "start_time": "2021-12-12T08:53:52.777Z"
   },
   {
    "duration": -3303,
    "start_time": "2021-12-12T08:53:52.790Z"
   },
   {
    "duration": -3310,
    "start_time": "2021-12-12T08:53:52.799Z"
   },
   {
    "duration": -3323,
    "start_time": "2021-12-12T08:53:52.813Z"
   },
   {
    "duration": -3332,
    "start_time": "2021-12-12T08:53:52.824Z"
   },
   {
    "duration": -3343,
    "start_time": "2021-12-12T08:53:52.836Z"
   },
   {
    "duration": -3352,
    "start_time": "2021-12-12T08:53:52.846Z"
   },
   {
    "duration": -3362,
    "start_time": "2021-12-12T08:53:52.857Z"
   },
   {
    "duration": -3350,
    "start_time": "2021-12-12T08:53:52.866Z"
   },
   {
    "duration": -3374,
    "start_time": "2021-12-12T08:53:52.892Z"
   },
   {
    "duration": -3382,
    "start_time": "2021-12-12T08:53:52.901Z"
   },
   {
    "duration": -3396,
    "start_time": "2021-12-12T08:53:52.917Z"
   },
   {
    "duration": -3410,
    "start_time": "2021-12-12T08:53:52.932Z"
   },
   {
    "duration": -3423,
    "start_time": "2021-12-12T08:53:52.947Z"
   },
   {
    "duration": -3477,
    "start_time": "2021-12-12T08:53:53.002Z"
   },
   {
    "duration": -3552,
    "start_time": "2021-12-12T08:53:53.079Z"
   },
   {
    "duration": -3591,
    "start_time": "2021-12-12T08:53:53.119Z"
   },
   {
    "duration": -3608,
    "start_time": "2021-12-12T08:53:53.138Z"
   },
   {
    "duration": 8,
    "start_time": "2021-12-12T08:55:34.270Z"
   },
   {
    "duration": 298,
    "start_time": "2021-12-12T08:56:26.906Z"
   },
   {
    "duration": 912,
    "start_time": "2021-12-12T08:58:19.925Z"
   },
   {
    "duration": 21,
    "start_time": "2021-12-12T08:58:20.839Z"
   },
   {
    "duration": 10,
    "start_time": "2021-12-12T08:58:20.863Z"
   },
   {
    "duration": 45,
    "start_time": "2021-12-12T08:58:20.876Z"
   },
   {
    "duration": 12,
    "start_time": "2021-12-12T08:58:20.923Z"
   },
   {
    "duration": 6,
    "start_time": "2021-12-12T08:58:20.938Z"
   },
   {
    "duration": 24,
    "start_time": "2021-12-12T08:58:20.946Z"
   },
   {
    "duration": 14,
    "start_time": "2021-12-12T08:58:20.974Z"
   },
   {
    "duration": 32,
    "start_time": "2021-12-12T08:58:20.991Z"
   },
   {
    "duration": 8,
    "start_time": "2021-12-12T08:58:21.025Z"
   },
   {
    "duration": 44,
    "start_time": "2021-12-12T08:58:21.036Z"
   },
   {
    "duration": 38,
    "start_time": "2021-12-12T08:58:21.083Z"
   },
   {
    "duration": 16,
    "start_time": "2021-12-12T08:58:21.124Z"
   },
   {
    "duration": 17,
    "start_time": "2021-12-12T08:58:21.142Z"
   },
   {
    "duration": 8,
    "start_time": "2021-12-12T08:58:21.162Z"
   },
   {
    "duration": 49,
    "start_time": "2021-12-12T08:58:21.172Z"
   },
   {
    "duration": 22,
    "start_time": "2021-12-12T08:58:21.224Z"
   },
   {
    "duration": 11,
    "start_time": "2021-12-12T08:58:21.248Z"
   },
   {
    "duration": 4,
    "start_time": "2021-12-12T08:58:21.262Z"
   },
   {
    "duration": 334,
    "start_time": "2021-12-12T08:58:21.269Z"
   },
   {
    "duration": 21,
    "start_time": "2021-12-12T08:58:21.606Z"
   },
   {
    "duration": 11,
    "start_time": "2021-12-12T08:58:21.629Z"
   },
   {
    "duration": 11,
    "start_time": "2021-12-12T08:58:21.647Z"
   },
   {
    "duration": 7,
    "start_time": "2021-12-12T08:58:21.662Z"
   },
   {
    "duration": 55,
    "start_time": "2021-12-12T08:58:21.671Z"
   },
   {
    "duration": 10,
    "start_time": "2021-12-12T08:58:21.729Z"
   },
   {
    "duration": 10,
    "start_time": "2021-12-12T08:58:21.741Z"
   },
   {
    "duration": 6,
    "start_time": "2021-12-12T08:58:21.754Z"
   },
   {
    "duration": 11,
    "start_time": "2021-12-12T08:58:21.762Z"
   },
   {
    "duration": 47,
    "start_time": "2021-12-12T08:58:21.776Z"
   },
   {
    "duration": 21,
    "start_time": "2021-12-12T08:58:21.826Z"
   },
   {
    "duration": 18,
    "start_time": "2021-12-12T08:58:21.849Z"
   },
   {
    "duration": 7,
    "start_time": "2021-12-12T08:58:21.870Z"
   },
   {
    "duration": 7,
    "start_time": "2021-12-12T08:58:21.917Z"
   },
   {
    "duration": 7,
    "start_time": "2021-12-12T08:58:21.927Z"
   },
   {
    "duration": 14,
    "start_time": "2021-12-12T08:58:21.936Z"
   },
   {
    "duration": 10,
    "start_time": "2021-12-12T08:58:21.953Z"
   },
   {
    "duration": 6,
    "start_time": "2021-12-12T08:58:22.018Z"
   },
   {
    "duration": 11,
    "start_time": "2021-12-12T08:58:22.026Z"
   },
   {
    "duration": 15,
    "start_time": "2021-12-12T08:58:22.040Z"
   },
   {
    "duration": 6,
    "start_time": "2021-12-12T08:58:22.057Z"
   },
   {
    "duration": 505,
    "start_time": "2021-12-12T08:58:22.066Z"
   },
   {
    "duration": -1432,
    "start_time": "2021-12-12T08:58:24.008Z"
   },
   {
    "duration": -1440,
    "start_time": "2021-12-12T08:58:24.018Z"
   },
   {
    "duration": -1447,
    "start_time": "2021-12-12T08:58:24.027Z"
   },
   {
    "duration": -1456,
    "start_time": "2021-12-12T08:58:24.038Z"
   },
   {
    "duration": -1463,
    "start_time": "2021-12-12T08:58:24.047Z"
   },
   {
    "duration": -1473,
    "start_time": "2021-12-12T08:58:24.060Z"
   },
   {
    "duration": -1484,
    "start_time": "2021-12-12T08:58:24.073Z"
   },
   {
    "duration": -1494,
    "start_time": "2021-12-12T08:58:24.085Z"
   },
   {
    "duration": -1539,
    "start_time": "2021-12-12T08:58:24.132Z"
   },
   {
    "duration": -1551,
    "start_time": "2021-12-12T08:58:24.146Z"
   },
   {
    "duration": -1558,
    "start_time": "2021-12-12T08:58:24.155Z"
   },
   {
    "duration": -1566,
    "start_time": "2021-12-12T08:58:24.165Z"
   },
   {
    "duration": -1577,
    "start_time": "2021-12-12T08:58:24.178Z"
   },
   {
    "duration": -1588,
    "start_time": "2021-12-12T08:58:24.191Z"
   },
   {
    "duration": -1601,
    "start_time": "2021-12-12T08:58:24.206Z"
   },
   {
    "duration": -1608,
    "start_time": "2021-12-12T08:58:24.215Z"
   },
   {
    "duration": -1637,
    "start_time": "2021-12-12T08:58:24.246Z"
   },
   {
    "duration": -1646,
    "start_time": "2021-12-12T08:58:24.257Z"
   },
   {
    "duration": -1647,
    "start_time": "2021-12-12T08:58:24.265Z"
   },
   {
    "duration": -1655,
    "start_time": "2021-12-12T08:58:24.275Z"
   },
   {
    "duration": -1662,
    "start_time": "2021-12-12T08:58:24.284Z"
   },
   {
    "duration": -1668,
    "start_time": "2021-12-12T08:58:24.292Z"
   },
   {
    "duration": -1677,
    "start_time": "2021-12-12T08:58:24.303Z"
   },
   {
    "duration": -1682,
    "start_time": "2021-12-12T08:58:24.310Z"
   },
   {
    "duration": -1690,
    "start_time": "2021-12-12T08:58:24.320Z"
   },
   {
    "duration": -1695,
    "start_time": "2021-12-12T08:58:24.327Z"
   },
   {
    "duration": -1702,
    "start_time": "2021-12-12T08:58:24.336Z"
   },
   {
    "duration": -1709,
    "start_time": "2021-12-12T08:58:24.345Z"
   },
   {
    "duration": -1736,
    "start_time": "2021-12-12T08:58:24.374Z"
   },
   {
    "duration": -1743,
    "start_time": "2021-12-12T08:58:24.382Z"
   },
   {
    "duration": -1752,
    "start_time": "2021-12-12T08:58:24.394Z"
   },
   {
    "duration": -1763,
    "start_time": "2021-12-12T08:58:24.406Z"
   },
   {
    "duration": -1771,
    "start_time": "2021-12-12T08:58:24.416Z"
   },
   {
    "duration": -1779,
    "start_time": "2021-12-12T08:58:24.426Z"
   },
   {
    "duration": -1787,
    "start_time": "2021-12-12T08:58:24.436Z"
   },
   {
    "duration": -1794,
    "start_time": "2021-12-12T08:58:24.445Z"
   },
   {
    "duration": -1803,
    "start_time": "2021-12-12T08:58:24.456Z"
   },
   {
    "duration": -1810,
    "start_time": "2021-12-12T08:58:24.465Z"
   },
   {
    "duration": -1776,
    "start_time": "2021-12-12T08:58:24.493Z"
   },
   {
    "duration": -1783,
    "start_time": "2021-12-12T08:58:24.502Z"
   },
   {
    "duration": -1791,
    "start_time": "2021-12-12T08:58:24.512Z"
   },
   {
    "duration": -1798,
    "start_time": "2021-12-12T08:58:24.521Z"
   },
   {
    "duration": 15,
    "start_time": "2021-12-12T08:58:41.507Z"
   },
   {
    "duration": 17,
    "start_time": "2021-12-12T08:58:45.482Z"
   },
   {
    "duration": 7,
    "start_time": "2021-12-12T08:58:47.985Z"
   },
   {
    "duration": 249,
    "start_time": "2021-12-12T08:59:12.438Z"
   },
   {
    "duration": 10,
    "start_time": "2021-12-12T08:59:15.086Z"
   },
   {
    "duration": 20,
    "start_time": "2021-12-12T08:59:16.866Z"
   },
   {
    "duration": 80,
    "start_time": "2021-12-12T09:04:03.425Z"
   },
   {
    "duration": 7,
    "start_time": "2021-12-12T09:04:28.960Z"
   },
   {
    "duration": 15,
    "start_time": "2021-12-12T09:11:50.812Z"
   },
   {
    "duration": 1140,
    "start_time": "2021-12-12T09:12:00.714Z"
   },
   {
    "duration": 32,
    "start_time": "2021-12-12T09:12:01.857Z"
   },
   {
    "duration": 29,
    "start_time": "2021-12-12T09:12:01.893Z"
   },
   {
    "duration": 13,
    "start_time": "2021-12-12T09:12:01.925Z"
   },
   {
    "duration": 21,
    "start_time": "2021-12-12T09:12:01.941Z"
   },
   {
    "duration": 7,
    "start_time": "2021-12-12T09:12:01.965Z"
   },
   {
    "duration": 44,
    "start_time": "2021-12-12T09:12:01.975Z"
   },
   {
    "duration": 12,
    "start_time": "2021-12-12T09:12:02.025Z"
   },
   {
    "duration": 5,
    "start_time": "2021-12-12T09:12:02.040Z"
   },
   {
    "duration": 5,
    "start_time": "2021-12-12T09:12:02.048Z"
   },
   {
    "duration": 74,
    "start_time": "2021-12-12T09:12:02.055Z"
   },
   {
    "duration": 8,
    "start_time": "2021-12-12T09:12:02.131Z"
   },
   {
    "duration": 18,
    "start_time": "2021-12-12T09:12:02.141Z"
   },
   {
    "duration": 13,
    "start_time": "2021-12-12T09:12:02.162Z"
   },
   {
    "duration": 18,
    "start_time": "2021-12-12T09:12:02.178Z"
   },
   {
    "duration": 39,
    "start_time": "2021-12-12T09:12:02.199Z"
   },
   {
    "duration": 21,
    "start_time": "2021-12-12T09:12:02.240Z"
   },
   {
    "duration": 11,
    "start_time": "2021-12-12T09:12:02.264Z"
   },
   {
    "duration": 5,
    "start_time": "2021-12-12T09:12:02.277Z"
   },
   {
    "duration": 339,
    "start_time": "2021-12-12T09:12:02.284Z"
   },
   {
    "duration": 11,
    "start_time": "2021-12-12T09:12:02.625Z"
   },
   {
    "duration": 8,
    "start_time": "2021-12-12T09:12:02.638Z"
   },
   {
    "duration": 11,
    "start_time": "2021-12-12T09:12:02.651Z"
   },
   {
    "duration": 53,
    "start_time": "2021-12-12T09:12:02.666Z"
   },
   {
    "duration": 10,
    "start_time": "2021-12-12T09:12:02.721Z"
   },
   {
    "duration": 8,
    "start_time": "2021-12-12T09:12:02.734Z"
   },
   {
    "duration": 8,
    "start_time": "2021-12-12T09:12:02.744Z"
   },
   {
    "duration": 6,
    "start_time": "2021-12-12T09:12:02.754Z"
   },
   {
    "duration": 57,
    "start_time": "2021-12-12T09:12:02.762Z"
   },
   {
    "duration": 10,
    "start_time": "2021-12-12T09:12:02.821Z"
   },
   {
    "duration": 20,
    "start_time": "2021-12-12T09:12:02.833Z"
   },
   {
    "duration": 13,
    "start_time": "2021-12-12T09:12:02.856Z"
   },
   {
    "duration": 48,
    "start_time": "2021-12-12T09:12:02.871Z"
   },
   {
    "duration": 5,
    "start_time": "2021-12-12T09:12:02.921Z"
   },
   {
    "duration": 14,
    "start_time": "2021-12-12T09:12:02.929Z"
   },
   {
    "duration": 14,
    "start_time": "2021-12-12T09:12:02.946Z"
   },
   {
    "duration": 59,
    "start_time": "2021-12-12T09:12:02.962Z"
   },
   {
    "duration": 14,
    "start_time": "2021-12-12T09:12:03.023Z"
   },
   {
    "duration": 5,
    "start_time": "2021-12-12T09:12:03.040Z"
   },
   {
    "duration": 12,
    "start_time": "2021-12-12T09:12:03.047Z"
   },
   {
    "duration": 57,
    "start_time": "2021-12-12T09:12:03.061Z"
   },
   {
    "duration": 6,
    "start_time": "2021-12-12T09:12:03.120Z"
   },
   {
    "duration": 4,
    "start_time": "2021-12-12T09:12:03.128Z"
   },
   {
    "duration": 286,
    "start_time": "2021-12-12T09:12:03.134Z"
   },
   {
    "duration": 6,
    "start_time": "2021-12-12T09:12:03.422Z"
   },
   {
    "duration": 18,
    "start_time": "2021-12-12T09:12:03.430Z"
   },
   {
    "duration": 111,
    "start_time": "2021-12-12T09:12:03.450Z"
   },
   {
    "duration": 6,
    "start_time": "2021-12-12T09:12:03.563Z"
   },
   {
    "duration": 9,
    "start_time": "2021-12-12T09:12:03.571Z"
   },
   {
    "duration": 36,
    "start_time": "2021-12-12T09:12:03.583Z"
   },
   {
    "duration": 30,
    "start_time": "2021-12-12T09:12:03.621Z"
   },
   {
    "duration": 16,
    "start_time": "2021-12-12T09:12:03.654Z"
   },
   {
    "duration": 47,
    "start_time": "2021-12-12T09:12:03.673Z"
   },
   {
    "duration": 10,
    "start_time": "2021-12-12T09:12:03.723Z"
   },
   {
    "duration": 18,
    "start_time": "2021-12-12T09:12:03.736Z"
   },
   {
    "duration": 17,
    "start_time": "2021-12-12T09:12:03.757Z"
   },
   {
    "duration": 41,
    "start_time": "2021-12-12T09:12:03.776Z"
   },
   {
    "duration": 20,
    "start_time": "2021-12-12T09:12:03.820Z"
   },
   {
    "duration": 8,
    "start_time": "2021-12-12T09:12:03.843Z"
   },
   {
    "duration": 69,
    "start_time": "2021-12-12T09:12:03.853Z"
   },
   {
    "duration": 8,
    "start_time": "2021-12-12T09:12:03.924Z"
   },
   {
    "duration": 8,
    "start_time": "2021-12-12T09:12:03.935Z"
   },
   {
    "duration": 1071,
    "start_time": "2021-12-12T09:12:03.946Z"
   },
   {
    "duration": 9,
    "start_time": "2021-12-12T09:12:05.020Z"
   },
   {
    "duration": 8,
    "start_time": "2021-12-12T09:12:05.031Z"
   },
   {
    "duration": 24,
    "start_time": "2021-12-12T09:12:05.042Z"
   },
   {
    "duration": 3971,
    "start_time": "2021-12-12T09:12:05.069Z"
   },
   {
    "duration": 7,
    "start_time": "2021-12-12T09:12:09.050Z"
   },
   {
    "duration": 40,
    "start_time": "2021-12-12T09:12:09.060Z"
   },
   {
    "duration": 19,
    "start_time": "2021-12-12T09:12:09.102Z"
   },
   {
    "duration": 23,
    "start_time": "2021-12-12T09:12:09.123Z"
   },
   {
    "duration": 6,
    "start_time": "2021-12-12T09:12:09.149Z"
   },
   {
    "duration": 320,
    "start_time": "2021-12-12T09:12:09.159Z"
   },
   {
    "duration": 20,
    "start_time": "2021-12-12T09:12:09.481Z"
   },
   {
    "duration": 7,
    "start_time": "2021-12-12T09:12:09.517Z"
   },
   {
    "duration": 66,
    "start_time": "2021-12-12T09:12:09.526Z"
   },
   {
    "duration": 32,
    "start_time": "2021-12-12T09:12:09.594Z"
   },
   {
    "duration": 55,
    "start_time": "2021-12-12T09:12:09.628Z"
   },
   {
    "duration": 30,
    "start_time": "2021-12-12T09:12:09.686Z"
   },
   {
    "duration": 11,
    "start_time": "2021-12-12T09:12:09.719Z"
   },
   {
    "duration": 53,
    "start_time": "2021-12-12T09:12:09.732Z"
   },
   {
    "duration": 33,
    "start_time": "2021-12-12T09:12:09.787Z"
   },
   {
    "duration": 55,
    "start_time": "2021-12-12T09:12:09.822Z"
   },
   {
    "duration": 38,
    "start_time": "2021-12-12T09:12:09.880Z"
   },
   {
    "duration": 46,
    "start_time": "2021-12-12T14:44:49.258Z"
   },
   {
    "duration": 16,
    "start_time": "2021-12-12T14:46:44.696Z"
   },
   {
    "duration": 413,
    "start_time": "2021-12-12T14:48:50.042Z"
   },
   {
    "duration": 317,
    "start_time": "2021-12-12T14:48:57.854Z"
   },
   {
    "duration": 17,
    "start_time": "2021-12-12T14:49:19.126Z"
   },
   {
    "duration": 22,
    "start_time": "2021-12-12T14:51:31.196Z"
   },
   {
    "duration": 17,
    "start_time": "2021-12-12T14:52:41.166Z"
   },
   {
    "duration": 22,
    "start_time": "2021-12-12T14:52:58.796Z"
   },
   {
    "duration": 18,
    "start_time": "2021-12-12T14:54:43.183Z"
   },
   {
    "duration": 321,
    "start_time": "2021-12-12T16:16:19.701Z"
   },
   {
    "duration": 21,
    "start_time": "2021-12-12T16:16:35.866Z"
   },
   {
    "duration": 23,
    "start_time": "2021-12-12T16:17:14.135Z"
   },
   {
    "duration": 21,
    "start_time": "2021-12-12T16:17:28.998Z"
   },
   {
    "duration": 19,
    "start_time": "2021-12-12T16:17:53.048Z"
   },
   {
    "duration": 18,
    "start_time": "2021-12-12T16:17:57.530Z"
   },
   {
    "duration": 290,
    "start_time": "2021-12-12T17:58:10.650Z"
   },
   {
    "duration": 287,
    "start_time": "2021-12-12T17:58:30.964Z"
   },
   {
    "duration": 120,
    "start_time": "2021-12-12T17:58:35.277Z"
   },
   {
    "duration": 481,
    "start_time": "2021-12-12T17:58:44.674Z"
   },
   {
    "duration": 15,
    "start_time": "2021-12-12T17:59:07.440Z"
   },
   {
    "duration": 15,
    "start_time": "2021-12-12T17:59:20.329Z"
   },
   {
    "duration": 11,
    "start_time": "2021-12-12T17:59:29.455Z"
   },
   {
    "duration": 4679,
    "start_time": "2021-12-12T17:59:50.687Z"
   },
   {
    "duration": 843,
    "start_time": "2021-12-12T18:00:04.301Z"
   },
   {
    "duration": 24,
    "start_time": "2021-12-12T18:00:05.146Z"
   },
   {
    "duration": 8,
    "start_time": "2021-12-12T18:00:05.174Z"
   },
   {
    "duration": 9,
    "start_time": "2021-12-12T18:00:05.217Z"
   },
   {
    "duration": 12,
    "start_time": "2021-12-12T18:00:05.230Z"
   },
   {
    "duration": 5,
    "start_time": "2021-12-12T18:00:05.245Z"
   },
   {
    "duration": 24,
    "start_time": "2021-12-12T18:00:05.253Z"
   },
   {
    "duration": 10,
    "start_time": "2021-12-12T18:00:05.317Z"
   },
   {
    "duration": 8,
    "start_time": "2021-12-12T18:00:05.331Z"
   },
   {
    "duration": 12,
    "start_time": "2021-12-12T18:00:05.342Z"
   },
   {
    "duration": 38,
    "start_time": "2021-12-12T18:00:05.356Z"
   },
   {
    "duration": 8,
    "start_time": "2021-12-12T18:00:05.417Z"
   },
   {
    "duration": 18,
    "start_time": "2021-12-12T18:00:05.427Z"
   },
   {
    "duration": 9,
    "start_time": "2021-12-12T18:00:05.447Z"
   },
   {
    "duration": 16,
    "start_time": "2021-12-12T18:00:05.459Z"
   },
   {
    "duration": 41,
    "start_time": "2021-12-12T18:00:05.478Z"
   },
   {
    "duration": 28,
    "start_time": "2021-12-12T18:00:05.522Z"
   },
   {
    "duration": 12,
    "start_time": "2021-12-12T18:00:05.553Z"
   },
   {
    "duration": 4,
    "start_time": "2021-12-12T18:00:05.567Z"
   },
   {
    "duration": 343,
    "start_time": "2021-12-12T18:00:05.574Z"
   },
   {
    "duration": 10,
    "start_time": "2021-12-12T18:00:05.919Z"
   },
   {
    "duration": 8,
    "start_time": "2021-12-12T18:00:05.932Z"
   },
   {
    "duration": 12,
    "start_time": "2021-12-12T18:00:05.946Z"
   },
   {
    "duration": 7,
    "start_time": "2021-12-12T18:00:05.962Z"
   },
   {
    "duration": 48,
    "start_time": "2021-12-12T18:00:05.971Z"
   },
   {
    "duration": 10,
    "start_time": "2021-12-12T18:00:06.021Z"
   },
   {
    "duration": 8,
    "start_time": "2021-12-12T18:00:06.034Z"
   },
   {
    "duration": 6,
    "start_time": "2021-12-12T18:00:06.045Z"
   },
   {
    "duration": 12,
    "start_time": "2021-12-12T18:00:06.054Z"
   },
   {
    "duration": 54,
    "start_time": "2021-12-12T18:00:06.069Z"
   },
   {
    "duration": 22,
    "start_time": "2021-12-12T18:00:06.125Z"
   },
   {
    "duration": 13,
    "start_time": "2021-12-12T18:00:06.150Z"
   },
   {
    "duration": 11,
    "start_time": "2021-12-12T18:00:06.166Z"
   },
   {
    "duration": 5,
    "start_time": "2021-12-12T18:00:06.218Z"
   },
   {
    "duration": 8,
    "start_time": "2021-12-12T18:00:06.226Z"
   },
   {
    "duration": 17,
    "start_time": "2021-12-12T18:00:06.236Z"
   },
   {
    "duration": 10,
    "start_time": "2021-12-12T18:00:06.255Z"
   },
   {
    "duration": 59,
    "start_time": "2021-12-12T18:00:06.267Z"
   },
   {
    "duration": 6,
    "start_time": "2021-12-12T18:00:06.328Z"
   },
   {
    "duration": 17,
    "start_time": "2021-12-12T18:00:06.336Z"
   },
   {
    "duration": 12,
    "start_time": "2021-12-12T18:00:06.355Z"
   },
   {
    "duration": 7,
    "start_time": "2021-12-12T18:00:06.370Z"
   },
   {
    "duration": 3,
    "start_time": "2021-12-12T18:00:06.418Z"
   },
   {
    "duration": 276,
    "start_time": "2021-12-12T18:00:06.423Z"
   },
   {
    "duration": 5,
    "start_time": "2021-12-12T18:00:06.702Z"
   },
   {
    "duration": 18,
    "start_time": "2021-12-12T18:00:06.717Z"
   },
   {
    "duration": 102,
    "start_time": "2021-12-12T18:00:06.737Z"
   },
   {
    "duration": 5,
    "start_time": "2021-12-12T18:00:06.842Z"
   },
   {
    "duration": 13,
    "start_time": "2021-12-12T18:00:06.850Z"
   },
   {
    "duration": 12,
    "start_time": "2021-12-12T18:00:06.866Z"
   },
   {
    "duration": 70,
    "start_time": "2021-12-12T18:00:06.881Z"
   },
   {
    "duration": 18,
    "start_time": "2021-12-12T18:00:06.954Z"
   },
   {
    "duration": 9,
    "start_time": "2021-12-12T18:00:06.974Z"
   },
   {
    "duration": 33,
    "start_time": "2021-12-12T18:00:06.986Z"
   },
   {
    "duration": 20,
    "start_time": "2021-12-12T18:00:07.021Z"
   },
   {
    "duration": 18,
    "start_time": "2021-12-12T18:00:07.043Z"
   },
   {
    "duration": 10,
    "start_time": "2021-12-12T18:00:07.064Z"
   },
   {
    "duration": 62,
    "start_time": "2021-12-12T18:00:07.076Z"
   },
   {
    "duration": 9,
    "start_time": "2021-12-12T18:00:07.141Z"
   },
   {
    "duration": 70,
    "start_time": "2021-12-12T18:00:07.152Z"
   },
   {
    "duration": 8,
    "start_time": "2021-12-12T18:00:07.224Z"
   },
   {
    "duration": 8,
    "start_time": "2021-12-12T18:00:07.234Z"
   },
   {
    "duration": 970,
    "start_time": "2021-12-12T18:00:07.244Z"
   },
   {
    "duration": 7,
    "start_time": "2021-12-12T18:00:08.218Z"
   },
   {
    "duration": 6,
    "start_time": "2021-12-12T18:00:08.228Z"
   },
   {
    "duration": 412,
    "start_time": "2021-12-12T18:00:08.236Z"
   },
   {
    "duration": -1272,
    "start_time": "2021-12-12T18:00:09.923Z"
   },
   {
    "duration": -1281,
    "start_time": "2021-12-12T18:00:09.934Z"
   },
   {
    "duration": -1293,
    "start_time": "2021-12-12T18:00:09.947Z"
   },
   {
    "duration": -1300,
    "start_time": "2021-12-12T18:00:09.956Z"
   },
   {
    "duration": -1313,
    "start_time": "2021-12-12T18:00:09.970Z"
   },
   {
    "duration": -1365,
    "start_time": "2021-12-12T18:00:10.024Z"
   },
   {
    "duration": -1379,
    "start_time": "2021-12-12T18:00:10.040Z"
   },
   {
    "duration": -1390,
    "start_time": "2021-12-12T18:00:10.052Z"
   },
   {
    "duration": -1401,
    "start_time": "2021-12-12T18:00:10.065Z"
   },
   {
    "duration": -1412,
    "start_time": "2021-12-12T18:00:10.077Z"
   },
   {
    "duration": -1502,
    "start_time": "2021-12-12T18:00:10.168Z"
   },
   {
    "duration": -1549,
    "start_time": "2021-12-12T18:00:10.217Z"
   },
   {
    "duration": -1562,
    "start_time": "2021-12-12T18:00:10.231Z"
   },
   {
    "duration": -1580,
    "start_time": "2021-12-12T18:00:10.251Z"
   },
   {
    "duration": -1630,
    "start_time": "2021-12-12T18:00:10.302Z"
   },
   {
    "duration": -1659,
    "start_time": "2021-12-12T18:00:10.333Z"
   },
   {
    "duration": -1670,
    "start_time": "2021-12-12T18:00:10.345Z"
   },
   {
    "duration": -1679,
    "start_time": "2021-12-12T18:00:10.356Z"
   },
   {
    "duration": 20,
    "start_time": "2021-12-12T18:01:57.439Z"
   },
   {
    "duration": 11,
    "start_time": "2021-12-12T18:03:57.114Z"
   },
   {
    "duration": 34,
    "start_time": "2021-12-12T18:04:09.503Z"
   },
   {
    "duration": 3672,
    "start_time": "2021-12-12T18:04:46.922Z"
   },
   {
    "duration": 23,
    "start_time": "2021-12-12T18:05:01.619Z"
   },
   {
    "duration": 9,
    "start_time": "2021-12-12T18:05:50.837Z"
   },
   {
    "duration": 23,
    "start_time": "2021-12-12T18:06:18.439Z"
   },
   {
    "duration": 4477,
    "start_time": "2021-12-12T18:06:45.622Z"
   },
   {
    "duration": 11,
    "start_time": "2021-12-12T18:07:15.824Z"
   },
   {
    "duration": 3416,
    "start_time": "2021-12-12T18:07:34.695Z"
   },
   {
    "duration": 434,
    "start_time": "2021-12-12T18:08:05.865Z"
   },
   {
    "duration": 21,
    "start_time": "2021-12-12T18:08:11.516Z"
   },
   {
    "duration": 22,
    "start_time": "2021-12-12T18:14:20.033Z"
   },
   {
    "duration": 291,
    "start_time": "2021-12-12T18:22:57.654Z"
   },
   {
    "duration": 3899,
    "start_time": "2021-12-12T18:23:14.893Z"
   },
   {
    "duration": 98,
    "start_time": "2021-12-12T18:23:26.911Z"
   },
   {
    "duration": 23,
    "start_time": "2021-12-12T18:23:27.016Z"
   },
   {
    "duration": 16,
    "start_time": "2021-12-12T18:23:27.043Z"
   },
   {
    "duration": 32,
    "start_time": "2021-12-12T18:23:27.063Z"
   },
   {
    "duration": 29,
    "start_time": "2021-12-12T18:23:27.098Z"
   },
   {
    "duration": 31,
    "start_time": "2021-12-12T18:23:27.130Z"
   },
   {
    "duration": 37,
    "start_time": "2021-12-12T18:23:27.163Z"
   },
   {
    "duration": 26,
    "start_time": "2021-12-12T18:23:27.202Z"
   },
   {
    "duration": 32,
    "start_time": "2021-12-12T18:23:27.231Z"
   },
   {
    "duration": 20,
    "start_time": "2021-12-12T18:23:27.266Z"
   },
   {
    "duration": 52,
    "start_time": "2021-12-12T18:23:27.288Z"
   },
   {
    "duration": 8,
    "start_time": "2021-12-12T18:23:27.343Z"
   },
   {
    "duration": 19,
    "start_time": "2021-12-12T18:23:27.354Z"
   },
   {
    "duration": 32,
    "start_time": "2021-12-12T18:23:27.375Z"
   },
   {
    "duration": 20,
    "start_time": "2021-12-12T18:23:27.409Z"
   },
   {
    "duration": 42,
    "start_time": "2021-12-12T18:23:27.431Z"
   },
   {
    "duration": 26,
    "start_time": "2021-12-12T18:23:27.476Z"
   },
   {
    "duration": 17,
    "start_time": "2021-12-12T18:23:27.505Z"
   },
   {
    "duration": 27,
    "start_time": "2021-12-12T18:23:27.524Z"
   },
   {
    "duration": 347,
    "start_time": "2021-12-12T18:23:27.553Z"
   },
   {
    "duration": 25,
    "start_time": "2021-12-12T18:23:27.902Z"
   },
   {
    "duration": 9,
    "start_time": "2021-12-12T18:23:27.930Z"
   },
   {
    "duration": 12,
    "start_time": "2021-12-12T18:23:27.941Z"
   },
   {
    "duration": 7,
    "start_time": "2021-12-12T18:23:27.961Z"
   },
   {
    "duration": 53,
    "start_time": "2021-12-12T18:23:27.972Z"
   },
   {
    "duration": 13,
    "start_time": "2021-12-12T18:23:28.028Z"
   },
   {
    "duration": 13,
    "start_time": "2021-12-12T18:23:28.044Z"
   },
   {
    "duration": 15,
    "start_time": "2021-12-12T18:23:28.061Z"
   },
   {
    "duration": 18,
    "start_time": "2021-12-12T18:23:28.078Z"
   },
   {
    "duration": 21,
    "start_time": "2021-12-12T18:23:28.098Z"
   },
   {
    "duration": 26,
    "start_time": "2021-12-12T18:23:28.122Z"
   },
   {
    "duration": 26,
    "start_time": "2021-12-12T18:23:28.151Z"
   },
   {
    "duration": 9,
    "start_time": "2021-12-12T18:23:28.181Z"
   },
   {
    "duration": 6,
    "start_time": "2021-12-12T18:23:28.218Z"
   },
   {
    "duration": 10,
    "start_time": "2021-12-12T18:23:28.227Z"
   },
   {
    "duration": 16,
    "start_time": "2021-12-12T18:23:28.240Z"
   },
   {
    "duration": 12,
    "start_time": "2021-12-12T18:23:28.259Z"
   },
   {
    "duration": 57,
    "start_time": "2021-12-12T18:23:28.274Z"
   },
   {
    "duration": 9,
    "start_time": "2021-12-12T18:23:28.334Z"
   },
   {
    "duration": 17,
    "start_time": "2021-12-12T18:23:28.346Z"
   },
   {
    "duration": 52,
    "start_time": "2021-12-12T18:23:28.367Z"
   },
   {
    "duration": 7,
    "start_time": "2021-12-12T18:23:28.422Z"
   },
   {
    "duration": 4,
    "start_time": "2021-12-12T18:23:28.434Z"
   },
   {
    "duration": 293,
    "start_time": "2021-12-12T18:23:28.441Z"
   },
   {
    "duration": 6,
    "start_time": "2021-12-12T18:23:28.737Z"
   },
   {
    "duration": 19,
    "start_time": "2021-12-12T18:23:28.746Z"
   },
   {
    "duration": 106,
    "start_time": "2021-12-12T18:23:28.767Z"
   },
   {
    "duration": 6,
    "start_time": "2021-12-12T18:23:28.875Z"
   },
   {
    "duration": 17,
    "start_time": "2021-12-12T18:23:28.883Z"
   },
   {
    "duration": 24,
    "start_time": "2021-12-12T18:23:28.902Z"
   },
   {
    "duration": 32,
    "start_time": "2021-12-12T18:23:28.928Z"
   },
   {
    "duration": 16,
    "start_time": "2021-12-12T18:23:28.963Z"
   },
   {
    "duration": 53,
    "start_time": "2021-12-12T18:23:28.981Z"
   },
   {
    "duration": 15,
    "start_time": "2021-12-12T18:23:29.037Z"
   },
   {
    "duration": 27,
    "start_time": "2021-12-12T18:23:29.054Z"
   },
   {
    "duration": 17,
    "start_time": "2021-12-12T18:23:29.083Z"
   },
   {
    "duration": 20,
    "start_time": "2021-12-12T18:23:29.103Z"
   },
   {
    "duration": 32,
    "start_time": "2021-12-12T18:23:29.125Z"
   },
   {
    "duration": 9,
    "start_time": "2021-12-12T18:23:29.160Z"
   },
   {
    "duration": 61,
    "start_time": "2021-12-12T18:23:29.171Z"
   },
   {
    "duration": 9,
    "start_time": "2021-12-12T18:23:29.235Z"
   },
   {
    "duration": 13,
    "start_time": "2021-12-12T18:23:29.247Z"
   },
   {
    "duration": 3777,
    "start_time": "2021-12-12T18:23:29.263Z"
   },
   {
    "duration": 23,
    "start_time": "2021-12-12T18:23:33.043Z"
   },
   {
    "duration": 16,
    "start_time": "2021-12-12T18:23:33.069Z"
   },
   {
    "duration": 111,
    "start_time": "2021-12-12T18:23:33.088Z"
   },
   {
    "duration": 4569,
    "start_time": "2021-12-12T18:23:33.201Z"
   },
   {
    "duration": 8,
    "start_time": "2021-12-12T18:23:37.778Z"
   },
   {
    "duration": 42,
    "start_time": "2021-12-12T18:23:37.788Z"
   },
   {
    "duration": 23,
    "start_time": "2021-12-12T18:23:37.832Z"
   },
   {
    "duration": 14,
    "start_time": "2021-12-12T18:23:37.858Z"
   },
   {
    "duration": 6,
    "start_time": "2021-12-12T18:23:37.874Z"
   },
   {
    "duration": 368,
    "start_time": "2021-12-12T18:23:37.885Z"
   },
   {
    "duration": 34,
    "start_time": "2021-12-12T18:23:38.255Z"
   },
   {
    "duration": 25,
    "start_time": "2021-12-12T18:23:38.292Z"
   },
   {
    "duration": 67,
    "start_time": "2021-12-12T18:23:38.320Z"
   },
   {
    "duration": 46,
    "start_time": "2021-12-12T18:23:38.390Z"
   },
   {
    "duration": 79,
    "start_time": "2021-12-12T18:23:38.439Z"
   },
   {
    "duration": 9,
    "start_time": "2021-12-12T18:23:38.521Z"
   },
   {
    "duration": 21,
    "start_time": "2021-12-12T18:23:38.533Z"
   },
   {
    "duration": 94,
    "start_time": "2021-12-12T18:23:38.556Z"
   },
   {
    "duration": 21,
    "start_time": "2021-12-12T18:23:38.653Z"
   },
   {
    "duration": 81,
    "start_time": "2021-12-12T18:23:38.676Z"
   },
   {
    "duration": 20,
    "start_time": "2021-12-12T18:23:38.759Z"
   },
   {
    "duration": 11,
    "start_time": "2021-12-12T18:25:36.682Z"
   },
   {
    "duration": 7,
    "start_time": "2021-12-12T18:26:20.395Z"
   },
   {
    "duration": 11,
    "start_time": "2021-12-12T18:26:36.555Z"
   },
   {
    "duration": 10,
    "start_time": "2021-12-12T18:26:47.073Z"
   },
   {
    "duration": 17,
    "start_time": "2021-12-12T18:27:09.036Z"
   },
   {
    "duration": 312,
    "start_time": "2021-12-12T18:27:19.887Z"
   },
   {
    "duration": 6,
    "start_time": "2021-12-12T18:27:28.236Z"
   },
   {
    "duration": 11,
    "start_time": "2021-12-12T18:27:35.817Z"
   },
   {
    "duration": 19,
    "start_time": "2021-12-12T18:27:53.693Z"
   },
   {
    "duration": 18,
    "start_time": "2021-12-12T18:28:09.472Z"
   },
   {
    "duration": 14,
    "start_time": "2021-12-12T18:28:20.778Z"
   },
   {
    "duration": 13,
    "start_time": "2021-12-12T18:28:27.851Z"
   },
   {
    "duration": 13,
    "start_time": "2021-12-12T18:28:41.051Z"
   },
   {
    "duration": 11,
    "start_time": "2021-12-12T18:29:05.707Z"
   },
   {
    "duration": 790,
    "start_time": "2021-12-12T18:29:29.470Z"
   },
   {
    "duration": 24,
    "start_time": "2021-12-12T18:29:30.263Z"
   },
   {
    "duration": 32,
    "start_time": "2021-12-12T18:29:30.291Z"
   },
   {
    "duration": 14,
    "start_time": "2021-12-12T18:29:30.326Z"
   },
   {
    "duration": 16,
    "start_time": "2021-12-12T18:29:30.343Z"
   },
   {
    "duration": 7,
    "start_time": "2021-12-12T18:29:30.362Z"
   },
   {
    "duration": 50,
    "start_time": "2021-12-12T18:29:30.372Z"
   },
   {
    "duration": 12,
    "start_time": "2021-12-12T18:29:30.426Z"
   },
   {
    "duration": 8,
    "start_time": "2021-12-12T18:29:30.441Z"
   },
   {
    "duration": 22,
    "start_time": "2021-12-12T18:29:30.451Z"
   },
   {
    "duration": 45,
    "start_time": "2021-12-12T18:29:30.475Z"
   },
   {
    "duration": 7,
    "start_time": "2021-12-12T18:29:30.522Z"
   },
   {
    "duration": 25,
    "start_time": "2021-12-12T18:29:30.531Z"
   },
   {
    "duration": 19,
    "start_time": "2021-12-12T18:29:30.559Z"
   },
   {
    "duration": 18,
    "start_time": "2021-12-12T18:29:30.580Z"
   },
   {
    "duration": 23,
    "start_time": "2021-12-12T18:29:30.601Z"
   },
   {
    "duration": 27,
    "start_time": "2021-12-12T18:29:30.627Z"
   },
   {
    "duration": 21,
    "start_time": "2021-12-12T18:29:30.657Z"
   },
   {
    "duration": 11,
    "start_time": "2021-12-12T18:29:30.681Z"
   },
   {
    "duration": 300,
    "start_time": "2021-12-12T18:29:30.694Z"
   },
   {
    "duration": 20,
    "start_time": "2021-12-12T18:29:30.997Z"
   },
   {
    "duration": 37,
    "start_time": "2021-12-12T18:29:31.020Z"
   },
   {
    "duration": 32,
    "start_time": "2021-12-12T18:29:31.065Z"
   },
   {
    "duration": 40,
    "start_time": "2021-12-12T18:29:31.102Z"
   },
   {
    "duration": 67,
    "start_time": "2021-12-12T18:29:31.145Z"
   },
   {
    "duration": 74,
    "start_time": "2021-12-12T18:29:31.215Z"
   },
   {
    "duration": 31,
    "start_time": "2021-12-12T18:29:31.292Z"
   },
   {
    "duration": 38,
    "start_time": "2021-12-12T18:29:31.326Z"
   },
   {
    "duration": 34,
    "start_time": "2021-12-12T18:29:31.367Z"
   },
   {
    "duration": 18,
    "start_time": "2021-12-12T18:29:31.403Z"
   },
   {
    "duration": 37,
    "start_time": "2021-12-12T18:29:31.424Z"
   },
   {
    "duration": 26,
    "start_time": "2021-12-12T18:29:31.464Z"
   },
   {
    "duration": 7,
    "start_time": "2021-12-12T18:29:31.493Z"
   },
   {
    "duration": 41,
    "start_time": "2021-12-12T18:29:31.503Z"
   },
   {
    "duration": 22,
    "start_time": "2021-12-12T18:29:31.546Z"
   },
   {
    "duration": 26,
    "start_time": "2021-12-12T18:29:31.571Z"
   },
   {
    "duration": 14,
    "start_time": "2021-12-12T18:29:31.599Z"
   },
   {
    "duration": 30,
    "start_time": "2021-12-12T18:29:31.616Z"
   },
   {
    "duration": 7,
    "start_time": "2021-12-12T18:29:31.649Z"
   },
   {
    "duration": 13,
    "start_time": "2021-12-12T18:29:31.658Z"
   },
   {
    "duration": 16,
    "start_time": "2021-12-12T18:29:31.673Z"
   },
   {
    "duration": 27,
    "start_time": "2021-12-12T18:29:31.692Z"
   },
   {
    "duration": 13,
    "start_time": "2021-12-12T18:29:31.721Z"
   },
   {
    "duration": 264,
    "start_time": "2021-12-12T18:29:31.737Z"
   },
   {
    "duration": 14,
    "start_time": "2021-12-12T18:29:32.004Z"
   },
   {
    "duration": 18,
    "start_time": "2021-12-12T18:29:32.022Z"
   },
   {
    "duration": 114,
    "start_time": "2021-12-12T18:29:32.043Z"
   },
   {
    "duration": 6,
    "start_time": "2021-12-12T18:29:32.160Z"
   },
   {
    "duration": 9,
    "start_time": "2021-12-12T18:29:32.168Z"
   },
   {
    "duration": 37,
    "start_time": "2021-12-12T18:29:32.180Z"
   },
   {
    "duration": 26,
    "start_time": "2021-12-12T18:29:32.220Z"
   },
   {
    "duration": 15,
    "start_time": "2021-12-12T18:29:32.249Z"
   },
   {
    "duration": 11,
    "start_time": "2021-12-12T18:29:32.267Z"
   },
   {
    "duration": 6,
    "start_time": "2021-12-12T18:29:32.317Z"
   },
   {
    "duration": 25,
    "start_time": "2021-12-12T18:29:32.326Z"
   },
   {
    "duration": 16,
    "start_time": "2021-12-12T18:29:32.354Z"
   },
   {
    "duration": 7,
    "start_time": "2021-12-12T18:29:32.373Z"
   },
   {
    "duration": 54,
    "start_time": "2021-12-12T18:29:32.382Z"
   },
   {
    "duration": 8,
    "start_time": "2021-12-12T18:29:32.438Z"
   },
   {
    "duration": 44,
    "start_time": "2021-12-12T18:29:32.449Z"
   },
   {
    "duration": 8,
    "start_time": "2021-12-12T18:29:32.518Z"
   },
   {
    "duration": 15,
    "start_time": "2021-12-12T18:29:32.528Z"
   },
   {
    "duration": 3671,
    "start_time": "2021-12-12T18:29:32.546Z"
   },
   {
    "duration": 36,
    "start_time": "2021-12-12T18:29:36.220Z"
   },
   {
    "duration": 6,
    "start_time": "2021-12-12T18:29:36.258Z"
   },
   {
    "duration": 112,
    "start_time": "2021-12-12T18:29:36.266Z"
   },
   {
    "duration": 4292,
    "start_time": "2021-12-12T18:29:36.381Z"
   },
   {
    "duration": 7,
    "start_time": "2021-12-12T18:29:40.683Z"
   },
   {
    "duration": 40,
    "start_time": "2021-12-12T18:29:40.694Z"
   },
   {
    "duration": 16,
    "start_time": "2021-12-12T18:29:40.737Z"
   },
   {
    "duration": 12,
    "start_time": "2021-12-12T18:29:40.756Z"
   },
   {
    "duration": 47,
    "start_time": "2021-12-12T18:29:40.770Z"
   },
   {
    "duration": 299,
    "start_time": "2021-12-12T18:29:40.820Z"
   },
   {
    "duration": 27,
    "start_time": "2021-12-12T18:29:41.121Z"
   },
   {
    "duration": 8,
    "start_time": "2021-12-12T18:29:41.150Z"
   },
   {
    "duration": 149,
    "start_time": "2021-12-12T18:29:41.160Z"
   },
   {
    "duration": 28,
    "start_time": "2021-12-12T18:29:41.311Z"
   },
   {
    "duration": 83,
    "start_time": "2021-12-12T18:29:41.342Z"
   },
   {
    "duration": 9,
    "start_time": "2021-12-12T18:29:41.427Z"
   },
   {
    "duration": 19,
    "start_time": "2021-12-12T18:29:41.438Z"
   },
   {
    "duration": 87,
    "start_time": "2021-12-12T18:29:41.460Z"
   },
   {
    "duration": 21,
    "start_time": "2021-12-12T18:29:41.549Z"
   },
   {
    "duration": 74,
    "start_time": "2021-12-12T18:29:41.572Z"
   },
   {
    "duration": 18,
    "start_time": "2021-12-12T18:29:41.649Z"
   },
   {
    "duration": 415,
    "start_time": "2021-12-12T18:30:02.111Z"
   },
   {
    "duration": 6,
    "start_time": "2021-12-12T18:30:12.166Z"
   },
   {
    "duration": 14,
    "start_time": "2021-12-12T18:30:39.010Z"
   },
   {
    "duration": 18,
    "start_time": "2021-12-12T18:30:49.954Z"
   },
   {
    "duration": 28,
    "start_time": "2021-12-12T18:30:54.637Z"
   },
   {
    "duration": 18,
    "start_time": "2021-12-12T18:31:13.105Z"
   },
   {
    "duration": 17,
    "start_time": "2021-12-12T18:31:26.755Z"
   },
   {
    "duration": 10,
    "start_time": "2021-12-12T18:32:07.679Z"
   },
   {
    "duration": 10,
    "start_time": "2021-12-12T18:32:34.991Z"
   },
   {
    "duration": 5370,
    "start_time": "2021-12-12T18:32:53.666Z"
   },
   {
    "duration": 4480,
    "start_time": "2021-12-12T18:33:02.329Z"
   },
   {
    "duration": 893,
    "start_time": "2021-12-12T18:33:20.687Z"
   },
   {
    "duration": 55,
    "start_time": "2021-12-12T18:33:21.584Z"
   },
   {
    "duration": 23,
    "start_time": "2021-12-12T18:33:21.644Z"
   },
   {
    "duration": 17,
    "start_time": "2021-12-12T18:33:21.670Z"
   },
   {
    "duration": 35,
    "start_time": "2021-12-12T18:33:21.690Z"
   },
   {
    "duration": 24,
    "start_time": "2021-12-12T18:33:21.729Z"
   },
   {
    "duration": 18,
    "start_time": "2021-12-12T18:33:21.757Z"
   },
   {
    "duration": 37,
    "start_time": "2021-12-12T18:33:21.782Z"
   },
   {
    "duration": 8,
    "start_time": "2021-12-12T18:33:21.823Z"
   },
   {
    "duration": 6,
    "start_time": "2021-12-12T18:33:21.834Z"
   },
   {
    "duration": 34,
    "start_time": "2021-12-12T18:33:21.843Z"
   },
   {
    "duration": 11,
    "start_time": "2021-12-12T18:33:21.916Z"
   },
   {
    "duration": 25,
    "start_time": "2021-12-12T18:33:21.930Z"
   },
   {
    "duration": 8,
    "start_time": "2021-12-12T18:33:21.958Z"
   },
   {
    "duration": 49,
    "start_time": "2021-12-12T18:33:21.970Z"
   },
   {
    "duration": 19,
    "start_time": "2021-12-12T18:33:22.022Z"
   },
   {
    "duration": 48,
    "start_time": "2021-12-12T18:33:22.044Z"
   },
   {
    "duration": 44,
    "start_time": "2021-12-12T18:33:22.095Z"
   },
   {
    "duration": 7,
    "start_time": "2021-12-12T18:33:22.143Z"
   },
   {
    "duration": 446,
    "start_time": "2021-12-12T18:33:22.155Z"
   },
   {
    "duration": 25,
    "start_time": "2021-12-12T18:33:22.604Z"
   },
   {
    "duration": 11,
    "start_time": "2021-12-12T18:33:22.632Z"
   },
   {
    "duration": 20,
    "start_time": "2021-12-12T18:33:22.654Z"
   },
   {
    "duration": 49,
    "start_time": "2021-12-12T18:33:22.679Z"
   },
   {
    "duration": 27,
    "start_time": "2021-12-12T18:33:22.735Z"
   },
   {
    "duration": 10,
    "start_time": "2021-12-12T18:33:22.766Z"
   },
   {
    "duration": 48,
    "start_time": "2021-12-12T18:33:22.779Z"
   },
   {
    "duration": 9,
    "start_time": "2021-12-12T18:33:22.833Z"
   },
   {
    "duration": 7,
    "start_time": "2021-12-12T18:33:22.852Z"
   },
   {
    "duration": 15,
    "start_time": "2021-12-12T18:33:22.862Z"
   },
   {
    "duration": 62,
    "start_time": "2021-12-12T18:33:22.880Z"
   },
   {
    "duration": 22,
    "start_time": "2021-12-12T18:33:22.946Z"
   },
   {
    "duration": 10,
    "start_time": "2021-12-12T18:33:22.971Z"
   },
   {
    "duration": 41,
    "start_time": "2021-12-12T18:33:22.984Z"
   },
   {
    "duration": 35,
    "start_time": "2021-12-12T18:33:23.028Z"
   },
   {
    "duration": 15,
    "start_time": "2021-12-12T18:33:23.066Z"
   },
   {
    "duration": 46,
    "start_time": "2021-12-12T18:33:23.084Z"
   },
   {
    "duration": 29,
    "start_time": "2021-12-12T18:33:23.133Z"
   },
   {
    "duration": 7,
    "start_time": "2021-12-12T18:33:23.164Z"
   },
   {
    "duration": 44,
    "start_time": "2021-12-12T18:33:23.173Z"
   },
   {
    "duration": 25,
    "start_time": "2021-12-12T18:33:23.221Z"
   },
   {
    "duration": 8,
    "start_time": "2021-12-12T18:33:23.250Z"
   },
   {
    "duration": 13,
    "start_time": "2021-12-12T18:33:23.262Z"
   },
   {
    "duration": 481,
    "start_time": "2021-12-12T18:33:23.277Z"
   },
   {
    "duration": 6,
    "start_time": "2021-12-12T18:33:23.761Z"
   },
   {
    "duration": 46,
    "start_time": "2021-12-12T18:33:23.771Z"
   },
   {
    "duration": 83,
    "start_time": "2021-12-12T18:33:23.820Z"
   },
   {
    "duration": 6,
    "start_time": "2021-12-12T18:33:23.917Z"
   },
   {
    "duration": 8,
    "start_time": "2021-12-12T18:33:23.925Z"
   },
   {
    "duration": 13,
    "start_time": "2021-12-12T18:33:23.936Z"
   },
   {
    "duration": 67,
    "start_time": "2021-12-12T18:33:23.952Z"
   },
   {
    "duration": 22,
    "start_time": "2021-12-12T18:33:24.022Z"
   },
   {
    "duration": 12,
    "start_time": "2021-12-12T18:33:24.047Z"
   },
   {
    "duration": 8,
    "start_time": "2021-12-12T18:33:24.062Z"
   },
   {
    "duration": 65,
    "start_time": "2021-12-12T18:33:24.072Z"
   },
   {
    "duration": 25,
    "start_time": "2021-12-12T18:33:24.140Z"
   },
   {
    "duration": 12,
    "start_time": "2021-12-12T18:33:24.168Z"
   },
   {
    "duration": 53,
    "start_time": "2021-12-12T18:33:24.184Z"
   },
   {
    "duration": 9,
    "start_time": "2021-12-12T18:33:24.239Z"
   },
   {
    "duration": 67,
    "start_time": "2021-12-12T18:33:24.251Z"
   },
   {
    "duration": 9,
    "start_time": "2021-12-12T18:33:24.322Z"
   },
   {
    "duration": 12,
    "start_time": "2021-12-12T18:33:24.333Z"
   },
   {
    "duration": 4077,
    "start_time": "2021-12-12T18:33:24.347Z"
   },
   {
    "duration": 28,
    "start_time": "2021-12-12T18:33:28.427Z"
   },
   {
    "duration": 9,
    "start_time": "2021-12-12T18:33:28.457Z"
   },
   {
    "duration": 119,
    "start_time": "2021-12-12T18:33:28.469Z"
   },
   {
    "duration": 3959,
    "start_time": "2021-12-12T18:33:28.591Z"
   },
   {
    "duration": 9,
    "start_time": "2021-12-12T18:33:32.557Z"
   },
   {
    "duration": 33,
    "start_time": "2021-12-12T18:33:32.568Z"
   },
   {
    "duration": 25,
    "start_time": "2021-12-12T18:33:32.603Z"
   },
   {
    "duration": 10,
    "start_time": "2021-12-12T18:33:32.631Z"
   },
   {
    "duration": 8,
    "start_time": "2021-12-12T18:33:32.644Z"
   },
   {
    "duration": 328,
    "start_time": "2021-12-12T18:33:32.655Z"
   },
   {
    "duration": 41,
    "start_time": "2021-12-12T18:33:32.986Z"
   },
   {
    "duration": 8,
    "start_time": "2021-12-12T18:33:33.030Z"
   },
   {
    "duration": 94,
    "start_time": "2021-12-12T18:33:33.041Z"
   },
   {
    "duration": 21,
    "start_time": "2021-12-12T18:33:33.138Z"
   },
   {
    "duration": 81,
    "start_time": "2021-12-12T18:33:33.162Z"
   },
   {
    "duration": 11,
    "start_time": "2021-12-12T18:33:33.246Z"
   },
   {
    "duration": 24,
    "start_time": "2021-12-12T18:33:33.259Z"
   },
   {
    "duration": 80,
    "start_time": "2021-12-12T18:33:33.285Z"
   },
   {
    "duration": 22,
    "start_time": "2021-12-12T18:33:33.368Z"
   },
   {
    "duration": 78,
    "start_time": "2021-12-12T18:33:33.393Z"
   },
   {
    "duration": 19,
    "start_time": "2021-12-12T18:33:33.474Z"
   },
   {
    "duration": 10,
    "start_time": "2021-12-12T18:35:22.394Z"
   },
   {
    "duration": 16,
    "start_time": "2021-12-12T18:35:56.935Z"
   },
   {
    "duration": 524,
    "start_time": "2021-12-12T18:36:16.315Z"
   },
   {
    "duration": 57,
    "start_time": "2021-12-12T18:36:20.664Z"
   },
   {
    "duration": 11,
    "start_time": "2021-12-12T18:37:08.627Z"
   },
   {
    "duration": 944,
    "start_time": "2021-12-12T18:45:00.900Z"
   },
   {
    "duration": 22,
    "start_time": "2021-12-12T18:45:01.847Z"
   },
   {
    "duration": 11,
    "start_time": "2021-12-12T18:45:01.872Z"
   },
   {
    "duration": 37,
    "start_time": "2021-12-12T18:45:01.886Z"
   },
   {
    "duration": 14,
    "start_time": "2021-12-12T18:45:01.926Z"
   },
   {
    "duration": 8,
    "start_time": "2021-12-12T18:45:01.943Z"
   },
   {
    "duration": 15,
    "start_time": "2021-12-12T18:45:01.954Z"
   },
   {
    "duration": 31,
    "start_time": "2021-12-12T18:45:02.018Z"
   },
   {
    "duration": 6,
    "start_time": "2021-12-12T18:45:02.053Z"
   },
   {
    "duration": 8,
    "start_time": "2021-12-12T18:45:02.062Z"
   },
   {
    "duration": 54,
    "start_time": "2021-12-12T18:45:02.072Z"
   },
   {
    "duration": 10,
    "start_time": "2021-12-12T18:45:02.129Z"
   },
   {
    "duration": 13,
    "start_time": "2021-12-12T18:45:02.141Z"
   },
   {
    "duration": 9,
    "start_time": "2021-12-12T18:45:02.157Z"
   },
   {
    "duration": 8,
    "start_time": "2021-12-12T18:45:02.168Z"
   },
   {
    "duration": 15,
    "start_time": "2021-12-12T18:45:02.218Z"
   },
   {
    "duration": 26,
    "start_time": "2021-12-12T18:45:02.236Z"
   },
   {
    "duration": 13,
    "start_time": "2021-12-12T18:45:02.265Z"
   },
   {
    "duration": 5,
    "start_time": "2021-12-12T18:45:02.317Z"
   },
   {
    "duration": 336,
    "start_time": "2021-12-12T18:45:02.325Z"
   },
   {
    "duration": 13,
    "start_time": "2021-12-12T18:45:02.664Z"
   },
   {
    "duration": 37,
    "start_time": "2021-12-12T18:45:02.680Z"
   },
   {
    "duration": 13,
    "start_time": "2021-12-12T18:45:02.725Z"
   },
   {
    "duration": 8,
    "start_time": "2021-12-12T18:45:02.742Z"
   },
   {
    "duration": 14,
    "start_time": "2021-12-12T18:45:02.752Z"
   },
   {
    "duration": 6,
    "start_time": "2021-12-12T18:45:02.768Z"
   },
   {
    "duration": 56,
    "start_time": "2021-12-12T18:45:02.777Z"
   },
   {
    "duration": 6,
    "start_time": "2021-12-12T18:45:02.838Z"
   },
   {
    "duration": 12,
    "start_time": "2021-12-12T18:45:02.846Z"
   },
   {
    "duration": 12,
    "start_time": "2021-12-12T18:45:02.860Z"
   },
   {
    "duration": 62,
    "start_time": "2021-12-12T18:45:02.874Z"
   },
   {
    "duration": 16,
    "start_time": "2021-12-12T18:45:02.938Z"
   },
   {
    "duration": 7,
    "start_time": "2021-12-12T18:45:02.956Z"
   },
   {
    "duration": 8,
    "start_time": "2021-12-12T18:45:02.966Z"
   },
   {
    "duration": 41,
    "start_time": "2021-12-12T18:45:02.976Z"
   },
   {
    "duration": 17,
    "start_time": "2021-12-12T18:45:03.020Z"
   },
   {
    "duration": 16,
    "start_time": "2021-12-12T18:45:03.040Z"
   },
   {
    "duration": 19,
    "start_time": "2021-12-12T18:45:03.058Z"
   },
   {
    "duration": 6,
    "start_time": "2021-12-12T18:45:03.118Z"
   },
   {
    "duration": 13,
    "start_time": "2021-12-12T18:45:03.126Z"
   },
   {
    "duration": 17,
    "start_time": "2021-12-12T18:45:03.141Z"
   },
   {
    "duration": 6,
    "start_time": "2021-12-12T18:45:03.160Z"
   },
   {
    "duration": 49,
    "start_time": "2021-12-12T18:45:03.169Z"
   },
   {
    "duration": 95,
    "start_time": "2021-12-12T18:45:03.222Z"
   },
   {
    "duration": 8,
    "start_time": "2021-12-12T18:45:03.321Z"
   },
   {
    "duration": 20,
    "start_time": "2021-12-12T18:45:03.332Z"
   },
   {
    "duration": 199,
    "start_time": "2021-12-12T18:45:03.418Z"
   },
   {
    "duration": 9,
    "start_time": "2021-12-12T18:45:03.620Z"
   },
   {
    "duration": 13,
    "start_time": "2021-12-12T18:45:03.633Z"
   },
   {
    "duration": 68,
    "start_time": "2021-12-12T18:45:03.649Z"
   },
   {
    "duration": 30,
    "start_time": "2021-12-12T18:45:03.720Z"
   },
   {
    "duration": 66,
    "start_time": "2021-12-12T18:45:03.753Z"
   },
   {
    "duration": 10,
    "start_time": "2021-12-12T18:45:03.821Z"
   },
   {
    "duration": 8,
    "start_time": "2021-12-12T18:45:03.834Z"
   },
   {
    "duration": 72,
    "start_time": "2021-12-12T18:45:03.845Z"
   },
   {
    "duration": 17,
    "start_time": "2021-12-12T18:45:03.919Z"
   },
   {
    "duration": 12,
    "start_time": "2021-12-12T18:45:03.939Z"
   },
   {
    "duration": 84,
    "start_time": "2021-12-12T18:45:03.953Z"
   },
   {
    "duration": 13,
    "start_time": "2021-12-12T18:45:04.040Z"
   },
   {
    "duration": 98,
    "start_time": "2021-12-12T18:45:04.056Z"
   },
   {
    "duration": 62,
    "start_time": "2021-12-12T18:45:04.157Z"
   },
   {
    "duration": 9,
    "start_time": "2021-12-12T18:45:04.222Z"
   },
   {
    "duration": 4136,
    "start_time": "2021-12-12T18:45:04.235Z"
   },
   {
    "duration": 43,
    "start_time": "2021-12-12T18:45:08.373Z"
   },
   {
    "duration": 6,
    "start_time": "2021-12-12T18:45:08.420Z"
   },
   {
    "duration": 116,
    "start_time": "2021-12-12T18:45:08.430Z"
   },
   {
    "duration": 4719,
    "start_time": "2021-12-12T18:45:08.549Z"
   },
   {
    "duration": 12,
    "start_time": "2021-12-12T18:45:13.277Z"
   },
   {
    "duration": 51,
    "start_time": "2021-12-12T18:45:13.292Z"
   },
   {
    "duration": 15,
    "start_time": "2021-12-12T18:45:13.383Z"
   },
   {
    "duration": 15,
    "start_time": "2021-12-12T18:45:13.401Z"
   },
   {
    "duration": 6,
    "start_time": "2021-12-12T18:45:13.419Z"
   },
   {
    "duration": 353,
    "start_time": "2021-12-12T18:45:13.427Z"
   },
   {
    "duration": 35,
    "start_time": "2021-12-12T18:45:13.782Z"
   },
   {
    "duration": 8,
    "start_time": "2021-12-12T18:45:13.820Z"
   },
   {
    "duration": 88,
    "start_time": "2021-12-12T18:45:13.833Z"
   },
   {
    "duration": 21,
    "start_time": "2021-12-12T18:45:13.923Z"
   },
   {
    "duration": 86,
    "start_time": "2021-12-12T18:45:13.946Z"
   },
   {
    "duration": 8,
    "start_time": "2021-12-12T18:45:14.034Z"
   },
   {
    "duration": 29,
    "start_time": "2021-12-12T18:45:14.044Z"
   },
   {
    "duration": 101,
    "start_time": "2021-12-12T18:45:14.075Z"
   },
   {
    "duration": 41,
    "start_time": "2021-12-12T18:45:14.179Z"
   },
   {
    "duration": 59,
    "start_time": "2021-12-12T18:45:14.222Z"
   },
   {
    "duration": 47,
    "start_time": "2021-12-12T18:45:14.283Z"
   },
   {
    "duration": 812,
    "start_time": "2021-12-12T18:46:13.543Z"
   },
   {
    "duration": 60,
    "start_time": "2021-12-12T18:46:26.516Z"
   },
   {
    "duration": 8,
    "start_time": "2021-12-12T18:46:31.219Z"
   },
   {
    "duration": 808,
    "start_time": "2021-12-12T18:46:50.544Z"
   },
   {
    "duration": 21,
    "start_time": "2021-12-12T18:46:51.355Z"
   },
   {
    "duration": 11,
    "start_time": "2021-12-12T18:46:51.379Z"
   },
   {
    "duration": 32,
    "start_time": "2021-12-12T18:46:51.394Z"
   },
   {
    "duration": 15,
    "start_time": "2021-12-12T18:46:51.429Z"
   },
   {
    "duration": 7,
    "start_time": "2021-12-12T18:46:51.447Z"
   },
   {
    "duration": 62,
    "start_time": "2021-12-12T18:46:51.457Z"
   },
   {
    "duration": 12,
    "start_time": "2021-12-12T18:46:51.525Z"
   },
   {
    "duration": 6,
    "start_time": "2021-12-12T18:46:51.541Z"
   },
   {
    "duration": 10,
    "start_time": "2021-12-12T18:46:51.551Z"
   },
   {
    "duration": 69,
    "start_time": "2021-12-12T18:46:51.563Z"
   },
   {
    "duration": 8,
    "start_time": "2021-12-12T18:46:51.634Z"
   },
   {
    "duration": 12,
    "start_time": "2021-12-12T18:46:51.645Z"
   },
   {
    "duration": 8,
    "start_time": "2021-12-12T18:46:51.661Z"
   },
   {
    "duration": 49,
    "start_time": "2021-12-12T18:46:51.671Z"
   },
   {
    "duration": 15,
    "start_time": "2021-12-12T18:46:51.723Z"
   },
   {
    "duration": 24,
    "start_time": "2021-12-12T18:46:51.740Z"
   },
   {
    "duration": 51,
    "start_time": "2021-12-12T18:46:51.766Z"
   },
   {
    "duration": 5,
    "start_time": "2021-12-12T18:46:51.819Z"
   },
   {
    "duration": 518,
    "start_time": "2021-12-12T18:46:51.827Z"
   },
   {
    "duration": 12,
    "start_time": "2021-12-12T18:46:52.347Z"
   },
   {
    "duration": 9,
    "start_time": "2021-12-12T18:46:52.361Z"
   },
   {
    "duration": 45,
    "start_time": "2021-12-12T18:46:52.377Z"
   },
   {
    "duration": 7,
    "start_time": "2021-12-12T18:46:52.427Z"
   },
   {
    "duration": 14,
    "start_time": "2021-12-12T18:46:52.437Z"
   },
   {
    "duration": 7,
    "start_time": "2021-12-12T18:46:52.454Z"
   },
   {
    "duration": 9,
    "start_time": "2021-12-12T18:46:52.464Z"
   },
   {
    "duration": 5,
    "start_time": "2021-12-12T18:46:52.518Z"
   },
   {
    "duration": 10,
    "start_time": "2021-12-12T18:46:52.525Z"
   },
   {
    "duration": 8,
    "start_time": "2021-12-12T18:46:52.538Z"
   },
   {
    "duration": 21,
    "start_time": "2021-12-12T18:46:52.548Z"
   },
   {
    "duration": 56,
    "start_time": "2021-12-12T18:46:52.571Z"
   },
   {
    "duration": 7,
    "start_time": "2021-12-12T18:46:52.629Z"
   },
   {
    "duration": 5,
    "start_time": "2021-12-12T18:46:52.638Z"
   },
   {
    "duration": 6,
    "start_time": "2021-12-12T18:46:52.646Z"
   },
   {
    "duration": 14,
    "start_time": "2021-12-12T18:46:52.655Z"
   },
   {
    "duration": 56,
    "start_time": "2021-12-12T18:46:52.672Z"
   },
   {
    "duration": 20,
    "start_time": "2021-12-12T18:46:52.730Z"
   },
   {
    "duration": 5,
    "start_time": "2021-12-12T18:46:52.752Z"
   },
   {
    "duration": 13,
    "start_time": "2021-12-12T18:46:52.760Z"
   },
   {
    "duration": 53,
    "start_time": "2021-12-12T18:46:52.775Z"
   },
   {
    "duration": 6,
    "start_time": "2021-12-12T18:46:52.830Z"
   },
   {
    "duration": 5,
    "start_time": "2021-12-12T18:46:52.838Z"
   },
   {
    "duration": 81,
    "start_time": "2021-12-12T18:46:52.846Z"
   },
   {
    "duration": 5,
    "start_time": "2021-12-12T18:46:52.930Z"
   },
   {
    "duration": 18,
    "start_time": "2021-12-12T18:46:52.938Z"
   },
   {
    "duration": 108,
    "start_time": "2021-12-12T18:46:52.959Z"
   },
   {
    "duration": 6,
    "start_time": "2021-12-12T18:46:53.070Z"
   },
   {
    "duration": 13,
    "start_time": "2021-12-12T18:46:53.079Z"
   },
   {
    "duration": 29,
    "start_time": "2021-12-12T18:46:53.095Z"
   },
   {
    "duration": 28,
    "start_time": "2021-12-12T18:46:53.127Z"
   },
   {
    "duration": 16,
    "start_time": "2021-12-12T18:46:53.157Z"
   },
   {
    "duration": 44,
    "start_time": "2021-12-12T18:46:53.175Z"
   },
   {
    "duration": 8,
    "start_time": "2021-12-12T18:46:53.221Z"
   },
   {
    "duration": 20,
    "start_time": "2021-12-12T18:46:53.231Z"
   },
   {
    "duration": 17,
    "start_time": "2021-12-12T18:46:53.253Z"
   },
   {
    "duration": 52,
    "start_time": "2021-12-12T18:46:53.272Z"
   },
   {
    "duration": 23,
    "start_time": "2021-12-12T18:46:53.326Z"
   },
   {
    "duration": 9,
    "start_time": "2021-12-12T18:46:53.352Z"
   },
   {
    "duration": 93,
    "start_time": "2021-12-12T18:46:53.364Z"
   },
   {
    "duration": 8,
    "start_time": "2021-12-12T18:46:53.460Z"
   },
   {
    "duration": 12,
    "start_time": "2021-12-12T18:46:53.471Z"
   },
   {
    "duration": 3847,
    "start_time": "2021-12-12T18:46:53.486Z"
   },
   {
    "duration": 36,
    "start_time": "2021-12-12T18:46:57.336Z"
   },
   {
    "duration": 7,
    "start_time": "2021-12-12T18:46:57.375Z"
   },
   {
    "duration": 108,
    "start_time": "2021-12-12T18:46:57.385Z"
   },
   {
    "duration": 4127,
    "start_time": "2021-12-12T18:46:57.497Z"
   },
   {
    "duration": 10,
    "start_time": "2021-12-12T18:47:01.631Z"
   },
   {
    "duration": 76,
    "start_time": "2021-12-12T18:47:01.644Z"
   },
   {
    "duration": 15,
    "start_time": "2021-12-12T18:47:01.722Z"
   },
   {
    "duration": 16,
    "start_time": "2021-12-12T18:47:01.740Z"
   },
   {
    "duration": 4,
    "start_time": "2021-12-12T18:47:01.759Z"
   },
   {
    "duration": 513,
    "start_time": "2021-12-12T18:47:01.817Z"
   },
   {
    "duration": 21,
    "start_time": "2021-12-12T18:47:02.332Z"
   },
   {
    "duration": 8,
    "start_time": "2021-12-12T18:47:02.356Z"
   },
   {
    "duration": 96,
    "start_time": "2021-12-12T18:47:02.366Z"
   },
   {
    "duration": 19,
    "start_time": "2021-12-12T18:47:02.464Z"
   },
   {
    "duration": 73,
    "start_time": "2021-12-12T18:47:02.485Z"
   },
   {
    "duration": 9,
    "start_time": "2021-12-12T18:47:02.560Z"
   },
   {
    "duration": 48,
    "start_time": "2021-12-12T18:47:02.571Z"
   },
   {
    "duration": 56,
    "start_time": "2021-12-12T18:47:02.622Z"
   },
   {
    "duration": 48,
    "start_time": "2021-12-12T18:47:02.680Z"
   },
   {
    "duration": 55,
    "start_time": "2021-12-12T18:47:02.730Z"
   },
   {
    "duration": 40,
    "start_time": "2021-12-12T18:47:02.787Z"
   },
   {
    "duration": 860,
    "start_time": "2021-12-12T18:53:30.633Z"
   },
   {
    "duration": 31,
    "start_time": "2021-12-12T18:53:31.495Z"
   },
   {
    "duration": 14,
    "start_time": "2021-12-12T18:53:31.529Z"
   },
   {
    "duration": 10,
    "start_time": "2021-12-12T18:53:31.546Z"
   },
   {
    "duration": 13,
    "start_time": "2021-12-12T18:53:31.558Z"
   },
   {
    "duration": 45,
    "start_time": "2021-12-12T18:53:31.574Z"
   },
   {
    "duration": 11,
    "start_time": "2021-12-12T18:53:31.622Z"
   },
   {
    "duration": 12,
    "start_time": "2021-12-12T18:53:31.637Z"
   },
   {
    "duration": 6,
    "start_time": "2021-12-12T18:53:31.653Z"
   },
   {
    "duration": 4,
    "start_time": "2021-12-12T18:53:31.662Z"
   },
   {
    "duration": 78,
    "start_time": "2021-12-12T18:53:31.668Z"
   },
   {
    "duration": 8,
    "start_time": "2021-12-12T18:53:31.749Z"
   },
   {
    "duration": 13,
    "start_time": "2021-12-12T18:53:31.760Z"
   },
   {
    "duration": 46,
    "start_time": "2021-12-12T18:53:31.776Z"
   },
   {
    "duration": 8,
    "start_time": "2021-12-12T18:53:31.825Z"
   },
   {
    "duration": 17,
    "start_time": "2021-12-12T18:53:31.836Z"
   },
   {
    "duration": 64,
    "start_time": "2021-12-12T18:53:31.856Z"
   },
   {
    "duration": 16,
    "start_time": "2021-12-12T18:53:31.923Z"
   },
   {
    "duration": 6,
    "start_time": "2021-12-12T18:53:31.942Z"
   },
   {
    "duration": 509,
    "start_time": "2021-12-12T18:53:31.951Z"
   },
   {
    "duration": 16,
    "start_time": "2021-12-12T18:53:32.463Z"
   },
   {
    "duration": 11,
    "start_time": "2021-12-12T18:53:32.482Z"
   },
   {
    "duration": 16,
    "start_time": "2021-12-12T18:53:32.525Z"
   },
   {
    "duration": 6,
    "start_time": "2021-12-12T18:53:32.546Z"
   },
   {
    "duration": 12,
    "start_time": "2021-12-12T18:53:32.555Z"
   },
   {
    "duration": 49,
    "start_time": "2021-12-12T18:53:32.570Z"
   },
   {
    "duration": 9,
    "start_time": "2021-12-12T18:53:32.622Z"
   },
   {
    "duration": 7,
    "start_time": "2021-12-12T18:53:32.635Z"
   },
   {
    "duration": 13,
    "start_time": "2021-12-12T18:53:32.645Z"
   },
   {
    "duration": 8,
    "start_time": "2021-12-12T18:53:32.661Z"
   },
   {
    "duration": 60,
    "start_time": "2021-12-12T18:53:32.671Z"
   },
   {
    "duration": 17,
    "start_time": "2021-12-12T18:53:32.734Z"
   },
   {
    "duration": 10,
    "start_time": "2021-12-12T18:53:32.754Z"
   },
   {
    "duration": 50,
    "start_time": "2021-12-12T18:53:32.767Z"
   },
   {
    "duration": 7,
    "start_time": "2021-12-12T18:53:32.820Z"
   },
   {
    "duration": 17,
    "start_time": "2021-12-12T18:53:32.830Z"
   },
   {
    "duration": 15,
    "start_time": "2021-12-12T18:53:32.850Z"
   },
   {
    "duration": 62,
    "start_time": "2021-12-12T18:53:32.868Z"
   },
   {
    "duration": 6,
    "start_time": "2021-12-12T18:53:32.933Z"
   },
   {
    "duration": 13,
    "start_time": "2021-12-12T18:53:32.941Z"
   },
   {
    "duration": 15,
    "start_time": "2021-12-12T18:53:32.957Z"
   },
   {
    "duration": 45,
    "start_time": "2021-12-12T18:53:32.975Z"
   },
   {
    "duration": 3,
    "start_time": "2021-12-12T18:53:33.024Z"
   },
   {
    "duration": 66,
    "start_time": "2021-12-12T18:53:33.030Z"
   },
   {
    "duration": 6,
    "start_time": "2021-12-12T18:53:33.098Z"
   },
   {
    "duration": 27,
    "start_time": "2021-12-12T18:53:33.107Z"
   },
   {
    "duration": 49,
    "start_time": "2021-12-12T18:53:33.136Z"
   },
   {
    "duration": 9,
    "start_time": "2021-12-12T18:53:33.187Z"
   },
   {
    "duration": 23,
    "start_time": "2021-12-12T18:53:33.199Z"
   },
   {
    "duration": 41,
    "start_time": "2021-12-12T18:53:33.224Z"
   },
   {
    "duration": 38,
    "start_time": "2021-12-12T18:53:33.267Z"
   },
   {
    "duration": 17,
    "start_time": "2021-12-12T18:53:33.307Z"
   },
   {
    "duration": 9,
    "start_time": "2021-12-12T18:53:33.326Z"
   },
   {
    "duration": 8,
    "start_time": "2021-12-12T18:53:33.337Z"
   },
   {
    "duration": 21,
    "start_time": "2021-12-12T18:53:33.347Z"
   },
   {
    "duration": 57,
    "start_time": "2021-12-12T18:53:33.370Z"
   },
   {
    "duration": 9,
    "start_time": "2021-12-12T18:53:33.430Z"
   },
   {
    "duration": 24,
    "start_time": "2021-12-12T18:53:33.441Z"
   },
   {
    "duration": 8,
    "start_time": "2021-12-12T18:53:33.467Z"
   },
   {
    "duration": 73,
    "start_time": "2021-12-12T18:53:33.477Z"
   },
   {
    "duration": 7,
    "start_time": "2021-12-12T18:53:33.552Z"
   },
   {
    "duration": 14,
    "start_time": "2021-12-12T18:53:33.562Z"
   },
   {
    "duration": 3817,
    "start_time": "2021-12-12T18:53:33.618Z"
   },
   {
    "duration": 24,
    "start_time": "2021-12-12T18:53:37.438Z"
   },
   {
    "duration": 7,
    "start_time": "2021-12-12T18:53:37.465Z"
   },
   {
    "duration": 116,
    "start_time": "2021-12-12T18:53:37.475Z"
   },
   {
    "duration": 4809,
    "start_time": "2021-12-12T18:53:37.594Z"
   },
   {
    "duration": 14,
    "start_time": "2021-12-12T18:53:42.419Z"
   },
   {
    "duration": 19,
    "start_time": "2021-12-12T18:53:42.436Z"
   },
   {
    "duration": 15,
    "start_time": "2021-12-12T18:53:42.458Z"
   },
   {
    "duration": 54,
    "start_time": "2021-12-12T18:53:42.475Z"
   },
   {
    "duration": 4,
    "start_time": "2021-12-12T18:53:42.532Z"
   },
   {
    "duration": 313,
    "start_time": "2021-12-12T18:53:42.538Z"
   },
   {
    "duration": 22,
    "start_time": "2021-12-12T18:53:42.853Z"
   },
   {
    "duration": 9,
    "start_time": "2021-12-12T18:53:42.878Z"
   },
   {
    "duration": 83,
    "start_time": "2021-12-12T18:53:42.890Z"
   },
   {
    "duration": 42,
    "start_time": "2021-12-12T18:53:42.975Z"
   },
   {
    "duration": 56,
    "start_time": "2021-12-12T18:53:43.019Z"
   },
   {
    "duration": 9,
    "start_time": "2021-12-12T18:53:43.077Z"
   },
   {
    "duration": 46,
    "start_time": "2021-12-12T18:53:43.088Z"
   },
   {
    "duration": 56,
    "start_time": "2021-12-12T18:53:43.137Z"
   },
   {
    "duration": 22,
    "start_time": "2021-12-12T18:53:43.216Z"
   },
   {
    "duration": 53,
    "start_time": "2021-12-12T18:53:43.241Z"
   },
   {
    "duration": 36,
    "start_time": "2021-12-12T18:53:43.296Z"
   },
   {
    "duration": 443,
    "start_time": "2021-12-12T19:02:13.050Z"
   },
   {
    "duration": 24,
    "start_time": "2021-12-12T19:27:13.649Z"
   },
   {
    "duration": 25,
    "start_time": "2021-12-12T19:29:12.569Z"
   },
   {
    "duration": 22,
    "start_time": "2021-12-12T19:29:53.501Z"
   },
   {
    "duration": 25,
    "start_time": "2021-12-12T19:39:52.319Z"
   },
   {
    "duration": 296,
    "start_time": "2021-12-12T19:43:39.331Z"
   },
   {
    "duration": 838,
    "start_time": "2021-12-12T19:43:48.827Z"
   },
   {
    "duration": 24,
    "start_time": "2021-12-12T19:43:49.667Z"
   },
   {
    "duration": 24,
    "start_time": "2021-12-12T19:43:49.695Z"
   },
   {
    "duration": 23,
    "start_time": "2021-12-12T19:43:49.723Z"
   },
   {
    "duration": 15,
    "start_time": "2021-12-12T19:43:49.748Z"
   },
   {
    "duration": 10,
    "start_time": "2021-12-12T19:43:49.766Z"
   },
   {
    "duration": 13,
    "start_time": "2021-12-12T19:43:49.818Z"
   },
   {
    "duration": 12,
    "start_time": "2021-12-12T19:43:49.835Z"
   },
   {
    "duration": 6,
    "start_time": "2021-12-12T19:43:49.851Z"
   },
   {
    "duration": 4,
    "start_time": "2021-12-12T19:43:49.860Z"
   },
   {
    "duration": 76,
    "start_time": "2021-12-12T19:43:49.867Z"
   },
   {
    "duration": 8,
    "start_time": "2021-12-12T19:43:49.945Z"
   },
   {
    "duration": 12,
    "start_time": "2021-12-12T19:43:49.955Z"
   },
   {
    "duration": 6,
    "start_time": "2021-12-12T19:43:49.969Z"
   },
   {
    "duration": 45,
    "start_time": "2021-12-12T19:43:49.977Z"
   },
   {
    "duration": 18,
    "start_time": "2021-12-12T19:43:50.025Z"
   },
   {
    "duration": 21,
    "start_time": "2021-12-12T19:43:50.046Z"
   },
   {
    "duration": 47,
    "start_time": "2021-12-12T19:43:50.070Z"
   },
   {
    "duration": 5,
    "start_time": "2021-12-12T19:43:50.119Z"
   },
   {
    "duration": 391,
    "start_time": "2021-12-12T19:43:50.126Z"
   },
   {
    "duration": 11,
    "start_time": "2021-12-12T19:43:50.520Z"
   },
   {
    "duration": 8,
    "start_time": "2021-12-12T19:43:50.534Z"
   },
   {
    "duration": 12,
    "start_time": "2021-12-12T19:43:50.547Z"
   },
   {
    "duration": 6,
    "start_time": "2021-12-12T19:43:50.562Z"
   },
   {
    "duration": 52,
    "start_time": "2021-12-12T19:43:50.571Z"
   },
   {
    "duration": 6,
    "start_time": "2021-12-12T19:43:50.626Z"
   },
   {
    "duration": 9,
    "start_time": "2021-12-12T19:43:50.634Z"
   },
   {
    "duration": 6,
    "start_time": "2021-12-12T19:43:50.645Z"
   },
   {
    "duration": 10,
    "start_time": "2021-12-12T19:43:50.653Z"
   },
   {
    "duration": 53,
    "start_time": "2021-12-12T19:43:50.666Z"
   },
   {
    "duration": 21,
    "start_time": "2021-12-12T19:43:50.721Z"
   },
   {
    "duration": 17,
    "start_time": "2021-12-12T19:43:50.745Z"
   },
   {
    "duration": 11,
    "start_time": "2021-12-12T19:43:50.765Z"
   },
   {
    "duration": 40,
    "start_time": "2021-12-12T19:43:50.778Z"
   },
   {
    "duration": 7,
    "start_time": "2021-12-12T19:43:50.821Z"
   },
   {
    "duration": 20,
    "start_time": "2021-12-12T19:43:50.832Z"
   },
   {
    "duration": 12,
    "start_time": "2021-12-12T19:43:50.855Z"
   },
   {
    "duration": 55,
    "start_time": "2021-12-12T19:43:50.870Z"
   },
   {
    "duration": 6,
    "start_time": "2021-12-12T19:43:50.927Z"
   },
   {
    "duration": 14,
    "start_time": "2021-12-12T19:43:50.935Z"
   },
   {
    "duration": 17,
    "start_time": "2021-12-12T19:43:50.952Z"
   },
   {
    "duration": 47,
    "start_time": "2021-12-12T19:43:50.972Z"
   },
   {
    "duration": 14,
    "start_time": "2021-12-12T19:43:51.022Z"
   },
   {
    "duration": 81,
    "start_time": "2021-12-12T19:43:51.039Z"
   },
   {
    "duration": 7,
    "start_time": "2021-12-12T19:43:51.122Z"
   },
   {
    "duration": 22,
    "start_time": "2021-12-12T19:43:51.132Z"
   },
   {
    "duration": 62,
    "start_time": "2021-12-12T19:43:51.157Z"
   },
   {
    "duration": 7,
    "start_time": "2021-12-12T19:43:51.222Z"
   },
   {
    "duration": 13,
    "start_time": "2021-12-12T19:43:51.232Z"
   },
   {
    "duration": 13,
    "start_time": "2021-12-12T19:43:51.248Z"
   },
   {
    "duration": 56,
    "start_time": "2021-12-12T19:43:51.264Z"
   },
   {
    "duration": 17,
    "start_time": "2021-12-12T19:43:51.322Z"
   },
   {
    "duration": 8,
    "start_time": "2021-12-12T19:43:51.341Z"
   },
   {
    "duration": 16,
    "start_time": "2021-12-12T19:43:51.352Z"
   },
   {
    "duration": 55,
    "start_time": "2021-12-12T19:43:51.371Z"
   },
   {
    "duration": 20,
    "start_time": "2021-12-12T19:43:51.428Z"
   },
   {
    "duration": 12,
    "start_time": "2021-12-12T19:43:51.450Z"
   },
   {
    "duration": 60,
    "start_time": "2021-12-12T19:43:51.464Z"
   },
   {
    "duration": 13,
    "start_time": "2021-12-12T19:43:51.529Z"
   },
   {
    "duration": 79,
    "start_time": "2021-12-12T19:43:51.545Z"
   },
   {
    "duration": 8,
    "start_time": "2021-12-12T19:43:51.627Z"
   },
   {
    "duration": 15,
    "start_time": "2021-12-12T19:43:51.637Z"
   },
   {
    "duration": 3970,
    "start_time": "2021-12-12T19:43:51.656Z"
   },
   {
    "duration": 23,
    "start_time": "2021-12-12T19:43:55.630Z"
   },
   {
    "duration": 10,
    "start_time": "2021-12-12T19:43:55.655Z"
   },
   {
    "duration": 108,
    "start_time": "2021-12-12T19:43:55.667Z"
   },
   {
    "duration": 3712,
    "start_time": "2021-12-12T19:43:55.778Z"
   },
   {
    "duration": 19,
    "start_time": "2021-12-12T19:43:59.498Z"
   },
   {
    "duration": 16,
    "start_time": "2021-12-12T19:43:59.521Z"
   },
   {
    "duration": 14,
    "start_time": "2021-12-12T19:43:59.540Z"
   },
   {
    "duration": 4,
    "start_time": "2021-12-12T19:43:59.556Z"
   },
   {
    "duration": 515,
    "start_time": "2021-12-12T19:43:59.562Z"
   },
   {
    "duration": 50,
    "start_time": "2021-12-12T19:44:00.080Z"
   },
   {
    "duration": 7,
    "start_time": "2021-12-12T19:44:00.132Z"
   },
   {
    "duration": 86,
    "start_time": "2021-12-12T19:44:00.142Z"
   },
   {
    "duration": 21,
    "start_time": "2021-12-12T19:44:00.231Z"
   },
   {
    "duration": 82,
    "start_time": "2021-12-12T19:44:00.255Z"
   },
   {
    "duration": 24,
    "start_time": "2021-12-12T19:44:00.340Z"
   },
   {
    "duration": 80,
    "start_time": "2021-12-12T19:44:00.367Z"
   },
   {
    "duration": 20,
    "start_time": "2021-12-12T19:44:00.450Z"
   },
   {
    "duration": 148,
    "start_time": "2021-12-12T19:44:00.473Z"
   },
   {
    "duration": 29,
    "start_time": "2021-12-12T19:44:00.623Z"
   },
   {
    "duration": 57,
    "start_time": "2021-12-12T19:45:50.507Z"
   },
   {
    "duration": 8,
    "start_time": "2021-12-12T19:54:24.139Z"
   },
   {
    "duration": 742,
    "start_time": "2021-12-12T19:54:49.337Z"
   },
   {
    "duration": 5,
    "start_time": "2021-12-12T19:54:57.193Z"
   },
   {
    "duration": 1209,
    "start_time": "2021-12-13T14:36:12.715Z"
   },
   {
    "duration": 399,
    "start_time": "2021-12-13T14:36:50.860Z"
   },
   {
    "duration": 288,
    "start_time": "2021-12-13T14:37:00.906Z"
   },
   {
    "duration": 1500,
    "start_time": "2021-12-13T14:37:37.771Z"
   },
   {
    "duration": 1137,
    "start_time": "2021-12-13T14:38:32.129Z"
   },
   {
    "duration": 1178,
    "start_time": "2021-12-13T14:38:43.165Z"
   },
   {
    "duration": 1359,
    "start_time": "2021-12-13T14:39:01.787Z"
   },
   {
    "duration": 1207,
    "start_time": "2021-12-13T14:39:13.082Z"
   },
   {
    "duration": 1376,
    "start_time": "2021-12-13T14:43:51.422Z"
   },
   {
    "duration": 1213,
    "start_time": "2021-12-13T14:44:04.245Z"
   },
   {
    "duration": 886,
    "start_time": "2021-12-13T14:49:39.896Z"
   },
   {
    "duration": 1171,
    "start_time": "2021-12-13T14:51:17.958Z"
   },
   {
    "duration": 4213,
    "start_time": "2021-12-14T19:40:22.903Z"
   },
   {
    "duration": 4018,
    "start_time": "2021-12-14T19:40:34.362Z"
   },
   {
    "duration": 4094,
    "start_time": "2021-12-14T19:41:23.648Z"
   },
   {
    "duration": 7156,
    "start_time": "2021-12-14T19:41:36.539Z"
   },
   {
    "duration": 6802,
    "start_time": "2021-12-14T19:42:18.634Z"
   },
   {
    "duration": 377,
    "start_time": "2021-12-14T19:46:42.415Z"
   },
   {
    "duration": 360,
    "start_time": "2021-12-14T19:46:44.415Z"
   },
   {
    "duration": 305,
    "start_time": "2021-12-14T19:46:48.599Z"
   },
   {
    "duration": 259,
    "start_time": "2021-12-14T19:47:05.277Z"
   },
   {
    "duration": 9,
    "start_time": "2021-12-14T19:47:47.460Z"
   },
   {
    "duration": 9,
    "start_time": "2021-12-14T19:48:10.220Z"
   },
   {
    "duration": 969,
    "start_time": "2021-12-14T19:48:17.697Z"
   },
   {
    "duration": 973,
    "start_time": "2021-12-14T19:48:49.938Z"
   },
   {
    "duration": 978,
    "start_time": "2021-12-14T19:49:09.240Z"
   },
   {
    "duration": 85,
    "start_time": "2021-12-14T19:52:10.225Z"
   },
   {
    "duration": 10,
    "start_time": "2021-12-14T19:52:16.598Z"
   },
   {
    "duration": 12,
    "start_time": "2021-12-14T19:53:07.114Z"
   },
   {
    "duration": 979,
    "start_time": "2021-12-14T19:53:28.508Z"
   },
   {
    "duration": 6748,
    "start_time": "2021-12-14T19:53:50.201Z"
   },
   {
    "duration": 5581,
    "start_time": "2021-12-14T19:59:05.153Z"
   },
   {
    "duration": 32,
    "start_time": "2021-12-14T19:59:22.203Z"
   },
   {
    "duration": 3171,
    "start_time": "2021-12-14T19:59:59.899Z"
   },
   {
    "duration": 3500,
    "start_time": "2021-12-14T20:03:27.378Z"
   },
   {
    "duration": 3592,
    "start_time": "2021-12-14T20:03:51.401Z"
   },
   {
    "duration": 6113,
    "start_time": "2021-12-14T20:04:56.766Z"
   },
   {
    "duration": 3302,
    "start_time": "2021-12-14T20:05:28.201Z"
   },
   {
    "duration": 3473,
    "start_time": "2021-12-14T20:07:39.792Z"
   },
   {
    "duration": 13,
    "start_time": "2021-12-14T20:07:57.783Z"
   },
   {
    "duration": 3377,
    "start_time": "2021-12-14T20:08:00.199Z"
   },
   {
    "duration": 3360,
    "start_time": "2021-12-14T21:15:23.747Z"
   },
   {
    "duration": 3885,
    "start_time": "2021-12-14T21:19:17.849Z"
   },
   {
    "duration": 3499,
    "start_time": "2021-12-14T21:19:26.086Z"
   },
   {
    "duration": 3711,
    "start_time": "2021-12-14T21:20:28.477Z"
   },
   {
    "duration": 82,
    "start_time": "2021-12-14T21:20:44.428Z"
   },
   {
    "duration": 3900,
    "start_time": "2021-12-14T21:20:52.307Z"
   },
   {
    "duration": 3716,
    "start_time": "2021-12-14T21:21:08.825Z"
   },
   {
    "duration": 3454,
    "start_time": "2021-12-14T21:21:16.811Z"
   },
   {
    "duration": 4614,
    "start_time": "2021-12-14T21:21:39.625Z"
   },
   {
    "duration": 3342,
    "start_time": "2021-12-14T21:22:02.225Z"
   },
   {
    "duration": 3526,
    "start_time": "2021-12-14T21:22:13.858Z"
   },
   {
    "duration": 3550,
    "start_time": "2021-12-14T21:22:43.695Z"
   },
   {
    "duration": 3431,
    "start_time": "2021-12-14T21:23:23.400Z"
   },
   {
    "duration": 3627,
    "start_time": "2021-12-14T21:23:51.487Z"
   },
   {
    "duration": 3806,
    "start_time": "2021-12-14T21:25:28.973Z"
   },
   {
    "duration": 3346,
    "start_time": "2021-12-14T21:25:58.931Z"
   },
   {
    "duration": 3432,
    "start_time": "2021-12-14T21:27:37.149Z"
   },
   {
    "duration": 3616,
    "start_time": "2021-12-14T21:28:02.697Z"
   },
   {
    "duration": 3320,
    "start_time": "2021-12-14T21:28:37.181Z"
   },
   {
    "duration": 3361,
    "start_time": "2021-12-14T21:29:19.079Z"
   },
   {
    "duration": 3622,
    "start_time": "2021-12-14T21:29:51.027Z"
   },
   {
    "duration": 3586,
    "start_time": "2021-12-14T21:31:21.519Z"
   },
   {
    "duration": 3334,
    "start_time": "2021-12-14T21:31:48.118Z"
   },
   {
    "duration": 3606,
    "start_time": "2021-12-14T21:32:23.753Z"
   },
   {
    "duration": 3573,
    "start_time": "2021-12-14T21:32:51.904Z"
   },
   {
    "duration": 3307,
    "start_time": "2021-12-14T21:33:12.700Z"
   },
   {
    "duration": 3595,
    "start_time": "2021-12-14T21:33:31.993Z"
   },
   {
    "duration": 3377,
    "start_time": "2021-12-14T21:33:55.646Z"
   },
   {
    "duration": 3231,
    "start_time": "2021-12-14T21:34:32.276Z"
   },
   {
    "duration": 3306,
    "start_time": "2021-12-14T21:35:13.293Z"
   },
   {
    "duration": 3567,
    "start_time": "2021-12-14T21:36:06.466Z"
   },
   {
    "duration": 4311,
    "start_time": "2021-12-14T21:36:16.353Z"
   },
   {
    "duration": 3205,
    "start_time": "2021-12-14T21:36:25.371Z"
   },
   {
    "duration": 3421,
    "start_time": "2021-12-14T21:39:04.897Z"
   },
   {
    "duration": 3667,
    "start_time": "2021-12-14T21:40:58.165Z"
   },
   {
    "duration": 3474,
    "start_time": "2021-12-14T21:41:17.124Z"
   },
   {
    "duration": 3751,
    "start_time": "2021-12-14T21:42:07.813Z"
   },
   {
    "duration": 3281,
    "start_time": "2021-12-14T21:42:19.142Z"
   },
   {
    "duration": 5110,
    "start_time": "2021-12-14T21:43:23.661Z"
   },
   {
    "duration": 5231,
    "start_time": "2021-12-14T21:44:17.766Z"
   },
   {
    "duration": 3616,
    "start_time": "2021-12-14T21:44:35.093Z"
   },
   {
    "duration": 3572,
    "start_time": "2021-12-14T21:44:44.341Z"
   },
   {
    "duration": 3669,
    "start_time": "2021-12-14T21:44:52.712Z"
   },
   {
    "duration": 3515,
    "start_time": "2021-12-14T21:45:04.403Z"
   },
   {
    "duration": 3684,
    "start_time": "2021-12-14T21:48:53.269Z"
   },
   {
    "duration": 3546,
    "start_time": "2021-12-14T21:49:09.105Z"
   },
   {
    "duration": 3466,
    "start_time": "2021-12-14T21:49:26.016Z"
   },
   {
    "duration": 3760,
    "start_time": "2021-12-14T21:49:57.364Z"
   },
   {
    "duration": 3543,
    "start_time": "2021-12-14T21:50:31.678Z"
   },
   {
    "duration": 3386,
    "start_time": "2021-12-14T21:51:41.047Z"
   },
   {
    "duration": 3368,
    "start_time": "2021-12-14T21:52:10.459Z"
   },
   {
    "duration": 3728,
    "start_time": "2021-12-14T21:57:21.247Z"
   },
   {
    "duration": 6032,
    "start_time": "2021-12-14T21:57:41.710Z"
   },
   {
    "duration": 3384,
    "start_time": "2021-12-14T21:58:27.637Z"
   },
   {
    "duration": 10199,
    "start_time": "2021-12-14T22:00:40.928Z"
   },
   {
    "duration": 10702,
    "start_time": "2021-12-14T22:03:36.325Z"
   },
   {
    "duration": 9428,
    "start_time": "2021-12-14T22:04:01.359Z"
   },
   {
    "duration": 11927,
    "start_time": "2021-12-14T22:05:14.384Z"
   },
   {
    "duration": 9211,
    "start_time": "2021-12-14T22:06:55.610Z"
   },
   {
    "duration": 9382,
    "start_time": "2021-12-14T22:08:06.892Z"
   },
   {
    "duration": 9475,
    "start_time": "2021-12-14T22:10:02.238Z"
   },
   {
    "duration": 9252,
    "start_time": "2021-12-14T22:11:21.233Z"
   },
   {
    "duration": 9532,
    "start_time": "2021-12-14T22:13:04.431Z"
   },
   {
    "duration": 89,
    "start_time": "2021-12-14T22:18:32.274Z"
   },
   {
    "duration": 9699,
    "start_time": "2021-12-14T22:18:40.732Z"
   },
   {
    "duration": 9952,
    "start_time": "2021-12-14T22:19:05.158Z"
   },
   {
    "duration": 9900,
    "start_time": "2021-12-14T22:19:51.574Z"
   },
   {
    "duration": 9973,
    "start_time": "2021-12-14T22:21:31.638Z"
   },
   {
    "duration": 9409,
    "start_time": "2021-12-14T22:21:49.633Z"
   },
   {
    "duration": 9796,
    "start_time": "2021-12-14T22:22:49.274Z"
   },
   {
    "duration": 9260,
    "start_time": "2021-12-14T22:23:04.715Z"
   },
   {
    "duration": 9883,
    "start_time": "2021-12-14T22:25:06.586Z"
   },
   {
    "duration": 10345,
    "start_time": "2021-12-14T22:32:46.322Z"
   },
   {
    "duration": 10021,
    "start_time": "2021-12-14T22:35:47.411Z"
   },
   {
    "duration": 12563,
    "start_time": "2021-12-14T22:36:24.744Z"
   },
   {
    "duration": 13348,
    "start_time": "2021-12-14T22:38:48.049Z"
   },
   {
    "duration": 13246,
    "start_time": "2021-12-14T22:41:01.569Z"
   },
   {
    "duration": 13299,
    "start_time": "2021-12-14T22:41:28.558Z"
   },
   {
    "duration": 77,
    "start_time": "2021-12-14T22:43:26.799Z"
   },
   {
    "duration": 10651,
    "start_time": "2021-12-14T22:43:54.620Z"
   },
   {
    "duration": 11344,
    "start_time": "2021-12-14T22:44:12.505Z"
   },
   {
    "duration": 10363,
    "start_time": "2021-12-14T22:44:46.586Z"
   },
   {
    "duration": 7466,
    "start_time": "2021-12-14T22:45:10.085Z"
   },
   {
    "duration": 7277,
    "start_time": "2021-12-14T22:45:22.698Z"
   },
   {
    "duration": 7580,
    "start_time": "2021-12-14T22:47:09.713Z"
   },
   {
    "duration": 182,
    "start_time": "2022-01-06T11:15:25.208Z"
   }
  ],
  "kernelspec": {
   "display_name": "Python 3",
   "language": "python",
   "name": "python3"
  },
  "language_info": {
   "codemirror_mode": {
    "name": "ipython",
    "version": 3
   },
   "file_extension": ".py",
   "mimetype": "text/x-python",
   "name": "python",
   "nbconvert_exporter": "python",
   "pygments_lexer": "ipython3",
   "version": "3.8.8"
  },
  "toc": {
   "base_numbering": 1,
   "nav_menu": {
    "height": "12px",
    "width": "160px"
   },
   "number_sections": true,
   "sideBar": true,
   "skip_h1_title": true,
   "title_cell": "Table of Contents",
   "title_sidebar": "Contents",
   "toc_cell": false,
   "toc_position": {
    "height": "calc(100% - 180px)",
    "left": "10px",
    "top": "150px",
    "width": "434.766px"
   },
   "toc_section_display": true,
   "toc_window_display": true
  }
 },
 "nbformat": 4,
 "nbformat_minor": 2
}
