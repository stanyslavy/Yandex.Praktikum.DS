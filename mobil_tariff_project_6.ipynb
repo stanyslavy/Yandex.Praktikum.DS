{
 "cells": [
  {
   "cell_type": "markdown",
   "metadata": {},
   "source": [
    "# Рекомендация тарифов"
   ]
  },
  {
   "cell_type": "markdown",
   "metadata": {},
   "source": [
    "В вашем распоряжении данные о поведении клиентов, которые уже перешли на эти тарифы (из проекта курса «Статистический анализ данных»). Нужно построить модель для задачи классификации, которая выберет подходящий тариф. Предобработка данных не понадобится — вы её уже сделали.\n",
    "\n",
    "Постройте модель с максимально большим значением *accuracy*. Чтобы сдать проект успешно, нужно довести долю правильных ответов по крайней мере до 0.75. Проверьте *accuracy* на тестовой выборке самостоятельно.\n",
    "\n",
    "#### Описание данных\n",
    "Каждый объект в наборе данных — это информация о поведении одного пользователя за месяц. Известно:\n",
    "* сalls — количество звонков,\n",
    "* minutes — суммарная длительность звонков в минутах,\n",
    "* messages — количество sms-сообщений,\n",
    "* mb_used — израсходованный интернет-трафик в Мб,\n",
    "* is_ultra — каким тарифом пользовался в течение месяца («Ультра» — 1, «Смарт» — 0)."
   ]
  },
  {
   "cell_type": "markdown",
   "metadata": {},
   "source": [
    "## Открытие и изучение данных"
   ]
  },
  {
   "cell_type": "code",
   "execution_count": 1,
   "metadata": {},
   "outputs": [],
   "source": [
    "# Импорт библиотек\n",
    "\n",
    "import pandas as pd\n",
    "from sklearn.tree import DecisionTreeClassifier\n",
    "from sklearn.ensemble import RandomForestClassifier\n",
    "from sklearn.linear_model import LogisticRegression\n",
    "from sklearn.model_selection import train_test_split\n",
    "from sklearn.metrics import accuracy_score\n",
    "from sklearn.dummy import DummyClassifier"
   ]
  },
  {
   "cell_type": "code",
   "execution_count": 2,
   "metadata": {},
   "outputs": [],
   "source": [
    "from warnings import simplefilter\n",
    "simplefilter(action='ignore')"
   ]
  },
  {
   "cell_type": "code",
   "execution_count": 3,
   "metadata": {
    "scrolled": true
   },
   "outputs": [
    {
     "data": {
      "text/plain": [
       "(3214, 5)"
      ]
     },
     "metadata": {},
     "output_type": "display_data"
    },
    {
     "name": "stdout",
     "output_type": "stream",
     "text": [
      "<class 'pandas.core.frame.DataFrame'>\n",
      "RangeIndex: 3214 entries, 0 to 3213\n",
      "Data columns (total 5 columns):\n",
      " #   Column    Non-Null Count  Dtype  \n",
      "---  ------    --------------  -----  \n",
      " 0   calls     3214 non-null   float64\n",
      " 1   minutes   3214 non-null   float64\n",
      " 2   messages  3214 non-null   float64\n",
      " 3   mb_used   3214 non-null   float64\n",
      " 4   is_ultra  3214 non-null   int64  \n",
      "dtypes: float64(4), int64(1)\n",
      "memory usage: 125.7 KB\n"
     ]
    },
    {
     "data": {
      "text/plain": [
       "None"
      ]
     },
     "metadata": {},
     "output_type": "display_data"
    },
    {
     "data": {
      "text/html": [
       "<div>\n",
       "<style scoped>\n",
       "    .dataframe tbody tr th:only-of-type {\n",
       "        vertical-align: middle;\n",
       "    }\n",
       "\n",
       "    .dataframe tbody tr th {\n",
       "        vertical-align: top;\n",
       "    }\n",
       "\n",
       "    .dataframe thead th {\n",
       "        text-align: right;\n",
       "    }\n",
       "</style>\n",
       "<table border=\"1\" class=\"dataframe\">\n",
       "  <thead>\n",
       "    <tr style=\"text-align: right;\">\n",
       "      <th></th>\n",
       "      <th>calls</th>\n",
       "      <th>minutes</th>\n",
       "      <th>messages</th>\n",
       "      <th>mb_used</th>\n",
       "      <th>is_ultra</th>\n",
       "    </tr>\n",
       "  </thead>\n",
       "  <tbody>\n",
       "    <tr>\n",
       "      <th>0</th>\n",
       "      <td>40.0</td>\n",
       "      <td>311.90</td>\n",
       "      <td>83.0</td>\n",
       "      <td>19915.42</td>\n",
       "      <td>0</td>\n",
       "    </tr>\n",
       "    <tr>\n",
       "      <th>1</th>\n",
       "      <td>85.0</td>\n",
       "      <td>516.75</td>\n",
       "      <td>56.0</td>\n",
       "      <td>22696.96</td>\n",
       "      <td>0</td>\n",
       "    </tr>\n",
       "    <tr>\n",
       "      <th>2</th>\n",
       "      <td>77.0</td>\n",
       "      <td>467.66</td>\n",
       "      <td>86.0</td>\n",
       "      <td>21060.45</td>\n",
       "      <td>0</td>\n",
       "    </tr>\n",
       "    <tr>\n",
       "      <th>3</th>\n",
       "      <td>106.0</td>\n",
       "      <td>745.53</td>\n",
       "      <td>81.0</td>\n",
       "      <td>8437.39</td>\n",
       "      <td>1</td>\n",
       "    </tr>\n",
       "    <tr>\n",
       "      <th>4</th>\n",
       "      <td>66.0</td>\n",
       "      <td>418.74</td>\n",
       "      <td>1.0</td>\n",
       "      <td>14502.75</td>\n",
       "      <td>0</td>\n",
       "    </tr>\n",
       "  </tbody>\n",
       "</table>\n",
       "</div>"
      ],
      "text/plain": [
       "   calls  minutes  messages   mb_used  is_ultra\n",
       "0   40.0   311.90      83.0  19915.42         0\n",
       "1   85.0   516.75      56.0  22696.96         0\n",
       "2   77.0   467.66      86.0  21060.45         0\n",
       "3  106.0   745.53      81.0   8437.39         1\n",
       "4   66.0   418.74       1.0  14502.75         0"
      ]
     },
     "execution_count": 3,
     "metadata": {},
     "output_type": "execute_result"
    }
   ],
   "source": [
    "# Загрузка датасета\n",
    "\n",
    "try:\n",
    "    df = pd.read_csv('/datasets/users_behavior.csv')\n",
    "except:\n",
    "    df = pd.read_csv('F:/users_behavior.csv')\n",
    "    \n",
    "display(df.shape)\n",
    "display(df.info())\n",
    "df.head()"
   ]
  },
  {
   "cell_type": "markdown",
   "metadata": {},
   "source": [
    "**Загрузили необходмые библиотеки и данные.**"
   ]
  },
  {
   "cell_type": "markdown",
   "metadata": {},
   "source": [
    "## Разбиение данных на выборки"
   ]
  },
  {
   "cell_type": "code",
   "execution_count": 4,
   "metadata": {},
   "outputs": [],
   "source": [
    "# Разделим исходные данные на обучающую, валидационную и тестовую выборки в соотношении 60-20-20\n",
    "\n",
    "features = df.drop(['is_ultra'], axis=1)\n",
    "target = df['is_ultra']\n",
    "\n",
    "features_train, features_valid, target_train, target_valid = train_test_split(\n",
    "    features, target, test_size=0.4, random_state=12345) \n",
    "\n",
    "features_valid, features_test, target_valid, target_test = train_test_split(\n",
    "    features_valid, target_valid, test_size=0.5, random_state=12345) "
   ]
  },
  {
   "cell_type": "code",
   "execution_count": 5,
   "metadata": {},
   "outputs": [
    {
     "name": "stdout",
     "output_type": "stream",
     "text": [
      "Размер всего датасета: (3214, 5) 100%\n",
      "Размер фичей обучающей выборки: (1928, 4) 60%\n",
      "Размер фичей валидационной выборки: (643, 4) 20%\n",
      "Размер фичей тестовой выборки: (643, 4) 20%\n",
      "Размер целевого признака обучающей выборки: (1928,) 60%\n",
      "Размер целевого признака валидационной выборки: (643,) 20%\n",
      "Размер целевого признака тестовой выборки: (643,) 20%\n"
     ]
    }
   ],
   "source": [
    "# Убедимся в правильности разделения датасета\n",
    "\n",
    "print('Размер всего датасета:', df.shape, '{:.0%}'.format(len(df)/len(df)))\n",
    "print('Размер фичей обучающей выборки:', features_train.shape, '{:.0%}'.format(len(features_train)/len(df)))\n",
    "print('Размер фичей валидационной выборки:', features_valid.shape, '{:.0%}'.format(len(features_valid)/len(df)))\n",
    "print('Размер фичей тестовой выборки:', features_test.shape, '{:.0%}'.format(len(features_test)/len(df)))\n",
    "print('Размер целевого признака обучающей выборки:', target_train.shape, '{:.0%}'.format(len(target_train)/len(df)))\n",
    "print('Размер целевого признака валидационной выборки:', target_valid.shape, '{:.0%}'.format(len(target_valid)/len(df)))\n",
    "print('Размер целевого признака тестовой выборки:', target_test.shape, '{:.0%}'.format(len(target_test)/len(df)))"
   ]
  },
  {
   "cell_type": "markdown",
   "metadata": {},
   "source": [
    "**Получили обучающую, валидационную и тестовую выборки в соотношении 60-20-20.**"
   ]
  },
  {
   "cell_type": "markdown",
   "metadata": {},
   "source": [
    "## Исследование модели"
   ]
  },
  {
   "cell_type": "code",
   "execution_count": 6,
   "metadata": {},
   "outputs": [
    {
     "name": "stdout",
     "output_type": "stream",
     "text": [
      "Лучший результат accuracy модели Дерево решений: \n",
      "\n",
      " 0.7853810264385692 \n",
      " глубина: 3 \n",
      " критерий: gini\n"
     ]
    }
   ],
   "source": [
    "# Проведем исследование модели класса Дерево решений. Подберем гиперпараметры, чтобы получим лучший accuracy_score\n",
    "\n",
    "best_model_dt = None\n",
    "best_depth = 0\n",
    "best_result = 0\n",
    "best_criterion = ''\n",
    "\n",
    "for criterion in ['gini', 'entropy']:\n",
    "    for depth in range(1, 11):\n",
    "    \n",
    "        model = DecisionTreeClassifier(random_state=12345, max_depth=depth, criterion=criterion)\n",
    "        model.fit(features_train, target_train)\n",
    "        predict_valid = model.predict(features_valid)\n",
    "        result = accuracy_score(target_valid, predict_valid)\n",
    "        if result > best_result:\n",
    "            best_result = result\n",
    "            best_model_dt = model\n",
    "            best_depth = depth\n",
    "            best_criterion = criterion\n",
    "        \n",
    "print('Лучший результат accuracy модели Дерево решений: \\n\\n', best_result,\\\n",
    "      '\\n глубина:', best_depth, '\\n критерий:', best_criterion)"
   ]
  },
  {
   "cell_type": "code",
   "execution_count": 7,
   "metadata": {},
   "outputs": [
    {
     "name": "stdout",
     "output_type": "stream",
     "text": [
      "Лучший результат accuracy модели Случайный лес: \n",
      "\n",
      " 0.8087091757387247 \n",
      " глубина: 8 \n",
      " критерий: gini \n",
      " число деревьев 40\n"
     ]
    }
   ],
   "source": [
    "# Проведем исследование модели класса Случайный лес. Подберем гиперпараметры, чтобы получим лучший accuracy_score\n",
    "\n",
    "best_model_rf = None\n",
    "best_depth = 0\n",
    "best_result = 0\n",
    "best_est = 0\n",
    "best_criterion = ''\n",
    "criterions = ['gini', 'entropy']\n",
    "\n",
    "for criterion in criterions:\n",
    "    for depth in range(1, 11):\n",
    "        for est in range(10, 51, 10):\n",
    "    \n",
    "            model = RandomForestClassifier(random_state=12345, max_depth=depth, criterion=criterion, n_estimators=est)\n",
    "            model.fit(features_train, target_train)\n",
    "            predict_valid = model.predict(features_valid)\n",
    "            result = accuracy_score(target_valid, predict_valid)\n",
    "            if result > best_result:\n",
    "                best_result = result\n",
    "                best_model_rf = model\n",
    "                best_depth = depth\n",
    "                best_criterion = criterion\n",
    "                best_est = est\n",
    "                \n",
    "print('Лучший результат accuracy модели Случайный лес: \\n\\n', \\\n",
    "      best_result, '\\n глубина:', best_depth, '\\n критерий:', best_criterion, '\\n число деревьев', best_est)"
   ]
  },
  {
   "cell_type": "code",
   "execution_count": 8,
   "metadata": {
    "scrolled": true
   },
   "outputs": [
    {
     "name": "stdout",
     "output_type": "stream",
     "text": [
      "Лучший результат accuracy модели Логистическая регрессия: \n",
      "\n",
      " 0.7558320373250389 \n",
      " алгоритм: newton-cg\n"
     ]
    }
   ],
   "source": [
    "# Проведем исследование модели класса Логистическая регрессия. Подберем гиперпараметры, чтобы получим лучший accuracy_score\n",
    "\n",
    "best_model_lr = None\n",
    "best_result = 0\n",
    "best_solver = ''\n",
    "solvers = ['newton-cg', 'lbfgs', 'liblinear', 'sag', 'saga']\n",
    "\n",
    "\n",
    "for solver in solvers:\n",
    "    model = LogisticRegression(random_state=12345, solver=solver)\n",
    "    model.fit(features_train, target_train)\n",
    "    predict_valid = model.predict(features_valid)\n",
    "    result = accuracy_score(target_valid, predict_valid)\n",
    "    if result > best_result:\n",
    "        best_result = result\n",
    "        best_model_lr = model\n",
    "        best_solver = solver                \n",
    "        \n",
    "print('Лучший результат accuracy модели Логистическая регрессия: \\n\\n', \\\n",
    "      best_result, '\\n алгоритм:', best_solver)"
   ]
  },
  {
   "cell_type": "markdown",
   "metadata": {},
   "source": [
    "**Исследование показало, что модель, построенная на алгоритме случайного леса при глубине 8 и 40 деревьях, дает лучший результат (81%). Но она и самая времязатратная. Довольно быстрая и с чуть худшим результом (79%) - модель на алгоритме дерева решений при глубине 3. И худший результат (76%) показала модель на алгоритме логистической регрессии.**"
   ]
  },
  {
   "cell_type": "markdown",
   "metadata": {},
   "source": [
    "## Проверка модели на тестовой выборке"
   ]
  },
  {
   "cell_type": "code",
   "execution_count": 9,
   "metadata": {},
   "outputs": [
    {
     "name": "stdout",
     "output_type": "stream",
     "text": [
      "Результат accuracy выбранной модели на тестовой выборке: \n",
      "\n",
      " 0.7962674961119751\n"
     ]
    }
   ],
   "source": [
    "# Проведем проверку выбранной модели с лучшим результатом (модель на алгоритме случайного леса) на тестовой выборке\n",
    "\n",
    "predict_test = best_model_rf.predict(features_test)\n",
    "result = accuracy_score(target_test, predict_test)\n",
    "\n",
    "print('Результат accuracy выбранной модели на тестовой выборке: \\n\\n', result)"
   ]
  },
  {
   "cell_type": "markdown",
   "metadata": {},
   "source": [
    "**Видим небольшую переобученность модели, т.к. результат на тестовой выборке (80%) немного хуже, чем на валидационной (81%). Но это значение accuracy гораздо выше заданного порога в 75%.**"
   ]
  },
  {
   "cell_type": "markdown",
   "metadata": {},
   "source": [
    "## Проверка модели на адекватность"
   ]
  },
  {
   "cell_type": "code",
   "execution_count": 10,
   "metadata": {},
   "outputs": [
    {
     "data": {
      "text/plain": [
       "0.30647168637212197"
      ]
     },
     "execution_count": 10,
     "metadata": {},
     "output_type": "execute_result"
    }
   ],
   "source": [
    "# Выясним соотношение тарифов Ультра и Смарт в целевом признаке датасета\n",
    "\n",
    "df['is_ultra'].mean()"
   ]
  },
  {
   "cell_type": "code",
   "execution_count": 11,
   "metadata": {},
   "outputs": [
    {
     "data": {
      "text/plain": [
       "0.2939346811819596"
      ]
     },
     "execution_count": 11,
     "metadata": {},
     "output_type": "execute_result"
    }
   ],
   "source": [
    "# Построим для сравнения глупую константную модель с помощью алгоритма DummyClassifier, \n",
    "# обучим ее на тех же данных и получим результат (константой возьмем сперва 1)\n",
    "\n",
    "dummy_clf = DummyClassifier(random_state=12345, strategy='constant', constant=1)\n",
    "dummy_clf.fit(features_train, target_train)\n",
    "predict_valid = dummy_clf.predict(features_valid)\n",
    "accuracy_score(target_valid, predict_valid)"
   ]
  },
  {
   "cell_type": "code",
   "execution_count": 12,
   "metadata": {},
   "outputs": [
    {
     "data": {
      "text/plain": [
       "0.7060653188180405"
      ]
     },
     "execution_count": 12,
     "metadata": {},
     "output_type": "execute_result"
    }
   ],
   "source": [
    "# Теперь за константу возьмем наиболее часто встречающееся число (0)\n",
    "\n",
    "dummy_clf = DummyClassifier(random_state=12345, strategy='most_frequent')\n",
    "dummy_clf.fit(features_train, target_train)\n",
    "predict_valid = dummy_clf.predict(features_valid)\n",
    "accuracy_score(target_valid, predict_valid)"
   ]
  },
  {
   "cell_type": "markdown",
   "metadata": {},
   "source": [
    "**Видим, что результаты глупой модели совпадают с долями целевого признака в датасете. А построенные в исследовании модели классификации сравнительно вменяемы. Но точность модели логистической регрессии всего на 5% выше глупой модели.**"
   ]
  },
  {
   "cell_type": "markdown",
   "metadata": {},
   "source": [
    "## Выводы"
   ]
  },
  {
   "cell_type": "markdown",
   "metadata": {},
   "source": [
    "* В ходе исследования удалось построить модель с максимально большим значением accuracy для классификации целевого признака - подбор тарифа мобильного пользователя. \n",
    "* Выбор состоял из трех моделей по алгоритмам классификации: дерево решений. случайный лес и логистическая регрессия. \n",
    "* Были подобраны лучшие гиперпараметры. \n",
    "* Лучшей стала модель на алгоритме случайного леса с глубиной: 8, критерием: gini и числом деревьев: 40. \n",
    "* Доля правильных ответов на тестовой выборке достигла 0.79. \n",
    "* Эта же модель оказалась самой адекватной."
   ]
  },
  {
   "cell_type": "markdown",
   "metadata": {},
   "source": [
    "## Чек-лист готовности проекта"
   ]
  },
  {
   "cell_type": "markdown",
   "metadata": {},
   "source": [
    "Поставьте 'x' в выполненных пунктах. Далее нажмите Shift+Enter."
   ]
  },
  {
   "cell_type": "markdown",
   "metadata": {},
   "source": [
    "- [x] Jupyter Notebook открыт\n",
    "- [x] Весь код исполняется без ошибок\n",
    "- [x] Ячейки с кодом расположены в порядке исполнения\n",
    "- [x] Выполнено задание 1: данные загружены и изучены\n",
    "- [x] Выполнено задание 2: данные разбиты на три выборки\n",
    "- [x] Выполнено задание 3: проведено исследование моделей\n",
    "    - [x] Рассмотрено больше одной модели\n",
    "    - [x] Рассмотрено хотя бы 3 значения гипепараметров для какой-нибудь модели\n",
    "    - [x] Написаны выводы по результатам исследования\n",
    "- [x] Выполнено задание 3: Проведено тестирование\n",
    "- [x] Удалось достичь accuracy не меньше 0.75\n"
   ]
  },
  {
   "cell_type": "markdown",
   "metadata": {},
   "source": [
    "## (бонус) Визуализация моделей"
   ]
  },
  {
   "cell_type": "code",
   "execution_count": 13,
   "metadata": {},
   "outputs": [],
   "source": [
    "from sklearn import tree"
   ]
  },
  {
   "cell_type": "code",
   "execution_count": 14,
   "metadata": {},
   "outputs": [],
   "source": [
    "from IPython.display import SVG\n",
    "from graphviz import Source\n",
    "from IPython.display import display\n",
    "from sklearn.tree import export_graphviz"
   ]
  },
  {
   "cell_type": "code",
   "execution_count": 15,
   "metadata": {
    "scrolled": true
   },
   "outputs": [
    {
     "data": {
      "text/html": [
       "<style>svg{width:70% !important; heigth:70% !important;}</style>"
      ],
      "text/plain": [
       "<IPython.core.display.HTML object>"
      ]
     },
     "execution_count": 15,
     "metadata": {},
     "output_type": "execute_result"
    }
   ],
   "source": [
    "from IPython.display import HTML\n",
    "style = \"<style>svg{width:70% !important; heigth:70% !important;}</style>\"\n",
    "HTML(style)"
   ]
  },
  {
   "cell_type": "markdown",
   "metadata": {},
   "source": [
    "### Визуализация лучшей модели Дерева решений"
   ]
  },
  {
   "cell_type": "code",
   "execution_count": 16,
   "metadata": {
    "scrolled": true
   },
   "outputs": [
    {
     "data": {
      "text/plain": [
       "DecisionTreeClassifier(max_depth=3, random_state=12345)"
      ]
     },
     "execution_count": 16,
     "metadata": {},
     "output_type": "execute_result"
    }
   ],
   "source": [
    "best_model_dt"
   ]
  },
  {
   "cell_type": "code",
   "execution_count": 17,
   "metadata": {},
   "outputs": [
    {
     "data": {
      "image/svg+xml": [
       "<svg xmlns=\"http://www.w3.org/2000/svg\" xmlns:xlink=\"http://www.w3.org/1999/xlink\" width=\"988pt\" height=\"433pt\" viewBox=\"0.00 0.00 987.50 433.00\">\n",
       "<g id=\"graph0\" class=\"graph\" transform=\"scale(1 1) rotate(0) translate(4 429)\">\n",
       "<title>Tree</title>\n",
       "<polygon fill=\"white\" stroke=\"transparent\" points=\"-4,4 -4,-429 983.5,-429 983.5,4 -4,4\"/>\n",
       "<!-- 0 -->\n",
       "<g id=\"node1\" class=\"node\">\n",
       "<title>0</title>\n",
       "<polygon fill=\"#f1b991\" stroke=\"black\" points=\"558.5,-425 408.5,-425 408.5,-342 558.5,-342 558.5,-425\"/>\n",
       "<text text-anchor=\"middle\" x=\"483.5\" y=\"-409.8\" font-family=\"Times New Roman,serif\" font-size=\"14.00\">mb_used &lt;= 26244.135</text>\n",
       "<text text-anchor=\"middle\" x=\"483.5\" y=\"-394.8\" font-family=\"Times New Roman,serif\" font-size=\"14.00\">gini = 0.426</text>\n",
       "<text text-anchor=\"middle\" x=\"483.5\" y=\"-379.8\" font-family=\"Times New Roman,serif\" font-size=\"14.00\">samples = 1928</text>\n",
       "<text text-anchor=\"middle\" x=\"483.5\" y=\"-364.8\" font-family=\"Times New Roman,serif\" font-size=\"14.00\">value = [1335, 593]</text>\n",
       "<text text-anchor=\"middle\" x=\"483.5\" y=\"-349.8\" font-family=\"Times New Roman,serif\" font-size=\"14.00\">class = Negative</text>\n",
       "</g>\n",
       "<!-- 1 -->\n",
       "<g id=\"node2\" class=\"node\">\n",
       "<title>1</title>\n",
       "<polygon fill=\"#eeab7b\" stroke=\"black\" points=\"431.5,-306 303.5,-306 303.5,-223 431.5,-223 431.5,-306\"/>\n",
       "<text text-anchor=\"middle\" x=\"367.5\" y=\"-290.8\" font-family=\"Times New Roman,serif\" font-size=\"14.00\">minutes &lt;= 755.485</text>\n",
       "<text text-anchor=\"middle\" x=\"367.5\" y=\"-275.8\" font-family=\"Times New Roman,serif\" font-size=\"14.00\">gini = 0.375</text>\n",
       "<text text-anchor=\"middle\" x=\"367.5\" y=\"-260.8\" font-family=\"Times New Roman,serif\" font-size=\"14.00\">samples = 1736</text>\n",
       "<text text-anchor=\"middle\" x=\"367.5\" y=\"-245.8\" font-family=\"Times New Roman,serif\" font-size=\"14.00\">value = [1302, 434]</text>\n",
       "<text text-anchor=\"middle\" x=\"367.5\" y=\"-230.8\" font-family=\"Times New Roman,serif\" font-size=\"14.00\">class = Negative</text>\n",
       "</g>\n",
       "<!-- 0&#45;&gt;1 -->\n",
       "<g id=\"edge1\" class=\"edge\">\n",
       "<title>0-&gt;1</title>\n",
       "<path fill=\"none\" stroke=\"black\" d=\"M443.25,-341.91C434.08,-332.65 424.24,-322.73 414.8,-313.21\"/>\n",
       "<polygon fill=\"black\" stroke=\"black\" points=\"417.2,-310.66 407.67,-306.02 412.23,-315.59 417.2,-310.66\"/>\n",
       "<text text-anchor=\"middle\" x=\"407.57\" y=\"-327.32\" font-family=\"Times New Roman,serif\" font-size=\"14.00\">True</text>\n",
       "</g>\n",
       "<!-- 8 -->\n",
       "<g id=\"node9\" class=\"node\">\n",
       "<title>8</title>\n",
       "<polygon fill=\"#62b1ea\" stroke=\"black\" points=\"678,-306 535,-306 535,-223 678,-223 678,-306\"/>\n",
       "<text text-anchor=\"middle\" x=\"606.5\" y=\"-290.8\" font-family=\"Times New Roman,serif\" font-size=\"14.00\">mb_used &lt;= 31565.21</text>\n",
       "<text text-anchor=\"middle\" x=\"606.5\" y=\"-275.8\" font-family=\"Times New Roman,serif\" font-size=\"14.00\">gini = 0.285</text>\n",
       "<text text-anchor=\"middle\" x=\"606.5\" y=\"-260.8\" font-family=\"Times New Roman,serif\" font-size=\"14.00\">samples = 192</text>\n",
       "<text text-anchor=\"middle\" x=\"606.5\" y=\"-245.8\" font-family=\"Times New Roman,serif\" font-size=\"14.00\">value = [33, 159]</text>\n",
       "<text text-anchor=\"middle\" x=\"606.5\" y=\"-230.8\" font-family=\"Times New Roman,serif\" font-size=\"14.00\">class = Positive</text>\n",
       "</g>\n",
       "<!-- 0&#45;&gt;8 -->\n",
       "<g id=\"edge8\" class=\"edge\">\n",
       "<title>0-&gt;8</title>\n",
       "<path fill=\"none\" stroke=\"black\" d=\"M526.17,-341.91C536,-332.56 546.54,-322.54 556.64,-312.93\"/>\n",
       "<polygon fill=\"black\" stroke=\"black\" points=\"559.07,-315.45 563.9,-306.02 554.24,-310.38 559.07,-315.45\"/>\n",
       "<text text-anchor=\"middle\" x=\"563.28\" y=\"-327.31\" font-family=\"Times New Roman,serif\" font-size=\"14.00\">False</text>\n",
       "</g>\n",
       "<!-- 2 -->\n",
       "<g id=\"node3\" class=\"node\">\n",
       "<title>2</title>\n",
       "<polygon fill=\"#eca36f\" stroke=\"black\" points=\"258,-187 133,-187 133,-104 258,-104 258,-187\"/>\n",
       "<text text-anchor=\"middle\" x=\"195.5\" y=\"-171.8\" font-family=\"Times New Roman,serif\" font-size=\"14.00\">messages &lt;= 115.0</text>\n",
       "<text text-anchor=\"middle\" x=\"195.5\" y=\"-156.8\" font-family=\"Times New Roman,serif\" font-size=\"14.00\">gini = 0.337</text>\n",
       "<text text-anchor=\"middle\" x=\"195.5\" y=\"-141.8\" font-family=\"Times New Roman,serif\" font-size=\"14.00\">samples = 1622</text>\n",
       "<text text-anchor=\"middle\" x=\"195.5\" y=\"-126.8\" font-family=\"Times New Roman,serif\" font-size=\"14.00\">value = [1274, 348]</text>\n",
       "<text text-anchor=\"middle\" x=\"195.5\" y=\"-111.8\" font-family=\"Times New Roman,serif\" font-size=\"14.00\">class = Negative</text>\n",
       "</g>\n",
       "<!-- 1&#45;&gt;2 -->\n",
       "<g id=\"edge2\" class=\"edge\">\n",
       "<title>1-&gt;2</title>\n",
       "<path fill=\"none\" stroke=\"black\" d=\"M307.83,-222.91C293.55,-213.2 278.2,-202.76 263.58,-192.81\"/>\n",
       "<polygon fill=\"black\" stroke=\"black\" points=\"265.31,-189.75 255.07,-187.02 261.37,-195.54 265.31,-189.75\"/>\n",
       "</g>\n",
       "<!-- 5 -->\n",
       "<g id=\"node6\" class=\"node\">\n",
       "<title>5</title>\n",
       "<polygon fill=\"#79bded\" stroke=\"black\" points=\"419.5,-187 315.5,-187 315.5,-104 419.5,-104 419.5,-187\"/>\n",
       "<text text-anchor=\"middle\" x=\"367.5\" y=\"-171.8\" font-family=\"Times New Roman,serif\" font-size=\"14.00\">calls &lt;= 128.5</text>\n",
       "<text text-anchor=\"middle\" x=\"367.5\" y=\"-156.8\" font-family=\"Times New Roman,serif\" font-size=\"14.00\">gini = 0.371</text>\n",
       "<text text-anchor=\"middle\" x=\"367.5\" y=\"-141.8\" font-family=\"Times New Roman,serif\" font-size=\"14.00\">samples = 114</text>\n",
       "<text text-anchor=\"middle\" x=\"367.5\" y=\"-126.8\" font-family=\"Times New Roman,serif\" font-size=\"14.00\">value = [28, 86]</text>\n",
       "<text text-anchor=\"middle\" x=\"367.5\" y=\"-111.8\" font-family=\"Times New Roman,serif\" font-size=\"14.00\">class = Positive</text>\n",
       "</g>\n",
       "<!-- 1&#45;&gt;5 -->\n",
       "<g id=\"edge5\" class=\"edge\">\n",
       "<title>1-&gt;5</title>\n",
       "<path fill=\"none\" stroke=\"black\" d=\"M367.5,-222.91C367.5,-214.65 367.5,-205.86 367.5,-197.3\"/>\n",
       "<polygon fill=\"black\" stroke=\"black\" points=\"371,-197.02 367.5,-187.02 364,-197.02 371,-197.02\"/>\n",
       "</g>\n",
       "<!-- 3 -->\n",
       "<g id=\"node4\" class=\"node\">\n",
       "<title>3</title>\n",
       "<polygon fill=\"#eb9f68\" stroke=\"black\" points=\"125,-68 0,-68 0,0 125,0 125,-68\"/>\n",
       "<text text-anchor=\"middle\" x=\"62.5\" y=\"-52.8\" font-family=\"Times New Roman,serif\" font-size=\"14.00\">gini = 0.311</text>\n",
       "<text text-anchor=\"middle\" x=\"62.5\" y=\"-37.8\" font-family=\"Times New Roman,serif\" font-size=\"14.00\">samples = 1570</text>\n",
       "<text text-anchor=\"middle\" x=\"62.5\" y=\"-22.8\" font-family=\"Times New Roman,serif\" font-size=\"14.00\">value = [1267, 303]</text>\n",
       "<text text-anchor=\"middle\" x=\"62.5\" y=\"-7.8\" font-family=\"Times New Roman,serif\" font-size=\"14.00\">class = Negative</text>\n",
       "</g>\n",
       "<!-- 2&#45;&gt;3 -->\n",
       "<g id=\"edge3\" class=\"edge\">\n",
       "<title>2-&gt;3</title>\n",
       "<path fill=\"none\" stroke=\"black\" d=\"M145.98,-103.73C134.45,-94.24 122.2,-84.16 110.74,-74.72\"/>\n",
       "<polygon fill=\"black\" stroke=\"black\" points=\"112.89,-71.95 102.95,-68.3 108.44,-77.36 112.89,-71.95\"/>\n",
       "</g>\n",
       "<!-- 4 -->\n",
       "<g id=\"node5\" class=\"node\">\n",
       "<title>4</title>\n",
       "<polygon fill=\"#58ace9\" stroke=\"black\" points=\"247.5,-68 143.5,-68 143.5,0 247.5,0 247.5,-68\"/>\n",
       "<text text-anchor=\"middle\" x=\"195.5\" y=\"-52.8\" font-family=\"Times New Roman,serif\" font-size=\"14.00\">gini = 0.233</text>\n",
       "<text text-anchor=\"middle\" x=\"195.5\" y=\"-37.8\" font-family=\"Times New Roman,serif\" font-size=\"14.00\">samples = 52</text>\n",
       "<text text-anchor=\"middle\" x=\"195.5\" y=\"-22.8\" font-family=\"Times New Roman,serif\" font-size=\"14.00\">value = [7, 45]</text>\n",
       "<text text-anchor=\"middle\" x=\"195.5\" y=\"-7.8\" font-family=\"Times New Roman,serif\" font-size=\"14.00\">class = Positive</text>\n",
       "</g>\n",
       "<!-- 2&#45;&gt;4 -->\n",
       "<g id=\"edge4\" class=\"edge\">\n",
       "<title>2-&gt;4</title>\n",
       "<path fill=\"none\" stroke=\"black\" d=\"M195.5,-103.73C195.5,-95.52 195.5,-86.86 195.5,-78.56\"/>\n",
       "<polygon fill=\"black\" stroke=\"black\" points=\"199,-78.3 195.5,-68.3 192,-78.3 199,-78.3\"/>\n",
       "</g>\n",
       "<!-- 6 -->\n",
       "<g id=\"node7\" class=\"node\">\n",
       "<title>6</title>\n",
       "<polygon fill=\"#a0d0f3\" stroke=\"black\" points=\"369.5,-68 265.5,-68 265.5,0 369.5,0 369.5,-68\"/>\n",
       "<text text-anchor=\"middle\" x=\"317.5\" y=\"-52.8\" font-family=\"Times New Roman,serif\" font-size=\"14.00\">gini = 0.45</text>\n",
       "<text text-anchor=\"middle\" x=\"317.5\" y=\"-37.8\" font-family=\"Times New Roman,serif\" font-size=\"14.00\">samples = 76</text>\n",
       "<text text-anchor=\"middle\" x=\"317.5\" y=\"-22.8\" font-family=\"Times New Roman,serif\" font-size=\"14.00\">value = [26, 50]</text>\n",
       "<text text-anchor=\"middle\" x=\"317.5\" y=\"-7.8\" font-family=\"Times New Roman,serif\" font-size=\"14.00\">class = Positive</text>\n",
       "</g>\n",
       "<!-- 5&#45;&gt;6 -->\n",
       "<g id=\"edge6\" class=\"edge\">\n",
       "<title>5-&gt;6</title>\n",
       "<path fill=\"none\" stroke=\"black\" d=\"M348.88,-103.73C344.97,-95.15 340.83,-86.09 336.89,-77.46\"/>\n",
       "<polygon fill=\"black\" stroke=\"black\" points=\"340.04,-75.94 332.71,-68.3 333.68,-78.85 340.04,-75.94\"/>\n",
       "</g>\n",
       "<!-- 7 -->\n",
       "<g id=\"node8\" class=\"node\">\n",
       "<title>7</title>\n",
       "<polygon fill=\"#44a2e6\" stroke=\"black\" points=\"491.5,-68 387.5,-68 387.5,0 491.5,0 491.5,-68\"/>\n",
       "<text text-anchor=\"middle\" x=\"439.5\" y=\"-52.8\" font-family=\"Times New Roman,serif\" font-size=\"14.00\">gini = 0.1</text>\n",
       "<text text-anchor=\"middle\" x=\"439.5\" y=\"-37.8\" font-family=\"Times New Roman,serif\" font-size=\"14.00\">samples = 38</text>\n",
       "<text text-anchor=\"middle\" x=\"439.5\" y=\"-22.8\" font-family=\"Times New Roman,serif\" font-size=\"14.00\">value = [2, 36]</text>\n",
       "<text text-anchor=\"middle\" x=\"439.5\" y=\"-7.8\" font-family=\"Times New Roman,serif\" font-size=\"14.00\">class = Positive</text>\n",
       "</g>\n",
       "<!-- 5&#45;&gt;7 -->\n",
       "<g id=\"edge7\" class=\"edge\">\n",
       "<title>5-&gt;7</title>\n",
       "<path fill=\"none\" stroke=\"black\" d=\"M394.31,-103.73C400.07,-94.97 406.16,-85.7 411.95,-76.91\"/>\n",
       "<polygon fill=\"black\" stroke=\"black\" points=\"415.03,-78.58 417.6,-68.3 409.19,-74.73 415.03,-78.58\"/>\n",
       "</g>\n",
       "<!-- 9 -->\n",
       "<g id=\"node10\" class=\"node\">\n",
       "<title>9</title>\n",
       "<polygon fill=\"#82c1ef\" stroke=\"black\" points=\"667,-187 546,-187 546,-104 667,-104 667,-187\"/>\n",
       "<text text-anchor=\"middle\" x=\"606.5\" y=\"-171.8\" font-family=\"Times New Roman,serif\" font-size=\"14.00\">minutes &lt;= 592.61</text>\n",
       "<text text-anchor=\"middle\" x=\"606.5\" y=\"-156.8\" font-family=\"Times New Roman,serif\" font-size=\"14.00\">gini = 0.394</text>\n",
       "<text text-anchor=\"middle\" x=\"606.5\" y=\"-141.8\" font-family=\"Times New Roman,serif\" font-size=\"14.00\">samples = 111</text>\n",
       "<text text-anchor=\"middle\" x=\"606.5\" y=\"-126.8\" font-family=\"Times New Roman,serif\" font-size=\"14.00\">value = [30, 81]</text>\n",
       "<text text-anchor=\"middle\" x=\"606.5\" y=\"-111.8\" font-family=\"Times New Roman,serif\" font-size=\"14.00\">class = Positive</text>\n",
       "</g>\n",
       "<!-- 8&#45;&gt;9 -->\n",
       "<g id=\"edge9\" class=\"edge\">\n",
       "<title>8-&gt;9</title>\n",
       "<path fill=\"none\" stroke=\"black\" d=\"M606.5,-222.91C606.5,-214.65 606.5,-205.86 606.5,-197.3\"/>\n",
       "<polygon fill=\"black\" stroke=\"black\" points=\"610,-197.02 606.5,-187.02 603,-197.02 610,-197.02\"/>\n",
       "</g>\n",
       "<!-- 12 -->\n",
       "<g id=\"node13\" class=\"node\">\n",
       "<title>12</title>\n",
       "<polygon fill=\"#41a1e6\" stroke=\"black\" points=\"880.5,-187 730.5,-187 730.5,-104 880.5,-104 880.5,-187\"/>\n",
       "<text text-anchor=\"middle\" x=\"805.5\" y=\"-171.8\" font-family=\"Times New Roman,serif\" font-size=\"14.00\">mb_used &lt;= 33851.369</text>\n",
       "<text text-anchor=\"middle\" x=\"805.5\" y=\"-156.8\" font-family=\"Times New Roman,serif\" font-size=\"14.00\">gini = 0.071</text>\n",
       "<text text-anchor=\"middle\" x=\"805.5\" y=\"-141.8\" font-family=\"Times New Roman,serif\" font-size=\"14.00\">samples = 81</text>\n",
       "<text text-anchor=\"middle\" x=\"805.5\" y=\"-126.8\" font-family=\"Times New Roman,serif\" font-size=\"14.00\">value = [3, 78]</text>\n",
       "<text text-anchor=\"middle\" x=\"805.5\" y=\"-111.8\" font-family=\"Times New Roman,serif\" font-size=\"14.00\">class = Positive</text>\n",
       "</g>\n",
       "<!-- 8&#45;&gt;12 -->\n",
       "<g id=\"edge12\" class=\"edge\">\n",
       "<title>8-&gt;12</title>\n",
       "<path fill=\"none\" stroke=\"black\" d=\"M675.54,-222.91C692.37,-213.02 710.48,-202.37 727.68,-192.25\"/>\n",
       "<polygon fill=\"black\" stroke=\"black\" points=\"729.73,-195.11 736.58,-187.02 726.19,-189.07 729.73,-195.11\"/>\n",
       "</g>\n",
       "<!-- 10 -->\n",
       "<g id=\"node11\" class=\"node\">\n",
       "<title>10</title>\n",
       "<polygon fill=\"#a0d0f3\" stroke=\"black\" points=\"613.5,-68 509.5,-68 509.5,0 613.5,0 613.5,-68\"/>\n",
       "<text text-anchor=\"middle\" x=\"561.5\" y=\"-52.8\" font-family=\"Times New Roman,serif\" font-size=\"14.00\">gini = 0.45</text>\n",
       "<text text-anchor=\"middle\" x=\"561.5\" y=\"-37.8\" font-family=\"Times New Roman,serif\" font-size=\"14.00\">samples = 76</text>\n",
       "<text text-anchor=\"middle\" x=\"561.5\" y=\"-22.8\" font-family=\"Times New Roman,serif\" font-size=\"14.00\">value = [26, 50]</text>\n",
       "<text text-anchor=\"middle\" x=\"561.5\" y=\"-7.8\" font-family=\"Times New Roman,serif\" font-size=\"14.00\">class = Positive</text>\n",
       "</g>\n",
       "<!-- 9&#45;&gt;10 -->\n",
       "<g id=\"edge10\" class=\"edge\">\n",
       "<title>9-&gt;10</title>\n",
       "<path fill=\"none\" stroke=\"black\" d=\"M589.74,-103.73C586.26,-95.24 582.57,-86.28 579.06,-77.73\"/>\n",
       "<polygon fill=\"black\" stroke=\"black\" points=\"582.22,-76.22 575.18,-68.3 575.75,-78.88 582.22,-76.22\"/>\n",
       "</g>\n",
       "<!-- 11 -->\n",
       "<g id=\"node12\" class=\"node\">\n",
       "<title>11</title>\n",
       "<polygon fill=\"#53aae8\" stroke=\"black\" points=\"735.5,-68 631.5,-68 631.5,0 735.5,0 735.5,-68\"/>\n",
       "<text text-anchor=\"middle\" x=\"683.5\" y=\"-52.8\" font-family=\"Times New Roman,serif\" font-size=\"14.00\">gini = 0.202</text>\n",
       "<text text-anchor=\"middle\" x=\"683.5\" y=\"-37.8\" font-family=\"Times New Roman,serif\" font-size=\"14.00\">samples = 35</text>\n",
       "<text text-anchor=\"middle\" x=\"683.5\" y=\"-22.8\" font-family=\"Times New Roman,serif\" font-size=\"14.00\">value = [4, 31]</text>\n",
       "<text text-anchor=\"middle\" x=\"683.5\" y=\"-7.8\" font-family=\"Times New Roman,serif\" font-size=\"14.00\">class = Positive</text>\n",
       "</g>\n",
       "<!-- 9&#45;&gt;11 -->\n",
       "<g id=\"edge11\" class=\"edge\">\n",
       "<title>9-&gt;11</title>\n",
       "<path fill=\"none\" stroke=\"black\" d=\"M635.17,-103.73C641.39,-94.88 647.98,-85.51 654.23,-76.63\"/>\n",
       "<polygon fill=\"black\" stroke=\"black\" points=\"657.19,-78.49 660.08,-68.3 651.47,-74.47 657.19,-78.49\"/>\n",
       "</g>\n",
       "<!-- 13 -->\n",
       "<g id=\"node14\" class=\"node\">\n",
       "<title>13</title>\n",
       "<polygon fill=\"#399de5\" stroke=\"black\" points=\"857.5,-68 753.5,-68 753.5,0 857.5,0 857.5,-68\"/>\n",
       "<text text-anchor=\"middle\" x=\"805.5\" y=\"-52.8\" font-family=\"Times New Roman,serif\" font-size=\"14.00\">gini = 0.0</text>\n",
       "<text text-anchor=\"middle\" x=\"805.5\" y=\"-37.8\" font-family=\"Times New Roman,serif\" font-size=\"14.00\">samples = 31</text>\n",
       "<text text-anchor=\"middle\" x=\"805.5\" y=\"-22.8\" font-family=\"Times New Roman,serif\" font-size=\"14.00\">value = [0, 31]</text>\n",
       "<text text-anchor=\"middle\" x=\"805.5\" y=\"-7.8\" font-family=\"Times New Roman,serif\" font-size=\"14.00\">class = Positive</text>\n",
       "</g>\n",
       "<!-- 12&#45;&gt;13 -->\n",
       "<g id=\"edge13\" class=\"edge\">\n",
       "<title>12-&gt;13</title>\n",
       "<path fill=\"none\" stroke=\"black\" d=\"M805.5,-103.73C805.5,-95.52 805.5,-86.86 805.5,-78.56\"/>\n",
       "<polygon fill=\"black\" stroke=\"black\" points=\"809,-78.3 805.5,-68.3 802,-78.3 809,-78.3\"/>\n",
       "</g>\n",
       "<!-- 14 -->\n",
       "<g id=\"node15\" class=\"node\">\n",
       "<title>14</title>\n",
       "<polygon fill=\"#46a3e7\" stroke=\"black\" points=\"979.5,-68 875.5,-68 875.5,0 979.5,0 979.5,-68\"/>\n",
       "<text text-anchor=\"middle\" x=\"927.5\" y=\"-52.8\" font-family=\"Times New Roman,serif\" font-size=\"14.00\">gini = 0.113</text>\n",
       "<text text-anchor=\"middle\" x=\"927.5\" y=\"-37.8\" font-family=\"Times New Roman,serif\" font-size=\"14.00\">samples = 50</text>\n",
       "<text text-anchor=\"middle\" x=\"927.5\" y=\"-22.8\" font-family=\"Times New Roman,serif\" font-size=\"14.00\">value = [3, 47]</text>\n",
       "<text text-anchor=\"middle\" x=\"927.5\" y=\"-7.8\" font-family=\"Times New Roman,serif\" font-size=\"14.00\">class = Positive</text>\n",
       "</g>\n",
       "<!-- 12&#45;&gt;14 -->\n",
       "<g id=\"edge14\" class=\"edge\">\n",
       "<title>12-&gt;14</title>\n",
       "<path fill=\"none\" stroke=\"black\" d=\"M850.93,-103.73C861.4,-94.33 872.52,-84.35 882.95,-74.99\"/>\n",
       "<polygon fill=\"black\" stroke=\"black\" points=\"885.29,-77.58 890.4,-68.3 880.62,-72.37 885.29,-77.58\"/>\n",
       "</g>\n",
       "</g>\n",
       "</svg>"
      ],
      "text/plain": [
       "<IPython.core.display.SVG object>"
      ]
     },
     "metadata": {},
     "output_type": "display_data"
    }
   ],
   "source": [
    "graph = Source(tree.export_graphviz(best_model_dt, out_file=None,\n",
    "                               feature_names=list(features_train),\n",
    "                               class_names=['Negative', 'Positive'],\n",
    "                               filled=True))\n",
    "display(SVG(graph.pipe(format='svg')))"
   ]
  }
 ],
 "metadata": {
  "ExecuteTimeLog": [
   {
    "duration": 1668,
    "start_time": "2022-02-08T19:54:40.763Z"
   },
   {
    "duration": 95,
    "start_time": "2022-02-08T19:54:46.013Z"
   },
   {
    "duration": 30,
    "start_time": "2022-02-08T19:55:15.204Z"
   },
   {
    "duration": 26,
    "start_time": "2022-02-08T19:55:27.233Z"
   },
   {
    "duration": 28,
    "start_time": "2022-02-08T19:55:42.792Z"
   },
   {
    "duration": 38,
    "start_time": "2022-02-08T19:56:44.303Z"
   },
   {
    "duration": 485,
    "start_time": "2022-02-08T20:11:37.110Z"
   },
   {
    "duration": 505,
    "start_time": "2022-02-08T20:11:43.620Z"
   },
   {
    "duration": 369,
    "start_time": "2022-02-08T20:13:21.561Z"
   },
   {
    "duration": 373,
    "start_time": "2022-02-08T20:15:37.014Z"
   },
   {
    "duration": 624,
    "start_time": "2022-02-08T20:15:57.344Z"
   },
   {
    "duration": 4,
    "start_time": "2022-02-08T20:16:03.196Z"
   },
   {
    "duration": 464,
    "start_time": "2022-02-08T20:17:12.509Z"
   },
   {
    "duration": 354,
    "start_time": "2022-02-08T20:18:21.052Z"
   },
   {
    "duration": 687,
    "start_time": "2022-02-08T20:19:14.544Z"
   },
   {
    "duration": 2015,
    "start_time": "2022-02-08T20:19:25.782Z"
   },
   {
    "duration": -1186,
    "start_time": "2022-02-08T20:19:28.986Z"
   },
   {
    "duration": -1196,
    "start_time": "2022-02-08T20:19:28.997Z"
   },
   {
    "duration": 5,
    "start_time": "2022-02-08T20:23:53.219Z"
   },
   {
    "duration": 453,
    "start_time": "2022-02-08T20:24:29.106Z"
   },
   {
    "duration": 389,
    "start_time": "2022-02-08T20:24:44.818Z"
   },
   {
    "duration": 4,
    "start_time": "2022-02-08T20:24:56.273Z"
   },
   {
    "duration": 436,
    "start_time": "2022-02-08T20:27:39.477Z"
   },
   {
    "duration": 634,
    "start_time": "2022-02-08T20:27:59.946Z"
   },
   {
    "duration": 374,
    "start_time": "2022-02-08T20:28:21.976Z"
   },
   {
    "duration": 4,
    "start_time": "2022-02-08T20:31:26.467Z"
   },
   {
    "duration": 65,
    "start_time": "2022-02-08T20:31:35.419Z"
   },
   {
    "duration": 11,
    "start_time": "2022-02-08T20:35:49.732Z"
   },
   {
    "duration": 366,
    "start_time": "2022-02-08T20:54:50.688Z"
   },
   {
    "duration": 38,
    "start_time": "2022-02-08T20:55:16.664Z"
   },
   {
    "duration": 76,
    "start_time": "2022-02-08T21:08:29.733Z"
   },
   {
    "duration": 165,
    "start_time": "2022-02-08T21:17:32.452Z"
   },
   {
    "duration": 166,
    "start_time": "2022-02-08T21:17:58.093Z"
   },
   {
    "duration": 179,
    "start_time": "2022-02-08T21:18:16.446Z"
   },
   {
    "duration": 163,
    "start_time": "2022-02-08T21:18:32.669Z"
   },
   {
    "duration": 159,
    "start_time": "2022-02-08T21:18:43.869Z"
   },
   {
    "duration": 155,
    "start_time": "2022-02-08T21:19:10.097Z"
   },
   {
    "duration": 168,
    "start_time": "2022-02-08T21:20:20.000Z"
   },
   {
    "duration": 163,
    "start_time": "2022-02-08T21:30:17.379Z"
   },
   {
    "duration": 166,
    "start_time": "2022-02-08T21:30:54.880Z"
   },
   {
    "duration": 166,
    "start_time": "2022-02-08T21:31:36.653Z"
   },
   {
    "duration": 161,
    "start_time": "2022-02-08T21:31:46.334Z"
   },
   {
    "duration": 160,
    "start_time": "2022-02-08T21:32:12.345Z"
   },
   {
    "duration": 38508,
    "start_time": "2022-02-08T21:33:26.182Z"
   },
   {
    "duration": 10539,
    "start_time": "2022-02-08T21:34:54.060Z"
   },
   {
    "duration": 26,
    "start_time": "2022-02-08T21:45:36.102Z"
   },
   {
    "duration": 135,
    "start_time": "2022-02-08T21:54:52.314Z"
   },
   {
    "duration": 246,
    "start_time": "2022-02-08T21:55:10.094Z"
   },
   {
    "duration": 20,
    "start_time": "2022-02-08T22:10:32.245Z"
   },
   {
    "duration": 8,
    "start_time": "2022-02-08T22:11:32.135Z"
   },
   {
    "duration": 7,
    "start_time": "2022-02-08T22:29:52.350Z"
   },
   {
    "duration": 1016,
    "start_time": "2022-02-08T22:32:40.763Z"
   },
   {
    "duration": 382,
    "start_time": "2022-02-08T22:33:05.015Z"
   },
   {
    "duration": 9,
    "start_time": "2022-02-08T22:33:28.269Z"
   },
   {
    "duration": 1006,
    "start_time": "2022-02-08T22:33:36.564Z"
   },
   {
    "duration": 8,
    "start_time": "2022-02-08T22:33:59.546Z"
   },
   {
    "duration": 9,
    "start_time": "2022-02-08T22:35:06.580Z"
   },
   {
    "duration": 9,
    "start_time": "2022-02-08T22:35:23.226Z"
   },
   {
    "duration": 9,
    "start_time": "2022-02-08T22:35:44.036Z"
   },
   {
    "duration": 9,
    "start_time": "2022-02-08T22:36:03.331Z"
   },
   {
    "duration": 1077,
    "start_time": "2022-02-08T22:36:15.640Z"
   },
   {
    "duration": 10,
    "start_time": "2022-02-08T22:39:18.354Z"
   },
   {
    "duration": 10,
    "start_time": "2022-02-08T22:41:33.350Z"
   },
   {
    "duration": 9,
    "start_time": "2022-02-08T22:41:54.287Z"
   },
   {
    "duration": 11,
    "start_time": "2022-02-08T22:42:10.997Z"
   },
   {
    "duration": 120,
    "start_time": "2022-02-08T22:45:37.329Z"
   },
   {
    "duration": 141,
    "start_time": "2022-02-08T22:45:48.237Z"
   },
   {
    "duration": 14,
    "start_time": "2022-02-08T22:46:06.737Z"
   },
   {
    "duration": 9,
    "start_time": "2022-02-08T22:46:17.662Z"
   },
   {
    "duration": 7,
    "start_time": "2022-02-08T22:46:33.213Z"
   },
   {
    "duration": 8,
    "start_time": "2022-02-08T22:46:45.436Z"
   },
   {
    "duration": 8,
    "start_time": "2022-02-08T22:47:03.762Z"
   },
   {
    "duration": 6,
    "start_time": "2022-02-08T22:47:32.678Z"
   },
   {
    "duration": 9,
    "start_time": "2022-02-08T22:50:07.799Z"
   },
   {
    "duration": 18,
    "start_time": "2022-02-08T22:57:28.441Z"
   },
   {
    "duration": 10,
    "start_time": "2022-02-08T22:59:52.665Z"
   },
   {
    "duration": 12,
    "start_time": "2022-02-08T23:00:12.771Z"
   },
   {
    "duration": 18,
    "start_time": "2022-02-08T23:01:35.856Z"
   },
   {
    "duration": 8,
    "start_time": "2022-02-08T23:01:37.615Z"
   },
   {
    "duration": 7,
    "start_time": "2022-02-08T23:01:39.636Z"
   },
   {
    "duration": 15,
    "start_time": "2022-02-09T07:15:23.172Z"
   },
   {
    "duration": 15,
    "start_time": "2022-02-09T07:17:38.031Z"
   },
   {
    "duration": 31,
    "start_time": "2022-02-09T07:22:28.642Z"
   },
   {
    "duration": 7,
    "start_time": "2022-02-09T07:22:54.976Z"
   },
   {
    "duration": 141,
    "start_time": "2022-02-09T07:26:58.325Z"
   },
   {
    "duration": 122,
    "start_time": "2022-02-09T07:27:05.445Z"
   },
   {
    "duration": 122,
    "start_time": "2022-02-09T07:27:12.234Z"
   },
   {
    "duration": 112,
    "start_time": "2022-02-09T07:27:16.619Z"
   },
   {
    "duration": 142,
    "start_time": "2022-02-09T07:27:37.477Z"
   },
   {
    "duration": 136,
    "start_time": "2022-02-09T07:28:01.760Z"
   },
   {
    "duration": 126,
    "start_time": "2022-02-09T07:32:10.775Z"
   },
   {
    "duration": 8,
    "start_time": "2022-02-09T07:32:24.160Z"
   },
   {
    "duration": 8,
    "start_time": "2022-02-09T07:32:35.118Z"
   },
   {
    "duration": 160,
    "start_time": "2022-02-09T07:32:44.050Z"
   },
   {
    "duration": 10,
    "start_time": "2022-02-09T07:32:48.762Z"
   },
   {
    "duration": 140,
    "start_time": "2022-02-09T07:33:19.358Z"
   },
   {
    "duration": 10,
    "start_time": "2022-02-09T07:33:37.531Z"
   },
   {
    "duration": 14,
    "start_time": "2022-02-09T07:35:21.914Z"
   },
   {
    "duration": 12,
    "start_time": "2022-02-09T07:36:23.568Z"
   },
   {
    "duration": 9,
    "start_time": "2022-02-09T07:36:57.565Z"
   },
   {
    "duration": 5,
    "start_time": "2022-02-09T07:44:55.507Z"
   },
   {
    "duration": 5,
    "start_time": "2022-02-09T08:09:34.500Z"
   },
   {
    "duration": 8,
    "start_time": "2022-02-09T08:18:31.623Z"
   },
   {
    "duration": 165,
    "start_time": "2022-02-09T08:28:53.664Z"
   },
   {
    "duration": 8,
    "start_time": "2022-02-09T08:30:03.742Z"
   },
   {
    "duration": 8,
    "start_time": "2022-02-09T08:43:59.655Z"
   },
   {
    "duration": 9,
    "start_time": "2022-02-09T08:44:01.613Z"
   },
   {
    "duration": 62,
    "start_time": "2022-02-13T14:17:07.637Z"
   },
   {
    "duration": 1066,
    "start_time": "2022-02-13T14:17:20.583Z"
   },
   {
    "duration": 55,
    "start_time": "2022-02-13T14:17:21.651Z"
   },
   {
    "duration": 8,
    "start_time": "2022-02-13T14:17:21.708Z"
   },
   {
    "duration": 11,
    "start_time": "2022-02-13T14:17:21.718Z"
   },
   {
    "duration": 121,
    "start_time": "2022-02-13T14:17:21.731Z"
   },
   {
    "duration": 7143,
    "start_time": "2022-02-13T14:17:21.854Z"
   },
   {
    "duration": 158,
    "start_time": "2022-02-13T14:17:28.999Z"
   },
   {
    "duration": 11,
    "start_time": "2022-02-13T14:17:29.159Z"
   },
   {
    "duration": 4,
    "start_time": "2022-02-13T14:17:29.172Z"
   },
   {
    "duration": 8,
    "start_time": "2022-02-13T14:17:29.177Z"
   },
   {
    "duration": 6,
    "start_time": "2022-02-13T14:17:29.186Z"
   },
   {
    "duration": 65,
    "start_time": "2022-02-13T14:17:29.193Z"
   },
   {
    "duration": 4,
    "start_time": "2022-02-13T14:17:29.260Z"
   },
   {
    "duration": 261,
    "start_time": "2022-02-13T14:30:11.254Z"
   },
   {
    "duration": 163,
    "start_time": "2022-02-13T14:30:25.839Z"
   },
   {
    "duration": 64,
    "start_time": "2022-02-13T14:31:46.816Z"
   },
   {
    "duration": 4,
    "start_time": "2022-02-13T14:31:49.264Z"
   },
   {
    "duration": 215,
    "start_time": "2022-02-13T14:31:51.395Z"
   },
   {
    "duration": 3,
    "start_time": "2022-02-13T14:33:00.829Z"
   },
   {
    "duration": 3,
    "start_time": "2022-02-13T14:33:17.684Z"
   },
   {
    "duration": 63,
    "start_time": "2022-02-13T14:33:19.363Z"
   },
   {
    "duration": 4,
    "start_time": "2022-02-13T14:33:23.059Z"
   },
   {
    "duration": 192,
    "start_time": "2022-02-13T14:33:26.661Z"
   }
  ],
  "kernelspec": {
   "display_name": "Python 3",
   "language": "python",
   "name": "python3"
  },
  "language_info": {
   "codemirror_mode": {
    "name": "ipython",
    "version": 3
   },
   "file_extension": ".py",
   "mimetype": "text/x-python",
   "name": "python",
   "nbconvert_exporter": "python",
   "pygments_lexer": "ipython3",
   "version": "3.8.8"
  },
  "toc": {
   "base_numbering": 1,
   "nav_menu": {},
   "number_sections": true,
   "sideBar": true,
   "skip_h1_title": true,
   "title_cell": "Table of Contents",
   "title_sidebar": "Contents",
   "toc_cell": false,
   "toc_position": {},
   "toc_section_display": true,
   "toc_window_display": false
  }
 },
 "nbformat": 4,
 "nbformat_minor": 2
}
